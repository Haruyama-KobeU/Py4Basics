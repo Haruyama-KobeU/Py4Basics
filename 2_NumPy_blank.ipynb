{
    "cells": [
        {
            "cell_type": "markdown",
            "metadata": {},
            "source": [
                "# NumPy"
            ]
        },
        {
            "cell_type": "markdown",
            "metadata": {
                "heading_collapsed": true
            },
            "source": [
                "## array"
            ]
        },
        {
            "cell_type": "markdown",
            "metadata": {
                "hidden": true
            },
            "source": [
                "\u3053\u306e\u30d1\u30c3\u30b1\u30fc\u30b8\u306f\uff0c\u6570\u5024\u8a08\u7b97\u3092\u3059\u308b\u4e0a\u3067\u91cd\u8981\u306a\u5f79\u5272\u3092\u679c\u305f\u3057\uff0c\u7279\u306b\uff0c\u884c\u5217\u8a08\u7b97\u306b\u5a01\u529b\u3092\u767a\u63ee\u3059\u308b\u3002`NumPy`\u306f\u300c\u30ca\u30f3\u30d1\u30a4\u300d\u3068\u8aad\u3080\u3002\n",
                "\n",
                "\u6163\u4f8b\u3068\u3057\u3066`np`\u3068\u3057\u3066\u8aad\u307f\u8fbc\u3080\u3002"
            ]
        },
        {
            "cell_type": "code",
            "execution_count": null,
            "metadata": {},
            "outputs": [],
            "source": []
        },
        {
            "cell_type": "markdown",
            "metadata": {
                "hidden": true
            },
            "source": [
                "\u57fa\u672c\u3068\u306a\u308b\u95a2\u6570\u304c`np.array()`\u3067\u3042\u308a\uff0c\u6b21\u306e\u30b3\u30fc\u30c9\u3067\u306f\uff11\u6b21\u5143\u914d\u5217\u3092\u4f5c\u308b\u3002"
            ]
        },
        {
            "cell_type": "code",
            "execution_count": null,
            "metadata": {},
            "outputs": [],
            "source": [
                "\n"
            ]
        },
        {
            "cell_type": "code",
            "execution_count": null,
            "metadata": {},
            "outputs": [],
            "source": []
        },
        {
            "cell_type": "markdown",
            "metadata": {
                "hidden": true
            },
            "source": [
                "\u6b21\u306b\uff12\u6b21\u5143\u914d\u5217\u3001\u5373\u3061\u3001\u884c\u5217\u3092\u4f5c\u308b\u3002"
            ]
        },
        {
            "cell_type": "code",
            "execution_count": null,
            "metadata": {},
            "outputs": [],
            "source": [
                "\n"
            ]
        },
        {
            "cell_type": "code",
            "execution_count": null,
            "metadata": {},
            "outputs": [],
            "source": [
                "\n"
            ]
        },
        {
            "cell_type": "markdown",
            "metadata": {
                "hidden": true
            },
            "source": [
                "`arr`\u3068`mat`\u306f`NumPy`\u306e`ndarray`\uff08`n`\u6b21\u5143`array`\uff09\u3068\u3044\u3046\u30c7\u30fc\u30bf\u578b\uff08\u30af\u30e9\u30b9\uff09\u3067\u3042\u308b\u3002`[]`\u306b\u56f2\u307e\u308c\u305f\u6570\u5b57\u304c\u4e26\u3093\u3067\u3044\u308b\u304c\u30ea\u30b9\u30c8\u3068\u3067\u306f\u306a\u3044\u3002\u5f93\u3063\u3066\uff0c\u8981\u7d20\u3092\u62bd\u51fa\u3057\u3066\u76f4\u63a5\u30ea\u30b9\u30c8\u3068\u3057\u3066\u6271\u3046\u3053\u3068\u306f\u3067\u304d\u306a\u3044\u3002\u305d\u306e\u305f\u3081\u306b\u306f\u30ea\u30b9\u30c8\u3078\u306e\u5909\u63db\u304c\u5fc5\u8981\u306b\u306a\u308b\u304c\uff0c\u305d\u306e\u65b9\u6cd5\u306b\u3064\u3044\u3066\u306f\u5f8c\u8ff0\u3059\u308b\u3002"
            ]
        },
        {
            "cell_type": "markdown",
            "metadata": {
                "heading_collapsed": true
            },
            "source": [
                "## \uff11\u6b21\u5143\u914d\u5217\uff1a\u8981\u7d20\u306e\u62bd\u51fa"
            ]
        },
        {
            "cell_type": "markdown",
            "metadata": {
                "hidden": true
            },
            "source": [
                "`arr`\u306e\u8981\u7d20\u3092\u62bd\u51fa\u3059\u308b\u306b\u306f\u8981\u7d20\u306e\u30a4\u30f3\u30c7\u30c3\u30af\u30b9\u3092\u4f7f\u3046\u3002"
            ]
        },
        {
            "cell_type": "code",
            "execution_count": null,
            "metadata": {},
            "outputs": [],
            "source": []
        },
        {
            "cell_type": "markdown",
            "metadata": {
                "hidden": true
            },
            "source": [
                "\u8907\u6570\u306e\u8981\u7d20\u3092\u62bd\u51fa\u3059\u308b\u306b\u306f\u30a4\u30f3\u30c7\u30c3\u30af\u30b9\u3092\u30ea\u30b9\u30c8\u3068\u3057\u3066\u4f7f\u3046\u3002"
            ]
        },
        {
            "cell_type": "code",
            "execution_count": null,
            "metadata": {},
            "outputs": [],
            "source": []
        },
        {
            "cell_type": "markdown",
            "metadata": {
                "hidden": true
            },
            "source": [
                "\u8981\u7d20\u3092\u9023\u7d9a\u3067\u62bd\u51fa\u3059\u308b\u30b9\u30e9\u30a4\u30b7\u30f3\u30b0\uff08slicing\uff09\u3082\u4f7f\u3046\u3053\u3068\u304c\u3067\u304d\u308b\u3002"
            ]
        },
        {
            "cell_type": "code",
            "execution_count": null,
            "metadata": {},
            "outputs": [],
            "source": []
        },
        {
            "cell_type": "markdown",
            "metadata": {
                "heading_collapsed": true
            },
            "source": [
                "## \uff12\u6b21\u5143\u914d\u5217\uff1a\u8981\u7d20\u306e\u62bd\u51fa"
            ]
        },
        {
            "cell_type": "markdown",
            "metadata": {
                "hidden": true
            },
            "source": [
                "\u7b2c$i$\u884c\u76ee\u306e\u7b2c$j$\u5217\u76ee\u8981\u7d20\u306b\u30a2\u30af\u30bb\u30b9\u3059\u308b\u305f\u3081\u306b\u306f`mat[i,j]`\u3068\u66f8\u304f\u3002`[,]`\u306e`,`\u3092\u631f\u3093\u3067\u5de6\u304c\u884c\u3092\u8868\u3057\uff0c\u53f3\u304c\u5217\u3092\u793a\u3059\u3002\n",
                "```\n",
                "[\u884c\u306e\u30a4\u30f3\u30c7\u30c3\u30af\u30b9,\u5217\u306e\u30a4\u30f3\u30c7\u30c3\u30af\u30b9]\n",
                "```\n",
                "\n",
                "\u30b3\u30fc\u30c9\u306f\u30ad\u30fc\u30b9\u30c8\u30ed\u30fc\u30af\u304c\u5c11\u306a\u304f\uff0c\u7c21\u5358\u306a\u3082\u306e\u304c\u826f\u3044\u3068\u8003\u3048\u3089\u308c\u3066\u3044\u308b\u3002\u4e00\u65b9\u3067\uff0c`Python`\u306f\u521d\u5fc3\u8005\u306b\u6613\u3057\u3044\u8a00\u8a9e\u3060\u3068\u8a00\u308f\u308c\u308b\u304c\uff0c\u305d\u308c\u3067\u3082\u95a2\u6570\u30fb\u30e1\u30bd\u30c3\u30c9\u306e\u6570\u306f\u81a8\u5927\u3067\uff0c\u305d\u306e\u30aa\u30d7\u30b7\u30e7\u30f3\u3068\u306e\u7d44\u307f\u5408\u308f\u305b\u3092\u8003\u3048\u308b\u3068\u307e\u3055\u3057\u304f\u300c\u7121\u6570\u300d\u306b\u3042\u308b\u3068\u8a00\u3063\u3066\u3082\u904e\u8a00\u3067\u306f\u306a\u3044\u3002\u305d\u306e\u305f\u3081\u521d\u5fc3\u8005\u306b\u3068\u3063\u3066\u95a2\u6570\u306e\u4f7f\u3044\u65b9\u3084\u30aa\u30d7\u30b7\u30e7\u30f3\u306e\u66f8\u304d\u65b9\u3092\u9593\u9055\u3046\u53ef\u80fd\u6027\u306f\u5c0f\u3055\u304f\u306a\u3044\u3002\u3055\u3089\u306b\uff0c\u81ea\u5206\u304c\u66f8\u3044\u305f\u30b3\u30fc\u30c9\u3092\u6570\u9031\u9593\u30fb\u6570\u30f6\u6708\u5f8c\u306b\u8aad\u307f\u76f4\u3059\u3068\uff0c\u4f55\u3092\u3057\u3088\u3046\u3068\u3057\u3066\u3044\u308b\u306e\u304b\u5206\u304b\u3089\u306a\u3044\u3068\u3044\u3046\u72b6\u6cc1\u304c\u751f\u3058\u308b\u3053\u3068\u3082\u3042\u308b\u3002\u5f93\u3063\u3066\uff0c\u521d\u5fc3\u8005\u306b\u3068\u3063\u3066\u306f\u4ee5\u4e0b\u306e\u70b9\u304c\u975e\u5e38\u306b\u91cd\u8981\u306b\u306a\u308b\u3002\n",
                "\n",
                "* \u9593\u9055\u3044\u306b\u304f\u3044\u30b3\u30fc\u30c9\u306e\u66f8\u304d\u65b9\u3092\u899a\u3048\u308b\u3002\n",
                "* \u9ad8\u3044\u53ef\u8aad\u6027\u3092\u610f\u8b58\u3057\u305f\u30b3\u30fc\u30c9\u306e\u66f8\u304d\u65b9\u3092\u899a\u3048\u308b\u3002\n",
                "\n",
                "\u3053\u306e\u30b9\u30bf\u30f3\u30b9\u306b\u57fa\u3065\u3044\u3066\u4ee5\u4e0b\u306e\u30eb\u30fc\u30eb\u306b\u5f93\u3063\u3066\u8aac\u660e\u3059\u308b\u3002\n",
                "\n",
                "1. `[,]`\u5185\u306e`,`\u3092\u7701\u7565\u53ef\u80fd\u306a\u5834\u5408\u3067\u3042\u3063\u3066\u3082\u7701\u7565\u3057\u306a\u3044\u3002\n",
                "2. `[,]`\u5185\u306e`,`\u306e\u5de6\u307e\u305f\u306f\u53f3\u3092\u7701\u7565\u3067\u304d\u308b\u5834\u5408\u3067\u3042\u3063\u3066\u3082\u7701\u7565\u3057\u306a\u3044\u3002\n",
                "\n",
                "\u884c\u307e\u305f\u306f\u5217\u3092\u9023\u7d9a\u9078\u629e\u3059\u308b\uff08slicing\uff09\u5834\u5408\u3092\u8003\u3048\u3088\u3046\u3002\u4ee5\u4e0b\u3067\u8aac\u660e\u3059\u308b\u3088\u3046\u306b`:`\u3092\u4f7f\u3046\u304c\n",
                "```\n",
                "start:end\n",
                "```\n",
                "\u3068\u306a\u308b\u3002\u3053\u3053\u3067`start`\u3068\u306f\u9078\u629e\u3059\u308b\u8981\u7d20\u306e\u6700\u521d\u30a4\u30f3\u30c7\u30c3\u30af\u30b9\u3067\u3042\u308a\uff0c`end`\u306f\u9078\u629e\u3059\u308b\u6700\u5f8c\u306e\u8981\u7d20\u306e\u6b21\u306e\u30a4\u30f3\u30c7\u30c3\u30af\u30b9\u3067\u3042\u308b\uff08\u30ea\u30b9\u30c8\u306e\u5834\u5408\u3068\u540c\u3058\uff09\u3002\u4e0a\u306e\u30eb\u30fc\u30eb\u306b\u5f93\u3046\u3068\uff0c\n",
                "\n",
                "* `,`\u306e\u5de6\u307e\u305f\u306f\u53f3\u304c`:`\u306e\u307f\u306e\u5834\u5408\uff0c\u300c\u5168\u3066\u300d\u3068\u3044\u3046\u610f\u5473\u306b\u306a\u308b\u3002\n",
                "* `:`\u306e\u5de6\u3092\u7701\u7565\u3059\u308b\u3068\u300c\u6700\u521d\u304b\u3089\u300d\u3068\u3044\u3046\u610f\u5473\u306b\u306a\u308b\u3002\n",
                "* `:`\u306e\u53f3\u3092\u7701\u7565\u3059\u308b\u3068\u300c\u6700\u5f8c\u307e\u3067\u300d\u3068\u3044\u3046\u610f\u5473\u306b\u306a\u308b\u3002\n",
                "\n",
                "\u3053\u308c\u3092\u8aad\u3080\u3060\u3051\u3067\u306f\u5206\u304b\u308a\u306b\u304f\u3044\u3068\u601d\u3046\u306e\u3067\uff0c\u4ee5\u4e0b\u306e\u4f8b\u306b\u76ee\u3092\u901a\u3057\u3066\u3082\u3046\u4e00\u5ea6\u3053\u306e\u7b87\u6240\u306e\u8aac\u660e\u3092\u8aad\u3093\u3080\u3053\u3068\u3092\u63a8\u5968\u3059\u308b\u3002"
            ]
        },
        {
            "cell_type": "code",
            "execution_count": null,
            "metadata": {},
            "outputs": [],
            "source": []
        },
        {
            "cell_type": "markdown",
            "metadata": {
                "hidden": true
            },
            "source": [
                "\u7b2c$i$\u884c\u306e\u62bd\u51fa\u306f`mat[i,:]`\u3067\u53ef\u80fd\u3067\u3042\u308b\u3002`:`\u306f\u300c\u5217\u306e\u5168\u3066\u300d\u3068\u3044\u3046\u610f\u5473\u306b\u306a\u308b\u3002"
            ]
        },
        {
            "cell_type": "code",
            "execution_count": null,
            "metadata": {},
            "outputs": [],
            "source": [
                "\n"
            ]
        },
        {
            "cell_type": "markdown",
            "metadata": {
                "hidden": true
            },
            "source": [
                "\u62bd\u51fa\u3057\u305f\u884c\u306f\u4e0a\u3067\u8aac\u660e\u3057\u305f\uff11\u6b21\u5143\u914d\u5217\u306a\u306e\u3067\u30a4\u30f3\u30c7\u30c3\u30af\u30b9\u3084\u30b9\u30e9\u30a4\u30b7\u30f3\u30b0\u3092\u4f7f\u3063\u3066\u8981\u7d20\u306b\u30a2\u30af\u30bb\u30b9\u3059\u308b\u3053\u3068\u304c\u3067\u304d\u308b\u3002"
            ]
        },
        {
            "cell_type": "markdown",
            "metadata": {
                "hidden": true
            },
            "source": [
                "\u8907\u6570\u306e\u884c\u306e\u62bd\u51fa\u306f\u6b21\u306e\u65b9\u6cd5\u3067\u53ef\u80fd\u3067\u3042\u308b\u3002"
            ]
        },
        {
            "cell_type": "code",
            "execution_count": null,
            "metadata": {},
            "outputs": [],
            "source": []
        },
        {
            "cell_type": "markdown",
            "metadata": {
                "hidden": true
            },
            "source": [
                "\u7b2c\uff13\u884c\u76ee\u306f\u542b\u307e\u308c\u306a\u3044\u3053\u3068\u306b\u6ce8\u610f\u3057\u3088\u3046\u3002\u30ea\u30b9\u30c8\u306e\u8981\u7d20\u306e\u53d6\u308a\u51fa\u3057\u65b9\u3068\u540c\u3058\u3088\u3046\u306b`:`\u306e\u53f3\u306e\u30a4\u30f3\u30c7\u30c3\u30af\u30b9\u306e\u884c\u306f\u542b\u307e\u308c\u306a\u3044\u3002\n",
                "\n",
                "**\uff08\u6ce8\u610f\uff09**\n",
                "\n",
                "`,:`\u3092\u7701\u7565\u3057\u3066`mat[1:3]`\u3068\u66f8\u3044\u3066\u3082\u30a8\u30e9\u30fc\u306f\u767a\u751f\u305b\u305a\u540c\u3058\u7d50\u679c\u304c\u8fd4\u3055\u308c\u308b\u304c\uff0c`,:`\u304c\u3042\u308b\u3053\u3068\u306b\u3088\u308a\uff0c\u884c\u3092\u62bd\u51fa\u3057\u3066\u304a\u308a\u5217\u306f\u5168\u3066\u9078\u629e\u3055\u308c\u3066\u3044\u308b\u3053\u3068\u304c\u660e\u793a\u7684\u306b\u306a\u308b\u3002\n",
                "\n",
                "\n",
                "\u7b2c$i$ \u5217\u76ee\u3092\u62bd\u51fa\u3057\u305f\u3044\u5834\u5408\u306f\u6b21\u306e\u30b3\u30fc\u30c9\u306b\u306a\u308b\u3002"
            ]
        },
        {
            "cell_type": "code",
            "execution_count": null,
            "metadata": {},
            "outputs": [],
            "source": []
        },
        {
            "cell_type": "markdown",
            "metadata": {
                "hidden": true
            },
            "source": [
                "\u8907\u6570\u5217\u306e\u62bd\u51fa\u306f\u4ee5\u4e0b\u306e\u3088\u3046\u306b\u3059\u308b\u3002"
            ]
        },
        {
            "cell_type": "code",
            "execution_count": null,
            "metadata": {},
            "outputs": [],
            "source": []
        },
        {
            "cell_type": "markdown",
            "metadata": {
                "hidden": true
            },
            "source": [
                "`:`\u306e\u5f79\u5272\u3092\u8003\u3048\u308b\u3068\u4ee5\u4e0b\u306f`mat`\u81ea\u4f53\u3067\u3042\u308b\u3002"
            ]
        },
        {
            "cell_type": "code",
            "execution_count": null,
            "metadata": {},
            "outputs": [],
            "source": []
        },
        {
            "cell_type": "markdown",
            "metadata": {
                "heading_collapsed": true
            },
            "source": [
                "## \u884c\u5217\u8a08\u7b97"
            ]
        },
        {
            "cell_type": "code",
            "execution_count": null,
            "metadata": {},
            "outputs": [],
            "source": [
                "\n"
            ]
        },
        {
            "cell_type": "code",
            "execution_count": null,
            "metadata": {},
            "outputs": [],
            "source": [
                "\n"
            ]
        },
        {
            "cell_type": "markdown",
            "metadata": {
                "hidden": true
            },
            "source": [
                "\u884c\u5217\u306e\u548c\u3068\u5dee"
            ]
        },
        {
            "cell_type": "code",
            "execution_count": null,
            "metadata": {},
            "outputs": [],
            "source": []
        },
        {
            "cell_type": "code",
            "execution_count": null,
            "metadata": {},
            "outputs": [],
            "source": []
        },
        {
            "cell_type": "markdown",
            "metadata": {
                "hidden": true
            },
            "source": [
                "\u884c\u5217\u306e\u30b9\u30ab\u30e9\u30fc\u7a4d"
            ]
        },
        {
            "cell_type": "code",
            "execution_count": null,
            "metadata": {},
            "outputs": [],
            "source": []
        },
        {
            "cell_type": "code",
            "execution_count": null,
            "metadata": {},
            "outputs": [],
            "source": []
        },
        {
            "cell_type": "markdown",
            "metadata": {
                "hidden": true
            },
            "source": [
                "\u8981\u7d20\u3069\u3046\u3057\u306e\u7a4d"
            ]
        },
        {
            "cell_type": "code",
            "execution_count": null,
            "metadata": {},
            "outputs": [],
            "source": []
        },
        {
            "cell_type": "markdown",
            "metadata": {
                "hidden": true
            },
            "source": [
                "\u884c\u5217\u306e\u7a4d"
            ]
        },
        {
            "cell_type": "code",
            "execution_count": null,
            "metadata": {},
            "outputs": [],
            "source": []
        },
        {
            "cell_type": "code",
            "execution_count": null,
            "metadata": {},
            "outputs": [],
            "source": []
        },
        {
            "cell_type": "markdown",
            "metadata": {
                "hidden": true
            },
            "source": [
                "\u8ee2\u7f6e\u884c\u5217"
            ]
        },
        {
            "cell_type": "code",
            "execution_count": null,
            "metadata": {},
            "outputs": [],
            "source": [
                "\n"
            ]
        },
        {
            "cell_type": "code",
            "execution_count": null,
            "metadata": {},
            "outputs": [],
            "source": []
        },
        {
            "cell_type": "code",
            "execution_count": null,
            "metadata": {},
            "outputs": [],
            "source": []
        },
        {
            "cell_type": "markdown",
            "metadata": {
                "hidden": true
            },
            "source": [
                "\u9006\u884c\u5217\u3092\u8a08\u7b97\u3059\u308b\u305f\u3081\u306b'NumPy'\u306e'linalg'\uff08linear algebra, \u7dda\u5f62\u4ee3\u6570\uff09\u3068\u3044\u3046\u30b5\u30d6\u30d1\u30c3\u30b1\u30fc\u30b8\u306e\u4e2d\u306b\u3042\u308b`inv`\u3068\u3044\u3046\u95a2\u6570\u3092\u8aad\u307f\u8fbc\u3080\u3002"
            ]
        },
        {
            "cell_type": "code",
            "execution_count": null,
            "metadata": {},
            "outputs": [],
            "source": [
                "\n",
                "\n",
                ""
            ]
        },
        {
            "cell_type": "code",
            "execution_count": null,
            "metadata": {},
            "outputs": [],
            "source": []
        },
        {
            "cell_type": "markdown",
            "metadata": {
                "heading_collapsed": true
            },
            "source": [
                "## NumPy\u4f7f\u7528\u6642\u306b\u3088\u304f\u4f7f\u3046\u5c5e\u6027\u3068\u30e1\u30bd\u30c3\u30c9"
            ]
        },
        {
            "cell_type": "markdown",
            "metadata": {
                "hidden": true
            },
            "source": [
                "\u4ee5\u524d\u3082\u8aac\u660e\u3057\u305f\u304c\u3001\u30e1\u30bd\u30c3\u30c9\u3068\u306f\u30aa\u30d6\u30b8\u30a7\u30af\u30c8\u7279\u6709\u306e\u95a2\u6570\u3067\u3042\u308a\u3001\u30aa\u30d6\u30b8\u30a7\u30af\u30c8\u306e\u5c5e\u6027\u306e\uff11\u3064\u3067\u3042\u308b\u3002\u3082\u3046\uff11\u3064\u306e\u5c5e\u6027\u306e\u7a2e\u985e\u306b\u30c7\u30fc\u30bf\u5c5e\u6027\uff08\u4f8b\u3048\u3070\uff0c\u884c\u6570\uff09\u304c\u3042\u308b\u3002\u3042\u308b\u30aa\u30d6\u30b8\u30a7\u30af\u30c8\u306b\u3069\u306e\u3088\u3046\u306a\u5c5e\u6027\u304c\u3042\u308b\u304b\u306f\u95a2\u6570`dir()`\u3092\u4f7f\u3046\u3053\u3068\u306b\u3088\u308a\u78ba\u8a8d\u3067\u304d\u308b\u3002"
            ]
        },
        {
            "cell_type": "code",
            "execution_count": null,
            "metadata": {},
            "outputs": [],
            "source": []
        },
        {
            "cell_type": "markdown",
            "metadata": {
                "hidden": true
            },
            "source": [
                "\u884c\u3068\u5217\u306e\u6570\u3092\u78ba\u8a8d\u3059\u308b"
            ]
        },
        {
            "cell_type": "code",
            "execution_count": null,
            "metadata": {},
            "outputs": [],
            "source": []
        },
        {
            "cell_type": "markdown",
            "metadata": {
                "hidden": true
            },
            "source": [
                "\u5c5e\u6027\u306e\u5834\u5408\uff0c`()`\u304c\u306a\u3044\u3002\u4e00\u65b9\uff0c\u30e1\u30bd\u30c3\u30c9\u306f`()`\u304c\u5fc5\u8981\u3068\u306a\u308b\u3002\u8a00\u3044\u63db\u3048\u308b\u3068\uff0c\u30e1\u30bd\u30c3\u30c9\u306e`()`\u306f\u300c\u5b9f\u884c\u3059\u308b\u300d\u3068\u3044\u3046\u3053\u3068\u3092\u610f\u5473\u3059\u308b\u3002\n",
                "\n",
                "\u6b21\u306b\uff0c\u62bd\u51fa\u3057\u305f\u884c\u307e\u305f\u306f\u5217\u3092\u30ea\u30b9\u30c8\u306b\u5909\u63db\u3059\u308b\u30e1\u30bd\u30c3\u30c9\u306b\u3064\u3044\u3066\u8aac\u660e\u3059\u308b\u3002"
            ]
        },
        {
            "cell_type": "code",
            "execution_count": null,
            "metadata": {},
            "outputs": [],
            "source": []
        },
        {
            "cell_type": "code",
            "execution_count": null,
            "metadata": {},
            "outputs": [],
            "source": []
        },
        {
            "cell_type": "markdown",
            "metadata": {
                "hidden": true
            },
            "source": [
                "`r0`\u306fNumPy\u306e`ndarray`\u3068\u3044\u3046\u30c7\u30fc\u30bf\u578b\u3067\u3042\u308b\u3002\u3053\u308c\u3092\u30ea\u30b9\u30c8\u306b\u5909\u63db\u3059\u308b\u305f\u3081\u306b`tolist()`\u3068\u3044\u3046\u30e1\u30bd\u30c3\u30c9\u3092\u4f7f\u3046\u3002"
            ]
        },
        {
            "cell_type": "code",
            "execution_count": null,
            "metadata": {},
            "outputs": [],
            "source": [
                "\n",
                "\n",
                ""
            ]
        },
        {
            "cell_type": "code",
            "execution_count": null,
            "metadata": {},
            "outputs": [],
            "source": []
        },
        {
            "cell_type": "markdown",
            "metadata": {
                "heading_collapsed": true
            },
            "source": [
                "## \u3088\u304f\u4f7f\u3046NumPy\u95a2\u6570"
            ]
        },
        {
            "cell_type": "markdown",
            "metadata": {
                "hidden": true
            },
            "source": [
                "**\u30eb\u30fc\u30c8 $\\left(\\sqrt x\\right)$**"
            ]
        },
        {
            "cell_type": "code",
            "execution_count": null,
            "metadata": {},
            "outputs": [],
            "source": []
        },
        {
            "cell_type": "markdown",
            "metadata": {
                "hidden": true
            },
            "source": [
                "**\u5e95\u304c$e$\u306e\u6307\u6570\u95a2\u6570\uff08$e^x$\uff09**"
            ]
        },
        {
            "cell_type": "code",
            "execution_count": null,
            "metadata": {},
            "outputs": [],
            "source": []
        },
        {
            "cell_type": "markdown",
            "metadata": {
                "hidden": true
            },
            "source": [
                "**\u81ea\u7136\u5bfe\u6570\uff08$\\log_ex$\u307e\u305f\u306f$\\ln x$\uff09**"
            ]
        },
        {
            "cell_type": "code",
            "execution_count": null,
            "metadata": {},
            "outputs": [],
            "source": []
        },
        {
            "cell_type": "markdown",
            "metadata": {
                "hidden": true
            },
            "source": [
                "**`0`\u304c$N$\u500b\u306e`array`\u3092\u4f5c\u308b\u3002**\n",
                "```\n",
                "np.zeros(N)\n",
                "```"
            ]
        },
        {
            "cell_type": "code",
            "execution_count": null,
            "metadata": {},
            "outputs": [],
            "source": []
        },
        {
            "cell_type": "markdown",
            "metadata": {
                "hidden": true
            },
            "source": [
                "**`1`\uff08float\uff09\u304c$N$\u500b\u306e`array`\u3092\u4f5c\u308b\u3002**\n",
                "```\n",
                "np.ones(N)\n",
                "```"
            ]
        },
        {
            "cell_type": "code",
            "execution_count": null,
            "metadata": {},
            "outputs": [],
            "source": []
        },
        {
            "cell_type": "markdown",
            "metadata": {
                "hidden": true
            },
            "source": [
                "**$a$\u304b\u3089$b$\u307e\u3067\u306e\u533a\u9593\u3092\u7b49\u9593\u9694\u306b\u5272\u3063\u305f$N$\u500b\u306e\u6570\u5b57\u3092\u8fd4\u3059\u3002**\n",
                "```\n",
                "np.linspace(a,b,N)\n",
                "```"
            ]
        },
        {
            "cell_type": "code",
            "execution_count": null,
            "metadata": {},
            "outputs": [],
            "source": []
        },
        {
            "cell_type": "markdown",
            "metadata": {
                "hidden": true
            },
            "source": [
                "**$a$\u304b\u3089$b$\u307e\u3067\u306e\u533a\u9593\u3067$m$\u30b9\u30c6\u30c3\u30d7\u305a\u3064\u5897\u52a0\u3057\u7b49\u9593\u9694\u306b\u5272\u3063\u305f\u6570\u5b57\u3092\u8fd4\u3059\uff08$b$\u306f\u542b\u307e\u306a\u3044\uff09\u3002**\n",
                "\n",
                "```\n",
                "np.arange(a,b,m)\n",
                "```\n",
                "`m = 1`\u306e\u5834\u5408\uff0c\u7d44\u307f\u8fbc\u307f\u95a2\u6570\u306e`range(a,b)`\u3068\u540c\u3058\u6570\u5b57\u3092\u751f\u6210\u3059\u308b\u304c\uff0c\u8fd4\u308a\u5024\u304c`array`\u3067\u3042\u308b\u3053\u3068\u304c\u7570\u306a\u308b\u3002"
            ]
        },
        {
            "cell_type": "code",
            "execution_count": null,
            "metadata": {},
            "outputs": [],
            "source": []
        },
        {
            "cell_type": "markdown",
            "metadata": {
                "hidden": true
            },
            "source": [
                "**\u6a19\u672c\u5e73\u5747**\n",
                "\n",
                "`x`\u304c\u6570\u5b57\u306e`array`\u3084\u30ea\u30b9\u30c8\u306e\u5834\u5408\n",
                "\n",
                "`np.mean(x)`$=\\bar{x}=\\frac{1}{n}\\sum_{i=1}^{n}x_i$"
            ]
        },
        {
            "cell_type": "code",
            "execution_count": null,
            "metadata": {},
            "outputs": [],
            "source": [
                "\n"
            ]
        },
        {
            "cell_type": "markdown",
            "metadata": {
                "hidden": true
            },
            "source": [
                "**\u6a19\u672c\u4e2d\u592e\u5024**\n",
                "\n",
                "`x`\u304c\u6570\u5b57\u306e`array`\u3084\u30ea\u30b9\u30c8\u306e\u5834\u5408\n",
                "\n",
                "`np.median(x)`"
            ]
        },
        {
            "cell_type": "code",
            "execution_count": null,
            "metadata": {},
            "outputs": [],
            "source": []
        },
        {
            "cell_type": "markdown",
            "metadata": {
                "hidden": true
            },
            "source": [
                "**\u6a19\u672c\u5206\u6563**\n",
                "\n",
                "`x`\u304c\u6570\u5b57\u306e`array`\u3084\u30ea\u30b9\u30c8\u306e\u5834\u5408\n",
                "\n",
                "`np.var(x, ddof=0)`$=s_x^2=\\dfrac{1}{1-\\text{ddof}}\\sum_{i=1}^n\\left(x_i-\\bar{x}\\right)^2$\uff08`ddof=0`\u304c\u30c7\u30d5\u30a9\u30eb\u30c8\uff09\n",
                "\n",
                "\uff08\u6ce8\u610f\uff09\u8a08\u91cf\u7d4c\u6e08\u5b66\u3067\u7fd2\u3046\u5206\u6563\u306e\u4e0d\u504f\u63a8\u5b9a\u91cf\u306f`ddof=1`\u304c\u5fc5\u8981\uff01"
            ]
        },
        {
            "cell_type": "code",
            "execution_count": null,
            "metadata": {},
            "outputs": [],
            "source": []
        },
        {
            "cell_type": "markdown",
            "metadata": {
                "hidden": true
            },
            "source": [
                "**\u6a19\u672c\u6a19\u6e96\u504f\u5dee**\n",
                "\n",
                "`x`\u304c\u6570\u5b57\u306e`array`\u3084\u30ea\u30b9\u30c8\u306e\u5834\u5408\n",
                "\n",
                "`np.std(x, ddof=0)`$=s_x=\\sqrt{s_x^2}$  \uff08`ddof=0`\u304c\u30c7\u30d5\u30a9\u30eb\u30c8\uff09\n",
                "\n",
                "\uff08\u6ce8\u610f\uff09\u6a19\u672c\u6a19\u6e96\u504f\u5dee\u306e\u5834\u5408\uff0c\u5fc5\u305a\u3057\u3082`ddof=1`\u306b\u3088\u308a\u4e0d\u504f\u63a8\u5b9a\u91cf\u3068\u306f\u306a\u3089\u306a\u3044\u304c\uff0c\u901a\u5e38`ddof=1`\u3092\u7528\u3044\u308b\u3002"
            ]
        },
        {
            "cell_type": "code",
            "execution_count": null,
            "metadata": {},
            "outputs": [],
            "source": []
        },
        {
            "cell_type": "markdown",
            "metadata": {
                "hidden": true
            },
            "source": [
                "**\u6a19\u672c\u5171\u5206\u6563**\n",
                "\n",
                "2\u6b21\u5143\u4ee5\u4e0a\u306e`array`\u3084\u30ea\u30b9\u30c8\u306e\u5834\u5408\n",
                "\n",
                "`np.cov(xy, ddof=0)`$=c_{xy}=\\dfrac{1}{1-\\text{ddof}}\\sum_{i=1}^n(x_i-\\bar{x})(y_i-\\bar{y})$\uff08`ddof=0`\u304c\u30c7\u30d5\u30a9\u30eb\u30c8\uff09\n",
                "\n",
                "\uff08\u6ce8\u610f\uff09\u8a08\u91cf\u7d4c\u6e08\u5b66\u3067\u7fd2\u3046\u5206\u6563\u306e\u4e0d\u504f\u63a8\u5b9a\u91cf\u306f`ddof=1`\u304c\u5fc5\u8981\uff01\n",
                "\n",
                "\u4e0b\u306e\u8a08\u7b97\u7d50\u679c\n",
                "\n",
                "* $c_{xy}=-0.6$\n",
                "* $s_x^2=3.5$  (\\[1,2,3,4,5,6\\]\u306e\u5206\u6563\uff09\n",
                "* $s_y^2=4.4$  (\\[1,6,2,5,3,1\\]\u306e\u5206\u6563\uff09"
            ]
        },
        {
            "cell_type": "code",
            "execution_count": null,
            "metadata": {},
            "outputs": [],
            "source": [
                "\n"
            ]
        },
        {
            "cell_type": "markdown",
            "metadata": {
                "hidden": true
            },
            "source": [
                "**\u6a19\u672c\u76f8\u95a2\u4fc2\u6570**\n",
                "\n",
                "2\u6b21\u5143\u4ee5\u4e0a\u306e`array`\u3084\u30ea\u30b9\u30c8\u306e\u5834\u5408\n",
                "\n",
                "`np.(xy)`$=r_{xy}=\\dfrac{c_{xy}}{s_x\\cdot s_y}$\n",
                "\n",
                "\uff08\u6ce8\u610f\uff09`ddof`\u306e\u5f71\u97ff\u306f\u306a\u3044\u3002\n",
                "\n",
                "\u4e0b\u306e\u8a08\u7b97\u7d50\u679c\n",
                "* $r_{xy}=-0.152...$\n",
                "* $r_{xx}=r_{yy}=1$"
            ]
        },
        {
            "cell_type": "code",
            "execution_count": null,
            "metadata": {},
            "outputs": [],
            "source": []
        },
        {
            "cell_type": "markdown",
            "metadata": {
                "heading_collapsed": true
            },
            "source": [
                "## array vs list"
            ]
        },
        {
            "cell_type": "markdown",
            "metadata": {
                "hidden": true
            },
            "source": [
                "\u3053\u3053\u3067\u306f`list`\u3068`NumPy`\u306e`array`\u306e\u91cd\u8981\u306a\u9055\u3044\u306b\u3064\u3044\u3066\u8aac\u660e\u3059\u308b\u3002\n",
                "\u6b21\u306e\u30ea\u30b9\u30c8\u306e\u305d\u308c\u305e\u308c\u306e\u8981\u7d20\u306b`10`\u3092\u8db3\u3057\u305f\u3044\u3068\u3057\u3088\u3046\u3002"
            ]
        },
        {
            "cell_type": "code",
            "execution_count": null,
            "metadata": {},
            "outputs": [],
            "source": []
        },
        {
            "cell_type": "markdown",
            "metadata": {
                "hidden": true
            },
            "source": [
                "`for`\u30eb\u30fc\u30d7\u3092\u4f7f\u3046\u3068\u6b21\u306e\u3088\u3046\u306b\u306a\u308b\u3002"
            ]
        },
        {
            "cell_type": "code",
            "execution_count": null,
            "metadata": {},
            "outputs": [],
            "source": [
                "\n",
                "\n",
                "",
                "",
                ""
            ]
        },
        {
            "cell_type": "markdown",
            "metadata": {
                "hidden": true
            },
            "source": [
                "\u3082\u3046\uff11\u3064\u306e\u65b9\u6cd5\u3068\u3057\u3066\u5185\u5305\u6a19\u8a18\uff08list comprehension\uff09\u304c\u3042\u308b\u3002"
            ]
        },
        {
            "cell_type": "code",
            "execution_count": null,
            "metadata": {},
            "outputs": [],
            "source": [
                "\n"
            ]
        },
        {
            "cell_type": "markdown",
            "metadata": {
                "hidden": true
            },
            "source": [
                "\u3069\u3061\u3089\u306e\u65b9\u6cd5\u3092\u4f7f\u3063\u305f\u3068\u3057\u3066\u3082\uff0c\u8907\u96d1\u3055\u304c\u6b8b\u308b\u3002\u307e\u305f\u6b21\u306e\u30b3\u30fc\u30c9\u3067\u306f`10`\u3092\u6700\u5f8c\u306b\u8ffd\u52a0\u3059\u308b\u3060\u3051\u3067\u3042\u308b\u3002"
            ]
        },
        {
            "cell_type": "code",
            "execution_count": null,
            "metadata": {},
            "outputs": [],
            "source": []
        },
        {
            "cell_type": "markdown",
            "metadata": {
                "hidden": true
            },
            "source": [
                "\u3088\u308a\u7c21\u5358\u306a\u30b3\u30fc\u30c9\u3067\u5b9f\u884c\u3067\u304d\u308c\u3070\u826f\u3044\u304c\uff0c\u4ee5\u4e0b\u306e\u30b3\u30fc\u30c9\u3067\u306f\u30a8\u30e9\u30fc\u304c\u767a\u751f\u3059\u308b\u3002"
            ]
        },
        {
            "cell_type": "code",
            "execution_count": null,
            "metadata": {},
            "outputs": [],
            "source": []
        },
        {
            "cell_type": "markdown",
            "metadata": {
                "hidden": true
            },
            "source": [
                "---\n",
                "\u3053\u308c\u3092\u5b9f\u73fe\u3059\u308b\u306e\u304c`NumPy`\u306e`array`\u3067\u3042\u308b\u3002\n",
                "\n",
                "\u307e\u305a`array`\u3092\u4f5c\u6210\u3059\u308b\u3002"
            ]
        },
        {
            "cell_type": "code",
            "execution_count": null,
            "metadata": {},
            "outputs": [],
            "source": [
                "\n"
            ]
        },
        {
            "cell_type": "code",
            "execution_count": null,
            "metadata": {},
            "outputs": [],
            "source": []
        },
        {
            "cell_type": "markdown",
            "metadata": {
                "hidden": true
            },
            "source": [
                "\u3053\u306e\u6a5f\u80fd\u306f\u30d9\u30af\u30c8\u30eb\u6f14\u7b97\uff08Vectorization\uff09\u3068\u547c\u3070\u308c\u3001\u30eb\u30fc\u30d7\u3092\u4f7f\u308f\u305a\u306b\u500b\u3005\u306e\u8981\u7d20\u306b\u76f4\u63a5\u50cd\u304d\u304b\u3051\u8a08\u7b97\u3057\u3066\u3044\u308b\uff08\u30d6\u30ed\u30fc\u30c9\u30ad\u30e3\u30b9\u30c8\u6f14\u7b97\u3068\u547c\u3070\u308c\u308b\u5834\u5408\u3082\u3042\u308b\uff09\u3002\u4e0a\u8a18\u306e\u30b3\u30fc\u30c9\u306f\u6b21\u306e\u8a08\u7b97\u3092\u884c\u3063\u3066\u3044\u308b\u3002"
            ]
        },
        {
            "cell_type": "code",
            "execution_count": null,
            "metadata": {},
            "outputs": [],
            "source": []
        },
        {
            "cell_type": "markdown",
            "metadata": {
                "hidden": true
            },
            "source": [
                "\u88cf\u3067`arr0`\u306e\u9577\u3055\u306b\u5408\u308f\u305b\u3066`10`\u3092\u300c\u62e1\u5f35\u300d\u3057\u8a08\u7b97\u3057\u3066\u3044\u308b\u3002\u3053\u306e\u6a5f\u80fd\u306b\u3088\u308a\u3001\u3088\u308a\u9ad8\u901f\u306a\u8a08\u7b97\u304c\u53ef\u80fd\u3068\u306a\u308b\u3070\u304b\u308a\u304b\u3001\u3088\u308a\u77ed\u3044\u30b3\u30fc\u30c9\u3067\u305d\u308c\u3092\u5b9f\u73fe\u3067\u304d\u308b\u3002`+`, `-`, `*`, `**` \u3084\u4ed6\u306e\u95a2\u6570\u306b\u3082\u540c\u69d8\u306b\u4f7f\u3046\u3053\u3068\u304c\u3067\u304d\u308b\u3002\u4ee5\u4e0b\u3067\u4f8b\u3092\u6319\u3052\u308b\u3002"
            ]
        },
        {
            "cell_type": "code",
            "execution_count": null,
            "metadata": {},
            "outputs": [],
            "source": []
        },
        {
            "cell_type": "code",
            "execution_count": null,
            "metadata": {},
            "outputs": [],
            "source": []
        },
        {
            "cell_type": "code",
            "execution_count": null,
            "metadata": {},
            "outputs": [],
            "source": []
        },
        {
            "cell_type": "code",
            "execution_count": null,
            "metadata": {},
            "outputs": [],
            "source": []
        },
        {
            "cell_type": "code",
            "execution_count": null,
            "metadata": {},
            "outputs": [],
            "source": []
        },
        {
            "cell_type": "markdown",
            "metadata": {
                "hidden": true
            },
            "source": [
                "\u6b21\u306e\u8a08\u7b97\u3082\u53ef\u80fd\u3067\u3042\u308b\u3002"
            ]
        },
        {
            "cell_type": "code",
            "execution_count": null,
            "metadata": {},
            "outputs": [],
            "source": [
                "\n"
            ]
        },
        {
            "cell_type": "markdown",
            "metadata": {
                "hidden": true
            },
            "source": [
                "\u3053\u306e\u6a5f\u80fd\u306f`NumPy`\u306e\u884c\u5217\u3067\u3082\u6709\u52b9\u3067\u3042\u308b\u3002"
            ]
        },
        {
            "cell_type": "code",
            "execution_count": null,
            "metadata": {},
            "outputs": [],
            "source": [
                "\n"
            ]
        },
        {
            "cell_type": "code",
            "execution_count": null,
            "metadata": {},
            "outputs": [],
            "source": []
        },
        {
            "cell_type": "code",
            "execution_count": null,
            "metadata": {},
            "outputs": [],
            "source": []
        },
        {
            "cell_type": "code",
            "execution_count": null,
            "metadata": {},
            "outputs": [],
            "source": []
        }
    ],
    "metadata": {
        "celltoolbar": "Tags",
        "kernel_info": {
            "name": "python3"
        },
        "kernelspec": {
            "display_name": "latest",
            "language": "python",
            "name": "latest"
        },
        "language_info": {
            "codemirror_mode": {
                "name": "ipython",
                "version": 3
            },
            "file_extension": ".py",
            "mimetype": "text/x-python",
            "name": "python",
            "nbconvert_exporter": "python",
            "pygments_lexer": "ipython3",
            "version": "3.8.2"
        },
        "nteract": {
            "version": "0.15.0"
        },
        "toc": {
            "base_numbering": 1,
            "nav_menu": {},
            "number_sections": true,
            "sideBar": true,
            "skip_h1_title": false,
            "title_cell": "Table of Contents",
            "title_sidebar": "Contents",
            "toc_cell": false,
            "toc_position": {},
            "toc_section_display": true,
            "toc_window_display": false
        }
    },
    "nbformat": 4,
    "nbformat_minor": 2
}