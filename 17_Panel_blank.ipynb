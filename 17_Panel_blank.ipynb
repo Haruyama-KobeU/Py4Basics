{
    "cells": [
        {
            "cell_type": "markdown",
            "metadata": {},
            "source": [
                "# \u30d1\u30cd\u30eb\u30fb\u30c7\u30fc\u30bf\u5206\u6790"
            ]
        },
        {
            "cell_type": "code",
            "execution_count": null,
            "metadata": {},
            "outputs": [],
            "source": [
                "\n",
                "\n",
                "",
                "",
                "",
                "",
                "",
                "",
                "",
                "",
                "# \u8b66\u544a\u30e1\u30c3\u30bb\u30fc\u30b8\u3092\u975e\u8868\u793a\n",
                "\n"
            ]
        },
        {
            "cell_type": "markdown",
            "metadata": {},
            "source": [
                "\u30d1\u30cd\u30eb\u30fb\u30c7\u30fc\u30bf\u3092\u4f7f\u3063\u305f\u6b21\u306e\u30e2\u30c7\u30eb\u306b\u3064\u3044\u3066\u8aac\u660e\u3059\u308b\u3002\n",
                "* \u56fa\u5b9a\u52b9\u679c\u30e2\u30c7\u30eb\uff08Fixed Effects Model\uff09\n",
                "* \u30e9\u30f3\u30c0\u30e0\u52b9\u679c\u30e2\u30c7\u30eb\uff08Random Effects Model\uff09\n",
                "* \u76f8\u95a2\u30e9\u30f3\u30c0\u30e0\u52b9\u679c\u30e2\u30c7\u30eb\uff08Correlated Random Effects Model\uff09 "
            ]
        },
        {
            "cell_type": "markdown",
            "metadata": {},
            "source": [
                "## \u56fa\u5b9a\u52b9\u679c\u30e2\u30c7\u30eb"
            ]
        },
        {
            "cell_type": "markdown",
            "metadata": {
                "heading_collapsed": true
            },
            "source": [
                "### \u8aac\u660e"
            ]
        },
        {
            "cell_type": "markdown",
            "metadata": {
                "hidden": true
            },
            "source": [
                "\u30d1\u30cd\u30eb\u30fb\u30c7\u30fc\u30bf\u3092\u4f7f\u3046\u5834\u5408\u306e\u554f\u984c\u306f\u89b3\u5bdf\u5358\u4f4d\u306e\u7570\u8cea\u6027\u3092\u6349\u3048\u308b\u5909\u6570 $a_i$ \u304c\u8aac\u660e\u5909\u6570 $x_{it}$ \u3068\u76f8\u95a2\u3059\u308b\u3053\u3068\u306b\u3088\u308a\uff0c\u5358\u7d14\u306aOLS\u63a8\u5b9a\u91cf\u306b\u7570\u8cea\u6027\u30d0\u30a4\u30a2\u30b9\u304c\u767a\u751f\u3059\u308b\u3053\u3068\u3067\u3042\u308b\u3002\u305d\u306e\u5bfe\u51e6\u65b9\u6cd5\u3068\u3057\u3066\uff0c\u56de\u5e30\u5f0f\u304b\u3089$a_i$\u3092\u306a\u304f\u3059\uff11\u968e\u5dee\u5206\u63a8\u5b9a\u306b\u3064\u3044\u3066\u8aac\u660e\u3057\u305f\u3002\u3053\u306e\u7ae0\u3067\u306f\uff0c\u540c\u3058\u3088\u3046\u306b$a_i$\u3092\u306a\u304f\u3059\u4ee3\u66ff\u63a8\u5b9a\u6cd5\u3068\u3057\u3066\u56fa\u5b9a\u52b9\u679c\u63a8\u5b9a\uff08Fixed Effects Estimator\uff09\u306b\u3064\u3044\u3066\u8003\u3048\u308b\u3002\u307e\u305a\uff0c\u305d\u306e\u57fa\u790e\u3068\u306a\u308b\u56fa\u5b9a\u52b9\u679c\u30e2\u30c7\u30eb\uff08Fixed Effects Model; FE\u30e2\u30c7\u30eb\uff09\u306b\u3064\u3044\u3066\u89e3\u8aac\u3059\u308b\u3002"
            ]
        },
        {
            "cell_type": "markdown",
            "metadata": {
                "hidden": true
            },
            "source": [
                "\u6b21\u5f0f\u3092\u8003\u3048\u3088\u3046\u3002\n",
                "\n",
                "$$y_{it}= \\beta_0 + a_i + \\beta_1x_{it}+u_{it}\\qquad i=1,2,..,n\\quad t=0,1,...,T\\qquad\\qquad\\left(\\text{\u5f0f\uff11}\\right)$$\n",
                "\n",
                "\u4e21\u8fba\u306e\u305d\u308c\u305e\u308c\u306e\u5909\u6570\u306e\u6642\u9593\u306b\u5bfe\u3057\u3066\u306e\u5e73\u5747\u3092\u8a08\u7b97\u3059\u308b\u3068\u6b21\u5f0f\u3068\u306a\u308b\u3002\n",
                "\n",
                "$$\\bar{y}_i= \\beta_0 + a_i + \\beta_1\\bar{x}_i+\\bar{u}_i\\qquad\\qquad\\left(\\text{\u5f0f\uff12}\\right)$$\n",
                "\n",
                "\uff08\u6ce8\u610f\uff09$a_i$\u306f\u6642\u9593\u306b\u5bfe\u3057\u3066\u4e0d\u5909\u306a\u305f\u3081\uff0c$a_i$\u306f\u305d\u306e\u307e\u307e\u306e\u5024\u3092\u53d6\u308b\u3002\n",
                "\n",
                "(\u5f0f\uff11)\u3068(\u5f0f\uff12)\u306e\u5dee\u3092\u53d6\u308b\u3068\u6b21\u306e\u56fa\u5b9a\u52b9\u679c\u63a8\u5b9a\u5f0f\u304c\u5c0e\u51fa\u3067\u304d\u308b\u3002\n",
                "\n",
                "$$\\ddot{y}_i = \\beta_1\\ddot{x}_i+\\ddot{u}_i\\qquad\\qquad\\left(\\text{\u5f0f\uff13}\\right)$$\n",
                "\n",
                "\u3053\u3053\u3067\n",
                "* $\\ddot{y}_i=y_i-\\bar{y}$\n",
                "* $\\ddot{x}_i=x_i-\\bar{x}$\n",
                "* $\\ddot{u}_i=u_i-\\bar{u}$\n",
                "\n",
                "\u306f\u5e73\u5747\u304b\u3089\u306e\u4e56\u96e2\uff08demeaned values\uff09\u3002"
            ]
        },
        {
            "cell_type": "markdown",
            "metadata": {
                "hidden": true
            },
            "source": [
                "\uff1c\u4eee\u5b9a\u3068\u63a8\u5b9a\u91cf\u306e\u6027\u8cea\uff1e\n",
                "1. (\u5f0f\uff11)\u306e\u3088\u3046\u306b\u56de\u5e30\u5f0f\u306f\u7dda\u5f62\n",
                "1. \u6a19\u672c\u306e\u30e9\u30f3\u30c0\u30e0\u62bd\u51fa\n",
                "1. $x_{it}$\u306f\u6642\u9593\u3068\u5171\u306b\u5909\u52d5\u3057\u3001\u8aac\u660e\u5909\u6570\u9593\u306e\u5b8c\u5168\u591a\u91cd\u5171\u7dda\u6027\u306f\u5b58\u5728\u3057\u306a\u3044\u3002\n",
                "1. $\\text{E}(u_{it}|X_i,a_i)=0$\u3001\u5373\u3061\u3001$a_i$ \u3068 $x_{it}$, $t=1,2,..,T$ \u3092\u6240\u4e0e\u3068\u3057\u3066 $u_{it}$ \u306e\u5e73\u5747\u306f0\n",
                "\n",
                "\u3053\u306e\u4eee\u5b9a\u306e\u4e0b\u3067\uff0cOLS\u63a8\u5b9a\u91cf $\\hat{\\beta}_1$ \u306f\n",
                "* \u4e0d\u504f\u6027\u3092\u6e80\u305f\u3059\u3002\n",
                "* $T$\u3092\u4e00\u5b9a\u3068\u3057\u3066\u6a19\u672c\u306e\u5927\u304d\u3055\u304c\u5341\u5206\u306b\u5927\u304d\u3044\u5834\u5408\uff0c\u4e00\u81f4\u6027\u3092\u6e80\u305f\u3059\u3002\n",
                "* \u56fa\u5b9a\u52b9\u679c\u63a8\u5b9a\u91cf\uff08Fixed Effects Estimator or FE Estimator\uff09\u3082\u3057\u304f\u306f Within Estimator\u3068\u547c\u3070\u308c\u308b\u3002\n",
                "\n",
                "\n",
                "<br>\n",
                "\n",
                "---\n",
                "\uff1c\u826f\u3044\u70b9\uff1e\n",
                "* \u63a8\u5b9a\u91cf\u306f\u4e0a\u8ff0\u306e\u4eee\u5b9a\u306e\u4e0b\u3067\u4e0d\u504f\u6027\u30fb\u4e00\u81f4\u6027\u304c\u6e80\u305f\u3055\u308c\u308b\u3002\n",
                "\n",
                "\uff1c\u60aa\u3044\u70b9\uff1e\n",
                "* \u6642\u9593\u306b\u5bfe\u3057\u3066\u4e00\u5b9a\u306e\u8aac\u660e\u5909\u6570\u306f\uff0c$a_i$\u3068\u540c\u3058\u3088\u3046\u306b\uff0c\uff08\u5f0f\uff13\uff09\u306b\u6b8b\u3089\u306a\u3044\u3002\u5f93\u3063\u3066\uff0c\u6642\u9593\u4e0d\u5909\u306e\u5909\u6570\u306e\u52b9\u679c\u3092\u63a8\u5b9a\u3059\u308b\u3053\u3068\u306f\u3067\u304d\u306a\u3044\u3002"
            ]
        },
        {
            "cell_type": "markdown",
            "metadata": {
                "heading_collapsed": true
            },
            "source": [
                "### \u300c\u624b\u8a08\u7b97\u300d\u306b\u3088\u308b\u63a8\u5b9a"
            ]
        },
        {
            "cell_type": "markdown",
            "metadata": {
                "hidden": true
            },
            "source": [
                "`wagepan`\u3068\u3044\u3046\u30c7\u30fc\u30bf\u30bb\u30c3\u30c8\u3092\u4f7f\u3044\uff0c\u8cc3\u91d1\u306b\u5bfe\u3059\u308b\u52b4\u50cd\u7d44\u5408\u306a\u3069\u306e\u5909\u6570\u306e\u52b9\u679c\u3092\u63a8\u5b9a\u3059\u308b\u3002"
            ]
        },
        {
            "cell_type": "code",
            "execution_count": null,
            "metadata": {},
            "outputs": [],
            "source": [
                "\n"
            ]
        },
        {
            "cell_type": "markdown",
            "metadata": {
                "hidden": true
            },
            "source": [
                "\u88ab\u8aac\u660e\u5909\u6570\n",
                "* `lwage`\uff1a\u8cc3\u91d1\uff08\u5bfe\u6570\uff09\n",
                "\n",
                "\u8aac\u660e\u5909\u6570\n",
                "* `union`\uff1a\u52b4\u50cd\u7d44\u5408\u53c2\u52a0\uff08\u30c0\u30df\u30fc\u5909\u6570\uff09\n",
                "* `married`\uff1a\u672a\u30fb\u65e2\u5a5a\uff08\u30c0\u30df\u30fc\u5909\u6570\uff09\n",
                "* `exper`\uff1a\u52b4\u50cd\u5e02\u5834\u53c2\u52a0\u5e74\u6570\n",
                "*  `d81`\uff1a1981\u5e74\u306e\u30c0\u30df\u30fc\u5909\u6570\n",
                "*  `d82`\uff1a1982\u5e74\u306e\u30c0\u30df\u30fc\u5909\u6570\n",
                "*  `d83`\uff1a1983\u5e74\u306e\u30c0\u30df\u30fc\u5909\u6570\n",
                "*  `d84`\uff1a1984\u5e74\u306e\u30c0\u30df\u30fc\u5909\u6570\n",
                "*  `d85`\uff1a1985\u5e74\u306e\u30c0\u30df\u30fc\u5909\u6570\n",
                "*  `d86`\uff1a1986\u5e74\u306e\u30c0\u30df\u30fc\u5909\u6570\n",
                "*  `d87`\uff1a1987\u5e74\u306e\u30c0\u30df\u30fc\u5909\u6570\n",
                "\n",
                "`DataFrame`\u306e`groupby`\u3092\u4f7f\u3063\u3066\u5909\u6570\u3092\u30b0\u30eb\u30fc\u30d7\u5316\u3059\u308b\u969b\u306b\u4f7f\u3046\u5909\u6570\n",
                "* `nr`\uff1a\u52b4\u50cd\u8005\u306eID"
            ]
        },
        {
            "cell_type": "markdown",
            "metadata": {
                "hidden": true
            },
            "source": [
                "```{admonition} \u30b3\u30e1\u30f3\u30c8\n",
                ":class: tip\n",
                "\u6642\u9593\u306b\u5bfe\u3057\u3066\u5909\u5316\u3057\u306a\u3044\u5909\u6570\u306f\u4f7f\u3048\u306a\u3044\u3002\u4f8b\u3048\u3070\uff0c\n",
                "* `educ`\uff08\u8aac\u660e\u5909\u6570\u306b\u5165\u308c\u3070\u6559\u80b2\u306e\u53ce\u76ca\u7387\u304c\u63a8\u5b9a\u53ef\u80fd\u3067\u3042\u308b\u3002\uff09\n",
                "* `black`\uff0c`hisp`\uff08\u3092\u4f7f\u3046\u3068\u4eba\u7a2e\u9593\u306e\u8cc3\u91d1\u683c\u5dee\u3082\u63a8\u5b9a\u3067\u304d\u308b\u3002\uff09\n",
                "\n",
                "\u306f\u56fa\u5b9a\u52b9\u679c\u30e2\u30c7\u30eb\u56de\u5e30\u5f0f\u306b\u306f\u5165\u308c\u308b\u3053\u3068\u304c\u3067\u304d\u306a\u3044\u3002\n",
                "```"
            ]
        },
        {
            "cell_type": "code",
            "execution_count": null,
            "metadata": {},
            "outputs": [],
            "source": [
                "# \u8aac\u660e\u5909\u6570\u306e\u30ea\u30b9\u30c8\n",
                "\n",
                "\n",
                "# \u5168\u3066\u306e\u5909\u6570\u306e\u30ea\u30b9\u30c8\n",
                "\n",
                "\n",
                "# \u4f7f\u3046\u5909\u6570\u3060\u3051\u3067\u69cb\u6210\u3055\u308c\u308bDataFrame\n",
                "\n",
                "\n",
                "# var\u306e\u5e73\u5747\u304b\u3089\u306e\u4e56\u96e2\u3092\u8a08\u7b97\uff08\u4e0b\u306e\u8aac\u660e\uff08\uff11\uff09\u3092\u53c2\u7167\uff09\n",
                "\n",
                "\n",
                "",
                "",
                "# \u8aac\u660e\u5909\u6570\u306e\u884c\u5217\uff08\u4e0b\u306e\u8aac\u660e\uff08\uff12\uff09\u3092\u53c2\u7167\uff09\n",
                "\n",
                "\n",
                "# \u88ab\u8aac\u660e\u5909\u6570\u306e\u30d9\u30af\u30c8\u30eb\n",
                "\n",
                "\n",
                "# OLS\u306e\u8a08\u7b97\n",
                "\n",
                "\n",
                "# \u7d50\u679c\u306e\u8868\u793a\uff08\u4e0b\u306e\u8aac\u660e\uff08\uff13\uff09\u3092\u53c2\u7167\uff09\n",
                "\n"
            ]
        },
        {
            "cell_type": "markdown",
            "metadata": {
                "hidden": true
            },
            "source": [
                "\u8aac\u660e\uff08\uff11\uff09\n",
                "* `df.groupby('nr')`\uff1a`nr`\u3067\u30b0\u30eb\u30fc\u30d7\u5316\u3057\u305f\u30aa\u30d6\u30b8\u30a7\u30af\u30c8\u3092\u4f5c\u6210\u3059\u308b\uff08\u756a\u5916\u7de8\u306eGapminder\u3092\u53c2\u7167\uff09\u3002\n",
                "* `df_g[var].transform('mean')`\n",
                "    * `df_g[var]`\uff1a\u30b0\u30eb\u30fc\u30d7\u5316\u8a08\u7b97\u306e\u305f\u3081\u306b`var`\u306e\u5909\u6570\u3060\u3051\u3092\u4f7f\u3046\u3053\u3068\u3092\u6307\u5b9a\u3059\u308b\u3002\n",
                "    * `.transform('mean')`\uff1a\u6307\u5b9a\u3055\u308c\u305f\u5909\u6570\uff08`var`\uff09\u306e\u30b0\u30eb\u30fc\u30d7\u5185\u5e73\u5747\uff08\u305d\u308c\u305e\u308c\u306e`nr`\u5185\u3067\u306e\u5e73\u5747\uff09\u3092\u8a08\u7b97\u3057\uff0c\u305d\u306e\u5e73\u5747\u3067\u69cb\u6210\u3055\u308c\u308b`DataFrame`\u3092\u4f5c\u6210\u3059\u308b\u3002\u4f5c\u6210\u3055\u308c\u305f`DataFrame`\u306e\u884c\u6570\u306f`df`\u3068\u540c\u3058\u306b\u306a\u308a\uff0c\u30b0\u30eb\u30fc\u30d7\u5185\u5e73\u5747\u304c\u540c\u3058\u5217\u5185\u3067\u30ea\u30d4\u30fc\u30c8\u3055\u308c\u308b\u3053\u3068\u306b\u306a\u308b\u3002\n",
                "* `df.loc[:,var]-df_mean`\uff1a`var`\u306e\u305d\u308c\u305e\u308c\u306e\u5909\u6570\u306e\u5e73\u5747\u304b\u3089\u306e\u4e56\u96e2\u3092\u8a08\u7b97\u3059\u308b\u3002\n",
                "* `df_mean = ...`\u3068`df_md = ...`\u306e2\u884c\u3092\u6b21\u306e\u3088\u3046\u306b1\u884c\u306b\u307e\u3068\u3081\u308b\u3053\u3068\u3082\u53ef\u80fd\u3002\n",
                "    * `df_md = df_g[var].transform(lambda x: x-x.mean())`\n",
                "\n",
                "\u8aac\u660e\uff08\uff12\uff09\n",
                "* `.values`\u306f`DataFrame`\u3092`numpy`\u306e`array`\u3068\u3057\u3066\u8fd4\u3059\u3002\n",
                "\n",
                "\u8aac\u660e\uff08\uff13\uff09\n",
                "* `enumerate(exog)`\u306f`exog`\u306e\u5909\u6570\u306e\u30a4\u30f3\u30c7\u30c3\u30af\u30b9\u3068\u5909\u6570\u540d\u306e\u4e21\u65b9\u3092\u30bf\u30d7\u30eb\u3068\u3057\u3066\u8fd4\u3059\u3002\n",
                "    * `for`\u30eb\u30fc\u30d7\u3067`enumerate()`\u306f\uff0c\u5f15\u6570\u306b\u30ea\u30b9\u30c8\u3084`array`\u3092\u5165\u308c\u308b\u30682\u3064\u306e\u5024\u3092\u8fd4\u3059\u3002\n",
                "    * 1\u3064\u76ee\u306e\u8fd4\u308a\u5024\uff1a\u8981\u7d20\u306e\u30a4\u30f3\u30c7\u30c3\u30af\u30b9\n",
                "    * 2\u3064\u76ee\u306e\u8fd4\u308a\u5024\uff1a\u8981\u7d20\u81ea\u4f53\n",
                "    * \u4f8b\u3048\u3070\uff0c`enumerate(['A','B','C'])`\u3067\u3042\u308c\u3070\uff0c\u8fd4\u308a\u5024\u306f`(0,'A')`\uff0c`(1,'B')`\uff0c`(2,'C')`\u3068\u306a\u308b\u3002\n",
                "* `f'{name}: {params[idx]:.4}'`\n",
                "    * `f`\uff1a\u4ee5\u524d\u8aac\u660e\u3057\u305ff-string\n",
                "    * `{name}`\uff1a`exog`\u306e\u5909\u6570\u540d\u3092\u4ee3\u5165\u3059\u308b\u3002\n",
                "    * `{params[idx]:.4}`\n",
                "        * `params[idx]`\uff1a`idx`\u756a\u76ee\u306e`params`\u3092\u4ee3\u5165\u3059\u308b\u3002\n",
                "        * `:.4`\uff1a\u5c0f\u6570\u70b9\u7b2c4\u4f4d\u307e\u3067\u3092\u8868\u793a\u3059\u308b\u3002\n",
                "\n",
                "---\n",
                "\u300c\u624b\u8a08\u7b97\u300d\u306e\u7d50\u679c\u306f`linearmodels`\u3092\u4f7f\u3046\u7d50\u679c\u3068\u540c\u3058\u306b\u306a\u308b\u3053\u3068\u3092\u4e0b\u3067\u78ba\u8a8d\u3059\u308b\u3002"
            ]
        },
        {
            "cell_type": "markdown",
            "metadata": {},
            "source": [
                "### `linearmodels`\u3092\u4f7f\u3046\u8a08\u7b97"
            ]
        },
        {
            "cell_type": "markdown",
            "metadata": {},
            "source": [
                "#### EntityEffects"
            ]
        },
        {
            "cell_type": "markdown",
            "metadata": {},
            "source": [
                "`linearmodels`\u306b\u306f`PanelOLS`\u30e2\u30b8\u30e5\u30fc\u30eb\u304c\u3042\u308a\uff0c\u305d\u306e\u95a2\u6570`from_formula()`\u3092\u4f7f\u3046\u3053\u3068\u306b\u3088\u308a\uff0c`statsmodels`\u540c\u69d8\uff0c\u56de\u5e30\u5f0f\u3092`y ~ x`\u306e\u6587\u5b57\u5217\u3067\u66f8\u304f\u3053\u3068\u304c\u53ef\u80fd\u3068\u306a\u308b\u3002\u305d\u306e\u969b\uff0c\u6b21\u306e\u70b9\u306b\u6ce8\u610f\u3059\u308b\u3053\u3068\u3002\n",
                "* \u56fa\u5b9a\u52b9\u679c\u63a8\u5b9a\u3092\u3059\u308b\u5834\u5408\uff0c\u56de\u5e30\u5f0f\u306b`+ EntityEffect`\u3092\u542b\u3081\u308b\u3002\n",
                "    * \u3053\u306e\u30aa\u30d7\u30b7\u30e7\u30f3\u306b\u3088\u308a\u5909\u6570\u306e\u5e73\u5747\u304b\u3089\u306e\u4e56\u96e2\u306f\u81ea\u52d5\u3067\u8a08\u7b97\u3055\u308c\u308b\u3053\u3068\u306b\u306a\u308b\u3002\n",
                "    * `+ EntityEffect`\u3092\u542b\u3081\u306a\u3044\u3068`PooledOLS`\uff08\u901a\u5e38\u306eOLS\uff09\u3068\u7b49\u3057\u304f\u306a\u308b\u3002\n",
                "\n",
                "\n",
                "\u307e\u305a`wagepan`\u3092`MultiIndex`\u5316\u3059\u308b\u3002\u3053\u308c\u306b\u3088\u308a`linearmodels`\u3092\u4f7f\u3044FD\u63a8\u5b9a\u53ef\u80fd\u3068\u306a\u308b\u3002"
            ]
        },
        {
            "cell_type": "code",
            "execution_count": null,
            "metadata": {},
            "outputs": [],
            "source": []
        },
        {
            "cell_type": "code",
            "execution_count": null,
            "metadata": {},
            "outputs": [],
            "source": []
        },
        {
            "cell_type": "code",
            "execution_count": null,
            "metadata": {},
            "outputs": [],
            "source": []
        },
        {
            "cell_type": "markdown",
            "metadata": {},
            "source": [
                "\u6b21\u306b`PanelData`\u30aa\u30d6\u30b8\u30a7\u30af\u30c8\u306b\u5909\u63db\u3057\u30c7\u30fc\u30bf\u306e\u7279\u5fb4\u3092\u8abf\u3079\u308b\u3002"
            ]
        },
        {
            "cell_type": "code",
            "execution_count": null,
            "metadata": {},
            "outputs": [],
            "source": [
                "\n"
            ]
        },
        {
            "cell_type": "markdown",
            "metadata": {},
            "source": [
                "* 44: \u5909\u6570\u306e\u6570\n",
                "* 8: \u671f\u9593\u6570\uff08\u5e74\uff09\n",
                "* 545\uff1a\u89b3\u5bdf\u5358\u4f4d\u306e\u6570\uff08\u4eba\u6570\uff09"
            ]
        },
        {
            "cell_type": "markdown",
            "metadata": {},
            "source": [
                "\u6b21\u306b\uff0cbalanced \u3082\u3057\u304f\u306f unbalanced data set \u304b\u3092\u78ba\u8a8d\u3059\u308b\u3002"
            ]
        },
        {
            "cell_type": "code",
            "execution_count": null,
            "metadata": {},
            "outputs": [],
            "source": []
        },
        {
            "cell_type": "markdown",
            "metadata": {},
            "source": [
                "\u3053\u306e\u30c7\u30fc\u30bf\u30fb\u30bb\u30c3\u30c8\u306fbalanced\u3060\u304c\uff0cunbalanced \u3060\u3063\u305f\u3068\u3057\u3066\u3082\uff0c\u56fa\u5b9a\u52b9\u679c\u30e2\u30c7\u30eb\u306e\u8003\u3048\u65b9\u3084\u4ee5\u4e0b\u3067\u8aac\u660e\u3059\u308b\u30b3\u30fc\u30c9\u306f\u5909\u308f\u3089\u306a\u3044\u3002"
            ]
        },
        {
            "cell_type": "markdown",
            "metadata": {},
            "source": [
                "---\n",
                "\u5b9f\u969b\u306b\u56de\u5e30\u5f0f\u3092\u66f8\u304f\u3053\u3068\u306b\u3059\u308b\u3002\u4f7f\u3044\u65b9\u306f`statsmodels`\u3068\u4f3c\u3066\u3044\u308b\u3002\n",
                "* `PanelOLS`\u30e2\u30b8\u30e5\u30fc\u30eb\u306e\u95a2\u6570`.from_formula`\u3092\u4f7f\u3044\u6b21\u306e\u3088\u3046\u306b\u5f15\u6570\u3092\u6307\u5b9a\u3059\u308b\u3002\n",
                "\n",
                "$$\\text{.from_formula}(\\text{\u56de\u5e30\u5f0f}, \\text{\u30c7\u30fc\u30bf})$$\n",
                "\n",
                "* `EntityEffects`\u3092\u52a0\u3048\u308b\u3002\n",
                "* \u5b9a\u6570\u9805\u3092\u5165\u308c\u305f\u3044\u5834\u5408\u306f\uff0c`1`\u3092\u56de\u5e30\u5f0f\u306b\u8ffd\u52a0\u3059\u308b\u3002\u5165\u308c\u306a\u3051\u308c\u3070\u5b9a\u6570\u9805\u306a\u3057\u306e\u63a8\u5b9a\u3068\u306a\u308b\u3002\n",
                "\n",
                "* \u4ee5\u4e0b\u3067\u306f\u6642\u9593\u30c0\u30df\u30fc`C(year)`\u304c\u5165\u308b\u306e\u3067\u5165\u308c\u306a\u3044\u3002"
            ]
        },
        {
            "cell_type": "code",
            "execution_count": null,
            "metadata": {},
            "outputs": [],
            "source": [
                "\n"
            ]
        },
        {
            "cell_type": "markdown",
            "metadata": {},
            "source": [
                "* \u56fa\u5b9a\u52b9\u679c\u30e2\u30c7\u30eb\u306e\u30a4\u30f3\u30b9\u30bf\u30f3\u30b9\u306e\u4f5c\u6210"
            ]
        },
        {
            "cell_type": "code",
            "execution_count": null,
            "metadata": {},
            "outputs": [],
            "source": []
        },
        {
            "cell_type": "markdown",
            "metadata": {},
            "source": [
                "* `statsmodels`\u3068\u540c\u3058\u3088\u3046\u306b\uff0c\u305d\u3053\u304b\u3089\u5f97\u305f\u7d50\u679c\u306b\u30e1\u30bd\u30c3\u30c9`.fit()`\u3092\u4f7f\u3044\u8a08\u7b97\u3057\u7d50\u679c\u304c\u8fd4\u3055\u308c\u308b\u3002"
            ]
        },
        {
            "cell_type": "code",
            "execution_count": null,
            "metadata": {},
            "outputs": [],
            "source": []
        },
        {
            "cell_type": "markdown",
            "metadata": {},
            "source": [
                "\uff1c\u7d50\u679c\u306e\u8868\u793a\u65b9\u6cd5\uff1e\n",
                "1. `res_fe`\u3092\u5b9f\u884c\u3002\n",
                "1. `res_fe`\u306b\u95a2\u6570`print()`\u3092\u4f7f\u3046\u3068\u898b\u3084\u3059\u3044\u3002\n",
                "1. `res_fe`\u306b\u306f\u5c5e\u6027`summary`\u304c\u7528\u610f\u3055\u308c\u3066\u3044\u308b\u304c\uff0c\u8868\u793a\u65b9\u6cd51\u3068\u540c\u3058\u3002\n",
                "1. `summary`\u306b\u306f\u5c5e\u6027`tables`\u304c\u3042\u308a\uff0c\uff12\u3064\u306e\u8868\u304c\u30ea\u30b9\u30c8\u3068\u3057\u3066\u683c\u7d0d\u3055\u308c\u3066\u3044\u308b\u3002\n",
                "    * `tables[0]`\uff1a\u691c\u5b9a\u7d71\u8a08\u91cf\u306e\u8868\uff08`print()`\u3092\u4f7f\u3046\u3068\u898b\u3084\u3059\u304f\u306a\u308b\uff09\n",
                "    * `tables[1]`\uff1a\u4fc2\u6570\u306e\u63a8\u5b9a\u5024\u3084p\u5024\u306a\u3069\u306e\u8868\uff08`print()`\u3092\u4f7f\u3046\u3068\u898b\u3084\u3059\u304f\u306a\u308b\uff09"
            ]
        },
        {
            "cell_type": "code",
            "execution_count": null,
            "metadata": {},
            "outputs": [],
            "source": []
        },
        {
            "cell_type": "markdown",
            "metadata": {},
            "source": [
                "\uff08\u7d50\u679c\uff09\n",
                "* `exper**2`\u306e\u4fc2\u6570\u304c\u8ca0\u3067\u7d71\u8a08\u7684\u6709\u610f\u6027\u304c\u9ad8\u3044\u306e\u306f\uff0c\u8cc3\u91d1\u306b\u5bfe\u3057\u3066\u7d4c\u9a13\u306e\u52b9\u679c\u306f\u4f4e\u6e1b\u3059\u308b\u3053\u3068\u3092\u793a\u3057\u3066\u3044\u308b\u3002\n",
                "* `married`\u306e\u4fc2\u6570\u306f\u6b63\u3067\u3042\u308a\uff0c\u512a\u4f4d\u6027\u304c\u5168\u304f\u306a\u3044\u308f\u3051\u3067\u306f\u306a\u3044\u3002\u8cc3\u91d1\u306e\u65e2\u5a5a\u30d7\u30ec\u30df\u30a2\u30e0\u3068\u547c\u3070\u308c\u308b\u3082\u306e\u3067\u3042\u308b\u3002\n",
                "* `union`\u306f\u52b4\u50cd\u7d44\u5408\u306e\u5f71\u97ff\u3092\u793a\u3057\u3066\u3044\u308b\u304c\uff0c\u4e88\u6e2c\u901a\u308a\u3067\u3042\u308b\u3002"
            ]
        },
        {
            "cell_type": "markdown",
            "metadata": {},
            "source": [
                "$R^2$\u3092\u8868\u793a\u3057\u3066\u307f\u308b\u3002"
            ]
        },
        {
            "cell_type": "code",
            "execution_count": null,
            "metadata": {},
            "outputs": [],
            "source": []
        },
        {
            "cell_type": "markdown",
            "metadata": {},
            "source": [
                "\u3053\u306e\u8868\u306b\u3042\u308b$R^2$\u306b\u3064\u3044\u3066\u8aac\u660e\u3059\u308b\u3002\n",
                "* $R^2$\uff1d$R^2(\\text{Within})$\uff1a(\u5f0f\uff13)\u3092\u63a8\u5b9a\u3057\u305f\u969b\u306e$R^2$\u3067\u3042\u308b\uff08$\\ddot{y}_i$\u304c$\\ddot{x}_i$\u306b\u3088\u3063\u3066\u3069\u308c\u3060\u3051\u8aac\u660e\u3055\u308c\u305f\u304b\u3092\u793a\u3059\uff09\u3002\n",
                "* $R^2(\\text{Between})$\uff1a(\u5f0f\uff12)\u3092\u63a8\u5b9a\u3057\u305f\u969b\u306e$R^2$\u3067\u3042\u308b\uff08$\\hat{y}_i$\u304c$\\hat{x}_i$\u306b\u3088\u3063\u3066\u3069\u308c\u3060\u3051\u8aac\u660e\u3055\u308c\u305f\u304b\u3092\u793a\u3059\uff09\u3002\n",
                "* $R^2(\\text{Overall})$\uff1a(\u5f0f\uff11)\u3092\u63a8\u5b9a\u3057\u305f\u969b\u306e$R^2$\u3067\u3042\u308b\uff08${y}_i$\u304c${x}_i$\u306b\u3088\u3063\u3066\u3069\u308c\u3060\u3051\u8aac\u660e\u3055\u308c\u305f\u304b\u3092\u793a\u3059\uff09\u3002"
            ]
        },
        {
            "cell_type": "markdown",
            "metadata": {
                "heading_collapsed": true
            },
            "source": [
                "#### TimeEffects"
            ]
        },
        {
            "cell_type": "markdown",
            "metadata": {
                "hidden": true
            },
            "source": [
                "\u4e0a\u306e\u63a8\u5b9a\u5f0f\u3067\u306f\u6642\u9593\u30c0\u30df\u30fc\u5909\u6570\u3068\u3057\u3066\u4f7f\u3044\uff0c\u89b3\u5bdf\u5358\u4f4d\u5168\u3066\u306b\u5171\u901a\u306a\u6642\u9593\u7684\u306a\u5f71\u97ff\u3092\u6349\u3048\u305f\u3002\u5177\u4f53\u7684\u306b\u306f\uff0c\u30a4\u30f3\u30d5\u30ec\u306b\u3088\u308a\u8cc3\u91d1\u306f\u5909\u5316\u3059\u308b\u304c\uff0c\u305d\u306e\u5909\u5316\u306f\u5168\u3066\u306e\u52b4\u50cd\u8005\u306b\u306f\u5bfe\u3057\u3066\u540c\u3058\u3067\u3042\u308a\uff0c\u305d\u306e\u52b9\u679c\u3092\u6642\u9593\u30c0\u30df\u30fc\u5909\u6570\u304c\u6349\u3048\u3066\u3044\u308b\u3002\u305d\u308c\u3092**\u6642\u9593\u52b9\u679c**\u3068\u547c\u3076\u3002\u3053\u306e\u3088\u3046\u306a\u6642\u9593\u30c0\u30df\u30fc\u5909\u6570\u3092\u52a0\u3048\u305f\u7406\u7531\u306f\uff0c\u6642\u9593\u52b9\u679c\u304c\u4ed6\u306e\u5909\u6570\uff08\u4f8b\u3048\u3070\uff0c`married`\uff09\u306e\u4fc2\u6570\u3092\u300c\u6c5a\u3055\u306a\u3044\u300d\u3088\u3046\u306b\u3059\u308b\u305f\u3081\u3067\u3042\u308a\uff0c\u3088\u308a\u30d4\u30e5\u30a2\u306e\u52b9\u679c\u3092\u63a8\u5b9a\u3059\u308b\u305f\u3081\u3067\u3042\u308b\u3002\u4e00\u65b9\uff0c`linearmodels`\u3067\u306f\uff0c\u308f\u3056\u308f\u3056\u6642\u9593\u30c0\u30df\u30fc\u5909\u6570\u3092\u4f5c\u3089\u305a\u3068\u3082`TimeEffects`\u3092\u56de\u5e30\u5f0f\u306b\u8ffd\u52a0\u3059\u308b\u3053\u3068\u306b\u3088\u308a\uff0c\u6642\u9593\u52b9\u679c\u3092\u81ea\u52d5\u7684\u306b\u300c\u6392\u9664\u300d\u3059\u308b\u3053\u3068\u304c\u3067\u304d\u308b\u3002"
            ]
        },
        {
            "cell_type": "code",
            "execution_count": null,
            "metadata": {},
            "outputs": [],
            "source": [
                "\n",
                "\n",
                ""
            ]
        },
        {
            "cell_type": "markdown",
            "metadata": {
                "hidden": true
            },
            "source": [
                "`result_fe`\u3068\u540c\u3058\u7d50\u679c\u3092\u78ba\u8a8d\u3067\u304d\u308b\u3002$R^2$\u306e\u5024\u306f\u5c11\u3057\u5909\u308f\u3063\u3066\u3044\u308b\u304c\uff0c\u3053\u308c\u306f\u6642\u9593\u30c0\u30df\u30fc\u3092\u5165\u308c\u3066\u8a08\u7b97\u3057\u3066\u3044\u308b\u8a33\u3067\u306f\u306a\u3044\u305f\u3081\u3067\u3042\u308b\u3002"
            ]
        },
        {
            "cell_type": "markdown",
            "metadata": {
                "heading_collapsed": true
            },
            "source": [
                "## \u30c0\u30df\u30fc\u5909\u6570\u30e2\u30c7\u30eb\u3068\u3057\u3066\u306e\u56fa\u5b9a\u52b9\u679c\u30e2\u30c7\u30eb"
            ]
        },
        {
            "cell_type": "markdown",
            "metadata": {
                "hidden": true
            },
            "source": [
                "\u56fa\u5b9a\u52b9\u679c\u63a8\u5b9a\u91cf\u306f\uff0c\u4ed6\u306e\u63a8\u5b9a\u65b9\u6cd5\u3067\u3082\u8a08\u7b97\u3059\u308b\u3053\u3068\u304c\u3067\u304d\u308b\u3002\u305d\u306e\uff11\u3064\u304c\u30c0\u30df\u30fc\u5909\u6570\u63a8\u5b9a\u3067\u3042\u308b\u3002\u30a2\u30a4\u30c7\u30a2\u306f\u7c21\u5358\u3067\uff0c\u89b3\u5bdf\u5358\u4f4d\u306e\u30c0\u30df\u30fc\u5909\u6570\u3092\u4f7f\u3044\u7570\u8cea\u6027\u3092\u6349\u3048\u308b\u306e\u3067\u3042\u308b\u3002\u63a8\u5b9a\u65b9\u6cd5\u3082\u7c21\u5358\u3067\uff0c\uff08\u5f0f\uff11\uff09\u306b\u89b3\u5bdf\u5358\u4f4d\u306e\u30c0\u30df\u30fc\u5909\u6570\u3092\u52a0\u3048\u3066\u901a\u5e38\u306eOLS\u63a8\u5b9a\u3092\u304a\u3053\u306a\u3046\u3060\u3051\u3067\u3042\u308b\u3002\n",
                "\n",
                "\u4e0a\u3067\u4f7f\u3063\u305f`wagepan`\u3092\u4f7f\u3044\u63a8\u5b9a\u3059\u308b\u3002\u307e\u305a\uff0c\u89b3\u5bdf\u5358\u4f4d\u306e\u30c0\u30df\u30fc\u5909\u6570\u3068\u3057\u3066\u63a8\u5b9a\u5f0f\u306b`C(nr)`\u3092\u8ffd\u52a0\u3059\u308b"
            ]
        },
        {
            "cell_type": "code",
            "execution_count": null,
            "metadata": {},
            "outputs": [],
            "source": [
                "\n"
            ]
        },
        {
            "cell_type": "markdown",
            "metadata": {
                "hidden": true
            },
            "source": [
                "`PooledOLS`\u30e2\u30b8\u30e5\u30fc\u30eb\u306e\u95a2\u6570`from_formula`\u3092\u4f7f\u3063\u3066\u63a8\u5b9a\u5f0f\u3092\u5b9a\u7fa9\u3059\u308b\u3002\u3053\u3053\u3067`PooledOLS`\u3068\u306f\uff0c`statsmodels`\u3067\u4f7f\u3046\u901a\u5e38\u306eOLS\u63a8\u5b9a\u3068\u540c\u3058\u3067\u3042\u308b\u3002"
            ]
        },
        {
            "cell_type": "code",
            "execution_count": null,
            "metadata": {},
            "outputs": [],
            "source": []
        },
        {
            "cell_type": "markdown",
            "metadata": {
                "hidden": true
            },
            "source": [
                "`nr`\u306e\u30c0\u30df\u30fc\u5909\u6570\u304c544\u3042\u308b\u305f\u3081\uff0c\u305d\u306e\u307e\u307e\u7d50\u679c\u3092\u8868\u793a\u305b\u305a\u306b\uff0c\u4ee5\u4e0b\u306e\u30bb\u30eb\u306b\u3042\u308b\u30d5\u30a3\u30eb\u30bf\u30fc\u3092\u4f7f\u3044\u30e1\u30a4\u30f3\u306e\u5909\u6570\u3060\u3051\u3092\u8868\u793a\u3059\u308b\u3002\u4e0b\u306e\u30b3\u30fc\u30c9\u306e`filter`\u3067\u4f7f\u3046\uff08`result_dum`\u306b\u7d9a\u304f\uff09\u5c5e\u6027\u30fb\u30e1\u30bd\u30c3\u30c9\u306b\u3064\u3044\u3066\uff1a\n",
                "* `params`\uff1a\u30d1\u30e9\u30e1\u30fc\u30bf\u30fc\u3092\u53d6\u5f97\u3059\u308b\u5c5e\u6027\n",
                "* `index`\uff1a`params`\u306e\u30a4\u30f3\u30c7\u30c3\u30af\u30b9\u3092\u53d6\u5f97\u3059\u308b\u5c5e\u6027\n",
                "* `str`\uff1a`index`\u306b\u3042\u308b\u6587\u5b57\u5217\u3092\u64cd\u4f5c\u53ef\u80fd\u306a\u30aa\u30d6\u30b8\u30a7\u30af\u30c8\u3068\u3057\u3066\u53d6\u5f97\u3059\u308b\u5c5e\u6027\n",
                "* `contains()`\uff1a\u5f15\u6570\u306e\u6587\u5b57\u5217\u304c\u6587\u5b57\u5217\u306e\u4e2d\u306b\u3042\u308b\u5834\u5408`True`\u3092\u8fd4\u3059\u30e1\u30bd\u30c3\u30c9\n",
                "* `( )`\uff1a\u62ec\u5f27\u306e\u4e2d\u3092\u5148\u306b\u8a55\u4fa1\u3059\u308b\u3068\u3044\u3046\u610f\u5473\n",
                "* `tolist()`\uff1a\u30ea\u30b9\u30c8\u306b\u5909\u63db\u3059\u308b\u30e1\u30bd\u30c3\u30c9"
            ]
        },
        {
            "cell_type": "code",
            "execution_count": null,
            "metadata": {},
            "outputs": [],
            "source": [
                "\n"
            ]
        },
        {
            "cell_type": "markdown",
            "metadata": {
                "hidden": true
            },
            "source": [
                "\uff13\u3064\u306e\u5909\u6570`I(exper**2)`\uff0c`married`\uff0c`union`\u306e\u4fc2\u6570\u306f\u56fa\u5b9a\u52b9\u679c\u30e2\u30c7\u30eb\u3068\u7b49\u3057\u3044\u3053\u3068\u304c\u78ba\u8a8d\u3067\u304d\u308b\u3002\n",
                "\n",
                "t\u5024\u3068p\u5024\u306e\u8868\u793a\u306b\u306f\u6b21\u306e\u30b3\u30fc\u30c9\u3092\u4f7f\u3046\u3002\n",
                "* t\u5024\uff1a`result_dum.tstats[filter]`\n",
                "* p\u5024\uff1a`result_dum.pvalues[filter]`\n",
                "\n",
                "\u3053\u306e\u5834\u5408\uff0c`educ`\u7b49\u306e\u6642\u9593\u306b\u5bfe\u3057\u3066\u4e0d\u5909\u306e\u5909\u6570\u3082\u63a8\u5b9a\u5f0f\u306b\u52a0\u3048\u308b\u3053\u3068\u304c\u53ef\u80fd\u3067\u3042\u308b\u3002\u4e00\u65b9\uff0c\u3053\u306e\u65b9\u6cd5\u306f\u30d1\u30e9\u30e1\u30fc\u30bf\u30fc\u306e\u6570\u306f544+11=555\u3042\u308a\uff0c\u81ea\u7531\u5ea6\u304c\u975e\u5e38\u306b\u4f4e\u304f\u306a\u308b\u306e\u304c\u6b20\u70b9\u3067\u3042\u308b\u3002\n",
                "\n",
                "\n",
                "\uff08\u6ce8\u610f\uff09\n",
                "\n",
                "\u3053\u306e\u63a8\u5b9a\u5f0f\u306b\u6642\u9593\u306b\u5bfe\u3057\u3066\u4e0d\u5909\u306e\u5909\u6570\uff08\u4f8b\u3048\u3070\uff0c`educ`\uff0c`blac`\uff0c`hisp`\uff0c`exper`\uff09\u3092\u8ffd\u52a0\u3059\u308b\u3068\u63a8\u5b9a\u3067\u304d\u306a\u3044\uff08\u30a8\u30e9\u30fc\u304c\u767a\u751f\u3059\u308b\uff09\u3002\u7406\u7531\u306f\uff0c\u305d\u308c\u3089\u306e\u5909\u6570\u306f`nr`\u30c0\u30df\u30fc\u5909\u6570\u3068\u5b8c\u5168\u306b\u540c\u3058\u52d5\u304d\u3092\u3059\u308b\u305f\u3081\u3067\u3042\u308b\u3002"
            ]
        },
        {
            "cell_type": "markdown",
            "metadata": {
                "heading_collapsed": true
            },
            "source": [
                "## \u30e9\u30f3\u30c0\u30e0\u52b9\u679c\u30e2\u30c7\u30eb"
            ]
        },
        {
            "cell_type": "markdown",
            "metadata": {
                "heading_collapsed": true,
                "hidden": true
            },
            "source": [
                "### \u8aac\u660e"
            ]
        },
        {
            "cell_type": "markdown",
            "metadata": {
                "hidden": true
            },
            "source": [
                "\u3053\u3053\u3067\u306f\uff0c\u30d1\u30cd\u30eb\u30fb\u30c7\u30fc\u30bf\u3092\u4f7f\u3044\u63a8\u5b9a\u3059\u308b\u30e9\u30f3\u30c0\u30e0\u52b9\u679c\u30e2\u30c7\u30eb\uff08Random Effects Model; RE Model\uff09\u3092\u89e3\u8aac\u3059\u308b\u3002\u3082\u3046\u4e00\u5ea6\uff08\u5f0f\uff11\uff09\u3092\u8003\u3048\u3088\u3046\u3002\n",
                "\n",
                "\uff08\u4eee\u5b9a\uff09 $a_i$\u306f\u89b3\u5bdf\u5358\u4f4d $i$ \u306b\u5bfe\u3057\u3066\u4e00\u5b9a\u3067\u3042\u308b\u304c\uff0c$i$\u306b\u3088\u3063\u3066\u305d\u306e\u5024\u306f\u7570\u306a\u308b\u3002\n",
                "\n",
                "\uff1c\u56fa\u5b9a\u52b9\u679c\u30e2\u30c7\u30eb\u306e\u4eee\u5b9a\uff1e\n",
                "* $\\text{Cov}\\left(a_ix_{it}\\right)\\neq 0,\\quad t=1,2,...,T$\n",
                "\n",
                "\uff1c\u30e9\u30f3\u30c0\u30e0\u52b9\u679c\u30e2\u30c7\u30eb\u306e\u4eee\u5b9a\uff1e\n",
                "* $\\text{Cov}\\left(a_ix_{it}\\right)=0,\\quad t=1,2,...,T$"
            ]
        },
        {
            "cell_type": "markdown",
            "metadata": {
                "hidden": true
            },
            "source": [
                "---\n",
                "\u3053\u306e\u9055\u3044\u3092\u5ff5\u982d\u306b\uff08\u5f0f\uff11\uff09\u3092\u6b21\u5f0f\u306b\u66f8\u304d\u63db\u3048\u308b\u3002\n",
                "\n",
                "$$y_{it}= \\beta_0 + \\beta_1x_{it}+e_{it}\\qquad\\qquad\\left(\\text{\u5f0f\uff14}\\right)$$\n",
                "\n",
                "\u3053\u3053\u3067\uff0c\n",
                "\n",
                "$$e_{it}=a_i+u_{it}$$\n",
                "\n",
                "\u3057\u304b\u3057\uff0c\n",
                "\n",
                "$$\\text{Corr}\\left(e_{it},e_{is}\\right)\\neq 0,\\quad t\\neq s$$\n",
                "\n",
                "\u3068\u306a\u308b\u3053\u3068\u304c\u793a\u305b\u308b\u3002\u5373\u3061\uff0c\u8aa4\u5dee\u9805\u304c\u81ea\u5df1\u76f8\u95a2\u3059\u308b\u3053\u3068\u306b\u306a\u308b\u3002\n",
                "\n",
                "\uff1c\u542b\u610f\uff1e\n",
                "* $a_i$\u3068$x_{it}$\u306b\u76f8\u95a2\u304c\u306a\u3044\u305f\u3081\u6b21\u306e\u63a8\u5b9a\u65b9\u6cd5\u3067\u4e00\u81f4\u6027\u3092\u6e80\u305f\u3059\u63a8\u5b9a\u91cf\u3092\u8a08\u7b97\u3067\u304d\u308b\u3002\n",
                "    * \uff11\u3064\u306e\u6642\u70b9\u3067\u304a\u6a2a\u65ad\u9762\u30c7\u30fc\u30bf\u3092\u4f7f\u3044OLS\u63a8\u5b9a\uff08\u3067\u3082\u4ed6\u306e\u30c7\u30fc\u30bf\u306f\u3069\u3046\u3059\u308b\uff1f\uff09\n",
                "    * \u5168\u3066\u306e\u30c7\u30fc\u30bf\u3092\u4f7f\u3044\u4f55\u306e\u533a\u5225\u3082\u306a\u304f\u30d7\u30fc\u30eb\u3059\u308bPooled OLS\u63a8\u5b9a\uff08\u3057\u304b\u3057\u30d1\u30cd\u30eb\u30fb\u30c7\u30fc\u30bf\u306e\u7279\u6027\u3092\u6709\u52b9\u5229\u7528\u3057\u3066\u3044\u306a\u3044\uff09\u3002\n",
                "* \u6642\u7cfb\u5217\u30c7\u30fc\u30bf\u3092\u6271\u3046\u5834\u5408\uff0c\u81ea\u5df1\u76f8\u95a2\u306b\u3088\u308aOLS\u63a8\u5b9a\u91cf\u306f\u52b9\u7387\u6027\u304c\u4f4e\u304f\u306a\u308b\u3002\u3053\u308c\u306f\u6a2a\u65ad\u9762\u30c7\u30fc\u30bf\u3092\u6271\u3046\u969b\u306e\u4e0d\u5747\u4e00\u5206\u6563\u304c\u5f15\u304d\u8d77\u3053\u3059\u554f\u984c\u3068\u4f3c\u3066\u3044\u308b\u3002\n",
                "* \uff11\u968e\u5dee\u5206\u63a8\u5b9a\u3084\u56fa\u5b9a\u52b9\u679c\u63a8\u5b9a\u3092\u4f7f\u3046\u5fc5\u8981\u306f\u306a\u304f\uff0c\u4f7f\u3046\u3068\u52b9\u7387\u6027\u304c\u4f4e\u3044\u63a8\u5b9a\u91cf\u3068\u306a\u308b\u3002\n",
                "* \u5f93\u3063\u3066\uff0c\u554f\u984c\u306f\u6b21\u306e\u70b9\uff1a\n",
                "    * \u3088\u308a\u52b9\u7387\u6027\u304c\u9ad8\u3044\u63a8\u5b9a\u65b9\u6cd5\u306f\u3069\u306e\u3088\u3046\u306a\u3082\u306e\u304b\u3002"
            ]
        },
        {
            "cell_type": "markdown",
            "metadata": {
                "hidden": true
            },
            "source": [
                "---\n",
                "\u305d\u306e\u65b9\u6cd5\u304c\u30e9\u30f3\u30c0\u30e0\u52b9\u679c\u63a8\u5b9a\u3068\u8a00\u308f\u308c\u308b\u3082\u306e\u3067\uff0c\u56fa\u5b9a\u52b9\u679c\u306e\u3088\u3046\u306b\uff0c\u5909\u6570\u3092\u5e73\u5747\u304b\u3089\u306e**\u90e8\u5206\u7684**\u306a\u4e56\u96e2\u306b\u5909\u63db\u3059\u308b\u3053\u3068\u306b\u3088\u308a\u53ef\u80fd\u3068\u306a\u308b\u3002\u5177\u4f53\u7684\u306b\u306f\uff0c\u6b21\u5f0f\u304c\u63a8\u5b9a\u5f0f\u3068\u306a\u308b\u3002\n",
                "\n",
                "$$\\overset{\\circ}{y}_{it}=\\beta_0(1-\\theta)+\\beta_1\\overset{\\circ}{y}_{it}+\\overset{\\circ}{e}_{it}\\qquad\\qquad\\left(\\text{\u5f0f\uff15}\\right)$$\n",
                "\n",
                "\u3053\u3053\u3067\n",
                "* $\\overset{\\circ}{y}_{it}=y_{it}-\\theta\\bar{y}_i$\n",
                "* $\\overset{\\circ}{x}_{it}=x_{it}-\\theta\\bar{x}_i$\n",
                "* $\\overset{\\circ}{e}_{it}=e_{it}-\\theta\\bar{e}_i$\n",
                "\n",
                "\u306f\u5909\u6570\u306e\u5e73\u5747\u304b\u3089\u306e\u90e8\u5206\u7684\u306a\u4e56\u96e2\u3067\u3042\u308a\uff0c\u4e56\u96e2\u306e\u5ea6\u5408\u3044\u3092\u6c7a\u3081\u308b\u5909\u6570$\\theta$\u306f\n",
                "\n",
                " $$\\theta = 1-\\sqrt{\\frac{\\sigma_u^2}{\\sigma_u^2+T\\sigma_a^2}}$$\n",
                "\n",
                "\u3068\u5b9a\u7fa9\u3055\u308c\u308b\u3002$\\sigma_u^2$\u306f$u_{it}$\u306e\u5206\u6563\uff0c$\\sigma_a^2$\u306f$a_{i}$\u306e\u5206\u6563\u3067\u3042\u308b\u3002\n",
                "\n"
            ]
        },
        {
            "cell_type": "markdown",
            "metadata": {
                "hidden": true
            },
            "source": [
                "\uff08\u76f4\u611f\uff09\n",
                "* $\\sigma_a^2=0$\u306e\u5834\u5408$\\theta=0$\u3068\u306a\u308a\uff0c$a_i$\u306f$i$\u306b\u5bfe\u3057\u3066\u4e00\u5b9a\u3067\u3042\u308a\u89b3\u5bdf\u5358\u4f4d\u306e\u7570\u8cea\u6027\u306f\u306a\u3044\u3068\u3044\u3046\u3053\u3068\u3067\u3042\u308b\u3002\u305d\u306e\u5834\u5408\u306f\uff0c\u901a\u5e38\u306eOLS\u3067\u63a8\u5b9a\u3059\u308b\u3053\u3068\u304c\u30d9\u30b9\u30c8\u3068\u306a\u308b\u3002\n",
                "* $\\sigma_a^2$\u304c\u5897\u52a0\u3059\u308b\u3068$\\theta$\u306f\u5927\u304d\u304f\u306a\u308a\uff0c\u3088\u308a\u5927\u304d\u306a\u5e73\u5747\u304b\u3089\u306e\u4e56\u96e2\u304c\u5fc5\u8981\u3068\u306a\u308b\u3002\u6975\u7aef\u306a\u5834\u5408\uff0c$\\sigma_a^2$\u304c\u7121\u9650\u5927\u306b\u8fd1\u3065\u304f\u3068\uff0c$\\theta=1$\u3068\u306a\u308a$\\overset{\\circ}{y}=\\ddot{y}$\u3068\u306a\u308b\u3002\u5373\u3061\uff0c\u56fa\u5b9a\u52b9\u679c\u30e2\u30c7\u30eb\u306f\u30e9\u30f3\u30c0\u30e0\u52b9\u679c\u30e2\u30c7\u30eb\u306e\u6975\u7aef\u306a\u5834\u5408\u3068\u89e3\u91c8\u3067\u304d\u308b\u3002\n",
                "\n",
                "\uff08\u6ce8\u610f\uff09\n",
                "* $\\theta$\u306f\u4e8b\u524d\u306b\u306f\u308f\u304b\u3089\u306a\u3044\u305f\u3081\u63a8\u5b9a\u3059\u308b\u5fc5\u8981\u304c\u3042\u308b\uff08`linearmodels`\u304c\u81ea\u52d5\u7684\u306b\u8a08\u7b97\u3059\u308b\uff09\u3002"
            ]
        },
        {
            "cell_type": "markdown",
            "metadata": {
                "hidden": true
            },
            "source": [
                "\uff1c\u4eee\u5b9a\u3068\u63a8\u5b9a\u91cf\u306e\u6027\u8cea\uff1e\n",
                "1. (\u5f0f\uff11)\u306e\u3088\u3046\u306b\u56de\u5e30\u5f0f\u306f\u7dda\u5f62\n",
                "1. \u6a19\u672c\u306e\u30e9\u30f3\u30c0\u30e0\u62bd\u51fa\n",
                "1. \u8aac\u660e\u5909\u6570\u9593\u306e\u5b8c\u5168\u591a\u91cd\u5171\u7dda\u6027\u306f\u5b58\u5728\u3057\u306a\u3044\u3002\n",
                "1. \u8aac\u660e\u5909\u6570\u3092\u6240\u4e0e\u3068\u3057\u3066$a_i$\u306e\u5e73\u5747\u306f\u4e00\u5b9a\u3002\uff08\u5f93\u3063\u3066\u3001$\\text{Cov}\\left(a_ix_{it}\\right)= 0$\u3002\uff09\n",
                "\n",
                "\u3053\u306e\u4eee\u5b9a\u306e\u4e0b\u3067\uff0cRE\u63a8\u5b9a\u91cf $\\hat{\\beta}_1$ \u306f\n",
                "* \u4e00\u81f4\u6027\u3092\u6e80\u305f\u3059\u3002\u3057\u304b\u3057\u4e0d\u504f\u6027\u306f\u6e80\u305f\u3055\u306a\u3044\u3002\n",
                "\n",
                "\n",
                "<br>\n",
                "\n",
                "---\n",
                "\uff08\u826f\u3044\u70b9\uff09\n",
                "* \u6642\u9593\u306b\u5bfe\u3057\u3066\u4e0d\u5909\u306e\u8aac\u660e\u5909\u6570\u304c\u3042\u3063\u3066\u3082\u305d\u306e\u4fc2\u6570\u3092\u63a8\u5b9a\u3067\u304d\u308b\u3002"
            ]
        },
        {
            "cell_type": "markdown",
            "metadata": {
                "hidden": true
            },
            "source": [
                "### \u63a8\u5b9a"
            ]
        },
        {
            "cell_type": "markdown",
            "metadata": {
                "hidden": true
            },
            "source": [
                "`exper`\uff0c`educ`\uff0c`black`\uff0c`hisp`\u3092\u52a0\u3048\u3066\u56de\u5e30\u5f0f\u3092\u5b9a\u7fa9\u3059\u308b\u3002\n",
                "\n",
                "\uff08\u6ce8\u610f\uff09\n",
                "\n",
                "\u6642\u9593\u30c0\u30df\u30fc\u5909\u6570\u306e\u4ee3\u308f\u308a\u306b`TimeEffects`\u3092\u4f7f\u308f\u306a\u3044\u3088\u3046\u306b\u3002\u5165\u308c\u308b\u3053\u3068\u304c\u3067\u304d\u307e\u3059\u304c\uff0c\u305d\u306e\u3088\u3046\u306a\u4ed5\u69d8\u306b\u306a\u3063\u3066\u3044\u307e\u305b\u3093\u3002"
            ]
        },
        {
            "cell_type": "code",
            "execution_count": null,
            "metadata": {},
            "outputs": [],
            "source": [
                "\n",
                "\n",
                ""
            ]
        },
        {
            "cell_type": "markdown",
            "metadata": {
                "hidden": true
            },
            "source": [
                "`RandomEffects`\u306e\u30e2\u30b8\u30e5\u30fc\u30eb\u306b\u3042\u308b\u95a2\u6570`from_formula`\u3092\u4f7f\u3044\u8a08\u7b97\u3059\u308b\u3002"
            ]
        },
        {
            "cell_type": "code",
            "execution_count": null,
            "metadata": {},
            "outputs": [],
            "source": []
        },
        {
            "cell_type": "markdown",
            "metadata": {
                "hidden": true
            },
            "source": [
                "\u7d50\u679c\u306e\u8868\u793a\u3002"
            ]
        },
        {
            "cell_type": "code",
            "execution_count": null,
            "metadata": {},
            "outputs": [],
            "source": []
        },
        {
            "cell_type": "markdown",
            "metadata": {
                "hidden": true
            },
            "source": [
                "\u7d50\u679c\u306e\u89e3\u91c8\u306f\u4e0b\u3067\u3059\u308b\u3002\n",
                "\n",
                "RE\u63a8\u5b9a\u3067\u306f$\\theta$\u304c\u91cd\u8981\u306a\u5f79\u76ee\u3092\u679c\u305f\u3059\u304c\uff0c\u305d\u306e\u5024\u306f`result_re`\u306e\u5c5e\u6027`theta`\u3092\u4f7f\u3046\u3053\u3068\u306b\u3088\u308a`DataFrame`\u306e\u5f62\u3067\u8868\u793a\u3067\u304d\u308b\u3002\n",
                "* balanced panel data\u306e\u5834\u5408\uff0c`theta`\u306e\u5024\u306f\u4e00\u610f\u3067\u6c7a\u307e\u308b\u3002\n",
                "* unbalanced panel data\u306e\u5834\u5408\uff0c`theta`\u306f\u89b3\u5bdf\u5358\u4f4d\u6bce\u306b\u8a08\u7b97\u3055\u308c\u308b\u3002"
            ]
        },
        {
            "cell_type": "code",
            "execution_count": null,
            "metadata": {},
            "outputs": [],
            "source": []
        },
        {
            "cell_type": "markdown",
            "metadata": {
                "hidden": true
            },
            "source": [
                "\u4e0a\u3067\u8aac\u660e\u3057\u305f\u304c$\\theta$\u306f$u_a$\u3068$u_it$\u306e\u5206\u6563\u3067\u3042\u308b$\\sigma_a^2$\u3068$\\sigma_u^2$\u306b\u4f9d\u5b58\u3059\u308b\u3002\u305d\u308c\u3089\u306e\u5024\u306f\uff0c\u5c5e\u6027`variance_decomposition`\u3092\u8868\u793a\u3067\u304d\u308b\u3002\u4ee5\u4e0b\u306e\u8fd4\u308a\u5024\u306e\u5185\u5bb9\uff1a\n",
                "* `Effects`\uff1a$\\sigma_a^2$\n",
                "* `Residual`\uff1a$\\sigma_u^2$\n",
                "* `Percept due to Effects`\uff1a$\\dfrac{\\sigma_a^2}{\\sigma_a^2+\\sigma_u^2}$"
            ]
        },
        {
            "cell_type": "code",
            "execution_count": null,
            "metadata": {},
            "outputs": [],
            "source": []
        },
        {
            "cell_type": "markdown",
            "metadata": {
                "heading_collapsed": true
            },
            "source": [
                "## \u76f8\u95a2\u30e9\u30f3\u30c0\u30e0\u52b9\u679c\u30e2\u30c7\u30eb"
            ]
        },
        {
            "cell_type": "markdown",
            "metadata": {
                "heading_collapsed": true,
                "hidden": true
            },
            "source": [
                "### \u8aac\u660e"
            ]
        },
        {
            "cell_type": "markdown",
            "metadata": {
                "hidden": true
            },
            "source": [
                "\u76f8\u95a2\u30e9\u30f3\u30c0\u30e0\u52b9\u679c\u30e2\u30c7\u30eb\uff08CRE\u30e2\u30c7\u30eb\uff09\u306f\uff0c\u56fa\u5b9a\u52b9\u679c\u30e2\u30c7\u30eb\u3068\u30e9\u30f3\u30c0\u30e0\u52b9\u679c\u30e2\u30c7\u30eb\u306e\u4e2d\u9593\u7684\u306a\u4f4d\u7f6e\u306b\u3042\u308a\uff0c\u4e21\u65b9\u3092\u5305\u542b\u3057\u3066\u3044\u308b\u3002\uff08\u5f0f\uff11\uff09\u3092\u8003\u3048\u3088\u3046\u3002\u66f4\u306b\uff0c\u89b3\u5bdf\u4e0d\u53ef\u80fd\u306a\u56fa\u5b9a\u52b9\u679c$a_i$\u306f\u8aac\u660e\u5909\u6570\u3068\u6b21\u306e\u95a2\u4fc2\u306b\u3042\u308b\u3068\u4eee\u5b9a\u3059\u308b\u3002\n",
                "\n",
                "$$a_i = \\alpha + \\gamma\\bar{x}_{it} + r_i\\qquad\\text{(\u5f0f\uff15)}$$\n",
                "\n",
                "* $\\bar{x}_i=\\dfrac{1}{T}\\sum_{t=1}^Tx_{it}$\u306f\u8aac\u660e\u5909\u6570\u306e\u5e73\u5747\n",
                "* $\\gamma$\u306f$a_i$\u3068$x_{it}$\u306e\u76f8\u95a2\u95a2\u4fc2\u3092\u6349\u3048\u308b\u4fc2\u6570\n",
                "* $r_i$\u306f\u8aac\u660e\u5909\u6570$x_{it}$\u3068\u76f8\u95a2\u3057\u306a\u3044\u3068\u4eee\u5b9a\uff0c\u5373\u3061\uff0c$\\text{Cov}\\left(r_i\\bar{x}_{it}\\right)$\n",
                "\n",
                "\uff08\u5f0f\uff15\uff09\u3092\uff08\u5f0f\uff11\uff09\u306b\u4ee3\u5165\u3059\u308b\u3068\u6b21\u5f0f\u3092\u5f97\u308b\u3002\n",
                "\n",
                "$$y_{it}=\\alpha+\\beta x_{it} + \\gamma\\bar{x}_i + v_{it}\\qquad\\text{(\u5f0f\uff16)}$$\n",
                "\n",
                "\u3053\u3053\u3067\n",
                "\n",
                "$$v_{it}=r_i + u_{it}$$"
            ]
        },
        {
            "cell_type": "markdown",
            "metadata": {
                "hidden": true
            },
            "source": [
                "\uff08\u542b\u610f\uff09\n",
                "* $\\text{Cov}\\left(r_i,\\bar{x}_{it}\\right)\\;\\Rightarrow\\;\\text{Cov}\\left(v_i,\\bar{x}_{it}\\right)$\n",
                "* RE\u30e2\u30c7\u30eb\u3068\u540c\u3058\u69cb\u9020\u3068\u306a\u3063\u3066\u304a\u308a\uff0c\u9055\u3044\u306f$\\bar{x}_i$\u304c\u8ffd\u52a0\u3055\u308c\u3066\u3044\u308b\u3002\n",
                "    * `linearmodels`\u306e`RandomEffects`\u30e2\u30b8\u30e5\u30fc\u30eb\u304c\u4f7f\u3048\u308b\u3002\n",
                "* \u6b21\u306e\u7d50\u679c\u304c\u6210\u7acb\u3059\u308b\u3002\n",
                "\n",
                "    $$\\hat{\\beta}_{FE}=\\hat{\\beta}_{CRE}$$\n",
                "    \n",
                "    * $\\hat{\\beta}_{FE}$\uff1a\u56fa\u5b9a\u52b9\u679c\u63a8\u5b9a\u91cf\n",
                "    * $\\hat{\\beta}_{CRE}$\uff1a\u76f8\u95a2\u30e9\u30f3\u30c0\u30e0\u52b9\u679c\u63a8\u5b9a\u91cf\n",
                "    * \u3053\u306e\u7d50\u679c\u306f\uff0c\u6642\u9593\u306b\u5bfe\u3057\u3066\u4e0d\u5909\u306a\u5909\u6570\uff08\u4f8b\u3048\u3070\uff0c`black`\uff09\u3092**\u542b\u3081\u3066\u3082**\u6210\u7acb\u3059\u308b"
            ]
        },
        {
            "cell_type": "markdown",
            "metadata": {
                "heading_collapsed": true,
                "hidden": true
            },
            "source": [
                "### \u63a8\u5b9a"
            ]
        },
        {
            "cell_type": "markdown",
            "metadata": {
                "hidden": true
            },
            "source": [
                "\u307e\u305a $\\bar{x}_i$ \u3092\u8a08\u7b97\u3057\uff0c\u305d\u308c\u3092`wagepan`\u306b\u8ffd\u52a0\u3059\u308b\u3002\u305d\u306e\u305f\u3081\u306b\u6b21\u306e\u95a2\u6570\u3092\u5b9a\u7fa9\u3059\u308b\u3002\n",
                "\n",
                "\uff08\u89e3\u8aac\uff09\n",
                "\n",
                "* (1)\uff1a\u95a2\u6570\u306e\u5f15\u6570\n",
                "    * `dframe`\uff1a\u30c7\u30fc\u30bf\u30d5\u30ec\u30fc\u30e0\n",
                "    * `ori_col`\uff1a\u5e73\u5747\u3092\u8a08\u7b97\u3057\u305f\u3044\u5217\n",
                "    * `new_col`\uff1a\u8a08\u7b97\u3057\u305f\u5e73\u5747\u3092\u5165\u308c\u308b\u5217\n",
                "* (2)\uff1a`ori_col`\u3092\u30b0\u30eb\u30fc\u30d7\u5316\u3057\uff0c\u30b0\u30eb\u30fc\u30d7\u540d\u3068\u30b0\u30eb\u30fc\u30d7\u5e73\u5747\u304b\u3089\u306a\u308b\u8f9e\u66f8\u306e\u4f5c\u6210\n",
                "    * `groupby(level=0)`\uff1a\u884c\u306e\u7b2c\uff11\u30a4\u30f3\u30c7\u30c3\u30af\u30b9\u306b\u5f93\u3063\u3066\u30b0\u30eb\u30fc\u30d7\u5316\n",
                "    * `mean()`\uff1a\u30b0\u30eb\u30fc\u30d7\u5e73\u5747\u306e\u8a08\u7b97\n",
                "    * `to_dict()`\uff1a\u884c\u306e\u7b2c\uff11\u30a4\u30f3\u30c7\u30c3\u30af\u30b9\u306b\u3042\u308b\u30b0\u30eb\u30fc\u30d7\u540d\u3092`key`\uff0c\u30b0\u30eb\u30fc\u30d7\u5e73\u5747\u3092`value`\u306b\u3059\u308b\u8f9e\u66f8\u306e\u4f5c\u6210\n",
                "* (3)\uff1a\u884c\u306e\u7b2c\uff11\u30a4\u30f3\u30c7\u30c3\u30af\u30b9\u306b\u8a72\u5f53\u3059\u308b\u30b0\u30eb\u30fc\u30d7\u5e73\u5747\u304c\u4e26\u3076\u30ea\u30b9\u30c8\u306e\u4f5c\u6210\n",
                "    * `index.get_level_values(0)`\uff1a\u884c\u306e\u7b2c\uff11\u30a4\u30f3\u30c7\u30c3\u30af\u30b9\u306e\u5024\u3092\u53d6\u5f97\n",
                "    * `to_series()`\uff1a`series`\u306b\u5909\u63db\n",
                "    * `map(dict)`\uff1a`dict`\u306e\u5185\u5bb9\u306b\u5f93\u3063\u3066\u4e0a\u306e`series`\u306e\u5024\u3092\u30b0\u30eb\u30fc\u30d7\u5e73\u5747\u306b\u5165\u308c\u66ff\u3048\u308b\n",
                "    * `tolist()`\uff1a\u30ea\u30b9\u30c8\u306b\u5909\u63db\n",
                "* (4)\uff1a`dframe`\u306b\u30b0\u30eb\u30fc\u30d7\u5e73\u5747\u304c\u4e26\u3076\u65b0\u3057\u3044\u5217\u304c\u8ffd\u52a0\u3057\uff0c\u305d\u306e\u30e9\u30d9\u30eb\u3092`new_col`\u3068\u3059\u308b\n",
                "* (5)\uff1a`DataFrame`\u3092\u8fd4\u3059"
            ]
        },
        {
            "cell_type": "code",
            "execution_count": null,
            "metadata": {},
            "outputs": [],
            "source": [
                "\n",
                "\n",
                "",
                "",
                "",
                "",
                ""
            ]
        },
        {
            "cell_type": "markdown",
            "metadata": {
                "hidden": true
            },
            "source": [
                "\u3053\u306e\u95a2\u6570\u3092\u4f7f\u3044\uff0c`married`\uff0c`union`\uff0c`expersq`\u306e\u5e73\u5747\u3092\u8a08\u7b97\u3057`wagepan`\u306b\u8ffd\u52a0\u3059\u308b\u3002\n",
                "\n",
                "\uff08\u30b3\u30e1\u30f3\u30c8\uff09`exper`\u306f\u542b\u3081\u306a\u3044\u3002"
            ]
        },
        {
            "cell_type": "code",
            "execution_count": null,
            "metadata": {},
            "outputs": [],
            "source": [
                "\n",
                "\n",
                ""
            ]
        },
        {
            "cell_type": "markdown",
            "metadata": {
                "hidden": true
            },
            "source": [
                "CRE\u63a8\u5b9a\u3068\u7d50\u679c\u306e\u8868\u793a"
            ]
        },
        {
            "cell_type": "code",
            "execution_count": null,
            "metadata": {},
            "outputs": [],
            "source": [
                "\n",
                "\n",
                "",
                "",
                "",
                "",
                ""
            ]
        },
        {
            "cell_type": "markdown",
            "metadata": {
                "heading_collapsed": true,
                "hidden": true
            },
            "source": [
                "### \uff12\u3064\u306e\u5229\u70b9"
            ]
        },
        {
            "cell_type": "markdown",
            "metadata": {
                "hidden": true
            },
            "source": [
                "CRE\u30e2\u30c7\u30eb\u306e\uff12\u3064\u306e\u5229\u70b9\u3092\u89e3\u8aac\u3059\u308b\u3002"
            ]
        },
        {
            "cell_type": "markdown",
            "metadata": {
                "heading_collapsed": true,
                "hidden": true
            },
            "source": [
                "#### FE\u5bfeRE\u691c\u5b9a"
            ]
        },
        {
            "cell_type": "markdown",
            "metadata": {
                "hidden": true
            },
            "source": [
                "FE\u30e2\u30c7\u30eb\u3068RE\u30e2\u30c7\u30eb\u306e\u3069\u3061\u3089\u304c\u9069\u3057\u3066\u3044\u308b\u304b\u3092\u8abf\u3079\u308b\u3053\u3068\u304c\u3067\u304d\u308bHausman\u691c\u5b9a\u3068\u3044\u3046\u3082\u306e\u304c\u3042\u308b\u3002CRE\u30e2\u30c7\u30eb\u3092\u4f7f\u3046\u3053\u3068\u306b\u3088\u308a\uff0c\u540c\u69d8\u306e\u691c\u5b9a\u304c\u7c21\u5358\u306b\u884c\u3048\u308b\u3002\uff08\u5f0f\uff16\uff09\u3092\u8003\u3048\u3088\u3046\u3002\n",
                "* $\\gamma=0$\u306e\u5834\u5408\uff0cRE\u30e2\u30c7\u30eb\u306e\uff08\u5f0f\uff15\uff09\u3068\u540c\u3058\u306b\u306a\u308a\uff0cRE\u30e2\u30c7\u30eb\u304c\u59a5\u5f53\u3068\u3044\u3046\u3053\u3068\u306b\u306a\u308b\u3002\n",
                "* $\\gamma\\neq 0$\u306e\u5834\u5408\uff0c$a_i$\u3068$\\bar{x}_{i}$\u306f\u76f8\u95a2\u3059\u308b\u3053\u3068\u306b\u306a\u308a\uff0c\u3053\u308c\u306f$\\text{Cov}\\left(a_i,{x}_{it}\\right)\\neq 0$\u3092\u610f\u5473\u3057\uff0cRE\u30e2\u30c7\u30eb\u304c\u59a5\u5f53\u306a\u63a8\u5b9a\u65b9\u6cd5\u3068\u306a\u308b\u3002\n",
                "\n",
                "\u3053\u306e\u8003\u3048\u3092\u5229\u7528\u3057\u3066\uff0c\u6b21\u306e\u5e30\u7121\u4eee\u8aac\u3068\u5bfe\u7acb\u4eee\u8aac\u306e\u3082\u3068\u3067$\\gamma$\u306e\u512a\u4f4d\u6027\u3092\u8abf\u3079\u308b\u3002\n",
                "* $\\text{H}_0:\\;\\text{Cov}\\left(a_i,x_{it}\\right)=0$\n",
                "* $\\text{H}_a:\\;\\text{Cov}\\left(a_i,x_{it}\\right)\\neq 0$\n",
                "\n",
                "\uff08\u30b3\u30e1\u30f3\u30c8\uff09\n",
                "* $\\gamma=0$\u3092\u68c4\u5374\u3067\u304d\u308c\u3070\u4e0a\u306e$\\text{H}_0$\u3092\u68c4\u5374\u3067\u304d\u308b\u3002\n",
                "* \u5e73\u5747\u306e\u5909\u6570\u304c$k$\u3042\u308b\u5834\u5408\u306f\uff0c$\\gamma_1=\\gamma_2=\\cdots=\\gamma_k=0$\u3092\u691c\u5b9a\u3059\u308b\u3002"
            ]
        },
        {
            "cell_type": "markdown",
            "metadata": {
                "hidden": true
            },
            "source": [
                "`result_cre`\u306e\u30e1\u30bd\u30c3\u30c9`wald_test()`\u3092\u4f7f\u3046\u3002\u5f15\u6570\u306b\u306f\u6587\u5b57\u5217\u3067\u6307\u5b9a\u3059\u308b\u3002"
            ]
        },
        {
            "cell_type": "code",
            "execution_count": null,
            "metadata": {},
            "outputs": [],
            "source": [
                "# \u691c\u5b9a\u3059\u308b\u4fc2\u6570\u306e\u5024\u3092\u8a2d\u5b9a\u3059\u308b\n",
                "\n",
                "\n",
                "# \u691c\u5b9a\u7d50\u679c\u3092\u8868\u793a\u3059\u308b\n"
            ]
        },
        {
            "cell_type": "markdown",
            "metadata": {
                "hidden": true
            },
            "source": [
                "p\u5024\u304c\u975e\u5e38\u306b\u5c0f\u3055\u3044\u306e\u3067\uff0c\u5e30\u7121\u4eee\u8aac\u306f\u68c4\u5374\u3067\u304d\u308b\u3002\u5f93\u3063\u3066\uff0cFE\u30e2\u30c7\u30eb\u304c\u59a5\u5f53\u3060\u3068\u7d50\u8ad6\u3065\u3051\u308b\u3053\u3068\u304c\u3067\u304d\u308b\u3002"
            ]
        },
        {
            "cell_type": "markdown",
            "metadata": {
                "heading_collapsed": true,
                "hidden": true
            },
            "source": [
                "#### \u4e00\u5b9a\u306a\u5909\u6570\u3092\u542b\u3081\u308b"
            ]
        },
        {
            "cell_type": "markdown",
            "metadata": {
                "hidden": true
            },
            "source": [
                "\uff08\u5f0f\uff16\uff09\u306b\u6642\u9593\u306b\u5bfe\u3057\u3066\u4e00\u5b9a\u306f\u5909\u6570\uff08$z_{i}$\uff09\u3092\u542b\u3081\u3066\n",
                "\n",
                "$$y_{it}=\\alpha+\\beta x_{it}+\\gamma\\bar{x}_i+\\delta z_{i} +v_{it}\\qquad\\text{(\u5f0f\uff16)}$$\n",
                "\n",
                "\u3092RE\u63a8\u5b9a\u3057\u3066\u3082\u6b21\u306e\u7d50\u679c\u306f\u6210\u7acb\u3059\u308b\u3002\n",
                "\n",
                "$$\\hat{\\beta}_{FE}=\\hat{\\beta}_{CRE}$$"
            ]
        },
        {
            "cell_type": "markdown",
            "metadata": {
                "hidden": true
            },
            "source": [
                "---\n",
                "\u3053\u306e\u7d50\u679c\u3092\u5229\u7528\u3057\u3066\uff0c\u4ee5\u4e0b\u3067\u306f\u6b21\u306e\u5909\u6570\u3092\u52a0\u3048\u3066\u56de\u5e30\u5f0f\u3092\u8a2d\u5b9a\u3059\u308b\u3002\n",
                "* \u6642\u9593\u306b\u5bfe\u3057\u3066\u4e00\u5b9a\u306a\u5909\u6570\n",
                "    * `educ`, `black`\uff0c`hisp`\n",
                "* \u4e00\u5b9a\u3067\u306f\u306a\u3044\u304c\uff0cFE\u306b\u3044\u308c\u308b\u3068\u63a8\u5b9a\u3067\u304d\u306a\u304b\u3063\u305f\u5909\u6570\n",
                "    * `exper`"
            ]
        },
        {
            "cell_type": "code",
            "execution_count": null,
            "metadata": {},
            "outputs": [],
            "source": [
                "\n",
                "\n",
                "",
                "",
                "",
                "",
                "",
                ""
            ]
        },
        {
            "cell_type": "markdown",
            "metadata": {
                "hidden": true
            },
            "source": [
                "\u3082\u3046\u4e00\u5ea6\uff0cFE\u5bfeRE\u691c\u5b9a\u3092\u884c\u3063\u3066\u307f\u3088\u3046\u3002\u691c\u5b9a\u7d71\u8a08\u91cf\uff08Statistics\uff09\u306f\u6e1b\u5c11\u3057\u305f\u304c\uff0c\u4ee5\u524d\u5e30\u7121\u4eee\u8aac\u306f\u9ad8\u3044\u512a\u4f4d\u6027\u3067\u68c4\u5374\u3067\u304d\u308b\u3002"
            ]
        },
        {
            "cell_type": "code",
            "execution_count": null,
            "metadata": {},
            "outputs": [],
            "source": []
        },
        {
            "cell_type": "markdown",
            "metadata": {
                "heading_collapsed": true
            },
            "source": [
                "## \u30e2\u30c7\u30eb\u306e\u6bd4\u8f03"
            ]
        },
        {
            "cell_type": "markdown",
            "metadata": {
                "hidden": true
            },
            "source": [
                "\u30d1\u30cd\u30eb\u30fb\u30c7\u30fc\u30bf\u3092\u6271\u3046\u5834\u5408\u306e\u901a\u5e38\u306e\u30a2\u30d7\u30ed\u30fc\u30c1\u306f\uff0c\u4f7f\u3048\u308b\u63a8\u5b9a\u6cd5\u3092\u4f7f\u3044\u305d\u306e\u7d50\u679c\u3092\u6bd4\u3079\u308b\u3053\u3068\u304b\u3089\u59cb\u3081\u308b\u3002\u4ee5\u4e0b\u3067\u306f\u4ee5\u4e0b\u306e\u30e2\u30c7\u30eb\u3092\u6bd4\u3079\u308b\u3002\n",
                "* \u901a\u5e38\u306eOLS\n",
                "* \u56fa\u5b9a\u52b9\u679c\u30e2\u30c7\u30eb\n",
                "* \u30e9\u30f3\u30c0\u30e0\u52b9\u679c\u30e2\u30c7\u30eb\n",
                "* \u76f8\u95a2\u30e9\u30f3\u30c0\u30e0\u30e2\u30c7\u30eb"
            ]
        },
        {
            "cell_type": "markdown",
            "metadata": {
                "heading_collapsed": true,
                "hidden": true
            },
            "source": [
                "### OLS"
            ]
        },
        {
            "cell_type": "markdown",
            "metadata": {
                "hidden": true
            },
            "source": [
                "`linearmodels`\u306e\u30e2\u30b8\u30e5\u30fc\u30eb`PooledOLS`\u3067\u306f\uff0c\u89b3\u5bdf\u5358\u4f4d\u3084\u6642\u9593\u306e\u533a\u5225\u306a\u304f\u5168\u3066\u306e\u30c7\u30fc\u30bf\u3092\u30d7\u30fc\u30eb\u3057\u3066OLS\u63a8\u5b9a\u3059\u308b\u3002\u3053\u308c\u306f\u901a\u5e38\u306eOLS\u3068\u540c\u3058\u63a8\u5b9a\u6cd5\u3068\u7b49\u3057\u3044\u3002`PooledOLS`\u306e\u95a2\u6570`from_formula`\u3092\u4f7f\u3044\uff0c\u4ee5\u4e0b\u306e\u3088\u3046\u306b\u63a8\u5b9a\u3059\u308b\u3002"
            ]
        },
        {
            "cell_type": "code",
            "execution_count": null,
            "metadata": {},
            "outputs": [],
            "source": [
                "\n",
                "\n",
                "",
                "",
                "",
                "",
                ""
            ]
        },
        {
            "cell_type": "markdown",
            "metadata": {
                "hidden": true
            },
            "source": [
                "### \u6bd4\u8f03\u8868\u306e\u4f5c\u6210"
            ]
        },
        {
            "cell_type": "markdown",
            "metadata": {
                "hidden": true
            },
            "source": [
                "\u4eca\u307e\u3067\u306e\u63a8\u5b9a\u7d50\u679c\u3092\u8868\u306b\u307e\u3068\u3081\u308b\u305f\u3081\u306b\uff0c`linearmodels`\u306e\u95a2\u6570`compare`\u3092\u4f7f\u3046\u3002\n",
                "\n",
                "\u8868\u4f5c\u6210\u306e\u9806\u756a\uff1a\n",
                "1. `key`\u304c\u8868\u793a\u3057\u305f\u3044\u63a8\u5b9a\u65b9\u6cd5\u306e\u540d\u524d\uff0c`value`\u304c\u305d\u306e\u4e0a\u3067\u5f97\u305f\u63a8\u5b9a\u7d50\u679c\u3068\u306a\u308b\u8f9e\u66f8\u3092\u4f5c\u308b\n",
                "1. \u305d\u306e\u8f9e\u66f8\u3092`compare`\u306e\u5f15\u6570\u3068\u3057\u3066\u3064\u304b\u3046\u3002"
            ]
        },
        {
            "cell_type": "code",
            "execution_count": null,
            "metadata": {},
            "outputs": [],
            "source": [
                "\n",
                "\n",
                "",
                "",
                "",
                "",
                "# compare(res)"
            ]
        },
        {
            "cell_type": "markdown",
            "metadata": {
                "hidden": true
            },
            "source": [
                "\u3053\u306e\u307e\u307e\u3067\u3082\u826f\u3044\u304b\uff0c\u3053\u306e\u65b9\u6cd5\u3067\u306f\u63a8\u5b9a\u7d50\u679c\u3092\u8868\u793a\u3059\u308b\u9806\u756a\u3092\u6307\u5b9a\u3067\u304d\u306a\u3044\u3002\u4f8b\u3048\u3070\uff0c`OLS`\uff0c`FE`\uff0c`RE`\uff0c`CRE`\u306e\u9806\u756a\u3067\u5de6\u304b\u3089\u4e26\u3079\u305f\u3044\u3068\u3057\u3088\u3046\u3002\u305d\u306e\u5834\u5408\uff0c`collections`\u30d1\u30c3\u30b1\u30fc\u30b8\u306b\u3042\u308b\u95a2\u6570`OrderedDict`\u3092\u3064\u304b\u3046\u3002`{}`\u306e\u4e2d\u3067\u4e26\u3079\u305f\u9806\u756a\u3092\u305d\u306e\u307e\u307e\u7dad\u6301\u3057\u3066\u304f\u308c\u308b\u95a2\u6570\u3067\u3042\u308b\u3002"
            ]
        },
        {
            "cell_type": "code",
            "execution_count": null,
            "metadata": {},
            "outputs": [],
            "source": [
                "\n"
            ]
        },
        {
            "cell_type": "markdown",
            "metadata": {
                "hidden": true
            },
            "source": [
                "* `married`\n",
                "    * OLS\u3067\u306e\u7d50\u5a5a\u30d7\u30ec\u30df\u30a2\u30e0\u306f10\uff05\u4ee5\u4e0a\u3042\u308b\u304c\uff0cFE\u3067\u306f\u534a\u6e1b\u3057\u3066\u3044\u308b\u3002\u3053\u308c\u306f\u89b3\u5bdf\u5358\u4f4d\u306e\u7570\u8cea\u6027$a_i$\u306b\u751f\u7523\u6027\u304c\u542b\u307e\u308c\u3066\u304a\u308a\uff0c\u300c\u751f\u7523\u6027\u304c\u9ad8\u3044\u4eba\uff08\u9ad8\u3044$a_i$\uff09\u306f\uff0c\u7d50\u5a5a\u3057\u3066\u3044\u308b\u53ef\u80fd\u6027\u304c\u9ad8\u3044\u300d\u3068\u3044\u3046\u8003\u3048\u3068\u4e00\u8cab\u6027\u304c\u3042\u308b\u3002\u5373\u3061\uff0c$\\text{Cov}\\left(a_i,x_{it}\\right)>0$\u3068\u306a\u308a\uff0c\u3053\u308c\u306b\u3088\u308aOLS\u3067\u306f\u4ee5\u4e0b\u306e\u3088\u3046\u306a\u30d0\u30a4\u30a2\u30b9\u304c\u767a\u751f\u3059\u308b\u3068\u89e3\u91c8\u3067\u304d\u308b\u3002\n",
                "        * \u65e2\u5a5a $\\Rightarrow$ \u751f\u7523\u6027\uff08$a_i$\uff09\u304c\u9ad8\u3044 $\\Rightarrow$ \u8cc3\u91d1\u304c\u4e0a\u632f\u308c\u3057\u3084\u3059\u3044\n",
                "        * \u672a\u5a5a $\\Rightarrow$ \u751f\u7523\u6027\uff08$a_i$\uff09\u304c\u4f4e\u3044 $\\Rightarrow$ \u8cc3\u91d1\u304c\u4e0b\u632f\u308c\u3057\u3084\u3059\u3044\n",
                "    * FE\u63a8\u5b9a\u6cd5\u304c\u793a\u3057\u3066\u3044\u308b\u306e\u306f\uff0c\u305d\u306e\u3088\u3046\u306a\u30d0\u30a4\u30a2\u30b9\u3092\u53d6\u308a\u9664\u3044\u3066\u3082\uff0c\u7d50\u5a5a\u30d7\u30ec\u30df\u30a2\u30e0\u306f\u5b58\u5728\u3059\u308b\u3002\u8003\u3048\u3089\u308c\u308b\u7406\u7531\u306f\uff1a\n",
                "        * \u7d50\u5a5a\u306f\u751f\u7523\u6027\u3092\u4e0a\u6607\u3055\u305b\u308b\n",
                "        * \u7d50\u5a5a\u306f\u5b89\u5b9a\u3057\u305f\u751f\u6d3b\u3092\u610f\u5473\u3057\uff0c\u305d\u308c\u306b\u5bfe\u3057\u3066\u4f01\u696d\u306f\u3088\u308a\u9ad8\u3044\u8cc3\u91d1\u3092\u6255\u3046\n",
                "    * RE\u306f\u63a8\u5b9a\u5024\u306fFE\u306b\u6bd4\u8f03\u7684\u306b\u8fd1\u3044\u3002\u3053\u308c\u306f$\\hat{\\theta}>0.5$\u306e\u5024\u306b\u3082\u73fe\u308c\u3066\u3044\u308b\u3002\n",
                "* `union`\n",
                "    * FE\u306e\u5024\u306f\u52b4\u50cd\u7d44\u5408\u306e\u8cc3\u91d1\u306b\u5bfe\u3059\u308b\u5f71\u97ff\u529b\u3092\u793a\u3057\u3066\u3044\u308b\u3002\n",
                "    * OLS\u3068FE\u306e\u63a8\u5b9a\u5024\u3092\u6bd4\u8f03\u3059\u308b\u3068\uff0c\u7d040.1\u6e1b\u5c11\u3057\u3066\u3044\u308b\u3002OLS\u306f\u52b4\u50cd\u7d44\u5408\u306e\u5f71\u97ff\u529b\u3092\u904e\u5927\u8a55\u4fa1\u3057\u3066\u304a\u308a\uff0c\u89b3\u5bdf\u5358\u4f4d\u306e\u7570\u8cea\u6027\u304c\u5927\u304d\u304f\u50cd\u3044\u3066\u3044\u308b\u3053\u3068\u304c\u308f\u304b\u308b\u3002\n",
                "* `educ`\uff0c`black`\uff0c`hisp`\n",
                "    * OLS\u3082RE\u3082\u63a8\u5b9a\u5024\u306f\u4f3c\u3066\u3044\u308b\u3002"
            ]
        },
        {
            "cell_type": "markdown",
            "metadata": {
                "heading_collapsed": true,
                "hidden": true
            },
            "source": [
                "### FD vs. FE"
            ]
        },
        {
            "cell_type": "markdown",
            "metadata": {
                "hidden": true
            },
            "source": [
                "1\u968e\u5dee\u5206\u30e2\u30c7\u30eb\u3068\u56fa\u5b9a\u52b9\u679c\u30e2\u30c7\u30eb\u3092\u6bd4\u8f03\u3059\u308b\u3002\n",
                "* $T=2$\u306e\u5834\u5408\uff0cFD\u3068FE\u306f\u540c\u3058\uff08if there is intercept in FE\uff09\n",
                "* $T\\geq 3$\u306e\u5834\u5408\uff1a\n",
                "    * GM\u4eee\u5b9a\u306b\u5bfe\u5fdc\u3059\u308b\u4eee\u5b9a\u306e\u4e0b\u3067\u306fFD\u3082FE\u3082\u4e0d\u504f\u6027\u30fb\u4e00\u81f4\u6027\u3092\u6e80\u305f\u3059\u3002\n",
                "    * \u8aa4\u5dee\u9805\u306b\u7cfb\u5217\u76f8\u95a2\u304c\u306a\u3044\u5834\u5408\uff0cFE\u306e\u65b9\u304c\u52b9\u7387\u6027\u304c\u9ad8\u3044\n",
                "    * \u8aa4\u5dee\u9805\u306e\u7cfb\u5217\u76f8\u95a2\u304c\u3042\u308b\u5834\u5408\uff0cFD\u306e\u65b9\u304c\u826f\u3044\u3002\n",
                "        * \u4f8b\u3048\u3070\uff0c\u8aa4\u5dee\u9805\u304c\u30e9\u30f3\u30c0\u30e0\u30fb\u30a6\u30a9\u30fc\u30af\u306e\u5834\u5408$\\Delta u_{it}$\u306f\u7cfb\u5217\u76f8\u95a2\u306f\u306a\u3044\u3002\n",
                "        * FD\u63a8\u5b9a\u3092\u3057\u3066$\\Delta u_{it}$\u3092\u691c\u5b9a\u3059\u308b\u3002\n",
                "    * $N$\u304c\u5c11\u306a\u304f$T$\u304c\u5927\u304d\u3044\u5834\u5408\uff08\u4f8b\uff1a$N=20$\u3068$T=30$\uff09\uff0c\u6642\u7cfb\u5217\u306e\u7279\u6027\u304c\u5f37\u304f\u306a\u308b\u306e\u3067\uff0cFD\u306e\u65b9\u304c\u826f\u3044\n",
                "* \u5b9f\u8a3c\u7814\u7a76\u3067\u306f\uff0cFD\u3068FE\u306e\u7d50\u679c\u306e\u4e21\u65b9\u3092\u5831\u544a\u3059\u308b\u3053\u3068\u3002"
            ]
        },
        {
            "cell_type": "markdown",
            "metadata": {
                "heading_collapsed": true,
                "hidden": true
            },
            "source": [
                "### FE vs. RE"
            ]
        },
        {
            "cell_type": "markdown",
            "metadata": {
                "hidden": true
            },
            "source": [
                "\u56fa\u5b9a\u52b9\u679c\u30e2\u30c7\u30eb\u3068\u30e9\u30f3\u30c0\u30e0\u52b9\u679c\u30e2\u30c7\u30eb\u3092\u6bd4\u8f03\u3059\u308b\u3002\n",
                "1. $a_i$\u306f\u30e9\u30f3\u30c0\u30e0\u304b\uff1f\n",
                "    * \u7d4c\u6e08\u5b66\u306e\u5834\u5408\uff0c\u8aac\u660e\u5909\u6570\u306f\u4f55\u3089\u304b\u306e\u9078\u629e\u306e\u7d50\u679c\u306e\u5834\u5408\u304c\u591a\u3044\u3002\u3055\u3089\u306b\uff0c\u305d\u306e\u9078\u629e\u304c\u89b3\u5bdf\u5358\u4f4d\u306e\u7279\u5fb4\u306b\u4f9d\u5b58\u3059\u308b\u5834\u5408\uff0c$\\text{Cov}\\left(a_ix_{it}\\right)\\neq 0$\u3068\u306a\u308a\uff0cFE\u30e2\u30c7\u30eb\u306e\u65b9\u304c\u9069\u5207\u3068\u306a\u308b\u3002\n",
                "    * \u90fd\u9053\u5e9c\u770c\u30c7\u30fc\u30bf\u306e\u3088\u3046\u306a\u5834\u5408\uff0c\u300c\u5927\u304d\u306a\u300d\u6bcd\u96c6\u56e3\u304b\u3089\u30e9\u30f3\u30c0\u30e0\u306b\u62bd\u51fa\u3055\u308c\u305f\u8aac\u660e\u5909\u6570\u3068\u306f\u306a\u3089\u306a\u3044\u304b\u3082\u77e5\u308c\u306a\u3044\u3002\u3080\u3057\u308d\uff0c\u90fd\u9053\u5e9c\u770c\u306e\u5207\u7247\u304c\u30e9\u30f3\u30c0\u30e0\u3067\u306f\u306a\u304f\uff0c\u5358\u306b\u7570\u306a\u308b\u3068\u4eee\u5b9a\u3059\u308b\u65b9\u304c\u81ea\u7136\u304b\u3082\u77e5\u308c\u306a\u3044\u3002\n",
                "1. Hausman\u691c\u5b9a\u3067\u3042\u308c\u4ed6\u306e\u691c\u5b9a\u3067\u3042\u308c\uff0c\u9593\u9055\u3046\u78ba\u7387\u306f\u5b58\u5728\u3059\u308b\u3002\u4ee5\u4e0b\u3067\u306f\u9593\u9055\u3063\u305f\u5834\u5408\u3069\u3046\u306a\u308b\u304b\u3092\u8003\u3048\u305f\u3002\n",
                "    * $\\text{Cov}\\left(a_ix_{it}\\right)= 0$\uff0c\u5373\u3061\uff0cRE\u30e2\u30c7\u30eb\u304c\u6b63\u3057\u3044\u5834\u5408\uff1a\n",
                "        * \u8aa4\u5dee\u9805\u306e\u81ea\u5df1\u76f8\u95a2\u304c\u3042\u308b\u304c\uff0cFE\u63a8\u5b9a\u91cf\u306f\u4e0d\u504f\u6027\u3092\u6e80\u305f\u3059\n",
                "    * $\\text{Cov}\\left(a_ix_{it}\\right)\\neq 0$\uff0c\u5373\u3061\uff0cFE\u30e2\u30c7\u30eb\u304c\u6b63\u3057\u3044\u5834\u5408\uff1a\n",
                "        * GM\u4eee\u5b9a\uff14\u304c\u6e80\u305f\u3055\u308c\u306a\u3044\u305f\u3081\uff0cRE\u63a8\u5b9a\u91cf\u306f\u4e0d\u504f\u6027\u3092\u6e80\u305f\u3055\u306a\u3044\n",
                "\n",
                "Pros for RE\n",
                "1. FE\u306e\u5834\u5408\uff0c\u6642\u9593\u306b\u5bfe\u3057\u3066\u5909\u5316\u3057\u306a\u3044\u5909\u6570\u306e\u4fc2\u6570\u3092\u63a8\u5b9a\u3067\u304d\u306a\u3044\n",
                "2. \u56de\u5e30\u5f0f\u304c\u975e\u7dda\u5f62\u306e\u5834\u5408\uff08\u4f8b\u3048\u3070\uff0cProbit\uff09\uff0cFE\u3067\u306f\u5bfe\u5fdc\u3067\u304d\u306a\u3044\u3002\n",
                "\n",
                "\n",
                "\uff08\u7d50\u8ad6\uff09\u4e00\u822c\u7684\u306bFE\u306e\u65b9\u304c\u9069\u5207\u306a\u5834\u5408\u304c\u591a\u3044\u306e\u3067\u306f\u306a\u3044\u304b\u3002"
            ]
        },
        {
            "cell_type": "markdown",
            "metadata": {
                "heading_collapsed": true
            },
            "source": [
                "## \u30b7\u30df\u30e5\u30ec\u30fc\u30b7\u30e7\u30f3"
            ]
        },
        {
            "cell_type": "markdown",
            "metadata": {
                "hidden": true
            },
            "source": [
                "\uff08\u76ee\u7684\uff09\u771f\u306e\u30e2\u30c7\u30eb\u3067\u306f\u89b3\u5bdf\u5358\u4f4d\u306e\u56fa\u5b9a\u52b9\u679c\u304c\u3042\u308b\u5834\u5408\u3092\u8003\u3048\uff0cFE\u63a8\u5b9a\u91cf\u3068RE\u63a8\u5b9a\u91cf\u3092\u6bd4\u8f03\u3059\u308b\u3002\n",
                "\n",
                "\u5358\u56de\u5e30\u3092\u60f3\u5b9a\u3059\u308b\u3002\u4ee5\u4e0b\u3092\u771f\u306e\u5024\u3068\u3057\u3066\u8a2d\u5b9a\u3059\u308b\u3002"
            ]
        },
        {
            "cell_type": "code",
            "execution_count": null,
            "metadata": {},
            "outputs": [],
            "source": [
                "\n"
            ]
        },
        {
            "cell_type": "markdown",
            "metadata": {
                "heading_collapsed": true,
                "hidden": true
            },
            "source": [
                "### \u63a8\u5b9a\u5024\u306e\u8a08\u7b97"
            ]
        },
        {
            "cell_type": "markdown",
            "metadata": {
                "hidden": true
            },
            "source": [
                "\u30b7\u30df\u30e5\u30ec\u30fc\u30b7\u30e7\u30f3\u306e\u57fa\u672c\u30d1\u30e9\u30e1\u30fc\u30bf\u7b49\u306e\u8a2d\u5b9a"
            ]
        },
        {
            "cell_type": "code",
            "execution_count": null,
            "metadata": {},
            "outputs": [],
            "source": [
                "\n",
                "\n",
                ""
            ]
        },
        {
            "cell_type": "markdown",
            "metadata": {
                "hidden": true
            },
            "source": [
                "`for`\u30eb\u30fc\u30d7\u306b\u3088\u308b`DataFrame`\u306e\u4f5c\u6210\u3002"
            ]
        },
        {
            "cell_type": "code",
            "execution_count": null,
            "metadata": {},
            "outputs": [],
            "source": [
                "\n",
                "\n",
                "",
                "",
                "",
                "",
                "",
                "",
                "",
                "",
                "",
                "",
                ""
            ]
        },
        {
            "cell_type": "markdown",
            "metadata": {
                "hidden": true
            },
            "source": [
                "`DataFrame`\u306e\u5fae\u8abf\u6574\u3002"
            ]
        },
        {
            "cell_type": "code",
            "execution_count": null,
            "metadata": {},
            "outputs": [],
            "source": [
                "# id \u3068 time \u306e\u5217\u3092 \u6574\u6570\u578b\u306b\u5909\u63db\uff08\u7701\u3044\u3066\u3082\u554f\u984c\u306a\u3044\uff09\n",
                "\n",
                "\n",
                "",
                "# MultiIndex\u5316\n",
                "\n",
                "\n",
                ""
            ]
        },
        {
            "cell_type": "markdown",
            "metadata": {
                "hidden": true
            },
            "source": [
                "\u56fa\u5b9a\u52b9\u679c\u30e2\u30c7\u30eb\u306b\u3088\u308b\u63a8\u5b9a\u3002"
            ]
        },
        {
            "cell_type": "code",
            "execution_count": null,
            "metadata": {},
            "outputs": [],
            "source": [
                "\n",
                "\n",
                "",
                "",
                ""
            ]
        },
        {
            "cell_type": "markdown",
            "metadata": {
                "hidden": true
            },
            "source": [
                "\u30e9\u30f3\u30c0\u30e0\u52b9\u679c\u30e2\u30c7\u30eb\u306b\u3088\u308b\u63a8\u5b9a\u3002"
            ]
        },
        {
            "cell_type": "code",
            "execution_count": null,
            "metadata": {},
            "outputs": [],
            "source": [
                "\n",
                "\n",
                "",
                "",
                "",
                ""
            ]
        },
        {
            "cell_type": "markdown",
            "metadata": {
                "hidden": true
            },
            "source": [
                "$\\text{Cov}\\left(a_i,x_{it}\\right)>0$\u306b\u3088\u308a\u4e0a\u65b9\u30d0\u30a4\u30a2\u30b9\u304c\u767a\u751f\u3057\u3066\u3044\u308b\u3002"
            ]
        },
        {
            "cell_type": "markdown",
            "metadata": {
                "hidden": true
            },
            "source": [
                "\u76f8\u95a2\u30e9\u30f3\u30c0\u30e0\u52b9\u679c\u30e2\u30c7\u30eb\u306b\u3088\u308b\u63a8\u5b9a\u3002\n",
                "\n",
                "\u307e\u305a\uff0c\u89b3\u5bdf\u5358\u4f4d\u306e`X`\u306e\u5e73\u5747\u306e\u5217\u3092\u8ffd\u52a0\u3059\u308b\u3002"
            ]
        },
        {
            "cell_type": "code",
            "execution_count": null,
            "metadata": {},
            "outputs": [],
            "source": []
        },
        {
            "cell_type": "code",
            "execution_count": null,
            "metadata": {},
            "outputs": [],
            "source": [
                "\n",
                "\n",
                "",
                "",
                ""
            ]
        },
        {
            "cell_type": "markdown",
            "metadata": {
                "hidden": true
            },
            "source": [
                "\u901a\u5e38\u306eOLS\uff08Pooled OLS\uff09\u306b\u3088\u308b\u63a8\u5b9a\u306f\u30d0\u30a4\u30a2\u30b9\u304c\u767a\u751f\u3059\u308b\u3002"
            ]
        },
        {
            "cell_type": "code",
            "execution_count": null,
            "metadata": {},
            "outputs": [],
            "source": [
                "\n",
                "\n",
                "",
                "",
                ""
            ]
        },
        {
            "cell_type": "markdown",
            "metadata": {
                "heading_collapsed": true,
                "hidden": true
            },
            "source": [
                "### \u63a8\u5b9a\u5024\u306e\u5206\u5e03"
            ]
        },
        {
            "cell_type": "markdown",
            "metadata": {
                "hidden": true
            },
            "source": [
                "\u57fa\u672c\u7684\u306b\u4e0a\u306e\u30b7\u30df\u30e5\u30ec\u30fc\u30b7\u30e7\u30f3\u306e\u30b3\u30fc\u30c9\u3092\u5fdc\u7528\u3059\u308b\u3002"
            ]
        },
        {
            "cell_type": "code",
            "execution_count": null,
            "metadata": {},
            "outputs": [],
            "source": [
                "\n",
                "\n",
                "",
                ""
            ]
        },
        {
            "cell_type": "markdown",
            "metadata": {
                "hidden": true
            },
            "source": [
                "\uff08\u4e0b\u306e\u30b3\u30fc\u30c9\u306b\u3064\u3044\u3066\uff09\n",
                "* \u30e9\u30f3\u30c0\u30e0\u52b9\u679c\u30e2\u30c7\u30eb\u306e\u63a8\u5b9a\u306b\u306f`linearmodels`\u3092\u4f7f\u3063\u3066\u3044\u308b\u3002\u56fa\u5b9a\u52b9\u679c\u30e2\u30c7\u30eb\u3068\u901a\u5e38\u306eOLS\u63a8\u5b9a\u306b\u3082`linearmodels`\u3092\u4f7f\u3046\u3068\u5fc5\u8981\u304c\u306a\u3044\u7d71\u8a08\u91cf\u3082\u8a08\u7b97\u3059\u308b\u305f\u3081\u8a08\u7b97\u306b\u6642\u9593\u304c\u639b\u304b\u308b\u3002\u5c11\u3057\u3067\u3082\u8a08\u7b97\u6642\u9593\u3092\u7e2e\u3081\u308b\u305f\u3081\u306b\u300c\u624b\u8a08\u7b97\u300d\u3092\u3059\u308b\u3002"
            ]
        },
        {
            "cell_type": "code",
            "execution_count": null,
            "metadata": {},
            "outputs": [],
            "source": [
                "\n",
                "\n",
                "",
                "",
                "",
                "",
                "",
                "",
                "    # \u30c7\u30fc\u30bf\u306e\u751f\u6210\n",
                "\n",
                "\n",
                "",
                "",
                "",
                "",
                "",
                "",
                "",
                "",
                "",
                "    # RE\u63a8\u5b9a\n",
                "\n",
                "\n",
                "",
                "",
                "",
                "    # FE\u63a8\u5b9a\n",
                "\n",
                "\n",
                "",
                "",
                "",
                "",
                "    # Pooled OLS\u63a8\u5b9a\n",
                "\n",
                "\n",
                "",
                "",
                ""
            ]
        },
        {
            "cell_type": "markdown",
            "metadata": {
                "hidden": true
            },
            "source": [
                "\u5206\u5e03\u306e\u56f3\u793a"
            ]
        },
        {
            "cell_type": "code",
            "execution_count": null,
            "metadata": {},
            "outputs": [],
            "source": [
                "\n",
                "\n",
                "",
                "",
                "",
                "",
                "",
                "",
                "",
                "",
                "",
                "",
                "",
                "",
                ""
            ]
        },
        {
            "cell_type": "markdown",
            "metadata": {
                "heading_collapsed": true
            },
            "source": [
                "## \u6a19\u6e96\u8aa4\u5dee\u306e\u554f\u984c"
            ]
        },
        {
            "cell_type": "markdown",
            "metadata": {
                "hidden": true
            },
            "source": [
                "(\u5f0f\uff13)\u306e\u56fa\u5b9a\u52b9\u679c\u30e2\u30c7\u30eb\u3092\u8003\u3048\u3088\u3046\u3002\u30d1\u30cd\u30eb\u30fb\u30c7\u30fc\u30bf\u306e\u5834\u5408\uff0c\u6b21\u306e2\u3064\u306e\u554f\u984c\u304c\u767a\u751f\u3059\u308b\u5834\u5408\u304c\u3042\u308b\u3002\n",
                "* \u6b8b\u5dee\u306e\u4e0d\u5747\u4e00\u5206\u6563\n",
                "* \u6b8b\u5dee\u306e\u81ea\u5df1\u76f8\u95a2\n",
                "\n",
                "\u3053\u308c\u3089\u306e\u554f\u984c\u304c\u767a\u751f\u3057\u3066\u3082\uff0c\u57fa\u672c\u7684\u306a\u4eee\u5b9a\u306e\u3082\u3068\u3067FE\u63a8\u5b9a\u91cf\u306f\u4e0d\u504f\u6027\u3068\u4e00\u81f4\u6027\u3092\u6e80\u305f\u3059\u3002\u3057\u304b\u3057\uff0c\u4fc2\u6570\u306e\u6a19\u6e96\u8aa4\u5dee\u306f\u6709\u52b9\u3067\u306f\u306a\u304f\u306a\u308a\u691c\u5b9a\u304c\u7121\u52b9\u3068\u306a\u308b\u3002\u305d\u306e\u5bfe\u51e6\u65b9\u6cd5\u3068\u3057\u3066**\u30af\u30e9\u30b9\u30bf\u30fc\u9811\u5065\u7684\u63a8\u5b9a**\u3092\u4f7f\u3046\u3002\u3053\u308c\u306f\u4e0d\u5747\u4e00\u5206\u6563\u306e\u7ae0\u3067\u8aac\u660e\u3057\u305f\u4e0d\u5747\u4e00\u5206\u6563\u9811\u5065\u7684\u63a8\u5b9a\u3092**\u500b\u4f53\u3054\u3068\u306e\u81ea\u5df1\u76f8\u95a2**\uff08\u500b\u4f53\u9593\u306e\u76f8\u95a2\u3067\u306f\u306a\u3044\uff09\u306b\u5bfe\u5fdc\u3067\u304d\u308b\u3088\u3046\u306b\u62e1\u5f35\u3057\uff0c\u30d1\u30cd\u30eb\u30fb\u30c7\u30fc\u30bf\u7528\u306b\u8003\u6848\u3055\u308c\u305f\u63a8\u5b9a\u3068\u7406\u89e3\u3059\u308c\u3070\u5341\u5206\u3067\u3042\u308b\u3002\u4ee5\u4e0b\u3067\u306f\uff0c\u305d\u306e\u4f7f\u3044\u65b9\u3092\u8aac\u660e\u3059\u308b\u3002"
            ]
        },
        {
            "cell_type": "markdown",
            "metadata": {
                "heading_collapsed": true,
                "hidden": true
            },
            "source": [
                "### \u5206\u6563\u306e\u78ba\u8a8d"
            ]
        },
        {
            "cell_type": "markdown",
            "metadata": {
                "hidden": true
            },
            "source": [
                "`linearmodels`\u306b\u306f\u6b8b\u5dee\u306e\u5747\u4e00\u5206\u6563\u3092\u8abf\u3079\u308bBreusch-Pagan\u691c\u5b9a\u3084White\u691c\u5b9a\u3092\u304a\u3053\u306a\u3046\u30e1\u30bd\u30c3\u30c9\u306f\u7528\u610f\u3055\u308c\u3066\u3044\u306a\u3044\u3002\u3053\u3053\u3067\u306f`statsmodels`\u3092\u4f7f\u3044Wooldridge (2016,p.253)\u3067\u8aac\u660e\u3055\u308c\u3066\u3044\u308bWhite\u691c\u5b9a\u306b\u57fa\u3065\u304f\u691c\u5b9a\u3092\u304a\u3053\u306a\u3046\u3002\u6b21\u306b\u5fc5\u8981\u306a\u5909\u6570\u3092\u4f5c\u6210\u3059\u308b\u3002"
            ]
        },
        {
            "cell_type": "code",
            "execution_count": null,
            "metadata": {},
            "outputs": [],
            "source": [
                "# \u6b8b\u5dee\n",
                "\n",
                "\n",
                "# \u88ab\u8aac\u660e\u5909\u6570\u306e\u4e88\u6e2c\u5024\n",
                "\n",
                "\n",
                "# DataFrame\u306e\u4f5c\u6210\n"
            ]
        },
        {
            "cell_type": "markdown",
            "metadata": {
                "hidden": true
            },
            "source": [
                "\uff08\u4e0a\u306e\u30b3\u30fc\u30c9\u306e\u8aac\u660e\uff09\n",
                "* `resids`\u306f\u6b8b\u5dee\u3092`DataFrame`\u3068\u3057\u3066\u53d6\u5f97\u3059\u308b\u5c5e\u6027\n",
                "* `fitted_values`\u306f\u4e88\u6e2c\u5024\u3092`DataFrame`\u3068\u3057\u3066\u53d6\u5f97\u3059\u308b\u5c5e\u6027\n",
                "* `values`\u306f`DataFrame`\u3092`array`\u3068\u3057\u3066\u8fd4\u3059\u5c5e\u6027\n",
                "* `flatten()`\u306f`array`\u304c2\u6b21\u5143\u306b\u306a\u3063\u3066\u3044\u308b\u306e\u30921\u6b21\u5143\u306b\u5909\u63db\u3059\u308b\u30e1\u30bd\u30c3\u30c9\n",
                "    * `array([[..],[..],...[...]])`\u3092`array([....])`\u306b\u5909\u63db\u3059\u308b\u3002"
            ]
        },
        {
            "cell_type": "markdown",
            "metadata": {
                "hidden": true
            },
            "source": [
                "\u691c\u5b9a\u306b\u4f7f\u3046\u5f0f\n",
                "\n",
                "$$\\hat{u}^2=\\beta_0+\\beta_1\\hat{y}+\\beta_2\\hat{y}^2+e$$\n",
                "\n",
                "* $\\text{H}_0\uff1a\\beta_1=\\beta_2=0$\uff08\u5747\u4e00\u5206\u6563\uff09\n",
                "* $\\text{H}_A\uff1a$\u5e30\u7121\u4eee\u8aac\u306f\u6210\u7acb\u3057\u306a\u3044"
            ]
        },
        {
            "cell_type": "code",
            "execution_count": null,
            "metadata": {},
            "outputs": [],
            "source": [
                "\n",
                "\n",
                "",
                "",
                "",
                ""
            ]
        },
        {
            "cell_type": "markdown",
            "metadata": {
                "hidden": true
            },
            "source": [
                "\u5e30\u7121\u4eee\u8aac\u306f\u68c4\u5374\u3067\u304d\u306a\u3044\u3002\n",
                "\n",
                "\u6b21\u306b\u56f3\u3092\u4f7f\u3044\u78ba\u8a8d\u3059\u308b\u3002"
            ]
        },
        {
            "cell_type": "code",
            "execution_count": null,
            "metadata": {},
            "outputs": [],
            "source": [
                "\n",
                "\n",
                "",
                "",
                "",
                "",
                "",
                "",
                "",
                "",
                "",
                ""
            ]
        },
        {
            "cell_type": "markdown",
            "metadata": {
                "hidden": true
            },
            "source": [
                "\uff08\u89e3\u8aac\uff09\n",
                "* \u4e0a\u306e\u691c\u5b9a\u3067\u63a8\u5b9a\u3057\u305f\u5f0f\u306f\u8d64\u3044\u7dda\u3067\u3042\u308b\u3002\u6b86\u3069\u5e73\u884c\u306b\u306a\u3063\u3066\u3044\u308b\u305f\u3081\u5e30\u7121\u4eee\u8aac\u3092\u68c4\u5374\u3067\u304d\u306a\u304b\u3063\u305f\u3002\n",
                "* \u56f3\u306e\u4e2d\u3067`y_hat`\u306e\u5024\u304c`-0.2`\u3092\u5883\u306b`u_hat`\u306e\u5909\u52d5\u306f\u3088\u308a\u5927\u304d\u304f\u306a\u3063\u3066\u304a\u308a\uff0c\u4e0d\u5747\u4e00\u5206\u6563\u306e\u7591\u3044\u304c\u9ad8\u3044\u3002"
            ]
        },
        {
            "cell_type": "markdown",
            "metadata": {
                "heading_collapsed": true,
                "hidden": true
            },
            "source": [
                "### \u5bfe\u51e6\u65b9\u6cd5"
            ]
        },
        {
            "cell_type": "markdown",
            "metadata": {
                "hidden": true
            },
            "source": [
                "\uff1c\u4f7f\u3044\u65b9\uff1e\n",
                "* \u30e1\u30bd\u30c3\u30c9`fit()`\u306b\u4ee5\u4e0b\u306e\u5f15\u6570\u3092\u6307\u5b9a\u3059\u308b\u3002\n",
                "    * \u4e0d\u5747\u4e00\u5206\u6563\u3060\u3051\u306e\u5834\u5408\uff1a`cov_type='clustered', cluster_entity=True`\n",
                "    * \u4e0d\u5747\u4e00\u5206\u6563\u3068\u7cfb\u5217\u76f8\u95a2\u306e\u5834\u5408\uff1a`cov_type='clustered', cluster_entity=True, cluster_time=True`\n",
                "\n",
                "\n",
                "\uff08\u6ce8\u610f\uff09\n",
                "* \u4fc2\u6570\u306e\u63a8\u5b9a\u5024\u306f\u5909\u308f\u3089\u306a\u3044\u3002\n",
                "* \u4fc2\u6570\u306e\u6a19\u6e96\u8aa4\u5dee\u3060\u3051\u304c\u4fee\u6b63\u3055\u308c\uff0c\u6709\u52b9\u306a\u691c\u5b9a\u304c\u3067\u304d\u308b\u3088\u3046\u306b\u306a\u308b\u3002\n",
                "\n",
                "\n",
                "`wagepan`\u3092\u4f7f\u3063\u3066\u4e0a\u3067\u63a8\u5b9a\u3057\u305f\u5f0f\u306b\u30af\u30e9\u30b9\u30bf\u30fc\u9811\u5065\u7684\u63a8\u5b9a\u3092\u4f7f\u3046\u3002\n",
                "\n",
                "\uff1c\u4e0d\u5747\u4e00\u5206\u6563\u304b\u3060\u3051\u306e\u5834\u5408\uff1e"
            ]
        },
        {
            "cell_type": "code",
            "execution_count": null,
            "metadata": {},
            "outputs": [],
            "source": [
                "\n",
                "\n",
                "",
                "",
                ""
            ]
        },
        {
            "cell_type": "markdown",
            "metadata": {
                "hidden": true
            },
            "source": [
                "\uff1c\u4e0d\u5747\u4e00\u5206\u6563\u3068\u7cfb\u5217\u76f8\u95a2\u306e\u5834\u5408\uff1e"
            ]
        },
        {
            "cell_type": "code",
            "execution_count": null,
            "metadata": {},
            "outputs": [],
            "source": [
                "\n",
                "\n",
                "",
                "",
                ""
            ]
        }
    ],
    "metadata": {
        "celltoolbar": "Tags",
        "kernelspec": {
            "display_name": "latest",
            "language": "python",
            "name": "latest"
        },
        "language_info": {
            "codemirror_mode": {
                "name": "ipython",
                "version": 3
            },
            "file_extension": ".py",
            "mimetype": "text/x-python",
            "name": "python",
            "nbconvert_exporter": "python",
            "pygments_lexer": "ipython3",
            "version": "3.8.5"
        },
        "toc": {
            "base_numbering": 1,
            "nav_menu": {},
            "number_sections": true,
            "sideBar": true,
            "skip_h1_title": false,
            "title_cell": "Table of Contents",
            "title_sidebar": "Contents",
            "toc_cell": false,
            "toc_position": {},
            "toc_section_display": true,
            "toc_window_display": false
        }
    },
    "nbformat": 4,
    "nbformat_minor": 2
}