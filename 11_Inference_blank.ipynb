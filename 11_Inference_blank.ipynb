{
    "cells": [
        {
            "cell_type": "markdown",
            "metadata": {},
            "source": [
                "# \u63a8\u8ad6"
            ]
        },
        {
            "cell_type": "code",
            "execution_count": null,
            "metadata": {},
            "outputs": [],
            "source": [
                "\n",
                "\n",
                "",
                "",
                "",
                ""
            ]
        },
        {
            "cell_type": "markdown",
            "metadata": {
                "heading_collapsed": true
            },
            "source": [
                "## \u8aac\u660e\uff1a\u4eee\u8aac\u691c\u5b9a"
            ]
        },
        {
            "cell_type": "markdown",
            "metadata": {
                "hidden": true
            },
            "source": [
                "\u4eee\u8aac\u691c\u5b9a\u306f\u4ee5\u4e0b\u306e\u624b\u9806\u3067\u304a\u3053\u306a\u3046\u3002\n",
                "1. \u6bcd\u96c6\u56e3\u306e\u30d1\u30e9\u30e1\u30fc\u30bf\u306b\u3064\u3044\u3066\u5e30\u7121\u4eee\u8aac\uff08Null Hypothesis\uff09\u3068\u5bfe\u7acb\u4eee\u8aac\uff08Alternative Hypothesis\uff09\u3092\u8a2d\u5b9a\u3059\u308b\u3002\n",
                "    * \u5e30\u7121\u4eee\u8aac\u306f\u68c4\u5374\u3059\u308b\u304b\u3069\u3046\u304b\u306e\u5224\u65ad\u306e\u5bfe\u8c61\u3068\u306a\u308b\u4eee\u8aac\uff08\u4f8b\u3048\u3070\uff0c$\\hat{\\beta}_1=0$\uff09\n",
                "    * \u5bfe\u7acb\u4eee\u8aac\u306f\u5e30\u7121\u4eee\u8aac\u306b\u76f8\u53cd\u3059\u308b\u4eee\u8aac\uff08\u4f8b\u3048\u3070\uff0c$\\hat{\\beta}_1\\neq 0$\uff09\n",
                "1. \u9069\u5207\u306a\u691c\u5b9a\u7d71\u8a08\u91cf\u3092\u6c7a\u3081\uff0c\u5224\u5b9a\u3059\u308b\u305f\u3081\u306e\u6709\u610f\u6c34\u6e96\u3092\u4e88\u3081\u6c7a\u3081\u308b\u3002\n",
                "    * \u6709\u610f\u6c34\u6e96 \uff1d \u4e0b\u3067\u8aac\u660e\u3059\u308b**\u7b2c\u4e00\u7a2e\u904e\u8aa4\u306e\u78ba\u7387**\n",
                "1. \u8a08\u7b97\u3057\u305f\u691c\u5b9a\u7d71\u8a08\u91cf\u306e\u5024\u3068\u6709\u610f\u6c34\u6e96\u306b\u5bfe\u5fdc\u3059\u308b\u5024\u3092\u6bd4\u8f03\u3059\u308b\u3053\u3068\u306b\u3088\u308a\uff0c\u5e30\u7121\u4eee\u8aac\u3092\u68c4\u5374\u3059\u308b\u304b\u3057\u306a\u3044\u304b\u3092\u5224\u65ad\u3059\u308b\u3002\uff12\u3064\u306e\u53ef\u80fd\u6027\u3057\u304b\u306a\u3044\u3002\n",
                "    * \u5e30\u7121\u4eee\u8aac\u3092\u68c4\u5374\u3059\u308b\uff08\u5bfe\u7acb\u4eee\u8aac\u3092\u63a1\u629e\u3059\u308b\uff09\u3002\n",
                "    * \u5e30\u7121\u4eee\u8aac\u3092\u68c4\u5374\u3067\u304d\u306a\u3044\uff08\u5bfe\u7acb\u4eee\u8aac\u3092\u63a1\u629e\u3067\u304d\u306a\u3044\uff09\u3002"
            ]
        },
        {
            "cell_type": "markdown",
            "metadata": {
                "hidden": true
            },
            "source": [
                "---\n",
                "\u691c\u5b9a\u3092\u304a\u3053\u306a\u3046\u969b\u306b\u306f\u9593\u9055\u3044\u304c\u767a\u751f\u3059\u308b\u3002\u305d\u308c\u3092\u307e\u3068\u3081\u305f\u306e\u304c\u6b21\u306e\u8868\u3067\u3042\u308b\u3002"
            ]
        },
        {
            "cell_type": "markdown",
            "metadata": {
                "hidden": true
            },
            "source": [
                "|                        | \u5e30\u7121\u4eee\u8aac\u306f\u771f | \u5e30\u7121\u4eee\u8aac\u306f\u507d |   |\n",
                "|------------------------|--------------|--------------|---|\n",
                "| \u5e30\u7121\u4eee\u8aac\u3092\u68c4\u5374\u3067\u304d\u306a\u3044 | \u6b63\u3057\u3044\u7d50\u8ad6   | \u7b2c\uff12\u7a2e\u904e\u8aa4   |   |\n",
                "| \u5e30\u7121\u4eee\u8aac\u3092\u68c4\u5374         | \u7b2c\uff11\u7a2e\u904e\u8aa4   | \u6b63\u3057\u3044\u7d50\u8ad6   |   |"
            ]
        },
        {
            "cell_type": "markdown",
            "metadata": {
                "hidden": true
            },
            "source": [
                "\u691c\u5b9a\u3092\u8b66\u5bdf\u306e\u884c\u52d5\u306b\u4f8b\u3048\u3066\u6b21\u306e\u3088\u3046\u306b\u8003\u3048\u308b\u3053\u3068\u3082\u3067\u304d\u308b\u3002\n",
                "* \u5e30\u7121\u4eee\u8aac $\\Rightarrow$ \u300c\u7121\u7f6a\u300d\n",
                "* \u5e30\u7121\u4eee\u8aac\u306e\u68c4\u5374 $\\Rightarrow$ \u300c\u902e\u6355\u300d\n",
                "* \u5e30\u7121\u4eee\u8aac\u3092\u68c4\u5374\u3057\u306a\u3044 $\\Rightarrow$ \u300c\u902e\u6355\u3057\u306a\u3044\u300d\n",
                "* \u7b2c\uff11\u7a2e\u904e\u8aa4 $\\Rightarrow$\u300c\u51a4\u7f6a\u3067\u902e\u6355\u300d\n",
                "* \u7b2c\uff12\u7a2e\u904e\u8aa4 $\\Rightarrow$\u300c\u771f\u72af\u4eba\u3092\u53d6\u308a\u9003\u304c\u3059\u300d"
            ]
        },
        {
            "cell_type": "markdown",
            "metadata": {
                "hidden": true
            },
            "source": [
                "|                        | \u7121\u5b9f\u306f\u771f | \u7121\u5b9f\u306f\u507d |\n",
                "|------------------------|:------------:|:------------:|\n",
                "| \u902e\u6355\u3057\u306a\u3044 | \u6b63\u3057\u3044\u7d50\u8ad6  | \u53d6\u308a\u9003\u3059   |\n",
                "| \u902e\u6355         | \u51a4\u7f6a  | \u6b63\u3057\u3044\u7d50\u8ad6   |"
            ]
        },
        {
            "cell_type": "markdown",
            "metadata": {
                "hidden": true
            },
            "source": [
                "* \u7d71\u8a08\u7684\u512a\u4f4d\u6027\u3068\u306f\uff0c\u5e30\u7121\u4eee\u8aac\u304c\u6b63\u3057\u3044\u5834\u5408\uff0c\u5e30\u7121\u4eee\u8aac\u306e\u5185\u5bb9\u304c\u767a\u751f\u3057\u305f\u78ba\u7387\u304c\u975e\u5e38\u306b\u4f4e\u3044\u5834\u5408\u3092\u6307\u3059\u3002\u5373\u3061\uff0c\u767a\u751f\u30a4\u30d9\u30f3\u30c8\u304c\u975e\u5e38\u306b\u8d77\u3053\u308a\u306b\u304f\u304f\uff0c\u5076\u7136\u306e\u306e\u53ef\u80fd\u6027\u304c\u975e\u5e38\u306b\u9ad8\u3044\u5834\u5408\u3067\u3042\u308b\u3002\n",
                "* \u7b2c\u4e00\u7a2e\u904e\u8aa4\u306f\uff0c\u5e30\u7121\u4eee\u8aac\u304c\u6b63\u3057\u3044\u5834\u5408\u306b\u68c4\u5374\u3059\u308b\u3068\u767a\u751f\u3059\u308b\u3002\u6163\u4f8b\u3067\u305d\u306e\u78ba\u7387\u3092$\\alpha$\u3067\u8868\u3059\u3002$\\alpha=0.05$\u304c\u3088\u304f\u4f7f\u308f\u308c\u308b\u304c\uff0c\u3053\u308c\u3092\u4f7f\u3046\u5834\u5408\uff0c\u9593\u9055\u3063\u3066\u6b63\u3057\u3044\u5e30\u7121\u4eee\u8aac\u3092\u68c4\u5374\u3059\u308b\u78ba\u7387\u306f\u6700\u59275%\u307e\u3067\u8a31\u5bb9\u3059\u308b\u3068\u3044\u3046\u610f\u5473\u306b\u306a\u308b\u3002"
            ]
        },
        {
            "cell_type": "markdown",
            "metadata": {
                "heading_collapsed": true
            },
            "source": [
                "## $t$\u691c\u5b9a"
            ]
        },
        {
            "cell_type": "markdown",
            "metadata": {
                "heading_collapsed": true,
                "hidden": true
            },
            "source": [
                "### \u8aac\u660e\uff1a$t$\u5024\u3068$p$\u5024"
            ]
        },
        {
            "cell_type": "markdown",
            "metadata": {
                "hidden": true
            },
            "source": [
                "\u65b0\u305f\u306a\u4eee\u5b9a\u3092\u5c0e\u5165\u3059\u308b\u3002\n",
                "\n",
                "* \u4eee\u5b9a\uff16\uff1a\u8aa4\u5dee\u9805\u306f\u8aac\u660e\u5909\u6570\u306f\u72ec\u7acb\u3067\u3042\u308a\u6b63\u898f\u5206\u5e03\u306b\u5f93\u3046\uff08\u8aa4\u5dee\u9805\u306e\u6b63\u898f\u6027\uff09\n",
                "\n",
                "$$u\\sim N\\left(0,\\sigma^2\\right)$$\n",
                "\n",
                "\u4eee\u5b9a\uff11\u301c\uff16\u3092**Classical Linear Model (CLM) Assumptions**\uff08CLM\u4eee\u5b9a\uff09\u3068\u547c\u3076\u3002"
            ]
        },
        {
            "cell_type": "markdown",
            "metadata": {
                "hidden": true
            },
            "source": [
                "---\n",
                "CLM\u4eee\u5b9a\u306e\u4e0b\u3067\u306f\uff1a\n",
                "* OLS\u63a8\u5b9a\u91cf\u306f\u6b63\u898f\u5206\u5e03\u306b\u5f93\u3046\u3002\n",
                "\n",
                "    $$\n",
                "    \\hat{\\beta}_j\\sim N\\left(\\beta_j,\\text{Var}\\left(\\hat{\\beta}_j\\right)\\right)\n",
                "    $$\n",
                "    \n",
                "* OLS\u63a8\u5b9a\u91cf\u306e\u6a19\u6e96\u8aa4\u5dee\u3092\u4f7f\u3044\u6a19\u6e96\u5316\u3059\u308b\u3068\u4ee5\u4e0b\u304c\u6210\u7acb\u3059\u308b\u3002\n",
                "\n",
                "    $$\n",
                "    \\frac{\\hat{\\beta}_j-\\beta_j}{\\text{se}\\left(\\hat{\\beta}_j\\right)}\\sim t_{n-k-1}\n",
                "    $$\n",
                "    \n",
                "    \u3053\u3053\u3067$t_{n-k-1}$\u306f\u81ea\u7531\u5ea6$n-k-1$\u306e$t$\u5206\u5e03\u3092\u8868\u3057\u3066\u3044\u308b\u3002$n$\u306f\u6a19\u672c\u306e\u5927\u304d\u3055\uff0c$k$\u306f\u5b9a\u6570\u9805\u4ee5\u5916\u306e\u8aac\u660e\u5909\u6570\u306e\u6570\u3067\u3042\u308b\uff08\u5b9a\u6570\u9805\u304c\u3042\u308b\u5834\u5408\uff09\u3002"
            ]
        },
        {
            "cell_type": "markdown",
            "metadata": {
                "hidden": true
            },
            "source": [
                "---\n",
                "\u3053\u306e\u95a2\u4fc2\u3092\u4f7f\u3046\u3053\u3068\u306b\u3088\u308aOLS\u63a8\u5b9a\u91cf\u306e\u691c\u5b9a\u304c\u53ef\u80fd\u3068\u306a\u308b\u3002\n",
                "\n",
                "* \u5e30\u7121\u4eee\u8aac\uff1a$H_0:\\hat{\\beta}_j=0$\n",
                "    * $H_0$\u304c\u6b63\u3057\u3044\u5834\u5408\uff0c$t$\u7d71\u8a08\u91cf\u306f\u6b21\u306e\u5206\u5e03\u306b\u5f93\u3046\u3002\n",
                "    \n",
                "        $$\n",
                "        t_{\\hat{\\beta}_j}\\equiv\\frac{\\hat{\\beta}_j}{\\text{se}\\left(\\hat{\\beta}_j\\right)}\\sim t_{n-k-1}\n",
                "        $$\n",
                "        \n",
                "* \u5bfe\u7acb\u4eee\u8aac\u3068\u68c4\u5374\u30eb\u30fc\u30eb\uff08$\\alpha=$\u6709\u610f\u6c34\u6e96\uff09\uff1a\n",
                "    * \u53f3\u5074\u691c\u5b9a\uff1a$H_A:\\hat{\\beta}_j>0$\n",
                "    \n",
                "        $$\n",
                "        t_{\\hat{\\beta}_j}>t_c(\\alpha)>0\\quad\\Rightarrow\\quad H_0\\text{\u3092\u68c4\u5374\u3059\u308b}\n",
                "        $$\n",
                "        \n",
                "    * \u5de6\u5074\u691c\u5b9a\uff1a$H_A:\\hat{\\beta}_j<0$\n",
                "    \n",
                "        $$\n",
                "        t_{\\hat{\\beta}_j}<t_c(\\alpha)<0\\quad\\Rightarrow\\quad H_0\\text{\u3092\u68c4\u5374\u3059\u308b}\n",
                "        $$\n",
                "        \n",
                "    * \u4e21\u5074\u691c\u5b9a\uff1a$H_A:\\hat{\\beta}_j\\neq 0$\n",
                "    \n",
                "        $$\n",
                "        \\left|t_{\\hat{\\beta}_j}\\right|>t_c(\\alpha/2)>0\\quad\\Rightarrow\\quad H_0\\text{\u3092\u68c4\u5374\u3059\u308b}\n",
                "        $$\n",
                "\n",
                "\n",
                "\u3053\u3053\u3067\uff0c$t_c(\\alpha)$\u306f\u6709\u610f\u6c34\u6e96$\\alpha$\u306b\u5bfe\u5fdc\u3059\u308b\u7247\u5074\u691c\u5b9a\u306e\u68c4\u5374\u81e8\u754c\u5024\u3067\u3042\u308a\u3001$t_c(\\alpha/2)$\u306f\u6709\u610f\u6c34\u6e96$\\alpha$\u306b\u5bfe\u5fdc\u3059\u308b\u4e21\u5074\u691c\u5b9a\u306e\u68c4\u5374\u81e8\u754c\u5024\u3067\u3042\u308b\u3002"
            ]
        },
        {
            "cell_type": "markdown",
            "metadata": {
                "hidden": true
            },
            "source": [
                "---\n",
                "**\uff1c$p$\u5024\uff1e**\n",
                "\n",
                "$p$\u5024\u306f\uff0c\u5e30\u7121\u4eee\u8aac\u304c\u6b63\u3057\u3044\u5834\u5408\u306b\u89b3\u6e2c\u3055\u308c\u305f\u4e8b\u8c61\u304c\u8d77\u3053\u3063\u305f\u78ba\u7387\u3067\u3042\u308b\u3002\u5373\u3061\u3001$p$\u5024\u304c\u975e\u5e38\u306b\u4f4e\u3044\u5834\u5408\uff08\u4f8b\u3048\u3070\u30010.01\uff09\u3001\u5e30\u7121\u4eee\u8aac\u306e\u3082\u3068\u3067\u767a\u751f\u3057\u305f\u4e8b\u8c61\u306f\u975e\u5e38\u306b\u8d77\u3053\u308a\u306b\u304f\u304f\uff0c\u5076\u7136\u306e\u306e\u53ef\u80fd\u6027\u304c\u975e\u5e38\u306b\u9ad8\u3044\u3053\u3068\u3092\u610f\u5473\u3059\u308b\u3002\u307e\u305f\u3001\u7b2c\u4e00\u7a2e\u904e\u8aa4\u306e\u78ba\u7387\u306f\u975e\u5e38\u306b\u4f4e\u3044\u3053\u3068\u3082\u610f\u5473\u3059\u308b\u3002\n",
                "\n",
                "$p$\u5024\u3092\u4f7f\u3046\u5834\u5408\u306e\u691c\u5b9a\u624b\u9806\n",
                "* \u68c4\u5374\u3059\u308b\u305f\u3081\u306e\u6709\u610f\u6c34\u6e96 $\\alpha$\u3092\u6c7a\u3081\u308b\uff08\u4f8b\u3048\u3070\uff0c0.05\uff09\n",
                "* $p\u5024\\leq \\alpha$\u306e\u5834\u5408\uff0c$\\text{H}_0$\u3092\u68c4\u5374"
            ]
        },
        {
            "cell_type": "markdown",
            "metadata": {
                "heading_collapsed": true,
                "hidden": true
            },
            "source": [
                "### $t$\u5024\u3068$p$\u5024\u306e\u4f8b"
            ]
        },
        {
            "cell_type": "markdown",
            "metadata": {
                "hidden": true
            },
            "source": [
                "\u5b9a\u6570\u9805\u304c\u3042\u308a\n",
                "* \u6709\u610f\u6c34\u6e96\uff1a$\\alpha=0.05$\n",
                "* \u6a19\u672c\u306e\u5927\u304d\u3055\uff1a$n=30$\n",
                "* \u8aac\u660e\u5909\u6570\u306e\u6570\uff08\u5b9a\u6570\u9805\u4ee5\u5916\uff09\uff1a$k=5$\n",
                "\n",
                "\u306e\u5834\u5408\u3092\u8003\u3048\u3088\u3046\u3002"
            ]
        },
        {
            "cell_type": "markdown",
            "metadata": {
                "heading_collapsed": true,
                "hidden": true
            },
            "source": [
                "#### $t$\u5024"
            ]
        },
        {
            "cell_type": "markdown",
            "metadata": {
                "hidden": true
            },
            "source": [
                "\u53f3\u5074\u691c\u5b9a\u306e\u5834\u5408\u306e$t_c(0.05)$\u306f\u6b21\u306e\u5024\u3068\u306a\u308b\u3002"
            ]
        },
        {
            "cell_type": "code",
            "execution_count": null,
            "metadata": {},
            "outputs": [],
            "source": [
                "\n",
                "\n",
                "",
                "",
                ""
            ]
        },
        {
            "cell_type": "markdown",
            "metadata": {
                "hidden": true
            },
            "source": [
                "\u5de6\u5074\u691c\u5b9a\u306e\u5834\u5408\u306e$t_c(0.05)$\u306f\u6b21\u306e\u5024\u3068\u306a\u308b\u3002"
            ]
        },
        {
            "cell_type": "code",
            "execution_count": null,
            "metadata": {},
            "outputs": [],
            "source": [
                "\n"
            ]
        },
        {
            "cell_type": "markdown",
            "metadata": {
                "hidden": true
            },
            "source": [
                "\u4e21\u5074\u691c\u5b9a\u306e\u5834\u5408\u306e$t_c(0.05)$\u306f\u3001$1-a/2$\u3092\u4f7f\u3046\u3068\u6b21\u306e\u30b3\u30fc\u30c9\u3068\u306a\u308b\u3002"
            ]
        },
        {
            "cell_type": "code",
            "execution_count": null,
            "metadata": {},
            "outputs": [],
            "source": [
                "\n"
            ]
        },
        {
            "cell_type": "markdown",
            "metadata": {
                "hidden": true
            },
            "source": [
                "$a/2$\u3092\u4f7f\u3046\u3068\u6b21\u306e\u30b3\u30fc\u30c9\u3067\u540c\u3058\u5024\u3092\u8a08\u7b97\u3067\u304d\u308b\u3002"
            ]
        },
        {
            "cell_type": "code",
            "execution_count": null,
            "metadata": {},
            "outputs": [],
            "source": []
        },
        {
            "cell_type": "markdown",
            "metadata": {
                "hidden": true
            },
            "source": [
                "`abs()`\u306f\u7d76\u5bfe\u5024\u3092\u8a08\u7b97\u3059\u308b\u95a2\u6570\u3067\u3042\u308b\u3002"
            ]
        },
        {
            "cell_type": "markdown",
            "metadata": {
                "heading_collapsed": true,
                "hidden": true
            },
            "source": [
                "#### $p$\u5024"
            ]
        },
        {
            "cell_type": "markdown",
            "metadata": {
                "hidden": true
            },
            "source": [
                "$p$\u5024\u306e\u8a08\u7b97\u306e\u4f8b\u3068\u3057\u3066\u4e0a\u306e`t_right`\u3001`t_left`\u3001`t_both`\u3092\u4f7f\u3063\u3066\u307f\u308b\u3002\n",
                "\n",
                "\u53f3\u5074\u691c\u5b9a\u3067$t_{\\hat{\\beta}_j}=$\n",
                "`t_right`\u306e\u5834\u5408\uff0c$p$\u5024\u306f\u6b21\u306e\u5024\u306b\u306a\u308b\u3002"
            ]
        },
        {
            "cell_type": "code",
            "execution_count": null,
            "metadata": {},
            "outputs": [],
            "source": []
        },
        {
            "cell_type": "markdown",
            "metadata": {
                "hidden": true
            },
            "source": [
                "\u5de6\u5074\u691c\u5b9a\u3067$t_{\\hat{\\beta}_j}=$\n",
                "`t_left`\u306e\u5834\u5408\uff0c$p$\u5024\u306f\u6b21\u306e\u5024\u306b\u306a\u308b\u3002"
            ]
        },
        {
            "cell_type": "code",
            "execution_count": null,
            "metadata": {},
            "outputs": [],
            "source": []
        },
        {
            "cell_type": "markdown",
            "metadata": {
                "hidden": true
            },
            "source": [
                "\u4e21\u5074\u691c\u5b9a\u3067$\\left|t_{\\hat{\\beta}_j}\\right|=$\n",
                "`t_both`\u306e\u5834\u5408\uff0c$p$\u5024\u306f\u6b21\u306e\u5024\u306b\u306a\u308b\u3002"
            ]
        },
        {
            "cell_type": "code",
            "execution_count": null,
            "metadata": {},
            "outputs": [],
            "source": []
        },
        {
            "cell_type": "markdown",
            "metadata": {
                "hidden": true
            },
            "source": [
                "```{figure} ./images/t_p_values.jpeg\n",
                ":align: center\n",
                "\n",
                "\u4e0a\u3067\u8a08\u7b97\u3057\u305f\u6570\u5024\u306e\u56f3\u793a\uff08\u7d2f\u7a4d\u5206\u5e03\u95a2\u6570\u3068\u78ba\u7387\u5bc6\u5ea6\u95a2\u6570\u306f$t$\u5206\u5e03\uff09\u3002\n",
                "```"
            ]
        },
        {
            "cell_type": "markdown",
            "metadata": {
                "heading_collapsed": true,
                "hidden": true
            },
            "source": [
                "### \u56de\u5e30\u5206\u6790\u3068$t$\u691c\u5b9a"
            ]
        },
        {
            "cell_type": "markdown",
            "metadata": {
                "hidden": true
            },
            "source": [
                "`gpa1`\u306e\u30c7\u30fc\u30bf\u3092\u4f7f\u3063\u305f\u56de\u5e30\u5206\u6790\u3092\u8003\u3048\u3088\u3046\u3002 "
            ]
        },
        {
            "cell_type": "code",
            "execution_count": null,
            "metadata": {},
            "outputs": [],
            "source": [
                "\n"
            ]
        },
        {
            "cell_type": "markdown",
            "metadata": {
                "hidden": true
            },
            "source": [
                "\u3053\u306e\u30c7\u30fc\u30bf\u30bb\u30c3\u30c8\u3092\u4f7f\u3044\uff0c\u6b21\u306e\u554f\u984c\u3092\u8003\u3048\u308b\u3002\u30df\u30b7\u30ac\u30f3\u5dde\u7acb\u5927\u5b66\u3067\u5b66\u751f\u306eGPA\uff08`colGDP`\uff09\u306f\u4ee5\u4e0b\u306e\u5909\u6570\u3068\u3069\u306e\u3088\u3046\u306a\u95a2\u4fc2\u306b\u3042\u308b\u306e\u304b\u3002\n",
                "* `hsGPA`\uff1a\u9ad8\u6821\u306eGPA\n",
                "* `ACT`\uff1a\u7c73\u56fd\u5927\u5b66\u9032\u5b66\u9069\u6027\u8a66\u9a13\n",
                "* `skipped`\uff1a\u9031\u5e73\u5747\u306e\u8b1b\u7fa9\u6b20\u5e2d\u56de\u6570"
            ]
        },
        {
            "cell_type": "code",
            "execution_count": null,
            "metadata": {},
            "outputs": [],
            "source": [
                "\n"
            ]
        },
        {
            "cell_type": "markdown",
            "metadata": {
                "hidden": true
            },
            "source": [
                "`res_gpa`\u306e\u5c5e\u6027`tvalues`\u3092\u4f7f\u3044$t$\u5024\u3092\u8868\u793a\u3057\u3066\u307f\u308b\u3002"
            ]
        },
        {
            "cell_type": "code",
            "execution_count": null,
            "metadata": {},
            "outputs": [],
            "source": []
        },
        {
            "cell_type": "markdown",
            "metadata": {
                "hidden": true
            },
            "source": [
                "\u3053\u306e$t$\u5024\u306e\u30e1\u30bd\u30c3\u30c9`.to_numpy()`\u3092\u4f7f\u3044`array`\u306b\u5909\u63db\u3057\u7d76\u5bfe\u5024\u3092\u53d6\u308a\u3001\u4efb\u610f\u306e\u68c4\u5374\u81e8\u754c\u5024\u3068\u6bd4\u8f03\u3059\u308b\u3053\u3068\u306b\u3088\u308a\u4e21\u5074\u691c\u5b9a\u3092\u884c\u3046\u95a2\u6570\u3092\u4f5c\u308b\u3002"
            ]
        },
        {
            "cell_type": "code",
            "execution_count": null,
            "metadata": {},
            "outputs": [],
            "source": [
                "\n",
                "\n",
                "",
                "",
                "",
                "",
                "",
                "",
                "",
                "",
                "",
                ""
            ]
        },
        {
            "cell_type": "markdown",
            "metadata": {
                "hidden": true
            },
            "source": [
                "`res_gpa`\u306e\u5c5e\u6027`pvalues`\u304b\u3089$p$\u5024\u3092\u8868\u793a\u3057\u3066\u307f\u3088\u3046\u3002"
            ]
        },
        {
            "cell_type": "code",
            "execution_count": null,
            "metadata": {},
            "outputs": [],
            "source": []
        },
        {
            "cell_type": "raw",
            "metadata": {
                "hidden": true
            },
            "source": [
                "$t$\u5024\u3068$p$\u5024\u3092\u542b\u3081\u3066\u8868\u306b\u307e\u3068\u3081\u305f\u3082\u306e\u3092\u8868\u793a\u3057\u3066\u307f\u308b\u3002"
            ]
        },
        {
            "cell_type": "code",
            "execution_count": null,
            "metadata": {},
            "outputs": [],
            "source": []
        },
        {
            "cell_type": "markdown",
            "metadata": {
                "hidden": true
            },
            "source": [
                "* `coef`: OLS\u63a8\u5b9a\u91cf\uff08$\\hat{\\beta}_j$\uff09\n",
                "* `std err`: OLS\u63a8\u5b9a\u91cf\u306e\u6a19\u6e96\u8aa4\u5dee\uff08$\\text{se}(\\hat{\\beta}_j)$\uff09\n",
                "* `t`: $t$\u5024\n",
                "* `p`: $p$\u5024\n",
                "* `[0.025 0.975]`: \u4fe1\u983c\u533a\u9593\uff08\u6b21\u306e\u7bc0\u3092\u53c2\u7167\uff09 \n",
                "\n",
                "OLS\u63a8\u5b9a\u91cf\u306e\u6a19\u6e96\u8aa4\u5dee\u306f\u5c5e\u6027`.bse`\u3068\u3057\u3066\u53d6\u5f97\u3067\u304d\u308b\u3002"
            ]
        },
        {
            "cell_type": "code",
            "execution_count": null,
            "metadata": {},
            "outputs": [],
            "source": []
        },
        {
            "cell_type": "markdown",
            "metadata": {
                "heading_collapsed": true
            },
            "source": [
                "## \u4fe1\u983c\u533a\u9593"
            ]
        },
        {
            "cell_type": "markdown",
            "metadata": {
                "heading_collapsed": true,
                "hidden": true
            },
            "source": [
                "### \u4fe1\u983c\u533a\u9593\u306e\u8a08\u7b97"
            ]
        },
        {
            "cell_type": "markdown",
            "metadata": {
                "hidden": true
            },
            "source": [
                "\u4fe1\u983c\u533a\u9593\u306f\u4ee5\u4e0b\u306e\u3088\u3046\u306b\u5b9a\u7fa9\u3055\u308c\u308b\u3002\n",
                "\n",
                "$$\n",
                "\\hat{\\beta}_j\\pm t_c(a)\\cdot se\\left(\\hat{\\beta}_j\\right)\n",
                "$$\n",
                "\n",
                "\u3053\u3053\u3067\uff0c$a$\u306f\u6709\u610f\u6c34\u6e96\u3067\u3042\u308b\u3002\n",
                "\n",
                "**\uff08\u89e3\u91c8\uff09**\n",
                "\n",
                "\u6a19\u672c\u3092\u53d6\u308aOLS\u63a8\u5b9a\u91cf\u3092\u8a08\u7b97\u3059\u308b\u3068\u3044\u3046\u30d7\u30ed\u30bb\u30b9\u3092100\u56de\u7e70\u308a\u8fd4\u3057\u305f\u5834\u5408\uff08\u305d\u308c\u304c\u53ef\u80fd\u306a\u5834\u5408\u3001\u305d\u308c\u305e\u308c\u306e\u6a19\u672c\u306f\u7570\u306a\u308a$\\hat{\\beta}_j$\u3082\u7570\u306a\u308b\u3053\u3068\u306b\u306a\u308b\uff09\uff0c\u305d\u306e\u5185\uff0c\u6bcd\u96c6\u56e3\u306e\uff08\u771f\u306e\uff09$\\beta_j$\u306e\u5024\u304c\u4fe1\u983c\u533a\u9593\u306b\u5165\u308b\u306e\u306f$(1-a)\\times 100$\u56de\u3067\u3042\u308b\uff08$a=0.05$\u306e\u5834\u5408\uff0c95\u56de\uff09\u3002"
            ]
        },
        {
            "cell_type": "markdown",
            "metadata": {
                "hidden": true
            },
            "source": [
                "`gpa`\u306e\u4f8b\u3092\u8003\u3048\u308b\u3002`res_gpa`\u306e\u5c5e\u6027\u304b\u3089\u4fe1\u983c\u533a\u9593\u3092\u53d6\u5f97\u3067\u304d\u308b\u3002"
            ]
        },
        {
            "cell_type": "code",
            "execution_count": null,
            "metadata": {},
            "outputs": [],
            "source": []
        },
        {
            "cell_type": "markdown",
            "metadata": {
                "hidden": true
            },
            "source": [
                "\u6709\u610f\u6c34\u6e96\u306e\u30aa\u30d7\u30b7\u30e7\u30f3`alpha=`\u3092\u6307\u5b9a\u3059\u308b\u3053\u3068\u3082\u3067\u304d\u308b\uff08\u30c7\u30d5\u30a9\u30eb\u30c8\u306f`0.05`\uff09\u3002\u6709\u610f\u6c34\u6e96\u304c1\uff05\u306e\u5834\u5408\u306f\u6b21\u306e\u3088\u3046\u306b\u6307\u5b9a\u3059\u308b\u3002"
            ]
        },
        {
            "cell_type": "code",
            "execution_count": null,
            "metadata": {},
            "outputs": [],
            "source": []
        },
        {
            "cell_type": "markdown",
            "metadata": {
                "hidden": true
            },
            "source": [
                "OLS\u63a8\u5b9a\u5024\u306f1\u3064\u306e\u5024\u3092\u8fd4\u3059\u300c\u70b9\u63a8\u5b9a\u300d\u3060\u304c\uff0c\u4fe1\u983c\u533a\u9593\u306f\u6709\u610f\u6c34\u6e96\u306b\u57fa\u3065\u304f\u300c\u533a\u9593\u63a8\u5b9a\u300d\u3067\u3042\u308b\u3002\u4e21\u65b9\u3092\u78ba\u8a8d\u3059\u308b\u3053\u3068\u304c\u5927\u4e8b\u3067\u3042\u308b\u3002\u4f8b\u3048\u3070\u3001`ACT`\u306e\u4fe1\u983c\u533a\u9593\u3092\u8003\u3048\u3088\u3046\u3002100\u56de\u63a8\u5b9a\u3092\u3057\u305f\u5834\u5408\uff0c\u6bcd\u96c6\u56e3\u306e$\\beta_{ACT}$\u306e\u5024\u306f95\u56de\u3053\u306e\u533a\u9593\u306b\u5165\u308b\u3053\u3068\u306b\u306a\u308b\u304c\uff0c\u6709\u610f\u6c34\u6e96\u304c1%\u3067\u30825%\u3067\u3082`0`\u304c\u542b\u307e\u308c\u3066\u3044\u308b\u30020\u306e\u53ef\u80fd\u6027\u304c\u9ad8\u3044\u3053\u3068\u3092\u793a\u3057\u3066\u3044\u308b\u3002"
            ]
        },
        {
            "cell_type": "markdown",
            "metadata": {
                "heading_collapsed": true,
                "hidden": true
            },
            "source": [
                "### \u4fe1\u983c\u533a\u9593\u306e\u56f3\u793a"
            ]
        },
        {
            "cell_type": "markdown",
            "metadata": {
                "hidden": true
            },
            "source": [
                "`matplotlib`\u306e`errorbar`\u3092\u4f7f\u3044\u56f3\u793a\u3059\u308b\u3002"
            ]
        },
        {
            "cell_type": "code",
            "execution_count": null,
            "metadata": {},
            "outputs": [],
            "source": [
                "\n",
                "\n",
                "",
                "",
                "",
                "",
                "",
                ""
            ]
        },
        {
            "cell_type": "markdown",
            "metadata": {
                "hidden": true
            },
            "source": [
                "`ACT`\u306e\u4fe1\u983c\u533a\u9593\u306b`0`\u304c\u542b\u307e\u308c\u308b\u3053\u3068\u304c\u5206\u304b\u308b\u3002"
            ]
        },
        {
            "cell_type": "markdown",
            "metadata": {
                "heading_collapsed": true
            },
            "source": [
                "## $F$\u691c\u5b9a"
            ]
        },
        {
            "cell_type": "markdown",
            "metadata": {
                "heading_collapsed": true,
                "hidden": true
            },
            "source": [
                "### \u8aac\u660e"
            ]
        },
        {
            "cell_type": "markdown",
            "metadata": {
                "hidden": true
            },
            "source": [
                "\u56de\u5e30\u5206\u6790\u306b\u304a\u3044\u3066\u8907\u6570\u306eOLS\u63a8\u5b9a\u91cf\u306b\u4f55\u3089\u304b\u306e\u5236\u7d04\u304c\u59a5\u5f53\u304b\u3069\u3046\u304b\u3092\u8abf\u3079\u308b\u969b\u306b\u4f7f\u3046\u306e\u304c$F$\u691c\u5b9a\u3067\u3042\u308b\u3002\u4f8b\u3048\u3070\uff0c\u6b21\u306e\u56de\u5e30\u5f0f\u306e\u5834\u5408\n",
                "\n",
                "$$\n",
                "y=\\beta_0+\\beta_1x_1+\\beta_2x_2+\\beta_3x_3+u\n",
                "$$\n",
                "\n",
                "\u5236\u7d04\u5f0f\u306e\u4f8b\u3068\u3057\u3066\u4ee5\u4e0b\u304c\u6319\u3052\u3089\u308c\u308b\u3002\n",
                "\n",
                "$\\beta_1=\\beta_2=\\beta_3=0$\n",
                "\n",
                "$\\beta_2=\\beta_3=0$\n",
                "\n",
                "$\\beta_2=2\\beta_3$"
            ]
        },
        {
            "cell_type": "markdown",
            "metadata": {
                "hidden": true
            },
            "source": [
                "---\n",
                "\u5e30\u7121\u4eee\u8aac\u3068\u5bfe\u7acb\u4eee\u8aac\u306f\u6b21\u306e\u3088\u3046\u306b\u306a\u308b\u3002\n",
                "* \u5e30\u7121\u4eee\u8aac\uff1a$\\text{H}_0$\uff1a\u5236\u7d04\u304c\u6210\u7acb\u3059\u308b\n",
                "* \u5bfe\u7acb\u4eee\u8aac\uff1a$\\text{H}_A$\uff1a\u5236\u7d04\u306f\u6210\u7acb\u3057\u306a\u3044\n",
                "\n",
                "\u691c\u5b9a\u624b\u9806\n",
                "1. \u5236\u7d04\u304c\u306a\u3044\u56de\u5e30\u5f0f\u3092\u63a8\u5b9a\u3059\u308b\u3002\n",
                "2. \u5236\u7d04\u304c\u3042\u308b\u56de\u5e30\u5f0f\u3092\u63a8\u5b9a\u3059\u308b\u3002\n",
                "3. \u6b21\u306e\u5f0f\u306b\u5f93\u3044$F$\u5024\u3092\u8a08\u7b97\u3059\u308b\n",
                "\n",
                "    $$\n",
                "    F=\\frac{\\left(SSR_1-SSR_0\\right)/q}{SSR_0/(n-k-1)}\n",
                "    =\\frac{\\left(R_0^2-R_1^2\\right)/q}{\\left(1-R_0^2\\right)/(n-k-1)}\n",
                "    \\sim F_{n-k-1}^q\n",
                "    $$\n",
                "    \n",
                "    \u5de6\u8fba\u306e$F$\u306f$F$\u5024\u3001\u53f3\u8fba\u306e$F_{n-k-1}^q$\u306f\u81ea\u7531\u5ea6\u304c$q$\u3068$n-k-1$\u306e$F$\u5206\u5e03\u3002\n",
                "\n",
                "4. \u6709\u610f\u6c34\u6e96\u306b\u57fa\u3065\u304f\u68c4\u5374\u81e8\u754c\u5024\u3068\u6bd4\u3079\u308b\uff08\u3082\u3057\u304f\u306f$p$\u5024\u3092\u6709\u610f\u6c34\u6e96\u3068\u6bd4\u3079\u308b\uff09"
            ]
        },
        {
            "cell_type": "markdown",
            "metadata": {
                "hidden": true
            },
            "source": [
                "\u4e0a\u306e\u5f0f\u3067\n",
                "* $0$\uff1a\u5236\u7d04\u304c\u306a\u3044\u5909\u6570\u306e\u6dfb\u3048\u5b57\n",
                "* $1$\uff1a\u5236\u7d04\u304c\u3042\u308b\u5909\u6570\u306e\u6dfb\u3048\u5b57\n",
                "* $SSR$\uff1a\u6b8b\u5dee\u5909\u52d5\u306e\u5e73\u65b9\u548c\uff08Residual Sum of Squares\uff09\n",
                "* $R^2$\uff1a\u6c7a\u5b9a\u4fc2\u6570\n",
                "* $n$\uff1a\u6a19\u672c\u306e\u5927\u304d\u3055\n",
                "* $k$\uff1a\u5b9a\u6570\u9805\u4ee5\u5916\u306e\u8aac\u660e\u5909\u6570\uff08\u5236\u7d04\u304c\u306a\u3044\u56de\u5e30\u5f0f\uff09\n",
                "* $q$\uff1a\u5236\u7d04\u5f0f\u306e\u6570\n",
                "\n",
                "\u540d\u79f0\uff1a\n",
                "* $q$\u3092\u300c\u5206\u5b50\u306e\u81ea\u7531\u5ea6\u300d\u3068\u547c\u3076\n",
                "* $n-k-1$\u3092\u300c\u5206\u6bcd\u306e\u81ea\u7531\u5ea6\u300d\u3068\u547c\u3076"
            ]
        },
        {
            "cell_type": "markdown",
            "metadata": {
                "hidden": true
            },
            "source": [
                "---\n",
                "**\uff1c\u68c4\u5374\u30eb\u30fc\u30eb\uff1e**\n",
                "\n",
                "$F>F_c(a)$\u3000$\\Rightarrow$\u3000$\\text{H}_0$\u3092\u68c4\u5374\n",
                "\n",
                "* $F_c(a)$\uff1a\u68c4\u5374\u81e8\u754c\u5024\n",
                "* $a$\uff1a\u6709\u610f\u6c34\u6e96\n",
                "\n",
                "\uff08\u6ce8\u610f\uff09$F$\u5024\u306f\u5fc5\u305a\u6b63\u306e\u5024\u3092\u3068\u308b\u3002\u5f93\u3063\u3066\uff0c$t$\u691c\u5b9a\u306e\u300c\u53f3\u7247\u5074\u691c\u5b9a\u300d\u306e\u30d1\u30bf\u30fc\u30f3\u3057\u304b\u5b58\u5728\u3057\u306a\u3044\u3002"
            ]
        },
        {
            "cell_type": "markdown",
            "metadata": {
                "hidden": true
            },
            "source": [
                "**\uff1c$p$\u5024\u3092\u4f7f\u3046\u5834\u5408\u306e\u624b\u9806\uff1e**\n",
                "\n",
                "* \u68c4\u5374\u3059\u308b\u305f\u3081\u306e\u6709\u610f\u6c34\u6e96 $a$\u3092\u6c7a\u3081\u308b\uff08\u4f8b\u3048\u3070\uff0c0.05\uff09\n",
                "* $p\u5024<a$\u306e\u5834\u5408\uff0c$\\text{H}_0$\u3092\u68c4\u5374"
            ]
        },
        {
            "cell_type": "markdown",
            "metadata": {
                "heading_collapsed": true,
                "hidden": true
            },
            "source": [
                "### \u56de\u5e30\u5206\u6790"
            ]
        },
        {
            "cell_type": "markdown",
            "metadata": {
                "hidden": true
            },
            "source": [
                "\u4f8b\u3068\u3057\u3066\u7c73\u56fd\u91ce\u7403\u9078\u624b\uff08\u30e1\u30b8\u30e3\u30fc\u30ea\u30fc\u30b0\uff09\u306b\u95a2\u3059\u308b\u30c7\u30fc\u30bf`mlb1`\u3092\u4f7f\u3046\u3002"
            ]
        },
        {
            "cell_type": "code",
            "execution_count": null,
            "metadata": {},
            "outputs": [],
            "source": [
                "\n"
            ]
        },
        {
            "cell_type": "markdown",
            "metadata": {
                "hidden": true
            },
            "source": [
                "\u3053\u306e\u30c7\u30fc\u30bf\u30bb\u30c3\u30c8\u3092\u4f7f\u3044\uff0c\u5e74\u4ff8\uff08`salary`\uff09\u304c\u6b21\u306e\u5909\u6570\u3068\u3069\u3046\u95a2\u4fc2\u3059\u308b\u304b\u3092\u8003\u3048\u308b\u3002\n",
                "* `years`\uff1a\u30e1\u30b8\u30e3\u30fc\u30ea\u30fc\u30b0\u3067\u30d7\u30ec\u30a4\u3057\u305f\u671f\u9593\uff08\u5e74\uff09\n",
                "* `gamesyr`\uff1a\u5e74\u9593\u51fa\u5834\u56de\u6570\n",
                "* `bavg`\uff1a\u901a\u7b97\u6253\u7387\n",
                "* `hrunsyr`\uff1a\uff11\u30b7\u30fc\u30ba\u30f3\u3042\u305f\u308a\u30db\u30fc\u30e0\u30e9\u30f3\u6570\n",
                "* `rbinsyr`\uff1a\uff11\u30b7\u30fc\u30ba\u30f3\u3042\u305f\u308a\u6253\u70b9\n",
                "\n",
                "\u307e\u305a\u5236\u7d04\u304c\u306a\u3044\u56de\u5e30\u5206\u6790\u3092\u304a\u3053\u306a\u3046\u3002"
            ]
        },
        {
            "cell_type": "code",
            "execution_count": null,
            "metadata": {},
            "outputs": [],
            "source": [
                "\n"
            ]
        },
        {
            "cell_type": "markdown",
            "metadata": {
                "heading_collapsed": true,
                "hidden": true
            },
            "source": [
                "#### \u4f8b\uff11"
            ]
        },
        {
            "cell_type": "markdown",
            "metadata": {
                "hidden": true
            },
            "source": [
                "**\uff1c\u5236\u7d04\uff1e**\n",
                "`bavg`, `hrunsyr`, `rbisyr`\u306f`salary`\u306b\u5f71\u97ff\u3092\u4e0e\u3048\u306a\u3044\u3002\n",
                "\n",
                "$H_0:\\;\\beta_{\\text{bavg}}=\\beta_{\\text{hrunsyr}}=\\beta_{\\text{rbisyr}}=0$\n",
                "\n",
                "$H_A:\\;H_0\u306f\u6210\u7acb\u3057\u306a\u3044$"
            ]
        },
        {
            "cell_type": "markdown",
            "metadata": {
                "hidden": true
            },
            "source": [
                "\u5236\u7d04\u304c\u3042\u308b\u5834\u5408\u306e\u56de\u5e30\u5206\u6790"
            ]
        },
        {
            "cell_type": "code",
            "execution_count": null,
            "metadata": {},
            "outputs": [],
            "source": [
                "\n"
            ]
        },
        {
            "cell_type": "markdown",
            "metadata": {
                "heading_collapsed": true,
                "hidden": true
            },
            "source": [
                "##### \u624b\u8a08\u7b97"
            ]
        },
        {
            "cell_type": "markdown",
            "metadata": {
                "hidden": true
            },
            "source": [
                "$F$\u5024\u306e\u8a08\u7b97"
            ]
        },
        {
            "cell_type": "code",
            "execution_count": null,
            "metadata": {},
            "outputs": [],
            "source": [
                "# \u6c7a\u5b9a\u4fc2\u6570\n",
                "\n",
                "\n",
                "",
                "",
                "",
                "",
                "",
                "# F\u5024:\n",
                "\n"
            ]
        },
        {
            "cell_type": "markdown",
            "metadata": {
                "hidden": true
            },
            "source": [
                "$a=0.05$\u306e\u5834\u5408\u306e\u68c4\u5374\u81e8\u754c\u5024"
            ]
        },
        {
            "cell_type": "code",
            "execution_count": null,
            "metadata": {},
            "outputs": [],
            "source": [
                "\n"
            ]
        },
        {
            "cell_type": "markdown",
            "metadata": {
                "hidden": true
            },
            "source": [
                "\u5f93\u3063\u3066$H_0$\u3092\u68c4\u5374\u3059\u308b\u3002"
            ]
        },
        {
            "cell_type": "markdown",
            "metadata": {
                "hidden": true
            },
            "source": [
                "$p$\u5024"
            ]
        },
        {
            "cell_type": "code",
            "execution_count": null,
            "metadata": {},
            "outputs": [],
            "source": []
        },
        {
            "cell_type": "markdown",
            "metadata": {
                "heading_collapsed": true,
                "hidden": true
            },
            "source": [
                "##### \u30e1\u30bd\u30c3\u30c9\u3092\u4f7f\u3046"
            ]
        },
        {
            "cell_type": "markdown",
            "metadata": {
                "hidden": true
            },
            "source": [
                "\u5236\u7d04\u5f0f\u306e\u5b9a\u7fa9"
            ]
        },
        {
            "cell_type": "code",
            "execution_count": null,
            "metadata": {},
            "outputs": [],
            "source": []
        },
        {
            "cell_type": "markdown",
            "metadata": {
                "hidden": true
            },
            "source": [
                "`res_0`\u306e\u30e1\u30bd\u30c3\u30c9`f_test`\u3092\u4f7f\u3044\u3001\u5f15\u6570\u306b\u4e0a\u306e\u30bb\u30eb\u3067\u5b9a\u7fa9\u3057\u305f\u5236\u7d04\u5f0f`hypotheses`\u3092\u4f7f\u3046\u3002"
            ]
        },
        {
            "cell_type": "code",
            "execution_count": null,
            "metadata": {},
            "outputs": [],
            "source": []
        },
        {
            "cell_type": "markdown",
            "metadata": {
                "hidden": true
            },
            "source": [
                "`res_f_test`\u306b`F`\u691c\u5b9a\u306e\u7d50\u679c\u3092\u5272\u308a\u5f53\u3066\u305f\u304c\u3001\u305d\u306e\u30e1\u30bd\u30c3\u30c9`summary()`\u3092\u4f7f\u3044\u7d50\u679c\u3092\u8868\u793a\u3059\u308b\u3002"
            ]
        },
        {
            "cell_type": "code",
            "execution_count": null,
            "metadata": {},
            "outputs": [],
            "source": []
        },
        {
            "cell_type": "markdown",
            "metadata": {
                "hidden": true
            },
            "source": [
                "\u4e0a\u306e\u7d50\u679c\u306b\u3042\u308b\u8a18\u53f7\u306e\u610f\u5473\uff1a\n",
                "* `F`\uff1a$F$\u5024\n",
                "* `p`\uff1a$p$\u5024\n",
                "* `df_denom`\uff1a\u5206\u6bcd\u306e\u81ea\u7531\u5ea6\n",
                "* `df_num`\uff1a\u5206\u5b50\u306e\u81ea\u7531\u5ea6\n",
                "\n",
                "\u624b\u8a08\u7b97\u3068\u540c\u3058\u7d50\u679c\u3067\u3042\u308b\u3002"
            ]
        },
        {
            "cell_type": "markdown",
            "metadata": {
                "heading_collapsed": true,
                "hidden": true
            },
            "source": [
                "#### \u4f8b\uff12"
            ]
        },
        {
            "cell_type": "markdown",
            "metadata": {
                "hidden": true
            },
            "source": [
                "**\uff1c\u5236\u7d04\uff1e**\n",
                "\u5b9a\u6570\u9805\u4ee5\u5916\u306e\u5168\u3066\u306e\u8aac\u660e\u5909\u6570\u306f`salary`\u306b\u5f71\u97ff\u3092\u4e0e\u3048\u306a\u3044\u3002\n",
                "\n",
                "$H_0:\\;\\beta_{\\text{years}}=\\beta_{\\text{gamesyr}}=\\beta_{\\text{bavg}}=\\beta_{\\text{hrunsyr}}=\\beta_{\\text{rbisyr}}=0$\n",
                "\n",
                "$H_A:\\;H_0\u306f\u6210\u7acb\u3057\u306a\u3044$\n",
                "\n",
                "\u3053\u306e\u5834\u5408\uff0c`res_0`\u306e`fvalue`\u304b\u3089$F$\u5024\uff0c`f_pvalue`\u304b\u3089$p$\u5024\u3092\u5c5e\u6027\u3068\u3057\u3066\u53d6\u5f97\u3067\u304d\u308b\u3002"
            ]
        },
        {
            "cell_type": "code",
            "execution_count": null,
            "metadata": {},
            "outputs": [],
            "source": []
        },
        {
            "cell_type": "code",
            "execution_count": null,
            "metadata": {},
            "outputs": [],
            "source": []
        },
        {
            "cell_type": "markdown",
            "metadata": {
                "hidden": true
            },
            "source": [
                "\u4f8b\uff12\u306e\u7d50\u679c\u306fOLS\u63a8\u5b9a\u7d50\u679c\u306e\u30e1\u30bd\u30c3\u30c9`summary()`\u3067\u8868\u793a\u3055\u308c\u308b\u8868\u306b\u3082`F-statistic`\u3068`Prob(F-statistic)`\u3068\u3057\u3066\u793a\u3055\u308c\u3066\u3044\u308b\u3002"
            ]
        },
        {
            "cell_type": "code",
            "execution_count": null,
            "metadata": {},
            "outputs": [],
            "source": []
        }
    ],
    "metadata": {
        "celltoolbar": "Tags",
        "kernel_info": {
            "name": "py4etrics"
        },
        "kernelspec": {
            "display_name": "latest",
            "language": "python",
            "name": "latest"
        },
        "language_info": {
            "codemirror_mode": {
                "name": "ipython",
                "version": 3
            },
            "file_extension": ".py",
            "mimetype": "text/x-python",
            "name": "python",
            "nbconvert_exporter": "python",
            "pygments_lexer": "ipython3",
            "version": "3.8.5"
        },
        "nteract": {
            "version": "0.15.0"
        },
        "toc": {
            "base_numbering": 1,
            "nav_menu": {},
            "number_sections": true,
            "sideBar": true,
            "skip_h1_title": false,
            "title_cell": "Table of Contents",
            "title_sidebar": "Contents",
            "toc_cell": false,
            "toc_position": {},
            "toc_section_display": true,
            "toc_window_display": false
        }
    },
    "nbformat": 4,
    "nbformat_minor": 2
}