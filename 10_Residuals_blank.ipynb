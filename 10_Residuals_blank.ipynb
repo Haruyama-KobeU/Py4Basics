{
    "cells": [
        {
            "cell_type": "markdown",
            "metadata": {},
            "source": [
                "# \u6b8b\u5dee\u8a3a\u65ad"
            ]
        },
        {
            "cell_type": "code",
            "execution_count": null,
            "metadata": {},
            "outputs": [],
            "source": [
                "\n",
                "\n",
                "",
                "",
                "",
                "",
                ""
            ]
        },
        {
            "cell_type": "markdown",
            "metadata": {
                "heading_collapsed": true
            },
            "source": [
                "## \u8aac\u660e"
            ]
        },
        {
            "cell_type": "markdown",
            "metadata": {
                "hidden": true
            },
            "source": [
                "**\uff1c\u76ee\u7684\uff1e**\n",
                "\n",
                "\u5b9f\u969b\u306b\u56de\u5e30\u5206\u6790\u3092\u3059\u308b\u969b\uff0c\u5c11\u306a\u304f\u3068\u3082\uff12\u3064\u306e\u554f\u984c\u304c\u5b58\u5728\u3059\u308b\u3002\n",
                "\n",
                "* \u6bcd\u96c6\u56e3\u56de\u5e30\u5f0f\u81ea\u4f53\u304c\u6b63\u3057\u3044\u304b\u3069\u3046\u304b\uff08\u30e2\u30c7\u30eb\u306e\u7279\u5b9a\u5316\u306e\u554f\u984c\uff09\u3002\n",
                "* GM\u4eee\u5b9a1,4,5\u306f\u89b3\u6e2c\u3067\u304d\u306a\u3044\u6bcd\u96c6\u56e3\u56de\u5e30\u5f0f\u306e\u8aa4\u5dee\u9805\u306b\u95a2\u3059\u308b\u3082\u306e\u3060\u304c\uff0c\u3053\u308c\u3089\u306e\u4eee\u5b9a\u304c\u6210\u7acb\u3059\u308b\u304b\u3069\u3046\u304b\u3002\n",
                "\n",
                "\u3053\u308c\u3089\u306f\u91cd\u8981\u306a\u554f\u984c\u3067\u3042\u308a\uff0c\u975e\u5e38\u306b\u96e3\u3057\u3044\u554f\u984c\u3067\u3082\u3042\u308b\u3002\uff11\u3064\u306e\u5bfe\u51e6\u65b9\u6cd5\u3068\u3057\u3066\uff0c\u8aa4\u5dee\u9805\u306e\u63a8\u5b9a\u5024\u3067\u3042\u308b\u6b8b\u5dee\u306e\u5024\u306e\u5206\u5e03\u306a\u3069\u56f3\u793a\u3057\u3066\u5927\u307e\u304b\u306a\u5224\u65ad\u3092\u3059\u308b\u65b9\u6cd5\u304c\u3042\u308b\u3002\u3053\u3053\u3067\u306f\u3053\u306e\u624b\u6cd5\u306b\u3064\u3044\u3066\u8003\u3048\u308b\u3053\u3068\u306b\u3059\u308b\u3002\n",
                "\n",
                "**\uff1c\u5185\u5bb9\uff1e**\n",
                "1. \u6b8b\u5dee\u3068$R^2$\n",
                "    * \u6b8b\u5dee\u3068\u6c7a\u5b9a\u4fc2\u6570\u306e\u95a2\u4fc2\u3092\u30b7\u30df\u30e5\u30ec\u30fc\u30b7\u30e7\u30f3\u3067\u78ba\u8a8d\u3059\u308b\u3002\n",
                "1. \u300c\u7406\u60f3\u7684\u306a\u300d\u6b8b\u5dee\u306e\u5206\u5e03\n",
                "    * \u6a19\u672c\u306e\u5927\u304d\u3055\u306b\u3088\u3063\u3066\u6b8b\u5dee\u306e\u6563\u5e03\u56f3\u304c\u3069\u3046\u5909\u5316\u3059\u308b\u304b\u3092\u78ba\u304b\u3081\u308b\u3002\n",
                "1. \u56de\u5e30\u8a3a\u65ad\n",
                "    * \u56de\u5e30\u7d50\u679c\u306e\u300c\u5065\u5eb7\u72b6\u614b\u300d\u3092\u793a\u3059\u30d1\u30c3\u30b1\u30fc\u30b8`lmdiag`\u3092\u7d39\u4ecb\u3059\u308b\u3002\n",
                "1. \u554f\u984c\u304c\u3042\u308b\u6b8b\u5dee\u306e\u4f8b\n",
                "    * `lmdiag`\u3092\u4f7f\u3063\u3066\u78ba\u8a8d\u3059\u308b\u3002"
            ]
        },
        {
            "cell_type": "markdown",
            "metadata": {
                "heading_collapsed": true
            },
            "source": [
                "## \u6b8b\u5dee\u3068$R^2$"
            ]
        },
        {
            "cell_type": "markdown",
            "metadata": {
                "heading_collapsed": true,
                "hidden": true
            },
            "source": [
                "### \u8aac\u660e"
            ]
        },
        {
            "cell_type": "markdown",
            "metadata": {
                "hidden": true
            },
            "source": [
                "\u56de\u5e30\u5206\u6790\u306e\u30b7\u30df\u30e5\u30ec\u30fc\u30b7\u30e7\u30f3\u3092\u304a\u3053\u306a\u3044\u6b8b\u5dee\u306e\u5206\u5e03\u3068$R^2$\u306e\u95a2\u4fc2\u3092\u56f3\u3092\u4f7f\u3063\u3066\u304a\u3055\u3089\u3044\u3059\u308b\u3002\n",
                "\n",
                "---\n",
                "\u5358\u56de\u5e30\u306e\u30b7\u30df\u30e5\u30ec\u30fc\u30b7\u30e7\u30f3\u7528\u306e\u95a2\u6570`ols_sim`\u3092\u5b9a\u7fa9\u3059\u308b\u3002\n",
                "* \u5f15\u304d\u6570\n",
                "    1. \u6a19\u672c\u306e\u5927\u304d\u3055`n`\n",
                "    1. \u8aa4\u5dee\u9805\u306e\u6a19\u6e96\u504f\u5dee`u_sd`\n",
                "* \u8fd4\u308a\u5024\n",
                "    1. \u8aac\u660e\u5909\u6570 $x$\n",
                "    1. \u88ab\u8aac\u660e\u5909\u6570 $y$\n",
                "    1. \u4e88\u6e2c\u5024 $\\hat{y}$\n",
                "    1. \u6b8b\u5dee $u$\n",
                "    1. \u6a19\u6e96\u5316\u6b8b\u5dee\n",
                "        * \u6b8b\u5dee$u$\u306f\u6bcd\u96c6\u56e3\u306e\u8aa4\u5dee\u9805\u306e\u63a8\u5b9a\u5024\u3067\u3042\u308b\u304c\uff0c$u$\u3092\u4f7f\u3044\u8aa4\u5dee\u9805\u306e\u6027\u8cea\u306b\u3064\u3044\u3066\u8abf\u3079\u308b\u306b\u306f\u9650\u5ea6\u304c\u3042\u308b\u3053\u3068\u304c\u77e5\u3089\u308c\u3066\u3044\u308b\u3002\u305d\u306e\u4ee3\u308f\u308a\u306b\u306a\u308b\u306e\u304c\u300c\u6a19\u6e96\u5316\u6b8b\u5dee\u300d\u3067\u3042\u308b\u3002$u$\u3092\u3042\u308b\u7d71\u8a08\u91cf\u3067\u9664\u3057\u3066\u6a19\u6e96\u5316\u3057\u305f\u6b8b\u5dee\u3067\u3042\u308a\uff0c\u89b3\u6e2c\u3067\u304d\u306a\u3044\u8aa4\u5dee\u9805\u306b\u3064\u3044\u3066\u3088\u308a\u6b63\u78ba\u306a\u60c5\u5831\u304c\u5f97\u3089\u308c\u308b\u3002\n",
                "        * `OLS`\u306e\u7d50\u679c\u306e\u30e1\u30bd\u30c3\u30c9`get_influence()`\u3092\u4f7f\u3044\uff0c\u305d\u306e\u5c5e\u6027`.resid_studentized_internal`\u3067\u53d6\u5f97\u3059\u308b\n",
                "        * \u82f1\u8a9e\u3067\u306f**Internally Studentized Residuals**\u3082\u3057\u304f\u306f**Standardized Residuals**\u3068\u547c\u3070\u308c\u308b\u3002\n",
                "    1. $R^2$"
            ]
        },
        {
            "cell_type": "code",
            "execution_count": null,
            "metadata": {},
            "outputs": [],
            "source": [
                "\n",
                "\n",
                "",
                "",
                "",
                "",
                "",
                "",
                "",
                "",
                "",
                ""
            ]
        },
        {
            "cell_type": "markdown",
            "metadata": {
                "hidden": true
            },
            "source": [
                "\u3053\u306e\u95a2\u6570\u3092\u4f7f\u3044$R^2$\u304c\u9ad8\u3044\u30b1\u30fc\u30b9\u3068\u4f4e\u3044\u30b1\u30fc\u30b9\u3092\u5225\u3005\u306b\u30b7\u30df\u30e5\u30ec\u30fc\u30b7\u30e7\u30f3\u3092\u884c\u3046\u3002\u8fd4\u308a\u5024\u306e\u9806\u756a\u306b\u5408\u308f\u305b\u3066\u4ee3\u5165\u3059\u308b\u5909\u6570\u3092\u4e26\u3079\u308b\u3002\uff08\u6dfb\u3048\u5b57\u306e`high`\u3068`low`\u306f\u300c\u9ad8\u3044\u30b1\u30fc\u30b9\u300d\u3068\u300c\u4f4e\u3044\u30b1\u30fc\u30b9\u300d\u3092\u8868\u3059\u3002\uff09"
            ]
        },
        {
            "cell_type": "code",
            "execution_count": null,
            "metadata": {},
            "outputs": [],
            "source": [
                "# R^2\u304c\u9ad8\u3044\u30b1\u30fc\u30b9\n",
                "\n",
                "\n",
                "# R^2\u304c\u4f4e\u3044\u30b1\u30fc\u30b9\n"
            ]
        },
        {
            "cell_type": "markdown",
            "metadata": {
                "hidden": true
            },
            "source": [
                "\u3053\u3053\u3067\u306f\u4ee5\u4e0b\u306e\u3088\u3046\u306b\u5909\u6570\u3092\u5b9a\u7fa9\u3057\u3066\u3044\u308b\uff08`high`\u3068`low`\u306e\u6dfb\u5b57\u306f\u7701\u3044\u3066\u3044\u308b\uff09\uff1a\n",
                "* `x`: \u8aac\u660e\u5909\u6570\n",
                "* `y`: \u88ab\u8aac\u660e\u5909\u6570\n",
                "* `u`: \u8aa4\u5dee\u9805\n",
                "* `f_fit`: \u4e88\u6e2c\u5024\n",
                "* `resid`: \u6b8b\u5dee\n",
                "* `resid_st`: \u6a19\u6e96\u5316\u6b8b\u5dee\n",
                "* `r2`: \u6c7a\u5b9a\u4fc2\u6570\n",
                "\n",
                "\u307e\u305a\u6c7a\u5b9a\u4fc2\u6570\u306e\u5024\u3092\u78ba\u8a8d\u3059\u308b\u3002\uff08\u6ce8\u610f\uff09\u4ee5\u524d\u8aac\u660e\u3057\u305f`f-string`\u3092\u4f7f\u3063\u3066\u3044\u308b\u3002"
            ]
        },
        {
            "cell_type": "code",
            "execution_count": null,
            "metadata": {},
            "outputs": [],
            "source": []
        },
        {
            "cell_type": "markdown",
            "metadata": {
                "hidden": true
            },
            "source": [
                "\u4e0a\u306e\u30b3\u30fc\u30c9\u3067`:.3f`\u304c\u4ed8\u3051\u52a0\u3048\u3089\u308c\u3066\u3044\u308b\u304c\uff0c\u8868\u793a\u3059\u308b\u5c0f\u6570\u70b9\u3092\u7b2c\u4e09\u4f4d\u307e\u3067\u3068\u6307\u5b9a\u3059\u308b\u30aa\u30d7\u30b7\u30e7\u30f3\u3002"
            ]
        },
        {
            "cell_type": "markdown",
            "metadata": {
                "heading_collapsed": true,
                "hidden": true
            },
            "source": [
                "### \u6563\u5e03\u56f3\u3068\u56de\u5e30\u76f4\u7dda"
            ]
        },
        {
            "cell_type": "markdown",
            "metadata": {
                "hidden": true
            },
            "source": [
                "\u56f3\u3092\u4e26\u3079\u3066\u63cf\u304f\u305f\u3081\u306b\uff0c`matplotlib`\u306e`subplots()`\u3092\u4f7f\u3046\u3002"
            ]
        },
        {
            "cell_type": "code",
            "execution_count": null,
            "metadata": {},
            "outputs": [],
            "source": [
                "\n",
                "\n",
                "# \u5de6\u306e\u56f3\n",
                "\n",
                "\n",
                "",
                "",
                "",
                "",
                "",
                "",
                "# \u53f3\u306e\u56f3\n",
                "\n",
                "\n",
                "",
                "",
                "",
                "",
                "",
                "",
                ""
            ]
        },
        {
            "cell_type": "markdown",
            "metadata": {
                "hidden": true
            },
            "source": [
                "\u56de\u5e30\u76f4\u7dda\u306e\u30d5\u30a3\u30c3\u30c8\u611f\u306f\u306f\u3063\u304d\u308a\u3068\u6c7a\u5b9a\u4fc2\u6570\u306e\u5024\u306b\u73fe\u308c\u3066\u3044\u308b\u3002"
            ]
        },
        {
            "cell_type": "markdown",
            "metadata": {
                "heading_collapsed": true,
                "hidden": true
            },
            "source": [
                "### \u6b8b\u5dee"
            ]
        },
        {
            "cell_type": "markdown",
            "metadata": {
                "hidden": true
            },
            "source": [
                "\u6b21\u306b\u4e88\u6e2c\u5024$\\hat{y}$\u3068\u6b8b\u5dee$\\hat{u}$\u306e\u6563\u5e03\u56f3\u3092\u63cf\u3044\u3066\u307f\u308b\u3002"
            ]
        },
        {
            "cell_type": "code",
            "execution_count": null,
            "metadata": {},
            "outputs": [],
            "source": [
                "\n",
                "\n",
                "# \u5de6\u306e\u56f3\n",
                "\n",
                "\n",
                "",
                "",
                "",
                "",
                "",
                "# \u53f3\u306e\u56f3\n",
                "\n",
                "\n",
                "",
                "",
                "",
                "",
                "",
                ""
            ]
        },
        {
            "cell_type": "markdown",
            "metadata": {
                "hidden": true
            },
            "source": [
                "\u3053\u3053\u3067\u3082\u6c7a\u5b9a\u4fc2\u6570\u306e\u5024\u3068\u306e\u95a2\u4fc2\u304c\u30cf\u30c3\u30ad\u30ea\u3068\u308f\u304b\u308b\u3002"
            ]
        },
        {
            "cell_type": "markdown",
            "metadata": {
                "heading_collapsed": true,
                "hidden": true
            },
            "source": [
                "### \u6a19\u6e96\u5316\u6b8b\u5dee"
            ]
        },
        {
            "cell_type": "markdown",
            "metadata": {
                "hidden": true
            },
            "source": [
                "\u4e88\u6e2c\u5024\u3068\u6a19\u6e96\u5316\u6b8b\u5dee\u306e\u6563\u5e03\u56f3\u3092\u56f3\u793a\u3059\u308b\u3002"
            ]
        },
        {
            "cell_type": "code",
            "execution_count": null,
            "metadata": {},
            "outputs": [],
            "source": [
                "\n",
                "\n",
                "# \u5de6\u306e\u56f3\n",
                "\n",
                "\n",
                "",
                "",
                "",
                "",
                "",
                "# \u53f3\u306e\u56f3\n",
                "\n",
                "\n",
                "",
                "",
                "",
                "",
                "",
                ""
            ]
        },
        {
            "cell_type": "markdown",
            "metadata": {
                "hidden": true
            },
            "source": [
                "\u5de6\u53f3\u3068\u3082\u306b\u6563\u3089\u3070\u308a\u306e\u5dee\u306f\u3042\u307e\u308a\u306a\u3044\u3002\u3082\u3061\u308d\u3093\uff0c\u7406\u7531\u306f\u5e73\u5747`0`\uff0c\u5206\u6563`1`\u306b\u306a\u308b\u3088\u3046\u306b\u300c\u6a19\u6e96\u5316\u300d\u3055\u308c\u3066\u3044\u308b\u305f\u3081\u3067\u3042\u308b\u3002"
            ]
        },
        {
            "cell_type": "markdown",
            "metadata": {
                "heading_collapsed": true
            },
            "source": [
                "## \u300c\u7406\u60f3\u7684\u306a\u300d\u6b8b\u5dee\u306e\u5206\u5e03"
            ]
        },
        {
            "cell_type": "markdown",
            "metadata": {
                "hidden": true
            },
            "source": [
                "GM\u4eee\u5b9a1,4,5\u304c\u6210\u7acb\u3059\u308b\u5834\u5408\uff0c\u6b8b\u5dee\u306f\u5e73\u5747`0`\u3067\u5206\u6563\u304c\u4e00\u5b9a\u306a\u30e9\u30f3\u30c0\u30e0\u306a\u5206\u5e03\u306b\u306a\u308b\u3002\u3053\u3053\u3067\u306f\uff0c\u305d\u306e\u3088\u3046\u306a\u300c\u7406\u60f3\u7684\u306a\u6b8b\u5dee\u300d\u306f\u3069\u306e\u3088\u3046\u306a\u3082\u306e\u304b\u3092\u56f3\u793a\u3057\uff0c\u6a19\u672c\u306e\u5927\u304d\u3055\u306b\u3088\u3063\u3066\u3069\u306e\u3088\u3046\u306b\u898b\u3048\u308b\u306e\u304b\u3092\u78ba\u8a8d\u3059\u308b\u3002\u6b63\u898f\u5206\u5e03\u306e\u78ba\u7387\u5909\u6570\u3092\u300c\u7406\u60f3\u7684\u306a\u6b8b\u5dee\u300d\u3068\u3057\u3066\u8003\u3048\u308b\u3002\n",
                "\n",
                "\u307e\u305a\u56f3\u793a\u3059\u308b\u305f\u3081\u306e\u95a2\u6570\u3092\u5b9a\u7fa9\u3059\u308b\u3002\n",
                "* \u5f15\u304d\u6570\n",
                "    * \u6a19\u672c\u306e\u5927\u304d\u3055\uff1a`n`\n",
                "    * \uff08\u6b8b\u5dee\u306e\uff09\u6a19\u6e96\u504f\u5dee\uff1a`u_sd`\n",
                "* \u8fd4\u308a\u5024\n",
                "    * \u6563\u5e03\u56f3"
            ]
        },
        {
            "cell_type": "code",
            "execution_count": null,
            "metadata": {},
            "outputs": [],
            "source": [
                "\n",
                "\n",
                "",
                "",
                "",
                "",
                "",
                "",
                "",
                ""
            ]
        },
        {
            "cell_type": "markdown",
            "metadata": {
                "hidden": true
            },
            "source": [
                "\u3053\u306e\u95a2\u6570\u306e\u8fd4\u308a\u5024\u306f`matplotlib`\u306e\u30b3\u30fc\u30c9\u3067\u3042\u308b\u3002\u8fd4\u308a\u5024\u3068\u3057\u3066\u56f3\u304c\u8868\u793a\u3055\u308c\u308b\u3053\u3068\u306b\u306a\u308b\u3002\n",
                "\n",
                "---\n",
                "\u6a19\u6e96\u504f\u5dee`1`\u306e$n=2000$\u306e\u6b8b\u5dee"
            ]
        },
        {
            "cell_type": "code",
            "execution_count": null,
            "metadata": {},
            "outputs": [],
            "source": []
        },
        {
            "cell_type": "markdown",
            "metadata": {
                "hidden": true
            },
            "source": [
                "`0`\u306e\u5468\u308a\u306b\u5747\u7b49\u306b\u5206\u6563\u3057\u3066\u3044\u308b\u306e\u304c\u78ba\u8a8d\u3067\u304d\u308b\u3002\n",
                "\n",
                "---\n",
                "\u6a19\u6e96\u504f\u5dee`1`\u306e$n=500$\u306e\u6b8b\u5dee"
            ]
        },
        {
            "cell_type": "code",
            "execution_count": null,
            "metadata": {},
            "outputs": [],
            "source": []
        },
        {
            "cell_type": "markdown",
            "metadata": {
                "hidden": true
            },
            "source": [
                "\u89b3\u6e2c\u5024\u306e\u9593\u9694\u306f\u5c11\u3057\u5e83\u304c\u3063\u3066\u3044\u308b\u304c\uff0c\u30b7\u30df\u30e5\u30ec\u30fc\u30b7\u30e7\u30f3\u306b\u3088\u3063\u3066\u306f$n=2000$\u3068\u6bd4\u3079\u3066\u5927\u304d\u306a\u5909\u5316\u306f\u898b\u3089\u308c\u306a\u3044\u5834\u5408\u3082\u3042\u308c\u3070\uff0c\u300c\u5916\u308c\u5024\u300d\u304c\u6c17\u306b\u306a\u308b\u5834\u5408\u3082\u3042\u308b\u304b\u3082\u77e5\u308c\u306a\u3044\u3002\n",
                "\n",
                "---\n",
                "\u6a19\u6e96\u504f\u5dee`1`\u306e$n=100$\u306e\u6b8b\u5dee"
            ]
        },
        {
            "cell_type": "code",
            "execution_count": null,
            "metadata": {},
            "outputs": [],
            "source": []
        },
        {
            "cell_type": "markdown",
            "metadata": {
                "hidden": true
            },
            "source": [
                "\u3055\u3089\u306b\u9699\u9593\u304c\u5e83\u304f\u306a\u3063\u3066\u3044\u308b\u3002\u30b7\u30df\u30e5\u30ec\u30fc\u30b7\u30e7\u30f3\u306b\u3088\u3063\u3066\u306f\uff0c\u5c11\u3057\u504f\u308a\u304c\u3042\u308b\u3088\u3046\u306b\u898b\u3048\u308b\u5834\u5408\u3082\u767a\u751f\u3059\u308b\u305f\u3081\uff0c\u4e0a\u306e\u4f8b\u3068\u6bd4\u3079\u308b\u3068\uff0cGM\u4eee\u5b9a1,4,5\u306b\u95a2\u3057\u3066\u81ea\u4fe1\u3092\u6301\u3063\u3066\u5224\u65ad\u3057\u3065\u3089\u304f\u306a\u308b\u3002\n",
                "\n",
                "---\n",
                "\u6a19\u6e96\u504f\u5dee`1`\u306e$n=30$\u306e\u6b8b\u5dee"
            ]
        },
        {
            "cell_type": "code",
            "execution_count": null,
            "metadata": {},
            "outputs": [],
            "source": []
        },
        {
            "cell_type": "markdown",
            "metadata": {
                "hidden": true
            },
            "source": [
                "\u6b63\u898f\u5206\u5e03\u3068\u5206\u304b\u3063\u3066\u773a\u3081\u308b\u3068\u305d\u3046\u898b\u3048\u308b\u304b\u3082\u77e5\u308c\u306a\u3044\u304c\uff0c\u5b9f\u969b\u306e\u5b9f\u8a3c\u5206\u6790\u3092\u884c\u3046\u4e0a\u3067\u3053\u306e\u56f3\u3060\u3051\u3067GM\u4eee\u5b9a1,4,5\u304c\u6e80\u305f\u3055\u308c\u3066\u3044\u308b\u304b\u3069\u3046\u304b\u3092\u5224\u65ad\u3059\u308b\u306e\u306f\u96e3\u3057\u3044\u3002\n",
                "\n",
                "---\n",
                "\u6a19\u6e96\u504f\u5dee`1`\u306e$n=20$\u306e\u6b8b\u5dee"
            ]
        },
        {
            "cell_type": "code",
            "execution_count": null,
            "metadata": {},
            "outputs": [],
            "source": []
        },
        {
            "cell_type": "markdown",
            "metadata": {
                "hidden": true
            },
            "source": [
                "\u6a19\u672c\u306e\u5927\u304d\u3055\u304c\u5c0f\u3055\u3044\u5834\u5408\uff0c\u89b3\u6e2c\u6570\u304c`10`\u5c11\u306a\u304f\u306a\u308b\u3068\u56f3\u304c\u5927\u304d\u304f\u9055\u3046\u3088\u3046\u306b\u898b\u3048\u308b\u3002"
            ]
        },
        {
            "cell_type": "markdown",
            "metadata": {
                "heading_collapsed": true
            },
            "source": [
                "## \u56de\u5e30\u8a3a\u65ad\uff1a`lmdiag`"
            ]
        },
        {
            "cell_type": "markdown",
            "metadata": {
                "heading_collapsed": true,
                "hidden": true
            },
            "source": [
                "### \u8aac\u660e"
            ]
        },
        {
            "cell_type": "markdown",
            "metadata": {
                "hidden": true
            },
            "source": [
                "\u4e0a\u3067\u898b\u305f\u3088\u3046\u306b\uff0c\u6b8b\u5dee\u3092\u5358\u306b\u56f3\u793a\u3057\u305f\u3060\u3051\u3067\u306f\u300c\u7406\u60f3\u7684\u306a\u6b8b\u5dee\u300d\u304b\u3089\u3069\u308c\u3060\u3051\u4e56\u96e2\u3057\u3066\u3044\u308b\u304b\u3092\u5224\u65ad\u3059\u308b\u306e\u306f\u96e3\u3057\u3044\u3068\u3053\u308d\u304c\u3042\u308b\u3002\u6a19\u672c\u306e\u5927\u304d\u3055\u304c\u5c0f\u3055\u3044\u5834\u5408\u306f\u7279\u306b\u305d\u3046\u3067\u3042\u308b\u3002\u3067\u306f\u3069\u306e\u3088\u3046\u306b\u5bfe\u51e6\u3059\u308c\u3070\u826f\u3044\u306e\u304b\u3002\uff11\u3064\u306e\u65b9\u6cd5\u304c\uff0c\u8a08\u91cf\u7d4c\u6e08\u5b66\u306e\u30bd\u30d5\u30c8\u30a6\u30a7\u30a2`R`\u306b\u5b9f\u88c5\u3055\u308c\u3066\u3044\u308b\u6b8b\u5dee\u3092\u56f3\u793a\u3059\u308b\u30b3\u30de\u30f3\u30c9\u3067\u3042\u308b\u3002\u3053\u308c\u306b\u3088\u308a\u56de\u5e30\u5f0f\u306e\u5b9a\u5f0f\u5316\u306b\u300c\u5931\u6557\u300d\u304c\u306a\u3044\u304b\u3092\u3042\u308b\u7a0b\u5ea6\u78ba\u8a8d\u3059\u308b\u3053\u3068\u304c\u3067\u304d\u308b\u3002\u3053\u3053\u3067\u306f\u305d\u306e\u5185\u306e\uff14\u3064\u306e\u56f3\u3092\u81ea\u52d5\u3067\u63cf\u304f\u3053\u3068\u304c\u3067\u304d\u308b\u30d1\u30c3\u30b1\u30fc\u30b8`lmdiag`\u3092\u7d39\u4ecb\u3059\u308b\u3002\u300c\u6b63\u5e38\u300d\u306a\u30d1\u30bf\u30fc\u30f3\u304b\u3089\u8457\u3057\u304f\u7570\u306a\u308b\u5834\u5408\uff0c\u56de\u5e30\u5f0f\u306e\u4fee\u6b63\u306e\u5fc5\u8981\u6027\u3092\u77e5\u3089\u305b\u308b\u300c\u65e9\u671f\u8b66\u6212\u30b7\u30b9\u30c6\u30e0\u300d\u3068\u601d\u3048\u3070\u826f\u3044\u3060\u308d\u3046\u3002\n",
                "\n",
                "\u307e\u305aGM\u4eee\u5b9a1~6\u306e\u5168\u3066\u306e\u4eee\u5b9a\u304c\u6e80\u305f\u3055\u308c\u308b\u5834\u5408\u3092\u8003\u3048\uff0c`lmdiag`\u306e\u30b3\u30de\u30f3\u30c9\u3092\u8aac\u660e\u3059\u308b\u3002\u305d\u306e\u5f8c\uff0c\u554f\u984c\u304c\u7591\u308f\u308c\u308b\u30b1\u30fc\u30b9\u3067\u306f\u3069\u306e\u3088\u3046\u306a\u56f3\u306b\u306a\u308b\u304b\u3092\u793a\u3059\u3053\u3068\u306b\u3059\u308b\u3002"
            ]
        },
        {
            "cell_type": "markdown",
            "metadata": {
                "hidden": true
            },
            "source": [
                "\u6b21\u306e\u30b7\u30df\u30e5\u30ec\u30fc\u30b7\u30e7\u30f3\u3092\u8003\u3048\u3088\u3046\u3002"
            ]
        },
        {
            "cell_type": "code",
            "execution_count": null,
            "metadata": {},
            "outputs": [],
            "source": [
                "\n",
                "\n",
                "",
                "",
                "",
                "",
                "",
                "",
                ""
            ]
        },
        {
            "cell_type": "markdown",
            "metadata": {
                "heading_collapsed": true,
                "hidden": true
            },
            "source": [
                "### `resid_fit()`\u95a2\u6570"
            ]
        },
        {
            "cell_type": "markdown",
            "metadata": {
                "hidden": true
            },
            "source": [
                "* \u6a2a\u8ef8\uff1a$y$\u306e\u4e88\u6e2c\u5024 $\\hat{y}$\n",
                "* \u7e26\u8ef8\uff1a\u6b8b\u5dee $\\hat{u}$\n",
                "\n",
                "\uff08\u76ee\u7684\uff09\n",
                "\n",
                "\u6b8b\u5dee\u306b\u975e\u7dda\u5f62\u306e\u30d1\u30bf\u30fc\u30f3\u304c\u306a\u3044\u304b\u3092\u78ba\u8a8d\u3059\u308b\u3002\u7e26\u8ef8\u306e`0`\u3092\u4e2d\u5fc3\u306b\u4e0a\u4e0b\u306b\u30e9\u30f3\u30c0\u30e0\u306b\u6563\u3089\u3070\u3063\u3066\u3044\u308b\u5834\u5408\uff0c\u56de\u5e30\u5f0f\u306f\u7dda\u5f62\u3068\u5224\u65ad\u3067\u304d\u308b\u304c\uff0c\u4e0a\u5411\u304d\u3084U\u5b57\u578b\u3084\u4f55\u3089\u304b\u306e\u30d1\u30bf\u30fc\u30f3\u304c\u3042\u308b\u3068\u975e\u7dda\u5f62\u306e\u53ef\u80fd\u6027\u304c\u793a\u5506\u3055\u308c\u308b\u3002\n",
                "* \u8d64\u306e\u7dda\u306f\u6b8b\u5dee\u306e\u6563\u3089\u3070\u308a\u306b\u300c\u6700\u3082\u300d\u30d5\u30a3\u30c3\u30c8\u3059\u308b\u66f2\u7dda\n",
                "    * \u7e26\u8ef8`0`\u306e\u5e73\u884c\u7dda\uff08\u70b9\u7dda\uff09\u304c\u7406\u60f3\u7684\n",
                "* \u7d76\u5bfe\u5024\u304c\u6700\u3082\u5927\u304d\u3044\uff13\u3064\u306e\u6b8b\u5dee\u306b\u30a4\u30f3\u30c7\u30c3\u30af\u30b9\u306e\u6570\u5b57\u304c\u793a\u3055\u308c\u3066\u3044\u308b\u3002"
            ]
        },
        {
            "cell_type": "code",
            "execution_count": null,
            "metadata": {},
            "outputs": [],
            "source": [
                "\n"
            ]
        },
        {
            "cell_type": "markdown",
            "metadata": {
                "hidden": true
            },
            "source": [
                "\u56de\u5e30\u5206\u6790\u7d50\u679c\u306e\u300c\u5065\u5eb7\u72b6\u614b\u300d\u3092\u8a3a\u65ad\u3059\u308b\u4e0a\u3067\u3053\u306e\u56f3\u306f\u6700\u3082\u3088\u304f\u4f7f\u308f\u308c\u308b\u3002\u3053\u306e\u56f3\u306b\u3064\u3044\u3066\u4ee5\u4e0b\u306e\u70b9\u3092\u899a\u3048\u3066\u304a\u3053\u3046\u3002\n",
                "* \u6b8b\u5dee$\\hat{u}$\u306f\u89b3\u6e2c\u3067\u304d\u306a\u3044\u6bcd\u96c6\u56e3\u56de\u5e30\u5f0f\u306e\u8aa4\u5dee\u9805$u$\u306e\u63a8\u5b9a\u3067\u3042\u308b\u3002\n",
                "* $y$\u306e\u4e88\u6e2c\u5024\u306f$\\hat{y}=\\hat{\\beta}_0+\\hat{\\beta}_1x$\u3067\u3042\u308b\u3002\u5f93\u3063\u3066\uff0c\u3082\u3057\u6b8b\u5dee$\\hat{u}$\u3068$x$\u306b\u4f55\u3089\u304b\u306e\u95a2\u4fc2\u304c\u3042\u308c\u3070\uff0c\u6b8b\u5dee$\\hat{u}$\u3068\u4e88\u6e2c\u5024$\\hat{y}$\u306e\u95a2\u4fc2\u306b\u73fe\u308c\u308b\u3002\n",
                "* GM\u4eee\u5b9a4\u3092\u601d\u3044\u51fa\u305d\u3046\u3002\u8aa4\u5dee\u9805\u306e\u6761\u4ef6\u3064\u304d\u671f\u5f85\u5024\u304c`0`$E(u|X)=0$\u3068\u3044\u3046\u4eee\u5b9a\u3067\u3042\u308b\u3002\n",
                "    * \u3053\u306e\u4eee\u5b9a\u304c\u6b63\u3057\u3051\u308c\u3070\uff0c\u6b8b\u5dee$\\hat{u}$\u306e\u5e73\u5747\u306f`0`\u3042\u308a\uff0c\u56f3\u306e\u8d64\u3044\u7dda\u306f`0`\u3067\u6a2a\u8ef8\u3068\u4e26\u884c\u306b\u306a\u308b\u3053\u3068\u3092\u610f\u5473\u3057\u3066\u3044\u308b\u3002\n",
                "    * \u3053\u306e\u4eee\u5b9a\u304c\u6e80\u305f\u3055\u308c\u305a\uff0c\u8aac\u660e\u5909\u6570$x$\u304c\u4f55\u3089\u304b\u306e\u5f62\u3067$\\hat{u}$\u306b\u5f71\u97ff\u3092\u4e0e\u3048\u3066\u3044\u308b\u306e\u3067\u3042\u308c\u3070\uff0c\u305d\u306e\u5f71\u97ff\u306f\u4e0a\u306e\u56f3\u306b\u73fe\u308c\u3066\u304f\u308b\u3002\uff08\u4e0b\u306e\u300c\u554f\u984c\u304c\u3042\u308b\u6b8b\u5dee\u306e\u4f8b\u300d\u3092\u53c2\u7167\uff09\u3002"
            ]
        },
        {
            "cell_type": "markdown",
            "metadata": {
                "heading_collapsed": true,
                "hidden": true
            },
            "source": [
                "### `q_q()`\u95a2\u6570"
            ]
        },
        {
            "cell_type": "markdown",
            "metadata": {
                "hidden": true
            },
            "source": [
                "`qq`\u30d7\u30ed\u30c3\u30c8\u3068\u3082\u547c\u3070\u308c\u308b\u3002`q`\u306f`quantile`\uff08\u5206\u4f4d\u6570\uff09\u306e\u3053\u3068\u3002\n",
                "\n",
                "* \u6a2a\u8ef8\uff1a\u6a2a\u8ef8\u306b\u6b63\u898f\u5206\u5e03\u306e\u7406\u8ad6\u5024\n",
                "* \u7e26\u8ef8\uff1a\u6a19\u6e96\u5316\u6b8b\u5dee\uff08standardized residuals\uff09\n",
                "    * \u6a19\u6e96\u5316\u6b8b\u5dee\u3068\u306f\u5e73\u5747`0`\uff0c\u5206\u6563`1`\u306b\u5909\u63db\u3057\u305f\u6b8b\u5dee\n",
                "\n",
                "\uff08\u76ee\u7684\uff09\n",
                "\n",
                "\u6b8b\u5dee\u304c\u6b63\u898f\u5206\u5e03\u306b\u5f93\u3063\u3066\u3044\u308b\u304b\u3092\u78ba\u8a8d\u3059\u308b\u3002\u30c7\u30fc\u30bf\u304c\u6b63\u898f\u5206\u5e03\u306b\u5f93\u3063\u3066\u3044\u308b\u5834\u5408\uff0c\u30c7\u30fc\u30bf\u306f45\u5ea6\u7dda\uff08\u8d64\u306e\u70b9\u7dda\uff09\u306b\u6cbf\u3063\u3066\u5206\u5e03\u3059\u308b\u3053\u3068\u306b\u306a\u308b\u3002\u591a\u304f\u306e\u6b8b\u5dee\u304c\u6982\u306d45\u5ea6\u7dda\u8fd1\u508d\u306b\u3042\u308c\u3070\u4ed6\u306e\u56f3\u3092\u78ba\u8a8d\u3059\u308b\u7a0b\u5ea6\u3067\u3088\u3044\u3002\u3057\u304b\u3057\u591a\u304f\u306e\u6b8b\u5dee\u304c45\u5ea6\u7dda\u304b\u3089\u5916\u308c\u3066\u3044\u308b\u5834\u5408\u306f\uff0c\u6b63\u898f\u5206\u5e03\u3067\u306f\u306a\u3044\u53ef\u80fd\u6027\u304c\u5927\u304d\u304f\u306a\u308b\u3002"
            ]
        },
        {
            "cell_type": "code",
            "execution_count": null,
            "metadata": {},
            "outputs": [],
            "source": [
                "\n"
            ]
        },
        {
            "cell_type": "markdown",
            "metadata": {
                "heading_collapsed": true,
                "hidden": true
            },
            "source": [
                "### `scale_loc()`\u95a2\u6570"
            ]
        },
        {
            "cell_type": "markdown",
            "metadata": {
                "hidden": true
            },
            "source": [
                "* \u6a2a\u8ef8\uff1a$y$\u306e\u4e88\u6e2c\u5024$\\hat{y}$\n",
                "* \u7e26\u8ef8\uff1a\u6a19\u6e96\u5316\u6b8b\u5dee\uff08standardized residuals\uff09\u306e\u7d76\u5bfe\u5024\u306e\u30eb\u30fc\u30c8\n",
                "    * \u6a19\u6e96\u5316\u6b8b\u5dee\u3068\u306f\u5e73\u5747`0`\uff0c\u5206\u6563`1`\u306b\u5909\u63db\u3057\u305f\u6b8b\u5dee\n",
                "\n",
                "\uff08\u76ee\u7684\uff09\n",
                "\n",
                "\u6b8b\u5dee\u304c\u5747\u4e00\u5206\u6563\u304b\u3069\u3046\u304b\u3092\u78ba\u8a8d\u3059\u308b\u3002\u7e26\u306e\u6563\u3089\u3070\u308a\u304c\u6982\u306d\u5747\u7b49\u3067\u3042\u308c\u3070\u5747\u4e00\u5206\u6563\u3068\u89e3\u91c8\u3067\u304d\u308b\u304c\uff0c\u4f55\u3089\u304b\u306e\u30d1\u30bf\u30fc\u30f3\u304c\u3042\u308c\u3070\u4e0d\u5747\u4e00\u5206\u6563\u306e\u53ef\u80fd\u6027\u304c\u3042\u308b\u3002\n",
                "* \u8d64\u306e\u7dda\u306f\u6b8b\u5dee\u306e\u6563\u3089\u3070\u308a\u306b\u300c\u6700\u3082\u300d\u30d5\u30a3\u30c3\u30c8\u3059\u308b\u66f2\u7dda\n",
                "    * \u6a2a\u8ef8\u306b\u5e73\u884c\u3068\u306a\u308b\u306e\u304c\u7406\u60f3\u7684\n",
                "* \u7d76\u5bfe\u5024\u304c\u6700\u3082\u5927\u304d\u3044\uff13\u3064\u306e\u6b8b\u5dee\u306b\u30a4\u30f3\u30c7\u30c3\u30af\u30b9\u306e\u6570\u5b57\u304c\u793a\u3055\u308c\u3066\u3044\u308b\u3002"
            ]
        },
        {
            "cell_type": "code",
            "execution_count": null,
            "metadata": {},
            "outputs": [],
            "source": [
                "\n"
            ]
        },
        {
            "cell_type": "markdown",
            "metadata": {
                "heading_collapsed": true,
                "hidden": true
            },
            "source": [
                "### `resid_lev()`\u95a2\u6570"
            ]
        },
        {
            "cell_type": "markdown",
            "metadata": {
                "hidden": true
            },
            "source": [
                "* \u7e26\u8ef8\uff1a\u6a19\u6e96\u5316\u6b8b\u5dee\uff08standardized residuals\uff09\n",
                "    * \u6b8b\u5dee\u3092\u6a19\u6e96\u504f\u5dee\u3067\u9664\u3057\u3066\u5e73\u5747`0`\uff0c\u5206\u6563`1`\u306b\u5909\u63db\u3057\u305f\u6b8b\u5dee\n",
                "    * 99.7%\u306e\u78ba\u7387\u3067`(-3,3)`\u306e\u9593\u306b\u5165\u308b\n",
                "    * \u89b3\u6e2c\u5024$y_i$\u304c\u4e88\u6e2c\u5024$\\hat{y}$\u304b\u3089\u3069\u308c\u3060\u3051\u96e2\u308c\u3066\u3044\u308b\u304b\u3092\u793a\u3059\uff08\u5916\u308c\u5024\uff1doutlier\uff09\u3002\u7e26\u8ef8\u306e\u7d76\u5bfe\u5024\u304c\u5927\u304d\u3044\uff08\u4f8b\u3048\u3070\u3001\u7d76\u5bfe\u5024\uff13\u4ee5\u4e0a\uff09\u3068\u5916\u308c\u5024\u306e\u53ef\u80fd\u6027\u304c\u9ad8\u307e\u308b\u3002\n",
                "    * \u3053\u306e\u8ddd\u96e2\u304c\u9577\u304f\u306a\u308b\u3068\uff08\u7d76\u5bfe\u5024\u304c\u5927\u304d\u304f\u306a\u308b\u3068\uff09\uff0c\u63a8\u5b9a\u5024$\\hat{\\beta}_1$\u306b\u5927\u304d\u306a\u5f71\u97ff\u529b\u3092\u3082\u3064**\u53ef\u80fd\u6027**\u304c\u9ad8\u304f\u306a\u308b\u3002\n",
                "* \u6a2a\u8ef8\uff1a\u30ec\u30d0\u30ec\u30c3\u30b8\uff08leverage\uff09\n",
                "    * \u8aac\u660e\u5909\u6570\u304c\u3069\u308c\u3060\u3051\u300c\u6975\u7aef\u300d\u306a\u5024\u3092\u53d6\u308b\u304b\u3092\u793a\u3059\u3002\n",
                "    * \u5358\u56de\u5e30\u306e\u5834\u5408\n",
                "        * \u8aac\u660e\u5909\u6570$x_i$\u3068\u5e73\u5747\u306e$x$\u306e\u9593\u306e\u8ddd\u96e2\u3092\u793a\u3059\u3002\n",
                "        * \u3053\u306e\u8ddd\u96e2\u304c\u9577\u304f\u306a\u308b\u3068\uff0c\u63a8\u5b9a\u5024$\\hat{\\beta}_1$\u306b\u5f71\u97ff\u529b\u3092\u3082\u3064**\u53ef\u80fd\u6027**\u304c\u9ad8\u304f\u306a\u308a\uff0c\u9ad8\u3044\u30ec\u30d0\u30ec\u30c3\u30b8\u306e\u5024\u3068\u3057\u3066\u53cd\u6620\u3055\u308c\u308b\u3002\n",
                "    * \u91cd\u56de\u5e30\u306e\u5834\u5408\n",
                "        * \u8aac\u660e\u5909\u6570$x_{ij},\\;j=1,2,..,k$\u306e\u3046\u3061\uff11\u3064\u4ee5\u4e0a\u306e\u8aac\u660e\u5909\u6570\u306e\u5024\u304c\u6975\u7aef\u306b\u5927\u304d\u3044\u5834\u5408\u3084\u5c0f\u3055\u3044\u5834\u5408\u306b\u30ec\u30d0\u30ec\u30c3\u30b8\u306f\u9ad8\u304f\u306a\u308b\u3002\u307e\u305f\u8aac\u660e\u5909\u6570\u306e\u5024\u306e\u7d44\u307f\u5408\u308f\u305b\u304c\u300c\u901a\u5e38\u300d\u3067\u306f\u306a\u3044\u5834\u5408\u306b\u3082\u30ec\u30d0\u30ec\u30c3\u30b8\u306f\u9ad8\u304f\u306a\u308b\u3002\n",
                "\n",
                "\uff08\u5f71\u97ff\u529b\u304c\u3042\u308b\u89b3\u6e2c\u5024\uff09\n",
                "* \u30ec\u30d0\u30ec\u30c3\u30b8\u3068\u6a19\u6e96\u5316\u6b8b\u5dee\u306e**\u7d76\u5bfe\u5024**\u306e\u4e21\u65b9\u304c\u5927\u304d\u3044\u89b3\u6e2c\u5024\n",
                "\n",
                "\uff08\u76ee\u7684\uff09\n",
                "\n",
                "OLS\u63a8\u5b9a\u5024\u3092\u8a08\u7b97\u3059\u308b\u4e0a\u3067\u5f71\u97ff\u529b\u304c\u5927\u304d\u3044\u89b3\u6e2c\u5024\u3092\u7279\u5b9a\u3057\uff0c\u63a8\u5b9a\u5024\u304c\u5c0f\u6570\u306e\u89b3\u6e2c\u5024\u306b\u5927\u304d\u304f\u5de6\u53f3\u3055\u308c\u3066\u3044\u306a\u3044\u304b\u3092\u78ba\u8a8d\u3059\u308b\u3002\u305d\u306e\u3088\u3046\u306a\u5f71\u97ff\u529b\u304c\u3042\u308b\u89b3\u6e2c\u5024\u306f\u56f3\u306e\u53f3\u4e0a\u3068\u53f3\u4e0b\u306b\u73fe\u308c\uff0c\u7279\u306b\u70b9\u7dda\uff08Cook's Distance\u3068\u547c\u3070\u308c\u308b\uff09\u306e\u5916\uff08\u53f3\u4e0a\u3068\u53f3\u4e0b\uff09\u306b\u3042\u308b\u5834\u5408\u306f\u8981\u6ce8\u610f\uff08\u53f3\u306e\u771f\u3093\u4e2d\u306e\u30a8\u30ea\u30a2\u306f\u91cd\u8981\u3067\u306f\u306a\u3044\uff09\u3002\u89b3\u6e2c\u5024\u306e\u6563\u3089\u3070\u308a\u3084\u305d\u306e\u30d1\u30bf\u30fc\u30f3\u306f\u95a2\u4fc2\u306a\u3044\u3002\n",
                "* \u8d64\u3044\u70b9\u7dda\uff1aCook's Distance (CD)\n",
                "    * \u3042\u308b\u89b3\u6e2c\u5024\u3092\u5916\u3057\u3066\u518d\u8a08\u7b97\u3059\u308b\u3068\u3069\u308c\u3060\u3051\u4e88\u6e2c\u5024$\\hat{y}$\u304c\u5909\u5316\u3059\u308b\u304b\u3092\u6570\u5024\u5316\u3057\u305f\u3082\u306e\u3002\n",
                "    * \u5185\u5074\u306e\u70b9\u7dda\uff1aCD = 0.5\n",
                "    * \u5916\u5074\u306e\u70b9\u7dda\uff1aCD = 1\n",
                "* \u8d64\u3044\u7dda\u306f\u89b3\u6e2c\u5024\u306b\u30d5\u30a3\u30c3\u30c8\u3059\u308b\u66f2\u7dda\n",
                "* \u6700\u3082\u5f71\u97ff\u529b\u304c\u5927\u304d\u3044\u89b3\u6e2c\u5024\u306b\u30a4\u30f3\u30c7\u30c3\u30af\u30b9\u306e\u6570\u5b57\u304c\u793a\u3055\u308c\u3066\u3044\u308b\u3002\n",
                "\n",
                "---\n",
                "\u4e0b\u306e\u56f3\u3067\u306f`CD`\u306e\u8d64\u3044\u70b9\u7dda\u306f\u51fa\u3066\u3044\u306a\u3044\u3002"
            ]
        },
        {
            "cell_type": "code",
            "execution_count": null,
            "metadata": {},
            "outputs": [],
            "source": [
                "\n"
            ]
        },
        {
            "cell_type": "markdown",
            "metadata": {
                "heading_collapsed": true,
                "hidden": true
            },
            "source": [
                "### `plot()`\uff1a\uff14\u3064\u306e\u56f3\u3092\u540c\u6642\u306b\u8868\u793a"
            ]
        },
        {
            "cell_type": "code",
            "execution_count": null,
            "metadata": {},
            "outputs": [],
            "source": [
                "\n",
                "\n",
                ""
            ]
        },
        {
            "cell_type": "markdown",
            "metadata": {
                "heading_collapsed": true
            },
            "source": [
                "## `qq`\u30d7\u30ed\u30c3\u30c8\uff08again\uff09"
            ]
        },
        {
            "cell_type": "markdown",
            "metadata": {
                "hidden": true
            },
            "source": [
                "`qq`\u30d7\u30ed\u30c3\u30c8\u3092\u8868\u793a\u3059\u308b\u4ee3\u66ff\u65b9\u6cd5\u3068\u3057\u3066\uff0c`statsmodels`\u306e`qqplot`\u30e2\u30b8\u30e5\u30fc\u30eb\u304c\u3042\u308b\u3002\u3053\u3053\u3067\u306f\u305d\u306e\u4f7f\u3044\u65b9\u3092\u7c21\u5358\u306b\u8aac\u660e\u3059\u308b\u3002\n",
                "\n",
                "`statsmodels`\u81ea\u4f53\u3092`sm`\u3068\u3057\u3066\u8aad\u307f\u8fbc\u3093\u3067\u3044\u308b\u3002"
            ]
        },
        {
            "cell_type": "markdown",
            "metadata": {
                "hidden": true
            },
            "source": [
                "\uff1c\u306e\u4f7f\u3044\u65b9\uff1e\n",
                "```\n",
                "    sm.qqplot(\u5f15\u6570\uff0cfit=True, line='45)\n",
                "```\n",
                "* \u5f15\u6570\uff1a\u56de\u5e30\u7d50\u679c\u306e\u6b8b\u5dee\u3092\u6307\u5b9a\u3059\u308b\u3002\u4e0a\u306e\u4f8b\u3067\u306f`res_diag.resid`\u3002\n",
                "* \u30aa\u30d7\u30b7\u30e7\u30f3`fit`\uff1a\u6b8b\u5dee\u306e\u5e73\u5747\u30fb\u6a19\u6e96\u504f\u5dee\u3092\u81ea\u52d5\u7684\u306b\u8a08\u7b97\u3059\u308b\u3053\u3068\u3092\u6307\u5b9a\u3059\u308b\u3002\n",
                "* \u30aa\u30d7\u30b7\u30e7\u30f3`line`\uff1a\u306f45\u5ea6\u7dda\u3092\u8868\u793a\u3059\u308b\u3002"
            ]
        },
        {
            "cell_type": "code",
            "execution_count": null,
            "metadata": {},
            "outputs": [],
            "source": [
                "\n"
            ]
        },
        {
            "cell_type": "markdown",
            "metadata": {
                "heading_collapsed": true
            },
            "source": [
                "## \u554f\u984c\u304c\u3042\u308b\u6b8b\u5dee\u306e\u4f8b"
            ]
        },
        {
            "cell_type": "markdown",
            "metadata": {
                "heading_collapsed": true,
                "hidden": true
            },
            "source": [
                "### \u30b1\u30fc\u30b9\uff11\uff1a\u88ab\u8aac\u660e\u5909\u6570\u306e\u5909\u63db\u304c\u5fc5\u8981\u306a\u56de\u5e30\u5f0f"
            ]
        },
        {
            "cell_type": "markdown",
            "metadata": {
                "hidden": true
            },
            "source": [
                "\u3053\u306e\u4f8b\u3067\u306f\u4ee5\u4e0b\u3092\u60f3\u5b9a\u3059\u308b\u3002\n",
                "* \u6bcd\u96c6\u56e3\u56de\u5e30\u5f0f\n",
                "\n",
                "    $$\\ln y = \\beta_0 + \\beta_1 x + u $$\n",
                "    \n",
                "* \u6a19\u672c\u56de\u5e30\u5f0f\n",
                "\n",
                "    $$y_i = \\beta_0 + \\beta_1 x_i + u_i$$\n",
                "\n",
                "\uff08\u89e3\u6c7a\u65b9\u6cd5\uff09\n",
                "\n",
                "$y$\u3092\u5bfe\u6570\u5909\u63db\u3059\u308b\u3002"
            ]
        },
        {
            "cell_type": "code",
            "execution_count": null,
            "metadata": {},
            "outputs": [],
            "source": [
                "\n",
                "\n",
                "",
                "",
                "",
                "",
                "",
                "",
                "",
                "",
                "",
                "",
                "",
                "",
                "",
                ""
            ]
        },
        {
            "cell_type": "markdown",
            "metadata": {
                "hidden": true
            },
            "source": [
                "`lmdiag`\u30d1\u30c3\u30b1\u30fc\u30b8\u3092\u4f7f\u3046\u3002"
            ]
        },
        {
            "cell_type": "code",
            "execution_count": null,
            "metadata": {},
            "outputs": [],
            "source": [
                "\n",
                "\n",
                ""
            ]
        },
        {
            "cell_type": "markdown",
            "metadata": {
                "heading_collapsed": true,
                "hidden": true
            },
            "source": [
                "### \u30b1\u30fc\u30b9\uff12\uff1a\u8aac\u660e\u5909\u6570\u306e\uff12\u4e57\u9805\u306e\u6b20\u843d"
            ]
        },
        {
            "cell_type": "markdown",
            "metadata": {
                "hidden": true
            },
            "source": [
                "\u3053\u306e\u4f8b\u3067\u306f\u4ee5\u4e0b\u3092\u60f3\u5b9a\u3059\u308b\u3002\n",
                "* \u6bcd\u96c6\u56e3\u56de\u5e30\u5f0f\n",
                "\n",
                "    $$y = \\beta_0 + \\beta_1 x + \\beta_2 x^2+ u $$\n",
                "    \n",
                "* \u6a19\u672c\u56de\u5e30\u5f0f\n",
                "\n",
                "    $$y_i = \\beta_0 + \\beta_1 x_i + u_i$$\n",
                "\n",
                "\uff08\u89e3\u6c7a\u65b9\u6cd5\uff09\n",
                "\n",
                "\u6a19\u672c\u56de\u5e30\u5f0f\u306b$x^2$\u3092\u52a0\u3048\u308b\u3002"
            ]
        },
        {
            "cell_type": "code",
            "execution_count": null,
            "metadata": {},
            "outputs": [],
            "source": [
                "\n",
                "\n",
                "",
                "",
                "",
                "",
                "",
                "",
                "",
                "",
                "",
                "",
                "",
                "",
                ""
            ]
        },
        {
            "cell_type": "markdown",
            "metadata": {
                "hidden": true
            },
            "source": [
                "`lmdiag`\u30d1\u30c3\u30b1\u30fc\u30b8\u3092\u4f7f\u3046\u3002"
            ]
        },
        {
            "cell_type": "code",
            "execution_count": null,
            "metadata": {},
            "outputs": [],
            "source": [
                "\n",
                "\n",
                ""
            ]
        },
        {
            "cell_type": "markdown",
            "metadata": {
                "heading_collapsed": true,
                "hidden": true
            },
            "source": [
                "### \u30b1\u30fc\u30b9\uff13\uff1a\u5b9a\u6570\u9805\u304c\u3042\u308b\u6761\u4ef6\u306b\u3088\u308a\u5909\u5316\u3059\u308b\u5834\u5408"
            ]
        },
        {
            "cell_type": "markdown",
            "metadata": {
                "hidden": true
            },
            "source": [
                "\u3053\u306e\u4f8b\u3067\u306f\u4ee5\u4e0b\u3092\u60f3\u5b9a\u3059\u308b\u3002\uff08\u4ee5\u4e0b\u306b\u3042\u308b\u300c\u6761\u4ef6\uff11\u300d\u3068\u300c\u6761\u4ef6\uff12\u300d\u304c\u4f55\u3089\u304b\u306e\u7406\u7531\u3067\u6210\u7acb\u3059\u308b\u3068\u4eee\u5b9a\u3059\u308b\u3002\uff09\n",
                "* \u6bcd\u96c6\u56e3\u56de\u5e30\u5f0f\n",
                "\n",
                "    $$\n",
                "    y = \n",
                "    \\left\\{\n",
                "        \\begin{split}\n",
                "            &\\delta_0 + \\beta_1 x + u\\quad\\text{\u6761\u4ef6\uff11\u306e\u5834\u5408} \\\\\n",
                "            &\\gamma_0 + \\beta_1 x + u\\quad\\text{\u6761\u4ef6\uff12\u306e\u5834\u5408}\n",
                "        \\end{split}\n",
                "    \\right.\n",
                "    $$\n",
                "    \n",
                "* \u6a19\u672c\u56de\u5e30\u5f0f\n",
                "\n",
                "    $$y_i = \\beta_0 + \\beta_1 x_i + u_i$$\n",
                "\n",
                "\uff08\u89e3\u6c7a\u65b9\u6cd5\uff09\n",
                "\n",
                "\u30c0\u30df\u30fc\u5909\u6570\u3092\u4f7f\u3046\u3002"
            ]
        },
        {
            "cell_type": "code",
            "execution_count": null,
            "metadata": {},
            "outputs": [],
            "source": [
                "\n",
                "\n",
                "",
                "",
                "",
                "",
                "",
                "",
                "",
                "",
                "",
                "",
                "",
                "",
                "",
                "",
                ""
            ]
        },
        {
            "cell_type": "markdown",
            "metadata": {
                "hidden": true
            },
            "source": [
                "`lmdiag`\u30d1\u30c3\u30b1\u30fc\u30b8\u3092\u4f7f\u3046\u3002"
            ]
        },
        {
            "cell_type": "code",
            "execution_count": null,
            "metadata": {},
            "outputs": [],
            "source": [
                "\n",
                "\n",
                ""
            ]
        },
        {
            "cell_type": "markdown",
            "metadata": {
                "heading_collapsed": true,
                "hidden": true
            },
            "source": [
                "### \u30b1\u30fc\u30b9\uff14\uff1a\u4e0d\u5747\u4e00\u5206\u6563"
            ]
        },
        {
            "cell_type": "markdown",
            "metadata": {
                "hidden": true
            },
            "source": [
                "\u3053\u306e\u4f8b\u3067\u306f\u4ee5\u4e0b\u3092\u60f3\u5b9a\u3059\u308b\u3002\n",
                "* \u6bcd\u96c6\u56e3\u56de\u5e30\u5f0f\n",
                "\n",
                "    $$y = \\beta_0 + \\beta_1 x + u(x) $$\n",
                "    \n",
                "    * \u8aa4\u5dee\u9805\u304c\u8aac\u660e\u5909\u6570\u306b\u4f9d\u5b58\u3057\uff0c\u4e0d\u5747\u4e00\u5206\u6563\u3068\u306a\u308b\u3002\n",
                "    * \uff08\u7406\u7531\uff09\u6b20\u843d\u5909\u6570\u306a\u3069\n",
                "* \u6a19\u672c\u56de\u5e30\u5f0f\n",
                "\n",
                "    $$y_i = \\beta_0 + \\beta_1 x_i + u_i$$\n",
                "\n",
                "\uff08\u89e3\u6c7a\u65b9\u6cd5\uff09\n",
                "* \u8aac\u660e\u5909\u6570\u3092\u8ffd\u52a0\u3057\u6b20\u843d\u5909\u6570\u3092\u306a\u304f\u3059\u3002\n",
                "* \u5909\u6570\u306e\u5909\u63db\uff08\u5bfe\u6570\u5316\u306a\u3069\uff09\n",
                "* \u53ef\u80fd\u306a\u63a8\u5b9a\u65b9\u6cd5\u3092\u8a66\u3059\n",
                "    * \u52a0\u91cd\u6700\u5c0f\u4e8c\u4e57\u6cd5\uff08Weighted Least Squares\uff09\n",
                "    * \u64cd\u4f5c\u5909\u6570\u6cd5\n",
                "    * \u30d1\u30cd\u30eb\u63a8\u5b9a\u6cd5"
            ]
        },
        {
            "cell_type": "code",
            "execution_count": null,
            "metadata": {},
            "outputs": [],
            "source": [
                "\n",
                "\n",
                "",
                "",
                "",
                "",
                "",
                "",
                "",
                "",
                "",
                "",
                "",
                ""
            ]
        },
        {
            "cell_type": "markdown",
            "metadata": {
                "hidden": true
            },
            "source": [
                "`lmdiag`\u30d1\u30c3\u30b1\u30fc\u30b8\u3092\u4f7f\u3046\u3002"
            ]
        },
        {
            "cell_type": "code",
            "execution_count": null,
            "metadata": {},
            "outputs": [],
            "source": [
                "\n",
                "\n",
                ""
            ]
        },
        {
            "cell_type": "markdown",
            "metadata": {
                "heading_collapsed": true,
                "hidden": true
            },
            "source": [
                "### \u30b1\u30fc\u30b9\uff15\uff1a\u5c0f\u6570\u306e\u89b3\u6e2c\u5024\u306b\u5f71\u97ff\u3055\u308c\u308b\u5834\u5408\uff1a\u9ad8\u3044\u30ec\u30d0\u30ec\u30c3\u30b8"
            ]
        },
        {
            "cell_type": "markdown",
            "metadata": {
                "hidden": true
            },
            "source": [
                "\u3053\u3053\u3067\u306f\u63a8\u5b9a\u5024\u304c\uff11\u3064\u306e\u89b3\u6e2c\u5024\u306b\u5927\u304d\u304f\u5de6\u53f3\u3055\u308c\u308b\u5834\u5408\u3092\u8003\u3048\u308b\u3002"
            ]
        },
        {
            "cell_type": "code",
            "execution_count": null,
            "metadata": {},
            "outputs": [],
            "source": [
                "\n",
                "\n",
                "",
                "",
                "",
                "",
                "",
                "# \u5916\u308c\u5024\u3092\u8ffd\u52a0\u3059\u308b\n",
                "\n",
                "\n",
                "",
                "",
                "# \u5916\u308c\u5024\u304c\u306a\u3044\u5834\u5408\u306eOLS\n",
                "\n",
                "\n",
                "# \u5916\u308c\u5024\u304c\u3042\u308b\u5834\u5408\u306eOLS\n"
            ]
        },
        {
            "cell_type": "markdown",
            "metadata": {
                "hidden": true
            },
            "source": [
                "\u56de\u5e30\u66f2\u7dda\u306e\u56f3\u793a"
            ]
        },
        {
            "cell_type": "code",
            "execution_count": null,
            "metadata": {},
            "outputs": [],
            "source": [
                "\n",
                "\n",
                "",
                "",
                "",
                ""
            ]
        },
        {
            "cell_type": "markdown",
            "metadata": {
                "hidden": true
            },
            "source": [
                "\u5916\u308c\u5024\uff08\u8d64\u306e\u89b3\u6e2c\u5024\uff09\u304c\u306a\u3044\u5834\u5408\u306e\u56de\u5e30\u8a3a\u65ad"
            ]
        },
        {
            "cell_type": "code",
            "execution_count": null,
            "metadata": {},
            "outputs": [],
            "source": [
                "\n",
                "\n",
                ""
            ]
        },
        {
            "cell_type": "markdown",
            "metadata": {
                "hidden": true
            },
            "source": [
                "\u5916\u308c\u5024\uff08\u8d64\u306e\u89b3\u6e2c\u5024\uff09\u304c\u3042\u308b\u5834\u5408\u306e\u56de\u5e30\u8a3a\u65ad"
            ]
        },
        {
            "cell_type": "code",
            "execution_count": null,
            "metadata": {},
            "outputs": [],
            "source": [
                "\n",
                "\n",
                ""
            ]
        },
        {
            "cell_type": "markdown",
            "metadata": {
                "hidden": true
            },
            "source": [
                "\u89b3\u6e2c\u5024`20`\u304c\u975e\u5e38\u306b\u5f71\u97ff\u529b\u304c\u9ad8\u3044\u3053\u3068\u304c\u5206\u304b\u308b\u3002\u305d\u306e\u89b3\u6e2c\u5024\u3092\u53d6\u308a\u51fa\u3059\u306b\u306f\u4ee5\u4e0b\u306e\u3088\u3046\u306b\u3059\u308b\u3002\n",
                "* \u53f3\u4e0b\u306e\u56f3\u3067`CD`\u306e\u8d64\u3044\u70b9\u7dda\u306e\u5916\uff08\u53f3\u4e0b\uff09\u306b\u3042\u308b\u89b3\u6e2c\u5024\u306e\u30a4\u30f3\u30c7\u30c3\u30af\u30b9\u306f`20`\u3067\u3042\u308a\u3001\u4ed6\u306e\u56f3\u3067\u3082`20`\u306f\u4ed6\u306e\u89b3\u6e2c\u5024\u3068\u6bd4\u3079\u308b\u3068\u300c\u5916\u308c\u5024\u300d\u306e\u7591\u3044\u304c\u9ad8\u3044\u3053\u3068\u304c\u308f\u304b\u308b\u3002\u30a4\u30f3\u30c7\u30c3\u30af\u30b9`20`\u3092\u4f7f\u3044\u89b3\u6e2c\u5024\u3092\u62bd\u51fa\u3059\u308b\u3002"
            ]
        },
        {
            "cell_type": "code",
            "execution_count": null,
            "metadata": {},
            "outputs": [],
            "source": []
        }
    ],
    "metadata": {
        "kernel_info": {
            "name": "py4etrics"
        },
        "kernelspec": {
            "display_name": "latest",
            "language": "python",
            "name": "latest"
        },
        "language_info": {
            "codemirror_mode": {
                "name": "ipython",
                "version": 3
            },
            "file_extension": ".py",
            "mimetype": "text/x-python",
            "name": "python",
            "nbconvert_exporter": "python",
            "pygments_lexer": "ipython3",
            "version": "3.8.5"
        },
        "nteract": {
            "version": "0.23.1"
        },
        "toc": {
            "base_numbering": 1,
            "nav_menu": {},
            "number_sections": true,
            "sideBar": true,
            "skip_h1_title": false,
            "title_cell": "Table of Contents",
            "title_sidebar": "Contents",
            "toc_cell": false,
            "toc_position": {},
            "toc_section_display": true,
            "toc_window_display": false
        }
    },
    "nbformat": 4,
    "nbformat_minor": 2
}