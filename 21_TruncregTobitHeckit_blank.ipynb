{
    "cells": [
        {
            "cell_type": "markdown",
            "metadata": {},
            "source": [
                "# \u5236\u9650\u5f93\u5c5e\u5909\u6570\u30e2\u30c7\u30eb"
            ]
        },
        {
            "cell_type": "code",
            "execution_count": null,
            "metadata": {},
            "outputs": [],
            "source": [
                "\n",
                "\n",
                "",
                "",
                "",
                "",
                "",
                "",
                "",
                "",
                ""
            ]
        },
        {
            "cell_type": "markdown",
            "metadata": {
                "heading_collapsed": true
            },
            "source": [
                "## \u8aac\u660e"
            ]
        },
        {
            "cell_type": "markdown",
            "metadata": {
                "hidden": true
            },
            "source": [
                "**\u5236\u9650\u5f93\u5c5e\u5909\u6570**\uff08Limited Dependent Variables; LDV\uff09\u3068\u306f\uff0c\u88ab\u8aac\u660e\u5909\u6570\u304c\u53d6\u308a\u5f97\u308b\u5024\u304c\u5927\u304d\u304f\u5236\u9650\u3055\u308c\u308b\u5834\u5408\u3092\u6307\u3059\u3002`Logit`\u3068`Probit`\u3082\u5236\u9650\u5f93\u5c5e\u5909\u6570\u306e\u4f8b\u3067\u3042\u308a\uff0c\u88ab\u8aac\u660e\u5909\u6570\u306f$(0,1)$\u306b\u5236\u9650\u3055\u308c\u3066\u3044\u308b\u3002\u3053\u306e\u7ae0\u3067\u306f\uff0c\u9055\u3063\u305f\u30bf\u30a4\u30d7\u306e\u5236\u9650\u5f93\u5c5e\u5909\u6570\u3092\u8003\u3048\u308b\u3002\n",
                "\n",
                "\u30c7\u30fc\u30bf\u306e\u6027\u8cea\u4e0a\uff12\u3064\u306b\u5206\u3051\u308b\u3053\u3068\u304c\u3067\u304d\u308b\u3002\n",
                "1. \u5207\u65ad\u30c7\u30fc\u30bf\uff08Truncated Data\uff09\n",
                "    * \u7279\u5b9a\u306e\u30c7\u30fc\u30bf\u304c\u6a19\u672c\u306b\u542b\u307e\u308c\u3066\u3044\u306a\u3044\u3002\n",
                "    * \u4f8b\uff1a\u5e73\u621030\u5e74\u5ea6\u300c\u74b0\u5883\u306b\u3084\u3055\u3057\u3044\u4f01\u696d\u884c\u52d5\u8abf\u67fb\u300d\u306e\u8abf\u67fb\u5bfe\u8c61\u4f01\u696d\u306f\uff0c\u5f93\u696d\u54e1\u6570500\u540d\u4ee5\u4e0a\u3068\u306a\u3063\u3066\u304a\u308a\uff0c500\u540d\u672a\u6e80\u306e\u4f01\u696d\u306f\u542b\u307e\u308c\u3066\u3044\u306a\u3044\u3002\n",
                "1. \u6253\u3061\u5207\u308a\u30c7\u30fc\u30bf\uff08Censored Data\uff09\n",
                "    1. \u7aef\u70b9\u89e3\u306e\u5834\u5408\n",
                "        * \u52df\u91d1\u306e\u91d1\u984d\u306e\u4f8b\uff1a\u52df\u91d1\u3057\u306a\u3044\u5834\u5408\u306f\uff10\u5186\u3060\u304c\uff0c\u52df\u91d1\u3059\u308b\u4eba\u306e\u984d\u306f\u6b63\u306e\u5024\u3092\u53d6\u308b\u3002\uff08\u4e0b\u304b\u3089\u306e\u6253\u3061\u5207\u308a\u30c7\u30fc\u30bf\uff09\n",
                "    1. \u30c7\u30fc\u30bf\u5236\u7d04\u306e\u5834\u5408\n",
                "        * \u6240\u5f97\u8abf\u67fb\u306e\u4f8b\uff1a\uff38\u4e07\u5186\u304b\u3089\uff39\u4e07\u5186\u306e\u3088\u3046\u306b\u30ab\u30c6\u30b4\u30ea\u30fc\u3067\u307e\u3068\u3081\u308b\u5834\u5408\u304c\u901a\u5e38\u3067\u3042\u308a\uff0c\u6700\u9ad8\u984d\u30ab\u30c6\u30b4\u30ea\u30fc\u306f\uff3a\u4e07\u5186\u4ee5\u4e0a\u306e\u3088\u3046\u306b\u306a\u308b\u3002\u3053\u306e\u5834\u5408\uff0c\uff3a\u4e07\u5186\u4ee5\u4e0a\u306e\u6240\u5f97\u306f\u5168\u3066\uff3a\u4e07\u5186\u3068\u306a\u308b\u3002\uff08\u4e0a\u304b\u3089\u306e\u6253\u3061\u5207\u308a\u30c7\u30fc\u30bf\uff09\n",
                "\n",
                "\uff08\u30b3\u30e1\u30f3\u30c8\uff09\u4ee5\u4e0b\u306e\u3088\u3046\u306b\u3082\u547c\u3070\u308c\u308b\n",
                "* **\u4e0b\u304b\u3089**\u306e\u6253\u3061\u5207\u308a\u30c7\u30fc\u30bf \uff1d **\u5de6\u304b\u3089**\u306e\u6253\u3061\u5207\u308a\u30c7\u30fc\u30bf\uff08left-censored\uff09\n",
                "* **\u4e0a\u304b\u3089**\u306e\u6253\u3061\u5207\u308a\u30c7\u30fc\u30bf \uff1d **\u53f3\u304b\u3089**\u306e\u6253\u3061\u5207\u308a\u30c7\u30fc\u30bf\uff08right-censored\uff09"
            ]
        },
        {
            "cell_type": "markdown",
            "metadata": {
                "hidden": true
            },
            "source": [
                "---\n",
                "\u30c7\u30fc\u30bf\u306e\u6027\u8cea\u306b\u5206\u3051\u3066\u6b21\u306e\u30e2\u30c7\u30eb\u306e\u4f7f\u3044\u65b9\u3092\u8aac\u660e\u3059\u308b\u3002\n",
                "* \u5207\u65ad\u56de\u5e30\u30e2\u30c7\u30eb\uff08Truncated Regression\uff09\uff1a\u5207\u65ad\u30c7\u30fc\u30bf\n",
                "* Tobit\u30e2\u30c7\u30eb\uff1a\u6253\u3061\u5207\u308a\u30c7\u30fc\u30bf\n",
                "* Heckit\u30e2\u30c7\u30eb\uff1a\u5207\u65ad\u30c7\u30fc\u30bf\u3067\u9078\u629e\u30d0\u30a4\u30a2\u30b9\u554f\u984c\u304c\u767a\u751f\u3059\u308b\u5834\u5408"
            ]
        },
        {
            "cell_type": "markdown",
            "metadata": {
                "heading_collapsed": true
            },
            "source": [
                "## \u5207\u65ad\u56de\u5e30\u30e2\u30c7\u30eb"
            ]
        },
        {
            "cell_type": "markdown",
            "metadata": {
                "heading_collapsed": true,
                "hidden": true
            },
            "source": [
                "### \u8aac\u660e"
            ]
        },
        {
            "cell_type": "markdown",
            "metadata": {
                "hidden": true
            },
            "source": [
                "\u7121\u4f5c\u70ba\u306a\u5f62\u3067\u306f\u306a\u304f\uff0c\u3042\u308b\u7279\u5b9a\u306e\u4e00\u90e8\u306e\u30c7\u30fc\u30bf\u304c\u6a19\u672c\u304b\u3089\u6b20\u3089\u304f\u3057\u3066\u3044\u308b\u5207\u65ad\u30c7\u30fc\u30bf\u306e\u5206\u6790\u3092\u8003\u3048\u308b\u3002\u4f8b\u3068\u3057\u3066\uff0c\u5973\u6027\u306e\u52b4\u50cd\u4f9b\u7d66\u3092\u8003\u3048\u3088\u3046\u3002\n",
                "\n",
                "$$\n",
                "\\begin{align*}\n",
                "&y_i=\\beta_0+\\beta_1x_i+u_i\\qquad i\\in\\cal{Y}\\\\\n",
                "&(y_i,x_i)\\text{\u306f\u89b3\u5bdf\u3055\u308c\u306a\u3044}\\qquad i\\in\\cal{N}\n",
                "\\end{align*}\n",
                "$$\n",
                "\n",
                "* $\\cal{Y}$\uff1a\u89b3\u6e2c\u3055\u308c\u305f\u30c7\u30fc\u30bf\u306e\u96c6\u5408\uff08\u901a\u5e38\uff0c\u7121\u4f5c\u70ba\u306b\u9078\u629e\u3055\u308c\u306a\u3044\u3068\u8003\u3048\u308b\uff09\u3002\n",
                "* $\\cal{N}$\uff1a\u89b3\u6e2c\u3055\u308c\u306a\u3044\u30c7\u30fc\u30bf\u306e\u96c6\u5408\uff08\u901a\u5e38\uff0c\u7121\u4f5c\u70ba\u306b\u9078\u629e\u3055\u308c\u306a\u3044\u3068\u8003\u3048\u308b\uff09\u3002\n",
                "* $x$\uff1a\u52b4\u50cd\u4f9b\u7d66\u306b\u95a2\u3059\u308b\u6c7a\u5b9a\u8981\u56e0\uff08\u4f8b\u3048\u3070\uff0c\u6559\u80b2\u5e74\u6570\uff09\n",
                "* $u|x\\sim \\text{Normal}(0,\\sigma^2)$\uff1a\u52b4\u50cd\u4f9b\u7d66\u306b\u95a2\u3059\u308b\u30e9\u30f3\u30c0\u30e0\u306a\u8981\u7d20\uff08\u4f8b\u3048\u3070\uff0c\u597d\u307f\uff09\n",
                "    * \u3053\u306e\u4eee\u5b9a\u304c\u975e\u5e38\u306b\u91cd\u8981\u3067\u3042\u308a\u8a08\u7b97\u306e\u524d\u63d0\u3068\u306a\u308b\u3002\n",
                "* $y_i$\uff1a\u5b9f\u969b\u306e\u52b4\u50cd\u4f9b\u7d66\uff08\u975e\u8ca0\u306e\u9023\u7d9a\u5909\u6570\uff09\n",
                "\n",
                "\uff1c\uff1c\u7d50\u679c\uff1e\uff1e\n",
                "* \u6a19\u672c\u96c6\u5408$\\cal{Y}$\u306f\u7121\u4f5c\u70ba\u6a19\u672c\u3067\u306f\u306a\u3044\u3002\u5f93\u3063\u3066\uff0cGM\u4eee\u5b9a\uff12\u304c\u6e80\u305f\u3055\u308c\u306a\u3044\u305f\u3081OLS\u63a8\u5b9a\u91cf$\\hat{\\beta}_{\\text{ols}}$\u306f\u4e0d\u504f\u6027\u3092\u6e80\u305f\u3055\u306a\u3044\u3002\u307e\u305f\u4e00\u81f4\u6027\u3082\u6e80\u305f\u3055\u306a\u3044\u3002\n",
                "\n",
                "---\n",
                "\u307e\u305a\u30b7\u30df\u30e5\u30ec\u30fc\u30b7\u30e7\u30f3\u3092\u4f7f\u3063\u3066\u3053\u306e\u7d50\u679c\u3092\u76f4\u611f\u7684\u306b\u78ba\u8a8d\u3059\u308b\u3002"
            ]
        },
        {
            "cell_type": "markdown",
            "metadata": {
                "heading_collapsed": true,
                "hidden": true
            },
            "source": [
                "### \u30b7\u30df\u30e5\u30ec\u30fc\u30b7\u30e7\u30f3"
            ]
        },
        {
            "cell_type": "code",
            "execution_count": null,
            "metadata": {},
            "outputs": [],
            "source": [
                "# \u6a19\u672c\u306e\u5927\u304d\u3055 \n",
                "\n",
                "\n",
                "# y*\u3092\u6c7a\u5b9a\u3059\u308bx\n",
                "\n",
                "\n",
                "# \u88ab\u8aac\u660e\u5909\u6570\n",
                "\n",
                "\n",
                "# DataFrame\n",
                "\n",
                "\n",
                "# \u95be\u5024\n",
                "\n",
                "\n",
                "# \u5207\u65ad\u30c7\u30fc\u30bf\u306e\u4f5c\u6210\n",
                "\n",
                "\n",
                "",
                "# \u5207\u65ad\u3055\u308c\u305f\u88ab\u8aac\u660e\u5909\u6570\n"
            ]
        },
        {
            "cell_type": "markdown",
            "metadata": {
                "hidden": true
            },
            "source": [
                "\u3053\u3053\u3067`np.nan`\u3068\u306f`NumPy`\u306e\u5b9a\u6570\u3067\u3042\u308a\uff0c\u6b20\u640d\u5024`NaN`\u3092\u793a\u3059\u3002`cond`\u306e\u6761\u4ef6\u306b\u3042\u308b\u95be\u5024`left=0`\u4ee5\u4e0b\u306e\u30c7\u30fc\u30bf\u306f\u6b20\u640d\u5024\u3068\u3057\u3066\u8a2d\u5b9a\u3055\u308c\u3066\u3044\u308b\u3002`NumPy`\u306b\u306f\u6b21\u306e\u5b9a\u6570\u3082\u3042\u308b\u306e\u3067\u3053\u306e\u6a5f\u4f1a\u306b\u7d39\u4ecb\u3059\u308b\u3002\n",
                "* `np.nan`\uff1a`NaN`\n",
                "* `np.inf`\uff1a\uff08\u6b63\u306e\uff09\u7121\u9650\n",
                "* `np.e`\uff1a$e=2.71...$\n",
                "* `np.pi`\uff1a$\\pi=3.14...$"
            ]
        },
        {
            "cell_type": "markdown",
            "metadata": {
                "hidden": true
            },
            "source": [
                "\u6bcd\u96c6\u56e3\u56de\u5e30\u5f0f"
            ]
        },
        {
            "cell_type": "code",
            "execution_count": null,
            "metadata": {},
            "outputs": [],
            "source": [
                "\n",
                "\n",
                "",
                "",
                "",
                "",
                ""
            ]
        },
        {
            "cell_type": "markdown",
            "metadata": {
                "hidden": true
            },
            "source": [
                "\u5207\u65ad\u30c7\u30fc\u30bf\u3092\u4f7f\u3063\u305fOLS\u56de\u5e30"
            ]
        },
        {
            "cell_type": "code",
            "execution_count": null,
            "metadata": {},
            "outputs": [],
            "source": [
                "\n",
                "\n",
                "",
                "",
                "",
                "",
                ""
            ]
        },
        {
            "cell_type": "markdown",
            "metadata": {
                "hidden": true
            },
            "source": [
                "\u6bd4\u8f03\u3059\u308b\u305f\u3081\u306b\uff12\u3064\u306e\u7d50\u679c\u3092\u56f3\u793a\u3059\u308b\u3002\u540c\u3058\u56f3\u306b\u63cf\u304f\u305f\u3081\u306b\uff0c\u5148\u306b\u5207\u65ad\u30c7\u30fc\u30bf\u3092\u6574\u7406\u3059\u308b\u3002"
            ]
        },
        {
            "cell_type": "code",
            "execution_count": null,
            "metadata": {},
            "outputs": [],
            "source": [
                "\n",
                "\n",
                ""
            ]
        },
        {
            "cell_type": "markdown",
            "metadata": {
                "hidden": true
            },
            "source": [
                "\uff08\uff11\uff09`.dropna()`\u3092\u4f7f\u3063\u3066\u5217`Y_trunc`\u304b\u3089\u6b20\u640d\u5024\u304c\u3042\u308b\u884c\u3092\u53d6\u308a\u9664\u304d\uff0c\u5217`X`\u3092`x_trun`\u306b\u5272\u308a\u5f53\u3066\u308b\u3002\n",
                "\n",
                "\uff08\uff12\uff09`x_trun`\u306e\u6700\u5c0f\u5024\u3092\u8a2d\u5b9a\u3002\n",
                "\n",
                "\uff08\uff12\uff09`x_trun`\u306e\u6700\u5927\u5024\u3092\u8a2d\u5b9a\u3002\n",
                "\n",
                "`matplotlib`\u3092\u4f7f\u3063\u3066\uff12\u3064\u306e\u56f3\u3092\u91cd\u306d\u3066\u56f3\u793a\u3059\u308b\u3002"
            ]
        },
        {
            "cell_type": "code",
            "execution_count": null,
            "metadata": {},
            "outputs": [],
            "source": [
                "# \uff08\uff11\uff09\u6bcd\u96c6\u56e3\u30c7\u30fc\u30bf\u306e\u6563\u5e03\u56f3\n",
                "\n",
                "\n",
                "# \uff08\uff12\uff09\u5207\u65ad\u30c7\u30fc\u30bf\u306e\u6563\u5e03\u56f3\n",
                "\n",
                "\n",
                "# \u6bcd\u96c6\u56e3OLS\n",
                "\n",
                "\n",
                "# \u5207\u65ad\u56de\u5e30\n",
                "\n",
                "\n",
                "",
                "",
                "",
                ""
            ]
        },
        {
            "cell_type": "markdown",
            "metadata": {
                "hidden": true
            },
            "source": [
                "\uff1c`matplotlib`\u30b3\u30fc\u30c9\u306e\u8aac\u660e\uff1e\n",
                "\n",
                "\uff08\uff11\uff09\u6bcd\u96c6\u56e3\u30c7\u30fc\u30bf\u306e\u6563\u5e03\u56f3\n",
                "* \u5f15\u6570`facecolors`\u306f\u5168\u3066\u306e\u89b3\u6e2c\u5024\u306e\u70b9\u306e\u8272\u3092\u300c\u306a\u3057\u300d\u306b\u8a2d\u5b9a\u3059\u308b\u3002\n",
                "* \u5f15\u6570`edgecolors`\u306f\u5168\u3066\u306e\u89b3\u6e2c\u5024\u306e\u5186\u5468\u3092\u30b0\u30ec\u30fc\u306b\u8a2d\u5b9a\u3059\u308b\u3002\n",
                "* \u3053\u306e\uff12\u3064\u306b\u3088\u308a\uff0c\u5168\u3066\u306e\u89b3\u6e2c\u5024\u306f\u5de6\u4e0b\u306e\u89b3\u6e2c\u5024\u306e\u3088\u3046\u306b\u767d\u629c\u304d\u306e\u30b0\u30ec\u30fc\u306e\u5186\u3068\u3057\u3066\u8868\u793a\u3055\u308c\u308b\u3002\n",
                "\n",
                "\uff08\uff12\uff09\u5207\u65ad\u30c7\u30fc\u30bf\u306e\u6563\u5e03\u56f3\n",
                "* \u5f8c\u306b\u304f\u308b`plt.plot()`\u306f\u524d\u306b\u3042\u308b`plt.plot()`\u3092\u4e0a\u66f8\u304d\u3059\u308b\u3002\u5f93\u3063\u3066\uff0c\u5207\u65ad\u30c7\u30fc\u30bf\u306e\u89b3\u6e2c\u5024\u306f\u6bcd\u96c6\u56e3\u30c7\u30fc\u30bf\u306e\u6563\u5e03\u56f3\u4e0a\u306b\u91cd\u306d\u3066\u8868\u793a\u3055\u308c\u308b\u305f\u3081\uff0c\u5f15\u6570`facecolors`\u3092`gray`\u306b\u8a2d\u5b9a\u3059\u308b\u3053\u3068\u306b\u3088\u308a\u5207\u65ad\u30c7\u30fc\u30bf\u3060\u3051\u3092\u30b0\u30ec\u30fc\u306e\u70b9\u3068\u3057\u3066\u8868\u793a\u3055\u305b\u308b\u3053\u3068\u304c\u3067\u304d\u308b\u3002"
            ]
        },
        {
            "cell_type": "markdown",
            "metadata": {
                "heading_collapsed": true,
                "hidden": true
            },
            "source": [
                "### \u76f4\u611f\u7684\u306a\u7406\u89e3"
            ]
        },
        {
            "cell_type": "markdown",
            "metadata": {
                "hidden": true
            },
            "source": [
                "\u4e0a\u306e\u56f3\u3092\u898b\u308b\u3060\u3051\u3067\u3082\u5207\u65ad\u30c7\u30fc\u30bf\u306b\u3088\u3063\u3066\u5f15\u304d\u8d77\u3053\u3055\u308c\u308b\u554f\u984c\u3092\u30a4\u30e1\u30fc\u30b8\u3059\u308b\u3053\u3068\u306f\u3067\u304d\u308b\u304c\uff0c\u4ee5\u4e0b\u3067\u306f\u3082\u3046\u4e00\u6b69\u8e0f\u307f\u8fbc\u3093\u3067\u63a8\u5b9a\u91cf\u306e\u30d0\u30a4\u30a2\u30b9\u306e\u7406\u7531\u3092\u76f4\u611f\u7684\u306b\u8003\u3048\u3066\u307f\u308b\u3002\n",
                "\n",
                "**\uff1c\u6bcd\u96c6\u56e3\u56de\u5e30\uff1e**\n",
                "\n",
                "\u6bcd\u96c6\u56e3\u56de\u5e30\u5f0f\u306f\n",
                "\n",
                "$$y=\\beta_0+\\beta_1 x_1+e\\qquad\\text{(\u5f0f\uff11)}$$\n",
                "\n",
                "\u3067\u3042\u308a\uff0c\u5168\u3066\u306e\u89b3\u6e2c\u5024\u3092\u3064\u304b\u3046\uff08\u5373\u3061\uff0c\u5207\u65ad\u3055\u308c\u305f\u30c7\u30fc\u30bf\u304c\u306a\u3044\uff09\u5834\u5408\u306e\u6761\u4ef6\u4ed8\u304d\u671f\u5f85\u5024\u3067\u3042\u308b\u6bcd\u96c6\u56e3\u56de\u5e30\u95a2\u6570\uff08\u6bcd\u96c6\u56e3\u3067\u5e73\u5747\u3067\u6210\u7acb\u3059\u308b\u56de\u5e30\u7dda\uff09\u306f\n",
                "\n",
                "$$\\text{E}\\left(y|x\\right)=\\beta_0+\\beta_1 x_1\\qquad\\text{(\u5f0f\uff12)}$$\n",
                "\n",
                "\u3068\u306a\u308b\u3002"
            ]
        },
        {
            "cell_type": "markdown",
            "metadata": {
                "hidden": true
            },
            "source": [
                "**\uff1c\u5207\u65ad\u56de\u5e30\uff1e**\n",
                "\n",
                "$y>0$\u306e\u30c7\u30fc\u30bf\u3060\u3051\u3092\u4f7f\u3046\u56de\u5e30\u5f0f\u306f\n",
                "\n",
                "$$y_i=\\beta_0+\\beta_1 x_i+u_i\\qquad\\text{(\u5f0f\uff13)}$$\n",
                "\n",
                "\u3068\u306a\u308b\u3002\u6a19\u672c\u3067\u306f$y_i\\leq 0$\u306e\u30c7\u30fc\u30bf\u304c\u5207\u65ad\u3055\u308c\u3066\u3044\u308b\u305f\u3081\uff0c$y_i>0$\u3092\u8003\u616e\u3057$x_i$\u3092\u6240\u4e0e\u3068\u3057\u3066(\u5f0f\uff13)\u306e\u671f\u5f85\u5024\u3092\u53d6\u308b\u3068\n",
                "\n",
                "$$\\text{E}\\left(y_i|y_i>0,x_i\\right)=\\beta_0+\\beta_1 x_i+\\sigma_u\\lambda\\left(w_i\\right)\\qquad\\text{(\u5f0f\uff14)}$$\n",
                "\n",
                "\u3068\u306a\u308b\u3002\u3053\u3053\u3067\n",
                "* $w_i\\equiv\\dfrac{A-(\\beta_0+\\beta_1x_i)}{\\sigma}$\n",
                "* $A$\uff1a\u4e0b\u9650\u306e\u5024\uff08\u3053\u306e\u4f8b\u3067\u306f`0`\uff09\n",
                "* $\\sigma_u$\uff1a\u8aa4\u5dee\u9805\u306e\u6a19\u6e96\u504f\u5dee\n",
                "\n",
                "\u3068\u306a\u308b\u304c\uff0c$\\sigma_u\\lambda\\left(w_i\\right)$\u306e\u5c0e\u51fa\u3084$\\lambda\\left(\\cdot\\right)$\u306e\u95a2\u6570\u5f62\u304c\u91cd\u8981\u3067\u306f\u306a\u3044\u3002\u91cd\u8981\u306a\u306e\u306f\uff0c\u9006\u30df\u30eb\u30ba\u6bd4\uff08inverse Mill's ratio\uff09\u3068\u547c\u3070\u308c\u308b$\\lambda(w_i)\\neq 0$\u306e\u5b58\u5728\u3067\u3042\u308a\uff0c$y>0$\u3068\u306a\u308b\u78ba\u7387\u306e\u5f71\u97ff\u3092\u6349\u3048\u3066\u3044\u308b\u3068\u3044\u3046\u70b9\u3067\u3042\u308b\u3002(\u5f0f\uff14)\u304c$y>0$\u3092\u8003\u616e\u3057\u3066\u3044\u308b\u305f\u3081\uff0c(\u5f0f\uff14)\u306b\u57fa\u3065\u3044\u3066\u6b21\u5f0f\n",
                "\n",
                "$$\n",
                "y_i=\\beta_0+\\beta_1 x_i+\\sigma_u\\lambda\\left(w_i\\right)+\\nu_i\\qquad\\text{(\u5f0f\uff15)}\n",
                "$$\n",
                "\n",
                "\u3092\u63a8\u5b9a\u3059\u308b\u5fc5\u8981\u304c\u3042\u308b\u3002\u3057\u304b\u3057(\u5f0f\uff13)\u3092OLS\u63a8\u5b9a\u3059\u308b\u3068\uff0c$\\lambda(x)$\u304c\u6b20\u843d\u3059\u308b\u3053\u3068\u306b\u306a\u308a\uff0c**\u6b20\u843d\u5909\u6570\u30d0\u30a4\u30a2\u30b9**\u304c\u767a\u751f\u3059\u308b\u3053\u3068\u306b\u306a\u308b\u3002\u3053\u306e\u30d0\u30a4\u30a2\u30b9\u306f\uff0c\u4e0a\u306e\u56f3\u3067\u9ed2\u3068\u8d64\u306e\u56de\u5e30\u7dda\u306e\u50be\u304d\u306e\u9055\u3044\u306b\u73fe\u308c\u3066\u3044\u308b\u3002OLS\u63a8\u5b9a\u91cf\u306f\u30bc\u30ed\u65b9\u5411\u306b\u30d0\u30a4\u30a2\u30b9\u304c\u767a\u751f\u3059\u308b\u4e8b\u304c\u77e5\u3089\u308c\u3066\u3044\u308b\u3002"
            ]
        },
        {
            "cell_type": "markdown",
            "metadata": {
                "heading_collapsed": true,
                "hidden": true
            },
            "source": [
                "### `Truncreg`\u30e2\u30b8\u30e5\u30fc\u30eb\u306e\u4f7f\u3044\u65b9"
            ]
        },
        {
            "cell_type": "markdown",
            "metadata": {
                "hidden": true
            },
            "source": [
                "\u5207\u65ad\u30c7\u30fc\u30bf\u3092\u6271\u3046\u305f\u3081\u306b\u5207\u65ad\u56de\u5e30\u30e2\u30c7\u30eb\u3092\u5c55\u958b\u3059\u308b\u3002\u3053\u3053\u3067\u306f\u5177\u4f53\u7684\u306a\u5185\u5bb9\u306f\u5272\u611b\u3059\u308b\u304c\uff0c`Logit`\u3068`Probit`\u3068\u540c\u3058\u3088\u3046\u306b\u6700\u5c24\u6cd5\u3092\u3064\u304b\u3044\u63a8\u5b9a\u3059\u308b\u3002\n",
                "\n",
                "* \u5207\u65ad\u56de\u5e30\u30e2\u30c7\u30eb\u306e\u63a8\u5b9a\u91cf\u306f\u4e00\u81f4\u6027\u3092\u6e80\u305f\u3059\u3002\n",
                "\n",
                "---\n",
                "`statsmodels`\u3082`linearmodels`\u3082`Tobit`\u63a8\u5b9a\u306e\u30e2\u30b8\u30e5\u30fc\u30eb\u304c\u306a\u3044\u3002\u305d\u306e\u4ee3\u308f\u308a\u306b\u8457\u8005\u304c\u4f5c\u6210\u3057\u305f`py4etrics`\u30d1\u30c3\u30b1\u30fc\u30b8\u306e\u95a2\u6570`trucreg`\u30e2\u30b8\u30e5\u30fc\u30eb\u3092\u4f7f\u3044\u63a8\u5b9a\u3059\u308b\u3002\u3053\u308c\u306f`statsmodels`\u306e`GenericMaximumLikelihoodModel`\u3092\u4f7f\u3044\u5b9f\u88c5\u3057\u305f\u3082\u306e\u3067\u3042\u308b\u3002\u4f7f\u7528\u3059\u308b\u4e0a\u3067[\u3053\u306e\u30b5\u30a4\u30c8](https://www.statsmodels.org/devel/examples/notebooks/generated/generic_mle.html)\u306b\u3042\u308b\u6b21\u306e\u70b9\u306b\u6ce8\u610f\u3059\u308b\u5fc5\u8981\u304c\u3042\u308b\u3002\n",
                "* `R`\u306e\u63a8\u5b9a\u5024\u3068\u5c0f\u6570\u70b9\u7b2c\uff14\u4f4d\u307e\u3067\u540c\u3058\u306b\u306a\u308b\u304c\uff0c\u6a19\u6e96\u504f\u5dee\u306f\u5c0f\u6570\u70b9\u7b2c\uff12\u4f4d\u307e\u3067\u304c\u540c\u3058\u3068\u306a\u308b\u3002"
            ]
        },
        {
            "cell_type": "markdown",
            "metadata": {
                "hidden": true
            },
            "source": [
                "````{note}\n",
                "Mac\u3067\u306fTerminal\u3001Windows\u3067\u306fGit Bash\u3092\u4f7f\u3044\u3001\u6b21\u306e\u30b3\u30de\u30f3\u30c9\u3067`py4etrics`\u30e2\u30b8\u30e5\u30fc\u30eb\u3092\u30a4\u30f3\u30b9\u30c8\u30fc\u30eb\u3067\u304d\u308b\u3002\n",
                "```\n",
                "pip install git+https://github.com/spring-haru/py4etrics.git\n",
                "```\n",
                "````"
            ]
        },
        {
            "cell_type": "markdown",
            "metadata": {
                "hidden": true,
                "tags": [
                    "output_scroll"
                ]
            },
            "source": [
                "\n",
                "---\n",
                "\uff1c\u4f7f\u3044\u65b9\uff1e\n",
                "\n",
                "\u57fa\u672c\u7684\u306b`statsmodels`\u306e`ols`\u3068\u540c\u3058\u3060\u304c\uff0c\u8ffd\u52a0\u7684\u306a\u64cd\u4f5c\u3068\u30aa\u30d7\u30b7\u30e7\u30f3\u304c\u3042\u308b\u3002\n",
                "1. \u63a8\u5b9a\u5f0f\u3092\u6c7a\u3081\u308b\n",
                "```\n",
                "    formula = 'y ~ 1 + x'\n",
                "```\n",
                "1. `Truncreg`\u306e`from_formula`\u30e2\u30b8\u30e5\u30fc\u30eb\u3092\u4f7f\u3063\u3066\u63a8\u5b9a\n",
                "```\n",
                "    Truncreg.from_formula(formula, left=<A>, right=<B>, data=<C>).fit()\n",
                "```\n",
                "\n",
                "\u3053\u3053\u3067 \n",
                "* `left`:\u5de6\u5207\u65ad\u306e\u5024\uff08\u30c7\u30d5\u30a9\u30eb\u30c8\u306f$-\\infty$\uff09\n",
                "* `right`:\u53f3\u5207\u65ad\u306e\u5024\uff08\u30c7\u30d5\u30a9\u30eb\u30c8\u306f$\\infty$\uff09\n",
                "* `deta`:\u30c7\u30fc\u30bf\u306e\u6307\u5b9a\n",
                "* \u5207\u65ad\u65b9\u5411\u306e\u8a2d\u5b9a\uff1a\n",
                "    * `left`\u3060\u3051\u306b\u5024\u3092\u8a2d\u5b9a\u3059\u308b\u5834\u5408\u306f\u5de6\u5207\u65ad\u56de\u5e30\uff08left-truncated\uff09\u3068\u306a\u308b\u3002\n",
                "    * `right`\u3060\u3051\u306b\u5024\u3092\u8a2d\u5b9a\u3059\u308b\u5834\u5408\u306f\u53f3\u5207\u65ad\u56de\u5e30\uff08right-truncated\uff09\u3068\u306a\u308b\u3002\n",
                "    * `left`\u3068`right`\u306e\u4e21\u65b9\u306b\u5024\u3092\u8a2d\u5b9a\u3059\u308b\u5834\u5408\u306f\u5de6\u53f3\u5207\u65ad\u56de\u5e30\uff08left- and right-truncated\uff09\u3068\u306a\u308b\u3002\n",
                "    * `left`\u3068`right`\u306e\u4e21\u65b9\u306b\u5024\u3092\u8a2d\u5b9a\u3057\u306a\u3044\u5834\u5408\u306f\u901a\u5e38\u306e\u6700\u5c24\u63a8\u5b9a\u3068\u306a\u308b\u3002"
            ]
        },
        {
            "cell_type": "markdown",
            "metadata": {
                "heading_collapsed": true,
                "hidden": true
            },
            "source": [
                "### \u5207\u65ad\u56de\u5e30\u63a8\u5b9a"
            ]
        },
        {
            "cell_type": "markdown",
            "metadata": {
                "hidden": true
            },
            "source": [
                "\u4f8b\u3068\u3057\u3066`wooldridge`\u306e`HTV`\u306e\u30c7\u30fc\u30bf\u3092\u4f7f\u3044\u63a8\u5b9a\u3059\u308b\u3002"
            ]
        },
        {
            "cell_type": "code",
            "execution_count": null,
            "metadata": {},
            "outputs": [],
            "source": [
                "\n"
            ]
        },
        {
            "cell_type": "markdown",
            "metadata": {
                "hidden": true
            },
            "source": [
                "\uff1c\u76ee\u7684\uff1e\n",
                "\n",
                "\u6559\u80b2\uff08`educ`\uff09\u304c\u8cc3\u91d1\uff08`wage`\uff09\u306b\u4e0e\u3048\u308b\u5f71\u97ff\u3092\u63a2\u308b\u30021991\u5e74\u306e\u6642\u9593\u8cc3\u91d1\u3092\u5bfe\u6570\u5316\u3057\u305f`lwage`\u3092\u88ab\u8aac\u660e\u5909\u6570\u3068\u3057\u3066\u4f7f\u3044\uff0c\u6b21\u306e\u8aac\u660e\u5909\u6570\u3092\u4f7f\u3046\u3002\n",
                "* `educ`\uff1a1991\u5e74\u307e\u3067\u306b\u4fee\u4e86\u3057\u305f\u6700\u9ad8\u5b66\u4f4d\u306e\u6307\u6a19\n",
                "* `abil`\uff1a\u80fd\u529b\u3092\u6349\u3048\u308b\u6307\u6a19\n",
                "* `exper`\uff1a\u6f5c\u5728\u7684\u306a\u52b4\u50cd\u7d4c\u9a13\n",
                "* `nc`\uff1a\u7c73\u56fd\u5317\u4e2d\u90e8\u306e\u30c0\u30df\u30fc\u5909\u6570\n",
                "* `west`\uff1a\u7c73\u56fd\u897f\u90e8\u306e\u30c0\u30df\u30fc\u5909\u6570\n",
                "* `south`\uff1a\u7c73\u56fd\u5357\u90e8\u306e\u30c0\u30df\u30fc\u5909\u6570\n",
                "* `urban`\uff1a\u90fd\u5e02\u90e8\u306e\u30c0\u30df\u30fc\u5909\u6570"
            ]
        },
        {
            "cell_type": "markdown",
            "metadata": {
                "hidden": true
            },
            "source": [
                "\u307e\u305aOLS\u63a8\u5b9a\u3092\u884c\u3046\u3002"
            ]
        },
        {
            "cell_type": "code",
            "execution_count": null,
            "metadata": {},
            "outputs": [],
            "source": [
                "\n",
                "\n",
                "",
                "",
                ""
            ]
        },
        {
            "cell_type": "markdown",
            "metadata": {
                "hidden": true
            },
            "source": [
                "`educ`\u306e\u4fc2\u6570\u306f`0.1037`\u3067\u3042\u308a\uff0c\u6a19\u6e96\u8aa4\u5dee\u306f`0.010`\u3002\n",
                "\n",
                "\u6b21\u306b\uff0c`wage`\u304c`20`\u4ee5\u4e0a\u306e\u89b3\u6e2c\u5024\u3092\u53d6\u308a\u9664\u304d\uff0c`20`\u672a\u6e80\u306e\u30b5\u30f3\u30d7\u30eb\u3060\u3051\u3067\u63a8\u8a08\u3059\u308b\u3002"
            ]
        },
        {
            "cell_type": "code",
            "execution_count": null,
            "metadata": {},
            "outputs": [],
            "source": [
                "\n",
                "\n",
                "",
                "",
                ""
            ]
        },
        {
            "cell_type": "markdown",
            "metadata": {
                "hidden": true
            },
            "source": [
                "164\u306e\u30b5\u30f3\u30d7\u30eb\u304c\u53d6\u308a\u9664\u304b\u308c\u305f\u3002\u3053\u308c\u306b\u3088\u308a\uff0c\u30e9\u30f3\u30c0\u30e0\u306a\u6a19\u672c\u3067\u306f\u306a\u304f\u306a\u3063\u3066\u3044\u304a\u308a\uff0cGM\u4eee\u5b9a\uff12\u304c\u6e80\u305f\u3055\u308c\u3066\u3044\u306a\u3044\u3002"
            ]
        },
        {
            "cell_type": "code",
            "execution_count": null,
            "metadata": {},
            "outputs": [],
            "source": [
                "\n",
                "\n",
                ""
            ]
        },
        {
            "cell_type": "markdown",
            "metadata": {
                "hidden": true
            },
            "source": [
                "`educ`\u306e\u4fc2\u6570\u306f`0.0579`\u306b\u5927\u304d\u304f\u4e0b\u843d\u3057\u3066\u3044\u308b\u3002\u5207\u65ad\u30c7\u30fc\u30bf\u3092OLS\u63a8\u5b9a\u3059\u308b\u3068\uff08\u30bc\u30ed\u65b9\u5411\u306b\uff09\u30d0\u30a4\u30a2\u30b9\u304c\u767a\u751f\u3059\u308b\u3053\u3068\u3092\u793a\u3057\u3066\u3044\u308b\u3002\n",
                "\n",
                "---\n",
                "\u6b21\u306b\uff0c\u5207\u65ad\u56de\u5e30\u63a8\u5b9a\u3092\u304a\u3053\u306a\u3046\u3002\n",
                "* \u53f3\u5207\u65ad\u306a\u306e\u3067`right`\u306b\u6570\u5024\u3092\u8a2d\u5b9a\u3059\u308b\u3002\n",
                "* \u8aac\u660e\u5909\u6570\u304c\u5bfe\u6570\u5316\u3055\u308c\u3066\u3044\u308b\u305f\u3081\uff0c\u305d\u308c\u306b\u5408\u308f\u305b\u3066`right=np.log(20)`\u3068\u3059\u308b\u3002"
            ]
        },
        {
            "cell_type": "code",
            "execution_count": null,
            "metadata": {},
            "outputs": [],
            "source": [
                "\n",
                "\n",
                ""
            ]
        },
        {
            "cell_type": "markdown",
            "metadata": {
                "hidden": true
            },
            "source": [
                "`educ`\u306e\u4fc2\u6570\u306f`0.1060`\u306b\u306a\u308a\uff0c\u5207\u65ad\u3055\u308c\u308b\u524d\u306e\u6a19\u672c\u3092OLS\u63a8\u5b9a\u3057\u305f\u969b\u306e\u4fc2\u6570\u3068\u8fd1\u3044\u3002\n",
                "\n",
                "\uff08\u30b3\u30e1\u30f3\u30c8\uff09\n",
                "\n",
                "\u3053\u306e\u3088\u3046\u306b\u5207\u65ad\u56de\u5e30\u306f\uff0c\u5207\u65ad\u30c7\u30fc\u30bf\u3092\u4f7f\u3044`y`\uff08\u8cc3\u91d1\uff09\u306b\u5bfe\u3059\u308b`x`\uff08\u6559\u80b2\uff09\u306e\u52b9\u679c\u3092\u63a8\u5b9a\u53ef\u80fd\u3068\u3059\u308b\u3002\u4e00\u65b9\u3067\uff0c\u5207\u65ad\u3055\u308c\u305f\u30c7\u30fc\u30bf\u306e\u4e2d\u3067\u306e`y`\u306b\u5bfe\u3059\u308b`x`\u306e\u52b9\u679c\u306b\u8208\u5473\u304c\u3042\u308b\u5834\u5408\uff0c\u305d\u306e\u9650\u754c\u52b9\u679c\u306e\u7d76\u5bfe\u5024\u306f$\\left|\\hat{\\beta}_{\\text{Truncreg}}\\right|$\u3088\u308a\u3082\u4f4e\u304f\u306a\u308b\u3002"
            ]
        },
        {
            "cell_type": "markdown",
            "metadata": {
                "hidden": true
            },
            "source": [
                "\uff1c`Log(Sigma)`\u306b\u3064\u3044\u3066\uff1e\n",
                "* \u8aa4\u5dee\u9805\u306f\u6b63\u898f\u5206\u5e03\u306b\u5f93\u3046\u3068\u4eee\u5b9a\u3055\u308c\uff0c\u6700\u5c24\u6cd5\u306b\u3088\u308a\u5909\u6570\u306e\u4fc2\u6570$\\beta$\u3068\u8aa4\u5dee\u9805\u306e\u6a19\u6e96\u504f\u5dee$\\sigma$\u304c\u63a8\u5b9a\u3055\u308c\u308b\u3002\u8aa4\u5dee\u9805\u306e\u6a19\u6e96\u504f\u5dee\u306e\u63a8\u5b9a\u5024\u307e\u305f\u306f\u56de\u5e30\u306e\u6a19\u6e96\u504f\u5dee\uff08`Sigma` = Standard Error of Regression\uff09\u306e\u5bfe\u6570\u304c`Log(Sigma)`\u3067\u3042\u308b\u3002"
            ]
        },
        {
            "cell_type": "markdown",
            "metadata": {
                "hidden": true
            },
            "source": [
                "---\n",
                "`dir()`\u3082\u3057\u304f\u306f`see()`\u3092\u4f7f\u3044\u63a8\u5b9a\u7d50\u679c`res_trunc`\u306e\u5c5e\u6027\u3068\u30e1\u30bd\u30c3\u30c9\u3092\u78ba\u8a8d\u3057\u3066\u307f\u3088\u3046\u3002"
            ]
        },
        {
            "cell_type": "code",
            "execution_count": null,
            "metadata": {},
            "outputs": [],
            "source": [
                "\n"
            ]
        },
        {
            "cell_type": "markdown",
            "metadata": {
                "hidden": true
            },
            "source": [
                "\u5bfe\u6570\u6700\u5c24\u95a2\u6570\u306e\u5024"
            ]
        },
        {
            "cell_type": "code",
            "execution_count": null,
            "metadata": {},
            "outputs": [],
            "source": []
        },
        {
            "cell_type": "markdown",
            "metadata": {
                "hidden": true
            },
            "source": [
                "\u7591\u4f3c\u6c7a\u5b9a\u4fc2\u6570"
            ]
        },
        {
            "cell_type": "code",
            "execution_count": null,
            "metadata": {},
            "outputs": [],
            "source": []
        },
        {
            "cell_type": "markdown",
            "metadata": {
                "hidden": true
            },
            "source": [
                "\u5168\u3066\u306e\u8aac\u660e\u5909\u6570\uff08\u5b9a\u6570\u9805\u4ee5\u5916\uff09\u304c\uff10\u306e\u5834\u5408\u306e\u63a8\u5b9a\u7d50\u679c"
            ]
        },
        {
            "cell_type": "code",
            "execution_count": null,
            "metadata": {},
            "outputs": [],
            "source": []
        },
        {
            "cell_type": "markdown",
            "metadata": {
                "heading_collapsed": true,
                "hidden": true
            },
            "source": [
                "### \u691c\u5b9a"
            ]
        },
        {
            "cell_type": "markdown",
            "metadata": {
                "hidden": true
            },
            "source": [
                "\u6b21\u306b\u691c\u5b9a\u65b9\u6cd5\u306b\u3064\u3044\u3066\u8aac\u660e\u3059\u308b\u3002\n",
                "\n",
                "**Wald\u691c\u5b9a\u306e\u4f8b\uff11**\n",
                "\n",
                "$H_0$\uff1a\u5b9a\u6570\u9805\u4ee5\u5916\u306e\u5168\u3066\u306e\u30b9\u30ed\u30fc\u30d7\u4fc2\u6570\u306f\uff10\n",
                "\n",
                "$H_A$\uff1a\u5c11\u306a\u304f\u3068\u3082\uff11\u3064\u306e\u4fc2\u6570\u306f\uff10\u3067\u306f\u306a\u3044\n",
                "\n",
                "\u3053\u306e\u691c\u5b9a\u306e\u305f\u3081\u306b\u7d50\u679c\u306e\u30e1\u30bd\u30c3\u30c9`wald_test()`\u3092\u4f7f\u3046\u304c\u8aac\u660e\u5909\u6570\u306b\u542b\u307e\u308c\u3066\u3044\u308b`Log(Sigma)`\u306f\u6b8b\u308b\u5fc5\u8981\u304c\u3042\u308b\u3002\u5f93\u3063\u3066\uff0c\u307e\u305a\u5b9a\u6570\u9805\u3068`Log(Sigma)`\u4ee5\u5916\u306e\u4fc2\u6570\u540d\u3092`slopes_all`\u306b\u5272\u308a\u5f53\u3066\u308b\u3002\n"
            ]
        },
        {
            "cell_type": "code",
            "execution_count": null,
            "metadata": {},
            "outputs": [],
            "source": []
        },
        {
            "cell_type": "markdown",
            "metadata": {
                "hidden": true
            },
            "source": [
                "\u7d50\u679c`res_trunc`\u306b\u5c5e\u6027`model`\u304c\u3042\u308a\uff0c\u305d\u306e\u4e2d\u306b\u8aac\u660e\u5909\u6570\u540d\u306e\u5c5e\u6027`exog_names`\u3092\u4f7f\u3063\u3066\u3044\u308b\u3002\u5b9a\u6570\u9805\u3068\u6700\u5f8c\u306b\u304f\u308b`Log(Sigma)`\u3092\u7701\u304f\u305f\u3081\u306b`[1:-1]`\u3092\u6307\u5b9a\u3057\u3066\u3044\u308b\u3002"
            ]
        },
        {
            "cell_type": "code",
            "execution_count": null,
            "metadata": {},
            "outputs": [],
            "source": [
                "# Wald\u691c\u5b9a\n"
            ]
        },
        {
            "cell_type": "markdown",
            "metadata": {
                "hidden": true
            },
            "source": [
                "$p$\u5024\u306f\u975e\u5e38\u306b\u4f4e\u3044\u306e\u3067`1%`\u306e\u6709\u610f\u6c34\u6e96\u3067\u3082\u5e30\u7121\u4eee\u8aac\u3092\u68c4\u5374\u3067\u304d\u308b\u3002\u540c\u3058\u7d50\u679c\u306f\u6b21\u306e\u30b3\u30fc\u30c9\u3067\u3082\u793a\u3059\u3053\u3068\u304c\u3067\u304d\u308b\u3002"
            ]
        },
        {
            "cell_type": "code",
            "execution_count": null,
            "metadata": {},
            "outputs": [],
            "source": []
        },
        {
            "cell_type": "markdown",
            "metadata": {
                "hidden": true
            },
            "source": [
                "\uff12\u3064\u76ee\u306e\u4f8b\u3092\u8003\u3048\u3088\u3046\u3002\n",
                "\n",
                "**Wald\u691c\u5b9a\u306e\u4f8b\uff12**\n",
                "\n",
                "$H_0$\uff1a`educ`+`abil`$=$`exper`\n",
                "\n",
                "$H_A$\uff1a`educ`+`abil`$\\neq$`exper`\n",
                "\n",
                "\u6b21\u306e\u65b9\u6cd5\u3067\u304a\u3053\u306a\u3046\u3002\n",
                "1. \u5236\u7d04\u5f0f\u3092\u6587\u5b57\u5217\u3067\u8a2d\u5b9a\u3059\u308b\uff1a`educ+abil=exper`\n",
                "1. \u63a8\u5b9a\u7d50\u679c\u306e\u30e1\u30bd\u30c3\u30c9`wald_test`\u306b\u5236\u7d04\u5f0f\u3092\u5f15\u6570\u3068\u3057\u3066\u5b9f\u884c\u3059\u308b\u3002"
            ]
        },
        {
            "cell_type": "code",
            "execution_count": null,
            "metadata": {},
            "outputs": [],
            "source": []
        },
        {
            "cell_type": "markdown",
            "metadata": {
                "hidden": true
            },
            "source": [
                "`1%`\u306e\u6709\u610f\u6c34\u6e96\u3067\u3082\u5e30\u7121\u4eee\u8aac\u3092\u68c4\u5374\u3067\u304d\u308b\u3002"
            ]
        },
        {
            "cell_type": "markdown",
            "metadata": {
                "heading_collapsed": true,
                "hidden": true
            },
            "source": [
                "### \u4e88\u6e2c\u5024\u3068\u6b8b\u5dee"
            ]
        },
        {
            "cell_type": "markdown",
            "metadata": {
                "hidden": true
            },
            "source": [
                "\u6b21\u306b\uff12\u3064\u306e\u5c5e\u6027\u3092\u7d39\u4ecb\u3059\u308b\u3002\n",
                "* `.fittedvalues`\uff1a\u4ee5\u4e0b\u306e\u5f0f\u3067\u4e0e\u3048\u3089\u308c\u308b\u7dda\u5f62\u306e\u4e88\u6e2c\u5024\n",
                "\n",
                "    $$\\hat{y}_i=\\hat{\\beta}_0+\\hat{\\beta}_1x_i$$\n",
                "    \n",
                "* `.resid`\uff1a\u4ee5\u4e0b\u306e\u5f0f\u3067\u4e0e\u3048\u3089\u308c\u308b\u7dda\u5f62\u306e\u6b8b\u5dee\n",
                "\n",
                "    $$\\hat{u}_i=y_i-\\hat{y}_i$$\n",
                "    \n",
                "\u307e\u305a\u4e88\u6e2c\u5024\u306e\u5e73\u5747\u30fb\u6700\u5c0f\u5024\u30fb\u6700\u5927\u5024\u3092\u8a08\u7b97\u3057\u3066\u307f\u308b\u3002"
            ]
        },
        {
            "cell_type": "code",
            "execution_count": null,
            "metadata": {},
            "outputs": [],
            "source": [
                "\n",
                "\n",
                ""
            ]
        },
        {
            "cell_type": "markdown",
            "metadata": {
                "hidden": true
            },
            "source": [
                "\u6b21\u306b\u6b8b\u5dee\u3092\u56f3\u793a\u3059\u308b\u3002"
            ]
        },
        {
            "cell_type": "code",
            "execution_count": null,
            "metadata": {},
            "outputs": [],
            "source": [
                "\n",
                "\n",
                "",
                "",
                ""
            ]
        },
        {
            "cell_type": "markdown",
            "metadata": {
                "hidden": true
            },
            "source": [
                "\u30c7\u30fc\u30bf\u306e\u5207\u65ad\u306b\u3088\u308b\u5f71\u97ff\u304c\u53f3\u4e0a\u306b\u898b\u3066\u53d6\u308c\u308b\u3002"
            ]
        },
        {
            "cell_type": "code",
            "execution_count": null,
            "metadata": {},
            "outputs": [],
            "source": [
                "\n",
                "\n",
                "",
                "",
                "",
                "",
                "",
                "",
                "",
                "",
                "",
                "# norm.cdf(X, loc=l, scale=s)"
            ]
        },
        {
            "cell_type": "markdown",
            "metadata": {
                "heading_collapsed": true,
                "hidden": true
            },
            "source": [
                "### \u8aa4\u5dee\u9805\u306e\u4eee\u5b9a\u306b\u3064\u3044\u3066"
            ]
        },
        {
            "cell_type": "markdown",
            "metadata": {
                "hidden": true
            },
            "source": [
                "\u5207\u65ad\u56de\u5e30\u63a8\u5b9a\u306f\u6700\u5c24\u6cd5\u3092\u4f7f\u3063\u3066\u304a\u308a\uff0c\u6b21\u306e\u4eee\u5b9a\u304c\u91cd\u8981\u306a\u5f79\u5272\u3092\u679c\u305f\u3057\u3066\u3044\u308b\u3002\n",
                "\n",
                "$$u|x\\sim N(0,\\sigma^2)$$\n",
                "\n",
                "\u5373\u3061\uff0c\u8aac\u660e\u5909\u6570\u3092\u6240\u4e0e\u3068\u3059\u308b\u3068\u8aa4\u5dee\u9805\u306f\u6b63\u898f\u5206\u5e03\u306b\u5f93\u3044\u5206\u6563\u306f\u4e00\u5b9a\u3067\u3042\u308b\u3068\u3044\u3046\u4eee\u5b9a\u3067\u3042\u308b\u3002\n",
                "\n",
                "\u6b63\u898f\u5206\u5e03\u306b\u95a2\u3057\u3066\u306e\u691c\u5b9a\u3082\u3042\u308b\u304c`py4etrics`\u306b\u306f\u5b9f\u88c5\u3055\u308c\u3066\u3044\u306a\u3044\u306e\u3067\uff0c\u3053\u306e\u4eee\u5b9a\u306e\u91cd\u8981\u6027\u3092\u5ff5\u982d\u306b\u7f6e\u3044\u3066\u63a8\u5b9a\u3059\u308b\u3053\u3068\u3002\n",
                "\n",
                "\u6b21\u306b\u4e0d\u5747\u4e00\u5206\u6563\u306b\u3064\u3044\u3066\u8003\u3048\u308b\u3002\u78ba\u304b\u3081\u308b\u305f\u3081\u306b\u306f\u691c\u5b9a\u3092\u3059\u308b\u5fc5\u8981\u304c\u3042\u308b\u304c\uff0c`py4etrics`\u306b\u306f\u5b9f\u88c5\u3055\u308c\u3066\u3044\u306a\u3044\u3002\u305d\u306e\u4ee3\u308f\u308a\u306b\u300c\u76ee\u5b89\u300d\u3068\u3057\u3066\uff0c\u901a\u5e38\u306e\u4fc2\u6570\u306e\u6a19\u6e96\u504f\u5dee\u3068\u4e0d\u5747\u4e00\u5206\u6563\u9811\u5065\u6a19\u6e96\u504f\u5dee\u306e\u5909\u5316\u3092\u8abf\u3079\u3066\u307f\u308b\u3002"
            ]
        },
        {
            "cell_type": "code",
            "execution_count": null,
            "metadata": {},
            "outputs": [],
            "source": [
                "# \u901a\u5e38\u306e\u6a19\u6e96\u504f\u5dee\n",
                "\n",
                "\n",
                "# \u4e0d\u5747\u4e00\u5206\u6563\u9811\u5065\u6a19\u6e96\u7de8\n",
                "\n",
                "\n",
                "",
                "# \u4e0d\u5747\u4e00\u5206\u6563\u9811\u5065\u6a19\u6e96\u7de8\u3092\u4f7f\u3063\u305f\u5834\u5408\u306e\u6a19\u6e96\u504f\u5dee\u306e\u5909\u5316\u7387\uff08\uff05\uff09\n"
            ]
        },
        {
            "cell_type": "markdown",
            "metadata": {
                "hidden": true
            },
            "source": [
                "\u6a19\u6e96\u504f\u5dee\u304c\u6e1b\u5c11\u3057\u305f\u5909\u6570\u3068\u5897\u52a0\u3057\u305f\u3057\u5909\u6570\u304c\u3042\u308b\u3002\u7279\u5225\u306b\u5927\u304d\u304f\u306a\u3044\u3088\u3046\u306b\u898b\u3048\u308b\u304c\uff0c\u3053\u308c\u306f\u76ee\u5b89\u3067\u3042\u308b\u3053\u3068\u3092\u5ff5\u982d\u306b\u7f6e\u3044\u3066\u304a\u304f\u5fc5\u8981\u304c\u3042\u308b\u3002\n",
                "\n",
                "\uff08\u6ce8\u610f\uff09\u4e0d\u5747\u4e00\u5206\u6563\u306e\u4e0b\u3067\u306e\u6700\u5c24\u63a8\u5b9a\n",
                "* \u63a8\u5b9a\u91cf\u306f\u4e00\u81f4\u6027\u3092\u6e80\u305f\u3055\u306a\u3044\n",
                "* \u6a19\u6e96\u8aa4\u5dee\u3082\u4e00\u81f4\u6027\u3092\u6e80\u305f\u3055\u306a\u3044\n",
                "    * \u4e0d\u5747\u4e00\u5206\u6563\u9811\u5065\u6a19\u6e96\u8aa4\u5dee\u3092\u4f7f\u3046\u3053\u3068\u304c\u63a8\u5968\u3055\u308c\u308b\u3053\u3068\u304c\u3042\u308b\u304c\uff08\u7814\u7a76\u8ad6\u6587\u3067\u3082\u305d\u3046\u3059\u308b\u7814\u7a76\u8005\u3082\u591a\u3044\uff09\uff0c\u3082\u3068\u3082\u3068\u4fc2\u6570\u306e\u63a8\u5b9a\u91cf\u304c\u4e00\u81f4\u6027\u3092\u6e80\u305f\u3055\u306a\u3044\u305f\u3081\uff0c`cov_type`\u3067\u6307\u5b9a\u3059\u308b\u4e0d\u5747\u4e00\u5206\u6563\u9811\u5065\u6a19\u6e96\u8aa4\u5dee\u306e\u6709\u7528\u6027\u306b\u7591\u554f\u304c\u6b8b\u308b\u3002\uff08[\u53c2\u7167](https://davegiles.blogspot.com/2013/05/robust-standard-errors-for-nonlinear.html)\uff09"
            ]
        },
        {
            "cell_type": "markdown",
            "metadata": {
                "heading_collapsed": true
            },
            "source": [
                "## Tobit\u30e2\u30c7\u30eb"
            ]
        },
        {
            "cell_type": "markdown",
            "metadata": {
                "heading_collapsed": true,
                "hidden": true
            },
            "source": [
                "### \u8aac\u660e"
            ]
        },
        {
            "cell_type": "markdown",
            "metadata": {
                "hidden": true
            },
            "source": [
                "\u6253\u3061\u5207\u308a\u30c7\u30fc\u30bf\u3092\u7406\u89e3\u3059\u308b\u305f\u3081\u306b\uff0c\u5207\u65ad\u30c7\u30fc\u30bf\u3068\u6bd4\u3079\u3066\u7570\u306a\u308b\u70b9\u3092\u8aac\u660e\u3059\u308b\u3002\n",
                "* \u5207\u65ad\u30c7\u30fc\u30bf\u3067\u306f\u30c7\u30fc\u30bf\u30bb\u30c3\u30c8\u306b$(x_i,y_i),\\;i\\in\\cal{N}$\u304c\u5b58\u5728\u3057\u306a\u3044\u304c\uff0c\u6253\u3061\u5207\u308a\u30c7\u30fc\u30bf\u306b\u306f\u542b\u307e\u308c\u308b\u3002\u3057\u304b\u3057\uff0c$y_i$\u304c\u6253\u3061\u5207\u308a\u306e\u4e0b\u9650\u3084\u4e0a\u9650\u306e\u5024\u3068\u7b49\u3057\u304f\u306a\u308b\u3002\n",
                "\n",
                "\u4f8b\u3068\u3057\u3066\u5973\u6027\u306e\u52b4\u50cd\u4f9b\u7d66\u3092\u8003\u3048\u3088\u3046\u3002\u50cd\u3044\u3066\u3044\u308b\u5973\u6027\u306f\u591a\u3044\u304c\u52b4\u50cd\u5e02\u5834\u304b\u3089\u9000\u51fa\u3057\u3066\u3044\u308b\u5973\u6027\u3082\u591a\u3044\u306e\u304c\u5b9f\u72b6\u3067\u3042\u308b\u3002\u8a00\u3044\u304b\u3048\u308b\u3068\uff0c\u5973\u6027\u306e\u52b4\u50cd\u4f9b\u7d66\uff08\u4f8b\u3048\u3070\uff0c\u4e00\u9031\u9593\u306e\u52b4\u50cd\u6642\u9593\uff09\u306f\u6b63\u306e\u5024\u3092\u3068\u308b\u304c\uff0c\u52b4\u50cd\u4f9b\u7d66\u304c\uff10\u306e\u5973\u6027\u3082\u591a\u304f\u3044\u308b\u3002\u3053\u308c\u306f\u6570\u5f0f\u3067\u6b21\u306e\u3088\u3046\u306b\u8868\u3059\u3053\u3068\u304c\u3067\u304d\u308b\u3002\n",
                "\n",
                "$$\n",
                "\\begin{align*}\n",
                "&y^{*}=\\beta_0+\\beta_1x+u\\\\\n",
                "    &\\begin{cases}\n",
                "    y=y^{*}&\\quad\\text{if }y^{*}>0\\\\\n",
                "    y=0&\\quad\\text{if }y^{*}\\leq0\n",
                "    \\end{cases}\n",
                "\\end{align*}\n",
                "$$\n",
                "\n",
                "* $y^{*}$\uff1a\u6f5c\u5728\u5909\u6570\uff08\u4f8b\u3048\u3070\uff0c\u52b9\u7528\u3068\u8003\u3048\u3066\u3082\u826f\u3044\uff09\n",
                "    * $y^{*}>0$\u306e\u5834\u5408\u306b\u5b9f\u969b\u306b\u50cd\u304d\uff0c\u52b4\u50cd\u4f9b\u7d66\u306f$y=y^{*}$\u3068\u306a\u308b\u3002\n",
                "    * $y^{*}\\leq 0$\u306e\u5834\u5408\u306b\u50cd\u304b\u306a\u3044\u306e\u3067$y=0$\u3068\u306a\u308b\u3002\n",
                "    * $y^{*}$\u306f\u89b3\u5bdf\u4e0d\u53ef\u80fd\n",
                "* $x$\uff1a\u52b4\u50cd\u4f9b\u7d66\u306b\u95a2\u3059\u308b\u6c7a\u5b9a\u8981\u56e0\uff08\u4f8b\u3048\u3070\uff0c\u6559\u80b2\u5e74\u6570\uff09\n",
                "* $y$\uff1a\u5b9f\u969b\u306e\u52b4\u50cd\u4f9b\u7d66\uff08\u975e\u8ca0\u306e\u9023\u7d9a\u5909\u6570\uff09\n",
                "* $u$\uff1a\u52b4\u50cd\u4f9b\u7d66\u306b\u95a2\u3059\u308b\u30e9\u30f3\u30c0\u30e0\u306a\u8981\u7d20\uff08\u4f8b\u3048\u3070\uff0c\u597d\u307f\uff09\n",
                "\n",
                "    $$u|x\\sim \\text{Normal}(0,\\sigma^2)$$\n",
                "    \n",
                "    * \u3053\u306e\u4eee\u5b9a\u304c\u975e\u5e38\u306b\u91cd\u8981\u3067\u3042\u308a\uff0c\u8a08\u7b97\u306e\u524d\u63d0\u3068\u306a\u308b\u3002"
            ]
        },
        {
            "cell_type": "markdown",
            "metadata": {
                "hidden": true
            },
            "source": [
                "---\n",
                "\uff08\u30b3\u30e1\u30f3\u30c8\uff09\n",
                "* \u4e0a\u306e\u4f8b\u3067\u306f\uff0c\u5973\u6027\u304c\u52b4\u50cd\u5e02\u5834\u306b\u53c2\u52a0\u3059\u308b\u304b\u3057\u306a\u3044\u304b\u306b\u3088\u3063\u3066\uff0c$y$\u304c\u6b63\u306e\u5024\u3082\u3057\u304f\u306f`0`\u3092\u53d6\u308b\u3002\u5373\u3061\uff0c`0`\u304c\u4e0b\u9650\u306b\u306a\u3063\u3066\u3044\u308b\u3002\u4e0a\u9650\u306e\u4f8b\u3068\u3057\u3066\uff0c\u4eba\u6c17\u6b4c\u624b\u306e\u30b3\u30f3\u30b5\u30fc\u30c8\u30fb\u30c1\u30b1\u30c3\u30c8\u304c\u3042\u3052\u3089\u308c\u308b\u3002\u30c1\u30b1\u30c3\u30c8\u6570\u306f\u9650\u3089\u308c\u3066\u304a\u308a\uff0c\u58f2\u308a\u5207\u308c\u305f\u5834\u5408\u306e\u9700\u8981\u306f\u4e0a\u9650\u3092\u4e0a\u56de\u308b\u3002\u307e\u305f\uff0c\u4e0b\u9650\u30fb\u4e0a\u9650\u306e\u4e21\u65b9\u304c\u3042\u308b\u5834\u5408\u3068\u3057\u3066\u5927\u5b66\u5165\u8a66\u304c\u6319\u3052\u3089\u308c\u308b\u3002\u4e0b\u9650\u306f\u30bb\u30f3\u30bf\u30fc\u8a66\u9a13\u306a\u3069\u3067\u306e\u300c\u8db3\u5207\u308a\u300d\u3067\u3042\u308a\uff0c\u4e0a\u9650\u306f\u5b9a\u54e1\u6570\u3067\u308b\u3002\n",
                "* \u52b4\u50cd\u4f9b\u7d66\u306e\u4f8b\u3067\u306f\uff0c\u5973\u6027\u306e\u9078\u629e\u306e\u7d50\u679c\u3068\u3057\u3066$y$\u306e\u5024\u304c\u89b3\u5bdf\u3055\u308c\u308b\u3002\u3053\u308c\u306f\u30df\u30af\u30ed\u7d4c\u6e08\u5b66\u3067\u304a\u306a\u3058\u307f\u306e\u7aef\u70b9\u89e3\u306e\u4f8b\u3067\u3042\u308b\u3002"
            ]
        },
        {
            "cell_type": "markdown",
            "metadata": {
                "hidden": true
            },
            "source": [
                "---\n",
                "\uff1c\uff1c\u7d50\u679c\uff1e\uff1e\n",
                "* $y>0$\u3068$y=0$\u306e\u4e21\u65b9\u306e\u30c7\u30fc\u30bf\u3092\u4f7f\u3063\u305fOLS\u63a8\u5b9a\u91cf\u306f\u4e0d\u504f\u6027\u30fb\u4e00\u81f4\u6027\u3092\u6e80\u305f\u3055\u306a\u3044\u3002\n",
                "\n",
                "---\n",
                "\u4ee5\u4e0b\u3067\u306f\u307e\u305a\u3053\u306e\u7d50\u679c\u3092\u30b7\u30df\u30e5\u30ec\u30fc\u30b7\u30e7\u30f3\u3092\u4f7f\u3063\u3066\u793a\u3057\uff0c\u89e3\u6c7a\u7b56\u306b\u3064\u3044\u3066\u8aac\u660e\u3059\u308b\u3002"
            ]
        },
        {
            "cell_type": "markdown",
            "metadata": {
                "heading_collapsed": true,
                "hidden": true
            },
            "source": [
                "### \u30b7\u30df\u30e5\u30ec\u30fc\u30b7\u30e7\u30f3"
            ]
        },
        {
            "cell_type": "code",
            "execution_count": null,
            "metadata": {},
            "outputs": [],
            "source": [
                "# \u30c7\u30fc\u30bf\u306e\u5927\u304d\u3055 \n",
                "\n",
                "\n",
                "# y*\u3092\u6c7a\u5b9a\u3059\u308bx\n",
                "\n",
                "\n",
                "# y*\u3092\u751f\u6210\n",
                "\n",
                "\n",
                "# y\u3092\u751f\u6210\n",
                "\n",
                "\n",
                "",
                "# DataFrame\n"
            ]
        },
        {
            "cell_type": "markdown",
            "metadata": {
                "hidden": true
            },
            "source": [
                "\u6bcd\u96c6\u56e3\u56de\u5e30\u5f0f"
            ]
        },
        {
            "cell_type": "code",
            "execution_count": null,
            "metadata": {},
            "outputs": [],
            "source": [
                "\n",
                "\n",
                "",
                "",
                "",
                "",
                ""
            ]
        },
        {
            "cell_type": "markdown",
            "metadata": {
                "hidden": true
            },
            "source": [
                "$y\\geq 0$\u3092\u4f7f\u3063\u305fOLS\u56de\u5e30"
            ]
        },
        {
            "cell_type": "code",
            "execution_count": null,
            "metadata": {},
            "outputs": [],
            "source": [
                "\n",
                "\n",
                "",
                "",
                "",
                "",
                ""
            ]
        },
        {
            "cell_type": "markdown",
            "metadata": {
                "hidden": true
            },
            "source": [
                "\u56f3\u793a"
            ]
        },
        {
            "cell_type": "code",
            "execution_count": null,
            "metadata": {},
            "outputs": [],
            "source": [
                "# y_star\u306e\u6563\u5e03\u56f3\n",
                "\n",
                "\n",
                "# y\u306e\u6563\u5e03\u56f3\n",
                "\n",
                "\n",
                "# \u6bcd\u96c6\u56e3OLS\n",
                "\n",
                "\n",
                "# y>=0\u306eOLS\n",
                "\n",
                "\n",
                "",
                "",
                "",
                ""
            ]
        },
        {
            "cell_type": "markdown",
            "metadata": {
                "hidden": true
            },
            "source": [
                "---\n",
                "\u3053\u306e\u5834\u5408\uff0c$y<0$\u306e\u5024\u3092\u5168\u3066$y=0$\u3068\u3057\u3066OLS\u63a8\u5b9a\u3057\u3066\u3044\u308b\u305f\u3081\uff0c\u4e0d\u504f\u6027\u30fb\u4e00\u81f4\u6027\u304c\u6e80\u305f\u3055\u308c\u306a\u3044\u306e\u306f\u76f4\u611f\u7684\u306b\u7406\u89e3\u3067\u304d\u308b\u3002\u5b9f\u969b\uff0c\u4e0a\u3067\u8aac\u660e\u3057\u305f\u3088\u3046\u306b\u6a19\u672c\u56de\u5e30\u5f0f\u306f\n",
                "\n",
                "$$\n",
                "\\begin{align*}\n",
                "&y^{*}=\\beta_0+\\beta_1x+u\\\\\n",
                "    &\\begin{cases}\n",
                "    y=y^{*}&\\quad\\text{if }y^{*}>0\\\\\n",
                "    y=0&\\quad\\text{if }y^{*}\\leq0\n",
                "    \\end{cases}\n",
                "\\end{align*}\n",
                "$$\n",
                "\n",
                "\u3067\u3042\u308b\u304c\uff0c$y\\geq 0$\u306e\u4e0b\u3067\u306e$y$\u306e\u671f\u5f85\u5024 $\\text{E}(y|y>0,x)$ \u306f\u8907\u96d1\u306a\u975e\u7dda\u5f62\u5f0f\u306a\u308a\uff0c\u7dda\u5f62\u3092\u4eee\u5b9a\u3059\u308bOLS\u63a8\u5b9a\u65b9\u3067\u6349\u3048\u308b\u3053\u3068\u306f\u4e0d\u53ef\u80fd\u3067\u3042\u308b\u3002"
            ]
        },
        {
            "cell_type": "markdown",
            "metadata": {
                "heading_collapsed": true,
                "hidden": true
            },
            "source": [
                "### `Tobit`\u30e2\u30b8\u30e5\u30fc\u30eb\u306e\u4f7f\u3044\u65b9"
            ]
        },
        {
            "cell_type": "markdown",
            "metadata": {
                "hidden": true
            },
            "source": [
                "\u6b8b\u5ff5\u306a\u304c\u3089`statsmodels`\u3068`linearmodels`\u306b\u3082`Tobit`\u63a8\u5b9a\u306e\u30e2\u30b8\u30e5\u30fc\u30eb\u304c\u306a\u3044\u3002\u305d\u306e\u4ee3\u308f\u308a\u306b\u8457\u8005\u304c\u4f5c\u6210\u3057\u305f`py4etrics`\u30d1\u30c3\u30b1\u30fc\u30b8\u306e`tobit`\u30e2\u30b8\u30e5\u30fc\u30eb\u3092\u4f7f\u3044\u63a8\u5b9a\u3059\u308b\u3002\u3053\u306e\u30e2\u30b8\u30e5\u30fc\u30eb\u306f`statsmodels`\u306e`GenericMaximumLikelihoodModel`\u3092\u4f7f\u3044\u5b9f\u88c5\u3057\u305f\u3082\u306e\u3067\u3042\u308b\u3002\u4f7f\u7528\u3059\u308b\u4e0a\u3067[\u3053\u306e\u30b5\u30a4\u30c8](https://www.statsmodels.org/devel/examples/notebooks/generated/generic_mle.html)\u306b\u3042\u308b\u6b21\u306e\u70b9\u306b\u6ce8\u610f\u3059\u308b\u5fc5\u8981\u304c\u3042\u308b\u3002\n",
                "* `R`\u306e\u63a8\u5b9a\u5024\u3068\u5c0f\u6570\u70b9\u7b2c\uff14\u4f4d\u307e\u3067\u540c\u3058\u306b\u306a\u308b\u304c\uff0c\u6a19\u6e96\u504f\u5dee\u306f\u5c0f\u6570\u70b9\u7b2c\uff12\u4f4d\u307e\u3067\u304c\u540c\u3058\u3068\u306a\u308b\u3002"
            ]
        },
        {
            "cell_type": "markdown",
            "metadata": {
                "hidden": true
            },
            "source": [
                "---\n",
                "\uff1c\u4f7f\u3044\u65b9\uff1e\n",
                "\n",
                "\u57fa\u672c\u7684\u306b`statsmodels`\u306e`ols`\u3068\u540c\u3058\u3060\u304c\uff0c\u8ffd\u52a0\u7684\u306a\u64cd\u4f5c\u3068\u30aa\u30d7\u30b7\u30e7\u30f3\u304c\u3042\u308b\u3002\n",
                "\n",
                "1. \u4e0b\u9650\u30fb\u4e0a\u9650\u306e\u8a2d\u5b9a\uff1a\u88ab\u8aac\u660e\u5909\u6570`y`\u306e\u5024\u306b\u5f93\u3063\u3066`Numpy`\u306e`array`\u3082\u3057\u304f\u306f`Pandas`\u306e`Series`\u3092\u4f5c\u308b\u3002\n",
                "    * \u4e0b\u9650\u304c\u3042\u308b\u5834\u5408\uff1a`-1`\n",
                "    * \u4e0a\u9650\u304c\u3042\u308b\u5834\u5408\uff1a`1`\n",
                "    * \u4e0a\u9650\u30fb\u4e0b\u9650\u304c\u306a\u3044\u5834\u5408\uff1a`0`\n",
                "1. \u63a8\u5b9a\u5f0f\u3092\u6c7a\u3081\u308b\n",
                "```\n",
                "    formula = 'y ~ 1 + x'\n",
                "```\n",
                "1. `Tobit`\u306e`from_formula`\u30e2\u30b8\u30e5\u30fc\u30eb\u3092\u4f7f\u3063\u3066\u63a8\u5b9a\n",
                "```\n",
                "    Tobit.from_formula(formula, cens=<A>, left=<B>, right=<C>, data=<D>).fit()\n",
                "```\n",
                "   \u3053\u3053\u3067 \n",
                "   \n",
                "    * `cens`\uff1a\u30b9\u30c6\u30c3\u30d7\uff11\u3067\u4f5c\u6210\u3057\u305f\u4e0b\u9650\u30fb\u4e0a\u9650\u306e\u8a2d\u5b9a`array`\u3082\u3057\u304f\u306f`Series`\u3092\u6307\u5b9a\u3059\u308b\u3002\n",
                "    * `left`:\u4e0b\u9650\u306e\u5024\uff08\u30c7\u30d5\u30a9\u30eb\u30c8\u306f`0`\uff09\n",
                "        * \u30b9\u30c6\u30c3\u30d7\uff11\u3067`-1`\u304c\u8a2d\u5b9a\u3055\u308c\u3066\u3044\u308b\u5834\u5408\u306e\u307f\u6709\u52b9\u3068\u306a\u308b\u3002\n",
                "    * `right`:\u4e0a\u9650\u306e\u5024\uff08\u30c7\u30d5\u30a9\u30eb\u30c8\u306f`0`\uff09\n",
                "        * \u30b9\u30c6\u30c3\u30d7\uff11\u3067`1`\u304c\u8a2d\u5b9a\u3055\u308c\u3066\u3044\u308b\u5834\u5408\u306e\u307f\u6709\u52b9\u3068\u306a\u308b\u3002\n",
                "    * `deta`:\u30c7\u30fc\u30bf\u306e\u6307\u5b9a\n",
                "\n",
                "\uff08\u30b3\u30e1\u30f3\u30c8\uff09\n",
                "\n",
                "`Logit`\u3084`Probit`\u3068\u540c\u3058\u3088\u3046\u306b\uff0c\u975e\u7dda\u5f62\u30e2\u30c7\u30eb\u306a\u305f\u3081\u6700\u5c24\u6cd5\u3092\u4f7f\u3044\u63a8\u5b9a\u3059\u308b\u3002"
            ]
        },
        {
            "cell_type": "markdown",
            "metadata": {
                "heading_collapsed": true,
                "hidden": true
            },
            "source": [
                "### Tobit\u30e2\u30c7\u30eb\u306e\u63a8\u5b9a"
            ]
        },
        {
            "cell_type": "markdown",
            "metadata": {
                "hidden": true
            },
            "source": [
                "\u4ee5\u524d\u4f7f\u3063\u305f`mroz`\u306e\u30c7\u30fc\u30bf\u3092\u4f7f\u3046\u3002"
            ]
        },
        {
            "cell_type": "code",
            "execution_count": null,
            "metadata": {},
            "outputs": [],
            "source": []
        },
        {
            "cell_type": "markdown",
            "metadata": {
                "hidden": true
            },
            "source": [
                "\u5973\u6027\u306e\u52b4\u50cd\u4f9b\u7d66\u306e\u30e2\u30c7\u30eb\u3092\u8003\u3048\uff0c\u4f9b\u7d66\u91cf`hours`\u3092\u88ab\u8aac\u660e\u5909\u6570\u3068\u3059\u308b\u3002\u7279\u306b\uff0c`hours`\u306f`0`\u304c\u4e0b\u9650\u3068\u306a\u3063\u3066\u3044\u308b\u305f\u3081`Tobit`\u30e2\u30c7\u30eb\u304c\u59a5\u5f53\u3060\u3068\u8003\u3048\u3089\u308c\u308b\u3002\u52b4\u50cd\u6642\u9593`hours`\u3092\u56f3\u793a\u3059\u308b\u3068`0`\u306b\u591a\u304f\u306e\u89b3\u6e2c\u5024\u304c\u3042\u308b\u3053\u3068\u304c\u308f\u304b\u308b\u3002"
            ]
        },
        {
            "cell_type": "code",
            "execution_count": null,
            "metadata": {},
            "outputs": [],
            "source": [
                "\n"
            ]
        },
        {
            "cell_type": "markdown",
            "metadata": {
                "hidden": true
            },
            "source": [
                "\u307e\u305a\uff0c\u4e0b\u9650\u306e\u5024\u3092\u8a2d\u5b9a\u3059\u308b\u3002"
            ]
        },
        {
            "cell_type": "code",
            "execution_count": null,
            "metadata": {},
            "outputs": [],
            "source": []
        },
        {
            "cell_type": "markdown",
            "metadata": {
                "hidden": true
            },
            "source": [
                "\u6b21\u306b\u4e0b\u9650\u3092\u793a\u3059`array`\u3092\u4f5c\u6210\u3059\u308b\u3002"
            ]
        },
        {
            "cell_type": "code",
            "execution_count": null,
            "metadata": {},
            "outputs": [],
            "source": [
                "\n",
                "\n",
                "",
                "",
                "",
                "",
                ""
            ]
        },
        {
            "cell_type": "markdown",
            "metadata": {
                "hidden": true
            },
            "source": [
                "\u6b21\u306e\u30b3\u30fc\u30c9\u3067\u3082\u540c\u3058\u7d50\u679c\u3092\u5f97\u308b\u3053\u3068\u304c\u3067\u304d\u308b\u3002"
            ]
        },
        {
            "cell_type": "code",
            "execution_count": null,
            "metadata": {},
            "outputs": [],
            "source": []
        },
        {
            "cell_type": "markdown",
            "metadata": {
                "hidden": true
            },
            "source": [
                "\u63a8\u5b9a"
            ]
        },
        {
            "cell_type": "code",
            "execution_count": null,
            "metadata": {},
            "outputs": [],
            "source": [
                "\n",
                "\n",
                "",
                "",
                ""
            ]
        },
        {
            "cell_type": "markdown",
            "metadata": {
                "hidden": true
            },
            "source": [
                "\u4fc2\u6570\u306e\u89e3\u91c8\u306fOLS\u3068\u540c\u3058\u3088\u3046\u306b\u304a\u3053\u306a\u3046\u3002\u4f8b\u3048\u3070\uff0c`educ`\u306e\u63a8\u5b9a\u5024\u306f\u7d04`80`\u306a\u306e\u3067\uff0c\u6559\u80b2\u5e74\u6570\u304c\u4e00\u5e74\u5897\u3048\u308b\u3068\u5e73\u5747\u3067\u52b4\u50cd\u6642\u9593\u304c\u5e74\u9593`80`\u6642\u9593\u5897\u52a0\u3059\u308b\u3053\u3068\u3092\u793a\u3057\u3066\u3044\u308b\u3002\u307e\u305f`Log(Sigma)`\u306f\u5207\u65ad\u56de\u5e30\u30e2\u30c7\u30eb\u306e\u5834\u5408\u306e\u89e3\u91c8\u3068\u540c\u3058\u3067\u3042\u308b\u3002"
            ]
        },
        {
            "cell_type": "markdown",
            "metadata": {
                "hidden": true
            },
            "source": [
                "---\n",
                "`dir()`\u3084`see()`\u3092\u4f7f\u3046\u3053\u3068\u306b\u3088\u308a\u5c5e\u6027\u3068\u30e1\u30bd\u30c3\u30c9\u3092\u78ba\u8a8d\u3067\u304d\u308b\u3002"
            ]
        },
        {
            "cell_type": "code",
            "execution_count": null,
            "metadata": {},
            "outputs": [],
            "source": []
        },
        {
            "cell_type": "markdown",
            "metadata": {
                "hidden": true
            },
            "source": [
                "\u3053\u306e\u4e2d\u306b\u3042\u308b\u30e1\u30bd\u30c3\u30c9\u3092\u4f7f\u3063\u3066\u691c\u5b9a\u3092\u304a\u3053\u306a\u3046\u3002"
            ]
        },
        {
            "cell_type": "markdown",
            "metadata": {
                "heading_collapsed": true,
                "hidden": true
            },
            "source": [
                "### \u691c\u5b9a\u3068\u5c5e\u6027"
            ]
        },
        {
            "cell_type": "markdown",
            "metadata": {
                "hidden": true
            },
            "source": [
                "`Wald\u691c\u5b9a`\u3092\u8003\u3048\u3088\u3046\n",
                "\n",
                "**Wald\u691c\u5b9a\u306e\u4f8b**\n",
                "\n",
                "$H_0$\uff1a`exper` $=$ `expersq` $=0$ & `kidslt6`$=$`kidsge6`\n",
                "\n",
                "$H_A$\uff1a$H_0$\u306f\u6210\u7acb\u3057\u306a\u3044\n",
                "\n",
                "\u691c\u5b9a\u65b9\u6cd5\u306f\u5207\u65ad\u56de\u5e30\u306e`Truncreg`\u30e2\u30b8\u30e5\u30fc\u30eb\u3068\u540c\u3058\u3067\u3042\u308b\u3002"
            ]
        },
        {
            "cell_type": "code",
            "execution_count": null,
            "metadata": {},
            "outputs": [],
            "source": []
        },
        {
            "cell_type": "markdown",
            "metadata": {
                "hidden": true
            },
            "source": [
                "$p$\u5024\u306f\u975e\u5e38\u306b\u4f4e\u3044\u305f\u3081\uff0c`1%`\u6709\u610f\u6c34\u6e96\u3067\u3082\u5e30\u7121\u4eee\u8aac\u3092\u68c4\u5374\u3067\u304d\u308b\u3002"
            ]
        },
        {
            "cell_type": "markdown",
            "metadata": {
                "hidden": true
            },
            "source": [
                "---\n",
                "\u6b21\u306e\uff13\u3064\u306e\u5c5e\u6027\u3082\u6709\u7528\u3067\u3042\u308b\u3002\n",
                "* `.fittedvalues`\uff1a\u4ee5\u4e0b\u306e\u5f0f\u3067\u4e0e\u3048\u3089\u308c\u308b\u7dda\u5f62\u306e\u4e88\u6e2c\u5024 $\\hat{y}^{*}$\n",
                "\n",
                "    $$\\hat{y}_i^{*}=\\hat{\\beta}_0+\\hat{\\beta}_1x_i$$\n",
                "    \n",
                "* `.fitted_endog`\uff1a\u88ab\u8aac\u660e\u5909\u6570\u306e\u4e88\u6e2c\u5024 $\\text{E}(y|x)$ \uff08\u6b63\u898f\u5206\u5e03\u306b\u57fa\u3065\u3044\u305f\u975e\u7dda\u5f62\uff09\n",
                "* `.resid`\uff1a\u4ee5\u4e0b\u306e\u5f0f\u3067\u4e0e\u3048\u3089\u308c\u308b\u7dda\u5f62\u306e\u6b8b\u5dee\n",
                "\n",
                "    $$\\hat{u}_i=y_i-\\hat{y}_i^{*}$$"
            ]
        },
        {
            "cell_type": "code",
            "execution_count": null,
            "metadata": {},
            "outputs": [],
            "source": [
                "\n",
                "\n",
                "",
                "",
                "",
                ""
            ]
        },
        {
            "cell_type": "markdown",
            "metadata": {
                "hidden": true
            },
            "source": [
                "\u56f3\u306e\u5de6\u4e0b\u306f\u5207\u308a\u6253\u3061\u30c7\u30fc\u30bf\u3092\u53cd\u6620\u3057\u3066\u3044\u308b\u3002"
            ]
        },
        {
            "cell_type": "markdown",
            "metadata": {
                "heading_collapsed": true,
                "hidden": true
            },
            "source": [
                "### \u6b8b\u5dee\u306b\u3064\u3044\u3066"
            ]
        },
        {
            "cell_type": "markdown",
            "metadata": {
                "hidden": true
            },
            "source": [
                "\n",
                "\u5207\u65ad\u56de\u5e30\u63a8\u5b9a\u3068\u540c\u3058\u3088\u3046\u306b\u6700\u5c24\u6cd5\u3092\u4f7f\u3063\u3066\u3044\u308b\u306e\u3067\uff0c\u63a8\u5b9a\u91cf\u306e\u6a19\u6e96\u504f\u5dee\u306e\u5909\u5316\u3092\u4f7f\u3044\u6b8b\u5dee\u306e\u4e0d\u5747\u4e00\u306b\u3064\u3044\u3066\u8003\u3048\u3066\u307f\u308b\u3002"
            ]
        },
        {
            "cell_type": "code",
            "execution_count": null,
            "metadata": {},
            "outputs": [],
            "source": [
                "# \u901a\u5e38\u306e\u6a19\u6e96\u504f\u5dee\n",
                "\n",
                "\n",
                "# \u4e0d\u5747\u4e00\u5206\u6563\u6a19\u6e96\u504f\u5dee\n",
                "\n",
                "\n",
                "",
                "",
                "# \u4e0d\u5747\u4e00\u5206\u7b97\u6a19\u6e96\u504f\u5dee\u3092\u4f7f\u3063\u305f\u5834\u5408\u306e\u6a19\u6e96\u504f\u5dee\u306e\u5909\u5316\uff08\uff05\uff09\n"
            ]
        },
        {
            "cell_type": "markdown",
            "metadata": {
                "hidden": true
            },
            "source": [
                "\u5168\u3066\u306e\u4fc2\u6570\u306e\u6a19\u6e96\u8aa4\u5dee\u306f30\uff05\u7a0b\u5909\u5316\u3057\u3066\u3044\u308b\u3002\u4f55\u3089\u304b\u306e\u554f\u984c\u3092\u793a\u5506\u3057\u3066\u3044\u308b\u304b\u3082\u77e5\u308c\u306a\u3044\u3002\n",
                "\n",
                "\n",
                "\uff08\u6ce8\u610f\uff09\u4e0d\u5747\u4e00\u5206\u6563\u306e\u4e0b\u3067\u304a\u6700\u5c24\u63a8\u5b9a\n",
                "* \u63a8\u5b9a\u91cf\u306f\u4e00\u81f4\u6027\u3092\u6e80\u305f\u3055\u306a\u3044\n",
                "* \u6a19\u6e96\u8aa4\u5dee\u3082\u4e00\u81f4\u6027\u3092\u6e80\u305f\u3055\u306a\u3044\n",
                "    * \u4e0d\u5747\u4e00\u5206\u6563\u9811\u5065\u6a19\u6e96\u8aa4\u5dee\u3092\u4f7f\u3046\u3053\u3068\u304c\u63a8\u5968\u3055\u308c\u308b\u3053\u3068\u304c\u3042\u308b\u304c\uff08\u7814\u7a76\u8ad6\u6587\u3067\u3082\u305d\u3046\u3059\u308b\u7814\u7a76\u8005\u3082\u591a\u3044\uff09\uff0c\u3082\u3068\u3082\u3068\u4fc2\u6570\u306e\u63a8\u5b9a\u91cf\u304c\u4e00\u81f4\u6027\u3092\u6e80\u305f\u3055\u306a\u3044\u305f\u3081\uff0c`cov_type`\u3067\u6307\u5b9a\u3059\u308b\u4e0d\u5747\u4e00\u5206\u6563\u9811\u5065\u6a19\u6e96\u8aa4\u5dee\u306e\u6709\u7528\u6027\u306b\u7591\u554f\u304c\u6b8b\u308b\u3002\uff08[\u53c2\u7167](https://davegiles.blogspot.com/2013/05/robust-standard-errors-for-nonlinear.html)\uff09"
            ]
        },
        {
            "cell_type": "markdown",
            "metadata": {
                "heading_collapsed": true
            },
            "source": [
                "## Heckit\u30e2\u30c7\u30eb"
            ]
        },
        {
            "cell_type": "markdown",
            "metadata": {
                "heading_collapsed": true,
                "hidden": true
            },
            "source": [
                "### \u8aac\u660e"
            ]
        },
        {
            "cell_type": "markdown",
            "metadata": {
                "hidden": true
            },
            "source": [
                "`Heckit`\u30e2\u30c7\u30eb\u306f\u5207\u65ad\u56de\u5e30\u30e2\u30c7\u30eb\u306e\u62e1\u5f35\u7248\u3067\u3042\u308a\uff0c\u9078\u629e\u30d0\u30a4\u30a2\u30b9\u554f\u984c\u304c\u7591\u308f\u308c\u308b\u5834\u5408\u306b\u5a01\u529b\u3092\u767a\u63ee\u3059\u308b\u3002\u4f8b\u3092\u4f7f\u3063\u3066\u9078\u629e\u30d0\u30a4\u30a2\u30b9\u554f\u984c\u3092\u8aac\u660e\u3059\u308b\u3002\n",
                "\n",
                "\uff1c\u9078\u629e\u30d0\u30a4\u30a2\u30b9\u554f\u984c\uff1a\u4f8b\uff11\uff1e\n",
                "\n",
                "\u65e5\u672c\u5168\u56fd\u306e\u5927\u5b66\uff14\u5e74\u751f\u306b\u3042\u308b\u8a66\u9a13\uff08\u5358\u4f4d\u53d6\u5f97\u3067\u304d\u308b\u304c\u5fc5\u9808\u3067\u306f\u306a\u3044\uff09\u3092\u53d7\u3051\u3055\u305b\uff0c\u305d\u306e\u5e73\u5747\u70b9\u3092\u4f7f\u3063\u3066\u5352\u696d\u751f\u5168\u4f53\u306e\u5b66\u529b\u3092\u6e2c\u308b\u3068\u3057\u3088\u3046\u3002\u3057\u304b\u3057\uff0c\u52c9\u5f37\u6642\u9593\u304c\u77ed\u3044\u5b66\u751f\u306f\u53d7\u9a13\u3057\u306a\u3044\u50be\u5411\u306b\u3042\u308b\u3068\u3057\u3088\u3046\u3002\n",
                "\n",
                "\uff12\u3064\u306e\u30b7\u30ca\u30ea\u30aa\n",
                "* \u30b7\u30ca\u30ea\u30aa\uff11\uff1a\u5b66\u751f\u3092\u7121\u4f5c\u70ba\u306b\u9078\u3073\uff08\u5f37\u5236\u7684\u306b\uff09\u53d7\u9a13\u3055\u305b\u308b\u3002\n",
                "* \u30b7\u30ca\u30ea\u30aa\uff12\uff1a\u5e0c\u671b\u3059\u308b\u5b66\u751f\u3060\u3051\u306b\u53d7\u3051\u3055\u305b\u308b\u3002\n",
                "\n",
                "\u7d50\u679c\n",
                "* \u30b7\u30ca\u30ea\u30aa\uff11\uff1a\u30e9\u30f3\u30c0\u30e0\u62bd\u51fa\u306a\u306e\u3067\u5e73\u5747\u70b9\u306f\u5168\u4f53\u50cf\u3092\u53cd\u6620\u3057\u3066\u3044\u308b\u3002\n",
                "* \u30b7\u30ca\u30ea\u30aa\uff12\uff1a\u52c9\u5f37\u6642\u9593\u304c\u77ed\u3044\u5b66\u751f\u306f\u53d7\u9a13\u3057\u306a\u304f\u306a\u308a\uff0c\u6bd4\u8f03\u7684\u306b\u52c9\u5f37\u6642\u9593\u304c\u9577\u3044\u5b66\u751f\u304c\u53d7\u9a13\u3059\u308b\u3053\u3068\u306b\u306a\u308a\u5e73\u5747\u70b9\u304c\u4e0a\u304c\u308b\u3053\u3068\u306b\u306a\u308b\u3002\u5168\u4f53\u50cf\u3092\u6b6a\u3081\u308b\u7d50\u679c\u304c\u3067\u308b\u53ef\u80fd\u6027\u304c\u3042\u308b\u3002"
            ]
        },
        {
            "cell_type": "markdown",
            "metadata": {
                "hidden": true
            },
            "source": [
                "\uff1c\u9078\u629e\u30d0\u30a4\u30a2\u30b9\u554f\u984c\uff1a\u4f8b\uff12\uff1e\n",
                "\n",
                "\u8cc3\u91d1\u306b\u5bfe\u3059\u308b\u5927\u5b66\u6559\u80b2\uff11\u5e74\u9593\u306e\u5e73\u5747\u7684\u52b9\u679c\u3092\u691c\u8a3c\u3059\u308b\u3068\u3057\u3088\u3046\u3002\u30b5\u30f3\u30d7\u30eb\u306f\u5927\u5b66\u5352\u696d\u751f\u3068\u5927\u5b66\u306b\u9032\u5b66\u3057\u306a\u304b\u3063\u305f\u9ad8\u6821\u5352\u696d\u751f\u3002\u76ee\u7684\u306f\u5168\u4f53\u50cf\u306e\u628a\u63e1\u3067\u3042\u308a\uff0c\u4ee5\u4e0b\u3092\u8003\u3048\u308b\u3002\n",
                "\n",
                "$$\\dfrac{W_{\\text{\u5927}}-W_{\\text{\u9ad8}}}{4}\\qquad (\u5f0f\uff11)$$\n",
                "\n",
                "* $W_{\\text{\u5927}}$\uff1a\u5927\u5352\u306e\u5e73\u5747\u8cc3\u91d1\n",
                "* $W_{\\text{\u9ad8}}$\uff1a\u9ad8\u5352\u306e\u5e73\u5747\u8cc3\u91d1\n",
                "\n",
                "\u6b21\u306e\u4eee\u5b9a\u3092\u7f6e\u304f\uff1a\n",
                "* \u6559\u80b2\u304c\u9ad8\u3044\u307b\u3069\u8cc3\u91d1\u306f\u9ad8\u3044\u3002\n",
                "* \u4ed6\u306e\u6761\u4ef6\u304c\u540c\u3058\u3067\u3042\u308c\u3070\uff0c\u6559\u80b2\u304c\u9ad8\u3044\u307b\u3069\u50cd\u304f\u50be\u5411\u306b\u3042\u308b\uff08\u6a5f\u4f1a\u8cbb\u7528\u304c\u9ad8\u3044\u305f\u3081\uff09\n",
                "\n",
                "\uff12\u3064\u306e\u30b7\u30ca\u30ea\u30aa\n",
                "* \u8d77\u3053\u308a\u3048\u306a\u3044\u30b7\u30ca\u30ea\u30aa\uff1a\u5352\u696d\u751f\u3092\u3092\u7121\u4f5c\u70ba\u306b\u9078\u3073\uff08\u5f37\u5236\u7684\u306b\uff09\u50cd\u304b\u305b\u3066\u8cc3\u91d1\u306e\u30c7\u30fc\u30bf\u3092\u96c6\u3081\u308b\u3002\n",
                "* \u73fe\u5b9f\u7684\u306a\u30b7\u30ca\u30ea\u30aa\uff1a\u81ea\u7531\u306b\u52b4\u50cd\u8005\u304c\u50cd\u304f\u304b\u50cd\u304b\u306a\u3044\u304b\u3092\u6c7a\u3081\uff0c\u50cd\u3044\u3066\u3044\u308b\u52b4\u50cd\u8005\u306e\u30c7\u30fc\u30bf\u3092\u96c6\u3081\u308b\u3002\n",
                "\n",
                "\u7d50\u679c\uff1a\n",
                "* \u8d77\u3053\u308a\u3048\u306a\u3044\u30b7\u30ca\u30ea\u30aa\uff1a\u30e9\u30f3\u30c0\u30e0\u62bd\u51fa\u306a\u306e\u3067(\u5f0f\uff11)\u306f\u5168\u4f53\u50cf\u3092\u53cd\u6620\u3057\u3066\u3044\u308b\u3002\n",
                "* \u73fe\u5b9f\u7684\u306a\u30b7\u30ca\u30ea\u30aa\uff1a\u6559\u80b2\u6c34\u6e96\u304c\u4f4e\u3044\u4eba\uff08\u9ad8\u5352\uff09\u307b\u3069\u50cd\u304b\u306a\u4eba\u3044\u304c\u591a\u3044\u50be\u5411\u306b\u3042\u308b\u3002\u7279\u306b\uff0c\u8cc3\u91d1\u304c\u4f4e\u3044\u4eba\u307b\u3069\u52b4\u50cd\u5e02\u5834\u304b\u3089\u9000\u51fa\u3059\u308b\u5834\u5408\uff08\u52b4\u50cd\u4f9b\u7d66\u306e\u6e1b\u5c11\uff09\uff0c\u9ad8\u5352\u306e\u5e73\u5747\u8cc3\u91d1$W_{\\text{\u9ad8}}$\u306f\u4e0a\u6607\u3059\u308b\u3053\u3068\u306b\u306a\u308a\uff0c(\u5f0f\uff11)\u306f\u4e0b\u843d\u3059\u308b\u3002\u5927\u5b66\u6559\u80b2\uff11\u5e74\u306e\u52b9\u679c\u306f\uff0c\u4f4e\u304f\u63a8\u5b9a\u3055\u308c\u5168\u4f53\u50cf\u3092\u6b6a\u3081\u308b\u7d50\u679c\u3068\u306a\u308b\u3002"
            ]
        },
        {
            "cell_type": "markdown",
            "metadata": {
                "hidden": true
            },
            "source": [
                "---\n",
                "\u3053\u308c\u3089\u306e\u4f8b\u304c\u793a\u5506\u3059\u308b\u3088\u3046\u306b\uff0c\u9078\u629e\u554f\u984c\u3092\u7121\u8996\u3057\u3066\u5358\u7d14\u306bOLS\u63a8\u5b9a\u3057\u3066\u3082\u63a8\u5b9a\u91cf\u306b\u30d0\u30a4\u30a2\u30b9\u304c\u767a\u751f\u3059\u308b\u53ef\u80fd\u6027\u304c\u3042\u308b\u3002\u3053\u306e\u554f\u984c\u306b\u5bfe\u51e6\u3059\u308b\u63a8\u5b9a\u65b9\u6cd5\u306e\uff11\u3064\u304c`Heckit`\u30e2\u30c7\u30eb\u3067\u3042\u308b\u3002`Heckit`\u30e2\u30c7\u30eb\u306f\uff12\u6bb5\u968e\u3067\u63a8\u5b9a\u3059\u308b\u3002\n",
                "\n",
                "\uff1c\u7b2c\uff11\u6bb5\u968e\uff1e\n",
                "\n",
                "`Probit`\u30e2\u30c7\u30eb\u3092\u4f7f\u3063\u305f\uff12\u9805\u9078\u629e\u306b\u95a2\u3059\u308b\u63a8\u5b9a\uff08\u4f8b\u3048\u3070\uff0c\u52b4\u50cd\u5e02\u5834\u306b\u53c2\u52a0\u3059\u308b\u3057\u306a\u3044\u306e\u9078\u629e\uff09\n",
                "\n",
                "$$\n",
                "\\begin{align*}\n",
                "&z_i^{*}=\\alpha_0+\\alpha_1w_i+u_i\\qquad\\text{(\u5f0f\uff15)}\\\\\n",
                "    &\\begin{cases}\n",
                "        z_i=1&\\quad\\text{if }z_i^{*}>0\\\\\n",
                "        z_i=0&\\quad\\text{if }z_i^{*}\\leq0\n",
                "    \\end{cases}\n",
                "\\end{align*}\n",
                "$$\n",
                "\n",
                "* $z_i^{*}$\uff1a\u9078\u629e\u306b\u95a2\u3059\u308b\u6f5c\u5728\u5909\u6570\uff08\u4f8b\u3048\u3070\uff0c\u52b9\u7528\uff09\n",
                "* $z_i$\uff1a\u9078\u629e\u3092\u793a\u3059\u6307\u6a19\uff08\u4f8b\u3048\u3070\uff0c\uff11\uff1d\u50cd\u304f\uff0c\uff10\uff1d\u50cd\u304b\u306a\u3044\uff09\n",
                "* $w_i$\uff1a\u9078\u629e\u306b\u5f71\u97ff\u3059\u308b\u8981\u56e0\uff08\u4f8b\u3048\u3070\uff0c\u50cd\u304f\u6642\u9593\u306b\u5f71\u97ff\u3092\u53ca\u307c\u3059\u8981\u56e0\u3068\u3057\u3066\u5e7c\u5150\u306e\u6570\uff09\n",
                "\n",
                "\uff1c\u7b2c\uff12\u6bb5\u968e\uff1e\n",
                "\n",
                "\u7b2c\u4e00\u6bb5\u968e\u306e\u7d50\u679c\u3092\u4f7f\u3044`OLS`\u63a8\u5b9a\uff08\u4f8b\u3048\u3070\uff0c\u8cc3\u91d1\u306e\u63a8\u5b9a\uff09\n",
                "\n",
                "$$\n",
                "\\begin{align*}\n",
                "&y_i^{*}=\\beta_0+\\beta_1x_i+\\rho\\sigma_e\\lambda\\left(\\hat{k}_i\\right)+e_i\\qquad\\text{(\u5f0f\uff16)}\\\\\n",
                "    &\\begin{cases}\n",
                "        y_i=y_i^{*}&\\quad\\text{if }z_i=1\\\\\n",
                "        y_i\\text{\u306f\u5207\u65ad\u3055\u308c\u308b}&\\quad\\text{if }z_i= 0\n",
                "    \\end{cases}\n",
                "\\end{align*}\n",
                "$$\n",
                "\n",
                "* $y_i^{*}$\uff1a\u8208\u5473\u304c\u3042\u308b\u5909\u6570\uff08\u4f8b\u3048\u3070\uff0c\u52b4\u50cd\u8005\u306e\u8cc3\u91d1\uff09\n",
                "* $y_i$\uff1a\u5b9f\u969b\u306b\u89b3\u6e2c\u3055\u308c\u308b$y_i^{*}$\u306e\u5024\n",
                "* $x_i$\uff1a$y_i^{*}$\u306b\u5f71\u97ff\u3059\u308b\u8981\u56e0\uff08\u4f8b\u3048\u3070\uff0c\u6559\u80b2\uff0c\u7d4c\u9a13\uff09\n",
                "\n",
                "\u3053\u3053\u3067\n",
                "* $\\hat{k}_i$\uff1a\u7b2c\u4e00\u6bb5\u968e\u306b\u304a\u3051\u308b$\\dfrac{A-\\hat{\\alpha}_0-\\hat{\\alpha}_1w_i}{\\sigma_u}$\u306e\u63a8\u5b9a\u91cf\n",
                "* $A=0$\uff1a\u4e0b\u9650\u306e\u5024\n",
                "* $\\sigma_e$\uff1a$e_i$\u306e\u6a19\u6e96\u504f\u5dee\n",
                "* $\\sigma_u$\uff1a$u_i$\u306e\u6a19\u6e96\u504f\u5dee\n",
                "* $\\rho=\\text{Cov}(u_i,e_i)$"
            ]
        },
        {
            "cell_type": "markdown",
            "metadata": {
                "hidden": true
            },
            "source": [
                "\uff08\u30b3\u30e1\u30f3\u30c8\uff09\n",
                "* \u3042\u308b\u4eee\u5b9a\u306e\u3082\u3068\u3067`Heckit`\u63a8\u5b9a\u91cf\u306f\u4e00\u81f4\u6027\u3092\u6e80\u305f\u3059\u3002\n",
                "* `Heckit`\u3092\u4f7f\u308f\u305a\u306b\uff0c(\u5f0f\uff16)\u3092\u76f4\u63a5OLS\u63a8\u5b9a\u3059\u308b\u3068$\\lambda\\left(\\hat{w}_i\\right)$\u3092\u7121\u8996\u3059\u308b\u3053\u3068\u306b\u306a\u308a\uff0c\u6b20\u843d\u5909\u6570\u30d0\u30a4\u30a2\u30b9\u304c\u767a\u751f\u3059\u308b\u3002\n",
                "* $\\rho=0$\u306e\u5834\u5408\uff0c(\u5f0f\uff16)\u3092\u76f4\u63a5OLS\u63a8\u5b9a\u3057\u3066\u3082\u6b20\u843d\u5909\u6570\u30d0\u30a4\u30a2\u30b9\u306f\u767a\u751f\u3057\u306a\u3044\u3002\u3053\u306e\u5834\u5408\uff0c`Heckit`\u30e2\u30c7\u30eb\u3092\u4f7f\u3046\u5fc5\u8981\u306f\u306a\u3044\u3002\u5373\u3061\uff0c$\\rho\\sigma_e$\u306eOLS\u63a8\u5b9a\u91cf\u3067\u30d0\u30a4\u30a2\u30b9\u304c\u767a\u751f\u3057\u3044\u308b\u304b\u78ba\u8a8d\u3067\u304d\u308b\u3002\n",
                "\n",
                "\uff08\u6ce8\u610f\uff09\n",
                "* \u4e0a\u306e\u8aac\u660e\u3067\u306f\uff0c$k_i$\u3082$x_i$\u3082\uff11\u5909\u6570\u3068\u3057\u3066\u8aac\u660e\u3057\u305f\u304c\uff0c\u5b9f\u969b\u306b\u306f\u8907\u6570\u306e\u5909\u6570\u3092\u4f7f\u3046\u3053\u3068\u306b\u306a\u308b\u3002\u305d\u306e\u969b\uff0c\u7b2c\uff11\u6bb5\u968e\u306e\u8aac\u660e\u5909\u6570\uff08\u4e0a\u306e\u4f8b\u3067\u306f\uff0c$k_i$\uff09\u306b\u306f\u7b2c\uff12\u6bb5\u968e\u306e\u8aac\u660e\u5909\u6570\u306b**\u306a\u3044**\u5909\u6570\u3092\u5c11\u306a\u304f\u3068\u3082\uff11\u3064\u5165\u308c\u308b\u5fc5\u8981\u304c\u3042\u308b\u3002"
            ]
        },
        {
            "cell_type": "markdown",
            "metadata": {
                "heading_collapsed": true,
                "hidden": true
            },
            "source": [
                "### `Heckit`\u30e2\u30b8\u30e5\u30fc\u30eb\u306e\u4f7f\u3044\u65b9"
            ]
        },
        {
            "cell_type": "markdown",
            "metadata": {
                "hidden": true
            },
            "source": [
                "`statsmodels`\u3082`linearmodels`\u3082`Heckit`\u63a8\u5b9a\u306e\u6b63\u5f0f\u30e2\u30b8\u30e5\u30fc\u30eb\u304c\u306a\u3044\u3002\u305d\u306e\u4ee3\u308f\u308a`statsmodels`\u306b\u6b63\u5f0f\u306bmerge\u3055\u308c\u3066\u3044\u306a\u3044`Heckman`\u30e2\u30b8\u30e5\u30fc\u30eb\u306b\u57fa\u3065\u3044\u3066\u8457\u8005\u304c\u4f5c\u6210\u3057\u305f`heckit`\u30e2\u30b8\u30e5\u30fc\u30eb\u3092\u4f7f\u3046\u3002\u3053\u308c\u306b\u3088\u308a\u4e0a\u8ff0\u306e\u8aac\u660e\u3057\u305f\u30b9\u30c6\u30c3\u30d7\u306b\u6cbf\u3063\u3066\u81ea\u52d5\u3067\u63a8\u5b9a\u53ef\u80fd\u3068\u306a\u308b\u3002"
            ]
        },
        {
            "cell_type": "markdown",
            "metadata": {
                "hidden": true
            },
            "source": [
                "---\n",
                "\uff1c\u4f7f\u3044\u65b9\uff1a\u30b9\u30c6\u30c3\u30d7\uff11\u301c\uff16\uff1e\n",
                "\n",
                "\u4eca\u307e\u3067`statsmodels`\u3092\u4f7f\u3046\u5834\u5408\uff0c`from_formula`\u30e1\u30bd\u30c3\u30c9\u3092\u4f7f\u3063\u305f\u304c\uff0c\u305d\u308c\u3092\u4f7f\u308f\u306a\u3044\u65b9\u6cd5\u3082\u3042\u308b\u3002`Heckit`\u306e\u4f7f\u3044\u65b9\u306f\u305d\u306e\u65b9\u6cd5\u306b\u6cbf\u3063\u3066\u3044\u308b\u3002\n",
                "\n",
                "1. \u5909\u6570\u3092\u6e96\u5099\u3059\u308b\u524d\u6e96\u5099\n",
                "    * (\u5f0f\uff15)\u3068(\u5f0f\uff16)\u3092\u4f7f\u3063\u305f\u8aac\u660e\u3067\uff0c\u7b2c\uff11\u6bb5\u968e\u306e\u88ab\u8aac\u660e\u5909\u6570$z_i$\u3068\u7b2c\uff12\u6bb5\u968e\u306e\u88ab\u8aac\u660e\u5909\u6570$y_i$\u306f\u6b21\u306e\u3088\u3046\u306b\u9023\u52d5\u3057\u3066\u3044\u308b\u3053\u3068\u306b\u7559\u610f\u3057\u3088\u3046\u3002\n",
                "        $$\n",
                "        \\begin{align*}\n",
                "            &z_i=1\\;\\Rightarrow\\; y_i=y^*_i\\\\\n",
                "            &z_i=0\\;\\Rightarrow\\; y_i\\text{\u306f\u5207\u65ad}\n",
                "        \\end{align*}\n",
                "        $$\n",
                "    * \u3053\u306e\u70b9\u3092\u5229\u7528\u3057\uff0c`Heckit`\u30e2\u30b8\u30e5\u30fc\u30eb\u3067\u306f\u7b2c\uff11\u6bb5\u968e\u306e\u88ab\u8aac\u660e\u5909\u6570$z_i$\u3092\u6307\u5b9a\u3059\u308b\u5fc5\u8981\u304c\u306a\u3044\u3002\u305d\u306e\u4ee3\u308f\u308a\u306b\uff0c$z_i=0$\u306e\u5834\u5408\u306b\u306f$y_i=$`NaN`\u3068\u306a\u308b\u3088\u3046\u306b\u8a2d\u5b9a\u3059\u308b\u5fc5\u8981\u304c\u3042\u308b\u3002\n",
                "1. \u7b2c\uff11\u6bb5\u968e\u3068\u7b2c\uff12\u6bb5\u968e\u3067\u4f7f\u3046\u5168\u3066\u306e\u5909\u6570\u304c\u5165\u3063\u305f`DataFrame`\u3092\u4f5c\u6210\u3059\u308b\u3002\u4ee5\u4e0b\u306e\u8aac\u660e\u3067\u306f`df`\u3068\u547c\u3076\u3002\n",
                "1. \u7b2c\uff12\u6bb5\u968e\u306e\u88ab\u8aac\u660e\u5909\u6570\u3092`endog`\u3068\u3057\u3066\u5b9a\u7fa9\u3059\u308b\u3002\u4f8b\u3048\u3070\uff0c`df`\u306e\u5217`y`\u306b\u3042\u308b\u5834\u5408\uff0c\u4ee5\u4e0b\u306e\u3088\u3046\u306b\u3059\u308b\u3002\n",
                "    ```\n",
                "        endog = df.loc[:,'y']\n",
                "    ```\n",
                "1. \u7b2c\uff12\u6bb5\u968e\u306e\u8aac\u660e\u5909\u6570\u3060\u3051\u3092\u629c\u304d\u53d6\u3063\u3066`exog`\u3068\u3044\u3046`DataFrame`\u3092\u4f5c\u6210\u3057\uff0c\u305d\u308c\u306b\u5b9a\u6570\u9805\u306e\u5217\u3092\u52a0\u3048\u308b\u3002\u4f8b\u3048\u3070\uff0c`x1`\uff0c`x2`\uff0c`x3`\u304c\u8a72\u5f53\u3059\u308b\u5909\u6570\u3060\u3068\u3059\u308b\u3068\uff0c\u4ee5\u4e0b\u306e\u3088\u3046\u306b\u3059\u308b\u3002\u307e\u305f`exog`\u306b\u5b9a\u6570\u9805\u3092\u52a0\u3048\u308b\u3002\n",
                "    ```\n",
                "        exog = df.loc[:,[x1,x2,x3]]\n",
                "        exog['Intercept'] = 1.0\n",
                "    ```\n",
                "1. \u7b2c\uff11\u6bb5\u968e\u306e\u8aac\u660e\u5909\u6570\u3060\u3051\u3092\u629c\u304d\u53d6\u3063\u3066`exog_select`\u3068\u3044\u3046`DataFrame`\u3092\u4f5c\u6210\u3057\uff0c\u305d\u308c\u306b\u5b9a\u6570\u9805\u306e\u5217\u3092\u52a0\u3048\u308b\u3002\u4f8b\u3048\u3070\uff0c`w1`\uff0c`w2`\uff0c`w3`\u304c\u8a72\u5f53\u3059\u308b\u5909\u6570\u3060\u3068\u3059\u308b\u3068\uff0c\u4ee5\u4e0b\u306e\u3088\u3046\u306b\u3059\u308b\u3002\u307e\u305f`exog_select`\u306b\u5b9a\u6570\u9805\u3092\u52a0\u3048\u308b\u3002\n",
                "    ```\n",
                "        exog_select = df.loc[:,[w1,w2,w3]]\n",
                "        exog_select['Intercept'] = 1.0\n",
                "    ```\n",
                "1. \u4ee5\u4e0b\u306e\u3088\u3046\u306b`Heckit`\u3092\u4f7f\u3044\u63a8\u5b9a\u3059\u308b\u3002\n",
                "    ```\n",
                "        Heckit(endog, exog, exog_select).fit()\n",
                "    ```"
            ]
        },
        {
            "cell_type": "markdown",
            "metadata": {
                "heading_collapsed": true,
                "hidden": true
            },
            "source": [
                "### \u63a8\u5b9a"
            ]
        },
        {
            "cell_type": "markdown",
            "metadata": {
                "heading_collapsed": true,
                "hidden": true
            },
            "source": [
                "#### `mroz`\u3092\u4f7f\u3063\u305f\u63a8\u5b9a"
            ]
        },
        {
            "cell_type": "markdown",
            "metadata": {
                "hidden": true
            },
            "source": [
                "\u4e0a\u3067\u4f7f\u3063\u305f`mroz`\u306e\u30c7\u30fc\u30bf\u30bb\u30c3\u30c8\u3092\u4f7f\u3044\u63a8\u5b9a\u3059\u308b\u3002\n",
                "* \u7b2c\uff11\u6bb5\u968e\u306e\u8aac\u660e\u5909\u6570\uff1a`educ`\uff0c`exper`\uff0c`expersq`\uff0c`nwifeinc`\uff0c`age`\uff0c`kidslt6`\uff0c`kidsge6` \n",
                "* \u7b2c\uff12\u6bb5\u968e\u306e\u88ab\u8aac\u660e\u5909\u6570\uff1a`lwage`\n",
                "* \u7b2c\uff12\u6bb5\u968e\u306e\u8aac\u660e\u5909\u6570\uff1a`educ`\uff0c`exper`\uff0c`expersq`\n",
                "\n",
                "\uff08\u76ee\u7684\uff09\n",
                "* \u6559\u80b2\u306e\u53ce\u76ca\u7387\u306e\u63a8\u5b9a\u3002"
            ]
        },
        {
            "cell_type": "markdown",
            "metadata": {
                "hidden": true
            },
            "source": [
                "\u30b9\u30c6\u30c3\u30d7\uff11"
            ]
        },
        {
            "cell_type": "markdown",
            "metadata": {
                "hidden": true
            },
            "source": [
                "`inlf`\u306f\uff0c1975\u5e74\u306b\u65e2\u5a5a\u5973\u6027\u304c\u52b4\u50cd\u5e02\u5834\u306b\u53c2\u52a0\u3057\u305f\u5834\u5408\u306f`1`\uff0c\u53c2\u52a0\u3057\u306a\u304b\u3063\u305f\u5834\u5408\u306f`0`\u306b\u306a\u308b\u30c0\u30df\u30fc\u5909\u6570\u3067\u3042\u308b\u3002\u3053\u306e\u5909\u6570\u3092\u4f7f\u3044\uff0c\u5909\u6570\u4f5c\u6210\u306e\u524d\u6e96\u5099\u3068\u3057\u3066\u6b21\u306e\uff12\u70b9\u3092\u78ba\u8a8d\u3059\u308b\u3002\n",
                "* `inlf`=1\u306e\u5834\u5408\uff0c`lwage`\u306f`NaN`\u3067\u306f\u306a\u3044\u3002\n",
                "* `inlf`=0\u306e\u5834\u5408\uff0c`lwage`\u306f`NaN`\u3067\u3042\u308b\u3002"
            ]
        },
        {
            "cell_type": "code",
            "execution_count": null,
            "metadata": {},
            "outputs": [],
            "source": []
        },
        {
            "cell_type": "markdown",
            "metadata": {
                "hidden": true
            },
            "source": [
                "\u3053\u306e\u30b3\u30fc\u30c9\u306e`.isna()`\u306f`lwage`\u304c`NaN`\u3067\u3042\u308c\u3070`True`\u3092\u8fd4\u3059\uff08`isnan()`\u3067\u306f\u306a\u3044\u3053\u3068\u306b\u6ce8\u610f\uff0c\u307e\u305f`isnull()`\u3067\u3082\u53ef\uff09\u3002\u305d\u306e\u5408\u8a08`.sum()`\u304c`0`\u306a\u306e\u3067\uff0c\u300c`inlf`=1\u306e\u5834\u5408\uff0c`lwage`\u306f`NaN`\u3067\u306f\u306a\u3044\u300d\u3053\u3068\u304c\u78ba\u8a8d\u3067\u304d\u305f\u3002"
            ]
        },
        {
            "cell_type": "code",
            "execution_count": null,
            "metadata": {},
            "outputs": [],
            "source": []
        },
        {
            "cell_type": "markdown",
            "metadata": {
                "hidden": true
            },
            "source": [
                "\u3053\u306e\u30b3\u30fc\u30c9\u306e`()`\u306e\u4e2d\u3092\u8003\u3048\u3088\u3046\u3002\u4e0a\u306e\u30b3\u30fc\u30c9\u3068\u540c\u3058\u3088\u3046\u306b\uff0c`mroz.query('inlf == 0')['lwage'].isnull()`\u306f`lwage`\u304c`NaN`\u3067\u3042\u308c\u3070`True`\u3092\u8fd4\u3059\u304c\uff0c\u305d\u306e\u5148\u982d\u306b`~`\u3092\u3064\u3051\u308b\u3068\u305d\u306e\u9006\u306e`False`\u3092\u8fd4\u3059\u3053\u3068\u306b\u306a\u308b\u3002`~`\u306f\u300c\u53cd\u8ee2\u300d\u3068\u3044\u3046\u610f\u5473\u3067\u3042\u308b\u3002\u305d\u306e\u5408\u8a08`.sum()`\u304c`0`\u306a\u306e\u3067\uff0c\u300c`inlf`=0\u306e\u5834\u5408\uff0c`lwage`\u306f`NaN`\u3067\u3042\u308b\u300d\u3053\u3068\u304c\u78ba\u8a8d\u3067\u304d\u305f\u3002"
            ]
        },
        {
            "cell_type": "code",
            "execution_count": null,
            "metadata": {},
            "outputs": [],
            "source": [
                "# \u30b9\u30c6\u30c3\u30d7\uff12\uff1a\u3000mros\n",
                "\n",
                "# \u30b9\u30c6\u30c3\u30d7\uff13\uff1a\u7b2c\uff12\u6bb5\u968e\u306e\u88ab\u8aac\u660e\u5909\u6570\n",
                "\n",
                "\n",
                "# \u30b9\u30c6\u30c3\u30d7\uff14\uff1a\u7b2c\uff12\u6bb5\u968e\u306e\u8aac\u660e\u5909\u6570\n",
                "\n",
                "\n",
                "",
                "",
                "# \u30b9\u30c6\u30c3\u30d7\uff15\uff1a\u7b2c\uff11\u6bb5\u968e\u306e\u8aac\u660e\u5909\u6570\n",
                "\n"
            ]
        },
        {
            "cell_type": "markdown",
            "metadata": {
                "hidden": true
            },
            "source": [
                "\u63a8\u5b9a\u3092\u884c\u3046\u969b\uff0c`fit()`\u306b\u30aa\u30d7\u30b7\u30e7\u30f3\u3092\u8ffd\u52a0\u3057\u4e0d\u5747\u4e00\u5206\u6563\u9811\u5065\u6a19\u6e96\u8aa4\u5dee\u3092\u6307\u5b9a\u3059\u308b\u3002\n",
                "* `cov_type_1`\uff1a\u7b2c\uff11\u6bb5\u968e\u63a8\u5b9a\u3067\u306e\u30aa\u30d7\u30b7\u30e7\u30f3\n",
                "* `cov_type_2`\uff1a\u7b2c\uff12\u6bb5\u968e\u63a8\u5b9a\u3067\u306e\u30aa\u30d7\u30b7\u30e7\u30f3\n",
                "\n",
                "\uff08\u6ce8\u610f\uff09\n",
                "* \u30aa\u30d7\u30b7\u30e7\u30f3\u3092\u8ffd\u52a0\u3057\u306a\u3044\u5834\u5408\u306f\uff0c`nonrobust`\u304c\u30c7\u30d5\u30a9\u30eb\u30c8\u3068\u306a\u308b\u3002"
            ]
        },
        {
            "cell_type": "markdown",
            "metadata": {
                "hidden": true
            },
            "source": [
                "\u30b9\u30c6\u30c3\u30d7\uff16"
            ]
        },
        {
            "cell_type": "code",
            "execution_count": null,
            "metadata": {},
            "outputs": [],
            "source": [
                "\n",
                "\n",
                ""
            ]
        },
        {
            "cell_type": "markdown",
            "metadata": {
                "hidden": true
            },
            "source": [
                "* \u4e0a\u6bb5\u306e\u8868\uff1a\u7b2c\uff12\u6bb5\u968e\u63a8\u5b9a\n",
                "* \u4e2d\u65ad\u306e\u8868\uff1a\u7b2c\uff11\u6bb5\u968e\u63a8\u5b9a\n",
                "* \u4e0b\u6bb5\u306e\u8868\n",
                "    * `IMR`\uff1a\u9006\u30df\u30eb\u30ba\u6bd4\uff08(\u5f0f\uff16)\u306e$\\lambda\\left(\\hat{w}_i\\right)$\uff09\n",
                "    * `rho`\uff1a\u7b2c\uff11\u30fb\u7b2c\uff12\u6bb5\u968e\u306e\u8aa4\u5dee\u9805\u306e\u5171\u5206\u6563\uff08(\u5f0f\uff16)\u306e$\\rho$\uff09\n",
                "    * `sigma`\uff1a\u7b2c\uff12\u6bb5\u968e\u8aa4\u5dee\u9805\u306e\u6a19\u6e96\u504f\u5dee\uff08(\u5f0f\uff16)\u306e$\\sigma_e$\uff09\n",
                "\n",
                "\uff08\u6ce8\u610f\uff09\u8868\u306b\u306f\u901a\u5e38\u306e\u6a19\u6e96\u8aa4\u5dee\u304c\u8868\u793a\u3055\u308c\u3066\u3044\u308b\u3002\u4e0d\u5747\u4e00\u5206\u6563\u9811\u5065\u6a19\u6e96\u8aa4\u5dee\u306f\u4ee5\u4e0b\u3067\u624b\u52d5\u3067\u8a08\u7b97\u3059\u308b\u3002\n",
                "\n",
                "---\n",
                "\u7b2c\uff12\u6bb5\u968e\u7d50\u679c\u306e\u5c5e\u6027\u3068\u30e1\u30bd\u30c3\u30c9\u306f`dir()`\u3084`see()`\u3067\u78ba\u8a8d\u3067\u304d\u308b\u3002"
            ]
        },
        {
            "cell_type": "code",
            "execution_count": null,
            "metadata": {},
            "outputs": [],
            "source": []
        },
        {
            "cell_type": "markdown",
            "metadata": {
                "hidden": true
            },
            "source": [
                "\u4f8b\u3048\u3070\uff0c`predict()`\u306f\u4e88\u6e2c\u5024\u3092\u8fd4\u3059\u3002\u3053\u306e\u4e2d\u306b\u306f\u307e\u3060\u5b9f\u88c5\u3055\u308c\u3066\u3044\u306a\u3044\u3082\u306e\u3082\u542b\u307e\u308c\u3066\u3044\u308b\u3002\n",
                "\n",
                "\u307e\u305f\uff0c\u3053\u306e\u4e2d\u306b`select_res`\u3068\u3042\u308b\u304c\uff0c\u3053\u306e\u5c5e\u6027\u3092\u4f7f\u3044\u7b2c\uff11\u6bb5\u968e\u63a8\u5b9a\u306e\u306b\u95a2\u3059\u308b\u5c5e\u6027\u30fb\u30e1\u30bd\u30c3\u30c9\u3092\u78ba\u8a8d\u3067\u304d\u308b\u3002"
            ]
        },
        {
            "cell_type": "code",
            "execution_count": null,
            "metadata": {},
            "outputs": [],
            "source": []
        },
        {
            "cell_type": "markdown",
            "metadata": {
                "hidden": true
            },
            "source": [
                "\u4f8b\u3048\u3070\uff0c`fittedvalues`\u306f\u4e88\u6e2c\u5024\u3092\u8fd4\u3059\u3002\u6b21\u306e\u30b3\u30fc\u30c9\u3067\u306f\u57fa\u672c\u7d71\u8a08\u91cf\u3092\u8868\u793a\u3067\u304d\u308b\u3002"
            ]
        },
        {
            "cell_type": "code",
            "execution_count": null,
            "metadata": {},
            "outputs": [],
            "source": []
        },
        {
            "cell_type": "markdown",
            "metadata": {
                "hidden": true
            },
            "source": [
                "\u3053\u306e\u8868\u306b\u3042\u308b`Dep. Variable: y`\u306e`y`\u306f\u7b2c\uff11\u6bb5\u968e\u306e\u88ab\u8aac\u660e\u5909\u6570\u3092\u8868\u3057\u3066\u3044\u308b\u304c\uff0c\u7b2c\uff12\u6bb5\u968e\u306e\u88ab\u8aac\u660e\u5909\u6570`lwage`\u3092\u4f7f\u3063\u3066\u3044\u308b\u305f\u3081\u3053\u306e\u3088\u3046\u306a\u8868\u8a18\u306b\u306a\u3063\u3066\u3044\u308b\u3002"
            ]
        },
        {
            "cell_type": "markdown",
            "metadata": {
                "heading_collapsed": true,
                "hidden": true
            },
            "source": [
                "#### \u7d50\u679c\u306e\u89e3\u91c8"
            ]
        },
        {
            "cell_type": "markdown",
            "metadata": {
                "hidden": true
            },
            "source": [
                "* \u7b2c\uff12\u6bb5\u968e\u63a8\u5b9a\u306e`educ`\u306e\u4fc2\u6570\u306f`0.1091`\u3067\u3042\u308a\u7d71\u8a08\u7684\u306b\u6709\u610f\u3002\n",
                "\n",
                "\u3053\u306e\u7d50\u679c\u3092\u5358\u7d14\u306aOLS\u3068\u6bd4\u3079\u3088\u3046\u3002\uff08`lwage`\u306b\u3042\u308b`NaN`\u306f\u81ea\u52d5\u7684\u306b\u9664\u5916\u3055\u308c\u308b\u3002\uff09"
            ]
        },
        {
            "cell_type": "code",
            "execution_count": null,
            "metadata": {},
            "outputs": [],
            "source": [
                "\n",
                "\n",
                "",
                "",
                ""
            ]
        },
        {
            "cell_type": "markdown",
            "metadata": {
                "hidden": true
            },
            "source": [
                "`educ`\u306eOLS\u63a8\u5b9a\u5024\u306f`0.1075`\u3067`Heckit`\u63a8\u5b9a\u5024\u3068\u5927\u304d\u304f\u5909\u308f\u3089\u306a\u3044\u3002\u3053\u308c\u306f\u9078\u629e\u30d0\u30a4\u30a2\u30b9\u304c\u6b86\u3069\u306a\u3044\u3053\u3068\u3092\u793a\u5506\u3057\u3066\u3044\u308b\u3002\u5b9f\u969b\uff0c`IMR`\uff08\u9006\u30df\u30eb\u30ba\u6bd4\uff09\u306ep\u5024\u306f`0.809`\u3067\u3042\u308a\uff0c\u4fc2\u6570\u306f\uff10\u3068\u3059\u308b\u901a\u5e38\u306e\u6709\u610f\u6c34\u6e96\u3067\u5e30\u7121\u4eee\u8aac\u3092\u68c4\u5374\u3067\u304d\u306a\u3044\u3002\u5373\u3061\uff0c\u5358\u7d14\u306aOLS\u63a8\u5b9a\u3067\u306f\u9006\u30df\u30eb\u30ba\u6bd4\u306e\u6b20\u843d\u5909\u6570\u30d0\u30a4\u30a2\u30b9\u304c\u767a\u751f\u3057\u3066\u3044\u306a\u3044\u3053\u3068\u3092\u610f\u5473\u3059\u308b\u3002\n",
                "\n",
                "\u6b21\u306b\u5207\u65ad\u56de\u5e30\u63a8\u5b9a\u3092\u8003\u3048\u3066\u307f\u3088\u3046\u3002"
            ]
        },
        {
            "cell_type": "code",
            "execution_count": null,
            "metadata": {},
            "outputs": [],
            "source": [
                "\n"
            ]
        },
        {
            "cell_type": "code",
            "execution_count": null,
            "metadata": {},
            "outputs": [],
            "source": [
                "\n",
                "\n",
                "",
                "",
                "",
                "",
                "",
                ""
            ]
        },
        {
            "cell_type": "markdown",
            "metadata": {
                "hidden": true
            },
            "source": [
                "\u3053\u306e\u63a8\u5b9a\u3067\u306f\uff0c`wage`\u306e\u6700\u5c0f\u5024\u306e50%\u306e\u5024\u306e\u5bfe\u6570\u3092\u4e0b\u9650\u306e\u5024\u306b\u8a2d\u5b9a\u3057\u3066\u3044\u308b\u3002`wage=0`\u3092\u4e0b\u9650\u306b\u3057\u3066\u3082\u3088\u3044\u304c\uff0c\u305d\u306e\u5834\u5408\uff0c`np.log(0)`\u306f\u30de\u30a4\u30ca\u30b9\u7121\u9650\u306b\u306a\u308a\uff0c\u901a\u5e38\u306e\u6700\u5c24\u63a8\u5b9a\u3068\u540c\u3058\u306b\u306a\u308b\u3002\u5207\u65ad\u56de\u5e30\u63a8\u5b9a\u3092\u4f7f\u3063\u3066\u3082\u7d50\u679c\u306f\u5909\u308f\u3089\u306a\u3044\u3002\u5373\u3061\uff0c\u9078\u629e\u30d0\u30a4\u30a2\u30b9\u304c\u5927\u304d\u306a\u554f\u984c\u3067\u306f\u306a\u3044\u3053\u3068\u3092\u793a\u5506\u3057\u3066\u3044\u308b\u3002\n",
                "\n",
                "---\n",
                "\u7b2c\uff11\u6bb5\u968e\u63a8\u5b9a\u3067\u306f`Probit`\u30e2\u30c7\u30eb\u3092\u4f7f\u3063\u3066\u3044\u308b\u304c\uff0c\u4ee5\u4e0b\u3067\u306f\u4e0d\u5747\u4e00\u5206\u6563\u306b\u95a2\u3057\u3066\u691c\u5b9a\u3092\u884c\u3046\u3002"
            ]
        },
        {
            "cell_type": "code",
            "execution_count": null,
            "metadata": {},
            "outputs": [],
            "source": []
        },
        {
            "cell_type": "markdown",
            "metadata": {
                "hidden": true
            },
            "source": [
                "\u5e30\u7121\u4eee\u8aac\u306f\u68c4\u5374\u3067\u304d\u306a\u3044\u3002"
            ]
        }
    ],
    "metadata": {
        "celltoolbar": "Tags",
        "kernelspec": {
            "display_name": "latest",
            "language": "python",
            "name": "latest"
        },
        "language_info": {
            "codemirror_mode": {
                "name": "ipython",
                "version": 3
            },
            "file_extension": ".py",
            "mimetype": "text/x-python",
            "name": "python",
            "nbconvert_exporter": "python",
            "pygments_lexer": "ipython3",
            "version": "3.8.5"
        },
        "nteract": {
            "version": "0.23.3"
        },
        "toc": {
            "base_numbering": 1,
            "nav_menu": {},
            "number_sections": true,
            "sideBar": true,
            "skip_h1_title": false,
            "title_cell": "Table of Contents",
            "title_sidebar": "Contents",
            "toc_cell": false,
            "toc_position": {},
            "toc_section_display": true,
            "toc_window_display": false
        }
    },
    "nbformat": 4,
    "nbformat_minor": 2
}