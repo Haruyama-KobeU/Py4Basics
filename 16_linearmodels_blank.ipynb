{
    "cells": [
        {
            "cell_type": "markdown",
            "metadata": {},
            "source": [
                "# `linearmodels`"
            ]
        },
        {
            "cell_type": "code",
            "execution_count": null,
            "metadata": {},
            "outputs": [],
            "source": [
                "\n",
                "\n",
                "",
                ""
            ]
        },
        {
            "cell_type": "markdown",
            "metadata": {
                "heading_collapsed": true
            },
            "source": [
                "## \u8aac\u660e"
            ]
        },
        {
            "cell_type": "markdown",
            "metadata": {
                "hidden": true
            },
            "source": [
                "`linearmodels`\u306f`statsmodels`\u3092\u88dc\u5b8c\u3059\u308b\u76ee\u7684\u3068\u3057\u3066\u958b\u767a\u3055\u308c\u3066\u3044\u308b\u3002\u4e3b\u306b\uff0c\u30d1\u30cd\u30eb\u30c7\u30fc\u30bf\uff0c\u64cd\u4f5c\u5909\u6570\u6cd5\u3092\u4f7f\u3063\u305f\u63a8\u5b9a\u6cd5\u3084GMM\u3092\u6271\u3046\u5834\u5408\u306b\u306f\u975e\u5e38\u306b\u91cd\u5b9d\u3059\u308b\u30d1\u30c3\u30b1\u30fc\u30b8\u3067\u3042\u308b\u3002\u3057\u304b\u3057\uff0c`linearmodels`\u306f`statsmodels`\u306e\u4e21\u65b9\u3092\u4f7f\u3046\u4e0a\u3067\u4ee5\u4e0b\u306e\u70b9\u306b\u6ce8\u610f\u3059\u308b\u5fc5\u8981\u304c\u3042\u308b\u3002\n",
                "* \u63a8\u5b9a\u7d50\u679c\u306a\u3069\u306e\u30e1\u30bd\u30c3\u30c9\u3084\u5c5e\u6027\u304c\u5171\u901a\u5316\u3055\u308c\u3066\u3044\u308b\u308f\u3051\u3067\u306f\u306a\u3044\u3002\u6b21\u306e\u8868\u306b\uff13\u3064\u306e\u4f8b\u3092\u6319\u3052\u308b\u3002\n",
                "\n",
                "\n",
                "|              | \u63a8\u5b9a\u7d50\u679c\u306e<br> \u8868\u3092\u8868\u793a | \u6b8b\u5dee\u3092<br> \u8868\u793a\u3059\u308b<br> \u30e1\u30bd\u30c3\u30c9 | \u6a19\u6e96\u8aa4\u5dee\u3092<br> \u53d6\u5f97\u3059\u308b<br> \u5c5e\u6027 |\n",
                "|-------------:|:-----------------------:|:--------------------------------:|:--------------------------------:|\n",
                "| statsmodels  | .summary()              | .resid                           | .bse                             |\n",
                "| linearmodels | .summary()              | .resids                          | .std_errors                      |\n",
                "\n",
                "\n",
                "* `statsmodels`\u3082`linearmodels`\u3082\u56de\u5e30\u5f0f\u3092\u6587\u5b57\u5217\u3067\u6307\u5b9a\u3067\u304d\u308b\u304c\uff0c\u5b9a\u6570\u9805\u306e\u6307\u5b9a\u3059\u308b\u65b9\u6cd5\u304c\u7570\u306a\u308b\u3002\n",
                "    * `statsmodels`\u3067\u306f\uff0c\u5b9a\u6570\u9805\u306f\u81ea\u52d5\u7684\u306b\u8ffd\u52a0\u3055\u308c\u308b\uff0c\u5b9a\u6570\u9805\u3092\u7701\u304f\u5834\u5408\u306f`-1`\u3092\u8ffd\u52a0\u3059\u308b\u3002\n",
                "    * `linearmodels`\u3067\u306f\uff0c\u5b9a\u6570\u9805\u306f\u81ea\u52d5\u7684\u306b\u8ffd\u52a0\u3055\u308c\u306a\u3044\u3002\u5b9a\u6570\u9805\u3092\u5165\u308c\u308b\u5834\u5408\u306f`1`\u3092\u8ffd\u52a0\u3059\u308b\u3002\n",
                "* `fit()`\u30e1\u30bd\u30c3\u30c9\u306e\u6319\u52d5\u3082\u5171\u901a\u5316\u3055\u308c\u3066\u3044\u306a\u3044\u3002\n",
                "    * `linearmodels`\u306e`fit()`\u306b\u4f55\u306e\u30aa\u30d7\u30b7\u30e7\u30f3\u3082\u6307\u5b9a\u305b\u305a\u306bOLS\u63a8\u5b9a\u3059\u308b\u3068\u4fc2\u6570\u306e\u63a8\u5b9a\u91cf\u306f\u540c\u3058\u3060\u304c\uff0c\u6a19\u6e96\u8aa4\u5dee\u3084$t$\u5024\u306a\u3069\u304c\u7570\u306a\u308b\u3002\u540c\u3058\u306b\u3059\u308b\u305f\u3081\u306b\u306f\u6b21\u306e\u3088\u3046\u306b\uff12\u3064\u306e\u30aa\u30d7\u30b7\u30e7\u30f3\u3092\u8a2d\u5b9a\u3057\u306a\u304f\u3066\u306f\u306a\u3089\u306a\u3044\u3002\n",
                "    ```\n",
                "    .fit(cov_type='unadjusted', debiased=True)\n",
                "    ```\n",
                "    * `cov_type`\u306f\u4e0d\u5747\u4e00\u5206\u6563\u9811\u5065\u5171\u5206\u6563\u884c\u5217\u63a8\u5b9a\u306e\u30aa\u30d7\u30b7\u30e7\u30f3\n",
                "        * \u30c7\u30d5\u30a9\u30eb\u30c8\u306f`robust`\uff08\u4e0d\u5747\u4e00\u5206\u6563\u9811\u5065\u7684\u5171\u5206\u6563\u884c\u5217\u63a8\u5b9a\uff09\u3067`statsmodels`\u306e`HC1`\u3068\u7b49\u3057\u3044\u3002\n",
                "    * `debiased`\u306f\u5171\u5206\u6563\u884c\u5217\u63a8\u5b9a\u306e\u81ea\u7531\u5ea6\u306e\u30aa\u30d7\u30b7\u30e7\u30f3\uff08\u5c0f\u6a19\u672c\u306e\u5834\u5408\u306e\u8abf\u6574\uff09\n",
                "        * \u30c7\u30d5\u30a9\u30eb\u30c8\u306f`False`\n",
                "\n",
                "**\uff08\u6ce8\u610f\uff09**\n",
                "\n",
                "\u4ee5\u4e0b\u3067\u306f`.fit()`\u306e\u30aa\u30d7\u30b7\u30e7\u30f3\u306f\u6307\u5b9a\u305b\u305a\uff0c\u30c7\u30d5\u30a9\u30eb\u30c8\u306e\u307e\u307e\u8b70\u8ad6\u3092\u7d9a\u3051\u308b\u3002"
            ]
        },
        {
            "cell_type": "markdown",
            "metadata": {
                "hidden": true
            },
            "source": [
                "---\n",
                "\u4ee5\u4e0b\u3067\u306f`linearmodels`\u3092\u4f7f\u3046\u304c\uff0c\u305d\u306e\u305f\u3081\u306b\u306f`DataFrame`\u3092`MultiIndex`\u306b\u5909\u63db\u3059\u308b\u5fc5\u8981\u304c\u3042\u308b\u3002\u4ee5\u4e0b\u3067\u306f\uff0c\u307e\u305a`MultiIndex`\u306b\u3064\u3044\u3066\u8aac\u660e\u3057\uff0c\u305d\u306e\u5f8c\u306b`linearmodel`\u306b\u3042\u308b`PanelData`\u95a2\u6570\u306b\u3064\u3044\u3066\u8aac\u660e\u3059\u308b\n",
                "\n",
                "\u307e\u305a\uff0c\u3053\u306e\u30c8\u30d4\u30c3\u30af\u3067\u4f7f\u7528\u3059\u308b\u30d1\u30c3\u30b1\u30fc\u30b8\u3092\u5c0e\u5165\u3059\u308b\u3002"
            ]
        },
        {
            "cell_type": "markdown",
            "metadata": {
                "heading_collapsed": true
            },
            "source": [
                "## `Pandas`\u306e`MultiIndex`"
            ]
        },
        {
            "cell_type": "markdown",
            "metadata": {
                "heading_collapsed": true,
                "hidden": true
            },
            "source": [
                "### \u8aac\u660e"
            ]
        },
        {
            "cell_type": "markdown",
            "metadata": {
                "hidden": true
            },
            "source": [
                "\u30d1\u30cd\u30eb\u30fb\u30c7\u30fc\u30bf\u3092\u6271\u3046\u305f\u3081\u306b\u5fc5\u8981\u306a`Pandas`\u306e`MultiIndex`\u306b\u3064\u3044\u3066\u8aac\u660e\u3059\u308b\u3002`MultiIndex`\u3068\u306f\u884c\u3084\u5217\u306e\u30e9\u30d9\u30eb\u304c\u968e\u5c64\u7684\u306b\u306a\u3063\u305f`DataFrame`\u3084`Series`\u3092\u6307\u3059\u3002\u4ee5\u4e0b\u3067\u306f\uff0c`DataFrame`\u306e\u884c\u306b\u304a\u3051\u308b`MultiIndex`\u3092\u8aac\u660e\u3059\u308b\u3002\n",
                "\n",
                "\u307e\u305a\u30c7\u30fc\u30bf\u3092\u8aad\u307f\u8fbc\u3080\u3002"
            ]
        },
        {
            "cell_type": "code",
            "execution_count": null,
            "metadata": {},
            "outputs": [],
            "source": [
                "# url \u306e\u8a2d\u5b9a\n",
                "\n",
                "\n",
                "# \u8aad\u307f\u8fbc\u307f\n",
                "\n"
            ]
        },
        {
            "cell_type": "markdown",
            "metadata": {
                "hidden": true
            },
            "source": [
                "\u884c\u30fb\u5217\u3068\u3082\u306b\u30e9\u30d9\u30eb\u306e\u968e\u5c64\u306f\uff11\u3064\u305a\u3064\u3068\u306a\u3063\u3066\u3044\u308b\u3002`set_index()`\u3092\u4f7f\u3044\u884c\u306b`MultiIndex`\u3092\u4f5c\u6210\u3059\u308b\u304c\uff0c\u5f15\u6570\u306b\n",
                "\n",
                "$$\\left[\\text{\u7b2c\uff10id},\\text{\u7b2c\uff11id}\\right]$$\n",
                "\n",
                "\u3068\u3057\u968e\u5c64\u30a4\u30f3\u30c7\u30c3\u30af\u30b9\u5316\u3059\u308b\u3002\u3053\u3053\u3067\u30d1\u30cd\u30eb\u30fb\u30c7\u30fc\u30bf\u5206\u6790\u3092\u3059\u308b\u4e0a\u3067\u4ee5\u4e0b\u306e\u30eb\u30fc\u30eb\u306b\u5f93\u3046\u3053\u3068\u306b\u3059\u308b\u3002\n",
                "* \u7b2c\uff10id\uff1a\u89b3\u5bdf\u5358\u4f4d\uff08\u4f8b\u3048\u3070\uff0c\u6d88\u8cbb\u8005\uff0c\u4f01\u696d\uff0c\u56fd\uff09\n",
                "* \u7b2c\uff11id\uff1a\u6642\u9593\uff08\u4f8b\u3048\u3070\uff0c\u5e74\uff0c\u56db\u534a\u671f\uff09\n",
                "\n",
                "\u6b21\u306e\u4f8b\u3067\u306f`country`\u3068`year`\u306e\u884c\u3092\u305d\u308c\u305e\u308c\u7b2c\uff10\u30a4\u30f3\u30c7\u30c3\u30af\u30b9\uff0c\u7b2c\uff11\u30a4\u30f3\u30c7\u30c3\u30af\u30b9\u306b\u6307\u5b9a\u3059\u308b\u3002"
            ]
        },
        {
            "cell_type": "code",
            "execution_count": null,
            "metadata": {},
            "outputs": [],
            "source": [
                "\n"
            ]
        },
        {
            "cell_type": "markdown",
            "metadata": {
                "hidden": true
            },
            "source": [
                "\u968e\u5c64\u30a4\u30f3\u30c7\u30c3\u30af\u30b9\u304c\u7dba\u9e97\u306b\u4e26\u3093\u3067\u3044\u308b\u304c\uff0c\u5143\u306e\u30c7\u30fc\u30bf\u306e\u4e26\u3073\u65b9\u306b\u3088\u3063\u3066\u306f\u968e\u5c64\u30a4\u30f3\u30c7\u30c3\u30af\u30b9\u304c\u671f\u5f85\u901a\u308a\u306b\u4e26\u3070\u306a\u3044\u5834\u5408\u304c\u3042\u308a\u3048\u308b\u3002\u305d\u306e\u5834\u5408\u306f\uff0c\u30e1\u30bd\u30c3\u30c9`sort_index()`\u3092\u4f7f\u3046\u3068\u826f\u3044\u3060\u308d\u3046\u3002\n",
                "\n",
                "---\n",
                "`MultiIndex`\u3092\u89e3\u9664\u3059\u308b\u306b\u306f\u30e1\u30bd\u30c3\u30c9`.reset_index()`\u3092\u4f7f\u3046\u3002"
            ]
        },
        {
            "cell_type": "code",
            "execution_count": null,
            "metadata": {},
            "outputs": [],
            "source": []
        },
        {
            "cell_type": "markdown",
            "metadata": {
                "hidden": true
            },
            "source": [
                "### \u8981\u7d20\uff0c\u884c\uff0c\u5217\u306e\u62bd\u51fa"
            ]
        },
        {
            "cell_type": "markdown",
            "metadata": {
                "hidden": true
            },
            "source": [
                "`MultiIndex`\u306e\u307e\u307e\u8981\u7d20\u30fb\u5217\u30fb\u884c\u306e\u62bd\u51fa\u304a\u3088\u307c\u30b9\u30e9\u30a4\u30b7\u30f3\u30b0\u306b\u306f\u69d8\u3005\u306a\u65b9\u6cd5\u304c\u3042\u308a\uff0c\u8907\u96d1\u3067\u3042\u308b\u3002\u7279\u306b\uff0c\u30b9\u30e9\u30a4\u30b7\u30f3\u30b0\u3092\u3057\u305f\u3044\u5834\u5408\uff0c\u4e00\u756a\u7c21\u5358\u306a\u306e\u306f`reset_index()`\u3067\u901a\u5e38\u306e`DataFrame`\u306b\u623b\u3057\uff0c\u30b9\u30e9\u30a4\u30b7\u30f3\u30b0\u3057\u65b0\u305f\u306a`DataFrame`\u3092\u4f5c\u6210\u3059\u308b\u3060\u3051\u3067\u3082\u5341\u5206\u3067\u3042\u308d\u3046\u3002\n",
                "\n",
                "\u4ee5\u4e0b\u3067\u306f\uff0c`.loc[]`\u3092\u4f7f\u3044`MultiIndex`\u306e\u307e\u307e\u3067\u306e\u62bd\u51fa\u65b9\u6cd5\u306b\u3064\u3044\u3066\u7c21\u5358\u306b\u8aac\u660e\u3059\u308b\u3002\u305d\u306e\u969b\uff0c\u4ee5\u4e0b\u306e\u30eb\u30fc\u30eb\u306f\u5909\u308f\u3089\u306a\u3044\u3002\n",
                "\n",
                "$$.\\text{loc}\\left[\\text{\u884c\u306e\u6307\u5b9a},\\text{\u5217\u306e\u6307\u5b9a}\\right]$$\n",
                "\n",
                "\u305f\u3060\uff0c`\u884c\u306e\u6307\u5b9a`\u306b\u30ea\u30b9\u30c8\u3084\u30bf\u30d7\u30eb\u3092\u4f7f\u3046\u3053\u3068\u306b\u306a\u308b\uff08`\u5217\u306e\u6307\u5b9a`\u3082\u540c\u3058\uff09\u3002\n",
                "\n",
                "\u4ed6\u306e\u65b9\u6cd5\u306b\u3064\u3044\u3066\u306f[\u3053\u306e\u30b5\u30a4\u30c8](https://note.nkmk.me/python-pandas-multiindex-indexing/)\u3068[\u3053\u306e\u30b5\u30a4\u30c8](https://pandas.pydata.org/pandas-docs/stable/user_guide/advanced.html)\u304c\u53c2\u8003\u306b\u306a\u308b\u3002"
            ]
        },
        {
            "cell_type": "markdown",
            "metadata": {
                "hidden": true
            },
            "source": [
                "#### \uff11\u3064\u306e\u89b3\u5bdf\u5358\u4f4d\u306e\u62bd\u51fa"
            ]
        },
        {
            "cell_type": "markdown",
            "metadata": {
                "hidden": true
            },
            "source": [
                "\uff11\u3064\u306e\u8981\u7d20\u3092\u62bd\u51fa\u3059\u308b\u5834\u5408\u306f\uff0c\u30bf\u30d7\u30eb\u3092\u4f7f\u3046\u3002\u4f8b\u3048\u3070\uff0c\u65e5\u672c\u306e2001\u5e74\u306e`gdp`\u3092\u62bd\u51fa\u3057\u305f\u3044\u5834\u5408\u3002"
            ]
        },
        {
            "cell_type": "code",
            "execution_count": null,
            "metadata": {},
            "outputs": [],
            "source": []
        },
        {
            "cell_type": "markdown",
            "metadata": {
                "heading_collapsed": true,
                "hidden": true
            },
            "source": [
                "#### \u884c\u306e\u62bd\u51fa"
            ]
        },
        {
            "cell_type": "markdown",
            "metadata": {
                "hidden": true
            },
            "source": [
                "\u4e0a\u306e\u4f8b\u3067\u5217\u306e\u6307\u5b9a\u3092`:`\u306b\u3059\u308b\u3068\uff0c\u6307\u5b9a\u3057\u305f\u884c\u306b\u5bfe\u3057\u3066\u5168\u3066\u306e\u5217\u3092\u62bd\u51fa\u3067\u304d\u308b\u3002"
            ]
        },
        {
            "cell_type": "code",
            "execution_count": null,
            "metadata": {},
            "outputs": [],
            "source": []
        },
        {
            "cell_type": "markdown",
            "metadata": {
                "hidden": true
            },
            "source": [
                "\u3053\u306e\u5834\u5408\uff0c\u5217\u306b\u5bfe\u3057\u3066\u30b9\u30e9\u30a4\u30b7\u30f3\u30b0\u3082\u53ef\u80fd\u3002"
            ]
        },
        {
            "cell_type": "code",
            "execution_count": null,
            "metadata": {},
            "outputs": [],
            "source": []
        },
        {
            "cell_type": "markdown",
            "metadata": {
                "hidden": true
            },
            "source": [
                "\u6307\u5b9a\u3057\u305f\u884c\u306b\u5bfe\u3057\u3066\u500b\u5225\u306b\u8907\u6570\u5217\u3092\u62bd\u51fa\u3057\u305f\u3044\u5834\u5408\u306f\uff0c\u30bf\u30d7\u30eb\u3092\u4f7f\u3046\u3002"
            ]
        },
        {
            "cell_type": "code",
            "execution_count": null,
            "metadata": {},
            "outputs": [],
            "source": []
        },
        {
            "cell_type": "markdown",
            "metadata": {
                "hidden": true
            },
            "source": [
                "\u8907\u6570\u884c\u306e\u62bd\u51fa\u306b\u306f\u30ea\u30b9\u30c8\u3067\u6307\u5b9a\u3059\u308b\u3002"
            ]
        },
        {
            "cell_type": "code",
            "execution_count": null,
            "metadata": {},
            "outputs": [],
            "source": []
        },
        {
            "cell_type": "markdown",
            "metadata": {
                "heading_collapsed": true,
                "hidden": true
            },
            "source": [
                "#### \u7b2c\uff10\u30a4\u30f3\u30c7\u30c3\u30af\u30b9\u306e\u89b3\u5bdf\u5358\u4f4d\u306e\u5168\u3066"
            ]
        },
        {
            "cell_type": "markdown",
            "metadata": {
                "hidden": true
            },
            "source": [
                "\u7b2c\uff10\u30a4\u30f3\u30c7\u30c3\u30af\u30b9\u306b\u3042\u308b\uff0c\u3042\u308b\u89b3\u5bdf\u5358\u4f4d\u306e\u5168\u3066\u306e\u30c7\u30fc\u30bf\u3060\u3051\u3092\u62bd\u51fa\u3057\u305f\u3044\u5834\u5408\u306f\uff0c\u901a\u5e38\u306e`Pandas`\u306e\u5834\u5408\u3068\u540c\u3058\u3002"
            ]
        },
        {
            "cell_type": "code",
            "execution_count": null,
            "metadata": {},
            "outputs": [],
            "source": []
        },
        {
            "cell_type": "markdown",
            "metadata": {
                "hidden": true
            },
            "source": [
                "\u8907\u6570\u306e\u5834\u5408\u3002"
            ]
        },
        {
            "cell_type": "code",
            "execution_count": null,
            "metadata": {},
            "outputs": [],
            "source": []
        },
        {
            "cell_type": "markdown",
            "metadata": {
                "heading_collapsed": true,
                "hidden": true
            },
            "source": [
                "#### \u5217\u306e\u62bd\u51fa"
            ]
        },
        {
            "cell_type": "markdown",
            "metadata": {
                "hidden": true
            },
            "source": [
                "\u901a\u5e38\u306e`Pandas`\u3068\u540c\u3058\u3002`Series`\u3092\u8fd4\u3059\u5834\u5408\u3002"
            ]
        },
        {
            "cell_type": "code",
            "execution_count": null,
            "metadata": {},
            "outputs": [],
            "source": []
        },
        {
            "cell_type": "markdown",
            "metadata": {
                "hidden": true
            },
            "source": [
                "`[]`\u3092\u4f7f\u3046\u3068\uff0c`DataFrame`\u3068\u3057\u3066\u62bd\u51fa\u3067\u304d\u308b\u3002"
            ]
        },
        {
            "cell_type": "code",
            "execution_count": null,
            "metadata": {},
            "outputs": [],
            "source": []
        },
        {
            "cell_type": "markdown",
            "metadata": {
                "hidden": true
            },
            "source": [
                "\u8907\u6570\u5217\u62bd\u51fa\u306e\u5834\u5408\u3002"
            ]
        },
        {
            "cell_type": "code",
            "execution_count": null,
            "metadata": {},
            "outputs": [],
            "source": []
        },
        {
            "cell_type": "markdown",
            "metadata": {
                "hidden": true
            },
            "source": [
                "\u30b9\u30e9\u30a4\u30b7\u30f3\u30b0\u3082\u4f7f\u3048\u308b\u3002"
            ]
        },
        {
            "cell_type": "code",
            "execution_count": null,
            "metadata": {},
            "outputs": [],
            "source": []
        },
        {
            "cell_type": "markdown",
            "metadata": {
                "heading_collapsed": true,
                "hidden": true
            },
            "source": [
                "#### \u7b2c\uff11\u30a4\u30f3\u30c7\u30c3\u30af\u30b9\u306e\u3042\u308b\u5e74\u3060\u3051\u306e\u62bd\u51fa"
            ]
        },
        {
            "cell_type": "markdown",
            "metadata": {
                "hidden": true
            },
            "source": [
                "\u4e00\u756a\u7c21\u5358\u306a\u65b9\u6cd5\u306f`reset_index()`\u3092\u4f7f\u3044\u4eca\u307e\u3067\u7fd2\u3063\u305f\u95a2\u6570\u3092\u4f7f\u3046\u3002"
            ]
        },
        {
            "cell_type": "code",
            "execution_count": null,
            "metadata": {},
            "outputs": [],
            "source": []
        },
        {
            "cell_type": "markdown",
            "metadata": {
                "hidden": true
            },
            "source": [
                "\u8907\u6570\u5e74\u306e\u5834\u5408\u3002"
            ]
        },
        {
            "cell_type": "code",
            "execution_count": null,
            "metadata": {},
            "outputs": [],
            "source": []
        },
        {
            "cell_type": "markdown",
            "metadata": {
                "hidden": true
            },
            "source": [
                "\u4e0a\u3068\u540c\u3058\u7d50\u679c\u3002"
            ]
        },
        {
            "cell_type": "code",
            "execution_count": null,
            "metadata": {},
            "outputs": [],
            "source": []
        },
        {
            "cell_type": "markdown",
            "metadata": {
                "heading_collapsed": true
            },
            "source": [
                "## `linearmodels`\u306e`PanelData`"
            ]
        },
        {
            "cell_type": "markdown",
            "metadata": {
                "hidden": true
            },
            "source": [
                "`linearmodels`\u3067\u306f`MultiIndex`\u5316\u3055\u308c\u305f`DataFrame`\u3092\u305d\u306e\u307e\u307e\u8aad\u307f\u8fbc\u307f\u63a8\u5b9a\u3059\u308b\u3053\u3068\u304c\u3067\u304d\u308b\u3002\u4e00\u65b9\u3067\uff0c`linearmodels`\u306e\u95a2\u6570`PanelData`\u3092\u4f7f\u3044`MultiIndex`\u5316\u3055\u308c\u305f`DataFrame`\u3092`PanelData`\u30aa\u30d6\u30b8\u30a7\u30af\u30c8\u306b\u5909\u63db\u3059\u308b\u3068\u5206\u6790\u306b\u5fc5\u8981\u306a\u8a08\u7b97\u3092\u7c21\u5358\u306b\u3067\u304d\u308b\u3088\u3046\u306b\u306a\u308b\u3002\u5fc5\u9808\u3067\u306f\u306a\u3044\u304c\uff0c\u77e5\u3063\u3066\u3044\u3066\u640d\u306f\u3057\u306a\u3044\u95a2\u6570\u3067\u3042\u308b\u3002\n",
                "\n",
                "\u307e\u305a`df`\u3092`PanelData`\u30aa\u30d6\u30b8\u30a7\u30af\u30c8\u306b\u5909\u63db\u3059\u308b\u3002"
            ]
        },
        {
            "cell_type": "code",
            "execution_count": null,
            "metadata": {},
            "outputs": [],
            "source": [
                "\n"
            ]
        },
        {
            "cell_type": "markdown",
            "metadata": {
                "hidden": true
            },
            "source": [
                "---\n",
                "\u5c5e\u6027`shape`\u306f\uff0c`PanelData`\u306e\u5909\u6570\u306e\u6570\u3092\u8868\u793a\u3059\u308b\u3002\u4ee5\u4e0b\u304c\u8fd4\u308a\u5024\u306e\u5185\u5bb9\u3067\u3042\u308b\u3002\n",
                "\n",
                "$$\n",
                "\\left(\\text{\u5909\u6570\u306e\u6570},\\text{\u671f\u9593\u6570},\\text{\u89b3\u5bdf\u5358\u4f4d\u306e\u6570}\\right)\n",
                "$$"
            ]
        },
        {
            "cell_type": "code",
            "execution_count": null,
            "metadata": {},
            "outputs": [],
            "source": []
        },
        {
            "cell_type": "markdown",
            "metadata": {
                "hidden": true
            },
            "source": [
                "* \u5909\u6570\u306e\u6570\uff1a4\uff08\u5217\u306b\u3042\u308b\u5909\u6570\uff09\n",
                "* \u671f\u9593\u6570\uff1a3\uff08\u5e74\uff09\n",
                "* \u89b3\u5bdf\u5358\u4f4d\u306e\u6570\uff1a3\uff08\u56fd\uff09"
            ]
        },
        {
            "cell_type": "markdown",
            "metadata": {
                "hidden": true
            },
            "source": [
                "---\n",
                "\u30c7\u30fc\u30bf\u30bb\u30c3\u30c8\u306b\u306f\u6b20\u640d\u5024\u304c\u3042\u308b\u5834\u5408\u304c\u3042\u308b\u3002\u89b3\u5bdf\u5358\u4f4d\u6570\u304c$N$\u3067\u671f\u9593\u6570\u304c$T$\u306e\u5834\u5408\uff0c\u89b3\u6e2c\u5024\u306e\u6570\u306f$n=N\\times T$\u3068\u306a\u308b\u304c\uff0c\u6b21\u306e2\u3064\u3092\u533a\u5225\u3059\u308b\u3002\n",
                "* balanced panel data\uff1a$n=N\\times T$\uff08\u89b3\u5bdf\u5358\u4f4d\u306b\u5bfe\u3057\u3066\u5168\u3066\u306e\u671f\u9593\u306e\u5168\u3066\u306e\u5909\u6570\u306b\u6b20\u640d\u5024\u304c\u306a\u3044\uff09\n",
                "* unbalanced panel data\uff1a$n<N\\times T$\uff08\u6b20\u640d\u5024\u304c\u3042\u308b\uff09\n",
                "\n",
                "balanced \u304b unbalanced\u304b\u306f\u4ee5\u4e0b\u306e\u30b3\u30fc\u30c9\u3067\u78ba\u8a8d\u3067\u304d\u308b\u3002\u307e\u305a\uff0c\u30e1\u30bd\u30c3\u30c9`count()`\u3092\u4f7f\u3046\u3002"
            ]
        },
        {
            "cell_type": "code",
            "execution_count": null,
            "metadata": {},
            "outputs": [],
            "source": []
        },
        {
            "cell_type": "markdown",
            "metadata": {
                "hidden": true
            },
            "source": [
                "\u89b3\u5bdf\u5358\u4f4d\uff08\u56fd\uff09\u306b\u5bfe\u3057\u3066\uff0c\u305d\u308c\u305e\u308c\u306e\u5909\u6570\u306b\u6b20\u640d\u5024\u3067\u306f\u306a\u3044\u89b3\u6e2c\u5024\u304c\u3044\u304f\u3064\u5b58\u5728\u3059\u308b\u304b\u3092`DataFrame`\u3068\u3057\u3066\u8fd4\u3059\u3002\u671f\u9593\u6570\u306f3\u306a\u306e\u3067\uff0c3\u3088\u308a\u4f4e\u3044\u6570\u5b57\u304c\u3042\u308c\u3070\u6b20\u640d\u5024\u306e\u5b58\u5728\u3092\u8868\u3059\u3002\u4f8b\u3048\u3070\uff0cAustralia\u306e`inv`\u306b\u306f\u6b20\u640d\u5024\u304c\u3042\u308b\u3002\n",
                "\n",
                "\u6b21\u306e\u30b3\u30fc\u30c9\u306f\uff0c\u6b20\u640d\u5024\u304c\u3042\u308b\u5834\u5408\u306b\u306f`True`\u3092\u8fd4\u3059\u3002\u3053\u3053\u3067`nobs`\u306f\u671f\u9593\u6570\uff08\u3053\u306e\u5834\u54083\uff09\u3092\u8fd4\u3059\u5c5e\u6027\u3067\u3042\u308b\u3002"
            ]
        },
        {
            "cell_type": "code",
            "execution_count": null,
            "metadata": {},
            "outputs": [],
            "source": []
        },
        {
            "cell_type": "markdown",
            "metadata": {
                "hidden": true
            },
            "source": [
                "`all()`\u306f\uff0c\u5217\u306b\u5bfe\u3057\u3066\u5168\u3066\u306e\u8981\u7d20\u304c`True`\u306e\u5834\u5408\u306e\u307f`True`\u3092\u8fd4\u3059\u306e\u3067\uff0c\u3053\u308c\u3092\u4f7f\u3044\u78ba\u8a8d\u3067\u304d\u308b\u3002"
            ]
        },
        {
            "cell_type": "code",
            "execution_count": null,
            "metadata": {},
            "outputs": [],
            "source": []
        },
        {
            "cell_type": "markdown",
            "metadata": {
                "hidden": true
            },
            "source": [
                "`( )`\u306f\u305d\u306e\u4e2d\u3092\u5148\u306b\u8a55\u4fa1\u3059\u308b\uff0c\u3068\u3044\u3046\u610f\u5473\uff08\u6570\u5b66\u3068\u540c\u3058\uff09\u3002\u5909\u6570\u304c\u591a\u3044\u5834\u5408\uff0c`all()`\u30922\u56de\u4f7f\u3046\u3068\u5168\u3066\u306e\u5909\u6570\u306b\u5bfe\u3057\u3066\u8a55\u4fa1\u3059\u308b\u306e\u3067\u4fbf\u5229\u3067\u3042\u308b\u3002"
            ]
        },
        {
            "cell_type": "code",
            "execution_count": null,
            "metadata": {},
            "outputs": [],
            "source": []
        },
        {
            "cell_type": "markdown",
            "metadata": {
                "hidden": true
            },
            "source": [
                "`False`\u306a\u306e\u3067 unbalanced panel data \u3068\u3044\u3046\u3053\u3068\u304c\u78ba\u8a8d\u3067\u304d\u305f\u3002"
            ]
        },
        {
            "cell_type": "markdown",
            "metadata": {
                "hidden": true
            },
            "source": [
                "---\n",
                "\u5909\u6570\u306e\u89b3\u5bdf\u5358\u4f4d\u6bce\u306e\u5e73\u5747\u306e\u8a08\u7b97"
            ]
        },
        {
            "cell_type": "code",
            "execution_count": null,
            "metadata": {},
            "outputs": [],
            "source": []
        },
        {
            "cell_type": "markdown",
            "metadata": {
                "hidden": true
            },
            "source": [
                "---\n",
                "\u5909\u6570\u306e\u6642\u9593\u6bce\u306e\u5e73\u5747\u306e\u8a08\u7b97"
            ]
        },
        {
            "cell_type": "code",
            "execution_count": null,
            "metadata": {},
            "outputs": [],
            "source": []
        },
        {
            "cell_type": "markdown",
            "metadata": {
                "hidden": true
            },
            "source": [
                "---\n",
                "\u5909\u6570\u306e\u5e73\u5747\u304b\u3089\u306e\u4e56\u96e2\u3000$x-\\bar{x}$\uff0c$\\bar{x}$\u306f\u5e73\u5747\u3002"
            ]
        },
        {
            "cell_type": "code",
            "execution_count": null,
            "metadata": {},
            "outputs": [],
            "source": []
        },
        {
            "cell_type": "markdown",
            "metadata": {
                "hidden": true
            },
            "source": [
                "---\n",
                "\u5909\u6570\u306e\uff11\u968e\u968e\u5dee\u306e\u8a08\u7b97\u3000$x_t-x_{t-1}$"
            ]
        },
        {
            "cell_type": "code",
            "execution_count": null,
            "metadata": {},
            "outputs": [],
            "source": []
        },
        {
            "cell_type": "markdown",
            "metadata": {
                "hidden": true
            },
            "source": [
                "---\n",
                "\uff08\u6ce8\u610f\uff09\n",
                "\n",
                "`DataFrame`\u306e\u30e1\u30bd\u30c3\u30c9\u306f`PanelData`\u30aa\u30d6\u30b8\u30a7\u30af\u30c8\u306b\u306f\u4f7f\u3048\u306a\u3044\u3002\n",
                "\n",
                "\u5f93\u3063\u3066\uff0c`DataFrame`\u306e\u30e1\u30bd\u30c3\u30c9\uff08\u4f8b\u3048\u3070\uff0c\u884c\u3084\u5217\u306e\u62bd\u51fa\uff09\u3092\u4f7f\u3046\u5834\u5408\uff0c`DataFrame`\u306b\u5909\u63db\u3059\u308b\u5fc5\u8981\u304c\u3042\u308b\u3002\u305d\u306e\u969b\uff0c`PanelData`\u30aa\u30d6\u30b8\u30a7\u30af\u30c8\u306e\u5c5e\u6027`.dataframe`\u3092\u4f7f\u3046\u3053\u3068\u304c\u3067\u304d\u308b\u3002"
            ]
        },
        {
            "cell_type": "code",
            "execution_count": null,
            "metadata": {},
            "outputs": [],
            "source": []
        },
        {
            "cell_type": "markdown",
            "metadata": {
                "heading_collapsed": true
            },
            "source": [
                "## \uff11\u968e\u5dee\u5206\u63a8\u5b9a\uff08\u518d\u8003\uff09"
            ]
        },
        {
            "cell_type": "markdown",
            "metadata": {
                "hidden": true
            },
            "source": [
                "\u3053\u3053\u3067\u306f`linearmodels`\u3092\u4f7f\u3044\uff0c\u4ee5\u524d\u884c\u3063\u305f\uff11\u968e\u5dee\u5206\u63a8\u5b9a\u3092\u518d\u8003\u3059\u308b\u3002\u30c7\u30fc\u30bf`crime4`\u3092\u4f7f\u3046\u3002"
            ]
        },
        {
            "cell_type": "code",
            "execution_count": null,
            "metadata": {},
            "outputs": [],
            "source": [
                "\n"
            ]
        },
        {
            "cell_type": "markdown",
            "metadata": {
                "hidden": true
            },
            "source": [
                "`county`\u3068`year`\u3092\u4f7f\u3044`MultiIndex`\u5316\u3059\u308b\u3002"
            ]
        },
        {
            "cell_type": "code",
            "execution_count": null,
            "metadata": {},
            "outputs": [],
            "source": [
                "\n"
            ]
        },
        {
            "cell_type": "markdown",
            "metadata": {
                "hidden": true
            },
            "source": [
                "\u6b21\u306b`PanelData`\u30aa\u30d6\u30b8\u30a7\u30af\u30c8\u306b\u5909\u63db\u3057\u30c7\u30fc\u30bf\u306e\u7279\u5fb4\u3092\u8abf\u3079\u308b\u3002"
            ]
        },
        {
            "cell_type": "code",
            "execution_count": null,
            "metadata": {},
            "outputs": [],
            "source": [
                "\n"
            ]
        },
        {
            "cell_type": "markdown",
            "metadata": {
                "hidden": true
            },
            "source": [
                "* 57: \u5909\u6570\u306e\u6570\n",
                "* 7: \u671f\u9593\u6570\uff08\u5e74\uff09\n",
                "* 90\uff1a\u89b3\u5bdf\u5358\u4f4d\u306e\u6570\uff08\u4eba\u6570\uff09"
            ]
        },
        {
            "cell_type": "markdown",
            "metadata": {
                "hidden": true
            },
            "source": [
                "\u6b21\u306b\uff0cbalanced \u3082\u3057\u304f\u306f unbalanced data set \u304b\u3092\u78ba\u8a8d\u3059\u308b\u3002"
            ]
        },
        {
            "cell_type": "code",
            "execution_count": null,
            "metadata": {},
            "outputs": [],
            "source": []
        },
        {
            "cell_type": "markdown",
            "metadata": {
                "hidden": true
            },
            "source": [
                "---\n",
                "\u5b9f\u969b\u306b\u56de\u5e30\u5f0f\u3092\u66f8\u304f\u3053\u3068\u306b\u3059\u308b\u3002\u4f7f\u3044\u65b9\u306f`statsmodels`\u3068\u4f3c\u3066\u3044\u308b\u3002\n",
                "* `FirstDifferenceOLS`\u30e2\u30b8\u30e5\u30fc\u30eb\u306e\u95a2\u6570`.from_formula`\u3092\u4f7f\u3044\u6b21\u306e\u3088\u3046\u306b\u5f15\u6570\u3092\u6307\u5b9a\u3059\u308b\u3002\n",
                "\n",
                "$$\\text{.from_formula}(\\text{\u56de\u5e30\u5f0f}, \\text{\u30c7\u30fc\u30bf})$$\n",
                "\n",
                "* \u5b9a\u6570\u9805\u3092\u5165\u308c\u308b\u3053\u3068\u306f\u3067\u304d\u306a\u3044\u4ed5\u69d8\u3068\u306a\u3063\u3066\u3044\u308b\u3002\n",
                "* \u3053\u3053\u3067\u306f\uff0c\u4ee5\u524d\u306e\u63a8\u5b9a\u7d50\u679c\u3068\u6bd4\u3079\u308b\u305f\u3081\u306b\uff0c\u30c0\u30df\u30fc\u5909\u6570`d82`\u3092\u8ffd\u52a0\u3059\u308b\u3002"
            ]
        },
        {
            "cell_type": "code",
            "execution_count": null,
            "metadata": {},
            "outputs": [],
            "source": [
                "\n"
            ]
        },
        {
            "cell_type": "markdown",
            "metadata": {
                "hidden": true
            },
            "source": [
                "* \uff11\u968e\u5dee\u5206\u30e2\u30c7\u30eb\u306e\u30a4\u30f3\u30b9\u30bf\u30f3\u30b9\u306e\u4f5c\u6210"
            ]
        },
        {
            "cell_type": "code",
            "execution_count": null,
            "metadata": {},
            "outputs": [],
            "source": []
        },
        {
            "cell_type": "markdown",
            "metadata": {
                "hidden": true
            },
            "source": [
                "* `statsmodels`\u3068\u540c\u3058\u3088\u3046\u306b\uff0c\u305d\u3053\u304b\u3089\u5f97\u305f\u7d50\u679c\u306b\u30e1\u30bd\u30c3\u30c9`.fit()`\u3092\u4f7f\u3044\u8a08\u7b97\u3057\u7d50\u679c\u304c\u8fd4\u3055\u308c\u308b\u3002"
            ]
        },
        {
            "cell_type": "code",
            "execution_count": null,
            "metadata": {},
            "outputs": [],
            "source": []
        },
        {
            "cell_type": "markdown",
            "metadata": {
                "hidden": true
            },
            "source": [
                "\uff1c\u7d50\u679c\u306e\u8868\u793a\u65b9\u6cd5\uff1e\n",
                "1. `res_dif`\u3092\u5b9f\u884c\u3002\n",
                "1. `res_dif`\u306b\u95a2\u6570`print()`\u3092\u4f7f\u3046\u3068\u898b\u3084\u3059\u3044\u3002\n",
                "1. `res_dif`\u306b\u306f\u5c5e\u6027`summary`\u304c\u7528\u610f\u3055\u308c\u3066\u3044\u308b\u304c\uff0c\u8868\u793a\u65b9\u6cd51\u3068\u540c\u3058\u3002\n",
                "1. `summary`\u306b\u306f\u5c5e\u6027`tables`\u304c\u3042\u308a\uff0c\uff12\u3064\u306e\u8868\u304c\u30ea\u30b9\u30c8\u3068\u3057\u3066\u683c\u7d0d\u3055\u308c\u3066\u3044\u308b\u3002\n",
                "    * `tables[0]`\uff1a\u691c\u5b9a\u7d71\u8a08\u91cf\u306e\u8868\uff08`print()`\u3092\u4f7f\u3046\u3068\u898b\u3084\u3059\u304f\u306a\u308b\uff09\n",
                "    * `tables[1]`\uff1a\u4fc2\u6570\u306e\u63a8\u5b9a\u5024\u3084p\u5024\u306a\u3069\u306e\u8868\uff08`print()`\u3092\u4f7f\u3046\u3068\u898b\u3084\u3059\u304f\u306a\u308b\uff09"
            ]
        },
        {
            "cell_type": "code",
            "execution_count": null,
            "metadata": {},
            "outputs": [],
            "source": []
        },
        {
            "cell_type": "markdown",
            "metadata": {
                "hidden": true
            },
            "source": [
                "\u63a8\u5b9a\u7d50\u679c\u306f\u4ee5\u524d\u306e\u3082\u306e\u3068\u540c\u3058\u3067\u3042\u308b\u3002"
            ]
        }
    ],
    "metadata": {
        "celltoolbar": "Tags",
        "kernelspec": {
            "display_name": "latest",
            "language": "python",
            "name": "latest"
        },
        "language_info": {
            "codemirror_mode": {
                "name": "ipython",
                "version": 3
            },
            "file_extension": ".py",
            "mimetype": "text/x-python",
            "name": "python",
            "nbconvert_exporter": "python",
            "pygments_lexer": "ipython3",
            "version": "3.8.2"
        },
        "toc": {
            "base_numbering": 1,
            "nav_menu": {},
            "number_sections": true,
            "sideBar": true,
            "skip_h1_title": false,
            "title_cell": "Table of Contents",
            "title_sidebar": "Contents",
            "toc_cell": false,
            "toc_position": {},
            "toc_section_display": true,
            "toc_window_display": false
        }
    },
    "nbformat": 4,
    "nbformat_minor": 2
}