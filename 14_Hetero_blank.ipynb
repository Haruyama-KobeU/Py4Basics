{
    "cells": [
        {
            "cell_type": "markdown",
            "metadata": {},
            "source": [
                "# \u4e0d\u5747\u4e00\u5206\u6563"
            ]
        },
        {
            "cell_type": "code",
            "execution_count": null,
            "metadata": {},
            "outputs": [],
            "source": [
                "\n",
                "\n",
                "",
                "",
                "",
                "",
                "",
                "",
                ""
            ]
        },
        {
            "cell_type": "markdown",
            "metadata": {
                "heading_collapsed": true
            },
            "source": [
                "## \u8aac\u660e"
            ]
        },
        {
            "cell_type": "markdown",
            "metadata": {
                "hidden": true
            },
            "source": [
                "**\uff1c\u4eee\u5b9a\uff15\uff08\u5747\u4e00\u5206\u6563; Homogeneity\uff09\u304c\u6e80\u305f\u3055\u308c\u306a\u3044\u5834\u5408\uff1e**"
            ]
        },
        {
            "cell_type": "markdown",
            "metadata": {
                "hidden": true
            },
            "source": [
                "\u4eee\u5b9a\uff15\u306e\u5747\u4e00\u5206\u6563\u306e\u4e0b\u3067\u306f\u8aac\u660e\u5909\u6570\u306f\u8aa4\u5dee\u9805\u306e\u5206\u6563\u306b\u5f71\u97ff\u3092\u4e0e\u3048\u306a\u3044\u3002\u5373\u3061\uff0c\n",
                "\n",
                "$$\\text{Var}\\left(u|x\\right)=\\sigma^2$$\n",
                "\n",
                "\u3053\u306e\u4eee\u5b9a\u306b\u95a2\u9023\u3057\u3066\u6b21\u306e\u70b9\u306b\u3064\u3044\u3066\u7559\u610f\u3059\u308b\u5fc5\u8981\u304c\u3042\u308b\u3002\n",
                "* \u5747\u4e00\u5206\u6563\u304c\u6e80\u305f\u3055\u308c\u306a\u3044\u5834\u5408\u3067\u3082\uff0c\n",
                "    * \u4eee\u5b9a\uff11\u301c\uff14\u306e\u3082\u3068\u3067OLS\u63a8\u5b9a\u91cf $\\hat{\\beta}_j$\u306e\u4e0d\u904d\u6027\u3068\u4e00\u81f4\u6027\u306f\u6210\u7acb\u3059\u308b\u3002\n",
                "    * $R^2$\u306e\u89e3\u91c8\u306f\u5909\u308f\u3089\u306a\u3044\u3002\n",
                "* \u3057\u304b\u3057\uff0c\u5747\u4e00\u5206\u6563\u304c\u6e80\u305f\u3055\u308c\u306a\u3044\u5834\u5408\uff0c\n",
                "    * OLS\u63a8\u5b9a\u91cf\u306e\u6a19\u6e96\u504f\u5dee\u306e\u63a8\u5b9a\u91cf\u3067\u3042\u308b\u6a19\u6e96\u8aa4\u5dee$\\text{se}\\left(\\hat{\\beta}_j\\right)$\u306f\u7121\u52b9\u3068\u306a\u308b\u3002\u5f93\u3063\u3066\uff0c$t$\u691c\u5b9a\u3068$F$\u691c\u5b9a\u3082\u7121\u52b9\u306b\u306a\u308b\u3002\n",
                "    * \u5927\u6a19\u672c\u7279\u6027\uff08\u6f38\u8fd1\u7684\u7279\u6027\uff09\u3082\u6210\u7acb\u3057\u306a\u3044\u3002\u5f93\u3063\u3066\uff0c\u5927\u6a19\u672c\u3067\u3042\u3063\u3066\u3082$t$\u691c\u5b9a\u3068$F$\u691c\u5b9a\u3082\u7121\u52b9\u306b\u306a\u308b\u3002\n",
                "\n",
                "\u4eee\u8aac\u3092\u691c\u8a3c\u3059\u308b\u3068\u3044\u3046\u3053\u3068\u3092\u76ee\u7684\u3068\u3059\u308b\u3068\uff0c\u691c\u5b9a\u304c\u7121\u52b9\u3068\u3044\u3046\u306e\u306f\u81f4\u547d\u7684\u306a\u554f\u984c\u3067\u3042\u308b\u3002\u7279\u306b\uff0c\u4e0d\u5747\u4e00\u5206\u6563\uff08Heteroskedasticity\uff09\u306e\u554f\u984c\u306f\uff0c\u6a2a\u65ad\u9762\u30c7\u30fc\u30bf\u3092\u4f7f\u3046\u3068\u983b\u7e41\u306b\u51fa\u3066\u304f\u308b\u554f\u984c\u3067\u3042\u308b\u3002\u3067\u306f\u3069\u306e\u3088\u3046\u306b\u5bfe\u5fdc\u3059\u308c\u3070\u3088\u3044\u306e\u304b\u3002"
            ]
        },
        {
            "cell_type": "markdown",
            "metadata": {
                "hidden": true
            },
            "source": [
                "---\n",
                "**\u4e0d\u5747\u4e00\u5206\u6563\u9811\u5065\u7684\u63a8\u5b9a\uff08Heteroskedasticity-Robust Inference\uff09**\n",
                "\n",
                "\u3053\u306e\u624b\u6cd5\u3092\u4f7f\u3046\u3068\uff0cOLS\u63a8\u5b9a\u91cf\u306e\u6a19\u6e96\u8aa4\u5dee\u304c\u8abf\u6574\u3055\u308c**\u672a\u77e5\u306e**\u4e0d\u5747\u4e00\u5206\u6563\u3067\u3042\u3063\u3066\u3082\uff0c$t$\u691c\u5b9a\uff0c$F$\u691c\n",
                "\u5b9a\u304c\u6709\u52b9\u306b\u306a\u308b\u3068\u3044\u3046\u3082\u306e\u3067\u3042\u308b\u3002\n",
                "\n",
                "\uff08\u7406\u7531\uff09\u5747\u4e00\u5206\u6563\u3067\u3042\u3063\u3066\u3082\u4e0d\u5747\u4e00\u5206\u6563\u3067\u3042\u3063\u3066\u3082\uff0c$n\\rightarrow\\infty$\u306e\u5834\u5408\uff0c\u4e0d\u5747\u4e00\u5206\u6563\u9811\u5065\u7684\u63a8\u5b9a\u306e$t$($F$)\u5024\u306f$t$($F$)\u5206\u5e03\u306b\u5f93\u3046\u3002\u8a00\u3044\u63db\u3048\u308b\u3068\uff0c\u6a19\u672c\u306e\u5927\u304d\u3055\u304c\u5341\u5206\u306b\u5927\u304d\u3051\u308c\u3070\uff0c$t$($F$)\u5024\u306e\u5206\u5e03\u306f$t$($F$)\u5206\u5e03\u3067\u8fd1\u4f3c\u3067\u304d\u308b\u3068\u3044\u3046\u3053\u3068\u3067\u3042\u308b\u3002\n",
                "\n",
                "\u66f4\u306a\u308b\u5229\u70b9\u306f\uff0c\u901a\u5e38\u306eOLS\u63a8\u5b9a\u306e\u5f8c\u306b\u6a19\u6e96\u8aa4\u5dee\u306e\u8abf\u6574\u304c\u65bd\u3055\u308c\uff0c\u8a08\u7b97\u306f`statsmodels`\u3092\u4f7f\u3046\u3068\u7c21\u5358\u306b\u304a\u3053\u306a\u3046\u3053\u3068\u304c\u53ef\u80fd\u3067\u3042\u308b\u3002\n",
                "\n",
                "\uff08\u6ce8\u610f\uff09\u5927\u6a19\u672c\u3067\u306e\u307f\u6709\u52b9\u3002"
            ]
        },
        {
            "cell_type": "markdown",
            "metadata": {
                "hidden": true
            },
            "source": [
                "---\n",
                "\u4e0d\u5747\u4e00\u5206\u6563\u9811\u5065\u7684\u63a8\u5b9a\u3067\u306f\uff0cOLS\u63a8\u5b9a\u306e\u5171\u5206\u6563\u884c\u5217\uff08covariance matrix\uff09\u3068\u547c\u3070\u308c\u308b\u7b87\u6240\u3092\u8abf\u6574\u3057\uff0cOLS\u63a8\u5b9a\u91cf\u306e\u6a19\u6e96\u8aa4\u5dee\u3092\u4fee\u6b63\u3059\u308b\u3002\u305d\u306e\u8abf\u6574\u65b9\u6cd5\u304c\u8907\u6570\u63d0\u6848\u3055\u308c\u3066\u3044\u304a\u308a\uff0c`statsmodels`\u3067\u306f\u4ee5\u4e0b\u306e\u7a2e\u985e\u306b\u5bfe\u5fdc\u3057\u3066\u3044\u308b\u3002\n",
                "* `HC0`: White (1980)\u306e\u4e0d\u5747\u4e00\u5206\u6563\u9811\u5065\u5171\u5206\u6563\u884c\u5217\u63a8\u5b9a\n",
                "* `HC1`: MacKinnon and White (1985)\u306e\u4e0d\u5747\u4e00\u5206\u6563\u9811\u5065\u5171\u5206\u6563\u884c\u5217\u63a8\u5b9av1\n",
                "* `HC2`: MacKinnon and White (1985)\u306e\u4e0d\u5747\u4e00\u5206\u6563\u9811\u5065\u5171\u5206\u6563\u884c\u5217\u63a8\u5b9av2\n",
                "* `HC3`: MacKinnon and White (1985)\u306e\u4e0d\u5747\u4e00\u5206\u6563\u9811\u5065\u5171\u5206\u6563\u884c\u5217\u63a8\u5b9av3\n",
                "\n",
                "\u3053\u3053\u3067`HC`\u306f`H`eteroskedasticity-`C`onsistent Covariance Matrix Estimators\u306e`H`\u3068`C`\u3002\n",
                "\n",
                "\u4e0d\u5747\u4e00\u5206\u6563\u9811\u5065\u5171\u5206\u6563\u884c\u5217\u63a8\u5b9a\u3092\u4f7f\u3044\u8a08\u7b97\u3057\u305f$t$\u5024\u3084$F$\u5024\u3092**\u9811\u5065\u7684$t$\u5024**\uff0c**\u9811\u5065\u7684$F$\u5024**\u3068\u547c\u3076\u3053\u3068\u306b\u3059\u308b\u3002"
            ]
        },
        {
            "cell_type": "markdown",
            "metadata": {
                "hidden": true
            },
            "source": [
                "---\n",
                "OLS\u63a8\u5b9a\u91cf\u306e\u4e0d\u5747\u4e00\u5206\u6563\u9811\u5065\u6a19\u6e96\u504f\u5dee\u304c\u7c21\u5358\u306b\u8a08\u7b97\u3067\u304d\u308b\u306e\u3067\u3042\u308c\u3070\uff0c\u901a\u5e38\u306e\u6a19\u6e96\u504f\u5dee\u3092\u4f7f\u3046\u5fc5\u8981\u306f\u306a\u3044\u306e\u3067\u306f\u306a\u3044\u304b\uff0c\u3068\u3044\u3046\u7591\u554f\u304c\u751f\u3058\u308b\u3002\u3053\u306e\u554f\u3092\u95a2\u3057\u3066\u4ee5\u4e0b\u306e\u70b9\u3092\u8003\u3048\u308b\u5fc5\u8981\u304c\u3042\u308b\u3002\n",
                "* \u901a\u5e38\u306e\u6a19\u6e96\u504f\u5dee\u3092\u4f7f\u3046\u5229\u70b9\n",
                "    * \u5747\u4e00\u5206\u6563\u306e\u5834\u5408\uff08\u4eee\u5b9a1\u301c6\uff08CLR\u4eee\u5b9a\uff09\uff09\uff0c\u6a19\u672c\u306e\u5927\u304d\u3055\u306e\u5927\u5c0f\u306b\u95a2\u308f\u3089\u305a\uff0c$t$ ($F$)\u5024\u306e\u5206\u5e03\u306f**\u53b3\u5bc6\u306b** $t$ ($F$)\u5206\u5e03\u306b\u5f93\u3046\u3002\n",
                "* \u4e0d\u5747\u4e00\u5206\u6563\u9811\u5065\u6a19\u6e96\u504f\u5dee\n",
                "    * \u5c0f\u6a19\u672c\u306e\u5834\u5408\n",
                "        * \u9811\u5065\u7684 $t$ ($F$)\u5024\u306e\u5206\u5e03\u306f\u5fc5\u305a\u3057\u3082 $t$ ($F$)\u5206\u5e03\u306b\u5f93\u3046\u308f\u3051\u3067\u306f\u306a\u3044\u3002\u305d\u306e\u5834\u5408\uff0c$t$ ($F$)\u691c\u5b9a\u306f\u7121\u52b9\u3068\u306a\u308b\u3002\n",
                "    * \u5927\u6a19\u672c\u306e\u5834\u5408\n",
                "        * $t$ ($F$)\u5024\u306e\u5206\u5e03\u306f $t$ ($F$)\u5206\u5e03\u3067**\u8fd1\u4f3c**\u3055\u308c\uff0c$t$ ($F$)\u691c\u5b9a\u306f\u6709\u52b9\u3067\u3042\u308b\u3002\n",
                "        * \u3053\u306e\u7d50\u679c\u306f\u4eee\u5b9a\uff11\u301c\uff16\uff08CLR\u4eee\u5b9a\uff09\u306e\u3082\u3068\u3067\u3082\u540c\u3058\u3002\n",
                "\n",
                "\u5f93\u3063\u3066\uff0c\u6a19\u672c\u306e\u5927\u304d\u3055\u304c\u300c\u5927\u6a19\u672c\u300d\u3068\u5224\u65ad\u3067\u304d\u308b\u5834\u5408\uff08\u4f8b\u3048\u3070\uff0c$n=1000$\uff09\u4ee5\u5916\u306f\u901a\u5e38\u306e\u6a19\u6e96\u504f\u5dee\u3068\u4e0d\u5747\u4e00\u5206\u6563\u9811\u5065\u6a19\u6e96\u504f\u5dee\u306e\u4e21\u65b9\u3092\u8868\u793a\u3059\u308b\u3053\u3068\u3092\u52e7\u3081\u308b\u3002"
            ]
        },
        {
            "cell_type": "markdown",
            "metadata": {
                "heading_collapsed": true
            },
            "source": [
                "## \u9811\u5065\u7684$t$\u691c\u5b9a"
            ]
        },
        {
            "cell_type": "markdown",
            "metadata": {
                "hidden": true
            },
            "source": [
                "`wooldridge`\u30d1\u30c3\u30b1\u30fc\u30b8\u306e\u30c7\u30fc\u30bf\u30bb\u30c3\u30c8`gpa3`\u3092\u4f7f\u3044\u8aac\u660e\u3059\u308b\u3002\u3053\u306e\u4f8b\u3067\u306f\u5927\u5b66\u306eGPA\u3068\u9ad8\u6821\u306e\u6210\u7e3e\u3084\u6027\u5225\uff0c\u4eba\u7a2e\u306a\u3069\u304c\u3069\u306e\u3088\u3046\u306a\u95a2\u4fc2\u306b\u3042\u308b\u304b\u3092\u63a2\u308b\u3002"
            ]
        },
        {
            "cell_type": "code",
            "execution_count": null,
            "metadata": {},
            "outputs": [],
            "source": [
                "\n"
            ]
        },
        {
            "cell_type": "markdown",
            "metadata": {
                "hidden": true
            },
            "source": [
                "`gpa2`\u306b\u4e00\u90e8\u306e\u5909\u6570\u306e\u8aac\u660e\u304c\u7d9a\u3044\u3066\u3044\u308b\u3002"
            ]
        },
        {
            "cell_type": "code",
            "execution_count": null,
            "metadata": {},
            "outputs": [],
            "source": []
        },
        {
            "cell_type": "markdown",
            "metadata": {
                "heading_collapsed": true,
                "hidden": true
            },
            "source": [
                "### OLS\u63a8\u5b9a"
            ]
        },
        {
            "cell_type": "markdown",
            "metadata": {
                "hidden": true
            },
            "source": [
                "\u88ab\u8aac\u660e\u5909\u6570\uff1a\n",
                "* `cumgpa`\uff1a\u7d2f\u7a4dGPA\n",
                "\n",
                "\u8aac\u660e\u5909\u6570\n",
                "* `sat`\uff1aSAT\u306e\u6210\u7e3e\n",
                "* `hsperc`\uff1a\u9ad8\u6821\u306e\u6210\u7e3e\u306e\uff05\u70b9\uff08\u4e0a\u4f4d\u304b\u3089\uff09\n",
                "* `tothrs`\uff1a\u30c7\u30fc\u30bf\u62bd\u51fa\u6642\u304b\u3089\u5b66\u671f\u307e\u3067\u306e\u6642\u9593\uff1f\uff08`gpa3`\u306e\u5b9a\u7fa9\uff09\n",
                "* `female`\uff1a\u5973\u6027\u30c0\u30df\u30fc\u5909\u6570\uff08\u5973\u6027\uff1d`1`\uff09\n",
                "* `black`\uff1a\u4eba\u7a2e\u30c0\u30df\u30fc\u5909\u6570\uff08\u9ed2\u4eba\uff1d`1`\uff09\n",
                "* `white`\uff1a\u4eba\u7a2e\u30c0\u30df\u30fc\u5909\u6570\uff08\u767d\u4eba\uff1d`1`\uff09"
            ]
        },
        {
            "cell_type": "code",
            "execution_count": null,
            "metadata": {},
            "outputs": [],
            "source": [
                "\n",
                "\n",
                "",
                "",
                "",
                ""
            ]
        },
        {
            "cell_type": "markdown",
            "metadata": {
                "heading_collapsed": true,
                "hidden": true
            },
            "source": [
                "### \u4e0d\u5747\u4e00\u5206\u6563\u9811\u5065\u63a8\u5b9a\uff1a\u65b9\u6cd5\uff11"
            ]
        },
        {
            "cell_type": "markdown",
            "metadata": {
                "hidden": true
            },
            "source": [
                "\u4e0a\u306eOLS\u306e\u7d50\u679c\u3092\u4f7f\u3044\u9811\u5065$t$\u5024\u3092\u8a08\u7b97\u3059\u308b\u305f\u3081\u306b\uff0c`res_ols`\u306e\u30e1\u30bd\u30c3\u30c9`.get_robustcov_results()`\u3092\u4f7f\u3046\u3002\n",
                "* \u30aa\u30d7\u30b7\u30e7\u30f3`cov_type`\u306f\u9811\u5065\u6027\u306e\u8a08\u7b97\u6cd5\u306e\u6307\u5b9a\uff08\u30c7\u30d5\u30a9\u30eb\u30c8\u306f`CH1`\uff09\u3002\n",
                "* \u30aa\u30d7\u30b7\u30e7\u30f3`use_t`\u306f$t$\u691c\u5b9a\u3092\u6307\u5b9a\uff08\u30c7\u30d5\u30a9\u30eb\u30c8\u306f`None`\u3067\u300c\u81ea\u52d5\u300d\u306b\u6c7a\u3081\u3089\u308c\u308b\uff09"
            ]
        },
        {
            "cell_type": "code",
            "execution_count": null,
            "metadata": {},
            "outputs": [],
            "source": [
                "\n",
                "\n",
                ""
            ]
        },
        {
            "cell_type": "markdown",
            "metadata": {
                "hidden": true
            },
            "source": [
                "1. OLS\u63a8\u5b9a\u91cf`coef`\u306e\u5024\u306f\u540c\u3058\u3067\u3042\u308a\uff0c\u5fc5\u305a\u305d\u3046\u306a\u308b\u3002\u4e0d\u5747\u4e00\u5206\u6563\u9811\u5065\u63a8\u5b9a\u306f\uff0c\u8868\u306e\u4e2d\u3067\u6a19\u6e96\u8aa4\u5dee\uff0c$t$\u5024\uff0c$p$\u5024\uff0c\u4fe1\u983c\u533a\u9593\u306b\u5f71\u97ff\u3092\u4e0e\u3048\u308b\u3002\n",
                "2. \u6a19\u6e96\u8aa4\u5dee`std err`\u3092\u6bd4\u3079\u308b\u3068\uff0c\u5e30\u7121\u4eee\u8aac$\\hat{\\beta}_j=0$\u306e\u68c4\u5374\u5224\u65ad\u3092\u8986\u3059\u307b\u3069\u5927\u304d\u304f\u5909\u308f\u308b\u5909\u6570\u306f\u306a\u3044\u3002\u3053\u308c\u306f\u4e0d\u5747\u4e00\u5206\u6563\u304c\u305d\u308c\u307b\u3069\u5927\u304d\u306a\u554f\u984c\u3067\u306f\u306a\u3044\u3053\u3068\u3092\u793a\u5506\u3057\u3066\u3044\u308b\u3002\u3053\u306e\u70b9\u3092\u78ba\u304b\u3081\u308b\u305f\u3081\u306b\uff0c`res_ols`\u306e\u8aa4\u5dee\u9805\u3092\u56f3\u793a\u3057\u3066\u307f\u308b\u3002\n",
                "\n",
                "\u8aa4\u5dee\u9805\u3092\u56f3\u793a\u3059\u308b\u65b9\u6cd5\u3068\u3057\u3066\uff12\u3064\u3092\u7d39\u4ecb\u3059\u308b\u3002\u4e00\u3064\u76ee\u306f\uff0c`res_ols`\u306e\u5c5e\u6027`.resid`\u3092\u4f7f\u3046\u3002`res_ols.resid`\u306f`Pandas`\u306e`Series`\uff08\u30b7\u30ea\u30fc\u30ba\uff09\u306a\u306e\u3067\uff0c\u305d\u306e\u30e1\u30bd\u30c3\u30c9`plot()`\u3092\u4f7f\u3044\u56f3\u793a\u3059\u308b\u3002`style`\u306f\u30de\u30fc\u30ab\u30fc\u3092\u6307\u5b9a\u3059\u308b\u30aa\u30d7\u30b7\u30e7\u30f3\u3002"
            ]
        },
        {
            "cell_type": "code",
            "execution_count": null,
            "metadata": {},
            "outputs": [],
            "source": [
                "\n"
            ]
        },
        {
            "cell_type": "markdown",
            "metadata": {
                "hidden": true
            },
            "source": [
                "\uff12\u3064\u76ee\u306e\u65b9\u6cd5\u306f`plt.plot()`\u3092\u4f7f\u3046\u3002\u30aa\u30c3\u30d7\u30b7\u30e7\u30f3`'o'`\u306f\u30de\u30fc\u30ab\u306e\u6307\u5b9a\u3067\u3042\u308b\u3002"
            ]
        },
        {
            "cell_type": "code",
            "execution_count": null,
            "metadata": {},
            "outputs": [],
            "source": [
                "\n"
            ]
        },
        {
            "cell_type": "markdown",
            "metadata": {
                "hidden": true
            },
            "source": [
                "\uff13\u3064\u76ee\u306f`scatter()`\u3092\u4f7f\u3046\u3002`.index`\u306f`res_ols.resd`\u306e\u5c5e\u6027\u3067\u30a4\u30f3\u30c7\u30c3\u30af\u30b9\u3092\u793a\u3059\u3002"
            ]
        },
        {
            "cell_type": "code",
            "execution_count": null,
            "metadata": {},
            "outputs": [],
            "source": [
                "\n"
            ]
        },
        {
            "cell_type": "markdown",
            "metadata": {
                "heading_collapsed": true,
                "hidden": true
            },
            "source": [
                "### \u4e0d\u5747\u4e00\u5206\u6563\u9811\u5065\u63a8\u5b9a\uff1a\u65b9\u6cd5\uff12"
            ]
        },
        {
            "cell_type": "markdown",
            "metadata": {
                "hidden": true
            },
            "source": [
                "OLS\u63a8\u5b9a\u3092\u3059\u308b\u969b\uff0c`fit()`\u306e\u95a2\u6570\u306b`.get_robustcov_results()`\u3067\u4f7f\u3063\u305f\u540c\u3058\u30aa\u30d7\u30b7\u30e7\u30f3\u3092\u8ffd\u52a0\u3059\u308b\u3068\u9811\u5065$t$\u5024\u306a\u3069\u3092\u76f4\u63a5\u51fa\u529b\u3067\u304d\u308b\u3002"
            ]
        },
        {
            "cell_type": "code",
            "execution_count": null,
            "metadata": {},
            "outputs": [],
            "source": [
                "\n",
                "\n",
                ""
            ]
        },
        {
            "cell_type": "markdown",
            "metadata": {
                "heading_collapsed": true
            },
            "source": [
                "## \u9811\u5065\u7684$F$\u691c\u5b9a"
            ]
        },
        {
            "cell_type": "markdown",
            "metadata": {
                "hidden": true
            },
            "source": [
                "\u540c\u3058\u30c7\u30fc\u30bf`gpa3`\u3092\u4f7f\u3044\uff0c\u9ed2\u4eba\u30c0\u30df\u30fc\u3068\u767d\u4eba\u30c0\u30df\u30fc\u306e\u4fc2\u6570\u306f\u4e21\u65b9\u3068\u3082`0`\u3068\u3044\u3046\u4eee\u8aac\u3092\u691c\u5b9a\u3059\u308b\u3002"
            ]
        },
        {
            "cell_type": "code",
            "execution_count": null,
            "metadata": {},
            "outputs": [],
            "source": []
        },
        {
            "cell_type": "markdown",
            "metadata": {
                "hidden": true
            },
            "source": [
                "\u307e\u305a\u901a\u5e38\u306e$F$\u691c\u5b9a\u3092\u8003\u3048\u308b\u3002"
            ]
        },
        {
            "cell_type": "code",
            "execution_count": null,
            "metadata": {},
            "outputs": [],
            "source": [
                "\n",
                "\n",
                ""
            ]
        },
        {
            "cell_type": "markdown",
            "metadata": {
                "hidden": true
            },
            "source": [
                "\u8fd4\u308a\u5024\uff08\u5de6\u304b\u3089\uff09\n",
                "* `F statistic`\uff1a$F$\u7d71\u8a08\u91cf\n",
                "* `F p-value`\uff1a$F$\u306e$p$\u5024\n",
                "* `df_denom`\uff1a\u5206\u6bcd\u306e\u81ea\u7531\u5ea6\n",
                "* `df_num`\uff1a\u5206\u5b50\u306e\u81ea\u7531\u5ea6\n",
                "\n",
                "\u6b21\u306b\u9811\u5065$F$\u691c\u5b9a\u306e\u65b9\u6cd5\u3092\u8aac\u660e\u3059\u308b\u3002\u4e0a\u306e\u4e0d\u5747\u4e00\u5206\u6563\u9811\u5065\u63a8\u5b9a\u306e\u65b9\u6cd5\uff12\u3067\u4f7f\u3063\u305f`f_test_HC3`\u3092\u4f7f\u3046\u3002"
            ]
        },
        {
            "cell_type": "code",
            "execution_count": null,
            "metadata": {},
            "outputs": [],
            "source": [
                "\n",
                "\n",
                ""
            ]
        },
        {
            "cell_type": "markdown",
            "metadata": {
                "hidden": true
            },
            "source": [
                "\n",
                "$t$\u691c\u5b9a\u306e\u5834\u5408\u3068\u540c\u3058\u3088\u3046\u306b\uff0c\u5927\u304d\u304f\u5909\u308f\u308b\u7d50\u679c\u306b\u3064\u306a\u304c\u3063\u3066\u306f\u306a\u3044\u3002"
            ]
        },
        {
            "cell_type": "markdown",
            "metadata": {
                "heading_collapsed": true
            },
            "source": [
                "## \u5747\u4e00\u5206\u6563\u306e\u691c\u5b9a"
            ]
        },
        {
            "cell_type": "markdown",
            "metadata": {
                "hidden": true
            },
            "source": [
                "\u5747\u4e00\u5206\u6563\u306e\u5834\u5408 $t$($F$)\u5024\u306f\u53b3\u5bc6\u306b$t$($F$)\u5206\u6563\u306b\u5f93\u3046\u3002\u305d\u308c\u304c\u6545\u306b\uff0c\u5747\u4e00\u5206\u6563\u304c\u597d\u307e\u308c\u308b\u7406\u7531\u3067\u3042\u308b\u3002\u3053\u3053\u3067\u306f\u5747\u4e00\u5206\u6563\u306e\u691c\u5b9a\u306b\u3064\u3044\u3066\u8003\u3048\u308b\u3002\u5e30\u7121\u4eee\u8aac\u3068\u5bfe\u7acb\u4eee\u8aac\u306f\u4ee5\u4e0b\u3068\u306a\u308b\u3002\n",
                "\n",
                "$\\text{H}_0$\uff1a\u8aa4\u5dee\u9805\u306f\u5747\u4e00\u5206\u6563\n",
                "\n",
                "$\\text{H}_A$\uff1a\u5e30\u7121\u4eee\u8aac\u306f\u6210\u7acb\u3057\u306a\u3044\n",
                "\n",
                "\uff12\u3064\u306e\u691c\u5b9a\u65b9\u6cd5\u3092\u8003\u3048\u308b\u3002"
            ]
        },
        {
            "cell_type": "markdown",
            "metadata": {
                "heading_collapsed": true,
                "hidden": true
            },
            "source": [
                "### \u30d6\u30eb\u30fc\u30b7\u30e5\u30fb\u30da\u30fc\u30ac\u30f3\uff08Breusch-Pagan\uff09\u691c\u5b9a"
            ]
        },
        {
            "cell_type": "markdown",
            "metadata": {
                "hidden": true
            },
            "source": [
                "\u30c7\u30fc\u30bf`hprice1`\u3092\u4f7f\u3063\u3066\uff0c\u4f4f\u5b85\u4fa1\u683c\u306e\u6c7a\u5b9a\u8981\u56e0\u3092\u691c\u8a0e\u3059\u308b\u3002\u3053\u3053\u3067\u8003\u3048\u308b\u5747\u4e00\u5206\u6563\u306e\u691c\u5b9a\u306bBreusch-Pagan\u691c\u5b9a\u3068\u547c\u3070\u308c\u308b\u3082\u306e\u3067\uff0c`statsmodels`\u306e\u30b5\u30d6\u30d1\u30c3\u30b1\u30fc\u30b8`stats`\u306e\u95a2\u6570`het_breuschpagan`\u3092\u4f7f\u3046\u3002"
            ]
        },
        {
            "cell_type": "code",
            "execution_count": null,
            "metadata": {},
            "outputs": [],
            "source": [
                "\n"
            ]
        },
        {
            "cell_type": "markdown",
            "metadata": {
                "hidden": true
            },
            "source": [
                "\u4ee5\u4e0b\u3067\u4f7f\u3046\u5909\u6570\u306b\u3064\u3044\u3066\u3002\n",
                "\n",
                "\u88ab\u8aac\u660e\u5909\u6570\n",
                "* `price`\uff1a\u4f4f\u5b85\u4fa1\u683c\uff08\u5358\u4f4d\uff1a1000\u30c9\u30eb\uff09\n",
                "\n",
                "\u8aac\u660e\u5909\u6570\n",
                "* `lotsize`\uff1a\u571f\u5730\u9762\u7a4d\uff08\u5358\u4f4d\uff1a\u5e73\u65b9\u30d5\u30a3\u30fc\u30c8\uff09\n",
                "* `sqrft`\uff1a\u5bb6\u306e\u9762\u7a4d\uff08\u5358\u4f4d\uff1a\u5e73\u65b9\u30d5\u30a3\u30fc\u30c8\uff09\n",
                "* `bdrms`\uff1a\u5bdd\u5ba4\u306e\u6570"
            ]
        },
        {
            "cell_type": "markdown",
            "metadata": {
                "hidden": true
            },
            "source": [
                "#### \u5bfe\u6570\u5909\u63db\u524d"
            ]
        },
        {
            "cell_type": "markdown",
            "metadata": {
                "hidden": true
            },
            "source": [
                "\u307e\u305a\u5909\u6570\u306e\u5909\u63db\u3092\u3057\u306a\u3044\u5834\u5408\u3092\u8003\u3048\u308b\u3002"
            ]
        },
        {
            "cell_type": "code",
            "execution_count": null,
            "metadata": {},
            "outputs": [],
            "source": [
                "\n",
                "\n",
                "",
                "",
                ""
            ]
        },
        {
            "cell_type": "markdown",
            "metadata": {
                "hidden": true
            },
            "source": [
                "\u3053\u306e\u7d50\u679c\u306b\u5bfe\u3057\u3066Breusch-Pagan\u691c\u5b9a\u3092\u304a\u3053\u306a\u3046\u3002`het_breuschpagan()`\u306e\u5f15\u6570\u306b\u3064\u3044\u3066\uff1a\n",
                "* \u7b2c\uff11\u5f15\u304d\u6570\uff1aOLS\u306e\u7d50\u679c`res_h`\u306e\u5c5e\u6027`.resid`\u3067\u8aa4\u5dee\u9805\u306e\u5024\n",
                "* \u7b2c\uff12\u5f15\u304d\u6570\uff1aOLS\u306e\u7d50\u679c`res_h`\u306e\u5c5e\u6027`.model`\u306e\u5c5e\u6027`exog`\u3092\u4f7f\u3044\u5b9a\u6570\u9805\u3092\u542b\u3080\u8aac\u660e\u5909\u6570\u306e\u5024"
            ]
        },
        {
            "cell_type": "code",
            "execution_count": null,
            "metadata": {},
            "outputs": [],
            "source": []
        },
        {
            "cell_type": "markdown",
            "metadata": {
                "hidden": true
            },
            "source": [
                "\u8fd4\u308a\u5024\uff08\u4e0a\u304b\u3089\uff09\n",
                "* `LM statistic`\uff1a$LM$\u7d71\u8a08\u91cf\n",
                "* `LM p-value`\uff1a$LM$\u306e$p$\u5024\n",
                "* `F statistics`\uff1a$F$\u7d71\u8a08\u91cf\n",
                "* `F p-value`\uff1a$F$\u306e$p$\u5024\n",
                "\n",
                "$LM$\u691c\u5b9a\u3068\u306fLagrange Multiplier\u691c\u5b9a\u306e\u3053\u3068\u3067\uff0c\u5927\u6a19\u672c\u306e\u5834\u5408\u306b\u4eee\u5b9a\uff11\u301c\uff14\uff08GM\u4eee\u8aac\uff09\u306e\u3082\u3068\u3067\u6210\u7acb\u3059\u308b\u3002\u4e00\u822c\u306bBreusch-Pagan\u691c\u5b9a\u306f$LM$\u7d71\u8a08\u91cf\u3092\u4f7f\u3063\u305f\u3082\u306e\u3092\u6307\u3059\u304c\uff0c$F$\u7d71\u8a08\u91cf\u3068\u3057\u3066\u3082\u8a08\u7b97\u3067\u304d\u308b\u3002\n",
                "\n",
                "5%\u306e\u6709\u610f\u6c34\u6e96\u3067\u5e30\u7121\u4eee\u8aac\uff08$\\text{H}_0$\uff1a\u8aa4\u5dee\u9805\u306f\u5747\u4e00\u5206\u6563\uff09\u3092\u68c4\u5374\u3067\u304d\uff0c\u4e0d\u5747\u4e00\u5206\u6563\u306e\u53ef\u80fd\u6027\u304c\u9ad8\u3044\u3002\u5bfe\u51e6\u6cd5\u3068\u3057\u3066\u5909\u6570\u306e\u5909\u63db\u304c\u6319\u3052\u3089\u308c\u308b\u3002"
            ]
        },
        {
            "cell_type": "markdown",
            "metadata": {
                "heading_collapsed": true,
                "hidden": true
            },
            "source": [
                "#### \u5bfe\u6570\u5909\u63db"
            ]
        },
        {
            "cell_type": "markdown",
            "metadata": {
                "hidden": true
            },
            "source": [
                "`bdrms`\u4ee5\u5916\u3092\u5bfe\u6570\u5909\u63db\u3059\u308b\u3002"
            ]
        },
        {
            "cell_type": "code",
            "execution_count": null,
            "metadata": {},
            "outputs": [],
            "source": [
                "\n",
                "\n",
                "",
                "",
                ""
            ]
        },
        {
            "cell_type": "code",
            "execution_count": null,
            "metadata": {},
            "outputs": [],
            "source": []
        },
        {
            "cell_type": "markdown",
            "metadata": {
                "hidden": true
            },
            "source": [
                "5%\u306e\u6709\u610f\u6c34\u6e96\u3067\u304a\u5e30\u7121\u4eee\u8aac\u3092\u68c4\u5374\u3067\u304d\u306a\u3044\u3002\u5373\u3061\uff0c\u5bfe\u7acb\u4eee\u8aac\uff08$\\text{H}_A$\uff1a\u5e30\u7121\u4eee\u8aac\u306f\u6210\u7acb\u3057\u306a\u3044\uff09\u3092\u63a1\u629e\u3057\uff0c\u5747\u4e00\u5206\u6563\u306e\u53ef\u80fd\u6027\u304c\u9ad8\u3044\u3002"
            ]
        },
        {
            "cell_type": "markdown",
            "metadata": {
                "heading_collapsed": true,
                "hidden": true
            },
            "source": [
                "### \u30db\u30ef\u30a4\u30c8\uff08White\uff09\u691c\u5b9a"
            ]
        },
        {
            "cell_type": "markdown",
            "metadata": {
                "hidden": true
            },
            "source": [
                "\u3053\u306e\u691c\u5b9a\u306fOLS\u63a8\u5b9a\u91cf\u306e\u6a19\u6e96\u8aa4\u5dee\u3068\u691c\u5b9a\u7d71\u8a08\u91cf\u3092\u7121\u52b9\u306b\u3059\u308b\u4e0d\u5747\u4e00\u5206\u6563\u3092\u4e3b\u306a\u5bfe\u8c61\u3068\u3057\u3066\u304a\u308a\uff0cBreusch-Pagan\u691c\u5b9a\u3088\u308a\u3082\u3088\u308a\u4e00\u822c\u7684\u306a\u5f0f\u306b\u57fa\u3065\u3044\u3066\u691c\u5b9a\u3092\u304a\u3053\u306a\u3046\u3002`statsmodels`\u306e\u30b5\u30d6\u30d1\u30c3\u30b1\u30fc\u30b8`stats`\u306e\u95a2\u6570`het_white`\u3092\u4f7f\u3046\u3002"
            ]
        },
        {
            "cell_type": "markdown",
            "metadata": {
                "hidden": true
            },
            "source": [
                "`hprice`\u306e\u30c7\u30fc\u30bf\u3092\u4f7f\u3063\u305f\u4e0a\u306e\u4f8b\u3092\u4f7f\u3046\u3002\n",
                "\n",
                "`het_white()`\u306e\u5f15\u6570\uff1a\n",
                "* \u7b2c\uff11\u5f15\u304d\u6570\uff1aOLS\u306e\u7d50\u679c`res_h`\u306e\u5c5e\u6027`.resid`\u3067\u8aa4\u5dee\u9805\u306e\u5024\n",
                "* \u7b2c\uff12\u5f15\u304d\u6570\uff1aOLS\u306e\u7d50\u679c`res_h`\u306e\u5c5e\u6027`.model`\u306e\u5c5e\u6027`exog`\u3092\u4f7f\u3044\u5b9a\u6570\u9805\u3092\u542b\u3080\u8aac\u660e\u5909\u6570\u306e\u5024"
            ]
        },
        {
            "cell_type": "markdown",
            "metadata": {
                "heading_collapsed": true,
                "hidden": true
            },
            "source": [
                "#### \u5bfe\u6570\u5909\u63db\u524d"
            ]
        },
        {
            "cell_type": "code",
            "execution_count": null,
            "metadata": {},
            "outputs": [],
            "source": []
        },
        {
            "cell_type": "markdown",
            "metadata": {
                "hidden": true
            },
            "source": [
                "\u8fd4\u308a\u5024\uff08\u4e0a\u304b\u3089\uff09\n",
                "* `LM statistic`\uff1a$LM$\u7d71\u8a08\u91cf\n",
                "* `LM p-value`\uff1a$LM$\u306e$p$\u5024\n",
                "* `F statistics`\uff1a$F$\u7d71\u8a08\u91cf\n",
                "* `F p-value`\uff1a$F$\u306e$p$\u5024\n",
                "\n",
                "\u4e00\u822c\u306bWhite\u691c\u5b9a\u306f$LM$\u7d71\u8a08\u91cf\u3092\u4f7f\u3063\u305f\u3082\u306e\u3092\u6307\u3059\u304c\uff0c$F$\u7d71\u8a08\u91cf\u3068\u3057\u3066\u3082\u8a08\u7b97\u3067\u304d\u308b\u3002\n",
                "\n",
                "5%\u306e\u6709\u610f\u6c34\u6e96\u3067\u5e30\u7121\u4eee\u8aac\uff08$\\text{H}_0$\uff1a\u8aa4\u5dee\u9805\u306f\u5747\u4e00\u5206\u6563\uff09\u3092\u68c4\u5374\u3067\u304d\uff0c\u4e0d\u5747\u4e00\u5206\u6563\u306e\u53ef\u80fd\u6027\u304c\u9ad8\u3044\u3002\u5bfe\u51e6\u6cd5\u3068\u3057\u3066\u5909\u6570\u306e\u5909\u63db\u304c\u6319\u3052\u3089\u308c\u308b\u3002"
            ]
        },
        {
            "cell_type": "markdown",
            "metadata": {
                "heading_collapsed": true,
                "hidden": true
            },
            "source": [
                "#### \u5bfe\u6570\u5909\u63db\u5f8c"
            ]
        },
        {
            "cell_type": "code",
            "execution_count": null,
            "metadata": {},
            "outputs": [],
            "source": []
        },
        {
            "cell_type": "markdown",
            "metadata": {
                "hidden": true
            },
            "source": [
                "5%\u306e\u6709\u610f\u6c34\u6e96\u3067\u5e30\u7121\u4eee\u8aac\u3092\u68c4\u5374\u3067\u304d\u306a\u3044\u3002\u5373\u3061\uff0c\u5bfe\u7acb\u4eee\u8aac\uff08$\\text{H}_A$\uff1a\u5e30\u7121\u4eee\u8aac\u306f\u6210\u7acb\u3057\u306a\u3044\uff09\u3092\u63a1\u629e\u3057\uff0c\u5747\u4e00\u5206\u6563\u306e\u53ef\u80fd\u6027\u304c\u9ad8\u3044\u3002"
            ]
        },
        {
            "cell_type": "markdown",
            "metadata": {
                "hidden": true
            },
            "source": [
                "\n",
                "## \u6b8b\u5dee\uff1a\u56f3\u793a\u3068\u7dda\u5f62\u6027"
            ]
        },
        {
            "cell_type": "markdown",
            "metadata": {
                "heading_collapsed": true
            },
            "source": [
                "## \u56f3\u793a"
            ]
        },
        {
            "cell_type": "markdown",
            "metadata": {
                "hidden": true
            },
            "source": [
                "\u4eee\u5b9a\uff14\u301c\uff16\u306f\u6b8b\u5dee\u306b\u95a2\u3059\u308b\u3082\u306e\u3067\u3042\u308a\uff0c\u6b8b\u5dee\u3092\u30d7\u30ed\u30c3\u30c8\u3057\u4e0d\u5747\u4e00\u5206\u6563\u3084\u975e\u7dda\u5f62\u6027\u3092\u78ba\u8a8d\u3059\u308b\u3053\u3068\u306f\u56de\u5e30\u5206\u6790\u306e\u91cd\u8981\u306a\u30b9\u30c6\u30c3\u30d7\u3067\u3042\u308b\u3002\n",
                "\n",
                "\u6b8b\u5dee\u3092\u56f3\u793a\u3059\u308b\u65b9\u6cd5\u3068\u3057\u3066`lmdiag`\u4ee5\u5916\u306b\u4ee5\u4e0b\u3092\u7d39\u4ecb\u3059\u308b\u3002\n",
                "1. `matplotlib`\u3092\u76f4\u63a5\u4f7f\u3046\n",
                "2. `seaborn`\u3068\u3044\u3046\u30d1\u30c3\u30b1\u30fc\u30b8\u306e\u4e2d\u306b\u3042\u308b\u95a2\u6570`residplot`\u3092\u4f7f\u3046\n",
                "\n",
                "\u4e0a\u3067\u8a08\u7b97\u3057\u305f`res_h`\u3068`res_h_log`\u3092\u5229\u7528\u3057\n",
                "* \u6a2a\u8ef8\uff1a\u88ab\u8aac\u660e\u5909\u6570\u306e\u4e88\u6e2c\u5024\uff08\u30e1\u30bd\u30c3\u30c9`.fittedvalues`\uff09\n",
                "* \u7e26\u8ef8\uff1a\u6b8b\u5dee\uff08\u30e1\u30bd\u30c3\u30c9`.resid`\uff09\n",
                "\n",
                "\u3068\u306a\u308b\u56f3\u3092\u4f5c\u6210\u3059\u308b\u3002"
            ]
        },
        {
            "cell_type": "markdown",
            "metadata": {
                "heading_collapsed": true,
                "hidden": true
            },
            "source": [
                "### `lmdiag`"
            ]
        },
        {
            "cell_type": "markdown",
            "metadata": {
                "hidden": true
            },
            "source": [
                "\u5bfe\u6570\u5909\u63db\u524d"
            ]
        },
        {
            "cell_type": "code",
            "execution_count": null,
            "metadata": {},
            "outputs": [],
            "source": [
                "\n",
                "\n",
                ""
            ]
        },
        {
            "cell_type": "markdown",
            "metadata": {
                "hidden": true
            },
            "source": [
                "\u5bfe\u6570\u5909\u63db\u5f8c"
            ]
        },
        {
            "cell_type": "code",
            "execution_count": null,
            "metadata": {},
            "outputs": [],
            "source": [
                "\n",
                "\n",
                ""
            ]
        },
        {
            "cell_type": "markdown",
            "metadata": {
                "hidden": true
            },
            "source": [
                "\u5bfe\u6570\u5909\u63db\u306b\u3088\u308a\u6b8b\u5dee\u306e\u5909\u5316\u304c\u3088\u308a\u5747\u4e00\u7684\u306b\u306a\u308a\uff0cResiduals vs. Leverage\u306eCook's Distance\u3092\u898b\u3066\u3082\u5916\u308c\u5024\u304c\u306a\u304f\u306a\u3063\u3066\u3044\u308b\u3002"
            ]
        },
        {
            "cell_type": "markdown",
            "metadata": {
                "heading_collapsed": true,
                "hidden": true
            },
            "source": [
                "### `Matplotlib`\u306e`plot()`"
            ]
        },
        {
            "cell_type": "markdown",
            "metadata": {
                "hidden": true
            },
            "source": [
                "\u5bfe\u6570\u5909\u63db\u524d"
            ]
        },
        {
            "cell_type": "code",
            "execution_count": null,
            "metadata": {},
            "outputs": [],
            "source": [
                "\n"
            ]
        },
        {
            "cell_type": "markdown",
            "metadata": {
                "hidden": true
            },
            "source": [
                "\u5bfe\u6570\u5909\u63db\u5f8c"
            ]
        },
        {
            "cell_type": "code",
            "execution_count": null,
            "metadata": {},
            "outputs": [],
            "source": [
                "\n"
            ]
        },
        {
            "cell_type": "markdown",
            "metadata": {
                "hidden": true
            },
            "source": [
                "\u5bfe\u6570\u5909\u63db\u306b\u3088\u308a\u6b8b\u5dee\u306e\u5909\u5316\u304c\u3088\u308a\u5747\u4e00\u7684\u306b\u306a\u3063\u305f\u306e\u304c\u78ba\u8a8d\u3067\u304d\u308b\u3002"
            ]
        },
        {
            "cell_type": "markdown",
            "metadata": {
                "heading_collapsed": true,
                "hidden": true
            },
            "source": [
                "### `seaborn`\u306e`residplot()`"
            ]
        },
        {
            "cell_type": "markdown",
            "metadata": {
                "hidden": true
            },
            "source": [
                "`seaborn`\u306f`matplotlib`\u3092\u5229\u7528\u3057\u69d8\u3005\u306a\u56f3\u3092\u63cf\u3051\u308b\u3002`seaborn`\u306b\u3064\u3044\u3066\u306f[\u3053\u306e\u30b5\u30a4\u30c8](https://seaborn.pydata.org/index.html)\u3092\u53c2\u7167\u3002\n",
                "\n",
                "\u901a\u5e38`import seaborn as sns`\u3067\u30a4\u30f3\u30dd\u30fc\u30c8\u3059\u308b\u3053\u3068\u304c\u591a\u3044\u3088\u3046\u3067\u3042\u308b\u304c\uff0c\u3053\u3053\u3067\u306f`residplot`\u306e\u307f\u3092\u30a4\u30f3\u30dd\u30fc\u30c8\u3057\u3066\u3044\u308b\u3002"
            ]
        },
        {
            "cell_type": "markdown",
            "metadata": {
                "hidden": true
            },
            "source": [
                "`residplot()`\u306f\u6563\u5e03\u56f3\u3092\u4f5c\u6210\u3059\u308b\u95a2\u6570\u3067\u3042\u308b\u3002\n",
                "* `x=`\uff1a\u6a2a\u8ef8\u306e\u5909\u6570\u3092\u6307\u5b9a\n",
                "    * \u88ab\u8aac\u660e\u5909\u6570\u3092\u8a2d\u5b9a\u3059\u308b\u3053\u3068\u3092\u52e7\u3081\u308b\u3002\n",
                "* `y=`\uff1a\u7e26\u8ef8\u306e\u5909\u6570\u3092\u6307\u5b9a\n",
                "    * \u6b8b\u5dee\n",
                "* \u30aa\u30d7\u30b7\u30e7\u30f3\n",
                "    * `lowerss=True`\uff08\u30c7\u30d5\u30a9\u30eb\u30c8\u306f`False`\uff09\u306b\u3059\u308b\u3068\uff0c\u6563\u5e03\u56f3\u306b\u30d9\u30b9\u30c8\u30fb\u30d5\u30a3\u30c3\u30c8\u3059\u308b**\u66f2\u7dda**\u3092\u8868\u793a\u3059\u308b\u3002\n",
                "\n",
                "---\n",
                "\u5bfe\u6570\u5909\u63db\u524d"
            ]
        },
        {
            "cell_type": "code",
            "execution_count": null,
            "metadata": {},
            "outputs": [],
            "source": [
                "\n"
            ]
        },
        {
            "cell_type": "markdown",
            "metadata": {
                "hidden": true
            },
            "source": [
                "\u5bfe\u6570\u5909\u63db\u5f8c"
            ]
        },
        {
            "cell_type": "code",
            "execution_count": null,
            "metadata": {},
            "outputs": [],
            "source": [
                "\n"
            ]
        },
        {
            "cell_type": "markdown",
            "metadata": {
                "heading_collapsed": true
            },
            "source": [
                "## \u7dda\u5f62\u6027"
            ]
        },
        {
            "cell_type": "markdown",
            "metadata": {
                "hidden": true
            },
            "source": [
                "\u4eee\u5b9a\uff11\u3067\u56de\u5e30\u5f0f\u306f\u7dda\u5f62\u3068\u306a\u3063\u3066\u3044\u308b\u304c\uff0c\u305d\u306e\u4eee\u5b9a\u304c\u6b63\u3057\u3051\u308c\u3070\uff0c\u4e0a\u306e\u6b8b\u5dee\u306e\u6563\u5e03\u56f3\u306f\u6982\u306d\u5e73\u884c\u306b\u305d\u3057\u3066\uff10\u3092\u4e2d\u5fc3\u306b\u4e0a\u4e0b\u7b49\u9593\u9694\u306b\u6563\u3089\u3070\u308b\u3053\u3068\u306b\u306a\u308b\u3002\u305d\u306e\u30d1\u30bf\u30fc\u30f3\u306b\u6bd4\u8f03\u7684\u306b\u8fd1\u3044\u306e\u306f\u5bfe\u6570\u5909\u63db**\u5f8c**\u306e\u56f3\u3067\u3042\u308b\u3002\u4e0d\u5747\u4e00\u5206\u6563\u306e\u5834\u5408\u306f\uff0c\u305d\u306e\u30d1\u30bf\u30fc\u30f3\u304c\u5927\u304d\u304f\u5d29\u308c\u3066\u3044\u308b\u5834\u5408\u3067\u3042\u308a\uff0c\u305d\u306e\u539f\u56e0\u306e\u305d\u306e\uff11\u3064\u306b\u56de\u5e30\u5f0f\u306e\u7279\u5b9a\u5316\u306e\u9593\u9055\u3044\u304c\u3042\u308b\u3002\u4f8b\u3048\u3070\uff0c\u8aac\u660e\u5909\u6570\u306e\uff12\u4e57\u304c\u542b\u307e\u308c\u308b\u3079\u304d\u306a\u306e\u306b\u6b20\u843d\u3057\u3066\u3044\u308b\u5834\u5408\u304c\u6319\u3052\u3089\u308c\u308b\u3002\u6975\u7aef\u306a\u5834\u5408\uff0c\u6b8b\u5dee\u306e\u6563\u5e03\u56f3\u306f$U$\u5b57\u307e\u305f\u306f\u9006$U$\u5b57\u306e\u3088\u3046\u306a\u5f62\u306b\u306a\u308a\u3048\u308b\u3002\n",
                "\n",
                "\u4e00\u65b9\uff0c\u7dda\u5f62\u6027\u306e\u691c\u5b9a\u3082\u3042\u308b\u3002\u4ee5\u4e0b\u3067\u306f\u305d\u306e\uff11\u3064\u3067\u3042\u308b RESET (Regression Specification Error Test) \u691c\u5b9a\u3092\u8003\u3048\u308b\u3002\n",
                "\n",
                "\u3053\u306e\u691c\u5b9a\u306e\u8003\u3048\u65b9\u306f\u305d\u308c\u307b\u3069\u96e3\u3057\u304f\u306f\u306a\u3044\u3002\u6b21\u306e\u56de\u5e30\u5f0f\u3092\u63a8\u5b9a\u3059\u308b\u3068\u3057\u3088\u3046\u3002\n",
                "\n",
                "$$y=\\beta_0+\\beta_1x_1+\\beta_2x_2+u$$\n",
                "\n",
                "\u3053\u306e\u7dda\u5f62\u5f0f\u304c\u6b63\u3057\u3051\u308c\u3070\uff0c$x_1^2$\u3084$x_2^3$\u7b49\u3092\u8ffd\u52a0\u3057\u3066\u3082\u7d71\u8a08\u7684\u306b\u6709\u610f\u3067\u306f\u306a\u3044\u306f\u305a\u3067\u3042\u308b\u3002\u3055\u3089\u306b\uff0c\u3053\u306e\u7dda\u5f62\u56de\u5e30\u5f0f\u306e\u4e88\u6e2c\u5024$\\hat{y}$\u306f$x_1$\u3084$x_2$\u306e\u7dda\u5f62\u306b\u306a\u3063\u3066\u3044\u308b\u305f\u3081\u3001$\\hat{y}^2$\u3084$\\hat{y}^3$\u306f$x_1$\u3084$x_2$\u306e\u975e\u7dda\u5f62\u3068\u306a\u3063\u3066\u3044\u308b\u3002\u5f93\u3063\u3066\uff0c\u6b21\u5f0f\u3092\u63a8\u8a08\u3057\uff0c\u3082\u3057\u975e\u7dda\u5f62\u306e\u52b9\u679c\u304c\u306a\u3051\u308c\u3070$\\delta_1$\u3082$\\delta_2$\u3082\u6709\u610f\u3067\u306f\u306a\u3044\u306f\u305a\u3067\u3042\u308b\u3002\n",
                "\n",
                "$$y=\\beta_0+\\beta_1x_1+\\beta_2x_2+\\delta_1\\hat{y}^2+\\delta_2\\hat{y}^3$$\n",
                "\n",
                "\u3053\u306e\u8003\u3048\u306b\u57fa\u3065\u3044\u3066\u4ee5\u4e0b\u306e\u4eee\u8aac\u3092\u691c\u5b9a\u3059\u308b\u3002\n",
                "\n",
                "$\\text{H}_0:\\;\\delta_1=\\delta_2=0$\uff08\u7dda\u5f62\u56de\u5e30\u5f0f\u304c\u6b63\u3057\u3044\uff09\n",
                "\n",
                "$\\text{H}_A$: $\\text{H}_0$\u306f\u6210\u7acb\u3057\u306a\u3044 \n",
                "\n",
                "\uff1c\u30b3\u30e1\u30f3\u30c8\uff1e\n",
                "* \u901a\u5e38\u306f$y$\u306e3\u4e57\u307e\u3067\u542b\u3081\u308c\u3070\u5341\u5206\u3067\u3042\u308d\u3046\u3002\n",
                "* \u5927\u6a19\u672c\u306e\u3082\u3068\u3067$F$\u691c\u5b9a\u7d71\u8a08\u5024\u306f$F$\u5206\u5e03\u306b\u5f93\u3046\u3002"
            ]
        },
        {
            "cell_type": "markdown",
            "metadata": {
                "hidden": true
            },
            "source": [
                "\n",
                "---\n",
                "`statsmodels`\u306e\u30b5\u30d6\u30d1\u30c3\u30b1\u30fc\u30b8`.stats.outliers_influence`\u306eRESET\u691c\u5b9a\u7528\u306e\u95a2\u6570`reset_ramsey`\u3092\u4f7f\u3046\u3002\uff08`ramsey`\u306f\u3053\u306e\u691c\u5b9a\u3092\u8003\u6848\u3057\u305f\u5b66\u8005\u540d\u524d\uff09\n",
                "\n",
                "`reset_ramsey()`\u306e\u4f7f\u3044\u65b9\uff1a\n",
                "* \u5f15\u304d\u6570\uff1aOLS\u63a8\u5b9a\u306e\u7d50\u679c\n",
                "* \u30aa\u30d7\u30b7\u30e7\u30f3\u306e`degree`\uff08\u30c7\u30d5\u30a9\u30eb\u30c8\u306f5\uff09\u306f$y$\u306e\u4f55\u4e57\u307e\u3067\u3092\u542b\u3081\u308b\u304b\u3092\u6307\u5b9a\u3059\u308b\u3002"
            ]
        },
        {
            "cell_type": "markdown",
            "metadata": {
                "hidden": true
            },
            "source": [
                "**\u5bfe\u6570\u5909\u63db\u524d**"
            ]
        },
        {
            "cell_type": "code",
            "execution_count": null,
            "metadata": {},
            "outputs": [],
            "source": []
        },
        {
            "cell_type": "markdown",
            "metadata": {
                "hidden": true
            },
            "source": [
                "\u8fd4\u308a\u5024\n",
                "* `F`: $F$\u7d71\u8a08\u91cf\n",
                "* `p`: $p$\u5024\n",
                "* `df_denom`: \u5206\u6bcd\u306e\u81ea\u7531\u5ea6\n",
                "* `df_num`: \u5206\u5b50\u306e\u81ea\u7531\u5ea6\uff08\uff12\u4e57\u4ee5\u4e0a\u306e\u5236\u7d04\u6570\uff09"
            ]
        },
        {
            "cell_type": "markdown",
            "metadata": {
                "hidden": true
            },
            "source": [
                "**\u5bfe\u6570\u5909\u63db\u5f8c**"
            ]
        },
        {
            "cell_type": "code",
            "execution_count": null,
            "metadata": {},
            "outputs": [],
            "source": []
        },
        {
            "cell_type": "markdown",
            "metadata": {
                "hidden": true
            },
            "source": [
                "5%\u306e\u6709\u610f\u6c34\u6e96\u306e\u3082\u3068\u3067\uff0c`res_h`\u306e\u306e\u5e30\u7121\u4eee\u8aac\u3092\u68c4\u5374\u3067\u304d\u308b\u304c\uff0c`res_h_log`\u3067\u306f\u68c4\u5374\u3067\u304d\u306a\u3044\u3002\u5f8c\u8005\u306e\u63a8\u8a08\u5f0f\u304c\u3088\u308a\u9069\u3057\u3066\u3044\u308b\u3088\u3046\u3067\u3042\u308b\u3002"
            ]
        }
    ],
    "metadata": {
        "celltoolbar": "Tags",
        "kernel_info": {
            "name": "python3"
        },
        "kernelspec": {
            "display_name": "latest",
            "language": "python",
            "name": "latest"
        },
        "language_info": {
            "codemirror_mode": {
                "name": "ipython",
                "version": 3
            },
            "file_extension": ".py",
            "mimetype": "text/x-python",
            "name": "python",
            "nbconvert_exporter": "python",
            "pygments_lexer": "ipython3",
            "version": "3.8.5"
        },
        "nteract": {
            "version": "0.15.0"
        },
        "toc": {
            "base_numbering": 1,
            "nav_menu": {},
            "number_sections": true,
            "sideBar": true,
            "skip_h1_title": false,
            "title_cell": "Table of Contents",
            "title_sidebar": "Contents",
            "toc_cell": false,
            "toc_position": {},
            "toc_section_display": true,
            "toc_window_display": false
        }
    },
    "nbformat": 4,
    "nbformat_minor": 2
}