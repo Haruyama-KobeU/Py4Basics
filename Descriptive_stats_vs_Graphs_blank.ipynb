{
    "cells": [
        {
            "cell_type": "markdown",
            "metadata": {},
            "source": [
                "# \u8a18\u8ff0\u7d71\u8a08\u3068\u30b0\u30e9\u30d5"
            ]
        },
        {
            "cell_type": "markdown",
            "metadata": {},
            "source": [
                "**Anscombe\u306e\u30c7\u30fc\u30bf\u30bb\u30c3\u30c8**\n",
                "* 4\u3064\u306e\u30c7\u30fc\u30bf\u30bb\u30c3\u30c8\n",
                "    * \u305d\u308c\u305e\u308c\u5909\u6570\u306f`x`\u3068`y`\u306e2\u3064\n",
                "* \u5168\u3066\u306e\u30c7\u30fc\u30bf\u30bb\u30c3\u30c8\u3067\u4ee5\u4e0b\u304c\u6b86\u3069\u540c\u3058\n",
                "    * `x`\u3068`y`\u306e\u5e73\u5747\uff08mean\uff09\n",
                "    * `x`\u3068`y`\u306e\u6a19\u6e96\u504f\u5dee\uff08standard deviation\uff09\n",
                "    * `x`\u3068`y`\u306e\u76f8\u95a2\u4fc2\u6570\uff08correlation coefficient\uff09\n",
                "    * \u56de\u5e30\u7dda\uff08regression line\uff09\n",
                "    * \u6c7a\u5b9a\u4fc2\u6570\uff08coefficient of determination, $R^2$\uff09\n",
                "* \u56f3\u793a\uff08\u6563\u5e03\u56f3\uff09\u3059\u308b\u3068\u5927\u304d\u304f\u7570\u306a\u308b"
            ]
        },
        {
            "cell_type": "markdown",
            "metadata": {},
            "source": [
                "---\n",
                "**\uff1c\u542b\u610f\uff1e**\n",
                "\n",
                "\u30c7\u30fc\u30bf\u30bb\u30c3\u30c8\u306e\u8cea\u7684\u306a\u9055\u3044\u306f\u8a18\u8ff0\u7d71\u8a08\u3060\u3051\u3067\u306f\u78ba\u8a8d\u3067\u304d\u306a\u3044\u3002\u56f3\u793a\u3059\u308b\u3053\u3068\u304c\u91cd\u8981\u3002\n",
                "\n",
                "\u3053\u3053\u3067\u306f`matplotlib`\u306b\u57fa\u3065\u3044\u305f`seaborn`\u30d1\u30c3\u30b1\u30fc\u30b8\u3092\u4f7f\u3046\u3002\u3053\u306e\u30d1\u30c3\u30b1\u30fc\u30b8\u3092\u4f7f\u3046\u3053\u3068\u306b\u3088\u308a\uff0c`matplotlib`\u3088\u308a\u3082\u7c21\u5358\u306b\uff0c\u66f4\u306b\u3088\u308a\u7dba\u9e97\u306b\u3067\u304d\u308b\u3088\u3046\u306b\u306a\u308b\u3002"
            ]
        },
        {
            "cell_type": "code",
            "execution_count": null,
            "metadata": {},
            "outputs": [],
            "source": [
                "\n",
                "\n",
                "",
                ""
            ]
        },
        {
            "cell_type": "markdown",
            "metadata": {},
            "source": [
                "Anscombe\u306e\u30c7\u30fc\u30bf\u30bb\u30c3\u30c8"
            ]
        },
        {
            "cell_type": "code",
            "execution_count": null,
            "metadata": {},
            "outputs": [],
            "source": [
                "\n",
                "\n",
                "",
                "",
                "",
                "",
                "",
                "",
                "",
                "",
                "",
                "",
                "",
                "",
                "",
                ""
            ]
        },
        {
            "cell_type": "markdown",
            "metadata": {},
            "source": [
                "\u6563\u5e03\u56f3"
            ]
        },
        {
            "cell_type": "code",
            "execution_count": null,
            "metadata": {},
            "outputs": [],
            "source": [
                "\n",
                "\n",
                "",
                "",
                "",
                "",
                "",
                "",
                "",
                "",
                "",
                "",
                "",
                "",
                "",
                "",
                "",
                "",
                "",
                ""
            ]
        },
        {
            "cell_type": "markdown",
            "metadata": {},
            "source": [
                "\u5e73\u5747"
            ]
        },
        {
            "cell_type": "code",
            "execution_count": null,
            "metadata": {},
            "outputs": [],
            "source": [
                "\n",
                "\n",
                "",
                ""
            ]
        },
        {
            "cell_type": "markdown",
            "metadata": {},
            "source": [
                "\u6a19\u6e96\u504f\u5dee"
            ]
        },
        {
            "cell_type": "code",
            "execution_count": null,
            "metadata": {},
            "outputs": [],
            "source": [
                "\n"
            ]
        },
        {
            "cell_type": "markdown",
            "metadata": {},
            "source": [
                "\u76f8\u95a2\u4fc2\u6570"
            ]
        },
        {
            "cell_type": "code",
            "execution_count": null,
            "metadata": {},
            "outputs": [],
            "source": [
                "\n"
            ]
        },
        {
            "cell_type": "markdown",
            "metadata": {},
            "source": [
                "\u56de\u5e30\u76f4\u7dda\u306e\u4fc2\u6570\u306e\u63a8\u5b9a\u5024"
            ]
        },
        {
            "cell_type": "code",
            "execution_count": null,
            "metadata": {},
            "outputs": [],
            "source": [
                "\n",
                "\n",
                "",
                "",
                "",
                "",
                "",
                ""
            ]
        },
        {
            "cell_type": "markdown",
            "metadata": {},
            "source": [
                "\u56de\u5e30\u76f4\u7dda\u306e\u56f3\u793a"
            ]
        },
        {
            "cell_type": "code",
            "execution_count": null,
            "metadata": {},
            "outputs": [],
            "source": [
                "\n",
                "\n",
                "",
                "",
                "",
                "",
                "",
                "",
                "",
                "",
                "",
                "",
                "",
                "",
                "",
                "",
                "",
                "",
                "",
                "",
                "",
                "",
                "",
                "",
                "",
                ""
            ]
        },
        {
            "cell_type": "markdown",
            "metadata": {},
            "source": [
                "\u6c7a\u5b9a\u4fc2\u6570"
            ]
        },
        {
            "cell_type": "code",
            "execution_count": null,
            "metadata": {},
            "outputs": [],
            "source": [
                "\n",
                "\n",
                ""
            ]
        }
    ],
    "metadata": {
        "kernelspec": {
            "display_name": "latest",
            "language": "python",
            "name": "latest"
        },
        "language_info": {
            "codemirror_mode": {
                "name": "ipython",
                "version": 3
            },
            "file_extension": ".py",
            "mimetype": "text/x-python",
            "name": "python",
            "nbconvert_exporter": "python",
            "pygments_lexer": "ipython3",
            "version": "3.8.2"
        },
        "toc": {
            "base_numbering": 1,
            "nav_menu": {},
            "number_sections": true,
            "sideBar": true,
            "skip_h1_title": false,
            "title_cell": "Table of Contents",
            "title_sidebar": "Contents",
            "toc_cell": false,
            "toc_position": {},
            "toc_section_display": true,
            "toc_window_display": false
        }
    },
    "nbformat": 4,
    "nbformat_minor": 2
}