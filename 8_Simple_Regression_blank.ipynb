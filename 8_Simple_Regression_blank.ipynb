{
    "cells": [
        {
            "cell_type": "markdown",
            "metadata": {},
            "source": [
                "# \u5358\u56de\u5e30\u5206\u6790"
            ]
        },
        {
            "cell_type": "code",
            "execution_count": null,
            "metadata": {},
            "outputs": [],
            "source": [
                "\n",
                "\n",
                "",
                "",
                "",
                "",
                "",
                ""
            ]
        },
        {
            "cell_type": "markdown",
            "metadata": {
                "heading_collapsed": true
            },
            "source": [
                "## \u7528\u8a9e\u96c6"
            ]
        },
        {
            "cell_type": "markdown",
            "metadata": {
                "hidden": true
            },
            "source": [
                "* \u6a2a\u65ad\u9762\u30c7\u30fc\u30bf\uff08cross-sectional data\uff09\n",
                "    * \u3042\u308b\u6642\u70b9\u306b\u304a\u3044\u3066\u8907\u6570\u306e\u5bfe\u8c61\u3092\u89b3\u5bdf\u3057\u53ce\u96c6\u3057\u305f\u30c7\u30fc\u30bf\uff08\u4f8b\u3048\u3070\uff0c2018\u5e74\u306e47\u90fd\u9053\u5e9c\u770c\u306e\u770c\u5185\u7dcf\u751f\u7523\uff09\n",
                "* \u6642\u7cfb\u5217\u30c7\u30fc\u30bf\uff08time-series data\uff09\n",
                "    * \u3042\u308b\u9805\u76ee\u306b\u3064\u3044\u3066\u6642\u9593\u306b\u6cbf\u3063\u3066\u96c6\u3081\u305f\u30c7\u30fc\u30bf\uff08\u4f8b\u3048\u3070\uff0c1950~2018\u5e74\u306e\u5175\u5eab\u770c\u306e\u770c\u5185\u7dcf\u751f\u7523\u306e\u5e74\u6b21\u30c7\u30fc\u30bf\uff09\n",
                "* \u30d1\u30cd\u30eb\u30fb\u30c7\u30fc\u30bf\uff08panel ata\uff09\n",
                "    * \u6a2a\u65ad\u9762\u30c7\u30fc\u30bf\u3068\u6642\u7cfb\u5217\u30c7\u30fc\u30bf\u306e\u4e21\u65b9\u306e\u7279\u5fb4\u3092\u517c\u306d\u5099\u3048\u305f\u30c7\u30fc\u30bf\u3002\uff08\u4f8b\u3048\u3070\uff0c1990~2018\u5e74\u306e47\u90fd\u9053\u5e9c\u770c\u306e\u770c\u5185\u7dcf\u751f\u7523\u30c7\u30fc\u30bf\uff09\n",
                "* \u89b3\u6e2c\u5024 \uff1d observations (observed values)\n",
                "    * \u30c7\u30fc\u30bf\u306e\u5024\uff08\u4f8b\u3048\u3070\uff0c\u4fa1\u683c\u3084\u4eba\u6570\uff09\n",
                "    * a value of individual data"
            ]
        },
        {
            "cell_type": "markdown",
            "metadata": {
                "hidden": true
            },
            "source": [
                "* \u6a19\u672c\uff08\u30b5\u30f3\u30d7\u30eb\uff09\uff1d sample \n",
                "    * \u89b3\u6e2c\u5024\u3067\u69cb\u6210\u3055\u308c\u308b\u30c7\u30fc\u30bf\u307e\u305f\u306f\u30c7\u30fc\u30bf\u30fb\u30bb\u30c3\u30c8\n",
                "    * a set of data\n",
                "* \u6a19\u672c\u306e\u5927\u304d\u3055 \uff1d sample size \uff1d \u30b5\u30f3\u30d7\u30eb\u30fb\u30b5\u30a4\u30ba\n",
                "    * \u6bcd\u96c6\u56e3\u304b\u3089$n$\u500b\u306e\u89b3\u6e2c\u5024\u3092\u53ce\u96c6\u3057\u305f\u3068\u3059\u308b\u3068\uff0c$n$\uff1d\u300c\u6a19\u672c\u306e\u5927\u304d\u3055\u300d\n",
                "* \u6a19\u672c\u6570 \uff1d number of samples\n",
                "    * \u6bcd\u96c6\u56e3\u304b\u3089$n$\u500b\u306e\u89b3\u6e2c\u5024\u306e\u6a19\u672c\u3092$N$\u7d44\u53ce\u96c6\u3057\u305f\u3068\u3059\u308b\u3068\uff0c$N$\uff1d\u300c\u6a19\u672c\u6570\u300d\n",
                "    * $N$\u306e\u6a19\u672c\u6570\u304c\u3042\u308b\u5834\u5408\uff0c\u500b\u3005\u306e\u6a19\u672c\u306e\u5927\u304d\u3055\u3092$n_i$, $i=1,2,3,...N$\u3068\u66f8\u304f\u3053\u3068\u3082\u3067\u304d\u308b\u3002\n",
                "* \u7d71\u8a08\u91cf \uff1d statistics\n",
                "    * \uff12\u3064\u306e\u610f\u5473\u3067\u4f7f\u308f\u308c\u308b\n",
                "        1. \u5358\u7d14\u306b\u6a19\u672c\u30c7\u30fc\u30bf\u306e\u7279\u5fb4\u3092\u8981\u7d04\u3059\u308b\u305f\u3081\u306b\u4f7f\u308f\u308c\u308b**\u95a2\u6570**\u3002\u5e73\u5747\u306e\u5f0f\u304c\u4e00\u4f8b\u3067\u3042\u308a\u3001\u30c7\u30fc\u30bf\u304c\u300c\u5165\u529b\u300d\u3067\u3042\u308a\u3001\u305d\u306e\u5e73\u5747\u304c\u300c\u51fa\u529b\u300d\u3002\u6a19\u672c\u306b\u3088\u3063\u3066\u7570\u306a\u308b\u305f\u3081\u78ba\u7387\u5909\u6570\uff08random variables\uff09\n",
                "        1. \u4e0a\u306e\u95a2\u6570\u3092\u4f7f\u3044\u8a08\u7b97\u3057\u305f\u6570\u5024\n",
                "* \u63a8\u5b9a \uff1d estimation\n",
                "    * \u6bcd\u96c6\u56e3\u306e\u672a\u77e5\u306e\u30d1\u30e9\u30e1\u30fc\u30bf\u3092\u8a08\u7b97\u3057\u63a8\u77e5\u3059\u308b\u3053\u3068\n",
                "* \u63a8\u5b9a\u91cf \uff1d estimators\n",
                "    * **\u6bcd\u96c6\u56e3\u306e\u30d1\u30e9\u30e1\u30fc\u30bf**\uff08\u6bcd\u6570\uff09\u3092\u63a8\u5b9a\u3059\u308b\u305f\u3081\u306b\u7528\u3044\u308b\u95a2\u6570\u3068\u3057\u3066\u306e\u7d71\u8a08\u91cf\uff08\u4f8b\u3048\u3070\uff0c\u56de\u5e30\u76f4\u7dda\u306e\u4fc2\u6570\u306e\u5f0f\uff09\n",
                "        * \u6bcd\u96c6\u56e3\u306e\u30d1\u30e9\u30e1\u30fc\u30bf\u3068\u3044\u3046\u771f\u306e\u5024\u3068\u6bd4\u8f03\u3057\u3066\u30d0\u30a4\u30a2\u30b9\u3092\u8003\u3048\u308b\u3053\u3068\u304c\u3067\u304d\u308b\u306e\u304c\u63a8\u5b9a\u91cf\u3067\u3042\u308b\u304c\u3001\u7d71\u8a08\u91cf\u306f\u305d\u3046\u3067\u306f\u306a\u3044\n",
                "    * \u6a19\u672c\u306b\u3088\u3063\u3066\u7570\u306a\u308b\u305f\u3081\u78ba\u7387\u5909\u6570\uff08random variables\uff09\n",
                "* \u63a8\u5b9a\u5024 \uff1d estimates\n",
                "    * \u6bcd\u96c6\u56e3\u306e\u30d1\u30e9\u30e1\u30fc\u30bf\u3092\u63a8\u77e5\u3059\u308b\u305f\u3081\u306b\u63a8\u5b9a\u91cf\u3092\u4f7f\u3044\u5b9f\u969b\u306b\u8a08\u7b97\u3057\u3066\u5f97\u305f\u6570\u5024\uff08\u4f8b\u3048\u3070\uff0c\u56de\u5e30\u306e\u5b9a\u6570\u9805\uff09\n",
                "    * \u78ba\u7387\u5909\u6570\u306e\u5b9f\u73fe\u5024"
            ]
        },
        {
            "cell_type": "markdown",
            "metadata": {
                "hidden": true
            },
            "source": [
                "* \u6bcd\u96c6\u56e3\u56de\u5e30\u5f0f \uff1d Population Regression Equation (PRE)\n",
                "    * \u6bcd\u96c6\u56e3\u306e\u5024\u3092\u751f\u6210\u3059\u308b\u56de\u5e30\u5f0f\uff08\u89b3\u6e2c\u4e0d\u53ef\u80fd\uff09\n",
                "    * \u30c7\u30fc\u30bf\u767a\u751f\u30d7\u30ed\u30bb\u30b9\uff08Data Generating Process; DGP\uff09\n",
                "    \n",
                "        $$y = \\beta_0 + \\beta_1 x + u$$\n",
                "    \n",
                "* \u8aa4\u5dee\u9805\uff08\u652a\u4e71\u9805\uff09\uff1d (random) errors\n",
                "    * \u6bcd\u96c6\u56e3\u56de\u5e30\u5f0f\u306b\u3042\u308b\u89b3\u6e2c\u3067\u304d\u306a\u3044\u30e9\u30f3\u30c0\u30e0\u5909\u6570\uff08PRE\u306e$u$\uff09\n",
                "* \u30e2\u30c7\u30eb = models\n",
                "    * \u6bcd\u96c6\u56e3\u306e\u30d1\u30e9\u30e1\u30fc\u30bf\u3092\u63a8\u5b9a\u3059\u308b\u305f\u3081\u306b\u4f7f\u3046\u56de\u5e30\u5f0f\n",
                "    * \u6700\u5c0f\u4e8c\u4e57\u6cd5\u63a8\u5b9a\u6cd5\u306f\uff0c\u63a8\u5b9a\u65b9\u6cd5\u3067\u3042\u308a\u30e2\u30c7\u30eb\u3067\u306f\u306a\u3044\u306e\u3067\u6ce8\u610f\u3057\u3088\u3046\u3002\n",
                "* \u6b8b\u5dee \uff1d residuals\n",
                "    * \u56de\u5e30\u5f0f\u306e\u88ab\u8aac\u660e\u5909\u6570\u306e\u89b3\u6e2c\u5024\u3068\u4e88\u6e2c\u5024\u306e\u5dee\uff08\u6b21\u5f0f\u306e$\\hat{u}$\uff09\n",
                "    \n",
                "        $$ \\hat{u}_i=y_i-\\hat{\\beta}_0-\\hat{\\beta}_1x_i$$\n",
                "    \n",
                "    * $\\hat{\\beta}_0$, $\\hat{\\beta}_0$\u306f\u30c7\u30fc\u30bf\u3092\u4f7f\u3063\u3066\u8a08\u7b97\u3057\u305f\u63a8\u5b9a\u91cf\n",
                "    * $i=1,2,...n$\uff08$n$\u306f\u6a19\u672c\u306e\u5927\u304d\u3055\uff09"
            ]
        },
        {
            "cell_type": "markdown",
            "metadata": {
                "heading_collapsed": true
            },
            "source": [
                "## \u8aac\u660e"
            ]
        },
        {
            "cell_type": "markdown",
            "metadata": {
                "hidden": true
            },
            "source": [
                "\u8aac\u660e\u5909\u6570\u304c\uff11\u3064\u306e\u5358\u56de\u5e30\uff08Simple Regression\uff09\u3092\u8003\u3048\u308b\u3002\n",
                "\n",
                "$$y_i=\\beta_0+\\beta_1 x_i + u_i$$\n",
                "\n",
                "* $y_i$\uff1a \u88ab\u8aac\u660e\u5909\u6570\uff08explained variable\uff09\n",
                "    * \u5f93\u5c5e\u5909\u6570\uff08dependent variable\uff09\n",
                "    * regressand\n",
                "* $x_i$\uff1a \u8aac\u660e\u5909\u6570\uff08explanatory variable\uff09\n",
                "    * \u72ec\u7acb\u5909\u6570\uff08independent variable\uff09\n",
                "    * regressor\n",
                "* $u_i$\uff1a \u8aa4\u5dee\u9805\uff08errors)\n",
                "    * \u89b3\u6e2c\u4e0d\u53ef\u80fd\u306a\u30e9\u30f3\u30c0\u30e0\u306a\u8981\u7d20\n",
                "    * \u5e73\u5747\u306f\u30bc\u30ed\u3068\u4eee\u5b9a\u3059\u308b\uff08\u91cd\u56de\u5e30\u5206\u6790\u306e\u7ae0\u3067\u3088\u308a\u8a73\u3057\u304f\u8aac\u660e\u3059\u308b\uff09\n",
                "* $i=1,2,...n$\uff1a\u89b3\u6e2c\u5024\u306e\u30a4\u30f3\u30c7\u30c3\u30af\u30b9\n",
                "* $\\beta_0$\uff1a\u5b9a\u6570\u9805\uff08\u89b3\u6e2c\u4e0d\u53ef\u80fd\u306a\u305f\u3081\u63a8\u5b9a\u3059\u308b\uff09\n",
                "* $\\beta_1$\uff1a\u30b9\u30ed\u30fc\u30d7\u4fc2\u6570\uff08\u89b3\u6e2c\u4e0d\u53ef\u80fd\u306a\u305f\u3081\u63a8\u5b9a\u3059\u308b\uff09"
            ]
        },
        {
            "cell_type": "markdown",
            "metadata": {
                "hidden": true
            },
            "source": [
                "---\n",
                "**\u6700\u5c0f\u4e8c\u4e57\u6cd5\u63a8\u5b9a\u6cd5\uff08Ordinary Least Squares; OLS\uff09**\n",
                "\n",
                "$$\\sum_{i=1}^n\\left(y_i-\\beta_0-\\beta_1 x_i\\right)^2$$\n",
                "\n",
                "\u3092\u6700\u5c0f\u5316\u3059\u308b$\\beta_0$\u3068$\\beta_1$\u3092\u9078\u629e\u3059\u308b\u3068\u4ee5\u4e0b\u3092\u5f97\u308b\uff1a\n",
                "\n",
                "$$\n",
                "\\hat{\\beta}_0=\\bar{y}-\\hat{\\beta}_1\\bar{x},\\qquad\\qquad\n",
                "\\hat{\\beta}_1=\\frac{\\text{Cov}(x,y)}{\\text{Var}(x)}\n",
                "$$\n",
                "\n",
                "* `^`\uff08\u30cf\u30c3\u30c8\uff09\u304c\u3042\u308b\u5909\u6570\uff08$\\hat{\\beta}_0$\u3068$\\hat{\\beta}_1$\uff09\u3092**OLS\u63a8\u5b9a\u91cf**\u3068\u547c\u3076\n",
                "* `-`\uff08\u30d0\u30fc\uff09\u304c\u3042\u308b\u5909\u6570\uff08\u4f8b\u3048\u3070\uff0c$\\bar{y}$\uff09\u306f\u5e73\u5747\u5024\n",
                "* $\\text{Cov}(x,y)=$ $x$\u3068$y$\u306e\u5171\u5206\u6563\n",
                "* $\\text{Var}(x)=$ $x$\u306e\u5206\u6563\n",
                "* $x$\u306e\u3088\u3046\u306b\u6dfb\u3048\u5b57$i$\u3092\u7701\u3044\u305f\u5834\u5408\u306f\uff0c$x_1$\u304b\u3089$x_n$\u307e\u3067\u306e\u5168\u3066\u306e\u89b3\u6e2c\u5024\u3068\u3044\u3046\u610f\u5473\uff08$y$\u3082\u540c\u3058\uff09"
            ]
        },
        {
            "cell_type": "markdown",
            "metadata": {
                "hidden": true
            },
            "source": [
                "\u307e\u305f\u4ee5\u4e0b\u3092\u5b9a\u7fa9\u3059\u308b\u3002\n",
                "* \u4e88\u6e2c\u5024 $\\hat{y}_i$\n",
                "\n",
                "$$\\hat{y}_i=\\hat{\\beta}_0 + \\hat{\\beta}_1x_i$$\n",
                "\n",
                "* \u6b8b\u5dee $\\hat{u}_i$\n",
                "\n",
                "$$\\hat{u}_i=y_i-\\hat{y}_i$$"
            ]
        },
        {
            "cell_type": "markdown",
            "metadata": {
                "heading_collapsed": true
            },
            "source": [
                "## \u30c7\u30fc\u30bf"
            ]
        },
        {
            "cell_type": "markdown",
            "metadata": {
                "hidden": true
            },
            "source": [
                "\u30c7\u30fc\u30bf\u306e\u8aad\u307f\u8fbc\u307f\u306b\u306f`wooldridge`\u306e\u30d1\u30c3\u30b1\u30fc\u30b8\u3092\u4f7f\u3046\u3002\u4f7f\u3046\u95a2\u6570\u306f`data()`\u3067\u3042\u308a\uff0c\u5f15\u6570\u306a\u3057\u3067\u5b9f\u884c\u3059\u308b\u3068\u30c7\u30fc\u30bf\u30bb\u30c3\u30c8\u306e\u30ea\u30b9\u30c8\u304c\u8868\u793a\u3055\u308c\u308b\u3002"
            ]
        },
        {
            "cell_type": "code",
            "execution_count": null,
            "metadata": {},
            "outputs": [],
            "source": []
        },
        {
            "cell_type": "markdown",
            "metadata": {
                "hidden": true
            },
            "source": [
                "\u4ee5\u4e0b\u3067\u306f`wage1`\u3092\u4f7f\u3046\u3002\u30c7\u30fc\u30bf\u30fb\u30bb\u30c3\u30c8\u3092\u8aad\u307f\u8fbc\u3080\u306b\u306f\u3001\u5f15\u6570\u306b\u30c7\u30fc\u30bf\u30fb\u30bb\u30c3\u30c8\u540d\u3092\u6587\u5b57\u5217\u3068\u3057\u3066\u5165\u529b\u3059\u308b\u3002"
            ]
        },
        {
            "cell_type": "code",
            "execution_count": null,
            "metadata": {},
            "outputs": [],
            "source": []
        },
        {
            "cell_type": "markdown",
            "metadata": {
                "hidden": true
            },
            "source": [
                "\u30aa\u30d7\u30b7\u30e7\u30f3`description=True`\u3092\u8ffd\u52a0\u3059\u308b\u3068\u30c7\u30fc\u30bf\u306e\u8aac\u660e\u3092\u8868\u793a\u3059\u308b\u3053\u3068\u304c\u3067\u304d\u308b\u3002"
            ]
        },
        {
            "cell_type": "code",
            "execution_count": null,
            "metadata": {},
            "outputs": [],
            "source": []
        },
        {
            "cell_type": "markdown",
            "metadata": {
                "hidden": true
            },
            "source": [
                "\u3053\u306e\u30c7\u30fc\u30bf\u3092\u4f7f\u3044\u4ee5\u4e0b\u306e\u554f\u984c\u3092\u8003\u3048\u308b\u3002\n",
                "\n",
                "\u300c\u6559\u80b2\u6c34\u6e96\u306f\u8cc3\u91d1\u306b\u3069\u306e\u3088\u3046\u306a\u5f71\u97ff\u3092\u4e0e\u3048\u308b\u306e\u304b\u300d\n",
                "\n",
                "* \u88ab\u8aac\u660e\u5909\u6570\uff1a`wage`\uff08\u5e73\u5747\u6642\u7d66\u3001\u5358\u4f4d\uff1a\u7c73\u30c9\u30eb\uff09\n",
                "* \u8aac\u660e\u5909\u6570\uff1a`educ`\uff08\u6559\u80b2\u5e74\u6570\u3001\u5358\u4f4d\uff1a\u5e74\uff09\n",
                "\n",
                "\u307e\u305a\u95a2\u4fc2\u3059\u308b\u5909\u6570\u3060\u3051\u3092\u53d6\u308a\u51fa\u3059\u3002"
            ]
        },
        {
            "cell_type": "code",
            "execution_count": null,
            "metadata": {},
            "outputs": [],
            "source": []
        },
        {
            "cell_type": "code",
            "execution_count": null,
            "metadata": {},
            "outputs": [],
            "source": []
        },
        {
            "cell_type": "code",
            "execution_count": null,
            "metadata": {},
            "outputs": [],
            "source": []
        },
        {
            "cell_type": "code",
            "execution_count": null,
            "metadata": {},
            "outputs": [],
            "source": []
        },
        {
            "cell_type": "markdown",
            "metadata": {
                "heading_collapsed": true
            },
            "source": [
                "## \u300c\u624b\u8a08\u7b97\u300d"
            ]
        },
        {
            "cell_type": "markdown",
            "metadata": {
                "hidden": true
            },
            "source": [
                "\u307e\u305a\u4e0a\u3067\u793a\u3057\u305f$\\hat{\\beta}_0$\u3068$\\hat{\\beta}_1$\u306e\u5f0f\u3092\u4f7f\u3044\u8a08\u7b97\u3059\u308b\u3002"
            ]
        },
        {
            "cell_type": "markdown",
            "metadata": {
                "hidden": true
            },
            "source": [
                "\u5206\u6563\u5171\u5206\u6563\u884c\u5217\u3092\u8a08\u7b97\u3059\u308b\u3002"
            ]
        },
        {
            "cell_type": "code",
            "execution_count": null,
            "metadata": {},
            "outputs": [],
            "source": [
                "\n"
            ]
        },
        {
            "cell_type": "markdown",
            "metadata": {
                "hidden": true
            },
            "source": [
                "\u5171\u5206\u6563\u306e\u5024\u3092`cov_wage_edu`\u306b\u5272\u308a\u5f53\u3066\u308b\u3002"
            ]
        },
        {
            "cell_type": "code",
            "execution_count": null,
            "metadata": {},
            "outputs": [],
            "source": [
                "\n"
            ]
        },
        {
            "cell_type": "markdown",
            "metadata": {
                "hidden": true
            },
            "source": [
                "`wage`\u3068`educ`\u306e\u5206\u6563"
            ]
        },
        {
            "cell_type": "code",
            "execution_count": null,
            "metadata": {},
            "outputs": [],
            "source": []
        },
        {
            "cell_type": "markdown",
            "metadata": {
                "hidden": true
            },
            "source": [
                "\u6b21\u306e\u3088\u3046\u306b\u8a08\u7b97\u3057\u3066\u3082\u540c\u3058\u5024\u3068\u306a\u308b\u3002"
            ]
        },
        {
            "cell_type": "code",
            "execution_count": null,
            "metadata": {},
            "outputs": [],
            "source": [
                "\n",
                "\n",
                ""
            ]
        },
        {
            "cell_type": "markdown",
            "metadata": {
                "hidden": true
            },
            "source": [
                "\u5e73\u5747"
            ]
        },
        {
            "cell_type": "code",
            "execution_count": null,
            "metadata": {},
            "outputs": [],
            "source": [
                "\n"
            ]
        },
        {
            "cell_type": "markdown",
            "metadata": {
                "hidden": true
            },
            "source": [
                "$\\beta_1$\u306e\u63a8\u5b9a\u5024 $\\left(\\hat{\\beta}_1\\right)$"
            ]
        },
        {
            "cell_type": "code",
            "execution_count": null,
            "metadata": {},
            "outputs": [],
            "source": [
                "\n"
            ]
        },
        {
            "cell_type": "markdown",
            "metadata": {
                "hidden": true
            },
            "source": [
                "$\\beta_0$\u306e\u63a8\u5b9a\u5024 $\\left(\\hat{\\beta}_0\\right)$"
            ]
        },
        {
            "cell_type": "code",
            "execution_count": null,
            "metadata": {},
            "outputs": [],
            "source": [
                "\n"
            ]
        },
        {
            "cell_type": "markdown",
            "metadata": {
                "heading_collapsed": true
            },
            "source": [
                "## `statsmodels`\u3092\u4f7f\u3046"
            ]
        },
        {
            "cell_type": "markdown",
            "metadata": {
                "hidden": true
            },
            "source": [
                "`statsmodels`\u306e\u30d1\u30c3\u30b1\u30fc\u30b8\u3092\u4f7f\u3046\u3053\u3068\u306b\u3088\u308a\uff0c\u591a\u304f\u306e\u8a08\u7b97\u3092\u81ea\u52d5\u5316\u3067\u304d\u308b\u3002\u4ee5\u4e0b\u306e\u9806\u756a\u3067\u304a\u3053\u306a\u3046\u3002\n",
                "* `ols`\u30b5\u30d6\u30d1\u30c3\u30b1\u30fc\u30b8\u3092\u8aad\u307f\u8fbc\u3080\n",
                "* \u56de\u5e30\u5f0f\u3092\u5b9a\u7fa9\u3059\u308b\n",
                "* \u63a8\u5b9a\u5024\u306e\u81ea\u52d5\u8a08\u7b97"
            ]
        },
        {
            "cell_type": "markdown",
            "metadata": {
                "hidden": true
            },
            "source": [
                "**\u30b5\u30d6\u30d1\u30c3\u30b1\u30fc\u30b8\u306e\u8aad\u307f\u8fbc\u307f**\n",
                "\n",
                "`statsmodels`\u306b\u306f\u591a\u304f\u306e\u30b5\u30d6\u30d1\u30c3\u30b1\u30fc\u30b8\u3084\u95a2\u6570\u304c\u3042\u308b\u304c\uff0c\u3053\u3053\u3067\u306f\u56de\u5e30\u5f0f\u3092\u6587\u5b57\u5217\u3067\u66f8\u304f\u3053\u3068\u304c\u3067\u304d\u308b`ols`\u3092\u3064\u304b\u3046\u3002\uff08\u4ed6\u306e\u30b3\u30fc\u30c9\u306e\u66f8\u304d\u65b9\u3082\u3042\u308b\u304c\uff0c\u4ed6\u306e\u30c8\u30d4\u30c3\u30af\u3067\u6271\u3046\u3002\uff09"
            ]
        },
        {
            "cell_type": "markdown",
            "metadata": {
                "hidden": true
            },
            "source": [
                "**\u56de\u5e30\u5f0f\u306e\u5b9a\u7fa9**\n",
                "\n",
                "* \u5f0f\u3092`''`\u3067\u56f2\u3080\uff08\u6587\u5b57\u5217\uff09\n",
                "* \u5b9a\u6570\u9805\u3067\u3042\u308b\uff08$\\beta_0$\uff09\u306f\u81ea\u52d5\u7684\u306b\u633f\u5165\u3055\u308c\u308b\u3002\n",
                "    * \u5b9a\u6570\u3092\u7701\u304d\u305f\u3044\u5834\u5408\u306f\u5f0f\u306b`-1`\u3092\u52a0\u3048\u308b\u3002\n",
                "    * \u5f8c\u3067\u6271\u3046`linearmodels`\u30d1\u30c3\u30b1\u30fc\u30b8\u3067\u306f\uff0c\u5b9a\u6570\u304c\u81ea\u52d5\u7684\u306b\u633f\u5165\u3055\u308c\u306a\u3044\u306e\u3067\u8981\u6ce8\u610f\u3002\n",
                "\n",
                "---\n",
                "\u5b9a\u6570\u9805\u304c\u3042\u308b\u5834\u5408\uff1a\n",
                "```\n",
                "\u88ab\u8aac\u660e\u5909\u6570 ~ \u8aac\u660e\u5909\u6570\n",
                "```\n",
                "\u5b9a\u6570\u9805\u304c\u306a\u3044\u5834\u5408\uff1a\n",
                "```\n",
                "\u88ab\u8aac\u660e\u5909\u6570 ~ -1 + \u8aac\u660e\u5909\u6570\n",
                "```\n",
                "\n",
                "---\n",
                "`wage`\u3092\u88ab\u8aac\u660e\u5909\u6570\u306b\u3057\uff0c\u5b9a\u6570\u9805\u3092\u52a0\u3048\u3066`educ`\u3092\u8aac\u660e\u5909\u6570\u3092\u3059\u308b\u5834\u5408\uff0c\u6b21\u306e\u3088\u3046\u306b\u66f8\u304f\u3002"
            ]
        },
        {
            "cell_type": "code",
            "execution_count": null,
            "metadata": {},
            "outputs": [],
            "source": []
        },
        {
            "cell_type": "markdown",
            "metadata": {
                "hidden": true
            },
            "source": [
                "**\u81ea\u52d5\u8a08\u7b97**\n",
                "\n",
                "\u307e\u305a\u81ea\u52d5\u8a08\u7b97\u306e\u6e96\u5099\u3068\u3057\u3066\u8a08\u7b97\u306e\u5bfe\u8c61\u3068\u306a\u308b\u3082\u306e\uff08\u30a4\u30f3\u30b9\u30bf\u30f3\u30b9\u3068\u547c\u3070\u308c\u308b\u30aa\u30d6\u30b8\u30a7\u30af\u30c8\uff09\u3092\u751f\u6210\u3057\u3001\"model\"\u306e\u7701\u7565\u5f62\u306e`mod`\u306b\u5272\u308a\u5f53\u3066\u308b\u3002\u3053\u3053\u3067\u7b2c\uff11\u5f15\u6570\u306f\u4e0a\u3067\u5b9a\u7fa9\u3057\u305f\u56de\u5e30\u5f0f\uff0c\u7b2c\uff12\u5f15\u6570`data`\u306f\u4f7f\u7528\u3059\u308b\u30c7\u30fc\u30bf\u3092\u306e\u6307\u5b9a\u3002"
            ]
        },
        {
            "cell_type": "code",
            "execution_count": null,
            "metadata": {},
            "outputs": [],
            "source": []
        },
        {
            "cell_type": "markdown",
            "metadata": {
                "hidden": true
            },
            "source": [
                "`mod`\u306e\u5c5e\u6027\u3092\u8abf\u3079\u3066\u307f\u3088\u3046\u3002"
            ]
        },
        {
            "cell_type": "code",
            "execution_count": null,
            "metadata": {},
            "outputs": [],
            "source": []
        },
        {
            "cell_type": "markdown",
            "metadata": {
                "hidden": true
            },
            "source": [
                "\u3053\u306e\u4e2d\u306b\u5b9f\u969b\u306b\u8a08\u7b97\u3059\u308b\u305f\u3081\u306b\u30e1\u30bd\u30c3\u30c9`fit()`\u304c\u6e96\u5099\u3055\u308c\u3066\u304a\u308a\u3001\u305d\u308c\u3092\u4f7f\u3044\u7d50\u679c\u3092`res`\u306b\u5272\u308a\u5f53\u3066\u308b\uff08`res`\u306fresult\u306e\u7565\uff09\u3002"
            ]
        },
        {
            "cell_type": "code",
            "execution_count": null,
            "metadata": {},
            "outputs": [],
            "source": []
        },
        {
            "cell_type": "markdown",
            "metadata": {
                "hidden": true
            },
            "source": [
                "\u4e0a\u306e\uff12\u3064\u3092\u5206\u3051\u305a\u306b\u4e00\u884c\u3067\u66f8\u3044\u3066\u3082OK\u3002\n",
                "```\n",
                "res = old(formula, data=df).fit()\n",
                "```\n",
                "`res`\u306e\u5c5e\u6027\u3092\u30c1\u30a7\u30c3\u30af\u3057\u3066\u307f\u308b\u3002"
            ]
        },
        {
            "cell_type": "code",
            "execution_count": null,
            "metadata": {},
            "outputs": [],
            "source": []
        },
        {
            "cell_type": "markdown",
            "metadata": {
                "hidden": true
            },
            "source": [
                "\u4f8b\u3048\u3070\uff0c\u4e0a\u306e\u30ea\u30b9\u30c8\u306e\u4e2d\u306b`.params`\u3068\u3042\u308b\u304c\uff0c\u3053\u306e\u30c7\u30fc\u30bf\u5c5e\u6027\u3092\u4f7f\u3044\u4fc2\u6570\u306e\u63a8\u5b9a\u5024\u3092\u53d6\u308a\u51fa\u3059\u3053\u3068\u304c\u3067\u304d\u308b\u3002"
            ]
        },
        {
            "cell_type": "code",
            "execution_count": null,
            "metadata": {},
            "outputs": [],
            "source": []
        },
        {
            "cell_type": "markdown",
            "metadata": {
                "hidden": true
            },
            "source": [
                "\u307e\u305f`wage`\u306e\u4e88\u6e2c\u5024\u306f`res.fittedvalues`\u3082\u3057\u304f\u306f`res.predict()`\u3067\u5f97\u308b\u3053\u3068\u304c\u3067\u304d\u308b\u3002`res.fittedvalues`\u306f\u30c7\u30fc\u30bf\u5c5e\u6027\u3067\u3042\u308a`res.predict()`\u306f\u30e1\u30bd\u30c3\u30c9\u3067\u3042\u308b\u304c\u3001\u5f8c\u8005\u306f\u5f15\u6570\u304c\u306a\u3044\u5834\u5408\u306f\u524d\u8005\u3068\u540c\u3058\u7d50\u679c\u3092\u8fd4\u3059\u3002\n",
                "\n",
                "\u4e0a\u306e\u30ea\u30b9\u30c8\u304c\u793a\u3059\u3088\u3046\u306b`res`\u306b\u306f\u591a\u304f\u306e\u60c5\u5831\u304c\u8a70\u307e\u3063\u3066\u304a\u308a\uff0c\u3053\u308c\u3089\u3092\u99c6\u4f7f\u3057\uff0c\u56f3\u3092\u63cf\u3044\u305f\u308a\u63a8\u5b9a\u5024\u306e\u691c\u5b9a\u3092\u304a\u3053\u306a\u3046\u3053\u3068\u306b\u306a\u308b\u3002\n",
                "\n",
                "\u3053\u306e\u4e2d\u306b\u3042\u308b`summary()`\u3092\u4f7f\u3044\uff0c\u7d50\u679c\u304c\u307e\u3068\u3081\u3089\u308c\u305f\u8868\u3092\u51fa\u529b\u3059\u308b\u3053\u3068\u3082\u53ef\u80fd\u3067\u3042\u308b\u3002"
            ]
        },
        {
            "cell_type": "code",
            "execution_count": null,
            "metadata": {},
            "outputs": [],
            "source": []
        },
        {
            "cell_type": "markdown",
            "metadata": {
                "hidden": true
            },
            "source": [
                "\u3053\u3053\u3067`print()`\u95a2\u6570\u3092\u4f7f\u3063\u305f\u304c\u3001\u4f7f\u308f\u306a\u304f\u3068\u3082\u540c\u3058\u5185\u5bb9\u3092\u8868\u793a\u3067\u304d\u308b\u306e\u3067\u8a66\u3057\u3066\u307f\u3088\u3046\u3002\n",
                "\n",
                "\u307e\u305f\uff0c\u3053\u306e\u8868\u306f\uff13\u3064\u306e\u8868\u304b\u3089\u69cb\u6210\u3055\u308c\u3066\u304a\u308a\uff0c\u5fc5\u8981\u306a\u90e8\u5206\u3060\u3051\u3092\u8868\u793a\u3059\u308b\u3053\u3068\u3082\u53ef\u80fd\u3067\u3042\u308b\u3002\n",
                "```\n",
                "res.summary().tables[0]\n",
                "res.summary().tables[1]\n",
                "res.summary().tables[2]\n",
                "```\n",
                "\u4f8b\u3048\u3070\uff0c\u4fc2\u6570\u306e\u63a8\u5b9a\u5024\u306b\u95a2\u3059\u308b\u57fa\u672c\u7684\u306a\u7d71\u8a08\u91cf\u3060\u3051\u3092\u8868\u793a\u3059\u308b\u306b\u306f\u4ee5\u4e0b\u306e\u3088\u3046\u306b\u3059\u308c\u3070\u826f\u3044\u3002"
            ]
        },
        {
            "cell_type": "code",
            "execution_count": null,
            "metadata": {},
            "outputs": [],
            "source": []
        },
        {
            "cell_type": "markdown",
            "metadata": {
                "hidden": true
            },
            "source": [
                "OLS\u63a8\u5b9a\u306e\u7d50\u679c\u3092\u5272\u308a\u5f53\u3066\u305f`res`\u306b\u306f\uff0c\u3053\u3053\u3067\u8aac\u660e\u3057\u305f\u4ee5\u5916\u306b\u6570\u591a\u304f\u306e\u5c5e\u6027\u304c\u5b58\u5728\u3059\u308b\u3002\u305d\u308c\u3089\u306b\u95a2\u3059\u308b\u8aac\u660e\u306f[\u3053\u306e\u30b5\u30a4\u30c8](https://www.statsmodels.org/stable/generated/statsmodels.regression.linear_model.RegressionResults.html)\u3092\u53c2\u7167\u3059\u308b\u3053\u3068\u3002"
            ]
        },
        {
            "cell_type": "markdown",
            "metadata": {
                "heading_collapsed": true
            },
            "source": [
                "## \u56f3"
            ]
        },
        {
            "cell_type": "markdown",
            "metadata": {
                "hidden": true
            },
            "source": [
                "\u4e88\u6e2c\u5024\u306e\u53d6\u5f97"
            ]
        },
        {
            "cell_type": "code",
            "execution_count": null,
            "metadata": {},
            "outputs": [],
            "source": []
        },
        {
            "cell_type": "markdown",
            "metadata": {
                "hidden": true
            },
            "source": [
                "\u56f3\u306e\u4f5c\u6210"
            ]
        },
        {
            "cell_type": "code",
            "execution_count": null,
            "metadata": {},
            "outputs": [],
            "source": [
                "\n",
                "\n",
                "",
                "",
                "",
                ""
            ]
        },
        {
            "cell_type": "markdown",
            "metadata": {
                "heading_collapsed": true
            },
            "source": [
                "## \u30e2\u30c7\u30eb\u306e\u9069\u5408\u5ea6"
            ]
        },
        {
            "cell_type": "markdown",
            "metadata": {
                "hidden": true
            },
            "source": [
                "* SST\uff08Total Sum of Squares; \u5168\u5909\u52d5\u306e\u5e73\u65b9\u548c\uff09\n",
                "\n",
                "$$\\text{SST}=\\sum_{i=1}^n\\left(y_i-\\bar{y}\\right)^2=(n-1)\\cdot\\text{Var}(y)$$\n",
                "\n",
                "* SSE\uff08Explained Sum of Squares; \u56de\u5e30\u5909\u52d5\u306e\u5e73\u65b9\u548c\uff09\n",
                "\n",
                "$$\n",
                "\\text{SSE}=\\sum_{i=1}^n\\left(\\hat{y}_i-\\bar{y}\\right)^2=(n-1)\\cdot\\text{Var}\\left(\\hat{y}\\right)\n",
                "$$\n",
                "\n",
                "* SSR\uff08Residual Sum of Squares; \u6b8b\u5dee\u5909\u52d5\u306e\u5e73\u65b9\u548c\uff09\n",
                "\n",
                "$$\n",
                "\\text{SSR}=\\sum_{i=1}^n\\left(\\hat{u}_i-0\\right)^2=(n-1)\\cdot\\text{Var}\\left(\\hat{u}\\right)\n",
                "$$\n",
                "\n",
                "\u3053\u3053\u3067\uff0c$\\text{Var}(z)=\\dfrac{1}{n-1}\\sum_{i=1}^n\\left(z_i-\\bar{z}\\right)^2$\u3002\u3053\u308c\u3089\u3092\u4f7f\u3044\u4ee5\u4e0b\u3092\u5b9a\u7fa9\u3059\u308b\u3002"
            ]
        },
        {
            "cell_type": "markdown",
            "metadata": {
                "hidden": true
            },
            "source": [
                "---\n",
                "* \u6c7a\u5b9a\u4fc2\u6570\n",
                "\n",
                "$$R^2=\\frac{SSE}{SST}=1-\\frac{SSR}{SST}$$\n",
                "\n",
                "$$\n",
                "R^2\n",
                "=\\frac{\\text{Var}\\left(\\hat{y}\\right)}{\\text{Var}\\left(y\\right)}\n",
                "=1-\\frac{\\text{Var}\\left(\\hat{u}\\right)}{\\text{Var}\\left(y\\right)}\n",
                "$$\n",
                "\n",
                "* \u81ea\u7531\u5ea6\u4fee\u6b63\u5f8c\u306e\u6c7a\u5b9a\u4fc2\u6570\n",
                "\n",
                "$$\\overline{R}^2=1-(1-R^2)\\frac{n-1}{n-k-1}$$\n",
                "\n",
                "\u3053\u3053\u3067\uff0c$k=$ **\u5b9a\u6570\u9805\u4ee5\u5916\u306e\u8aac\u660e\u5909\u6570\u306e\u6570**\u3000\uff08\u4e0a\u306e\u4f8b\u3067\u306f$k=1$\uff09\n",
                "\n",
                "\u3053\u3053\u3067\u8aac\u660e\u3057\u305f\u6570\u5024\u306f\uff0c\u4e0a\u306e\u4f8b\u306e`res`\u306e\u5c5e\u6027\u3068\u3057\u3066\u3092\u53d6\u5f97\u3067\u304d\u308b\u3002\n",
                "```\n",
                "n = res.nobs\n",
                "k = res.df_model\n",
                "n-k-1 = res.df_resid\n",
                "SST = res.centered_tss\n",
                "SSE = res.ess\n",
                "SSR = res.ssr\n",
                "\u6c7a\u5b9a\u4fc2\u6570 = res.rsquared\n",
                "\u4fee\u6b63\u6e08\u307f\u6c7a\u5b9a\u4fc2\u6570 = res.rsquared_adj\n",
                "```"
            ]
        },
        {
            "cell_type": "code",
            "execution_count": null,
            "metadata": {},
            "outputs": [],
            "source": [
                "\n",
                "\n",
                "# n-k-1 = res.df_resid\n",
                "\n",
                "\n",
                ""
            ]
        },
        {
            "cell_type": "markdown",
            "metadata": {
                "hidden": true
            },
            "source": [
                "**\u6c7a\u5b9a\u4fc2\u6570**"
            ]
        },
        {
            "cell_type": "code",
            "execution_count": null,
            "metadata": {},
            "outputs": [],
            "source": []
        },
        {
            "cell_type": "code",
            "execution_count": null,
            "metadata": {},
            "outputs": [],
            "source": []
        },
        {
            "cell_type": "code",
            "execution_count": null,
            "metadata": {},
            "outputs": [],
            "source": [
                "\n",
                "\n",
                "",
                ""
            ]
        },
        {
            "cell_type": "markdown",
            "metadata": {
                "hidden": true
            },
            "source": [
                "**\u4fee\u6b63\u6e08\u307f\u6c7a\u5b9a\u4fc2\u6570**"
            ]
        },
        {
            "cell_type": "code",
            "execution_count": null,
            "metadata": {},
            "outputs": [],
            "source": []
        },
        {
            "cell_type": "code",
            "execution_count": null,
            "metadata": {},
            "outputs": [],
            "source": [
                "\n"
            ]
        },
        {
            "cell_type": "markdown",
            "metadata": {
                "heading_collapsed": true
            },
            "source": [
                "## \u5909\u6570\u306e\u5909\u63db"
            ]
        },
        {
            "cell_type": "markdown",
            "metadata": {
                "hidden": true
            },
            "source": [
                "\u4e0a\u306e\u56de\u5e30\u5206\u6790\u3067\u306f\u88ab\u8aac\u660e\u5909\u6570\u306f`wage`\u3092\u305d\u306e\u307e\u307e\u4f7f\u3063\u305f\u304c\uff0c\u52b4\u50cd\u7d4c\u6e08\u5b66\u3067\u306f\u8cc3\u91d1\u306e\u5bfe\u6570\u3092\u3068\u308a\u63a8\u5b9a\u3059\u308b\u306e\u304c\u4e00\u822c\u7684\u3067\u3042\u308a\uff0c\u305d\u306e\u3088\u3046\u306a\u5f0f\u3092\u8cc3\u91d1\u65b9\u7a0b\u5f0f\u3068\u547c\u3076\u3002\u305d\u306e\u8003\u3048\u306b\u6cbf\u3063\u3066\uff0c\u3053\u3053\u3067\u306f`wage`\u306e\u81ea\u7136\u5bfe\u6570\u5909\u63db\u3092\u304a\u3053\u306a\u3044\u56de\u5e30\u5206\u6790\u3092\u304a\u3053\u306a\u3046\u3002"
            ]
        },
        {
            "cell_type": "markdown",
            "metadata": {
                "heading_collapsed": true,
                "hidden": true
            },
            "source": [
                "### \u65b9\u6cd5\uff11\uff1a\u56de\u5e30\u5f0f\u3092\u76f4\u63a5\u66f8\u304d\u63db\u3048\u308b"
            ]
        },
        {
            "cell_type": "markdown",
            "metadata": {
                "hidden": true
            },
            "source": [
                "`numpy`\u306e\u5bfe\u6570\u95a2\u6570\u3092\u4f7f\u3063\u3066\uff0c\u56de\u5e30\u5f0f\u306e\u4e2d\u3067\u76f4\u63a5\u66f8\u304d\u63db\u3048\u308b\u3053\u3068\u304c\u3067\u304d\u308b\u3002"
            ]
        },
        {
            "cell_type": "code",
            "execution_count": null,
            "metadata": {},
            "outputs": [],
            "source": []
        },
        {
            "cell_type": "code",
            "execution_count": null,
            "metadata": {},
            "outputs": [],
            "source": []
        },
        {
            "cell_type": "code",
            "execution_count": null,
            "metadata": {},
            "outputs": [],
            "source": []
        },
        {
            "cell_type": "markdown",
            "metadata": {
                "hidden": true
            },
            "source": [
                "\uff08\u89e3\u91c8\uff09\n",
                "\n",
                "`res_1`\u306f\u6b21\u5f0f\u306e\u63a8\u5b9a\u7d50\u679c\u3067\u3042\u308b\u3002\n",
                "\n",
                "$\\ln y = \\beta_0+\\beta_1x+u$\n",
                "\n",
                "\u3053\u306e\u5f0f\u3092$x$\u306b\u3064\u3044\u3066\u5fae\u5206\u3059\u308b\u3068\u4ee5\u4e0b\u3092\u5f97\u308b\u3002\n",
                "\n",
                "$\\dfrac{d\\ln y}{dx}=\\dfrac{dy/y}{dx}=\\dfrac{y\\text{\u306e%\u5909\u5316}}{dx}=\\beta_1$\n",
                "\n",
                "\u5373\u3061\uff0c$\\beta_1$\u306f$x$\uff08\u6559\u80b2\u5e74\u6570\uff09\u304c\u4e00\u5358\u4f4d\u5897\u52a0\u3057\u305f\u5834\u5408\uff0c$y$\uff08\u8cc3\u91d1\uff09\u304c\u4f55\uff05\u5909\u5316\u3059\u308b\u304b\u3092\u793a\u3057\u3066\u3044\u308b\uff08\u6559\u80b2\u306e\u53ce\u76ca\u7387\uff09\u3002\u3053\u306eOLS\u63a8\u5b9a\u7d50\u679c\u306b\u3088\u308b\u3068\u3001\u6559\u80b2\u5e74\u6570\u304c\uff11\u5e74\u5897\u3048\u308b\u3068\u8cc3\u91d1\u306f8.2%\u5897\u52a0\u3059\u308b\u3002"
            ]
        },
        {
            "cell_type": "code",
            "execution_count": null,
            "metadata": {},
            "outputs": [],
            "source": [
                "\n",
                "\n",
                "",
                "",
                "",
                ""
            ]
        },
        {
            "cell_type": "markdown",
            "metadata": {
                "heading_collapsed": true,
                "hidden": true
            },
            "source": [
                "### \u65b9\u6cd5\uff12\uff1a\u4e8b\u524d\u306b\u5909\u6570\u3092\u4f5c\u6210"
            ]
        },
        {
            "cell_type": "markdown",
            "metadata": {
                "hidden": true
            },
            "source": [
                "\u65b9\u6cd5\uff11\u3067\u306f\u56de\u5e30\u5f0f\u3092\u76f4\u63a5\u66f8\u304d\u63db\u3048\u305f\u304c\u3001\u3053\u3053\u3067\u306f\u4e8b\u524d\u306b\u5909\u6570\u3092\u65b0\u3057\u304f\u751f\u6210\u3057\u63a8\u5b9a\u3059\u308b\u3002"
            ]
        },
        {
            "cell_type": "code",
            "execution_count": null,
            "metadata": {},
            "outputs": [],
            "source": []
        },
        {
            "cell_type": "code",
            "execution_count": null,
            "metadata": {},
            "outputs": [],
            "source": []
        },
        {
            "cell_type": "code",
            "execution_count": null,
            "metadata": {},
            "outputs": [],
            "source": []
        },
        {
            "cell_type": "code",
            "execution_count": null,
            "metadata": {},
            "outputs": [],
            "source": []
        },
        {
            "cell_type": "code",
            "execution_count": null,
            "metadata": {},
            "outputs": [],
            "source": [
                "\n",
                "\n",
                "",
                "",
                "",
                ""
            ]
        },
        {
            "cell_type": "markdown",
            "metadata": {
                "heading_collapsed": true
            },
            "source": [
                "## \u30b7\u30df\u30e5\u30ec\u30fc\u30b7\u30e7\u30f3\uff1a$OLS$\u63a8\u5b9a"
            ]
        },
        {
            "cell_type": "markdown",
            "metadata": {
                "heading_collapsed": true,
                "hidden": true
            },
            "source": [
                "### \u6bcd\u96c6\u56e3\u306e\u8003\u3048\u65b9"
            ]
        },
        {
            "cell_type": "markdown",
            "metadata": {
                "hidden": true
            },
            "source": [
                "\u6bcd\u96c6\u56e3\u3068\u306f\u5206\u6790\u306e\u5bfe\u8c61\u3068\u306a\u308b\u5171\u901a\u306e\u5c5e\u6027\u306a\u3069\u3092\u6301\u3064\u500b\u4eba\u30fb\u4f01\u696d\u30fb\u7523\u696d\u30fb\u5730\u57df\u30fb\u56fd\u306a\u3069\u306e\u96c6\u5408\u4f53\u3068\u3044\u3048\u308b\u3002\u3053\u3053\u3067\u91cd\u8981\u306a\u70b9\u306f\u6bcd\u96c6\u56e3\u306e\u5927\u304d\u3055\u3068\u30e9\u30f3\u30c0\u30e0\u62bd\u51fa\u306e\u95a2\u4fc2\u3092\u7406\u89e3\u3059\u308b\u3053\u3068\u3067\u3042\u308b\u3002\n",
                "\n",
                "* \u300c\u4eba\u9593\u306e\u8eab\u9577\u300d\u306e\u6bcd\u96c6\u56e3\uff1a\u5730\u7403\u4e0a\u306e\u4eba\u9593\n",
                "    * \u5168\u54e1\u306e\u8eab\u9577\u3092\u6e2c\u308b\u306e\u306f\u3042\u307e\u308a\u306b\u3082\u8cbb\u7528\u304c\u9ad8\u3044 $\\Rightarrow$ \u6a19\u672c\u306e\u5927\u304d\u3055$<$\u6bcd\u96c6\u56e3\u306e\u5927\u304d\u3055\n",
                "* \u300cOECD\u8af8\u56fd\u306eGDP\u300d\u306e\u6bcd\u96c6\u56e3\uff1a34\u30ab\u56fd\n",
                "    * 2018\u5e74\u306eGDP\u306f\u7c21\u5358\u306b\u5165\u624b\u53ef\u80fd\u3060\u304c\u3001\u300c\u6a19\u672c\u306e\u5927\u304d\u3055$=$\u6bcd\u96c6\u56e3\u306e\u5927\u304d\u3055\u300d\u3068\u3044\u3046\u610f\u5473\u306a\u306e\u3060\u308d\u3046\u304b\u3002\u305d\u3046\u3060\u3068\u3059\u308c\u3070\uff0c\u6a19\u672c\u3067\u306f\u306a\u304f\u6bcd\u96c6\u56e3\u5168\u3066\u306e\u30c7\u30fc\u30bf\u3092\u6271\u3046\u3053\u3068\u306b\u306a\u308a\uff0c\u6a19\u672c\u306e\u6982\u5ff5\u3067\u3042\u308b\u6a19\u6e96\u8aa4\u5dee\u306a\u3069\u306f\u610f\u5473\u304c\u306a\u304f\u306a\u308b\u3053\u3068\u306b\u306a\u308b\u3002\u3057\u304b\u3057\u3001\u300c\u6a19\u672c\u306e\u5927\u304d\u3055$<$\u6bcd\u96c6\u56e3\u300d\u3068\u89e3\u91c8\u3067\u304d\u308b\uff12\u3064\u306e\u8003\u3048\u65b9\u304c\u3042\u308b\u3002\n",
                "        1. \u56fd\u3068\u6642\u9593\u306e\u6982\u5ff5\u3067\u8003\u3048\u308b\u3068\u6bcd\u96c6\u56e3\u306e\u5927\u304d\u3055\u306f$\\infty$\n",
                "        2. \u78ba\u7387\u5909\u6570\u3068\u306f\u5b9f\u73fe\u53ef\u80fd\u306a\u6570\u5024\u304b\u3089\uff11\u3064\u3092\u5b9f\u73fe\u3055\u305b\u308b\u95a2\u6570\u3067\u3042\u308b\u3002\u307e\u305fGDP\u81ea\u4f53\u306f\u78ba\u7387\u5909\u6570\u3068\u3057\u3066\u89e3\u91c8\u3059\u308b\u65b9\u304c\u81ea\u7136\u3067\u3042\u308b\uff08\u300c\u91cd\u56de\u5e30\u5206\u6790\u300d\u3067\u8aac\u660e\u3059\u308b\u4eee\u5b9a\uff12\u3092\u53c2\u7167\uff09\u3002\u5f93\u3063\u3066\uff0c34\u30ab\u56fd\u306e\u5b9f\u73fe\u53ef\u80fd\u306aGDP\u306e\u5024\u304c\u6bcd\u96c6\u56e3\u3068\u306a\u308b\u3002\u3053\u306e\u89e3\u91c8\u306b\u3088\u308b\u3068\u300c\u6a19\u672c\u306e\u5927\u304d\u3055$<$\u6bcd\u96c6\u56e3\u306e\u5927\u304d\u3055\u300d\u3068\u306a\u308b\u3002"
            ]
        },
        {
            "cell_type": "markdown",
            "metadata": {
                "heading_collapsed": true,
                "hidden": true
            },
            "source": [
                "### \u30d7\u30e9\u30f3"
            ]
        },
        {
            "cell_type": "markdown",
            "metadata": {
                "hidden": true
            },
            "source": [
                "\u56de\u5e30\u5206\u6790\u306e\u7406\u89e3\u3092\u6df1\u3081\u308b\u3059\u308b\u305f\u3081\u306b\u30b7\u30df\u30e5\u30ec\u30fc\u30b7\u30e7\u30f3\u3092\u4ee5\u4e0b\u306e\u624b\u9806\u3067\u304a\u3053\u306a\u3046\u3002\n",
                "\n",
                "**\uff1cStep 1\uff1e**\n",
                "* \u6bcd\u96c6\u56e3\u306e\u5927\u304d\u3055\u306f\u6307\u5b9a\u3057\u306a\u3044\u3002\n",
                "* \u6bcd\u96c6\u56e3\u306e\u30c7\u30fc\u30bf\u3092\u751f\u6210\u3059\u308b\u56de\u5e30\u5f0f\uff08\u6bcd\u96c6\u56e3\u56de\u5e30\u5f0f\uff09\u3092\u5b9a\u7fa9\u3059\u308b\u3002\n",
                "\n",
                "    $$Y = \\beta_0 + \\beta_1 X + U$$\n",
                "\n",
                "    * \u8aac\u660e\u5909\u6570$X$\u3068\u8aa4\u5dee\u9805$U$\u306f\u30e9\u30f3\u30c0\u30e0\u5909\u6570\u3067\u3042\u308a\uff0c\u5f93\u3063\u3066$Y$\u3082\u30e9\u30f3\u30c0\u30e0\u5909\u6570\u3067\u3042\u308b\u3002\n",
                "* \u6bcd\u96c6\u56e3\u304b\u3089\u6a19\u672c\u3092$n$\u500b\u62bd\u51fa\u3059\u308b\u3002\n",
                "    * \u62bd\u51fa\u3055\u308c\u305f\u5024\u306f\u30e9\u30f3\u30c0\u30e0\u5909\u6570\u306e\u5b9f\u73fe\u5024\n",
                "    \n",
                "        $$(y_1,x_1),\\;(y_2,x_2),.....(y_n,x_n)$$\n",
                "        \n",
                "    * \u4eee\u5b9a\n",
                "        * $X$\u306f\u6b63\u898f\u5206\u5e03\u306b\u5f93\u3046 $\\Rightarrow$ $x_1,\\;x_2,..x_n$\u306f$X$\u306e\u5b9f\u73fe\u5024\u3002\n",
                "        * $U$\u306f\u6b63\u898f\u5206\u5e03\u306b\u5f93\u3046 $\\Rightarrow$ $u_1,\\;u_2,..u_n$\u306f$U$\u306e\u5b9f\u73fe\u5024\u3002\n",
                "        * $X$\u3068$U$\u306f\u7121\u76f8\u95a2\u3002\n",
                "        * \u5b9f\u73fe\u5024$y_1,\\;y_2,..y_n$\u306f\u6bcd\u96c6\u56e3\u56de\u5e30\u5f0f\u306b\u5f93\u3063\u3066\u751f\u6210\u3055\u308c\u308b\u3002\n",
                "        \n",
                "            $$y_i = \\beta_0 + \\beta_1 x_i + u_i,\\qquad i=1,2,3,....n$$\n",
                "            \n",
                "    * $\\beta_0$\u3068$\\beta_1$\u306f\u672a\u77e5\u3067\u3042\u308a\uff0c$u_i$\u3082\u89b3\u6e2c\u4e0d\u53ef\u80fd\n",
                "\n",
                "**\uff1cStep 2\uff1e**\n",
                "* $n$\u500b\u306e\u6a19\u672c\u3092\u4f7f\u3044\u56de\u5e30\u5206\u6790\u3092\u884c\u3044\uff0c\u6bcd\u96c6\u56e3\u306e\u56de\u5e30\u5f0f\u306e\u30d1\u30e9\u30e1\u30fc\u30bf\u3092\u63a8\u5b9a\u3059\u308b\u3002\n",
                "    * $\\hat{\\beta}_0$\uff0c$\\hat{\\beta}_1$"
            ]
        },
        {
            "cell_type": "markdown",
            "metadata": {
                "heading_collapsed": true,
                "hidden": true
            },
            "source": [
                "### \u30b7\u30df\u30e5\u30ec\u30fc\u30b7\u30e7\u30f3"
            ]
        },
        {
            "cell_type": "markdown",
            "metadata": {
                "hidden": true
            },
            "source": [
                "\u6bcd\u96c6\u56e3\u306e\u30d1\u30e9\u30e1\u30fc\u30bf\u306e\u8a2d\u5b9a"
            ]
        },
        {
            "cell_type": "code",
            "execution_count": null,
            "metadata": {},
            "outputs": [],
            "source": [
                "\n",
                "\n",
                ""
            ]
        },
        {
            "cell_type": "markdown",
            "metadata": {
                "hidden": true
            },
            "source": [
                "\u6a19\u672c\u306e\u5927\u304d\u3055"
            ]
        },
        {
            "cell_type": "code",
            "execution_count": null,
            "metadata": {},
            "outputs": [],
            "source": []
        },
        {
            "cell_type": "markdown",
            "metadata": {
                "hidden": true
            },
            "source": [
                "\u30e9\u30f3\u30c0\u30e0\u5909\u6570\u306e\u751f\u6210\u306b\u3088\u308b\u6a19\u672c\u62bd\u51fa"
            ]
        },
        {
            "cell_type": "code",
            "execution_count": null,
            "metadata": {},
            "outputs": [],
            "source": [
                "\n",
                "\n",
                ""
            ]
        },
        {
            "cell_type": "markdown",
            "metadata": {
                "hidden": true
            },
            "source": [
                "\u3053\u306e\u30c7\u30fc\u30bf\u304b\u3089`DataFrame`\u3092\u4f5c\u6210\u3059\u308b\u3002`()`\u306e\u4e2d\u306e`{}`\u306f\u8f9e\u66f8\u3002"
            ]
        },
        {
            "cell_type": "code",
            "execution_count": null,
            "metadata": {},
            "outputs": [],
            "source": []
        },
        {
            "cell_type": "markdown",
            "metadata": {
                "hidden": true
            },
            "source": [
                "`OLS`\u63a8\u5b9a"
            ]
        },
        {
            "cell_type": "code",
            "execution_count": null,
            "metadata": {},
            "outputs": [],
            "source": [
                "\n"
            ]
        },
        {
            "cell_type": "markdown",
            "metadata": {
                "hidden": true
            },
            "source": [
                "\u4fc2\u6570\u306e\u63a8\u5b9a\u5024"
            ]
        },
        {
            "cell_type": "code",
            "execution_count": null,
            "metadata": {},
            "outputs": [],
            "source": []
        },
        {
            "cell_type": "markdown",
            "metadata": {
                "hidden": true
            },
            "source": [
                "\u6bcd\u96c6\u56e3\u30d1\u30e9\u30e1\u30fc\u30bf\u3068\u6bd4\u3079\u308b\u3068\u3001\u63a8\u5b9a\u8aa4\u5dee\u304c\u767a\u751f\u3057\u3066\u3044\u308b\u3053\u3068\u304c\u308f\u304b\u308b\u3002"
            ]
        },
        {
            "cell_type": "markdown",
            "metadata": {
                "heading_collapsed": true,
                "hidden": true
            },
            "source": [
                "### \u95a2\u6570\u5316"
            ]
        },
        {
            "cell_type": "markdown",
            "metadata": {
                "hidden": true
            },
            "source": [
                "`def`\u3092\u4f7f\u3063\u3066\u4e0a\u306e\u30b3\u30fc\u30c9\u3092\u95a2\u6570\u3068\u3057\u3066\u307e\u3068\u3081\u308b\u3002\n",
                "* \u5f15\u6570\n",
                "    * \u6a19\u672c\u306e\u5927\u304d\u3055\uff1a`n`\n",
                "    * \u771f\u306e\u5b9a\u6570\u9805\uff1a`b0`\uff08\u30c7\u30d5\u30a9\u30eb\u30c8\u306f`1`\uff09\n",
                "    * \u771f\u306e\u30b9\u30ed\u30fc\u30d7\u4fc2\u6570\uff1a`b1`\uff08\u30c7\u30d5\u30a9\u30eb\u30c8\u306f`1`\uff09\n",
                "    * \u8aa4\u5dee\u9805\u306e\u6a19\u6e96\u504f\u5dee\uff1a`su`\uff08\u30c7\u30d5\u30a9\u30eb\u30c8\u306f`1`\uff09\n",
                "* \u8fd4\u308a\u5024\n",
                "    * \u5b9a\u6570\u9805\u3068\u30b9\u30ed\u30fc\u30d7\u4fc2\u6570\u306e\u63a8\u5b9a\u5024\uff08`pandas.Series`\uff09"
            ]
        },
        {
            "cell_type": "code",
            "execution_count": null,
            "metadata": {},
            "outputs": [],
            "source": [
                "\n",
                "\n",
                "",
                "",
                "",
                "",
                "",
                "",
                "",
                "",
                "",
                ""
            ]
        },
        {
            "cell_type": "code",
            "execution_count": null,
            "metadata": {},
            "outputs": [],
            "source": []
        },
        {
            "cell_type": "markdown",
            "metadata": {
                "hidden": true
            },
            "source": [
                "`b0`\uff0c`b1`\uff0c`su`\u5909\u3048\u3066\u8a08\u7b97\u3057\u3066\u307f\u3088\u3046\u3002\n",
                "\n",
                "---\n",
                "\u30b7\u30df\u30e5\u30ec\u30fc\u30b7\u30e7\u30f3\u3067\u540c\u3058\u8a08\u7b97\u3092\u6570\u5341\u4e07\u56de\u304a\u3053\u306a\u3046\u5834\u5408\uff0c\uff11\u56de\u306e\u30b7\u30df\u30e5\u30ec\u30fc\u30b7\u30e7\u30f3\u306b\u6642\u9593\u304c\u304b\u304b\u308a\uff0c\u305d\u308c\u3092\u3069\u306e\u3088\u3046\u306b\u9ad8\u901f\u5316\u3059\u308b\u304b\u304c\u554f\u984c\u306b\u306a\u308b\u3002\u305d\u306e\u969b\uff0c\u5f79\u306b\u7acb\u3064\u30d1\u30c3\u30b1\u30fc\u30b8\u304c`Numba`\u3067\u3042\u308a\uff0c\uff11\u884c\u306e\u30b3\u30fc\u30c9\u3092\u8ffd\u52a0\u3059\u308b\u3060\u3051\u3067\u8a08\u7b97\u3092\u9a5a\u304f\u7a0b\u9ad8\u901f\u5316\u3067\u304d\u308b\u3002\u3057\u304b\u3057`Numba`\u306b\u306f\u300c\u76f8\u6027\u300d\u306e\u554f\u984c\u304c\u3042\u308b\u3002\u4f8b\u3048\u3070\uff0c\u4e0a\u306e\u95a2\u6570`my_sim()`\u3067\u4f7f\u3063\u305f`statsmodels`\uff0c`pandas`\uff0c`scipy.stats`\u306f`Numba`\u3068\u76f8\u6027\u304c\u60aa\u3044\u304c\uff0c`NumPy`\u306f\u975e\u5e38\u306b\u76f8\u6027\u304c\u826f\u3044\u3002\u307e\u305f\uff0c`Numba`\u3092\u4f7f\u3046\u969b\uff0c\u30ea\u30b9\u30c8\u3088\u308a\u3082`array`\u3092\u4f7f\u3046\u65b9\u304c\u5c11\u3057\u3067\u3082\u9ad8\u901f\u5316\u3092\u56f3\u308b\u3053\u3068\u304c\u3067\u304d\u308b\u3053\u3068\u3082\u899a\u3048\u3066\u304a\u304f\u3068\u826f\u3044\u3060\u308d\u3046\u3002\u4ee5\u4e0b\u3067\u306f\uff0c`Numba`\u3092\u4f7f\u3046\u305f\u3081\u306b`NumPy`\u3092\u4f7f\u3046\u300c\u624b\u8a08\u7b97\u300d\u306b\u3088\u308b\u95a2\u6570\u3092\u8003\u3048\u308b\u3053\u3068\u306b\u3059\u308b\u3002"
            ]
        },
        {
            "cell_type": "code",
            "execution_count": null,
            "metadata": {},
            "outputs": [],
            "source": [
                "\n",
                "\n",
                "",
                "",
                "",
                "",
                "",
                "",
                "",
                "",
                "",
                "",
                "",
                "",
                "",
                "",
                ""
            ]
        },
        {
            "cell_type": "markdown",
            "metadata": {
                "hidden": true
            },
            "source": [
                "\u3053\u3053\u3067\u4f7f\u3063\u305f`np.random.normal()`\u306b\u3064\u3044\u3066\u7c21\u5358\u306b\u8aac\u660e\u3059\u308b\u3002`NumPy`\u306b\u306f\u30e9\u30f3\u30c0\u30e0\u5909\u6570\u3092\u751f\u6210\u3059\u308b`random`\u3068\u3044\u3046\u30b5\u30d6\u30d1\u30c3\u30b1\u30fc\u30b8\u304c\u3042\u308a\uff0c\u305d\u306e\u4e2d\u306e`normal()`\u3092\u4f7f\u3046\u3002\u3053\u308c\u306f`scipy.stats`\u306e`norm.rvs()`\u3068\u540c\u3058\u5f15\u6570\u3092\u53d6\u308a\uff0c\u540c\u3058\u8fd4\u308a\u5024\u3092\u8fd4\u3059\u3002"
            ]
        },
        {
            "cell_type": "code",
            "execution_count": null,
            "metadata": {},
            "outputs": [],
            "source": []
        },
        {
            "cell_type": "markdown",
            "metadata": {
                "hidden": true
            },
            "source": [
                "`my_sim()`\u3068`my_sim_manual()`\u306e\u63a8\u5b9a\u5024\u304c\u7570\u306a\u308b\u306e\u306f\u30e9\u30f3\u30c0\u30e0\u5909\u6570\uff08`y`\uff0c`x`\uff09\u306e\u5024\u304c\u7570\u306a\u308b\u305f\u3081\u3067\u3042\u308a\uff0c\u305d\u308c\u304c\u63a8\u5b9a\u8aa4\u5dee\u306b\u3088\u308b\u5f71\u97ff\u3067\u3042\u308b\u3002"
            ]
        },
        {
            "cell_type": "markdown",
            "metadata": {
                "heading_collapsed": true,
                "hidden": true
            },
            "source": [
                "### \u30eb\u30fc\u30d7\u3092\u4f7f\u3063\u3066\u30b7\u30df\u30e5\u30ec\u30fc\u30b7\u30e7\u30f3"
            ]
        },
        {
            "cell_type": "markdown",
            "metadata": {
                "hidden": true
            },
            "source": [
                "* \u6a19\u672c\u306e\u5927\u304d\u3055`n`\u306e\u30c7\u30fc\u30bf\u3092`N`\u7d44\u7528\u610f\u3057\uff08`N`\u306f\u6a19\u672c\u6570\uff09\uff0c`OLS`\u63a8\u5b9a\u3092`N`\u56de\u304a\u3053\u306a\u3046\u3002\n",
                "* \u30b7\u30df\u30e5\u30ec\u30fc\u30b7\u30e7\u30f3\u6bce\u306b\u8a08\u7b97\u3057\u305f\u56de\u5e30\u4fc2\u6570\u306e\u63a8\u5b9a\u5024\u306e\u5206\u5e03\u3092\u56f3\u793a\u3059\u308b\u3002\n",
                "\n",
                "\u307e\u305a`def`\u3092\u4f7f\u3044\u30b7\u30df\u30e5\u30ec\u30fc\u30b7\u30e7\u30f3\u306e\u95a2\u6570\u3092\u4f5c\u6210\u3059\u308b\u304c\uff0c\u30d1\u30e9\u30e1\u30fc\u30bf\u306e\u63a8\u5b9a\u5024\u306e\u8a08\u7b97\u306b\u306f`statsmodels`\u3092\u4f7f\u308f\u305a\u306b\uff0c`numpy`\u306e\u95a2\u6570\u3092\u4f7f\u3044\u300c\u624b\u8a08\u7b97\u300d\u3068\u3059\u308b\u3002\u3053\u308c\u306b\u3088\u308a\u8a08\u7b97\u3092\u9ad8\u901f\u5316\u3059\u308b\u30d1\u30c3\u30b1\u30fc\u30b8`Numba`\u3092\u4f7f\u3046\u3053\u3068\u304c\u53ef\u80fd\u3068\u306a\u308b\u3002\u4f7f\u3044\u65b9\u306f\u7c21\u5358\u3067\u30c7\u30b3\u30ec\u30fc\u30bf\u30fc\u3068\u547c\u3070\u308c\u308b`@njit`\uff08\u53c8\u306f`@jit`\uff09\u3092\u95a2\u6570\u306e\u4e0a\u306b\u52a0\u3048\u308b\u3060\u3051\u3067\u3042\u308b\u3002\u3053\u308c\u3060\u3051\u3067\u8a08\u7b97\u901f\u5ea6\u304c\u6570\u5341\u500d\u65e9\u304f\u306a\u308b\u5834\u5408\u3082\u3042\u308b\u3002\u305d\u306e\u305f\u3081\u306b\u3001\u307e\u305a\u4e0a\u3067\u4f7f\u3063\u305f`my_sim_manual`\u306b`@njit`\u3092\u52a0\u3048\u3066\u5b9f\u884c\u3059\u308b\u3002"
            ]
        },
        {
            "cell_type": "code",
            "execution_count": null,
            "metadata": {},
            "outputs": [],
            "source": [
                "\n",
                "\n",
                "",
                "",
                "",
                "",
                "",
                "",
                "",
                "",
                "",
                "",
                "",
                "",
                "",
                "",
                "",
                ""
            ]
        },
        {
            "cell_type": "markdown",
            "metadata": {
                "hidden": true
            },
            "source": [
                "\u6b21\u306b\u30b7\u30df\u30e5\u30ec\u30fc\u30b7\u30e7\u30f3\u7528\u306e\u95a2\u6570\u3092\u7528\u610f\u3059\u308b\u3002"
            ]
        },
        {
            "cell_type": "code",
            "execution_count": null,
            "metadata": {},
            "outputs": [],
            "source": [
                "\n",
                "\n",
                "",
                "",
                "",
                "",
                "",
                "",
                "",
                "",
                "        # \u8fd4\u308a\u5024\u304c\uff12\u3064\u3042\u308b\u306e\u3067\u3001\u5272\u308a\u5f53\u3066\u308b\u5834\u5408\u306b\u306f\u5de6\u8fba\u306e\u5909\u6570\u3092 ',' \u3067\u533a\u5207\u308b \n",
                "\n",
                "\n",
                "",
                "",
                "",
                ""
            ]
        },
        {
            "cell_type": "markdown",
            "metadata": {
                "hidden": true
            },
            "source": [
                "\u30b7\u30df\u30e5\u30ec\u30fc\u30b7\u30e7\u30f3\u306e\u56de\u6570"
            ]
        },
        {
            "cell_type": "code",
            "execution_count": null,
            "metadata": {},
            "outputs": [],
            "source": []
        },
        {
            "cell_type": "markdown",
            "metadata": {
                "hidden": true
            },
            "source": [
                "\u30b7\u30df\u30e5\u30ec\u30fc\u30b7\u30e7\u30f3\u306e\u958b\u59cb"
            ]
        },
        {
            "cell_type": "code",
            "execution_count": null,
            "metadata": {},
            "outputs": [],
            "source": []
        },
        {
            "cell_type": "markdown",
            "metadata": {
                "hidden": true
            },
            "source": [
                "```{note}\n",
                "\u521d\u3081\u3066`my_sim_loop()`\u3092\u5b9f\u884c\u3059\u308b\u3068`Numba`\u306f\u30b3\u30f3\u30d1\u30a4\u30eb\u3068\u547c\u3070\u308c\u308b\u9ad8\u901f\u5316\u6e96\u5099\u30d7\u30ed\u30bb\u30b9\u3092\u7d4c\u308b\u305f\u3081\uff0c`@njit`\u304c\u306a\u3044\u5834\u5408\u3068\u6bd4\u3079\u3066\u5b9f\u884c\u30b9\u30d4\u30fc\u30c9\u306f\u65e9\u304f\u306a\u3044\u3002\uff12\u56de\u76ee\u306e\u5b9f\u884c\u304b\u3089`Numba`\u306e\u52b9\u679c\u304c\u767a\u63ee\u3055\u308c\u308b\u3053\u3068\u306b\u306a\u308b\u3002\n",
                "```"
            ]
        },
        {
            "cell_type": "markdown",
            "metadata": {
                "hidden": true
            },
            "source": [
                "$\\hat{\\beta}_0$\u306e\u5206\u5e03"
            ]
        },
        {
            "cell_type": "code",
            "execution_count": null,
            "metadata": {},
            "outputs": [],
            "source": [
                "\n"
            ]
        },
        {
            "cell_type": "markdown",
            "metadata": {
                "hidden": true
            },
            "source": [
                "$\\hat{\\beta}_1$\u306e\u5206\u5e03"
            ]
        },
        {
            "cell_type": "code",
            "execution_count": null,
            "metadata": {},
            "outputs": [],
            "source": [
                "\n"
            ]
        },
        {
            "cell_type": "markdown",
            "metadata": {
                "hidden": true
            },
            "source": [
                "`y`\u306e\u7406\u8ad6\u5024\u3092\u56f3\u793a\u3059\u308b\u304c\uff0c\u56f3\u793a\u306e\u6642\u9593\u77ed\u7e2e\u306e\u305f\u3081\u306b`N`\u56de\u306e\u30b7\u30df\u30e5\u30ec\u30fc\u30b7\u30e7\u30f3\u4e2d\u306e\u6700\u521d\u306e`r`\u56de\u306e\u56de\u5e30\u7dda\u3060\u3051\u3092\u8868\u793a\u3059\u308b\u3002"
            ]
        },
        {
            "cell_type": "code",
            "execution_count": null,
            "metadata": {},
            "outputs": [],
            "source": []
        },
        {
            "cell_type": "markdown",
            "metadata": {
                "hidden": true
            },
            "source": [
                "`for`\u30eb\u30fc\u30d7\u3092\u4f7f\u3063\u3066\u91cd\u306d\u3066\u56f3\u793a\u3059\u308b"
            ]
        },
        {
            "cell_type": "code",
            "execution_count": null,
            "metadata": {},
            "outputs": [],
            "source": [
                "\n",
                "\n",
                "",
                "",
                "",
                "",
                "",
                "",
                "",
                "",
                ""
            ]
        },
        {
            "cell_type": "markdown",
            "metadata": {
                "hidden": true
            },
            "source": [
                "\u4e0a\u306e\u30b3\u30fc\u30c9\u30fb\u30d6\u30ed\u30c3\u30af\u306e\u6700\u5f8c\u304b\u3089\uff12\u884c\u76ee\u306b`f'{r} rounds of OLS simulation'`\u3068\u3042\u308b\u3002\u6587\u5b57\u5217\u306e\u524d\u306b`f`\u3092\u7f6e\u304d\u3001\u6587\u5b57\u5217\u306e\u4e2d\u3067\u5909\u6570\u3092`{}`\u3067\u56f2\u3080\u3068\u5909\u6570\u306e\u5024\u3092\u4ee3\u5165\u3057\u3066\u304f\u308c\u308b\u306e\u3067\u3042\u308b\u3002\u3053\u308c\u3092`f-string`\u3068\u547c\u3076\u3002\n",
                "\n",
                "---\n",
                "**\uff1c\u30b7\u30df\u30e5\u30ec\u30fc\u30b7\u30e7\u30f3\u306e\u542b\u610f\uff1e**\n",
                "\n",
                "\u307e\u305a\u4e0a\u306e\uff12\u3064\u306e\u30d2\u30b9\u30c8\u30b0\u30e9\u30e0\u3092\u307f\u308b\u3068\uff0c\u5024\u306b\u3070\u3089\u3064\u304d\u304c\u3042\u308b\u3002\u3053\u308c\u306f\u63a8\u5b9a\u91cf\uff08$\\hat{\\beta}_0$\u3068$\\hat{\\beta}_1$\uff09\u304c\u78ba\u7387\u5909\u6570\u3067\u3042\u308b\u305f\u3081\u3067\u3042\u308b\u3002\u305d\u306e\u5b9f\u73fe\u5024\u306f\uff0c\u771f\u306e\u5024\uff08$\\beta_0=1.0$\u3068$\\beta_1=1.0$\uff09\u3092\u4e2d\u5fc3\u306b\u5de6\u53f3\u5bfe\u8c61\u306b\u5206\u5e03\u3057\u3066\u3044\u308b\u3002\u5373\u3061\uff0c\u63a8\u5b9a\u91cf\u306f\u4e0d\u504f\u6027\u3092\u6e80\u305f\u3057\u3066\u3044\u308b\u3002\u6b21\u306e\u7ae0\u3067\u7c21\u5358\u306b\u8aac\u660e\u3059\u308b\u304c\uff0c\u4e0a\u3067\u884c\u3063\u305f\u30b7\u30df\u30e5\u30ec\u30fc\u30b7\u30e7\u30f3\u306f\u4e0d\u504f\u63a8\u5b9a\u91cf\u306b\u5fc5\u8981\u306a\u4eee\u5b9a\u3092\u6e80\u305f\u3057\u3066\u3044\u308b\u3002\n",
                "\n",
                "\u3053\u308c\u3092\u8e0f\u307e\u3048\u3066\uff0c\u56de\u5e30\u76f4\u7dda\u306e\u56f3\u3092\u8003\u3048\u3088\u3046\u3002\u540c\u3058\u56de\u5e30\u5f0f\u3092\u4f7f\u3044`N`\u56de\u306e\u30b7\u30df\u30e5\u30ec\u30fc\u30b7\u30e7\u30f3\u3092\u884c\u3063\u305f\u5f8c\uff0c\u6700\u521d\u306e`r`\u500b\u306e\u56de\u5e30\u76f4\u7dda\u3092\u91cd\u306d\u3066\u63cf\u3044\u3066\u3044\u308b\u305f\u3081\u30d1\u30a4\u30d7\u306e\u3088\u3046\u306a\u5f62\u306b\u306a\u3063\u3066\u3044\u308b\u3002\u4e00\u65b9\u3067\uff0c\u5b9f\u969b\u306e\u5b9f\u8a3c\u5206\u6790\u3067\u306f\u3053\u306e\u3088\u3046\u306a\u7e70\u308a\u8fd4\u3057\u306e\u8a66\u884c\u306f\u4e0d\u53ef\u80fd\u3067\u3042\u308a\u591a\u304f\u306e\u5834\u5408\u306f\u4e00\u5ea6\u3060\u3051\u3067\u3042\u308b\u3002\u8a00\u3044\u63db\u3048\u308b\u3068\uff0c\u5b9f\u8a3c\u7814\u7a76\u3067\u306f`N`\u500b\u306e\u56de\u5e30\u76f4\u7dda\u306e\u4e2d\u304b\u3089\uff11\u3064\u3060\u3051\u3092\u7d50\u679c\u3068\u3057\u3066\u30e9\u30f3\u30c0\u30e0\u306b\u300c\u9078\u3093\u3067\u3044\u308b\u300d\u306e\u3068\u7b49\u3057\u3044\u3002\u3053\u306e\u610f\u5473\u3092\u66f4\u306b\u8003\u3048\u308b\u305f\u3081\u306b\uff0c\uff08\u6a19\u672c\u306e\u5927\u304d\u3055\u306f\u6240\u4e0e\u3068\u3057\u3066\uff09\u305f\u307e\u305f\u307e\uff12\u7d44\u307f\u306e\u30c7\u30fc\u30bf\u30bb\u30c3\u30c8\u304c\u624b\u306b\u5165\u308a\uff0c\u5225\u3005\u306e\u56de\u5e30\u5206\u6790\u3092\u884c\u3063\u305f\u3068\u3057\u3088\u3046\u3002\u305d\u306e\u5834\u5408\uff0c\u30d1\u30a4\u30d7\u306e\u5e45\u304c\u5e83\u3051\u308c\u3070\u5e83\u3044\u307b\u3069\uff0c\uff12\u3064\u306e\u56de\u5e30\u76f4\u7dda\u306e\u4f4d\u7f6e\u306f\u5927\u304d\u304f\u7570\u306a\u308b\u53ef\u80fd\u6027\u304c\u9ad8\u304f\u306a\u308a\uff0c\u6b63\u78ba\u6027\u304c\u4f4e\u3044\u7d50\u679c\u306b\u306a\u308b\u3002\u9006\u306b\uff0c\u30d1\u30a4\u30d7\u306e\u5e45\u304c\u72ed\u3051\u308c\u3070\u72ed\u3044\u307b\u3069\uff0c\uff12\u3064\u306e\u7d50\u679c\u306f\u4f3c\u305f\u3082\u306e\u306b\u306a\u308a\uff0c\u3088\u308a\u6b63\u78ba\u306a\u63a8\u5b9a\u7d50\u679c\u3068\u306a\u308b\u3002\u3053\u306e\u3088\u3046\u306b\u5b9f\u8a3c\u5206\u6790\u3067\u306f\u30d1\u30a4\u30d7\u306e\u5e45\u304c\u53ef\u80fd\u306a\u9650\u308a\u5c0f\u3055\u304f\u306a\u308b\u5de5\u592b\u304c\u5fc5\u8981\u306b\u306a\u308b\u3002\u305d\u306e\uff11\u3064\u304c\u6a19\u672c\u306e\u5927\u304d\u3055`n`\u3067\u3042\u308b\u3002`n`\u304c\u5897\u3048\u308b\u3068\u30d1\u30a4\u30d7\u306f\u7d30\u304f\u306a\u308a\uff0c\u6975\u9650$n\\rightarrow\\infty$\uff08\u5373\u3061\uff0c\u6a19\u672c\u306e\u5927\u304d\u3055\u3068\u6bcd\u96c6\u56e3\u306e\u5927\u304d\u3055\u306e\u5dee\u304c\u9650\u308a\u306a\u304f\u30bc\u30ed\u306b\u8fd1\u3065\u304f\uff09\u3067\u306f\u30d1\u30a4\u30d7\u306e\u5f62\u304c\u76f4\u7dda\uff08\u6bcd\u96c6\u56e3\u56de\u5e30\u5f0f\uff09\u306b\u8fd1\u3065\u304f\u3053\u3068\u306b\u306a\u308b\u3002\u3053\u306e\u3088\u3046\u306b\uff0c\u5b9f\u8a3c\u5206\u6790\u306b\u304a\u3044\u3066\u6a19\u672c\u306e\u5927\u304d\u3055\u306f\u975e\u5e38\u306b\u91cd\u8981\u306a\u5f79\u5272\u3092\u679c\u305f\u3059\u3053\u3068\u306b\u306a\u308b\u3002\n",
                "\n",
                "\uff08\u6ce8\u610f\uff09\n",
                "\n",
                "* \u3053\u306e\u30b7\u30df\u30e5\u30ec\u30fc\u30b7\u30e7\u30f3\u306e\u5834\u5408\uff0c\u63a8\u5b9a\u91cf\u306e**\u4e00\u81f4\u6027**\u304c\u6e80\u305f\u3055\u308c\u3066\u3044\u308b\u305f\u3081\uff0c\u30d1\u30a4\u30d7\u304c\u6bcd\u96c6\u56e3\u56de\u5e30\u5f0f\u306b\u53ce\u675f\u3059\u308b\u3053\u3068\u306b\u306a\u308b\u3002\u3057\u304b\u3057\u4e00\u822c\u7684\u306b\u5fc5\u305a\u305d\u3046\u306a\u308b\u3068\u306f\u9650\u3089\u306a\u3044\u3002\u3042\u308b\u4eee\u5b9a\u306e\u3082\u3068\u3067\u306e\u307f\u63a8\u5b9a\u91cf\u306f\u4e00\u81f4\u6027\u3092\u6e80\u305f\u3059\u3053\u3068\u306b\u306a\u308b\u3002\n",
                "* \u63a8\u5b9a\u65b9\u6cd5\u306b\u3088\u3063\u3066\u306f\uff0c\u4e0d\u504f\u6027\u306f\u6e80\u305f\u3055\u306a\u3044\u304c\u4e00\u81f4\u6027\u3092\u6e80\u305f\u3059\u63a8\u5b9a\u91cf\u3082\u5b58\u5728\u3059\u308b\u3002\u307e\u305f\uff0c\u30a8\u30ae\u30be\u30c1\u30c3\u30af\u306a\u4f8b\u306b\u306a\u308b\u304c\u305d\u306e\u9006\u3082\u3042\u308a\u5f97\u308b\u3002\n",
                "\n",
                "---\n",
                "----- Give it a try! -----\n",
                "\n",
                "\u6a19\u672c\u306e\u5927\u304d\u3055`n`\u3092\u5909\u3048\u3066\u8a66\u3057\u3066\u307f\u3088\u3046\u3002\u4f8b\u3048\u3070\uff0c10, 30, 100, 500, 1000\u3002"
            ]
        },
        {
            "cell_type": "code",
            "execution_count": null,
            "metadata": {},
            "outputs": [],
            "source": []
        }
    ],
    "metadata": {
        "celltoolbar": "Tags",
        "kernel_info": {
            "name": "py4etrics"
        },
        "kernelspec": {
            "display_name": "latest",
            "language": "python",
            "name": "latest"
        },
        "language_info": {
            "codemirror_mode": {
                "name": "ipython",
                "version": 3
            },
            "file_extension": ".py",
            "mimetype": "text/x-python",
            "name": "python",
            "nbconvert_exporter": "python",
            "pygments_lexer": "ipython3",
            "version": "3.8.5"
        },
        "nteract": {
            "version": "0.14.5"
        },
        "toc": {
            "base_numbering": 1,
            "nav_menu": {},
            "number_sections": true,
            "sideBar": true,
            "skip_h1_title": false,
            "title_cell": "Table of Contents",
            "title_sidebar": "Contents",
            "toc_cell": false,
            "toc_position": {},
            "toc_section_display": true,
            "toc_window_display": false
        }
    },
    "nbformat": 4,
    "nbformat_minor": 2
}