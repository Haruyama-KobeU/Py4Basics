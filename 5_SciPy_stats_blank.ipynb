{
    "cells": [
        {
            "cell_type": "markdown",
            "metadata": {},
            "source": [
                "# SciPy.stats"
            ]
        },
        {
            "cell_type": "markdown",
            "metadata": {},
            "source": [
                "SciPy\uff08\u30b5\u30a4\u30d1\u30a4\uff09\u306f\uff0cNumPy\u306e\u62e1\u5f35\u7248\u3068\u7406\u89e3\u3057\u3066\u826f\u3044\u3002SciPy\u3092\u8aad\u307f\u8fbc\u3080\u3068NumPy\u306e\u95a2\u6570\u306a\u3069\u3092\u5229\u7528\u3067\u304d\u308b\u3088\u3046\u306b\u306a\u308b\u3002\u3057\u304b\u3057SciPy\u306f\u5927\u304d\u306a\u30d1\u30c3\u30b1\u30fc\u30b8\u3067\u3042\u308a\uff0c\u5168\u3066\u3092\u8aad\u307f\u8fbc\u3080\u5fc5\u8981\u3082\u306a\u3044\u3002\u5f93\u3063\u3066\uff0cNumPy\u3092\u8aad\u307f\u8fbc\u3093\u3067\uff0cSciPy\u306e\u30b5\u30d6\u30d1\u30c3\u30b1\u30fc\u30b8\u3084\u95a2\u6570\u3092\u8aad\u307f\u8fbc\u3080\u3068\u3044\u3046\u3053\u3068\u3067\u5341\u5206\u3067\u3042\u308d\u3046\u3002\u3053\u3053\u3067\u306fSciPy\u306estats\u3068\u3044\u3046\u30b5\u30d6\u30d1\u30c3\u30b1\u30fc\u30b8\u306b\u3064\u3044\u3066\u8aac\u660e\u3059\u308b\u3002"
            ]
        },
        {
            "cell_type": "markdown",
            "metadata": {},
            "source": [
                "## \u6b63\u898f\u5206\u5e03\uff08Normal Distribution\uff09"
            ]
        },
        {
            "cell_type": "markdown",
            "metadata": {},
            "source": [
                "\u6b63\u898f\u5206\u5e03\u306e\u30e2\u30b8\u30e5\u30fc\u30eb\u540d\u306f`norm`\u3067\u3042\u308a\uff0c\u4ee5\u4e0b\u304c\u4e3b\u306a\u95a2\u6570\u3067\u3042\u308b\u3002\n",
                "\n",
                "1. \u78ba\u7387\u5bc6\u5ea6\u95a2\u6570\uff1a `norm.pdf(x, loc=0, scale=1)`\n",
                "    * `pdf`\u306fProbability Density Function\u306e\u982d\u6587\u5b57\n",
                "    * `loc` = \u5e73\u5747\n",
                "    * `scale` = \u6a19\u6e96\u504f\u5dee\n",
                "    * `x` = $-\\infty$\u304b\u3089$\\infty$\u306e\u9593\u306e\u5024\n",
                "    * \u8fd4\u308a\u5024\uff1a`x`\u306e\u5024\u304c\u767a\u751f\u3059\u308b\u78ba\u7387\uff08\uff05\uff09\n",
                "    * `loc`\u3068`scale`\u3092\u7701\u7565\u3059\u308b\u3068\u6a19\u6e96\u6b63\u898f\u5206\u5e03\u306e\u78ba\u7387\u5bc6\u5ea6\u95a2\u6570\u3068\u306a\u308b\u3002\n",
                "\n",
                "\n",
                "2. \u7d2f\u7a4d\u5206\u5e03\u95a2\u6570\uff1a `norm.cdf(x, loc=0, scale=1)`\n",
                "    * `cdf`\u306fCumulative Distribution Function\u306e\u982d\u6587\u5b57\n",
                "    * `loc` = \u5e73\u5747\n",
                "    * `scale` = \u6a19\u6e96\u504f\u5dee\n",
                "    * `x` = $-\\infty$\u304b\u3089$\\infty$\u306e\u9593\u306e\u5024\n",
                "    * \u8fd4\u308a\u5024\uff1a`x`**\u4ee5\u4e0b**\u306e\u5024\u304c\u767a\u751f\u3059\u308b\u78ba\u7387\uff08\uff05\uff09\n",
                "    * `loc`\u3068`scale`\u3092\u7701\u7565\u3059\u308b\u3068\u6a19\u6e96\u6b63\u898f\u5206\u5e03\u306e\u7d2f\u7a4d\u5206\u5e03\u95a2\u6570\u3068\u306a\u308b\u3002\n",
                "\n",
                "\n",
                "3. \u30d1\u30fc\u30bb\u30f3\u30c8\u30fb\u30dd\u30a4\u30f3\u30c8\u95a2\u6570\uff1a `norm.ppf(a, loc=0, scale=1)`\n",
                "    * `ppf`\u306fPercent Point Function\u306e\u982d\u6587\u5b57\n",
                "    * `loc` = \u5e73\u5747\n",
                "    * `scale` = \u6a19\u6e96\u504f\u5dee\n",
                "    * `a` = 0 ~ 1\u306e\u9593\u306e\u5024\n",
                "    * \u8fd4\u308a\u5024\uff1a\u7d2f\u7a4d\u5206\u5e03\u95a2\u6570\u306e\u5024\u304c`a`\u3067\u3042\u308b\u5834\u5408\u306e`x`\u306e\u5024\uff08\u7d2f\u7a4d\u5206\u5e03\u95a2\u6570\u306e\u9006\u95a2\u6570\uff09\n",
                "    * `loc`\u3068`scale`\u3092\u7701\u7565\u3059\u308b\u3068\u6a19\u6e96\u6b63\u898f\u5206\u5e03\u306e\u30d1\u30fc\u30bb\u30f3\u30c8\u30fb\u30dd\u30a4\u30f3\u30c8\u95a2\u6570\u3068\u306a\u308b\u3002\n",
                "\n",
                "\n",
                "4. \u30e9\u30f3\u30c0\u30e0\u5909\u6570\u751f\u6210\u95a2\u6570\uff1a `norm.rvs(loc=0, scale=1, size=1)`\n",
                "    * `rvs`\u306fRandom VariableS\u306e\u5927\u6587\u5b57\u306e\u90e8\u5206\n",
                "    * `loc` = \u5e73\u5747\n",
                "    * `scale` = \u6a19\u6e96\u504f\u5dee\n",
                "    * `size` = \u30b5\u30f3\u30d7\u30eb\u6570\n",
                "    * \u8fd4\u308a\u5024\uff1a\u6b63\u898f\u5206\u5e03\u306b\u5f93\u3063\u3066\u767a\u751f\u3057\u305f\u30e9\u30f3\u30c0\u30e0\u5909\u6570\n",
                "    * `loc`\u3068`scale`\u3092\u7701\u7565\u3059\u308b\u3068\u6a19\u6e96\u6b63\u898f\u5206\u5e03\u306e\u30e9\u30f3\u30c0\u30e0\u5909\u6570\u751f\u6210\u95a2\u6570\u3068\u306a\u308b\u3002\n",
                "\n",
                "\n",
                "`scipy.stats`\u306e`norm`\uff0c`NumPy`\uff0c`matplotlib.pyplot`\u3092\u8aad\u307f\u8fbc\u3080\u3002"
            ]
        },
        {
            "cell_type": "code",
            "execution_count": null,
            "metadata": {},
            "outputs": [],
            "source": [
                "\n",
                "\n",
                ""
            ]
        },
        {
            "cell_type": "markdown",
            "metadata": {},
            "source": [
                "**\u78ba\u7387\u5bc6\u5ea6\u95a2\u6570**"
            ]
        },
        {
            "cell_type": "code",
            "execution_count": null,
            "metadata": {},
            "outputs": [],
            "source": []
        },
        {
            "cell_type": "markdown",
            "metadata": {},
            "source": [
                "`0`\u304c\u767a\u751f\u3059\u308b\u78ba\u7387\u306f\u7d04`39.9%`\u3068\u308f\u304b\u308b\u304c\uff0c\u8fd4\u308a\u5024\u306f\uff11\u3064\u3060\u3051\u3067\u3042\u308b\u3002`norm.pdf(x)`\u306e\u30b0\u30e9\u30d5\u3092\u63cf\u304f\u305f\u3081\u306b\u306f\uff0c$\\infty$\u304b\u3089$\\infty$\u306e`x`\u306e\u8fd4\u308a\u5024\u304c\u5fc5\u8981\u306b\u306a\u308b\u304c\uff0c\u3053\u3053\u3067\u306f`-4`\u304b\u3089`4`\u306e\u533a\u9593\u3067100\u500b\u306e`x`\u306e\u5024\u3067\u8fd1\u4f3c\u3059\u308b\u3002"
            ]
        },
        {
            "cell_type": "code",
            "execution_count": null,
            "metadata": {},
            "outputs": [],
            "source": []
        },
        {
            "cell_type": "markdown",
            "metadata": {},
            "source": [
                "\u3053\u306e`x`\u3092\u76f4\u63a5`norm.pdf()`\u306b\u4ee3\u5165\u3059\u308b\u3068\uff0c\u5168\u3066\u306e`x`\u306e\u5024\u306b\u5bfe\u3057\u3066\u306e\u8fd4\u308a\u5024\u3092\u5f97\u308b\u3053\u3068\u304c\u3067\u304d\u308b\u3002\u305d\u308c\u3092`y_pdf`\u306b\u4ee3\u5165\u3059\u308b\u3002"
            ]
        },
        {
            "cell_type": "code",
            "execution_count": null,
            "metadata": {},
            "outputs": [],
            "source": []
        },
        {
            "cell_type": "code",
            "execution_count": null,
            "metadata": {},
            "outputs": [],
            "source": [
                "\n",
                "\n",
                ""
            ]
        },
        {
            "cell_type": "markdown",
            "metadata": {},
            "source": [
                "**\u7d2f\u7a4d\u5206\u5e03\u95a2\u6570**"
            ]
        },
        {
            "cell_type": "code",
            "execution_count": null,
            "metadata": {},
            "outputs": [],
            "source": []
        },
        {
            "cell_type": "code",
            "execution_count": null,
            "metadata": {},
            "outputs": [],
            "source": [
                "\n",
                "\n",
                "",
                "",
                ""
            ]
        },
        {
            "cell_type": "markdown",
            "metadata": {},
            "source": [
                "\u3053\u306e\u95a2\u6570\u3092\u4f7f\u3046\u3053\u3068\u306b\u3088\u308a\uff0c`x`\u306e\u5024\u304c$X$\u306e\u6642\uff0c\u305d\u308c\u4ee5\u4e0b\u306e\u5024\u304c\u767a\u751f\u3059\u308b\u78ba\u7387\u306f\u4f55\uff05\u304b\u3092\u8a08\u7b97\u3067\u304d\u308b\u3002\u4f8b\u3048\u3070\uff0c`x`\u304c$0$\u4ee5\u4e0b\u306e\u5024\u3092\u53d6\u308b\u78ba\u7387\u306f"
            ]
        },
        {
            "cell_type": "code",
            "execution_count": null,
            "metadata": {},
            "outputs": [],
            "source": []
        },
        {
            "cell_type": "markdown",
            "metadata": {},
            "source": [
                "\u78ba\u7387\u5bc6\u5ea6\u95a2\u6570\u304c\u5e73\u5747$0$\uff08`loc=0`\uff09\u3092\u4e2d\u5fc3\u306b\u5de6\u53f3\u5bfe\u79f0\u306e\u305f\u3081\u78ba\u7387\u306f50%\u3002\u3067\u306f\uff0c`x`\u304c$-4$\u4ee5\u4e0b\u306e\u5834\u5408\u306f\uff1f"
            ]
        },
        {
            "cell_type": "code",
            "execution_count": null,
            "metadata": {},
            "outputs": [],
            "source": []
        },
        {
            "cell_type": "markdown",
            "metadata": {},
            "source": [
                "\u8fd4\u308a\u5024\u306e\u6700\u5f8c\u306e`e-05`\u306f$\\times 10^5$\u3068\u3044\u3046\u610f\u5473\u3002\u3067\u306f\uff0c`x`\u304c\uff14**\u4ee5\u4e0a**\u306e\u78ba\u7387\u306f\uff1f"
            ]
        },
        {
            "cell_type": "code",
            "execution_count": null,
            "metadata": {},
            "outputs": [],
            "source": []
        },
        {
            "cell_type": "markdown",
            "metadata": {},
            "source": [
                "**\u30d1\u30fc\u30bb\u30f3\u30c8\u30fb\u30dd\u30a4\u30f3\u30c8\u95a2\u6570**"
            ]
        },
        {
            "cell_type": "code",
            "execution_count": null,
            "metadata": {},
            "outputs": [],
            "source": [
                "\n"
            ]
        },
        {
            "cell_type": "code",
            "execution_count": null,
            "metadata": {},
            "outputs": [],
            "source": [
                "\n",
                "\n",
                "",
                "",
                ""
            ]
        },
        {
            "cell_type": "markdown",
            "metadata": {},
            "source": [
                "\u30d1\u30fc\u30bb\u30f3\u30c8\u30fb\u30dd\u30a4\u30f3\u30c8\u95a2\u6570\u3092\u4f7f\u3044\uff0c\u7d2f\u7a4d\u5206\u5e03\u95a2\u6570\u306e\u5024\u304c`a`\u3067\u3042\u308b\u5834\u5408\u306e`x`\u306e\u5024\u3092\u8a08\u7b97\u3067\u304d\u308b\u3002`a=0.5`\u306e\u5834\u5408\u306e`x`\u306f\uff1f"
            ]
        },
        {
            "cell_type": "code",
            "execution_count": null,
            "metadata": {},
            "outputs": [],
            "source": []
        },
        {
            "cell_type": "markdown",
            "metadata": {},
            "source": [
                "`a=0.025`\u306e\u5834\u5408\u306e`x`\u306f\uff1f"
            ]
        },
        {
            "cell_type": "code",
            "execution_count": null,
            "metadata": {},
            "outputs": [],
            "source": []
        },
        {
            "cell_type": "markdown",
            "metadata": {},
            "source": [
                "`a=0.975`\u306e\u5834\u5408\u306e`x`\u306f\uff1f"
            ]
        },
        {
            "cell_type": "code",
            "execution_count": null,
            "metadata": {},
            "outputs": [],
            "source": []
        },
        {
            "cell_type": "markdown",
            "metadata": {},
            "source": [
                "**\u30e9\u30f3\u30c0\u30e0\u5909\u6570\u751f\u6210\u95a2\u6570**\n",
                "\n",
                "10000\u500b\u306e\u30e9\u30f3\u30c0\u30e0\u5909\u6570\u3092\u751f\u6210\u3057\u3088\u3046\u3002"
            ]
        },
        {
            "cell_type": "code",
            "execution_count": null,
            "metadata": {},
            "outputs": [],
            "source": []
        },
        {
            "cell_type": "code",
            "execution_count": null,
            "metadata": {},
            "outputs": [],
            "source": [
                "\n"
            ]
        },
        {
            "cell_type": "markdown",
            "metadata": {},
            "source": [
                "`y_rvs`\u304c\u3069\u306e\u5206\u5e03\u95a2\u6570\u304b\u3089\u751f\u6210\u3055\u308c\u305f\u4e0d\u660e\u3060\u3068\u3057\uff0c`y_rvs`\u304b\u3089\u5143\u306e\u78ba\u7387\u5bc6\u5ea6\u95a2\u6570\u3092\u63a8\u5b9a\u3057\u305f\u3044\u3068\u3057\u3088\u3046\u3002\u305d\u308c\u3092\u30ab\u30fc\u30cd\u30eb\u5bc6\u5ea6\u63a8\u5b9a\u3068\u547c\u3076\u3002`SciPy`\u306b\u306f\u305d\u306e\u305f\u3081\u306e\u95a2\u6570`gaussian_kde`\u304c\u7528\u610f\u3055\u308c\u3066\u3044\u308b\u3002`gaussian`\uff08\u30ac\u30a6\u30b7\u30a2\u30f3\uff09\u3068\u306f\u5929\u624d\u6570\u5b66\u8005\u30ac\u30a6\u30b9\u306e\u540d\u524d\u304b\u3089\u304d\u3066\u304a\u308a\u300c\u30ac\u30a6\u30b9\u7684\u306a\u300d\u3068\u7406\u89e3\u3059\u308c\u3070\u826f\u3044\u3002`kde`\u306fKernel Density Estimate\uff08\u30ab\u30fc\u30cd\u30eb\u5bc6\u5ea6\u63a8\u5b9a\uff09\u306e\u982d\u6587\u5b57\u3092\u3068\u3063\u3066\u3044\u308b\u3002"
            ]
        },
        {
            "cell_type": "code",
            "execution_count": null,
            "metadata": {},
            "outputs": [],
            "source": [
                "\n",
                "\n",
                "",
                ""
            ]
        },
        {
            "cell_type": "markdown",
            "metadata": {},
            "source": [
                "\u63a8\u5b9a\u306a\u306e\u3067\u6a19\u6e96\u6b63\u898f\u5206\u5e03\u306e\u78ba\u7387\u5bc6\u5ea6\u95a2\u6570\u3068\u5168\u304f\u540c\u3058\u306b\u306f\u306a\u3089\u306a\u3044\u304c\uff0c\u975e\u5e38\u306b\u8fd1\u3044\u3002\u4e0a\u306e\u56f3\u3068\u91cd\u306d\u308b\u3068\u3002"
            ]
        },
        {
            "cell_type": "code",
            "execution_count": null,
            "metadata": {},
            "outputs": [],
            "source": [
                "\n",
                "\n",
                ""
            ]
        },
        {
            "cell_type": "markdown",
            "metadata": {
                "heading_collapsed": true
            },
            "source": [
                "## \u305d\u306e\u4ed6\u306e\u5206\u5e03\u95a2\u6570"
            ]
        },
        {
            "cell_type": "markdown",
            "metadata": {
                "heading_collapsed": true,
                "hidden": true
            },
            "source": [
                "### $t$\u5206\u5e03"
            ]
        },
        {
            "cell_type": "markdown",
            "metadata": {
                "hidden": true
            },
            "source": [
                "$t$\u5206\u5e03\u306e\u30e2\u30b8\u30e5\u30fc\u30eb\u540d\u306f`t`\u3002\n",
                "```\n",
                "t.pdf(x, df)\n",
                "t.cdf(x, df)\n",
                "t.ppf(a, df)\n",
                "t.rvs(df, size=1)\n",
                "```\n",
                "* `dfn`\uff1a\u81ea\u7531\u5ea6\uff08degree of freedom\uff09\n",
                "\n",
                "`scipy.stats`\u306e`t`\u3092\u8aad\u307f\u8fbc\u3080\uff0c\u78ba\u7387\u5bc6\u5ea6\u95a2\u6570\u306e\u56f3\u3092\u63cf\u304f\u3002"
            ]
        },
        {
            "cell_type": "code",
            "execution_count": null,
            "metadata": {},
            "outputs": [],
            "source": [
                "\n",
                "\n",
                "",
                "",
                ""
            ]
        },
        {
            "cell_type": "markdown",
            "metadata": {
                "hidden": true
            },
            "source": [
                "`df=1`\u306e\u6642\u306b`x`\u306e\u5024\u304c`-3`\u4ee5\u4e0b\u306e\u78ba\u7387\u306f\u4f55\u304b\uff1f"
            ]
        },
        {
            "cell_type": "code",
            "execution_count": null,
            "metadata": {},
            "outputs": [],
            "source": []
        },
        {
            "cell_type": "markdown",
            "metadata": {
                "hidden": true
            },
            "source": [
                "`df=1`\u306e\u6642\u306b`x`\u306e\u5024\u304c`3`\u4ee5\u4e0a\u306e\u78ba\u7387\u306f\u4f55\u304b\uff1f"
            ]
        },
        {
            "cell_type": "code",
            "execution_count": null,
            "metadata": {},
            "outputs": [],
            "source": []
        },
        {
            "cell_type": "markdown",
            "metadata": {
                "heading_collapsed": true,
                "hidden": true
            },
            "source": [
                "### $\\chi^2$\u5206\u5e03"
            ]
        },
        {
            "cell_type": "markdown",
            "metadata": {
                "hidden": true
            },
            "source": [
                "$\\chi^2$\u5206\u5e03\u306e\u30e2\u30b8\u30e5\u30fc\u30eb\u540d\u306f`chi2`\u3002\n",
                "```\n",
                "chi2.pdf(x, df)\n",
                "chi2.cdf(x, df)\n",
                "chi2.ppf(a, df)\n",
                "chi2.rvs(df, size=1)\n",
                "```\n",
                "* `df`\uff1a\u81ea\u7531\u5ea6\uff08degree of freedom\uff09\n",
                "\n",
                "`scipy.stats`\u306e`chi2`\u3092\u8aad\u307f\u8fbc\u3080\uff0c\u78ba\u7387\u5bc6\u5ea6\u95a2\u6570\u306e\u56f3\u3092\u63cf\u304f\u3002"
            ]
        },
        {
            "cell_type": "code",
            "execution_count": null,
            "metadata": {},
            "outputs": [],
            "source": [
                "\n",
                "\n",
                "",
                "",
                ""
            ]
        },
        {
            "cell_type": "markdown",
            "metadata": {
                "hidden": true
            },
            "source": [
                "`df=3`\u306e\u6642\u306b`x`\u306e\u5024\u304c`1`\u4ee5\u4e0b\u306e\u78ba\u7387\u306f\u4f55\u304b\uff1f"
            ]
        },
        {
            "cell_type": "code",
            "execution_count": null,
            "metadata": {},
            "outputs": [],
            "source": []
        },
        {
            "cell_type": "markdown",
            "metadata": {
                "hidden": true
            },
            "source": [
                "`df=3`\u306e\u6642\u306b`x`\u306e\u5024\u304c`10`\u4ee5\u4e0a\u306e\u78ba\u7387\u306f\u4f55\u304b\uff1f"
            ]
        },
        {
            "cell_type": "code",
            "execution_count": null,
            "metadata": {},
            "outputs": [],
            "source": []
        },
        {
            "cell_type": "markdown",
            "metadata": {
                "heading_collapsed": true,
                "hidden": true
            },
            "source": [
                "### $F$\u5206\u5e03"
            ]
        },
        {
            "cell_type": "markdown",
            "metadata": {
                "hidden": true
            },
            "source": [
                "$F$\u5206\u5e03\u306e\u30e2\u30b8\u30e5\u30fc\u30eb\u540d\u306f`f`\u3002\n",
                "```\n",
                "t.pdf(x, dfn, dfd)\n",
                "t.cdf(x, dfn, dfd)\n",
                "t.ppf(a, dfn, dfd)\n",
                "t.rvs(dfn, dfd, size=1)\n",
                "```\n",
                "* `dfn`\uff1a\u5206\u5b50\u306e\u81ea\u7531\u5ea6\uff08numerator degree of freedom\uff09\n",
                "* `dfd`\uff1a\u5206\u6bcd\u81ea\u7531\u5ea6\uff08denominator degree of freedom\uff09\n",
                "\n",
                "`scipy.stats`\u306e`f`\u3092\u8aad\u307f\u8fbc\u3080\uff0c\u78ba\u7387\u5bc6\u5ea6\u95a2\u6570\u306e\u56f3\u3092\u63cf\u304f\u3002"
            ]
        },
        {
            "cell_type": "code",
            "execution_count": null,
            "metadata": {},
            "outputs": [],
            "source": [
                "\n",
                "\n",
                "",
                "",
                ""
            ]
        },
        {
            "cell_type": "markdown",
            "metadata": {
                "hidden": true
            },
            "source": [
                "`dfn=5`, `dfd=1\u306e\u6642\u306b`x`\u306e\u5024\u304c`0.1`\u4ee5\u4e0b\u306e\u78ba\u7387\u306f\u4f55\u304b\uff1f"
            ]
        },
        {
            "cell_type": "code",
            "execution_count": null,
            "metadata": {},
            "outputs": [],
            "source": []
        },
        {
            "cell_type": "markdown",
            "metadata": {
                "hidden": true
            },
            "source": [
                "`dfn=5`, `dfd=1\u306e\u6642\u306b`x`\u306e\u5024\u304c`5`\u4ee5\u4e0a\u306e\u78ba\u7387\u306f\u4f55\u304b\uff1f"
            ]
        },
        {
            "cell_type": "code",
            "execution_count": null,
            "metadata": {},
            "outputs": [],
            "source": []
        },
        {
            "cell_type": "markdown",
            "metadata": {
                "heading_collapsed": true,
                "hidden": true
            },
            "source": [
                "### \u4e00\u69d8\u5206\u5e03 (Uniform Distribution)"
            ]
        },
        {
            "cell_type": "markdown",
            "metadata": {
                "hidden": true
            },
            "source": [
                "\u4e00\u69d8\u5206\u5e03\u306e\u30e2\u30b8\u30e5\u30fc\u30eb\u540d\u306f`uniform`\u3002\n",
                "```\n",
                "uniform.pdf(x, loc=0, scale=1)\n",
                "uniform.cdf(x, loc=0, scale=1)\n",
                "uniform.ppf(a, loc=0, scale=1)\n",
                "uniform.rvs(loc=0, scale=1, size=1)\n",
                "```\n",
                "* `loc`\uff1a`x`\u306e\u6700\u5c0f\u5024\n",
                "* `scale`\uff1a`x`\u306e\u6700\u5927\u5024\n",
                "* `m`\u3060\u3051\u300c\u53f3\u300d\u306b\u5e73\u884c\u79fb\u52d5\u3055\u305b\u308b\u5834\u5408\u306f\n",
                "```\n",
                "loc=m, scale=m+1\n",
                "```\n",
                "\n",
                "`scipy.stats`\u306e`uniform`\u3092\u8aad\u307f\u8fbc\u3080\uff0c\u78ba\u7387\u5bc6\u5ea6\u95a2\u6570\u306e\u56f3\u3092\u63cf\u304f\u3002"
            ]
        },
        {
            "cell_type": "code",
            "execution_count": null,
            "metadata": {},
            "outputs": [],
            "source": [
                "\n",
                "\n",
                "",
                "",
                ""
            ]
        },
        {
            "cell_type": "markdown",
            "metadata": {
                "heading_collapsed": true,
                "hidden": true
            },
            "source": [
                "### \u30ed\u30b8\u30b9\u30c6\u30a3\u30af\u5206\u5e03\uff08Logistic Distribution\uff09"
            ]
        },
        {
            "cell_type": "markdown",
            "metadata": {
                "hidden": true
            },
            "source": [
                "\u30ed\u30b8\u30b9\u30c6\u30a3\u30c3\u30af\u5206\u5e03\u306e\u30e2\u30b8\u30e5\u30fc\u30eb\u540d\u306f`logistic`\u3002\n",
                "```\n",
                "logistic.pdf(x, loc=0, scale=1)\n",
                "logistic.cdf(x, loc=0, scale=1)\n",
                "logistic.ppf(a, loc=0, scale=1)\n",
                "logistic.rvs(loc=0, scale=1, size=1)\n",
                "```\n",
                "* `loc`\uff1a\u5e73\u5747\u5024\n",
                "* `scale`\uff1a\u5206\u6563\u306b\u5f71\u97ff\u3059\u308b\u5024\n",
                "```\n",
                "logistic.pdf(x,loc,scale) = logistic.pdf(z), z=(x-loc)/scale\n",
                "```\n",
                "\n",
                "`scipy.stats`\u306e`logistic`\u3092\u8aad\u307f\u8fbc\u3080\uff0c\u78ba\u7387\u5bc6\u5ea6\u95a2\u6570\u306e\u56f3\u3092\u63cf\u304f\u3002"
            ]
        },
        {
            "cell_type": "code",
            "execution_count": null,
            "metadata": {},
            "outputs": [],
            "source": [
                "\n",
                "\n",
                "",
                "",
                ""
            ]
        },
        {
            "cell_type": "code",
            "execution_count": null,
            "metadata": {},
            "outputs": [],
            "source": []
        }
    ],
    "metadata": {
        "kernelspec": {
            "display_name": "latest",
            "language": "python",
            "name": "latest"
        },
        "language_info": {
            "codemirror_mode": {
                "name": "ipython",
                "version": 3
            },
            "file_extension": ".py",
            "mimetype": "text/x-python",
            "name": "python",
            "nbconvert_exporter": "python",
            "pygments_lexer": "ipython3",
            "version": "3.8.2"
        },
        "toc": {
            "base_numbering": 1,
            "nav_menu": {},
            "number_sections": true,
            "sideBar": true,
            "skip_h1_title": false,
            "title_cell": "Table of Contents",
            "title_sidebar": "Contents",
            "toc_cell": false,
            "toc_position": {},
            "toc_section_display": true,
            "toc_window_display": false
        }
    },
    "nbformat": 4,
    "nbformat_minor": 2
}