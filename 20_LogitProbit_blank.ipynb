{
    "cells": [
        {
            "cell_type": "markdown",
            "metadata": {},
            "source": [
                "# \u96e2\u6563\u9078\u629e\u30e2\u30c7\u30eb"
            ]
        },
        {
            "cell_type": "code",
            "execution_count": null,
            "metadata": {},
            "outputs": [],
            "source": [
                "\n",
                "\n",
                "",
                "",
                "",
                "",
                "",
                ""
            ]
        },
        {
            "cell_type": "markdown",
            "metadata": {
                "heading_collapsed": true
            },
            "source": [
                "## \u8aac\u660e"
            ]
        },
        {
            "cell_type": "markdown",
            "metadata": {
                "hidden": true
            },
            "source": [
                "\u6b21\u306e\uff12\u3064\u306e\u30e2\u30c7\u30eb\u3092\u8003\u3048\u308b\u3002\n",
                "* Logit\u30e2\u30c7\u30eb\n",
                "* Probit\u30e2\u30c7\u30eb\n",
                "\n",
                "\n",
                "\u4f8b\u3068\u3057\u3066\uff0c\u52b4\u50cd\u5e02\u5834\u53c2\u52a0\u306e\u6c7a\u5b9a\u8981\u56e0\u3092\u8003\u3048\u3088\u3046\u3002\u5c31\u696d\u3059\u308b\u5834\u5408\u306f$y=1$\uff0c\u3057\u306a\u3044\u5834\u5408\u306f$y=0$\u3068\u306a\u308b\uff12\u5024\u53cd\u5fdc\u30e2\u30c7\u30eb\u3068\u8003\u3048\u308b\u3053\u3068\u304c\u3067\u304d\u308b\u3002\n",
                "\n",
                "\uff1c\u8003\u3048\u65b9\uff1e\n",
                "* \u6f5c\u5728\u5909\u6570\uff08\u52b9\u7528\u3068\u3082\u89e3\u91c8\u53ef\u80fd\uff09 $y^{*}$ \u304c $y^{*}>0$ \u306e\u5834\u5408\u306f\u52b4\u50cd\u5e02\u5834\u306b\u53c2\u52a0\u3057\uff0c$y^{*}\\leq0$ \u306e\u5834\u5408\u306f\u53c2\u52a0\u3057\u306a\u3044\u3068\u3059\u308b\u3002\n",
                "* $y^{*}$\u306f\u8981\u56e0$x$\u3068\u8aa4\u5dee\u9805\u306b\u4f9d\u5b58\u3059\u308b\u3002\n",
                "\n",
                "    $$\n",
                "    y=\n",
                "    \\begin{cases}\n",
                "        1\\quad\\text{ if}&y^{*}=\\beta_0+\\beta_1x+e > 0\\\\\n",
                "        0\\quad\\text{ if}&y^{*}=\\beta_0+\\beta_1x+e \\leq 0\\\\\n",
                "    \\end{cases}\n",
                "    \\qquad (\u5f0f\uff10)\n",
                "    $$\n",
                "    \n",
                "    * $\\beta_0$\uff1a\u5b9a\u6570\u9805\n",
                "    * $\\beta_1$\uff1a\u8981\u56e0$x$\u306e\u5f71\u97ff\u3092\u6349\u3048\u308b\u4fc2\u6570\n",
                "    * $e$\uff1a\u8aa4\u5dee\u9805\n",
                "        * $x$\uff08\u4f8b\u3048\u3070\uff0c\u6559\u80b2\u6c34\u6e96\uff09\u304c\u540c\u3058\u3067\u3042\u3063\u3066\u3082\uff0c$e$\uff08\u4f8b\u3048\u3070\uff0c\u55dc\u597d\uff09\u306b\u3088\u3063\u3066\u52b4\u50cd\u5e02\u5834\u53c2\u52a0\u306e\u6c7a\u5b9a\u304c\u7570\u306a\u308b\u3002"
            ]
        },
        {
            "cell_type": "markdown",
            "metadata": {
                "hidden": true
            },
            "source": [
                "* $x$\u3092\u6240\u4e0e\u3068\u3057\u3066\u52b4\u50cd\u5e02\u5834\u306b\u53c2\u52a0\u3059\u308b\u78ba\u7387\uff1a$P(y=1|x)$\u3092\u8003\u3048\u3088\u3046\u3002\n",
                "\n",
                "    $$ P(y=1|x)=P(y^{*}>0|x)=P(e>-(\\beta_0+\\beta_1x)|x)=1-G(-(\\beta_0+\\beta_1x))$$\n",
                "    \n",
                "    \u3053\u3053\u3067G(.)\u306fe\u306e\u7d2f\u7a4d\u5206\u5e03\u95a2\u6570\u3067\u3042\u308b\u3002\u5bfe\u79f0\u5206\u5e03\u95a2\u6570\u3092\u4eee\u5b9a\u3059\u308b\u3068\n",
                "\n",
                "    $$ 1-G(-z)=G(z)\\qquad\\; z=\\beta_0+\\beta_1x$$\n",
                "\n",
                "    \u3068\u306a\u308b\u3002\u307e\u305fG(.)\u306b\u3069\u306e\u5206\u5e03\u3092\u4eee\u5b9a\u3059\u308b\u304b\u306b\u3088\u3063\u3066\uff0cLogit\u30e2\u30c7\u30eb\u3068Probit\u30e2\u30c7\u30eb\u306b\u5206\u3051\u308b\u3053\u3068\u304c\u3067\u304d\u308b\u3002\n",
                "    \n",
                "    * Logit\u30e2\u30c7\u30eb\uff1ae\u306fLogistic\u5206\u5e03\u306b\u5f93\u3046\u3068\u4eee\u5b9a\n",
                "\n",
                "        $$G(z)=L(z)=\\dfrac{\\exp(z)}{1+\\exp(z)}:\\quad\\text{(Logistic\u7d2f\u7a4d\u78ba\u7387\u5206\u5e03)}$$\n",
                "\n",
                "    * Probit\u30e2\u30c7\u30eb\uff1ae\u306f\u6a19\u6e96\u6b63\u898f\u5206\u5e03\u306b\u5f93\u3046\u3068\u4eee\u5b9a\n",
                "\n",
                "        $$G(z)=\\Phi(z)=\\text{\u6a19\u6e96\u6b63\u898f\u5206\u5e03\u306e\u7d2f\u7a4d\u78ba\u7387\u5206\u5e03}$$\n",
                "\n",
                "* Logit\u30e2\u30c7\u30eb\u3068Probit\u30e2\u30c7\u30eb\u306f\u6b21\u5f0f\u3067\u8868\u3055\u308c\u308b\u3002\n",
                "\n",
                "    $$\n",
                "    P(y=1|x)=G(\\beta_0+\\beta_1x)=\n",
                "    \\begin{cases}\n",
                "        L(\\beta_0+\\beta_1x)&\\;\\text{Logit\u30e2\u30c7\u30eb}\\\\\n",
                "        \\Phi(\\beta_0+\\beta_1x)&\\;\\text{Probit\u30e2\u30c7\u30eb}\n",
                "    \\end{cases}\n",
                "    \\qquad\\text{(\u5f0f\uff11)}\n",
                "    $$"
            ]
        },
        {
            "cell_type": "markdown",
            "metadata": {
                "hidden": true
            },
            "source": [
                "---\n",
                "\u4e0b\u306e\u56f3\u306f\u30ed\u30b8\u30b9\u30c6\u30a3\u30af\u30b9\u5206\u5e03\u3068\u6a19\u6e96\u6b63\u898f\u5206\u5e03\u306e\u7d2f\u7a4d\u5bc6\u5ea6\u95a2\u6570\u3092\u8868\u3057\u3066\u3044\u308b\u3002"
            ]
        },
        {
            "cell_type": "code",
            "execution_count": null,
            "metadata": {},
            "outputs": [],
            "source": [
                "\n",
                "\n",
                "",
                "",
                "",
                "",
                "",
                "",
                "",
                "",
                ""
            ]
        },
        {
            "cell_type": "markdown",
            "metadata": {
                "hidden": true
            },
            "source": [
                "---\n",
                "\uff08\u30b3\u30e1\u30f3\u30c8\uff09\n",
                "* (\u5f0f\uff11)\u306b\u4f7f\u3046\u30c7\u30fc\u30bf\n",
                "    * \u5de6\u8fba\u306e\u88ab\u8aac\u660e\u5909\u6570\uff1a$y=\\{0,1\\}$\n",
                "    * \u53f3\u8fba\u306e\u8aac\u660e\u5909\u6570\uff1a$x$\u306f\u901a\u5e38\u306e\u5909\u6570\n",
                "* (\u5f0f\uff11)\u3092\u6700\u5c24\u6cd5\uff08Maximum Likelihood Estimate; MLE\uff09\u3092\u4f7f\u3063\u3066\u975e\u7dda\u5f62\u63a8\u5b9a\n",
                "    * \u63a8\u5b9a\u306b\u306f`statsmodels`\u3092\u4f7f\u3046\u3002\n",
                "    * (\u5f0f\uff11)\u306e\u63a8\u8a08\u306b\u57fa\u3065\u304f\u4e88\u6e2c\u5024 \uff1d $x$\u3092\u6240\u4e0e\u3068\u3059\u308b\u52b4\u50cd\u5e02\u5834\u306b\u53c2\u52a0\u3059\u308b\u78ba\u7387\n",
                "* OLS\u63a8\u5b9a\u3067\u306f\u691c\u5b9a\u306b$t$\u30fb$F$\u691c\u5b9a\u3092\u4f7f\u3063\u305f\u304c\uff0c\u305d\u306e\u4ee3\u308f\u308a\u306b\u6700\u5c24\u6cd5\u306e\u3082\u3068\u3067\u306e\u691c\u5b9a\u306b\u306f\uff13\u3064\u3042\u308b\n",
                "    * Wald\u691c\u5b9a\n",
                "    * \u5c24\u5ea6\u6bd4\u691c\u5b9a\uff08Likelihood Ratio Test\uff09\n",
                "    * LM\uff08Lagrange Multiperlier\uff09\u691c\u5b9a\uff08Score\u691c\u5b9a\u3068\u3082\u547c\u3070\u308c\u308b\uff09\n",
                "    * \uff08\u5927\u6a19\u672c\u306e\u3082\u3068\u3067\u540c\u3058\u3068\u306a\u308b; \u4f7f\u3044\u3084\u3059\u3044\u3082\u306e\u3092\u9078\u629e\uff09"
            ]
        },
        {
            "cell_type": "markdown",
            "metadata": {
                "hidden": true
            },
            "source": [
                "\uff08\u6ce8\u610f\uff11\uff09\n",
                "* \u300c\u7406\u60f3\u7684\u306a\u300d\u4eee\u5b9a\u306e\u3082\u3068\u3067\uff0c\u6700\u5c24\u63a8\u5b9a\u91cf\u306f\n",
                "    * \u4e00\u81f4\u6027\u3092\u6e80\u305f\u3059\n",
                "    * \u6f38\u8fd1\u7684\u306b\uff08\u5927\u6a19\u672c\uff09**\u6b63\u898f\u5206\u5e03**\u306b\u5f93\u3046\n",
                "    * \u6f38\u8fd1\u7684\u306b\uff08\u5927\u6a19\u672c\uff09\u52b9\u7387\u7684\u3067\u3042\u308b\n",
                "* \u6700\u5c24\u63a8\u5b9a\u91cf\u304c\u4e00\u81f4\u6027\u3092\u6e80\u305f\u3055\u306a\u3044\u8981\u56e0\u306b\u4ee5\u4e0b\u3092\u542b\u3080\uff08Green, 5th ed, p.679\uff09\n",
                "    * \u8aa4\u5dee\u9805\u306e\u306e\u4e0d\u5747\u4e00\u5206\u6563\n",
                "    * \u5185\u751f\u7684\u8aac\u660e\u5909\u6570\n",
                "    * \u6b20\u843d\u5909\u6570\uff08\u53f3\u8fba\u306b\u3042\u308b\u8aac\u660e\u5909\u6570\u3068\u76f8\u95a2\u3057\u306a\u304f\u3066\u3082\u30d0\u30a4\u30a2\u30b9\u304c\u767a\u751f\u3059\u308b\uff09"
            ]
        },
        {
            "cell_type": "markdown",
            "metadata": {
                "hidden": true
            },
            "source": [
                "\uff1c\uff1c\u4e0d\u5747\u4e00\u5206\u6563\u304c\u7591\u308f\u308c\u308b\u5834\u5408\u306e\u554f\u984c\uff1e\uff1e\n",
                "* OLS\u63a8\u5b9a\uff08\u5fa9\u7fd2\u3067\u3042\u308a\uff0c\u3053\u3053\u3067\u306f\u4f7f\u308f\u306a\u3044\uff09\n",
                "    * \u63a8\u5b9a\u91cf\u306f\u4e0d\u504f\u6027\u30fb\u4e00\u81f4\u6027\u3092\u6e80\u305f\u3059\n",
                "    * \u6a19\u6e96\u8aa4\u5dee\u306f\u4e00\u81f4\u6027\u3092\u5931\u3046\n",
                "        * \u4e0d\u5747\u4e00\u5206\u6563\u9811\u5065\u6a19\u6e96\u8aa4\u5dee\u3092\u4f7f\u3046\u3053\u3068\u306b\u3088\u308a\uff0c\u6709\u52b9\u306a\u691c\u5b9a\u3092\u884c\u3046\u3053\u3068\u304c\u53ef\u80fd\uff08\u5373\u3061\uff0c\u63a8\u5b9a\u91cf\u306f\u4e00\u81f4\u6027\u3092\u6e80\u305f\u3057\u3066\u3044\u308b\u306e\u3067\uff0c\u6a19\u6e96\u8aa4\u5dee\u3092\u4fee\u6b63\u3059\u308b\u3053\u3068\u306b\u3088\u308a\u6709\u52b9\u306a\u691c\u5b9a\u3068\u306a\u308b\uff09\n",
                "* ML\u63a8\u5b9a\n",
                "    * \u63a8\u5b9a\u91cf\u306f**\u4e00\u81f4\u6027\u3092\u6e80\u305f\u3055\u306a\u3044**\n",
                "    * \u6a19\u6e96\u8aa4\u5dee\u3082\u4e00\u81f4\u6027\u3092\u6e80\u305f\u3055\u306a\u3044\n",
                "        * \u4e0d\u5747\u4e00\u5206\u6563\u9811\u5065\u6a19\u6e96\u8aa4\u5dee\u3092\u4f7f\u3046\u3053\u3068\u304c\u63a8\u5968\u3055\u308c\u308b\u3053\u3068\u304c\u3042\u308b\u304c\uff08\u7814\u7a76\u8ad6\u6587\u3067\u3082\u305d\u3046\u3059\u308b\u7814\u7a76\u8005\u3082\u591a\u3044\uff09\u3002\u3057\u304b\u3057\uff0c\u4fc2\u6570\u306e\u63a8\u5b9a\u91cf\u306f\u4e00\u81f4\u6027\u3092\u6e80\u305f\u3055\u306a\u3044\u307e\u307e\u306a\u306e\u3067\uff0c\u6a19\u6e96\u8aa4\u5dee\u3060\u3051\u3092\u4fee\u6b63\u3057\u3066\u3082\u3069\u3053\u307e\u3067\u610f\u5473\u304c\u3042\u308b\u306e\u304b\u7591\u554f\u3067\u3042\u308b\u3002\u5373\u3061\uff0c\u3053\u306e\u5834\u5408\u306e\u4e0d\u5747\u4e00\u5206\u6563\u9811\u5065\u6a19\u6e96\u8aa4\u5dee\u306e\u6709\u7528\u6027\u306b\u7591\u554f\u304c\u6b8b\u308b\uff08[\u53c2\u7167](https://davegiles.blogspot.com/2013/05/robust-standard-errors-for-nonlinear.html)\uff09\u3002**\u3053\u306e\u3053\u3068\u306f\u6b21\u7ae0\u306e\u5236\u9650\u5f93\u5c5e\u5909\u6570\u30e2\u30c7\u30eb\u306b\u5f53\u3066\u306f\u307e\u308b\u306e\u3067\u6ce8\u610f\u3059\u308b\u3053\u3068\u3002**\n",
                "* \u4e0d\u5747\u4e00\u5206\u6563\u306b\u95a2\u3057\u3066\u306e\u5bfe\u51e6\u65b9\u6cd5\n",
                "    * \u5747\u4e00\u5206\u6563\u306e\u4e0b\u3067\u306e\u6a19\u6e96\u8aa4\u5dee\u3068\u4e0d\u5747\u4e00\u5206\u6563\u9811\u5065\u6a19\u6e96\u8aa4\u5dee\u306b\u5927\u304d\u306a\u5dee\u304c\u306a\u3051\u308c\u3070\uff0c\u4e0d\u5747\u4e00\u5206\u6563\u306e\u554f\u984c\u306f\u300c\u5927\u304d\u304f\u306a\u3044\u300d\u3068\u8003\u3048\u308b\u3002\u305f\u3060\u3057\u76ee\u5b89\u3002\n",
                "    * \u4e0d\u5747\u4e00\u5206\u6563\u306e\u691c\u5b9a\u3092\u304a\u3053\u306a\u3046\u3002"
            ]
        },
        {
            "cell_type": "markdown",
            "metadata": {
                "heading_collapsed": true
            },
            "source": [
                "## \u63a8\u5b9a"
            ]
        },
        {
            "cell_type": "markdown",
            "metadata": {
                "heading_collapsed": true,
                "hidden": true
            },
            "source": [
                "### \u30c7\u30fc\u30bf"
            ]
        },
        {
            "cell_type": "markdown",
            "metadata": {
                "hidden": true
            },
            "source": [
                "\u4ee5\u4e0b\u3067\u306f\uff0c`mroz`\u306e\u30c7\u30fc\u30bf\u3092\u4f7f\u3063\u3066\u5973\u6027\u306e\u52b4\u50cd\u5e02\u5834\u53c2\u52a0\u306b\u3064\u3044\u3066\u8003\u3048\u308b\u3002"
            ]
        },
        {
            "cell_type": "code",
            "execution_count": null,
            "metadata": {},
            "outputs": [],
            "source": [
                "\n"
            ]
        },
        {
            "cell_type": "markdown",
            "metadata": {
                "hidden": true
            },
            "source": [
                "* \u88ab\u8aac\u660e\u5909\u6570\n",
                "    * `inlf`\uff1a1975\u5e74\u306b\u52b4\u50cd\u5e02\u5834\u306b\u53c2\u52a0\u3057\u305f\u5834\u5408\uff11\uff0c\u3057\u306a\u3044\u5834\u5408\u306f\uff10\n",
                "* \u8aac\u660e\u5909\u6570\n",
                "    * `nwifeinc`\uff1a(`faminc` - `wage`*`hours`)/1000\n",
                "        * `faminc`\uff1a1975\u5e74\u306e\u4e16\u5e2f\u6240\u5f97\n",
                "        * `wage`\uff1a\u8cc3\u91d1\n",
                "        * `hours`\uff1a\u5c31\u696d\u6642\u9593\n",
                "    * `educ`\uff1a\u6559\u80b2\u5e74\u6570\n",
                "    * `exper`\uff1a\u52b4\u50cd\u5e02\u5834\u53c2\u52a0\u671f\u9593\n",
                "    * `expersq`\uff1a`exper`\u306e\uff12\u4e57\n",
                "    * `age`\uff1a\u5973\u6027\u306e\u5e74\u9f62\n",
                "    * `kidslt6`\uff1a6\u6b73\u672a\u6e80\u306e\u5b50\u4f9b\u306e\u6570\n",
                "    * `kidsge6`\uff1a6\u301c18\u3055\u3044\u306e\u5b50\u4f9b\u306e\u6570"
            ]
        },
        {
            "cell_type": "markdown",
            "metadata": {
                "heading_collapsed": true,
                "hidden": true
            },
            "source": [
                "### Logit\u30e2\u30c7\u30eb"
            ]
        },
        {
            "cell_type": "markdown",
            "metadata": {
                "hidden": true
            },
            "source": [
                "\u56de\u5e30\u5f0f\u306e\u8a2d\u5b9a"
            ]
        },
        {
            "cell_type": "code",
            "execution_count": null,
            "metadata": {},
            "outputs": [],
            "source": []
        },
        {
            "cell_type": "markdown",
            "metadata": {
                "hidden": true
            },
            "source": [
                "\u63a8\u5b9a\u306e\u8a08\u7b97\u306b\u306f`statsmodels`\u306e`logit`\u95a2\u6570\u3092\u4f7f\u3046\u3002\u4f7f\u3044\u65b9\u306f`statsmodels`\u306e`ols`\u3068\u540c\u3058\u3067\u3042\u308b\u3002"
            ]
        },
        {
            "cell_type": "code",
            "execution_count": null,
            "metadata": {},
            "outputs": [],
            "source": []
        },
        {
            "cell_type": "markdown",
            "metadata": {
                "hidden": true
            },
            "source": [
                "\u7d50\u679c\u306e\u8868\u793a"
            ]
        },
        {
            "cell_type": "code",
            "execution_count": null,
            "metadata": {},
            "outputs": [],
            "source": []
        },
        {
            "cell_type": "markdown",
            "metadata": {
                "hidden": true
            },
            "source": [
                "`dir()`\u3084`see()`\u3092\u4f7f\u3046\u3068\uff0c\u63a8\u5b9a\u7d50\u679c\u306e\u5c5e\u6027\u3084\u30e1\u30bd\u30c3\u30c9\u3092\u78ba\u8a8d\u3067\u304d\u308b\u3002"
            ]
        },
        {
            "cell_type": "code",
            "execution_count": null,
            "metadata": {},
            "outputs": [],
            "source": []
        },
        {
            "cell_type": "markdown",
            "metadata": {
                "hidden": true
            },
            "source": [
                "\u4f8b\u3048\u3070\uff0c`bse`\u306f\u4fc2\u6570\u306e\u6a19\u6e96\u8aa4\u5dee\u306e\u5c5e\u6027\u3067\u3042\u308b\u3002"
            ]
        },
        {
            "cell_type": "markdown",
            "metadata": {
                "hidden": true
            },
            "source": [
                "---\n",
                "\u4e0d\u5747\u4e00\u5206\u6563\u306b\u3064\u3044\u3066\u8003\u5bdf\u3059\u308b\u3002\u8aa4\u5dee\u9805\u306e\u5206\u6563\u304c\u5747\u4e00\u304b\u4e0d\u5747\u4e00\u304b\u3092\u8003\u3048\u308b\u4e0a\u3067\uff0c\uff12\u3064\u306e\u65b9\u6cd5\u3092\u8aac\u660e\u3059\u308b\u3002\n",
                "\n",
                "1. \u4e0d\u5747\u4e00\u5206\u6563\u9811\u5065\u6a19\u6e96\u8aa4\u5dee\u3092\u4f7f\u3046\u5834\u5408\u3068\u4f7f\u308f\u306a\u3044\u5834\u5408\u306e\u6a19\u6e96\u8aa4\u5dee\u3092\u6bd4\u3079\u308b\u3002\n",
                "    * \u9055\u3044\u304c\u5c0f\u3055\u3051\u308c\u3070\uff0c\u5747\u4e00\u5206\u6563\u306e\u53ef\u80fd\u6027\u304c\u9ad8\u3044\u3002\n",
                "    * \u3057\u304b\u3057\uff0c\u3053\u308c\u306f\uff11\u3064\u306e\u76ee\u5b89\u3067\u3042\u308b\u3002\n",
                "1. \u691c\u5b9a\u3092\u7528\u3044\u308b\n",
                "    * \u8003\u3048\u65b9\uff1a\u4e0d\u5747\u4e00\u5206\u6563\u306e\u4eee\u5b9a\u306e\u4e0b\u3067\u6700\u5c24\u63a8\u5b9a\u3057\uff0c\u5747\u4e00\u5206\u6563\u3068\u6bd4\u8f03\u3059\u308b\u3002\n",
                "\n",
                "---\n",
                "\u65b9\u6cd5\uff11\u3092\u8003\u3048\u3088\u3046\u3002"
            ]
        },
        {
            "cell_type": "code",
            "execution_count": null,
            "metadata": {},
            "outputs": [],
            "source": [
                "# \u4e0a\u3067\u63a8\u5b9a\u3057\u305f\u4fc2\u6570\u306e\u6a19\u6e96\u8aa4\u5dee\u3002\n",
                "\n",
                "\n",
                "# \u4e0d\u5747\u4e00\u5206\u6563\u9811\u5065\u6a19\u6e96\u8aa4\u5dee\n",
                "\n",
                "\n",
                "# `HC1`\u3092\u4f7f\u3046\u3053\u3068\u306b\u3088\u308b\u6a19\u6e96\u8aa4\u5dee\u306e\u5909\u5316\u7387\uff08\uff05\uff09\n"
            ]
        },
        {
            "cell_type": "markdown",
            "metadata": {
                "hidden": true
            },
            "source": [
                "\u5927\u304d\u304f\u9055\u3063\u3066\u3044\u308b\u3088\u3046\u306b\u3082\u307f\u3048\u306a\u3044\u3002\n",
                "\n",
                "\u6b21\u306b\u65b9\u6cd5\uff12\u3067\u3042\u308b\u691c\u5b9a\u3092\u304a\u3053\u306a\u3046\u3002\u307e\u305a`py4etrics`\u30d1\u30c3\u30b1\u30fc\u30b8\u306b\u3042\u308b`hetero_test`\u30e2\u30b8\u30e5\u30fc\u30eb\u3092\u8aad\u307f\u8fbc\u307f\uff0c\u305d\u306e\u4e2d\u306b`het_test_logit()`\u3068\u3044\u3046\u95a2\u6570\u3092\u3064\u304b\u3046\u3002"
            ]
        },
        {
            "cell_type": "markdown",
            "metadata": {
                "hidden": true
            },
            "source": [
                "````{note}\n",
                "Mac\u3067\u306fTerminal\u3001Windows\u3067\u306fGit Bash\u3092\u4f7f\u3044\u3001\u6b21\u306e\u30b3\u30de\u30f3\u30c9\u3067`py4etrics`\u30e2\u30b8\u30e5\u30fc\u30eb\u3092\u30a4\u30f3\u30b9\u30c8\u30fc\u30eb\u3067\u304d\u308b\u3002\n",
                "```\n",
                "pip install git+https://github.com/spring-haru/py4etrics.git\n",
                "```\n",
                "````"
            ]
        },
        {
            "cell_type": "markdown",
            "metadata": {
                "hidden": true
            },
            "source": [
                "\u5f15\u6570\u306b\u63a8\u5b9a\u7d50\u679c\u306e\u30a4\u30f3\u30b9\u30bf\u30f3\u30b9\u3092\u6307\u5b9a\u3059\u308b\u3053\u3068\u306b\u3088\u308a\uff0c\u4e0d\u5747\u4e00\u5206\u6563\u306eWald\u691c\u5b9a\u3092\u304a\u3053\u306a\u3046\u3053\u3068\u304c\u3067\u304d\u308b\u3002"
            ]
        },
        {
            "cell_type": "code",
            "execution_count": null,
            "metadata": {},
            "outputs": [],
            "source": []
        },
        {
            "cell_type": "markdown",
            "metadata": {
                "hidden": true
            },
            "source": [
                "10%\u306e\u6709\u610f\u6c34\u6e96\u3067\u3082\u5747\u4e00\u5206\u6563\u306e\u5e30\u7121\u4eee\u8aac\u3092\u68c4\u5374\u3067\u304d\u306a\u3044\u3002"
            ]
        },
        {
            "cell_type": "markdown",
            "metadata": {
                "heading_collapsed": true,
                "hidden": true
            },
            "source": [
                "### Probit\u30e2\u30c7\u30eb"
            ]
        },
        {
            "cell_type": "markdown",
            "metadata": {
                "hidden": true
            },
            "source": [
                "\u63a8\u5b9a\u306e\u8a08\u7b97\u306b\u306f`statsmodels`\u306e`probit`\u95a2\u6570\u3092\u4f7f\u3046\u3002\u4f7f\u3044\u65b9\u306f`logit`\u3068\u540c\u3058\u3067\u3042\u308b\u3002\u4e0a\u3068\u540c\u3058\u30c7\u30fc\u30bf\u3068\u540c\u3058`formula`\u3092\u4f7f\u3046\u3002"
            ]
        },
        {
            "cell_type": "code",
            "execution_count": null,
            "metadata": {},
            "outputs": [],
            "source": []
        },
        {
            "cell_type": "code",
            "execution_count": null,
            "metadata": {},
            "outputs": [],
            "source": []
        },
        {
            "cell_type": "markdown",
            "metadata": {
                "hidden": true
            },
            "source": [
                "`dir()`\u3084`see()`\u3092\u4f7f\u3046\u3068\uff0c\u63a8\u5b9a\u7d50\u679c\u306e\u5c5e\u6027\u3084\u30e1\u30bd\u30c3\u30c9\u3092\u78ba\u8a8d\u3067\u304d\u308b\u3002"
            ]
        },
        {
            "cell_type": "code",
            "execution_count": null,
            "metadata": {},
            "outputs": [],
            "source": []
        },
        {
            "cell_type": "markdown",
            "metadata": {
                "hidden": true
            },
            "source": [
                "---\n",
                "\u4e0d\u5747\u4e00\u5206\u6563\u306b\u3064\u3044\u3066\u8003\u5bdf\u3059\u308b\u3002"
            ]
        },
        {
            "cell_type": "code",
            "execution_count": null,
            "metadata": {},
            "outputs": [],
            "source": [
                "# \u4e0a\u3067\u63a8\u5b9a\u3057\u305f\u4fc2\u6570\u306e\u6a19\u6e96\u8aa4\u5dee\u3002\n",
                "\n",
                "\n",
                "# \u4e0d\u5747\u4e00\u5206\u6563\u9811\u5065\u6a19\u6e96\u8aa4\u5dee\n",
                "\n",
                "\n",
                "# `HC1`\u3092\u4f7f\u3046\u3053\u3068\u306b\u3088\u308b\u6a19\u6e96\u8aa4\u5dee\u306e\u5909\u5316\u7387\uff08\uff05\uff09\n"
            ]
        },
        {
            "cell_type": "markdown",
            "metadata": {
                "hidden": true
            },
            "source": [
                "\u5927\u304d\u304f\u9055\u3063\u3066\u3044\u308b\u3088\u3046\u306b\u306f\u307f\u3048\u306a\u3044\u3002"
            ]
        },
        {
            "cell_type": "markdown",
            "metadata": {
                "hidden": true
            },
            "source": [
                "\u6b21\u306b\u691c\u5b9a\u3092\u304a\u3053\u306a\u3046\u3002`py4etrics`\u30d1\u30c3\u30b1\u30fc\u30b8\u306e`hetero_test`\u30e2\u30b8\u30e5\u30fc\u30eb\u306b\u3042\u308b`het_test_probit()`\u3068\u3044\u3046\u95a2\u6570\u3092\u4f7f\u3046\u3002\u4f7f\u3044\u65b9\u306f`het_test_probit()`\u3068\u304a\u306a\u3058\u3067\u3042\u308b\u3002"
            ]
        },
        {
            "cell_type": "code",
            "execution_count": null,
            "metadata": {},
            "outputs": [],
            "source": []
        },
        {
            "cell_type": "markdown",
            "metadata": {
                "hidden": true
            },
            "source": [
                "10%\u306e\u6709\u610f\u6c34\u6e96\u3067\u3082\u5747\u4e00\u5206\u6563\u306e\u5e30\u7121\u4eee\u8aac\u3092\u68c4\u5374\u3067\u304d\u306a\u3044\u3002"
            ]
        },
        {
            "cell_type": "markdown",
            "metadata": {
                "heading_collapsed": true
            },
            "source": [
                "## \u4fc2\u6570\u306e\u63a8\u5b9a\u5024\u306e\u89e3\u91c8"
            ]
        },
        {
            "cell_type": "markdown",
            "metadata": {
                "hidden": true
            },
            "source": [
                "\u307e\u305a\uff0c`logit`\u3068`probit`\u306e\u7d50\u679c\u3092\u6bd4\u3079\u3066\u308f\u304b\u308b\u306e\u306f\uff0c\u4fc2\u6570\u306e\u63a8\u5b9a\u5024\u306f\u975e\u5e38\u306b\u4f3c\u3066\u3044\u308b\u3068\u3044\u3046\u70b9\u3067\u3042\u308b\u3002\u3067\u306f\uff0c\u4fc2\u6570\u3092\u3069\u306e\u3088\u3046\u306b\u89e3\u91c8\u3067\u304d\u308b\u306e\u304b\u8003\u3048\u308b\u3002"
            ]
        },
        {
            "cell_type": "markdown",
            "metadata": {
                "hidden": true
            },
            "source": [
                "\uff1c\u901a\u5e38\u306eOLS\u306e\u5834\u5408\uff1e\n",
                "\n",
                "\u63a8\u5b9a\u5f0f\u304c\n",
                "\n",
                "$$\n",
                "\\hat{y}=\\hat{\\beta}_0+\\hat{\\beta}_1x\n",
                "$$\n",
                "\n",
                "\u306e\u5834\u5408\uff0c$\\hat{\\beta}_1$\u306e\u89e3\u91c8\u306f\u7c21\u5358\u3067\u3042\u308b\u3002$\\dfrac{\\partial\\hat{y}}{\\partial x}=\\hat{\\beta}_1$\u3068\u306a\u308b\u306e\u3067\uff0c\uff08\u4ed6\u306e\u5909\u6570\u3092\u4e00\u5b9a\u306b\u3057\u305f\u307e\u307e\uff09$x$\u3092\u4e00\u5358\u4f4d\u5909\u5316\u3055\u305b\u305f\u5834\u5408\u306e$\\hat{y}$\u306b\u5bfe\u3059\u308b\u9650\u754c\u52b9\u679c\u3067\u3042\u308b\u3002\u305d\u306e\u9650\u754c\u52b9\u679c\u306f$x$\u306b\u4f9d\u5b58\u305b\u305a\u4e00\u5b9a\u3067\u3042\u308b\u3002"
            ]
        },
        {
            "cell_type": "markdown",
            "metadata": {
                "hidden": true
            },
            "source": [
                "---\n",
                "\uff1cLogit\u30fbProbit\u30e2\u30c7\u30eb\u306e\u5834\u5408\uff1e\n",
                "\n",
                "$G(.)$\u306e\u95a2\u6570\u304c\u3042\u308b\u305f\u3081\uff0c\u5c11\u3057\u9055\u3063\u3066\u304f\u308b\u3002(\u5f0f\uff11)\u3092\u5fae\u5206\u3059\u308b\u3068\u6b21\u306e\u7d50\u679c\u3092\u5f97\u308b\u3002\n",
                "\n",
                "$$\n",
                "\\dfrac{\\partial\\hat{y}}{\\partial x}=\n",
                "\\hat{\\beta}_1\\cdot g\\left(\\hat{\\beta}_0+\\hat{\\beta}_1x\\right), \\qquad g(z)=\\frac{dG(z)}{dz}\n",
                "$$\n",
                "\n",
                "\u91cd\u8981\u306a\u70b9\u306f\uff0c$g\\left(\\hat{\\beta}_0+\\hat{\\beta}_1 x\\right)$\u306f$x$\u306b\u4f9d\u5b58\u3057\u3066\u3044\u308b\u305f\u3081\uff0c$x$\u304c\u4e00\u5358\u4f4d\u5909\u5316\u3057\u305f\u5834\u5408\u306e\u9650\u754c\u52b9\u679c\u306f$x$\u306e\u5024\u306b\u4f9d\u5b58\u3057\u3066\u3044\u308b\u3068\u3044\u3046\u3053\u3068\u3067\u3042\u308b\u3002\u9650\u754c\u52b9\u679c\u3092\u8a55\u4fa1\u3057\u305f\u3044\u5834\u5408\uff0c$x$\u306b\u4f55\u304b\u306e\u5024\u3092\u4ee3\u5165\u3059\u308b\u3053\u3068\u306b\u3088\u308a\u8a55\u4fa1\u3059\u308b\u3002\u3067\u306f\u3069\u306e\u5024\u3092\u4f7f\u3048\u3070\u826f\u3044\u306e\u304b\u3002\uff12\u3064\u306e\u65b9\u6cd5\u8003\u3048\u308b\u3002\n",
                "\n",
                "* Partial Effects at Average\uff08\u5e73\u5747\u3067\u306e\u9650\u754c\u52b9\u679c\uff09\uff1a\u5e73\u5747\u3067\u3042\u308b$\\bar{x}$\u3067\u8a55\u4fa1\u3059\u308b\u3002\n",
                "    \n",
                "    $$\n",
                "    \\text{PEA}=\n",
                "    \\hat{\\beta}_1\\cdot g\\left(\\hat{\\beta}_0+\\hat{\\beta}_1\\bar{x}\\right)\n",
                "    $$\n",
                "\n",
                "* Average Partial Effects\uff08\u5e73\u5747\u9650\u754c\u52b9\u679c\uff09\uff1a\u5168\u3066\u306e$x$\u5024\u3067\u8a55\u4fa1\u3057\u305f\u9650\u754c\u52b9\u679c\u306e\u5e73\u5747\n",
                "        \n",
                "    $$\n",
                "    \\text{APE}=\\dfrac{1}{n}\\sum_{i=1}^n\n",
                "    \\hat{\\beta}_1\\cdot g\\left(\\hat{\\beta}_0+\\hat{\\beta}_1\\hat{x}\\right)\n",
                "    $$\n",
                "\n",
                "\uff08\u89e3\u91c8\uff09\n",
                "\n",
                "$x$\u304c\uff11\u5358\u4f4d\u5897\u52a0\u3059\u308b\u3068\u52b4\u50cd\u5e02\u5834\u53c2\u52a0\u306e\u78ba\u7387\uff08$P(y=1|x)=G(\\beta_0+\\beta_1x)$\uff09\u306f\u3069\u308c\u3060\u3051\u5909\u5316\u3059\u308b\u304b\u3092\u793a\u3059\u3002"
            ]
        },
        {
            "cell_type": "markdown",
            "metadata": {
                "hidden": true
            },
            "source": [
                "---\n",
                "`statsmodels`\u3067\u306f\uff0c\u63a8\u5b9a\u7d50\u679c\uff08\u4e0a\u306e\u4f8b\u3067\u306f\uff0c`res_logit`\u3068`res_probit`\uff09\u306e\u30e1\u30bd\u30c3\u30c9`get_margeff()`\u3092\u4f7f\u3046\u3053\u3068\u306b\u3088\u308a\u81ea\u52d5\u7684\u306b\u8a08\u7b97\u3057\u3066\u304f\u308c\u308b\u3002\u30c7\u30d5\u30a9\u30eb\u30c8\u3067\u306fAPE\u3092\u8fd4\u3059\u3002PEA\u306b\u306f\u6b21\u306e\u5f15\u6570\u3092\u4f7f\u3046\u3002\n",
                "* PEA\uff1a`at='mean'`\n",
                "* APE\uff1a`at='overall'`\uff08\u30c7\u30d5\u30a9\u30eb\u30c8\uff09\n",
                "\n",
                "\u307e\u305f\uff0c`get_margeff()`\u306f\u8a08\u7b97\u3059\u308b\u3060\u3051\u306a\u306e\u3067\uff0c\u30e1\u30bd\u30c3\u30c9`summary()`\u3092\u4f7f\u3063\u3066\u7d50\u679c\u3092\u8868\u793a\u3059\u308b\u3002"
            ]
        },
        {
            "cell_type": "code",
            "execution_count": null,
            "metadata": {},
            "outputs": [],
            "source": [
                "\n"
            ]
        },
        {
            "cell_type": "code",
            "execution_count": null,
            "metadata": {},
            "outputs": [],
            "source": [
                "\n"
            ]
        },
        {
            "cell_type": "markdown",
            "metadata": {
                "hidden": true
            },
            "source": [
                "APE\u3068PEA\u306e\u5024\u3060\u3051\u3092\u53d6\u308a\u984c\u3057\u305f\u3044\u5834\u5408\u306f\uff0c\u5c5e\u6027`margeff`\u3092\u4f7f\u3046\u3068\u826f\u3044\u3060\u308d\u3046\u3002"
            ]
        },
        {
            "cell_type": "code",
            "execution_count": null,
            "metadata": {},
            "outputs": [],
            "source": []
        },
        {
            "cell_type": "markdown",
            "metadata": {
                "heading_collapsed": true
            },
            "source": [
                "## \u63a8\u5b9a\u7d50\u679c\u306e\u8868\uff08\u4e0a\u6bb5\u53f3\uff09"
            ]
        },
        {
            "cell_type": "markdown",
            "metadata": {
                "hidden": true
            },
            "source": [
                "\u63a8\u5b9a\u7d50\u679c\u306e\u8868\u3092\u8aac\u660e\u3059\u308b\u305f\u3081\u306b`logit`\u306e\u7d50\u679c\u3092\u518d\u5ea6\u8868\u793a\u3059\u308b\u3002\uff08`probit`\u3082\u540c\u3058\u9805\u76ee\u304c\u8868\u793a\u3055\u308c\u3066\u3044\u308b\uff09"
            ]
        },
        {
            "cell_type": "code",
            "execution_count": null,
            "metadata": {},
            "outputs": [],
            "source": []
        },
        {
            "cell_type": "markdown",
            "metadata": {
                "hidden": true
            },
            "source": [
                "* `No. Observations`\uff1a\u89b3\u6e2c\u5024\u306e\u6570\uff08\u30c7\u30fc\u30bf\u306e\u5927\u304d\u3055\uff09\n",
                "    * \u5c5e\u6027`nobs`\n",
                "* `DF Residuals`\uff1a\u5b9a\u6570\u4ee5\u5916\u306e\u4fc2\u6570\u306e\u6570\n",
                "    * \u5c5e\u6027`df_resid`\n",
                "* `DF Model`\uff1a\u5b9a\u6570\u4ee5\u5916\u306e\u4fc2\u6570\u306e\u6570\n",
                "    * \u5c5e\u6027`df_model`\n",
                "* `Pseudo R-squ`\uff08\u7591\u4f3c\u6c7a\u5b9a\u4fc2\u6570\uff09\uff1a\n",
                "    * MLE\u306fOLS\u3067\u306f\u306a\u3044\u305f\u3081$R^2$\u306f\u306a\u3044\u3002\u305d\u306e\u4ee3\u308f\u308a\u306b\u306a\u308b\u6307\u6a19\u304cPseudo $R^2$\uff08\u7591\u4f3c\u6c7a\u5b9a\u4fc2\u6570\uff09\u3068\u3044\u308f\u308c\u308b\u3082\u306e\u3067\u3042\u308a\uff0c\u305d\u306e\uff11\u3064\u304c\u8868\u306b\u3042\u308bMcFadden\u304c\u8003\u6848\u3057\u305f Pseudo $R^2$\u3002\n",
                "    * \u5c5e\u6027`prsquared`\n",
                "* `Log-Likelihood`\uff08\u6b8b\u5dee\u306e\u5bfe\u6570\u5c24\u5ea6\uff09\n",
                "    * \u5927\u304d\u3044\u307b\u3069\u5f53\u3066\u306f\u307e\u308a\u826f\u3044\n",
                "    * \u5c5e\u6027`llf`\n",
                "* `LL-Null`\uff08\u5b9a\u6570\u4ee5\u5916\u306e\u4fc2\u6570\u3092\uff10\u306b\u5236\u9650\u3057\u305f\u5834\u5408\u306e\u6b8b\u5dee\u306e\u5bfe\u6570\u5c24\u5ea6\uff09\n",
                "    * \u5c5e\u6027`llnull`\n",
                "* `LLR p-value`\uff1a\n",
                "    * \u5b9a\u6570\u9805\uff08Intercept\uff09\u4ee5\u5916\u306e\u4fc2\u6570\u304c\u5168\u3066\uff10\u3067\u3042\u308b\u3068\u3044\u3046\u5e30\u7121\u4eee\u8aac\u306e\u3082\u3068\u3067\u306ep\u5024\u3002\u3053\u3053\u3067\u306f\u975e\u5e38\u306b\u5c0f\u3055\u306a\u6570\u5b57\u3067\u3042\u308a\uff0c\u5e30\u7121\u4eee\u8aac\u3092\u68c4\u5374\u3067\u304d\u308b\u3002\n",
                "    * \u5c5e\u6027`llr_pvalue`"
            ]
        },
        {
            "cell_type": "markdown",
            "metadata": {
                "heading_collapsed": true
            },
            "source": [
                "## \u5c24\u5ea6\u6bd4\u691c\u5b9a"
            ]
        },
        {
            "cell_type": "markdown",
            "metadata": {
                "hidden": true
            },
            "source": [
                "\u5c24\u5ea6\u6bd4\u691c\u5b9a\uff08Likelihood Ratio Test\uff09\u306b\u3064\u3044\u3066\u8aac\u660e\u3059\u308b\u3002\u691c\u5b9a\u91cf\u306f\uff0c\u6b21\u5f0f\u306b\u5f93\u3063\u3066\u5236\u9650\u3092\u8ab2\u3059\u5834\u5408\u3068\u8ab2\u3055\u306a\u3044\u5834\u5408\u306e\u6b8b\u5dee\u306e\u5bfe\u6570\u5c24\u5ea6\u3092\u4f7f\u3063\u3066\u8a08\u7b97\u3059\u308b\u3002\n",
                "\n",
                "$$LR=2\\left(\\cal{L}_{ur}-\\cal{L}_{r}\\right)$$\n",
                "\n",
                "\n",
                "* $\\cal{L}_{ur}$\uff1a\u5236\u9650\u304c\u306a\u3044\u5834\u5408\u306e\u5bfe\u6570\u5c24\u5ea6\n",
                "* $\\cal{L}_{r}$\uff1a\u5236\u9650\u304c\u3042\u308b\u5834\u5408\u306e\u5bfe\u6570\u5c24\u5ea6\n",
                "\n",
                "$LR$\u306f\u6f38\u8fd1\u7684\u306b\u30ab\u30a4\u4e8c\u4e57\u5206\u5e03\u306b\u5f93\u3046\u3002\n",
                "\n",
                "$$LR\\sim \\chi_q^2,\\qquad q=\\text{\u5236\u9650\u3055\u308c\u308b\u4fc2\u6570\u306e\u6570}$$"
            ]
        },
        {
            "cell_type": "markdown",
            "metadata": {
                "heading_collapsed": true,
                "hidden": true
            },
            "source": [
                "### \u4f8b\uff11"
            ]
        },
        {
            "cell_type": "markdown",
            "metadata": {
                "hidden": true
            },
            "source": [
                "\u4f8b\u3068\u3057\u3066\uff0cProbit\u63a8\u5b9a\u3092\u8003\u3048\u308b\u3002\n",
                "\n",
                "$\\text{H}_0$\uff1a\u5b9a\u6570\u9805\u4ee5\u5916\u306e\u4fc2\u6570\u306f\u5168\u3066\uff10\n",
                "\n",
                "$\\text{H}_A$\uff1a$\\text{H}_0$\u306f\u6210\u7acb\u3057\u306a\u3044"
            ]
        },
        {
            "cell_type": "code",
            "execution_count": null,
            "metadata": {},
            "outputs": [],
            "source": [
                "\n",
                "\n",
                "",
                "",
                "",
                "",
                "",
                "",
                ""
            ]
        },
        {
            "cell_type": "markdown",
            "metadata": {
                "hidden": true
            },
            "source": [
                "1%\u6c34\u6e96\u3067\u5e30\u7121\u4eee\u8aac\u306f\u68c4\u5374\u3067\u304d\u308b\u3002\n",
                "\n",
                "\u3053\u306e\u7d50\u679c\u306f\u63a8\u5b9a\u7d50\u679c\u306e\u8868\u306b\u3042\u308b`LLR p-value`\u3068\u540c\u3058\u3067\u3042\u308a\uff0c`res_probit`\u306e\u5c5e\u6027`.llr_pvalue`\u3092\u4f7f\u3063\u3066\u76f4\u63a5\u8868\u793a\u3059\u308b\u3053\u3068\u3082\u53ef\u80fd\u3067\u3042\u308b\u3002"
            ]
        },
        {
            "cell_type": "code",
            "execution_count": null,
            "metadata": {},
            "outputs": [],
            "source": []
        },
        {
            "cell_type": "markdown",
            "metadata": {
                "heading_collapsed": true,
                "hidden": true
            },
            "source": [
                "### \u4f8b\uff12"
            ]
        },
        {
            "cell_type": "markdown",
            "metadata": {
                "hidden": true
            },
            "source": [
                "\u6b21\u306b\uff0cProbit\u63a8\u5b9a\u3092\u8003\u3048\u308b\u3002\n",
                "\n",
                "$\\text{H}_0$\uff1a`exper`\uff0c`expersq`\uff0c`age`\u306e\u4fc2\u6570\u306f\uff10\n",
                "\n",
                "$\\text{H}_A$\uff1a$\\text{H}_0$\u306f\u6210\u7acb\u3057\u306a\u3044\n",
                "\n",
                "\u5e30\u7121\u4eee\u8aac\u306e\u4e0b\u3067\u306e\u63a8\u5b9a\u3092\u304a\u3053\u306a\u3046\u3002"
            ]
        },
        {
            "cell_type": "code",
            "execution_count": null,
            "metadata": {},
            "outputs": [],
            "source": [
                "\n",
                "\n",
                ""
            ]
        },
        {
            "cell_type": "code",
            "execution_count": null,
            "metadata": {},
            "outputs": [],
            "source": [
                "\n",
                "\n",
                "",
                "",
                "",
                "",
                "",
                "",
                ""
            ]
        },
        {
            "cell_type": "markdown",
            "metadata": {
                "hidden": true
            },
            "source": [
                "1%\u6c34\u6e96\u3067\u5e30\u7121\u4eee\u8aac\u306f\u68c4\u5374\u3067\u304d\u308b\u3002"
            ]
        },
        {
            "cell_type": "markdown",
            "metadata": {
                "heading_collapsed": true
            },
            "source": [
                "## \u7dda\u5f62\u78ba\u7387\u30e2\u30c7\u30eb"
            ]
        },
        {
            "cell_type": "markdown",
            "metadata": {
                "hidden": true
            },
            "source": [
                "\u7dda\u5f62\u78ba\u7387\u30e2\u30c7\u30eb\uff08Linear Probability Model\uff09\u3092\u8003\u3048\u308b\u305f\u3081\u306b\uff0c\u95a2\u6570$G(.)$\u306b\u95a2\u3057\u3066\u4ee5\u4e0b\u3092\u4eee\u5b9a\u3059\u308b\u3002\n",
                "\n",
                "$$\n",
                "G(z) = z\n",
                "$$\n",
                "\n",
                "\u7dda\u5f62\u78ba\u7387\u30e2\u30c7\u30eb\u306e\u5229\u70b9\u306f\uff0c\u901a\u5e38\u306eOLS\u63a8\u5b9a\u304c\u53ef\u80fd\u3060\u3068\u3044\u3046\u3053\u3068\u3067\u3042\u308b\u3002\u3057\u304b\u3057\uff0c\u8aa4\u5dee\u9805\u306f\u4e0d\u5747\u4e00\u5206\u6563\u3068\u306a\u308b\u305f\u3081\u4ee5\u4e0b\u3067\u306f\u4e0d\u5747\u4e00\u5206\u6563\u9811\u5065\u6a19\u6e96\u8aa4\u5dee\u3092\u4f7f\u3046\u3002"
            ]
        },
        {
            "cell_type": "code",
            "execution_count": null,
            "metadata": {},
            "outputs": [],
            "source": [
                "\n",
                "\n",
                ""
            ]
        },
        {
            "cell_type": "markdown",
            "metadata": {
                "hidden": true
            },
            "source": [
                "\u3053\u306e\u63a8\u5b9a\u6cd5\u306e\u554f\u984c\u306f\uff0c\u78ba\u7387\u306e\u4e88\u6e2c\u5024\u304c$[0,1]$\u306b\u53ce\u307e\u3089\u306a\u3044\u5834\u5408\u304c\u3042\u308b\u3053\u3068\u3067\u3042\u308b\u3002\u3053\u306e\u70b9\u306b\u3064\u3044\u3066\u306f\u4ee5\u4e0b\u3067\u78ba\u8a8d\u3059\u308b\u3002"
            ]
        },
        {
            "cell_type": "markdown",
            "metadata": {
                "heading_collapsed": true
            },
            "source": [
                "## \uff13\u3064\u306e\u30e2\u30c7\u30eb\u306e\u6bd4\u8f03"
            ]
        },
        {
            "cell_type": "markdown",
            "metadata": {
                "hidden": true
            },
            "source": [
                "\u4e0a\u8ff0\u306e\uff13\u3064\u306e\u30e2\u30c7\u30eb\u306e\u63a8\u5b9a\u7d50\u679c\u306e\u30e1\u30bd\u30c3\u30c9`predict()`\u306f\n",
                "\n",
                "\u3000\u3000\u3000\u52b4\u50cd\u53c2\u52a0\u306e\u78ba\u7387$P(y=1|x)$\u306e\u4e88\u6e2c\u5024\n",
                "\n",
                "\u3092\u8fd4\u3059\u3002\n",
                "\n",
                "---\n",
                "\uff1c\uff1c\u6ce8\u610f\uff1e\uff1e\n",
                "\n",
                "* \u63a8\u5b9a\u7d50\u679c\u306b\u306f\u5c5e\u6027`fittedvalues`\u304c\u3042\u308b\u304c\uff0c\uff13\u3064\u306e\u30e2\u30c7\u30eb\u3067\u306f\u4ee5\u4e0b\u304c\u8fd4\u3055\u308c\u308b\u3002\n",
                "\n",
                "    $$\\hat{\\beta}_0+\\hat{\\beta}_1x$$\n",
                "\n",
                "* \u89e3\u91c8\n",
                "    * \u7dda\u5f62\u78ba\u7387\u30e2\u30c7\u30eb\uff1a\u52b4\u50cd\u53c2\u52a0\u306e\u78ba\u7387$P(y=1|x)$\u306e\u4e88\u6e2c\u5024\uff08`predict()`\u3068\u540c\u3058\uff09\n",
                "    * Logit\u30fbProbit\u30e2\u30c7\u30eb\uff1a\u6f5c\u5728\u5909\u6570\uff08\u307e\u305f\u306f\u52b9\u7528\uff09$y^*$\u306e\u4e88\u6e2c\u5024"
            ]
        },
        {
            "cell_type": "markdown",
            "metadata": {
                "hidden": true
            },
            "source": [
                "---\n",
                "\u7dda\u5f62\u78ba\u7387\u30e2\u30c7\u30eb\u3067\u306f\uff0c\u52b4\u50cd\u53c2\u52a0\u306e\u78ba\u7387\u306f\uff11\u4ee5\u4e0a\u3082\u3057\u304f\u306f\uff10\u4ee5\u4e0b\u306b\u306a\u308a\u5f97\u308b\u3002"
            ]
        },
        {
            "cell_type": "code",
            "execution_count": null,
            "metadata": {},
            "outputs": [],
            "source": [
                "\n",
                "\n",
                "",
                "",
                ""
            ]
        },
        {
            "cell_type": "markdown",
            "metadata": {
                "hidden": true
            },
            "source": [
                "---\n",
                "Logit\u30e2\u30c7\u30eb\u3068Probit\u30e2\u30c7\u30eb\u306e\u4e88\u6e2c\u5024\u3092\u56f3\u3092\u4f7f\u3063\u3066\u6bd4\u3079\u3066\u307f\u308b\u3002"
            ]
        },
        {
            "cell_type": "code",
            "execution_count": null,
            "metadata": {},
            "outputs": [],
            "source": [
                "\n",
                "\n",
                "",
                "",
                "",
                "",
                "",
                "",
                "",
                "",
                "",
                ""
            ]
        },
        {
            "cell_type": "markdown",
            "metadata": {
                "hidden": true
            },
            "source": [
                "Logit\u30e2\u30c7\u30eb\u3068Probit\u30e2\u30c7\u30eb\u306e\u4e88\u6e2c\u78ba\u7387\u306f\u6b86\u3069\u5909\u308f\u3089\u306a\u3044\u3002\u3067\u306fLogit\u3068Probit\u306e\u3069\u3061\u3089\u3092\u3069\u306e\u3088\u3046\u306a\u57fa\u6e96\u3067\u9078\u3076\u3079\u304d\u304b\u3002*Microeconometrics Using Stata* (2009)\u306f\u6b21\u3092\u63a8\u5968\u3057\u3066\u3044\u308b\u3002\n",
                "* \u5bfe\u6570\u5c24\u5ea6\uff08log likelihood\uff09\u304c\u9ad8\u3044\u65b9\u3092\u9078\u3076\u3002\n",
                "\n",
                "\u78ba\u8a8d\u3059\u308b\u305f\u3081\u306b\uff0c\u305d\u308c\u305e\u308c\u306e\u7d50\u679c\u306e\u5c5e\u6027`.llf`\u3092\u6bd4\u3079\u308b\u3002"
            ]
        },
        {
            "cell_type": "code",
            "execution_count": null,
            "metadata": {},
            "outputs": [],
            "source": []
        },
        {
            "cell_type": "markdown",
            "metadata": {
                "hidden": true
            },
            "source": [
                "Probit\u306e\u5bfe\u6570\u5c24\u5ea6\u304c\u9ad8\u3044\u304c\uff0c\u6b86\u3069\u5909\u308f\u3089\u306a\u3044\u3002\u3053\u306e\u7d50\u679c\u306f\u4e0a\u306e\u56f3\u306b\u3082\u53cd\u6620\u3055\u308c\u3066\u3044\u308b\u3002"
            ]
        }
    ],
    "metadata": {
        "kernelspec": {
            "display_name": "latest",
            "language": "python",
            "name": "latest"
        },
        "language_info": {
            "codemirror_mode": {
                "name": "ipython",
                "version": 3
            },
            "file_extension": ".py",
            "mimetype": "text/x-python",
            "name": "python",
            "nbconvert_exporter": "python",
            "pygments_lexer": "ipython3",
            "version": "3.8.5"
        },
        "nteract": {
            "version": "0.23.1"
        },
        "toc": {
            "base_numbering": 1,
            "nav_menu": {},
            "number_sections": true,
            "sideBar": true,
            "skip_h1_title": false,
            "title_cell": "Table of Contents",
            "title_sidebar": "Contents",
            "toc_cell": false,
            "toc_position": {},
            "toc_section_display": true,
            "toc_window_display": false
        }
    },
    "nbformat": 4,
    "nbformat_minor": 2
}