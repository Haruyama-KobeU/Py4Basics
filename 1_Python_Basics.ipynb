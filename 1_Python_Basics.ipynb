{
  "cells": [
    {
      "cell_type": "markdown",
      "source": [
        "# Pythonの基礎"
      ],
      "metadata": {}
    },
    {
      "cell_type": "markdown",
      "source": [
        "## 「代入」の意味"
      ],
      "metadata": {}
    },
    {
      "cell_type": "markdown",
      "source": [
        "ある変数$x$に値`10`を「代入」するには等号`=`を使う。"
      ],
      "metadata": {
        "hidden": true
      }
    },
    {
      "cell_type": "code",
      "source": [
        "x=10"
      ],
      "outputs": [],
      "execution_count": 1,
      "metadata": {
        "hidden": true
      }
    },
    {
      "cell_type": "markdown",
      "source": [
        "ここで`Python`の使い方をより深く理解するために、「代入」の意味を説明する。多くの品物が保管されている大きな倉庫を考えてみよう。管理者はどの品物がどこに保管されているかを記録するための在庫リスト（記録帳やコンピューター・ファイル）を作成し、そこに品物が保管されている棚を示す記号（や番号）を記入しているとしよう。この例を使うと、\n",
        "* `10`　→　倉庫の棚に保管されている品物\n",
        "* `x`　→　在庫リストに記載されている棚の記号\n",
        "\n",
        "となる。品物が保管される棚は`10`が保存されているコンピューター内のメモリーの所定の場所であり、変数`x`は品物`10`の実態とは異なる単なる「参照記号」なのである。更に、品物`10`は様々な属性（attributes）から構成される**オブジェクト**（集合体）と呼ばれる。ここでの「属性」とは次の２つからなる。\n",
        "1. `10`が持つ様々な**プロパティ**（property）（例えば、`10`という値や整数という**情報**）\n",
        "1. `10`特有の関数である**メソッド**（method）（例えば、加算、除算や他のデータ型に変換する**関数**）\n",
        "\n",
        "を指す。この考え方は`Python`の「すべて」に当てはまる。また変数`x`は参照記号なので、`x`を他のオブジェクトの参照記号に変更したり、同じオブジェクトに複数の参照記号を設定することも可能となる。「品物と参照記号の関係」は今の段階ではそれ程重要ではないが，先に進むにつれてPythonを理解する上で重要性が増してくるので，今のうちにこのようなイメージを持つと良いだろう。"
      ],
      "metadata": {
        "hidden": true
      }
    },
    {
      "cell_type": "markdown",
      "source": [
        "## ４つの基本データ型（Data Types）"
      ],
      "metadata": {
        "heading_collapsed": true
      }
    },
    {
      "cell_type": "markdown",
      "source": [
        "データ型（data types）は無数にあり，まず基本となる次の４つを考えよう。\n",
        "\n",
        "* 整数型（int）\n",
        "* 浮動小数点型（float）\n",
        "* 文字列型（str）\n",
        "* ブール型（bool）\n",
        "\n",
        "整数型とは上の例で使ったもので，"
      ],
      "metadata": {}
    },
    {
      "cell_type": "code",
      "source": [
        "157"
      ],
      "outputs": [
        {
          "output_type": "execute_result",
          "execution_count": 2,
          "data": {
            "text/plain": [
              "157"
            ]
          },
          "metadata": {}
        }
      ],
      "execution_count": 2,
      "metadata": {
        "hidden": true
      }
    },
    {
      "cell_type": "markdown",
      "source": [
        "も整数型です。浮動小数点型は，"
      ],
      "metadata": {
        "hidden": true
      }
    },
    {
      "cell_type": "code",
      "source": [
        "10.24"
      ],
      "outputs": [
        {
          "output_type": "execute_result",
          "execution_count": 3,
          "data": {
            "text/plain": [
              "10.24"
            ]
          },
          "metadata": {}
        }
      ],
      "execution_count": 3,
      "metadata": {
        "hidden": true
      }
    },
    {
      "cell_type": "markdown",
      "source": [
        "のように小数点がついた数字です。`1`は整数型ですが，`1.0`は浮動小数点型です。\n",
        "\n",
        "文字列型はシングルクォート`'`かダブルクォート`\"`の間に文字を入力します。"
      ],
      "metadata": {
        "hidden": true
      }
    },
    {
      "cell_type": "code",
      "source": [
        "\"apple\""
      ],
      "outputs": [
        {
          "output_type": "execute_result",
          "execution_count": 4,
          "data": {
            "text/plain": [
              "'apple'"
            ]
          },
          "metadata": {}
        }
      ],
      "execution_count": 4,
      "metadata": {
        "hidden": true
      }
    },
    {
      "cell_type": "code",
      "source": [
        "'pear'"
      ],
      "outputs": [
        {
          "output_type": "execute_result",
          "execution_count": 5,
          "data": {
            "text/plain": [
              "'pear'"
            ]
          },
          "metadata": {}
        }
      ],
      "execution_count": 5,
      "metadata": {
        "hidden": true
      }
    },
    {
      "cell_type": "markdown",
      "source": [
        "どちらを使っても同じですが，クォートの中でクォートを使う必要がある場合は，それぞれ違ったものを使います。"
      ],
      "metadata": {
        "hidden": true
      }
    },
    {
      "cell_type": "code",
      "source": [
        "'He said \"Good luck!\" to me.'"
      ],
      "outputs": [
        {
          "output_type": "execute_result",
          "execution_count": 6,
          "data": {
            "text/plain": [
              "'He said \"Good luck!\" to me.'"
            ]
          },
          "metadata": {}
        }
      ],
      "execution_count": 6,
      "metadata": {
        "hidden": true
      }
    },
    {
      "cell_type": "markdown",
      "source": [
        "また数字をクォートで囲むと文字列型になります。"
      ],
      "metadata": {
        "hidden": true
      }
    },
    {
      "cell_type": "code",
      "source": [
        "'100'"
      ],
      "outputs": [
        {
          "output_type": "execute_result",
          "execution_count": 7,
          "data": {
            "text/plain": [
              "'100'"
            ]
          },
          "metadata": {}
        }
      ],
      "execution_count": 7,
      "metadata": {
        "hidden": true
      }
    },
    {
      "cell_type": "markdown",
      "source": [
        "ブール型には`True`（真）, `False`（偽）があります。名前が示すように「真偽」を確認できるわけです。例えば，"
      ],
      "metadata": {
        "hidden": true
      }
    },
    {
      "cell_type": "code",
      "source": [
        "1==10"
      ],
      "outputs": [
        {
          "output_type": "execute_result",
          "execution_count": 8,
          "data": {
            "text/plain": [
              "False"
            ]
          },
          "metadata": {}
        }
      ],
      "execution_count": 8,
      "metadata": {
        "hidden": true
      }
    },
    {
      "cell_type": "markdown",
      "source": [
        "後ほど説明しますが，`==`は「等しい」ということを意味します。また，`True`は`1`, `False`は`0`として計算されます。"
      ],
      "metadata": {
        "hidden": true
      }
    },
    {
      "cell_type": "code",
      "source": [
        "True==1 # Trueは１なのでTrueを返す"
      ],
      "outputs": [
        {
          "output_type": "execute_result",
          "execution_count": 9,
          "data": {
            "text/plain": [
              "True"
            ]
          },
          "metadata": {}
        }
      ],
      "execution_count": 9,
      "metadata": {
        "hidden": true
      }
    },
    {
      "cell_type": "code",
      "source": [
        "False==0 # Falseは0なのでTrueを返す"
      ],
      "outputs": [
        {
          "output_type": "execute_result",
          "execution_count": 10,
          "data": {
            "text/plain": [
              "True"
            ]
          },
          "metadata": {}
        }
      ],
      "execution_count": 10,
      "metadata": {
        "hidden": true
      }
    },
    {
      "cell_type": "code",
      "source": [
        "True + True"
      ],
      "outputs": [
        {
          "output_type": "execute_result",
          "execution_count": 11,
          "data": {
            "text/plain": [
              "2"
            ]
          },
          "metadata": {}
        }
      ],
      "execution_count": 11,
      "metadata": {
        "hidden": true
      }
    },
    {
      "cell_type": "markdown",
      "source": [
        "（注意）\n",
        "\n",
        "`Python`には「クラス（class）」という概念があり，この授業で説明はおこなわないが「データ型（data types）」と同義である。\n",
        "\n",
        "データ型は関数`type()`を使って確認することができるが，`type()`で表示されるものは「データ型＝クラス名」と考えれば良い。更に、引数を画面上に表示する組み込み関数である`print()`を使うと「データ型＝クラス名」が確認できる。"
      ],
      "metadata": {
        "hidden": true
      }
    },
    {
      "cell_type": "code",
      "source": [
        "type(10)"
      ],
      "outputs": [
        {
          "output_type": "execute_result",
          "execution_count": 12,
          "data": {
            "text/plain": [
              "int"
            ]
          },
          "metadata": {}
        }
      ],
      "execution_count": 12,
      "metadata": {
        "hidden": true
      }
    },
    {
      "cell_type": "code",
      "source": [
        "print(type(10))"
      ],
      "outputs": [
        {
          "output_type": "stream",
          "name": "stdout",
          "text": [
            "<class 'int'>\n"
          ]
        }
      ],
      "execution_count": 13,
      "metadata": {}
    },
    {
      "cell_type": "code",
      "source": [
        "type(10.0)"
      ],
      "outputs": [
        {
          "output_type": "execute_result",
          "execution_count": 14,
          "data": {
            "text/plain": [
              "float"
            ]
          },
          "metadata": {}
        }
      ],
      "execution_count": 14,
      "metadata": {
        "hidden": true
      }
    },
    {
      "cell_type": "code",
      "source": [
        "print(type(10.0))"
      ],
      "outputs": [
        {
          "output_type": "stream",
          "name": "stdout",
          "text": [
            "<class 'float'>\n"
          ]
        }
      ],
      "execution_count": 15,
      "metadata": {}
    },
    {
      "cell_type": "code",
      "source": [
        "type('10')"
      ],
      "outputs": [
        {
          "output_type": "execute_result",
          "execution_count": 16,
          "data": {
            "text/plain": [
              "str"
            ]
          },
          "metadata": {}
        }
      ],
      "execution_count": 16,
      "metadata": {
        "hidden": true
      }
    },
    {
      "cell_type": "code",
      "source": [
        "print(type('10'))"
      ],
      "outputs": [
        {
          "output_type": "stream",
          "name": "stdout",
          "text": [
            "<class 'str'>\n"
          ]
        }
      ],
      "execution_count": 17,
      "metadata": {}
    },
    {
      "cell_type": "code",
      "source": [
        "type(True)"
      ],
      "outputs": [
        {
          "output_type": "execute_result",
          "execution_count": 18,
          "data": {
            "text/plain": [
              "bool"
            ]
          },
          "metadata": {}
        }
      ],
      "execution_count": 18,
      "metadata": {
        "hidden": true
      }
    },
    {
      "cell_type": "code",
      "source": [
        "print(type(True))"
      ],
      "outputs": [
        {
          "output_type": "stream",
          "name": "stdout",
          "text": [
            "<class 'bool'>\n"
          ]
        }
      ],
      "execution_count": 19,
      "metadata": {}
    },
    {
      "cell_type": "markdown",
      "source": [
        "コードのかなで想定されたデータ型と異なるデータ型を使うとがエラーが出たり，間違った結果につながる場合がありますので，自信がない時は`type()`を使って確認しましょう。\n",
        "\n",
        "この他`complex type`と`NoneTyep`も存在する。以下の`None`とは「無」という意味である。"
      ],
      "metadata": {
        "hidden": true
      }
    },
    {
      "cell_type": "code",
      "source": [
        "type(None)"
      ],
      "outputs": [
        {
          "output_type": "execute_result",
          "execution_count": 20,
          "data": {
            "text/plain": [
              "NoneType"
            ]
          },
          "metadata": {}
        }
      ],
      "execution_count": 20,
      "metadata": {
        "hidden": true
      }
    },
    {
      "cell_type": "code",
      "source": [
        "print(type(None))"
      ],
      "outputs": [
        {
          "output_type": "stream",
          "name": "stdout",
          "text": [
            "<class 'NoneType'>\n"
          ]
        }
      ],
      "execution_count": 21,
      "metadata": {}
    },
    {
      "cell_type": "markdown",
      "source": [
        "## コレクション系データ型"
      ],
      "metadata": {
        "heading_collapsed": true
      }
    },
    {
      "cell_type": "markdown",
      "source": [
        "コレクション系とは上で説明した基本データ型の集まりとなるデータ型で，ここでは以下を簡単に説明します。\n",
        "\n",
        "* リスト（list）\n",
        "* タプル（tuple）\n",
        "* 辞書（dict）\n",
        "* 集合（set）\n",
        "\n",
        "リストは`[]`を使います。"
      ],
      "metadata": {
        "hidden": true
      }
    },
    {
      "cell_type": "code",
      "source": [
        "list0 = [10, 3 , 2]\n",
        "print(list0)"
      ],
      "outputs": [
        {
          "output_type": "stream",
          "name": "stdout",
          "text": [
            "[10, 3, 2]\n"
          ]
        }
      ],
      "execution_count": 22,
      "metadata": {
        "hidden": true
      }
    },
    {
      "cell_type": "markdown",
      "source": [
        "上で説明したように、`print()`は定義したリストを画面上に表示する関数です。以下もリストの一例です。"
      ],
      "metadata": {
        "hidden": true
      }
    },
    {
      "cell_type": "code",
      "source": [
        "list1 = ['A', True, 100]\n",
        "type(list1)"
      ],
      "outputs": [
        {
          "output_type": "execute_result",
          "execution_count": 23,
          "data": {
            "text/plain": [
              "list"
            ]
          },
          "metadata": {}
        }
      ],
      "execution_count": 23,
      "metadata": {
        "hidden": true
      }
    },
    {
      "cell_type": "code",
      "source": [
        "print(type(list1))"
      ],
      "outputs": [
        {
          "output_type": "stream",
          "name": "stdout",
          "text": [
            "<class 'list'>\n"
          ]
        }
      ],
      "execution_count": 24,
      "metadata": {}
    },
    {
      "cell_type": "markdown",
      "source": [
        "`list`というクラス（class）であることも確認できる。"
      ],
      "metadata": {}
    },
    {
      "cell_type": "markdown",
      "source": [
        "---\n",
        "タプルは`()`を使って作成できる。"
      ],
      "metadata": {
        "hidden": true
      }
    },
    {
      "cell_type": "code",
      "source": [
        "tuple0 = ('A', True, 100)\n",
        "print(tuple0)"
      ],
      "outputs": [
        {
          "output_type": "stream",
          "name": "stdout",
          "text": [
            "('A', True, 100)\n"
          ]
        }
      ],
      "execution_count": 25,
      "metadata": {
        "hidden": true
      }
    },
    {
      "cell_type": "markdown",
      "source": [
        "リストと変わりないように見えますが，大きな違いは要素を変更できるかできないかという点です。\n",
        "\n",
        "* リストの要素は変更可能\n",
        "* タプルの要素は変更不可能\n",
        "\n",
        "リストの要素の変更方法は以下で説明します。\n",
        "\n",
        "**＜コメント１＞**\n",
        "\n",
        "上で通常タプルは`(`と`)`を使って作成できると説明したが、実は、コンマ`,`によってタプルは定義されるため`(`と`)`は必須ではない。例えば、次のコードでもタプルとなる。従って、`(`と`)`はタプルを明確にするためと考えて良い。"
      ],
      "metadata": {
        "hidden": true
      }
    },
    {
      "cell_type": "code",
      "source": [
        "tuple1 = 'B', False, -100"
      ],
      "outputs": [],
      "execution_count": 26,
      "metadata": {}
    },
    {
      "cell_type": "code",
      "source": [
        "print(tuple1)\n",
        "print(type(tuple1))"
      ],
      "outputs": [
        {
          "output_type": "stream",
          "name": "stdout",
          "text": [
            "('B', False, -100)\n",
            "<class 'tuple'>\n"
          ]
        }
      ],
      "execution_count": 27,
      "metadata": {}
    },
    {
      "cell_type": "markdown",
      "source": [
        "**＜コメント２＞**\n",
        "\n",
        "１つの要素からなるタプルを作成する場合、コンマ`,`を必ず追加すること。"
      ],
      "metadata": {}
    },
    {
      "cell_type": "code",
      "source": [
        "tuple2 = (10,)"
      ],
      "outputs": [],
      "execution_count": 28,
      "metadata": {}
    },
    {
      "cell_type": "code",
      "source": [
        "print(tuple2)\n",
        "print(type(tuple2))"
      ],
      "outputs": [
        {
          "output_type": "stream",
          "name": "stdout",
          "text": [
            "(10,)\n",
            "<class 'tuple'>\n"
          ]
        }
      ],
      "execution_count": 29,
      "metadata": {}
    },
    {
      "cell_type": "markdown",
      "source": [
        "コンマ`,`がないとタプルとはならない。"
      ],
      "metadata": {}
    },
    {
      "cell_type": "code",
      "source": [
        "tuple3 = (10)"
      ],
      "outputs": [],
      "execution_count": 30,
      "metadata": {}
    },
    {
      "cell_type": "code",
      "source": [
        "print(tuple3)\n",
        "print(type(tuple3))"
      ],
      "outputs": [
        {
          "output_type": "stream",
          "name": "stdout",
          "text": [
            "10\n",
            "<class 'int'>\n"
          ]
        }
      ],
      "execution_count": 31,
      "metadata": {}
    },
    {
      "cell_type": "markdown",
      "source": [
        "---\n",
        "辞書はキー（key）と値（value）のペアとなって定義され，`:`を挟んで１つのペアとなります。全てを`{}`で囲み辞書を定義します。"
      ],
      "metadata": {}
    },
    {
      "cell_type": "code",
      "source": [
        "dict0 = {'a':10, 'b':'Kobe'}"
      ],
      "outputs": [],
      "execution_count": 32,
      "metadata": {
        "hidden": true
      }
    },
    {
      "cell_type": "markdown",
      "source": [
        "`dict0`には２つのペアがあります。`a`のキーには値`10`が対応しており，`b`には`'kobe'`が設定されています。今の段階では辞書を使う目的が不明確でしっくりこないと思いますが，勉強を進めるととてもパワフルなツールだと気づくと思います。"
      ],
      "metadata": {
        "hidden": true
      }
    },
    {
      "cell_type": "code",
      "source": [
        "type(dict0)"
      ],
      "outputs": [
        {
          "output_type": "execute_result",
          "execution_count": 33,
          "data": {
            "text/plain": [
              "dict"
            ]
          },
          "metadata": {}
        }
      ],
      "execution_count": 33,
      "metadata": {}
    },
    {
      "cell_type": "code",
      "source": [
        "print(type(dict0))"
      ],
      "outputs": [
        {
          "output_type": "stream",
          "name": "stdout",
          "text": [
            "<class 'dict'>\n"
          ]
        }
      ],
      "execution_count": 34,
      "metadata": {}
    },
    {
      "cell_type": "markdown",
      "source": [
        "集合は使う機会がないので説明は割愛します。"
      ],
      "metadata": {
        "hidden": true
      }
    },
    {
      "cell_type": "markdown",
      "source": [
        "## 要素のアクセス方法"
      ],
      "metadata": {
        "heading_collapsed": true
      }
    },
    {
      "cell_type": "markdown",
      "source": [
        "まずリストを考えましょう。リストの要素にアクセスするためには，左から`0`, `1`, `2`...と数えて指定します。例えば"
      ],
      "metadata": {
        "hidden": true
      }
    },
    {
      "cell_type": "code",
      "source": [
        "my_list = ['A', 'B', 'C', 'D', 'E', 'F']"
      ],
      "outputs": [],
      "execution_count": 35,
      "metadata": {
        "hidden": true
      }
    },
    {
      "cell_type": "markdown",
      "source": [
        "の場合，`'A'`は０番目，`'B'`１番目，`'C'`は２番目と数えます。例えば，`A`を抽出したい場合，"
      ],
      "metadata": {
        "hidden": true
      }
    },
    {
      "cell_type": "code",
      "source": [
        "my_list[0]"
      ],
      "outputs": [
        {
          "output_type": "execute_result",
          "execution_count": 36,
          "data": {
            "text/plain": [
              "'A'"
            ]
          },
          "metadata": {}
        }
      ],
      "execution_count": 36,
      "metadata": {
        "hidden": true
      }
    },
    {
      "cell_type": "markdown",
      "source": [
        "またマイナス・サイン`-`を使って右から`-1`, `-2`, `-3`と数えて指定することも可能です。"
      ],
      "metadata": {
        "hidden": true
      }
    },
    {
      "cell_type": "code",
      "source": [
        "my_list[-1]"
      ],
      "outputs": [
        {
          "output_type": "execute_result",
          "execution_count": 37,
          "data": {
            "text/plain": [
              "'F'"
            ]
          },
          "metadata": {}
        }
      ],
      "execution_count": 37,
      "metadata": {
        "hidden": true
      }
    },
    {
      "cell_type": "markdown",
      "source": [
        "要素の数え方は以下のように考えるとよいでしょう。\n",
        "\n",
        "```\n",
        "   0   1   2   3   4   5  （右から数える） \n",
        " +---+---+---+---+---+---+\n",
        " | P | y | t | h | o | n |\n",
        " +---+---+---+---+---+---+\n",
        "  -6  -5  -4  -3  -2  -1　（左から数える）\n",
        "```\n",
        "\n",
        "連続する複数の要素を選択する場合（スライシング）は`:`を使います。`:`の左側が選択する最初の要素で，`:`の右側が選択する最後の次の番号です。"
      ],
      "metadata": {
        "hidden": true
      }
    },
    {
      "cell_type": "code",
      "source": [
        "my_list[1:4]"
      ],
      "outputs": [
        {
          "output_type": "execute_result",
          "execution_count": 38,
          "data": {
            "text/plain": [
              "['B', 'C', 'D']"
            ]
          },
          "metadata": {}
        }
      ],
      "execution_count": 38,
      "metadata": {
        "hidden": true
      }
    },
    {
      "cell_type": "markdown",
      "source": [
        "この例では１番目から3番目を選択しています。`:`の左側の番号を省略すると`0`と解釈され，`:`右側を省略すると`-1`と解釈されます。"
      ],
      "metadata": {
        "hidden": true
      }
    },
    {
      "cell_type": "code",
      "source": [
        "my_list[:4]"
      ],
      "outputs": [
        {
          "output_type": "execute_result",
          "execution_count": 39,
          "data": {
            "text/plain": [
              "['A', 'B', 'C', 'D']"
            ]
          },
          "metadata": {}
        }
      ],
      "execution_count": 39,
      "metadata": {
        "hidden": true
      }
    },
    {
      "cell_type": "code",
      "source": [
        "my_list[1:]"
      ],
      "outputs": [
        {
          "output_type": "execute_result",
          "execution_count": 40,
          "data": {
            "text/plain": [
              "['B', 'C', 'D', 'E', 'F']"
            ]
          },
          "metadata": {}
        }
      ],
      "execution_count": 40,
      "metadata": {
        "hidden": true
      }
    },
    {
      "cell_type": "markdown",
      "source": [
        "タプルも同じように選択できます。"
      ],
      "metadata": {
        "hidden": true
      }
    },
    {
      "cell_type": "code",
      "source": [
        "my_tuple = ('A', 'B', 'C', 'D', 'E', 'F')"
      ],
      "outputs": [],
      "execution_count": 41,
      "metadata": {
        "hidden": true
      }
    },
    {
      "cell_type": "code",
      "source": [
        "my_tuple[2]"
      ],
      "outputs": [
        {
          "output_type": "execute_result",
          "execution_count": 42,
          "data": {
            "text/plain": [
              "'C'"
            ]
          },
          "metadata": {}
        }
      ],
      "execution_count": 42,
      "metadata": {
        "hidden": true
      }
    },
    {
      "cell_type": "code",
      "source": [
        "my_tuple[:3]"
      ],
      "outputs": [
        {
          "output_type": "execute_result",
          "execution_count": 43,
          "data": {
            "text/plain": [
              "('A', 'B', 'C')"
            ]
          },
          "metadata": {}
        }
      ],
      "execution_count": 43,
      "metadata": {
        "hidden": true
      }
    },
    {
      "cell_type": "code",
      "source": [
        "my_tuple[2:]"
      ],
      "outputs": [
        {
          "output_type": "execute_result",
          "execution_count": 44,
          "data": {
            "text/plain": [
              "('C', 'D', 'E', 'F')"
            ]
          },
          "metadata": {}
        }
      ],
      "execution_count": 44,
      "metadata": {
        "hidden": true
      }
    },
    {
      "cell_type": "markdown",
      "source": [
        "辞書も同じ方法でアクセスできます。"
      ],
      "metadata": {
        "hidden": true
      }
    },
    {
      "cell_type": "code",
      "source": [
        "my_text = 'University'"
      ],
      "outputs": [],
      "execution_count": 45,
      "metadata": {
        "hidden": true
      }
    },
    {
      "cell_type": "code",
      "source": [
        "my_text[1:4]"
      ],
      "outputs": [
        {
          "output_type": "execute_result",
          "execution_count": 46,
          "data": {
            "text/plain": [
              "'niv'"
            ]
          },
          "metadata": {}
        }
      ],
      "execution_count": 46,
      "metadata": {
        "hidden": true
      }
    },
    {
      "cell_type": "markdown",
      "source": [
        "辞書の場合はキーで指定します。複数指定する場合は，`for loop`などのより複雑な手法が必要となります。"
      ],
      "metadata": {
        "hidden": true
      }
    },
    {
      "cell_type": "code",
      "source": [
        "my_dict = {'a':10, 'b':'apple', 'c':[1,2,5]}"
      ],
      "outputs": [],
      "execution_count": 47,
      "metadata": {
        "hidden": true
      }
    },
    {
      "cell_type": "code",
      "source": [
        "my_dict['a']"
      ],
      "outputs": [
        {
          "output_type": "execute_result",
          "execution_count": 48,
          "data": {
            "text/plain": [
              "10"
            ]
          },
          "metadata": {}
        }
      ],
      "execution_count": 48,
      "metadata": {
        "hidden": true
      }
    },
    {
      "cell_type": "code",
      "source": [
        "my_dict['c']"
      ],
      "outputs": [
        {
          "output_type": "execute_result",
          "execution_count": 49,
          "data": {
            "text/plain": [
              "[1, 2, 5]"
            ]
          },
          "metadata": {}
        }
      ],
      "execution_count": 49,
      "metadata": {
        "hidden": true
      }
    },
    {
      "cell_type": "markdown",
      "source": [
        "## 変数名に使う記号について"
      ],
      "metadata": {
        "heading_collapsed": true
      }
    },
    {
      "cell_type": "markdown",
      "source": [
        "上の例では`my_list`など好きなアルファベットの組み合わせを使いわかりやすい変数名にしています。しかし，変数の名前を作る上で守らなくてはならないルールがあります。\n",
        "\n",
        "* `(a-z, A-Z)`もしくは`_`（アンダースコア）で始める\n",
        "* 最初の文字以外であれば`(a-z, A-Z)`と`_`に加え数字も可\n",
        "* 長さに制限はない\n",
        "* 小文字と大文字は異なる記号としてあつかう\n",
        "* 次の単語はある目的のために事前に定義されているため，変数名としては使えない。\n",
        "\n",
        "<pre>\n",
        "and       exec     not\n",
        "as \t   finally  or\n",
        "assert    for      pass\n",
        "break     from     print\n",
        "class     global   raise\n",
        "continue  if       return\n",
        "def       import   try\n",
        "del       in       while\n",
        "elif      is       with\n",
        "else      lambda   yield\n",
        "except\n",
        "</pre>\n",
        "\n",
        "これらに加え，\n",
        "\n",
        "* 変数の頭文字は小文字とする\n",
        "\n",
        "というのが慣例（エラーにはならない）であり，大文字で始まる変数は`class`と呼ばれるオブジェクトに使う。\n",
        "\n",
        "また`#`は実行されないコメントを書くときに使われる。以下の例では，`1+2`は実行されるが`#`で始まる行は無視される。"
      ],
      "metadata": {
        "hidden": true
      }
    },
    {
      "cell_type": "code",
      "source": [
        "# この行はコメント\n",
        "1+2"
      ],
      "outputs": [
        {
          "output_type": "execute_result",
          "execution_count": 50,
          "data": {
            "text/plain": [
              "3"
            ]
          },
          "metadata": {}
        }
      ],
      "execution_count": 50,
      "metadata": {
        "hidden": true
      }
    },
    {
      "cell_type": "markdown",
      "source": [
        "## 算術演算子"
      ],
      "metadata": {
        "heading_collapsed": true
      }
    },
    {
      "cell_type": "markdown",
      "source": [
        "* `+`（加算）\n",
        "* `-`（減算）\n",
        "* `*`（乗算）\n",
        "* `/`（除算）\n",
        "* `//`（切り捨て除算; 実数の整数部分）\n",
        "* `%`（剰余演算; 余りを取得する演算）\n",
        "* `**`（累乗）"
      ],
      "metadata": {
        "hidden": true
      }
    },
    {
      "cell_type": "markdown",
      "source": [
        "加算"
      ],
      "metadata": {
        "hidden": true
      }
    },
    {
      "cell_type": "code",
      "source": [
        "type(1+1)"
      ],
      "outputs": [
        {
          "output_type": "execute_result",
          "execution_count": 51,
          "data": {
            "text/plain": [
              "int"
            ]
          },
          "metadata": {}
        }
      ],
      "execution_count": 51,
      "metadata": {
        "hidden": true
      }
    },
    {
      "cell_type": "code",
      "source": [
        "type(1+1.0)"
      ],
      "outputs": [
        {
          "output_type": "execute_result",
          "execution_count": 52,
          "data": {
            "text/plain": [
              "float"
            ]
          },
          "metadata": {}
        }
      ],
      "execution_count": 52,
      "metadata": {
        "hidden": true
      }
    },
    {
      "cell_type": "code",
      "source": [
        "'I' + 'like' + 'Kobe'"
      ],
      "outputs": [
        {
          "output_type": "execute_result",
          "execution_count": 53,
          "data": {
            "text/plain": [
              "'IlikeKobe'"
            ]
          },
          "metadata": {}
        }
      ],
      "execution_count": 53,
      "metadata": {
        "hidden": true
      }
    },
    {
      "cell_type": "code",
      "source": [
        "'I' + ' like' + ' Kobe'"
      ],
      "outputs": [
        {
          "output_type": "execute_result",
          "execution_count": 54,
          "data": {
            "text/plain": [
              "'I like Kobe'"
            ]
          },
          "metadata": {}
        }
      ],
      "execution_count": 54,
      "metadata": {
        "hidden": true
      }
    },
    {
      "cell_type": "code",
      "source": [
        "[1, 2] + ['apple']"
      ],
      "outputs": [
        {
          "output_type": "execute_result",
          "execution_count": 55,
          "data": {
            "text/plain": [
              "[1, 2, 'apple']"
            ]
          },
          "metadata": {}
        }
      ],
      "execution_count": 55,
      "metadata": {
        "hidden": true
      }
    },
    {
      "cell_type": "markdown",
      "source": [
        "減算"
      ],
      "metadata": {
        "hidden": true
      }
    },
    {
      "cell_type": "code",
      "source": [
        "1-0.5"
      ],
      "outputs": [
        {
          "output_type": "execute_result",
          "execution_count": 56,
          "data": {
            "text/plain": [
              "0.5"
            ]
          },
          "metadata": {}
        }
      ],
      "execution_count": 56,
      "metadata": {
        "hidden": true
      }
    },
    {
      "cell_type": "markdown",
      "source": [
        "乗算"
      ],
      "metadata": {
        "hidden": true
      }
    },
    {
      "cell_type": "code",
      "source": [
        "type(2*2)"
      ],
      "outputs": [
        {
          "output_type": "execute_result",
          "execution_count": 57,
          "data": {
            "text/plain": [
              "int"
            ]
          },
          "metadata": {}
        }
      ],
      "execution_count": 57,
      "metadata": {
        "hidden": true
      }
    },
    {
      "cell_type": "code",
      "source": [
        "type(2*2.0)"
      ],
      "outputs": [
        {
          "output_type": "execute_result",
          "execution_count": 58,
          "data": {
            "text/plain": [
              "float"
            ]
          },
          "metadata": {}
        }
      ],
      "execution_count": 58,
      "metadata": {
        "hidden": true
      }
    },
    {
      "cell_type": "code",
      "source": [
        "[1,2,3]*3"
      ],
      "outputs": [
        {
          "output_type": "execute_result",
          "execution_count": 59,
          "data": {
            "text/plain": [
              "[1, 2, 3, 1, 2, 3, 1, 2, 3]"
            ]
          },
          "metadata": {}
        }
      ],
      "execution_count": 59,
      "metadata": {
        "hidden": true
      }
    },
    {
      "cell_type": "markdown",
      "source": [
        "除算"
      ],
      "metadata": {
        "hidden": true
      }
    },
    {
      "cell_type": "code",
      "source": [
        "type(10/5)"
      ],
      "outputs": [
        {
          "output_type": "execute_result",
          "execution_count": 60,
          "data": {
            "text/plain": [
              "float"
            ]
          },
          "metadata": {}
        }
      ],
      "execution_count": 60,
      "metadata": {
        "hidden": true
      }
    },
    {
      "cell_type": "markdown",
      "source": [
        "切り捨て除算"
      ],
      "metadata": {
        "hidden": true
      }
    },
    {
      "cell_type": "code",
      "source": [
        "5//2 # 5/2=2.5"
      ],
      "outputs": [
        {
          "output_type": "execute_result",
          "execution_count": 61,
          "data": {
            "text/plain": [
              "2"
            ]
          },
          "metadata": {}
        }
      ],
      "execution_count": 61,
      "metadata": {
        "hidden": true
      }
    },
    {
      "cell_type": "markdown",
      "source": [
        "剰余演算"
      ],
      "metadata": {
        "hidden": true
      }
    },
    {
      "cell_type": "code",
      "source": [
        "5%2 # 5÷２＝２ 余り 1"
      ],
      "outputs": [
        {
          "output_type": "execute_result",
          "execution_count": 62,
          "data": {
            "text/plain": [
              "1"
            ]
          },
          "metadata": {}
        }
      ],
      "execution_count": 62,
      "metadata": {
        "hidden": true
      }
    },
    {
      "cell_type": "markdown",
      "source": [
        "累乗"
      ],
      "metadata": {
        "hidden": true
      }
    },
    {
      "cell_type": "code",
      "source": [
        "type(2**2)"
      ],
      "outputs": [
        {
          "output_type": "execute_result",
          "execution_count": 63,
          "data": {
            "text/plain": [
              "int"
            ]
          },
          "metadata": {}
        }
      ],
      "execution_count": 63,
      "metadata": {
        "hidden": true
      }
    },
    {
      "cell_type": "code",
      "source": [
        "type(2**2.0)"
      ],
      "outputs": [
        {
          "output_type": "execute_result",
          "execution_count": 64,
          "data": {
            "text/plain": [
              "float"
            ]
          },
          "metadata": {}
        }
      ],
      "execution_count": 64,
      "metadata": {
        "hidden": true
      }
    },
    {
      "cell_type": "markdown",
      "source": [
        "## 関係演算子"
      ],
      "metadata": {
        "heading_collapsed": true
      }
    },
    {
      "cell_type": "markdown",
      "source": [
        "* `==`（等号）\n",
        "* `!=`（等号不成立）\n",
        "* `<`（小なり）\n",
        "* `>`（大なり）\n",
        "* `<=`（小なりイコール）\n",
        "* `>=`（大なりイコール）"
      ],
      "metadata": {
        "hidden": true
      }
    },
    {
      "cell_type": "code",
      "source": [
        "10 == 10"
      ],
      "outputs": [
        {
          "output_type": "execute_result",
          "execution_count": 65,
          "data": {
            "text/plain": [
              "True"
            ]
          },
          "metadata": {}
        }
      ],
      "execution_count": 65,
      "metadata": {
        "hidden": true
      }
    },
    {
      "cell_type": "code",
      "source": [
        "10 != 10"
      ],
      "outputs": [
        {
          "output_type": "execute_result",
          "execution_count": 66,
          "data": {
            "text/plain": [
              "False"
            ]
          },
          "metadata": {}
        }
      ],
      "execution_count": 66,
      "metadata": {
        "hidden": true
      }
    },
    {
      "cell_type": "code",
      "source": [
        "10 > 5"
      ],
      "outputs": [
        {
          "output_type": "execute_result",
          "execution_count": 67,
          "data": {
            "text/plain": [
              "True"
            ]
          },
          "metadata": {}
        }
      ],
      "execution_count": 67,
      "metadata": {
        "hidden": true
      }
    },
    {
      "cell_type": "code",
      "source": [
        "10>=10"
      ],
      "outputs": [
        {
          "output_type": "execute_result",
          "execution_count": 68,
          "data": {
            "text/plain": [
              "True"
            ]
          },
          "metadata": {}
        }
      ],
      "execution_count": 68,
      "metadata": {
        "hidden": true
      }
    },
    {
      "cell_type": "code",
      "source": [
        "10<=10"
      ],
      "outputs": [
        {
          "output_type": "execute_result",
          "execution_count": 69,
          "data": {
            "text/plain": [
              "True"
            ]
          },
          "metadata": {}
        }
      ],
      "execution_count": 69,
      "metadata": {
        "hidden": true
      }
    },
    {
      "cell_type": "markdown",
      "source": [
        "## 理論演算子"
      ],
      "metadata": {
        "heading_collapsed": true
      }
    },
    {
      "cell_type": "markdown",
      "source": [
        "* a & b &nbsp;（aとbの両方） \n",
        "* a | b &nbsp;&nbsp;（a又はb又は両方）\n",
        "* ~a &nbsp;&nbsp;&nbsp;&nbsp;&nbsp;（aではない）"
      ],
      "metadata": {
        "hidden": true
      }
    },
    {
      "cell_type": "markdown",
      "source": [
        "## if 文"
      ],
      "metadata": {
        "heading_collapsed": true
      }
    },
    {
      "cell_type": "markdown",
      "source": [
        "`if`文を使うと，あるブール型（真偽）の条件のもとでコードを実行することが可能となる。例えば，以下の関数を考える。\n",
        "\n",
        "`print(X, 'は正です')`\n",
        "\n",
        "`X`の値が正の場合，この関数を実行したいとする。"
      ],
      "metadata": {
        "hidden": true
      }
    },
    {
      "cell_type": "code",
      "source": [
        "X = 10"
      ],
      "outputs": [],
      "execution_count": 70,
      "metadata": {
        "hidden": true
      }
    },
    {
      "cell_type": "code",
      "source": [
        "if X > 0:\n",
        "    print(X, 'は正です')\n",
        "else:\n",
        "    pass"
      ],
      "outputs": [
        {
          "output_type": "stream",
          "name": "stdout",
          "text": [
            "10 は正です\n"
          ]
        }
      ],
      "execution_count": 71,
      "metadata": {
        "hidden": true
      }
    },
    {
      "cell_type": "markdown",
      "source": [
        "注意点\n",
        "* `if`と`else` で始まる条件を示す行の最後は`:`となる。入れ忘れるとエラーとなる。\n",
        "* `print()`の行は４つの半角スペースのインデントが入る。入れ忘れるとエラーとなる。\n",
        "* `else`とは「`X>0`以外の場合」という意味。\n",
        "* `pass`は「何もしない」という意味。\n",
        "\n",
        "ここで`else`以下を省略してもエラーにはならない（結果も変わらない）。"
      ],
      "metadata": {
        "hidden": true
      }
    },
    {
      "cell_type": "code",
      "source": [
        "X = -1"
      ],
      "outputs": [],
      "execution_count": 72,
      "metadata": {
        "hidden": true
      }
    },
    {
      "cell_type": "code",
      "source": [
        "if X > 0:\n",
        "    print(X, 'は正です')\n",
        "else:\n",
        "    pass"
      ],
      "outputs": [],
      "execution_count": 73,
      "metadata": {
        "hidden": true
      }
    },
    {
      "cell_type": "code",
      "source": [
        "if X > 0:\n",
        "    print(X, 'は正です')"
      ],
      "outputs": [],
      "execution_count": 74,
      "metadata": {
        "hidden": true
      }
    },
    {
      "cell_type": "markdown",
      "source": [
        "両方とも何も表示されない。\n",
        "\n",
        "---"
      ],
      "metadata": {
        "hidden": true
      }
    },
    {
      "cell_type": "markdown",
      "source": [
        "次に，複数の条件を導入するために次の関数を考える。\n",
        "\n",
        "1. `print(X, 'は正です')`\n",
        "1. `print(X, 'はゼロです')`\n",
        "1. `print(X, 'は負です')`\n",
        "\n",
        "`X`の値が正の場合は`１`を，ゼロの場合は`２`を，負の場合は`３`を表示したいとする。"
      ],
      "metadata": {
        "hidden": true
      }
    },
    {
      "cell_type": "code",
      "source": [
        "X = -1"
      ],
      "outputs": [],
      "execution_count": 75,
      "metadata": {
        "hidden": true
      }
    },
    {
      "cell_type": "code",
      "source": [
        "if X == 0:\n",
        "    print(X, 'はゼロです。')\n",
        "elif X > 0:\n",
        "    print(X, 'は正です。')\n",
        "else:\n",
        "    print(X, 'は負です。')"
      ],
      "outputs": [
        {
          "output_type": "stream",
          "name": "stdout",
          "text": [
            "-1 は負です。\n"
          ]
        }
      ],
      "execution_count": 76,
      "metadata": {
        "hidden": true
      }
    },
    {
      "cell_type": "markdown",
      "source": [
        "注意点\n",
        "* `if`, `elif`, `else` で始まる条件を示す行の最後は`:`となる。入れ忘れるとエラーとなる。\n",
        "* `print()`の行は４つの半角スペースのインデントが入る。入れ忘れるとエラーとなる。\n",
        "* `else`の行に`X<0`は不要（残りの可能性は`X<0`しかないため）\n",
        "* `elif`は`else if`の省略形であり，２つ目の条件を定義する。\n",
        "* `elif`は`if`と`else`の間に複数入れることが可能"
      ],
      "metadata": {
        "hidden": true
      }
    },
    {
      "cell_type": "markdown",
      "source": [
        "## for ループ"
      ],
      "metadata": {
        "heading_collapsed": true
      }
    },
    {
      "cell_type": "markdown",
      "source": [
        "`for`ループは同じコードを複数回リピートして実行したい場合に有効な方法である。例えば，次のリストにある名前を表示したいとする。"
      ],
      "metadata": {
        "hidden": true
      }
    },
    {
      "cell_type": "code",
      "source": [
        "name_list = ['太郎', '次郎', '三郎', '四郎', '五郎']"
      ],
      "outputs": [],
      "execution_count": 77,
      "metadata": {
        "hidden": true
      }
    },
    {
      "cell_type": "code",
      "source": [
        "for i in name_list:\n",
        "    print(i)"
      ],
      "outputs": [
        {
          "output_type": "stream",
          "name": "stdout",
          "text": [
            "太郎\n",
            "次郎\n",
            "三郎\n",
            "四郎\n",
            "五郎\n"
          ]
        }
      ],
      "execution_count": 78,
      "metadata": {
        "hidden": true
      }
    },
    {
      "cell_type": "markdown",
      "source": [
        "説明と注意点\n",
        "* `for`がある一行目は`:`で終わる。\n",
        "* `i`は`name_list`にあるそれぞれの要素を示すダミー記号。\n",
        "* `name_list`にある要素を最初から一つずつ実行する。\n",
        "* ２行目は４つの半角スペースがインデントして入る。\n",
        "\n",
        "`for`ループのよく使う例として以下を挙げる。この例では，リストに要素を追加する関数である`.append()`を使うが，この関数については以下でより詳しく説明する。\n",
        "\n",
        "まず次のリストを定義する。"
      ],
      "metadata": {
        "hidden": true
      }
    },
    {
      "cell_type": "code",
      "source": [
        "val_list = [1,2,3,4,5]"
      ],
      "outputs": [],
      "execution_count": 79,
      "metadata": {
        "hidden": true
      }
    },
    {
      "cell_type": "markdown",
      "source": [
        "それぞれの要素の２倍からなるリストを作成するとしよう。"
      ],
      "metadata": {
        "hidden": true
      }
    },
    {
      "cell_type": "code",
      "source": [
        "my_list = []  # 1\n",
        "for i in val_list:  # 2\n",
        "    my_list.append(2*i)  # 3"
      ],
      "outputs": [],
      "execution_count": 80,
      "metadata": {
        "hidden": true
      }
    },
    {
      "cell_type": "markdown",
      "source": [
        "このループの考え方：\n",
        "\n",
        "1. 空のリストの作成\n",
        "1. ここから`for`ループの始まり。`i`はリスト`[1,2,3,4,5]`の要素の代理変数であり，リストの左から一つずつ次の行の`i`に該当する要素を代入して評価する。\n",
        "1. `.append()`は`2*i`を`my_list`に追加する関数\n",
        "\n",
        "`my_list`を表示しよう。"
      ],
      "metadata": {
        "hidden": true
      }
    },
    {
      "cell_type": "code",
      "source": [
        "print(my_list)"
      ],
      "outputs": [
        {
          "output_type": "stream",
          "name": "stdout",
          "text": [
            "[2, 4, 6, 8, 10]\n"
          ]
        }
      ],
      "execution_count": 81,
      "metadata": {
        "hidden": true
      }
    },
    {
      "cell_type": "markdown",
      "source": [
        "上の例では，３行のコードを書き`for`ループを使いリストを作成した。内包表記（list comprehension）を使うと同じ結果を１行のコードで得ることもできる。"
      ],
      "metadata": {
        "hidden": true
      }
    },
    {
      "cell_type": "code",
      "source": [
        "[2*i for i in val_list]"
      ],
      "outputs": [
        {
          "output_type": "execute_result",
          "execution_count": 82,
          "data": {
            "text/plain": [
              "[2, 4, 6, 8, 10]"
            ]
          },
          "metadata": {}
        }
      ],
      "execution_count": 82,
      "metadata": {
        "hidden": true
      }
    },
    {
      "cell_type": "markdown",
      "source": [
        "上の`for`ループと内包表記は以下のような対応関係にある。\n",
        "\n",
        "<pre>\n",
        "<font color=blue>my_list</font> = [ ]\n",
        "for <font color=red>i</font> in <font color=orange>val_list</font>:\n",
        "    <font color=blue>my_list</font>.append(<font color=green>expression</font>)\n",
        "</pre>\n",
        "\n",
        "<pre>\n",
        "<font color=blue>my_list</font> = [<font color=green>expression</font> for <font color=red>i</font> in <font color=orange>val_list</font>]\n",
        "</pre>"
      ],
      "metadata": {
        "hidden": true
      }
    },
    {
      "cell_type": "markdown",
      "source": [
        "内包表記に`if`文を加えることも可能である。次の例では，偶数の２倍だけをリストに追加している。"
      ],
      "metadata": {
        "hidden": true
      }
    },
    {
      "cell_type": "code",
      "source": [
        "[2*i for i in val_list if i % 2 == 0]"
      ],
      "outputs": [
        {
          "output_type": "execute_result",
          "execution_count": 83,
          "data": {
            "text/plain": [
              "[4, 8]"
            ]
          },
          "metadata": {}
        }
      ],
      "execution_count": 83,
      "metadata": {
        "hidden": true
      }
    },
    {
      "cell_type": "markdown",
      "source": [
        "次の例では偶数を10倍にし，奇数を1/10にしている。"
      ],
      "metadata": {
        "hidden": true
      }
    },
    {
      "cell_type": "code",
      "source": [
        "[10*i if i%2 == 0 else i/10 for i in val_list]"
      ],
      "outputs": [
        {
          "output_type": "execute_result",
          "execution_count": 84,
          "data": {
            "text/plain": [
              "[0.1, 20, 0.3, 40, 0.5]"
            ]
          },
          "metadata": {}
        }
      ],
      "execution_count": 84,
      "metadata": {
        "hidden": true
      }
    },
    {
      "cell_type": "markdown",
      "source": [
        "## while ループ"
      ],
      "metadata": {
        "heading_collapsed": true
      }
    },
    {
      "cell_type": "markdown",
      "source": [
        "`for`ループと同様，`while`ループもコードを複数回実行したい場合に使う。２つは以下の点で違いがある。\n",
        "\n",
        "* `for`ループは与えられたリストに従いループが実行される。\n",
        "* `while`ループはある条件が満たされるまでループが実行される。\n",
        "\n",
        "例として，上で定義した`name_list`を表示するループを考える。"
      ],
      "metadata": {
        "hidden": true
      }
    },
    {
      "cell_type": "code",
      "source": [
        "i = 0 #　iの値を0に設定"
      ],
      "outputs": [],
      "execution_count": 85,
      "metadata": {
        "hidden": true
      }
    },
    {
      "cell_type": "code",
      "source": [
        "while i <= 4:\n",
        "    print(name_list[i])\n",
        "    i = i + 1"
      ],
      "outputs": [
        {
          "output_type": "stream",
          "name": "stdout",
          "text": [
            "太郎\n",
            "次郎\n",
            "三郎\n",
            "四郎\n",
            "五郎\n"
          ]
        }
      ],
      "execution_count": 86,
      "metadata": {
        "hidden": true
      }
    },
    {
      "cell_type": "markdown",
      "source": [
        "説明と注意点\n",
        "* `while`がある一行目は`:`で終わる。\n",
        "* `i`は条件を表すカウンターの役割と`name_list`の要素のインデックスの役割がある\n",
        "* １行目の意味：$i<=4$の条件が満たされ散る限り，下に続くコードを反復実行する（タイプする文字数を少なくするために$i<5$と書く場合が多い\n",
        "* ２行目の意味：`name_list`の`i`番目の要素を表示\n",
        "* ３行目の意味：カウンター`i`の値を`1`増やす\n",
        "    * 先に右辺を評価した後，それを左辺に代入すると考える。（方程式としては考えない）\n",
        "* ２行目と３行目は４つの半角スペースがインデントして入る。"
      ],
      "metadata": {
        "hidden": true
      }
    },
    {
      "cell_type": "markdown",
      "source": [
        "## 関数"
      ],
      "metadata": {
        "heading_collapsed": true
      }
    },
    {
      "cell_type": "markdown",
      "source": [
        "コードを書くうえで関数は重要な役割を果たす。Pythonには組み込み関数（事前に準備された関数; built-in functions）が数多くあり，上で使った`print()`も組み込み関数である。組み込み関数はデータ型によって様々なものが存在するが，後ほど説明する。ここではプログラマー自信が作成する関数について説明する。まず次の例を考えよう。これは数字の２乗を計算する関数である。"
      ],
      "metadata": {
        "hidden": true
      }
    },
    {
      "cell_type": "code",
      "source": [
        "def func_0(x):\n",
        "    return x**2"
      ],
      "outputs": [],
      "execution_count": 87,
      "metadata": {
        "hidden": true
      }
    },
    {
      "cell_type": "markdown",
      "source": [
        "説明：\n",
        "* １行目：\n",
        "    * `def`で始まり（`def`はdefinitionの省略形）`:`で終わる\n",
        "    * `func_0`が関数名，`func_0()`が関数自体，`x`が引数（ひきすう）である\n",
        "* ２行目：\n",
        "    * `x**2`という返り値（戻り値）の設定する"
      ],
      "metadata": {
        "hidden": true
      }
    },
    {
      "cell_type": "code",
      "source": [
        "func_0(2)"
      ],
      "outputs": [
        {
          "output_type": "execute_result",
          "execution_count": 88,
          "data": {
            "text/plain": [
              "4"
            ]
          },
          "metadata": {}
        }
      ],
      "execution_count": 88,
      "metadata": {
        "hidden": true
      }
    },
    {
      "cell_type": "markdown",
      "source": [
        "複数の引数を設定することも可能である。次の例で使う`sum()`は，数字の合計を計算する関数であり，`()`の中にはタプルやリストが入る。即ち，タプルやリストの要素の合計を返す関数となる。"
      ],
      "metadata": {
        "hidden": true
      }
    },
    {
      "cell_type": "code",
      "source": [
        "def func_1(a, b):\n",
        "    return sum([a,b])"
      ],
      "outputs": [],
      "execution_count": 89,
      "metadata": {
        "hidden": true
      }
    },
    {
      "cell_type": "code",
      "source": [
        "func_1(2,2)"
      ],
      "outputs": [
        {
          "output_type": "execute_result",
          "execution_count": 90,
          "data": {
            "text/plain": [
              "4"
            ]
          },
          "metadata": {}
        }
      ],
      "execution_count": 90,
      "metadata": {
        "hidden": true
      }
    },
    {
      "cell_type": "markdown",
      "source": [
        "次の例は，引数のデフォルトの値を設定する場合である。即ち，引数を入力すると入力された数値を使うが，引数を入力しない場合は引数を予め設定した２（デフォルトの値）として値を返す。"
      ],
      "metadata": {
        "hidden": true
      }
    },
    {
      "cell_type": "code",
      "source": [
        "def func_2(a, b=2):\n",
        "    return sum([a,b])"
      ],
      "outputs": [],
      "execution_count": 91,
      "metadata": {
        "hidden": true
      }
    },
    {
      "cell_type": "code",
      "source": [
        "func_2(2, 10)"
      ],
      "outputs": [
        {
          "output_type": "execute_result",
          "execution_count": 92,
          "data": {
            "text/plain": [
              "12"
            ]
          },
          "metadata": {}
        }
      ],
      "execution_count": 92,
      "metadata": {
        "hidden": true
      }
    },
    {
      "cell_type": "code",
      "source": [
        "func_2(2)"
      ],
      "outputs": [
        {
          "output_type": "execute_result",
          "execution_count": 93,
          "data": {
            "text/plain": [
              "4"
            ]
          },
          "metadata": {}
        }
      ],
      "execution_count": 93,
      "metadata": {
        "hidden": true
      }
    },
    {
      "cell_type": "markdown",
      "source": [
        "`func_0()`の場合，引数の数は１に固定されており，`func_1()`と`func_2()`の引数は２に固定されている。指定された引数の数と合わないとエラーが発生する。しかし，引数の数が事前に決まっていない場合もありえる。例えば，`func_3(1,2)`と書いても`func_3(1,2,3,4,5,6)`と書いても引数の合計を計算したいとしよう。この場合，引数の代わりに`*args`を使う。"
      ],
      "metadata": {
        "hidden": true
      }
    },
    {
      "cell_type": "code",
      "source": [
        "def func_3(*args):\n",
        "    return sum(args)"
      ],
      "outputs": [],
      "execution_count": 94,
      "metadata": {
        "hidden": true
      }
    },
    {
      "cell_type": "code",
      "source": [
        "func_3(1,2)"
      ],
      "outputs": [
        {
          "output_type": "execute_result",
          "execution_count": 95,
          "data": {
            "text/plain": [
              "3"
            ]
          },
          "metadata": {}
        }
      ],
      "execution_count": 95,
      "metadata": {
        "hidden": true
      }
    },
    {
      "cell_type": "code",
      "source": [
        "func_3(1,2,3,4,5,6)"
      ],
      "outputs": [
        {
          "output_type": "execute_result",
          "execution_count": 96,
          "data": {
            "text/plain": [
              "21"
            ]
          },
          "metadata": {}
        }
      ],
      "execution_count": 96,
      "metadata": {
        "hidden": true
      }
    },
    {
      "cell_type": "markdown",
      "source": [
        "では`*args`が何を返すかを確かめてみる。"
      ],
      "metadata": {
        "hidden": true
      }
    },
    {
      "cell_type": "code",
      "source": [
        "def func_temp(*args):\n",
        "    print(args)\n",
        "\n",
        "func_temp(1,2,3)"
      ],
      "outputs": [
        {
          "output_type": "stream",
          "name": "stdout",
          "text": [
            "(1, 2, 3)\n"
          ]
        }
      ],
      "execution_count": 97,
      "metadata": {
        "hidden": true
      }
    },
    {
      "cell_type": "markdown",
      "source": [
        "このように，`*args`は関数の引数をタプルとして返すことが分かる。\n",
        "\n",
        "* `*args`の`args`はarguments（引数）の省略形であり，`*args`は「引数をタプルに展開する」と理解すれば良い。\n",
        "* `*args`ではなく`*aaa`でも同じ結果をえることができる。即ち，`*`が「引数をタプルに展開する」役割を果たしている。しかし他のプログラマーが読んでもわかるように`*args`と書くのが慣例である。\n",
        "\n",
        "次の例は`*args`と引数を一緒に使うケースである。"
      ],
      "metadata": {
        "hidden": true
      }
    },
    {
      "cell_type": "code",
      "source": [
        "def func_4(a,*args):\n",
        "    return a*sum(args)"
      ],
      "outputs": [],
      "execution_count": 98,
      "metadata": {
        "hidden": true
      }
    },
    {
      "cell_type": "code",
      "source": [
        "func_4(10,2,2,2)"
      ],
      "outputs": [
        {
          "output_type": "execute_result",
          "execution_count": 99,
          "data": {
            "text/plain": [
              "60"
            ]
          },
          "metadata": {}
        }
      ],
      "execution_count": 99,
      "metadata": {
        "hidden": true
      }
    },
    {
      "cell_type": "markdown",
      "source": [
        "`*args`と似たものに`**kwargs`がある。\n",
        "\n",
        "* `kwargs`はkeyword argumentsの省略形であり，`**kwargs`は「引数を辞書に展開する」と理解すればよい。"
      ],
      "metadata": {
        "hidden": true
      }
    },
    {
      "cell_type": "code",
      "source": [
        "def func_5(**kwargs):\n",
        "    print('辞書＝', kwargs)"
      ],
      "outputs": [],
      "execution_count": 100,
      "metadata": {
        "hidden": true
      }
    },
    {
      "cell_type": "code",
      "source": [
        "func_5(number=3, letter='Hi', symbol='sigma')"
      ],
      "outputs": [
        {
          "output_type": "stream",
          "name": "stdout",
          "text": [
            "辞書＝ {'number': 3, 'letter': 'Hi', 'symbol': 'sigma'}\n"
          ]
        }
      ],
      "execution_count": 101,
      "metadata": {
        "hidden": true
      }
    },
    {
      "cell_type": "markdown",
      "source": [
        "`*args`と`**kwargs`を同時に使うケースや引数と一緒に使うケースなど様々な使い方がある。\n",
        "\n",
        "上の例では`def`を使う方法を紹介したが，複雑な関数を定義するときによく使われる。一方で単純な関数の場合，より簡単な方法がある。それが`lambda`関数である。例として，$x^2$を計算する関数を考えよう。"
      ],
      "metadata": {
        "hidden": true
      }
    },
    {
      "cell_type": "code",
      "source": [
        "fun_6 = lambda a: a**2"
      ],
      "outputs": [],
      "execution_count": 102,
      "metadata": {
        "hidden": true
      }
    },
    {
      "cell_type": "code",
      "source": [
        "fun_6(2)"
      ],
      "outputs": [
        {
          "output_type": "execute_result",
          "execution_count": 103,
          "data": {
            "text/plain": [
              "4"
            ]
          },
          "metadata": {}
        }
      ],
      "execution_count": 103,
      "metadata": {
        "hidden": true
      }
    },
    {
      "cell_type": "markdown",
      "source": [
        "複数の引数の場合"
      ],
      "metadata": {
        "hidden": true
      }
    },
    {
      "cell_type": "code",
      "source": [
        "fun_7 = lambda a, b: a*b"
      ],
      "outputs": [],
      "execution_count": 104,
      "metadata": {
        "hidden": true
      }
    },
    {
      "cell_type": "code",
      "source": [
        "fun_7(2,3)"
      ],
      "outputs": [
        {
          "output_type": "execute_result",
          "execution_count": 105,
          "data": {
            "text/plain": [
              "6"
            ]
          },
          "metadata": {}
        }
      ],
      "execution_count": 105,
      "metadata": {
        "hidden": true
      }
    },
    {
      "cell_type": "markdown",
      "source": [
        "## 関数とメソッド"
      ],
      "metadata": {
        "heading_collapsed": true
      }
    },
    {
      "cell_type": "markdown",
      "source": [
        "Pythonには「関数（functions）」と「メソッド（methods）」というものがあり，基本的には同じ働きをする。ではどう異なるのか。これを理解するためには，数字の`1`を含めて「全てがオブジェクト」というPythonの根底にある考え方を知る必要がある。しかし，ここではこの問題には踏み込まず，オブジェクトに関連するかどうかで「関数」と「メソッド」に区別されると思って十分である。\n",
        "\n",
        "上で定義した`func_0()`や`func_7()`は関数であり，特定のオブジェクト（「全てがオブジェクト」を思いだそう！）に働きかけるものではない。単に引数から計算した返値を出力している。一方，メソッドはオブジェクト特有の関数と考えると良いだろう。例として，数字の`1`を考えよう。`1`というオブジェクトには様々なメソッドが用意されており，そのリストを`dir()`というメソッドを使うことにより表示できる。"
      ],
      "metadata": {
        "hidden": true
      }
    },
    {
      "cell_type": "code",
      "source": [
        "dir(1)"
      ],
      "outputs": [
        {
          "output_type": "execute_result",
          "execution_count": 106,
          "data": {
            "text/plain": [
              "['__abs__',\n",
              " '__add__',\n",
              " '__and__',\n",
              " '__bool__',\n",
              " '__ceil__',\n",
              " '__class__',\n",
              " '__delattr__',\n",
              " '__dir__',\n",
              " '__divmod__',\n",
              " '__doc__',\n",
              " '__eq__',\n",
              " '__float__',\n",
              " '__floor__',\n",
              " '__floordiv__',\n",
              " '__format__',\n",
              " '__ge__',\n",
              " '__getattribute__',\n",
              " '__getnewargs__',\n",
              " '__gt__',\n",
              " '__hash__',\n",
              " '__index__',\n",
              " '__init__',\n",
              " '__init_subclass__',\n",
              " '__int__',\n",
              " '__invert__',\n",
              " '__le__',\n",
              " '__lshift__',\n",
              " '__lt__',\n",
              " '__mod__',\n",
              " '__mul__',\n",
              " '__ne__',\n",
              " '__neg__',\n",
              " '__new__',\n",
              " '__or__',\n",
              " '__pos__',\n",
              " '__pow__',\n",
              " '__radd__',\n",
              " '__rand__',\n",
              " '__rdivmod__',\n",
              " '__reduce__',\n",
              " '__reduce_ex__',\n",
              " '__repr__',\n",
              " '__rfloordiv__',\n",
              " '__rlshift__',\n",
              " '__rmod__',\n",
              " '__rmul__',\n",
              " '__ror__',\n",
              " '__round__',\n",
              " '__rpow__',\n",
              " '__rrshift__',\n",
              " '__rshift__',\n",
              " '__rsub__',\n",
              " '__rtruediv__',\n",
              " '__rxor__',\n",
              " '__setattr__',\n",
              " '__sizeof__',\n",
              " '__str__',\n",
              " '__sub__',\n",
              " '__subclasshook__',\n",
              " '__truediv__',\n",
              " '__trunc__',\n",
              " '__xor__',\n",
              " 'bit_length',\n",
              " 'conjugate',\n",
              " 'denominator',\n",
              " 'from_bytes',\n",
              " 'imag',\n",
              " 'numerator',\n",
              " 'real',\n",
              " 'to_bytes']"
            ]
          },
          "metadata": {}
        }
      ],
      "execution_count": 106,
      "metadata": {
        "hidden": true
      }
    },
    {
      "cell_type": "markdown",
      "source": [
        "この中の上の方に`__dir__`とあるがこれが`dir()`を示している。`__str__`とあるが，これは整数`1`を文字列に変換する関数である。"
      ],
      "metadata": {
        "hidden": true
      }
    },
    {
      "cell_type": "code",
      "source": [
        "str(1)"
      ],
      "outputs": [
        {
          "output_type": "execute_result",
          "execution_count": 107,
          "data": {
            "text/plain": [
              "'1'"
            ]
          },
          "metadata": {}
        }
      ],
      "execution_count": 107,
      "metadata": {
        "hidden": true
      }
    },
    {
      "cell_type": "code",
      "source": [
        "type(str(1))"
      ],
      "outputs": [
        {
          "output_type": "execute_result",
          "execution_count": 108,
          "data": {
            "text/plain": [
              "str"
            ]
          },
          "metadata": {}
        }
      ],
      "execution_count": 108,
      "metadata": {
        "hidden": true
      }
    },
    {
      "cell_type": "markdown",
      "source": [
        "「全てがオブジェクト」なのでリストもそうである。"
      ],
      "metadata": {
        "hidden": true
      }
    },
    {
      "cell_type": "code",
      "source": [
        "list_0 = [4,3,9,0,1]"
      ],
      "outputs": [],
      "execution_count": 109,
      "metadata": {
        "hidden": true
      }
    },
    {
      "cell_type": "code",
      "source": [
        "dir(list_0)"
      ],
      "outputs": [
        {
          "output_type": "execute_result",
          "execution_count": 110,
          "data": {
            "text/plain": [
              "['__add__',\n",
              " '__class__',\n",
              " '__contains__',\n",
              " '__delattr__',\n",
              " '__delitem__',\n",
              " '__dir__',\n",
              " '__doc__',\n",
              " '__eq__',\n",
              " '__format__',\n",
              " '__ge__',\n",
              " '__getattribute__',\n",
              " '__getitem__',\n",
              " '__gt__',\n",
              " '__hash__',\n",
              " '__iadd__',\n",
              " '__imul__',\n",
              " '__init__',\n",
              " '__init_subclass__',\n",
              " '__iter__',\n",
              " '__le__',\n",
              " '__len__',\n",
              " '__lt__',\n",
              " '__mul__',\n",
              " '__ne__',\n",
              " '__new__',\n",
              " '__reduce__',\n",
              " '__reduce_ex__',\n",
              " '__repr__',\n",
              " '__reversed__',\n",
              " '__rmul__',\n",
              " '__setattr__',\n",
              " '__setitem__',\n",
              " '__sizeof__',\n",
              " '__str__',\n",
              " '__subclasshook__',\n",
              " 'append',\n",
              " 'clear',\n",
              " 'copy',\n",
              " 'count',\n",
              " 'extend',\n",
              " 'index',\n",
              " 'insert',\n",
              " 'pop',\n",
              " 'remove',\n",
              " 'reverse',\n",
              " 'sort']"
            ]
          },
          "metadata": {}
        }
      ],
      "execution_count": 110,
      "metadata": {
        "hidden": true
      }
    },
    {
      "cell_type": "markdown",
      "source": [
        "この中に`append`とあるが，`for`ループの説明で使ったメソッドである。"
      ],
      "metadata": {
        "hidden": true
      }
    },
    {
      "cell_type": "code",
      "source": [
        "list_0.append(100)"
      ],
      "outputs": [],
      "execution_count": 111,
      "metadata": {
        "hidden": true
      }
    },
    {
      "cell_type": "code",
      "source": [
        "list_0"
      ],
      "outputs": [
        {
          "output_type": "execute_result",
          "execution_count": 112,
          "data": {
            "text/plain": [
              "[4, 3, 9, 0, 1, 100]"
            ]
          },
          "metadata": {}
        }
      ],
      "execution_count": 112,
      "metadata": {
        "hidden": true
      }
    },
    {
      "cell_type": "markdown",
      "source": [
        "注意して欲しい点は，`list_0`の後に`.append(100)`が来ていることである。先に来る`list_0`を引数として`appned()`は関数の働きをしていると考えれば良いだろう。\n",
        "\n",
        "他に`sort`とあるがこれは要素を昇順に並び替えるメソッドである。"
      ],
      "metadata": {
        "hidden": true
      }
    },
    {
      "cell_type": "code",
      "source": [
        "list_0.sort()"
      ],
      "outputs": [],
      "execution_count": 113,
      "metadata": {
        "hidden": true
      }
    },
    {
      "cell_type": "code",
      "source": [
        "list_0"
      ],
      "outputs": [
        {
          "output_type": "execute_result",
          "execution_count": 114,
          "data": {
            "text/plain": [
              "[0, 1, 3, 4, 9, 100]"
            ]
          },
          "metadata": {}
        }
      ],
      "execution_count": 114,
      "metadata": {
        "hidden": true
      }
    },
    {
      "cell_type": "markdown",
      "source": [
        "ぜひ他のメソッドを試して欲しい。またオブジェクトのメソッドを調べる場合，`dir()`の出力は見にくいので[`see`モジュール](https://pypi.org/project/see/)を使うのがおすすめである（モジュールについては次のセクションを参照）。もちろん，Pythonやモジュールの説明書（docs）をチェックするのも必要であろう。"
      ],
      "metadata": {
        "hidden": true
      }
    },
    {
      "cell_type": "markdown",
      "source": [
        "## パッケージとモジュール"
      ],
      "metadata": {
        "heading_collapsed": true
      }
    },
    {
      "cell_type": "markdown",
      "source": [
        "Pythonには組み込み関数が多く用意されている。例えば，[このリンク](https://docs.python.org/ja/3/library/functions.html)を参照。しかし組み込み関数には計量経済学用の便利な関数は用意されていない。そこで活躍するのがモジュール（modules）やパッケージ（package）と呼ばれるもである。もちろん計量経済学以外のモジュールやパッケージが無数にあり，使う用途（例えば，グラフを描く）に沿って読み込むことになる。２つの違いを簡単にいうと\n",
        "\n",
        "* モジュールは１つのファイル（.py）にまとめられた関数群であり，\n",
        "* パッケージは複数つのファイル（.py）で構成されている（フォルダーにまとめられている）\n",
        "\n",
        "となる。従って，あるパッケージの１つのモジュールを読み込むということが可能である。\n",
        "\n",
        "まず例として`math`モジュールを考える。名前が示すように数学用のモジュールである。使うためには`import`を使って読み込む。"
      ],
      "metadata": {
        "hidden": true
      }
    },
    {
      "cell_type": "markdown",
      "source": [
        "モジュールの全てを読み込むとモジュール内の全ての関数が使用可能となる。"
      ],
      "metadata": {
        "hidden": true
      }
    },
    {
      "cell_type": "code",
      "source": [
        "import math"
      ],
      "outputs": [],
      "execution_count": 115,
      "metadata": {
        "hidden": true
      }
    },
    {
      "cell_type": "code",
      "source": [
        "math.sqrt(4)    # sqrt（）とはルート"
      ],
      "outputs": [
        {
          "output_type": "execute_result",
          "execution_count": 116,
          "data": {
            "text/plain": [
              "2.0"
            ]
          },
          "metadata": {}
        }
      ],
      "execution_count": 116,
      "metadata": {
        "hidden": true
      }
    },
    {
      "cell_type": "markdown",
      "source": [
        "この場合モジュール名が必要とり，「`math`モジュールの`sqrt`」を指定しているという意味である。これは他のモジュールとバッティングしないようにするためである。\n",
        "\n",
        "モジュール名が長い場合は，短い名前で読み込むことも可能である"
      ],
      "metadata": {
        "hidden": true
      }
    },
    {
      "cell_type": "code",
      "source": [
        "import math as m"
      ],
      "outputs": [],
      "execution_count": 117,
      "metadata": {
        "hidden": true
      }
    },
    {
      "cell_type": "code",
      "source": [
        "m.sqrt(9)"
      ],
      "outputs": [
        {
          "output_type": "execute_result",
          "execution_count": 118,
          "data": {
            "text/plain": [
              "3.0"
            ]
          },
          "metadata": {}
        }
      ],
      "execution_count": 118,
      "metadata": {
        "hidden": true
      }
    },
    {
      "cell_type": "markdown",
      "source": [
        "モジュール内の特定の関数だけを読み込むことも可能である。"
      ],
      "metadata": {
        "hidden": true
      }
    },
    {
      "cell_type": "code",
      "source": [
        "from math import sqrt, log   # logは自然対数で, sqrtの両方を読み込む"
      ],
      "outputs": [],
      "execution_count": 119,
      "metadata": {
        "hidden": true
      }
    },
    {
      "cell_type": "code",
      "source": [
        "sqrt(10)"
      ],
      "outputs": [
        {
          "output_type": "execute_result",
          "execution_count": 120,
          "data": {
            "text/plain": [
              "3.1622776601683795"
            ]
          },
          "metadata": {}
        }
      ],
      "execution_count": 120,
      "metadata": {
        "hidden": true
      }
    },
    {
      "cell_type": "markdown",
      "source": [
        "この読み込み方法の利点はモジュール名を省略できることである。\n",
        "\n",
        "通常`import`文はファイルの最初に書き，どのモジュールが導入されるかを明示的に示すとわかりやすい。"
      ],
      "metadata": {
        "hidden": true
      }
    },
    {
      "cell_type": "markdown",
      "source": [
        "## よく使う組み込み関数"
      ],
      "metadata": {
        "heading_collapsed": true
      }
    },
    {
      "cell_type": "code",
      "source": [
        "# 表示\n",
        "print('私は神戸大学の学生です。')"
      ],
      "outputs": [
        {
          "output_type": "stream",
          "name": "stdout",
          "text": [
            "私は神戸大学の学生です。\n"
          ]
        }
      ],
      "execution_count": 121,
      "metadata": {
        "hidden": true
      }
    },
    {
      "cell_type": "code",
      "source": [
        "# オブジェクトの"
      ],
      "outputs": [],
      "execution_count": 122,
      "metadata": {
        "hidden": true
      }
    },
    {
      "cell_type": "code",
      "source": [
        "# 0から１０までの整数を用意する関数 \n",
        "range(10)"
      ],
      "outputs": [
        {
          "output_type": "execute_result",
          "execution_count": 123,
          "data": {
            "text/plain": [
              "range(0, 10)"
            ]
          },
          "metadata": {}
        }
      ],
      "execution_count": 123,
      "metadata": {
        "hidden": true
      }
    },
    {
      "cell_type": "code",
      "source": [
        "# 様々なものからリストを返す関数\n",
        "list()  # 空のリスト"
      ],
      "outputs": [
        {
          "output_type": "execute_result",
          "execution_count": 124,
          "data": {
            "text/plain": [
              "[]"
            ]
          },
          "metadata": {}
        }
      ],
      "execution_count": 124,
      "metadata": {
        "hidden": true
      }
    },
    {
      "cell_type": "code",
      "source": [
        "list(range(0,10))"
      ],
      "outputs": [
        {
          "output_type": "execute_result",
          "execution_count": 125,
          "data": {
            "text/plain": [
              "[0, 1, 2, 3, 4, 5, 6, 7, 8, 9]"
            ]
          },
          "metadata": {}
        }
      ],
      "execution_count": 125,
      "metadata": {
        "hidden": true
      }
    },
    {
      "cell_type": "markdown",
      "source": [
        "## エラー（Errors）"
      ],
      "metadata": {
        "heading_collapsed": true
      }
    },
    {
      "cell_type": "markdown",
      "source": [
        "エラーは以下の２つに分けられる。\n",
        "1. 構文エラー（Syntax Errors）\n",
        "    * 構文自体が間違っている場合に発生するエラー（例えば，スペル間違い）。\n",
        "1. 例外（Exceptoins）\n",
        "    * 構文は間違っていなくてもコードの実行中に発生するエラー（例えば，数字を０で割る）\n",
        "\n",
        "---\n",
        "＜＜コメント＞＞\n",
        "* エラーが発生するとエラー・メッセージが表示されるが，多くの場合，エラー・メッセージにエラーの理由のヒントがあるので確認することを強く推奨する。はじめは意味が分からないかも知れないが，パターンがあるので慣れると直ぐに理解できるケースも多くあるだろう。\n",
        "* 例外の場合，最初にエラーが発生するとそれに付随して他の場所でもエラーが誘発される場合がある。`Python`はエラーを追跡し，最後に確認したエラーをメッセージの一番最後に示すことになる。"
      ],
      "metadata": {
        "hidden": true
      }
    },
    {
      "cell_type": "markdown",
      "source": [
        "### 構文エラー"
      ],
      "metadata": {
        "heading_collapsed": true,
        "hidden": true
      }
    },
    {
      "cell_type": "markdown",
      "source": [
        "#### 例１"
      ],
      "metadata": {
        "heading_collapsed": true,
        "hidden": true
      }
    },
    {
      "cell_type": "markdown",
      "source": [
        "（正）`print`<br>\n",
        "（誤）`primt`"
      ],
      "metadata": {
        "hidden": true
      }
    },
    {
      "cell_type": "code",
      "source": [
        "primt('hello')"
      ],
      "outputs": [
        {
          "output_type": "error",
          "ename": "NameError",
          "evalue": "name 'primt' is not defined",
          "traceback": [
            "\u001b[0;31m---------------------------------------------------------------------------\u001b[0m",
            "\u001b[0;31mNameError\u001b[0m                                 Traceback (most recent call last)",
            "\u001b[0;32m<ipython-input-126-ff852d311315>\u001b[0m in \u001b[0;36m<module>\u001b[0;34m\u001b[0m\n\u001b[0;32m----> 1\u001b[0;31m \u001b[0mprimt\u001b[0m\u001b[0;34m(\u001b[0m\u001b[0;34m'hello'\u001b[0m\u001b[0;34m)\u001b[0m\u001b[0;34m\u001b[0m\u001b[0;34m\u001b[0m\u001b[0m\n\u001b[0m",
            "\u001b[0;31mNameError\u001b[0m: name 'primt' is not defined"
          ]
        }
      ],
      "execution_count": 126,
      "metadata": {
        "hidden": true
      }
    },
    {
      "cell_type": "markdown",
      "source": [
        "* 矢印（---->）でエラー箇所が示されている。\n",
        "* `NameError`として最終行にスペル間違いである`primt`が示されている。"
      ],
      "metadata": {
        "hidden": true
      }
    },
    {
      "cell_type": "markdown",
      "source": [
        "#### 例２"
      ],
      "metadata": {
        "heading_collapsed": true,
        "hidden": true
      }
    },
    {
      "cell_type": "markdown",
      "source": [
        "次のセルの３行目の終わりに`:`が抜けている。"
      ],
      "metadata": {
        "hidden": true
      }
    },
    {
      "cell_type": "code",
      "source": [
        "a = 3\n",
        "\n",
        "for i in range(0,3)\n",
        "    print(i)"
      ],
      "outputs": [
        {
          "output_type": "error",
          "ename": "SyntaxError",
          "evalue": "invalid syntax (<ipython-input-127-2a993c6acd9f>, line 3)",
          "traceback": [
            "\u001b[0;36m  File \u001b[0;32m\"<ipython-input-127-2a993c6acd9f>\"\u001b[0;36m, line \u001b[0;32m3\u001b[0m\n\u001b[0;31m    for i in range(0,3)\u001b[0m\n\u001b[0m                       ^\u001b[0m\n\u001b[0;31mSyntaxError\u001b[0m\u001b[0;31m:\u001b[0m invalid syntax\n"
          ]
        }
      ],
      "execution_count": 127,
      "metadata": {
        "hidden": true
      }
    },
    {
      "cell_type": "markdown",
      "source": [
        "* `line 3`はセル内の３行目を示している。\n",
        "* `SyntaxError`として最後の行で`:`が足りない箇所を`^`で指し示している。"
      ],
      "metadata": {
        "hidden": true
      }
    },
    {
      "cell_type": "markdown",
      "source": [
        "#### 例３"
      ],
      "metadata": {
        "heading_collapsed": true,
        "hidden": true
      }
    },
    {
      "cell_type": "markdown",
      "source": [
        "括弧を閉じていない。"
      ],
      "metadata": {
        "hidden": true
      }
    },
    {
      "cell_type": "code",
      "source": [
        "(2.1 + 1.5)/(10.0 + 1.0 + 3.2 "
      ],
      "outputs": [
        {
          "output_type": "error",
          "ename": "SyntaxError",
          "evalue": "unexpected EOF while parsing (<ipython-input-128-9ebf21e104e8>, line 1)",
          "traceback": [
            "\u001b[0;36m  File \u001b[0;32m\"<ipython-input-128-9ebf21e104e8>\"\u001b[0;36m, line \u001b[0;32m1\u001b[0m\n\u001b[0;31m    (2.1 + 1.5)/(10.0 + 1.0 + 3.2\u001b[0m\n\u001b[0m                                  ^\u001b[0m\n\u001b[0;31mSyntaxError\u001b[0m\u001b[0;31m:\u001b[0m unexpected EOF while parsing\n"
          ]
        }
      ],
      "execution_count": 128,
      "metadata": {
        "hidden": true
      }
    },
    {
      "cell_type": "markdown",
      "source": [
        "この場合，`Python`はプログラマーがどこに`)`を入れようとしたかは分からない。従って，最後にが入ると想定して`^`を文末に置いている。\n",
        "\n",
        "---\n",
        "＜＜コメント１＞＞<br>\n",
        "`()`の場合，改行しても構わない。一行が長くなる場合，`(`と`)`の間で改行することができる。"
      ],
      "metadata": {
        "hidden": true
      }
    },
    {
      "cell_type": "code",
      "source": [
        "np.exp(10 \n",
        "       + 1.0)"
      ],
      "outputs": [
        {
          "output_type": "error",
          "ename": "NameError",
          "evalue": "name 'np' is not defined",
          "traceback": [
            "\u001b[0;31m---------------------------------------------------------------------------\u001b[0m",
            "\u001b[0;31mNameError\u001b[0m                                 Traceback (most recent call last)",
            "\u001b[0;32m<ipython-input-129-9f584251fe05>\u001b[0m in \u001b[0;36m<module>\u001b[0;34m\u001b[0m\n\u001b[0;32m----> 1\u001b[0;31m np.exp(10 \n\u001b[0m\u001b[1;32m      2\u001b[0m        + 1.0)\n",
            "\u001b[0;31mNameError\u001b[0m: name 'np' is not defined"
          ]
        }
      ],
      "execution_count": 129,
      "metadata": {
        "hidden": true
      }
    },
    {
      "cell_type": "markdown",
      "source": [
        "＜＜コメント２＞＞<br>\n",
        "文字列を改行する場合は次の例のように`\\`を使う。"
      ],
      "metadata": {
        "hidden": true
      }
    },
    {
      "cell_type": "code",
      "source": [
        "'神戸大学\\\n",
        "経済学部'"
      ],
      "outputs": [],
      "execution_count": null,
      "metadata": {
        "hidden": true
      }
    },
    {
      "cell_type": "markdown",
      "source": [
        "### 例外"
      ],
      "metadata": {
        "heading_collapsed": true,
        "hidden": true
      }
    },
    {
      "cell_type": "markdown",
      "source": [
        "#### 例１"
      ],
      "metadata": {
        "heading_collapsed": true,
        "hidden": true
      }
    },
    {
      "cell_type": "markdown",
      "source": [
        "`0`分母にある。"
      ],
      "metadata": {
        "hidden": true
      }
    },
    {
      "cell_type": "code",
      "source": [
        "2.0 + 1/0"
      ],
      "outputs": [
        {
          "output_type": "error",
          "ename": "ZeroDivisionError",
          "evalue": "division by zero",
          "traceback": [
            "\u001b[0;31m---------------------------------------------------------------------------\u001b[0m",
            "\u001b[0;31mZeroDivisionError\u001b[0m                         Traceback (most recent call last)",
            "\u001b[0;32m<ipython-input-130-150e437ad231>\u001b[0m in \u001b[0;36m<module>\u001b[0;34m\u001b[0m\n\u001b[0;32m----> 1\u001b[0;31m \u001b[0;36m2.0\u001b[0m \u001b[0;34m+\u001b[0m \u001b[0;36m1\u001b[0m\u001b[0;34m/\u001b[0m\u001b[0;36m0\u001b[0m\u001b[0;34m\u001b[0m\u001b[0;34m\u001b[0m\u001b[0m\n\u001b[0m",
            "\u001b[0;31mZeroDivisionError\u001b[0m: division by zero"
          ]
        }
      ],
      "execution_count": 130,
      "metadata": {
        "hidden": true
      }
    },
    {
      "cell_type": "markdown",
      "source": [
        "#### 例２"
      ],
      "metadata": {
        "heading_collapsed": true,
        "hidden": true
      }
    },
    {
      "cell_type": "markdown",
      "source": [
        "定義されていない変数`xx`が使われている。"
      ],
      "metadata": {
        "hidden": true
      }
    },
    {
      "cell_type": "code",
      "source": [
        "10 + xx * 2"
      ],
      "outputs": [
        {
          "output_type": "error",
          "ename": "NameError",
          "evalue": "name 'xx' is not defined",
          "traceback": [
            "\u001b[0;31m---------------------------------------------------------------------------\u001b[0m",
            "\u001b[0;31mNameError\u001b[0m                                 Traceback (most recent call last)",
            "\u001b[0;32m<ipython-input-131-0a288a4fc67b>\u001b[0m in \u001b[0;36m<module>\u001b[0;34m\u001b[0m\n\u001b[0;32m----> 1\u001b[0;31m \u001b[0;36m10\u001b[0m \u001b[0;34m+\u001b[0m \u001b[0mxx\u001b[0m \u001b[0;34m*\u001b[0m \u001b[0;36m2\u001b[0m\u001b[0;34m\u001b[0m\u001b[0;34m\u001b[0m\u001b[0m\n\u001b[0m",
            "\u001b[0;31mNameError\u001b[0m: name 'xx' is not defined"
          ]
        }
      ],
      "execution_count": 131,
      "metadata": {
        "hidden": true
      }
    },
    {
      "cell_type": "markdown",
      "source": [
        "#### 例３"
      ],
      "metadata": {
        "heading_collapsed": true,
        "hidden": true
      }
    },
    {
      "cell_type": "markdown",
      "source": [
        "文字列とfloatを足している。"
      ],
      "metadata": {
        "hidden": true
      }
    },
    {
      "cell_type": "code",
      "source": [
        "'3' + 10"
      ],
      "outputs": [
        {
          "output_type": "error",
          "ename": "TypeError",
          "evalue": "can only concatenate str (not \"int\") to str",
          "traceback": [
            "\u001b[0;31m---------------------------------------------------------------------------\u001b[0m",
            "\u001b[0;31mTypeError\u001b[0m                                 Traceback (most recent call last)",
            "\u001b[0;32m<ipython-input-132-9437dcf020b7>\u001b[0m in \u001b[0;36m<module>\u001b[0;34m\u001b[0m\n\u001b[0;32m----> 1\u001b[0;31m \u001b[0;34m'3'\u001b[0m \u001b[0;34m+\u001b[0m \u001b[0;36m10\u001b[0m\u001b[0;34m\u001b[0m\u001b[0;34m\u001b[0m\u001b[0m\n\u001b[0m",
            "\u001b[0;31mTypeError\u001b[0m: can only concatenate str (not \"int\") to str"
          ]
        }
      ],
      "execution_count": 132,
      "metadata": {
        "hidden": true,
        "scrolled": true
      }
    },
    {
      "cell_type": "markdown",
      "source": [
        "## Pythonの基本のまとめ（日英対訳）"
      ],
      "metadata": {
        "heading_collapsed": true
      }
    },
    {
      "cell_type": "markdown",
      "source": [
        "[日本語](https://learnxinyminutes.com/docs/ja-jp/python3-jp/)\n",
        "\n",
        "[英語](https://learnxinyminutes.com/docs/python3/)"
      ],
      "metadata": {
        "hidden": true
      }
    }
  ],
  "metadata": {
    "kernel_info": {
      "name": "py4etrics"
    },
    "kernelspec": {
      "name": "py4etrics",
      "language": "python",
      "display_name": "py4etrics"
    },
    "language_info": {
      "name": "python",
      "version": "3.7.4",
      "mimetype": "text/x-python",
      "codemirror_mode": {
        "name": "ipython",
        "version": 3
      },
      "pygments_lexer": "ipython3",
      "nbconvert_exporter": "python",
      "file_extension": ".py"
    },
    "nteract": {
      "version": "0.15.0"
    },
    "toc": {
      "toc_position": {},
      "skip_h1_title": false,
      "number_sections": true,
      "title_cell": "Table of Contents",
      "toc_window_display": true,
      "base_numbering": 1,
      "toc_section_display": true,
      "title_sidebar": "Contents",
      "toc_cell": false,
      "nav_menu": {},
      "sideBar": true
    }
  },
  "nbformat": 4,
  "nbformat_minor": 2
}