{
    "cells": [
        {
            "cell_type": "markdown",
            "metadata": {},
            "source": [
                "# Python\u306e\u57fa\u790e"
            ]
        },
        {
            "cell_type": "markdown",
            "metadata": {
                "heading_collapsed": true
            },
            "source": [
                "## `=`\u306e\u610f\u5473\u3068\u300c\u30aa\u30d6\u30b8\u30a7\u30af\u30c8\u300d"
            ]
        },
        {
            "cell_type": "markdown",
            "metadata": {
                "hidden": true
            },
            "source": [
                "\u5909\u6570$x$\u306b\u5024`10`\u3092\u300c\u4ee3\u5165\u300d\u3059\u308b\u306b\u306f\u7b49\u53f7`=`\u3092\u4f7f\u3046\u3002"
            ]
        },
        {
            "cell_type": "code",
            "execution_count": null,
            "metadata": {},
            "outputs": [],
            "source": []
        },
        {
            "cell_type": "markdown",
            "metadata": {
                "hidden": true
            },
            "source": [
                "\u307e\u305f$x$\u306e\u5024\u3092\u8868\u793a\u3059\u306b\u306f\u3001\u6b21\u306e\u3088\u3046\u306b$x$\u3092\u66f8\u3044\u305f\u30bb\u30eb\u3092\u8a55\u4fa1\u3059\u308b\u3060\u3051\u3067\u3042\u308b\u3002"
            ]
        },
        {
            "cell_type": "code",
            "execution_count": null,
            "metadata": {},
            "outputs": [],
            "source": []
        },
        {
            "cell_type": "markdown",
            "metadata": {
                "hidden": true
            },
            "source": [
                "\u3053\u3053\u3067\u300c\u4ee3\u5165\u300d\u306b\u4f7f\u3063\u305f`=`\u306b\u3064\u3044\u3066\u5c11\u3057\u8aac\u660e\u3059\u308b\u3002\u5b9f\u306f\u3001`=`\u306f\u300c\u4ee3\u5165\u300d\u3067\u306f\u306a\u3044\u3002\u66f4\u306b\u306f\u3001`x`\u3068`10`\u306f\u5225\u7269\u306a\u306e\u3067\u3042\u308b\u3002\u3053\u308c\u3092\u7406\u89e3\u3059\u308b\u305f\u3081\u306b\u3001\u591a\u304f\u306e\u54c1\u7269\u304c\u4fdd\u7ba1\u3055\u308c\u3066\u3044\u308b\u5927\u304d\u306a\u5009\u5eab\u3092\u8003\u3048\u3066\u307f\u3088\u3046\u3002\u5009\u5eab\u306e\u7ba1\u7406\u8005\u306f\u3069\u306e\u54c1\u7269\u304c\u3069\u3053\u306b\u4fdd\u7ba1\u3055\u308c\u3066\u3044\u308b\u304b\u3092\u8a18\u9332\u3059\u308b\u5728\u5eab\u30ea\u30b9\u30c8\uff08\u8a18\u9332\u5e33\u3084\u30b3\u30f3\u30d4\u30e5\u30fc\u30bf\u30fc\u30fb\u30d5\u30a1\u30a4\u30eb\uff09\u3092\u4f5c\u6210\u3057\u3001\u305d\u3053\u306b\u54c1\u7269\u304c\u4fdd\u7ba1\u3055\u308c\u3066\u3044\u308b\u68da\u3092\u793a\u3059\u8a18\u53f7\u3092\u8a18\u5165\u3057\u3066\u3044\u308b\u3068\u3057\u3088\u3046\u3002\u3053\u306e\u4f8b\u3092\u4f7f\u3046\u3068\u3001\n",
                "* `10`\u3000\u2192\u3000\u5009\u5eab\u306e\u68da\u306b\u4fdd\u7ba1\u3055\u308c\u3066\u3044\u308b\u54c1\u7269\n",
                "* `x`\u3000\u2192\u3000\u5728\u5eab\u30ea\u30b9\u30c8\u306b\u8a18\u8f09\u3055\u308c\u3066\u3044\u308b\u68da\u306e\u8a18\u53f7\n",
                "\n",
                "\u3068\u306a\u308b\u3002\u54c1\u7269\u3068\u68da\u306e\u8a18\u53f7\u306f\u5225\u7269\u306a\u306e\u3067\u3042\u308b\u3002`Python`\u3067\u306f\u3001\u54c1\u7269\u3067\u3042\u308b`10`\u304c\u30b3\u30f3\u30d4\u30e5\u30fc\u30bf\u30fc\u5185\u306e\u30e1\u30e2\u30ea\u30fc\u306e\u6240\u5b9a\u306e\u5834\u6240\u306b\u4fdd\u5b58\u3055\u308c\u3001\u305d\u306e\u5834\u6240\u3092\u793a\u3059\u306e\u304c\u5909\u6570`x`\u3068\u306a\u308b\u3002\u5373\u3061\u3001`x`\u306f\u54c1\u7269`10`\u306e\u5b9f\u614b\u3068\u306f\u7570\u306a\u308b\u5358\u306a\u308b\u300c\u53c2\u7167\u8a18\u53f7\u300d\u306a\u306e\u3067\u3042\u308b\u3002\n",
                "* `10`\u3000\u2192\u3000PC\u306e\u30e1\u30e2\u30ea\u30fc\u306b\u4fdd\u5b58\u3055\u308c\u3066\u3044\u308b\u60c5\u5831\n",
                "* `x`\u3000\u2192\u3000\u53c2\u7167\u8a18\u53f7\n",
                "\n",
                "\u3053\u306e\u70b9\u3092\u660e\u78ba\u306b\u3059\u308b\u305f\u3081\u306b\u3001\u4e0a\u306e\u5f0f\u306f\u300c`x`\u306b`10`\u3092\u4ee3\u5165\u3059\u308b\u300d\u3068\u8003\u3048\u308b\u306e\u3067\u306f\u306a\u304f\u3001\u300c`10`\u3092\u8a18\u53f7`x`\u306b**\u5272\u308a\u5f53\u3066\u308b**\u300d\u3068\u8003\u3048\u308b\u3002\u3053\u3053\u3067\u3001\u5f0f\u3092**\u53f3\u304b\u3089\u5de6\u306b**\u8aad\u3093\u3067\u3044\u308b\u3053\u3068\u306b\u6ce8\u610f\u3057\u3088\u3046\u3002\u5de6\u304b\u3089\u53f3\u306b\u8aad\u3093\u3067\u300c\u8a18\u53f7`x`\u3092`10`\u306b\u5272\u308a\u5f53\u3066\u308b\u300d\u3068\u8003\u3048\u306a\u3044\u3053\u3068\u3092\u63a8\u5968\u3059\u308b\u3002\u610f\u5473\u306f\u540c\u3058\u3060\u304c\u3001`=`\u3092\u53f3\u304b\u3089\u5de6\u306b\u8aad\u3080\uff08\u8003\u3048\u308b\uff09\u3053\u3068\u3092\u7fd2\u6163\u3065\u3051\u308b\u3053\u3068\u304c\u3001\u4eca\u5f8c`Python`\u3092\u52c9\u5f37\u3059\u308b\u4e0a\u3067\u91cd\u8981\u3068\u306a\u308b\u304b\u3089\u3067\u3042\u308b\u3002\u3053\u306e\u70b9\u3092\u793a\u3059\u305f\u3081\u306b\u6b21\u306e\u30b3\u30fc\u30c9\u3092\u8003\u3048\u3066\u307f\u3088\u3046\u3002"
            ]
        },
        {
            "cell_type": "code",
            "execution_count": null,
            "metadata": {},
            "outputs": [],
            "source": []
        },
        {
            "cell_type": "markdown",
            "metadata": {
                "hidden": true
            },
            "source": [
                "\u300c\uff1f\u300d\u3068\u601d\u3046\u304b\u3082\u3057\u308c\u306a\u3044\u3002\u6697\u306b\u65b9\u7a0b\u5f0f\u3068\u3057\u3066\u8003\u3048\u308b\u305f\u3081\u3067\u3042\u308d\u3046\uff08\u79c1\u304c\u305d\u3046\u3060\u3063\u305f\uff09\u3002\u3053\u308c\u3092\u53f3\u304b\u3089\u5de6\u306b\u8aad\u3080\u3068\u30b9\u30c3\u30ad\u30ea\u3059\u308b\u3002\n",
                "1. \u4e00\u756a\u4e0a\u306e\u30b3\u30fc\u30c9\u3067`10`\u3092`x`\u306b\u5272\u308a\u5f53\u3066\u305f\u304c\u3001\u554f\u984c\u306e\u30b3\u30fc\u30c9\u306e\u53f3\u8fba\u306e`x`\u304c\u305d\u306e`10`\u3067\u3042\u308b\u3002`10`\u306b`1`\u3092\u52a0\u3048\u305f\u3082\u306e\u304c`11`\u3067\u3042\u308a\u3001\u305d\u308c\u304c\u53f3\u8fba\u3067\u3042\u308b\u3002\n",
                "1. `=`\u3092\u4f7f\u3044\u53f3\u8fba\u306e`11`\u3092\u5de6\u8fba\u306e`x`\u306b\u5272\u308a\u5f53\u3066\u3066\u3044\u308b\u3002\u3053\u306e\u6642\u70b9\u3067\u3001`10`\u306e\u53c2\u7167\u8a18\u53f7\u3067\u3042\u3063\u305f`x`\u306f`11`\u306e\u53c2\u7167\u8a18\u53f7\u306b\u5909\u66f4\u3055\u308c\u308b\u3002\n",
                "\n",
                "\u5b9f\u969b\u306b`x`\u3092\u8868\u793a\u3057\u3066\u307f\u3088\u3046\u3002"
            ]
        },
        {
            "cell_type": "code",
            "execution_count": null,
            "metadata": {},
            "outputs": [],
            "source": []
        },
        {
            "cell_type": "markdown",
            "metadata": {
                "hidden": true
            },
            "source": [
                "\u3053\u306e\u4f8b\u3067\u306f\u3001\u8a18\u53f7`x`\u306f`10`\u3092\u6307\u3057\u3066\u3044\u305f\u304c`11`\u306b\u5909\u66f4\u3055\u308c\u3066\u3044\u308b\u3002\u3053\u308c\u306f\u3001\u540c\u3058\u8a18\u53f7\u3092\u8907\u6570\u306e\u300c\u54c1\u7269\u300d\u306e\u53c2\u7167\u8a18\u53f7\u306b\u4f7f\u3048\u306a\u3044\u305f\u3081\u3067\u3042\u308b\u3002\u4e00\u65b9\u3067\u3001\u540c\u3058\u300c\u54c1\u7269\u300d\u3092\u8907\u6570\u306e\u53c2\u7167\u8a18\u53f7\u306b\u5272\u308a\u5f53\u3066\u308b\u4e8b\u306f\u53ef\u80fd\u3067\u3042\u308b\uff08\u4f8b\u3048\u3070\u3001`y=x`\uff09\u3002\u3044\u305a\u308c\u306b\u3057\u308d\u300c\u54c1\u7269\u3068\u53c2\u7167\u8a18\u53f7\u306e\u95a2\u4fc2\u300d\u306f\u4eca\u306e\u6bb5\u968e\u3067\u306f\u305d\u308c\u7a0b\u91cd\u8981\u3067\u306f\u306a\u3044\u304c\uff0c\u5148\u306b\u9032\u3080\u306b\u3064\u308c\u3066\u91cd\u8981\u6027\u304c\u5897\u3057\u3066\u304f\u308b\u306e\u3067\uff0c\u4eca\u306e\u3046\u3061\u306b\u3053\u306e\u3088\u3046\u306a\u30a4\u30e1\u30fc\u30b8\u3092\u6301\u3064\u3068\u826f\u3044\u3060\u308d\u3046\u3002"
            ]
        },
        {
            "cell_type": "markdown",
            "metadata": {
                "hidden": true
            },
            "source": [
                "---\n",
                "\u66f4\u306b\u3082\u3046\u4e00\u70b9\u4ed8\u3051\u52a0\u3048\u308b\u3002`Python`\u3092\u7fd2\u3046\u3068\u300c\u30aa\u30d6\u30b8\u30a7\u30af\u30c8\u300d\u3068\u3044\u3046\u5358\u8a9e\u304c\u5fc5\u305a\u51fa\u3066\u304f\u308b\u3002\u4eca\u306e\u5185\u306b\u30a4\u30e1\u30fc\u30b8\u3092\u3064\u304b\u3080\u305f\u3081\u306b\u81ea\u8ee2\u8eca\u3092\u30aa\u30d6\u30b8\u30a7\u30af\u30c8\u306e\u4f8b\u3068\u3057\u3066\u8003\u3048\u3066\u307f\u3088\u3046\u3002\u901a\u5e38\u306e\u81ea\u8ee2\u8eca\u306b\u306f\u8eca\u8f2a\u304c\uff12\u3064\u3042\u308a\u3001\u30b5\u30c9\u30eb\u304c\uff11\u3064\u3042\u308a\u3001\u5de6\u53f3\u306b\u30da\u30c0\u30eb\u304c\uff12\u3064\u3042\u308b\u3002\u3053\u308c\u3089\u306e\u6570\u5b57\u304c\u81ea\u8ee2\u8eca\u306b\u95a2\u3059\u308b**\u30c7\u30fc\u30bf**\u3067\u3042\u308b\u3002\u307e\u305f\u30da\u30c0\u30eb\u3092\u8e0f\u3080\u3053\u3068\u306b\u3088\u308a\u524d\u306b\u52d5\u304d\u3001\u30cf\u30f3\u30c9\u30eb\u3092\u53f3\u306b\u304d\u308b\u3068\u53f3\u65b9\u5411\u306b\u9032\u3080\u3053\u3068\u306b\u306a\u308b\u3002\u5373\u3061\u3001\u3042\u308b\u3053\u3068\u3092\u5b9f\u884c\u3059\u308b\u3068\u3001\u3042\u308b\u7d50\u679c\u304c\u8fd4\u3055\u308c\u308b\u306e\u3067\u3042\u308b\u3002\u3053\u308c\u306f\u6570\u5b66\u306e**\u95a2\u6570**\u3068\u540c\u3058\u3088\u3046\u306b\u7406\u89e3\u3067\u304d\u308b\u3002$y=x^2$\u306e\u5834\u5408\u3001$x$\u304c`2`\u3067\u3042\u308c\u3070$y$\u306e\u5024\u3068\u3057\u3066`4`\u304c\u8fd4\u3055\u308c\u308b\u3002\u3053\u306e\u3088\u3046\u306b\u81ea\u8ee2\u8eca\u306f\u30c7\u30fc\u30bf\u3068\u95a2\u6570\u304c\u5099\u308f\u3063\u3066\u3044\u308b\u30aa\u30d6\u30b8\u30a7\u30af\u30c8\u3068\u3057\u3066\u8003\u3048\u308b\u3053\u3068\u304c\u3067\u304d\u308b\u3002\u307e\u305f\u3001\u8eca\u8f2a\u306e\u6570\u3084\u30da\u30c0\u30eb\u3092\u8e0f\u3080\u3053\u3068\u306f\u81ea\u8ee2\u8eca\u7279\u6709\u306e\u30c7\u30fc\u30bf\u3068\u95a2\u6570\u3067\u3042\u308a\u3001\u4ed6\u306e\u30aa\u30d6\u30b8\u30a7\u30af\u30c8\uff08\u4f8b\u3048\u3070\u3001\u51b7\u8535\u5eab\uff09\u306b\u306f\u306a\u3044\u3002\u5373\u3061\u3001\u4e16\u306e\u4e2d\u306e\u300c\u30aa\u30d6\u30b8\u30a7\u30af\u30c8\u300d\u306b\u306f\u305d\u308c\u305e\u308c\u7570\u306a\u308b\u30c7\u30fc\u30bf\u3068\u95a2\u6570\u304c\u5b58\u5728\u3057\u3066\u3044\u308b\u3068\u8003\u3048\u308b\u3053\u3068\u304c\u3067\u304d\u308b\u3002\n",
                "\n",
                "`Python`\u306e\u4e16\u754c\u3067\u3082\u300c\u3059\u3079\u3066\u300d\u3092\u3053\u308c\u3068\u540c\u3058\u3088\u3046\u306b\u8003\u3048\u308b\u3002\u4e0a\u306e\u30b3\u30fc\u30c9\u306e`10`\u306b\u3082\u30c7\u30fc\u30bf\u3068\u95a2\u6570\u304c\u5099\u308f\u3063\u3066\u304a\u308a\u3001\u305d\u308c\u3089\u3092**\u5c5e\u6027**\uff08attributes\uff09\u3068\u547c\u3076\u3002`10`\u306f\u5358\u306a\u308b\u6570\u5b57\u306b\u898b\u3048\u308b\u304c\u3001\u5b9f\u306f\u69d8\u3005\u306a\u5c5e\u6027\u304b\u3089\u69cb\u6210\u3055\u308c\u308b\u30aa\u30d6\u30b8\u30a7\u30af\u30c8\u306a\u306e\u3067\u3042\u308b\u3002\u4e0a\u306e\u4f8b\u306e\u81ea\u8ee2\u8eca\u306e\u3088\u3046\u306b\u3001`Python`\u306e\u300c\u5c5e\u6027\u300d\u306f\u6b21\u306e\uff12\u3064\u306b\u5206\u985e\u3055\u308c\u308b\u3002`10`\u3092\u4f8b\u306b\u3068\u308b\u3068\u3001\n",
                "1. `10`\u304c\u6301\u3064\u69d8\u3005\u306a**\u30c7\u30fc\u30bf\uff08\u5c5e\u6027\uff09**\uff08data attributes\uff09\uff08\u4f8b\u3048\u3070\u3001`10`\u3068\u3044\u3046\u5024\u3084\u6574\u6570\u3068\u3044\u3046\u60c5\u5831\uff09\n",
                "1. `10`\u7279\u6709\u306e\u95a2\u6570\u3067\u3042\u308b**\u30e1\u30bd\u30c3\u30c9\uff08\u5c5e\u6027\uff09**\uff08method attributes\uff09\uff08\u4f8b\u3048\u3070\u3001\u52a0\u7b97\u3001\u9664\u7b97\u306e\u3088\u3046\u306b`10`\u3068\u3044\u3046\u30c7\u30fc\u30bf\u306b\u50cd\u304d\u304b\u3051\u308b\u95a2\u6570\uff09\n",
                "\n",
                "\u3092\u6307\u3059\u3002\u81ea\u8ee2\u8eca\u3068\u51b7\u8535\u5eab\u306f\u7570\u306a\u308b\u30c7\u30fc\u30bf\u3068\u95a2\u6570\u3092\u6301\u3064\u3088\u3046\u306b\u3001\u6574\u6570`10`\u3068\u6587\u5b57\u5217`\u795e\u6238\u5927\u5b66`\u306f\u7570\u306a\u308b\u30c7\u30fc\u30bf\u3068\u95a2\u6570\u3092\u5099\u3048\u308b\u30aa\u30d6\u30b8\u30a7\u30af\u30c8\u306a\u306e\u3067\u3042\u308b\u3002\u3053\u306e\u8003\u3048\u65b9\u306f`Python`\u306e\u3059\u3079\u3066\u306b\u5f53\u3066\u306f\u307e\u308b\u3002\u5373\u3061\u3001Everything is an object in Python."
            ]
        },
        {
            "cell_type": "markdown",
            "metadata": {
                "heading_collapsed": true
            },
            "source": [
                "## \uff14\u3064\u306e\u57fa\u672c\u30c7\u30fc\u30bf\u578b\uff08Data Types\uff09"
            ]
        },
        {
            "cell_type": "markdown",
            "metadata": {
                "hidden": true
            },
            "source": [
                "\u30c7\u30fc\u30bf\u578b\uff08data types\uff09\u306f\u7121\u6570\u306b\u3042\u308a\uff0c\u307e\u305a\u57fa\u672c\u3068\u306a\u308b\u6b21\u306e\uff14\u3064\u3092\u8003\u3048\u3088\u3046\u3002\n",
                "\n",
                "* \u6574\u6570\u578b\uff08int\uff09\n",
                "* \u6d6e\u52d5\u5c0f\u6570\u70b9\u578b\uff08float\uff09\n",
                "* \u6587\u5b57\u5217\u578b\uff08str\uff09\n",
                "* \u30d6\u30fc\u30eb\u578b\uff08bool\uff09\n",
                "\n",
                "\u6574\u6570\u578b\u3068\u306f\u4e0a\u306e\u4f8b\u3067\u4f7f\u3063\u305f\u3082\u306e\u3067\uff0c"
            ]
        },
        {
            "cell_type": "code",
            "execution_count": null,
            "metadata": {},
            "outputs": [],
            "source": []
        },
        {
            "cell_type": "markdown",
            "metadata": {
                "hidden": true
            },
            "source": [
                "\u3082\u6574\u6570\u578b\u3067\u3059\u3002\u6d6e\u52d5\u5c0f\u6570\u70b9\u578b\u306f\uff0c"
            ]
        },
        {
            "cell_type": "code",
            "execution_count": null,
            "metadata": {},
            "outputs": [],
            "source": []
        },
        {
            "cell_type": "markdown",
            "metadata": {
                "hidden": true
            },
            "source": [
                "\u306e\u3088\u3046\u306b\u5c0f\u6570\u70b9\u304c\u3064\u3044\u305f\u6570\u5b57\u3067\u3059\u3002`1`\u306f\u6574\u6570\u578b\u3067\u3059\u304c\uff0c`1.0`\u306f\u6d6e\u52d5\u5c0f\u6570\u70b9\u578b\u3067\u3059\u3002\n",
                "\n",
                "\u6587\u5b57\u5217\u578b\u306f\u30b7\u30f3\u30b0\u30eb\u30af\u30a9\u30fc\u30c8`'`\u304b\u30c0\u30d6\u30eb\u30af\u30a9\u30fc\u30c8`\"`\u306e\u9593\u306b\u6587\u5b57\u3092\u5165\u529b\u3057\u307e\u3059\u3002"
            ]
        },
        {
            "cell_type": "code",
            "execution_count": null,
            "metadata": {},
            "outputs": [],
            "source": []
        },
        {
            "cell_type": "code",
            "execution_count": null,
            "metadata": {},
            "outputs": [],
            "source": []
        },
        {
            "cell_type": "markdown",
            "metadata": {
                "hidden": true
            },
            "source": [
                "\u3069\u3061\u3089\u3092\u4f7f\u3063\u3066\u3082\u540c\u3058\u3067\u3059\u304c\uff0c\u30af\u30a9\u30fc\u30c8\u306e\u4e2d\u3067\u30af\u30a9\u30fc\u30c8\u3092\u4f7f\u3046\u5fc5\u8981\u304c\u3042\u308b\u5834\u5408\u306f\uff0c\u305d\u308c\u305e\u308c\u9055\u3063\u305f\u3082\u306e\u3092\u4f7f\u3044\u307e\u3059\u3002"
            ]
        },
        {
            "cell_type": "code",
            "execution_count": null,
            "metadata": {},
            "outputs": [],
            "source": []
        },
        {
            "cell_type": "markdown",
            "metadata": {
                "hidden": true
            },
            "source": [
                "\u307e\u305f\u6570\u5b57\u3092\u30af\u30a9\u30fc\u30c8\u3067\u56f2\u3080\u3068\u6587\u5b57\u5217\u578b\u306b\u306a\u308a\u307e\u3059\u3002"
            ]
        },
        {
            "cell_type": "code",
            "execution_count": null,
            "metadata": {},
            "outputs": [],
            "source": []
        },
        {
            "cell_type": "markdown",
            "metadata": {
                "hidden": true
            },
            "source": [
                "\u30d6\u30fc\u30eb\u578b\u306b\u306f`True`\uff08\u771f\uff09, `False`\uff08\u507d\uff09\u304c\u3042\u308a\u307e\u3059\u3002\u540d\u524d\u304c\u793a\u3059\u3088\u3046\u306b\u300c\u771f\u507d\u300d\u3092\u78ba\u8a8d\u3067\u304d\u308b\u308f\u3051\u3067\u3059\u3002\u4f8b\u3048\u3070\uff0c"
            ]
        },
        {
            "cell_type": "code",
            "execution_count": null,
            "metadata": {},
            "outputs": [],
            "source": []
        },
        {
            "cell_type": "markdown",
            "metadata": {
                "hidden": true
            },
            "source": [
                "\u5f8c\u307b\u3069\u8aac\u660e\u3057\u307e\u3059\u304c\uff0c`==`\u306f\u300c\u7b49\u3057\u3044\u300d\u3068\u3044\u3046\u3053\u3068\u3092\u610f\u5473\u3057\u307e\u3059\u3002\u307e\u305f\uff0c`True`\u306f`1`, `False`\u306f`0`\u3068\u3057\u3066\u8a08\u7b97\u3055\u308c\u307e\u3059\u3002"
            ]
        },
        {
            "cell_type": "code",
            "execution_count": null,
            "metadata": {},
            "outputs": [],
            "source": []
        },
        {
            "cell_type": "code",
            "execution_count": null,
            "metadata": {},
            "outputs": [],
            "source": []
        },
        {
            "cell_type": "code",
            "execution_count": null,
            "metadata": {},
            "outputs": [],
            "source": []
        },
        {
            "cell_type": "markdown",
            "metadata": {
                "hidden": true
            },
            "source": [
                "\uff08\u6ce8\u610f\uff09\n",
                "\n",
                "`Python`\u306b\u306f\u300c\u30af\u30e9\u30b9\uff08class\uff09\u300d\u3068\u3044\u3046\u6982\u5ff5\u304c\u3042\u308a\uff0c\u3053\u306e\u6388\u696d\u3067\u8aac\u660e\u306f\u304a\u3053\u306a\u308f\u306a\u3044\u304c\u300c\u30c7\u30fc\u30bf\u578b\uff08data types\uff09\u300d\u3068\u540c\u7fa9\u3067\u3042\u308b\u3002\n",
                "\n",
                "\u30c7\u30fc\u30bf\u578b\u306f\u95a2\u6570`type()`\u3092\u4f7f\u3063\u3066\u78ba\u8a8d\u3059\u308b\u3053\u3068\u304c\u3067\u304d\u308b\u304c\uff0c`type()`\u3067\u8868\u793a\u3055\u308c\u308b\u3082\u306e\u306f\u300c\u30c7\u30fc\u30bf\u578b\uff1d\u30af\u30e9\u30b9\u540d\u300d\u3068\u8003\u3048\u308c\u3070\u826f\u3044\u3002\u66f4\u306b\u3001\u5f15\u6570\u3092\u753b\u9762\u4e0a\u306b\u8868\u793a\u3059\u308b\u7d44\u307f\u8fbc\u307f\u95a2\u6570\u3067\u3042\u308b`print()`\u3092\u4f7f\u3046\u3068\u300c\u30c7\u30fc\u30bf\u578b\uff1d\u30af\u30e9\u30b9\u540d\u300d\u304c\u78ba\u8a8d\u3067\u304d\u308b\u3002"
            ]
        },
        {
            "cell_type": "code",
            "execution_count": null,
            "metadata": {},
            "outputs": [],
            "source": []
        },
        {
            "cell_type": "code",
            "execution_count": null,
            "metadata": {},
            "outputs": [],
            "source": []
        },
        {
            "cell_type": "code",
            "execution_count": null,
            "metadata": {},
            "outputs": [],
            "source": []
        },
        {
            "cell_type": "code",
            "execution_count": null,
            "metadata": {},
            "outputs": [],
            "source": []
        },
        {
            "cell_type": "code",
            "execution_count": null,
            "metadata": {},
            "outputs": [],
            "source": []
        },
        {
            "cell_type": "code",
            "execution_count": null,
            "metadata": {},
            "outputs": [],
            "source": []
        },
        {
            "cell_type": "code",
            "execution_count": null,
            "metadata": {},
            "outputs": [],
            "source": []
        },
        {
            "cell_type": "code",
            "execution_count": null,
            "metadata": {},
            "outputs": [],
            "source": []
        },
        {
            "cell_type": "markdown",
            "metadata": {
                "hidden": true
            },
            "source": [
                "\u30b3\u30fc\u30c9\u306e\u304b\u306a\u3067\u60f3\u5b9a\u3055\u308c\u305f\u30c7\u30fc\u30bf\u578b\u3068\u7570\u306a\u308b\u30c7\u30fc\u30bf\u578b\u3092\u4f7f\u3046\u3068\u304c\u30a8\u30e9\u30fc\u304c\u51fa\u305f\u308a\uff0c\u9593\u9055\u3063\u305f\u7d50\u679c\u306b\u3064\u306a\u304c\u308b\u5834\u5408\u304c\u3042\u308a\u307e\u3059\u306e\u3067\uff0c\u81ea\u4fe1\u304c\u306a\u3044\u6642\u306f`type()`\u3092\u4f7f\u3063\u3066\u78ba\u8a8d\u3057\u307e\u3057\u3087\u3046\u3002\n",
                "\n",
                "\u3053\u306e\u4ed6`complex type`\u3068`NoneTyep`\u3082\u5b58\u5728\u3059\u308b\u3002\u4ee5\u4e0b\u306e`None`\u3068\u306f\u300c\u7121\u300d\u3068\u3044\u3046\u610f\u5473\u3067\u3042\u308b\u3002"
            ]
        },
        {
            "cell_type": "code",
            "execution_count": null,
            "metadata": {},
            "outputs": [],
            "source": []
        },
        {
            "cell_type": "code",
            "execution_count": null,
            "metadata": {},
            "outputs": [],
            "source": []
        },
        {
            "cell_type": "markdown",
            "metadata": {
                "heading_collapsed": true
            },
            "source": [
                "## \u30b3\u30ec\u30af\u30b7\u30e7\u30f3\u7cfb\u30c7\u30fc\u30bf\u578b"
            ]
        },
        {
            "cell_type": "markdown",
            "metadata": {
                "hidden": true
            },
            "source": [
                "\u30b3\u30ec\u30af\u30b7\u30e7\u30f3\u7cfb\u3068\u306f\u4e0a\u3067\u8aac\u660e\u3057\u305f\u57fa\u672c\u30c7\u30fc\u30bf\u578b\u306e\u96c6\u307e\u308a\u3068\u306a\u308b\u30c7\u30fc\u30bf\u578b\u3067\uff0c\u3053\u3053\u3067\u306f\u4ee5\u4e0b\u3092\u7c21\u5358\u306b\u8aac\u660e\u3057\u307e\u3059\u3002\n",
                "\n",
                "* \u30ea\u30b9\u30c8\uff08list\uff09\n",
                "* \u30bf\u30d7\u30eb\uff08tuple\uff09\n",
                "* \u8f9e\u66f8\uff08dict\uff09\n",
                "* \u96c6\u5408\uff08set\uff09\n",
                "\n",
                "\u30ea\u30b9\u30c8\u306f`[]`\u3092\u4f7f\u3044\u307e\u3059\u3002"
            ]
        },
        {
            "cell_type": "code",
            "execution_count": null,
            "metadata": {},
            "outputs": [],
            "source": [
                "\n"
            ]
        },
        {
            "cell_type": "markdown",
            "metadata": {
                "hidden": true
            },
            "source": [
                "\u4e0a\u3067\u8aac\u660e\u3057\u305f\u3088\u3046\u306b\u3001`print()`\u306f\u5b9a\u7fa9\u3057\u305f\u30ea\u30b9\u30c8\u3092\u753b\u9762\u4e0a\u306b\u8868\u793a\u3059\u308b\u95a2\u6570\u3067\u3059\u3002\u4ee5\u4e0b\u3082\u30ea\u30b9\u30c8\u306e\u4e00\u4f8b\u3067\u3059\u3002"
            ]
        },
        {
            "cell_type": "code",
            "execution_count": null,
            "metadata": {},
            "outputs": [],
            "source": [
                "\n"
            ]
        },
        {
            "cell_type": "code",
            "execution_count": null,
            "metadata": {},
            "outputs": [],
            "source": []
        },
        {
            "cell_type": "markdown",
            "metadata": {
                "hidden": true
            },
            "source": [
                "`list`\u3068\u3044\u3046\u30af\u30e9\u30b9\uff08class\uff09\u3067\u3042\u308b\u3053\u3068\u3082\u78ba\u8a8d\u3067\u304d\u308b\u3002"
            ]
        },
        {
            "cell_type": "markdown",
            "metadata": {
                "hidden": true
            },
            "source": [
                "---\n",
                "\u30bf\u30d7\u30eb\u306f`()`\u3092\u4f7f\u3063\u3066\u4f5c\u6210\u3067\u304d\u308b\u3002"
            ]
        },
        {
            "cell_type": "code",
            "execution_count": null,
            "metadata": {},
            "outputs": [],
            "source": [
                "\n"
            ]
        },
        {
            "cell_type": "markdown",
            "metadata": {
                "hidden": true
            },
            "source": [
                "\u30ea\u30b9\u30c8\u3068\u5909\u308f\u308a\u306a\u3044\u3088\u3046\u306b\u898b\u3048\u307e\u3059\u304c\uff0c\u5927\u304d\u306a\u9055\u3044\u306f\u8981\u7d20\u3092\u5909\u66f4\u3067\u304d\u308b\u304b\u3067\u304d\u306a\u3044\u304b\u3068\u3044\u3046\u70b9\u3067\u3059\u3002\n",
                "\n",
                "* \u30ea\u30b9\u30c8\u306e\u8981\u7d20\u306f\u5909\u66f4\u53ef\u80fd\n",
                "* \u30bf\u30d7\u30eb\u306e\u8981\u7d20\u306f\u5909\u66f4\u4e0d\u53ef\u80fd\n",
                "\n",
                "\u30ea\u30b9\u30c8\u306e\u8981\u7d20\u306e\u5909\u66f4\u65b9\u6cd5\u306f\u4ee5\u4e0b\u3067\u8aac\u660e\u3057\u307e\u3059\u3002\n",
                "\n",
                "**\uff1c\u30b3\u30e1\u30f3\u30c8\uff11\uff1e**\n",
                "\n",
                "\u4e0a\u3067\u901a\u5e38\u30bf\u30d7\u30eb\u306f`(`\u3068`)`\u3092\u4f7f\u3063\u3066\u4f5c\u6210\u3067\u304d\u308b\u3068\u8aac\u660e\u3057\u305f\u304c\u3001\u5b9f\u306f\u3001\u30b3\u30f3\u30de`,`\u306b\u3088\u3063\u3066\u30bf\u30d7\u30eb\u306f\u5b9a\u7fa9\u3055\u308c\u308b\u305f\u3081`(`\u3068`)`\u306f\u5fc5\u9808\u3067\u306f\u306a\u3044\u3002\u4f8b\u3048\u3070\u3001\u6b21\u306e\u30b3\u30fc\u30c9\u3067\u3082\u30bf\u30d7\u30eb\u3068\u306a\u308b\u3002\u5f93\u3063\u3066\u3001`(`\u3068`)`\u306f\u30bf\u30d7\u30eb\u3092\u660e\u78ba\u306b\u3059\u308b\u305f\u3081\u3068\u8003\u3048\u3066\u826f\u3044\u3002"
            ]
        },
        {
            "cell_type": "code",
            "execution_count": null,
            "metadata": {},
            "outputs": [],
            "source": []
        },
        {
            "cell_type": "code",
            "execution_count": null,
            "metadata": {},
            "outputs": [],
            "source": [
                "\n"
            ]
        },
        {
            "cell_type": "markdown",
            "metadata": {
                "hidden": true
            },
            "source": [
                "**\uff1c\u30b3\u30e1\u30f3\u30c8\uff12\uff1e**\n",
                "\n",
                "\uff11\u3064\u306e\u8981\u7d20\u304b\u3089\u306a\u308b\u30bf\u30d7\u30eb\u3092\u4f5c\u6210\u3059\u308b\u5834\u5408\u3001\u30b3\u30f3\u30de`,`\u3092\u5fc5\u305a\u8ffd\u52a0\u3059\u308b\u3053\u3068\u3002"
            ]
        },
        {
            "cell_type": "code",
            "execution_count": null,
            "metadata": {},
            "outputs": [],
            "source": []
        },
        {
            "cell_type": "code",
            "execution_count": null,
            "metadata": {},
            "outputs": [],
            "source": [
                "\n"
            ]
        },
        {
            "cell_type": "markdown",
            "metadata": {
                "hidden": true
            },
            "source": [
                "\u30b3\u30f3\u30de`,`\u304c\u306a\u3044\u3068\u30bf\u30d7\u30eb\u3068\u306f\u306a\u3089\u306a\u3044\u3002"
            ]
        },
        {
            "cell_type": "code",
            "execution_count": null,
            "metadata": {},
            "outputs": [],
            "source": []
        },
        {
            "cell_type": "code",
            "execution_count": null,
            "metadata": {},
            "outputs": [],
            "source": [
                "\n"
            ]
        },
        {
            "cell_type": "markdown",
            "metadata": {
                "hidden": true
            },
            "source": [
                "---\n",
                "\u8f9e\u66f8\u306f\u30ad\u30fc\uff08key\uff09\u3068\u5024\uff08value\uff09\u306e\u30da\u30a2\u3068\u306a\u3063\u3066\u5b9a\u7fa9\u3055\u308c\uff0c`:`\u3092\u631f\u3093\u3067\uff11\u3064\u306e\u30da\u30a2\u3068\u306a\u308a\u307e\u3059\u3002\u5168\u3066\u3092`{}`\u3067\u56f2\u307f\u8f9e\u66f8\u3092\u5b9a\u7fa9\u3057\u307e\u3059\u3002"
            ]
        },
        {
            "cell_type": "code",
            "execution_count": null,
            "metadata": {},
            "outputs": [],
            "source": []
        },
        {
            "cell_type": "markdown",
            "metadata": {
                "hidden": true
            },
            "source": [
                "`dict0`\u306b\u306f\uff12\u3064\u306e\u30da\u30a2\u304c\u3042\u308a\u307e\u3059\u3002`a`\u306e\u30ad\u30fc\u306b\u306f\u5024`10`\u304c\u5bfe\u5fdc\u3057\u3066\u304a\u308a\uff0c`b`\u306b\u306f`'kobe'`\u304c\u8a2d\u5b9a\u3055\u308c\u3066\u3044\u307e\u3059\u3002\u4eca\u306e\u6bb5\u968e\u3067\u306f\u8f9e\u66f8\u3092\u4f7f\u3046\u76ee\u7684\u304c\u4e0d\u660e\u78ba\u3067\u3057\u3063\u304f\u308a\u3053\u306a\u3044\u3068\u601d\u3044\u307e\u3059\u304c\uff0c\u52c9\u5f37\u3092\u9032\u3081\u308b\u3068\u3068\u3066\u3082\u30d1\u30ef\u30d5\u30eb\u306a\u30c4\u30fc\u30eb\u3060\u3068\u6c17\u3065\u304f\u3068\u601d\u3044\u307e\u3059\u3002"
            ]
        },
        {
            "cell_type": "code",
            "execution_count": null,
            "metadata": {},
            "outputs": [],
            "source": []
        },
        {
            "cell_type": "code",
            "execution_count": null,
            "metadata": {},
            "outputs": [],
            "source": []
        },
        {
            "cell_type": "markdown",
            "metadata": {
                "hidden": true
            },
            "source": [
                "\u96c6\u5408\u306f\u4f7f\u3046\u6a5f\u4f1a\u304c\u306a\u3044\u306e\u3067\u8aac\u660e\u306f\u5272\u611b\u3057\u307e\u3059\u3002"
            ]
        },
        {
            "cell_type": "markdown",
            "metadata": {
                "heading_collapsed": true
            },
            "source": [
                "## \u8981\u7d20\u306e\u30a2\u30af\u30bb\u30b9\u65b9\u6cd5"
            ]
        },
        {
            "cell_type": "markdown",
            "metadata": {
                "hidden": true
            },
            "source": [
                "\u307e\u305a\u30ea\u30b9\u30c8\u3092\u8003\u3048\u307e\u3057\u3087\u3046\u3002\u30ea\u30b9\u30c8\u306e\u8981\u7d20\u306b\u30a2\u30af\u30bb\u30b9\u3059\u308b\u305f\u3081\u306b\u306f\uff0c\u5de6\u304b\u3089`0`, `1`, `2`...\u3068\u6570\u3048\u3066\u6307\u5b9a\u3057\u307e\u3059\u3002\u4f8b\u3048\u3070"
            ]
        },
        {
            "cell_type": "code",
            "execution_count": null,
            "metadata": {},
            "outputs": [],
            "source": []
        },
        {
            "cell_type": "markdown",
            "metadata": {
                "hidden": true
            },
            "source": [
                "\u306e\u5834\u5408\uff0c`'A'`\u306f\uff10\u756a\u76ee\uff0c`'B'`\uff11\u756a\u76ee\uff0c`'C'`\u306f\uff12\u756a\u76ee\u3068\u6570\u3048\u307e\u3059\u3002\u4f8b\u3048\u3070\uff0c`A`\u3092\u62bd\u51fa\u3057\u305f\u3044\u5834\u5408\uff0c"
            ]
        },
        {
            "cell_type": "code",
            "execution_count": null,
            "metadata": {},
            "outputs": [],
            "source": []
        },
        {
            "cell_type": "markdown",
            "metadata": {
                "hidden": true
            },
            "source": [
                "\u307e\u305f\u30de\u30a4\u30ca\u30b9\u30fb\u30b5\u30a4\u30f3`-`\u3092\u4f7f\u3063\u3066\u53f3\u304b\u3089`-1`, `-2`, `-3`\u3068\u6570\u3048\u3066\u6307\u5b9a\u3059\u308b\u3053\u3068\u3082\u53ef\u80fd\u3067\u3059\u3002"
            ]
        },
        {
            "cell_type": "code",
            "execution_count": null,
            "metadata": {},
            "outputs": [],
            "source": []
        },
        {
            "cell_type": "markdown",
            "metadata": {
                "hidden": true
            },
            "source": [
                "\u8981\u7d20\u306e\u6570\u3048\u65b9\u306f\u4ee5\u4e0b\u306e\u3088\u3046\u306b\u8003\u3048\u308b\u3068\u3088\u3044\u3067\u3057\u3087\u3046\u3002\n",
                "\n",
                "```\n",
                "   0   1   2   3   4   5  \uff08\u5de6\u304b\u3089\u6570\u3048\u308b\uff09 \n",
                " +---+---+---+---+---+---+\n",
                " | P | y | t | h | o | n |\n",
                " +---+---+---+---+---+---+\n",
                "  -6  -5  -4  -3  -2  -1\u3000\uff08\u53f3\u304b\u3089\u6570\u3048\u308b\uff09\n",
                "```\n",
                "\n",
                "\u9023\u7d9a\u3059\u308b\u8907\u6570\u306e\u8981\u7d20\u3092\u9078\u629e\u3059\u308b\u5834\u5408\uff08\u30b9\u30e9\u30a4\u30b7\u30f3\u30b0\uff09\u306f`:`\u3092\u4f7f\u3044\u307e\u3059\u3002`:`\u306e\u5de6\u5074\u304c\u9078\u629e\u3059\u308b\u6700\u521d\u306e\u8981\u7d20\u3067\uff0c`:`\u306e\u53f3\u5074\u304c\u9078\u629e\u3059\u308b\u6700\u5f8c\u306e\u6b21\u306e\u756a\u53f7\u3067\u3059\u3002"
            ]
        },
        {
            "cell_type": "code",
            "execution_count": null,
            "metadata": {},
            "outputs": [],
            "source": []
        },
        {
            "cell_type": "markdown",
            "metadata": {
                "hidden": true
            },
            "source": [
                "\u3053\u306e\u4f8b\u3067\u306f\uff11\u756a\u76ee\u304b\u30893\u756a\u76ee\u3092\u9078\u629e\u3057\u3066\u3044\u307e\u3059\u3002`:`\u306e\u5de6\u5074\u306e\u756a\u53f7\u3092\u7701\u7565\u3059\u308b\u3068`0`\u3068\u89e3\u91c8\u3055\u308c\uff0c`:`\u53f3\u5074\u3092\u7701\u7565\u3059\u308b\u3068`-1`\u3068\u89e3\u91c8\u3055\u308c\u307e\u3059\u3002"
            ]
        },
        {
            "cell_type": "code",
            "execution_count": null,
            "metadata": {},
            "outputs": [],
            "source": []
        },
        {
            "cell_type": "code",
            "execution_count": null,
            "metadata": {},
            "outputs": [],
            "source": []
        },
        {
            "cell_type": "markdown",
            "metadata": {
                "hidden": true
            },
            "source": [
                "\u30bf\u30d7\u30eb\u3082\u540c\u3058\u3088\u3046\u306b\u9078\u629e\u3067\u304d\u307e\u3059\u3002"
            ]
        },
        {
            "cell_type": "code",
            "execution_count": null,
            "metadata": {},
            "outputs": [],
            "source": []
        },
        {
            "cell_type": "code",
            "execution_count": null,
            "metadata": {},
            "outputs": [],
            "source": []
        },
        {
            "cell_type": "code",
            "execution_count": null,
            "metadata": {},
            "outputs": [],
            "source": []
        },
        {
            "cell_type": "code",
            "execution_count": null,
            "metadata": {},
            "outputs": [],
            "source": []
        },
        {
            "cell_type": "markdown",
            "metadata": {
                "hidden": true
            },
            "source": [
                "\u8f9e\u66f8\u3082\u540c\u3058\u65b9\u6cd5\u3067\u30a2\u30af\u30bb\u30b9\u3067\u304d\u307e\u3059\u3002"
            ]
        },
        {
            "cell_type": "code",
            "execution_count": null,
            "metadata": {},
            "outputs": [],
            "source": []
        },
        {
            "cell_type": "code",
            "execution_count": null,
            "metadata": {},
            "outputs": [],
            "source": []
        },
        {
            "cell_type": "markdown",
            "metadata": {
                "hidden": true
            },
            "source": [
                "\u8f9e\u66f8\u306e\u5834\u5408\u306f\u30ad\u30fc\u3067\u6307\u5b9a\u3057\u307e\u3059\u3002\u8907\u6570\u6307\u5b9a\u3059\u308b\u5834\u5408\u306f\uff0c`for loop`\u306a\u3069\u306e\u3088\u308a\u8907\u96d1\u306a\u624b\u6cd5\u304c\u5fc5\u8981\u3068\u306a\u308a\u307e\u3059\u3002"
            ]
        },
        {
            "cell_type": "code",
            "execution_count": null,
            "metadata": {},
            "outputs": [],
            "source": []
        },
        {
            "cell_type": "code",
            "execution_count": null,
            "metadata": {},
            "outputs": [],
            "source": []
        },
        {
            "cell_type": "code",
            "execution_count": null,
            "metadata": {},
            "outputs": [],
            "source": []
        },
        {
            "cell_type": "markdown",
            "metadata": {
                "heading_collapsed": true
            },
            "source": [
                "## \u5909\u6570\u540d\u306b\u4f7f\u3046\u8a18\u53f7\u306b\u3064\u3044\u3066"
            ]
        },
        {
            "cell_type": "markdown",
            "metadata": {
                "hidden": true
            },
            "source": [
                "\u4e0a\u306e\u4f8b\u3067\u306f`my_list`\u306a\u3069\u597d\u304d\u306a\u30a2\u30eb\u30d5\u30a1\u30d9\u30c3\u30c8\u306e\u7d44\u307f\u5408\u308f\u305b\u3092\u4f7f\u3044\u308f\u304b\u308a\u3084\u3059\u3044\u5909\u6570\u540d\u306b\u3057\u3066\u3044\u307e\u3059\u3002\u3057\u304b\u3057\uff0c\u5909\u6570\u306e\u540d\u524d\u3092\u4f5c\u308b\u4e0a\u3067\u5b88\u3089\u306a\u304f\u3066\u306f\u306a\u3089\u306a\u3044\u30eb\u30fc\u30eb\u304c\u3042\u308a\u307e\u3059\u3002\n",
                "\n",
                "* `(a-z, A-Z)`\u3082\u3057\u304f\u306f`_`\uff08\u30a2\u30f3\u30c0\u30fc\u30b9\u30b3\u30a2\uff09\u3067\u59cb\u3081\u308b\n",
                "* \u6700\u521d\u306e\u6587\u5b57\u4ee5\u5916\u3067\u3042\u308c\u3070`(a-z, A-Z)`\u3068`_`\u306b\u52a0\u3048\u6570\u5b57\u3082\u53ef\n",
                "* \u9577\u3055\u306b\u5236\u9650\u306f\u306a\u3044\n",
                "* \u5c0f\u6587\u5b57\u3068\u5927\u6587\u5b57\u306f\u7570\u306a\u308b\u8a18\u53f7\u3068\u3057\u3066\u3042\u3064\u304b\u3046\n",
                "* \u6b21\u306e\u5358\u8a9e\u306f\u3042\u308b\u76ee\u7684\u306e\u305f\u3081\u306b\u4e8b\u524d\u306b\u5b9a\u7fa9\u3055\u308c\u3066\u3044\u308b\u305f\u3081\uff0c\u5909\u6570\u540d\u3068\u3057\u3066\u306f\u4f7f\u3048\u306a\u3044\u3002\n",
                "\n",
                "<pre>\n",
                "and       exec     not\n",
                "as \t   finally  or\n",
                "assert    for      pass\n",
                "break     from     print\n",
                "class     global   raise\n",
                "continue  if       return\n",
                "def       import   try\n",
                "del       in       while\n",
                "elif      is       with\n",
                "else      lambda   yield\n",
                "except\n",
                "</pre>\n",
                "\n",
                "\u3053\u308c\u3089\u306b\u52a0\u3048\uff0c\n",
                "\n",
                "* \u5909\u6570\u306e\u982d\u6587\u5b57\u306f\u5c0f\u6587\u5b57\u3068\u3059\u308b\n",
                "\n",
                "\u3068\u3044\u3046\u306e\u304c\u6163\u4f8b\uff08\u30a8\u30e9\u30fc\u306b\u306f\u306a\u3089\u306a\u3044\uff09\u3067\u3042\u308a\uff0c\u5927\u6587\u5b57\u3067\u59cb\u307e\u308b\u5909\u6570\u306f`class`\u3068\u547c\u3070\u308c\u308b\u30aa\u30d6\u30b8\u30a7\u30af\u30c8\u306b\u4f7f\u3046\u3002\n",
                "\n",
                "\u307e\u305f`#`\u306f\u5b9f\u884c\u3055\u308c\u306a\u3044\u30b3\u30e1\u30f3\u30c8\u3092\u66f8\u304f\u3068\u304d\u306b\u4f7f\u308f\u308c\u308b\u3002\u4ee5\u4e0b\u306e\u4f8b\u3067\u306f\uff0c`1+2`\u306f\u5b9f\u884c\u3055\u308c\u308b\u304c`#`\u3067\u59cb\u307e\u308b\u884c\u306f\u7121\u8996\u3055\u308c\u308b\u3002"
            ]
        },
        {
            "cell_type": "code",
            "execution_count": null,
            "metadata": {},
            "outputs": [],
            "source": [
                "# \u3053\u306e\u884c\u306f\u30b3\u30e1\u30f3\u30c8\n"
            ]
        },
        {
            "cell_type": "markdown",
            "metadata": {
                "heading_collapsed": true
            },
            "source": [
                "## \u7b97\u8853\u6f14\u7b97\u5b50"
            ]
        },
        {
            "cell_type": "markdown",
            "metadata": {
                "hidden": true
            },
            "source": [
                "* `+`\uff08\u52a0\u7b97\uff09\n",
                "* `-`\uff08\u6e1b\u7b97\uff09\n",
                "* `*`\uff08\u4e57\u7b97\uff09\n",
                "* `/`\uff08\u9664\u7b97\uff09\n",
                "* `//`\uff08\u5207\u308a\u6368\u3066\u9664\u7b97; \u5b9f\u6570\u306e\u6574\u6570\u90e8\u5206\uff09\n",
                "* `%`\uff08\u5270\u4f59\u6f14\u7b97; \u4f59\u308a\u3092\u53d6\u5f97\u3059\u308b\u6f14\u7b97\uff09\n",
                "* `**`\uff08\u7d2f\u4e57\uff09"
            ]
        },
        {
            "cell_type": "markdown",
            "metadata": {
                "hidden": true
            },
            "source": [
                "\u52a0\u7b97"
            ]
        },
        {
            "cell_type": "code",
            "execution_count": null,
            "metadata": {},
            "outputs": [],
            "source": []
        },
        {
            "cell_type": "code",
            "execution_count": null,
            "metadata": {},
            "outputs": [],
            "source": []
        },
        {
            "cell_type": "code",
            "execution_count": null,
            "metadata": {},
            "outputs": [],
            "source": []
        },
        {
            "cell_type": "code",
            "execution_count": null,
            "metadata": {},
            "outputs": [],
            "source": []
        },
        {
            "cell_type": "code",
            "execution_count": null,
            "metadata": {},
            "outputs": [],
            "source": []
        },
        {
            "cell_type": "markdown",
            "metadata": {
                "hidden": true
            },
            "source": [
                "\u6e1b\u7b97"
            ]
        },
        {
            "cell_type": "code",
            "execution_count": null,
            "metadata": {},
            "outputs": [],
            "source": []
        },
        {
            "cell_type": "markdown",
            "metadata": {
                "hidden": true
            },
            "source": [
                "\u4e57\u7b97"
            ]
        },
        {
            "cell_type": "code",
            "execution_count": null,
            "metadata": {},
            "outputs": [],
            "source": []
        },
        {
            "cell_type": "code",
            "execution_count": null,
            "metadata": {},
            "outputs": [],
            "source": []
        },
        {
            "cell_type": "code",
            "execution_count": null,
            "metadata": {},
            "outputs": [],
            "source": []
        },
        {
            "cell_type": "markdown",
            "metadata": {
                "hidden": true
            },
            "source": [
                "\u9664\u7b97"
            ]
        },
        {
            "cell_type": "code",
            "execution_count": null,
            "metadata": {},
            "outputs": [],
            "source": []
        },
        {
            "cell_type": "markdown",
            "metadata": {
                "hidden": true
            },
            "source": [
                "\u5207\u308a\u6368\u3066\u9664\u7b97"
            ]
        },
        {
            "cell_type": "code",
            "execution_count": null,
            "metadata": {},
            "outputs": [],
            "source": []
        },
        {
            "cell_type": "markdown",
            "metadata": {
                "hidden": true
            },
            "source": [
                "\u5270\u4f59\u6f14\u7b97"
            ]
        },
        {
            "cell_type": "code",
            "execution_count": null,
            "metadata": {},
            "outputs": [],
            "source": []
        },
        {
            "cell_type": "markdown",
            "metadata": {
                "hidden": true
            },
            "source": [
                "\u7d2f\u4e57"
            ]
        },
        {
            "cell_type": "code",
            "execution_count": null,
            "metadata": {},
            "outputs": [],
            "source": []
        },
        {
            "cell_type": "code",
            "execution_count": null,
            "metadata": {},
            "outputs": [],
            "source": []
        },
        {
            "cell_type": "markdown",
            "metadata": {
                "heading_collapsed": true
            },
            "source": [
                "## \u95a2\u4fc2\u6f14\u7b97\u5b50"
            ]
        },
        {
            "cell_type": "markdown",
            "metadata": {
                "hidden": true
            },
            "source": [
                "* `==`\uff08\u7b49\u53f7\uff09\n",
                "* `!=`\uff08\u7b49\u53f7\u4e0d\u6210\u7acb\uff09\n",
                "* `<`\uff08\u5c0f\u306a\u308a\uff09\n",
                "* `>`\uff08\u5927\u306a\u308a\uff09\n",
                "* `<=`\uff08\u5c0f\u306a\u308a\u30a4\u30b3\u30fc\u30eb\uff09\n",
                "* `>=`\uff08\u5927\u306a\u308a\u30a4\u30b3\u30fc\u30eb\uff09"
            ]
        },
        {
            "cell_type": "code",
            "execution_count": null,
            "metadata": {},
            "outputs": [],
            "source": []
        },
        {
            "cell_type": "code",
            "execution_count": null,
            "metadata": {},
            "outputs": [],
            "source": []
        },
        {
            "cell_type": "code",
            "execution_count": null,
            "metadata": {},
            "outputs": [],
            "source": []
        },
        {
            "cell_type": "code",
            "execution_count": null,
            "metadata": {},
            "outputs": [],
            "source": []
        },
        {
            "cell_type": "code",
            "execution_count": null,
            "metadata": {},
            "outputs": [],
            "source": []
        },
        {
            "cell_type": "markdown",
            "metadata": {
                "heading_collapsed": true
            },
            "source": [
                "## \u7406\u8ad6\u6f14\u7b97\u5b50"
            ]
        },
        {
            "cell_type": "markdown",
            "metadata": {
                "hidden": true
            },
            "source": [
                "* a & b &nbsp;\uff08a\u3068b\u306e\u4e21\u65b9\uff09 \n",
                "* a | b &nbsp;&nbsp;\uff08a\u53c8\u306fb\u53c8\u306f\u4e21\u65b9\uff09\n",
                "* ~a &nbsp;&nbsp;&nbsp;&nbsp;&nbsp;\uff08a\u3067\u306f\u306a\u3044\uff09"
            ]
        },
        {
            "cell_type": "markdown",
            "metadata": {
                "heading_collapsed": true
            },
            "source": [
                "## if \u6587"
            ]
        },
        {
            "cell_type": "markdown",
            "metadata": {
                "hidden": true
            },
            "source": [
                "`if`\u6587\u3092\u4f7f\u3046\u3068\uff0c\u3042\u308b\u30d6\u30fc\u30eb\u578b\uff08\u771f\u507d\uff09\u306e\u6761\u4ef6\u306e\u3082\u3068\u3067\u30b3\u30fc\u30c9\u3092\u5b9f\u884c\u3059\u308b\u3053\u3068\u304c\u53ef\u80fd\u3068\u306a\u308b\u3002\u4f8b\u3048\u3070\uff0c\u4ee5\u4e0b\u306e\u95a2\u6570\u3092\u8003\u3048\u308b\u3002\n",
                "\n",
                "`print(X, '\u306f\u6b63\u3067\u3059')`\n",
                "\n",
                "`X`\u306e\u5024\u304c\u6b63\u306e\u5834\u5408\uff0c\u3053\u306e\u95a2\u6570\u3092\u5b9f\u884c\u3057\u305f\u3044\u3068\u3059\u308b\u3002"
            ]
        },
        {
            "cell_type": "code",
            "execution_count": null,
            "metadata": {},
            "outputs": [],
            "source": []
        },
        {
            "cell_type": "code",
            "execution_count": null,
            "metadata": {},
            "outputs": [],
            "source": [
                "\n",
                "\n",
                "",
                ""
            ]
        },
        {
            "cell_type": "markdown",
            "metadata": {
                "hidden": true
            },
            "source": [
                "\u6ce8\u610f\u70b9\n",
                "* `if`\u3068`else` \u3067\u59cb\u307e\u308b\u6761\u4ef6\u3092\u793a\u3059\u884c\u306e\u6700\u5f8c\u306f`:`\u3068\u306a\u308b\u3002\u5165\u308c\u5fd8\u308c\u308b\u3068\u30a8\u30e9\u30fc\u3068\u306a\u308b\u3002\n",
                "* `print()`\u306e\u884c\u306f\uff14\u3064\u306e\u534a\u89d2\u30b9\u30da\u30fc\u30b9\u306e\u30a4\u30f3\u30c7\u30f3\u30c8\u304c\u5165\u308b\u3002\u5165\u308c\u5fd8\u308c\u308b\u3068\u30a8\u30e9\u30fc\u3068\u306a\u308b\u3002\n",
                "* `else`\u3068\u306f\u300c`X>0`\u4ee5\u5916\u306e\u5834\u5408\u300d\u3068\u3044\u3046\u610f\u5473\u3002\n",
                "* `pass`\u306f\u300c\u4f55\u3082\u3057\u306a\u3044\u300d\u3068\u3044\u3046\u610f\u5473\u3002\n",
                "\n",
                "\u3053\u3053\u3067`else`\u4ee5\u4e0b\u3092\u7701\u7565\u3057\u3066\u3082\u30a8\u30e9\u30fc\u306b\u306f\u306a\u3089\u306a\u3044\uff08\u7d50\u679c\u3082\u5909\u308f\u3089\u306a\u3044\uff09\u3002"
            ]
        },
        {
            "cell_type": "code",
            "execution_count": null,
            "metadata": {},
            "outputs": [],
            "source": []
        },
        {
            "cell_type": "code",
            "execution_count": null,
            "metadata": {},
            "outputs": [],
            "source": [
                "\n",
                "\n",
                "",
                ""
            ]
        },
        {
            "cell_type": "code",
            "execution_count": null,
            "metadata": {},
            "outputs": [],
            "source": [
                "\n"
            ]
        },
        {
            "cell_type": "markdown",
            "metadata": {
                "hidden": true
            },
            "source": [
                "\u4e21\u65b9\u3068\u3082\u4f55\u3082\u8868\u793a\u3055\u308c\u306a\u3044\u3002\n",
                "\n",
                "---"
            ]
        },
        {
            "cell_type": "markdown",
            "metadata": {
                "hidden": true
            },
            "source": [
                "\u6b21\u306b\uff0c\u8907\u6570\u306e\u6761\u4ef6\u3092\u5c0e\u5165\u3059\u308b\u305f\u3081\u306b\u6b21\u306e\u95a2\u6570\u3092\u8003\u3048\u308b\u3002\n",
                "\n",
                "1. `print(X, '\u306f\u6b63\u3067\u3059')`\n",
                "1. `print(X, '\u306f\u30bc\u30ed\u3067\u3059')`\n",
                "1. `print(X, '\u306f\u8ca0\u3067\u3059')`\n",
                "\n",
                "`X`\u306e\u5024\u304c\u6b63\u306e\u5834\u5408\u306f`\uff11`\u3092\uff0c\u30bc\u30ed\u306e\u5834\u5408\u306f`\uff12`\u3092\uff0c\u8ca0\u306e\u5834\u5408\u306f`\uff13`\u3092\u8868\u793a\u3057\u305f\u3044\u3068\u3059\u308b\u3002"
            ]
        },
        {
            "cell_type": "code",
            "execution_count": null,
            "metadata": {},
            "outputs": [],
            "source": []
        },
        {
            "cell_type": "code",
            "execution_count": null,
            "metadata": {},
            "outputs": [],
            "source": [
                "\n",
                "\n",
                "",
                "",
                "",
                ""
            ]
        },
        {
            "cell_type": "markdown",
            "metadata": {
                "hidden": true
            },
            "source": [
                "\u6ce8\u610f\u70b9\n",
                "* `if`, `elif`, `else` \u3067\u59cb\u307e\u308b\u6761\u4ef6\u3092\u793a\u3059\u884c\u306e\u6700\u5f8c\u306f`:`\u3068\u306a\u308b\u3002\u5165\u308c\u5fd8\u308c\u308b\u3068\u30a8\u30e9\u30fc\u3068\u306a\u308b\u3002\n",
                "* `print()`\u306e\u884c\u306f\uff14\u3064\u306e\u534a\u89d2\u30b9\u30da\u30fc\u30b9\u306e\u30a4\u30f3\u30c7\u30f3\u30c8\u304c\u5165\u308b\u3002\u5165\u308c\u5fd8\u308c\u308b\u3068\u30a8\u30e9\u30fc\u3068\u306a\u308b\u3002\n",
                "* `else`\u306e\u884c\u306b`X<0`\u306f\u4e0d\u8981\uff08\u6b8b\u308a\u306e\u53ef\u80fd\u6027\u306f`X<0`\u3057\u304b\u306a\u3044\u305f\u3081\uff09\n",
                "* `elif`\u306f`else if`\u306e\u7701\u7565\u5f62\u3067\u3042\u308a\uff0c\uff12\u3064\u76ee\u306e\u6761\u4ef6\u3092\u5b9a\u7fa9\u3059\u308b\u3002\n",
                "* `elif`\u306f`if`\u3068`else`\u306e\u9593\u306b\u8907\u6570\u5165\u308c\u308b\u3053\u3068\u304c\u53ef\u80fd"
            ]
        },
        {
            "cell_type": "markdown",
            "metadata": {
                "heading_collapsed": true
            },
            "source": [
                "## for \u30eb\u30fc\u30d7"
            ]
        },
        {
            "cell_type": "markdown",
            "metadata": {
                "hidden": true
            },
            "source": [
                "`for`\u30eb\u30fc\u30d7\u306f\u540c\u3058\u30b3\u30fc\u30c9\u3092\u8907\u6570\u56de\u30ea\u30d4\u30fc\u30c8\u3057\u3066\u5b9f\u884c\u3057\u305f\u3044\u5834\u5408\u306b\u6709\u52b9\u306a\u65b9\u6cd5\u3067\u3042\u308b\u3002\u4f8b\u3048\u3070\uff0c\u6b21\u306e\u30ea\u30b9\u30c8\u306b\u3042\u308b\u540d\u524d\u3092\u8868\u793a\u3057\u305f\u3044\u3068\u3059\u308b\u3002"
            ]
        },
        {
            "cell_type": "code",
            "execution_count": null,
            "metadata": {},
            "outputs": [],
            "source": []
        },
        {
            "cell_type": "code",
            "execution_count": null,
            "metadata": {},
            "outputs": [],
            "source": [
                "\n"
            ]
        },
        {
            "cell_type": "markdown",
            "metadata": {
                "hidden": true
            },
            "source": [
                "\u8aac\u660e\u3068\u6ce8\u610f\u70b9\n",
                "* `for`\u304c\u3042\u308b\u4e00\u884c\u76ee\u306f`:`\u3067\u7d42\u308f\u308b\u3002\n",
                "* `i`\u306f`name_list`\u306b\u3042\u308b\u305d\u308c\u305e\u308c\u306e\u8981\u7d20\u3092\u793a\u3059\u30c0\u30df\u30fc\u8a18\u53f7\u3002\n",
                "* `name_list`\u306b\u3042\u308b\u8981\u7d20\u3092\u6700\u521d\u304b\u3089\u4e00\u3064\u305a\u3064\u5b9f\u884c\u3059\u308b\u3002\n",
                "* \uff12\u884c\u76ee\u306f\uff14\u3064\u306e\u534a\u89d2\u30b9\u30da\u30fc\u30b9\u304c\u30a4\u30f3\u30c7\u30f3\u30c8\u3057\u3066\u5165\u308b\u3002\n",
                "\n",
                "`for`\u30eb\u30fc\u30d7\u306e\u3088\u304f\u4f7f\u3046\u4f8b\u3068\u3057\u3066\u4ee5\u4e0b\u3092\u6319\u3052\u308b\u3002\u3053\u306e\u4f8b\u3067\u306f\uff0c\u30ea\u30b9\u30c8\u306b\u8981\u7d20\u3092\u8ffd\u52a0\u3059\u308b\u95a2\u6570\u3067\u3042\u308b`.append()`\u3092\u4f7f\u3046\u304c\uff0c\u3053\u306e\u95a2\u6570\u306b\u3064\u3044\u3066\u306f\u4ee5\u4e0b\u3067\u3088\u308a\u8a73\u3057\u304f\u8aac\u660e\u3059\u308b\u3002\n",
                "\n",
                "\u307e\u305a\u6b21\u306e\u30ea\u30b9\u30c8\u3092\u5b9a\u7fa9\u3059\u308b\u3002"
            ]
        },
        {
            "cell_type": "code",
            "execution_count": null,
            "metadata": {},
            "outputs": [],
            "source": []
        },
        {
            "cell_type": "markdown",
            "metadata": {
                "hidden": true
            },
            "source": [
                "\u305d\u308c\u305e\u308c\u306e\u8981\u7d20\u306e\uff12\u500d\u304b\u3089\u306a\u308b\u30ea\u30b9\u30c8\u3092\u4f5c\u6210\u3059\u308b\u3068\u3057\u3088\u3046\u3002"
            ]
        },
        {
            "cell_type": "code",
            "execution_count": null,
            "metadata": {},
            "outputs": [],
            "source": [
                "\n",
                "\n",
                ""
            ]
        },
        {
            "cell_type": "markdown",
            "metadata": {
                "hidden": true
            },
            "source": [
                "\u3053\u306e\u30eb\u30fc\u30d7\u306e\u8003\u3048\u65b9\uff1a\n",
                "\n",
                "1. \u7a7a\u306e\u30ea\u30b9\u30c8\u306e\u4f5c\u6210\n",
                "1. \u3053\u3053\u304b\u3089`for`\u30eb\u30fc\u30d7\u306e\u59cb\u307e\u308a\u3002`i`\u306f\u30ea\u30b9\u30c8`[1,2,3,4,5]`\u306e\u8981\u7d20\u306e\u4ee3\u7406\u5909\u6570\u3067\u3042\u308a\uff0c\u30ea\u30b9\u30c8\u306e\u5de6\u304b\u3089\u4e00\u3064\u305a\u3064\u6b21\u306e\u884c\u306e`i`\u306b\u8a72\u5f53\u3059\u308b\u8981\u7d20\u3092\u4ee3\u5165\u3057\u3066\u8a55\u4fa1\u3059\u308b\u3002\n",
                "1. `.append()`\u306f`2*i`\u3092`my_list`\u306b\u8ffd\u52a0\u3059\u308b\u95a2\u6570\n",
                "\n",
                "`my_list`\u3092\u8868\u793a\u3057\u3088\u3046\u3002"
            ]
        },
        {
            "cell_type": "code",
            "execution_count": null,
            "metadata": {},
            "outputs": [],
            "source": []
        },
        {
            "cell_type": "markdown",
            "metadata": {
                "hidden": true
            },
            "source": [
                "\u4e0a\u306e\u4f8b\u3067\u306f\uff0c\uff13\u884c\u306e\u30b3\u30fc\u30c9\u3092\u66f8\u304d`for`\u30eb\u30fc\u30d7\u3092\u4f7f\u3044\u30ea\u30b9\u30c8\u3092\u4f5c\u6210\u3057\u305f\u3002\u5185\u5305\u8868\u8a18\uff08list comprehension\uff09\u3092\u4f7f\u3046\u3068\u540c\u3058\u7d50\u679c\u3092\uff11\u884c\u306e\u30b3\u30fc\u30c9\u3067\u5f97\u308b\u3053\u3068\u3082\u3067\u304d\u308b\u3002"
            ]
        },
        {
            "cell_type": "code",
            "execution_count": null,
            "metadata": {},
            "outputs": [],
            "source": []
        },
        {
            "cell_type": "markdown",
            "metadata": {
                "hidden": true
            },
            "source": [
                "\u4e0a\u306e`for`\u30eb\u30fc\u30d7\u3068\u5185\u5305\u8868\u8a18\u306f\u4ee5\u4e0b\u306e\u3088\u3046\u306a\u5bfe\u5fdc\u95a2\u4fc2\u306b\u3042\u308b\u3002\n",
                "\n",
                "<pre>\n",
                "<font color=blue>my_list</font> = [ ]\n",
                "for <font color=red>i</font> in <font color=orange>val_list</font>:\n",
                "    <font color=blue>my_list</font>.append(<font color=green>expression</font>)\n",
                "</pre>\n",
                "\n",
                "<pre>\n",
                "<font color=blue>my_list</font> = [<font color=green>expression</font> for <font color=red>i</font> in <font color=orange>val_list</font>]\n",
                "</pre>"
            ]
        },
        {
            "cell_type": "markdown",
            "metadata": {
                "hidden": true
            },
            "source": [
                "\u5185\u5305\u8868\u8a18\u306b`if`\u6587\u3092\u52a0\u3048\u308b\u3053\u3068\u3082\u53ef\u80fd\u3067\u3042\u308b\u3002\u6b21\u306e\u4f8b\u3067\u306f\uff0c\u5076\u6570\u306e\uff12\u500d\u3060\u3051\u3092\u30ea\u30b9\u30c8\u306b\u8ffd\u52a0\u3057\u3066\u3044\u308b\u3002"
            ]
        },
        {
            "cell_type": "code",
            "execution_count": null,
            "metadata": {},
            "outputs": [],
            "source": []
        },
        {
            "cell_type": "markdown",
            "metadata": {
                "hidden": true
            },
            "source": [
                "\u6b21\u306e\u4f8b\u3067\u306f\u5076\u6570\u309210\u500d\u306b\u3057\uff0c\u5947\u6570\u30921/10\u306b\u3057\u3066\u3044\u308b\u3002"
            ]
        },
        {
            "cell_type": "code",
            "execution_count": null,
            "metadata": {},
            "outputs": [],
            "source": []
        },
        {
            "cell_type": "markdown",
            "metadata": {
                "heading_collapsed": true
            },
            "source": [
                "## while \u30eb\u30fc\u30d7"
            ]
        },
        {
            "cell_type": "markdown",
            "metadata": {
                "hidden": true
            },
            "source": [
                "`for`\u30eb\u30fc\u30d7\u3068\u540c\u69d8\uff0c`while`\u30eb\u30fc\u30d7\u3082\u30b3\u30fc\u30c9\u3092\u8907\u6570\u56de\u5b9f\u884c\u3057\u305f\u3044\u5834\u5408\u306b\u4f7f\u3046\u3002\uff12\u3064\u306f\u4ee5\u4e0b\u306e\u70b9\u3067\u9055\u3044\u304c\u3042\u308b\u3002\n",
                "\n",
                "* `for`\u30eb\u30fc\u30d7\u306f\u4e0e\u3048\u3089\u308c\u305f\u30ea\u30b9\u30c8\u306b\u5f93\u3044\u30eb\u30fc\u30d7\u304c\u5b9f\u884c\u3055\u308c\u308b\u3002\n",
                "* `while`\u30eb\u30fc\u30d7\u306f\u3042\u308b\u6761\u4ef6\u304c\u6e80\u305f\u3055\u308c\u308b\u307e\u3067\u30eb\u30fc\u30d7\u304c\u5b9f\u884c\u3055\u308c\u308b\u3002\n",
                "\n",
                "\u4f8b\u3068\u3057\u3066\uff0c\u4e0a\u3067\u5b9a\u7fa9\u3057\u305f`name_list`\u3092\u8868\u793a\u3059\u308b\u30eb\u30fc\u30d7\u3092\u8003\u3048\u308b\u3002"
            ]
        },
        {
            "cell_type": "code",
            "execution_count": null,
            "metadata": {},
            "outputs": [],
            "source": []
        },
        {
            "cell_type": "code",
            "execution_count": null,
            "metadata": {},
            "outputs": [],
            "source": [
                "\n",
                "\n",
                ""
            ]
        },
        {
            "cell_type": "markdown",
            "metadata": {
                "hidden": true
            },
            "source": [
                "\u8aac\u660e\u3068\u6ce8\u610f\u70b9\n",
                "* `while`\u304c\u3042\u308b\u4e00\u884c\u76ee\u306f`:`\u3067\u7d42\u308f\u308b\u3002\n",
                "* `i`\u306f\u6761\u4ef6\u3092\u8868\u3059\u30ab\u30a6\u30f3\u30bf\u30fc\u306e\u5f79\u5272\u3068`name_list`\u306e\u8981\u7d20\u306e\u30a4\u30f3\u30c7\u30c3\u30af\u30b9\u306e\u5f79\u5272\u304c\u3042\u308b\n",
                "* \uff11\u884c\u76ee\u306e\u610f\u5473\uff1a$i<=4$\u306e\u6761\u4ef6\u304c\u6e80\u305f\u3055\u308c\u6563\u308b\u9650\u308a\uff0c\u4e0b\u306b\u7d9a\u304f\u30b3\u30fc\u30c9\u3092\u53cd\u5fa9\u5b9f\u884c\u3059\u308b\uff08\u30bf\u30a4\u30d7\u3059\u308b\u6587\u5b57\u6570\u3092\u5c11\u306a\u304f\u3059\u308b\u305f\u3081\u306b$i<5$\u3068\u66f8\u304f\u5834\u5408\u304c\u591a\u3044\n",
                "* \uff12\u884c\u76ee\u306e\u610f\u5473\uff1a`name_list`\u306e`i`\u756a\u76ee\u306e\u8981\u7d20\u3092\u8868\u793a\n",
                "* \uff13\u884c\u76ee\u306e\u610f\u5473\uff1a\u30ab\u30a6\u30f3\u30bf\u30fc`i`\u306e\u5024\u3092`1`\u5897\u3084\u3059\n",
                "    * \u5148\u306b\u53f3\u8fba\u3092\u8a55\u4fa1\u3057\u305f\u5f8c\uff0c\u305d\u308c\u3092\u5de6\u8fba\u306b\u4ee3\u5165\u3059\u308b\u3068\u8003\u3048\u308b\u3002\uff08\u65b9\u7a0b\u5f0f\u3068\u3057\u3066\u306f\u8003\u3048\u306a\u3044\uff09\n",
                "* \uff12\u884c\u76ee\u3068\uff13\u884c\u76ee\u306f\uff14\u3064\u306e\u534a\u89d2\u30b9\u30da\u30fc\u30b9\u304c\u30a4\u30f3\u30c7\u30f3\u30c8\u3057\u3066\u5165\u308b\u3002"
            ]
        },
        {
            "cell_type": "markdown",
            "metadata": {
                "heading_collapsed": true
            },
            "source": [
                "## \u95a2\u6570"
            ]
        },
        {
            "cell_type": "markdown",
            "metadata": {
                "hidden": true
            },
            "source": [
                "\u30b3\u30fc\u30c9\u3092\u66f8\u304f\u3046\u3048\u3067\u95a2\u6570\u306f\u975e\u5e38\u306b\u91cd\u8981\u306a\u5f79\u5272\u3092\u679c\u305f\u3059\u3002Python\u306b\u306f\u7d44\u307f\u8fbc\u307f\u95a2\u6570\uff08\u4e8b\u524d\u306b\u6e96\u5099\u3055\u308c\u305f\u95a2\u6570; built-in functions\uff09\u304c\u6570\u591a\u304f\u3042\u308a\uff0c\u4e0a\u3067\u4f7f\u3063\u305f`print()`\u3082\u7d44\u307f\u8fbc\u307f\u95a2\u6570\u3067\u3042\u308b\u3002\u7d44\u307f\u8fbc\u307f\u95a2\u6570\u306f\u30c7\u30fc\u30bf\u578b\u306b\u3088\u3063\u3066\u69d8\u3005\u306a\u3082\u306e\u304c\u5b58\u5728\u3059\u308b\u304c\u3001\u3053\u3053\u3067\u306f\u30d7\u30ed\u30b0\u30e9\u30de\u30fc\u81ea\u4fe1\u304c\u4f5c\u6210\u3059\u308b\u95a2\u6570\u306b\u3064\u3044\u3066\u8aac\u660e\u3059\u308b\u3002\n",
                "\n",
                "\u95a2\u6570\u306b\u306f\u5f15\u6570\u304c\u8a2d\u5b9a\u3055\u308c\u308b\u304c\uff08\u7701\u7565\u3055\u308c\u308b\u5834\u5408\u3082\u3042\u308b\uff09\u3001\u5927\u304d\u304f\u5206\u3051\u3066\uff12\u7a2e\u985e\u5b58\u5728\u3059\u308b\u3002\n",
                "* **\u4f4d\u7f6e\u5f15\u6570**\uff08Positional Arguments\uff09\n",
                "* **\u30ad\u30fc\u30ef\u30fc\u30c9\u5c02\u7528\u5f15\u6570**\uff08Keyward Only Arguments\uff09\n",
                "\n",
                "\u9806\u756a\u306b\u8aac\u660e\u3059\u308b\u3002"
            ]
        },
        {
            "cell_type": "markdown",
            "metadata": {
                "hidden": true
            },
            "source": [
                "### \u4f4d\u7f6e\u5f15\u6570\uff08Positional Arguments\uff09"
            ]
        },
        {
            "cell_type": "markdown",
            "metadata": {
                "hidden": true
            },
            "source": [
                "\u6b21\u306e\u4f8b\u3092\u8003\u3048\u3088\u3046\u3002\u3053\u308c\u306f\u6570\u5b57\u306e\uff12\u4e57\u3092\u8a08\u7b97\u3059\u308b\u95a2\u6570\u3067\u3042\u308b\u3002"
            ]
        },
        {
            "cell_type": "code",
            "execution_count": null,
            "metadata": {},
            "outputs": [],
            "source": [
                "\n"
            ]
        },
        {
            "cell_type": "markdown",
            "metadata": {
                "hidden": true
            },
            "source": [
                "\u8aac\u660e\uff1a\n",
                "* \uff11\u884c\u76ee\uff1a\n",
                "    * `def`\u3067\u59cb\u307e\u308a\uff08`def`\u306fdefinition\u306e\u7701\u7565\u5f62\uff09`:`\u3067\u7d42\u308f\u308b\n",
                "    * `func_0`\u304c\u95a2\u6570\u540d\uff0c`x`\u304c\u7b2c\uff11\u5f15\u6570\uff08\u3072\u304d\u3059\u3046\uff09\u3067\u3042\u308a\u552f\u4e00\u306e\u5f15\u6570\u3067\u3042\u308b\u3002\n",
                "* \uff12\u884c\u76ee\uff1a\n",
                "    * `x**2`\u3068\u3044\u3046\u8fd4\u308a\u5024\uff08\u623b\u308a\u5024\uff09\u306e\u8a2d\u5b9a\u3092\u3059\u308b\n",
                "    * `return`\u306f\u8a55\u4fa1\u3057\u305f\u5024\u3092\u300c\u8fd4\u3059\u300d\u3068\u3044\u3046\u610f\u5473"
            ]
        },
        {
            "cell_type": "code",
            "execution_count": null,
            "metadata": {},
            "outputs": [],
            "source": []
        },
        {
            "cell_type": "markdown",
            "metadata": {
                "hidden": true
            },
            "source": [
                "\u8907\u6570\u306e\u4f4d\u7f6e\u5f15\u6570\u3092\u8a2d\u5b9a\u3059\u308b\u3053\u3068\u3082\u53ef\u80fd\u3067\u3042\u308b\u3002\u6b21\u306e\u4f8b\u3067\u4f7f\u3046`sum()`\u306f\uff0c\u6570\u5b57\u306e\u5408\u8a08\u3092\u8a08\u7b97\u3059\u308b\u95a2\u6570\u3067\u3042\u308a\uff0c`()`\u306e\u4e2d\u306b\u306f\u30bf\u30d7\u30eb\u3084\u30ea\u30b9\u30c8\u304c\u5165\u308b\u3002\u5373\u3061\uff0c\u30bf\u30d7\u30eb\u3084\u30ea\u30b9\u30c8\u306e\u8981\u7d20\u306e\u5408\u8a08\u3092\u8fd4\u3059\u95a2\u6570\u3068\u306a\u308b\u3002"
            ]
        },
        {
            "cell_type": "code",
            "execution_count": null,
            "metadata": {},
            "outputs": [],
            "source": [
                "\n"
            ]
        },
        {
            "cell_type": "code",
            "execution_count": null,
            "metadata": {},
            "outputs": [],
            "source": []
        },
        {
            "cell_type": "markdown",
            "metadata": {
                "hidden": true
            },
            "source": [
                "`a`\u304c\u7b2c\uff11\u5f15\u6570\u3001`b`\u304c\u7b2c\uff12\u5f15\u6570\u3067\u3042\u308b\u3002\u4f4d\u7f6e\u5f15\u6570\u306e\u9806\u756a\u3092\u9593\u9055\u3048\u308b\u3068\u610f\u56f3\u3057\u306a\u3044\u7d50\u679c\u306b\u3064\u306a\u304c\u308b\u306e\u3067\u6ce8\u610f\u304c\u5fc5\u8981\u3002"
            ]
        },
        {
            "cell_type": "code",
            "execution_count": null,
            "metadata": {},
            "outputs": [],
            "source": []
        },
        {
            "cell_type": "markdown",
            "metadata": {
                "hidden": true
            },
            "source": [
                "**\u95a2\u6570\u3092\u5b9f\u884c\u3059\u308b\u969b**\u306b\u3001\u4f4d\u7f6e\u5f15\u6570\u306b`=`\u3092\u4f7f\u3063\u3066\u5024\u3092\u6307\u5b9a\u3059\u308b\u3053\u3068\u3082\u53ef\u80fd\u3067\u3042\u308b\u3002"
            ]
        },
        {
            "cell_type": "code",
            "execution_count": null,
            "metadata": {},
            "outputs": [],
            "source": []
        },
        {
            "cell_type": "markdown",
            "metadata": {
                "hidden": true
            },
            "source": [
                "\u4f4d\u7f6e\u5f15\u6570\u306b`=`\u3092\u4f7f\u3046\u5229\u70b9\u306f\u3001\u5f15\u6570\u306e\u9806\u756a\u3092\u5909\u3048\u308b\u3053\u3068\u304c\u53ef\u80fd\u3068\u306a\u308b\u3053\u3068\u3067\u3042\u308b\u3002"
            ]
        },
        {
            "cell_type": "code",
            "execution_count": null,
            "metadata": {},
            "outputs": [],
            "source": []
        },
        {
            "cell_type": "markdown",
            "metadata": {
                "hidden": true
            },
            "source": [
                "\u305f\u3060\u3057\u3001`=`\u3092\u4f7f\u3046\u5834\u5408\u306f\u5fc5\u305a`=`\u3092\u4f7f\u3046\u5f15\u6570\u3092\u53f3\u7aef\u306b\u4e26\u3079\u308b\u3053\u3068\u3002\u3053\u306e\u30eb\u30fc\u30eb\u304c\u5b88\u3089\u308c\u306a\u3044\u3068\u30a8\u30e9\u30fc\u3068\u306a\u308b\u3002"
            ]
        },
        {
            "cell_type": "code",
            "execution_count": null,
            "metadata": {},
            "outputs": [],
            "source": []
        },
        {
            "cell_type": "markdown",
            "metadata": {
                "hidden": true
            },
            "source": [
                "\u6b21\u306e\u4f8b\u306f\uff0c**\u95a2\u6570\u3092\u5b9a\u7fa9\u3059\u308b\u969b**\u3001`=`\u3092\u4f7f\u3063\u3066\u5f15\u6570\u306e\u30c7\u30d5\u30a9\u30eb\u30c8\u306e\u5024\u3092\u8a2d\u5b9a\u3059\u308b\u5834\u5408\u3067\u3042\u308b\u3002\u5373\u3061\uff0c\u5f15\u6570\u3092\u5165\u529b\u3059\u308b\u3068\u5165\u529b\u3055\u308c\u305f\u6570\u5024\u3092\u4f7f\u3046\u304c\uff0c\u5f15\u6570\u3092\u5165\u529b\u3057\u306a\u3044\u5834\u5408\u306f\u5f15\u6570\u3092\u4e88\u3081\u8a2d\u5b9a\u3057\u305f\u5024\uff08\u30c7\u30d5\u30a9\u30eb\u30c8\u306e\u5024\uff09\u3068\u3057\u3066\u8a08\u7b97\u3059\u308b\u3002"
            ]
        },
        {
            "cell_type": "code",
            "execution_count": null,
            "metadata": {},
            "outputs": [],
            "source": [
                "\n"
            ]
        },
        {
            "cell_type": "code",
            "execution_count": null,
            "metadata": {},
            "outputs": [],
            "source": []
        },
        {
            "cell_type": "code",
            "execution_count": null,
            "metadata": {},
            "outputs": [],
            "source": []
        },
        {
            "cell_type": "markdown",
            "metadata": {
                "hidden": true
            },
            "source": [
                "`=`\u3092\u4f7f\u3063\u3066\u6307\u5b9a\u3059\u308b\u3068\u9806\u756a\u3092\u6c17\u306b\u3059\u308b\u5fc5\u8981\u306f\u306a\u3044\u3002\uff08\u6700\u521d\u306e\u4f4d\u7f6e\u5f15\u6570\u306f`a`\u306b\u306a\u308b\u3053\u3068\u306b\u6ce8\u610f\uff09"
            ]
        },
        {
            "cell_type": "code",
            "execution_count": null,
            "metadata": {},
            "outputs": [],
            "source": []
        },
        {
            "cell_type": "markdown",
            "metadata": {
                "hidden": true
            },
            "source": [
                "\u3053\u3053\u3067\u306e`c=100`\u3084`b=3`\u306f\u30ad\u30fc\u30ef\u30fc\u30c9\u5f15\u6570\u3068\u547c\u3070\u308c\u308b\u3053\u3068\u3082\u3042\u308b\u304c\u3001\u4ee5\u4e0b\u3067\u8aac\u660e\u3059\u308b\u30ad\u30fc\u30ef\u30fc\u30c9\u5c02\u7528\u5f15\u6570\u3068\u306f\u7570\u306a\u308b\u3053\u3068\u306b\u6ce8\u610f\u3057\u3088\u3046\u3002\n",
                "\n",
                "---\n",
                "`func_0()`\u306e\u5834\u5408\uff0c\u5f15\u6570\u306e\u6570\u306f\uff11\u306b\u56fa\u5b9a\u3055\u308c\u3066\u304a\u308a\uff0c`func_1()`\u306e\u4f4d\u7f6e\u5f15\u6570\u306f\uff12\u306b\u56fa\u5b9a\u3055\u308c\u3066\u3044\u308b\u3002\u4f4d\u7f6e\u5f15\u6570\u306e\u6570\u304c\u6307\u5b9a\u3055\u308c\u305f\u6570\u3068\u5408\u308f\u306a\u3044\u3068\u30a8\u30e9\u30fc\u304c\u767a\u751f\u3059\u308b\u3002\u3067\u306f\uff0c\u4f4d\u7f6e\u5f15\u6570\u306e\u6570\u304c\u4e8b\u524d\u306b\u6c7a\u307e\u3063\u3066\u3044\u306a\u3044\u5834\u5408\u306f\u3069\u3046\u3059\u308b\u306e\u304b\u3002\u4f8b\u3048\u3070\uff0c`func_3(1,2)`\u3068\u66f8\u3044\u3066\u3082`func_3(1,2,3,4,5,6)`\u3068\u66f8\u3044\u3066\u3082\u4f4d\u7f6e\u5f15\u6570\u306e\u5408\u8a08\u3092\u8a08\u7b97\u3057\u305f\u3044\u3068\u3057\u3088\u3046\u3002\u3053\u306e\u5834\u5408\uff0c\u4f4d\u7f6e\u5f15\u6570\u306e\u4ee3\u308f\u308a\u306b`*args`\u3092\u4f7f\u3046\u3002"
            ]
        },
        {
            "cell_type": "code",
            "execution_count": null,
            "metadata": {},
            "outputs": [],
            "source": [
                "\n"
            ]
        },
        {
            "cell_type": "code",
            "execution_count": null,
            "metadata": {},
            "outputs": [],
            "source": []
        },
        {
            "cell_type": "code",
            "execution_count": null,
            "metadata": {},
            "outputs": [],
            "source": []
        },
        {
            "cell_type": "markdown",
            "metadata": {
                "hidden": true
            },
            "source": [
                "\u3067\u306f`*args`\u306f\u4f55\u3092\u8fd4\u3057\u3066\u3044\u308b\u306e\u3060\u308d\u3046\u3002\u3053\u308c\u3092\u7406\u89e3\u3059\u308b\u305f\u3081\u306b\u6b21\u306e\u4f8b\u3092\u8003\u3048\u3088\u3046\u3002"
            ]
        },
        {
            "cell_type": "code",
            "execution_count": null,
            "metadata": {},
            "outputs": [],
            "source": []
        },
        {
            "cell_type": "markdown",
            "metadata": {
                "hidden": true
            },
            "source": [
                "\u3053\u3053\u3067\u306f\u30bf\u30d7\u30eb`(1,2,3)`\u3092\u8868\u793a\u3057\u3066\u3044\u308b\u3002\u6b21\u306b\u3001`*`\u3092\u52a0\u3048\u3066\u307f\u308b\u3002"
            ]
        },
        {
            "cell_type": "code",
            "execution_count": null,
            "metadata": {},
            "outputs": [],
            "source": []
        },
        {
            "cell_type": "markdown",
            "metadata": {
                "hidden": true
            },
            "source": [
                "\u3053\u308c\u306f\u6b21\u306e\u30b3\u30fc\u30c9\u306e\u8fd4\u308a\u5024\u3068\u540c\u3058\u3067\u3042\u308b\u3002"
            ]
        },
        {
            "cell_type": "code",
            "execution_count": null,
            "metadata": {},
            "outputs": [],
            "source": []
        },
        {
            "cell_type": "markdown",
            "metadata": {
                "hidden": true
            },
            "source": [
                "\u5373\u3061\u3001`*`\u306f\u30bf\u30d7\u30eb\u3067\u3042\u308b`(1,2,3)`\u3092`1,2,3`\u306b\u7f6e\u304d\u63db\u3048\u3066\u3044\u308b\u3002\u3053\u306e\u3088\u3046\u306a\u7f6e\u304d\u63db\u3048\u3092\u300c\u5c55\u958b\u3059\u308b\u300d\uff08unpack\uff09\u3068\u547c\u3076\u3002\u3053\u306e`*`\u306e\u5f79\u5272\u3092\u5ff5\u982d\u306b\u6b21\u306e\u95a2\u6570\u3092\u4f7f\u3044`*`\u3068`args`\u306e\u5f79\u5272\u3092\u5206\u3051\u3066\u8003\u3048\u3066\u307f\u308b\u3002"
            ]
        },
        {
            "cell_type": "code",
            "execution_count": null,
            "metadata": {},
            "outputs": [],
            "source": [
                "\n",
                "\n",
                "",
                ""
            ]
        },
        {
            "cell_type": "markdown",
            "metadata": {
                "hidden": true
            },
            "source": [
                "`args`\u306f\u5f15\u6570\u306e\u30bf\u30d7\u30eb\u3067\u3042\u308b\u3053\u3068\u304c\u308f\u304b\u308b\u3002\u6b21\u306b`*`\u3092\u52a0\u3048\u308b\u3002"
            ]
        },
        {
            "cell_type": "code",
            "execution_count": null,
            "metadata": {},
            "outputs": [],
            "source": [
                "\n",
                "\n",
                "",
                ""
            ]
        },
        {
            "cell_type": "markdown",
            "metadata": {
                "hidden": true
            },
            "source": [
                "\u3053\u3053\u304b\u3089\u5206\u304b\u308b\u3053\u3068\u306f\u3001`func_temp()`\u306e`*args`\u306f\u5f15\u6570\u3092\u30bf\u30d7\u30eb\u306b\u3057\u3001`print()`\u306e`*args`\u306f\u30bf\u30d7\u30eb\u3092\u5c55\u958b\u3057\u3066\u3044\u308b\u306e\u3067\u3042\u308b\u3002\u3053\u306e\u6027\u8cea\u3092\u4f7f\u3046\u3053\u3068\u306b\u3088\u308a\u3001\u95a2\u6570\u306b\u4efb\u610f\u306e\u6570\u306e\u5f15\u6570\u3092\u6307\u5b9a\u3059\u308b\u3053\u3068\u304c\u53ef\u80fd\u3068\u306a\u308b\u3002\n",
                "\n",
                "\uff1c\u30b3\u30e1\u30f3\u30c8\uff1e\n",
                "* `*args`\u306e`args`\u306farguments\uff08\u5f15\u6570\uff09\u306e\u7701\u7565\u5f62\u3067\u3042\u308b\u3002\n",
                "* `*args`\u306e\u4ee3\u308f\u308a\u306b`*aaa`\u3084`*abc`\u3068\u3057\u3066\u3082\u540c\u3058\u7d50\u679c\u3092\u3048\u308b\u3053\u3068\u304c\u3067\u304d\u308b\u3002\u3057\u304b\u3057`*args`\u3068\u66f8\u304f\u306e\u304c\u6163\u4f8b\u3067\u3042\u308b\u3002\n",
                "\n",
                "\u6b21\u306e\u4f8b\u306f`*args`\u3068\u4f4d\u7f6e\u5f15\u6570\u3092\u4e00\u7dd2\u306b\u4f7f\u3046\u30b1\u30fc\u30b9\u3067\u3042\u308b\u3002"
            ]
        },
        {
            "cell_type": "code",
            "execution_count": null,
            "metadata": {},
            "outputs": [],
            "source": [
                "\n"
            ]
        },
        {
            "cell_type": "code",
            "execution_count": null,
            "metadata": {},
            "outputs": [],
            "source": []
        },
        {
            "cell_type": "markdown",
            "metadata": {
                "hidden": true
            },
            "source": [
                "\uff1c\u6ce8\u610f\uff1e\n",
                "\n",
                "`def func_4(*args, a)`\u3068\u3057\u3001`func_4(2,2,2,10)`\u3092\u5b9f\u884c\u3059\u308b\u3068\u30a8\u30e9\u30fc\u304c\u767a\u751f\u3059\u308b\u3002\u3053\u308c\u306f`*args`\u304c\u300c\u305d\u306e\u4ed6\u5168\u3066\u306e\u4f4d\u7f6e\u5f15\u6570\u300d\u3068\u3044\u3046\u610f\u5473\u3067\u3042\u308b\u305f\u3081\u3067\u3042\u308a\u3001\u5168\u3066\u306e\u4f4d\u7f6e\u5f15\u6570\u306e\u5f8c\u306b\u4f4d\u7f6e\u3057\u3066\u3053\u305d\u610f\u5473\u304c\u3042\u308b\u304b\u3089\u3067\u3042\u308b\u3002\u8a00\u3044\u63db\u3048\u308b\u3068\u3001`*args`\u306f\u4f4d\u7f6e\u5f15\u6570\u306e\u7d42\u308f\u308a\u3092\u610f\u5473\u3059\u308b\u3002"
            ]
        },
        {
            "cell_type": "markdown",
            "metadata": {
                "heading_collapsed": true,
                "hidden": true
            },
            "source": [
                "### \u30ad\u30fc\u30ef\u30fc\u30c9\u5c02\u7528\u5f15\u6570\uff08Keyward Only Arguments\uff09"
            ]
        },
        {
            "cell_type": "markdown",
            "metadata": {
                "hidden": true
            },
            "source": [
                "**\uff08\u3053\u306e\u30bb\u30af\u30b7\u30e7\u30f3\u306f\u30b9\u30ad\u30c3\u30d7\u3057\u3066\u3082OK\uff09**"
            ]
        },
        {
            "cell_type": "markdown",
            "metadata": {
                "hidden": true
            },
            "source": [
                "\uff1c\u91cd\u8981\uff1e\n",
                "* `def`\u306e\u4e2d\u3067\u30ad\u30fc\u30ef\u30fc\u30c9\u5c02\u7528\u5f15\u6570\u306f\u4f4d\u7f6e\u5f15\u6570\u306e\u5f8c\u306b\u8a2d\u5b9a\u3059\u308b\u3002\n",
                "    * `*args`\u304c\u3042\u308b\u5834\u5408\uff1a\u305d\u306e\u5f8c\u306b\u30ad\u30fc\u30ef\u30fc\u30c9\u5c02\u7528\u5f15\u6570\u3092\u8a2d\u5b9a\u3059\u308b\n",
                "        ```\n",
                "        def func(a, *args, \u30ad\u30fc\u30ef\u30fc\u30c9\u5c02\u7528\u5f15\u6570):\n",
                "            # code...\n",
                "        ```\n",
                "    * `*args`\u304c\u306a\u3044\u5834\u5408\uff1a\u5168\u3066\u306e\u4f4d\u7f6e\u5f15\u6570\u306e\u5f8c\u306b`*`\u3092\u633f\u5165\u3057\u3001\u305d\u306e\u5f8c\u306b\u30ad\u30fc\u30ef\u30fc\u30c9\u5c02\u7528\u5f15\u6570\u3092\u8a2d\u5b9a\u3059\u308b\n",
                "        ```\n",
                "        def func(a, *, \u30ad\u30fc\u30ef\u30fc\u30c9\u5c02\u7528\u5f15\u6570):\n",
                "            # code...\n",
                "        ```\n",
                "    * \u4f4d\u7f6e\u5f15\u6570\u3082`*args`\u3082\u306a\u3044\u5834\u5408\uff1a`*`\u306e\u5f8c\u306b\u30ad\u30fc\u30ef\u30fc\u30c9\u5c02\u7528\u5f15\u6570\u3092\u8a2d\u5b9a\u3059\u308b\n",
                "        ```\n",
                "        def func(*, \u30ad\u30fc\u30ef\u30fc\u30c9\u5c02\u7528\u5f15\u6570):\n",
                "            # code...\n",
                "        ```\n",
                "* \u4ee5\u4e0b\u3067\u8aac\u660e\u3059\u308b`**kwargs`\u3092\u4f7f\u3046\u5834\u5408\u3001`def`\u306e\u4e2d\u3067\u6700\u5f8c\u306e\u5f15\u6570\u3068\u3059\u308b\u3002\n",
                "* \u95a2\u6570\u3092\u8a55\u4fa1\u3059\u308b\u969b\u3001`=`\u3092\u4f7f\u3044\u5024\u3092\u8a2d\u5b9a\u3059\u308b\u3002\u6b21\u306e\u4f8b\u3067\u306f\u3001`z`\u304c\u30ad\u30fc\u30ef\u30fc\u30c9\u5c02\u7528\u5f15\u6570\u3002\n",
                "        ```\n",
                "        def func(a, *, z):\n",
                "            # code...\n",
                "        \n",
                "        func(a, z=10)\n",
                "        ```\n",
                "\n",
                "---\n",
                "\u6b21\u306e\u4f8b\u3067\u306f`a`\u3068`b`\u306f\u4f4d\u7f6e\u5f15\u6570\u3067\u3042\u308a`c`\u3068`d`\u306f\u30ad\u30fc\u30ef\u30fc\u30c9\u5c02\u7528\u5f15\u6570\u3002"
            ]
        },
        {
            "cell_type": "code",
            "execution_count": null,
            "metadata": {},
            "outputs": [],
            "source": [
                "\n",
                "\n",
                "",
                ""
            ]
        },
        {
            "cell_type": "markdown",
            "metadata": {
                "hidden": true
            },
            "source": [
                "`**kwargs`\u4ee5\u5916\u306e\u30ad\u30fc\u30ef\u30fc\u30c9\u5c02\u7528\u5f15\u6570\u304c\u8907\u6570\u3042\u308b\u5834\u5408\u3001\u95a2\u6570\u3092\u8a55\u4fa1\u3059\u308b\u969b\u3001\u305d\u306e\u4e2d\u306e\u3067\u306e\u9806\u756a\u3092\u5909\u66f4\u3057\u3066\u3082\u7d50\u679c\u306f\u540c\u3058\u306b\u306a\u308b\u3002"
            ]
        },
        {
            "cell_type": "code",
            "execution_count": null,
            "metadata": {},
            "outputs": [],
            "source": []
        },
        {
            "cell_type": "markdown",
            "metadata": {
                "hidden": true
            },
            "source": [
                "\u30c7\u30d5\u30a9\u30eb\u30c8\u306e\u5024\u3092\u8a2d\u5b9a\u3059\u308b\u5834\u5408\u306f\u3001`=`\u3092\u4f7f\u3046\uff08\u4f4d\u7f6e\u5f15\u6570\u3068\u540c\u3058\uff09\u3002"
            ]
        },
        {
            "cell_type": "code",
            "execution_count": null,
            "metadata": {},
            "outputs": [],
            "source": [
                "\n",
                "\n",
                "",
                ""
            ]
        },
        {
            "cell_type": "markdown",
            "metadata": {
                "hidden": true
            },
            "source": [
                "`*args`\u304c\u3042\u308b\u5834\u5408\u306e\u4f8b\u3002"
            ]
        },
        {
            "cell_type": "code",
            "execution_count": null,
            "metadata": {},
            "outputs": [],
            "source": [
                "\n",
                "\n",
                "",
                ""
            ]
        },
        {
            "cell_type": "markdown",
            "metadata": {
                "hidden": true
            },
            "source": [
                "---\n",
                "`*args`\u306f\u300c\u305d\u306e\u4ed6\u5168\u3066\u306e\u4f4d\u7f6e\u5f15\u6570\u300d\u3067\u3042\u308b\u304c\u3001\u305d\u308c\u306b\u5bfe\u5fdc\u3059\u308b\u300c\u305d\u306e\u4ed6\u5168\u3066\u306e\u30ad\u30fc\u30ef\u30fc\u30c9\u5c02\u7528\u5f15\u6570\u300d\u3092\u793a\u3059\u5909\u6570\u304c`**kwargs`\u3067\u3042\u308b\u3002\uff08`kwargs`\u306fkeyword arguments\u306e\u7701\u7565\u5f62\u3067\u3042\u308b\u3002\uff09\n",
                "\n",
                "`**kwargs`\u306e\u5f79\u5272\u3092\u8aac\u660e\u3059\u308b\u305f\u3081\u306b\u3001\u6b21\u306e\u4f8b\u3092\u8003\u3048\u3088\u3046\u3002"
            ]
        },
        {
            "cell_type": "code",
            "execution_count": null,
            "metadata": {},
            "outputs": [],
            "source": [
                "\n",
                "\n",
                "",
                ""
            ]
        },
        {
            "cell_type": "markdown",
            "metadata": {
                "hidden": true
            },
            "source": [
                "`func_8`\u306f`a`\u3068`b`\u3092\u30ad\u30fc\u30ef\u30fc\u30c9\u5c02\u7528\u5f15\u6570\u3068\u3059\u308b\u95a2\u6570\u3067\u3042\u308b\u3002\u305d\u308c\u3092\u8a55\u4fa1\u3059\u308b\u305f\u3081\u306b\u8f9e\u66f8`{'a':2, 'b':3}`\u3092\u4f7f\u3063\u3066\u3044\u308b\u304c\u3001\u3053\u3053\u3067\u306e`**`\u306e\u5f79\u5272\u306f\n",
                "* \u8f9e\u66f8\u30ad\u30fc`a`\u306e\u5024`2`\u306f`func_8`\u306e`a`\u306b\u3001\n",
                "* \u8f9e\u66f8\u30ad\u30fc`b`\u306e\u5024`3`\u306f`func_8`\u306e`b`\u306b\n",
                "\n",
                "\u5272\u308a\u5f53\u3066\u308b\u3053\u3068\u3067\u3042\u308b\u3002\u305d\u308c\u306b\u3088\u308a`5`\u3068\u3044\u3046\u8fd4\u308a\u5024\u3068\u306a\u308b\u3002\n",
                "\n",
                "\u66f4\u306b\u6b21\u306e\u95a2\u6570\u3092\u4f7f\u3044`kwargs`\u304c\u4f55\u304b\u3092\u8868\u793a\u3057\u3066\u307f\u3088\u3046\u3002"
            ]
        },
        {
            "cell_type": "code",
            "execution_count": null,
            "metadata": {},
            "outputs": [],
            "source": [
                "\n"
            ]
        },
        {
            "cell_type": "code",
            "execution_count": null,
            "metadata": {},
            "outputs": [],
            "source": []
        },
        {
            "cell_type": "markdown",
            "metadata": {
                "hidden": true
            },
            "source": [
                "`kwargs`\u306f\u8f9e\u66f8\u3067\u3042\u308b\u3053\u3068\u304c\u308f\u304b\u308b\u3002\u3053\u306e\u4f8b\u3067\u306f\u3001\u8f9e\u66f8\u30ad\u30fc\u306e\u5024\u3092\u5272\u308a\u5f53\u3066\u308b`**`\u306e\u5f79\u5272\u304c\u660e\u793a\u7684\u3067\u306f\u306a\u3044\u306e\u3067\u3001\u95a2\u6570\u3092\u5f15\u6570\u3068\u3059\u308b\u95a2\u6570\u3092\u4f8b\u3068\u3057\u3066\u8003\u3048\u308b\u3002"
            ]
        },
        {
            "cell_type": "code",
            "execution_count": null,
            "metadata": {},
            "outputs": [],
            "source": [
                "\n"
            ]
        },
        {
            "cell_type": "markdown",
            "metadata": {
                "hidden": true
            },
            "source": [
                "`func_10`\u3067\u306f`fn`\u304c\u95a2\u6570\u3067\u3042\u308a\u4f4d\u7f6e\u5f15\u6570\u3068\u3057\u3066\u8a2d\u5b9a\u3055\u308c\u3066\u3044\u308b\u3002\u3053\u3053\u3067\u306e`fn`\u306f\u95a2\u6570\u540d\uff08\u5373\u3061\u3001\u95a2\u6570\u306e\u300c\u53c2\u7167\u8a18\u53f7\u300d\uff09\u3067\u3042\u308b\u3053\u3068\u306b\u6ce8\u610f\u3057\u3088\u3046\u3002\u6b21\u306b\u3001\u5f15\u6570\u306b\u5165\u308c\u308b\u95a2\u6570\u306e\u4f8b\u3068\u3057\u3066\uff12\u3064\u306e\u5909\u6570\u3092\u8db3\u3057\u7b97\u3059\u308b\u95a2\u6570\u3092\u8003\u3048\u308b\u3002"
            ]
        },
        {
            "cell_type": "code",
            "execution_count": null,
            "metadata": {},
            "outputs": [],
            "source": [
                "\n"
            ]
        },
        {
            "cell_type": "code",
            "execution_count": null,
            "metadata": {},
            "outputs": [],
            "source": []
        },
        {
            "cell_type": "markdown",
            "metadata": {
                "hidden": true
            },
            "source": [
                "\u3053\u306e\u4f8b\u3067\u306f\u3001`x`\u3068`y`\u304c`kwargs`\u306b\u5165\u308a`{'x':3, 'y':4}`\u3068\u306a\u308b\u3002\u305d\u3057\u3066`**`\u306b\u3088\u308a`adder`\u306e`x`\u3068`y`\u306b\u5272\u308a\u5f53\u3066\u3089\u308c\u308b\u3053\u306e\u306b\u306a\u308b\u3002\u3053\u3053\u3067`func_10(adder(),\u30fb\u30fb\u30fb)`\u3068\u306a\u3063\u3066\u3044\u306a\u3044\u3053\u3068\u306b\u6ce8\u610f\u3057\u3088\u3046\u3002\u5f15\u6570\u306e`adder`\u306f\u95a2\u6570\u540d\u3067\u3042\u308a`adder()`\u3068\u3059\u308b\u3068\u95a2\u6570\u3092\u8a55\u4fa1\u3059\u308b\u3053\u3068\u306b\u306a\u308a\u30a8\u30e9\u30fc\u304c\u767a\u751f\u3059\u308b\u3002\n",
                "\n",
                "`*args`\u3068`**kwargs`\u306e\u4e21\u65b9\u3092\u540c\u6642\u306b\u4f7f\u3046\u3053\u3068\u3082\u3067\u304d\u308b\u3053\u3068\u3082\u899a\u3048\u3066\u304a\u3053\u3046\u3002"
            ]
        },
        {
            "cell_type": "markdown",
            "metadata": {
                "heading_collapsed": true,
                "hidden": true
            },
            "source": [
                "### `lambda`\u95a2\u6570"
            ]
        },
        {
            "cell_type": "markdown",
            "metadata": {
                "hidden": true
            },
            "source": [
                "\u4e0a\u306e\u4f8b\u3067\u306f`def`\u3092\u4f7f\u3046\u65b9\u6cd5\u3092\u7d39\u4ecb\u3057\u305f\u304c\uff0c\u8907\u96d1\u306a\u95a2\u6570\u3092\u5b9a\u7fa9\u3059\u308b\u5834\u5408\u306b\u3088\u304f\u4f7f\u308f\u308c\u308b\u3002\u4e00\u65b9\u3067\u5358\u7d14\u306a\u95a2\u6570\u306e\u5834\u5408\uff0c\u3088\u308a\u7c21\u5358\u306a\u65b9\u6cd5\u304c\u3042\u308b\u3002\u305d\u308c\u304c`lambda`\u95a2\u6570\u3067\u3042\u308b\u3002\u4f8b\u3068\u3057\u3066\uff0c$x^2$\u3092\u8a08\u7b97\u3059\u308b\u95a2\u6570\u3092\u8003\u3048\u3088\u3046\u3002"
            ]
        },
        {
            "cell_type": "code",
            "execution_count": null,
            "metadata": {},
            "outputs": [],
            "source": [
                "\n",
                "\n",
                ""
            ]
        },
        {
            "cell_type": "markdown",
            "metadata": {
                "hidden": true
            },
            "source": [
                "\u8907\u6570\u306e\u5f15\u6570\u306e\u5834\u5408"
            ]
        },
        {
            "cell_type": "code",
            "execution_count": null,
            "metadata": {},
            "outputs": [],
            "source": []
        },
        {
            "cell_type": "code",
            "execution_count": null,
            "metadata": {},
            "outputs": [],
            "source": []
        },
        {
            "cell_type": "markdown",
            "metadata": {},
            "source": [
                "## \u95a2\u6570\u3068\u30e1\u30bd\u30c3\u30c9"
            ]
        },
        {
            "cell_type": "markdown",
            "metadata": {},
            "source": [
                "Python\u306b\u306f\u300c\u95a2\u6570\uff08functions\uff09\u300d\u3068\u300c\u30e1\u30bd\u30c3\u30c9\uff08methods\uff09\u300d\u304c\u3042\u308a\uff0c\u57fa\u672c\u7684\u306b\u306f\u540c\u3058\u50cd\u304d\u3092\u3059\u308b\u3002\u3067\u306f\u3069\u3046\u7570\u306a\u308b\u306e\u304b\u3002\u3053\u308c\u3092\u7406\u89e3\u3059\u308b\u305f\u3081\u306b\u306f\uff0c\u6570\u5b57\u306e`1`\u3092\u542b\u3081\u3066\u300c\u5168\u3066\u304c\u30aa\u30d6\u30b8\u30a7\u30af\u30c8\u300d\u3068\u3044\u3046Python\u306e\u6839\u5e95\u306b\u3042\u308b\u8003\u3048\u65b9\u3092\u77e5\u308b\u5fc5\u8981\u304c\u3042\u308b\u3002\u3057\u304b\u3057\uff0c\u3053\u3053\u3067\u306f\u3053\u306e\u554f\u984c\u306b\u306f\u8e0f\u307f\u8fbc\u307e\u305a\uff0c\u30aa\u30d6\u30b8\u30a7\u30af\u30c8\u306b\u7279\u6709\u306a\u3082\u306e\u304b\u3069\u3046\u304b\u3067\u300c\u95a2\u6570\u300d\u3068\u300c\u30e1\u30bd\u30c3\u30c9\u300d\u306b\u533a\u5225\u3055\u308c\u308b\u3068\u601d\u3063\u3066\u5341\u5206\u3067\u3042\u308b\u3002\n",
                "\n",
                "\u4f8b\u3048\u3070\u3001\u4e0a\u3067\u5b9a\u7fa9\u3057\u305f`func_0()`\u3084`func_7()`\u306f\u95a2\u6570\u3067\u3042\u308a\uff0c\u7279\u5b9a\u306e\u30aa\u30d6\u30b8\u30a7\u30af\u30c8\u306b\u50cd\u304d\u304b\u3051\u308b\u3082\u306e\u3067\u306f\u306a\u3044\u3002\u5358\u306b\u5f15\u6570\u304b\u3089\u8a08\u7b97\u3057\u305f\u8fd4\u5024\u3092\u51fa\u529b\u3057\u3066\u3044\u308b\u3002\u4e00\u65b9\uff0c\u30e1\u30bd\u30c3\u30c9\u306f\u30aa\u30d6\u30b8\u30a7\u30af\u30c8\u7279\u6709\u306e\u95a2\u6570\u3068\u8003\u3048\u308b\u3068\u826f\u3044\u3060\u308d\u3046\u3002\u4f8b\u3068\u3057\u3066\uff0c\u6570\u5b57\u306e`1`\u3092\u8003\u3048\u3088\u3046\u3002`1`\u3068\u3044\u3046\u30aa\u30d6\u30b8\u30a7\u30af\u30c8\u306b\u306f\u69d8\u3005\u306a\u30e1\u30bd\u30c3\u30c9\u304c\u7528\u610f\u3055\u308c\u3066\u304a\u308a\uff0c\u305d\u306e\u30ea\u30b9\u30c8\u3092`dir()`\u3068\u3044\u3046\u95a2\u6570\u3092\u4f7f\u3046\u3053\u3068\u306b\u3088\u308a\u8868\u793a\u3067\u304d\u308b\u3002"
            ]
        },
        {
            "cell_type": "code",
            "execution_count": null,
            "metadata": {},
            "outputs": [],
            "source": []
        },
        {
            "cell_type": "markdown",
            "metadata": {},
            "source": [
                "\u3053\u306e\u4e2d\u306e\u4e0a\u306e\u65b9\u306b`__dir__`\u3068\u3042\u308b\u304c\u3053\u308c\u304c`dir()`\u3092\u793a\u3057\u3066\u3044\u308b\u3002`__str__`\u3068\u3042\u308b\u304c\uff0c\u3053\u308c\u306f\u6574\u6570`1`\u3092\u6587\u5b57\u5217\u306b\u5909\u63db\u3059\u308b\u95a2\u6570\u3067\u3042\u308b\u3002"
            ]
        },
        {
            "cell_type": "code",
            "execution_count": null,
            "metadata": {},
            "outputs": [],
            "source": []
        },
        {
            "cell_type": "code",
            "execution_count": null,
            "metadata": {},
            "outputs": [],
            "source": []
        },
        {
            "cell_type": "markdown",
            "metadata": {},
            "source": [
                "\u300c\u5168\u3066\u304c\u30aa\u30d6\u30b8\u30a7\u30af\u30c8\u300d\u306a\u306e\u3067\u30ea\u30b9\u30c8\u3082\u305d\u3046\u3067\u3042\u308b\u3002"
            ]
        },
        {
            "cell_type": "code",
            "execution_count": null,
            "metadata": {},
            "outputs": [],
            "source": []
        },
        {
            "cell_type": "code",
            "execution_count": null,
            "metadata": {},
            "outputs": [],
            "source": []
        },
        {
            "cell_type": "markdown",
            "metadata": {},
            "source": [
                "\u3053\u306e\u4e2d\u306b`append`\u3068\u3042\u308b\u304c\uff0c`for`\u30eb\u30fc\u30d7\u306e\u8aac\u660e\u3067\u4f7f\u3063\u305f\u30e1\u30bd\u30c3\u30c9\u3067\u3042\u308b\u3002"
            ]
        },
        {
            "cell_type": "code",
            "execution_count": null,
            "metadata": {},
            "outputs": [],
            "source": []
        },
        {
            "cell_type": "code",
            "execution_count": null,
            "metadata": {},
            "outputs": [],
            "source": []
        },
        {
            "cell_type": "markdown",
            "metadata": {},
            "source": [
                "\u6ce8\u610f\u3057\u3066\u6b32\u3057\u3044\u70b9\u306f\uff0c`list_0`\u306e\u5f8c\u306b`.append(100)`\u304c\u6765\u3066\u3044\u308b\u3053\u3068\u3067\u3042\u308b\u3002\u5148\u306b\u6765\u308b`list_0`\u3092\u5f15\u6570\u3068\u3057\u3066`appned()`\u306f\u95a2\u6570\u306e\u50cd\u304d\u3092\u3057\u3066\u3044\u308b\u3068\u8003\u3048\u308c\u3070\u826f\u3044\u3060\u308d\u3046\u3002\n",
                "\n",
                "\u4ed6\u306b`sort`\u3068\u3042\u308b\u304c\u3053\u308c\u306f\u8981\u7d20\u3092\u6607\u9806\u306b\u4e26\u3073\u66ff\u3048\u308b\u30e1\u30bd\u30c3\u30c9\u3067\u3042\u308b\u3002"
            ]
        },
        {
            "cell_type": "code",
            "execution_count": null,
            "metadata": {},
            "outputs": [],
            "source": []
        },
        {
            "cell_type": "code",
            "execution_count": null,
            "metadata": {},
            "outputs": [],
            "source": []
        },
        {
            "cell_type": "markdown",
            "metadata": {},
            "source": [
                "\u305c\u3072\u4ed6\u306e\u30e1\u30bd\u30c3\u30c9\u3092\u8a66\u3057\u3066\u6b32\u3057\u3044\u3002\u307e\u305f\u30aa\u30d6\u30b8\u30a7\u30af\u30c8\u306e\u30e1\u30bd\u30c3\u30c9\u3092\u8abf\u3079\u308b\u5834\u5408\uff0c`dir()`\u306e\u51fa\u529b\u306f\u898b\u306b\u304f\u3044\u306e\u3067[`see`\u30e2\u30b8\u30e5\u30fc\u30eb](https://pypi.org/project/see/)\u3092\u4f7f\u3046\u306e\u304c\u304a\u3059\u3059\u3081\u3067\u3042\u308b\uff08\u30e2\u30b8\u30e5\u30fc\u30eb\u306b\u3064\u3044\u3066\u306f\u6b21\u306e\u30bb\u30af\u30b7\u30e7\u30f3\u3092\u53c2\u7167\uff09\u3002\u3082\u3061\u308d\u3093\uff0cPython\u3084\u30e2\u30b8\u30e5\u30fc\u30eb\u306e\u8aac\u660e\u66f8\uff08docs\uff09\u3092\u30c1\u30a7\u30c3\u30af\u3059\u308b\u306e\u3082\u5fc5\u8981\u3067\u3042\u308d\u3046\u3002"
            ]
        },
        {
            "cell_type": "markdown",
            "metadata": {
                "heading_collapsed": true
            },
            "source": [
                "## \u30d1\u30c3\u30b1\u30fc\u30b8\u3068\u30e2\u30b8\u30e5\u30fc\u30eb"
            ]
        },
        {
            "cell_type": "markdown",
            "metadata": {
                "hidden": true
            },
            "source": [
                "Python\u306b\u306f\u7d44\u307f\u8fbc\u307f\u95a2\u6570\u304c\u591a\u304f\u7528\u610f\u3055\u308c\u3066\u3044\u308b\u3002\u4f8b\u3048\u3070\uff0c[\u3053\u306e\u30ea\u30f3\u30af](https://docs.python.org/ja/3/library/functions.html)\u3092\u53c2\u7167\u3002\u3057\u304b\u3057\u7d44\u307f\u8fbc\u307f\u95a2\u6570\u306b\u306f\u8a08\u91cf\u7d4c\u6e08\u5b66\u7528\u306e\u4fbf\u5229\u306a\u95a2\u6570\u306f\u7528\u610f\u3055\u308c\u3066\u3044\u306a\u3044\u3002\u305d\u3053\u3067\u6d3b\u8e8d\u3059\u308b\u306e\u304c\u30e2\u30b8\u30e5\u30fc\u30eb\uff08modules\uff09\u3084\u30d1\u30c3\u30b1\u30fc\u30b8\uff08package\uff09\u3068\u547c\u3070\u308c\u308b\u3082\u3067\u3042\u308b\u3002\u3082\u3061\u308d\u3093\u8a08\u91cf\u7d4c\u6e08\u5b66\u4ee5\u5916\u306e\u30e2\u30b8\u30e5\u30fc\u30eb\u3084\u30d1\u30c3\u30b1\u30fc\u30b8\u304c\u7121\u6570\u306b\u3042\u308a\uff0c\u4f7f\u3046\u7528\u9014\uff08\u4f8b\u3048\u3070\uff0c\u30b0\u30e9\u30d5\u3092\u63cf\u304f\uff09\u306b\u6cbf\u3063\u3066\u8aad\u307f\u8fbc\u3080\u3053\u3068\u306b\u306a\u308b\u3002\uff12\u3064\u306e\u9055\u3044\u3092\u7c21\u5358\u306b\u3044\u3046\u3068\n",
                "\n",
                "* \u30e2\u30b8\u30e5\u30fc\u30eb\u306f\uff11\u3064\u306e\u30d5\u30a1\u30a4\u30eb\uff08.py\uff09\u306b\u307e\u3068\u3081\u3089\u308c\u305f\u95a2\u6570\u7fa4\u3067\u3042\u308a\uff0c\n",
                "* \u30d1\u30c3\u30b1\u30fc\u30b8\u306f\u8907\u6570\u3064\u306e\u30d5\u30a1\u30a4\u30eb\uff08.py\uff09\u3067\u69cb\u6210\u3055\u308c\u3066\u3044\u308b\uff08\u30d5\u30a9\u30eb\u30c0\u30fc\u306b\u307e\u3068\u3081\u3089\u308c\u3066\u3044\u308b\uff09\n",
                "\n",
                "\u3068\u306a\u308b\u3002\u5f93\u3063\u3066\uff0c\u3042\u308b\u30d1\u30c3\u30b1\u30fc\u30b8\u306e\uff11\u3064\u306e\u30e2\u30b8\u30e5\u30fc\u30eb\u3092\u8aad\u307f\u8fbc\u3080\u3068\u3044\u3046\u3053\u3068\u304c\u53ef\u80fd\u3067\u3042\u308b\u3002\n",
                "\n",
                "\u307e\u305a\u4f8b\u3068\u3057\u3066`math`\u30e2\u30b8\u30e5\u30fc\u30eb\u3092\u8003\u3048\u308b\u3002\u540d\u524d\u304c\u793a\u3059\u3088\u3046\u306b\u6570\u5b66\u7528\u306e\u30e2\u30b8\u30e5\u30fc\u30eb\u3067\u3042\u308b\u3002\u4f7f\u3046\u305f\u3081\u306b\u306f`import`\u3092\u4f7f\u3063\u3066\u8aad\u307f\u8fbc\u3080\u3002"
            ]
        },
        {
            "cell_type": "markdown",
            "metadata": {
                "hidden": true
            },
            "source": [
                "\u30e2\u30b8\u30e5\u30fc\u30eb\u306e\u5168\u3066\u3092\u8aad\u307f\u8fbc\u3080\u3068\u30e2\u30b8\u30e5\u30fc\u30eb\u5185\u306e\u5168\u3066\u306e\u95a2\u6570\u304c\u4f7f\u7528\u53ef\u80fd\u3068\u306a\u308b\u3002"
            ]
        },
        {
            "cell_type": "code",
            "execution_count": null,
            "metadata": {},
            "outputs": [],
            "source": []
        },
        {
            "cell_type": "code",
            "execution_count": null,
            "metadata": {},
            "outputs": [],
            "source": []
        },
        {
            "cell_type": "markdown",
            "metadata": {
                "hidden": true
            },
            "source": [
                "\u3053\u306e\u5834\u5408\u30e2\u30b8\u30e5\u30fc\u30eb\u540d\u304c\u5fc5\u8981\u3068\u308a\uff0c\u300c`math`\u30e2\u30b8\u30e5\u30fc\u30eb\u306e`sqrt`\u300d\u3092\u6307\u5b9a\u3057\u3066\u3044\u308b\u3068\u3044\u3046\u610f\u5473\u3067\u3042\u308b\u3002\u3053\u308c\u306f\u4ed6\u306e\u30e2\u30b8\u30e5\u30fc\u30eb\u3068\u30d0\u30c3\u30c6\u30a3\u30f3\u30b0\u3057\u306a\u3044\u3088\u3046\u306b\u3059\u308b\u305f\u3081\u3067\u3042\u308b\u3002\n",
                "\n",
                "\u30e2\u30b8\u30e5\u30fc\u30eb\u540d\u304c\u9577\u3044\u5834\u5408\u306f\uff0c\u77ed\u3044\u540d\u524d\u3067\u8aad\u307f\u8fbc\u3080\u3053\u3068\u3082\u53ef\u80fd\u3067\u3042\u308b"
            ]
        },
        {
            "cell_type": "code",
            "execution_count": null,
            "metadata": {},
            "outputs": [],
            "source": []
        },
        {
            "cell_type": "code",
            "execution_count": null,
            "metadata": {},
            "outputs": [],
            "source": []
        },
        {
            "cell_type": "markdown",
            "metadata": {
                "hidden": true
            },
            "source": [
                "\u30e2\u30b8\u30e5\u30fc\u30eb\u5185\u306e\u7279\u5b9a\u306e\u95a2\u6570\u3060\u3051\u3092\u8aad\u307f\u8fbc\u3080\u3053\u3068\u3082\u53ef\u80fd\u3067\u3042\u308b\u3002"
            ]
        },
        {
            "cell_type": "code",
            "execution_count": null,
            "metadata": {},
            "outputs": [],
            "source": []
        },
        {
            "cell_type": "code",
            "execution_count": null,
            "metadata": {},
            "outputs": [],
            "source": []
        },
        {
            "cell_type": "markdown",
            "metadata": {
                "hidden": true
            },
            "source": [
                "\u3053\u306e\u8aad\u307f\u8fbc\u307f\u65b9\u6cd5\u306e\u5229\u70b9\u306f\u30e2\u30b8\u30e5\u30fc\u30eb\u540d\u3092\u7701\u7565\u3067\u304d\u308b\u3053\u3068\u3067\u3042\u308b\u3002\n",
                "\n",
                "\u901a\u5e38`import`\u6587\u306f\u30d5\u30a1\u30a4\u30eb\u306e\u6700\u521d\u306b\u66f8\u304d\uff0c\u3069\u306e\u30e2\u30b8\u30e5\u30fc\u30eb\u304c\u5c0e\u5165\u3055\u308c\u308b\u304b\u3092\u660e\u793a\u7684\u306b\u793a\u3059\u3068\u308f\u304b\u308a\u3084\u3059\u3044\u3002"
            ]
        },
        {
            "cell_type": "markdown",
            "metadata": {
                "heading_collapsed": true
            },
            "source": [
                "## \u3088\u304f\u4f7f\u3046\u7d44\u307f\u8fbc\u307f\u95a2\u6570"
            ]
        },
        {
            "cell_type": "code",
            "execution_count": null,
            "metadata": {},
            "outputs": [],
            "source": [
                "# \u8868\u793a\n"
            ]
        },
        {
            "cell_type": "code",
            "execution_count": null,
            "metadata": {},
            "outputs": [],
            "source": [
                "# 0\u304b\u3089\uff11\uff10\u307e\u3067\u306e\u6574\u6570\u3092\u7528\u610f\u3059\u308b\u95a2\u6570 \n"
            ]
        },
        {
            "cell_type": "code",
            "execution_count": null,
            "metadata": {},
            "outputs": [],
            "source": [
                "# \u69d8\u3005\u306a\u3082\u306e\u304b\u3089\u30ea\u30b9\u30c8\u3092\u8fd4\u3059\u95a2\u6570\n"
            ]
        },
        {
            "cell_type": "code",
            "execution_count": null,
            "metadata": {},
            "outputs": [],
            "source": []
        },
        {
            "cell_type": "markdown",
            "metadata": {
                "heading_collapsed": true
            },
            "source": [
                "## \u30a8\u30e9\u30fc\uff08Errors\uff09"
            ]
        },
        {
            "cell_type": "markdown",
            "metadata": {
                "hidden": true
            },
            "source": [
                "\u30a8\u30e9\u30fc\u306f\u4ee5\u4e0b\u306e\uff12\u3064\u306b\u5206\u3051\u3089\u308c\u308b\u3002\n",
                "1. \u69cb\u6587\u30a8\u30e9\u30fc\uff08Syntax Errors\uff09\n",
                "    * \u69cb\u6587\u81ea\u4f53\u304c\u9593\u9055\u3063\u3066\u3044\u308b\u5834\u5408\u306b\u767a\u751f\u3059\u308b\u30a8\u30e9\u30fc\uff08\u4f8b\u3048\u3070\uff0c\u30b9\u30da\u30eb\u9593\u9055\u3044\uff09\u3002\n",
                "1. \u4f8b\u5916\uff08Exceptoins\uff09\n",
                "    * \u69cb\u6587\u306f\u9593\u9055\u3063\u3066\u3044\u306a\u304f\u3066\u3082\u30b3\u30fc\u30c9\u306e\u5b9f\u884c\u4e2d\u306b\u767a\u751f\u3059\u308b\u30a8\u30e9\u30fc\uff08\u4f8b\u3048\u3070\uff0c\u6570\u5b57\u3092\uff10\u3067\u5272\u308b\uff09\n",
                "\n",
                "---\n",
                "\uff1c\uff1c\u30b3\u30e1\u30f3\u30c8\uff1e\uff1e\n",
                "* \u30a8\u30e9\u30fc\u304c\u767a\u751f\u3059\u308b\u3068\u30a8\u30e9\u30fc\u30fb\u30e1\u30c3\u30bb\u30fc\u30b8\u304c\u8868\u793a\u3055\u308c\u308b\u304c\uff0c\u591a\u304f\u306e\u5834\u5408\uff0c\u30a8\u30e9\u30fc\u30fb\u30e1\u30c3\u30bb\u30fc\u30b8\u306b\u30a8\u30e9\u30fc\u306e\u7406\u7531\u306e\u30d2\u30f3\u30c8\u304c\u3042\u308b\u306e\u3067\u78ba\u8a8d\u3059\u308b\u3053\u3068\u3092\u5f37\u304f\u63a8\u5968\u3059\u308b\u3002\u306f\u3058\u3081\u306f\u610f\u5473\u304c\u5206\u304b\u3089\u306a\u3044\u304b\u3082\u77e5\u308c\u306a\u3044\u304c\uff0c\u30d1\u30bf\u30fc\u30f3\u304c\u3042\u308b\u306e\u3067\u6163\u308c\u308b\u3068\u76f4\u3050\u306b\u7406\u89e3\u3067\u304d\u308b\u30b1\u30fc\u30b9\u3082\u591a\u304f\u3042\u308b\u3060\u308d\u3046\u3002\n",
                "* \u4f8b\u5916\u306e\u5834\u5408\uff0c\u6700\u521d\u306b\u30a8\u30e9\u30fc\u304c\u767a\u751f\u3059\u308b\u3068\u305d\u308c\u306b\u4ed8\u968f\u3057\u3066\u4ed6\u306e\u5834\u6240\u3067\u3082\u30a8\u30e9\u30fc\u304c\u8a98\u767a\u3055\u308c\u308b\u5834\u5408\u304c\u3042\u308b\u3002`Python`\u306f\u30a8\u30e9\u30fc\u3092\u8ffd\u8de1\u3057\uff0c\u6700\u5f8c\u306b\u78ba\u8a8d\u3057\u305f\u30a8\u30e9\u30fc\u3092\u30e1\u30c3\u30bb\u30fc\u30b8\u306e\u4e00\u756a\u6700\u5f8c\u306b\u793a\u3059\u3053\u3068\u306b\u306a\u308b\u3002"
            ]
        },
        {
            "cell_type": "markdown",
            "metadata": {
                "heading_collapsed": true,
                "hidden": true
            },
            "source": [
                "### \u69cb\u6587\u30a8\u30e9\u30fc"
            ]
        },
        {
            "cell_type": "markdown",
            "metadata": {
                "heading_collapsed": true,
                "hidden": true
            },
            "source": [
                "#### \u4f8b\uff11"
            ]
        },
        {
            "cell_type": "markdown",
            "metadata": {
                "hidden": true
            },
            "source": [
                "\uff08\u6b63\uff09`print`<br>\n",
                "\uff08\u8aa4\uff09`primt`"
            ]
        },
        {
            "cell_type": "code",
            "execution_count": null,
            "metadata": {},
            "outputs": [],
            "source": []
        },
        {
            "cell_type": "markdown",
            "metadata": {
                "hidden": true
            },
            "source": [
                "* \u77e2\u5370\uff08---->\uff09\u3067\u30a8\u30e9\u30fc\u7b87\u6240\u304c\u793a\u3055\u308c\u3066\u3044\u308b\u3002\n",
                "* `NameError`\u3068\u3057\u3066\u6700\u7d42\u884c\u306b\u30b9\u30da\u30eb\u9593\u9055\u3044\u3067\u3042\u308b`primt`\u304c\u793a\u3055\u308c\u3066\u3044\u308b\u3002"
            ]
        },
        {
            "cell_type": "markdown",
            "metadata": {
                "heading_collapsed": true,
                "hidden": true
            },
            "source": [
                "#### \u4f8b\uff12"
            ]
        },
        {
            "cell_type": "markdown",
            "metadata": {
                "hidden": true
            },
            "source": [
                "\u6b21\u306e\u30bb\u30eb\u306e\uff13\u884c\u76ee\u306e\u7d42\u308f\u308a\u306b`:`\u304c\u629c\u3051\u3066\u3044\u308b\u3002"
            ]
        },
        {
            "cell_type": "code",
            "execution_count": null,
            "metadata": {},
            "outputs": [],
            "source": [
                "\n",
                "\n",
                "",
                ""
            ]
        },
        {
            "cell_type": "markdown",
            "metadata": {
                "hidden": true
            },
            "source": [
                "* `line 3`\u306f\u30bb\u30eb\u5185\u306e\uff13\u884c\u76ee\u3092\u793a\u3057\u3066\u3044\u308b\u3002\n",
                "* `SyntaxError`\u3068\u3057\u3066\u6700\u5f8c\u306e\u884c\u3067`:`\u304c\u8db3\u308a\u306a\u3044\u7b87\u6240\u3092`^`\u3067\u6307\u3057\u793a\u3057\u3066\u3044\u308b\u3002"
            ]
        },
        {
            "cell_type": "markdown",
            "metadata": {
                "heading_collapsed": true,
                "hidden": true
            },
            "source": [
                "#### \u4f8b\uff13"
            ]
        },
        {
            "cell_type": "markdown",
            "metadata": {
                "hidden": true
            },
            "source": [
                "\u62ec\u5f27\u3092\u9589\u3058\u3066\u3044\u306a\u3044\u3002"
            ]
        },
        {
            "cell_type": "code",
            "execution_count": null,
            "metadata": {},
            "outputs": [],
            "source": []
        },
        {
            "cell_type": "markdown",
            "metadata": {
                "hidden": true
            },
            "source": [
                "\u3053\u306e\u5834\u5408\uff0c`Python`\u306f\u30d7\u30ed\u30b0\u30e9\u30de\u30fc\u304c\u3069\u3053\u306b`)`\u3092\u5165\u308c\u3088\u3046\u3068\u3057\u305f\u304b\u306f\u5206\u304b\u3089\u306a\u3044\u3002\u5f93\u3063\u3066\uff0c\u6700\u5f8c\u306b\u304c\u5165\u308b\u3068\u60f3\u5b9a\u3057\u3066`^`\u3092\u6587\u672b\u306b\u7f6e\u3044\u3066\u3044\u308b\u3002\n",
                "\n",
                "---\n",
                "\uff1c\uff1c\u30b3\u30e1\u30f3\u30c8\uff11\uff1e\uff1e<br>\n",
                "`()`\u306e\u5834\u5408\uff0c\u6539\u884c\u3057\u3066\u3082\u69cb\u308f\u306a\u3044\u3002\u4e00\u884c\u304c\u9577\u304f\u306a\u308b\u5834\u5408\uff0c`(`\u3068`)`\u306e\u9593\u3067\u6539\u884c\u3059\u308b\u3053\u3068\u304c\u3067\u304d\u308b\u3002"
            ]
        },
        {
            "cell_type": "code",
            "execution_count": null,
            "metadata": {},
            "outputs": [],
            "source": [
                "\n"
            ]
        },
        {
            "cell_type": "markdown",
            "metadata": {
                "hidden": true
            },
            "source": [
                "\uff1c\uff1c\u30b3\u30e1\u30f3\u30c8\uff12\uff1e\uff1e<br>\n",
                "\u6587\u5b57\u5217\u3092\u6539\u884c\u3059\u308b\u5834\u5408\u306f\u6b21\u306e\u4f8b\u306e\u3088\u3046\u306b`\\`\u3092\u4f7f\u3046\u3002"
            ]
        },
        {
            "cell_type": "code",
            "execution_count": null,
            "metadata": {},
            "outputs": [],
            "source": [
                "\n"
            ]
        },
        {
            "cell_type": "markdown",
            "metadata": {
                "heading_collapsed": true,
                "hidden": true
            },
            "source": [
                "### \u4f8b\u5916"
            ]
        },
        {
            "cell_type": "markdown",
            "metadata": {
                "hidden": true
            },
            "source": [
                "#### \u4f8b\uff11"
            ]
        },
        {
            "cell_type": "markdown",
            "metadata": {
                "hidden": true
            },
            "source": [
                "`0`\u5206\u6bcd\u306b\u3042\u308b\u3002"
            ]
        },
        {
            "cell_type": "code",
            "execution_count": null,
            "metadata": {},
            "outputs": [],
            "source": []
        },
        {
            "cell_type": "markdown",
            "metadata": {
                "hidden": true
            },
            "source": [
                "#### \u4f8b\uff12"
            ]
        },
        {
            "cell_type": "markdown",
            "metadata": {
                "hidden": true
            },
            "source": [
                "\u5b9a\u7fa9\u3055\u308c\u3066\u3044\u306a\u3044\u5909\u6570`xx`\u304c\u4f7f\u308f\u308c\u3066\u3044\u308b\u3002"
            ]
        },
        {
            "cell_type": "code",
            "execution_count": null,
            "metadata": {},
            "outputs": [],
            "source": []
        },
        {
            "cell_type": "markdown",
            "metadata": {
                "heading_collapsed": true,
                "hidden": true
            },
            "source": [
                "#### \u4f8b\uff13"
            ]
        },
        {
            "cell_type": "markdown",
            "metadata": {
                "hidden": true
            },
            "source": [
                "\u6587\u5b57\u5217\u3068float\u3092\u8db3\u3057\u3066\u3044\u308b\u3002"
            ]
        },
        {
            "cell_type": "code",
            "execution_count": null,
            "metadata": {},
            "outputs": [],
            "source": []
        },
        {
            "cell_type": "markdown",
            "metadata": {
                "heading_collapsed": true
            },
            "source": [
                "## Python\u306e\u57fa\u672c\u306e\u307e\u3068\u3081\uff08\u65e5\u82f1\u5bfe\u8a33\uff09"
            ]
        },
        {
            "cell_type": "markdown",
            "metadata": {
                "hidden": true
            },
            "source": [
                "[\u65e5\u672c\u8a9e](https://learnxinyminutes.com/docs/ja-jp/python3-jp/)\n",
                "\n",
                "[\u82f1\u8a9e](https://learnxinyminutes.com/docs/python3/)"
            ]
        }
    ],
    "metadata": {
        "celltoolbar": "Tags",
        "kernel_info": {
            "name": "py4etrics"
        },
        "kernelspec": {
            "display_name": "latest",
            "language": "python",
            "name": "latest"
        },
        "language_info": {
            "codemirror_mode": {
                "name": "ipython",
                "version": 3
            },
            "file_extension": ".py",
            "mimetype": "text/x-python",
            "name": "python",
            "nbconvert_exporter": "python",
            "pygments_lexer": "ipython3",
            "version": "3.8.2"
        },
        "nteract": {
            "version": "0.22.4"
        },
        "toc": {
            "base_numbering": 1,
            "nav_menu": {},
            "number_sections": true,
            "sideBar": true,
            "skip_h1_title": false,
            "title_cell": "Table of Contents",
            "title_sidebar": "Contents",
            "toc_cell": false,
            "toc_position": {},
            "toc_section_display": true,
            "toc_window_display": true
        }
    },
    "nbformat": 4,
    "nbformat_minor": 2
}