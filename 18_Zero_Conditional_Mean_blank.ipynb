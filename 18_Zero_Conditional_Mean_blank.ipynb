{
    "cells": [
        {
            "cell_type": "markdown",
            "metadata": {},
            "source": [
                "# GM\u4eee\u5b9a\uff14\u304c\u6e80\u305f\u3055\u308c\u306a\u3044\u5834\u5408"
            ]
        },
        {
            "cell_type": "code",
            "execution_count": null,
            "metadata": {},
            "outputs": [],
            "source": [
                "\n",
                "\n",
                "",
                "",
                "",
                ""
            ]
        },
        {
            "cell_type": "markdown",
            "metadata": {
                "heading_collapsed": true
            },
            "source": [
                "## \u8aac\u660e"
            ]
        },
        {
            "cell_type": "markdown",
            "metadata": {
                "hidden": true
            },
            "source": [
                "\u4eee\u5b9a\uff14\uff1aZero conditional mean $\\text{E}\\left(u|X\\right)=0$\n",
                "\n",
                "* \u3053\u306e\u4eee\u5b9a\u304c\u6e80\u305f\u3055\u308c\u306a\u3044\u5834\u5408\uff0c`OLS`\u63a8\u5b9a\u91cf\u306f\u4e0d\u504f\u6027\u30fb\u4e00\u81f4\u6027\u304c\u6e80\u305f\u3055\u308c\u306a\u3044\u3002\n",
                "* \u7d4c\u6e08\u5b66\u306e\u5b9f\u8a3c\u5206\u6790\u3067\u306f\uff0c\u3053\u306e\u4eee\u5b9a\u304c\u6e80\u305f\u3055\u308c\u306a\u3044\u5834\u5408\u304c\u591a\u3005\u3042\u308b\u3002\u305d\u306e\u4e3b\u306a\u7406\u7531\u306b\u6b21\u306e\uff13\u3064\u304c\u6319\u3052\u3089\u308c\u308b\u3002\n",
                "    * \u6b20\u843d\u5909\u6570\n",
                "    * \u6e2c\u5b9a\u8aa4\u5dee\n",
                "    * \u540c\u6642\u65b9\u7a0b\u5f0f\n",
                "\n",
                "\u4ee5\u4e0b\u3067\u306f\u3053\u306e\uff13\u3064\u306b\u3064\u3044\u3066\u8aac\u660e\u3057\uff0c\u30b7\u30df\u30e5\u30ec\u30fc\u30b7\u30e7\u30f3\u3067\u767a\u751f\u3059\u308b\u30d0\u30a4\u30a2\u30b9\u3092\u78ba\u8a8d\u3059\u308b\u3002\n",
                "\n",
                "\u305d\u306e\u524d\u306b\uff0c\u4eee\u5b9a\uff14\u304c\u6e80\u305f\u3055\u308c\u308b\u5834\u5408\u3068\u6e80\u305f\u3055\u308c\u306a\u3044\u5834\u5408\u306e\u9055\u3044\u3092\u30b7\u30df\u30e5\u30ec\u30fc\u30b7\u30e7\u30f3\u3092\u901a\u3057\u3066\u76f4\u611f\u7684\u306b\u7406\u89e3\u3059\u308b\u3002"
            ]
        },
        {
            "cell_type": "markdown",
            "metadata": {},
            "source": [
                "## \u30b7\u30df\u30e5\u30ec\u30fc\u30b7\u30e7\u30f3"
            ]
        },
        {
            "cell_type": "markdown",
            "metadata": {
                "heading_collapsed": true
            },
            "source": [
                "### \u6e96\u5099"
            ]
        },
        {
            "cell_type": "markdown",
            "metadata": {
                "hidden": true
            },
            "source": [
                "\u30d1\u30e9\u30e1\u30fc\u30bf\u306e\u771f\u306e\u5024\u3092\u8a2d\u5b9a\u3059\u308b\u3002"
            ]
        },
        {
            "cell_type": "code",
            "execution_count": null,
            "metadata": {},
            "outputs": [],
            "source": [
                "\n"
            ]
        },
        {
            "cell_type": "markdown",
            "metadata": {
                "hidden": true
            },
            "source": [
                "\u30b7\u30df\u30e5\u30ec\u30fc\u30b7\u30e7\u30f3\u306e\u95a2\u6570\u3092\u4f5c\u6210"
            ]
        },
        {
            "cell_type": "code",
            "execution_count": null,
            "metadata": {},
            "outputs": [],
            "source": [
                "\n",
                "\n",
                "",
                "",
                "",
                "",
                "",
                "",
                "",
                "",
                "",
                "",
                "",
                "",
                ""
            ]
        },
        {
            "cell_type": "markdown",
            "metadata": {
                "hidden": true
            },
            "source": [
                "\u3053\u3053\u3067\u91cd\u8981\u306a\u5f79\u5272\u3092\u679c\u305f\u3059\u306e\u304c\u8aac\u660e\u5909\u6570\u3068\u8aa4\u5dee\u9805\u306e\u5171\u5206\u6563\u3092\u8868\u3059`m`\u3067\u3042\u308b\u3002"
            ]
        },
        {
            "cell_type": "markdown",
            "metadata": {
                "heading_collapsed": true
            },
            "source": [
                "### \u4eee\u5b9a\uff14\u304c\u6e80\u305f\u3055\u308c\u308b\u5834\u5408\uff1a$m=0$"
            ]
        },
        {
            "cell_type": "code",
            "execution_count": null,
            "metadata": {},
            "outputs": [],
            "source": []
        },
        {
            "cell_type": "markdown",
            "metadata": {
                "hidden": true
            },
            "source": [
                "\u6bcd\u96c6\u56e3\u306e\u8aa4\u5dee\u9805$u$\u3068\u8aac\u660e\u5909\u6570$x$"
            ]
        },
        {
            "cell_type": "code",
            "execution_count": null,
            "metadata": {},
            "outputs": [],
            "source": [
                "\n",
                "\n",
                ""
            ]
        },
        {
            "cell_type": "markdown",
            "metadata": {
                "hidden": true
            },
            "source": [
                "\u5171\u5206\u6563\u3092\u8a08\u7b97\u3057\u3066\u307f\u3088\u3046\u3002"
            ]
        },
        {
            "cell_type": "code",
            "execution_count": null,
            "metadata": {},
            "outputs": [],
            "source": []
        },
        {
            "cell_type": "markdown",
            "metadata": {
                "hidden": true
            },
            "source": [
                "\u5171\u5206\u6563\u306f\u975e\u5e38\u306b\u5c0f\u3055\u306a\u6570\u5b57\u3067\u3042\u308a\uff0c\u7279\u5b9a\u306a\u50be\u5411\u304c\u306a\u3044\u3002\u6b21\u306b\uff0c\u6bcd\u96c6\u56e3\u56de\u5e30\u76f4\u7dda\u3068OLS\u56de\u5e30\u76f4\u7dda\u3092\u6bd4\u3079\u3066\u307f\u308b\u3002"
            ]
        },
        {
            "cell_type": "code",
            "execution_count": null,
            "metadata": {},
            "outputs": [],
            "source": [
                "\n",
                "\n",
                "",
                "",
                "",
                "",
                ""
            ]
        },
        {
            "cell_type": "markdown",
            "metadata": {
                "hidden": true
            },
            "source": [
                "\u63a8\u5b9a\u91cf\u304c\u4e0d\u504f\u6027\u3092\u6e80\u305f\u3057\u3066\u3044\u308b\u305f\u3081\u4e21\u65b9\u306f\u6b86\u3069\u540c\u3058\u3067\u3042\u308b\u3002"
            ]
        },
        {
            "cell_type": "markdown",
            "metadata": {},
            "source": [
                "### \u4eee\u5b9a\uff14\u304c\u6e80\u305f\u3055\u308c\u306a\u3044\u5834\u5408\uff1a$m\\neq 0$"
            ]
        },
        {
            "cell_type": "code",
            "execution_count": null,
            "metadata": {},
            "outputs": [],
            "source": []
        },
        {
            "cell_type": "markdown",
            "metadata": {},
            "source": [
                "\u6bcd\u96c6\u56e3\u306e\u8aa4\u5dee\u9805$u$\u3068\u8aac\u660e\u5909\u6570$x$\u3092\u56f3\u793a\u3057\u3088\u3046\u3002"
            ]
        },
        {
            "cell_type": "code",
            "execution_count": null,
            "metadata": {},
            "outputs": [],
            "source": [
                "\n",
                "\n",
                ""
            ]
        },
        {
            "cell_type": "code",
            "execution_count": null,
            "metadata": {},
            "outputs": [],
            "source": []
        },
        {
            "cell_type": "markdown",
            "metadata": {},
            "source": [
                "\u5f37\u3044\u6b63\u306e\u5171\u5206\u6563\u304c\u78ba\u8a8d\u3067\u304d\u308b\u3002\u6bcd\u96c6\u56e3\u56de\u5e30\u7dda\u3068OLS\u56de\u5e30\u76f4\u7dda\u3092\u6bd4\u3079\u308b\u3002"
            ]
        },
        {
            "cell_type": "code",
            "execution_count": null,
            "metadata": {},
            "outputs": [],
            "source": [
                "\n",
                "\n",
                "",
                "",
                "",
                "",
                ""
            ]
        },
        {
            "cell_type": "markdown",
            "metadata": {},
            "source": [
                "\u660e\u3089\u304b\u306b\u7570\u306a\u308b\u3002GM\u4eee\u5b9a\uff14\u304c\u6e80\u305f\u3055\u308c\u305a\uff0c\u63a8\u5b9a\u91cf\u306e\u4e0d\u504f\u6027\u304c\u6e80\u305f\u3055\u308c\u306a\u3044\u305f\u3081\u3067\u3042\u308b\u3002\u3053\u306e\u5834\u5408\uff0c\u4e00\u81f4\u6027\u3082\u6e80\u305f\u3055\u308c\u306a\u3044\u3002\u6a19\u672c\u306e\u5927\u304d\u3055`n`\u3092`100000`\u306b\u3057\u3066\u78ba\u304b\u3081\u3066\u307f\u308b\u3002"
            ]
        },
        {
            "cell_type": "code",
            "execution_count": null,
            "metadata": {},
            "outputs": [],
            "source": [
                "\n",
                "\n",
                "",
                "",
                "",
                "",
                "",
                "",
                ""
            ]
        },
        {
            "cell_type": "markdown",
            "metadata": {},
            "source": [
                "\u4e0a\u304b\u3089\uff13\u884c\u76ee\u306b`alpha=0.1`\u3068\u3042\u308b\u304c\uff0c\u6563\u5e03\u56f3\u306e\u30de\u30fc\u30ab\u30fc\u306e\u900f\u660e\u5ea6\u3092\u3057\u3066\u3044\u308b\u5f15\u6570\u3067\u3042\u308a`0~1`\u306e\u5024\u3092\u3068\u308b\u3002\u30c7\u30d5\u30a9\u30eb\u30c8\u306f`1`\u3067\u3042\u308a\uff0c`0`\u306f\u900f\u660e\u306b\u306a\u308b\u3002"
            ]
        },
        {
            "cell_type": "markdown",
            "metadata": {
                "heading_collapsed": true
            },
            "source": [
                "## \u6b20\u843d\u5909\u6570"
            ]
        },
        {
            "cell_type": "markdown",
            "metadata": {
                "heading_collapsed": true,
                "hidden": true
            },
            "source": [
                "### \u6b20\u843d\u5909\u6570\u30d0\u30a4\u30a2\u30b9"
            ]
        },
        {
            "cell_type": "markdown",
            "metadata": {
                "hidden": true
            },
            "source": [
                "\u6bcd\u96c6\u56e3\u306e\u30e2\u30c7\u30eb\u306f\u4ee5\u4e0b\u3067\u4e0e\u3048\u3089\u308c\u308b\u3068\u3057\u3088\u3046\u3002\n",
                "\n",
                "$$y=\\beta_0+\\beta_1 x_1+\\beta_2x_2+\\beta_3x_3+u\\qquad\\quad(\\text{\u6bcd\u96c6\u56e3\u30e2\u30c7\u30eb})$$\n",
                "\n",
                "\u5b9f\u969b\u306b\u63a8\u5b9a\u3055\u308c\u308b\u30e2\u30c7\u30eb\uff08$x_3$\u304c\u6b20\u843d\uff09\uff1a\n",
                "\n",
                "$$y=\\gamma_0+\\gamma_1 x_1+\\gamma_2x_2+\\eta\\qquad\\quad(\\text{\u63a8\u5b9a\u30e2\u30c7\u30eb})$$\n",
                "\n",
                "\u66f4\u306b\uff0c$x_1$\u3068$x_3$\u306b\u306f\u4ee5\u4e0b\u306e\u95a2\u4fc2\u304c\u3042\u308b\u3068\u4eee\u5b9a\u3059\u308b\u3002\n",
                "\n",
                "$$x_3=\\delta_0+\\delta_1 x_1+\\epsilon\\qquad\\quad(\\text{\u4eee\u5b9a})$$\n",
                "\n",
                "\u3053\u306e\u5f0f\u3092\u6bcd\u96c6\u56e3\u30e2\u30c7\u30eb\u306b\u4ee3\u5165\u3059\u308b\u3068\uff1a\n",
                "\n",
                "$$y=(\\beta_0+\\beta_3\\delta_0)+(\\beta_1+\\beta_3\\delta_1)x_1+\\beta_2x_2+\\tilde{\\eta}$$\n",
                "\n",
                "\u3053\u3053\u3067\uff0c$\\tilde{\\eta}\\equiv\\beta_3\\epsilon+u$\u3002\u63a8\u5b9a\u30e2\u30c7\u30eb\u306f\u3053\u306e\u95a2\u4fc2\u306b\u57fa\u3065\u3044\u3066\u4fc2\u6570\u3092\u8a08\u7b97\u3059\u308b\u3053\u3068\u306b\u306a\u308b\u3002"
            ]
        },
        {
            "cell_type": "markdown",
            "metadata": {
                "hidden": true
            },
            "source": [
                "**\uff08\u7d50\u679c\uff11\uff09**\n",
                "\n",
                "\u63a8\u5b9a\u30e2\u30c7\u30eb\u3092\u4f7f\u3046\u3068\n",
                "* $\\hat{\\gamma}_0$\u306f$\\beta_0+\\beta_3\\delta_0$\u306e\u63a8\u5b9a\u5024\n",
                "* $\\hat{\\gamma}_1$\u306f$\\beta_1+\\beta_3\\delta_1$\u306e\u63a8\u5b9a\u5024\n",
                "* $\\hat{\\gamma}_2$\u306f$\\beta_2$\u306e\u63a8\u5b9a\u5024\n",
                "\n",
                "\u3068\u306a\u308a$\\gamma_0$\u3068$\\gamma_1$\u306e\u63a8\u5b9a\u5024\u306b\u30d0\u30a4\u30a2\u30b9\u304c\u767a\u751f\u3059\u308b\u3002\u4e00\u65b9\uff0c$\\hat{\\gamma}_2$\u306b\u306f\u30d0\u30a4\u30a2\u30b9\u306f\u767a\u751f\u3057\u306a\u3044\u3002\u6b20\u843d\u5909\u6570\u3068\u7121\u76f8\u95a2\u306e\u5909\u6570\uff08\u5b9a\u6570\u4ee5\u5916\uff09\u306b\u306f\u30d0\u30a4\u30a2\u30b9\u306f\u767a\u751f\u3057\u306a\u3044\u305f\u3081\u3067\u3042\u308b\u3002\n",
                "\n",
                "**\uff08\u7d50\u679c\uff12\uff09**\n",
                "* \u6b20\u843d\u5909\u6570\u304c\u56de\u5e30\u5f0f\u306e\u8aac\u660e\u5909\u6570\u3068\u7121\u76f8\u95a2\u3067\u3042\u308c\u3070\uff0c\u30d0\u30a4\u30a2\u30b9\u306f\u767a\u751f\u3057\u306a\u3044\uff01"
            ]
        },
        {
            "cell_type": "markdown",
            "metadata": {
                "hidden": true
            },
            "source": [
                "**\uff08\u7406\u7531\uff09**\n",
                "\n",
                "GM\u4eee\u5b9a\uff14\u304c\u6e80\u305f\u3055\u308c\u3066\u3044\u306a\u3044\u305f\u3081\u3002\u6bcd\u96c6\u56e3\u30e2\u30c7\u30eb\uff0c\u63a8\u5b9a\u30e2\u30c7\u30eb\u3068\u4eee\u5b9a\u306e\u5f0f\u304b\u3089\n",
                "\n",
                "$$\n",
                "\\eta=\\beta_3x_3+u=\\beta_3(\\delta_0+\\delta_1x_1+\\epsilon)+u\n",
                "\\quad\\Rightarrow\\quad\n",
                "\\tilde{\\eta}=\\eta-\\beta_3(\\delta_0+\\delta_1x_1)\n",
                "$$\n",
                "\n",
                "\u3053\u308c\u304b\u3089$x_1$\u3068$\\tilde{\\eta}$\u306f\u76f8\u95a2\u3059\u308b\u3053\u3068\u304c\u308f\u304b\u308b\u3002"
            ]
        },
        {
            "cell_type": "markdown",
            "metadata": {
                "heading_collapsed": true,
                "hidden": true
            },
            "source": [
                "### \u30b7\u30df\u30e5\u30ec\u30fc\u30b7\u30e7\u30f3\uff11\uff1a\u63a8\u5b9a\u5024\u306e\u8a08\u7b97"
            ]
        },
        {
            "cell_type": "markdown",
            "metadata": {
                "hidden": true
            },
            "source": [
                "One-shot\u306e\u30b7\u30df\u30e5\u30ec\u30fc\u30b7\u30e7\u30f3\u3092\u304a\u3053\u306a\u3044\u30d0\u30a4\u30a2\u30b9\u306e\u767a\u751f\u3092\u78ba\u8a8d\u3059\u308b\u3002"
            ]
        },
        {
            "cell_type": "code",
            "execution_count": null,
            "metadata": {},
            "outputs": [],
            "source": [
                "# \u6bcd\u96c6\u56e3\u306e\u30d1\u30e9\u30e1\u30fc\u30bf\n",
                "\n",
                "\n",
                "",
                "",
                "",
                "# \u6a19\u672c\u6570\n",
                "\n",
                "\n",
                "# \u8aac\u660e\u5909\u6570\u3000x1, x2\n",
                "\n",
                "\n",
                "",
                "# \u8aac\u660e\u5909\u6570\u3000x3\n",
                "\n",
                "\n",
                "",
                "",
                "# \u6bcd\u96c6\u56e3\u306e\u8aa4\u5dee\u9805\n",
                "\n",
                "\n",
                "",
                "# \u6a19\u672c\u306eDataFrame\n",
                "\n",
                "\n",
                "# \u63a8\u5b9a\n",
                "\n",
                "\n",
                ""
            ]
        },
        {
            "cell_type": "markdown",
            "metadata": {
                "hidden": true
            },
            "source": [
                "`X1`\u306e\u30d1\u30e9\u30e1\u30fc\u30bf\u306e\u5024\u306f\u771f\u306e\u5024\u3068\u660e\u3089\u304b\u306b\u7570\u306a\u308b\u3002"
            ]
        },
        {
            "cell_type": "markdown",
            "metadata": {
                "heading_collapsed": true,
                "hidden": true
            },
            "source": [
                "### \u30b7\u30df\u30e5\u30ec\u30fc\u30b7\u30e7\u30f3\uff12\uff1a\u63a8\u5b9a\u5024\u306e\u5206\u5e03"
            ]
        },
        {
            "cell_type": "markdown",
            "metadata": {
                "hidden": true
            },
            "source": [
                "`OLS`\u63a8\u5b9a\u91cf\u306e\u5206\u5e03\u3092\u78ba\u8a8d\u3059\u308b\u3002"
            ]
        },
        {
            "cell_type": "code",
            "execution_count": null,
            "metadata": {},
            "outputs": [],
            "source": [
                "# \u6bcd\u96c6\u56e3\u306e\u30d1\u30e9\u30e1\u30fc\u30bf\u306e\u5024\n",
                "\n",
                "\n",
                "",
                "",
                "",
                "# \u30b7\u30df\u30e5\u30ec\u30fc\u30b7\u30e7\u30f3\u306e\u56de\u6570\n"
            ]
        },
        {
            "cell_type": "markdown",
            "metadata": {
                "hidden": true
            },
            "source": [
                "\u30b7\u30df\u30e5\u30ec\u30fc\u30b7\u30e7\u30f3\u306e\u95a2\u6570\u3092\u8a2d\u5b9a\u3059\u308b\u3002\n",
                "* \u5f15\u6570\uff1a\n",
                "    * `n`\uff1a\u6a19\u672c\u306e\u5927\u304d\u3055\n",
                "    * `m`\uff1a`x1`\u3068`x3`\u306e\u76f8\u95a2\u3092\u6349\u3048\u308b\u30d1\u30e9\u30e1\u30fc\u30bf\n",
                "* \u623b\u308a\u5024\uff1a\u63a8\u5b9a\u5024\u306e\u30ea\u30b9\u30c8"
            ]
        },
        {
            "cell_type": "code",
            "execution_count": null,
            "metadata": {},
            "outputs": [],
            "source": [
                "\n",
                "\n",
                "",
                "    # \u7a7a\u306e\u30ea\u30b9\u30c8\n",
                "\n",
                "\n",
                "",
                "",
                "    # \u8aac\u660e\u5909\u6570\n",
                "\n",
                "\n",
                "",
                "",
                "",
                "",
                "",
                "",
                "        # \u6bcd\u96c6\u56e3\n",
                "\n",
                "\n",
                "",
                "",
                "",
                "",
                "",
                "",
                "",
                "",
                ""
            ]
        },
        {
            "cell_type": "markdown",
            "metadata": {
                "hidden": true
            },
            "source": [
                "\u30b7\u30df\u30e5\u30ec\u30fc\u30b7\u30e7\u30f3\u306e\u958b\u59cb"
            ]
        },
        {
            "cell_type": "code",
            "execution_count": null,
            "metadata": {},
            "outputs": [],
            "source": []
        },
        {
            "cell_type": "markdown",
            "metadata": {
                "hidden": true
            },
            "source": [
                "$\\hat{\\beta}_0$\u306e\u5206\u5e03"
            ]
        },
        {
            "cell_type": "code",
            "execution_count": null,
            "metadata": {},
            "outputs": [],
            "source": [
                "\n",
                "\n",
                ""
            ]
        },
        {
            "cell_type": "markdown",
            "metadata": {
                "hidden": true
            },
            "source": [
                "$\\hat{\\beta}_1$\u306e\u5206\u5e03"
            ]
        },
        {
            "cell_type": "code",
            "execution_count": null,
            "metadata": {},
            "outputs": [],
            "source": [
                "\n",
                "\n",
                ""
            ]
        },
        {
            "cell_type": "markdown",
            "metadata": {
                "hidden": true
            },
            "source": [
                "$\\hat{\\beta}_2$\u306e\u5206\u5e03"
            ]
        },
        {
            "cell_type": "code",
            "execution_count": null,
            "metadata": {},
            "outputs": [],
            "source": [
                "\n",
                "\n",
                ""
            ]
        },
        {
            "cell_type": "markdown",
            "metadata": {
                "heading_collapsed": true
            },
            "source": [
                "## \u6e2c\u5b9a\u8aa4\u5dee"
            ]
        },
        {
            "cell_type": "markdown",
            "metadata": {
                "heading_collapsed": true,
                "hidden": true
            },
            "source": [
                "### \u6e2c\u5b9a\u8aa4\u5dee\u306b\u3088\u308b\u30d0\u30a4\u30a2\u30b9"
            ]
        },
        {
            "cell_type": "markdown",
            "metadata": {
                "hidden": true
            },
            "source": [
                "\u6b21\u306e\u6bcd\u96c6\u56e3\u56de\u5e30\u5f0f\u3092\u8003\u3048\u3088\u3046\u3002\n",
                "\n",
                "$$y=\\beta_0+\\beta_1 x^* + \\eta$$\n",
                "\n",
                "\u3053\u3053\u3067\uff0c\u88ab\u8aac\u660e\u5909\u6570$y$\u306f\u6b63\u78ba\u306b\u6e2c\u5b9a\u3067\u304d\u308b\u304c\uff0c\u8aac\u660e\u5909\u6570$x^*$\u306f\u4ee5\u4e0b\u306e\u5f0f\u306b\u5f93\u3063\u3066\u6e2c\u5b9a\u3055\u308c\u308b\u4eee\u5b9a\u3059\u308b\u3002\n",
                "\n",
                "$$x=x^*+e$$\n",
                "\n",
                "* $x$\uff1a\u6e2c\u5b9a\u5024\n",
                "* $e$\uff1a\u6e2c\u5b9a\u8aa4\u5dee\n",
                "\n",
                "\uff08\u4eee\u5b9a\uff09\n",
                "\n",
                "* \u6e2c\u5b9a\u8aa4\u5dee$e$\u306f\u771f\u306e\u5024\u3068\u7121\u95a2\u4fc2\u3002\u5373\u3061\uff0c$\\text{Cov}(x^*,e)=0$\n",
                "\n",
                "\uff08\u7d50\u679c\uff09\n",
                "\n",
                "* \u6b21\u5f0f\u3092OLS\u63a8\u5b9a\u3059\u308b\u5834\u5408\uff0c$\\hat{\\beta}_1$\u306f\u4e0d\u504f\u6027\u30fb\u4e00\u81f4\u6027\u3092\u6e80\u305f\u3055\u306a\u3044\u3002\n",
                "\n",
                "$$y=\\beta_0+\\beta_1 x + u,\\qquad u=\\eta-\\beta e$$\n",
                "\n",
                "\uff08\u7406\u7531\uff09\n",
                "\n",
                "\u4eee\u5b9a\uff14\uff1a$\\text{Cov}(x,u)=0$\u304c\u6e80\u305f\u3055\u308c\u306a\u3044\u3002\n",
                "\n",
                "$$\n",
                "\\text{Cov}(x,u)=\\text{E}[xu]\n",
                "=\\text{E}\\left[(x^*+e)(\\eta-\\beta e)\\right]\n",
                "=-\\beta\\cdot\\text{E}(e^2)>0\n",
                "$$"
            ]
        },
        {
            "cell_type": "markdown",
            "metadata": {
                "heading_collapsed": true,
                "hidden": true
            },
            "source": [
                "### \u30b7\u30df\u30e5\u30ec\u30fc\u30b7\u30e7\u30f3\uff11\uff1a\u63a8\u5b9a\u5024\u306e\u8a08\u7b97"
            ]
        },
        {
            "cell_type": "markdown",
            "metadata": {
                "hidden": true
            },
            "source": [
                "One-shot\u306e\u30b7\u30df\u30e5\u30ec\u30fc\u30b7\u30e7\u30f3\u3092\u304a\u3053\u306a\u3044\u30d0\u30a4\u30a2\u30b9\u306e\u767a\u751f\u3092\u78ba\u8a8d\u3059\u308b\u3002"
            ]
        },
        {
            "cell_type": "code",
            "execution_count": null,
            "metadata": {},
            "outputs": [],
            "source": [
                "# \u6a19\u672c\u306e\u5927\u304d\u3055\n",
                "\n",
                "\n",
                "# \u6bcd\u96c6\u56e3\u56de\u5e30\u5f0f\n",
                "\n",
                "\n",
                "",
                "",
                "",
                "",
                "# \u6e2c\u5b9a\u8aa4\u5dee\n",
                "\n",
                "\n",
                "",
                "# OLS\u63a8\u5b9a\n",
                "\n",
                "\n",
                "",
                ""
            ]
        },
        {
            "cell_type": "markdown",
            "metadata": {
                "heading_collapsed": true,
                "hidden": true
            },
            "source": [
                "### \u30b7\u30df\u30e5\u30ec\u30fc\u30b7\u30e7\u30f3\uff12\uff1a\u63a8\u5b9a\u5024\u306e\u5206\u5e03"
            ]
        },
        {
            "cell_type": "markdown",
            "metadata": {
                "hidden": true
            },
            "source": [
                "`OLS`\u63a8\u5b9a\u91cf\u306e\u5206\u5e03\u3092\u78ba\u8a8d\u3059\u308b\u3002"
            ]
        },
        {
            "cell_type": "code",
            "execution_count": null,
            "metadata": {},
            "outputs": [],
            "source": [
                "# \u771f\u306e\u30d1\u30e9\u30e1\u30fc\u30bf\n",
                "\n",
                "\n",
                "",
                "# \u30b7\u30df\u30e5\u30ec\u30fc\u30b7\u30e7\u30f3\u306e\u56de\u6570\n"
            ]
        },
        {
            "cell_type": "code",
            "execution_count": null,
            "metadata": {},
            "outputs": [],
            "source": [
                "\n",
                "\n",
                "",
                "",
                "",
                "",
                "",
                "",
                "",
                "",
                "    # \u8aac\u660e\u5909\u6570\u306e\u6e2c\u5b9a\u8aa4\u5dee\n",
                "\n",
                "\n",
                "",
                "",
                "",
                "",
                "",
                "",
                "",
                "",
                "",
                "",
                "",
                ""
            ]
        },
        {
            "cell_type": "markdown",
            "metadata": {
                "hidden": true
            },
            "source": [
                "\u30b7\u30df\u30e5\u30ec\u30fc\u30b7\u30e7\u30f3\u306e\u958b\u59cb"
            ]
        },
        {
            "cell_type": "code",
            "execution_count": null,
            "metadata": {},
            "outputs": [],
            "source": []
        },
        {
            "cell_type": "markdown",
            "metadata": {
                "hidden": true
            },
            "source": [
                "$\\hat{\\beta}_0$\u306e\u5206\u5e03"
            ]
        },
        {
            "cell_type": "code",
            "execution_count": null,
            "metadata": {},
            "outputs": [],
            "source": [
                "\n",
                "\n",
                ""
            ]
        },
        {
            "cell_type": "markdown",
            "metadata": {
                "hidden": true
            },
            "source": [
                "$\\hat{\\beta}_1$\u306e\u5206\u5e03"
            ]
        },
        {
            "cell_type": "code",
            "execution_count": null,
            "metadata": {},
            "outputs": [],
            "source": [
                "\n",
                "\n",
                ""
            ]
        },
        {
            "cell_type": "markdown",
            "metadata": {
                "heading_collapsed": true
            },
            "source": [
                "## \u540c\u6642\u65b9\u7a0b\u5f0f"
            ]
        },
        {
            "cell_type": "markdown",
            "metadata": {
                "heading_collapsed": true,
                "hidden": true
            },
            "source": [
                "### \u540c\u6642\u6027\u30d0\u30a4\u30a2\u30b9"
            ]
        },
        {
            "cell_type": "markdown",
            "metadata": {
                "hidden": true
            },
            "source": [
                "\u540c\u6642\u65b9\u7a0b\u5f0f\u30e2\u30c7\u30eb\u3068\u306f\uff0c\u5747\u8861\u30e1\u30ab\u30cb\u30ba\u30e0\u306a\u3069\u3092\u901a\u3057\u3066\u8907\u6570\u306e\u5185\u751f\u5909\u6570\u304c\u8907\u6570\u306e\u5f0f\u306b\u3088\u3063\u3066\u540c\u6642\u6c7a\u5b9a\u3055\u308c\u308b\u30e2\u30c7\u30eb\u3067\u3042\u308b\u3002\u4f8b\u3068\u3057\u3066\u52b4\u50cd\u306e\u9700\u7d66\u30e2\u30c7\u30eb\u3092\u8003\u3048\u3088\u3046\u3002\u5747\u8861\u3067\u306f\u9700\u8981\u91cf\uff08$L_d$\uff09\u3068\u4f9b\u7d66\u91cf\uff08$L_s$\uff09\u306f\u7b49\u3057\u304f\u306a\u308a\uff08$L=L_d=L_s$\uff09\uff0c\u9700\u8981\u3068\u4f9b\u7d66\u306f\u305d\u308c\u305e\u308c\u5747\u8861\u8cc3\u91d1\uff08$W$\uff09\u306b\u4f9d\u5b58\u3059\u308b\u3002\n",
                "* \u52b4\u50cd\u4f9b\u7d66\u95a2\u6570\n",
                "\n",
                "    $$ L = s_0+s_1 W + s_2 X_s + u_s\\qquad\\qquad\\qquad\\text{(\u5f0f\uff11)}$$\n",
                "\n",
                "    * $s_1>0$\n",
                "    * $X_s=$ \u4f9b\u7d66\u306e\u300c\u305d\u306e\u4ed6\u300d\u306e\u6c7a\u5b9a\u8981\u56e0\uff08\u4f8b\u3048\u3070\uff0c\u6240\u5f97\u6c34\u6e96\uff09\n",
                "    * $u_s=$ \u4f9b\u7d66\u306e\u8aa4\u5dee\u9805\n",
                "\n",
                "* \u52b4\u50cd\u9700\u8981\u95a2\u6570\n",
                "\n",
                "    $$ W = d_0+d_1 L + d_2 X_d + u_d\\qquad\\qquad\\qquad\\text{(\u5f0f\uff12)}$$\n",
                "        \n",
                "    * $d_1<0$\n",
                "    * $X_d=$ \u9700\u8981\u306e\u300c\u305d\u306e\u4ed6\u300d\u306e\u6c7a\u5b9a\u8981\u56e0\uff08\u4f8b\u3048\u3070\uff0c\u6559\u80b2\u6c34\u6e96\uff09\n",
                "    * $u_d=$ \u9700\u8981\u306e\u8aa4\u5dee\u9805\n",
                "\n",
                "\uff08\u76f8\u95a2\u6027\u306e\u4eee\u5b9a\uff09\n",
                "* $\\text{Cov}(X_s,u_s)=\\text{Cov}(X_d,u_d)=\\text{Cov}(u_s,u_d)=0$"
            ]
        },
        {
            "cell_type": "markdown",
            "metadata": {
                "hidden": true
            },
            "source": [
                "\u4e0a\u306e\u5f0f\u306f**\u69cb\u9020\u65b9\u7a0b\u5f0f\uff08structural equations\uff09**\n",
                "\u3068\u547c\u3070\u308c\u308b\u3002\u3053\u308c\u3089\u306e\u5f0f\u3092\u76f4\u63a5\u63a8\u5b9a\u3059\u308b\u3068OLS\u63a8\u5b9a\u91cf\u306b\u306f\u30d0\u30a4\u30a2\u30b9\u304c\u767a\u751f\u3059\u308b\u3002\u7406\u7531\u306f\uff0c\u4f9b\u7d66\u95a2\u6570\u3067\u306f$\\text{Cov}(W,u_s)\\neq 0$\u3068\u306a\u308a\u9700\u8981\u95a2\u6570\u3067\u3082$\\text{Cov}(L,u_d)\\neq 0$\u3068\u306a\u308b\u305f\u3081\u3067\u3042\u308b\u3002\u5373\u3061\uff0c\u4eee\u5b9a\uff14\u304c\u6e80\u305f\u3055\u308c\u306a\u3044\u306e\u3067\u3042\u308b\u3002\u3053\u306e\u7d50\u679c\u306f\u7c21\u5358\u306b\u793a\u3059\u3053\u3068\u304c\u3067\u304d\u308b\u3002\uff12\u3064\u306e\u5f0f\u3092\u540c\u6642\u65b9\u7a0b\u5f0f\u3068\u3057\u3066$L$\u3068$W$\u306e\u89e3\u3092\u8a08\u7b97\u3059\u308b\u3068\u6b21\u5f0f\u3092\u5f97\u308b\u3002\n",
                "\n",
                "$$L=\\alpha_0+\\alpha_1X_d+\\alpha_2X_s+\\frac{s_1u_d+u_s}{1-d_1s_1}\\qquad\\qquad\\qquad\\text{(\u5f0f\uff13)}$$\n",
                "\n",
                "$$W=\\beta_0+\\beta_1X_d+\\beta_2X_s+\\frac{d_1u_s+u_d}{1-d_1s_1}\\qquad\\qquad\\qquad\\text{(\u5f0f\uff14)}$$\n",
                "\n",
                "\u3053\u3053\u3067$\\alpha_i$,$\\beta_i$,$i=0,1,2$\u306f$d_i$,$s_i$,$i=0,1,2$\u306e\u975e\u7dda\u5f62\u306a\u5f62\u3092\u3068\u308b\u3053\u3068\u306b\u306a\u308b\u3002\n",
                "\u3053\u306e\u3088\u3046\u306a$L$\u3068$W$\u306e\u89e3\u306e\u5f0f\u306f**\u8a98\u5c0e\u578b\u65b9\u7a0b\u5f0f\uff08reduced-form equations\uff09**\n",
                "\u3068\u547c\u3070\u308c\u308b\u304c\uff0c\u3053\u306e\u5f0f\u304b\u3089\u6b21\u306e\u70b9\u306f\u660e\u3089\u304b\u3067\u3042\u308b\u3002\n",
                "* \uff08\u5f0f\uff13\uff09\uff1a$L$\u306f$u_d$\u306b\u4f9d\u5b58\u3057\uff0c$L$\u3068$u_d$\u306f\u76f8\u95a2\u3059\u308b\u3000$\\Rightarrow$\u3000$\\text{Cov}(L,u_d)\\neq 0$\n",
                "* \uff08\u5f0f\uff14\uff09\uff1a$W$\u3082$u_s$\u306b\u4f9d\u5b58\u3057\uff0c$W$\u3068$u_s$\u306f\u76f8\u95a2\u3059\u308b\u3000$\\Rightarrow$\u3000$\\text{Cov}(W,u_s)\\neq 0$\n",
                "\n",
                "\u3067\u306f\u8a98\u5c0e\u578b\u65b9\u7a0b\u5f0f\u3092\u63a8\u5b9a\u3059\u308c\u3070\u3069\u3046\u306a\u308b\u306e\u304b\uff1f\u76f8\u95a2\u6027\u306e\u4eee\u5b9a\u306e\u3082\u3068$\\hat{\\alpha}_i$,$\\hat{\\beta}_i$,$i=0,1,2$\u306f\u4e0d\u504f\u6027\u30fb\u4e00\u81f4\u6027\u3092\u4fdd\u6301\u3059\u308b\u3002\u3057\u304b\u3057\u554f\u984c\u306f\uff0c\u8a98\u5c0e\u578b\u65b9\u7a0b\u5f0f\u3092\u6e80\u305f\u3059\u69cb\u9020\u65b9\u7a0b\u5f0f\u306f\u7121\u6570\u306b\u3042\u308a\uff0c\u305d\u306e\u63a8\u5b9a\u5024\u304b\u3089$d_i$,$s_i$,$i=0,1,2$\u3092\u5fa9\u5143\u3067\u304d\u306a\u3044\u306e\u3067\u3042\u308b\u3002\u5f93\u3063\u3066\uff0c\u305d\u308c\u3089\u306e\u30d1\u30e9\u30e1\u30fc\u30bf\u306e\u5024\u3092\u63a8\u5b9a\u3059\u308b\u305f\u3081\u306b\u306f(\u5f0f\uff11)\u3068(\u5f0f\uff12)\u3092\u63a8\u5b9a\u3059\u308b\u5fc5\u8981\u304c\u3042\u308b\u3002"
            ]
        },
        {
            "cell_type": "markdown",
            "metadata": {
                "heading_collapsed": true,
                "hidden": true
            },
            "source": [
                "### \u30b7\u30df\u30e5\u30ec\u30fc\u30b7\u30e7\u30f3\uff11\uff1a\u63a8\u5b9a\u5024\u306e\u8a08\u7b97"
            ]
        },
        {
            "cell_type": "markdown",
            "metadata": {
                "hidden": true
            },
            "source": [
                "\uff08\u76ee\u7684\uff09\n",
                "\n",
                "One-shot\u306e\u30b7\u30df\u30e5\u30ec\u30fc\u30b7\u30e7\u30f3\u3092\u304a\u3053\u306a\u3044\u69cb\u9020\u65b9\u7a0b\u5f0f\u3092\u76f4\u63a5\u63a8\u5b9a\u3059\u308b\u3068\u63a8\u5b9a\u5024\u306b\u30d0\u30a4\u30a2\u30b9\u304c\u767a\u751f\u3059\u308b\u3053\u3068\u3092\u78ba\u8a8d\u3059\u308b\u3002"
            ]
        },
        {
            "cell_type": "markdown",
            "metadata": {
                "hidden": true
            },
            "source": [
                "\u30b7\u30df\u30e5\u30ec\u30fc\u30b7\u30e7\u30f3\u306e\u7c21\u5358\u5316\u306e\u305f\u3081\u306b(\u5f0f\uff12)\u306e\u4e2d\u3067$s_2=0$\u3092\u4eee\u5b9a\u3059\u308b\u3002\u3053\u308c\u306b\u3088\u308a\uff0c(\u5f0f\uff13)\u3068(\u5f0f\uff14)\u306e\u30d1\u30e9\u30e1\u30fc\u30bf\u306f\u4ee5\u4e0b\u3067\u4e0e\u3048\u3089\u308c\u308b\u3002\n",
                "\n",
                "$$\n",
                "\\alpha_0\\equiv\\frac{s_0+s_1d_0}{1-s_1d_1},\\quad\n",
                "\\alpha_1\\equiv\\frac{s_1d_2}{1-s_1d_1},\\quad\n",
                "\\alpha_2=0\n",
                "$$\n",
                "\n",
                "$$\n",
                "\\beta_0\\equiv\\frac{d_0+d_1s_0}{1-s_1d_1},\\quad\n",
                "\\beta_1\\equiv d_2,\\quad\n",
                "\\beta_2=0\n",
                "$$"
            ]
        },
        {
            "cell_type": "markdown",
            "metadata": {
                "hidden": true
            },
            "source": [
                "\uff08\u30b7\u30df\u30e5\u30ec\u30fc\u30b7\u30e7\u30f3\u30fb\u30d7\u30e9\u30f3\uff09\n",
                "* $s_0$\u3068$d_i$, $i=0,1,2$\u306e\u5024\u3092\u8a2d\u5b9a\u3057\uff0c(\u5f0f\uff13)\u3068(\u5f0f\uff14)\u306b\u5f93\u3046\u62bd\u51fa\u30c7\u30fc\u30bf\u3092\u751f\u6210\u3059\u308b\uff08\u6a19\u672c\u306e\u5927\u304d\u3055$=n$\uff09\n",
                "* \u3053\u306e\u6a19\u672c\u30c7\u30fc\u30bf\u3092\u4f7f\u3044(\u5f0f\uff12)\u3092\u63a8\u5b9a\u3057\uff0c\u63a8\u5b9a\u91cf\u306e\u30d0\u30a4\u30a2\u30b9\u3092\u78ba\u8a8d\u3059\u308b\u3002\n",
                "\n",
                "\u6bcd\u96c6\u56e3\u306e\u30d1\u30e9\u30e1\u30fc\u30bf\u3092\u6b21\u306e\u3088\u3046\u306b\u8a2d\u5b9a\u3059\u308b\u3002"
            ]
        },
        {
            "cell_type": "code",
            "execution_count": null,
            "metadata": {},
            "outputs": [],
            "source": [
                "\n",
                "\n",
                "",
                "",
                "",
                ""
            ]
        },
        {
            "cell_type": "markdown",
            "metadata": {
                "hidden": true
            },
            "source": [
                "\u6a19\u672c\u306e\u5927\u304d\u3055"
            ]
        },
        {
            "cell_type": "code",
            "execution_count": null,
            "metadata": {},
            "outputs": [],
            "source": []
        },
        {
            "cell_type": "markdown",
            "metadata": {
                "hidden": true
            },
            "source": [
                "\u62bd\u51fa\u3055\u308c\u305f\u8aac\u660e\u5909\u6570\u3068\u88ab\u8aac\u660e\u5909\u6570\uff08\u8aa4\u5dee\u9805\uff09"
            ]
        },
        {
            "cell_type": "code",
            "execution_count": null,
            "metadata": {},
            "outputs": [],
            "source": [
                "\n",
                "\n",
                ""
            ]
        },
        {
            "cell_type": "markdown",
            "metadata": {
                "hidden": true
            },
            "source": [
                "\u6bcd\u96c6\u56e3\u306e\u52b4\u50cd\u4f9b\u7d66\u66f2\u7dda"
            ]
        },
        {
            "cell_type": "code",
            "execution_count": null,
            "metadata": {},
            "outputs": [],
            "source": []
        },
        {
            "cell_type": "markdown",
            "metadata": {
                "hidden": true
            },
            "source": [
                "\u6bcd\u96c6\u56e3\u306e\u52b4\u50cd\u9700\u8981\u66f2\u7dda"
            ]
        },
        {
            "cell_type": "code",
            "execution_count": null,
            "metadata": {},
            "outputs": [],
            "source": []
        },
        {
            "cell_type": "markdown",
            "metadata": {
                "hidden": true
            },
            "source": [
                "\u52b4\u50cd\u9700\u8981\u66f2\u7dda\u3092\u4f7f\u3044\u8cc3\u91d1\u3092OLS\u63a8\u5b9a"
            ]
        },
        {
            "cell_type": "code",
            "execution_count": null,
            "metadata": {},
            "outputs": [],
            "source": [
                "\n",
                "\n",
                "",
                "",
                ""
            ]
        },
        {
            "cell_type": "markdown",
            "metadata": {
                "hidden": true
            },
            "source": [
                "\u5206\u304b\u308a\u3084\u3059\u304f\u8868\u793a\u3059\u308b\u3002"
            ]
        },
        {
            "cell_type": "code",
            "execution_count": null,
            "metadata": {},
            "outputs": [],
            "source": [
                "\n",
                "\n",
                ""
            ]
        },
        {
            "cell_type": "markdown",
            "metadata": {
                "hidden": true
            },
            "source": [
                "\u6a19\u672c\u306e\u5927\u304d\u3055\u304c\u975e\u5e38\u306b\u5927\u304d\u304f\u3066\u3082\u30d0\u30a4\u30a2\u30b9\u306f\u6d88\u3048\u306a\u3044\u3002"
            ]
        },
        {
            "cell_type": "markdown",
            "metadata": {
                "heading_collapsed": true,
                "hidden": true
            },
            "source": [
                "### \u30b7\u30df\u30e5\u30ec\u30fc\u30b7\u30e7\u30f3\uff12\uff1a\u63a8\u5b9a\u5024\u306e\u5206\u5e03"
            ]
        },
        {
            "cell_type": "markdown",
            "metadata": {
                "hidden": true
            },
            "source": [
                "`OLS`\u63a8\u5b9a\u91cf\u306e\u5206\u5e03\u3092\u78ba\u8a8d\u3059\u308b\u3002\u30b7\u30df\u30e5\u30ec\u30fc\u30b7\u30e7\u30f3\uff11\u3068\u540c\u3058\u30d1\u30e9\u30e1\u30fc\u30bf\u306e\u771f\u306e\u5024\u3092\u4f7f\u3046\u3002"
            ]
        },
        {
            "cell_type": "code",
            "execution_count": null,
            "metadata": {},
            "outputs": [],
            "source": [
                "\n",
                "\n",
                "",
                "",
                "",
                ""
            ]
        },
        {
            "cell_type": "markdown",
            "metadata": {
                "hidden": true
            },
            "source": [
                "\u30b7\u30df\u30e5\u30ec\u30fc\u30b7\u30e7\u30f3\u306e\u56de\u6570"
            ]
        },
        {
            "cell_type": "code",
            "execution_count": null,
            "metadata": {},
            "outputs": [],
            "source": []
        },
        {
            "cell_type": "markdown",
            "metadata": {
                "hidden": true
            },
            "source": [
                "\u30b7\u30df\u30e5\u30ec\u30fc\u30b7\u30e7\u30f3\u306e\u95a2\u6570\u3092\u8a2d\u5b9a\u3059\u308b\u3002"
            ]
        },
        {
            "cell_type": "code",
            "execution_count": null,
            "metadata": {},
            "outputs": [],
            "source": [
                "\n",
                "\n",
                "",
                "",
                "",
                "",
                "",
                "",
                "",
                "",
                "",
                "",
                "        # \u6bcd\u96c6\u56e3\u306e\u8aa4\u5dee\u9805\n",
                "\n",
                "\n",
                "        # \u6bcd\u96c6\u56e3\u306e\u8aa4\u5dee\u9805\n",
                "\n",
                "\n",
                "        # \u6bcd\u96c6\u56e3\u306e\u52b4\u50cd\u4f9b\u7d66\u66f2\u7dda\n",
                "\n",
                "\n",
                "        # \u6bcd\u96c6\u56e3\u306e\u52b4\u50cd\u9700\u8981\u66f2\u7dda\n",
                "\n",
                "\n",
                "        # \u8aac\u660e\u5909\u6570\u306e\u884c\u5217\n",
                "\n",
                "\n",
                "        # \u52b4\u50cd\u9700\u8981\u66f2\u7dda\u3092\u4f7f\u3044\u8cc3\u91d1\u3092OLS\u63a8\u5b9a\n",
                "\n",
                "\n",
                "",
                "",
                "",
                "",
                ""
            ]
        },
        {
            "cell_type": "markdown",
            "metadata": {
                "hidden": true
            },
            "source": [
                "\u30b7\u30df\u30e5\u30ec\u30fc\u30b7\u30e7\u30f3\u306e\u958b\u59cb"
            ]
        },
        {
            "cell_type": "code",
            "execution_count": null,
            "metadata": {},
            "outputs": [],
            "source": []
        },
        {
            "cell_type": "markdown",
            "metadata": {
                "hidden": true
            },
            "source": [
                "$\\hat{\\beta}_0$\u306e\u5206\u5e03"
            ]
        },
        {
            "cell_type": "code",
            "execution_count": null,
            "metadata": {},
            "outputs": [],
            "source": [
                "\n",
                "\n",
                ""
            ]
        },
        {
            "cell_type": "markdown",
            "metadata": {
                "hidden": true
            },
            "source": [
                "$\\hat{\\beta}_1$\u306e\u5206\u5e03"
            ]
        },
        {
            "cell_type": "code",
            "execution_count": null,
            "metadata": {},
            "outputs": [],
            "source": [
                "\n",
                "\n",
                ""
            ]
        },
        {
            "cell_type": "markdown",
            "metadata": {
                "hidden": true
            },
            "source": [
                "$\\hat{\\beta}_2$\u306e\u5206\u5e03"
            ]
        },
        {
            "cell_type": "code",
            "execution_count": null,
            "metadata": {},
            "outputs": [],
            "source": [
                "\n",
                "\n",
                ""
            ]
        }
    ],
    "metadata": {
        "kernelspec": {
            "display_name": "latest",
            "language": "python",
            "name": "latest"
        },
        "language_info": {
            "codemirror_mode": {
                "name": "ipython",
                "version": 3
            },
            "file_extension": ".py",
            "mimetype": "text/x-python",
            "name": "python",
            "nbconvert_exporter": "python",
            "pygments_lexer": "ipython3",
            "version": "3.8.2"
        },
        "toc": {
            "base_numbering": 1,
            "nav_menu": {},
            "number_sections": true,
            "sideBar": true,
            "skip_h1_title": false,
            "title_cell": "Table of Contents",
            "title_sidebar": "Contents",
            "toc_cell": false,
            "toc_position": {},
            "toc_section_display": true,
            "toc_window_display": false
        }
    },
    "nbformat": 4,
    "nbformat_minor": 2
}