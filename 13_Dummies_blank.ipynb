{
    "cells": [
        {
            "cell_type": "markdown",
            "metadata": {},
            "source": [
                "# \u8cea\u7684\u5909\u6570\u3068\u56de\u5e30\u5206\u6790"
            ]
        },
        {
            "cell_type": "code",
            "execution_count": null,
            "metadata": {},
            "outputs": [],
            "source": [
                "\n",
                "\n",
                "",
                ""
            ]
        },
        {
            "cell_type": "markdown",
            "metadata": {},
            "source": [
                "\u5b9f\u8a3c\u5206\u6790\u3067\u4f7f\u3046\u5909\u6570\u3092\u6b21\u306e\uff12\u7a2e\u985e\u306b\u533a\u5225\u3059\u308b\u3053\u3068\u304c\u3067\u304d\u308b\u3002\n",
                "1. \u91cf\u7684\u5909\u6570\uff08\u4f53\u91cd\uff0c\u8cc3\u91d1\u306a\u3069\uff09\n",
                "2. \u8cea\u7684\u5909\u6570\uff08\u6027\u5225\uff0c\u4eba\u7a2e\uff0c\u5730\u57df\u306a\u3069\uff09\n",
                "\n",
                "\u4eca\u307e\u3067\u306f\u91cf\u7684\u5909\u6570\u3092\u8003\u3048\u305f\u304c\uff0c\u3053\u3053\u3067\u306f\u8cea\u7684\u5909\u6570\u306b\u3064\u3044\u3066\u8b70\u8ad6\u3059\u308b\u3002\u307e\u305a\u7537\u5973\u306e\u3088\u3046\u306a\uff12\u3064\u306e\u5c5e\u6027\u306b\u5206\u3051\u308b\u30c0\u30df\u30fc\u5909\u6570\u3092\u8003\u3048\u308b\u3002\u305d\u306e\u5f8c\u306b\uff0c\u3088\u308a\u4e00\u822c\u7684\u306a3\u3064\u4ee5\u4e0a\u306e\u5c5e\u6027\u3092\u306b\u7279\u5fb4\u4ed8\u3051\u3089\u308c\u308b\u30ab\u30c6\u30b4\u30ea\u30fc\u5909\u6570\u3092\u6271\u3046\u5834\u5408\u3092\u8aac\u660e\u3059\u308b\u3002"
            ]
        },
        {
            "cell_type": "markdown",
            "metadata": {
                "heading_collapsed": true
            },
            "source": [
                "## \u30c0\u30df\u30fc\u5909\u6570"
            ]
        },
        {
            "cell_type": "markdown",
            "metadata": {
                "heading_collapsed": true,
                "hidden": true
            },
            "source": [
                "### \u30b1\u30fc\u30b9\uff11\uff1a\u5b9a\u6570\u9805\u3060\u3051\u306e\u56de\u5e30\u5206\u6790"
            ]
        },
        {
            "cell_type": "markdown",
            "metadata": {
                "heading_collapsed": true,
                "hidden": true
            },
            "source": [
                "#### \u30c0\u30df\u30fc\u5909\u6570\u306a\u3057"
            ]
        },
        {
            "cell_type": "markdown",
            "metadata": {
                "hidden": true
            },
            "source": [
                "\u76f4\u611f\u7684\u306a\u8aac\u660e\u306b\u3059\u308b\u305f\u3081\u306b\u8aac\u660e\u5909\u6570\u304c\u5b9a\u6570\u9805\u3060\u3051\u306e\u56de\u5e30\u5206\u6790\u304b\u3089\u59cb\u3081\u308b\u3002\n",
                "\u5177\u4f53\u7684\u306b\u306f\u6b21\u306e\u56de\u5e30\u5f0f\u3092\u8003\u3048\u308b\u3002\n",
                "\n",
                "$y=\\beta_0+u$\n",
                "\n",
                "\u5b9f\u306f\uff0c\u3053\u306e\u5834\u5408\u306eOLS\u63a8\u5b9a\u91cf$\\hat{\\beta}_0$\u306f\u88ab\u8aac\u660e\u5909\u6570$y$\u306e\u5e73\u5747\u3068\u7b49\u3057\u3044\u3053\u3068\u306b\u306a\u308b\u3002\u3053\u306e\u7d50\u679c\u3092\u78ba\u8a8d\u3059\u308b\u305f\u3081\u306b\u4ee5\u4e0b\u3067\u306f`wooldridge`\u30d1\u30c3\u30b1\u30fc\u30b8\u306e`wage1`\u306e\u30c7\u30fc\u30bf\u3092\u4f7f\u3046\u3002"
            ]
        },
        {
            "cell_type": "code",
            "execution_count": null,
            "metadata": {},
            "outputs": [],
            "source": [
                "\n"
            ]
        },
        {
            "cell_type": "markdown",
            "metadata": {
                "hidden": true
            },
            "source": [
                "\u6642\u9593\u5e73\u5747\u8cc3\u91d1`wage`\u3092\u88ab\u8aac\u660e\u5909\u6570\u306b\u8a2d\u5b9a\u3059\u308b\u3002`statsmodels`\u3067\u306f\uff0c\u5b9a\u6570\u9805\u3060\u3051\u306e\u56de\u5e30\u5f0f\u3092\u8003\u3048\u308b\u5834\u5408\uff0c`1`\u3092\u3064\u304b\u52a0\u3048\u308b\u5fc5\u8981\u304c\u3042\u308b\u3002"
            ]
        },
        {
            "cell_type": "code",
            "execution_count": null,
            "metadata": {},
            "outputs": [],
            "source": [
                "\n",
                "\n",
                "",
                "",
                ""
            ]
        },
        {
            "cell_type": "markdown",
            "metadata": {
                "hidden": true
            },
            "source": [
                "\u3053\u306e\u63a8\u5b9a\u5024\u304c\u8cc3\u91d1\u306e\u5e73\u5747\u3068\u7b49\u3057\u3044\u3053\u3092\u3092\u78ba\u8a8d\u3059\u308b\u305f\u3081\u306b\uff0c\u76f4\u63a5\u5e73\u5747\u3092\u8a08\u7b97\u3059\u308b\u3002"
            ]
        },
        {
            "cell_type": "code",
            "execution_count": null,
            "metadata": {},
            "outputs": [],
            "source": []
        },
        {
            "cell_type": "markdown",
            "metadata": {
                "hidden": true
            },
            "source": [
                "\u3053\u306e\u7d50\u679c\u306fGM\u4eee\u5b9a4\u306e$\\text{E}(u|X)=0$\u304b\u3089\u7c21\u5358\u306b\u5c0e\u51fa\u3067\u304d\u308b\u3002\u3053\u306e\u4eee\u5b9a\u3092\u6a19\u672c\u56de\u5e30\u5f0f\u3067\u8003\u3048\u308b\u3068\u6b21\u5f0f\u3068\u306a\u308b\u3002\n",
                "\n",
                "$$\\frac{1}{N}\\sum_{i=1}^Nu_i=0$$\n",
                "\n",
                "\u3053\u306e\u5f0f\u306e\u5de6\u8fba\u306b\u306b\u56de\u5e30\u5f0f\u3092\u4ee3\u5165\u3059\u308b\u3068\n",
                "\n",
                "$$\\frac{1}{N}\\sum_{i=1}^N\\left( y_i-\\beta_0\\right)=\\bar{y}-\\beta_0$$\n",
                "\n",
                "\u3053\u306e\u5f0f\u304c0\u3068\u306a\u308b$\\hat{\\beta_0}$\u304cOLS\u63a8\u5b9a\u91cf\u306a\u306e\u3067\n",
                "\n",
                "$$\\bar{y}=\\hat{\\beta_0}$$\n",
                "\n",
                "\u3068\u306a\u308b\u3002"
            ]
        },
        {
            "cell_type": "markdown",
            "metadata": {
                "heading_collapsed": true,
                "hidden": true
            },
            "source": [
                "#### \u30c0\u30df\u30fc\u5909\u6570\u3042\u308a\uff1a\uff12\u3064\u306e\u30b1\u30fc\u30b9"
            ]
        },
        {
            "cell_type": "markdown",
            "metadata": {
                "hidden": true
            },
            "source": [
                "\u540c\u3058\u30c7\u30fc\u30bf\u3092\u4f7f\u3063\u3066$\\{0,1\\}$\u306e\u5024\u3092\u53d6\u308b\u30c0\u30df\u30fc\u5909\u6570\u3092\u8003\u3048\u308b\u3002\u30c7\u30fc\u30bf\u30bb\u30c3\u30c8`wage1`\u306e\u4e2d\u306e`female`\u3068\u3044\u3046\u5909\u6570\u304c\u3042\u308a\uff0c\u4ee5\u4e0b\u306e\u5024\u3092\u53d6\u308b\u3002\n",
                "```\n",
                "\u5973\u6027\u306e\u5834\u5408\uff1afemale = 1\n",
                "\u7537\u6027\u306e\u5834\u5408\uff1afemale = 0\n",
                "```\n",
                "\u5024\u304c\uff10\u306e\u30ab\u30c6\u30b4\u30ea\u30fc\u3092**\u57fa\u672c\u30ab\u30c6\u30b4\u30ea\u30fc**\u3068\u3044\u3046\u3002\n",
                "\n",
                "$D$\u3092`female`\u306e\u30c0\u30df\u30fc\u5909\u6570\u3068\u3059\u308b\u3068\u56de\u5e30\u5f0f\u306f\u4ee5\u4e0b\u306e\u3088\u3046\u306b\u306a\u308b\u3002\n",
                "\n",
                "$$\n",
                "y=\\beta_0+\\beta_1D\n",
                "$$\n",
                "\n",
                "\u3055\u3089\u306b\uff0c\u3053\u306e\u5f0f\u306f$D=\\{0,1\\}$\u306e\u5024\u306b\u3088\u3063\u3066\u4ee5\u4e0b\u306e\u3088\u3046\u306b\u8868\u3059\u3053\u3068\u304c\u3067\u304d\u308b\u3002\n",
                "\n",
                "\u7537\u6027\uff1a$D=0\\quad\\Rightarrow\\quad y=\\beta_0+u$\n",
                "\n",
                "\u5973\u6027\uff1a$D=1\\quad\\Rightarrow\\quad y=\\beta_0+\\beta_1+u$\n",
                "\n",
                "\u5373\u3061\uff0cOLS\u63a8\u5b9a\u91cf\u306f\u4ee5\u4e0b\u3092\u8868\u3059\u3053\u3068\u306b\u306a\u308b\u3002\n",
                "\n",
                "$\\hat{\\beta}_0$\uff1a\u7537\u6027\u306e\u5e73\u5747\u8cc3\u91d1\n",
                "\n",
                "$\\hat{\\beta}_0+\\hat{\\beta}_1$\uff1a\u5973\u6027\u306e\u5e73\u5747\u8cc3\u91d1\n",
                "\n",
                "\u3053\u306e\u56de\u5e30\u5f0f\u3092\u4f7f\u3044\uff0c\u6642\u9593\u8cc3\u91d1\u306e\u7537\u5973\u9593\u306e\u5dee\u306b\u3064\u3044\u3066\u8003\u5bdf\u3059\u308b\u3002"
            ]
        },
        {
            "cell_type": "code",
            "execution_count": null,
            "metadata": {},
            "outputs": [],
            "source": [
                "\n",
                "\n",
                "",
                "",
                ""
            ]
        },
        {
            "cell_type": "markdown",
            "metadata": {
                "hidden": true
            },
            "source": [
                "* `female=0`\u306e\u5834\u5408\u306f\u7537\u6027\u306a\u306e\u3067\uff0c\u5b9a\u6570\u9805\u306e\u5024\uff08\u7d047.10\uff09\u304c\u7537\u6027\u306e\u6642\u9593\u8cc3\u91d1\u306e\u5e73\u5747\u3067\u3042\u308b\u3002\n",
                "* `female=1`\u306e\u5834\u5408\u306f\u5973\u6027\u306a\u306e\u3067\uff0c\u5973\u6027\u306e\u6642\u9593\u8cc3\u91d1\u306e\u5e73\u5747\u306f\n",
                "\n",
                "    $$7.10-2.51\\approx 4.59$$\n",
                "\n",
                "\u5373\u3061\uff0c\u7537\u6027\uff08\u57fa\u672c\u30ab\u30c6\u30b4\u30ea\u30fc\uff09\u3068\u6bd4\u3079\u3066\u5973\u6027\u306e\u5e73\u5747\u8cc3\u91d1\u306f2.51\u30c9\u30eb\u4f4e\u3044\u3002\n",
                "\n",
                "\u30c7\u30fc\u30bf\u3092\u4f7f\u3044\u76f4\u63a5\u7537\u5973\u306e\u5e73\u5747\u3092\u8a08\u7b97\u3057\u3066\u78ba\u8a8d\u3059\u308b\u3002\n",
                "\n",
                "\uff1c\u5973\u6027\u306e\u5834\u5408\uff1e"
            ]
        },
        {
            "cell_type": "code",
            "execution_count": null,
            "metadata": {},
            "outputs": [],
            "source": [
                "# \u5973\u6027\u3060\u3051\u3092\u62bd\u51fa\u3059\u308bTrue/False\u6761\u4ef6\u306e\u4f5c\u6210\n",
                "\n",
                "\n",
                ""
            ]
        },
        {
            "cell_type": "markdown",
            "metadata": {
                "hidden": true
            },
            "source": [
                "\uff1c\u7537\u6027\u306e\u5834\u5408\uff1e"
            ]
        },
        {
            "cell_type": "code",
            "execution_count": null,
            "metadata": {},
            "outputs": [],
            "source": [
                "# \u7537\u6027\u3060\u3051\u3092\u62bd\u51fa\u3059\u308bTrue/False\u6761\u4ef6\u306e\u4f5c\u6210\n",
                "\n",
                "\n",
                ""
            ]
        },
        {
            "cell_type": "markdown",
            "metadata": {
                "hidden": true
            },
            "source": [
                "**\uff08\u89e3\u91c8\uff09**\n",
                "* \u5973\u6027\u306e\u6642\u9593\u8cc3\u91d1\u306f\u7d042.51\u30c9\u30eb\u4f4e\u3044\n",
                "* \u3057\u304b\u3057\u6bd4\u8f03\u3059\u308b\u5834\u5408\uff0c\u540c\u3058\u6761\u4ef6\u3067\u6bd4\u3079\u308b\u3079\u304d\u3067\u306f\u306a\u3044\u3060\u308d\u3046\u304b\u3002\u4f8b\u3048\u3070\uff0c\u672a\u5a5a\u30fb\u65e2\u5a5a\uff0c\u6559\u80b2\u5e74\u6570\u3084\u5c31\u52b4\u671f\u9593\u304c\u8cc3\u91d1\u306b\u5f71\u97ff\u3059\u308b\u5834\u5408\uff0c\u3053\u306e\u5dee\u3092\u8003\u616e\u3059\u3079\u304d\u3067\u3042\u308b\u3002\u3057\u304b\u3057\uff0c\u3053\u306e\u56de\u5e30\u5f0f\u306b\u306f\u305d\u306e\u3088\u3046\u306a\u5909\u6570\u306f\u542b\u307e\u308c\u3066\u3044\u306a\u3044\u305f\u3081\uff0c\u542b\u307e\u308c\u3066\u3044\u306a\u3044\u5909\u6570\u306e\u9055\u3044\u304c\u8cc3\u91d1\u306e\u9055\u3044\u306b\u53cd\u6620\u3055\u308c\u3066\u3044\u308b\u53ef\u80fd\u6027\u304c\u9ad8\u3044\u3002"
            ]
        },
        {
            "cell_type": "markdown",
            "metadata": {
                "heading_collapsed": true,
                "hidden": true
            },
            "source": [
                "#### \u30c0\u30df\u30fc\u5909\u6570\u3042\u308a\uff1a\uff14\u3064\u306e\u30b1\u30fc\u30b9"
            ]
        },
        {
            "cell_type": "markdown",
            "metadata": {
                "hidden": true
            },
            "source": [
                "\u30c7\u30fc\u30bf\u30bb\u30c3\u30c8`wage1`\u306b\u306f`married`\u3068\u3044\u3046\u5909\u6570\u304c\u542b\u307e\u308c\u3066\u304a\u308a\uff0c\u4ee5\u4e0b\u306e\u5024\u3092\u3068\u308b\u3002\n",
                "```\n",
                "\u65e2\u5a5a\u8005\u306e\u5834\u5408\uff1amarried = 1\n",
                "\u672a\u5a5a\u8005\u306e\u5834\u5408\uff1amarried = 0\n",
                "```\n",
                "`female`\u3068\u7d44\u307f\u5408\u308f\u305b\u308b\u3053\u3068\u306b\u3088\u308a\uff0c\u6b21\u306e\uff14\u3064\u306e\u30b1\u30fc\u30b9\u3092\u5206\u3051\u308b\u3053\u3068\u304c\u3067\u304d\u308b\u3002\n",
                "```\n",
                "\u672a\u5a5a\u7537\u6027\uff1afemale=0, married=0\n",
                "\u672a\u5a5a\u5973\u6027\uff1afemale=1, married=0\n",
                "\u65e2\u5a5a\u5973\u6027\uff1afemale=1, married=1\n",
                "\u65e2\u5a5a\u7537\u6027\uff1afemale=0, married=1\n",
                "```\n",
                "\u3053\u306e\uff14\u3064\u306e\u30b1\u30fc\u30b9\u3092\u6349\u3048\u308b\u305f\u3081\u306b\u3001`female`\u3068`married`\u306e\u5024\u306b\u3088\u3063\u3066`0`\u3082\u3057\u304f\u306f`1`\u306e\u5024\u306b\u306a\u308b\u30c0\u30df\u30fc\u5909\u6570\u3092\u4f5c\u6210\u3059\u308b\u3002\n",
                "\n",
                "---\n",
                "\uff1c\u30b9\u30c6\u30c3\u30d7\uff11\uff1e\n",
                "\n",
                "\u65b0\u305f\u306a\u30c0\u30df\u30fc\u5909\u6570\u306e\u4f5c\u6210\u30eb\u30fc\u30eb\u3092\u5b9a\u7fa9\u3059\u308b\u95a2\u6570\u3092\u4f5c\u6210\u3059\u308b\u3002\u3053\u306e\u95a2\u6570\u3067\u306f`DataFrame`\u306e\u884c\u3092\u5f15\u6570\u3068\u3059\u308b\u3002"
            ]
        },
        {
            "cell_type": "code",
            "execution_count": null,
            "metadata": {},
            "outputs": [],
            "source": [
                "# \u4ee5\u4e0b\u3067\u306f row \u3092DataFrame\u306e\u884c\u3068\u8003\u3048\u308b\u3002\n",
                "\n",
                "# \u672a\u5a5a\u7537\u6027\u306e\u95a2\u6570\n",
                "\n",
                "\n",
                "",
                "",
                "",
                "",
                "# \u65e2\u5a5a\u7537\u6027\u306e\u95a2\u6570\n",
                "\n",
                "\n",
                "",
                "",
                "",
                "",
                "# \u672a\u5a5a\u5973\u6027\u306e\u95a2\u6570\n",
                "\n",
                "\n",
                "",
                "",
                "",
                "",
                "# \u65e2\u5a5a\u5973\u6027\u306e\u95a2\u6570\n",
                "\n",
                "\n",
                "",
                "",
                ""
            ]
        },
        {
            "cell_type": "markdown",
            "metadata": {
                "hidden": true
            },
            "source": [
                "\uff1c\u30b9\u30c6\u30c3\u30d7\uff12\uff1e\n",
                "\n",
                "\u4e0a\u306e\u95a2\u6570\u3092\u4f7f\u3044\uff0c`wage1`\u306b\u65b0\u305f\u306a\u5217\u3092\u8ffd\u52a0\u3059\u308b\u3002\n",
                "\n",
                "\u4ee5\u4e0b\u306e\u30b3\u30fc\u30c9\u3067\u4f7f\u3046`.apply()`\u306f\u7b2c\uff11\u5f15\u6570\u306e\u95a2\u6570\u3092\u884c\u307e\u305f\u306f\u5217\u306b\u9069\u7528\u3059\u308b\u30e1\u30bd\u30c3\u30c9\u3067\u3042\u308b\u3002`axis=1`\u306f\u300c\u4efb\u610f\u306e\u5217\u306b\u6cbf\u3063\u3066\u5404\u884c\u306b\u95a2\u6570\u3092\u9069\u7528\u3059\u308b\u300d\u3053\u3068\u3092\u6307\u5b9a\u3057\u3066\u3044\u308b\uff08`axis='columns'`\u3067\u3082OK\uff09\u3002\u307e\u305f\u3001\u5f15\u6570\u306e\u95a2\u6570\u306b`()`\u306f\u66f8\u304b\u306a\u3044\u3053\u3068\u306b\u6ce8\u610f\u3057\u3088\u3046\u3002\u5373\u3061\uff0c\u5f15\u6570\u306b\u95a2\u6570\u540d\uff08\u95a2\u6570\u3092\u53c2\u7167\u3059\u308b\u300c\u53c2\u7167\u8a18\u53f7\u300d\uff09\u3092\u5f15\u6570\u3068\u3059\u308b\u3053\u3068\u306b\u3088\u308a\uff0c\u95a2\u6570\u306e\u30aa\u30d6\u30b8\u30a7\u30af\u30c8\u3092\u53c2\u7167\u3057\u3066\u3044\u308b\u3053\u3068\u306b\u306a\u308b\u3002\u5373\u3061\u3001`.apply()`\u306f\u7b2c\uff11\u5f15\u6570\u306e\u95a2\u6570\u3092\u53c2\u7167\u3057\u3001\u305d\u308c\u3092\u5b9f\u884c\u3059\u308b\u30e1\u30bd\u30c3\u30c9\u3067\u3042\u308b\u3002"
            ]
        },
        {
            "cell_type": "code",
            "execution_count": null,
            "metadata": {},
            "outputs": [],
            "source": [
                "\n",
                "\n",
                "",
                "",
                "",
                ""
            ]
        },
        {
            "cell_type": "markdown",
            "metadata": {
                "hidden": true
            },
            "source": [
                "\u4e00\u65b9\u3067\u30b3\u30fc\u30c9\u3092\u66f8\u304f\u969b\u3001\u4f3c\u305f\u3082\u306e\u3092\u30b3\u30d4\u30da\u3057\u3066\u5c11\u3057\u3060\u3051\u5909\u66f4\u3059\u308b\u3053\u3068\u3092\u7e70\u308a\u8fd4\u3059\u3068\u30a8\u30e9\u30fc\u3084\u610f\u56f3\u3057\u306a\u3044\u7d50\u679c\u306b\u3064\u306a\u304c\u308b\u53ef\u80fd\u6027\u304c\u9ad8\u304f\u306a\u308b\u3002\u305d\u306e\u5834\u5408\u306f\u3001\u6b21\u306e\u3088\u3046\u306b`for`\u30eb\u30fc\u30d7\u3067\u66f8\u304f\u3053\u3068\u3092\u85a6\u3081\u308b\u3002\n",
                "\n",
                "\u307e\u305a\u8f9e\u66f8\u3092\u4f5c\u6210\u3059\u308b\uff1a\n",
                "* \u30ad\u30fc\u3092\u5217\u306e\u30e9\u30d9\u30eb\n",
                "* \u5024\u3092\u95a2\u6570\u540d"
            ]
        },
        {
            "cell_type": "code",
            "execution_count": null,
            "metadata": {},
            "outputs": [],
            "source": [
                "\n",
                "\n",
                "",
                ""
            ]
        },
        {
            "cell_type": "markdown",
            "metadata": {
                "hidden": true
            },
            "source": [
                "\u6b21\u306b`func_dict`\u3092\u4f7f\u3044`for`\u30eb\u30fc\u30d7\u3067\u5217\u3092\u8ffd\u52a0\u3059\u308b\u3002\u3053\u3053\u3067`key`\u306f\u8f9e\u66f8\u306e\u30ad\u30fc\u3092\u6307\u3059\u3002"
            ]
        },
        {
            "cell_type": "code",
            "execution_count": null,
            "metadata": {},
            "outputs": [],
            "source": [
                "\n",
                "\n",
                "",
                ""
            ]
        },
        {
            "cell_type": "markdown",
            "metadata": {
                "hidden": true
            },
            "source": [
                "---\n",
                "\u3053\u308c\u3089\uff14\u3064\u306e\u30b1\u30fc\u30b9\u3092\u6349\u3048\u308b\u305f\u3081\u306b\u6b21\u306e\u56de\u5e30\u5f0f\u3092\u4f7f\u3046\u3002\n",
                "\n",
                "$y=\\beta_0+\\beta_1D_1+\\beta_2D_2+\\beta_3D_3+u$\n",
                "\n",
                "* \u57fa\u672c\u30ab\u30c6\u30b4\u30ea\u30fc\uff1a`singmale`\n",
                "* $D_1$=`marmale`\n",
                "* $D_2$=`singfem`\n",
                "* $D_3$=`marfem`"
            ]
        },
        {
            "cell_type": "markdown",
            "metadata": {
                "hidden": true
            },
            "source": [
                "---\n",
                "$D_1=\\{0,1\\}$\u3001$D_2=\\{0,1\\}$\u3001$D_3=\\{0,1\\}$\u306e\u53d6\u308b\u5024\u3092\u8003\u616e\u3059\u308b\u3068\uff0c\u4ee5\u4e0b\u306e\uff14\u3064\u306e\u30d1\u30bf\u30fc\u30f3\u306b\u5206\u3051\u308b\u3053\u3068\u304c\u3067\u304d\u308b\u3002\n",
                "\n",
                "$D_1=0$ & $D_2=0$ & $D_3=0\\quad\\Rightarrow\\quad$\n",
                "$y=\\beta_0+u$\n",
                "\n",
                "$D_1=1$ & $D_2=0$ & $D_3=0\\quad\\Rightarrow\\quad$\n",
                "$y=\\beta_0+\\beta_1+u$\n",
                "\n",
                "$D_1=0$ & $D_2=1$ & $D_3=0\\quad\\Rightarrow\\quad$\n",
                "$y=\\beta_0+\\beta_2+u$\n",
                "\n",
                "$D_1=0$ & $D_2=0$ & $D_3=1\\quad\\Rightarrow\\quad$\n",
                "$y=\\beta_0+\\beta_3+u$\n",
                "\n",
                "\u5373\u3061\uff0cOLS\u63a8\u5b9a\u91cf\u306f\u4ee5\u4e0b\u3092\u8868\u3059\u3053\u3068\u306b\u306a\u308b\u3002\n",
                "\n",
                "$\\hat{\\beta}_0$\uff1a\u672a\u5a5a\u7537\u6027\u306e\u5e73\u5747\u8cc3\u91d1\n",
                "\n",
                "$\\hat{\\beta}_0+\\hat{\\beta}_1$\uff1a\u65e2\u5a5a\u7537\u6027\u306e\u5e73\u5747\u8cc3\u91d1\n",
                "\n",
                "$\\hat{\\beta}_0+\\hat{\\beta}_2$\uff1a\u672a\u5a5a\u5973\u6027\u306e\u5e73\u5747\u8cc3\u91d1\n",
                "\n",
                "$\\hat{\\beta}_0+\\hat{\\beta}_3$\uff1a\u65e2\u5a5a\u5973\u6027\u306e\u5e73\u5747\u8cc3\u91d1"
            ]
        },
        {
            "cell_type": "code",
            "execution_count": null,
            "metadata": {},
            "outputs": [],
            "source": [
                "\n",
                "\n",
                "",
                "",
                "",
                ""
            ]
        },
        {
            "cell_type": "markdown",
            "metadata": {
                "hidden": true
            },
            "source": [
                "\uff08\u7d50\u679c\uff09\n",
                "* \u672a\u5a5a\u7537\u6027\u306e\u5e73\u5747\u8cc3\u91d1\u306f\u7d045.16\n",
                "* \u672a\u5a5a\u7537\u6027\u306b\u6bd4\u3079\u3066\u65e2\u5a5a\u7537\u6027\u306e\u5e73\u5747\u8cc3\u91d1\u306f\u7d042.82\u9ad8\u3044\n",
                "* \u672a\u5a5a\u7537\u6027\u306b\u6bd4\u3079\u3066\u672a\u5a5a\u5973\u6027\u306e\u5e73\u5747\u8cc3\u91d1\u306f\u7d040.56\u4f4e\u3044\n",
                "* \u672a\u5a5a\u7537\u6027\u306b\u6bd4\u3079\u3066\u65e2\u5a5a\u5973\u6027\u306e\u5e73\u5747\u8cc3\u91d1\u306f\u7d040.60\u4f4e\u3044"
            ]
        },
        {
            "cell_type": "markdown",
            "metadata": {
                "hidden": true
            },
            "source": [
                "`wage1`\u306e\u30c7\u30fc\u30bf\u304b\u3089\u76f4\u63a5\u8a08\u7b97\u3057\u3066\u78ba\u8a8d\u3059\u308b\u3002\n",
                "\n",
                "\u672a\u5a5a\u7537\u6027\u306e\u5e73\u5747\u8cc3\u91d1"
            ]
        },
        {
            "cell_type": "code",
            "execution_count": null,
            "metadata": {},
            "outputs": [],
            "source": []
        },
        {
            "cell_type": "code",
            "execution_count": null,
            "metadata": {},
            "outputs": [],
            "source": []
        },
        {
            "cell_type": "markdown",
            "metadata": {
                "hidden": true
            },
            "source": [
                "\u65e2\u5a5a\u7537\u6027\u306e\u5e73\u5747\u8cc3\u91d1"
            ]
        },
        {
            "cell_type": "code",
            "execution_count": null,
            "metadata": {},
            "outputs": [],
            "source": []
        },
        {
            "cell_type": "code",
            "execution_count": null,
            "metadata": {},
            "outputs": [],
            "source": []
        },
        {
            "cell_type": "markdown",
            "metadata": {
                "hidden": true
            },
            "source": [
                "\u672a\u5a5a\u5973\u6027\u306e\u5e73\u5747\u8cc3\u91d1"
            ]
        },
        {
            "cell_type": "code",
            "execution_count": null,
            "metadata": {},
            "outputs": [],
            "source": []
        },
        {
            "cell_type": "code",
            "execution_count": null,
            "metadata": {},
            "outputs": [],
            "source": []
        },
        {
            "cell_type": "markdown",
            "metadata": {
                "hidden": true
            },
            "source": [
                "\u65e2\u5a5a\u5973\u6027\u306e\u5e73\u5747\u8cc3\u91d1"
            ]
        },
        {
            "cell_type": "code",
            "execution_count": null,
            "metadata": {},
            "outputs": [],
            "source": []
        },
        {
            "cell_type": "code",
            "execution_count": null,
            "metadata": {},
            "outputs": [],
            "source": []
        },
        {
            "cell_type": "markdown",
            "metadata": {
                "heading_collapsed": true,
                "hidden": true
            },
            "source": [
                "### \u30b1\u30fc\u30b9\uff12\uff1a\u5b9a\u91cf\u7684\u5909\u6570\u306e\u5c0e\u5165"
            ]
        },
        {
            "cell_type": "markdown",
            "metadata": {
                "hidden": true
            },
            "source": [
                "\uff11\u3064\u306e\u30c0\u30df\u30fc\u5909\u6570`female`\u3060\u3051\u304c\u5165\u308b\u30b1\u30fc\u30b9\u306b\u6b21\u306e\u5909\u6570\u3092\u52a0\u3048\u305f\u56de\u5e30\u5f0f\u3092\u8003\u3048\u308b\u3002\n",
                "* `educ`\uff1a\u6559\u80b2\u5e74\u6570\n",
                "* `exper`\uff1a\u96c7\u7528\u7d4c\u9a13\u5e74\u6570\n",
                "* `tenure`\uff1a\u52e4\u7d9a\u5e74\u6570"
            ]
        },
        {
            "cell_type": "code",
            "execution_count": null,
            "metadata": {},
            "outputs": [],
            "source": [
                "\n",
                "\n",
                "",
                "",
                ""
            ]
        },
        {
            "cell_type": "markdown",
            "metadata": {
                "hidden": true
            },
            "source": [
                "\uff08\u89e3\u91c8\uff09\n",
                "* \u8cc3\u91d1\u683c\u5dee\u306f\u7d04-1.81\u306b\u6e1b\u5c11\u3057\u305f\u3002\u3053\u308c\u306f`educ`, `exper`, `tenure`\u306e\u5f71\u97ff\u3092\u53d6\u308a\u9664\u3044\u305f\u7d50\u679c\u3067\u3042\u308b\u3002\u8a00\u3044\u63db\u3048\u308b\u3068\uff0c\u6559\u80b2\uff0c\u7d4c\u9a13\uff0c\u5c31\u52b4\u671f\u9593\u3092\u6240\u4e0e\u3068\u3059\u308b\u3068\uff08\u305d\u308c\u3089\u306e\u5909\u6570\u304c\u540c\u3058\u3067\u3042\u308b\u5834\u5408\u3068\u3044\u3046\u610f\u5473\uff09\uff0c\u5973\u6027\u306e\u6642\u9593\u8cc3\u91d1\u306f\u7d041.8\u30c9\u30eb\u4f4e\u3044\u3002\n",
                "* \u5973\u6027\u5dee\u5225\u3092\u6349\u3048\u3066\u3044\u308b\u306e\u3060\u308d\u3046\u304b\uff1f\u56de\u5e30\u5f0f\u306b\u306a\u3044\u5909\u6570\uff08\u305d\u306e\u5f71\u97ff\u306f\u8aa4\u5dee\u9805\u306b\u5165\u3063\u3066\u3044\u308b\uff09\u304c\u6b8b\u3063\u3066\u3044\u308b\u53ef\u80fd\u6027\u304c\u3042\u308b\u306e\u3067\uff0c\u5fc5\u305a\u3057\u3082\u305d\u3046\u3067\u306f\u306a\u3044\u3002\u307e\u305f\u305d\u306e\u5834\u5408\uff0c\u6b20\u843d\u5909\u6570\u30d0\u30a4\u30a2\u30b9\u3082\u767a\u751f\u3057\u5f97\u308b\u3002"
            ]
        },
        {
            "cell_type": "markdown",
            "metadata": {
                "heading_collapsed": true,
                "hidden": true
            },
            "source": [
                "### \u30b1\u30fc\u30b9\uff13\uff1a\u30c0\u30df\u30fc\u5909\u6570\u306e\u4ea4\u5dee\u9805"
            ]
        },
        {
            "cell_type": "markdown",
            "metadata": {
                "hidden": true
            },
            "source": [
                "\u30b1\u30fc\u30b9\uff11\u3068\uff12\u306e\u88ab\u8aac\u660e\u5909\u6570\u306f`wage`\u3092\u305d\u306e\u307e\u307e\u4f7f\u3063\u305f\u304c\uff0c\u3053\u3053\u3067\u306f\u5bfe\u6570\u3092\u53d6\u308a\u8cc3\u91d1\u65b9\u7a0b\u5f0f\u306b\u30c0\u30df\u30fc\u5909\u6570\u306e\u4ea4\u5dee\u9805\u3092\u5165\u308c\u3066\u8003\u5bdf\u3059\u308b\u3002\n",
                "\n",
                "\u4ee5\u4e0b\u306e\u56de\u5e30\u5f0f\u3092\u8003\u3048\u308b\u3002\n",
                "\n",
                "$$y=\\beta_0+\\beta_1D+ \\beta_2Dx+\\beta_3x + u$$\n",
                "\n",
                "\u3053\u3053\u3067$D$\u304c\u30c0\u30df\u30fc\u5909\u6570\uff0c$x=$\u306f\u5b9a\u91cf\u7684\u5909\u6570\u3067\u3042\u308a\uff0c$Dx$\u304c\u30c0\u30df\u30fc\u5909\u6570\u306e\u4ea4\u5dee\u9805\u3067\u3042\u308b\u3002\u30c0\u30df\u30fc\u5909\u6570\u304c\u53d6\u308b\u5024$D=\\{0,1\\}$\u306b\u5206\u3051\u3066\u8003\u3048\u308b\u3068\uff0c\u4ee5\u4e0b\u3092\u63a8\u5b9a\u3059\u308b\u3053\u3068\u306b\u306a\u308b\u3002\n",
                "\n",
                "$D=0\\quad\\Rightarrow\\quad\n",
                "y=\\beta_0+\\beta_3x + u$\n",
                "\n",
                "$D=1\\quad\\Rightarrow\\quad\n",
                "y=\\left(\\beta_0+\\beta_1\\right)+ \\left(\\beta_2+\\beta_3\\right)x + u$\n",
                "\n"
            ]
        },
        {
            "cell_type": "markdown",
            "metadata": {
                "hidden": true
            },
            "source": [
                "---\n",
                "\u5177\u4f53\u4f8b\u3068\u3057\u3066$D=$\n",
                "`female`\uff0c$x=$`educ`\u3068\u3059\u308b\u3068OLS\u63a8\u5b9a\u91cf\u306f\u4ee5\u4e0b\u3092\u8868\u3059\u3053\u3068\u306b\u306a\u308b\u3002\n",
                "\n",
                "$\\hat{\\beta}_0$\uff1a\uff08\u6559\u80b2\u306e\u52b9\u679c\u3092\u53d6\u308a\u9664\u3044\u305f\uff09\u7537\u6027\u306e\u5e73\u5747\u8cc3\u91d1\uff08\u5bfe\u6570\uff09\n",
                "\n",
                "$\\hat{\\beta}_3$\uff1a\u7537\u6027\u306e\u8cc3\u91d1\u306b\u5bfe\u3059\u308b\u6559\u80b2\u306e\u52b9\u679c\uff08\uff05\uff09\n",
                "\n",
                "$\\hat{\\beta}_0+\\hat{\\beta}_1$\uff1a\uff08\u6559\u80b2\u306e\u52b9\u679c\u3092\u53d6\u308a\u9664\u3044\u305f\uff09\u5973\u6027\u306e\u5e73\u5747\u8cc3\u91d1\uff08\u5bfe\u6570\uff09\n",
                "\n",
                "$\\hat{\\beta}_2+\\hat{\\beta}_3$\uff1a\u5973\u6027\u306e\u8cc3\u91d1\u306b\u5bfe\u3059\u308b\u6559\u80b2\u306e\u52b9\u679c\uff08\uff05\uff09\n",
                "\n",
                "\n",
                "\uff08\u6ce8\u610f\uff09\n",
                "\n",
                "`statsmodels`\u306e\u56de\u5e30\u5f0f\u3067\u306f$\\text{female}\\times \\text{educ}$\u3092$\\text{female}:\\text{educ}$\u3068\u66f8\u304f\u3002"
            ]
        },
        {
            "cell_type": "code",
            "execution_count": null,
            "metadata": {},
            "outputs": [],
            "source": [
                "\n",
                "\n",
                ""
            ]
        },
        {
            "cell_type": "code",
            "execution_count": null,
            "metadata": {},
            "outputs": [],
            "source": []
        },
        {
            "cell_type": "markdown",
            "metadata": {
                "hidden": true
            },
            "source": [
                "**$t$\u691c\u5b9a**\n",
                "* `female`\n",
                "    * \u6559\u80b2\u306a\u3069\u306e\u5f71\u97ff\u3092\u7701\u3044\u305f\u5f8c\u306e\u5e73\u5747\u8cc3\u91d1\u306e\u5dee\n",
                "    * 5%\u6709\u610f\u6c34\u6e96\u3067$\\text{H}_0$`female`=0\u306f\u68c4\u5374\u3067\u304d\u306a\u3044\u3002\n",
                "* `female:educ`\n",
                "\n",
                "    * \u6559\u80b2\u306a\u3069\u306e\u5f71\u97ff\u3092\u7701\u3044\u305f\u5f8c\u306e\u6559\u80b2\u306e\u53ce\u76ca\u7387\u306e\u5dee\n",
                "    * 5%\u6709\u610f\u6c34\u6e96\u3067$\\text{H}_0$\n",
                "    `female:educ`=0\u306f\u68c4\u5374\u3067\u304d\u306a\u3044\u3002\n",
                "\n",
                "**$F$\u691c\u5b9a**\n",
                "\n",
                "$\\text{H}_0$: `female`$=$\n",
                "`female:educ`$=0$\u306e\u5236\u7d04\u3092\u8003\u3048\u3088\u3046\u3002"
            ]
        },
        {
            "cell_type": "code",
            "execution_count": null,
            "metadata": {},
            "outputs": [],
            "source": [
                "\n",
                "\n",
                ""
            ]
        },
        {
            "cell_type": "markdown",
            "metadata": {
                "hidden": true
            },
            "source": [
                "$\\text{H}_0$\u306f\u68c4\u5374\u3055\u308c\u308b\u3002\n",
                "\n",
                "$t$\u691c\u5b9a\u3067\u306f\uff0c`female`\u3068`female:educ`\u306f\u305d\u308c\u305e\u308c\u306e\u5e30\u7121\u4eee\u8aac\u304c\u68c4\u5374\u3055\u308c\u306a\u304b\u3063\u305f\u304c\uff0c$F$\u691c\u5b9a\u3067\u306f\u5236\u7d04\u304c\u68c4\u5374\u3055\u308c\u305f\u3002\u4e00\u8cab\u6027\u304c\u306a\u304f\u8aac\u660e\u5909\u6570\u304c\u4e0d\u8db3\u3057\u3066\u3044\u308b\u53ef\u80fd\u6027\u304c\u3042\u308b\u3002"
            ]
        },
        {
            "cell_type": "markdown",
            "metadata": {
                "heading_collapsed": true
            },
            "source": [
                "## \u30ab\u30c6\u30b4\u30ea\u30fc\u5909\u6570"
            ]
        },
        {
            "cell_type": "markdown",
            "metadata": {
                "hidden": true
            },
            "source": [
                "\u30ab\u30c6\u30b4\u30ea\u30fc\u5909\u6570\u3068\u306f\u5b9a\u6027\u7684\u306a\u5909\u6570\u3067\u3042\u308a\uff0c\u7537\u5973\u3082\u30ab\u30c6\u30b4\u30ea\u30fc\u5909\u6570\u306e\u4e00\u7a2e\u3067\u3042\u308b\u3002\u30ab\u30c6\u30b4\u30ea\u30fc\u5909\u6570\u3092\u30c0\u30df\u30fc\u5909\u6570\u306b\u5909\u63db\u3059\u308b\u306b\u306f2\u3064\u306e\u65b9\u6cd5\u304c\u3042\u308b\u3002\n",
                "\n",
                "1. `statsmodels`\u306b\u306f\u30ab\u30c6\u30b4\u30ea\u30fc\u5909\u6570\u306b\u81ea\u52d5\u7684\u306b\u30c0\u30df\u30fc\u5909\u6570\u3092\u5272\u308a\u5f53\u3066\u308b\u6a5f\u80fd\u304c\u3042\u308b\u3002\u64cd\u4f5c\u306f\u7c21\u5358\u3067\uff0c\u5358\u306b\u56de\u5e30\u5f0f\u306e\u4e2d\u3067`C()`\u306e\u4e2d\u306b\u30ab\u30c6\u30b4\u30ea\u30fc\u5909\u6570\u3092\u5165\u308c\u308b\u3060\u3051\u3067\u3042\u308b\u3002\n",
                "1. `C()`\u3092\u4f7f\u308f\u306a\u3044\u65b9\u6cd5\u3002"
            ]
        },
        {
            "cell_type": "markdown",
            "metadata": {
                "heading_collapsed": true,
                "hidden": true
            },
            "source": [
                "### `C()`\u3092\u4f7f\u3046\u65b9\u6cd5"
            ]
        },
        {
            "cell_type": "markdown",
            "metadata": {
                "hidden": true
            },
            "source": [
                "\u5f0f\u306e\u4e2d\u306b\u30c0\u30df\u30fc\u5909\u6570\u3092\u5165\u308c\u308b\u305f\u3081\u306b\u306f\uff0c\u5909\u6570\u304c`pandas`\u306e\u30ab\u30c6\u30b4\u30ea\u30fc\u578b\u5909\u6570\u306b\u5909\u63db\u3055\u308c\u308b\u5fc5\u8981\u304c\u3042\u308b\u3002\u56de\u5e30\u5f0f\u306e\u4e2d\u3067`C()`\u3092\u4f7f\u3046\u3068\uff0c\u6587\u5b57\u578b\u30c7\u30fc\u30bf\u306a\u3069\u306f\u81ea\u52d5\u7684\u306b\u5909\u63db\u3055\u308c\u308b\u3002"
            ]
        },
        {
            "cell_type": "markdown",
            "metadata": {
                "heading_collapsed": true,
                "hidden": true
            },
            "source": [
                "#### \u4f8b\uff11"
            ]
        },
        {
            "cell_type": "markdown",
            "metadata": {
                "hidden": true
            },
            "source": [
                "\u4f8b\u3068\u3057\u3066\uff0c\u7537\u5973\u306e\u30ab\u30c6\u30b4\u30ea\u30fc\u304c\u3042\u308b`wage1`\u306e\u30c7\u30fc\u30bf\u30bb\u30c3\u30c8\u3092\u3082\u3046\u4e00\u5ea6\u4f7f\u3046\u3002"
            ]
        },
        {
            "cell_type": "code",
            "execution_count": null,
            "metadata": {},
            "outputs": [],
            "source": []
        },
        {
            "cell_type": "markdown",
            "metadata": {
                "hidden": true
            },
            "source": [
                "`df`\u306e\u30e1\u30bd\u30c3\u30c9`replace()`\u3092\u4f7f\u3063\u3066`female`\u306e\u5217\u306e\u5024\u3092\u4ee5\u4e0b\u306e\u30eb\u30fc\u30eb\u306b\u6cbf\u3063\u3066\u5909\u63db\u3057\uff0c\u305d\u308c\u3092`df`\u306b`sex`\u3068\u3044\u3046\u5217\u3068\u3057\u3066\u5165\u308c\u76f4\u3059\u3002\n",
                "* 1 $\\Rightarrow$ `female`\n",
                "* 0 $\\Rightarrow$ `male`\n",
                "\n",
                "`replace()`\u306e\u4e2d\u306f\u8f9e\u66f8\u306b\u306a\u3063\u3066\u3044\u308b\uff08`replace()`\u306e\u4ee3\u308f\u308a\u306b`map()`\u3067\u3082OK\uff09\u3002"
            ]
        },
        {
            "cell_type": "code",
            "execution_count": null,
            "metadata": {},
            "outputs": [],
            "source": []
        },
        {
            "cell_type": "code",
            "execution_count": null,
            "metadata": {},
            "outputs": [],
            "source": []
        },
        {
            "cell_type": "markdown",
            "metadata": {
                "hidden": true
            },
            "source": [
                "`sex`\u306e\u5909\u6570\u3092`C()`\u306b\u5165\u308c\u3066\u56de\u5e30\u5f0f\u3092\u66f8\u3044\u3066\u8a08\u7b97\u3002"
            ]
        },
        {
            "cell_type": "code",
            "execution_count": null,
            "metadata": {},
            "outputs": [],
            "source": [
                "\n",
                "\n",
                "",
                "",
                ""
            ]
        },
        {
            "cell_type": "markdown",
            "metadata": {
                "hidden": true
            },
            "source": [
                "---\n",
                "`C(sex)[T.male]`\u306b\u3064\u3044\u3066\n",
                "* `T`\u306f`Treatment`\u306e\u982d\u6587\u5b57\u3067\uff0c\u901a\u5e38\u306e\u30c0\u30df\u30fc\u5909\u6570\u3092\u8a2d\u5b9a\u3059\u308b\u3053\u3068\u3092\u793a\u3057\u3066\u3044\u308b\u3002\n",
                "* `male`\u306f`male`\u306e\u5909\u6570\u3067\u3042\u308b\u3053\u3068\u3092\u8868\u3057\u3066\u304a\u308a\uff0c\u81ea\u52d5\u7684\u306b`female`\u304c\u57fa\u672c\u30ab\u30c6\u30b4\u30ea\u30fc\u306b\u8a2d\u5b9a\u3055\u308c\u305f\u3053\u3068\u304c\u5206\u304b\u308b\u3002\n",
                "\n",
                "\uff08\u7d50\u679c\uff09\n",
                "\n",
                "`C(sex)[T.male]`\u306f`female`\u306b\u6bd4\u3079\u3066`male`\u306e\u8cc3\u91d1\u306f\u7d042.27\u30c9\u30eb\u9ad8\u3044\u3053\u3068\u3092\u793a\u3057\u3066\u3044\u308b\u3002"
            ]
        },
        {
            "cell_type": "markdown",
            "metadata": {
                "hidden": true
            },
            "source": [
                "---\n",
                "\u4e00\u65b9\u3067\uff0c\u57fa\u672c\u30ab\u30c6\u30b4\u30ea\u30fc\u3092\u624b\u52d5\u3067\u8a2d\u5b9a\u3057\u305f\u3044\u5834\u5408\u304c\u3042\u308b\u3002\u305d\u306e\u5834\u5408\u306b\u306f`C()`\u306b`Treatment(\"\uff1c\u8a2d\u5b9a\u3057\u305f\u3044\u30ab\u30c6\u30b4\u30ea\u30fc\uff1e\")`\u3092\u5f15\u6570\u3068\u3057\u3066\u8ffd\u52a0\u3059\u308b\u3002\n",
                "\n",
                "\uff08\u6ce8\u610f\uff09`Treatment()`\u306e\u4e2d\u306f double quotations `\" \"`\u3092\u4f7f\u7528\u3059\u308b\u3053\u3068\u3002\n",
                "\n",
                "\u4f8b\u3048\u3070\uff0c`male`\u3092\u57fa\u672c\u30ab\u30c6\u30b4\u30ea\u30fc\u3068\u3059\u308b\u3002"
            ]
        },
        {
            "cell_type": "code",
            "execution_count": null,
            "metadata": {},
            "outputs": [],
            "source": [
                "\n",
                "\n",
                "",
                "",
                ""
            ]
        },
        {
            "cell_type": "markdown",
            "metadata": {
                "hidden": true
            },
            "source": [
                "\u3053\u306e\u7d50\u679c\u306f\uff0c`male`\u57fa\u672c\u30ab\u30c6\u30b4\u30ea\u30fc\u3068\u3059\u308b\u4ee5\u4e0b\u306e\u7d50\u679c\u3068\u540c\u3058\u3067\u3042\u308b\u3002"
            ]
        },
        {
            "cell_type": "code",
            "execution_count": null,
            "metadata": {},
            "outputs": [],
            "source": [
                "\n",
                "\n",
                "",
                "",
                ""
            ]
        },
        {
            "cell_type": "markdown",
            "metadata": {
                "heading_collapsed": true,
                "hidden": true
            },
            "source": [
                "#### \u4f8b\uff12"
            ]
        },
        {
            "cell_type": "markdown",
            "metadata": {
                "hidden": true
            },
            "source": [
                "\u7c73\u56fd\u30cb\u30e5\u30fc\u30b8\u30e3\u30fc\u30b8\u30fc\u3068\u30da\u30f3\u30b7\u30eb\u30d9\u30cb\u30a2\u306e\u30d5\u30a1\u30fc\u30b9\u30c8\u30fb\u30d5\u30fc\u30c9\u5e97\u3067\u4eba\u7a2e\u3068\u6240\u5f97\u306b\u3088\u3063\u3066\u4fa1\u683c\u5dee\u5225\u3092\u304a\u3053\u306a\u3063\u3066\u3044\u308b\u304b\u3092\u691c\u8a3c\u3059\u308b\u4f8b\u3092\u53d6\u308a\u4e0a\u3052\u308b\u3002`wooldridge`\u30d1\u30c3\u30b1\u30fc\u30b8\u306e\u30c7\u30fc\u30bf\u30bb\u30c3\u30c8`discrim`\u306b\u306f\u4ee5\u4e0b\u306e\u5909\u6570\u304c\u542b\u307e\u308c\u3066\u3044\u308b\u3002\n",
                "* \u30d5\u30e9\u30a4\u30c9\u30fb\u30dd\u30c6\u30c8\u306e\u5e73\u5747\u4fa1\u683c\uff08`pfries`\uff09\n",
                "* \u4eba\u53e3\u306b\u304a\u3051\u308b\u9ed2\u4eba\u306e\u6bd4\u7387\uff08`prpblck`\uff09\n",
                "* \u5e73\u5747\u6240\u5f97\uff08`income`\uff09\n",
                "* \uff14\u3064\u306e\u30d5\u30a1\u30fc\u30b9\u30c8\u30fb\u30d5\u30fc\u30c9\u5e97\uff08`chain`; \u30ab\u30c6\u30b4\u30ea\u30fc\u5909\u6570\u30671~4\u306e\u6570\u5b57\u304c\u4f7f\u308f\u308c\u3066\u3044\u308b\uff09\n",
                "    * `1`: Berger King\n",
                "    * `2`: KFC\n",
                "    * `3`: Roy Rogers\n",
                "    * `4`: Wendy's"
            ]
        },
        {
            "cell_type": "code",
            "execution_count": null,
            "metadata": {},
            "outputs": [],
            "source": [
                "\n"
            ]
        },
        {
            "cell_type": "markdown",
            "metadata": {
                "hidden": true
            },
            "source": [
                "\u305d\u308c\u305e\u308c\u306e\u30d5\u30a1\u30fc\u30b9\u30c8\u30fb\u30d5\u30fc\u30c9\u5e97\u306e\u6570\u3092\u78ba\u8a8d\u3059\u308b\u3002"
            ]
        },
        {
            "cell_type": "code",
            "execution_count": null,
            "metadata": {},
            "outputs": [],
            "source": []
        },
        {
            "cell_type": "markdown",
            "metadata": {
                "hidden": true
            },
            "source": [
                "OLS\u63a8\u5b9a\u3092\u304a\u3053\u306a\u3046\u3002"
            ]
        },
        {
            "cell_type": "code",
            "execution_count": null,
            "metadata": {},
            "outputs": [],
            "source": [
                "\n",
                "\n",
                "",
                "",
                ""
            ]
        },
        {
            "cell_type": "markdown",
            "metadata": {
                "hidden": true
            },
            "source": [
                "\u81ea\u52d5\u7684\u306bBerger King\u304c\u57fa\u672c\u30ab\u30c6\u30b4\u30ea\u30fc\u306b\u8a2d\u5b9a\u3055\u308c\u3066\u3044\u308b\u3002\n",
                "\n",
                "\uff08\u7d50\u679c\uff09\n",
                "* BK\u3068KFC\u306e\u4fa1\u683c\u6bd4\u8f03\n",
                "\n",
                "    $$\n",
                "    \\ln P_{\\text{BK}}-\\ln P_{\\text{KFC}}=-0.0682 \\\\\n",
                "    \\quad\\Downarrow \\\\\n",
                "    \\dfrac{P_{\\text{BK}}}{P_{\\text{KFC}}}=e^{-0.0682}=1.071\n",
                "    $$\n",
                "    \n",
                "* `prpblck`\u3068`np.log(income)`\u306e$p$\u5024\u306f`0`\u306b\u8fd1\u304f\uff0c\u5e30\u7121\u4eee\u8aac\u306f\uff11\uff05\u6709\u610f\u6c34\u6e96\u3067\u3082\u68c4\u5374\u3067\u304d\u308b\u3002"
            ]
        },
        {
            "cell_type": "markdown",
            "metadata": {
                "heading_collapsed": true,
                "hidden": true
            },
            "source": [
                "### `C()`\u3092\u4f7f\u308f\u306a\u3044\u65b9\u6cd5"
            ]
        },
        {
            "cell_type": "markdown",
            "metadata": {
                "hidden": true
            },
            "source": [
                "\u4f8b\uff12\u3092\u4f7f\u3063\u3066\u8aac\u660e\u3059\u308b\u3002\u307e\u305a\u8aac\u660e\u306e\u524d\u6e96\u5099\u3068\u3057\u3066`discrim`\u306e\u4e2d\u3067\u4f7f\u3046\u5909\u6570\u3060\u3051\u3092\u53d6\u308a\u51fa\u305d\u3046\u3002"
            ]
        },
        {
            "cell_type": "code",
            "execution_count": null,
            "metadata": {},
            "outputs": [],
            "source": [
                "\n"
            ]
        },
        {
            "cell_type": "markdown",
            "metadata": {
                "hidden": true
            },
            "source": [
                "`replace()`\u3092\u4f7f\u3063\u3066`chain`\u306e\u5217\u306e\u5024\u3092\u4ee5\u4e0b\u306e\u30eb\u30fc\u30eb\u306b\u6cbf\u3063\u3066\u5909\u63db\u3059\u308b\u3002\n",
                "* `1` $\\Rightarrow$ Berger King\n",
                "* `2` $\\Rightarrow$ KFC\n",
                "* `3` $\\Rightarrow$ Roy Rogers\n",
                "* `4` $\\Rightarrow$ Wendy's"
            ]
        },
        {
            "cell_type": "code",
            "execution_count": null,
            "metadata": {},
            "outputs": [],
            "source": [
                "\n",
                "\n",
                "",
                ""
            ]
        },
        {
            "cell_type": "markdown",
            "metadata": {
                "hidden": true
            },
            "source": [
                "`DataFrame`\u306e\u7279\u5fb4\u3092\u78ba\u8a8d\u3059\u308b\u3002"
            ]
        },
        {
            "cell_type": "code",
            "execution_count": null,
            "metadata": {},
            "outputs": [],
            "source": []
        },
        {
            "cell_type": "markdown",
            "metadata": {
                "hidden": true
            },
            "source": [
                "\u5217`chain`\u306f`object`\u3068\u306a\u3063\u3066\u304a\u308a\u6587\u5b57\u578b\u3067\u3042\u308b\u3053\u3068\u304c\u308f\u304b\u308b\u3002"
            ]
        },
        {
            "cell_type": "markdown",
            "metadata": {
                "hidden": true
            },
            "source": [
                "\uff1c`C()`\u3092\u4f7f\u308f\u306a\u3044\u65b9\u6cd5\uff1e\n",
                "* `pandas`\u306e\u95a2\u6570\u3067\u3042\u308b`pd.Categorical()`\u3092\u4f7f\u3063\u3066\u5217`chain`\u3092`pandas`\u306e\u30ab\u30c6\u30b4\u30ea\u30fc\u578b\u306b\u5909\u63db\u3059\u308b\u3002"
            ]
        },
        {
            "cell_type": "code",
            "execution_count": null,
            "metadata": {},
            "outputs": [],
            "source": [
                "\n"
            ]
        },
        {
            "cell_type": "markdown",
            "metadata": {
                "hidden": true
            },
            "source": [
                "\u5217`chain`\u306f`category`\u306b\u306a\u3063\u3066\u3044\u308b\u3002\u5f8c\u306f\uff0c`chain`\u3092\u305d\u306e\u307e\u307e\u56de\u5e30\u5f0f\u306b\u4f7f\u3046\u3060\u3051\u3067\u3042\u308b\u3002"
            ]
        },
        {
            "cell_type": "code",
            "execution_count": null,
            "metadata": {},
            "outputs": [],
            "source": [
                "\n",
                "\n",
                "",
                "",
                ""
            ]
        },
        {
            "cell_type": "markdown",
            "metadata": {
                "hidden": true
            },
            "source": [
                "`C()`\u3092\u4f7f\u3063\u3066\u63a8\u5b9a\u3057\u305f\u7d50\u679c\u3068\u540c\u3058\u3067\u3042\u308b\u3002"
            ]
        }
    ],
    "metadata": {
        "celltoolbar": "Tags",
        "kernel_info": {
            "name": "py4etrics"
        },
        "kernelspec": {
            "display_name": "latest",
            "language": "python",
            "name": "latest"
        },
        "language_info": {
            "codemirror_mode": {
                "name": "ipython",
                "version": 3
            },
            "file_extension": ".py",
            "mimetype": "text/x-python",
            "name": "python",
            "nbconvert_exporter": "python",
            "pygments_lexer": "ipython3",
            "version": "3.8.2"
        },
        "nteract": {
            "version": "0.15.0"
        },
        "toc": {
            "base_numbering": 1,
            "nav_menu": {},
            "number_sections": true,
            "sideBar": true,
            "skip_h1_title": false,
            "title_cell": "Table of Contents",
            "title_sidebar": "Contents",
            "toc_cell": false,
            "toc_position": {},
            "toc_section_display": true,
            "toc_window_display": false
        }
    },
    "nbformat": 4,
    "nbformat_minor": 2
}