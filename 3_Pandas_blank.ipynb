{
    "cells": [
        {
            "cell_type": "markdown",
            "metadata": {},
            "source": [
                "# Pandas"
            ]
        },
        {
            "cell_type": "markdown",
            "metadata": {},
            "source": [
                "`Pandas`\u306f`NumPy`\u306e`array`\u306e\u3088\u3046\u306b\u30c7\u30fc\u30bf\u3092\u6271\u3046\u30d1\u30c3\u30b1\u30fc\u30b8\u3060\u304c\uff0cPandas\u7279\u6709\u306e\u30c7\u30fc\u30bf\u69cb\u9020\u3092\u63d0\u4f9b\u3057\u8907\u96d1\u306a\u30c7\u30fc\u30bf\u3092\u6271\u3044\u3084\u3059\u304f\u3057\u3066\u3044\u308b\u3002\u4f8b\u3048\u3070\uff0c\u884c\u5217\u306b\u306f\u30e9\u30d9\u30eb\u3092\u4f7f\u3046\u3053\u3068\u306b\u3088\u308a\uff0c\u30a4\u30f3\u30c7\u30c3\u30af\u30b9\u756a\u53f7\u3060\u3051\u3067\u306f\u306a\u304f\u30e9\u30d9\u30eb\u540d\uff08\u4f8b\u3048\u3070\uff0cGDP\uff09\u3092\u4f7f\u3063\u3066\u64cd\u4f5c\u3059\u308b\u3053\u3068\u304c\u53ef\u80fd\u3068\u306a\u308b\u3002Pandas\u306b\u306f`DataFrame`\uff08\u30c7\u30fc\u30bf\u30d5\u30ec\u30fc\u30e0\uff09\u3068`Series`\uff08\u30b7\u30ea\u30fc\u30ba\uff09\u3068\u547c\u3070\u308c\u308b\u30aa\u30d6\u30b8\u30a7\u30af\u30c8\u304c\u3042\u308b\u3002\u524d\u8005\u306f\u30a8\u30af\u30bb\u30eb\u306e\u30b9\u30d7\u30ec\u30c3\u30c9\u30fb\u30b7\u30fc\u30c8\u3092\u30a4\u30e1\u30fc\u30b8\u3059\u308c\u3070\u826f\u3044\u3060\u308d\u3046\u3002\u5f8c\u8005\u306f\uff0c\u30b9\u30d7\u30ec\u30c3\u30c9\u30fb\u30b7\u30fc\u30c8\u304b\u3089\uff11\u3064\u306e\u884c\u307e\u305f\u306f\u5217\u3092\u53d6\u308a\u51fa\u3057\u305f\u3088\u3046\u306a\u30c7\u30fc\u30bf\u3068\u601d\u3048\u3070\u826f\u3044\u3002\u307e\u305f\uff0c`Pandas`\u306f`NumPy`\u306b\u57fa\u3065\u3044\u3066\u3044\u308b\u305f\u3081\uff0c\u30d9\u30af\u30c8\u30eb\u6f14\u7b97\uff08\u30d6\u30ed\u30fc\u30c9\u30ad\u30e3\u30b9\u30c6\u30a3\u30f3\u30b0\uff09\u306e\u6a5f\u80fd\u304c\u4f7f\u3048\u308b\u3002\n",
                "\n",
                "\u3053\u3053\u3067\u8aac\u660e\u3067\u304d\u306a\u3044\u4ed6\u306e\u4f7f\u3044\u65b9\u306b\u3064\u3044\u3066\u306f[\u3053\u306e\u30b5\u30a4\u30c8](https://github.com/ysdyt/pandas_tutorial)\u3068[\u3053\u306e\u30b5\u30a4\u30c8](https://note.nkmk.me/python-pandas-post-summary/)\u304c\u53c2\u8003\u306b\u306a\u308b\u3002\n",
                "\n",
                "\u901a\u5e38`pd`\u3068\u3044\u3046\u540d\u524d\u3067\u8aad\u307f\u8fbc\u3080\u3002"
            ]
        },
        {
            "cell_type": "code",
            "execution_count": null,
            "metadata": {},
            "outputs": [],
            "source": []
        },
        {
            "cell_type": "markdown",
            "metadata": {
                "heading_collapsed": true
            },
            "source": [
                "## \u30c7\u30fc\u30bf\u306e\u8aad\u307f\u8fbc\u307f\u3068\u30c7\u30fc\u30bf\u306e\u30c1\u30a7\u30c3\u30af"
            ]
        },
        {
            "cell_type": "markdown",
            "metadata": {
                "hidden": true
            },
            "source": [
                "\u69d8\u3005\u306a\u30c7\u30fc\u30bf\u3092\u8aad\u307f\u8fbc\u3080\u3053\u3068\u304c\u53ef\u80fd\u3060\u304c\uff0c\u3053\u3053\u3067\u306f`read_csv()`\u95a2\u6570\u3092\u4f7f\u3063\u3066\u30a4\u30f3\u30bf\u30fc\u30cd\u30c3\u30c8\u4e0a\u306e`.csv`\u30d5\u30a1\u30a4\u30eb\u3092\u8aad\u307f\u8fbc\u3080\u3002"
            ]
        },
        {
            "cell_type": "code",
            "execution_count": null,
            "metadata": {},
            "outputs": [],
            "source": [
                "# url \u306e\u8a2d\u5b9a\n",
                "\n",
                "\n",
                "# \u8aad\u307f\u8fbc\u307f\n"
            ]
        },
        {
            "cell_type": "markdown",
            "metadata": {
                "hidden": true
            },
            "source": [
                "`df`\u5168\u4f53\u3092\u8868\u793a\u3055\u305b\u308b\u3002"
            ]
        },
        {
            "cell_type": "code",
            "execution_count": null,
            "metadata": {},
            "outputs": [],
            "source": []
        },
        {
            "cell_type": "markdown",
            "metadata": {
                "hidden": true
            },
            "source": [
                "\u884c\u30e9\u30d9\u30eb\u304c\u30a4\u30f3\u30c7\u30c3\u30af\u30b9\uff08\u756a\u53f7\uff09\u306e\u307e\u307e\u306a\u306e\u3067\uff0c\u5217`year`\u3092\u884c\u30e9\u30d9\u30eb\u306b\u8a2d\u5b9a\u3059\u308b\u3002\n",
                "\n",
                "* `set_index()`\uff1a\u9078\u629e\u3055\u308c\u305f\u5217\u3092\u884c\u30e9\u30d9\u30eb\u306b\u3059\u308b\u30e1\u30bd\u30c3\u30c9"
            ]
        },
        {
            "cell_type": "code",
            "execution_count": null,
            "metadata": {},
            "outputs": [],
            "source": [
                "\n"
            ]
        },
        {
            "cell_type": "markdown",
            "metadata": {
                "hidden": true
            },
            "source": [
                "```{tip}\n",
                "* `df.set_index('year')`\u306f\u76f4\u63a5`df`\u306b\u5f71\u97ff\u3092\u4e0e\u3048\u306a\u3044\u3002\u5358\u306b\uff0c\u66f8\u304d\u63db\u3048\u308b\u3068\u3069\u3046\u306a\u308b\u304b\u3092\u8868\u793a\u3057\u3066\u3044\u308b\u3002\u3053\u3053\u3067\u306f`df`\u306b\u518d\u5ea6\u5272\u308a\u5f53\u3066\u308b\u3053\u3068\u306b\u3088\u308a`df`\u81ea\u4f53\u3092\u4e0a\u66f8\u304d\u3057\u3066\u3044\u308b\u3002\n",
                "* \u51fa\u529b\u306b\u3042\u308b`NaN`\uff08Not a Number\uff09\u306f\u6b20\u640d\u5024\u3092\u793a\u3059\u3002\n",
                "* \u884c\u30e9\u30d9\u30eb\u306b`year`\u3068\u3044\u3046\u5217\u540d\u304c\u6b8b\u308b\u304c\uff0c\u305d\u308c\u3092\u6d88\u3059\u306b\u306f\u30e1\u30bd\u30c3\u30c9`.rename_axis('')`\u3092\u4f7f\u3046\u3002\u3053\u3053\u3067`''`\u306f\u7a7a\u306e\u6587\u5b57\u5217\u3067\u3042\u308b\u3002\n",
                "```"
            ]
        },
        {
            "cell_type": "markdown",
            "metadata": {
                "hidden": true
            },
            "source": [
                "\u884c\u6570\u304c\u5927\u304d\u3044\u5834\u5408\uff08\u4f8b\u3048\u3070\uff0c10000\uff09\uff0c\u5168\u3066\u3092\u8868\u793a\u3057\u3066\u3082\u3042\u307e\u308a\u610f\u5473\u304c\u306a\u3044\u3002\u305d\u3053\u3067\u3088\u304f\u4f7f\u3046\u30e1\u30bd\u30c3\u30c9\u306b\u6700\u521d\u3084\u6700\u5f8c\u306e\u6570\u884c\u3060\u3051\u3092\u8868\u793a\u3059\u3082\u306e\u304c\u3042\u308b\u3002\n",
                "\n",
                "`df`\u306e\u6700\u521d\u306e\uff15\u884c\u3092\u8868\u793a\u3055\u305b\u308b\u3002"
            ]
        },
        {
            "cell_type": "code",
            "execution_count": null,
            "metadata": {},
            "outputs": [],
            "source": []
        },
        {
            "cell_type": "markdown",
            "metadata": {
                "hidden": true
            },
            "source": [
                "\u5f15\u6570\u306b3\u3092\u6307\u5b9a\u3059\u308b\u3068\u6700\u521d\u306e3\u884c\u306e\u307f\u8868\u793a\u3055\u308c\u308b\u3002"
            ]
        },
        {
            "cell_type": "code",
            "execution_count": null,
            "metadata": {},
            "outputs": [],
            "source": []
        },
        {
            "cell_type": "markdown",
            "metadata": {
                "hidden": true
            },
            "source": [
                "\u6700\u5f8c\u306e5\u884c\u3092\u8868\u793a\u3055\u305b\u308b\u3002\u5f15\u6570\u306b\u6574\u6570\u3092\u5165\u308c\u3066\u8868\u793a\u884c\u6570\u3092\u6307\u5b9a\u3059\u308b\u3053\u3068\u3082\u53ef\u80fd\u3002"
            ]
        },
        {
            "cell_type": "code",
            "execution_count": null,
            "metadata": {},
            "outputs": [],
            "source": []
        },
        {
            "cell_type": "markdown",
            "metadata": {
                "hidden": true
            },
            "source": [
                "`df`\u306e\u60c5\u5831\u3092\u78ba\u8a8d\u3059\u308b\u3002"
            ]
        },
        {
            "cell_type": "code",
            "execution_count": null,
            "metadata": {},
            "outputs": [],
            "source": []
        },
        {
            "cell_type": "markdown",
            "metadata": {
                "hidden": true
            },
            "source": [
                "**\u8aac\u660e**\uff1a\n",
                "* `<class 'pandas.core.frame.DataFrame'>`\n",
                "    * \u30af\u30e9\u30b9\u540d\n",
                "    * `type(1)`\u3068\u3059\u308b\u3068`int`\u3068\u3044\u3046\u30c7\u30fc\u30bf\u578b\u304c\u8868\u793a\u3059\u308b\u304c\uff0c\u3053\u308c\u306f\u30af\u30e9\u30b9\u540d\u3067\u3082\u3042\u308b\u3002`print(type(1))`\u3068\u3059\u308b\u3068`<class 'int'>`\u3068\u8868\u793a\u3055\u308c\u308b\u3002\n",
                "* `Int64Index: 11 entries, 2000 to 2010`\n",
                "    * \u884c\u306e\u30a4\u30f3\u30c7\u30c3\u30af\u30b9\u306e\u60c5\u5831\n",
                "    * \u30c7\u30fc\u30bf\u578b\u306f`Int64`(\u6574\u6570\uff09\uff08\u30c7\u30fc\u30bf\u578b\u306b\u306f`64`\u3084`32`\u3068\u3044\u3046\u6570\u5b57\u304c\u3064\u3044\u3066\u3044\u308b\u5834\u5408\u304c\u3042\u308b\u3002\u305d\u308c\u3089\u306f\u6570\u5b57\u3092\u30b3\u30f3\u30d4\u30e5\u30fc\u30bf\u306e\u30e1\u30e2\u30ea\u306b\u8a18\u61b6\u3055\u305b\u308b\u969b\uff0c\u4f55\u30d3\u30c3\u30c8\u5fc5\u8981\u304b\u3092\u793a\u3057\u3066\u3044\u308b\u3002\u3088\u308a\u91cd\u8981\u306a\u306e\u306f`Int`\uff08\u6574\u6570\uff09\u306e\u90e8\u5206\u3067\u3042\u308b\u3002\uff09\n",
                "    * 11\u500b\u306e\u30c7\u30fc\u30bf\u30672000\u304b\u30892010\n",
                "* `Data columns (total 5 columns):`\n",
                "    * \u30c7\u30fc\u30bf\u5217\u306e\u6570\uff085\u3064\uff09\n",
                "* `gdp  11 non-null int64`\n",
                "    * \u30c7\u30fc\u30bf\u578b\u306f`int64`\n",
                "    * 11\u306e\u30c7\u30fc\u30bf\u304c\u3042\u308a\uff0c\u6b20\u640d\u5024\u306a\u3057\uff08`non-null`\u3068\u306f\u6b20\u640d\u5024\u3067\u306f\u306a\u3044\u30c7\u30fc\u30bf\uff09\n",
                "* `inv  10 non-null float64`\n",
                "    * \u30c7\u30fc\u30bf\u578b\u306f`float64`\n",
                "    * 10\u306e\u30c7\u30fc\u30bf\u304c\u3042\u308a\uff0c\u6b20\u640d\u5024\u6570\u306f1\uff08\uff1d11-10\uff09\n",
                "* `con  9 non-null float64`\n",
                "    * \u30c7\u30fc\u30bf\u578b\u306f`float64`\n",
                "    * 9\u306e\u30c7\u30fc\u30bf\u304c\u3042\u308a\uff0c\u6b20\u640d\u5024\u6570\u306f2\uff08\uff1d11-9\uff09\n",
                "* `pop  11 non-null int64`\n",
                "    * \u30c7\u30fc\u30bf\u578b\u306f`int64`\n",
                "    * 11\u306e\u30c7\u30fc\u30bf\u304c\u3042\u308a\uff0c\u6b20\u640d\u5024\u6570\u306a\u3057\n",
                "* `id   11 non-null object`\n",
                "    * \u30c7\u30fc\u30bf\u578b\u306f`object`\uff08\u6587\u5b57\u5217\u306a\u3069\u306e\u5834\u5408\uff09\n",
                "    * 11\u306e\u30c7\u30fc\u30bf\u304c\u3042\u308a\uff0c\u6b20\u640d\u5024\u6570\u306a\u3057\n",
                "* `dtypes: float64(2), int64(2), object(1)`\n",
                "    * `df`\u306e\u5217\u306b\u3069\u306e\u3088\u3046\u306a\u306e\u30c7\u30fc\u30bf\u578b\u304b\u3092\u793a\u3059\n",
                "    * `float64`\u3068`int64`\u304c2\u5217\u3064\u305a\u3064\uff0c\u6587\u5b57\u5217\u306f\uff11\u5217\n",
                "* `memory usage: 528.0+ bytes`\n",
                "    * \u30e1\u30e2\u30ea\u30fc\u4f7f\u7528\u91cf\u306f\u7d04528.0\u30d0\u30a4\u30c8\n",
                "\n",
                "\u30c7\u30fc\u30bf\u3092\u8aad\u307f\u8fbc\u3093\u3060\u3089\u5fc5\u305a`info()`\u3092\u4f7f\u3063\u3066\u6b20\u640d\u5024\u306e\u6570\u3084\u5217\u306e\u30c7\u30fc\u30bf\u578b\u3092\u78ba\u8a8d\u3059\u308b\u3053\u3068\u3002\n",
                "\n",
                "\u307e\u305f\uff0c\u30c7\u30fc\u30bf\u306e\u7d71\u8a08\u7684\u306a\u7279\u5fb4\u306f\u6b21\u306e\u30e1\u30bd\u30c3\u30c9\u3067\u30c1\u30a7\u30c3\u30af\u3067\u304d\u308b\u3002"
            ]
        },
        {
            "cell_type": "code",
            "execution_count": null,
            "metadata": {},
            "outputs": [],
            "source": []
        },
        {
            "cell_type": "markdown",
            "metadata": {
                "hidden": true
            },
            "source": [
                "* `count`\uff1a\u89b3\u6e2c\u5024\u306e\u6570\n",
                "* `mean`\uff1a\u5e73\u5747\n",
                "* `std`\uff1a\u6a19\u6e96\u504f\u5dee\n",
                "* `min`\uff1a\u6700\u5c0f\u5024\n",
                "* `max`\uff1a\u6700\u5927\u5024\n",
                "* `25%`\uff1a\u7b2c\uff11\u56db\u5206\u4f4d\u6570\n",
                "* `50%`\uff1a\u7b2c\uff12\u56db\u5206\u4f4d\u6570\uff08\u4e2d\u592e\u5024\uff09\n",
                "* `75%`\uff1a\u7b2c\uff13\u56db\u5206\u4f4d\u6570\n",
                "* `max`\uff1a\u6700\u5927\u5024\n",
                "\n",
                "\n",
                "\u6b21\u306e\u30c7\u30fc\u30bf\u5c5e\u6027\u3092\u4f7f\u3063\u3066`df`\u306e\u884c\u3068\u5217\u306e\u9577\u3055\u3092\u78ba\u8a8d\u3059\u308b\u3053\u3068\u304c\u3067\u304d\u308b\u3002\u8fd4\u5024\u306f\u30bf\u30d7\u30eb\u3067\uff0c`(\u884c\u306e\u6570\uff0c\u5217\u306e\u6570)`\u3068\u89e3\u91c8\u3059\u308b\u3002"
            ]
        },
        {
            "cell_type": "code",
            "execution_count": null,
            "metadata": {},
            "outputs": [],
            "source": []
        },
        {
            "cell_type": "markdown",
            "metadata": {
                "hidden": true
            },
            "source": [
                "\u8fd4\u5024\u306f\u30bf\u30d7\u30eb\u306a\u306e\u3067\uff0c\u884c\u6570\u306f\u4ee5\u4e0b\u3067\u53d6\u5f97\u3067\u304d\u308b\u3002"
            ]
        },
        {
            "cell_type": "code",
            "execution_count": null,
            "metadata": {},
            "outputs": [],
            "source": []
        },
        {
            "cell_type": "markdown",
            "metadata": {
                "hidden": true
            },
            "source": [
                "\u4ee5\u4e0b\u3067\u3082\u884c\u6570\u3092\u793a\u3059\u3053\u3068\u304c\u3067\u304d\u308b\u3002"
            ]
        },
        {
            "cell_type": "code",
            "execution_count": null,
            "metadata": {},
            "outputs": [],
            "source": []
        },
        {
            "cell_type": "markdown",
            "metadata": {
                "heading_collapsed": true
            },
            "source": [
                "## DataFrame\u306e\u69cb\u6210\u8981\u7d20"
            ]
        },
        {
            "cell_type": "markdown",
            "metadata": {
                "hidden": true
            },
            "source": [
                "`DataFrame`\u306b\u306f\u69d8\u3005\u306a\u5c5e\u6027\u304c\u3042\u308b\u304c\uff0c\u3053\u3053\u3067\u306f\u4ee5\u4e0b\u306e\uff13\u70b9\u306b\u3064\u3044\u3066\u8aac\u660e\u3059\u308b\u3002\n",
                "\n",
                "* \u30c7\u30fc\u30bf\uff08`df.values`\uff09\n",
                "* \u5217\u30e9\u30d9\u30eb\uff08`df.columns`\uff09\n",
                "* \u884c\u30e9\u30d9\u30eb\uff08`df.index`\uff09\n",
                "\n",
                "\u307e\u305a\u30c7\u30fc\u30bf\u81ea\u4f53\u3092\u62bd\u51fa\u3059\u308b\u3002"
            ]
        },
        {
            "cell_type": "code",
            "execution_count": null,
            "metadata": {},
            "outputs": [],
            "source": []
        },
        {
            "cell_type": "code",
            "execution_count": null,
            "metadata": {},
            "outputs": [],
            "source": []
        },
        {
            "cell_type": "markdown",
            "metadata": {
                "hidden": true
            },
            "source": [
                "\u3053\u308c\u3067\u5206\u304b\u308b\u3053\u3068\u306f\uff0c\u30e1\u30a4\u30f3\u306e\u30c7\u30fc\u30bf\u306e\u90e8\u5206\u306f`NumPy`\u306e`ndarray`\uff08`n`\u6b21\u5143`array`\uff09\u3067\u3042\u308b\u3053\u3068\u304c\u5206\u304b\u308b\u3002\u5373\u3061\uff0c`Pandas`\u306f`NumPy`\u306b\u57fa\u3065\u3044\u3066\u69cb\u7bc9\u3055\u308c\u3066\u304a\u308a\uff0c\u30c7\u30fc\u30bf\u5024\u306e\u8a08\u7b97\u306a\u3069\u306f`array`\u304c\u88cf\u3067\u52d5\u3044\u3066\u3044\u308b\u3068\u3044\u3046\u3053\u3068\u3067\u3042\u308b\u3002\u307e\u305f\u884c\u3068\u5217\u306e\u30e9\u30d9\u30eb\u3092\u8ffd\u52a0\u3057\uff0c\u3088\u308a\u76f4\u611f\u7684\u306b\u4f7f\u3048\u308b\u3088\u3046\u306b\u62e1\u5f35\u3057\u3066\u3044\u308b\u306e\u3067\u3042\u308b\u3002"
            ]
        },
        {
            "cell_type": "markdown",
            "metadata": {
                "hidden": true
            },
            "source": [
                "\u6b21\u306b\u5217\u30e9\u30d9\u30eb\u3092\u53d6\u308a\u51fa\u3057\u3066\u307f\u308b\u3002"
            ]
        },
        {
            "cell_type": "code",
            "execution_count": null,
            "metadata": {},
            "outputs": [],
            "source": []
        },
        {
            "cell_type": "markdown",
            "metadata": {
                "hidden": true
            },
            "source": [
                "`dtype='object'`\u304b\u3089\u5217\u30e9\u30d9\u30eb\u306b\u4f7f\u308f\u308c\u3066\u3044\u308b\u30c7\u30fc\u30bf\u578b\uff08`dtype`\uff09\u306f\u30aa\u30d6\u30b8\u30a7\u30af\u30c8\u578b\uff08`object`\uff09\u3060\u3068\u308f\u304b\u308b\u3002\n",
                "\n",
                "* \u30aa\u30d6\u30b8\u30a7\u30af\u30c8\u578b\u3068\u306f\u6587\u5b57\u578b\u3092\u542b\u3080\u300c\u305d\u306e\u4ed6\u300d\u306e\u30c7\u30fc\u30bf\u578b\u3068\u7406\u89e3\u3059\u308c\u3070\u826f\u3044\u3060\u308d\u3046\u3002\n",
                "* `dtype='object'`\u3068`dtype=object`\u306f\u540c\u3058\u610f\u5473\u3002\n",
                "\n",
                "\u5217\u30e9\u30d9\u30eb\u81ea\u4f53\u306e\u30af\u30e9\u30b9\u306f\u6b21\u306e\u30b3\u30fc\u30c9\u3067\u8abf\u3079\u308b\u3053\u3068\u304c\u3067\u304d\u308b\u3002"
            ]
        },
        {
            "cell_type": "code",
            "execution_count": null,
            "metadata": {},
            "outputs": [],
            "source": []
        },
        {
            "cell_type": "markdown",
            "metadata": {
                "hidden": true
            },
            "source": [
                "`dir()`\u3082\u3057\u304f\u306f`see()`\u3067\u8abf\u3079\u308b\u3068\u591a\u304f\u306e\u30e1\u30bd\u30c3\u30c9\u3084\u5c5e\u6027\u304c\u78ba\u8a8d\u3067\u304d\u308b\u304c\uff0c\u305d\u306e\u4e2d\u306b`.tolist()`\u304c\u542b\u307e\u308c\u3066\u304a\u308a\uff0c\u3053\u308c\u3092\u4f7f\u3046\u3053\u3068\u306b\u3088\u308a\u5217\u30e9\u30d9\u30eb\u3092\u30ea\u30b9\u30c8\u306b\u5909\u63db\u3059\u308b\u3053\u3068\u304c\u3067\u304d\u308b\u3002"
            ]
        },
        {
            "cell_type": "code",
            "execution_count": null,
            "metadata": {},
            "outputs": [],
            "source": [
                "\n"
            ]
        },
        {
            "cell_type": "markdown",
            "metadata": {
                "hidden": true
            },
            "source": [
                "\u884c\u30e9\u30d9\u30eb\u306b\u3064\u3044\u3066\u3082\u540c\u3058\u3053\u3068\u304c\u3067\u304d\u308b\u3002"
            ]
        },
        {
            "cell_type": "code",
            "execution_count": null,
            "metadata": {},
            "outputs": [],
            "source": []
        },
        {
            "cell_type": "markdown",
            "metadata": {
                "hidden": true
            },
            "source": [
                "\u884c\u30e9\u30d9\u30eb\u306e\u30c7\u30fc\u30bf\u578b`dtype`\u306f\u6574\u6570\u3067\u3042\u308b`int64`\u3002\u5217`year`\u3092\u884c\u30e9\u30d9\u30eb\u306b\u6307\u5b9a\u3057\u305f\u305f\u3081\uff0c`name='year'`\u306f\u305d\u306e\u5217\u30e9\u30d9\u30eb\u3092\u8868\u793a\u3057\u3066\u3044\u308b\u3002\u884c\u30e9\u30d9\u30eb\u306e\u30c7\u30fc\u30bf\u578b\uff08\u30af\u30e9\u30b9\uff09\u306f"
            ]
        },
        {
            "cell_type": "code",
            "execution_count": null,
            "metadata": {},
            "outputs": [],
            "source": []
        },
        {
            "cell_type": "markdown",
            "metadata": {
                "hidden": true
            },
            "source": [
                "\u3067\u3042\u308a\uff0c\u30e9\u30d9\u30eb\u3092\u30ea\u30b9\u30c8\u3068\u3057\u3066\u62bd\u51fa\u3059\u308b\u3053\u3068\u3082\u3067\u304d\u308b\u3002"
            ]
        },
        {
            "cell_type": "code",
            "execution_count": null,
            "metadata": {},
            "outputs": [],
            "source": [
                "\n"
            ]
        },
        {
            "cell_type": "markdown",
            "metadata": {
                "heading_collapsed": true
            },
            "source": [
                "## \u8981\u7d20\u306e\u62bd\u51fa"
            ]
        },
        {
            "cell_type": "markdown",
            "metadata": {
                "hidden": true
            },
            "source": [
                "`NumPy`\u306e`array`\u306e\u5834\u5408\uff0c`[,]`\u3092\u4f7f\u3044\u8981\u7d20\u3092\u62bd\u51fa\u3057\u305f\u3002`Pandas`\u306e\u5834\u5408\uff0c\u69d8\u3005\u306a\u62bd\u51fa\u65b9\u6cd5\u304c\u3042\u308b\u304c\uff0c\u899a\u3048\u3084\u3059\u304f\u5c11\u3057\u3067\u3082\u9593\u9055\u3044\u306e\u53ef\u80fd\u6027\u3092\u6e1b\u3089\u3059\u305f\u3081\u306b\uff0c\u305d\u3057\u3066\u53ef\u8aad\u6027\u5411\u4e0a\u306e\u305f\u3081\u306b`array`\u306b\u5bfe\u5fdc\u3059\u308b\u4ee5\u4e0b\u306e\uff12\u3064\u306e\u65b9\u6cd5\u3092\u4f7f\u3046\u3053\u3068\u306b\u3059\u308b\u3002\n",
                "\n",
                "* \u30e9\u30d9\u30eb\u3092\u4f7f\u3046\u65b9\u6cd5\uff1a`.loc[,]`\n",
                "* \u30a4\u30f3\u30c7\u30c3\u30af\u30b9\u3092\u4f7f\u3046\u65b9\u6cd5\uff1a`.iloc[,]`\uff08\u3053\u308c\u306f`array`\u306e`[ ]`\u3068\u540c\u3058\u3068\u8003\u3048\u3066\u826f\u3044\uff09\n",
                "\n",
                "\uff11\u3064\u76ee\u306e`loc`\u306f\u30e9\u30d9\u30eb\u306elocation\u3068\u899a\u3048\u3088\u3046\u3002\uff12\u3064\u76ee\u306f\u306e`iloc`\u306e`i`\u306f\u30a4\u30f3\u30c7\u30c3\u30af\u30b9\uff08index\uff09\u306e`i`\u3067\u3042\u308a\uff0cindex location\u3068\u3044\u3046\u610f\u5473\u3067\u3042\u308b\u3002\u4f7f\u3044\u65b9\u306f`array`\u306e\u5834\u5408\u3068\u57fa\u672c\u7684\u306b\u540c\u3058\u3067\u3042\u308b\u3002\n",
                "\n",
                "* `,`\u306e\u5de6\u306f\u884c\uff0c\u53f3\u306f\u5217\u3092\u8868\u3059\u3002\n",
                "* \u884c\u307e\u305f\u306f\u5217\u3092\u9023\u7d9a\u3057\u3066\u9078\u629e\u3059\u308b\uff08slicing\uff09\u5834\u5408\u306f`:`\u3092\u4f7f\u3046\u3002\uff08`start:end`\uff09\n",
                "    * `:`\u306e\u5de6\u53f3\u3092\u7701\u7565\u3059\u308b\u5834\u5408\u306f\uff0c\u300c\u5168\u3066\u300d\u3068\u3044\u3046\u610f\u5473\u306b\u306a\u308b\u3002\n",
                "    * `:`\u306e\u5de6\u3092\u7701\u7565\u3059\u308b\u3068\u300c\u6700\u521d\u304b\u3089\u300d\u3068\u3044\u3046\u610f\u5473\u306b\u306a\u308b\u3002\n",
                "    * `:`\u306e\u53f3\u3092\u7701\u7565\u3059\u308b\u3068\u300c\u6700\u5f8c\u307e\u3067\u300d\u3068\u3044\u3046\u610f\u5473\u306b\u306a\u308b\u3002\n",
                "    * `.loc[,]`\u306e\u5834\u5408\uff0c`end`\u3092\u542b\u3080\u3002\uff08\u8981\u6ce8\u610f\uff01\uff09\n",
                "    * `.iloc[,]`\u306e\u5834\u5408\uff0c`end`\u306f\u542b\u307e\u305a\uff0c\u305d\u306e\uff11\u3064\u524d\u306e\u30a4\u30f3\u30c7\u30c3\u30af\u30b9\u307e\u3067\u304c\u542b\u307e\u308c\u308b\u3002\n",
                "* `,`\u306e\u53f3\u306b\u66f8\u304f`:`\u306f\u7701\u7565\u53ef\u80fd\u3067\u3042\u308b\u304c\u7701\u7565\u3057\u306a\u3044\u3053\u3068\u3092\u63a8\u5968\u3059\u308b\u3002\n",
                "\n",
                "\u300c\u7279\u4f8b\u300d\u3068\u3057\u3066`.loc[,]`\u3068`.iloc[,]`\u4ee5\u5916\u306b\n",
                "* \u30e9\u30d9\u30eb\u3068`[]`\u3060\u3051\u3092\u4f7f\u3044\u5217\u3092\u9078\u629e\u3059\u308b\u65b9\u6cd5\n",
                "\n",
                "\u3082\u8aac\u660e\u3059\u308b\u3002"
            ]
        },
        {
            "cell_type": "markdown",
            "metadata": {
                "hidden": true
            },
            "source": [
                "```{warning}\n",
                "* `.loc[,]`\u306e\u5834\u5408\uff0c`end`\u3092\u542b\u3080\u3002\uff08\u8981\u6ce8\u610f\uff01\uff09\n",
                "* `.iloc[,]`\u306e\u5834\u5408\uff0c`end`\u306f\u542b\u307e\u305a\uff0c\u305d\u306e\uff11\u3064\u524d\u306e\u30a4\u30f3\u30c7\u30c3\u30af\u30b9\u307e\u3067\u304c\u542b\u307e\u308c\u308b\u3002\n",
                "```"
            ]
        },
        {
            "cell_type": "markdown",
            "metadata": {
                "heading_collapsed": true,
                "hidden": true
            },
            "source": [
                "### `.loc[,]`\uff08\u30e9\u30d9\u30eb\u4f7f\u7528\uff09"
            ]
        },
        {
            "cell_type": "markdown",
            "metadata": {
                "hidden": true
            },
            "source": [
                "**\uff11\u3064\u306e\u884c\u3092`Series`\u3068\u3057\u3066\u62bd\u51fa**"
            ]
        },
        {
            "cell_type": "code",
            "execution_count": null,
            "metadata": {},
            "outputs": [],
            "source": []
        },
        {
            "cell_type": "markdown",
            "metadata": {
                "hidden": true
            },
            "source": [
                "**\uff11\u3064\u306e\u884c\u3092`DataFrame`\u3068\u3057\u3066\u62bd\u51fa**"
            ]
        },
        {
            "cell_type": "code",
            "execution_count": null,
            "metadata": {},
            "outputs": [],
            "source": []
        },
        {
            "cell_type": "markdown",
            "metadata": {
                "hidden": true
            },
            "source": [
                "**\u8907\u6570\u884c\u3092\u62bd\u51fa**"
            ]
        },
        {
            "cell_type": "code",
            "execution_count": null,
            "metadata": {},
            "outputs": [],
            "source": []
        },
        {
            "cell_type": "markdown",
            "metadata": {
                "hidden": true
            },
            "source": [
                "**\u8907\u6570\u884c\u3092\u9023\u7d9a\u62bd\u51fa\uff08slicing\uff09**"
            ]
        },
        {
            "cell_type": "code",
            "execution_count": null,
            "metadata": {},
            "outputs": [],
            "source": []
        },
        {
            "cell_type": "markdown",
            "metadata": {
                "hidden": true
            },
            "source": [
                "**\uff11\u3064\u306e\u5217\u3092`Series`\u3068\u3057\u3066\u62bd\u51fa**"
            ]
        },
        {
            "cell_type": "code",
            "execution_count": null,
            "metadata": {},
            "outputs": [],
            "source": []
        },
        {
            "cell_type": "markdown",
            "metadata": {
                "hidden": true
            },
            "source": [
                "**\u8907\u6570\u5217\u3092\u62bd\u51fa**"
            ]
        },
        {
            "cell_type": "code",
            "execution_count": null,
            "metadata": {},
            "outputs": [],
            "source": []
        },
        {
            "cell_type": "markdown",
            "metadata": {
                "hidden": true
            },
            "source": [
                "**\u8907\u6570\u5217\u3092\u9023\u7d9a\u62bd\u51fa\uff08slicing\uff09**"
            ]
        },
        {
            "cell_type": "code",
            "execution_count": null,
            "metadata": {},
            "outputs": [],
            "source": []
        },
        {
            "cell_type": "markdown",
            "metadata": {
                "heading_collapsed": true,
                "hidden": true
            },
            "source": [
                "### `.iloc[]`\uff08\u30a4\u30f3\u30c7\u30c3\u30af\u30b9\u4f7f\u7528\uff09"
            ]
        },
        {
            "cell_type": "markdown",
            "metadata": {
                "hidden": true
            },
            "source": [
                "**\uff11\u3064\u306e\u884c\u3092`Series`\u3068\u3057\u3066\u62bd\u51fa**"
            ]
        },
        {
            "cell_type": "code",
            "execution_count": null,
            "metadata": {},
            "outputs": [],
            "source": []
        },
        {
            "cell_type": "markdown",
            "metadata": {
                "hidden": true
            },
            "source": [
                "**\u8907\u6570\u884c\u3092\u62bd\u51fa**"
            ]
        },
        {
            "cell_type": "code",
            "execution_count": null,
            "metadata": {},
            "outputs": [],
            "source": []
        },
        {
            "cell_type": "markdown",
            "metadata": {
                "hidden": true
            },
            "source": [
                "**\u8907\u6570\u884c\u3092\u9023\u7d9a\u62bd\u51fa\uff08slicing\uff09**"
            ]
        },
        {
            "cell_type": "code",
            "execution_count": null,
            "metadata": {},
            "outputs": [],
            "source": []
        },
        {
            "cell_type": "markdown",
            "metadata": {
                "hidden": true
            },
            "source": [
                "**\uff11\u3064\u306e\u5217\u3092`Series`\u3068\u3057\u3066\u62bd\u51fa**"
            ]
        },
        {
            "cell_type": "code",
            "execution_count": null,
            "metadata": {},
            "outputs": [],
            "source": []
        },
        {
            "cell_type": "markdown",
            "metadata": {
                "hidden": true
            },
            "source": [
                "**\uff11\u3064\u306e\u5217\u3092`DataFrame`\u3068\u3057\u3066\u62bd\u51fa**"
            ]
        },
        {
            "cell_type": "code",
            "execution_count": null,
            "metadata": {},
            "outputs": [],
            "source": []
        },
        {
            "cell_type": "markdown",
            "metadata": {
                "hidden": true
            },
            "source": [
                "**\u8907\u6570\u5217\u3092\u9078\u629e**"
            ]
        },
        {
            "cell_type": "code",
            "execution_count": null,
            "metadata": {},
            "outputs": [],
            "source": []
        },
        {
            "cell_type": "markdown",
            "metadata": {
                "hidden": true
            },
            "source": [
                "**\u8907\u6570\u5217\u3092\u9023\u7d9a\u62bd\u51fa\uff08slicing\uff09**"
            ]
        },
        {
            "cell_type": "code",
            "execution_count": null,
            "metadata": {},
            "outputs": [],
            "source": []
        },
        {
            "cell_type": "markdown",
            "metadata": {
                "heading_collapsed": true,
                "hidden": true
            },
            "source": [
                "### `[]`\u3067\u5217\u306e\u9078\u629e\uff08\u30e9\u30d9\u30eb\u4f7f\u7528\uff09"
            ]
        },
        {
            "cell_type": "markdown",
            "metadata": {
                "hidden": true
            },
            "source": [
                "**\uff11\u3064\u306e\u5217\u3092`Series`\u3068\u3057\u3066\u62bd\u51fa**"
            ]
        },
        {
            "cell_type": "code",
            "execution_count": null,
            "metadata": {},
            "outputs": [],
            "source": []
        },
        {
            "cell_type": "markdown",
            "metadata": {
                "hidden": true
            },
            "source": [
                "**\uff11\u3064\u306e\u5217\u3092`DataFrame`\u3068\u3057\u3066\u62bd\u51fa**"
            ]
        },
        {
            "cell_type": "code",
            "execution_count": null,
            "metadata": {},
            "outputs": [],
            "source": []
        },
        {
            "cell_type": "markdown",
            "metadata": {
                "hidden": true
            },
            "source": [
                "**\u8907\u6570\u5217\u3092\u9078\u629e**"
            ]
        },
        {
            "cell_type": "code",
            "execution_count": null,
            "metadata": {},
            "outputs": [],
            "source": []
        },
        {
            "cell_type": "markdown",
            "metadata": {
                "heading_collapsed": true
            },
            "source": [
                "## \u3042\u308b\u6761\u4ef6\u306e\u4e0b\u3067\u884c\u306e\u62bd\u51fa"
            ]
        },
        {
            "cell_type": "markdown",
            "metadata": {
                "heading_collapsed": true,
                "hidden": true
            },
            "source": [
                "### \uff11\u3064\u306e\u6761\u4ef6\u306e\u5834\u5408"
            ]
        },
        {
            "cell_type": "markdown",
            "metadata": {
                "heading_collapsed": true,
                "hidden": true
            },
            "source": [
                "#### \u4f8b\uff11\uff1aGDP\u304c100\u672a\u6e80\u306e\u884c\u306e\u62bd\u51fa"
            ]
        },
        {
            "cell_type": "markdown",
            "metadata": {
                "hidden": true
            },
            "source": [
                "\u307e\u305a\u6761\u4ef6\u3092\u4f5c\u308b\u3002"
            ]
        },
        {
            "cell_type": "code",
            "execution_count": null,
            "metadata": {},
            "outputs": [],
            "source": []
        },
        {
            "cell_type": "markdown",
            "metadata": {
                "hidden": true
            },
            "source": [
                "\u3053\u306e\u6761\u4ef6\u3067\u306f\uff0cGDP\u304c100\u672a\u6e80\u306e\u884c\u306f`True`\uff0c\u4ee5\u4e0a\u306e\u884c\u306f`False`\u3068\u306a\u308b\u3002\u3053\u306e\u6761\u4ef6\u3092`cond`\u3068\u3044\u3046\u306e\u5909\u6570\u306b\u5272\u308a\u5f53\u3066\u308b\u3002`()`\u3092\u7701\u3044\u3066\u3082\u826f\u3044\u304c\uff0c\u3042\u308b\u65b9\u304c\u5206\u304b\u308a\u3084\u3059\u3044\u3060\u308d\u3046\u3002"
            ]
        },
        {
            "cell_type": "code",
            "execution_count": null,
            "metadata": {},
            "outputs": [],
            "source": []
        },
        {
            "cell_type": "markdown",
            "metadata": {
                "hidden": true
            },
            "source": [
                "`cond`\u3092`.loc[,]`\u306e\u5f15\u6570\u3068\u3059\u308b\u3053\u3068\u306b\u3088\u308a\uff0c`True`\u306e\u884c\u3060\u3051\u3092\u62bd\u51fa\u3067\u304d\u308b\u3002\uff08\u6ce8\u610f\uff1a`cond`\u3092\u4f7f\u3063\u3066**\u884c**\u3092\u62bd\u51fa\u3057\u3088\u3046\u3068\u3057\u3066\u3044\u308b\u306e\u3067`,`\u306e\u5de6\u5074\u306b\u66f8\u304f\u3002\uff09"
            ]
        },
        {
            "cell_type": "code",
            "execution_count": null,
            "metadata": {},
            "outputs": [],
            "source": []
        },
        {
            "cell_type": "markdown",
            "metadata": {
                "hidden": true
            },
            "source": [
                "\u3053\u306e\u6761\u4ef6\u306e\u4e0b\u3067$inv$\u3060\u3051\u3092\u62bd\u51fa\u3057\u305f\u3044\u5834\u5408\n",
                "\n",
                "* `df.loc[cond,'inv']`\n",
                "\n",
                "\u3068\u3059\u308b\u3002"
            ]
        },
        {
            "cell_type": "markdown",
            "metadata": {
                "hidden": true
            },
            "source": [
                "```{warning}\n",
                "\u4ee5\u4e0b\u306e\u3088\u3046\u306b\u62bd\u51fa\u3092\u9023\u7d9a\u3067\u3059\u308b\u3053\u3068\u3082\u53ef\u80fd\u3060\u304c\uff0c\u907f\u3051\u308b\u3088\u3046\u306b\uff01\n",
                "* `df.loc[cond,:]['inv']`\n",
                "* `df.loc[cond,:].loc[:,'inv']`\n",
                "```"
            ]
        },
        {
            "cell_type": "markdown",
            "metadata": {
                "heading_collapsed": true,
                "hidden": true
            },
            "source": [
                "#### \u4f8b\uff12\uff1a`id`\u304c`a`\u306e\u884c\u3092\u62bd\u51fa"
            ]
        },
        {
            "cell_type": "code",
            "execution_count": null,
            "metadata": {},
            "outputs": [],
            "source": [
                "\n"
            ]
        },
        {
            "cell_type": "markdown",
            "metadata": {
                "heading_collapsed": true,
                "hidden": true
            },
            "source": [
                "### \u8907\u6570\u6761\u4ef6\u306e\u5834\u5408"
            ]
        },
        {
            "cell_type": "markdown",
            "metadata": {
                "heading_collapsed": true,
                "hidden": true
            },
            "source": [
                "#### \u4f8b\uff13"
            ]
        },
        {
            "cell_type": "markdown",
            "metadata": {
                "hidden": true
            },
            "source": [
                "\u4ee5\u4e0b\u306e\u6761\u4ef6\u306e**\u4e21\u65b9**\u304c\u6e80\u305f\u3055\u308c\u308b\u5834\u5408\uff1a\n",
                "\n",
                "* `gdp`\u304c100\u4ee5\u4e0a\n",
                "* `inv`\u304c30\u4ee5\u4e0b\n",
                "\n",
                "\u305d\u308c\u305e\u308c\u306e\u6761\u4ef6\u3092\u4f5c\u6210\u3059\u308b\u3002"
            ]
        },
        {
            "cell_type": "code",
            "execution_count": null,
            "metadata": {},
            "outputs": [],
            "source": [
                "\n"
            ]
        },
        {
            "cell_type": "markdown",
            "metadata": {
                "hidden": true
            },
            "source": [
                "\uff12\u3064\u306e\u6761\u4ef6\u304c\u540c\u6642\u306b\u6e80\u305f\u3055\u308c\u308b\u6761\u4ef6\u3092\u4f5c\u6210\u3059\u308b\u3002"
            ]
        },
        {
            "cell_type": "code",
            "execution_count": null,
            "metadata": {},
            "outputs": [],
            "source": []
        },
        {
            "cell_type": "markdown",
            "metadata": {
                "hidden": true
            },
            "source": [
                "`cond`\u3092\u5f15\u6570\u306b\u4f7f\u3044\u884c\u3092\u62bd\u51fa\u3059\u308b\u3002"
            ]
        },
        {
            "cell_type": "code",
            "execution_count": null,
            "metadata": {},
            "outputs": [],
            "source": []
        },
        {
            "cell_type": "markdown",
            "metadata": {
                "heading_collapsed": true,
                "hidden": true
            },
            "source": [
                "#### \u4f8b\uff14"
            ]
        },
        {
            "cell_type": "markdown",
            "metadata": {
                "hidden": true
            },
            "source": [
                "\u4ee5\u4e0b\u306e\u6761\u4ef6\u306e**\u3069\u3061\u3089\u304b**\u304c\u6e80\u305f\u3055\u308c\u308b\u5834\u5408\uff1a\n",
                "* `gdp`\u306f200\u4ee5\u4e0a\n",
                "* `con`\u306f60\u4ee5\u4e0b"
            ]
        },
        {
            "cell_type": "code",
            "execution_count": null,
            "metadata": {},
            "outputs": [],
            "source": [
                "\n",
                "\n",
                "",
                "",
                ""
            ]
        },
        {
            "cell_type": "markdown",
            "metadata": {
                "heading_collapsed": true,
                "hidden": true
            },
            "source": [
                "#### \u4f8b\uff15"
            ]
        },
        {
            "cell_type": "markdown",
            "metadata": {
                "hidden": true
            },
            "source": [
                "\u4ee5\u4e0b\u306e\u6761\u4ef6\u306e**\u3069\u3061\u3089\u304b**\u304c\u6e80\u305f\u3055\u308c\n",
                "* `gdp`\u306f200\u4ee5\u4e0a\n",
                "* `con`\u306f60\u4ee5\u4e0b\n",
                "\n",
                "\u304b\u3064\u4ee5\u4e0b\u306e\u6761\u4ef6\u3082**\u540c\u6642\u306b**\u6e80\u305f\u3055\u308c\u308b\u5834\u5408\uff1a\n",
                "* `id`\u304c`a`\u3068\u7b49\u3057\u3044"
            ]
        },
        {
            "cell_type": "code",
            "execution_count": null,
            "metadata": {},
            "outputs": [],
            "source": [
                "\n",
                "\n",
                "",
                "",
                "",
                ""
            ]
        },
        {
            "cell_type": "markdown",
            "metadata": {
                "heading_collapsed": true,
                "hidden": true
            },
            "source": [
                "### `query()`"
            ]
        },
        {
            "cell_type": "markdown",
            "metadata": {
                "hidden": true
            },
            "source": [
                "`query()`\u3068\u3044\u3046\u30e1\u30bd\u30c3\u30c9\u3067\u306f\u6587\u5b57\u5217\u3092\u4f7f\u3044\u884c\u306e\u62bd\u51fa\u30b3\u30fc\u30c9\u3092\u66f8\u304f\u3053\u3068\u304c\u3067\u304d\u308b\u3002\u3053\u308c\u306b\u3088\u308a\u76f4\u611f\u7684\u306a\u30b3\u30fc\u30c9\u66f8\u304f\u3053\u3068\u304c\u53ef\u80fd\u3067\u3042\u308b\u3002"
            ]
        },
        {
            "cell_type": "markdown",
            "metadata": {
                "heading_collapsed": true,
                "hidden": true
            },
            "source": [
                "#### \u4f8b\uff11\u306e\u5834\u5408\uff1a"
            ]
        },
        {
            "cell_type": "code",
            "execution_count": null,
            "metadata": {},
            "outputs": [],
            "source": []
        },
        {
            "cell_type": "markdown",
            "metadata": {
                "heading_collapsed": true,
                "hidden": true
            },
            "source": [
                "#### \u4f8b\uff12\u306e\u5834\u5408"
            ]
        },
        {
            "cell_type": "code",
            "execution_count": null,
            "metadata": {},
            "outputs": [],
            "source": []
        },
        {
            "cell_type": "markdown",
            "metadata": {
                "heading_collapsed": true,
                "hidden": true
            },
            "source": [
                "#### \u4f8b\uff13\u306e\u5834\u5408"
            ]
        },
        {
            "cell_type": "code",
            "execution_count": null,
            "metadata": {},
            "outputs": [],
            "source": []
        },
        {
            "cell_type": "markdown",
            "metadata": {
                "heading_collapsed": true,
                "hidden": true
            },
            "source": [
                "#### \u4f8b\uff14\u306e\u5834\u5408"
            ]
        },
        {
            "cell_type": "code",
            "execution_count": null,
            "metadata": {},
            "outputs": [],
            "source": []
        },
        {
            "cell_type": "markdown",
            "metadata": {
                "heading_collapsed": true,
                "hidden": true
            },
            "source": [
                "#### \u4f8b\uff15\u306e\u5834\u5408"
            ]
        },
        {
            "cell_type": "code",
            "execution_count": null,
            "metadata": {},
            "outputs": [],
            "source": []
        },
        {
            "cell_type": "markdown",
            "metadata": {
                "heading_collapsed": true,
                "hidden": true
            },
            "source": [
                "#### \u6ce8\u610f"
            ]
        },
        {
            "cell_type": "markdown",
            "metadata": {
                "hidden": true
            },
            "source": [
                "`df`\u4ee5\u5916\u306b\u306a\u3044\u5909\u6570\u3067\u6761\u4ef6\u3092\u8a2d\u5b9a\u3059\u308b\u5834\u5408`@`\u304c\u5fc5\u8981\u306b\u306a\u308b\u3002\u4f8b\u3048\u3070\uff0c\u5909\u6570`z`\u3068\u3044\u3046\u5909\u6570\u304c\u3042\u308b\u3068\u3057\u3088\u3046\u3002"
            ]
        },
        {
            "cell_type": "code",
            "execution_count": null,
            "metadata": {},
            "outputs": [],
            "source": []
        },
        {
            "cell_type": "markdown",
            "metadata": {
                "hidden": true
            },
            "source": [
                "\u5909\u6570`z`\u306e\u5024\u306b\u57fa\u3065\u3044\u3066\u884c\u306e\u62bd\u51fa\u3092\u3059\u308b\u5834\u5408\u306f\u6b21\u306e\u3088\u3046\u306b\u3059\u308b\u3002"
            ]
        },
        {
            "cell_type": "code",
            "execution_count": null,
            "metadata": {},
            "outputs": [],
            "source": []
        },
        {
            "cell_type": "markdown",
            "metadata": {
                "heading_collapsed": true
            },
            "source": [
                "## \u5217\u3068\u884c\u306e\u8ffd\u52a0\u3068\u524a\u9664"
            ]
        },
        {
            "cell_type": "markdown",
            "metadata": {
                "heading_collapsed": true,
                "hidden": true
            },
            "source": [
                "### \u5217\u306e\u8ffd\u52a0 `[ ]`"
            ]
        },
        {
            "cell_type": "markdown",
            "metadata": {
                "hidden": true
            },
            "source": [
                "`[]`\u306f\u5217\u306e\u62bd\u51fa\u306b\u4f7f\u3046\u3053\u3068\u304c\u3067\u304d\u308b\u304c\uff0c\u8ffd\u52a0\u306b\u3082\u4f7f\u3048\u308b\u3002\u5b9a\u6570\u3092\u8a2d\u5b9a\u3059\u308b\u3068\u81ea\u52d5\u7684\u306b\u884c\u6570\u5206\u4f5c\u6210\u3059\u308b\u3053\u3068\u304c\u3067\u304d\u308b\u3002"
            ]
        },
        {
            "cell_type": "code",
            "execution_count": null,
            "metadata": {},
            "outputs": [],
            "source": []
        },
        {
            "cell_type": "code",
            "execution_count": null,
            "metadata": {},
            "outputs": [],
            "source": []
        },
        {
            "cell_type": "markdown",
            "metadata": {
                "hidden": true
            },
            "source": [
                "\u65e2\u5b58\u306e\u5217\u304b\u3089\u65b0\u305f\u306a\u5217\u3092\u4f5c\u6210\u3059\u308b\u3002"
            ]
        },
        {
            "cell_type": "code",
            "execution_count": null,
            "metadata": {},
            "outputs": [],
            "source": [
                "# \uff11\u4eba\u5f53\u305f\u308aGDP\u306e\u8a08\u7b97\n",
                "\n",
                "\n",
                "# GDPpc \u3092\u8ffd\u52a0\n"
            ]
        },
        {
            "cell_type": "code",
            "execution_count": null,
            "metadata": {},
            "outputs": [],
            "source": []
        },
        {
            "cell_type": "markdown",
            "metadata": {
                "heading_collapsed": true,
                "hidden": true
            },
            "source": [
                "### \u5217\u306e\u8ffd\u52a0 `.loc[,]`"
            ]
        },
        {
            "cell_type": "markdown",
            "metadata": {
                "hidden": true
            },
            "source": [
                "\u884c\u3068\u5217\u306e\u62bd\u51fa\u306b\u4f7f\u3063\u305f\u304c\uff0c\u8ffd\u52a0\u306b\u3082\u4f7f\u3048\u308b\u3002\u5b9a\u6570\u3092\u8a2d\u5b9a\u3059\u308b\u3068\u81ea\u52d5\u7684\u306b\u884c\u6570\u5206\u4f5c\u6210\u3059\u308b\u3053\u3068\u304c\u3067\u304d\u308b\u3002"
            ]
        },
        {
            "cell_type": "code",
            "execution_count": null,
            "metadata": {},
            "outputs": [],
            "source": []
        },
        {
            "cell_type": "markdown",
            "metadata": {
                "heading_collapsed": true,
                "hidden": true
            },
            "source": [
                "### \u5217\u306e\u524a\u9664 `[ ]`"
            ]
        },
        {
            "cell_type": "code",
            "execution_count": null,
            "metadata": {},
            "outputs": [],
            "source": []
        },
        {
            "cell_type": "markdown",
            "metadata": {
                "heading_collapsed": true,
                "hidden": true
            },
            "source": [
                "### \u5217\u306e\u524a\u9664 `drop()`"
            ]
        },
        {
            "cell_type": "markdown",
            "metadata": {
                "hidden": true
            },
            "source": [
                "* \u30aa\u30d7\u30b7\u30e7\u30f3`axis=`\u306e\u5024\u3092`columns`\u306e\u4ee3\u308f\u308a\u306b`\uff11`\u3067\u3082\u53ef\n",
                "* \u30b3\u30d4\u30fc\u3092\u4f5c\u308b\u3060\u3051\u306a\u306e\u3067\uff0c\u5143\u306edf\u3092\u66f8\u304d\u63db\u3048\u305f\u3044\u5834\u5408\u306f\u4ee5\u4e0b\u306e\u3069\u3061\u3089\u304b\u304c\u5fc5\u8981\n",
                "    * `df`\u306b\u4ee3\u5165\u3059\u308b\n",
                "    * \u30aa\u30d7\u30b7\u30e7\u30f3`inplace=True`\uff08\u30c7\u30d5\u30a9\u30eb\u30c8\u306f`False`\uff09\u3092\u8ffd\u52a0\u3059\u308b\u3002"
            ]
        },
        {
            "cell_type": "code",
            "execution_count": null,
            "metadata": {},
            "outputs": [],
            "source": [
                "\n",
                "\n",
                "# df.drop('Intercept', axis='columns', inplace=True)"
            ]
        },
        {
            "cell_type": "markdown",
            "metadata": {
                "heading_collapsed": true,
                "hidden": true
            },
            "source": [
                "### \u884c\u306e\u8ffd\u52a0 `.loc[,]`"
            ]
        },
        {
            "cell_type": "markdown",
            "metadata": {
                "hidden": true
            },
            "source": [
                "\u884c\u3068\u5217\u306e\u62bd\u51fa\u306b\u4f7f\u3063\u305f\u304c\uff0c\u884c\u306e\u8ffd\u52a0\u306b\u3082\u4f7f\u3048\u308b\u3002"
            ]
        },
        {
            "cell_type": "code",
            "execution_count": null,
            "metadata": {},
            "outputs": [],
            "source": []
        },
        {
            "cell_type": "code",
            "execution_count": null,
            "metadata": {},
            "outputs": [],
            "source": []
        },
        {
            "cell_type": "markdown",
            "metadata": {
                "heading_collapsed": true,
                "hidden": true
            },
            "source": [
                "### \u884c\u306e\u524a\u9664 `drop()`"
            ]
        },
        {
            "cell_type": "markdown",
            "metadata": {
                "hidden": true
            },
            "source": [
                "* \u30aa\u30d7\u30b7\u30e7\u30f3`axis=`\u306e\u5024\u3092`rows`\u306e\u4ee3\u308f\u308a\u306b`0`\u3067\u3082\u53ef\n",
                "* \u30b3\u30d4\u30fc\u3092\u4f5c\u308b\u3060\u3051\u306a\u306e\u3067\uff0c\u5143\u306edf\u3092\u66f8\u304d\u63db\u3048\u305f\u3044\u5834\u5408\u306f\u4ee5\u4e0b\u306e\u3069\u3061\u3089\u304b\u304c\u5fc5\u8981\n",
                "    * `df`\u306b\u4ee3\u5165\u3059\u308b\n",
                "    * \u30aa\u30d7\u30b7\u30e7\u30f3`inplace=True`\uff08\u30c7\u30d5\u30a9\u30eb\u30c8\u306f`False`\uff09\u3092\u8ffd\u52a0\u3059\u308b\u3002"
            ]
        },
        {
            "cell_type": "code",
            "execution_count": null,
            "metadata": {},
            "outputs": [],
            "source": [
                "\n",
                "\n",
                "# df.drop(2011, axis=0, inplace=True)"
            ]
        },
        {
            "cell_type": "markdown",
            "metadata": {
                "heading_collapsed": true
            },
            "source": [
                "## \u6b20\u640d\u5024\u306e\u6271\u3044"
            ]
        },
        {
            "cell_type": "markdown",
            "metadata": {
                "hidden": true
            },
            "source": [
                "`Pandas`\u3067\u306f\u6b20\u640d\u5024\u306f`NaN`\u3068\u8868\u793a\u3055\u308c\u308b\u304c\uff0c`na`\u3082\u3057\u304f\u306f`null`\u3068\u547c\u3093\u3060\u308a\u3082\u3059\u308b\u3002"
            ]
        },
        {
            "cell_type": "markdown",
            "metadata": {
                "heading_collapsed": true,
                "hidden": true
            },
            "source": [
                "### \u6b20\u640d\u5024\u306e\u78ba\u8a8d"
            ]
        },
        {
            "cell_type": "markdown",
            "metadata": {
                "hidden": true
            },
            "source": [
                "\u6b20\u640d\u5024\u304c\u3042\u308b\u304b\u3069\u3046\u304b\u306e\u78ba\u8a8d\u306f\uff0c`df.info()`\u3067\u3082\u3067\u304d\u308b\u304c\uff0c\u4ee5\u4e0b\u306e\u30e1\u30bd\u30c3\u30c9\u3092\u7d44\u307f\u5408\u308f\u305b\u308b\u3053\u3068\u3067\u3082\u53ef\u80fd\u3067\u3042\u308b\u3002\n",
                "\n",
                "* `isna()`\uff1a\u305d\u308c\u305e\u308c\u306e\u8981\u7d20\u306b\u3064\u3044\u3066`NaN`\u306e\u5834\u5408`True`\u3092\uff0c\u305d\u3046\u3067\u306a\u3044\u5834\u5408\u306f`False`\u3092\u8fd4\u3059\u3002\uff08`DataFrame`\u306e\u5168\u3066\u306e\u8981\u7d20\u304c`True/False`\u3068\u306a\u308b\u3002\uff09\n",
                "* `sum(axis='rows')`\uff1a`df`\u306e\u4e0a\u304b\u3089\u4e0b\u306b**\u884c**\uff08rows\uff09\u3092\u7e26\u65ad\u3057\u3066\uff0c\u305d\u308c\u305e\u308c\u306e\u5217\u306e\u4e2d\u306b\u3042\u308b`True`\u6570\u3048\u308b\u3002\n",
                "    * `rows`\u306f\u8907\u6570\uff01\uff08`0`\u3067\u3082\u53ef\uff09\n",
                "* `sum(axis='columns')`\uff1a`df`\u306e\u5de6\u304b\u3089\u53f3\u306b**\u5217**\uff08columns\uff09\u3092\u6a2a\u65ad\u3057\u3066\uff0c\u305d\u308c\u305e\u308c\u306e\u884c\u306e\u4e2d\u306b\u3042\u308b`True`\u3092\u6570\u3048\u308b\u3002\n",
                "    * `columns`\u306f\u8907\u6570\uff01\uff08`1`\u3067\u3082\u53ef\uff09\n",
                "    \n",
                "\uff08\u6ce8\u610f\uff09`sum()`\u306e`axis`\u306f\u300c\u884c\u3092\u7e26\u65ad\u300d\u304b\u300c\u5217\u3092\u6a2a\u65ad\u300d\u304b\u3092\u6307\u5b9a\u3059\u308b\u3002"
            ]
        },
        {
            "cell_type": "code",
            "execution_count": null,
            "metadata": {},
            "outputs": [],
            "source": []
        },
        {
            "cell_type": "markdown",
            "metadata": {
                "hidden": true
            },
            "source": [
                "`inv`\u3068`con`\u306b`NaN`\u304c\u3042\u308b\u3053\u3068\u304c\u308f\u304b\u308b\u3002"
            ]
        },
        {
            "cell_type": "markdown",
            "metadata": {
                "hidden": true
            },
            "source": [
                "---\n",
                "`NaN`\u304c\u3042\u308b\u884c\u3092\u62bd\u51fa\u3059\u308b\u5834\u5408\u306f\u30e1\u30bd\u30c3\u30c9`any()`\u304c\u5f79\u306b\u7acb\u3064\u3002\n",
                "\n",
                "* `any(axis='rows')`\uff1a`df`\u306e\u4e0a\u304b\u3089\u4e0b\u306b\u884c\uff08`rows`\uff09\u3092\u7e26\u65ad\u3057\u3066\uff0c\u305d\u308c\u305e\u308c\u306e\u5217\u306e\u4e2d\u3067\u4e00\u3064\u4ee5\u4e0a`True`\u304c\u3042\u308b\u5834\u5408\u306b\u306f`True`\u3092\uff0c\u4e00\u3064\u3082\u306a\u3044\u5834\u5408\u306f`False`\u3092\u8fd4\u3059\u3002\n",
                "    * `rows`\u306f\u8907\u6570\uff01\uff080\u3067\u3082\u53ef\uff09\n",
                "* `any(axis='columns')`\uff1adf\u306e\u5de6\u304b\u3089\u53f3\u306b\u5217\uff08`columns`\uff09\u3092\u6a2a\u65ad\u3057\u3066\uff0c\u305d\u308c\u305e\u308c\u306e\u884c\u306e\u4e2d\u3067\u4e00\u3064\u4ee5\u4e0a`True`\u304c\u3042\u308b\u5834\u5408\u306b\u306f`True`\u3092\uff0c\u4e00\u3064\u3082\u306a\u3044\u5834\u5408\u306f`False`\u3092\u8fd4\u3059\u3002\n",
                "    * `columns`\u306f\u8907\u6570\uff01\uff081\u3067\u3082\u53ef\uff09\n",
                "\n",
                "\uff08\u6ce8\u610f\uff09`any()`\u306e`axis`\u306f\u300c\u884c\u3092\u7e26\u65ad\u300d\u304b\u300c\u5217\u3092\u6a2a\u65ad\u300d\u304b\u3092\u6307\u5b9a\u3059\u308b\u3002"
            ]
        },
        {
            "cell_type": "code",
            "execution_count": null,
            "metadata": {},
            "outputs": [],
            "source": [
                "\n"
            ]
        },
        {
            "cell_type": "markdown",
            "metadata": {
                "hidden": true
            },
            "source": [
                "\u3053\u308c\u3067`NaN`\u304c\u3042\u308b\u884c\u3092\u62bd\u51fa\u3059\u308b\u3053\u3068\u304c\u3067\u304d\u308b\u3002"
            ]
        },
        {
            "cell_type": "markdown",
            "metadata": {
                "heading_collapsed": true,
                "hidden": true
            },
            "source": [
                "### \u6b20\u640d\u5024\u304c\u3042\u308b\u884c\u306e\u524a\u9664"
            ]
        },
        {
            "cell_type": "markdown",
            "metadata": {
                "hidden": true
            },
            "source": [
                "\u6b20\u640d\u5024\u304c\u3042\u308b\u5168\u3066\u306e\u884c\u3092\u524a\u9664\u3059\u308b\u3002"
            ]
        },
        {
            "cell_type": "code",
            "execution_count": null,
            "metadata": {},
            "outputs": [],
            "source": []
        },
        {
            "cell_type": "markdown",
            "metadata": {
                "hidden": true
            },
            "source": [
                "\u3053\u306e\u30e1\u30bd\u30c3\u30c9\u306f\uff0c\u6b20\u640d\u5024\u3092\u524a\u9664\u3059\u308b\u3068\u3069\u3046\u306a\u308b\u304b\u3092\u793a\u3059\u3060\u3051\u3067\u3042\u308a`df`\u81ea\u4f53\u306f\u5f71\u97ff\u306f\u53d7\u3051\u306a\u3044\u3002`df`\u81ea\u4f53\u304b\u3089`NaN`\u304c\u3042\u308b\u884c\u3092\u524a\u9664\u3059\u308b\u5834\u5408\u306f`inplace=True`\u306e\u30aa\u30d7\u30b7\u30e7\u30f3\uff08\u30c7\u30d5\u30a9\u30eb\u30c8\u3067\u306f`False`\u306b\u306a\u3063\u3066\u3044\u308b\uff09\u3092\u52a0\u3048\u3066\n",
                "```\n",
                "df.dropna(inplace=True)\n",
                "```\n",
                "\u3068\u3059\u308b\u304b\uff0c\u524a\u9664\u5f8c\u306e`df`\u3092`df`\u81ea\u4f53\u306b\u4ee3\u5165\u3059\u308b\u3002\n",
                "```\n",
                "df = df.dropna()\n",
                "```"
            ]
        },
        {
            "cell_type": "markdown",
            "metadata": {
                "hidden": true
            },
            "source": [
                "\u3042\u308b\u5217\u3067`NaN`\u304c\u3042\u308b\u5834\u5408\u306e\u307f\u884c\u3092\u524a\u9664\u3059\u308b\u3002"
            ]
        },
        {
            "cell_type": "code",
            "execution_count": null,
            "metadata": {},
            "outputs": [],
            "source": []
        },
        {
            "cell_type": "markdown",
            "metadata": {
                "hidden": true
            },
            "source": [
                "\uff08\u6ce8\u610f\uff09\u30aa\u30d7\u30b7\u30e7\u30f3`subset=`\u306b\u306f\u524a\u9664\u3059\u308b\u5217\u304c\uff11\u3064\u3067\u3042\u3063\u3066\u3082\u30ea\u30b9\u30c8`[]`\u3067\u6307\u5b9a\u3059\u308b\u3002"
            ]
        },
        {
            "cell_type": "markdown",
            "metadata": {
                "heading_collapsed": true
            },
            "source": [
                "## \u4e26\u3073\u66ff\u3048"
            ]
        },
        {
            "cell_type": "markdown",
            "metadata": {
                "hidden": true
            },
            "source": [
                "`df`\u3092`gdp`\u306e\u6607\u9806\u306b\u4e26\u3073\u66ff\u3048\u308b\u3002"
            ]
        },
        {
            "cell_type": "code",
            "execution_count": null,
            "metadata": {},
            "outputs": [],
            "source": []
        },
        {
            "cell_type": "markdown",
            "metadata": {
                "hidden": true
            },
            "source": [
                "\u964d\u9806\u306e\u5834\u5408"
            ]
        },
        {
            "cell_type": "code",
            "execution_count": null,
            "metadata": {},
            "outputs": [],
            "source": []
        },
        {
            "cell_type": "markdown",
            "metadata": {
                "hidden": true
            },
            "source": [
                "\u8907\u6570\u306e\u5217\u3092\u6307\u5b9a\u3059\u308b\u5834\u5408"
            ]
        },
        {
            "cell_type": "code",
            "execution_count": null,
            "metadata": {},
            "outputs": [],
            "source": []
        },
        {
            "cell_type": "markdown",
            "metadata": {
                "hidden": true
            },
            "source": [
                "\u3053\u3053\u3067\u306f`id`\u306b\u5f93\u3063\u3066\u5148\u306b\u4e26\u3073\u66ff\u3048\u3089\u308c\uff0c\u305d\u306e\u5f8c\u306b`gdp`\u306b\u5f93\u3063\u3066\u4e26\u3073\u66ff\u3048\u3089\u308c\u3066\u3044\u308b\u3002`ascending`\u306f\u6607\u9806\uff08`True`\uff09\u304b\u964d\u9806\uff08`False`\uff09\u304b\u3092\u6307\u5b9a\u3059\u308b\u5f15\u6570\u3067\u3042\u308a\uff0c`['id','gdp']`\u3068`ascending=['True','False']`\u306e\u9806\u756a\u304c\u5bfe\u5fdc\u3057\u3066\u3044\u308b\u3002"
            ]
        },
        {
            "cell_type": "markdown",
            "metadata": {
                "heading_collapsed": true
            },
            "source": [
                "## DataFrame\u306e\u7d50\u5408"
            ]
        },
        {
            "cell_type": "code",
            "execution_count": null,
            "metadata": {},
            "outputs": [],
            "source": [
                "\n",
                "\n",
                "",
                ""
            ]
        },
        {
            "cell_type": "code",
            "execution_count": null,
            "metadata": {},
            "outputs": [],
            "source": []
        },
        {
            "cell_type": "code",
            "execution_count": null,
            "metadata": {},
            "outputs": [],
            "source": []
        },
        {
            "cell_type": "code",
            "execution_count": null,
            "metadata": {},
            "outputs": [],
            "source": []
        },
        {
            "cell_type": "markdown",
            "metadata": {
                "heading_collapsed": true,
                "hidden": true
            },
            "source": [
                "### \u6a2a\u7d50\u5408\uff1a`merge()`"
            ]
        },
        {
            "cell_type": "markdown",
            "metadata": {
                "hidden": true
            },
            "source": [
                "`merge()`\u4ee5\u5916\u306b\u3082\u7d50\u5408\u306b\u4f7f\u3048\u308b\u95a2\u6570\u306f\u3042\u308b\u304c\uff0c\u3053\u3053\u3067\u306f`merge()`\u306e\u307f\u3092\u8003\u3048\u308b\u3002\n",
                "\n",
                "`df1`\u3092\u300c\u5de6\u300d\uff0c`df2`\u3092\u300c\u53f3\u300d\u306b\u6a2a\u7d50\u5408\u3059\u308b\u3002\n",
                "```\n",
                "pd.merge(df1, df2, on=None, how='inner')\n",
                "```\n",
                "* `on`\u306f\u3069\u306e\u5217\u3092\u57fa\u6e96\u306b\u3057\u3066\u7d50\u5408\u3059\u308b\u304b\u3092\u6307\u5b9a\uff08\u3053\u3053\u3067\u306f\u300c\u57fa\u6e96\u5217\u300d\u547c\u307c\u3046\uff09\n",
                "    * \u4f8b\u3048\u3070\uff0c`df1`\u3068`df2`\u306e\u4e21\u65b9\u306b`year`\u306e\u5217\u304c\u3042\u308b\u5834\u5408\uff0c`on='year'`\u3068\u3059\u308b\u3068\u5217`year`\u304c\u57fa\u6e96\u5217\u3068\u306a\u308b\u3002\n",
                "        * `df1`\u3068`df2`\u306e\u5225\u3005\u306e\u5217\u3092\u6307\u5b9a\u3059\u308b\u5834\u5408\u306f`left_index=`\u3068`right_index=`\u3092\u4f7f\u3046\u3002\n",
                "    * \u57fa\u6e96\u5217\u306b\u57fa\u3065\u3044\u3066\u6b8b\u3059\u884c\u3092\u6c7a\u3081\u308b\uff08`how`\u3067\u8aac\u660e\u3059\u308b\uff09\n",
                "    * \u57fa\u6e96\u5217\u306b\u3042\u308b\u8981\u7d20\u306e\u9806\u756a\u304c\u5408\u3063\u3066\u306a\u304f\u3066\u3082\uff0c\u81ea\u52d5\u3067\u30de\u30c3\u30c1\u3055\u305b\u308b\u3002\n",
                "    * \u8907\u6570\u6307\u5b9a\u3082\u53ef\n",
                "    * \u30c7\u30d5\u30a9\u30eb\u30c8\u306f`None`\n",
                "* `how`\u306f`on`\u3067\u6307\u5b9a\u3057\u305f\u57fa\u6e96\u5217\u306b\u57fa\u3065\u3044\u3066\u3069\u306e\u3088\u3046\u306b\u7d50\u5408\u3059\u308b\u304b\u3092\u6307\u5b9a\n",
                "    * `inner`\uff1a`df1`\u3068`df2`\u306e\u4e21\u65b9\u306e\u57fa\u6e96\u5217\u3042\u308b\u884c\u3060\u3051\u3092\u6b8b\u3059\uff08\u30c7\u30d5\u30a9\u30eb\u30c8\uff09\u3002\n",
                "    * `left`\uff1a`df1`\u306e\u884c\u306f\u5168\u3066\u6b8b\u3057\uff0c`df2`\u306b\u30de\u30c3\u30c1\u3059\u308b\u884c\u304c\u306a\u3044\u5834\u5408\u306f`NaN`\u3092\u5165\u308c\u308b\u3002\n",
                "    * `right`\uff1a`df2`\u306e\u884c\u306f\u5168\u3066\u6b8b\u3057\uff0c`df1`\u306b\u30de\u30c3\u30c1\u3059\u308b\u884c\u304c\u306a\u3044\u5834\u5408\u306f`NaN`\u3092\u5165\u308c\u308b\u3002\n",
                "    * `outer`\uff1a`df1`\u3068`df2`\u306e\u4e21\u65b9\u306e\u884c\u3092\u6b8b\u3057\uff0c\u30de\u30c3\u30c1\u3059\u308b\u884c\u304c\u306a\u3044\u5834\u5408\u306f`NaN`\u3092\u5165\u308c\u308b\u3002\n",
                "\n",
                "\n",
                "\uff08\u30b3\u30e1\u30f3\u30c8\uff09\n",
                "\u3053\u306e\u4ed6\u306b\u69d8\u3005\u306a\u5f15\u6570\u304c\u3042\u308b\u306e\u3067[\u3053\u306e\u30b5\u30a4\u30c8](https://pandas.pydata.org/pandas-docs/stable/reference/api/pandas.DataFrame.merge.html)\u3092\u53c2\u7167\u3002\u4f8b\u3048\u3070\uff0c\u5834\u5408\u306b\u3088\u3063\u3066\u306f\u6b21\u306e\u5f15\u6570\u3092\u4f7f\u3046\u5fc5\u8981\u304c\u3042\u308b\u304b\u3082\u77e5\u308c\u306a\u3044\u306e\u3067\u78ba\u8a8d\u3057\u3088\u3046\u3002\n",
                "* `left_index`\u3068`right_index`\n",
                "* `suffixes`"
            ]
        },
        {
            "cell_type": "code",
            "execution_count": null,
            "metadata": {},
            "outputs": [],
            "source": []
        },
        {
            "cell_type": "code",
            "execution_count": null,
            "metadata": {},
            "outputs": [],
            "source": []
        },
        {
            "cell_type": "code",
            "execution_count": null,
            "metadata": {},
            "outputs": [],
            "source": []
        },
        {
            "cell_type": "code",
            "execution_count": null,
            "metadata": {},
            "outputs": [],
            "source": []
        },
        {
            "cell_type": "markdown",
            "metadata": {
                "heading_collapsed": true,
                "hidden": true
            },
            "source": [
                "### \u7e26\u7d50\u5408"
            ]
        },
        {
            "cell_type": "markdown",
            "metadata": {
                "hidden": true
            },
            "source": [
                "`concat()`\u306f\u6a2a\u7d50\u5408\u306b\u3082\u4f7f\u3048\u308b\u304c\uff0c\u7e26\u7d50\u5408\u306e\u307f\u8003\u3048\u308b\u3002\n",
                "\n",
                "\u5f15\u6570\u306b\u306f\u8907\u6570\u306e`DataFrame`\u3092\u30ea\u30b9\u30c8\u3068\u3057\u3066\u66f8\u304f\u3002"
            ]
        },
        {
            "cell_type": "code",
            "execution_count": null,
            "metadata": {},
            "outputs": [],
            "source": []
        },
        {
            "cell_type": "code",
            "execution_count": null,
            "metadata": {},
            "outputs": [],
            "source": []
        },
        {
            "cell_type": "markdown",
            "metadata": {
                "heading_collapsed": true
            },
            "source": [
                "## \u305d\u306e\u4ed6"
            ]
        },
        {
            "cell_type": "markdown",
            "metadata": {
                "heading_collapsed": true,
                "hidden": true
            },
            "source": [
                "### \u30a4\u30f3\u30c7\u30c3\u30af\u30b9\u3092\u632f\u308a\u76f4\u3059"
            ]
        },
        {
            "cell_type": "markdown",
            "metadata": {
                "hidden": true
            },
            "source": [
                "\u30e1\u30bd\u30c3\u30c9`.reset_index()`\u3092\u4f7f\u3046\u3068\uff0c\u884c\u306e\u30a4\u30f3\u30c7\u30c3\u30af\u30b9\u30920,1,2,..\u3068\u632f\u308a\u76f4\u3059\u3053\u3068\u304c\u3067\u304d\u308b\u3002`df13`\u3092\u4f7f\u3044\u8aac\u660e\u3059\u308b\u3002"
            ]
        },
        {
            "cell_type": "code",
            "execution_count": null,
            "metadata": {},
            "outputs": [],
            "source": []
        },
        {
            "cell_type": "markdown",
            "metadata": {
                "hidden": true
            },
            "source": [
                "`reset_index()`\u306b\u5f15\u6570`drop=True`\u3092\u52a0\u3048\u308b\u3068\uff0c\u5217`index`\u304c\u81ea\u52d5\u7684\u306b\u524a\u9664\u3055\u308c\u308b\u3002"
            ]
        },
        {
            "cell_type": "code",
            "execution_count": null,
            "metadata": {},
            "outputs": [],
            "source": []
        },
        {
            "cell_type": "markdown",
            "metadata": {
                "heading_collapsed": true,
                "hidden": true
            },
            "source": [
                "### \u5217\u306e\u30e9\u30d9\u30eb\u306e\u5909\u66f4"
            ]
        },
        {
            "cell_type": "markdown",
            "metadata": {
                "hidden": true
            },
            "source": [
                "\u30e1\u30bd\u30c3\u30c9`.rename()`\u3092\u4f7f\u3044\u5217\u306e\u30e9\u30d9\u30eb\u3092\u5909\u66f4\u3059\u308b\u3002\u5f15\u6570\u306f\u6b21\u306e\u5f62\u3067\u8a2d\u5b9a\u3059\u308b\u3002\n",
                "\n",
                "$$\\text{.rename}\\left(\\text{columns=}\u8f9e\u66f8\\right)$$\n",
                "\n",
                "\u3053\u3053\u3067\u300c\u8f9e\u66f8\u300d\u306f\u6b21\u306e\u30eb\u30fc\u30eb\u3067\u6307\u5b9a\u3059\u308b\u3002\n",
                "* `key`:\u5143\u306e\u30e9\u30d9\u30eb\n",
                "* `value`\uff1a\u65b0\u3057\u3044\u30e9\u30d9\u30eb\n",
                "\n",
                "\u4e0b\u306e\u30b3\u30fc\u30c9\u3067\u306f\uff0c`df13`\u3092\u4f7f\u3044\u65b0\u3057\u3044\u30e9\u30d9\u30eb\u3068\u3057\u3066`pop_new`\u3068`id_new`\u3092\u4f7f\u3063\u3066\u3044\u308b\u3002"
            ]
        },
        {
            "cell_type": "code",
            "execution_count": null,
            "metadata": {},
            "outputs": [],
            "source": []
        },
        {
            "cell_type": "markdown",
            "metadata": {
                "heading_collapsed": true,
                "hidden": true
            },
            "source": [
                "### \u5217\u306e\u4e26\u3073\u66ff\u3048"
            ]
        },
        {
            "cell_type": "markdown",
            "metadata": {
                "heading_collapsed": true,
                "hidden": true
            },
            "source": [
                "#### \u30a2\u30eb\u30d5\u30a1\u30d9\u30c3\u30c8\u9806"
            ]
        },
        {
            "cell_type": "markdown",
            "metadata": {
                "hidden": true
            },
            "source": [
                "\u30e1\u30bd\u30c3\u30c9`.sort_index()`\u3092\u4f7f\u3044\uff0c\u5f15\u6570\u306b\u306f`axis='columns'`\u3082\u3057\u304f\u306f`axis=1`\u3092\u6307\u5b9a\u3059\u308b\u3002\n",
                "\n",
                "\uff08\u30b3\u30e1\u30f3\u30c8\uff09\u5f15\u6570\u304c`axis='rows'`\u3082\u3057\u304f\u306f`axis=0`\u306e\u5834\u5408\uff0c\u884c\u304c\u4e26\u3073\u66ff\u3048\u3089\u308c\u308b\u3002"
            ]
        },
        {
            "cell_type": "code",
            "execution_count": null,
            "metadata": {},
            "outputs": [],
            "source": []
        },
        {
            "cell_type": "markdown",
            "metadata": {
                "heading_collapsed": true,
                "hidden": true
            },
            "source": [
                "#### \u9806\u756a\u3092\u6307\u5b9a\u3059\u308b"
            ]
        },
        {
            "cell_type": "markdown",
            "metadata": {
                "heading_collapsed": true,
                "hidden": true
            },
            "source": [
                "##### \u65b9\u6cd5\uff11"
            ]
        },
        {
            "cell_type": "markdown",
            "metadata": {
                "hidden": true
            },
            "source": [
                "\u5217\u3092\u9078\u629e\u3059\u308b\u65b9\u6cd5\u3092\u4f7f\u3044\u4e26\u3073\u66ff\u3048\u308b\u3002"
            ]
        },
        {
            "cell_type": "code",
            "execution_count": null,
            "metadata": {},
            "outputs": [],
            "source": [
                "\n",
                "\n",
                ""
            ]
        },
        {
            "cell_type": "markdown",
            "metadata": {
                "heading_collapsed": true,
                "hidden": true
            },
            "source": [
                "##### \u65b9\u6cd5\uff12"
            ]
        },
        {
            "cell_type": "markdown",
            "metadata": {
                "hidden": true
            },
            "source": [
                "\u3082\u3061\u308d\u3093\u6b21\u306e\u65b9\u6cd5\u3082\u53ef\u3002"
            ]
        },
        {
            "cell_type": "code",
            "execution_count": null,
            "metadata": {},
            "outputs": [],
            "source": []
        },
        {
            "cell_type": "markdown",
            "metadata": {
                "heading_collapsed": true,
                "hidden": true
            },
            "source": [
                "##### \u65b9\u6cd5\uff13"
            ]
        },
        {
            "cell_type": "markdown",
            "metadata": {
                "hidden": true
            },
            "source": [
                "\u30e1\u30bd\u30c3\u30c9`.reindex()`\u3092\u4f7f\u3046\u3002\u5f15\u6570\u306f`columns=[]`\u3002"
            ]
        },
        {
            "cell_type": "code",
            "execution_count": null,
            "metadata": {},
            "outputs": [],
            "source": []
        },
        {
            "cell_type": "markdown",
            "metadata": {
                "heading_collapsed": true,
                "hidden": true
            },
            "source": [
                "##### \u65b9\u6cd5\uff13\u306e\u5fdc\u7528"
            ]
        },
        {
            "cell_type": "markdown",
            "metadata": {
                "hidden": true
            },
            "source": [
                "\u6700\u5f8c\u306e\u884c\u3092\u6700\u521d\u306b\u79fb\u52d5\u3059\u308b\u3002\n",
                "* `.columns.tolist()`\uff1a\u30b3\u30e9\u30e0\u306e\u30e9\u30d9\u30eb\u3092\u53d6\u5f97\u3057\uff0c\u305d\u308c\u3092\u30ea\u30b9\u30c8\u306b\u5909\u63db\n",
                "* `[col[-1]]+col[0:-2]`\u306e\u5206\u89e3\n",
                "    * `[col[-1]]`\uff1a`col`\u306e\u6700\u5f8c\u306e\u8981\u7d20\u3092\u62bd\u51fa\u3059\u308b\u304c\uff0c\u6587\u5b57\u5217\u3068\u3057\u3066\u8fd4\u3055\u308c\u308b\u306e\u3067\uff08\u5916\u5074\u306e\uff09`[ ]`\u3092\u4f7f\u3063\u3066\u30ea\u30b9\u30c8\u306b\u5909\u63db\n",
                "    * `col[0:-2]`\uff1a`col`\u306e\u6700\u521d\u304b\u3089\u6700\u5f8c\u304b\u3089\u4e8c\u756a\u76ee\u306e\u8981\u7d20\u3092\u30ea\u30b9\u30c8\u3068\u3057\u3066\u53d6\u5f97\n",
                "    * `+`\uff1a\u30ea\u30b9\u30c8\u306e\u7d50\u5408"
            ]
        },
        {
            "cell_type": "code",
            "execution_count": null,
            "metadata": {},
            "outputs": [],
            "source": [
                "\n",
                "\n",
                "",
                "",
                ""
            ]
        }
    ],
    "metadata": {
        "kernel_info": {
            "name": "python3"
        },
        "kernelspec": {
            "display_name": "latest",
            "language": "python",
            "name": "latest"
        },
        "language_info": {
            "codemirror_mode": {
                "name": "ipython",
                "version": 3
            },
            "file_extension": ".py",
            "mimetype": "text/x-python",
            "name": "python",
            "nbconvert_exporter": "python",
            "pygments_lexer": "ipython3",
            "version": "3.8.2"
        },
        "nteract": {
            "version": "0.15.0"
        },
        "toc": {
            "base_numbering": 1,
            "nav_menu": {},
            "number_sections": true,
            "sideBar": true,
            "skip_h1_title": false,
            "title_cell": "Table of Contents",
            "title_sidebar": "Contents",
            "toc_cell": false,
            "toc_position": {},
            "toc_section_display": true,
            "toc_window_display": false
        }
    },
    "nbformat": 4,
    "nbformat_minor": 2
}