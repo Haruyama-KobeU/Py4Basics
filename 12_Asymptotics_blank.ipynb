{
    "cells": [
        {
            "cell_type": "markdown",
            "metadata": {},
            "source": [
                "# \u5927\u6a19\u672c\u7279\u6027"
            ]
        },
        {
            "cell_type": "code",
            "execution_count": null,
            "metadata": {},
            "outputs": [],
            "source": [
                "\n",
                "\n",
                "",
                "",
                "",
                "",
                "",
                "",
                "",
                "",
                "# \u8b66\u544a\u30e1\u30c3\u30bb\u30fc\u30b8\u3092\u975e\u8868\u793a\n",
                "\n"
            ]
        },
        {
            "cell_type": "markdown",
            "metadata": {},
            "source": [
                "\u3053\u3053\u3067\u306f\u5927\u6a19\u672c\u7279\u6027\uff08Large sample properties\uff09\u3082\u3057\u304f\u306f\u6f38\u8fd1\u7684\u7279\u6027\uff08Asymptotic properties\uff09\u3068\u547c\u3070\u308c\u308b\u7279\u6027\u306b\u3064\u3044\u3066\u8003\u5bdf\u3059\u308b\u3002\u3053\u306e\u7279\u6027\u306f\n",
                "\n",
                "**\u4eee\u5b9a\uff16\uff08\u6b63\u898f\u6027\uff09\u304c\u6e80\u305f\u3055\u308c\u306a\u3044\u5834\u5408**\n",
                "\n",
                "\u306b\u91cd\u8981\u3068\u306a\u308b\u63a8\u5b9a\u91cf\u306e\u6027\u8cea\u3067\u3042\u308b\u3002"
            ]
        },
        {
            "cell_type": "markdown",
            "metadata": {
                "heading_collapsed": true
            },
            "source": [
                "## \u4e00\u81f4\u6027\uff08Consistency\uff09"
            ]
        },
        {
            "cell_type": "markdown",
            "metadata": {
                "heading_collapsed": true,
                "hidden": true
            },
            "source": [
                "### \u8aac\u660e"
            ]
        },
        {
            "cell_type": "markdown",
            "metadata": {
                "hidden": true
            },
            "source": [
                "\u4e0d\u504f\u6027\u306f\u63a8\u5b9a\u91cf\u306e\u671b\u307e\u3057\u3044\u7279\u6027\u3067\u3042\u308b\u3002\u4e00\u65b9\u3067\uff0c\u5168\u3066\u306e\u63a8\u5b9a\u91cf\u304c\u4e0d\u504f\u6027\u3092\u6e80\u305f\u3059\u308f\u3051\u3067\u306f\u306a\u3044\u3002\u63a8\u5b9a\u91cf\u306b\u3064\u3044\u3066\u4e00\u822c\u306b\u3044\u308f\u308c\u3066\u3044\u308b\u3053\u3068\u306f\uff0c\u6700\u4f4e\u9650**\u4e00\u81f4\u6027\uff08consistency\uff09**\n",
                "\u306f\u5fc5\u8981\u3060\u3068\u3044\u3046\u3053\u3068\u3067\u3042\u308b\u3002\u4e00\u81f4\u6027\u3092\u8a18\u53f7\u3067\u8868\u73fe\u3059\u308b\u3068\n",
                "\n",
                "$$\n",
                "\\underset{n\\rightarrow\\infty}{\\text{plim}}\\;\\hat{\\beta}=\\beta\n",
                "$$\n",
                "\n",
                "\u3068\u306a\u308a\uff0c$\\text{plim}$\uff08probability limit\uff09\u306f\u78ba\u7387\u53ce\u675f\u3092\u8868\u3057\u3066\u3044\u308b\u3002\u3053\u306e\u5f0f\u306e\u610f\u5473\u3092\u7406\u89e3\u3059\u308b\u305f\u3081\u306b$\\hat{\\beta}$\u306f\u78ba\u7387\u5909\u6570\u3067\u3042\u308b\u3053\u3068\u3092\u601d\u3044\u51fa\u305d\u3046\uff08\u30b7\u30df\u30e5\u30ec\u30fc\u30b7\u30e7\u30f3\u306e\u7d50\u679c\u304c\u6bce\u56de\u7570\u306a\u308b\u3053\u3068\u3092\u601d\u3044\u51fa\u305d\u3046\uff09\u3002\u4e0d\u504f\u6027\u3068\u6bd4\u8f03\u3057\u3066\u76f4\u611f\u7684\u306b\u8aac\u660e\u3059\u308b\u3053\u3068\u306b\u3059\u308b\u3002\n",
                "* \u3042\u308b\u6bcd\u96c6\u56e3\u304b\u3089\u6a19\u672c\u306e\u5927\u304d\u3055$n$\u306e\u30b5\u30f3\u30d7\u30eb\u3092$N$\u56de\u5fa9\u5143\u62bd\u51fa\u3057\uff08$N$\u306f\u6a19\u672c\u6570\uff09\uff0c\u305d\u306e\u305f\u3073\u306bOLS\u63a8\u5b9a\u5024$\\hat{\\beta}$\u3092\u8a08\u7b97\u3059\u308b\u3068\u3057\u3088\u3046\u3002\u305d\u306e\u5e73\u5747\u304c\u6bcd\u96c6\u56e3\u306e\u30d1\u30e9\u30e1\u30fc\u30bf\u306e\u5024\u3068\u7b49\u3057\u3044\u3068\u3044\u3046\u306e\u304c\u4e0d\u504f\u6027\uff08$\\text{E}\\left(\\hat{\\beta}\\right)={\\beta}$\uff09\u3067\u3042\u308b\u3002\n",
                "* \u4e0a\u306e\u4f8b\u3067\u306e\u6a19\u672c\u6570\u306f$N$\u3067\u3042\u308b\u305f\u3081\uff0c$N$\u500b\u306eOLS\u63a8\u5b9a\u91cf$\\hat{\\beta}$\u304c\u3042\u308a\uff0c\u305d\u306e\u5206\u5e03\u3092\u8003\u3048\u308b\u3053\u3068\u304c\u3067\u304d\u308b\u3002GM\u4eee\u5b9a\uff11\u301c\uff14\u306e\u3082\u3068\u3067$N$\u304c\u5927\u304d\u3051\u308c\u3070\uff0c\u9023\u7d9a\u5206\u5e03\u95a2\u6570\u3092\u30a4\u30e1\u30fc\u30b8\u3059\u308c\u3070\u826f\u3044\uff08\u4f8b\u3048\u3070\uff0c\u5358\u5cf0\u6027\u306e\u5de6\u53f3\u975e\u5bfe\u79f0\u306e\u9023\u7d9a\u5206\u5e03\u95a2\u6570\uff09\u3002\u3053\u3053\u3067\u6a19\u672c\u6570$N$\u3092\u56fa\u5b9a\u3057\u3066\uff0c\u6a19\u672c\u306e\u5927\u304d\u3055$n$\u3092\u5897\u3084\u3057\u305f\u3068\u3057\u3088\u3046\u3002$n$\u306e\u5897\u52a0\u306b\u3088\u308aOLS\u63a8\u5b9a\u91cf\u306f\u3088\u308a\u6b63\u78ba\u306b\u306a\u308a\uff0c\u63a8\u5b9a\u5024\u306e\u5206\u5e03\u306f\u3088\u308a\u5206\u6563\u304c\u5c0f\u3055\u306a\u5f62\u306b\u5909\u308f\u3063\u3066\u3044\u304f\uff08\u5206\u5e03\u306e\u300c\u5e45\u304c\u72ed\u304f\u306a\u308b\u300d\uff09\u3002\u66f4\u306b\uff0c$n\\rightarrow\\infty$\u3068\u3059\u308b\u3068\uff0c\u63a8\u5b9a\u5024\u306e\u5206\u5e03\u306f$\\beta$\u306e\u70b9\u306b\u9000\u5316\uff08\u4e00\u70b9\u306b\u96c6\u4e2d\uff09\u3059\u308b\u3053\u3068\u306b\u306a\u308b\u3002\u5373\u3061\uff0c\u6a19\u672c\u306e\u5927\u304d\u3055\u304c\u5927\u304d\u3051\u308c\u3070\uff0cOLS\u63a8\u5b9a\u5024$\\hat{\\beta}$\u306e\u5206\u5e03\u81ea\u4f53\u304c\u771f\u306e\u5024$\\beta$\u306b\u9650\u308a\u306a\u304f\u8fd1\u3065\u3044\u3066\u3044\u304f\u306e\u3067\u3042\u308b\u3002\u3053\u308c\u304c\u4e0a\u306e\u5f0f\u306e\u610f\u5473\u3067\u3042\u308b\u3002"
            ]
        },
        {
            "cell_type": "markdown",
            "metadata": {
                "hidden": true
            },
            "source": [
                "```{figure} ./images/unbiased.jpg\n",
                ":align: center\n",
                "\n",
                "\u63a8\u5b9a\u5024\u306e\u5206\u5e03\uff1a\u4e0d\u504f\u6027\u3068\u4e00\u81f4\u6027\n",
                "```"
            ]
        },
        {
            "cell_type": "markdown",
            "metadata": {
                "hidden": true
            },
            "source": [
                "\u3053\u306e\u7ae0\u3067\u306f\u30b7\u30df\u30e5\u30ec\u30fc\u30b7\u30e7\u30f3\u3092\u4f7f\u3063\u3066\u5206\u5e03\u306e\u53ce\u675f\u904e\u7a0b\u3092\u793a\u3059\u304c\uff0c\u305d\u306e\u524d\u306b\u5b9a\u7406\u3068\u3057\u3066\u307e\u3068\u3081\u308b\u3002\n",
                "\n",
                "---\n",
                "**\u5b9a\u7406**\n",
                "\n",
                "\u4eee\u5b9a\uff11\u301c\uff14\uff08GM\u4eee\u5b9a\uff09\u306e\u3082\u3068\u3067\uff0cOLS\u63a8\u5b9a\u91cf\u306f\u4e00\u81f4\u6027\u3092\u6e80\u305f\u3059\u3002\n",
                "\n",
                "---\n",
                "\u3053\u306e\u5b9a\u7406\u306f\uff0cOLS\u63a8\u5b9a\u91cf\u306f\u4e0d\u504f\u6027\u3068\u4e00\u81f4\u6027\u3092\u517c\u306d\u5099\u3048\u3066\u3044\u308b\u3053\u3068\u3092\u793a\u3057\u3066\u3044\u308b\u3002"
            ]
        },
        {
            "cell_type": "markdown",
            "metadata": {
                "hidden": true
            },
            "source": [
                "\u66f4\u306b\uff0c\u4e00\u81f4\u6027\u3060\u3051\u306b\u7740\u76ee\u3059\u308c\u3070\u4eee\u5b9a\uff14\u3092\u6b21\u306e\u4eee\u5b9a\uff14a\u306b\u7de9\u3081\u308b\u3053\u3068\u304c\u53ef\u80fd\u3068\u306a\u308b\u3002\n",
                "\n",
                "\u4eee\u5b9a\uff14a\uff1a$\\text{E}(u)=0,\\quad\\text{Cov}(u,x)=0$\n",
                "\n",
                "* \u4eee\u5b9a\uff14$\\text{E}\\left(u|x\\right)=0$\u306e\u610f\u5473\u3092\u3082\u3046\u4e00\u5ea6\u8003\u3048\u3066\u307f\u308b\u305f\u3081\u306b\u3001\u7dda\u5f62\u3082\u3057\u304f\u306f\u975e\u7dda\u5f62\u306e\u4efb\u610f\u306e\u95a2\u6570\u3092$f(.)$\u3068\u304a\u3053\u3046\u3002\u3053\u306e\u95a2\u6570\u3092\u4f7f\u3044$u=f(x)$\u3068\u3059\u308b\u3068\u3001$u$\u3068$x$\u306b\u306f\u7dda\u5f62\u3082\u3057\u304f\u306f\u975e\u7dda\u5f62\u306e\u95a2\u4fc2\u304c\u5b58\u5728\u3059\u308b\u3053\u3068\u3092\u610f\u5473\u3057\u3066\u3044\u308b\u3002$\\text{E}\\left(u|x\\right)=0$\u306f\u3001$u=f(x)$\u306e\u95a2\u4fc2\u306f\u5b58\u5728\u3057**\u306a\u3044**\u3053\u3068\u3092\u610f\u5473\u3059\u308b\u5f37\u3044\u4eee\u5b9a\u306b\u306a\u3063\u3066\u3044\u308b\u3002\u3053\u306e\u4eee\u5b9a\u3092\u5c11\u3057\u7de9\u3081\u305f\u3082\u306e\u304c\u4eee\u5b9a\uff14a\u3067\u3042\u308b\u3002\u4efb\u610f\u306e\u7dda\u5f62\u95a2\u6570\u3092$h(.)$\u3068\u3059\u308b\u3068\u3001$u$\u3068$x$\u306b\u7dda\u5f62\u306e\u95a2\u4fc2\u304c\u3042\u308b\u5834\u5408\u306f$u=h(x)$\u3068\u306a\u308b\uff08\u4f8b\u3048\u3070\u3001$u=1+2x$\uff09\u3002$\\text{Cov}(u,x)=0$\u306f$u=h(x)$\u306e\u95a2\u4fc2\u304c\u5b58\u5728\u3057\u306a\u3044\u3068\u3044\u3046\u3053\u3068\u3092\u610f\u5473\u3057\u3066\u3044\u308b\u304c\u3001\u5fc5\u305a\u3057\u3082$u=f(x)$\u306e\u95a2\u4fc2\u304c\u5b58\u5728\u3057\u306a\u3044\u3053\u3068\u3092\u610f\u5473\u3057\u306a\u3044\u3002\u66f4\u306b\u4ed8\u3051\u52a0\u3048\u308b\u3068\u3001$u$\u3068$x$\u306b\u975e\u7dda\u5f62\u306e\u95a2\u4fc2\u304c\u3042\u308b\u5834\u5408\uff0c$\\text{Cov}(u,x)=0$\u3067\u3042\u3063\u3066\u3082\uff0c$\\text{E}\\left(u|x\\right)\\neq0$\u306b\u306a\u308a\u3048\u308b\u306e\u3067\u3042\u308b\u3002\u5373\u3061\uff0c\u4eee\u5b9a\uff14\u306f\u4eee\u5b9a\uff14a\u3092\u610f\u5473\u3059\u308b\u304c\uff0c\u4eee\u5b9a\uff14a\u306f\u4eee\u5b9a\uff14\u3092\u5fc5\u305a\u3057\u3082\u610f\u5473\u3057\u306a\u3044\u306e\u3067\u3042\u308b\u3002\n",
                "* $\\text{Cov}(u,x)=0$\u306f$\\text{E}(ux)=\\text{E}(u)x=0$\u3092\u610f\u5473\u3059\u308b\u3002\n",
                "\n",
                "\u4eee\u5b9a\uff14\u3088\u308a\u7de9\u3044\u4eee\u5b9a\uff14a\u306e\u3082\u3068\u3067\u306f\uff0c\u5c11\u306a\u304f\u3068\u3082\u4e00\u81f4\u6027\u3092\u6e80\u305f\u3059\u63a8\u5b9a\u91cf\u3068\u3057\u3066\u3088\u308a\u591a\u304f\u306e\u72b6\u6cc1\u306b\u5bfe\u5fdc\u3067\u304d\u308b\u3088\u3046\u306b\u306a\u308b\u3002"
            ]
        },
        {
            "cell_type": "markdown",
            "metadata": {
                "heading_collapsed": true,
                "hidden": true
            },
            "source": [
                "### \u30b7\u30df\u30e5\u30ec\u30fc\u30b7\u30e7\u30f3\uff1a\u4e00\u81f4\u6027"
            ]
        },
        {
            "cell_type": "markdown",
            "metadata": {
                "hidden": true
            },
            "source": [
                "\u30b7\u30df\u30e5\u30ec\u30fc\u30b7\u30e7\u30f3\u3092\u4f7f\u3044\u4e00\u81f4\u6027\u306e\u5206\u5e03\u53ce\u675f\u3092\u78ba\u304b\u3081\u308b\u3002\u4eee\u5b9a\uff11\u301c\uff14\u306b\u306f\u8aa4\u5dee\u9805\u306e\u6b63\u898f\u6027\u3084\u5747\u4e00\u6027\u306f\u542b\u307e\u308c\u3066\u3044\u306a\u3044\u3002\u3053\u306e\u70b9\u3092\u6349\u3048\u308b\u305f\u3081\u306b\uff0c\u8aa4\u5dee\u9805\u306f\uff12\u3064\u306e\u7570\u306a\u308b\u5206\u5e03\u304b\u3089\u78ba\u7387\u7684\u306b\u767a\u751f\u3059\u308b\u3068\u4eee\u5b9a\u3059\u308b\u3002\u5177\u4f53\u7684\u306b\u306f\uff0c\u78ba\u7387$p$\u3067\u8aa4\u5dee\u9805\u306f\u6b63\u898f\u5206\u5e03\n",
                "\n",
                "$$u_N\\sim\\text{Normal(0,0.25)}$$\n",
                "\n",
                "\u3067\u767a\u751f\u3057\uff0c$1-p$\u3067\n",
                "\n",
                "$$u_c=\\frac{v-1}{\\sqrt{2}},\\qquad v\\sim\\chi^2(1)$$\n",
                "\n",
                "\u304c\u767a\u751f\u3059\u308b\u3002$\\chi^2(1)$\u306f\u81ea\u7531\u5ea6\uff11\u306e\u30ab\u30a4\u4e8c\u4e57\u5206\u5e03\u3067\uff0c\u5e73\u5747\u306f1\uff0c\u6a19\u6e96\u504f\u5dee\u306f$\\sqrt{2}$\u3002\u8aa4\u5dee\u9805\u306e\u78ba\u7387\u5bc6\u5ea6\u95a2\u6570\u306f\uff12\u3064\u306e\u78ba\u7387\u5bc6\u5ea6\u95a2\u6570\u306e\u300c\u52a0\u91cd\u5e73\u5747\u300d\n",
                "\n",
                "$$\n",
                "u = pu_N+(1-p)u_c\n",
                "$$\n",
                "\n",
                "\u3068\u306a\u308b\u3002\n",
                "* \u6b63\u898f\u5206\u5e03\u306e\u5206\u6563\u306f0.5\u3067\u3042\u308a\uff0c\u30ab\u30a4\u4e8c\u4e57\u5206\u5e03\u306e\u5206\u6563\u306f1\u3067\u3042\u308b\u305f\u3081\u4eee\u5b9a\uff15\u306f\u6e80\u305f\u3055\u308c\u306a\u3044\u3002\uff08\u8aac\u660e\u5909\u6570\u306b\u3088\u3063\u3066\u8aa4\u5dee\u9805\u306e\u5206\u6563\u304c\u7570\u306a\u308b\u3002\uff09\n",
                "* \u307e\u305f\u660e\u3089\u304b\u306b\u4eee\u5b9a\uff16\u3082\u6e80\u305f\u3055\u308c\u306a\u3044\u3002\n",
                "* $\\text{E}(u_N)=\\text{E}(u_c)$\u3067\u3042\u308b\u305f\u3081$\\text{E}(u)=0$\u3002"
            ]
        },
        {
            "cell_type": "markdown",
            "metadata": {
                "heading_collapsed": true,
                "hidden": true
            },
            "source": [
                "#### \u8aa4\u5dee\u9805\u306e\u30d7\u30ed\u30c3\u30c8"
            ]
        },
        {
            "cell_type": "markdown",
            "metadata": {
                "hidden": true
            },
            "source": [
                "\u5b9f\u969b\u306b\uff0c\u3053\u3053\u3067\u4eee\u5b9a\u3059\u308b\u8aa4\u5dee\u9805\u306f\u3069\u306e\u3088\u3046\u306a\u5206\u5e03\u306b\u306a\u308b\u304b\u56f3\u793a\u3059\u308b\u3002"
            ]
        },
        {
            "cell_type": "markdown",
            "metadata": {
                "hidden": true
            },
            "source": [
                "\u30e9\u30f3\u30c0\u30e0\u5909\u6570\u306e\u6570"
            ]
        },
        {
            "cell_type": "code",
            "execution_count": null,
            "metadata": {},
            "outputs": [],
            "source": []
        },
        {
            "cell_type": "markdown",
            "metadata": {
                "hidden": true
            },
            "source": [
                "\u3053\u306e\u30b7\u30df\u30e5\u30ec\u30fc\u30b7\u30e7\u30f3\u3067\u306f\uff0c`numpy`\u306e\u95a2\u6570`zeros()`\u3092\u4f7f\u3044`for`\u30eb\u30fc\u30d7\u3067\u751f\u6210\u3055\u308c\u308b\u8aa4\u5dee\u9805\u306e\u5024\u3092\u683c\u7d0d\u3059\u308b`array`\u3092\u7528\u610f\u3059\u308b\u3002`zeros()`\u306f`0`\u304c\u4e26\u3076`array`\u3092\u4f5c\u6210\u3059\u308b\u95a2\u6570\u3067\u3042\u308a\uff0c\u4e00\u56de\u306e\u30eb\u30fc\u30d7\u6bce\u306b`0`\u304c\u8aa4\u5dee\u9805\u306e\u5024\u3068\u7f6e\u63db\u3055\u308c\u308b\u3053\u3068\u306b\u306a\u308b\u3002\uff11\u884c\u30fb`n`\u5217\u306e`array`\u3092\u8a2d\u5b9a\u3059\u308b\u3002"
            ]
        },
        {
            "cell_type": "code",
            "execution_count": null,
            "metadata": {},
            "outputs": [],
            "source": [
                "\n"
            ]
        },
        {
            "cell_type": "markdown",
            "metadata": {
                "hidden": true
            },
            "source": [
                "\u6b63\u898f\u5206\u5e03\u306e\u6a19\u6e96\u504f\u5dee\u306e\u5024\u3002"
            ]
        },
        {
            "cell_type": "code",
            "execution_count": null,
            "metadata": {},
            "outputs": [],
            "source": []
        },
        {
            "cell_type": "code",
            "execution_count": null,
            "metadata": {},
            "outputs": [],
            "source": [
                "\n",
                "\n",
                "",
                "",
                "",
                "",
                "",
                ""
            ]
        },
        {
            "cell_type": "markdown",
            "metadata": {
                "hidden": true
            },
            "source": [
                "\uff1c\u4e0a\u306e\u30b3\u30fc\u30c9\u306e\u8aac\u660e\uff1e\n",
                "> 1. `n`\u56de`for`\u30eb\u30fc\u30d7\u3092\u5ba3\u8a00\u3002\n",
                "> 2. `dist_1`\u306e\u5272\u5408\n",
                "> 3. \u6b63\u898f\u5206\u5e03\u306b\u5f93\u3046\uff11\u3064\u306e\u30e9\u30f3\u30c0\u30e0\u5909\u6570\u3092\u751f\u6210\u3002\n",
                "> 4. \u30ab\u30a4\u4e8c\u4e57\u5206\u5e03\u306b\u5f93\u3046\uff11\u3064\u306e\u30e9\u30f3\u30c0\u30e0\u5909\u6570\u3092\u751f\u6210\u3002\n",
                "> 5. `error`\u304c\u8aa4\u5dee\u9805\n",
                "> 6. \u3053\u306e\u8aa4\u5dee\u9805\u3092`u[]`\u306e`i`\u756a\u76ee\u306b\u4ee3\u5165\u3002\n",
                "\n",
                "`u`\u306e\u6700\u521d\u306e10\u306e\u5024\u3092\u78ba\u8a8d\u3057\u3066\u307f\u308b\u3002"
            ]
        },
        {
            "cell_type": "code",
            "execution_count": null,
            "metadata": {},
            "outputs": [],
            "source": []
        },
        {
            "cell_type": "markdown",
            "metadata": {
                "hidden": true
            },
            "source": [
                "\u6b21\u306b`u`\u3092\u56f3\u793a\u3057\u3066\u307f\u3088\u3046\u3002"
            ]
        },
        {
            "cell_type": "code",
            "execution_count": null,
            "metadata": {},
            "outputs": [],
            "source": [
                "\n",
                "\n",
                "",
                "",
                ""
            ]
        },
        {
            "cell_type": "markdown",
            "metadata": {
                "hidden": true
            },
            "source": [
                "\u78ba\u8a8d\u306e\u305f\u3081\u306b\u3001\u751f\u6210\u3055\u308c\u305f`n`\u500b\u306e\u30e9\u30f3\u30c0\u30e0\u5909\u6570\uff08\u8aa4\u5dee\u9805\uff09\u306e\u5e73\u5747\u3092\u8a08\u7b97\u3057\u3066\u307f\u308b\u3002"
            ]
        },
        {
            "cell_type": "code",
            "execution_count": null,
            "metadata": {},
            "outputs": [],
            "source": []
        },
        {
            "cell_type": "markdown",
            "metadata": {
                "heading_collapsed": true,
                "hidden": true
            },
            "source": [
                "#### \u4e00\u81f4\u6027"
            ]
        },
        {
            "cell_type": "markdown",
            "metadata": {
                "hidden": true
            },
            "source": [
                "\uff1c\u30b7\u30df\u30e5\u30ec\u30fc\u30b7\u30e7\u30f3\u306e\u5185\u5bb9\uff1e\n",
                "* \u6bcd\u96c6\u56e3\u306e\u30d1\u30e9\u30e1\u30fc\u30bf\u3092\u6c7a\u3081\u308b\u3002\n",
                "* \u5358\u56de\u5e30\u5206\u6790\n",
                "\n",
                "    $$ y=\\beta_0 + \\beta_1 x + u$$\n",
                "    \n",
                "* \u6a19\u672c\u306e\u5927\u304d\u3055$n=5,\\;10,\\;100,\\;500$\u3092\u8003\u3048\u308b\u3002\n",
                "* \u305d\u308c\u305e\u308c10,000\u56de\u63a8\u5b9a\u3057$\\hat{\\beta}_1$\uff0810,000\u500b\uff09\u306e\u5206\u5e03\u3092\u6bd4\u3079\u308b\u3002"
            ]
        },
        {
            "cell_type": "markdown",
            "metadata": {
                "hidden": true
            },
            "source": [
                "\u6bcd\u96c6\u56e3\u306e\u30d1\u30e9\u30e1\u30fc\u30bf"
            ]
        },
        {
            "cell_type": "code",
            "execution_count": null,
            "metadata": {},
            "outputs": [],
            "source": [
                "\n"
            ]
        },
        {
            "cell_type": "markdown",
            "metadata": {
                "hidden": true
            },
            "source": [
                "\u6a19\u672c\u6570\uff08\u30b7\u30df\u30e5\u30ec\u30fc\u30b7\u30e7\u30f3\u306e\u56de\u6570\uff09"
            ]
        },
        {
            "cell_type": "code",
            "execution_count": null,
            "metadata": {},
            "outputs": [],
            "source": []
        },
        {
            "cell_type": "markdown",
            "metadata": {
                "hidden": true
            },
            "source": [
                "\u30b7\u30df\u30e5\u30ec\u30fc\u30b7\u30e7\u30f3\u3092\u304a\u3053\u306a\u3046\u95a2\u6570\u3092\u5b9a\u7fa9\u3059\u308b\u3002\n",
                "* \u5f15\u6570\uff1a\u6a19\u672c\u306e\u5927\u304d\u3055`n`\n",
                "* \u8fd4\u308a\u5024\uff1a`b1`\u306e\u63a8\u5b9a\u5024\u306e`numpy`\u306e`array`"
            ]
        },
        {
            "cell_type": "code",
            "execution_count": null,
            "metadata": {},
            "outputs": [],
            "source": [
                "\n",
                "\n",
                "",
                "",
                "",
                "",
                "",
                "",
                "",
                "        # \u6b8b\u5dee\u306e\u751f\u6210\uff08\u4e0a\u3067\u8aac\u660e\u3057\u305f\u3082\u306e\uff09\n",
                "\n",
                "\n",
                "",
                "",
                "",
                "",
                "",
                "",
                "",
                "",
                "",
                "",
                "",
                "",
                "",
                "",
                "",
                "",
                ""
            ]
        },
        {
            "cell_type": "markdown",
            "metadata": {
                "hidden": true
            },
            "source": [
                "\u95a2\u6570`sim_consistency()`\u3092\u4f7f\u3044$n=30,\\;100,\\;250,\\;500$\u306e\uff14\u30d1\u30bf\u30fc\u30f3\u306e\u30b7\u30df\u30e5\u30ec\u30fc\u30b7\u30e7\u30f3\u3092\u304a\u3053\u306a\u3046\u304c\u3001\u305d\u306e\u969b\u3001\u6b21\u306e\u3088\u3046\u306a\u30b3\u30fc\u30c9\u3092\u66f8\u304f\u3053\u3068\u3082\u53ef\u80fd\u3067\u3042\u308b\u3002\n",
                "\n",
                "```\n",
                "# n=30\u306e\u30b7\u30df\u30e5\u30ec\u30fc\u30b7\u30e7\u30f3\n",
                "sim_30 = sim_consistency(30)\n",
                "\n",
                "# n=100\u306e\u30b7\u30df\u30e5\u30ec\u30fc\u30b7\u30e7\u30f3\n",
                "sim_100 = sim_consistency(100)\n",
                "\n",
                "# n=250\u306e\u30b7\u30df\u30e5\u30ec\u30fc\u30b7\u30e7\u30f3\n",
                "sim_250 = sim_consistency(250)\n",
                "\n",
                "# n=500\u306e\u30b7\u30df\u30e5\u30ec\u30fc\u30b7\u30e7\u30f3\n",
                "sim_500 = sim_consistency(500)\n",
                "```\n",
                "\u3082\u3061\u308d\u3093\uff0c\u3053\u306e\u65b9\u6cd5\u3067\u3082\u554f\u984c\u306f\u306a\u3044\u304c\uff0c\u30d1\u30bf\u30fc\u30f3\u304c\u5897\u3048\u308b\u3068\u66f8\u304f\u884c\u3082\u5897\u3048\u3066\u3044\u304f\u3002\u5225\u306e\u65b9\u6cd5\u3068\u3057\u3066\u8f9e\u66f8\u3092\u4f7f\u3046\u65b9\u6cd5\u3092\u7d39\u4ecb\u3059\u308b\u3002`n`\u306e\u5024\u3067\u3042\u308b`30`\u3084`100`\u3092\u30ad\u30fc\u306b\u8a2d\u5b9a\u3057\uff0c\u5024\u306b\u30b7\u30df\u30e5\u30ec\u30fc\u30b7\u30e7\u30f3\u306e\u7d50\u679c\u3092\u683c\u7d0d\u3059\u308b\u65b9\u6cd5\u3067\u3042\u308b\u3002"
            ]
        },
        {
            "cell_type": "code",
            "execution_count": null,
            "metadata": {},
            "outputs": [],
            "source": [
                "\n",
                "\n",
                "",
                ""
            ]
        },
        {
            "cell_type": "markdown",
            "metadata": {
                "hidden": true
            },
            "source": [
                "\u6700\u5f8c\u306e\u884c\u306e\u53f3\u8fba\u306f`sim_consistency()`\u306e\u8fd4\u308a\u5024\u3067\u3042\u308b`array`\u3067\u3042\u308a\uff0c\u305d\u308c\u3092\u30ad\u30fc`'30'`\u3084`'100'`\u3068\u306e\u30da\u30a2\u306b\u306b\u8a2d\u5b9a\u3057\uff0c\u305d\u308c\u3089\u304b\u3089\u69cb\u6210\u3055\u308c\u308b\u8f9e\u66f8`data_consistency`\u3092\u4f5c\u6210\u3057\u3066\u3044\u308b\u3002\u30a4\u30e1\u30fc\u30b8\u3068\u3057\u3066\u306f\u6b21\u306e\u3088\u3046\u306a\u8f9e\u66f8\u3068\u306a\u3063\u3066\u3044\u308b\u3002\n",
                "```\n",
                "{'30':sim_consistency(30),'100':sim_consistency(100),....}\n",
                "```\n",
                "\u30b7\u30df\u30e5\u30ec\u30fc\u30b7\u30e7\u30f3\u306e\u7d50\u679c\u306b\u30a2\u30af\u30bb\u30b9\u3059\u308b\u306b\u306f\u30ad\u30fc\u3092\u4f7f\u3046\u3002\u4f8b\u3048\u3070\uff0c`sim_consistency(30)`\u306e\u7d50\u679c\u306b\u30a2\u30af\u30bb\u30b9\u3059\u308b\u5834\u5408\u306f"
            ]
        },
        {
            "cell_type": "code",
            "execution_count": null,
            "metadata": {},
            "outputs": [],
            "source": []
        },
        {
            "cell_type": "markdown",
            "metadata": {
                "hidden": true
            },
            "source": [
                "\u3068\u3059\u308b\u3002\u6b21\u306b\u56f3\u3092\u30d7\u30ed\u30c3\u30c8\u3057\u3088\u3046\u3002"
            ]
        },
        {
            "cell_type": "code",
            "execution_count": null,
            "metadata": {},
            "outputs": [],
            "source": [
                "# \u56f3\u3092\u4f5c\u6210\u3059\u308b\u305f\u3081\u306b\u6a2a\u8ef8\u306e\u5024\u3092\u8a2d\u5b9a\n",
                "\n",
                "\n",
                "# n = 30\n",
                "\n",
                "\n",
                "",
                "# n = 100\n",
                "\n",
                "\n",
                "",
                "# n = 250\n",
                "\n",
                "\n",
                "",
                "# n = 500\n",
                "\n",
                "\n",
                "",
                "",
                "# \u6bcd\u96c6\u56e3\u306e\u30d1\u30e9\u30e1\u30fc\u30bf\u306e\u5024\u306b\u7e26\u306e\u7dda\n",
                "\n",
                "\n",
                "",
                "",
                ""
            ]
        },
        {
            "cell_type": "markdown",
            "metadata": {
                "hidden": true
            },
            "source": [
                "\u4e0a\u306e\u30b3\u30fc\u30c9\u306b\u306f\u540c\u3058\u3088\u3046\u306a\u884c\u304c\u8907\u6570\u3042\u308a\uff0c\u5358\u7d14\u306a\u9593\u9055\u3044\u306e\u53ef\u80fd\u6027\u304c\u9ad8\u304f\u306a\u308b\u3002\u3002`for`\u30eb\u30fc\u30d7\u3092\u4f7f\u3046\u3068\u3088\u308a\u30b3\u30f3\u30d1\u30af\u30c8\u306b\u66f8\u304f\u3053\u3068\u304c\u53ef\u80fd\u3068\u306a\u308a\uff0c\u9593\u9055\u3044\u3082\u5c11\u306a\u304f\u306a\u308b\u3002"
            ]
        },
        {
            "cell_type": "code",
            "execution_count": null,
            "metadata": {},
            "outputs": [],
            "source": [
                "# OLS\u63a8\u5b9a\u91cf\u306e\u30ea\u30b9\u30c8\n",
                "\n",
                "\n",
                "# \u8272\u306e\u30ea\u30b9\u30c8\n",
                "\n",
                "\n",
                "# \u30e9\u30d9\u30eb\u306e\u30ea\u30b9\u30c8\n",
                "\n",
                "\n",
                "#\u3000\u6a2a\u8ef8\n",
                "\n",
                "\n",
                "#\u3000\u4e0b\u306e\u8aac\u660e\uff08\uff11\uff09\u3092\u53c2\u7167 \n",
                "\n",
                "\n",
                "",
                "",
                "",
                "",
                "",
                "",
                ""
            ]
        },
        {
            "cell_type": "markdown",
            "metadata": {
                "hidden": true
            },
            "source": [
                "1. `zip()`\u306f\u30eb\u30fc\u30d7\u306b\u3088\u304f\u4f7f\u308f\u308c\u308b\u4fbf\u5229\u306a\u95a2\u6570\u3067\u3042\u308b\u3002\u4ee5\u4e0b\u306e\u5358\u7d14\u306a`for`\u30eb\u30fc\u30d7\n",
                "    ```\n",
                "    for i in range(5):\n",
                "        print('Hi')\n",
                "    ```\n",
                "    \u306b\u306f\u30eb\u30fc\u30d7\u30fb\u30a4\u30f3\u30c7\u30c3\u30af\u30b9\u304c`i`\u306e\uff11\u7a2e\u985e\u3057\u304b\u306a\u3044\u3002\u3057\u304b\u3057\u8907\u6570\u306e\u30eb\u30fc\u30d7\u30fb\u30a4\u30f3\u30c7\u30c3\u30af\u30b9\u304c\u3042\u308b\u3068\u4fbf\u5229\u306a\u5834\u5408\u304c\u3042\u308a\uff0c\u305d\u306e\u969b\u4f7f\u3046\u306e\u304c`zip()`\u3067\u3042\u308b\u3002\u4f7f\u3044\u65b9\u306f\uff0c`zip()`\u306e\u4e2d\u306b\u8907\u6570\u306e\u30ea\u30b9\u30c8\uff08\u4f8b\u3048\u3070\uff0c`b1hat_list`, `color_list`, `label_list`\uff09\u3092\u5165\u308c\uff0c`in`\u306e\u524d\u306b\u30bf\u30d7\u30eb\u3068\u3057\u3066\u540c\u3058\u9806\u756a\u306b\u30eb\u30fc\u30d7\u30fb\u30a4\u30f3\u30c7\u30c3\u30af\u30b9\u3092\u4e26\u3079\u308b\u3002\n",
                "2. `'...n={}'.format(l)`\u306b\u3064\u3044\u3066\u3002\u6587\u5b57\u5217\u306f`''`\u3067\u631f\u3080\u304c\uff0c\u305d\u306e\u4e2d\u306b\u5b9a\u7fa9\u3057\u305f\u5909\u6570\u306e\u5024\u3092\u66f8\u304d\u305f\u3044\u5834\u5408\u304c\u3042\u308b\u3002\u76f4\u63a5\u66f8\u3044\u3066\u3082\u69cb\u308f\u306a\u3044\u304c\uff0c\u5024\u304c\u5909\u66f4\u3055\u308c\u308b\u5ea6\u306b\u66f8\u304d\u76f4\u3059\u306e\u306f\u9762\u5012\u3067\u3042\u308b\u3002`'<\u6587\u5b57\u5217>{}'.format(<\u5909\u6570>)`\u3092\u4f7f\u3046\u3068\u5909\u6570\u306e\u5024\u304c\u5909\u308f\u3063\u3066\u3082\u81ea\u52d5\u7684\u306b\u5909\u66f4\u3055\u308c\u308b\u3002\u4f7f\u3044\u65b9\u306f\uff0c`''`\u306e\u5165\u308c\u305f\u3044\u7b87\u6240\u306b`{}`\u3092\u5165\u308c\uff0c\u305d\u306e\u5f8c\u306b`.format(<\u5909\u6570>)`\u3092\u66f8\u304f\u3002\u3082\u3061\u308d\u3093`f-string`\u3092\u4f7f\u3044\u6b21\u306e\u3088\u3046\u306b\u66f8\u3044\u3066\u3082\u540c\u3058\u7d50\u679c\u3068\u306a\u308b\u3002\n",
                "    ```\n",
                "    f'...n={l}'\n",
                "    ```"
            ]
        },
        {
            "cell_type": "markdown",
            "metadata": {
                "hidden": true
            },
            "source": [
                "---\n",
                "\u56f3\u304b\u3089$n$\u304c\u5897\u52a0\u3059\u308b\u3068\u5206\u5e03\u306e\u5206\u6563\u304c\u5c0f\u3055\u304f\u306a\u308b\u306e\u304c\u8996\u899a\u7684\u306b\u78ba\u8a8d\u3067\u304d\u308b\u3002\u3053\u308c\u304c\u4e00\u81f4\u6027\u3067\u3042\u308b\u3002`n`\u306e\u5897\u52a0\u306b\u3088\u308a\u63a8\u5b9a\u91cf$\\hat{\\beta}_1$\u306e\u6b63\u78ba\u6027\u304c\u5897\u3059\u3053\u3068\u304c\u7406\u89e3\u3067\u304d\u308b\u3002\u307e\u305f4\u3064\u306e\u5206\u5e03\u306f\u771f\u306e\u5024$b_1=0.5$\u3092\u4e2d\u5fc3\u306b\u5de6\u53f3\u5bfe\u8c61\u3067\u3042\u308b\u3053\u3068\u3082\u308f\u304b\u308b\u3002\u5373\u3061\uff0c\u63a8\u5b9a\u91cf$\\hat{\\beta}_1$\u306f\u4e0d\u504f\u6027\u3082\u6e80\u305f\u3057\u3066\u3044\u308b\u3053\u3068\u304c\u308f\u304b\u308b\u3002"
            ]
        },
        {
            "cell_type": "markdown",
            "metadata": {
                "heading_collapsed": true
            },
            "source": [
                "## \u6a19\u672c\u306e\u5927\u304d\u3055\u306b\u3088\u308b\u9055\u3044"
            ]
        },
        {
            "cell_type": "markdown",
            "metadata": {
                "heading_collapsed": true,
                "hidden": true
            },
            "source": [
                "### \u5c0f\u6a19\u672c\u7279\u6027"
            ]
        },
        {
            "cell_type": "markdown",
            "metadata": {
                "hidden": true
            },
            "source": [
                "\u6a19\u672c\u306e\u5927\u304d\u3055\u304c $n>k+1$ \u3067\u3042\u308b\u304b\u304e\u308a\u3069\u306e\u3088\u3046\u306a\u5024\uff08\u5c0f\u3055\u304f\u3066\u3082\u5927\u304d\u304f\u3066\u3082\uff09\u3067\u3042\u3063\u3066\u3082\n",
                "1. \u4eee\u5b9a\uff11\u301c\uff14\uff08GM\u4eee\u5b9a\uff09\u306e\u4e0b\u3067OLS\u63a8\u5b9a\u91cf\u306e**\u4e0d\u504f\u6027**\u306f\u6210\u7acb\u3059\u308b\u3002\n",
                "2. \u4eee\u5b9a\uff11\u301c\uff15\uff08CLM\u4eee\u5b9a\uff09\u306e\u4e0b\u3067OLS\u63a8\u5b9a\u91cf\u306e**B.L.U.E**\u3082\u6210\u7acb\u3059\u308b\u3002\n",
                "3. \u4eee\u5b9a\uff11\u301c\uff16\u306e\u4e0b\u3067\uff0c\u8aac\u660e\u5909\u6570\u306e\u5024\u3092\u6240\u4e0e\u3068\u3059\u308b\u3068\uff0cOLS\u63a8\u5b9a\u91cf$\\hat{\\beta}_j$\u306f\u6b63\u898f\u5206\u5e03\u306b\u5f93\u3046\u3002\u3053\u308c\u306b\u3088\u308a$t$\u691c\u5b9a\u3068$F$\u691c\u5b9a\u306f**\u6709\u52b9**\u3068\u306a\u308b\u3002\n",
                "\n",
                "\u5c0f\u6a19\u672c\u7279\u6027\uff13\u304c\u6210\u7acb\u3059\u308b\u4e0a\u3067\u7279\u306b\u91cd\u8981\u306a\u306e\u306f\u4eee\u5b9a\uff16\uff08\u8aa4\u5dee\u9805\u306e\u6b63\u898f\u6027\uff09\u3067\u3042\u308b\u3002\u6a19\u672c\u306e\u5927\u304d\u3055\uff08$n$\uff09\u304c\u5c0f\u3055\u304f\u3066\u3082\uff08\u3082\u3061\u308d\u3093\uff0c\u5927\u304d\u304f\u3066\u3082\uff09\uff0c\u4eee\u5b9a\uff16\u306b\u3088\u308aOLS\u63a8\u5b9a\u91cf\u306f\u6b63\u898f\u5206\u5e03\u306b\u5f93\u3044$t$\u691c\u5b9a\u3068$F$\u691c\u5b9a\u306f\u6709\u52b9\u3067\u3042\u308b\u3002\u63db\u8a00\u3059\u308b\u3068\uff0c\u4eee\u5b9a\uff16\u304c\u6210\u7acb\u3057\u306a\u3051\u308c\u3070$t$\u691c\u5b9a\u3068$F$\u691c\u5b9a\u306f\u7121\u52b9\u306b\u306a\u3063\u3066\u3057\u307e\u3046\u3002\u305d\u3053\u3067\u91cd\u8981\u306a\u5f79\u5272\u3092\u679c\u305f\u3059\u306e\u304c\u300c\u5927\u6a19\u672c\u7279\u6027\u300d\u3068\u3044\u308f\u308c\u308b\u3082\u306e\u3067\u3042\u308b\u3002"
            ]
        },
        {
            "cell_type": "markdown",
            "metadata": {
                "heading_collapsed": true,
                "hidden": true
            },
            "source": [
                "### \u5927\u6a19\u672c\u7279\u6027"
            ]
        },
        {
            "cell_type": "markdown",
            "metadata": {
                "hidden": true
            },
            "source": [
                "\u4eee\u5b9a\uff16\u304c\u6e80\u305f\u3055\u308c\u306a\u304f\u3068\u3082\uff08\u4eee\u5b9a\uff11\u301c\uff15\u306e\u3082\u3068\u3067\uff09\u6a19\u672c\u306e\u5927\u304d\u3055\u304c\u5341\u5206\u306b\u5927\u304d\u3044\u5834\u5408\uff08$n\\rightarrow\\infty$\uff09\uff0cOLS\u63a8\u5b9a\u91cf $\\hat{\\beta}_j$\u306f\u6b63\u898f\u5206\u5e03\u306b\u5f93\u3046\u3002\n",
                "\n",
                "\u3053\u306e\u7279\u6027\u306b\u3088\u308a\u6a19\u672c\u6570\u304c\u5341\u5206\u306b\u5927\u304d\u3044\u5834\u5408\uff0c$t$\u5024\u3068$F$\u5024\u306e\u5206\u5e03\u306f\u305d\u308c\u305e\u308c$t$\u5206\u5e03\u3068$F$\u5206\u5e03\u3067**\u8fd1\u4f3c**\u3067\u304d\u308b\u3002\u3053\u306e\u610f\u5473\u3067$t$\u691c\u5b9a\u3068$F$\u691c\u5b9a\u306f\u6709\u52b9\u3068\u306a\u308b\u3002\u3067\u306f\u3069\u308c\u3060\u3051$n$\u304c\u5927\u304d\u3051\u308c\u3070\u5927\u6a19\u672c\u7279\u6027\u306e\u3082\u3068\u3067$t$\u691c\u5b9a\u3068$F$\u691c\u5b9a\u304c\u6709\u52b9\u3068\u306a\u308b\u306e\u3067\u3042\u308d\u3046\u3002\u6b8b\u5ff5\u306a\u3053\u3068\u306b\u6c7a\u307e\u3063\u305f\u30eb\u30fc\u30eb\u306f\u306a\u3044\u3002**30**\u3068\u3082\u8a00\u308f\u308c\u308b\u304c\uff0c\u5168\u3066\u306e\u30b1\u30fc\u30b9\u3067\u305d\u3046\u3068\u306f\u8a00\u3044\u304c\u305f\u3044\u3002"
            ]
        },
        {
            "cell_type": "markdown",
            "metadata": {
                "heading_collapsed": true
            },
            "source": [
                "## \u30b7\u30df\u30e5\u30ec\u30fc\u30b7\u30e7\u30f3\uff1a\u5927\u6a19\u672c\u7279\u6027\u3068$t$\u5024\u306e\u5206\u5e03"
            ]
        },
        {
            "cell_type": "markdown",
            "metadata": {
                "heading_collapsed": true,
                "hidden": true
            },
            "source": [
                "### \u8aac\u660e"
            ]
        },
        {
            "cell_type": "markdown",
            "metadata": {
                "hidden": true
            },
            "source": [
                "\u5927\u6a19\u672c\u7279\u6027\u3092\u78ba\u8a8d\u3059\u308b\u305f\u3081\u306b\u30b7\u30df\u30e5\u30ec\u30fc\u30b7\u30e7\u30f3\u3092\u304a\u3053\u306a\u3046\u304c\u3001\u3053\u3053\u3067\u306f$t$\u5024\u306e\u5206\u5e03\u3092\u8003\u3048\u308b\u3002\n",
                "\n",
                "\n",
                "\uff1c\u30b7\u30df\u30e5\u30ec\u30fc\u30b7\u30e7\u30f3\u306e\u5185\u5bb9\uff1e\n",
                "\n",
                "* \u5358\u56de\u5e30\u5206\u6790\u3092\u8003\u3048\u308b\u3002\n",
                "\n",
                "    $$ y=\\beta_0 + \\beta_1 x + u$$\n",
                "    \n",
                "* \uff12\u3064\u306e\u30b1\u30fc\u30b9\u306b\u5206\u3051\u308b\u3002\n",
                "    1. $u$\u304c\u6b63\u898f\u6027\u3092\u6e80\u305f\u3057\u3066\u3044\u308b\u5834\u5408\n",
                "    2. $u$\u304c\u6b63\u898f\u6027\u3092\u6e80\u305f\u3057\u3066\u3044\u306a\u3044\u5834\u5408\n",
                "* \u305d\u308c\u305e\u308c\u306e\u30b1\u30fc\u30b9\u3067\u6a19\u672c\u306e\u5927\u304d\u3055$n=5,10,30,100$\u306e\uff14\u3064\u306e\u30b1\u30fc\u30b9\u3092\u8003\u3048\u308b\uff08\u5373\u3061\uff0c\u8a088\u56de\u30d1\u30bf\u30fc\u30f3\uff09\u3002\n",
                "* \uff11\u30d1\u30bf\u30fc\u30f3\u306b\u3064\u304d$N$\u56de\u306e\u63a8\u5b9a\u3092\u304a\u3053\u306a\u3044\uff0c\u6b21\u306e\u7d71\u8a08\u91cf\u3092$N$\u500b\u751f\u6210\u3059\u308b\u3002\n",
                "    \n",
                "    $$\n",
                "    q_1=\\frac{\\hat{\\beta}_1-\\beta_1}{\\text{se}\\left(\\hat{\\beta}_1\\right)}\n",
                "    $$\n",
                "\n",
                "  $u$\u304c\u6b63\u898f\u6027\u3092\u6e80\u305f\u3057\u3066\u3044\u308b\u5834\u5408\uff0c$q_1$\u306f$t_{n-2}$\u306b\u5f93\u3063\u3066\u5206\u5e03\u3059\u308b\u3002\n",
                "* $q_1$\u306e\u5206\u5e03\u3068\u5bfe\u5fdc\u3059\u308b$t_{n-2}$\u5206\u5e03\u3092\u6bd4\u3079\u308b\u3002"
            ]
        },
        {
            "cell_type": "markdown",
            "metadata": {
                "hidden": true
            },
            "source": [
                "---\n",
                "\u30b7\u30df\u30e5\u30ec\u30fc\u30b7\u30e7\u30f3\u306e\u76ee\u7684\u306f\u6b21\u306e\uff12\u3064\u306e\u70b9\u3092\u78ba\u8a8d\u3059\u308b\u3053\u3068\u3067\u3042\u308b\u3002\n",
                "\n",
                "**\uff08\u5c0f\u6a19\u672c\u7279\u6027\uff09**\n",
                "\u4eee\u5b9a\uff16\u304c\u6210\u308a\u7acb\u3064\u5834\u5408\uff0c$q_1$\u306e\u5024\u306f\u81ea\u7531\u5ea6$n-2$\u306e$t$\u5206\u5e03\u306b\u5f93\u3046\u3002\n",
                "\n",
                "**\uff08\u5927\u6a19\u672c\u7279\u6027\uff09**\n",
                "\u4eee\u5b9a\uff16\u304c\u6210\u308a\u7acb\u305f\u306a\u3044\u5834\u5408\uff0c$n$\u304c\u5c0f\u3055\u3044\u3068$q_1$\u5024\u306f$t$\u5206\u5e03\u306b\u5f93\u308f\u306a\u3044\u304c\uff0c$n$\u304c\u5341\u5206\u306b\u5927\u304d\u3044\u3068\u81ea\u7531\u5ea6$n-2$\u306e$t$\u5206\u5e03\u306b\u5f93\u3046\u3002"
            ]
        },
        {
            "cell_type": "markdown",
            "metadata": {
                "heading_collapsed": true,
                "hidden": true
            },
            "source": [
                "### \u8aa4\u5dee\u9805\u306e\u6b63\u898f\u6027\u304c\u6e80\u305f\u3055\u308c\u308b\u5834\u5408"
            ]
        },
        {
            "cell_type": "markdown",
            "metadata": {
                "hidden": true
            },
            "source": [
                "\u6bcd\u96c6\u56e3\u306e\u30d1\u30e9\u30e1\u30fc\u30bf\u306f\u4e00\u81f4\u6027\u306e\u30b7\u30df\u30e5\u30ec\u30fc\u30b7\u30e7\u30f3\u3068\u540c\u3058\u5024\u3092\u4f7f\u3046\u3002"
            ]
        },
        {
            "cell_type": "code",
            "execution_count": null,
            "metadata": {},
            "outputs": [],
            "source": [
                "\n"
            ]
        },
        {
            "cell_type": "markdown",
            "metadata": {
                "hidden": true
            },
            "source": [
                "\u8aa4\u5dee\u9805\u306f\u6a19\u6e96\u6b63\u898f\u5206\u5e03\u306b\u5f93\u3046\u3068\u4eee\u5b9a\u3059\u308b\u3002`u_sd`\u306f\u8aa4\u5dee\u9805\u306e\u6a19\u6e96\u504f\u5dee\u3002"
            ]
        },
        {
            "cell_type": "code",
            "execution_count": null,
            "metadata": {},
            "outputs": [],
            "source": []
        },
        {
            "cell_type": "markdown",
            "metadata": {
                "hidden": true
            },
            "source": [
                "\u6a19\u672c\u6570\uff08\u30b7\u30df\u30e5\u30ec\u30fc\u30b7\u30e7\u30f3\u306e\u56de\u6570\uff09\u306f\u6b21\u306e\u5024\u3068\u3059\u308b\u3002"
            ]
        },
        {
            "cell_type": "code",
            "execution_count": null,
            "metadata": {},
            "outputs": [],
            "source": []
        },
        {
            "cell_type": "markdown",
            "metadata": {
                "hidden": true
            },
            "source": [
                "\u30b7\u30df\u30e5\u30ec\u30fc\u30b7\u30e7\u30f3\u306e\u95a2\u6570\u3092\u4f5c\u6210\u3059\u308b\u3002\n",
                "\n",
                "\uff08\u6ce8\u610f\uff09\n",
                "* \u5c0f\u6a19\u672c\u7279\u6027\uff13\u306b\u300c\u8aac\u660e\u5909\u6570\u306e\u5024\u3092\u6240\u4e0e\u3068\u3059\u308b\u3068\u300d\u3068\u3042\u308a\uff0c\u3053\u308c\u3092\u6349\u3048\u308b\u305f\u3081\u306b\u4ee5\u4e0b\u306e\u30b3\u30fc\u30c9\u3067\u306f`for`\u30eb\u30fc\u30d7\u306e\u5916\u306b`x`\u3092\u751f\u6210\u3059\u308b\u30b3\u30fc\u30c9\u3092\u7f6e\u304f\u3002\u3053\u3046\u3059\u308b\u3053\u3068\u306b\u3088\u308a\uff0c$x$\u3092\u4e00\u5ea6\u30e9\u30f3\u30c0\u30e0\u62bd\u51fa\u3057\u56fa\u5b9a\u3057\uff0c`N`\u56de\u306e\u30b7\u30df\u30e5\u30ec\u30fc\u30b7\u30e7\u30f3\u306b\u4f7f\u7528\u3059\u308b\u3002$x$\u306f\u56fa\u5b9a\u3055\u308c\u3066\u3044\u308b\u304c\uff0c$u$\u3068$y$\u306f\u6bce\u56de\u5909\u5316\u3059\u308b\u3053\u3068\u306b\u306a\u308b\u3002\n",
                "* \u30b7\u30df\u30e5\u30ec\u30fc\u30b7\u30e7\u30f3\u306e\u9ad8\u901f\u5316\u306e\u305f\u3081\u306b`numpy`\u306e\u95a2\u6570\u3092\u4f7f\u3044\u300c\u624b\u8a08\u7b97\u300d\u3067$q_1$\u306e\u5206\u5e03\u3092\u8a08\u7b97\u3059\u308b\u3002"
            ]
        },
        {
            "cell_type": "code",
            "execution_count": null,
            "metadata": {},
            "outputs": [],
            "source": [
                "\n",
                "\n",
                "",
                "",
                "",
                "",
                "",
                "",
                "",
                "",
                "",
                "",
                "",
                "",
                "",
                "",
                "",
                "",
                "",
                "",
                "",
                "",
                "",
                "",
                "",
                "",
                "",
                "",
                "",
                "",
                "",
                "",
                ""
            ]
        },
        {
            "cell_type": "markdown",
            "metadata": {
                "hidden": true
            },
            "source": [
                "$n=5,\\;10,\\;30,\\;100$\u306e\u30b7\u30df\u30e5\u30ec\u30fc\u30b7\u30e7\u30f3"
            ]
        },
        {
            "cell_type": "code",
            "execution_count": null,
            "metadata": {},
            "outputs": [],
            "source": [
                "\n",
                "\n",
                "",
                ""
            ]
        },
        {
            "cell_type": "markdown",
            "metadata": {
                "hidden": true
            },
            "source": [
                "`plot`\u3059\u308b\u305f\u3081\u306e\u95a2\u6570\u3092\u7528\u610f\u3059\u308b\u3002"
            ]
        },
        {
            "cell_type": "code",
            "execution_count": null,
            "metadata": {},
            "outputs": [],
            "source": [
                "\n",
                "\n",
                "",
                "",
                "",
                "",
                "",
                "",
                "",
                "",
                "",
                ""
            ]
        },
        {
            "cell_type": "markdown",
            "metadata": {
                "hidden": true
            },
            "source": [
                "\uff14\u3064\u306e\u56f3\u3092\u4e26\u3079\u3066\u8868\u793a\u3057\u3066\u307f\u3088\u3046\u3002\n",
                "* \u5b9f\u7dda\uff1a$q_1$\u5024\u306e\u5206\u5e03\uff08\u30ab\u30fc\u30cd\u30eb\u5bc6\u5ea6\u63a8\u5b9a\uff09\n",
                "* \u70b9\u7dda\uff1a\u81ea\u7531\u5ea6`n-2`\u306e$t$\u5206\u5e03"
            ]
        },
        {
            "cell_type": "code",
            "execution_count": null,
            "metadata": {},
            "outputs": [],
            "source": [
                "\n",
                "\n",
                "# n = 5\n",
                "\n",
                "\n",
                "",
                "# n = 10\n",
                "\n",
                "\n",
                "",
                "# n = 30\n",
                "\n",
                "\n",
                "",
                "# n = 100\n",
                "\n",
                "\n",
                ""
            ]
        },
        {
            "cell_type": "markdown",
            "metadata": {
                "hidden": true
            },
            "source": [
                "\uff08\u7d50\u679c\uff1a\u5c0f\u6a19\u672c\u7279\u6027\uff09\n",
                "\n",
                "\u5b9f\u7dda\u3068\u70b9\u7dda\u306f\u6b86\u3069\u540c\u3058\u3002\u5373\u3061\uff0c$q_1$\u306f$t_{n-2}$\u5206\u5e03\u306b\u5f93\u3063\u3066\u3044\u308b\u3002"
            ]
        },
        {
            "cell_type": "markdown",
            "metadata": {
                "heading_collapsed": true,
                "hidden": true
            },
            "source": [
                "### \u8aa4\u5dee\u9805\u306e\u6b63\u898f\u6027\u304c\u6e80\u305f\u3055\u308c\u306a\u3044\u5834\u5408"
            ]
        },
        {
            "cell_type": "markdown",
            "metadata": {
                "hidden": true
            },
            "source": [
                "\u4e0a\u306e\u30b7\u30df\u30e5\u30ec\u30fc\u30b7\u30e7\u30f3\u3068\u9055\u3046\u70b9\u306f\uff0c$u$\u306f\u6b21\u306e\u5206\u5e03\u95a2\u6570\u304b\u3089\u62bd\u51fa\u3055\u308c\u308b\u3068\u4eee\u5b9a\u3059\u308b\u70b9\u3067\u3042\u308b\u3002\n",
                "\n",
                "$$\n",
                "u=\\frac{v-1}{\\sqrt{2}},\\qquad v\\sim\\chi^2(1)\n",
                "$$\n",
                "\n",
                "\u3053\u308c\u306f\u4e00\u81f4\u6027\u306e\u30b7\u30df\u30e5\u30ec\u30fc\u30b7\u30e7\u30f3\u3067\u4f7f\u3063\u305f\u5206\u5e03\u95a2\u6570\u3068\u540c\u3058\u3067\u3042\u308b\u3002\u3053\u308c\u306b\u3088\u308a\u4eee\u5b9a\uff16\u304c\u6e80\u305f\u3055\u308c\u306a\u3044\u3002\n",
                "\n",
                "\u3053\u306e\u4eee\u5b9a\u3092\u5c0e\u5165\u3059\u308b\u305f\u3081\u306b\uff0c\u4e0a\u3067\u5b9a\u7fa9\u3057\u305f`sim_norm()`\u95a2\u6570\u306e\u4ee3\u308f\u308a\u306b`sim_non_normal()`\u3092\u5b9a\u7fa9\u3059\u308b\u3002`sim_normal()`\u3068\u7570\u306a\u308b\u306e\u306f\u6b21\u306e\u4e00\u884c\u3060\u3051\u3067\u3042\u308b\u3002\n",
                "```\n",
                "u = (np.random.chisquare(1, size=n) - 1) / np.sqrt(2)\n",
                "\n",
                "```"
            ]
        },
        {
            "cell_type": "code",
            "execution_count": null,
            "metadata": {},
            "outputs": [],
            "source": [
                "\n",
                "\n",
                "",
                "",
                "",
                "",
                "",
                "",
                "",
                "        ###### \u975e\u6b63\u898f\u5206\u5e03\u306e\u8aa4\u5dee\u9805\uff08\u6b21\u306e\u884c\u3060\u3051\u304c\u7570\u306a\u308b\uff09######\n",
                "\n",
                "\n",
                "",
                "",
                "",
                "",
                "",
                "",
                "",
                "",
                "",
                "",
                "",
                "",
                "",
                "",
                "",
                "",
                "",
                "",
                "",
                "",
                "",
                "",
                ""
            ]
        },
        {
            "cell_type": "markdown",
            "metadata": {
                "hidden": true
            },
            "source": [
                "$n=5,\\;10,\\;30,\\;100$\u306e\u30b7\u30df\u30e5\u30ec\u30fc\u30b7\u30e7\u30f3"
            ]
        },
        {
            "cell_type": "code",
            "execution_count": null,
            "metadata": {},
            "outputs": [],
            "source": [
                "\n",
                "\n",
                "",
                ""
            ]
        },
        {
            "cell_type": "markdown",
            "metadata": {
                "hidden": true
            },
            "source": [
                "\uff14\u3064\u306e\u56f3\u3092\u4e26\u3079\u3066\u8868\u793a\u3057\u3066\u307f\u308b\u3002\n",
                "* \u5b9f\u7dda\uff1a$q_1$\u306e\u5206\u5e03\uff08\u30ab\u30fc\u30cd\u30eb\u5bc6\u5ea6\u63a8\u5b9a\uff09\n",
                "* \u70b9\u7dda\uff1a\u81ea\u7531\u5ea6$n-2$\u306e$t$\u5206\u5e03"
            ]
        },
        {
            "cell_type": "code",
            "execution_count": null,
            "metadata": {},
            "outputs": [],
            "source": [
                "\n",
                "\n",
                "# n = 5\n",
                "\n",
                "\n",
                "",
                "# n = 10\n",
                "\n",
                "\n",
                "",
                "# n = 30\n",
                "\n",
                "\n",
                "",
                "# n = 100\n",
                "\n",
                "\n",
                ""
            ]
        },
        {
            "cell_type": "markdown",
            "metadata": {
                "hidden": true
            },
            "source": [
                "\uff08\u7d50\u679c\uff1a\u5927\u6a19\u672c\u7279\u6027\uff09\n",
                "\n",
                "\u6a19\u672c\u306e\u5927\u304d\u3055\u304c\u5c0f\u3055\u3044\u5834\u5408\uff08$n=5,10$\uff09\uff0c$q_1$\u306e\u5206\u5e03\u306f$t_{n-2}$\u5206\u5e03\u304b\u3089\u4e56\u96e2\u3057\u3066\u3044\u308b\u3002\u4e00\u65b9\u3067\uff0c\u6a19\u672c\u306e\u5927\u304d\u3055\u304c\u5927\u304d\u304f\u306a\u308b\u306b\u3064\u308c\u3066$q_1$\u306e\u5206\u5e03\u306f$t_{n-2}$\u5206\u5e03\u306b\u8fd1\u3065\u3044\u3066\u3044\u304f\u306e\u304c\u78ba\u8a8d\u3067\u304d\u308b\u3002\u3053\u308c\u304c\u300c\u5927\u6a19\u672c\u7279\u6027\u300d\u3067\u3042\u308b\u3002\u6a19\u672c\u306e\u5927\u304d\u3055\u304c\u5341\u5206\u306b\u5927\u304d\u3044\u5834\u5408\uff0c$t$\u691c\u5b9a\u306f\u6709\u52b9\u3067\u3042\u308b\u3053\u3068\u304c\u78ba\u8a8d\u3067\u304d\u308b\u3002\u540c\u3058\u3053\u3068\u304c$F$\u691c\u5b9a\u306b\u3082\u5f53\u3066\u306f\u307e\u308b\u3002\n",
                "\n",
                "\u3053\u306e\u30b7\u30df\u30e5\u30ec\u30fc\u30b7\u30e7\u30f3\u306e\u7d50\u679c\u6b21\u7b2c\u3067\u306f\uff0c$n=30$\u3067\u3082\u6982\u306d$t_{n-2}$\u5206\u5e03\u306b\u8fd1\u304f\u306a\u308b\u5834\u5408\u304c\u3042\u308b\u3002\u3057\u304b\u3057\u540c\u3058\u7d50\u679c\u304c\u3069\u306e\u5834\u5408\u306b\u3082\u5f53\u3066\u306f\u307e\u308b\u308f\u3051\u3067\u306f\u306a\u304f\uff0c\u30b7\u30df\u30e5\u30ec\u30fc\u30b7\u30e7\u30f3\u306e\u8a2d\u5b9a\u304c\u5909\u308f\u308b\u3068\u7570\u306a\u308b\u7d50\u679c\u306b\u306a\u308b\u3053\u3068\u3092\u899a\u3048\u3066\u304a\u3053\u3046\u3002"
            ]
        },
        {
            "cell_type": "markdown",
            "metadata": {
                "heading_collapsed": true
            },
            "source": [
                "## \u6b63\u898f\u6027\u306e\u78ba\u8a8d"
            ]
        },
        {
            "cell_type": "markdown",
            "metadata": {
                "heading_collapsed": true,
                "hidden": true
            },
            "source": [
                "### qq\u30d7\u30ed\u30c3\u30c8"
            ]
        },
        {
            "cell_type": "markdown",
            "metadata": {
                "hidden": true
            },
            "source": [
                "`qq`\u30d7\u30ed\u30c3\u30c8\u306e`q`\u306f`quantile`\uff08\u5206\u4f4d\u6570\uff09\u306e\u3053\u3068\u3002\u6a2a\u8ef8\u306b\u6b63\u898f\u5206\u5e03\u306e\u7406\u8ad6\u5024\u3092\uff0c\u7e26\u8ef8\u306b\u306f\u30c7\u30fc\u30bf\u306e\u5024\u3092\u4e26\u3079\u308b\u3002\u30c7\u30fc\u30bf\u304c\u6b63\u898f\u5206\u5e03\u306b\u5f93\u3063\u3066\u3044\u308b\u5834\u5408\uff0c\u30c7\u30fc\u30bf\u306f45\u5ea6\u7dda\u4ed8\u8fd1\u306b\u5206\u5e03\u3059\u308b\u3053\u3068\u306b\u306a\u308b\u3002\n",
                "\n",
                "\u4ee5\u4e0b\u3067\u306f`statsmodels`\u306e`qqplot`\u3092\u4f7f\u3063\u3066\u8aac\u660e\u3059\u308b\u3002\uff08`lmdiag`\u30d1\u30c3\u30b1\u30fc\u30b8\u3067\u3082\u3088\u3044\uff09"
            ]
        },
        {
            "cell_type": "markdown",
            "metadata": {
                "hidden": true
            },
            "source": [
                "**\u6b63\u898f\u5206\u5e03**\u304b\u3089\u751f\u6210\u3057\u305f\u30c7\u30fc\u30bf\u306e\u30b1\u30fc\u30b9\u3002\n",
                "* \u8d64\u3044\u7dda\u306f45\u5ea6\u7dda\n",
                "* \u30aa\u30d7\u30b7\u30e7\u30f3`line='45'`\uff1a45\u5ea6\u7dda\u3092\u6307\u5b9a\n",
                "* \u30aa\u30d7\u30b7\u30e7\u30f3`fit=True`\uff1a\u30c7\u30fc\u30bf\u306e\u5e73\u5747\u3068\u6a19\u6e96\u504f\u5dee\u3092\u4f7f\u3063\u3066\u6a19\u6e96\u5316\u3059\u308b"
            ]
        },
        {
            "cell_type": "code",
            "execution_count": null,
            "metadata": {},
            "outputs": [],
            "source": [
                "\n",
                "\n",
                ""
            ]
        },
        {
            "cell_type": "markdown",
            "metadata": {
                "hidden": true
            },
            "source": [
                "**\u4e00\u69d8\u5206\u5e03**\u304b\u3089\u751f\u6210\u3057\u305f\u30c7\u30fc\u30bf\u306e\u5834\u5408\u300245\u5ea6\u7dda\u304b\u3089\u4e56\u96e2\u3057\u3066\u3044\u308b\u306e\u304c\u5206\u304b\u308b\u3002"
            ]
        },
        {
            "cell_type": "code",
            "execution_count": null,
            "metadata": {},
            "outputs": [],
            "source": [
                "\n",
                "\n",
                ""
            ]
        },
        {
            "cell_type": "markdown",
            "metadata": {
                "hidden": true
            },
            "source": [
                "`wooldridge`\u30d1\u30c3\u30b1\u30fc\u30b8\u306b\u3042\u308b`wage1`\u306e\u30c7\u30fc\u30bf\u3092\u4f7f\u3063\u3066\u307f\u308b\u3002\n",
                "\n",
                "\u8aa4\u5dee\u9805\u306f`res_wage`\u306e\u5c5e\u6027\u3067\u3042\u308b`.resid`\u304b\u3089\u53d6\u5f97\u3067\u304d\u308b\u306e\u3067\uff0c\u305d\u308c\u3092`qqplot()`\u306b\u4f7f\u3046\u3002"
            ]
        },
        {
            "cell_type": "code",
            "execution_count": null,
            "metadata": {},
            "outputs": [],
            "source": [
                "\n",
                "\n",
                "",
                "",
                ""
            ]
        },
        {
            "cell_type": "markdown",
            "metadata": {
                "hidden": true
            },
            "source": [
                "\u88ab\u8aac\u660e\u5909\u6570\u306e`wage`\u306b\u5bfe\u6570\u3092\u53d6\u308b\u3068\u3001\u3053\u3061\u3089\u306e\u65b9\u304c\u5f53\u3066\u306f\u307e\u308a\u304c\u826f\u3044\u3053\u3068\u304c\u5206\u304b\u308b\u3002"
            ]
        },
        {
            "cell_type": "code",
            "execution_count": null,
            "metadata": {},
            "outputs": [],
            "source": [
                "\n",
                "\n",
                "",
                "",
                ""
            ]
        },
        {
            "cell_type": "markdown",
            "metadata": {
                "heading_collapsed": true,
                "hidden": true
            },
            "source": [
                "### Jarque-Bera\u691c\u5b9a"
            ]
        },
        {
            "cell_type": "markdown",
            "metadata": {
                "hidden": true
            },
            "source": [
                "\u5206\u5e03\u306e\u6b63\u898f\u6027\u306e\u78ba\u8a8d\u306b\u3088\u304f\u4f7f\u308f\u308c\u308b\u691c\u5b9a\u3092\u7d39\u4ecb\u3059\u308b\u3002\n",
                "\n",
                "$\\text{H}_0$\uff1a\u6b63\u898f\u5206\u5e03\u3067\u3042\u308b\n",
                "\n",
                "$\\text{H}_A$\uff1a$\\text{H}_0$\u306f\u6210\u7acb\u3057\u306a\u3044\n",
                "\n",
                "\u6b63\u898f\u6027\u306e\u5224\u65ad\u306b\u306f\u5206\u5e03\u306e\u4ee5\u4e0b\u306e\u7279\u5fb4\u306b\u57fa\u3065\u3044\u3066\u3044\u308b\u3002\n",
                "* \u6b6a\u5ea6\uff08\u308f\u3044\u3069;Skewness\uff09\uff1a\u5206\u5e03\u306e\u5de6\u53f3\u306e\u504f\u308a\n",
                "* \u5c16\u5ea6\uff08\u305b\u3093\u3069;Kurtosis\uff09\uff1a\u5206\u5e03\u306e\u300c\u9802\u4e0a\u300d\u306e\u3068\u304c\u308a\u5177\u5408\n",
                "\n",
                "`statsmodels`\u306e\u30b5\u30d6\u30d1\u30c3\u30b1\u30fc\u30b8\u306e\u4e00\u90e8\u306b\u542b\u307e\u308c\u3066\u3044\u308b\u3002"
            ]
        },
        {
            "cell_type": "markdown",
            "metadata": {
                "hidden": true
            },
            "source": [
                "\u4e0a\u3067\u4f7f\u3063\u305f`data_norm`\u3067\u8a66\u3057\u3066\u307f\u3088\u3046\u3002"
            ]
        },
        {
            "cell_type": "code",
            "execution_count": null,
            "metadata": {},
            "outputs": [],
            "source": []
        },
        {
            "cell_type": "markdown",
            "metadata": {
                "hidden": true
            },
            "source": [
                "\u8fd4\u308a\u5024\n",
                "\n",
                "1. JB\u691c\u5b9a\u7d71\u8a08\u91cf\n",
                "2. JB\u306e$p$\u5024\n",
                "3. \u6b6a\u5ea6\u306e\u63a8\u5b9a\u5024\uff08\u6b63\u898f\u5206\u5e03\u306e\u5834\u5408\u306f0\uff09\n",
                "4. \u5c16\u5ea6\u306e\u63a8\u5b9a\u5024\uff08\u6b63\u898f\u5206\u5e03\u306e\u5834\u5408\u306b\u306f3\u306b\u306a\u308b\u3088\u3046\u306b\u8a2d\u5b9a\u3055\u308c\u3066\u3044\u308b\uff09\n",
                "\n",
                "\u3053\u306e\u4f8b\u3067\u306f$p$\u5024\u304c\u9ad8\u3044\u305f\u3081$\\text{H}_0$\u306f\u68c4\u5374\u3067\u304d\u306a\u3044\u3002"
            ]
        },
        {
            "cell_type": "markdown",
            "metadata": {
                "hidden": true
            },
            "source": [
                "---\n",
                "\u6b21\u306b`data_uniform`\u3092\u8a66\u3057\u3066\u307f\u3088\u3046\u3002\n",
                "\n",
                "$p$\u5024\u306f\u975e\u5e38\u306b\u5c0f\u3055\u3044\u305f\u3081\uff0c1%\u6709\u610f\u6c34\u6e96\u3067\u3082$\\text{H}_0$\u3092\u68c4\u5374\u3067\u304d\u308b\u3002"
            ]
        },
        {
            "cell_type": "code",
            "execution_count": null,
            "metadata": {},
            "outputs": [],
            "source": []
        },
        {
            "cell_type": "markdown",
            "metadata": {
                "hidden": true
            },
            "source": [
                "---\n",
                "\u4e0a\u3067\u884c\u3063\u305f\uff12\u3064\u306e\u56de\u5e30\u5206\u6790\u306e\u7d50\u679c\u3092\u691c\u5b9a\u3057\u3066\u307f\u3088\u3046\u3002"
            ]
        },
        {
            "cell_type": "code",
            "execution_count": null,
            "metadata": {},
            "outputs": [],
            "source": []
        },
        {
            "cell_type": "code",
            "execution_count": null,
            "metadata": {},
            "outputs": [],
            "source": []
        },
        {
            "cell_type": "markdown",
            "metadata": {
                "hidden": true
            },
            "source": [
                "---\n",
                "JB\u691c\u5b9a\u306e\u7d50\u679c\u306f\uff0c\u56de\u5e30\u5206\u6790\u306e\u7d50\u679c\u306e`summary()`\u306b\u542b\u307e\u308c\u3066\u3044\u308b\u3002\n",
                "* `Jarque-Bera (JB)`\uff1aJB\u691c\u5b9a\u7d71\u8a08\u91cf\n",
                "* `Prob(JB)`\uff1aJB\u306e$p$\u5024"
            ]
        },
        {
            "cell_type": "code",
            "execution_count": null,
            "metadata": {},
            "outputs": [],
            "source": []
        },
        {
            "cell_type": "markdown",
            "metadata": {
                "heading_collapsed": true,
                "hidden": true
            },
            "source": [
                "### Obminbus\u691c\u5b9a"
            ]
        },
        {
            "cell_type": "markdown",
            "metadata": {
                "hidden": true
            },
            "source": [
                "\u6b63\u898f\u6027\u3092\u78ba\u8a8d\u3059\u308b\u3082\u3046\uff11\u3064\u306e\u691c\u5b9a\u3092\u7d39\u4ecb\u3059\u308b\u3002\n",
                "\n",
                "$\\text{H}_0$\uff1a\u6b63\u898f\u5206\u5e03\u3067\u3042\u308b\n",
                "\n",
                "$\\text{H}_A$\uff1a$\\text{H}_0$\u306f\u6210\u7acb\u3057\u306a\u3044\n",
                "\n",
                "BJ\u691c\u5b9a\u3068\u540c\u3058\u3088\u3046\u306b\uff0c\u6b63\u898f\u6027\u306e\u5224\u65ad\u306b\u306f\u6b6a\u5ea6\uff08\u308f\u3044\u3069;Skewness\uff09\u3068\u5c16\u5ea6\uff08\u305b\u3093\u3069;Kurtosis\uff09\u306b\u57fa\u3065\u3044\u3066\u3044\u308b\u3002\n",
                "\n",
                "---\n",
                "`statsmodels`\u306e\u30b5\u30d6\u30d1\u30c3\u30b1\u30fc\u30b8\u306e\u4e00\u90e8\u306b\u542b\u307e\u308c\u3066\u3044\u308b\u3002"
            ]
        },
        {
            "cell_type": "markdown",
            "metadata": {
                "hidden": true
            },
            "source": [
                "`data_norm`\u3092\u4f7f\u3063\u3066\u8a66\u3057\u3066\u307f\u308b\u3002\n",
                "\n",
                "\uff1c\u8fd4\u308a\u5024\uff1e\n",
                "* \u30c6\u30b9\u30c8\u7d71\u8a08\u91cf\n",
                "* $p$\u5024"
            ]
        },
        {
            "cell_type": "code",
            "execution_count": null,
            "metadata": {},
            "outputs": [],
            "source": []
        },
        {
            "cell_type": "markdown",
            "metadata": {
                "hidden": true
            },
            "source": [
                "$p$\u5024\u306f\u9ad8\u3044\u305f\u3081\uff0c10%\u6709\u610f\u6c34\u6e96\u3067\u3082$\\text{H}_0$\u3092\u68c4\u5374\u3067\u304d\u306a\u3044\u3002"
            ]
        },
        {
            "cell_type": "markdown",
            "metadata": {
                "hidden": true
            },
            "source": [
                "---\n",
                "\u6b21\u306b`data_uniform`\u3092\u8a66\u3057\u3066\u307f\u3088\u3046\u3002\n",
                "\n",
                "$p$\u5024\u306f\u975e\u5e38\u306b\u5c0f\u3055\u3044\u305f\u3081\uff0c1%\u6709\u610f\u6c34\u6e96\u3067\u3082$\\text{H}_0$\u3092\u68c4\u5374\u3067\u304d\u308b\u3002"
            ]
        },
        {
            "cell_type": "code",
            "execution_count": null,
            "metadata": {},
            "outputs": [],
            "source": []
        },
        {
            "cell_type": "markdown",
            "metadata": {
                "hidden": true
            },
            "source": [
                "---\n",
                "\u4e0a\u3067\u884c\u3063\u305f\uff12\u3064\u306e\u56de\u5e30\u5206\u6790\u306e\u7d50\u679c\u3092\u691c\u5b9a\u3057\u3066\u307f\u3088\u3046\u3002"
            ]
        },
        {
            "cell_type": "code",
            "execution_count": null,
            "metadata": {},
            "outputs": [],
            "source": []
        },
        {
            "cell_type": "code",
            "execution_count": null,
            "metadata": {},
            "outputs": [],
            "source": []
        },
        {
            "cell_type": "markdown",
            "metadata": {
                "hidden": true
            },
            "source": [
                "---\n",
                "Omnibu\u691c\u5b9a\u306e\u7d50\u679c\u306f\uff0c\u56de\u5e30\u5206\u6790\u306e\u7d50\u679c\u306e`summary()`\u306b\u542b\u307e\u308c\u3066\u3044\u308b\u3002\n",
                "* `Omnibus`\uff1a\u691c\u5b9a\u7d71\u8a08\u91cf\n",
                "* `Prob(Omnibus)`\uff1a$p$\u5024"
            ]
        },
        {
            "cell_type": "code",
            "execution_count": null,
            "metadata": {},
            "outputs": [],
            "source": []
        },
        {
            "cell_type": "markdown",
            "metadata": {
                "heading_collapsed": true
            },
            "source": [
                "## $LM$\u691c\u5b9a"
            ]
        },
        {
            "cell_type": "markdown",
            "metadata": {
                "hidden": true
            },
            "source": [
                "\u5927\u6a19\u672c\u306e\u5834\u5408\uff0c$F$\u691c\u5b9a\u306e\u4ee3\u308f\u308a\u306b$LM$\u691c\u5b9a\u3082\u4f7f\u3048\u308b\u3002\u3053\u3053\u3067\u306f`crime1`\u306e\u30c7\u30fc\u30bf\u3092\u4f7f\u3063\u3066$LM$\u691c\u5b9a\u306b\u3064\u3044\u3066\u8aac\u660e\u3059\u308b\u3002`wooldridge`\u30d1\u30c3\u30b1\u30fc\u30b8\u306e`crime1`\u30c7\u30fc\u30bf\u3092\u4f7f\u304a\u3046\u3002"
            ]
        },
        {
            "cell_type": "code",
            "execution_count": null,
            "metadata": {},
            "outputs": [],
            "source": [
                "\n"
            ]
        },
        {
            "cell_type": "markdown",
            "metadata": {
                "hidden": true
            },
            "source": [
                "`crime1`\u306f1972\u5e74\u306b\u521d\u3081\u3066\u902e\u6355\u3055\u308c\u305f\u6210\u4eba\u3067\u69cb\u6210\u3055\u308c\u305f\u30c7\u30fc\u30bf\u30bb\u30c3\u30c8\u3067\u3042\u308b\u3002\u3053\u306e\u30c7\u30fc\u30bf\u3092\u4f7f\u3044\u5211\u7f70\u306e\u72af\u7f6a\u306b\u5bfe\u3059\u308b\u6291\u6b62\u529b\u3092\u691c\u8a3c\u3059\u308b\u3002\n",
                "\n",
                "\u88ab\u8aac\u660e\u5909\u6570\uff1a\n",
                "* `narr86`\uff1a1986\u5e74\u306b\u902e\u6355\u3055\u308c\u305f\u56de\u6570\n",
                "\n",
                "\u8aac\u660e\u5909\u6570\n",
                "* `pcnv`\uff1a1986\u5e74\u4ee5\u524d\u306b\u902e\u6355\u3055\u308c\u8d77\u8a34\u306b\u3064\u306a\u304c\u3063\u305f\u6bd4\u7387\uff08\u902e\u6355\u3092\u6240\u4e0e\u3068\u3057\uff0c\u8d77\u8a34\u3055\u308c\u308b\u78ba\u7387\u3082\u3057\u304f\u306f\u671f\u5f85\u3092\u8868\u3057\u3066\u3044\u308b\uff09\n",
                "* `ptime86`\uff1a1986\u5e74\u3067\u306e\u670d\u5f79\u671f\u9593\uff08\u5358\u4f4d\uff1a\u6708\uff09\uff08\u6295\u7344\u306b\u3088\u308b\u4e0d\u81ea\u7531\u3055\u306e\u30b3\u30b9\u30c8\uff09\n",
                "* `qemp86`\uff1a\u96c7\u7528\uff08\u5358\u4f4d\uff1a\uff14\u534a\u671f\uff09\n",
                "* `avgsen`\uff1a\u76f4\u8fd1\u306e\u61f2\u5f79\u671f\u9593\u306e\u5e73\u5747\uff08\u5358\u4f4d\uff1a\u6708\uff09\n",
                "* `tottime`\uff1a18\u6b73\u4ee5\u964d\u306e\u670d\u5f79\u671f\u9593\uff08\u5358\u4f4d\uff1a\u6708\uff09"
            ]
        },
        {
            "cell_type": "markdown",
            "metadata": {
                "hidden": true
            },
            "source": [
                "\u5236\u7d04\u304c\u306a\u3044\u5834\u5408\u306e\u63a8\u5b9a"
            ]
        },
        {
            "cell_type": "code",
            "execution_count": null,
            "metadata": {},
            "outputs": [],
            "source": [
                "\n",
                "\n",
                ""
            ]
        },
        {
            "cell_type": "markdown",
            "metadata": {
                "hidden": true
            },
            "source": [
                "\u4eee\u8aac\n",
                "\n",
                "`avgsen = tottime = 0`"
            ]
        },
        {
            "cell_type": "markdown",
            "metadata": {
                "hidden": true
            },
            "source": [
                "\u4eee\u8aac\u304c\u6b63\u3057\u3044\uff08\u5236\u7d04\u304c\u3042\u308b\uff09\u5834\u5408\u306e\u63a8\u5b9a"
            ]
        },
        {
            "cell_type": "code",
            "execution_count": null,
            "metadata": {},
            "outputs": [],
            "source": [
                "\n",
                "\n",
                ""
            ]
        },
        {
            "cell_type": "markdown",
            "metadata": {
                "hidden": true
            },
            "source": [
                "---\n",
                "$\\text{H}_0$: `avgsen=tottime=0`\n",
                "\n",
                "$\\text{H}_A$: $\\text{H}_0$\u306f\u6210\u7acb\u3057\u306a\u3044\n",
                "\n",
                "---\n",
                "`res_0`\u306e\u30e1\u30bd\u30c3\u30c9`.compare_lm_test()`\u3092\u4f7f\u3046\u3068\u7c21\u5358\u306b\u8a08\u7b97\u7d50\u679c\u3092\u8868\u793a\u3067\u304d\u308b\u3002\u5f15\u304d\u6570\u306f\uff0c\u4eee\u8aac\u304c\u6b63\u3057\u3044\u5834\u5408\u306eOLS\u63a8\u5b9a\u306e\u7d50\u679c`res_1`\u3092\u4f7f\u3046\u3002"
            ]
        },
        {
            "cell_type": "code",
            "execution_count": null,
            "metadata": {},
            "outputs": [],
            "source": []
        },
        {
            "cell_type": "markdown",
            "metadata": {
                "hidden": true
            },
            "source": [
                "\u8fd4\u308a\u5024\uff08\u5de6\u304b\u3089\uff09\n",
                "* $LM$\u691c\u5b9a\u7d71\u8a08\u5024\n",
                "* $p$\u5024\n",
                "* \u5236\u9650\u306e\u6570\n",
                "\n",
                "\u6709\u610f\u6c34\u6e965%\u3067\u5e30\u7121\u4eee\u8aac\u306f\u68c4\u5374\u3067\u304d\u306a\u3044\u3002"
            ]
        }
    ],
    "metadata": {
        "kernel_info": {
            "name": "python3"
        },
        "kernelspec": {
            "display_name": "latest",
            "language": "python",
            "name": "latest"
        },
        "language_info": {
            "codemirror_mode": {
                "name": "ipython",
                "version": 3
            },
            "file_extension": ".py",
            "mimetype": "text/x-python",
            "name": "python",
            "nbconvert_exporter": "python",
            "pygments_lexer": "ipython3",
            "version": "3.8.5"
        },
        "nteract": {
            "version": "0.15.0"
        },
        "toc": {
            "base_numbering": 1,
            "nav_menu": {},
            "number_sections": true,
            "sideBar": true,
            "skip_h1_title": false,
            "title_cell": "Table of Contents",
            "title_sidebar": "Contents",
            "toc_cell": false,
            "toc_position": {},
            "toc_section_display": true,
            "toc_window_display": false
        }
    },
    "nbformat": 4,
    "nbformat_minor": 2
}