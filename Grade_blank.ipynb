{
    "cells": [
        {
            "cell_type": "markdown",
            "metadata": {},
            "source": [
                "# \u6210\u7e3e\u5206\u6790"
            ]
        },
        {
            "cell_type": "code",
            "execution_count": null,
            "metadata": {},
            "outputs": [],
            "source": [
                "\n",
                "\n",
                ""
            ]
        },
        {
            "cell_type": "markdown",
            "metadata": {},
            "source": [
                "\u6388\u696d\u306e\u6210\u7e3e\uff08\u512a\u79c0\u826f\u53ef\u4e0d\u53ef\uff09\u3068GP\uff08Grade Point\uff09\u3092\u4f7f\u3063\u305f\u6210\u7e3e\u306e\u5206\u6790\u3092\u884c\u3046\u3002\u6210\u7e3e\u8868\u306e\u30b3\u30d4\u30fc\u306f\u795e\u6238\u5927\u5b66\u306e\u300c\u3046\u308a\u307c\u30fc\u30cd\u30c3\u30c8\u300d\u3092\u7528\u3044\u308b\u4f8b\u3092\u8003\u3048\u308b\u304c\u3001Web\u4e0a\u3067\u6210\u7e3e\u8868\u304c\u8868\u793a\u3055\u308c\u308b\u306e\u3067\u3042\u308c\u3070\u30b3\u30fc\u30c9\u3092\u5c11\u3057\u4fee\u6b63\u3059\u308b\u3060\u3051\u3067\u5206\u6790\u304c\u884c\u3048\u308b\u3067\u3042\u308d\u3046\u3002"
            ]
        },
        {
            "cell_type": "markdown",
            "metadata": {
                "heading_collapsed": true
            },
            "source": [
                "## \u30c7\u30fc\u30bf\u306e\u8aad\u307f\u8fbc\u307f"
            ]
        },
        {
            "cell_type": "markdown",
            "metadata": {
                "hidden": true
            },
            "source": [
                "### \u5b66\u751f"
            ]
        },
        {
            "cell_type": "markdown",
            "metadata": {
                "hidden": true
            },
            "source": [
                "\u300c\u3046\u308a\u307c\u30fc\u300d\u2192 \u6210\u7e3e\u4fee\u5f97\u60c5\u5831\u3000\u2192\u3000\u6210\u7e3e\u8868\u3092\u9078\u629e\u3057\u30b3\u30d4\u30fc"
            ]
        },
        {
            "cell_type": "code",
            "execution_count": null,
            "metadata": {},
            "outputs": [],
            "source": [
                "#\u30fc\u30fc\u30fc\u30fc\u30fc df\u306b\u6210\u7e3e\u8868\u3092\u5272\u308a\u5f53\u3066\u308b \u30fc\u30fc\u30fc\u30fc\u30fc\n",
                "\n",
                "# df = pd.read_clipboard()\n",
                "# df.head()"
            ]
        },
        {
            "cell_type": "code",
            "execution_count": null,
            "metadata": {},
            "outputs": [],
            "source": [
                "#\u30fc\u30fc\u30fc\u30fc\u30fc csv\u306b\u4fdd\u5b58 \u30fc\u30fc\u30fc\u30fc\u30fc\n",
                "\n",
                "# df.to_csv('\u6210\u7e3e\u886820200708.csv')"
            ]
        },
        {
            "cell_type": "code",
            "execution_count": null,
            "metadata": {},
            "outputs": [],
            "source": [
                "#\u30fc\u30fc\u30fc\u30fc\u30fc \u4fdd\u5b58\u5148\u306e\u30d5\u30a9\u30eb\u30c0\u306e\u78ba\u8a8d \u30fc\u30fc\u30fc\u30fc\u30fc\n",
                "\n",
                "# %pwd"
            ]
        },
        {
            "cell_type": "markdown",
            "metadata": {
                "hidden": true
            },
            "source": [
                "### \u4f8b"
            ]
        },
        {
            "cell_type": "markdown",
            "metadata": {
                "hidden": true
            },
            "source": [
                "\u4f8b\u306e\u30d5\u30a1\u30a4\u30eb\u3092\u4f7f\u3046\u5834\u5408\u3002"
            ]
        },
        {
            "cell_type": "code",
            "execution_count": null,
            "metadata": {},
            "outputs": [],
            "source": [
                "\n"
            ]
        },
        {
            "cell_type": "markdown",
            "metadata": {
                "heading_collapsed": true
            },
            "source": [
                "## \u5217\u306e\u5185\u5bb9\u306e\u78ba\u8a8d"
            ]
        },
        {
            "cell_type": "markdown",
            "metadata": {
                "hidden": true
            },
            "source": [
                "\u30b9\u30c6\u30c3\u30d7\uff11\uff1a`for`\u30eb\u30fc\u30d7\u306b\u3088\u308b\u5217\u306e\u30e9\u30d9\u30eb\u306e\u8868\u793a"
            ]
        },
        {
            "cell_type": "code",
            "execution_count": null,
            "metadata": {},
            "outputs": [],
            "source": [
                "\n"
            ]
        },
        {
            "cell_type": "code",
            "execution_count": null,
            "metadata": {},
            "outputs": [],
            "source": [
                "\n"
            ]
        },
        {
            "cell_type": "markdown",
            "metadata": {
                "hidden": true
            },
            "source": [
                "\u30b9\u30c6\u30c3\u30d7\uff12\uff1a\u305d\u308c\u305e\u308c\u306e\u5217\u306e\u8981\u7d20\u306e\u7a2e\u985e\u3092\u8868\u793a\u65b9\u6cd5"
            ]
        },
        {
            "cell_type": "code",
            "execution_count": null,
            "metadata": {},
            "outputs": [],
            "source": []
        },
        {
            "cell_type": "markdown",
            "metadata": {
                "hidden": true
            },
            "source": [
                "\u30b9\u30c3\u30c6\u30d7\uff13\uff1a\u30b9\u30c3\u30c6\u30d7\uff11\u3068\uff12\u3092\u540c\u6642\u306b"
            ]
        },
        {
            "cell_type": "code",
            "execution_count": null,
            "metadata": {},
            "outputs": [],
            "source": [
                "\n",
                "\n",
                ""
            ]
        },
        {
            "cell_type": "markdown",
            "metadata": {
                "heading_collapsed": true
            },
            "source": [
                "## `DataFrame`\u306e\u4f5c\u6210"
            ]
        },
        {
            "cell_type": "code",
            "execution_count": null,
            "metadata": {},
            "outputs": [],
            "source": [
                "\n"
            ]
        },
        {
            "cell_type": "code",
            "execution_count": null,
            "metadata": {},
            "outputs": [],
            "source": []
        },
        {
            "cell_type": "markdown",
            "metadata": {
                "hidden": true
            },
            "source": [
                "\u5168\u89d2\u6587\u5b57\u3092\u4f7f\u308f\u306a\u3044\u65b9\u6cd5"
            ]
        },
        {
            "cell_type": "code",
            "execution_count": null,
            "metadata": {},
            "outputs": [],
            "source": [
                "\n",
                "\n",
                "",
                ""
            ]
        },
        {
            "cell_type": "code",
            "execution_count": null,
            "metadata": {},
            "outputs": [],
            "source": [
                "\n"
            ]
        },
        {
            "cell_type": "code",
            "execution_count": null,
            "metadata": {},
            "outputs": [],
            "source": [
                "\n"
            ]
        },
        {
            "cell_type": "code",
            "execution_count": null,
            "metadata": {},
            "outputs": [],
            "source": []
        },
        {
            "cell_type": "markdown",
            "metadata": {
                "heading_collapsed": true
            },
            "source": [
                "## \u5168\u79d1\u76ee"
            ]
        },
        {
            "cell_type": "markdown",
            "metadata": {
                "heading_collapsed": true,
                "hidden": true
            },
            "source": [
                "### `f-string`"
            ]
        },
        {
            "cell_type": "markdown",
            "metadata": {
                "hidden": true
            },
            "source": [
                "`f-string`\u3092\u4f7f\u3046\u3068\u6587\u5b57\u5217\u306e`{}`\u306e\u4e2d\u306e\u5909\u6570\u3092\u8a55\u4fa1\u3057\u3066\u8868\u793a\u3059\u308b\u3053\u3068\u304c\u53ef\u80fd\u3068\u306a\u308b\u3002"
            ]
        },
        {
            "cell_type": "code",
            "execution_count": null,
            "metadata": {},
            "outputs": [],
            "source": [
                "\n"
            ]
        },
        {
            "cell_type": "code",
            "execution_count": null,
            "metadata": {},
            "outputs": [],
            "source": [
                "\n"
            ]
        },
        {
            "cell_type": "markdown",
            "metadata": {
                "heading_collapsed": true,
                "hidden": true
            },
            "source": [
                "### \u512a\u30fb\u79c0\u30fb\u826f\u30fb\u53ef\u30fb\u4e0d\u53ef\u306a\u3069\u306e\u6570"
            ]
        },
        {
            "cell_type": "markdown",
            "metadata": {
                "heading_collapsed": true,
                "hidden": true
            },
            "source": [
                "#### \u7c21\u5358\u306a\u65b9\u6cd5"
            ]
        },
        {
            "cell_type": "markdown",
            "metadata": {
                "hidden": true
            },
            "source": [
                "`value_counts()`\u3092\u4f7f\u3046\u3068\u7c21\u5358\u306b\u306a\u308b\u3002"
            ]
        },
        {
            "cell_type": "code",
            "execution_count": null,
            "metadata": {},
            "outputs": [],
            "source": []
        },
        {
            "cell_type": "markdown",
            "metadata": {
                "heading_collapsed": true,
                "hidden": true
            },
            "source": [
                "#### \u8868\u793a\u3092\u6574\u7406\u3057\u305f\u3044\u5834\u5408"
            ]
        },
        {
            "cell_type": "markdown",
            "metadata": {
                "hidden": true
            },
            "source": [
                "\u8a55\u8a9e\u306e\u7a2e\u985e"
            ]
        },
        {
            "cell_type": "code",
            "execution_count": null,
            "metadata": {},
            "outputs": [],
            "source": [
                "\n"
            ]
        },
        {
            "cell_type": "code",
            "execution_count": null,
            "metadata": {},
            "outputs": [],
            "source": [
                "\n"
            ]
        },
        {
            "cell_type": "code",
            "execution_count": null,
            "metadata": {},
            "outputs": [],
            "source": [
                "\n",
                "\n",
                "",
                ""
            ]
        },
        {
            "cell_type": "code",
            "execution_count": null,
            "metadata": {},
            "outputs": [],
            "source": [
                "\n",
                "\n",
                "",
                "",
                "",
                "",
                ""
            ]
        },
        {
            "cell_type": "code",
            "execution_count": null,
            "metadata": {},
            "outputs": [],
            "source": [
                "\n",
                "\n",
                "",
                "",
                "",
                "",
                "",
                ""
            ]
        },
        {
            "cell_type": "markdown",
            "metadata": {
                "heading_collapsed": true,
                "hidden": true
            },
            "source": [
                "### \u512a\u30fb\u79c0\u30fb\u826f\u30fb\u53ef\u30fb\u4e0d\u53ef\u306a\u3069\u306e\uff05"
            ]
        },
        {
            "cell_type": "markdown",
            "metadata": {
                "heading_collapsed": true,
                "hidden": true
            },
            "source": [
                "#### \u7c21\u5358\u306a\u65b9\u6cd5"
            ]
        },
        {
            "cell_type": "code",
            "execution_count": null,
            "metadata": {},
            "outputs": [],
            "source": []
        },
        {
            "cell_type": "markdown",
            "metadata": {
                "heading_collapsed": true,
                "hidden": true
            },
            "source": [
                "#### \u8868\u793a\u3092\u6574\u7406\u3057\u305f\u3044\u5834\u5408"
            ]
        },
        {
            "cell_type": "markdown",
            "metadata": {
                "hidden": true
            },
            "source": [
                "\uff05\u3060\u3051\u3092\u8868\u793a\u3059\u308b\u3002"
            ]
        },
        {
            "cell_type": "code",
            "execution_count": null,
            "metadata": {},
            "outputs": [],
            "source": [
                "\n",
                "\n",
                "",
                "",
                "",
                "",
                ""
            ]
        },
        {
            "cell_type": "markdown",
            "metadata": {
                "hidden": true
            },
            "source": [
                "\uff05\u3068\u8a55\u8a9e\u3082\u8868\u793a\u3059\u308b\u3002"
            ]
        },
        {
            "cell_type": "code",
            "execution_count": null,
            "metadata": {},
            "outputs": [],
            "source": [
                "\n",
                "\n",
                "",
                "",
                "",
                "",
                "",
                ""
            ]
        },
        {
            "cell_type": "markdown",
            "metadata": {
                "hidden": true
            },
            "source": [
                "\u5c0f\u6570\u70b9\u306e\u8868\u793a\u3092\u8abf\u6574\u3059\u308b\u3002"
            ]
        },
        {
            "cell_type": "code",
            "execution_count": null,
            "metadata": {},
            "outputs": [],
            "source": [
                "\n",
                "\n",
                "",
                "",
                "",
                "",
                "",
                ""
            ]
        },
        {
            "cell_type": "markdown",
            "metadata": {
                "hidden": true
            },
            "source": [
                "\u4e0a\u306e\u30b3\u30fc\u30c9\u3067\u306f`f-string`\u3092\u4f7f\u3063\u305f\u3002\u305d\u306e\u4ee3\u308f\u308a\u306b`format()`\u3092\u4f7f\u3046\u3053\u3068\u3082\u53ef\u80fd\u3002"
            ]
        },
        {
            "cell_type": "code",
            "execution_count": null,
            "metadata": {},
            "outputs": [],
            "source": [
                "\n",
                "\n",
                "",
                "",
                "",
                "",
                "",
                ""
            ]
        },
        {
            "cell_type": "markdown",
            "metadata": {
                "heading_collapsed": true
            },
            "source": [
                "## \u5168\u5b66\u5171\u901a\u6388\u696d\u79d1\u76ee"
            ]
        },
        {
            "cell_type": "markdown",
            "metadata": {
                "heading_collapsed": true,
                "hidden": true
            },
            "source": [
                "### \u6570"
            ]
        },
        {
            "cell_type": "code",
            "execution_count": null,
            "metadata": {},
            "outputs": [],
            "source": []
        },
        {
            "cell_type": "code",
            "execution_count": null,
            "metadata": {},
            "outputs": [],
            "source": [
                "\n",
                "\n",
                "",
                "",
                "",
                "",
                "",
                ""
            ]
        },
        {
            "cell_type": "markdown",
            "metadata": {
                "heading_collapsed": true,
                "hidden": true
            },
            "source": [
                "### \u5272\u5408"
            ]
        },
        {
            "cell_type": "code",
            "execution_count": null,
            "metadata": {},
            "outputs": [],
            "source": []
        },
        {
            "cell_type": "code",
            "execution_count": null,
            "metadata": {},
            "outputs": [],
            "source": [
                "\n",
                "\n",
                "",
                "",
                "",
                "",
                "",
                ""
            ]
        },
        {
            "cell_type": "markdown",
            "metadata": {
                "heading_collapsed": true
            },
            "source": [
                "## \u5c02\u9580\u79d1\u76ee"
            ]
        },
        {
            "cell_type": "code",
            "execution_count": null,
            "metadata": {},
            "outputs": [],
            "source": []
        },
        {
            "cell_type": "code",
            "execution_count": null,
            "metadata": {},
            "outputs": [],
            "source": [
                "\n",
                "\n",
                "",
                "",
                "",
                "",
                "",
                ""
            ]
        },
        {
            "cell_type": "code",
            "execution_count": null,
            "metadata": {},
            "outputs": [],
            "source": []
        },
        {
            "cell_type": "code",
            "execution_count": null,
            "metadata": {},
            "outputs": [],
            "source": [
                "\n",
                "\n",
                "",
                "",
                "",
                "",
                "",
                ""
            ]
        },
        {
            "cell_type": "markdown",
            "metadata": {
                "heading_collapsed": true
            },
            "source": [
                "## GPA\u306e\u63a8\u79fb"
            ]
        },
        {
            "cell_type": "markdown",
            "metadata": {
                "heading_collapsed": true,
                "hidden": true
            },
            "source": [
                "### \u300c\u79d1\u76eeGP\u300d\u3067\u8a18\u53f7\u304c\u3042\u308b\u884c\u306e\u524a\u9664"
            ]
        },
        {
            "cell_type": "markdown",
            "metadata": {
                "hidden": true
            },
            "source": [
                "\u79d1\u76eeGP\u306e\u8981\u7d20\u306e\u7a2e\u985e"
            ]
        },
        {
            "cell_type": "code",
            "execution_count": null,
            "metadata": {},
            "outputs": [],
            "source": []
        },
        {
            "cell_type": "markdown",
            "metadata": {
                "hidden": true
            },
            "source": [
                "\u5168\u3066\u6587\u5b57\u5217\u3068\u306a\u3063\u3066\u3044\u308b\u306e\u3067\uff0c`-`\u3068`*`\u306e\u8a18\u53f7\u304c\u542b\u307e\u308c\u306a\u3044\u884c\u3060\u3051\u304b\u3089\u69cb\u6210\u3055\u308c\u308b`DataFrame`\u3092\u4f5c\u6210\u3059\u308b\u3002\n",
                "\n",
                "\u5f8c\u3067\u300c\u79d1\u76eeGP\u300d\u306e\u30c7\u30fc\u30bf\u578b\u3092\u5909\u66f4\u3059\u308b\u969b\u306b\u8b66\u544a\u304c\u3067\u306a\u3044\u3088\u3046\u306b\u30e1\u30bd\u30c3\u30c9`.copy()`\u3092\u4f7f\u3044`DataFrame`\u306e\u30b3\u30d4\u30fc\u3092\u4f5c\u6210\u3059\u308b\u3002"
            ]
        },
        {
            "cell_type": "code",
            "execution_count": null,
            "metadata": {},
            "outputs": [],
            "source": [
                "\n"
            ]
        },
        {
            "cell_type": "code",
            "execution_count": null,
            "metadata": {},
            "outputs": [],
            "source": []
        },
        {
            "cell_type": "markdown",
            "metadata": {
                "hidden": true
            },
            "source": [
                "\u30c7\u30fc\u30bf\u578b\u306f`object`\uff08\u6587\u5b57\u5217\uff09\u306e\u307e\u307e\u3067\u3042\u308b\u3002\n",
                "\n",
                "\u5c5e\u6027`.dtypes`\u3092\u4f7f\u3063\u3066\u78ba\u8a8d\u3059\u308b\u3053\u3068\u3082\u3067\u304d\u308b\u3002"
            ]
        },
        {
            "cell_type": "code",
            "execution_count": null,
            "metadata": {},
            "outputs": [],
            "source": []
        },
        {
            "cell_type": "markdown",
            "metadata": {
                "hidden": true
            },
            "source": [
                "`O`\u306f`object`\u3002"
            ]
        },
        {
            "cell_type": "markdown",
            "metadata": {
                "heading_collapsed": true,
                "hidden": true
            },
            "source": [
                "### \u300c\u79d1\u76eeGP\u300d\u3092\u6d6e\u52d5\u5c0f\u6570\u70b9\u306b\u5909\u66f4"
            ]
        },
        {
            "cell_type": "markdown",
            "metadata": {
                "hidden": true
            },
            "source": [
                "\u79d1\u76eeGP\u306f`object`\uff08\u6587\u5b57\u5217\uff09\u3068\u306a\u3063\u3066\u3044\u308b\u306e\u3067\uff0c\u30e1\u30bd\u30c3\u30c9`astype()`\u3092\u4f7f\u3063\u3066`float`\u306b\u5909\u63db\u3059\u308b\u3002"
            ]
        },
        {
            "cell_type": "code",
            "execution_count": null,
            "metadata": {},
            "outputs": [],
            "source": []
        },
        {
            "cell_type": "code",
            "execution_count": null,
            "metadata": {},
            "outputs": [],
            "source": []
        },
        {
            "cell_type": "markdown",
            "metadata": {
                "heading_collapsed": true,
                "hidden": true
            },
            "source": [
                "### \u56f3\u793a\uff1a\u6bce\u5e74"
            ]
        },
        {
            "cell_type": "markdown",
            "metadata": {
                "heading_collapsed": true,
                "hidden": true
            },
            "source": [
                "#### `groupby`"
            ]
        },
        {
            "cell_type": "markdown",
            "metadata": {
                "hidden": true
            },
            "source": [
                "`groupby`\u306f`DataFrame`\u3084`Series`\u3092\u30b0\u30eb\u30fc\u30d7\u5316\u3057\uff0c\u30b0\u30eb\u30fc\u30d7\u5185\u306e\u8a08\u7b97\u3092\u7c21\u5358\u306b\u884c\u3046\u3053\u3068\u304c\u3067\u304d\u308b\u4fbf\u5229\u306a\u30e1\u30bd\u30c3\u30c9\u3067\u3042\u308b\u3002\u300c\u4fee\u5f97\u5e74\u5ea6\u300d\u3067\u30b0\u30eb\u30fc\u30d7\u5316\u3057\uff0c\u5e73\u5747\u3092\u8a08\u7b97\u3059\u308b\u3002"
            ]
        },
        {
            "cell_type": "code",
            "execution_count": null,
            "metadata": {},
            "outputs": [],
            "source": [
                "\n",
                "\n",
                ""
            ]
        },
        {
            "cell_type": "markdown",
            "metadata": {
                "hidden": true
            },
            "source": [
                "* `gpa_grouped`\u306f`DetaFrame`\u3067\u306f\u306a\u3044\u306e\u3067\u6ce8\u610f\u3057\u3088\u3046\u3002\n",
                "* `gpa_grouped`\u306b\u306f`median()`\uff0c`std()`\uff0c`var()`\uff0c`min()`\uff0c`max()`\u306a\u3069\u304c\u4f7f\u3048\u308b\u3002\u305d\u306e\u4ed6\u306e\u5c5e\u6027\u30fb\u30e1\u30bd\u30c3\u30c9\u3092\u78ba\u8a8d\u3002"
            ]
        },
        {
            "cell_type": "code",
            "execution_count": null,
            "metadata": {},
            "outputs": [],
            "source": []
        },
        {
            "cell_type": "markdown",
            "metadata": {
                "heading_collapsed": true,
                "hidden": true
            },
            "source": [
                "#### \u56f3\u793a"
            ]
        },
        {
            "cell_type": "markdown",
            "metadata": {
                "hidden": true
            },
            "source": [
                "\u65b9\u6cd5\uff11\uff1a\u6a2a\u8ef8\u306b\u6587\u5b57\u5217\u3092\u4f7f\u3046"
            ]
        },
        {
            "cell_type": "markdown",
            "metadata": {
                "hidden": true
            },
            "source": [
                "`gpa_mean.index`\u3092\u78ba\u8a8d\u3059\u308b\u3002"
            ]
        },
        {
            "cell_type": "code",
            "execution_count": null,
            "metadata": {},
            "outputs": [],
            "source": []
        },
        {
            "cell_type": "markdown",
            "metadata": {
                "hidden": true
            },
            "source": [
                "\u3053\u308c\u3092\u4f7f\u3044\u6a2a\u8ef8\u306b\u4f7f\u3046\u6587\u5b57\u5217\u3092\u4f5c\u6210\u3059\u308b\u3002"
            ]
        },
        {
            "cell_type": "code",
            "execution_count": null,
            "metadata": {},
            "outputs": [],
            "source": [
                "\n"
            ]
        },
        {
            "cell_type": "code",
            "execution_count": null,
            "metadata": {},
            "outputs": [],
            "source": [
                "\n"
            ]
        },
        {
            "cell_type": "markdown",
            "metadata": {
                "hidden": true
            },
            "source": [
                "\u65b9\u6cd5\uff12\uff1a`plt.xticks()`\u3092\u4f7f\u3063\u3066"
            ]
        },
        {
            "cell_type": "markdown",
            "metadata": {
                "hidden": true
            },
            "source": [
                "\u6a2a\u8ef8\u3092\u8abf\u6574\u3059\u308b\u305f\u3081\u306b\uff0c`gpa_mean`\u306e\u30a4\u30f3\u30c7\u30c3\u30af\u30b9\u3092\u78ba\u8a8d\u3002"
            ]
        },
        {
            "cell_type": "code",
            "execution_count": null,
            "metadata": {},
            "outputs": [],
            "source": [
                "\n"
            ]
        },
        {
            "cell_type": "markdown",
            "metadata": {
                "hidden": true
            },
            "source": [
                "`xticks()`\u3092\u4f7f\u3063\u3066\u6a2a\u8ef8\u306e\u8868\u793a\u3092\u6307\u5b9a\u3059\u308b\u3002"
            ]
        },
        {
            "cell_type": "code",
            "execution_count": null,
            "metadata": {},
            "outputs": [],
            "source": [
                "\n",
                "\n",
                ""
            ]
        },
        {
            "cell_type": "markdown",
            "metadata": {
                "hidden": true
            },
            "source": [
                "### \u56f3\u793a\uff1a\u524d\u671f\u5f8c\u671f\u6bce"
            ]
        },
        {
            "cell_type": "markdown",
            "metadata": {
                "heading_collapsed": true,
                "hidden": true
            },
            "source": [
                "#### \u300c\u4fee\u5f97\u5b66\u671f\u300d\u306e\u82f1\u8a9e\u5316"
            ]
        },
        {
            "cell_type": "markdown",
            "metadata": {
                "hidden": true
            },
            "source": [
                "\u300c\u4fee\u5f97\u5b66\u671f\u300d\u306e\u8981\u7d20\u304c\u65e5\u672c\u8a9e\u3060\u3068\u8b66\u544a\u304c\u51fa\u308b\u305f\u3081\uff0c\u30e1\u30bd\u30c3\u30c9`.replace()`\u3092\u4f7f\u3063\u3066\u82f1\u8a9e\u306b\u5909\u63db\u3059\u308b\u3002`replace()`\u306e\u5f15\u6570\u306f\u8f9e\u66f8\u3067\u6307\u5b9a\u3059\u308b\u3002\n",
                "* \u30ad\u30fc\uff1a\u5909\u66f4\u3059\u308b\u5bfe\u8c61\u306e\u6570\u5024\u3084\u6587\u5b57\u5217\n",
                "* \u5024\uff1a\u5909\u66f4\u5f8c\u306e\u6570\u5024\u3084\u6587\u5b57\u5217"
            ]
        },
        {
            "cell_type": "code",
            "execution_count": null,
            "metadata": {},
            "outputs": [],
            "source": [
                "\n"
            ]
        },
        {
            "cell_type": "markdown",
            "metadata": {
                "heading_collapsed": true,
                "hidden": true
            },
            "source": [
                "#### `groupby`"
            ]
        },
        {
            "cell_type": "markdown",
            "metadata": {
                "hidden": true
            },
            "source": [
                "\u300c\u4fee\u5f97\u5e74\u5ea6\u300d\u3068\u300c\u4fee\u5f97\u5b66\u671f\u300d\u3067\u30b0\u30eb\u30fc\u30d7\u5316\u3059\u308b\u3002"
            ]
        },
        {
            "cell_type": "code",
            "execution_count": null,
            "metadata": {},
            "outputs": [],
            "source": [
                "\n",
                "\n",
                ""
            ]
        },
        {
            "cell_type": "markdown",
            "metadata": {
                "hidden": true
            },
            "source": [
                "\u56f3\u793a\u3059\u308b\u969b\u30a8\u30e9\u30fc\u3092\u304c\u3067\u306a\u3044\u3088\u3046\u306b\u30a4\u30f3\u30c7\u30c3\u30af\u30b9\u306e\u30e9\u30d9\u30eb\u3092\u524a\u9664\u3059\u308b\u3002"
            ]
        },
        {
            "cell_type": "code",
            "execution_count": null,
            "metadata": {},
            "outputs": [],
            "source": [
                "\n"
            ]
        },
        {
            "cell_type": "markdown",
            "metadata": {
                "heading_collapsed": true,
                "hidden": true
            },
            "source": [
                "#### \u56f3\u793a"
            ]
        },
        {
            "cell_type": "markdown",
            "metadata": {
                "hidden": true
            },
            "source": [
                "\u6a2a\u8ef8\u306b\u6587\u5b57\u5217\u3092\u4f7f\u3046\u3002\u307e\u305a`gpa_mean`\u306e\u30a4\u30f3\u30c7\u30c3\u30af\u30b9\u3092\u78ba\u8a8d\u3059\u308b\u3002"
            ]
        },
        {
            "cell_type": "code",
            "execution_count": null,
            "metadata": {},
            "outputs": [],
            "source": []
        },
        {
            "cell_type": "markdown",
            "metadata": {
                "hidden": true
            },
            "source": [
                "\u3053\u308c\u3092\u4f7f\u3044\u6a2a\u8ef8\u306b\u4f7f\u3046\u6587\u5b57\u5217\u3092\u4f5c\u6210\u3059\u308b\u3002"
            ]
        },
        {
            "cell_type": "code",
            "execution_count": null,
            "metadata": {},
            "outputs": [],
            "source": [
                "\n"
            ]
        },
        {
            "cell_type": "code",
            "execution_count": null,
            "metadata": {},
            "outputs": [],
            "source": [
                "\n"
            ]
        }
    ],
    "metadata": {
        "celltoolbar": "Tags",
        "kernelspec": {
            "display_name": "latest",
            "language": "python",
            "name": "latest"
        },
        "language_info": {
            "codemirror_mode": {
                "name": "ipython",
                "version": 3
            },
            "file_extension": ".py",
            "mimetype": "text/x-python",
            "name": "python",
            "nbconvert_exporter": "python",
            "pygments_lexer": "ipython3",
            "version": "3.8.5"
        },
        "toc": {
            "base_numbering": 1,
            "nav_menu": {},
            "number_sections": true,
            "sideBar": true,
            "skip_h1_title": false,
            "title_cell": "Table of Contents",
            "title_sidebar": "Contents",
            "toc_cell": false,
            "toc_position": {},
            "toc_section_display": true,
            "toc_window_display": false
        }
    },
    "nbformat": 4,
    "nbformat_minor": 4
}