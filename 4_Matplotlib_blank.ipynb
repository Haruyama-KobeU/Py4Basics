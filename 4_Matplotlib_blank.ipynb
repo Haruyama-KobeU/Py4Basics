{
    "cells": [
        {
            "cell_type": "markdown",
            "metadata": {},
            "source": [
                "# Matplotlib"
            ]
        },
        {
            "cell_type": "markdown",
            "metadata": {},
            "source": [
                "Matplotlib\uff08\u30de\u30c3\u30c8\u30d7\u30ed\u30c3\u30c8\u30ea\u30d6\uff09\u306f\u56f3\u3092\u63cf\u304f\u305f\u3081\u306e\u30d1\u30c3\u30b1\u30fc\u30b8\u3067\u3042\u308b\u3002\u3069\u3053\u307e\u3067\u624b\u306e\u8fbc\u3093\u3060\u56f3\u3092\u66f8\u304f\u304b\u306b\u3088\u3063\u3066\u30b3\u30fc\u30c9\u304c\u9055\u3063\u3066\u304f\u308b\u304c\uff0c\u3053\u3053\u3067\u306f`pyplot`\u3068\u3044\u3046\u30b5\u30d6\u30d1\u30c3\u30b1\u30fc\u30b8\u3092\u4f7f\u3044\uff0c\u4e00\u756a\u30b7\u30f3\u30d7\u30eb\u306a\u30b3\u30fc\u30c9\u306b\u306a\u308b\u3082\u306e\u3092\u7d39\u4ecb\u3059\u308b\u3002\u3053\u3053\u3067\u8aac\u660e\u3059\u308b\u3053\u3068\u304c\u3067\u304d\u306a\u3044\u591a\u304f\u306e\u6a5f\u80fd\u304c\u5099\u308f\u3063\u3066\u3044\u308b\u304c\uff0c\u3053\u306e[\u30ea\u30f3\u30af](https://nbviewer.jupyter.org/github/jrjohansson/scientific-python-lectures/blob/master/Lecture-4-Matplotlib.ipynb)\u304c\u53c2\u8003\u306b\u306a\u308b\u3060\u308d\u3046\u3002\n",
                "\n",
                "\u901a\u5e38\uff0c`plt`\u3068\u3057\u3066\u8aad\u307f\u8fbc\u3080\u3002"
            ]
        },
        {
            "cell_type": "code",
            "execution_count": null,
            "metadata": {},
            "outputs": [],
            "source": [
                "\n",
                "\n",
                ""
            ]
        },
        {
            "cell_type": "markdown",
            "metadata": {
                "heading_collapsed": true
            },
            "source": [
                "## \u56f3\u306e\u4f5c\u6210"
            ]
        },
        {
            "cell_type": "markdown",
            "metadata": {
                "hidden": true
            },
            "source": [
                "`df`\u3092\u518d\u5ea6\u8aad\u307f\u76f4\u3059\u3002\u4eca\u56de\u306f`year`\u3092\u884c\u30e9\u30d9\u30eb\u306b\u305b\u305a\uff0c\u30a4\u30f3\u30c7\u30c3\u30af\u30b9\u756a\u53f7\u3092\u305d\u306e\u307e\u307e\u4f7f\u3046\u3002"
            ]
        },
        {
            "cell_type": "code",
            "execution_count": null,
            "metadata": {},
            "outputs": [],
            "source": [
                "\n",
                "\n",
                ""
            ]
        },
        {
            "cell_type": "markdown",
            "metadata": {
                "hidden": true
            },
            "source": [
                "`gdp`\u3092\u7e26\u8ef8\u306b\u3057\u305f\u56f3\u3092\u63cf\u304f\u3002**Jupyter Notebook**\u3092\u4f7f\u3046\u3068\u6700\u5c0f\u9650\u5fc5\u8981\u306a\u30b3\u30fc\u30c9\u306f\uff11\u884c\u3068\u306a\u308b\u3002"
            ]
        },
        {
            "cell_type": "code",
            "execution_count": null,
            "metadata": {},
            "outputs": [],
            "source": []
        },
        {
            "cell_type": "markdown",
            "metadata": {
                "hidden": true
            },
            "source": [
                "* `()`\u5185\u306e\u6700\u521d\u306e\u5909\u6570\u306f\u7e26\u8ef8\u306e\u5909\u6570\uff0c\u6b21\u306f\u30c7\u30fc\u30bf\u306e\u6307\u5b9a\n",
                "    * \u4e0b\u3067\u8aac\u660e\u3059\u308b\u304c\u6700\u521d\u306e\u5909\u6570\u306f\u6a2a\u8ef8\u306e\u5909\u6570\u304c\u5165\u308b\u3053\u3068\u306b\u306a\u308b\u304c\uff0c\u3053\u306e\u4f8b\u3067\u306f\u7701\u7565\u3055\u308c\u3066\u3044\u308b\u305f\u3081\uff0c\u30c7\u30d5\u30a9\u30eb\u30c8\u3068\u3057\u3066\u884c\u306e\u30a4\u30f3\u30c7\u30c3\u30af\u30b9\u304c\u4f7f\u308f\u308c\u3066\u3044\u308b\u3002\n",
                "* \u30c7\u30d5\u30a9\u30eb\u30c8\u306f\u7dda\u30b0\u30e9\u30d5\n",
                "* \u884c\u306e\u6700\u5f8c\u306b`;`\u304c\u3042\u308b\u3053\u3068\u306b\u6ce8\u610f\u3002\u3053\u308c\u306f\u300c\u4ee5\u964d\u306e\u51fa\u529b\u3092\u30b9\u30c8\u30c3\u30d7\u300d\u3068\u3044\u3044\u3046\u610f\u5473\u3067\u3042\u308b\u3002\n",
                "    * `;`\u306f\u7701\u7565\u53ef\u80fd\u3002\u7701\u7565\u3059\u308b\u3068\u7279\u306b\u5fc5\u8981\u3067\u306a\u3044\u3082\u306e\u304c\u793a\u3055\u308c\u308b\uff08\u8a66\u305d\u3046\uff01\uff09\n",
                "\n",
                "`;`\u3092\u4f7f\u3046\u4ee3\u308f\u308a\u306b\n",
                "```\n",
                "plt.plot('gdp', data=df)\n",
                "pass\n",
                "```\n",
                "\u3068\u3057\u3066\u3082\u540c\u3058\u7d50\u679c\u3068\u306a\u308b\u3002`pass`\u306f\u6587\u5b57\u901a\u308a\u300c\u305d\u308c\u4ee5\u964d\u306e\u51fa\u529b\u3092\u30d1\u30b9\u3059\u308b\u300d\u3068\u3044\u3046\u610f\u5473\u3002\u3082\u3057\u304f\u306f\n",
                "```\n",
                "_ = plt.plot('gdp', data=df)\n",
                "```\n",
                "\u3067\u3082OK\u3002\u3053\u3053\u3067\u306f\uff0c\u305d\u308c\u4ee5\u964d\u306e\u51fa\u529b\u3092`_`\u306b\u5272\u308a\u5f53\u3066\u3066\u3044\u308b\u3002`_`\u3092\u5358\u72ec\u3067\u4f7f\u3046\u5834\u5408\uff0c\u5fc5\u8981\u3067\u306a\u3044\u5024\u3092\u4ee3\u5165\u3059\u308b\u5909\u6570\u306b\u3088\u304f\u4f7f\u308f\u308c\u308b\u8a18\u53f7\u3067\u3042\u308b\u3002"
            ]
        },
        {
            "cell_type": "markdown",
            "metadata": {
                "hidden": true
            },
            "source": [
                "---\n",
                "\u4e0a\u306e\u56f3\u306e\u4e0d\u6e80\u306a\u70b9\u306f\uff0c\u6a2a\u8ef8\u304c\u4e0d\u660e\u306a\u3053\u3068\uff08\u5358\u306b`gdp`\u306e\u30c7\u30fc\u30bf\u6570\u306b\u5f93\u3063\u30661,2,..\u3068\u756a\u53f7\u304c\u632f\u3089\u308c\u3066\u3044\u308b\uff09\u3002"
            ]
        },
        {
            "cell_type": "markdown",
            "metadata": {
                "hidden": true
            },
            "source": [
                "````{note}\n",
                "\u4e0a\u306e\u30b3\u30fc\u30c9\u3067\u306f\u6a2a\u8ef8\u306e\u5909\u6570\u304c\u6307\u5b9a\u3055\u308c\u3066\u304a\u3089\u305a\uff0c\u30c7\u30d5\u30a9\u30eb\u30c8\u3067\u306f\u884c\u30a4\u30f3\u30c7\u30c3\u30af\u30b9\u304c\u4f7f\u308f\u308c\u3053\u3068\u306b\u306a\u308b\u3002\u5f93\u3063\u3066\uff0c\n",
                "```\n",
                "df = df.set_index('year')\n",
                "```\n",
                "\u306e\u3088\u3046\u306b`year`\u3092\u884c\u30a4\u30f3\u30c7\u30c3\u30af\u30b9\u306b\u6307\u5b9a\u3059\u308b\u3068\uff0c\u81ea\u52d5\u7684\u306b\u6a2a\u8ef8\u306b\u306f`year`\u304c\u5165\u308b\u3053\u3068\u306b\u306a\u308b\u3002\u3053\u306e\u3053\u3068\u3092\u7406\u89e3\u3057\u305f\u4e0a\u3067\uff0c\u4ee5\u4e0b\u3067\u306f\u6a2a\u8ef8\u3092\u660e\u793a\u7684\u306b\u6307\u5b9a\u3059\u308b\u5834\u5408\u3092\u60f3\u5b9a\u3057\u3066\u8aac\u660e\u3092\u7d9a\u3051\u308b\u3002\n",
                "````"
            ]
        },
        {
            "cell_type": "markdown",
            "metadata": {
                "hidden": true
            },
            "source": [
                "\u6a2a\u8ef8\u306e\u5909\u6570\u3092\u6307\u5b9a\u3059\u308b\u306b\u306f\uff0c`()`\u5185\u306b\u8a72\u5f53\u3059\u308b\u5909\u6570\u3092\u8ffd\u52a0\u3059\u308b\u3060\u3051\u3067\u3042\u308b\u3002\u305f\u3060\u9806\u756a\u306b\u6c17\u3092\u3064\u3051\u308b\u3053\u3068\u3002"
            ]
        },
        {
            "cell_type": "code",
            "execution_count": null,
            "metadata": {},
            "outputs": [],
            "source": []
        },
        {
            "cell_type": "markdown",
            "metadata": {
                "hidden": true
            },
            "source": [
                "\u30b3\u30fc\u30c9\u3092\u307f\u3066\u5206\u304b\u308b\u3088\u3046\u306b\n",
                "* `()`\u5185\u306e\u6700\u521d\u306e\u5909\u6570\u306f\u6a2a\u8ef8\u306e\u5909\u6570\uff0c\uff12\u756a\u76ee\u306e\u5909\u6570\u306f\u7e26\u8ef8\u306e\u5909\u6570\uff0c\uff13\u756a\u76ee\u306f\u30c7\u30fc\u30bf\u306e\u6307\u5b9a\n",
                "\n",
                "\uff13\u756a\u76ee\u306e\u30c7\u30fc\u30bf\u6307\u5b9a\u306f\u300c\u3053\u306e\u30c7\u30fc\u30bf\u306e\u4e2d\u306b\u3042\u308b`year`\u3068`gdp`\u3092\u4f7f\u3046\u300d\u3053\u3068\u3092\u610f\u5473\u3057\u3066\u304a\u308a\uff0c\u30c7\u30fc\u30bf\u6307\u5b9a\u304c\u306a\u3051\u308c\u3070`Python`\u306f\u3069\u306e`year`\u3068`gdp`\u304b\u5206\u304b\u3089\u305a\u306b\u30a8\u30e9\u30fc\u3068\u306a\u308b\u3002\u4e00\u65b9\u3067\uff0c\u30c7\u30fc\u30bf\u6307\u5b9a\u3092\u305b\u305a\u306b\uff0c\u76f4\u63a5\u6a2a\u8ef8\u30fb\u7e26\u8ef8\u306e\u5909\u6570\u3092\u6307\u5b9a\u3059\u308b\u3053\u3068\u3082\u53ef\u80fd\u3067\u3042\u308b\u3002\u4ee5\u4e0b\u304c\u305d\u306e\u4f8b\uff1a"
            ]
        },
        {
            "cell_type": "code",
            "execution_count": null,
            "metadata": {},
            "outputs": [],
            "source": []
        },
        {
            "cell_type": "markdown",
            "metadata": {
                "hidden": true
            },
            "source": [
                "\u4e0a\u306e\u56f3\u3067\u4f55\u3092\u30d7\u30ed\u30c3\u30c8\u3057\u3066\u3044\u308b\u304b\u3092\u5206\u304b\u3063\u3066\u3044\u308b\u5834\u5408\u306f\u3053\u308c\u3067\u5341\u5206\u3060\u304c\uff0c\u8ad6\u6587\u306a\u3069\u306b\u4f7f\u3046\u5834\u5408\u306f\u4e0d\u5341\u5206\u3067\u3042\u308b\u3002\u4ee5\u4e0b\u3067\u306f\u300c\u98fe\u308a\u4ed8\u3051\u300d\u3092\u3059\u308b\u3002"
            ]
        },
        {
            "cell_type": "code",
            "execution_count": null,
            "metadata": {},
            "outputs": [],
            "source": [
                "\n",
                "\n",
                "",
                "",
                "",
                "",
                "",
                "",
                ""
            ]
        },
        {
            "cell_type": "markdown",
            "metadata": {
                "hidden": true
            },
            "source": [
                "\u69d8\u3005\u306a\u30aa\u30d7\u30b7\u30e7\u30f3\u304c\u7528\u610f\u3055\u308c\u3066\u3044\u308b\n",
                "\n",
                "\n",
                "|\u8272  | \u7701\u7565\u5f62|\n",
                "|:---|:---:|\n",
                "|blue | b  |\n",
                "|green | g |\n",
                "|red | r   |\n",
                "|cyan | c  |\n",
                "|magenta | m |\n",
                "|yellow | y |\n",
                "|black | k |\n",
                "|white | w |\n",
                "\n",
                "\n",
                "|\u7dda\u306e\u30b9\u30bf\u30a4\u30eb | \u8aac\u660e |\n",
                "|:---:|:---------|\n",
                "|-  | solid line style |\n",
                "|-- |dashed line style |\n",
                "|-. | dash-dot line style |\n",
                "|:  | dotted line style |\n",
                "\n",
                "|\u30de\u30fc\u30ab\u30fc | \u8aac\u660e |\n",
                "|:------:|:----|\n",
                "|.\t| point marker |\n",
                "|,\t| pixel marker |\n",
                "|o\t| circle marker |\n",
                "|v\t| triangle_down marker |\n",
                "|\\* | star marker |\n",
                "|+\t|plus marker |\n",
                "|x\t| x marker |\n",
                "\n",
                "\u6570\u591a\u304f\u306e\u30aa\u30d7\u30b7\u30e7\u30f3\u304c\u3042\u308b\u3002[\u3053\u3053\u3092\u53c2\u7167](https://matplotlib.org/api/pyplot_api.html#matplotlib.pyplot.plot)\u3002"
            ]
        },
        {
            "cell_type": "markdown",
            "metadata": {
                "hidden": true
            },
            "source": [
                "\u3053\u306e\u3088\u3046\u306a\u30aa\u30d7\u30b7\u30e7\u30f3\u3082\u7c21\u7565\u5316\u3057\u3066\u66f8\u304f\u3053\u3068\u3082\u3067\u304d\u308b\u3002\u4f8b\u3048\u3070\uff0c\u4e0a\u306e\u30b3\u30fc\u30c9\u3067\n",
                "```\n",
                "color='red',\n",
                "linestyle='dashed',\n",
                "marker='o',\n",
                "```\n",
                "\u306e\uff13\u884c\u3092\u4ee5\u4e0b\u306e\u4e00\u884c\u306b\u307e\u3068\u3081\u308b\u3053\u3068\u3082\u53ef\u80fd\u3067\u3042\u308b\u3002\n",
                "```\n",
                "'r--o',\n",
                "```"
            ]
        },
        {
            "cell_type": "markdown",
            "metadata": {
                "hidden": true
            },
            "source": [
                "**\u8907\u6570\u306e\u56f3**\n",
                "\n",
                "\u5358\u306b`plt.plot()`\u3092\u4e26\u3079\u308b\u3060\u3051\u3067\u3042\u308b\u3002"
            ]
        },
        {
            "cell_type": "code",
            "execution_count": null,
            "metadata": {},
            "outputs": [],
            "source": [
                "\n",
                "\n",
                "",
                ""
            ]
        },
        {
            "cell_type": "markdown",
            "metadata": {
                "hidden": true
            },
            "source": [
                "**\u6563\u5e03\u56f3\u306e\u63cf\u753b**"
            ]
        },
        {
            "cell_type": "code",
            "execution_count": null,
            "metadata": {},
            "outputs": [],
            "source": [
                "\n",
                "\n",
                ""
            ]
        },
        {
            "cell_type": "markdown",
            "metadata": {
                "hidden": true
            },
            "source": [
                "\u6b21\u306e\u30b3\u30fc\u30c9\u3067\u3082\u540c\u3058\u7d50\u679c\u3068\u306a\u308b\u3002"
            ]
        },
        {
            "cell_type": "code",
            "execution_count": null,
            "metadata": {},
            "outputs": [],
            "source": [
                "\n",
                "\n",
                ""
            ]
        },
        {
            "cell_type": "markdown",
            "metadata": {
                "hidden": true
            },
            "source": [
                "\u3053\u3053\u3067\u6307\u5b9a\u3057\u305f`'o'`\u306f\uff0c`marker='o', linestyle=''`\u306e\u7701\u7565\u5f62\u3067\u3042\u308b\u3002\u4f8b\u3048\u3070\uff0c`'o'`\u306e\u4ee3\u308f\u308a\u306b`'o-'`\u3068\u3057\u3066\u8868\u793a\u306e\u5909\u5316\u3092\u78ba\u304b\u3081\u3066\u307f\u3088\u3046\u3002"
            ]
        },
        {
            "cell_type": "markdown",
            "metadata": {
                "hidden": true
            },
            "source": [
                "**\u30d2\u30b9\u30c8\u30b0\u30e9\u30e0**"
            ]
        },
        {
            "cell_type": "code",
            "execution_count": null,
            "metadata": {},
            "outputs": [],
            "source": [
                "\n",
                "\n",
                ""
            ]
        },
        {
            "cell_type": "markdown",
            "metadata": {
                "hidden": true
            },
            "source": [
                "**\u30d1\u30a4\u30c1\u30e3\u30fc\u30c8**"
            ]
        },
        {
            "cell_type": "code",
            "execution_count": null,
            "metadata": {},
            "outputs": [],
            "source": [
                "\n",
                "\n",
                "",
                "",
                "",
                "",
                ""
            ]
        },
        {
            "cell_type": "markdown",
            "metadata": {
                "hidden": true
            },
            "source": [
                "**\u30dc\u30c3\u30af\u30b9\u30d7\u30ed\u30c3\u30c8**\n",
                "\n",
                "\u89e3\u91c8\u306b\u3064\u3044\u3066\u306f[\u3053\u306e\u30b5\u30a4\u30c8](https://towardsdatascience.com/understanding-boxplots-5e2df7bcbd51)\u3092\u53c2\u7167\u3002"
            ]
        },
        {
            "cell_type": "code",
            "execution_count": null,
            "metadata": {},
            "outputs": [],
            "source": [
                "\n",
                "\n",
                ""
            ]
        },
        {
            "cell_type": "markdown",
            "metadata": {
                "heading_collapsed": true
            },
            "source": [
                "## \u8907\u6570\u306e\u56f3\u3092\u4e26\u3079\u3066\u8868\u793a"
            ]
        },
        {
            "cell_type": "markdown",
            "metadata": {
                "hidden": true
            },
            "source": [
                "\u8907\u6570\u306e\u56f3\u3092\u300c\uff11\u3064\u306e\u56f3\u300d\u3068\u3057\u3066\u63cf\u753b\u3059\u308b\u305f\u3081\u306b`subplot(a,b,c)`\u3092\u4f7f\u3044\uff0c\u884c\u3068\u5217\u3092\u6307\u5b9a\u3057\u3066\u305d\u308c\u305e\u308c\u306e\u56f3\u306e\u4f4d\u7f6e\u3092\u8a2d\u5b9a\u3059\u308b\u3002\n",
                "* `a`\uff1a\u884c\u306e\u6570\n",
                "* `b`\uff1a\u5217\u306e\u6570\n",
                "* `c`\uff1a\u884c\u30fb\u5217\u3092\u4f7f\u3063\u3066\u4f4d\u7f6e\u3092\u6307\u5b9a\n",
                "\n",
                "\uff1c\u4f8b\uff1a\uff12\u00d7\uff12\u306e\u5834\u5408\uff1e\n",
                "\n",
                "`subplot(2,2,1)`: \u5de6\u4e0a\u306e\u4f4d\u7f6e\u3092\u6307\u5b9a\n",
                "\n",
                "`subplot(2,2,2)`: \u53f3\u4e0a\u306e\u4f4d\u7f6e\u3092\u6307\u5b9a\n",
                "\n",
                "`subplot(2,2,3)`: \u5de6\u4e0b\u306e\u4f4d\u7f6e\u3092\u6307\u5b9a\n",
                "\n",
                "`subplot(2,2,4)`: \u53f3\u4e0b\u306e\u4f4d\u7f6e\u3092\u6307\u5b9a"
            ]
        },
        {
            "cell_type": "markdown",
            "metadata": {
                "hidden": true
            },
            "source": [
                "\u6b21\u306e\u4f8b\u3067\u306f\u7dda\u5f62\u95a2\u6570\u3068\uff12\u6b21\u95a2\u6570\u3092\u63cf\u304f\u304c\uff0c\u307e\u305a\u6a2a\u8ef8\u306e\u5909\u6570`x`\u306e\u30c7\u30fc\u30bf\u3092\u4f5c\u6210\u3059\u308b\u3002"
            ]
        },
        {
            "cell_type": "code",
            "execution_count": null,
            "metadata": {},
            "outputs": [],
            "source": []
        },
        {
            "cell_type": "markdown",
            "metadata": {
                "hidden": true
            },
            "source": [
                "\u56f3\u306e\u4f5c\u6210"
            ]
        },
        {
            "cell_type": "code",
            "execution_count": null,
            "metadata": {},
            "outputs": [],
            "source": [
                "\n",
                "\n",
                "# n = 5\n",
                "\n",
                "\n",
                "",
                "",
                "# n = 10\n",
                "\n",
                "\n",
                "",
                "",
                "# n = 100\n",
                "\n",
                "\n",
                "",
                "",
                "# n = 1000\n",
                "\n",
                "\n",
                "",
                ""
            ]
        },
        {
            "cell_type": "markdown",
            "metadata": {
                "heading_collapsed": true
            },
            "source": [
                "## \u56f3\u306e\u4fdd\u5b58\u65b9\u6cd5"
            ]
        },
        {
            "cell_type": "markdown",
            "metadata": {
                "heading_collapsed": true,
                "hidden": true
            },
            "source": [
                "### \u65b9\u6cd5\uff11"
            ]
        },
        {
            "cell_type": "markdown",
            "metadata": {
                "hidden": true
            },
            "source": [
                "\u4f8b\u3068\u3057\u3066\uff0c\u56f3\u3092`png`\u30d5\u30a1\u30a4\u30eb\u3067\u4fdd\u5b58\u3059\u308b\u5834\u5408\u3092\u8003\u3048\u3088\u3046\u3002\n",
                "\n",
                "\uff1c\u958b\u3044\u3066\u3044\u308b`Jupyter Notebook`\u306e\u30d5\u30a1\u30a4\u30eb\u3068\u540c\u3058\u30d5\u30a9\u30eb\u30c0\u30fc\u306b\u4fdd\u5b58\u3059\u308b\u5834\u5408\uff1e\n",
                "\n",
                "```\n",
                "plt.savefig('<\u30d5\u30a1\u30a4\u30eb\u540d.png')\n",
                "```\n",
                "\n",
                "\u3092\u4f7f\u3046\u3002\u3053\u306e\u5834\u5408`;`\u3084`pass`\u3092\u4f7f\u3092\u5fc5\u8981\u306f\u306a\u3044\u3002"
            ]
        },
        {
            "cell_type": "code",
            "execution_count": null,
            "metadata": {},
            "outputs": [],
            "source": [
                "\n"
            ]
        },
        {
            "cell_type": "markdown",
            "metadata": {
                "hidden": true
            },
            "source": [
                "\u4fdd\u5b58\u3067\u304d\u308b\u753b\u50cf\u30d5\u30a1\u30a4\u30eb\u306e\u7a2e\u985e\u306b\u306f\u4ee5\u4e0b\u304c\u3042\u308b\u3002\n",
                "\n",
                "`png`\uff0c`jpg`\uff0c`pdf`\uff0c`ps`\uff0c`eps`\uff0c`svg`\n",
                "\n",
                "\u3053\u308c\u3089\u306e\u30d5\u30a9\u30fc\u30de\u30c3\u30c8\u3067\u4fdd\u5b58\u3059\u308b\u5834\u5408\u306f\uff0c\u4e0a\u306e\u30b3\u30fc\u30c9\u306e`png`\u3092`pdf`\u7b49\u306b\u5165\u308c\u66ff\u3048\u308b\u3002\n",
                "\n",
                "---\n",
                "\uff1cMac: \u958b\u3044\u3066\u3044\u308b`Jupyter Notebook`\u306e\u30d5\u30a1\u30a4\u30eb\u306e\u30b5\u30d6\u30d5\u30a9\u30eb\u30c0\u30fc\u30d5\u30a9\u30eb\u30c0\u30fc\u306b\u4fdd\u5b58\u3059\u308b\u5834\u5408\uff1e\n",
                "\n",
                "\u4f8b\u3048\u3070\uff0c\u30b5\u30d6\u30d5\u30a9\u30eb\u30c0\u30fc`temp`\u306b\u753b\u50cf\u3092\u4fdd\u5b58\u3057\u305f\u3044\u5834\u5408\u306f\n",
                "```\n",
                "plt.savefig('./temp/<\u30d5\u30a1\u30a4\u30eb\u540d.png')\n",
                "```\n",
                "\u3068\u3059\u308b\u3002\u3053\u3053\u3067`.`\u306f\u958b\u3044\u3066\u3044\u308b`Jupyter Notebook`\u306e\u30d5\u30a1\u30a4\u30eb\u304c\u3042\u308b\u30d5\u30a9\u30eb\u30c0\u30fc\u3092\u8868\u3057\u3066\u304a\u308a\uff0c\u30bb\u30eb\u5185\u3067`pwd`\u3092\u5b9f\u884c\u3059\u308b\u3068\u8868\u793a\u3055\u308c\u308b\u3002"
            ]
        },
        {
            "cell_type": "markdown",
            "metadata": {
                "hidden": true
            },
            "source": [
                "```{note}\n",
                "Terminal\u3082\u3057\u304f\u306fGit Bash\u3067\u4f7f\u3046\u30b3\u30de\u30f3\u30c9`pwd`\u3092\u30b3\u30fc\u30c9\u30bb\u30eb\u3067\u4f7f\u3046\u4e8b\u304c\u3067\u304d\u308b\u3002`%pwd`\u3092\u5b9f\u884c\u3059\u308b\u3068`Jupyter Notebook`\u306e\u30ab\u30ec\u30f3\u30c8\u30fb\u30c7\u30a3\u30ec\u30af\u30c8\u30ea\u306e\u30d1\u30b9\u304c\u8868\u793a\u3055\u308c\u308b\u3002`%`\u304c\u6700\u521d\u306b\u304f\u308b\u30b3\u30de\u30f3\u30c9\u306fMagic Command\u3068\u547c\u3070\u308c\u308b\u3082\u306e\u3067\u3042\u308a\uff0c\u3053\u306e\u4ed6`%ls`\u3084\u4ee5\u4e0b\u3067\u8aac\u660e\u3059\u308b`%matplotlib`\u3082\u3042\u308b\u3002\u975e\u5e38\u306b\u4fbf\u5229\u306a\u306e\u3067[\u3053\u306e\u30b5\u30a4\u30c8](https://ipython.readthedocs.io/en/stable/interactive/magics.html)\u3092\u53c2\u7167\u3057\u3066\u6b32\u3057\u3044\u3002\n",
                "```"
            ]
        },
        {
            "cell_type": "markdown",
            "metadata": {
                "heading_collapsed": true,
                "hidden": true
            },
            "source": [
                "### \u65b9\u6cd5\uff12"
            ]
        },
        {
            "cell_type": "markdown",
            "metadata": {
                "hidden": true
            },
            "source": [
                "\u3053\u306e\u7ae0\u306e\u6700\u521d\u306b\u6b21\u306e\uff13\u3064\u306e\u30d1\u30c3\u30b1\u30fc\u30b8\u3092\u30a4\u30f3\u30dd\u30fc\u30c8\u3057\u305f\u3002\n",
                "```\n",
                "import numpy as np\n",
                "import pandas as pd\n",
                "import matplotlib.pyplot as plt\n",
                "```\n",
                "\u7b2c\u4e8c\u306e\u65b9\u6cd5\u306f\uff0c`matplotlib`\u3092\u8aad\u307f\u8fbc\u3080\u524d\u306b\u6b21\u306e\u3088\u3046\u306b`%matplotlib notebook`\u3092\u8aad\u307f\u8fbc\u3080\u3002\n",
                "```\n",
                "%matplotlib notebook\n",
                "import numpy as np\n",
                "import pandas as pd\n",
                "import matplotlib.pyplot as plt\n",
                "```\n",
                "\n",
                "`%matplotlib notebook`\u3092\u8aad\u307f\u8fbc\u307f\u56f3\u793a\u3059\u308b\u3068\u56f3\u3092\u4fdd\u5b58\u3059\u308b\u30a2\u30a4\u30b3\u30f3\u304c\u51fa\u3066\u304f\u308b\u306e\u3067\u305d\u308c\u3092\u62bc\u3057\u3066\u307f\u3088\u3046\u3002"
            ]
        },
        {
            "cell_type": "markdown",
            "metadata": {
                "hidden": true
            },
            "source": [
                "````{warning}\n",
                "\u6b21\u306e\u3088\u3046\u306a\u30e1\u30c3\u30bb\u30fc\u30b8\u304c\u8868\u793a\u3055\u308c\u308b\u5834\u5408\u306f\uff0c\u30e1\u30cb\u30e5\u30fc\u304b\u3089\uff1cKernel\uff1e \u2192 \uff1cRestart\uff1e\u3092\u9078\u3093\u3067\u6700\u521d\u304b\u3089\u8aad\u307f\u76f4\u3059\u3068\u826f\u3044\u3060\u308d\u3046\u3002\n",
                "```\n",
                "Warning: Cannot change to a different GUI toolkit\n",
                "```\n",
                "````"
            ]
        },
        {
            "cell_type": "markdown",
            "metadata": {
                "heading_collapsed": true,
                "hidden": true
            },
            "source": [
                "### \u65b9\u6cd5\uff13"
            ]
        },
        {
            "cell_type": "markdown",
            "metadata": {
                "hidden": true
            },
            "source": [
                "\u65b9\u6cd5\uff12\u306e`%matplotlib notebook`\u306e\u4ee3\u308f\u308a\u306b`%matplotlib qt`\u3092\u8aad\u307f\u8fbc\u3080\u3002\n",
                "```\n",
                "%matplotlib qt\n",
                "import numpy as np\n",
                "import pandas as pd\n",
                "import matplotlib.pyplot as plt\n",
                "```\n",
                "\n",
                "\u56f3\u304c\u30dd\u30c3\u30d7\u30a2\u30c3\u30d7\u3068\u3057\u3066\u8868\u793a\u3055\u308c\u56f3\u3092\u4fdd\u5b58\u3059\u308b\u30a2\u30a4\u30b3\u30f3\u304c\u51fa\u3066\u304f\u308b\u306e\u3067\u305d\u308c\u3092\u62bc\u3057\u3066\u307f\u3088\u3046\u3002"
            ]
        },
        {
            "cell_type": "markdown",
            "metadata": {
                "hidden": true
            },
            "source": [
                "````{warning}\n",
                "\u6b21\u306e\u3088\u3046\u306a\u30e1\u30c3\u30bb\u30fc\u30b8\u304c\u8868\u793a\u3055\u308c\u308b\u5834\u5408\u306f\uff0c\u30e1\u30cb\u30e5\u30fc\u304b\u3089\uff1cKernel\uff1e \u2192 \uff1cRestart\uff1e\u3092\u9078\u3093\u3067\u6700\u521d\u304b\u3089\u8aad\u307f\u76f4\u3059\u3068\u826f\u3044\u3060\u308d\u3046\u3002\n",
                "```\n",
                "Warning: Cannot change to a different GUI toolkit\n",
                "```\n",
                "````"
            ]
        }
    ],
    "metadata": {
        "kernel_info": {
            "name": "python3"
        },
        "kernelspec": {
            "display_name": "latest",
            "language": "python",
            "name": "latest"
        },
        "language_info": {
            "codemirror_mode": {
                "name": "ipython",
                "version": 3
            },
            "file_extension": ".py",
            "mimetype": "text/x-python",
            "name": "python",
            "nbconvert_exporter": "python",
            "pygments_lexer": "ipython3",
            "version": "3.8.3"
        },
        "nteract": {
            "version": "0.15.0"
        },
        "toc": {
            "base_numbering": 1,
            "nav_menu": {},
            "number_sections": true,
            "sideBar": true,
            "skip_h1_title": false,
            "title_cell": "Table of Contents",
            "title_sidebar": "Contents",
            "toc_cell": false,
            "toc_position": {},
            "toc_section_display": true,
            "toc_window_display": false
        }
    },
    "nbformat": 4,
    "nbformat_minor": 2
}