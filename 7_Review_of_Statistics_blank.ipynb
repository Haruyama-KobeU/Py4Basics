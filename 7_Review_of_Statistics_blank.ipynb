{
    "cells": [
        {
            "cell_type": "markdown",
            "metadata": {},
            "source": [
                "# \u7d71\u8a08\u5b66\u306e\u7c21\u5358\u306a\u5fa9\u7fd2"
            ]
        },
        {
            "cell_type": "markdown",
            "metadata": {
                "heading_collapsed": true
            },
            "source": [
                "## \u78ba\u7387\u5909\u6570"
            ]
        },
        {
            "cell_type": "markdown",
            "metadata": {
                "hidden": true
            },
            "source": [
                "**\u5b9a\u7fa9**\n",
                "\n",
                "\u78ba\u7387\u5909\u6570\uff08random variables\uff09\u3068\u306f\uff0c\u7121\u4f5c\u70ba\u306e\u30d7\u30ed\u30bb\u30b9\u306e\u7d50\u679c\u3068\u3057\u3066\u5b9f\u6570\u3092\u3068\u308b\u5909\u6570\u3067\u3042\u308a\uff0c\u5b9f\u73fe\u3057\u89b3\u5bdf\u3055\u308c\u308b\u307e\u3067\u5024\u304c\u672a\u77e5\u306e\u5909\u6570\u3067\u3042\u308b\u3002\u5b9f\u73fe\u3057\u305f\u5024\u3092\u5b9f\u73fe\u5024\u3082\u3057\u304f\u306f\u89b3\u5bdf\u5024\u3068\u547c\u3076\u3002\u6b21\u306e\u8a18\u53f7\u3092\u4f7f\u3063\u3066\u4f8b\u3092\u8003\u3048\u308b\u3002\n",
                "* $X$\uff1a\u78ba\u7387\u5909\u6570\u81ea\u4f53\u3092\u793a\u3059\u8a18\u53f7\n",
                "* $x$\uff1a\u5b9f\u73fe\u5024\n",
                "\n",
                "\u4f8b\uff11\uff08\u96e2\u6563\u578b\u78ba\u7387\u5909\u6570\uff09\n",
                "* \u30b5\u30a4\u30b3\u30ed\u306e\u76ee\uff1a$X$\n",
                "* \u5b9f\u73fe\u53ef\u80fd\u306a\u5024\u306e\u96c6\u5408\uff1a$x\\in\\{1, 2, 3, 4, 5, 6\\}$\n",
                "* \u5b9f\u73fe\u5024\uff1a$x=3$\n",
                "\n",
                "\u4f8b\uff12\uff08\u9023\u7d9a\u578b\u78ba\u7387\u5909\u6570\uff09\n",
                "* \u30e9\u30f3\u30c0\u30e0\u306b\u9078\u3093\u3060\u7d4c\u6e08\u5b66\u90e8\u306e\u5b66\u751f\u306e\u8eab\u9577\uff1a$X$\n",
                "* \u5b9f\u73fe\u53ef\u80fd\u306a\u5024\u306e\u96c6\u5408\uff1a$\\{x\\;|\\;0< x<\\infty\\}$\n",
                "* \u5b9f\u73fe\u5024\uff1a175.920483.....cm"
            ]
        },
        {
            "cell_type": "markdown",
            "metadata": {
                "hidden": true
            },
            "source": [
                "---\n",
                "**\u78ba\u7387\u5909\u6570\u306e\u3042\u308b\u5024\u304c\u767a\u751f\u3059\u308b\u78ba\u7387**\n",
                "* \u4f8b\uff11\uff1a\u30b5\u30a4\u30b3\u30ed\n",
                "    * $X=3$\u306e\u78ba\u7387\u306f\u78ba\u7387\u8cea\u91cf\u95a2\u6570 $f(3)=1/6$\u3067\u8868\u3055\u308c\u308b\u3002\n",
                "    * \u5b9f\u73fe\u53ef\u80fd\u306a\u5024\u306e\u78ba\u7387\u306e\u5408\u8a08\uff1d\uff11\uff0c\u5373\u3061 $\\displaystyle\\sum_{x=1}^6f(x)=1$\n",
                "* \u4f8b\uff12\uff1a\u30e9\u30f3\u30c0\u30e0\u306b\u9078\u3093\u3060\u7d4c\u6e08\u5b66\u90e8\u306e\u5b66\u751f\u306e\u8eab\u9577\n",
                "    * $X=175.92$\u306e\u78ba\u7387\u306f\u78ba\u7387\u5bc6\u5ea6\u95a2\u6570 $f(175.92)=0.0204$\u3067\u8868\u3055\u308c\u308b\u3002\n",
                "    * \u5b9f\u73fe\u53ef\u80fd\u306a\u5024\u306e\u78ba\u7387\u306e\u5408\u8a08\uff1d\uff11\uff0c\u5373\u3061 $\\displaystyle\\int_0^{\\infty}f(x)dx=1$"
            ]
        },
        {
            "cell_type": "markdown",
            "metadata": {
                "heading_collapsed": true
            },
            "source": [
                "## \u78ba\u7387\u5909\u6570\u306e\u7279\u5fb4\u3092\u793a\u3059\u5c3a\u5ea6"
            ]
        },
        {
            "cell_type": "markdown",
            "metadata": {
                "hidden": true
            },
            "source": [
                "\uff08\u4ee5\u4e0b\u3067\u4f7f\u3046\u8a18\u53f7\uff09\n",
                "\n",
                "$X,Y$\uff1a\u78ba\u7387\u5909\u6570\n",
                "\n",
                "$x,y$\uff1a\u78ba\u7387\u5909\u6570\u306e\u5b9f\u73fe\u5024"
            ]
        },
        {
            "cell_type": "markdown",
            "metadata": {
                "hidden": true
            },
            "source": [
                "---\n",
                "**\u671f\u5f85\u5024\uff08expected value\uff09\uff1d \u5e73\u5747\uff08average or mean\uff09**\n",
                "\n",
                "$\\text{E}(X)=\\mu_X$\n",
                "\n",
                "\uff08\u6027\u8cea\uff09\n",
                "* $\\text{E}(X)\\gtreqqless 0$\n",
                "* $\\text{E}(aX)=a\\text{E}(X)$\n",
                "* $\\text{E}(X+Y)=\\text{E}(X)+\\text{E}(Y)$\n",
                "* $\\text{E}(XY)=\\text{E}(X)\\cdot\\text{E}(Y)+\\text{Cov}(X,Y)$\n",
                "* $X$\u306e\u5358\u4f4d\u306b\u4f9d\u5b58"
            ]
        },
        {
            "cell_type": "markdown",
            "metadata": {
                "hidden": true
            },
            "source": [
                "---\n",
                "**\u5206\u6563\uff08variance\uff09**\n",
                "\n",
                "$\\sigma_X^2\\equiv\\text{Var}(X)\\equiv\\text{E}\\left[(X-\\mu_X)^2\\right]=\\text{E}\\left[X^2\\right]-\\mu_X^2$\n",
                "\n",
                "\uff08\u6027\u8cea\uff09\n",
                "* $\\text{Var}(X)\\geq 0$\n",
                "* $\\text{Var}(X+a)=\\text{Var}(X)$\n",
                "* $\\text{Var}(aX)=a^2\\text{Var}(X)$\n",
                "* $\\text{Var}(aX+bY)=a^2\\text{Var}(X)+b^2\\text{Var}(Y)+2ab\\cdot\\text{Cov}(X,Y)$\n",
                "* $\\text{Var}(aX-bY)=a^2\\text{Var}(X)+b^2\\text{Var}(Y)-2ab\\cdot\\text{Cov}(X,Y)$\n",
                "* $X$\u306e\u5358\u4f4d\u306b\u4f9d\u5b58"
            ]
        },
        {
            "cell_type": "markdown",
            "metadata": {
                "hidden": true
            },
            "source": [
                "---\n",
                "**\u6a19\u6e96\u504f\u5dee\uff08standard deviation\uff09**\n",
                "\n",
                "$\\sigma_X\\equiv\\sqrt{\\text{Var}(X)}$\n",
                "\n",
                "\uff08\u6027\u8cea\uff09\n",
                "* $X$\u306e\u5358\u4f4d\u306b\u4f9d\u5b58"
            ]
        },
        {
            "cell_type": "markdown",
            "metadata": {
                "hidden": true
            },
            "source": [
                "---\n",
                "**\u5171\u5206\u6563\uff08covariance\uff09**\n",
                "\n",
                "$\\sigma_{XY}\\equiv\\text{Cov}(X,Y)=\\text{E}\\left[(X-\\mu_X)(Y-\\mu_Y)\\right]$\n",
                "\n",
                "\uff08\u6027\u8cea\uff09\n",
                "* $\\text{Cov}(X,Y)\\lesseqqgtr 0$\n",
                "* $\\text{Cov}(X,X)=\\text{Var}(X)$\n",
                "* $X$\u3068$Y$\u306e\u5358\u4f4d\u306b\u4f9d\u5b58"
            ]
        },
        {
            "cell_type": "markdown",
            "metadata": {
                "hidden": true
            },
            "source": [
                "---\n",
                "**\u76f8\u95a2\u4fc2\u6570\uff08correlation coefficient\uff09**\n",
                "\n",
                "$\\rho_{XY}\\equiv\\text{Corr}(X,Y)=\\dfrac{\\sigma_{XY}}{\\sigma_X\\cdot\\sigma_Y}\n",
                "=\\dfrac{\\text{Cov}(X,Y)}{\\sqrt{\\text{Var}(X)\\cdot\\text{Var}(Y)}}$\n",
                "\n",
                "\uff08\u6027\u8cea\uff09\n",
                "* $-1\\leq\\rho_{XY}\\leq 1$\n",
                "* $X$\u3068$Y$\u306e\u5358\u4f4d\u306b\u4f9d\u5b58\u3057\u306a\u3044"
            ]
        },
        {
            "cell_type": "markdown",
            "metadata": {
                "heading_collapsed": true
            },
            "source": [
                "## \u6b63\u898f\u5206\u5e03\uff08Normal Distribution\uff09"
            ]
        },
        {
            "cell_type": "markdown",
            "metadata": {
                "hidden": true
            },
            "source": [
                "\u5225\u540d\uff1a\u30ac\u30a6\u30b9\u5206\u5e03\uff08Gausian Distribution\uff09"
            ]
        },
        {
            "cell_type": "markdown",
            "metadata": {
                "heading_collapsed": true,
                "hidden": true
            },
            "source": [
                "### \u78ba\u7387\u5bc6\u5ea6\u95a2\u6570\u3068\u7d2f\u7a4d\u5206\u5e03\u95a2\u6570"
            ]
        },
        {
            "cell_type": "markdown",
            "metadata": {
                "hidden": true
            },
            "source": [
                "**\u78ba\u7387\u5bc6\u5ea6\u95a2\u6570**\n",
                "\n",
                "$$\n",
                "\\phi(x)=\\dfrac{1}{\\sqrt{2\\pi\\sigma_X}}e^{-\\frac{1}{2}\\left(\\frac{x-\\mu_X}{\\sigma_X}\\right)^2}\n",
                "$$\n",
                "\n",
                "* \uff12\u3064\u306e\u30d1\u30e9\u30e1\u30fc\u30bf\uff1a\u5e73\u5747\uff08$\\mu_X$\uff09\u3068\u5206\u6563\uff08$\\sigma_X^2$\uff09\n",
                "* \u5de6\u53f3\u5bfe\u79f0\n",
                "* \u300c$X$\u306f\u5e73\u5747$\\mu_X$\uff0c\u5206\u6563$\\sigma_X^2$\u306e\u6b63\u898f\u5206\u5e03\u306b\u5f93\u3046\u300d\u3092\u8a18\u53f7\u3067\u8868\u73fe\n",
                "\n",
                "$$X\\sim N\\left(\\mu_X,\\sigma_X^2\\right)$$\n",
                "\n",
                "**\u78ba\u7387\u5206\u5e03\u95a2\u6570**\n",
                "\n",
                "$$F(x)=\\int_{-\\infty}^x\\phi(s)ds$$"
            ]
        },
        {
            "cell_type": "markdown",
            "metadata": {
                "heading_collapsed": true,
                "hidden": true
            },
            "source": [
                "### \u6a19\u6e96\u6b63\u898f\u5206\u5e03"
            ]
        },
        {
            "cell_type": "markdown",
            "metadata": {
                "hidden": true
            },
            "source": [
                "\u6b63\u898f\u5206\u5e03\u306e\u5909\u6570$X$\u3092\u6b21\u5f0f\n",
                "\n",
                "$$\n",
                "Z=\\dfrac{X-\\mu_X}{\\sigma_X}\n",
                "$$\n",
                "\n",
                "\u3067\u5909\u63db\u3059\u308b\u3068\uff0c$Z$\u306e\u5206\u5e03\u306f\u6a19\u6e96\u6b63\u898f\u5206\u5e03\u306b\u5f93\u3046\u3002\n",
                "\n",
                "$$Z\\sim N(0,1)$$"
            ]
        },
        {
            "cell_type": "markdown",
            "metadata": {
                "hidden": true
            },
            "source": [
                "### \u591a\u5909\u91cf\u6b63\u898f\u5206\u5e03"
            ]
        },
        {
            "cell_type": "markdown",
            "metadata": {
                "hidden": true
            },
            "source": [
                "* \uff12\u3064\u306e\u78ba\u7387\u5909\u6570$X_1$\u3068$X_2$\u3092\u8003\u3048\u3088\u3046\u3002\n",
                "\n",
                "    $$\n",
                "    X_1\\sim N\\left(\\mu_1,\\sigma_1^2\\right),\\qquad\\qquad\n",
                "    X_2\\sim N\\left(\\mu_2,\\sigma_2^2\\right)\n",
                "    $$\n",
                "    \n",
                "    * \u3053\u306e\u8868\u8a18\u304b\u3089\u306f\uff12\u3064\u306e\u78ba\u7387\u5909\u6570\u306b\u4f55\u3089\u304b\u306e\u95a2\u4fc2\u6027\u304c\u5b58\u5728\u3059\u308b\u304b\u3069\u3046\u304b\u4e0d\u660e\u3067\u3042\u308b\u304c\uff0c\u901a\u5e38\u3053\u306e\u5834\u5408\uff0c$X_1$\u3068$X_2$\u306f\u300c\u72ec\u7acb\u300d\u3068\u53d7\u3051\u53d6\u3089\u308c\u308b\u3002\n",
                "    \n",
                "* \u3053\u306e\uff12\u3064\u306e\u5909\u6570\u306b\u300c\u4f55\u3089\u304b\u306e\u95a2\u4fc2\u6027\u300d\u3092\u660e\u78ba\u306b\u3059\u308b\u305f\u3081\u306b\uff0c\u6b21\u306e\u3088\u3046\u306b\u307e\u3068\u3081\u3066\u66f8\u304f\uff1a\n",
                "\n",
                "    $$\n",
                "    \\begin{bmatrix}\n",
                "        X_1\\\\X_2\n",
                "    \\end{bmatrix}\n",
                "    \\sim\n",
                "    N\\left(\n",
                "    \\begin{bmatrix}\n",
                "        \\mu_1\\\\ \\mu_2\n",
                "    \\end{bmatrix}\n",
                "    ,\n",
                "    \\begin{bmatrix}\n",
                "        \\sigma_1^2,&\\sigma_{12}\\\\\n",
                "        \\sigma_{21},& \\sigma_2^2    \n",
                "    \\end{bmatrix}\n",
                "    \\right)\n",
                "    $$\n",
                "\n",
                "    \u3082\u3057\u304f\u306f\n",
                "\n",
                "    $$\n",
                "    X\\sim N\\left(\\mu_X,\\Sigma_X\\right)\n",
                "    $$\n",
                "\n",
                "    * $X$\uff1a\u78ba\u7387\u5909\u6570\u306e\u30d9\u30af\u30c8\u30eb $\\left(X_1,X_2\\right)^T$\uff08$T$\u306f\u300c\u7f6e\u63db\u3059\u308b\u300d\u3068\u3044\u3046\u610f\u5473\u3067\uff0c\u5217\u30d9\u30af\u30c8\u30eb\u306b\u3057\u3066\u3044\u308b\uff09\n",
                "    * $\\mu_X$\uff1a\u5e73\u5747\u306e\u30d9\u30af\u30c8\u30eb $\\left(\\mu_1,\\mu_2\\right)^T$\n",
                "    * $\\Sigma_X$\uff1a\u5206\u6563\u5171\u5206\u6563\u884c\u5217\n",
                "    \n",
                "        $$\n",
                "        \\Sigma_X=\n",
                "        \\begin{pmatrix}\n",
                "            \\sigma_1^2,&\\sigma_{12}\\\\\n",
                "            \\sigma_{21},& \\sigma_2^2\n",
                "        \\end{pmatrix}\n",
                "        $$\n",
                "        \n",
                "         * $\\sigma_{12}=\\sigma_{21}$\u306f$X_1$\u3068$X_2$\u306e\u5171\u5206\u6563\n",
                "         * \u4e0a\u3067\u300c\u4f55\u3089\u304b\u306e\u95a2\u9023\u6027\u300d\u3068\u66f8\u3044\u305f\u304c\uff0c\u305d\u308c\u3092$\\sigma_{12}$\u304c\u6349\u3048\u3066\u3044\u308b\u3002\n",
                "\n",
                "\uff08\u5171\u5206\u6563\u306e\u89e3\u91c8\uff09\n",
                "* $\\sigma_{12}=0$\uff1a$X_1$\u3068$X_2$\u306f\u72ec\u7acb\u3067\u3042\u308a\u4f55\u306e\u95a2\u4fc2\u3082\u306a\u3044\u3002\u5373\u3061\uff0c\n",
                "    $X_1\\sim N\\left(\\mu_1,\\sigma_1^2\\right),\\;X_2\\sim N\\left(\\mu_2,\\sigma_2^2\\right)$\n",
                "  \u3068\u5225\u3005\u306b\u66f8\u3044\u3066\u4f55\u306e\u554f\u984c\u3082\u306a\u3044\u3002\n",
                "* $\\sigma_{12}>0$\uff1a$X_1$\u3068$X_2$\u306f\u300c\u540c\u3058\u65b9\u5411\u300d\u306e\u5024\u304c\u62bd\u51fa\u3055\u308c\u308b\u50be\u5411\u306b\u3042\u308b\u3002\u4f8b\u3048\u3070\uff0c\u4e21\u8fba\u6570\u3068\u3082\u30d7\u30e9\u30b9\u306e\u5024\uff0c\u3082\u3057\u304f\u306f\u30de\u30a4\u30ca\u30b9\u306e\u5024\u3002$\\sigma_{12}$\u304c\u5927\u304d\u304f\u306a\u308c\u3070\uff0c\u305d\u306e\u50be\u5411\u306f\u3088\u308a\u5f37\u304f\u306a\u308b\u3002\uff08\u6ce8\u610f\uff1a\u3053\u308c\u306f\u50be\u5411\u3067\u3042\u308a\uff0c\u5fc5\u305a\u305d\u3046\u306f\u306a\u3089\u306a\u3044\uff09\n",
                "* $\\sigma_{12}<0$\uff1a$X_1$\u3068$X_2$\u306f\u300c\u9006\u65b9\u5411\u300d\u306e\u5024\u304c\u62bd\u51fa\u3055\u308c\u308b\u50be\u5411\u306b\u3042\u308b\u3002\u4f8b\u3048\u3070\uff0c$X_1$\u306f\u30d7\u30e9\u30b9\u306e\u5024\u3067$X_2$\u306f\u30de\u30a4\u30ca\u30b9\u306e\u5024\uff0c\u3082\u3057\u304f\u306f\u305d\u306e\u53cd\u5bfe\u3002$\\sigma_{12}$\u306e\u7d76\u5bfe\u5024\u304c\u5927\u304d\u304f\u306a\u308c\u3070\uff0c\u305d\u306e\u50be\u5411\u306f\u3088\u308a\u5f37\u304f\u306a\u308b\u3002\uff08\u6ce8\u610f\uff1a\u3053\u308c\u306f\u50be\u5411\u3067\u3042\u308a\uff0c\u5fc5\u305a\u305d\u3046\u306f\u306a\u3089\u306a\u3044\uff09"
            ]
        },
        {
            "cell_type": "markdown",
            "metadata": {},
            "source": [
                "## \u6a19\u672c\u306e\u7279\u5fb4\u3092\u793a\u3059\u6570\u5024\u7684\u5c3a\u5ea6"
            ]
        },
        {
            "cell_type": "markdown",
            "metadata": {},
            "source": [
                "\u6bcd\u96c6\u56e3\u304b\u3089\u6a19\u672c\u3092\u7121\u4f5c\u70ba\u306b\uff11\u3064\u30c7\u30fc\u30bf\u3092\u62bd\u51fa\u3059\u308b\u3068\u3057\u3088\u3046\u3002\u305d\u306e\u5834\u5408\uff0c\n",
                "* \u6bcd\u96c6\u56e3 \uff1d \u5b9f\u73fe\u53ef\u80fd\u306a\u5024\u306e\u96c6\u5408\n",
                "* \u62bd\u51fa\u3059\u308b\u30c7\u30fc\u30bf \uff1d \u78ba\u7387\u5909\u6570\n",
                "* \u62bd\u51fa\u5f8c\u306e\u5024 \uff1d \u5b9f\u73fe\u5024\n",
                "\n",
                "\u3053\u306e\u5834\u5408\uff0c\u6a19\u672c\u306e\u5927\u304d\u3055\u306f\u6bcd\u96c6\u56e3\u3088\u308a\u5c0f\u3055\u3044\uff08\u6bcd\u96c6\u56e3\u306e\u5927\u304d\u3055\u304c2\u4ee5\u4e0a\u3068\u4eee\u5b9a\uff09\u3002"
            ]
        },
        {
            "cell_type": "markdown",
            "metadata": {},
            "source": [
                "\u4e0a\u3067\u306f\uff11\u3064\u306e\u30c7\u30fc\u30bf\u3060\u3051\u3092\u62bd\u51fa\u3092\u8003\u3048\u305f\u304c\uff0c\u901a\u5e38\u5b9f\u8a3c\u5206\u6790\u3067\u306f\u8907\u6570\u306e\u30c7\u30fc\u30bf\u3092\u6271\u3044\uff0c\u30c7\u30fc\u30bf\u306e\u7a2e\u985e\u306b\u3088\u3063\u3066\u6bcd\u96c6\u56e3\u306e\u5927\u304d\u3055\u3068\u6a19\u672c\u306e\u5927\u304d\u3055\u3092\u4ee5\u4e0b\u306e\u3088\u3046\u306b\u89e3\u91c8\u3059\u308b\u3053\u3068\u304c\u53ef\u80fd\u3067\u3042\u308b\u3002\n",
                "\n",
                "* \u6642\u7cfb\u5217\u30c7\u30fc\u30bf\n",
                "    * \u6642\u9593\u306f\u7121\u9650\u306b\u7d9a\u304f\u305f\u3081\uff0c\u7121\u9650\u306e\u6bcd\u96c6\u56e3\u304b\u3089\u306e\u6a19\u672c\u62bd\u51fa $\\Rightarrow$ \u6a19\u672c\u306e\u5927\u304d\u3055\u306f\u6bcd\u96c6\u56e3\u3088\u308a\u5c0f\u3055\u3044\u3002\n",
                "* \u6a2a\u65ad\u9762\u30c7\u30fc\u30bf\n",
                "    * \u591a\u304f\u306e\u5834\u5408\uff0c\u8cbb\u7528\u5bfe\u52b9\u679c\u304b\u3089\u6bcd\u96c6\u56e3\u304b\u3089\u4e00\u90e8\u3092\u6a19\u672c\u3092\u53ce\u96c6\u3059\u308b $\\Rightarrow$ \u6a19\u672c\u306e\u5927\u304d\u3055\u306f\u6bcd\u96c6\u56e3\u3088\u308a\u5c0f\u3055\u3044\u3002\n",
                "    * \u6bcd\u96c6\u56e3\u306e\u5927\u304d\u3055\u304c\u5c0f\u3055\u3044\u5834\u5408\uff0c\u6a19\u672c\u306e\u5927\u304d\u3055\u306f\u6bcd\u96c6\u56e3\u306e\u5927\u304d\u3055\u3068\u300c\u7b49\u3057\u3044\u300d\u30b1\u30fc\u30b9\u304c\u3042\u308b\u3002\n",
                "        * \u4f8b\u3048\u3070\uff0c2018\u5e74\u795e\u6238\u5927\u5b66\u7d4c\u6e08\u5b66\u90e8\u306e\u4e2d\u7d1a\u30de\u30af\u30ed\u7d4c\u6e08\u5b66I\u5b9a\u671f\u8a66\u9a13\u306e\u70b9\u6570\u306e\u5834\u5408\uff0c\u7d04300\u306e\u30c7\u30fc\u30bf\u3002\n",
                "        * \u3053\u306e\u5834\u5408\u3067\u3082\uff0c\u6a19\u672c\u306e\u5927\u304d\u3055\u306f\u6bcd\u96c6\u56e3\u3088\u308a\u5c0f\u3055\u3044\u3068\u8003\u3048\u308b\u3053\u3068\u304c\u3067\u304d\u308b\u3002\n",
                "            * \u3042\u308b\u5b66\u751f$i$\u3055\u3093\u306e\u70b9\u6570\u306f\u78ba\u7387\u5909\u6570\u3068\u89e3\u91c8\u3067\u304d\u308b\u3002\u305d\u306e\u5834\u5408\uff0c\u5b9f\u73fe\u53ef\u80fd\u306a\u5024\u306e\u96c6\u5408\uff08\u5c0f\u6570\u70b9\u306f\u7121\u8996\uff09\u306f\n",
                "                $\\left\\{0,1,2,3,....,97,98,99,100\\right\\}$\u3067\u3042\u308a\uff0c\u70b9\u6570\u306e\u7a2e\u985e\u306f101\u3042\u308b\u3002\u3053\u306e\u4e2d\u306a\u3089\uff11\u3064\u306e\u5024\u3060\u3051\u304c\u5b9f\u73fe\u5024\u3068\u3057\u3066\u89b3\u5bdf\u3055\u308c\u3066\u3044\u308b\u3002\u66f4\u306b\uff0c\u7d04300\u540d\u306e\u5b66\u751f\u304c\u8a66\u9a13\u3092\u53d7\u3051\u305f\u306e\u3067\uff0c\u6bcd\u96c6\u56e3\u306e\u5927\u304d\u3055\u306f\u7d04$101\\times 300=20200$\u3068\u306a\u308b\u3002"
            ]
        },
        {
            "cell_type": "markdown",
            "metadata": {},
            "source": [
                "\uff08\u300c\u6a19\u672c\u306e\u5927\u304d\u3055\u306f\u6bcd\u96c6\u56e3\u3088\u308a\u5c0f\u3055\u3044\u300d\u306e\u542b\u610f\uff09\n",
                "* \u6bcd\u96c6\u56e3\u306e\u30d1\u30e9\u30e1\u30fc\u30bf\u3092\u63a8\u5b9a\u3059\u308b\u305f\u3081\u306e\u6a19\u672c\u306e\u7d71\u8a08\u91cf\u306b\u306f\u5fc5\u305a**\u8aa4\u5dee**\u304c\u5b58\u5728\u3059\u308b\u3002\n",
                "\n",
                "\uff08\u30b3\u30e1\u30f3\u30c8\uff09\n",
                "\n",
                "\u6a19\u672c\u306e\u305d\u308c\u305e\u308c\u306e\u89b3\u6e2c\u5024\u304c\uff0c\u540c\u3058\u6bcd\u96c6\u56e3\u304b\u3089\u72ec\u7acb\u306b\uff08\u4ed6\u306e\u89b3\u6e2c\u5024\u3068\u306e\u4f55\u306e\u95a2\u9023\u6027\u3082\u306a\u304f\uff09\u62bd\u51fa\u3055\u308c\u305f\u5834\u5408\uff0c\u305d\u308c\u3089\u306f\n",
                "**\u72ec\u7acb\u540c\u4e00\u5206\u5e03\uff08idependently identically distributed;\u3000\u7565\u3057\u3066 IID\uff09**\n",
                "\u306b\u5f93\u3046\u3068\u3044\u3046\u3002\n",
                "\n",
                "---\n",
                "\uff08\u4ee5\u4e0b\u3067\u4f7f\u3046\u8a18\u53f7\uff09\n",
                "* \u6a19\u672c\u306e\u5927\u304d\u3055\uff1a$n$\n",
                "* $i$\u756a\u76ee\u306e\u78ba\u7387\u5909\u6570\uff1a$X_i$"
            ]
        },
        {
            "cell_type": "markdown",
            "metadata": {},
            "source": [
                "---\n",
                "**\u6a19\u672c\u5e73\u5747\uff08sample mean\uff09**\n",
                "* \u78ba\u7387\u5909\u6570\u306e\u6a19\u672c\u5e73\u5747\uff1a$\\bar{X}=\\dfrac{1}{n}\\displaystyle\\sum_{i=1}^nX_i$\n",
                "* \u6a19\u672c\u5e73\u5747\u306e\u5b9f\u73fe\u5024\uff1a$\\bar{x}=\\dfrac{1}{n}\\displaystyle\\sum_{i=1}^nx_i$\n",
                "\n",
                "\uff08\u7279\u5fb4\uff09\n",
                "* $\\bar{X}$\u306f\u6bcd\u96c6\u56e3\u5e73\u5747\u306e\u4e0d\u504f\u63a8\u5b9a\u91cf\n",
                "\n",
                "    $$\\text{E}(\\bar{X})=\\mu_X$$\n",
                "    \n",
                "* $\\bar{x}$\u306f\u305d\u306e\u63a8\u5b9a\u5024\u3002\n",
                "* $X_i$\u304cIID\u306e\u5834\u5408\u306e$\\bar{X}$\u306e\u5206\u6563\n",
                "\n",
                "    $$\n",
                "    \\text{Var}(\\bar{X})=\\dfrac{1}{n}\\sigma_{X}^2\n",
                "    $$\n",
                "    \n",
                "    * $n\\rightarrow\\infty\\;\\Rightarrow\\;\\text{Var}(\\bar{X})=0$"
            ]
        },
        {
            "cell_type": "markdown",
            "metadata": {},
            "source": [
                "---\n",
                "**\u6a19\u672c\u5206\u6563\uff08sample variance\uff09**\n",
                "* \u78ba\u7387\u5909\u6570\u306e\u6a19\u672c\u5206\u6563\uff1a$\\hat{\\sigma}_X^2=\\dfrac{1}{n-1}\\displaystyle\\sum_{i=1}^n\\left(X_i-\\bar{X}\\right)^2$\n",
                "* \u6a19\u672c\u5206\u6563\u306e\u5b9f\u73fe\u5024\uff1a$\\hat{\\sigma}_x^2=\\dfrac{1}{n-1}\\displaystyle\\sum_{i=1}^n\\left(x_i-\\bar{x}\\right)^2$\n",
                "\n",
                "\uff08\u7279\u5fb4\uff09\n",
                "* $\\hat{\\sigma}_X^2$\u306f\u6bcd\u96c6\u56e3\u5206\u6563\u306e\u4e0d\u504f\u63a8\u5b9a\u91cf\n",
                "* $\\hat{\\sigma}_x^2$\u306f\u305d\u306e\u63a8\u5b9a\u5024\n",
                "\n",
                "\uff08\u6ce8\u610f\uff09\n",
                "* \u5206\u6bcd\u306f $n-1$\u3067\u3042\u308a\uff0c\u3053\u308c\u306b\u3088\u308a$\\hat{\\sigma}_X$\u306f\u6bcd\u96c6\u56e3\u5206\u6563\u306e\u4e0d\u504f\u63a8\u5b9a\u91cf\u3068\u306a\u308b\u3002"
            ]
        },
        {
            "cell_type": "markdown",
            "metadata": {},
            "source": [
                "---\n",
                "**\u6a19\u672c\u5e73\u5747\u306e\u5206\u6563**\n",
                "* \u78ba\u7387\u5909\u6570\u306e\u6a19\u672c\u5e73\u5747\u306e\u5206\u6563$\\text{Var}(\\bar{X})=\\dfrac{1}{n}\\sigma_X^2$\u306b\u3042\u308b$\\sigma_X^2$\u306f\u6bcd\u96c6\u56e3\u306e\u5206\u6563\u3067\u3042\u308a\u89b3\u6e2c\u4e0d\u53ef\u80fd\u3002\u5f93\u3063\u3066\uff0c\u63a8\u5b9a\u3059\u308b\u5fc5\u8981\u304c\u3042\u308b\u3002\u305d\u306e\u63a8\u5b9a\u91cf\u3068\u3057\u3066$\\hat{\\sigma}_X$\u3092\u4f7f\u3046\u3002\n",
                "\n",
                "    $$\n",
                "    \\widehat{\\text{Var}(\\bar{X})}=\\frac{1}{n}\\hat{\\sigma}_X^2\n",
                "    $$\n",
                "    \n",
                "* \u4ee5\u4e0b\u3092\u6a19\u6e96\u8aa4\u5dee\u3068\u547c\u3076\n",
                "\n",
                "    $$\n",
                "    \\text{SE}(\\bar{X})=\\sqrt{\\widehat{\\text{Var}(\\bar{X})}}=\\frac{\\hat{\\sigma}_X}{\\sqrt{n}}\n",
                "    $$\n",
                "    \n",
                "    * \u6bcd\u96c6\u56e3\u5e73\u5747\u306e\u63a8\u5b9a\u91cf$\\bar{X}$\u306b\u306f\u8aa4\u5dee\u304c\u3042\u308a\uff0c\u305d\u306e\u6b63\u78ba\u6027\u3092\u793a\u3059\u3002"
            ]
        },
        {
            "cell_type": "markdown",
            "metadata": {},
            "source": [
                "---\n",
                "**\u6a19\u672c\u6a19\u6e96\u504f\u5dee**\n",
                "\n",
                "* \u78ba\u7387\u5909\u6570\u306e\u6a19\u672c\u6a19\u6e96\u504f\u5dee\uff1a$\\hat{\\sigma}_X$\n",
                "* \u6a19\u672c\u6a19\u6e96\u504f\u5dee\u306e\u5b9f\u73fe\u5024\uff1a$\\hat{\\sigma}_x$\n",
                "\n",
                "\uff08\u6ce8\u610f\uff09\n",
                "* $\\hat{\\sigma}_X$\u306f\u6bcd\u96c6\u56e3\u6a19\u6e96\u504f\u5dee\u306e\u4e0d\u504f\u63a8\u5b9a\u91cf\u3067\u306f**\u306a\u3044**"
            ]
        },
        {
            "cell_type": "markdown",
            "metadata": {},
            "source": [
                "---\n",
                "**\u6a19\u672c\u5171\u5206\u6563**\n",
                "* \u78ba\u7387\u5909\u6570\u306e\u5171\u5206\u6563\n",
                "\n",
                "    $$\n",
                "    \\hat{\\sigma}_{XY}=\\frac{1}{n-1}\\sum_{i=1}^{n}\\left(X_i-\\bar{X}\\right)\\left(Y_i-\\bar{Y}\\right)\n",
                "    $$\n",
                "    \n",
                "* \u5171\u5206\u6563\u306e\u5b9f\u73fe\u5024\n",
                "\n",
                "    $$\n",
                "    \\hat{\\sigma}_{xy}=\\frac{1}{n-1}\\sum_{i=1}^{n}\\left(x_i-\\bar{x}\\right)\\left(y_i-\\bar{y}\\right)\n",
                "    $$\n",
                "\n",
                "\uff08\u6ce8\u610f\uff09\n",
                "* \u5206\u6bcd\u306f $n-1$\u3067\u3042\u308a\uff0c\u3053\u308c\u306b\u3088\u308a$\\hat{\\sigma}_X$\u306f\u6bcd\u96c6\u56e3\u5171\u5206\u6563\u306e\u4e0d\u504f\u63a8\u5b9a\u91cf\u3068\u306a\u308b\u3002"
            ]
        },
        {
            "cell_type": "markdown",
            "metadata": {},
            "source": [
                "---\n",
                "**\u6a19\u672c\u76f8\u95a2\u4fc2\u6570**\n",
                "* \u78ba\u7387\u5909\u6570\u306e\u76f8\u95a2\u4fc2\u6570\n",
                "\n",
                "$$r_{XY}=\\dfrac{\\hat{\\sigma}_{XY}}{\\hat{\\sigma}_X\\cdot\\hat{\\sigma}_Y}$$\n",
                "\n",
                "* \u76f8\u95a2\u4fc2\u6570\u306e\u5b9f\u73fe\u5024\n",
                "\n",
                "$$r_{xy}=\\dfrac{\\hat{\\sigma}_{xy}}{\\hat{\\sigma}_x\\cdot\\hat{\\sigma}_y}$$\n",
                "\n",
                "\uff08\u6ce8\u610f\uff09\n",
                "* $r_{XY}$\u306f\u6bcd\u96c6\u56e3\u76f8\u95a2\u4fc2\u6570\u306e\u4e0d\u504f\u63a8\u5b9a\u91cf\u3067\u306f**\u306a\u3044**"
            ]
        },
        {
            "cell_type": "code",
            "execution_count": null,
            "metadata": {},
            "outputs": [],
            "source": []
        }
    ],
    "metadata": {
        "celltoolbar": "Tags",
        "kernel_info": {
            "name": "python3"
        },
        "kernelspec": {
            "display_name": "latest",
            "language": "python",
            "name": "latest"
        },
        "language_info": {
            "codemirror_mode": {
                "name": "ipython",
                "version": 3
            },
            "file_extension": ".py",
            "mimetype": "text/x-python",
            "name": "python",
            "nbconvert_exporter": "python",
            "pygments_lexer": "ipython3",
            "version": "3.8.2"
        },
        "nteract": {
            "version": "0.15.0"
        },
        "toc": {
            "base_numbering": 1,
            "nav_menu": {},
            "number_sections": true,
            "sideBar": true,
            "skip_h1_title": false,
            "title_cell": "Table of Contents",
            "title_sidebar": "Contents",
            "toc_cell": false,
            "toc_position": {},
            "toc_section_display": true,
            "toc_window_display": false
        }
    },
    "nbformat": 4,
    "nbformat_minor": 2
}