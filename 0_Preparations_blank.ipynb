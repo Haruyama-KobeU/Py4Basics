{
    "cells": [
        {
            "cell_type": "markdown",
            "metadata": {},
            "source": [
                "# \u6e96\u5099\uff1a\u30a4\u30f3\u30b9\u30c8\u30fc\u30eb\u3068\u30c4\u30fc\u30eb\u306e\u7c21\u5358\u306a\u8aac\u660e"
            ]
        },
        {
            "cell_type": "markdown",
            "metadata": {
                "heading_collapsed": true
            },
            "source": [
                "## \u8aac\u660e"
            ]
        },
        {
            "cell_type": "markdown",
            "metadata": {
                "hidden": true
            },
            "source": [
                "`Python`\u306e\u30a4\u30f3\u30b9\u30c8\u30fc\u30eb\u3068\u95a2\u9023\u30c4\u30fc\u30eb\u306b\u3064\u3044\u3066\u7c21\u5358\u306a\u8aac\u660e\u3092\u3059\u308b\u3002\n",
                "* `Atom`\u306e\u30a4\u30f3\u30b9\u30c8\u30fc\u30eb\n",
                "* `Python`\u306e\u30a4\u30f3\u30b9\u30c8\u30fc\u30eb\n",
                "* `Git`\u306e\u30a4\u30f3\u30b9\u30c8\u30fc\u30eb\n",
                "* `Terminal`\uff08Mac\uff09\u3068`Git Bash`\uff08Windows\uff09\u306e\u4f7f\u3044\u65b9\n",
                "* `Git`\u306e\u30a4\u30f3\u30b9\u30c8\u30fc\u30eb\u306e\u78ba\u8a8d\u3068\u8a2d\u5b9a\n",
                "* `Python`\u306e\u30a4\u30f3\u30b9\u30c8\u30fc\u30eb\u306e\u78ba\u8a8d\u3068\u8a2d\u5b9a\n",
                "* `GitHub`\u306e\u8a2d\u5b9a\n",
                "* `pip`\u3092\u4f7f\u3046\u30d1\u30c3\u30b1\u30fc\u30b8\u306e\u30a4\u30f3\u30b9\u30c8\u30fc\u30eb\n",
                "* `Jupyter Notebook`\u306e\u4f7f\u3044\u65b9\n",
                "\n",
                "\u307e\u305f\u6b21\u306e\u70b9\u306b\u3064\u3044\u3066\u3082\u8ff0\u3079\u308b\u3002\n",
                "* \u30bc\u30df\u7d42\u4e86\u5f8c\u6bce\u56de\u304a\u3053\u306a\u3046\u4f5c\u696d"
            ]
        },
        {
            "cell_type": "markdown",
            "metadata": {
                "hidden": true
            },
            "source": [
                "---\n",
                "\uff1c\uff1c \u4ee5\u4e0b\u306e\u8aac\u660e\u306b\u304a\u3051\u308b\u7528\u8a9e\u8aac\u660e \uff1e\uff1e\n",
                "* `Terminal`\u3068`Git Bash`\u3067\u306f\u30b3\u30de\u30f3\u30c9\u3092\u5165\u529b\u3059\u308b\u884c\u306b`$`\u304c\u8868\u793a\u3055\u308c\u308b\u3002\n",
                "* \u300c\u30b3\u30de\u30f3\u30c9\u5165\u529b\u300d\u3068\u306f`$`\u306e\u5f8c\u306b\u30b3\u30de\u30f3\u30c9\u3092\u30bf\u30a4\u30d7\u3059\u308b\u3053\u3068\u3002\n",
                "* \u300c\u5b9f\u884c\u300d\u3068\u306fEnter/Return\u30ad\u30fc\u3092\u62bc\u3059\u3053\u3068\u3002"
            ]
        },
        {
            "cell_type": "markdown",
            "metadata": {
                "heading_collapsed": true
            },
            "source": [
                "## `Atom`\u306e\u30a4\u30f3\u30b9\u30c8\u30fc\u30eb"
            ]
        },
        {
            "cell_type": "markdown",
            "metadata": {
                "hidden": true
            },
            "source": [
                "`Atom`\u306f\u30c6\u30ad\u30b9\u30c8\u30fb\u30d5\u30a1\u30a4\u30eb\u3092\u7de8\u96c6\u3059\u308b`Text Editor`\u3068\u547c\u3070\u308c\u308b\u6709\u540d\u306a\u30a2\u30d7\u30ea\u306e\uff11\u3064\u3067\u3059\u3002\u6388\u696d\u3067\u306e\u6d3b\u8e8d\u306e\u5834\u306f\u591a\u304f\u3042\u308a\u307e\u305b\u3093\u304c\uff0c\u4eca\u306e\u3046\u3061\u306b\u6163\u308c\u308b\u306e\u3082\u826f\u3044\u304b\u3068\u601d\u3044\u307e\u3059\u3002\n",
                "\n",
                "[\u3053\u306e\u30ea\u30f3\u30af\u304b\u3089](https://atom.io)\u304b\u3089\u30c0\u30a6\u30f3\u30ed\u30fc\u30c9\u3057\uff0c\u30a4\u30f3\u30b9\u30c8\u30fc\u30eb\u3057\u307e\u3057\u3087\u3046\u3002"
            ]
        },
        {
            "cell_type": "markdown",
            "metadata": {
                "heading_collapsed": true
            },
            "source": [
                "## `Python`\u306e\u30a4\u30f3\u30b9\u30c8\u30fc\u30eb"
            ]
        },
        {
            "cell_type": "markdown",
            "metadata": {
                "hidden": true
            },
            "source": [
                "`Anaconda`\u3068\u306f`Python`\u3068\u5e83\u304f\u4f7f\u308f\u308c\u308b\u30d1\u30c3\u30b1\u30fc\u30b8\u3092\u4e00\u62ec\u3067\u30c0\u30a6\u30f3\u30ed\u30fc\u30c9\u30fb\u30a4\u30f3\u30b9\u30c8\u30fc\u30eb\u3067\u304d\u308b\u30d7\u30e9\u30c3\u30c8\u30d5\u30a9\u30fc\u30e0\u3067\u3042\u308b\u3002\uff08\u30d1\u30c3\u30b1\u30fc\u30b8\u306b\u3064\u3044\u3066\u306f`Python Basics`\u3067\u8aac\u660e\u3059\u308b\u3002\uff09\n",
                "* \u4ee5\u4e0b\u306e\u30ea\u30f3\u30af\u304b\u3089Mac\u7528\u3082\u3057\u304f\u306fWindows\u7528\u306e\u30a4\u30f3\u30b9\u30c8\u30fc\u30e9\u30fc\u3092\u30c0\u30a6\u30f3\u30ed\u30fc\u30c9\u3059\u308b\u3002\n",
                "    * [\u3053\u306e\u30b5\u30a4\u30c8](https://www.anaconda.com/distribution/#download-section:)\n",
                "    * \u5fc5\u305a`Python 3.x version`\u3092\u9078\u3076\u3053\u3068\u3002\n",
                "* `Anaconda`\u306e\u30a4\u30f3\u30b9\u30c8\u30fc\u30e9\u30fc\u306e\u6307\u793a\u306b\u5f93\u3044\u30c7\u30d5\u30a9\u30eb\u30c8\u3067\u30a4\u30f3\u30b9\u30c8\u30fc\u30eb\u3059\u308b\u3002"
            ]
        },
        {
            "cell_type": "markdown",
            "metadata": {
                "heading_collapsed": true
            },
            "source": [
                "## `Git`\u306e\u30a4\u30f3\u30b9\u30c8\u30fc\u30eb"
            ]
        },
        {
            "cell_type": "markdown",
            "metadata": {
                "hidden": true
            },
            "source": [
                "* `Git`\u3068\u306fPC\u5185\u3067\u30b3\u30fc\u30c9\u306e\u5c65\u6b74\u7ba1\u7406\u3092\u304a\u3053\u306a\u3046\u3053\u3068\u306b\u3088\u308a\u30d5\u30a1\u30a4\u30eb\u306e\u904e\u53bb\u306e\u30d0\u30fc\u30b8\u30e7\u30f3\u306e\u95b2\u89a7\u3084\u5fa9\u5143\u306a\u3069\u3092\u53ef\u80fd\u306b\u3059\u308b\u30a2\u30d7\u30ea\u3002\u7279\u306b\uff0c\u4ee5\u4e0b\u3067\u8aac\u660e\u3059\u308b`GitHub`\u3068\u4e00\u7dd2\u306b\u4f7f\u3046\u3053\u3068\u306b\u3088\u308a\uff0c\u8907\u6570\u4eba\u3068\u5171\u540c\u4f5c\u696d\u3059\u308b\u5834\u5408\u306b\u6b20\u304b\u305b\u306a\u3044\u30a2\u30d7\u30ea\u3067\u3042\u308b\u3002\n",
                "* Mac\u3068Windows\u3092\u5225\u3005\u306b\u8aac\u660e\u3059\u308b\u3002"
            ]
        },
        {
            "cell_type": "markdown",
            "metadata": {
                "heading_collapsed": true,
                "hidden": true
            },
            "source": [
                "### Mac"
            ]
        },
        {
            "cell_type": "markdown",
            "metadata": {
                "hidden": true
            },
            "source": [
                "* Mac\u306b\u306f\u5143\u3005\u30a4\u30f3\u30b9\u30c8\u30fc\u30eb\u3055\u308c\u3066\u3044\u308b\u306e\u3067\u518d\u30a4\u30f3\u30b9\u30c8\u30fc\u30eb\u3059\u308b\u5fc5\u8981\u306f\u306a\u3044\u3002\n",
                "* \u30b3\u30de\u30f3\u30c9\u30e9\u30a4\u30f3\u30fb\u30c7\u30d9\u30ed\u30c3\u30d1\u30fb\u30c4\u30fc\u30eb\n",
                "    * \u6b21\u306e\u30e1\u30c3\u30bb\u30fc\u30b8\u306e\u30dd\u30c3\u30d7\u30a2\u30c3\u30d7\u30fb\u30a6\u30a3\u30f3\u30c9\u30a6\u304c\u8868\u793a\u3055\u308c\u308b\u5834\u5408\uff0c\u300c\u30a4\u30f3\u30b9\u30c8\u30fc\u30eb\u300d\u3092\u30af\u30ea\u30c3\u30af\u3059\u308b\u3053\u3068\u3002\n",
                "        ```\n",
                "       git\u30b3\u30de\u30f3\u30c9\u3092\u5b9f\u884c\u3059\u308b\u306b\u306f\uff0c\u30b3\u30de\u30f3\u30c9\u30e9\u30a4\u30f3\u30fb\u30c7\u30d9\u30ed\u30c3\u30d1\u30fb\u30c4\u30fc\u30eb\u304c\u5fc5\u8981\u3067\u3059\u3002\u30c4\u30fc\u30eb\u3092\u4eca\u3059\u3050\u30a4\u30f3\u30b9\u30c8\u30fc\u30eb\u3057\u307e\u3059\u304b\uff1f\"\u3000\u300c\u30a4\u30f3\u30b9\u30c8\u30fc\u30eb\u300d\u30dc\u30bf\u30f3\u3092\u30af\u30ea\u30c3\u30af\n",
                "        ```\n",
                "    * \u4ee5\u4e0b\u3067\u8aac\u660e\u3059\u308b`Terminal`\u3067\u6b21\u306e\u30b3\u30de\u30f3\u30c9\u3092\u5b9f\u884c\u3057\u3066\u30a4\u30f3\u30b9\u30c8\u30fc\u30eb\u3059\u308b\u3053\u3068\u3082\u3067\u304d\u308b\u3002\n",
                "        ```\n",
                "        $ xcode-select \u2014-install\n",
                "        ```"
            ]
        },
        {
            "cell_type": "markdown",
            "metadata": {
                "hidden": true
            },
            "source": [
                "### Windows"
            ]
        },
        {
            "cell_type": "markdown",
            "metadata": {
                "hidden": true
            },
            "source": [
                "* [\u3053\u306e\u30b5\u30a4\u30c8](https://git-scm.com)\u304b\u3089`Git`\u3092\u30c0\u30a6\u30f3\u30ed\u30fc\u30c9\u3059\u308b\u3002\n",
                "* \u30c0\u30a6\u30f3\u30ed\u30fc\u30c9\u3057\u305f\u30d5\u30a1\u30a4\u30eb\u3092\u8d77\u52d5\u3057\u30a4\u30f3\u30b9\u30c8\u30fc\u30eb\u3059\u308b\u3002\n",
                "    * `Next`\u3092\u62bc\u3057\u3066\u3044\u304f\u3068\u69d8\u3005\u306a\u30aa\u30d7\u30b7\u30e7\u30f3\u304c\u51fa\u3066\u304f\u308b\u304c\u6b21\u306e\u9805\u76ee\u4ee5\u5916\u306f\u3059\u3079\u3066\u30c7\u30d5\u30a9\u30eb\u30c8\u3092\u9078\u629e\u3059\u308b\u3002\n",
                "    * `Choosing the default editor used by Git`\u306e\u753b\u9762\u304c\u51fa\u3066\u304f\u308b\u306e\u3067\uff0c\u305d\u306e\u30ea\u30b9\u30c8\u306e\u4e2d\u306b\u4f7f\u3046Editor\u304c\u3042\u308c\u3070\uff08\u4f8b\u3048\u3070\u3001`Atom`\u3092\u9078\u629e\u3057\u3001\u7121\u3051\u308c\u3070`Use the Nano editor by default`\u3092\u9078\u629e\u3059\u308b\u3002"
            ]
        },
        {
            "cell_type": "markdown",
            "metadata": {
                "heading_collapsed": true
            },
            "source": [
                "## `Terminal`\uff08Mac\uff09\u3068`Git Bash`\uff08Windows\uff09"
            ]
        },
        {
            "cell_type": "markdown",
            "metadata": {
                "hidden": true
            },
            "source": [
                "* `Mac`\u306b\u306f`Terminal`\u304c\u3082\u3068\u3082\u3068\u30a4\u30f3\u30b9\u30c8\u30fc\u30eb\u3055\u308c\u3066\u3044\u308b\u3002\n",
                "* `Windows`\u306b`Git`\u3092\u30a4\u30f3\u30b9\u30c8\u30fc\u30eb\u3059\u308b\u969b\uff0c`Git Bash`\u306f\u4e00\u7dd2\u306b\u81ea\u52d5\u3067\u30a4\u30f3\u30b9\u30c8\u30fc\u30eb\u3055\u308c\u308b\u3002\n",
                "* `Terminal`\u3068`Git Bash`\u306f\uff0c\u30b3\u30de\u30f3\u30c9\uff08\u4f8b\u3048\u3070\uff0c`ls`\uff09\u3092\u5165\u529b\u3057\uff0c\u305d\u306e\u30b3\u30de\u30f3\u30c9\u3092\u5b9f\u884c\u3059\u308b\u3053\u3068\u306b\u3088\u308aPC\u3092\u5236\u5fa1\u3059\u308b\u3002\u3053\u308c\u3089\u3092\u4f7f\u3046\u7406\u7531\u306f`CLI`\uff08Command Line Interface\uff09\u3092\u901a\u3057\u3066`Git`\u3068`Github`\u3092\u4f7f\u3046\u305f\u3081\u3067\u3042\u308b\u3002\n",
                "\n",
                "\uff08\u30b3\u30e1\u30f3\u30c8\uff09\n",
                "* Windows\u3067\u306f`Anaconda Prompt`\u3082\u4f7f\u3046\u3053\u3068\u304c\u3067\u304d\u308b\u304c\uff0c\u3053\u3053\u3067\u306f`Git Bash`\u3060\u3051\u3092\u53d6\u308a\u4e0a\u3052\u308b\u3002\n",
                "* `Git Bash`\u306f\uff0c`Windows`\u3067\u3082`Mac`\u306e`Terminal`\u3068\u540c\u3058`CLI`\u304c\u4f7f\u3048\u308b\u3088\u3046\u306b\u958b\u767a\u3055\u308c\u305f\u3082\u306e\u306a\u306e\u3067\uff0c\u30b3\u30de\u30f3\u30c9\uff08\u6b21\u306e\u300c\uff13\u7a2e\u306e\u30b3\u30de\u30f3\u30c9\u300d\u3082\u542b\u3081\u3066\uff09\u306f\u5171\u901a\u3067\u3042\u308b\u3002"
            ]
        },
        {
            "cell_type": "markdown",
            "metadata": {
                "heading_collapsed": true,
                "hidden": true
            },
            "source": [
                "### \u300c\uff13\u7a2e\u306e\u30b3\u30de\u30f3\u30c9\u300d"
            ]
        },
        {
            "cell_type": "markdown",
            "metadata": {
                "hidden": true
            },
            "source": [
                "\u4ee5\u4e0b\u3067\u306f\u5fc5\u9808\u306e3\u3064\u306e\u30b3\u30de\u30f3\u30c9\u306b\u3064\u3044\u3066\u8aac\u660e\u3059\u308b\u3002"
            ]
        },
        {
            "cell_type": "markdown",
            "metadata": {
                "heading_collapsed": true,
                "hidden": true
            },
            "source": [
                "#### `pwd`"
            ]
        },
        {
            "cell_type": "markdown",
            "metadata": {
                "hidden": true
            },
            "source": [
                "\u30cf\u30fc\u30c9\u30c7\u30a3\u30b9\u30af\u306b\u3042\u308b\u30d5\u30a1\u30a4\u30eb\u306f\u968e\u5c64\u69cb\u9020\u306b\u306a\u3063\u3066\u3044\u308b\u30d5\u30a9\u30eb\u30c0\u30fc\uff08\u30c7\u30a3\u30ec\u30af\u30c8\u30ea\u3068\u3082\u547c\u3070\u308c\u308b\uff09\u306b\u4fdd\u5b58\u3055\u308c\u3066\u3044\u308b\u3002`Terminal`\u81ea\u4f53\u304c\u300c\u4f4d\u7f6e\u3059\u308b\u300d\u30d5\u30a9\u30eb\u30c0\u30fc\u3092\u30ab\u30ec\u30f3\u30c8\u30fb\u30c7\u30a3\u30ec\u30af\u30c8\u30ea\uff08Current Directory\uff09\u3068\u547c\u3073\uff0c\u305d\u308c\u3092\u8868\u793a\u3059\u308b\u305f\u3081\u306e\u30b3\u30de\u30f3\u30c9\u304c`pwd`\uff08Print Working Directory\u306e\u7565\uff09\u3067\u3042\u308b\u3002\n",
                "```\n",
                "$ pwd\n",
                "```\n",
                "\u3092\u5b9f\u884c\u3059\u308b\u3068\u30ab\u30ec\u30f3\u30c8\u30fb\u30c7\u30a3\u30ec\u30af\u30c8\u30ea\u304c\u8868\u793a\u3055\u308c\u308b\u3002\n",
                "```\n",
                "/Users/myName/folder1/folder2\n",
                "```\n",
                "\u3053\u306e\u4f8b\u3067\u306f\uff0c\u30ab\u30ec\u30f3\u30c8\u30fb\u30c7\u30a3\u30ec\u30af\u30c8\u30ea\u306f`folder2`\u3068\u306a\u3063\u3066\u3044\u308b\u3002"
            ]
        },
        {
            "cell_type": "markdown",
            "metadata": {
                "heading_collapsed": true,
                "hidden": true
            },
            "source": [
                "#### `ls`"
            ]
        },
        {
            "cell_type": "markdown",
            "metadata": {
                "hidden": true
            },
            "source": [
                "\u30ab\u30ec\u30f3\u30c8\u30fb\u30c7\u30a3\u30ec\u30af\u30c8\u30ea\u306b\u3042\u308b\u30d5\u30a1\u30a4\u30eb\u3084\u30d5\u30a9\u30eb\u30c0\u30fc\u3092\u8868\u793a\u3059\u308b\u30b3\u30de\u30f3\u30c9\u3002`ls`\uff08list\u306e\u7565\uff09\u306e\u5f8c\u306b\u30aa\u30d7\u30b7\u30e7\u30f3\u3092\u4ed8\u3051\u308b\u3053\u3068\u3082\u3067\u304d\u308b\u3002\n",
                "```\n",
                "$ ls      # \u30d5\u30a1\u30a4\u30eb\u3084\u30d5\u30a9\u30eb\u30c0\u30fc\u306e\u8868\u793a\n",
                "$ ls -a  # \u96a0\u3057\u30d5\u30a1\u30a4\u30eb\u3068\u96a0\u3057\u30d5\u30a9\u30eb\u30c0\u30fc\u3082\u542b\u3081\u3066\u8868\u793a\n",
                "```\n",
                "\u3053\u3053\u3067\u96a0\u3057\u30d5\u30a1\u30a4\u30eb\u3068\u96a0\u3057\u30d5\u30a9\u30eb\u30c0\u30fc\u3068\u306f\uff0c\u540d\u524d\u304c`.`\u3067\u59cb\u307e\u308b\u3082\u306e\u3067\u3042\u308a\uff0c\u901a\u5e38\u306f\u898b\u3048\u306a\u304f\u306a\u3063\u3066\u3044\u308b\u3002\n",
                "\n",
                "---\n",
                "\uff1c\u30b3\u30e1\u30f3\u30c8\uff1e\n",
                "* `Mac`\u306e`Finder`\u3067 `Command + Shift + .`\u3068\u3059\u308b\u3068\u96a0\u3057\u30d5\u30a1\u30a4\u30eb\u3068\u96a0\u3057\u30d5\u30a9\u30eb\u30c0\u30fc\u306e\u8868\u793a\u30fb\u975e\u8868\u793a\u3092\u30c8\u30b0\u30eb\u3067\u304d\u308b\u3002"
            ]
        },
        {
            "cell_type": "markdown",
            "metadata": {
                "heading_collapsed": true,
                "hidden": true
            },
            "source": [
                "#### `cd`"
            ]
        },
        {
            "cell_type": "markdown",
            "metadata": {
                "hidden": true
            },
            "source": [
                "`cd`\uff08Change Directory\u306e\u7565\uff09\u306f\uff0c\u30ab\u30ec\u30f3\u30c8\u30fb\u30c7\u30a3\u30ec\u30af\u30c8\u30ea\u30fc\u3092\u4ed6\u306e\u30d5\u30a9\u30eb\u30c0\u30fc\u306b\u79fb\u3059\u5834\u5408\u306b\u4f7f\u3046\u30b3\u30de\u30f3\u30c9\u3002\u3053\u3053\u3067\u306e\u8aac\u660e\u306f\u300c\u76f8\u5bfe\u30d1\u30b9\u300d\u3092\u4f7f\u3046\u3002\u57fa\u672c\u7684\u306a\u4f7f\u3044\u65b9\u306f\n",
                "```\n",
                "$ cd \uff1c\u79fb\u52d5\u3057\u305f\u3044\u30d5\u30a9\u30eb\u30c0\u30fc\u540d\uff1e\n",
                "```\n",
                "\u306e\u5f62\u3067\u3042\u308b\u3002\u4e0a\u306e\u4f8b\u3092\u8003\u3048\u3088\u3046\u3002\n",
                "* \u4e0b\u306e\u968e\u5c64\u30d5\u30a9\u30eb\u30c0\u30fc\u306b\u79fb\u52d5\u3059\u308b\u5834\u5408\n",
                "    * \u30ab\u30ec\u30f3\u30c8\u30fb\u30c7\u30a3\u30ec\u30af\u30c8\u30ea\u30fc\u304c`folder2`\u3067\u3042\u308a\uff0c\u305d\u306e\u4e0b\u5c64\u30d5\u30a9\u30eb\u30c0\u30fc\u3067\u3042\u308b`folder3`\u306b\u79fb\u308b\u5834\u5408\n",
                "```\n",
                "$ cd folder3\n",
                "```\n",
                "* \u4e0a\u306e\u968e\u5c64\u30d5\u30a9\u30eb\u30c0\u30fc\u306b\u79fb\u52d5\u3059\u308b\u5834\u5408\n",
                "    * `folder3`\u306b\u79fb\u3063\u305f\u5f8c\uff0c`folder2`\u306b\u623b\u308b\u5834\u5408\n",
                "```\n",
                "$ cd ..\n",
                "```\n",
                "\u3053\u3053\u3067\u4e0a\u5c64\u30d5\u30a9\u30eb\u30c0\u30fc\u306f\uff11\u3064\u3057\u304b\u306a\u3044\u306e\u3067\u30d5\u30a9\u30eb\u30c0\u30fc\u540d\u3092\u5165\u308c\u308b\u4ee3\u308f\u308a\u306b`..`\u3067\u4e8b\u8db3\u308a\u308b\u3068\u3044\u3046\u3053\u3068\u3002\n",
                "\n",
                "---\n",
                "\uff1c\u30b3\u30e1\u30f3\u30c8\uff1e\n",
                "\n",
                "\u30d5\u30a1\u30a4\u30eb\u540d\u3084\u30d5\u30a9\u30eb\u30c0\u30fc\u540d\u3092\u9014\u4e2d\u307e\u3067\u66f8\u3044\u3066\u30bf\u30d6\u3092\u62bc\u3059\u3068\u88dc\u5b8c\u3057\u3066\u304f\u308c\u308b\u3002\n",
                "\n",
                "* \u30db\u30fc\u30e0\u30fb\u30c7\u30a3\u30ec\u30af\u30c8\u30ea\u30fc\u306b\u79fb\u52d5\u3059\u308b\u5834\u5408\n",
                "```\n",
                "$ cd ~\n",
                "```"
            ]
        },
        {
            "cell_type": "markdown",
            "metadata": {
                "heading_collapsed": true
            },
            "source": [
                "## `Git`\u30a4\u30f3\u30b9\u30c8\u30fc\u30eb\u306e\u78ba\u8a8d\u3068\u8a2d\u5b9a"
            ]
        },
        {
            "cell_type": "markdown",
            "metadata": {
                "heading_collapsed": true,
                "hidden": true
            },
            "source": [
                "### Mac"
            ]
        },
        {
            "cell_type": "markdown",
            "metadata": {
                "heading_collapsed": true,
                "hidden": true
            },
            "source": [
                "#### \u78ba\u8a8d"
            ]
        },
        {
            "cell_type": "markdown",
            "metadata": {
                "hidden": true
            },
            "source": [
                "Mac\u306b\u306f`Git`\u306f\u3082\u3068\u3082\u3068\u30a4\u30f3\u30b9\u30c8\u30fc\u30eb\u3055\u308c\u3066\u3044\u308b\u3068\u8aac\u660e\u3057\u305f\u304c\uff0c\u78ba\u8a8d\u3059\u308b\u305f\u3081\u306b`Terminal`\u3067\n",
                "```\n",
                "$ which git\n",
                "```\n",
                "\u3092\u5b9f\u884c\u3059\u308b\u3068`Git`\u304c\u3042\u308b\u30d5\u30a9\u30eb\u30c0\u30fc\u304c\u8868\u793a\u3055\u308c\u308b\u3002"
            ]
        },
        {
            "cell_type": "markdown",
            "metadata": {
                "heading_collapsed": true,
                "hidden": true
            },
            "source": [
                "#### \u8a2d\u5b9a"
            ]
        },
        {
            "cell_type": "markdown",
            "metadata": {
                "hidden": true
            },
            "source": [
                "`Git`\u306b`Terminal`\u3092\u4f7f\u3063\u3066\u540d\u524d\u3068\u30e1\u30fc\u30eb\u30a2\u30c9\u30ec\u30b9\u3092\u767b\u9332\u3059\u308b\u304c\uff0c\u4ee5\u4e0b\u3067\u8aac\u660e\u3059\u308b`GitHub`\u3067\u767b\u9332\u3059\u308b\u3082\u306e\u3068\u540c\u3058\u3067\u306a\u304f\u3066\u306f\u306a\u3089\u306a\u3044\u3002\n",
                "```\n",
                "$ git config --global user.name \"LastName_FirstName\"\n",
                "$ git config --global user.email \"example@example.com\"\n",
                "```\n",
                "\u3053\u308c\u4ee5\u5916\u306b\u5fc5\u8981\u3067\u3042\u308c\u3070\n",
                "```\n",
                "$ git config --global core.editor 'atom'    # \u30a8\u30c7\u30a3\u30bf\u30fc\u306e\u8a2d\u5b9a\n",
                "$ git config --global --list` \u3000\u3000\u3000\u3000\u3000\u3000\u3000# \u8a2d\u5b9a\u306e\u78ba\u8a8d\n",
                "```"
            ]
        },
        {
            "cell_type": "markdown",
            "metadata": {
                "heading_collapsed": true,
                "hidden": true
            },
            "source": [
                "### Windows"
            ]
        },
        {
            "cell_type": "markdown",
            "metadata": {
                "heading_collapsed": true,
                "hidden": true
            },
            "source": [
                "#### \u30a4\u30f3\u30b9\u30c8\u30fc\u30eb\u306e\u78ba\u8a8d"
            ]
        },
        {
            "cell_type": "markdown",
            "metadata": {
                "hidden": true
            },
            "source": [
                "`Git Bash`\u306e\u753b\u9762\u3067\u4ee5\u4e0b\u3092\u5b9f\u884c\u3059\u308b\uff08\u3069\u306e\u30ab\u30ec\u30f3\u30c8\u30fb\u30c7\u30a3\u30ec\u30af\u30c8\u30ea\u3067\u3082\u69cb\u308f\u306a\u3044\uff09\u3002\n",
                "```\n",
                "$ which git\n",
                "```\n",
                "\u4ee5\u4e0b\u306e\u3088\u3046\u306b\u8868\u793a\u3055\u308c\u308c\u3070\u30a4\u30f3\u30b9\u30c8\u30fc\u30eb\u6210\u529f\u3002\n",
                "```\n",
                "/cmd/git\n",
                "```"
            ]
        },
        {
            "cell_type": "markdown",
            "metadata": {
                "heading_collapsed": true,
                "hidden": true
            },
            "source": [
                "#### \u8a2d\u5b9a"
            ]
        },
        {
            "cell_type": "markdown",
            "metadata": {
                "hidden": true
            },
            "source": [
                "`Git`\u306b`Git Bash`\u3092\u4f7f\u3063\u3066\u540d\u524d\u3068\u30e1\u30fc\u30eb\u30a2\u30c9\u30ec\u30b9\u3092\u767b\u9332\u3059\u308b\u304c\uff0c\u4ee5\u4e0b\u3067\u8aac\u660e\u3059\u308b`GitHub`\u3067\u767b\u9332\u3059\u308b\u3082\u306e\u3068\u540c\u3058\u3067\u306a\u304f\u3066\u306f\u306a\u3089\u306a\u3044\u3002\n",
                "```\n",
                "$ git config --global user.name \"LastName_FirstName\"\n",
                "$ git config --global user.email \"example@example.com\"\n",
                "```\n",
                "\u3053\u308c\u4ee5\u5916\u306b\u5fc5\u8981\u3067\u3042\u308c\u3070\uff0c\n",
                "```\n",
                "$ git config --global --list` \u3000\u3000\u3000\u3000\u3000\u3000\u3000# \u8a2d\u5b9a\u306e\u78ba\u8a8d\n",
                "```"
            ]
        },
        {
            "cell_type": "markdown",
            "metadata": {
                "heading_collapsed": true
            },
            "source": [
                "## `Python`\u30a4\u30f3\u30b9\u30c8\u30fc\u30eb\u306e\u78ba\u8a8d"
            ]
        },
        {
            "cell_type": "markdown",
            "metadata": {
                "heading_collapsed": true,
                "hidden": true
            },
            "source": [
                "#### Mac"
            ]
        },
        {
            "cell_type": "markdown",
            "metadata": {
                "hidden": true
            },
            "source": [
                "`Terminal`\u306e\u753b\u9762\u3067\u4ee5\u4e0b\u3092\u5b9f\u884c\u3057\u3088\u3046\uff08\u3069\u306e\u30ab\u30ec\u30f3\u30c8\u30fb\u30c7\u30a3\u30ec\u30af\u30c8\u30ea\u3067\u3082\u69cb\u308f\u306a\u3044\uff09\u3002\n",
                "```\n",
                "$ which python\n",
                "```\n",
                "\u4ee5\u4e0b\uff08\u30d1\u30b9\u306b`anaconda3`\u304c\u5165\u3063\u3066\u3044\u308b\uff09\u306e\u3088\u3046\u306b\u3055\u308c\u308c\u3070\u6210\u529f\u3002\n",
                "```\n",
                "/Users/myName/anaconda3/bin/python\n",
                "```\n",
                "\u3082\u3057\n",
                "```\n",
                "/usr/bin/python\n",
                "```\n",
                "\u306e\u3088\u3046\u306b`anaconda3`\u304c\u30d1\u30b9\u306b\u5165\u3063\u3066\u3044\u306a\u3044\u5834\u5408\u306f\uff0c\n",
                "```\n",
                "$ conda activate\n",
                "$ which python\n",
                "```\n",
                "\u3092\u5b9f\u884c\u3057\u3066\u307f\u308b\u3053\u3068\u3002\u3053\u3053\u3067\n",
                "```\n",
                "$ conda activate\n",
                "```\n",
                "\u306f`anaconda`\u3092\u30a2\u30af\u30c6\u30a3\u30d9\u30fc\u30c8\u3059\u308b\u30b3\u30de\u30f3\u30c9\u3067\u3042\u308a\uff0c\u305d\u306e\u9006\u306f\n",
                "```\n",
                "$ conda deactivate\n",
                "```\n",
                "\u3067\u3042\u308b\u3002"
            ]
        },
        {
            "cell_type": "markdown",
            "metadata": {
                "heading_collapsed": true,
                "hidden": true
            },
            "source": [
                "#### `Windows`"
            ]
        },
        {
            "cell_type": "markdown",
            "metadata": {
                "hidden": true
            },
            "source": [
                "* `anaconda3`\u304c\u30a4\u30f3\u30b9\u30c8\u30fc\u30eb\u3055\u308c\u305f\u30c7\u30a3\u30ec\u30af\u30c8\u30ea\u3092\u78ba\u8a8d\u3059\u308b\u3002\uff12\u3064\u306e\u30b1\u30fc\u30b9\u3092\u8003\u3048\u308b\u3002\n",
                "    ```\n",
                "    \uff08\u30b1\u30fc\u30b9\uff11\uff09C:\\Users\\myName\\Anaconda3\n",
                "    \uff08\u30b1\u30fc\u30b9\uff12\uff09C:\\Anaconda3\n",
                "    ```\n",
                "* `Git Bash`\u3067\u4ee5\u4e0b\u3092\u5b9f\u884c\u3059\u308b\u3002\n",
                "    * \uff08\u30b1\u30fc\u30b9\uff11\uff09\u306e\u5834\u5408\n",
                "    ```\n",
                "    echo \". /c/Users/myName/Anaconda3/etc/profile.d/conda.sh\" >> ~/.profile\n",
                "    ```\n",
                "    * \uff08\u30b1\u30fc\u30b9\uff12\uff09\u306e\u5834\u5408\n",
                "    ```\n",
                "    echo \". /c/Anaconda3/etc/profile.d/conda.sh\" >> ~/.profile\n",
                "    ```\n",
                "    * \u4e21\u65b9\u306e\u30b1\u30fc\u30b9\u306b\u5f53\u3066\u306f\u307e\u3089\u306a\u3044\u5834\u5408\u306f\uff0c`/c/`\u3068`/etc/`\u306e\u9593\u3092\u9069\u5b9c\u5909\u66f4\u3059\u308b\u3002\n",
                "    * \u3053\u306e\u4f5c\u696d\u306b\u3088\u308a\u30db\u30fc\u30e0\u30fb\u30c7\u30a3\u30ec\u30af\u30c8\u30ea\u306b`.profile`\u3068\u3044\u3046\u30d5\u30a1\u30a4\u30eb\u304c\u4f5c\u6210\u3055\u308c\uff0c`Python`\u306b\u300c\u30d1\u30b9\u304c\u3068\u304a\u308b\u300d\u3053\u3068\u306b\u306a\u308b\u3002\n",
                "* `Git Bash`\u3067\u4ee5\u4e0b\u3092\u5b9f\u884c\u3059\u308b\uff08\u3069\u306e\u30ab\u30ec\u30f3\u30c8\u30fb\u30c7\u30a3\u30ec\u30af\u30c8\u30ea\u3067\u3082\u69cb\u308f\u306a\u3044\uff09\u3002\n",
                "```\n",
                "$ conda activate\n",
                "$ which python\n",
                "```\n",
                "\u3092\u5b9f\u884c\u3057\u3066\u307f\u308b\u3053\u3068\u3002\u3053\u3053\u3067\n",
                "```\n",
                "$ conda activate\n",
                "```\n",
                "\u306f`anaconda`\u3092\u30a2\u30af\u30c6\u30a3\u30d9\u30fc\u30c8\u3059\u308b\u30b3\u30de\u30f3\u30c9\u3067\u3042\u308a\uff0c\u305d\u306e\u9006\u306f\n",
                "```\n",
                "$ conda deactivate\n",
                "```\n",
                "\u3067\u3042\u308b\u3002\n",
                "\u4ee5\u4e0b\uff08\u30d1\u30b9\u306b`anaconda3`\u304c\u5165\u3063\u3066\u3044\u308b\uff09\u306e\u3088\u3046\u306b\u3055\u308c\u308c\u3070\u6210\u529f\u3002\n",
                "```\n",
                "/c/Users/myName/Anaconda3/python\n",
                "```"
            ]
        },
        {
            "cell_type": "markdown",
            "metadata": {
                "heading_collapsed": true
            },
            "source": [
                "## `GitHub`\u306e\u8a2d\u5b9a"
            ]
        },
        {
            "cell_type": "markdown",
            "metadata": {
                "hidden": true
            },
            "source": [
                "`GitHub`\u3068\u306f\uff0c\u30b3\u30fc\u30c9\u3068\u30b3\u30fc\u30c9\u306e\u5c65\u6b74\u3092\u30af\u30e9\u30a6\u30c9\u4e0a\u3067\u7ba1\u7406\u3057\uff0c\u30b3\u30fc\u30c9\u4f5c\u6210\u306e\u5171\u540c\u4f5c\u696d\u3092\u624b\u52a9\u3051\u3059\u308b\u30a2\u30d7\u30ea\u3067\u3042\u308b\u3002\u30a2\u30c3\u30d7\u30ed\u30fc\u30c9\u3057\u305f\u30b3\u30fc\u30c9\u3092\u516c\u958b\u30fb\u975e\u516c\u958b\u306b\u8a2d\u5b9a\u3059\u308b\u3053\u3068\u304c\u3067\u304d\u308b\u3002\u30bc\u30df\u751f\u304c\u30a2\u30c3\u30d7\u30ed\u30fc\u30c9\u3057\u305f\u30b3\u30fc\u30c9\u306f\u6625\u5c71\u3060\u3051\u304c\u95b2\u89a7\u53ef\u80fd\u3068\u306a\u308b\u3002"
            ]
        },
        {
            "cell_type": "markdown",
            "metadata": {
                "hidden": true
            },
            "source": [
                "---\n",
                "* `GitHub`\u306e\u8a2d\u5b9a\n",
                "    * `Git`\u306e\u8a2d\u5b9a\u3067\u4f7f\u3063\u305f\u30e1\u30fc\u30eb\u30a2\u30c9\u30ec\u30b9\u3092\u4f7f\u3044[\u3053\u306e\u30b5\u30a4\u30c8](https://github.com)\u3067\u7121\u6599\u30a2\u30ab\u30a6\u30f3\u30c8\u3092\u4f5c\u6210\u3057\uff0c\n",
                "    * \u767b\u9332\u5f8c\uff0c[\u3053\u306e\u30b5\u30a4\u30c8](https://education.github.com/students)\u3067Student Account\u306b\u3059\u308b\u3002\n",
                "        * Student Account\u306b\u3059\u308b\u3068\u69d8\u3005\u306a[\u7279\u5178](https://education.github.com/pack#offers)\u304c\u4ed8\u3044\u3066\u304f\u308b\u3002\n",
                "    * \u767b\u9332\u3059\u308b\u3068\uff11\u3064\u306e\u30ec\u30dd\u30b8\u30c8\u30ea\uff08repository\uff09\u3002\u30ec\u30dd\u30b8\u30c8\u30ea\u3092\u300c\u30ec\u30dd\uff08repo\uff09\u300d\u3068\u7565\u3059\u5834\u5408\u304c\u3088\u304f\u3042\u308b\u3002\u30ec\u30dd\u3068\u306f\u30b3\u30fc\u30c9\u3092\u30a2\u30c3\u30d7\u30ed\u30fc\u30c9\u3057\u305f\u969b\u306b\u4fdd\u5b58\u3055\u308c\u308b\u9818\u57df\u3092\u793a\u3059\u3002\u30ec\u30dd\u306f\u5fc5\u8981\u306a\u6570\u3060\u3051\u4f5c\u6210\u3059\u308b\u3053\u3068\u304c\u3067\u304d\u308b\u3002\n",
                "    * \u6625\u5c71\u306b`username`\u3092\u77e5\u3089\u305b\u308b\u3002\n",
                "    * Password\u306f\u5f8c\u3067\u4f7f\u3046\u306e\u3067\u5fd8\u308c\u306a\u3044\u3088\u3046\u306b\u3002"
            ]
        },
        {
            "cell_type": "markdown",
            "metadata": {
                "hidden": true
            },
            "source": [
                "* `Git`\u3068`GitHub`\u306e\u540c\u671f\u306e\u8a2d\u5b9a\uff1aPart I\n",
                "    * \u30bc\u30df\u3060\u3051\u3067\u4f7f\u3044\uff0c`GitHub`\u3068\u540c\u671f\u3055\u305b\u308b\u30d5\u30a9\u30eb\u30c0\u30fc\u3092\u4f5c\u6210\u3059\u308b\u3002\n",
                "        * \u4ee5\u4e0b\u3067\u306f\u305d\u306e\u30d5\u30a9\u30eb\u30c0\u30fc\u3092`ZF`\uff08\u30bc\u30df\u30fb\u30d5\u30a9\u30eb\u30c0\u30fc\uff09\u3068\u547c\u3076\u3002\n",
                "    * `Terminal`\u3082\u3057\u304f\u306f`Git Bash`\u3092\u8d77\u52d5\u3057\uff0c\u30ab\u30ec\u30f3\u30c8\u30fb\u30c7\u30a3\u30ec\u30af\u30c8\u30ea\u3092`ZF`\u306b\u3059\u308b\u3002\n",
                "    * `ZF`\u3068`GitHub`\u3092\u9023\u643a\u3055\u305b\u308b\u305f\u3081\u306b`Terminal`\u3082\u3057\u304f\u306f`Git Bash`\u3067\u4ee5\u4e0b\u3092\u5b9f\u884c\u3059\u308b\u3002\n",
                "        ```\n",
                "        $ git remote add origin <repURL>\n",
                "        ```\n",
                "        \u3053\u3053\u3067`<repoURL>`\u306f\u4e0a\u3067\u4f5c\u6210\u3057\u305f\u30ec\u30dd\u306e\u30a2\u30c9\u30ec\u30b9\u3067\u3042\u308a\uff0c\u4ee5\u4e0b\u306e\u624b\u9806\u3067\u30b3\u30d4\u30fc\u3067\u304d\u308b\u3002\n",
                "        * repo\u306e\u30da\u30fc\u30b8\u306b\u3042\u308b`Clone or download`\u3068\u66f8\u304b\u308c\u305f\u7dd1\u8272\u306e\u30dc\u30bf\u30f3\u3092\u30af\u30ea\u30c3\u30af\u3057\uff0c`https://`\u304b\u3089\u59cb\u307e\u308b\u30ea\u30f3\u30af\u3092\u78ba\u8a8d\u3059\u308b\u3002\u305d\u306e\u53f3\u6a2a\u306e\u30dc\u30bf\u30f3\u3092\u62bc\u3059\u3002\n",
                "        * \u30ea\u30f3\u30af\u304c`git@github.com:`\u304b\u3089\u59cb\u307e\u3063\u3066\u3044\u308b\u5834\u5408\u306f\uff0c\u305d\u306e\u5c0f\u3055\u306a\u30dd\u30c3\u30d7\u30a2\u30c3\u30d7\u30fb\u30a6\u30a3\u30f3\u30c9\u30a6\u306e\u53f3\u4e0a\u306b\u3042\u308b`Use HTTPS`\u3068\u66f8\u304b\u308c\u305f\u7b87\u6240\u3092\u30af\u30ea\u30c3\u30af\u3059\u308b\u3068`https://`\u304b\u3089\u59cb\u307e\u308b\u30ea\u30f3\u30af\u304c\u8868\u793a\u3055\u308c\u308b\u306e\u3067\uff0c\u305d\u308c\u3092\u30b3\u30d4\u30fc\u3059\u308b\u3002"
            ]
        },
        {
            "cell_type": "markdown",
            "metadata": {
                "hidden": true
            },
            "source": [
                "* `Git`\u3068`GitHub`\u306e\u540c\u671f\u306e\u8a2d\u5b9a\uff1aPart II\n",
                "    * \u30a8\u30c7\u30a3\u30bf\u30fc\uff08\u4f8b\u3048\u3070\uff0cAtom\uff09\u3092\u4f7f\u3044`README.md`\u3068\u3044\u3046\u30d5\u30a1\u30a4\u30eb\u3092`ZF`\u306b\u4f5c\u6210\u3057\uff0c\u81ea\u5df1\u7d39\u4ecb\u306e\u5185\u5bb9\u3092\u8a18\u5165\u3059\u308b\uff08\u4f8b\u3048\u3070\uff0c\u81ea\u5206\u306e\u540d\u524d\u3084\u5b66\u90e8\u306a\u3069\uff09\u3002\n",
                "    * \u4ee5\u4e0b\u306f\u3059\u3079\u3066\u30ab\u30ec\u30f3\u30c8\u30fb\u30c7\u30a3\u30ec\u30af\u30c8\u30ea\u3092`ZF`\u306b\u3057\u305f`Terminal`\u3082\u3057\u304f\u306f`Big Bash`\u3067\u304a\u3053\u306a\u3046\u3002\n",
                "        1. `ZF`\u3092`Git`\u7528\u306b\u8a2d\u5b9a\u3059\u308b\u3002\n",
                "            ```\n",
                "            git init\n",
                "            ```\n",
                "        2. `Git`\u306b\u5c65\u6b74\u3092\u8a18\u9332\u3055\u305b\u308b\u30d5\u30a1\u30a4\u30eb\uff08\u3053\u306e\u5834\u5408\u306f`README.md`\uff09\u3092\u9078\u629e\u3059\u308b\u3002\u3053\u308c\u306f\u300c\u30b9\u30c6\u30fc\u30b8\u30f3\u30b0\u300d\u3068\u547c\u3070\u308c\u308b\u30d7\u30ed\u30bb\u30b9\u3002\n",
                "            ```\n",
                "            git stage README.md\n",
                "            ```\n",
                "        3. `Git`\u306b\u30d5\u30a1\u30a4\u30eb\u306e\u5909\u66f4\u3092\u767b\u9332\u3059\u308b\u3002\u3053\u308c\u306f\u300c\u30b3\u30df\u30c3\u30c8\u300d\u3068\u547c\u3070\u308c\u308b\u30d7\u30ed\u30bb\u30b9\u3002\n",
                "            ```\n",
                "            git commit -m \"First commit\"            \n",
                "            ```\n",
                "            \u3053\u3053\u3067\u300cFirst Commit\u300d\u306f\u5c65\u6b74\u306b\u3064\u3044\u3066\u306e\u30b3\u30e1\u30f3\u30c8\u3067\u3042\u308a\uff0c\u5909\u66f4\u5185\u5bb9\u306b\u3064\u3044\u3066\u5206\u304b\u308a\u3084\u3059\u3044\u3082\u306e\u3059\u308b\u3053\u3068\u3002\n",
                "        4. `GitHub`\u306b\u30d5\u30a1\u30a4\u30eb\u3092\u30a2\u30c3\u30d7\u30ed\u30fc\u30c9\u3059\u308b\u3002\u3053\u308c\u306f\u300c\u30d7\u30c3\u30b7\u30e5\u300d\u3068\u547c\u3070\u308c\u308b\u30d7\u30ed\u30bb\u30b9\u3002\n",
                "            ```\n",
                "            git push origin master\n",
                "            ```\n",
                "        5. \u30d1\u30b9\u30ef\u30fc\u30c9\u3092\u6c42\u3081\u3089\u308c\u308b\u306e\u3067\uff0c`GitHub`\u306e\u30d1\u30b9\u30ef\u30fc\u30c9\u3092\u5165\u529b\u3059\u308b\u3002"
            ]
        },
        {
            "cell_type": "markdown",
            "metadata": {
                "hidden": true
            },
            "source": [
                "* \u30bc\u30df\u306e\u305f\u3081\u306e\u8a2d\u5b9a\n",
                "    * \u30bc\u30df\u7528\u30ec\u30dd\u306e`GitHub`\u30a6\u30a7\u30d6\u30da\u30fc\u30b8\u3092\u958b\u304f\u3002README.md\u306e\u5185\u5bb9\u304c\u8868\u793a\u3055\u308c\u3066\u3044\u308b\u306f\u305a\n",
                "    * Settings -> Collaborators & teams \u3092\u958b\u304d\uff0c\u6625\u5c71\u306e\u30e6\u30fc\u30b6\u30fc\u540d`spring-haru`\u3092 Collaborators \u306b\u8ffd\u52a0\u3057\uff0cPermission Level\u3000\u3092 Read \u306b\u8a2d\u5b9a\u3059\u308b\u3002\n",
                "    * \u3053\u306e\u8a2d\u5b9a\u306b\u3088\u308a\uff0c\u6625\u5c71\u3060\u3051\u304c\u305d\u308c\u305e\u308c\u306e\u5b66\u751f\u306e\u30ec\u30dd\u3092\u95b2\u89a7\u3059\u308b\u3053\u3068\u304c\u53ef\u80fd\u3068\u306a\u308b\u3002"
            ]
        },
        {
            "cell_type": "markdown",
            "metadata": {
                "hidden": true
            },
            "source": [
                "---\n",
                "\uff1c\uff1c <font color='red'>\u6ce8\u610f</font> \uff1e\uff1e\n",
                "* \u30b3\u30f3\u30d5\u30ea\u30af\u30c8\u306e\u554f\u984c\u767a\u751f\u3092\u9632\u3050\u305f\u3081\u306b`GitHub`\u306e\u30b5\u30a4\u30c8\u3067\u76f4\u63a5\u30d5\u30a1\u30a4\u30eb\u3092\u5909\u66f4**\u3057\u306a\u3044\u3088\u3046\u306b\uff01**\u3082\u3057\u5909\u66f4\u3057\u305f\u5834\u5408\u306f\uff0c\u30d1\u30bd\u30b3\u30f3\u3067\u8a72\u5f53\u30d5\u30a1\u30a4\u30eb\u3092\u5909\u66f4\u3059\u308b**\u524d\u306b\u5fc5\u305a**\u4ee5\u4e0b\u306e\u30b3\u30fc\u30c9\u3092\u5b9f\u884c\u3059\u308b\u3053\u3068\u3002\n",
                "```\n",
                "$ git pull origin master\n",
                "```"
            ]
        },
        {
            "cell_type": "markdown",
            "metadata": {
                "heading_collapsed": true
            },
            "source": [
                "## `pip`\u3092\u4f7f\u3046\u30d1\u30c3\u30b1\u30fc\u30b8\u306e\u30a4\u30f3\u30b9\u30c8\u30fc\u30eb"
            ]
        },
        {
            "cell_type": "markdown",
            "metadata": {
                "hidden": true
            },
            "source": [
                "\u30bc\u30df\u3067\u306f`Anaconda`\u306b\u542b\u307e\u308c\u3066\u3044\u306a\u3044\u6b21\u306e\u30d1\u30c3\u30b1\u30fc\u30b8\u3082\u4f7f\u3046\u3002\n",
                "* `linearmodels`\n",
                "* `wooldridge`\n",
                "* `lmdiag`\n",
                "* `see`\n",
                "\n",
                "\u3053\u308c\u3089\u3092\u30a4\u30f3\u30b9\u30c8\u30fc\u30eb\u3059\u308b\u306b\u306f\uff0c`Anaconda`\u306b\u542b\u307e\u308c\u3066\u3044\u308b`pip`\u30b3\u30de\u30f3\u30c9\u3092\u4f7f\u3046\u3002`pip`\u306f\u4ee5\u4e0b\u3067\u8aac\u660e\u3059\u308b`Terminal`\uff08Mac\u7528\uff09\u3082\u3057\u304f\u306f`Git Bash`\uff08Windows\u7528\uff09\u3092\u4f7f\u3044\u5b9f\u884c\u3059\u308b\u3002\u4f8b\u3048\u3070\uff0c`see`\u3092\u30a4\u30f3\u30b9\u30c8\u30fc\u30eb\u3059\u308b\u306b\u306f\n",
                "```\n",
                "$ pip install see\n",
                "```\n",
                "\u3092\u5b9f\u884c\u3059\u308b\u30024\u3064\u306e\u30d1\u30c3\u30b1\u30fc\u30b8\u3092\u4e00\u62ec\u3067\u30a4\u30f3\u30b9\u30c8\u30fc\u30eb\u3059\u308b\u30b3\u30de\u30f3\u30c9\u306f\u6b21\u306e\u3088\u3046\u306b\u3059\u308b\u3002\n",
                "```\n",
                "$ pip install linearmodels wooldridge lmdiag see\n",
                "```"
            ]
        },
        {
            "cell_type": "markdown",
            "metadata": {
                "heading_collapsed": true
            },
            "source": [
                "## `Jupyter Notebook`\u306e\u4f7f\u3044\u65b9"
            ]
        },
        {
            "cell_type": "markdown",
            "metadata": {
                "hidden": true
            },
            "source": [
                "`Jupyter Notebook`\u3068\u306f\uff0c`Python`\u3092\u30a4\u30f3\u30bf\u30fc\u30a2\u30af\u30c6\u30a3\u30d6\u306a\u74b0\u5883\u3067\u5b9f\u884c\u3067\u304d\u308b\u975e\u5e38\u306b\u4f7f\u3044\u6613\u3044\u30d7\u30ed\u30b0\u30e9\u30e0\u3002"
            ]
        },
        {
            "cell_type": "markdown",
            "metadata": {
                "heading_collapsed": true,
                "hidden": true
            },
            "source": [
                "### \u8d77\u52d5\u3068\u7d42\u4e86\uff08Mac\uff09"
            ]
        },
        {
            "cell_type": "markdown",
            "metadata": {
                "hidden": true
            },
            "source": [
                "* \u8d77\u52d5\uff08\uff12\u3064\u306e\u65b9\u6cd5\uff09\n",
                "    1. `Terminal`\u306b\n",
                "        ```\n",
                "        Jupyter Notebook\n",
                "        ```\n",
                "        \u3092\u5165\u529b\u3057\u5b9f\u884c\u3059\u308b\u3002\n",
                "        \n",
                "    1. `Anaconda-Navigator`\u3092\u8d77\u52d5\u3059\u308b\u3068`Jupyter Notebook`\u306e\u5927\u304d\u306a\u30a2\u30a4\u30b3\u30f3\u304c\u3042\u308a\uff0c\u305d\u3053\u306b\u3042\u308b`Launch`\u3092\u30af\u30ea\u30c3\u30af\u3059\u308b\u3002\n",
                "* \u7d42\u4e86\n",
                "    * `Jupyter Notebook`\u306e\u5168\u3066\u306e\u30bf\u30d6\u3092\u9589\u3058\u308b\u3002\n",
                "    * `Jupyter Notebook`\u3092\u8d77\u52d5\u3059\u308b\u3068\u81ea\u52d5\u306b`Terminal`\u306e\u753b\u9762\u304c\u8868\u793a\u3055\u308c\u308b\u3053\u3068\u306b\u306a\u308b\u304c\uff0c\u6b21\u306e\u3069\u308c\u304b\u306e\u65b9\u6cd5\u3067\uff0c\u305d\u306e\u753b\u9762\u306b`$`\u304c\u8868\u793a\u3055\u308c\u308b\u3088\u3046\u306b\u3059\u308b\u3002\n",
                "        * `Control`\u3092\u62bc\u3057\u305f\u307e\u307e`C`\u3092\u62bc\u3057\uff0c`y`\u3092\u5165\u529b\u3057\uff0c`Enter`\u3092\u62bc\u3059\u3002\n",
                "        * `Control`\u3092\u62bc\u3057\u305f\u307e\u307e`C`\u3092\uff12\u56de\u9023\u7d9a\u3067\u62bc\u3059\u3002\n",
                "        * \u5225\u306e`Terminal`\u753b\u9762\u306e`$`\u3067`jupyter notebook stop`\u3092\u5b9f\u884c\u3059\u308b\u3002"
            ]
        },
        {
            "cell_type": "markdown",
            "metadata": {
                "heading_collapsed": true,
                "hidden": true
            },
            "source": [
                "### \u8d77\u52d5\u3068\u7d42\u4e86\uff08Windows\uff09"
            ]
        },
        {
            "cell_type": "markdown",
            "metadata": {
                "hidden": true
            },
            "source": [
                "* \u8d77\u52d5\uff08\uff13\u3064\u306e\u65b9\u6cd5\uff09\n",
                "    1. `Git Bash`\u306b\n",
                "        ```\n",
                "        Jupyter Notebook\n",
                "        ```\n",
                "        \u3092\u5165\u529b\u3057\u5b9f\u884c\u3059\u308b\u3002\n",
                "    1. \u30b9\u30bf\u30fc\u30c8\u30e1\u30cb\u30e5\u30fc\u304b\u3089`Jupyter Notebook (Anaconda3)`\u3092\u30af\u30ea\u30c3\u30af\u3002\n",
                "    1. `Anaconda-Navigator`\u3092\u8d77\u52d5\u3059\u308b\u3068`Jupyter Notebook`\u306e\u5927\u304d\u306a\u30a2\u30a4\u30b3\u30f3\u304c\u3042\u308a\uff0c\u305d\u3053\u306b\u3042\u308b`Launch`\u3092\u30af\u30ea\u30c3\u30af\u3059\u308b\u3002\n",
                "* \u7d42\u4e86\n",
                "    * `Jupyter Notebook`\u306e\u5168\u3066\u306e\u30bf\u30d6\u3092\u9589\u3058\u308b\u3002\n",
                "    * `Jupyter Notebook`\u3092\u8d77\u52d5\u3059\u308b\u3068\u81ea\u52d5\u3067`Anaconda Prompt`\u3068\u547c\u3070\u308c\u308b\u30a2\u30d7\u30ea\u304c\u8d77\u52d5\u3059\u308b\u3002\u305d\u306e\u753b\u9762\u306b\u79fb\u308a\uff0c`Control`\u3092\u62bc\u3057\u305f\u307e\u307e`C`\u3092\u62bc\u3059\u3068\u753b\u9762\u304c\u9589\u3058\u308b\u3002\u3082\u3057\u304f\u306f`C:\u00a5Users\u00a5myName>`\u306e\u3088\u3046\u306a\u8868\u793a\u304c\u3067\u308b\u3002\uff08\u4ee3\u66ff\u65b9\u6cd5\u3068\u3057\u3066\uff0c\u5225\u306e`Anaconda Prompt`\u3092\u8d77\u52d5\u3057\u3066`jupyter notebook stop`\u3092\u5b9f\u884c\u3057\u3066\u3082\u826f\u3044\u3002\uff09"
            ]
        },
        {
            "cell_type": "markdown",
            "metadata": {
                "heading_collapsed": true,
                "hidden": true
            },
            "source": [
                "### \u4f7f\u3044\u65b9"
            ]
        },
        {
            "cell_type": "markdown",
            "metadata": {
                "hidden": true
            },
            "source": [
                "* \u30d6\u30e9\u30a6\u30b6\u30fc\u304c\u8d77\u52d5\u3057\u305f\u5f8c\uff0c`Jupyter Notebook`\u306e\u6700\u521d\u306e\u753b\u9762\u3067\u306f\u30d5\u30a1\u30a4\u30eb\u3084\u30d5\u30a9\u30eb\u30c0\u30fc\u304c\u8868\u793a\u3055\u308c\u308b\u3002\n",
                "    * \u30d5\u30a9\u30eb\u30c0\u30fc\u540d\u3092\u30af\u30ea\u30c3\u30af\u3059\u308b\u3068\uff0c\u305d\u306e\u30d5\u30a9\u30eb\u30c0\u30fc\u306b\u79fb\u52d5\u3059\u308b\u3002\n",
                "    * `..`\u3092\u30af\u30ea\u30c3\u30af\u3059\u308b\u3068\uff0c\uff11\u968e\u5c64\u4e0a\u306e\u30d5\u30a9\u30eb\u30c0\u30fc\u306b\u79fb\u52d5\u3059\u308b\u3002\n",
                "* `FZ`\u306b\u79fb\u52d5\u3057\uff0c\u4ee5\u4e0b\u306e\u624b\u9806\u3067\u65b0\u3057\u3044Notebook\u3092\u4f5c\u6210\u3059\u308b\n",
                "    * \u753b\u9762\u53f3\u4e0a\u306b\u3042\u308b`New`\u3092\u30af\u30ea\u30c3\u30af\u3057\u3066\u8868\u793a\u3055\u308c\u308b`Python 3`\u3092\u30af\u30ea\u30c3\u30af\u3059\u308b\u3002\n",
                "    * \u753b\u9762\u5de6\u4e0a\u306b\u8868\u793a\u3055\u308c\u308b`Untitled`\u3068\u30af\u30ea\u30c3\u30af\u3057\u30d5\u30a1\u30a4\u30eb\u540d\u3092\u5909\u66f4\u3059\u308b\u3002\n",
                "* `Notebook`\u306b\u3042\u308b\u6a2a\u9577\u306e\u9577\u65b9\u5f62\u3092\u30bb\u30eb\u3068\u547c\u3076\u3002\u4e3b\u306b\uff12\u7a2e\u985e\u306e\u30bb\u30eb\u3092\u4f7f\u3046\u3002\n",
                "    * Code\u30bb\u30eb\n",
                "        * \u30bb\u30eb\u67a0\u306e\u5de6\u5074\u306b`ln[]:`\u306e\u8868\u793a\u304c\u3042\u308b\u3002\n",
                "        * `Python`\u30b3\u30fc\u30c9\u3092\u66f8\u304f\u9818\u57df\n",
                "        * `Shift+Enter`\u3067\u30b3\u30fc\u30c9\u304c\u5b9f\u884c\u3055\u308c\u7d50\u679c\u304c\u8868\u793a\u3055\u308c\u308b\n",
                "    * Markdown\u30bb\u30eb\n",
                "        * \u30bb\u30eb\u67a0\u306e\u5de6\u5074\u306b\u4f55\u306e\u8868\u793a\u3082\u306a\u3044\u3002\n",
                "        * \u8aac\u660e\u6587\u306a\u3069\u3092\u66f8\u304f\u9818\u57df\n",
                "        * `Shift+Enter`\u3067\u5185\u5bb9\u304c\u8868\u793a\u3055\u308c\u308b\n",
                "        * [Markdown\u306e\u66f8\u304d\u65b9\u306e\u53c2\u8003\u30b5\u30a4\u30c8](https://learnxinyminutes.com/docs/markdown/)\n",
                "    * \u30bb\u30eb\u30fb\u30bf\u30a4\u30d7\u306e\u5909\u66f4\u306f\uff0c\u753b\u9762\u4e2d\u592e\u4e0a\u306b`Code`\u307e\u305f\u306f`Markdown`\u3068\u8868\u793a\u3055\u308c\u3066\u3044\u308b\u90e8\u5206\u3092\u30af\u30ea\u30c3\u30af\u3057\u3066\u8a72\u5f53\u3059\u308b\u30bb\u30eb\u30bf\u30a4\u30d7\u3092\u9078\u629e\u3059\u308b\u3002\n",
                "* `Jupyter Notebook`\u306e\u753b\u9762\u306e\u72b6\u614b\u306b\u306f\uff12\u3064\u306e\u30e2\u30fc\u30c9\u304c\u3042\u308b\u3002\n",
                "    * \u30a8\u30c7\u30a3\u30c3\u30c8\u30fb\u30e2\u30fc\u30c9\uff08EM\uff09\n",
                "        * \u30bb\u30eb\u67a0\u306e\u8272\u304c\u7dd1\u8272\n",
                "        * \u30bb\u30eb\u5185\u306b\u30ab\u30fc\u30bd\u30eb\u304c\u3042\u308b\u3002\n",
                "        * \u30bb\u30eb\u306b\u30b3\u30fc\u30c9\u3084\u8aac\u660e\u6587\u3092\u8a18\u5165\u3067\u304d\u308b\u3002\n",
                "    * \u30b3\u30de\u30f3\u30c9\u30fb\u30e2\u30fc\u30c9\uff08CM\uff09\n",
                "        * \u30bb\u30eb\u67a0\u306e\u8272\u304c\u9752\u8272\n",
                "        * \u30bb\u30eb\u5185\u306b\u30ab\u30fc\u30bd\u30eb\u304c\u306a\u3044\u3002\n",
                "        * \u77e2\u5370\u30ad\u30fc\u3092\u4f7f\u3063\u3066\u30bb\u30eb\u9593\u3092\u79fb\u52d5\u3067\u304d\u308b\u3002\uff08\u30de\u30a6\u30b9\u30fb\u30af\u30ea\u30c3\u30af\u3067\u3082\u79fb\u52d5\u3067\u304d\u308b\u3002\uff09\n",
                "    * EM\u3068CM\u9593\u306e\u79fb\u884c\u65b9\u6cd5\n",
                "        * EM\u306b\u3042\u308b\u72b6\u614b\u3067`Shift+Enter`\u3067CM\u306b\u79fb\u884c\u3059\u308b\u3002\n",
                "        * EM\u306b\u3042\u308b\u72b6\u614b\u3067`Escape`\u3092\u62bc\u3059\u3068CM\u306b\u79fb\u884c\u3059\u308b\u3002\n",
                "        * CM\u306b\u3042\u308b\u72b6\u614b\u3067`Enter`\u3092\u62bc\u3059\u3068EM\u306b\u79fb\u884c\u3059\u308b\u3002\n",
                "* \u30b3\u30fc\u30c9\u30fb\u30bb\u30eb\u5185\u3067\u30b3\u30de\u30f3\u30c9\u306e\u672b\u5c3e\u306b`?`\u3068\u66f8\u3044\u3066\u5b9f\u884c\u3059\u308b\u3068\u3001\u305d\u306e\u30b3\u30de\u30f3\u30c9\u306e`docstrings`\u3068\u547c\u3070\u308c\u308b\u8aac\u660e\u6587\uff08\u82f1\u8a9e\uff09\u304c\u8868\u793a\u3055\u308c\u308b\u3002\n",
                "* \u30b3\u30de\u30f3\u30c9\u3092\u9014\u4e2d\u307e\u3067\u5165\u529b\u3057\u3066`Tab`\u3092\u62bc\u3059\u3068\u6b8b\u308a\u306e\u30b3\u30de\u30f3\u30c9\u3092\u88dc\u5b8c\u3057\u3066\u304f\u308c\u308b\u3002\n",
                "* \u95a2\u6570\u3084`()`\u306e\u4e2d\u3067`Shift+Tab`\u3092\u62bc\u3059\u3068\u30c4\u30fc\u30eb\u30c1\u30c3\u30d7\uff08tooltips\uff09\u3092\u8868\u793a\u3057\u3066\u304f\u308c\u308b\u3002"
            ]
        },
        {
            "cell_type": "markdown",
            "metadata": {
                "hidden": true
            },
            "source": [
                "---\n",
                "\uff1cTips\uff1e\n",
                "* \u30e1\u30cb\u30e5\u30fc\u306eHelp -> Edit Keyboard Shortcuts\u304b\u3089\u30b7\u30e7\u30fc\u30c8\u30ab\u30c3\u30c8\u3092\u5909\u66f4\u30fb\u8a2d\u5b9a\u3067\u304d\u308b\u3002\n",
                "* [Jupyter Notebook Extensions](https://github.com/ipython-contrib/jupyter_contrib_nbextensions)\u306f\u4fbf\u5229\u3002\n",
                "* \u30b3\u30fc\u30c9\u3092\u3088\u308a\u898b\u3084\u3059\u304f\u3067\u304d\u308b\u30d5\u30a9\u30f3\u30c8\u3082\u3042\u308b\u306e\u3067\u30c8\u30e9\u30a4\u3057\u3066\u307f\u3088\u3046\u3002\n",
                "* `matplotlib`\u3092\u4f7f\u3046\u5834\u5408\u306e\u65e5\u672c\u8a9e\n",
                "  * [\u53c2\u8003\u30b5\u30a4\u30c8](https://matplotlib.org/3.1.1/tutorials/introductory/customizing.html)\n",
                "  * Mac\u30e6\u30fc\u30b6\u30fc\u306f[\u3053\u306e\u30ea\u30f3\u30af](https://raw.githubusercontent.com/Haruyama-KobeU/Haruyama-KobeU.github.io/master/data/matplotlibrc)\u306e\u30d5\u30a1\u30a4\u30eb\u3092\u30c0\u30a6\u30f3\u30ed\u30fc\u30c9\u3057\u3066`/Users/\u30e6\u30fc\u30b6\u30fc\u540d\u524d/.matplotlib/matplotlibrc`\u3068\u3057\u3066\u4fdd\u5b58\u3059\u308b\u3068\u56f3\u306b\u65e5\u672c\u8a9e\u304c\u8868\u793a\u3055\u308c\u308b\u3002\n",
                "* Web\u4e0a\u306b\u306fJupyter Notebook\u306e\u4f7f\u3044\u65b9\u306b\u95a2\u3059\u308b\u60c5\u5831\u304c\u305f\u304f\u3055\u3093\u3042\u308b\u306e\u3067\u30c1\u30a7\u30c3\u30af\u3057\u3066\u307f\u3088\u3046\u3002\n",
                "  * [Google\u691c\u7d22\u7d50\u679c](https://www.google.co.jp/search?q=jupyter+notebook+%E4%BD%BF%E3%81%84%E6%96%B9)\n",
                "  * [\u30ad\u30fc\u30dc\u30fc\u30c9\u30fb\u30b7\u30e7\u30fc\u30c8\u30ab\u30c3\u30c8](https://qiita.com/forusufia/items/bea3f6fd6160cd2f5843)"
            ]
        },
        {
            "cell_type": "markdown",
            "metadata": {
                "heading_collapsed": true
            },
            "source": [
                "## \u30bc\u30df\u7d42\u4e86\u5f8c\u6bce\u56de\u304a\u3053\u306a\u3046\u4f5c\u696d"
            ]
        },
        {
            "cell_type": "markdown",
            "metadata": {
                "hidden": true
            },
            "source": [
                "\u4ee5\u4e0b\u306e\u624b\u9806\u3067\uff0c\u30bc\u30df\u7d42\u4e86\u5f8c\u306b\u306f\u6bce\u56de\u5fc5\u305a\u4f7f\u3063\u305f`Jupyter Notebook`\u3092`GitHub`\u306b\u30a2\u30c3\u30d7\u30ed\u30fc\u30c9\u3059\u308b\u3053\u3068\u3002\n",
                "1. `Terminal`\u3082\u3057\u304f\u306f`Git Bash`\u3092\u4f7f\u3044`ZF`\u3092\u30ab\u30ec\u30f3\u30c8\u30fb\u30c7\u30a3\u30ec\u30af\u30c8\u30ea\u306b\u3059\u308b\u3002\n",
                "1. \u3069\u306e\u30d5\u30a1\u30a4\u30eb\u304c\u5909\u66f4\u3055\u308c\u3066`GitHub`\u3068\u540c\u671f\u3055\u308c\u3066\u3044\u306a\u3044\u304b\u3092\u30c1\u30a7\u30c3\u30af\u3059\u308b\u3002\n",
                "    ```\n",
                "    git status\n",
                "    ```\n",
                "1. \u5909\u66f4\u30d5\u30a1\u30a4\u30eb\u306e\u30b9\u30c6\u30fc\u30b8\u30f3\u30b0\uff08\u5909\u66f4\u5c65\u6b74\u306e\u4fdd\u5b58\u3092\u3059\u308b\u30d5\u30a1\u30a4\u30eb\u306e\u9078\u629e\uff09\n",
                "    ```\n",
                "    git stage file\u540d\n",
                "    ```\n",
                "    \u3053\u3053\u3067`stage`\u3092`add`\u3068\u3057\u3066\u304a\u540c\u3058\u3002\n",
                "1. \u30d5\u30a1\u30a4\u30eb\u306e\u30b3\u30df\u30c3\u30c8\uff08\u5909\u66f4\u5c65\u6b74\u306e\u4fdd\u5b58\uff09\n",
                "    ```\n",
                "    git commit -m '\u5909\u66f4\u70b9\u306b\u95a2\u3059\u308b\u30b3\u30e1\u30f3\u30c8'\n",
                "    ```\n",
                "1. \u30d7\u30c3\u30b7\u30e5\uff08`GitHub`\u306b\u30d7\u30c3\u30b7\u30e5\uff09\n",
                "    ```\n",
                "    git push origin master\n",
                "    ```\n",
                "1. `GitHub`\u306e\u30ec\u30dd\u3092\u30c1\u30a7\u30c3\u30af\n",
                "\n",
                "---\n",
                "\uff1c\uff1c <font color='red'>\u6ce8\u610f</font> \uff1e\uff1e\n",
                "* \u30b3\u30f3\u30d5\u30ea\u30af\u30c8\u306e\u554f\u984c\u767a\u751f\u3092\u9632\u3050\u305f\u3081\u306b`GitHub`\u306e\u30b5\u30a4\u30c8\u3067\u76f4\u63a5\u30d5\u30a1\u30a4\u30eb\u3092\u5909\u66f4**\u3057\u306a\u3044\u3088\u3046\u306b\uff01**\u3082\u3057\u5909\u66f4\u3057\u305f\u5834\u5408\u306f\uff0c\u30d1\u30bd\u30b3\u30f3\u3067\u8a72\u5f53\u30d5\u30a1\u30a4\u30eb\u3092\u5909\u66f4\u3059\u308b**\u524d\u306b\u5fc5\u305a**\u4ee5\u4e0b\u306e\u30b3\u30fc\u30c9\u3092\u5b9f\u884c\u3059\u308b\u3053\u3068\u3002\n",
                "```\n",
                "$ git pull origin master\n",
                "```"
            ]
        }
    ],
    "metadata": {
        "kernel_info": {
            "name": "python3"
        },
        "kernelspec": {
            "display_name": "latest",
            "language": "python",
            "name": "latest"
        },
        "language_info": {
            "codemirror_mode": {
                "name": "ipython",
                "version": 3
            },
            "file_extension": ".py",
            "mimetype": "text/x-python",
            "name": "python",
            "nbconvert_exporter": "python",
            "pygments_lexer": "ipython3",
            "version": "3.8.2"
        },
        "nteract": {
            "version": "0.15.0"
        }
    },
    "nbformat": 4,
    "nbformat_minor": 2
}