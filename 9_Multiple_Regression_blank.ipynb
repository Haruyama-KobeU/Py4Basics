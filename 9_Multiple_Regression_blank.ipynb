{
    "cells": [
        {
            "cell_type": "markdown",
            "metadata": {},
            "source": [
                "# \u91cd\u56de\u5e30\u5206\u6790"
            ]
        },
        {
            "cell_type": "code",
            "execution_count": null,
            "metadata": {},
            "outputs": [],
            "source": [
                "\n",
                "\n",
                "",
                "",
                "",
                "",
                "",
                "",
                "",
                "",
                ""
            ]
        },
        {
            "cell_type": "markdown",
            "metadata": {
                "heading_collapsed": true
            },
            "source": [
                "## \u8aac\u660e"
            ]
        },
        {
            "cell_type": "markdown",
            "metadata": {
                "hidden": true
            },
            "source": [
                "\u8aac\u660e\u5909\u6570\u304c\u8907\u6570\u306e\u91cd\u56de\u5e30\u5206\u6790\uff08Multiple Regression\uff09\u3092\u8003\u3048\u308b\u3002\n",
                "\n",
                "$$y_i=\\beta_0+\\sum_{j=1}^k\\beta_j x_{ij} + u_i$$\n",
                "* $i=1,2,...n$\uff1a\u89b3\u6e2c\u5024\u306e\u30a4\u30f3\u30c7\u30c3\u30af\u30b9\n",
                "* $j=1,2,...k$\uff1a\u8aac\u660e\u5909\u6570\u306e\u6570\n",
                "\n",
                "\uff08\u6ce8\u610f\uff09\n",
                "\n",
                "$x_1$\u3068\u66f8\u304f\u5834\u5408\uff0c$x_{i1},x_{i1},...x_{n1}$\u3092\u8868\u3059\uff08\u7b2c\uff11\u756a\u76ee\u306e\u8aac\u660e\u5909\u6570\uff09\u3002\n",
                "\n",
                "\u4e00\u822c\u7684\u306b$x_j$\u3068\u66f8\u304f\u5834\u5408\uff0c$x_{ij},x_{ij},...x_{nj}$\u3092\u8868\u3059\uff08\u7b2c$j$\u756a\u76ee\u306e\u8aac\u660e\u5909\u6570\uff09\u3002"
            ]
        },
        {
            "cell_type": "markdown",
            "metadata": {
                "heading_collapsed": true
            },
            "source": [
                "## `statsmodels`\u3092\u4f7f\u3046"
            ]
        },
        {
            "cell_type": "markdown",
            "metadata": {
                "heading_collapsed": true,
                "hidden": true
            },
            "source": [
                "### \u63a8\u5b9a"
            ]
        },
        {
            "cell_type": "markdown",
            "metadata": {
                "hidden": true
            },
            "source": [
                "\u5358\u56de\u5e30\u5206\u6790\u3067\u4f7f\u3063\u305f\u540c\u3058\u30c7\u30fc\u30bf\u30bb\u30c3\u30c8`wage1`\u3092\u4f7f\u3044\uff0c\u8cc3\u91d1\u3068\u6559\u80b2\u306e\u95a2\u4fc2\u3092\u518d\u8003\u3059\u308b\u3002\u524d\u7ae0\u3068\u7570\u306a\u308b\u70b9\u306f\uff0c\u8907\u6570\u306e\u8aac\u660e\u5909\u6570\u3092\u5c0e\u5165\u3057\u91cd\u56de\u5e30\u5206\u6790\u3092\u304a\u3053\u306a\u3046\u3053\u3068\u3067\u3042\u308b\u3002\u8ffd\u52a0\u7684\u306a\u8aac\u660e\u5909\u6570\u3068\u3057\u3066\u6b21\u306e\u5909\u6570\u3092\u52a0\u3048\u308b\u3002\n",
                "* `exper`\uff1a\u6f5c\u5728\u7684\u306a\u7d4c\u9a13\u5e74\u6570\uff08\uff1d\u5e74\u9f62\u30fc\u6700\u9ad8\u5b66\u6b74\u307e\u3067\u306e\u5e74\u6570\u30fc\uff16\uff09\n",
                "* `tenure`\uff1a\u73fe\u5728\u306e\u8077\u5834\u3067\u306e\u5728\u8077\u5e74\u6570\n",
                "\n",
                "`statsmodels`\u3092\u4f7f\u3046\u4e0a\u3067\u5358\u56de\u5e30\u3068\u7570\u306a\u308b\u70b9\u306f\uff0c\u305d\u308c\u305e\u308c\u306e\u8aac\u660e\u5909\u6570\u306e\u524d\u306b`+`\u3092\u8ffd\u52a0\u3059\u308b\u3060\u3051\u3067\u3042\u308b\u3002\n",
                "\n",
                "\u307e\u305a\u5fc5\u8981\u306a\u5909\u6570\u3060\u3051\u3092\u53d6\u308a\u51fa\u3057\u5909\u6570`wage1`\u306b\u5272\u308a\u5f53\u3066\u308b\u3002"
            ]
        },
        {
            "cell_type": "code",
            "execution_count": null,
            "metadata": {},
            "outputs": [],
            "source": []
        },
        {
            "cell_type": "code",
            "execution_count": null,
            "metadata": {},
            "outputs": [],
            "source": []
        },
        {
            "cell_type": "markdown",
            "metadata": {
                "hidden": true
            },
            "source": [
                "\u88ab\u8aac\u660e\u5909\u6570\u306b\u5bfe\u6570\u8cc3\u91d1\u3092\u4f7f\u3046\u305f\u3081\u306b\u3001\u65b0\u305f\u306a\u5217`wage_log`\u3092\u8ffd\u52a0\u3059\u308b"
            ]
        },
        {
            "cell_type": "code",
            "execution_count": null,
            "metadata": {},
            "outputs": [],
            "source": []
        },
        {
            "cell_type": "markdown",
            "metadata": {
                "hidden": true
            },
            "source": [
                "\u56de\u5e30\u5f0f\u3067\u306f\u8ffd\u52a0\u306e\u8aac\u660e\u5909\u6570\u306e\u524d\u306b`+`\u3092\u4ed8\u3051\u308b\u3002"
            ]
        },
        {
            "cell_type": "code",
            "execution_count": null,
            "metadata": {},
            "outputs": [],
            "source": []
        },
        {
            "cell_type": "markdown",
            "metadata": {
                "hidden": true
            },
            "source": [
                "\u63a8\u8a08\u7d50\u679c\u3092\u5909\u6570`res_1`\u306b\u5272\u308a\u5f53\u3066\u308b\u3002"
            ]
        },
        {
            "cell_type": "code",
            "execution_count": null,
            "metadata": {},
            "outputs": [],
            "source": []
        },
        {
            "cell_type": "markdown",
            "metadata": {
                "heading_collapsed": true,
                "hidden": true
            },
            "source": [
                "### \u5c5e\u6027\u3068\u30e1\u30bd\u30c3\u30c9"
            ]
        },
        {
            "cell_type": "markdown",
            "metadata": {
                "hidden": true
            },
            "source": [
                "\u63a8\u5b9a\u7d50\u679c`res_1`\u306e\u5c5e\u6027\u3068\u30e1\u30bd\u30c3\u30c9\u306f`dir()`\u3084`see()`\u3067\u78ba\u8a8d\u3067\u304d\u308b\u3002\u4ee5\u4e0b\u3067\u306f`see()`\u3092\u4f7f\u3046\u3002"
            ]
        },
        {
            "cell_type": "code",
            "execution_count": null,
            "metadata": {},
            "outputs": [],
            "source": []
        },
        {
            "cell_type": "markdown",
            "metadata": {
                "hidden": true
            },
            "source": [
                "\u5358\u56de\u5e30\u5206\u6790\u3068\u540c\u69d8\u306b\u3001\u4fc2\u6570\u306e\u63a8\u5b9a\u5024\u306f\u5c5e\u6027`.params`\u3067\u53d6\u5f97\u3067\u304d\u308b\u3002"
            ]
        },
        {
            "cell_type": "code",
            "execution_count": null,
            "metadata": {},
            "outputs": [],
            "source": []
        },
        {
            "cell_type": "markdown",
            "metadata": {
                "hidden": true
            },
            "source": [
                "`res_1`\u306f`pandas.Series`\u578b\u306a\u306e\u3067\u3001\u30a4\u30f3\u30c7\u30c3\u30af\u30b9\u3092\u4f7f\u3063\u3066`educ`\u306e\u4fc2\u6570\u3060\u3051\u3092\u53d6\u308a\u51fa\u3059\u5834\u5408\u306f\u6b21\u306e\u3088\u3046\u306b\u3059\u308b\u3002"
            ]
        },
        {
            "cell_type": "code",
            "execution_count": null,
            "metadata": {},
            "outputs": [],
            "source": []
        },
        {
            "cell_type": "markdown",
            "metadata": {
                "hidden": true
            },
            "source": [
                "\u6b21\u306b\uff0c\u30e1\u30bd\u30c3\u30c9`predict()`\u3092\u4f7f\u3063\u3066\u4e88\u6e2c\u5024\u3092\u8a08\u7b97\u3057\u3066\u307f\u3088\u3046\u3002\u6b21\u306e\u4f8b\u3067\u306f\uff0c`educ`, `tenure`, `exper`\u306e\u5e73\u5747\u5024\u3067\u306e`np.log(wage)`\u3092\u8a08\u7b97\u3059\u308b\u3002"
            ]
        },
        {
            "cell_type": "code",
            "execution_count": null,
            "metadata": {},
            "outputs": [],
            "source": [
                "\n"
            ]
        },
        {
            "cell_type": "markdown",
            "metadata": {
                "hidden": true
            },
            "source": [
                "`wm`\u306f`pandas.Series`\u306a\u306e\u3067\u3001\u5909\u6570\u306e\u884c\u30e9\u30d9\u30eb\u3092\u4f7f\u3044`wm['educ']`\u3067`educ`\u306e\u5e73\u5747\u5024\u3060\u3051\u3092\u53d6\u308a\u51fa\u3059\u3053\u3068\u304c\u3067\u304d\u308b\u3002"
            ]
        },
        {
            "cell_type": "code",
            "execution_count": null,
            "metadata": {},
            "outputs": [],
            "source": []
        },
        {
            "cell_type": "markdown",
            "metadata": {
                "hidden": true
            },
            "source": [
                "`predict()`\u306b\u6e21\u3059\u5f15\u6570\u3068\u3057\u3066\u306f\u3001\u8aac\u660e\u5909\u6570\u306e`DataFrame`\u3092\u4f5c\u308b\u306e\u304c\u4e00\u756a\u7c21\u5358\u3067\u3042\u308d\u3046\u3002\n",
                "\n",
                "\u6b21\u306e\u30b3\u30fc\u30c9\u3067\u306f\u8f9e\u66f8\u306e\u5024\u304c`wm['educ']`\u3067\u306f\u306a\u304f`[wm['educ']]`\u3068\u306a\u3063\u3066\u3044\u308b\u70b9\u306b\u6ce8\u610f\u3057\u3088\u3046\u3002\u3053\u308c\u306f`DataFrame`\u3092\u4f5c\u6210\u3059\u308b\u969b\uff0c\u5358\u306a\u308b\u5024\u3067\u306f\u306a\u304f`list`\u3084`array`\u306b\u3057\u3066\u5024\u3068\u3057\u3066\u4f7f\u3046\u5fc5\u8981\u304c\u3042\u308b\u305f\u3081\u3067\u3042\u308b\u3002"
            ]
        },
        {
            "cell_type": "code",
            "execution_count": null,
            "metadata": {},
            "outputs": [],
            "source": [
                "\n",
                "\n",
                ""
            ]
        },
        {
            "cell_type": "code",
            "execution_count": null,
            "metadata": {},
            "outputs": [],
            "source": []
        },
        {
            "cell_type": "markdown",
            "metadata": {
                "hidden": true
            },
            "source": [
                "\u8907\u6570\u306e\u4e88\u6e2c\u5024\u3092\u8a08\u7b97\u3059\u308b\u306b\u306f\u3001\u8f9e\u66f8\u306e\u5024\u306b\u3042\u308b`list`\u3084`array`\u306b\u8907\u6570\u306e\u8981\u7d20\u3092\u66f8\u304d\u8fbc\u3080\u3002\u6b21\u306e\u4f8b\u3067\u306f\u3001`tenure`\u3068`exper`\u3092\u5e73\u5747\u5024\u306b\u56fa\u5b9a\u3057\u3001`educ`\u3092\u5e73\u5747\u5024\u3001\u5e73\u5747\u5024\u306e0.5\u500d\u306e\u5024\u3001\u5e73\u5747\u5024\u306e1.5\u500d\u306e\u5024\u306b\u5909\u5316\u3055\u305b\u3066\u4e88\u6e2c\u5024\u3092\u8a08\u7b97\u3057\u3066\u3044\u308b\u3002"
            ]
        },
        {
            "cell_type": "code",
            "execution_count": null,
            "metadata": {},
            "outputs": [],
            "source": [
                "\n",
                "\n",
                "",
                "",
                "",
                "",
                "",
                ""
            ]
        },
        {
            "cell_type": "markdown",
            "metadata": {
                "hidden": true
            },
            "source": [
                "\uff08\u30b3\u30e1\u30f3\u30c8\uff09\n",
                "\n",
                "`predict()`\u306e\u5f15\u6570\u3092\u7701\u7565\u3059\u308b\u3068\u4e88\u6e2c\u5024\u3092\u8fd4\u3059\u5c5e\u6027`.fittedvalues`\u3068\u540c\u3058\u5024\u3092\u8fd4\u3059\u3002\u305d\u308c\u3092\u78ba\u304b\u3081\u308b\u305f\u3081\u306b\u6b21\u306e\u30b3\u30fc\u30c9\u3092\u8a55\u4fa1\u3057\u3066\u307f\u308b\u3002"
            ]
        },
        {
            "cell_type": "code",
            "execution_count": null,
            "metadata": {},
            "outputs": [],
            "source": []
        },
        {
            "cell_type": "markdown",
            "metadata": {
                "hidden": true
            },
            "source": [
                "* `res_1.predict() == res_1.fittedvalues`\u306e\u610f\u5473\n",
                "    * `res_1.predict()`\u3068`res_1.fittedvalues`\u306fSeries\u3092\u8fd4\u3059\u306e\u3067\uff0c`==`\u3067\u6bd4\u8f03\u3059\u308b\u3053\u3068\u306b\u3088\u308a\uff0c\u305d\u308c\u305e\u308c\u306e\u5bfe\u5fdc\u3059\u308b\u5024\u304c\u7b49\u3057\u3051\u308c\u3070`True`\u7570\u306a\u308c\u3070`False`\u306b\u306a\u308bSeries\u3092\u8fd4\u3059\u3002\n",
                "* `( res_1.predict() == res_1.fittedvalues )`\u306e`()`\u306f\u3001\u305d\u306e\u4e2d\u306e\u30b3\u30fc\u30c9\u3092\u5148\u306b\u5b9f\u884c\u3059\u308b\u3053\u3068\u3092\u6307\u5b9a\u3059\u308b\uff08\u6570\u5b66\u306e`()`\u3068\u540c\u3058\uff09\u3002\n",
                "* `all()`\u306f\u8fd4\u3055\u308c\u305fSeries\u306e\u5024\u304c\u5168\u3066`True`\u3067\u3042\u308b\u5834\u5408\u306f`True`\u3092\u3001\uff11\u3064\u3067\u3082`False`\u304c\u3042\u308c\u3070`False`\u3092\u8fd4\u3059\u3002\n",
                "\n",
                "`True`\u304c\u8fd4\u3055\u308c\u3066\u3044\u308b\u306e\u3067\u3001\u5024\u306f\u5168\u3066\u540c\u3058\u3060\u3068\u78ba\u8a8d\u3067\u304d\u305f\u3002"
            ]
        },
        {
            "cell_type": "markdown",
            "metadata": {
                "heading_collapsed": true
            },
            "source": [
                "## \u5909\u6570\u306e\u5909\u63db"
            ]
        },
        {
            "cell_type": "markdown",
            "metadata": {
                "hidden": true
            },
            "source": [
                "\u4e0a\u306e\u91cd\u56de\u5e30\u5206\u6790\u3067\u306f\uff0c\u56de\u5e30\u5f0f\u306e`wage`\u3092\u5bfe\u6570\u5316\u3057\u305f\u5909\u6570\u3092\u65b0\u305f\u306b\u4f5c\u6210\u3057\u8a08\u7b97\u3092\u884c\u306a\u3063\u3066\u3044\u308b\u304c\u3001\u56de\u5e30\u5f0f\u306e\u4e2d\u3067\u5909\u6570\u306e\u5909\u63db\u3092\u76f4\u63a5\u6307\u5b9a\u3059\u308b\u3053\u3068\u3082\u3067\u304d\u308b\u3002\u4ee5\u4e0b\u3067\u8aac\u660e\u3059\u308b\u65b9\u6cd5\u306f\u88ab\u8aac\u660e\u5909\u6570\u30fb\u8aac\u660e\u5909\u6570\u306e\u4e21\u65b9\u306b\u4f7f\u7528\u53ef\u80fd\u3067\u3042\u308b\u3002"
            ]
        },
        {
            "cell_type": "markdown",
            "metadata": {
                "heading_collapsed": true,
                "hidden": true
            },
            "source": [
                "### `Numpy`\u306e\u95a2\u6570\u3092\u4f7f\u3046\u65b9\u6cd5"
            ]
        },
        {
            "cell_type": "markdown",
            "metadata": {
                "hidden": true
            },
            "source": [
                "`Numpy`\u306e\u5bfe\u6570\u95a2\u6570\u3092\u4f7f\u3063\u3066\uff0c\u56de\u5e30\u5f0f\u306e\u4e2d\u3067\u76f4\u63a5\u66f8\u304d\u63db\u3048\u308b\u3053\u3068\u304c\u3067\u304d\u308b\u3002`wage`\u3092\u5bfe\u6570\u5316\u3059\u308b\u4f8b\u3092\u8003\u3048\u308b\u3002"
            ]
        },
        {
            "cell_type": "code",
            "execution_count": null,
            "metadata": {},
            "outputs": [],
            "source": []
        },
        {
            "cell_type": "code",
            "execution_count": null,
            "metadata": {},
            "outputs": [],
            "source": []
        },
        {
            "cell_type": "code",
            "execution_count": null,
            "metadata": {},
            "outputs": [],
            "source": []
        },
        {
            "cell_type": "markdown",
            "metadata": {
                "heading_collapsed": true,
                "hidden": true
            },
            "source": [
                "### `I()`\u3092\u4f7f\u3046\u65b9\u6cd5"
            ]
        },
        {
            "cell_type": "markdown",
            "metadata": {
                "hidden": true
            },
            "source": [
                "\u6b21\u306b`exper`\u306e\u4e8c\u4e57\u3092\u56de\u5e30\u5f0f\u306b\u5165\u308c\u308b\u30b1\u30fc\u30b9\u3092\u8003\u3048\u3088\u3046\u3002\u3053\u306e\u5834\u5408\u3001`np.square(exper)`\u3067\u3082\u826f\u3044\u304c\u3001`I()`\u306e`()`\u306e\u4e2d\u306b\u76f4\u63a5\u5f0f\u3092\u66f8\u304f\u3053\u3068\u304c\u53ef\u80fd\u3068\u306a\u308b\u3002"
            ]
        },
        {
            "cell_type": "code",
            "execution_count": null,
            "metadata": {},
            "outputs": [],
            "source": [
                "\n"
            ]
        },
        {
            "cell_type": "code",
            "execution_count": null,
            "metadata": {},
            "outputs": [],
            "source": []
        },
        {
            "cell_type": "markdown",
            "metadata": {
                "hidden": true
            },
            "source": [
                "\u3053\u306e\u65b9\u6cd5\u3067\u3042\u308c\u3070\u3001`Numpy`\u306b\u7121\u3044\u95a2\u6570\u3082\u76f4\u63a5\u66f8\u304f\u3053\u3068\u304c\u3067\u304d\u308b\u3002"
            ]
        },
        {
            "cell_type": "markdown",
            "metadata": {
                "heading_collapsed": true,
                "hidden": true
            },
            "source": [
                "### `def`\u3092\u4f7f\u3046\u65b9\u6cd5"
            ]
        },
        {
            "cell_type": "markdown",
            "metadata": {
                "hidden": true
            },
            "source": [
                "\u3088\u308a\u8907\u96d1\u306a\u95a2\u6570\u3067\u3042\u308c\u3070`def`\u3092\u4f7f\u3044\u3001\u95a2\u6570\u3092\u5b9a\u7fa9\u3057\u3001\u305d\u308c\u3092\u56de\u5e30\u5f0f\u306e\u4e2d\u3067\u4f7f\u3046\u65b9\u304c\u826f\u3044\u304b\u3082\u77e5\u308c\u306a\u3044\u3002`exper`\u306e\u4e8c\u4e57\u3092\u56de\u5e30\u5f0f\u306b\u5165\u308c\u308b\u30b1\u30fc\u30b9\u3092\u8003\u3048\u3088\u3046\u3002"
            ]
        },
        {
            "cell_type": "code",
            "execution_count": null,
            "metadata": {},
            "outputs": [],
            "source": [
                "\n"
            ]
        },
        {
            "cell_type": "code",
            "execution_count": null,
            "metadata": {},
            "outputs": [],
            "source": [
                "\n"
            ]
        },
        {
            "cell_type": "code",
            "execution_count": null,
            "metadata": {},
            "outputs": [],
            "source": []
        },
        {
            "cell_type": "markdown",
            "metadata": {
                "heading_collapsed": true,
                "hidden": true
            },
            "source": [
                "### `Q()`\u306b\u3064\u3044\u3066"
            ]
        },
        {
            "cell_type": "markdown",
            "metadata": {
                "hidden": true
            },
            "source": [
                "`Q()`\u306f\u5909\u6570\u306e\u5909\u63db\u306b\u4f7f\u3046\u308f\u3051\u3067\u306f\u306a\u3044\u304c\u3001\u305d\u306e\u7528\u9014\u3092\u899a\u3048\u3066\u304a\u304f\u3068\u5f79\u306b\u7acb\u3064\u3053\u3068\u3060\u308d\u3046\u3002\n",
                "\n",
                "`Python`\u306b\u306f\u4e88\u7d04\u8a9e\uff08reserved words\uff09\u3068\u547c\u3070\u308c\u308b\u3082\u306e\u304c\u308a\u3001\u5909\u6570\u540d\u306b\u306f\u4f7f\u3048\u306a\u3044\u3002\u4ee5\u4e0b\u304c\u305d\u306e\u4f8b\u3067\u3042\u308b\u3002\n",
                "* `def`\u3068`return`\uff1a\u95a2\u6570\u3092\u5b9a\u7fa9\u3059\u308b\u5834\u5408\u306b\u4f7f\u3046\n",
                "* `for`\u3068`while`\uff1a\u30eb\u30fc\u30d7\u306b\u4f7f\u3046\n",
                "* `import`\u3068`from`\uff1a\u30d1\u30c3\u30b1\u30fc\u30b8\u306e\u30a4\u30f3\u30dd\u30fc\u30c8\n",
                "* `if`\u3068`elif`\u3068`elase`\uff1a`if`\u6587\u306b\u4f7f\u3046\n",
                "\n",
                "\u307e\u305f`DataFrame`\u306e\u5217\u30e9\u30d9\u30eb\u306b\u4e88\u7d04\u8a9e\u3092\u6587\u5b57\u5217\u3068\u3057\u3066\u4f7f\u3046\u3053\u3068\u3082\u907f\u3051\u308b\u3079\u304d\u3067\u3042\u308d\u3046\u3002\u3057\u304b\u3057\u3001\u3069\u3046\u3057\u3066\u3082\u4f7f\u3046\u5834\u5408\u3082\u3042\u308b\u304b\u3082\u3057\u308c\u306a\u3044\uff08\u4f8b\u3048\u3070\u3001\u4ed6\u306e\u30d7\u30ed\u30b0\u30e9\u30e0\u7528\u306b\u4f5c\u6210\u3055\u308c\u3066\u30c7\u30fc\u30bf\u3092\u8aad\u307f\u8fbc\u3080\u5834\u5408\uff09\u3002\u3060\u304c\u3001\u4e88\u7d04\u8a9e\u3092\u305d\u306e\u307e\u307e\u56de\u5e30\u5f0f\u306b\u66f8\u304f\u3068\u30a8\u30e9\u30fc\u304c\u767a\u751f\u3059\u308b\u3002\u305d\u306e\u969b\u306b\u5f79\u306b\u7acb\u3064\u306e\u304c`Q()`\u3067\u3042\u308b\u3002\u4f8b\u3048\u3070\u3001`df`\u3068\u3044\u3046`DataFrame`\u306b\u300c\u5229\u5b50\u7387\u300d\u306e\u5217\u30e9\u30d9\u30eb\u3068\u3057\u3066`return`\u304c\u8a2d\u5b9a\u3055\u308c\u3001\u3082\u3046\u4e00\u3064\u306e\u5909\u6570\u306b`X`\u304c\u3042\u308b\u3068\u3057\u3088\u3046\u3002`Q()`\u306e\u5f15\u6570\u3068\u3057\u3066`return`\u3092\u6587\u5b57\u5217\u3067\u66f8\u304f\u3053\u3068\u306b\u3088\u308a\u3001\u901a\u5e38\u3069\u304a\u308a\u306e\u30b3\u30fc\u30c9\u3092\u66f8\u304f\u3053\u3068\u304c\u3067\u304d\u308b\u3002\n",
                "\n",
                "```\n",
                "formula = 'Q(\"return\") ~ X\n",
                "res = ols(formula, data=df).fit()\n",
                "```\n",
                "\n",
                "\u307e\u305f`123go`\u306e\u3088\u3046\u306b\u6570\u5b57\u304b\u3089\u59cb\u307e\u308b\u5217\u30e9\u30d9\u30eb\u3082\u3042\u308b\u304b\u3082\u3057\u308c\u306a\u3044\u3002\u3053\u306e\u5834\u5408\u3082\u56de\u5e30\u5f0f\u3067\u305d\u306e\u307e\u307e\u4f7f\u3046\u3068\u30a8\u30e9\u30fc\u304c\u767a\u751f\u3059\u308b\u304c\u3001`Q()`\u306e\u5f15\u6570\u3068\u3057\u3066\u6587\u5b57\u5217\u3067\u6307\u5b9a\u3059\u308c\u3070\u304c\u4f7f\u3048\u308b\u3088\u3046\u306b\u306a\u308b\u3002\n",
                "```\n",
                "formula = 'Q(\"return\") ~ X + Q(\"123go\")'\n",
                "res = ols(formula, data=df).fit()\n",
                "```"
            ]
        },
        {
            "cell_type": "markdown",
            "metadata": {
                "heading_collapsed": true
            },
            "source": [
                "## \u4fc2\u6570\u306e\u89e3\u91c8"
            ]
        },
        {
            "cell_type": "markdown",
            "metadata": {
                "hidden": true
            },
            "source": [
                "\u6b21\u306e\u63a8\u5b9a\u5f0f\u3092\u8003\u3048\u3088\u3046\u3002\n",
                "\n",
                "$$y=\\beta_0+\\beta_1x_1+\\beta_2x_2+\\beta_3x_3+u$$\n",
                "\n",
                "\uff1c\u89e3\u91c8\uff11\uff1aCeteris Paribus\uff1e\n",
                "\n",
                "$x_1$\u4ee5\u5916\u306e\u5909\u6570\u3092\u56fa\u5b9a\u3057\u3066$x_1$\u3060\u3051\u3092\u5c11\u3057\u3060\u3051\u5909\u5316\u3055\u305b\u308b\u3002\u3053\u308c\u306b\u3088\u308a\uff0c$y$\u306b\u5bfe\u3059\u308b$x_1$\u306e\u5f71\u97ff\u3060\u3051\u3092\u8003\u3048\u308b\u3053\u3068\u304c\u53ef\u80fd\u3068\u306a\u308a\u3001\u6b21\u306e\u8a18\u53f7\u3067\u8868\u3059\u3002\n",
                "\n",
                "$$\\dfrac{\\Delta y}{\\Delta x_1}=\\beta_1$$\n",
                "\n",
                "\u3053\u3053\u3067\n",
                "* $\\Delta x_1=x_1$\u306e\u5909\u5316\uff08\uff11\u5358\u4f4d\u306e\u5909\u5316\u3068\u89e3\u91c8\u3059\u308b\uff09 \n",
                "* $\\Delta y=y$\u306e\u5909\u5316 \n",
                "\n",
                "$\\beta_1$\u306f\u3001$x_1$\u304c\u4e00\u5358\u4f4d\u5897\u52a0\u3057\u305f\u5834\u5408\u306e$y$\u306e\u5909\u5316\u3092\u793a\u3057\u3066\u3044\u308b\u3002\u91cd\u8981\u306a\u70b9\u306f\uff0c$x_1$\u4ee5\u5916\u306e\u5909\u6570\u306f\u56fa\u5b9a\u3055\u308c\u3066\u3044\u308b\u3053\u3068\u3067\u3042\u308b\u3002\u3053\u308c\u3092Ceteris Paribus (\u30e9\u30c6\u30f3\u8a9e; \"other things being equal\"\u3068\u3044\u3046\u610f\u5473)\u3068\u547c\u3076\u3002\n",
                "\n",
                "\uff1c\u89e3\u91c8\uff12\uff1a\u5f71\u97ff\u306e\u9664\u53bb\uff1e\n",
                "\n",
                "\u307e\u305a$y$\u3068$x_1$\u306e\u95a2\u4fc2\u3092\u6349\u3048\u308b$\\hat{\\beta}_1$\u3092\u8003\u3048\u3088\u3046\u3002\u3082\u3057\u63a8\u5b9a\u5f0f\u306b$x_2$\u3068$x_3$\u304c\u5165\u3063\u3066\u3044\u306a\u3051\u308c\u3070\uff0c$\\hat{\\beta}_1$\u306f$x_2$\u3068$x_3$\u306e\u5f71\u97ff\u3092\u62fe\u3046\u3053\u3068\u306b\u306a\u308b\uff08$x_1$\u304c$x_2$\u3068$x_3$\u306e\u305d\u308c\u305e\u308c\u3068\u5b8c\u5168\u306b\u7121\u76f8\u95a2\u3067\u306a\u3044\u5834\u5408\uff09\u3002\u5373\u3061\uff0c$x_2$\u3068$x_3$\u304c\u5165\u308b\u3053\u3068\u306b\u3088\u308a\uff0c$\\hat{\\beta}_1$\u306f\u3053\u308c\u3089\u306e\u5909\u6570\u306e\u5f71\u97ff\u3092\u300c\u9664\u53bb\u300d\u3057\u305f\u5f8c\u306b\u6b8b\u308b$y$\u3068$x_1$\u306e\u95a2\u4fc2\u3092\u6349\u3048\u3066\u3044\u308b\u3068\u8003\u3048\u308b\u3053\u3068\u304c\u3067\u304d\u308b\u3002\u540c\u3058\u3088\u3046\u306b\uff0c$\\hat{\\beta}_j$\u306f$j$\u4ee5\u5916\u306e\u8aac\u660e\u5909\u6570\u306e\u5f71\u97ff\u3092\u53d6\u308a\u9664\u3044\u305f\u5f8c\u306b\u6b8b\u308b$y$\u3068$x_j$\u306e\u95a2\u4fc2\u3092\u793a\u3057\u3066\u3044\u308b\u3002\n",
                "\n",
                "---\n",
                "`wage1`\u3092\u4f7f\u3044\u4ee5\u4e0b\u3092\u63a8\u5b9a\u3057\u3088\u3046\u3002"
            ]
        },
        {
            "cell_type": "code",
            "execution_count": null,
            "metadata": {},
            "outputs": [],
            "source": [
                "\n",
                "\n",
                ""
            ]
        },
        {
            "cell_type": "markdown",
            "metadata": {
                "hidden": true
            },
            "source": [
                "`tenure`\u3068`exper`\u3092\u56fa\u5b9a\u3057\u3066\uff0c`educ`\u3092\u4e00\u5358\u4f4d\u5897\u52a0\u3055\u305b\u308b\u3068\u3057\u3088\u3046\u3002\u305d\u306e\u52b9\u679c\u306f\n",
                "\n",
                "$$\\dfrac{\\Delta\\text{wage}}{\\Delta\\text{educ}}\\approx 0.599$$\n",
                "\n",
                "\u5373\u3061\uff0c\u6559\u80b2\u671f\u9593\u304c\u4e00\u5358\u4f4d\uff08\u3053\u3053\u3067\u306f\u4e00\u5e74\uff09\u5897\u3048\u308b\u3068\u8cc3\u91d1\u306f0.599\u30c9\u30eb\u5897\u52a0\u3059\u308b\u3053\u3068\u3092\u793a\u3057\u3066\u3044\u308b\u3002\n",
                "\n",
                "---\n",
                "\u6b21\u306b`formula_1`\u306e\u56de\u5e30\u5f0f\u3092\u4f7f\u3063\u3066\u63a8\u5b9a\u3057\u305f`res_1`\u3092\u8003\u3048\u3088\u3046\u3002\u3053\u306e\u5834\u5408\uff0c\n",
                "\n",
                "$$\\dfrac{\\Delta\\ln(\\text{wage})}{\\Delta\\text{educ}}\\approx 0.092$$\n",
                "\n",
                "\u5bfe\u6570\u306e\u6027\u8cea\u3092\u4f7f\u3044\u5de6\u8fba\u306f\u6b21\u306e\u3088\u3046\u306b\u66f8\u304d\u63db\u3048\u308b\u3053\u3068\u304c\u3067\u304d\u308b\u3002\n",
                "\n",
                "$$\\dfrac{\\Delta\\ln(\\text{wage})}{\\Delta\\text{educ}}\n",
                "=\\dfrac{\\Delta\\text{wage}/\\text{wage}}{\\Delta\\text{educ}}\n",
                "=\\dfrac{\\%\\Delta\\text{wage}}{\\Delta\\text{educ}}\n",
                "$$\n",
                "\n",
                "\u3053\u3053\u3067\uff0c$\\%\\Delta\\text{wage}=$\uff05\u3067\u8868\u3057\u305f\n",
                "`wage`\u306e\u5909\u5316\u3002\u5f93\u3063\u3066\uff0c\u6559\u80b2\u671f\u9593\u304c\u4e00\u5358\u4f4d\uff08\u3053\u3053\u3067\u306f\u4e00\u5e74\uff09\u5897\u3048\u308b\u3068\u8cc3\u91d1\u306f\u7d049.2%\u5897\u52a0\u3059\u308b\u3053\u3068\u3092\u793a\u3057\u3066\u3044\u308b\u3002"
            ]
        },
        {
            "cell_type": "markdown",
            "metadata": {
                "heading_collapsed": true
            },
            "source": [
                "## \u30ac\u30a6\u30b9\u30fb\u30de\u30eb\u30b3\u30d5\u5b9a\u7406"
            ]
        },
        {
            "cell_type": "markdown",
            "metadata": {
                "heading_collapsed": true,
                "hidden": true
            },
            "source": [
                "### \u6bcd\u96c6\u56e3\u56de\u5e30\u5f0f\u3068\u6a19\u672c\u56de\u5e30\u5f0f"
            ]
        },
        {
            "cell_type": "markdown",
            "metadata": {
                "hidden": true
            },
            "source": [
                "\u4eca\u307e\u3067\u306f\u56de\u5e30\u5f0f\u306b\u57fa\u3065\u3044\u3066`Python`\u3092\u4f7f\u3044\u4fc2\u6570\u306e\u63a8\u5b9a\u65b9\u6cd5\u3092\u8aac\u660e\u3057\u305f\u304c\uff0c\u3053\u3053\u3067\u306fOLS\u63a8\u5b9a\u91cf\u306e\u671b\u307e\u3057\u3044\u6027\u8cea\u3068\u306f\u306a\u306b\u304b\uff0c\u671b\u307e\u3057\u3044\u6027\u8cea\u306e\u6761\u4ef6\u306f\u306a\u306b\u304b\u3092\u8003\u3048\u308b\u3002\u305d\u306e\u305f\u3081\u306b\uff0c\u307e\u305a\u6bcd\u96c6\u56e3\u56de\u5e30\u5f0f\u3068\u6a19\u672c\u56de\u5e30\u5f0f\u306b\u3064\u3044\u3066\u8aac\u660e\u3059\u308b\u3002\n",
                "\n",
                "\u8a08\u91cf\u7d4c\u6e08\u5b66\u3067\u306f\uff0c\u30c7\u30fc\u30bf\u3092\u4f7f\u3044**\u7d4c\u6e08\u7406\u8ad6\uff08\u7d4c\u6e08\u5b66\u7684\u306a\u8003\u3048\uff09**\n",
                "\u306b\u57fa\u3065\u3044\u305f\u4eee\u8aac\u3092\u691c\u8a3c\u3059\u308b\u3002\u4f8b\u3068\u3057\u3066\u300c\u6d88\u8cbb\u306f\u5bb6\u8a08\u306e\u6240\u5f97$x_1$\u304c\u9ad8\u304f\u306a\u308b\u3068\u5897\u3048\u308b\u304c\uff0c\u5b50\u3069\u3082\u306e\u6570$x_2$\u3068\u53cd\u6bd4\u4f8b\u3059\u308b\u300d\u3068\u3044\u3046\u4eee\u8aac\u3092\u8003\u3048\u308b\u3002\u6240\u5f97\u3068\u5b50\u3069\u3082\u306e\u6570\u306b\u4f9d\u5b58\u3059\u308b\u6d88\u8cbb\u306e\u90e8\u5206\u3060\u3051\u3092$y^*$\u3068\u66f8\u304f\u3068\uff0c\u4e00\u822c\u578b\u306e\u6d88\u8cbb\u95a2\u6570\u306f$y^*=f\\left(x_1,x_2\\right)$\u3068\u306a\u308b\u3002\u66f4\u306b\uff0c\u7dda\u5f62\u3092\u4eee\u5b9a\u3059\u308b\u3068\u6b21\u5f0f\u3068\u306a\u308b\u3002\n",
                "\n",
                "$$y^*=\\beta_0+\\beta_1x_1+\\beta_2x_2\\qquad{(\u5f0f\uff11)}$$\n",
                "\n",
                "\u4f8b\u3048\u3070\uff0c\u6240\u5f9730\u4e07\u5186\uff0c\u5b50\u3069\u30822\u4eba\u306e\u5bb6\u8a08\u306e\u5834\u5408\u3001\u6d88\u8cbb\u306f$\\beta_0+\\beta_1\\cdot\\left(\\text{30\u4e07\u5186}\\right)+\\beta_2\\cdot\\left(\\text{2\u4eba}\\right)$\u3068\u306a\u308b\u3002\u6240\u5f97 $x_1$\u304c\u5909\u5316\u3059\u308b\u3068\u6d88\u8cbb$y^*$\u3082\u5909\u5316\u3059\u308b\u3053\u3068\u304c\u5206\u304b\u308b\u3002\u3053\u306e\u3053\u3068\u306f$\\beta_2=0$\u306e\u5358\u56de\u5e30\u306e\u5834\u5408\uff08\u6d88\u8cbb\u304c\u5b50\u4f9b\u306e\u6570\u306b\u4f9d\u5b58\u3057\u306a\u3044\u5834\u5408\uff09\u3092\u8003\u3048\u308c\u3070\u3082\u3063\u3068\u5206\u304b\u308a\u3084\u3059\u3044\u3060\u308d\u3046\u3002\u305d\u306e\u5834\u5408\uff0c(\u5f0f\uff11)\u306f\n",
                "\n",
                "$$y^*=\\beta_0+\\beta_1x_1$$\n",
                "\n",
                "\u3068\u306a\u308a\uff0c\u6a2a\u8ef8\u306b$x_1$\uff0c\u7e26\u8ef8\u306b$y^*$\u3092\u7f6e\u304f\u56f3\u3067\u306f\u53f3\u4e0a\u304c\u308a\u306e\u76f4\u7dda\u3068\u306a\u308b\u3002"
            ]
        },
        {
            "cell_type": "markdown",
            "metadata": {
                "hidden": true
            },
            "source": [
                "(\u5f0f\uff11)\u306f**\u5e73\u5747**\u306e\u5bb6\u8a08\u306e\u884c\u52d5\u3092\u8868\u3057\u3066\u3044\u308b\u3068\u8003\u3048\u308b\u3053\u3068\u304c\u3067\u304d\u308b\u3002\u5f93\u3063\u3066\uff0c\u540c\u3058\u6240\u5f97\u3068\u5b50\u3069\u3082\u306e\u6570\u306e\u5bb6\u8a08\u3067\u3082\u597d\u307f\u7b49\u306e\u8981\u56e0\u304c\u9055\u3046\u3068\u6d88\u8cbb\u306b\u9055\u3044\u304c\u3067\u308b\u3002\u305d\u306e\u9055\u3044\u3092\uff08\u5e73\u5747\u30bc\u30ed\u306e\uff09\u8aa4\u5dee\u9805$u$\u3068\u3057\u3066\u6349\u3048\u308b\u3068\uff0c\u5168\u3066\u306e\u5bb6\u8a08\u306e\u6d88\u8cbb $y$\u306f\u6b21\u5f0f\u3067\u8868\u3059\u3053\u3068\u304c\u3067\u304d\u308b\u3002\n",
                "\n",
                "$$y=y^*+u\\qquad{(\u5f0f\uff12)}$$\n",
                "\n",
                "* $y^*$\uff1a\u5e73\u5747\u306e\u5bb6\u8a08\u306e\u6d88\u8cbb\u3067\u3042\u308a\uff0c$x_1$\u3068$x_2$\u306e\u307f\u306b\u4f9d\u5b58\u3059\u308b\u90e8\u5206\n",
                "* $u$\uff1a\u5e73\u5747\u306e\u5bb6\u8a08\u3068\u7570\u306a\u308b\u5bb6\u8a08\u306e\u6d88\u8cbb\u3067\u3042\u308a\uff0c\u5e73\u5747\u5bb6\u8a08\u3068\u306e\u9055\u3044\u3092\u6349\u3048\u308b\u90e8\u5206\n",
                "\n",
                "(\u5f0f\uff11)\u3092(\u5f0f\uff12)\u306b\u4ee3\u5165\u3059\u308b\u3068\n",
                "\n",
                "$$y=\\beta_0+\\beta_1x_1+\\beta_2x_2+u\\qquad{(\u5f0f\uff13)}$$\n",
                "\n",
                "\u3068\u306a\u308b\u3002\u3053\u306e\u5f0f\u306f\u4eee\u8aac\u306b\u57fa\u3065\u3044\u305f\u95a2\u4fc2\u5f0f\u3067\u3042\u308a\uff0c**\u6bcd\u96c6\u56e3\u56de\u5e30\u5f0f**\u3068\u547c\u3070\u308c\u308b\u3002\u307e\u305f(\u5f0f\uff13)\u3092\u4f7f\u3044$x_1$\u3068$x_2$\u3092\u6240\u4e0e\u3068\u3057\u3066\u671f\u5f85\u5024\u3092\u8a08\u7b97\u3059\u308b\u3068\u6b21\u5f0f\u3092\u5f97\u308b\u3002\n",
                "\n",
                "$$\\text{E}\\left(y|x_1,x_2\\right)=y^*\\qquad\\because\\;\\text{E}(u)=0$$\n",
                "\n",
                "\u3053\u308c\u306f\u300c$x_1$\u3068$x_2$\u3092\u6240\u4e0e\u3068\u3059\u308b\u300d\u3068\u3044\u3046\u6761\u4ef6\u306e\u4e0b\u3067\u306e\u671f\u5f85\u5024\u306a\u306e\u3067**\u6761\u4ef6\u4ed8\u304d\u671f\u5f85\u5024**\uff08conditional expectations\uff09\u3068\u547c\u3070\u308c\u308b\u3002\u3053\u306e\u5f0f\u306f\uff0c$y$\u306e\u6761\u4ef6\u4ed8\u304d\u671f\u5f85\u5024\u306f\u6bcd\u96c6\u56e3\u56de\u5e30\u5f0f\u306e$x_1$\u3068$x_2$\u306b\u4f9d\u5b58\u3059\u308b\u90e8\u5206\u3067\u3042\u308b$y^*$\u3068\u7b49\u3057\u3044\u3053\u3068\u3092\u793a\u3057\u3066\u3044\u308b\u3002\u5373\u3061\uff0c\uff08\u5f0f\uff11\uff09\u306f\u6bcd\u96c6\u56e3\u3067\u5e73\u5747\u3068\u3057\u3066\u6210\u7acb\u3059\u308b**\u6bcd\u96c6\u56e3\u56de\u5e30\u7dda**\u3092\u8868\u3057\u3066\u3044\u308b\u3002"
            ]
        },
        {
            "cell_type": "markdown",
            "metadata": {
                "hidden": true
            },
            "source": [
                "```{note}\n",
                "* \u6bcd\u96c6\u56e3\u56de\u5e30\u5f0f(\u5f0f\uff13)\u306f\u7406\u8ad6\u7684\u306a\u4eee\u5b9a\u306b\u57fa\u3065\u3044\u3066\u5c0e\u51fa\u3057\u305f\u305f\u3081\uff0c\u305d\u308c\u304c\u6b63\u3057\u3044\u304b\u3069\u3046\u304b\u306f\u4e8b\u524d\u306b\u5206\u304b\u3089\u306a\u3044\u3002\n",
                "* \u6bcd\u96c6\u56e3\u30d1\u30e9\u30e1\u30fc\u30bf$\\beta_j$, $j=0,1,2$\u3068\u8aa4\u5dee\u9805$u$\u306f**\u89b3\u6e2c\u3067\u304d\u306a\u3044**\u3002\n",
                "```"
            ]
        },
        {
            "cell_type": "markdown",
            "metadata": {
                "hidden": true
            },
            "source": [
                "---\n",
                "\u6bcd\u96c6\u56e3\u56de\u5e30\u5f0f(\u5f0f\uff13)\u304c\u6210\u7acb\u3059\u308b\u3068\u3044\u3046**\u4eee\u5b9a**\u306e\u3082\u3068\u3067\u6bcd\u96c6\u56e3\u30d1\u30e9\u30e1\u30fc\u30bf$\\beta_j$\uff0c$j=0,1,2$\u3092\u63a8\u5b9a\u3059\u308b\u3053\u3068\u306b\u306a\u308b\u3002\u305d\u306e\u305f\u3081\u306b\u306f\uff0c\n",
                "* $\\left\\{y_i,x_{i1},x_{i2}\\right\\}$, $i=1,2,..,n$ \u306e\u6a19\u672c\u3092\u53ce\u96c6\u3059\u308b\u3002\n",
                "* \u6b21\u5f0f\u306b\u91cd\u56de\u5e30\u5206\u6790\u306e\u624b\u6cd5\u3092\u9069\u7528\u3057OLS\u63a8\u5b9a\u5024\u3092\u8a08\u7b97\u3059\u308b\u3002\n",
                "\n",
                "    $$y_i=\\beta_0+\\beta_1x_{i1}+\\beta_2x_{i2}+u_i,\\qquad i=1,2,..,n\\qquad{(\u5f0f\uff14)}$$\n",
                "\n",
                "\u6bcd\u96c6\u56e3\u56de\u5e30\u5f0f(\u5f0f\uff13)\u3068\u533a\u5225\u3059\u308b\u305f\u3081\u306b\uff0c\u3053\u306e\u5f0f\u306b\u306f\u6dfb\u3048\u5b57$i$\u304c\u3042\u308a**\u6a19\u672c\u56de\u5e30\u5f0f**\u3068\u547c\u3076\u3002"
            ]
        },
        {
            "cell_type": "markdown",
            "metadata": {
                "hidden": true
            },
            "source": [
                "```{note}\n",
                "\u901a\u5e38\uff0c\u6a19\u672c\u306e\u5927\u304d\u3055\u306f\u6bcd\u96c6\u56e3\u306e\u305d\u308c\u3088\u308a\u3082\u5c0f\u3055\u3044\u3002\u5f93\u3063\u3066\uff0c\u30d1\u30e9\u30e1\u30fc\u30bf\u306eOLS\u63a8\u5b9a\u5024$\\hat{\\beta}_j$\u306b\u306f\u8aa4\u5dee\u304c\u767a\u751f\u3059\u308b\u3002\u5373\u3061\uff0c\u5fc5\u305a\u3057\u3082$\\hat{\\beta}_j=\\beta_j$, $j=0,1,2$\u3068\u306f\u306a\u3089\u306a\u3044\u3002\n",
                "```"
            ]
        },
        {
            "cell_type": "markdown",
            "metadata": {
                "hidden": true
            },
            "source": [
                "\u4e00\u65b9\u3067\uff0c\u4e0a\u3067\u8ff0\u3079\u305f\u3088\u3046\u306bOLS\u63a8\u5b9a\u91cf\u306b\u306f\u4f55\u3089\u304b\u306e\u300c\u671b\u307e\u3057\u3044\u6027\u8cea\u300d\u304c\u3042\u308b\u3002\n",
                "1. \u300c\u671b\u307e\u3057\u3044\u6027\u8cea\u300d\u306e\u524d\u63d0\u3068\u306a\u308b\u6761\u4ef6\u306f\u4f55\u306a\u306e\u304b\uff1f \n",
                "1. OLS\u63a8\u5b9a\u91cf\u306e\u300c\u671b\u307e\u3057\u3044\u6027\u8cea\u300d\u3068\u306f\u4f55\u306a\u306e\u304b\uff1f\n",
                "\n",
                "\u4ee5\u4e0b\u3067\u306f\uff11\u304b\u3089\u8003\u3048\u308b\u3002"
            ]
        },
        {
            "cell_type": "markdown",
            "metadata": {
                "heading_collapsed": true,
                "hidden": true
            },
            "source": [
                "### \u4eee\u5b9a\u3068\u671b\u307e\u3057\u3044\u6027\u8cea"
            ]
        },
        {
            "cell_type": "markdown",
            "metadata": {
                "hidden": true
            },
            "source": [
                "* \u4eee\u5b9a\uff11\uff1aLinear in Parameters\uff08\u6bcd\u96c6\u56e3\u56de\u5e30\u5f0f\u306e\u7dda\u5f62\u6027\uff09\n",
                "    * \u6bcd\u96c6\u56e3\u306e\u30e2\u30c7\u30eb\u306f\u6b21\u5f0f\u306e\u3088\u3046\u306b\u30d1\u30e9\u30e1\u30fc\u30bf\u306b\u95a2\u3057\u3066\u7dda\u5f62\u3067\u3042\u308b\u3002\n",
                "    \n",
                "        $$\n",
                "        y=\\beta_0+\\beta_1x_1+\\beta_2x_2+\\cdots+\\beta_kx_k+u\n",
                "        $$\n",
                "\n",
                "    * $y=\\beta_0+\\beta_1x_1+\\beta_2x_1^2$\u306f\u7dda\u5f62\u6027\u3092\u6e80\u305f\u3059\u3002\n",
                "    * $y=\\beta_0+\\dfrac{\\beta_1}{1+\\beta_2x_1}+\\beta_3x_2$\u306f\u7dda\u5f62\u6027\u3092\u6e80\u305f\u3055\u306a\u3044\u3002"
            ]
        },
        {
            "cell_type": "markdown",
            "metadata": {
                "hidden": true
            },
            "source": [
                "* \u4eee\u5b9a\uff12\uff1aRandom Sampling\uff08\u6a19\u672c\u306e\u7121\u4f5c\u70ba\u62bd\u51fa\uff09\n",
                "    * \u7121\u4f5c\u70ba\u306b$\\left\\{y_i,x_{i1},,x_{i2},...,,x_{ik}\\right\\}$, $i=1,2,...,n$\u304c\u62bd\u51fa\u3055\u308c\u308b\u3002\n",
                "    * \u591a\u304f\u306e\u6a2a\u65ad\u9762\u30c7\u30fc\u30bf\u3067\u306f\u6210\u7acb\u3059\u308b\u3068\u8003\u3048\u3089\u308c\u3066\u3044\u308b\uff08\u6642\u7cfb\u5217\u30c7\u30fc\u30bf\u3067\u306f\u6e80\u305f\u3055\u308c\u306a\u3044\u5834\u5408\u304c\u591a\u3044\uff09\u3002\n",
                "    * \u3053\u306e\u4eee\u5b9a\u306b\u3088\u308a\n",
                "    \n",
                "        $$\\text{Corr}\\left(u_i,u_j|X\\right)=0,\\;i\\neq j,\\qquad X=\\{x_1,x_2,...x_k\\}$$\n",
                "        \n",
                "        \u3068\u306a\u308b\u3002\u3064\u307e\u308a\uff0c\u8aac\u660e\u5909\u6570$X$\u3092\u6240\u4e0e\u3068\u3057\u3066$u_i$\u3068$u_j$\u306f\u4f55\u306e\u95a2\u4fc2\u3082\u306a\u3044\u3068\u3044\u3046\u610f\u5473\u3067\u3042\u308b\u3002"
            ]
        },
        {
            "cell_type": "markdown",
            "metadata": {
                "hidden": true
            },
            "source": [
                "* \u4eee\u5b9a\uff13\uff1aNo Perfect Collinearity\uff08\u6bcd\u96c6\u56e3\u56de\u5e30\u5f0f\u306e\u8aac\u660e\u5909\u6570\u306e\u975e\u5b8c\u5168\u591a\u91cd\u5171\u7dda\u6027\uff09\n",
                "    * \u8aac\u660e\u5909\u6570$x_j$\u304c\u4ed6\u306e\u8aac\u660e\u5909\u6570\u306e\u5b8c\u5168\u306a\u7dda\u5f62\u7d50\u5408\uff08\u4f8b\u3048\u3070\uff0c$x_2=1+2x_1$\u3084$x_1=x_2+5x_4$\uff09\u3068\u3057\u3066\u8868\u3059\u3053\u3068\u304c\u3067\u304d\u306a\u3044\u3068\u3044\u3046\u610f\u5473\u3067\u3042\u308b\u3002\u3082\u3057\u3053\u306e\u4eee\u5b9a\u304c\u6e80\u305f\u3055\u308c\u306a\u3051\u308c\u3070$x_j$\u306f\u4f55\u306e\u8ffd\u52a0\u7684\u306a\u60c5\u5831\u3092\u6301\u305f\u306a\u2468\u306a\u308b\u3002\n",
                "    * \u5b9a\u6570\u9805\u4ee5\u5916\u306e\u8aac\u660e\u5909\u6570\u304c\u5168\u304f\u5909\u5316\u3057\u306a\u3044\u3053\u3068\u3082\u6392\u9664\u3057\u3066\u3044\u308b\uff08\u4f8b\u3048\u3070\uff0c$x_j=3$\uff09\u3002\u3053\u306e\u3088\u3046\u306a\u5909\u6570\u306f\u5b9a\u6570\u9805\u306e\u5358\u306a\u308b\u30b9\u30b1\u30fc\u30eb\u30a2\u30c3\u30d7\u30fb\u30d0\u30fc\u30b8\u30e7\u30f3\u3067\u3042\u308a\uff0c\u8ffd\u52a0\u7684\u306a\u60c5\u5831\u306f\u306a\u3044\u3002\uff08\u5b9a\u6570\u9805\u4ee5\u5916\u306e\u8aac\u660e\u5909\u6570\u306f\u5909\u5316\u3057\u3066\u3053\u305d$y$\u3092\u8aac\u660e\u3067\u304d\u308b\u3002\uff09"
            ]
        },
        {
            "cell_type": "markdown",
            "metadata": {
                "hidden": true
            },
            "source": [
                "* \u4eee\u5b9a\uff14\uff1aZero Conditional Mean\uff08\u6bcd\u96c6\u56e3\u56de\u5e30\u5f0f\u306e\u8aa4\u5dee\u9805\u306e\u6761\u4ef6\u4ed8\u304d\u671f\u5f85\u5024\u306f\uff10\uff09\n",
                "\n",
                "    $$\\text{E}\\left(u|X\\right)=0,\\qquad X=\\{x_1,x_2,...x_k\\}$$\n",
                "    \n",
                "    * $X$\u306f\u30e9\u30f3\u30c0\u30e0\u5909\u6570\u3067\u3042\u308b\u304c\uff0c$X$\u3092\u6240\u4e0e\u3068\u3059\u308b\u3068$u$\u306e\u5e73\u5747\u306f\u30bc\u30ed\u306b\u306a\u308b\u3068\u3044\u3046\u4eee\u5b9a\u3067\u3042\u308b\u3002\u5373\u3061\uff0c\u30e9\u30f3\u30c0\u30e0\u5909\u6570\u3067\u3042\u308b$X$\u304c\u3069\u306e\u3088\u3046\u306a\u5024\u3092\u53d6\u3063\u305f\u3068\u3057\u3066\u3082\uff0c$u$\u306e\u5e73\u5747\u306f0\u3060\u3068\u3044\u3046\u3053\u3068\u3067\u3042\u308b\u3002$X$\u306f$u$\u306b\u5bfe\u3057\u3066\u4f55\u306e\u60c5\u5831\u3082\u5f71\u97ff\u529b\u3082\u5168\u304f\u306a\u3044\u306e\u3067\uff0c$X$\u3068$u$\u304c\u7dda\u5f62\u30fb\u975e\u7dda\u5f62\u306a\u95a2\u4fc2\u304c\u7121\u3044\u3053\u3068\u3092\u610f\u5473\u3059\u308b\u3002\n",
                "    * $X$\u306f\u30e9\u30f3\u30c0\u30e0\u5909\u6570\u3067\u3042\u308b\u305f\u3081\uff0c$X$\u304c\u5909\u5316\u3059\u308b\u5834\u5408\u306e$\\text{E}\\left(u|X\\right)$\u306e\u5e73\u5747\u3092\u8003\u3048\u308b\u3053\u3068\u304c\u3067\u304d\u308b\u3002\u5373\u3061\uff0c$\\text{E}\\left[\\text{E}\\left(u|X\\right)\\right]=0$\u3067\u3042\u308b\u3002\u5916\u5074\u306e$E$\u306f$X$\u306b\u5bfe\u3059\u308b\u671f\u5f85\u5024\u6f14\u7b97\u5b50\u3067\u3042\u308a\uff0c$E$\u304c\u5165\u308c\u5b50\u306b\u306a\u3063\u3066\u3044\u308b\u306e\u3067iterated expectations\u3068\u547c\u3070\u308c\u308b\u3002$X$\u304c\u3069\u306e\u3088\u3046\u306a\u5024\u3092\u53d6\u3063\u305f\u3068\u3057\u3066\u3082\u4eee\u5b9a\uff14\u306e\u3082\u3068\u3067\u306f$0$\u306b\u306a\u308b\u306e\u3067\u7b49\u53f7\u304c\u6210\u7acb\u3059\u308b\u3053\u3068\u306b\u306a\u308b\u3002\u66f4\u306b\uff0c$X$\u306b\u5bfe\u3057\u3066\u306e\u671f\u5f85\u5024\u304c\u4ed8\u3051\u52a0\u3048\u3089\u308c\u3066\u3044\u308b\u306e\u3067\uff0c$X$\u3092\u7701\u3044\u3066$\\text{E}\\left[\\text{E}\\left(u|X\\right)\\right]=\\text{E}(u)=0$\u3068\u306a\u308b\u3002$X$\u306e\u6761\u4ef6\u3092\u3064\u3051\u306a\u304f\u3068\u3082$u$\u306e\u5e73\u5747\u306f\u30bc\u30ed\u306b\u306a\u308b\u3053\u3068\u3092\u793a\u3057\u3066\u3044\u308b\u3002\n",
                "    * $X$\u3068$u$\u306b\u306f\u7dda\u5f62\u306e\u4f9d\u5b58\u95a2\u4fc2\u304c\u306a\u3044\u306e\u3067$\\text{Cov}(Xu)=0$\u304c\u6210\u7acb\u3059\u308b\u3002$\\text{Cov}(Xu)=0$\u306f\u975e\u7dda\u578b\u306e\u4f9d\u5b58\u95a2\u4fc2\u3092\u9664\u5916\u3057\u3066\u3044**\u306a\u3044**\u3053\u3068\u306b\u6ce8\u610f\u3057\u3088\u3046\u3002\n",
                "    * \u4eee\u5b9a\uff14\u306e\u4e0b\u3067$x_1$\u3068$x_2$\u3092\u6240\u4e0e\u3068\u3057\u3066(\u5f0f\uff13)\u306e\u671f\u5f85\u5024\u3092\u8a08\u7b97\u3059\u308b\u3068\u6b21\u5f0f\u3092\u5f97\u308b\u3002\n",
                "    \n",
                "    $$\n",
                "    \\text{E}\\left(y|x_1,x_2\\right)=\\beta_0+\\beta_1x_1+\\beta_2x_2=y^*,\n",
                "    \\qquad\\because\\;\n",
                "    \\text{E}\\left(u|x_1,x_2\\right)=0\n",
                "    $$\n",
                "    \n",
                "     \u6d88\u8cbb\u306e\u6761\u4ef6\u4ed8\u304d\u671f\u5f85\u5024\u306f\uff0c\u8aac\u660e\u5909\u6570\uff08\u6240\u5f97\u3068\u5b50\u3069\u3082\u306e\u6570\uff09\u3060\u3051\u306b\u4f9d\u5b58\u3059\u308b\u6d88\u8cbb\u306e\u90e8\u5206$y^*$\uff08\u6bcd\u96c6\u56e3\u56de\u5e30\u95a2\u6570\uff09\u3068\u7b49\u3057\u3044\u3002"
            ]
        },
        {
            "cell_type": "markdown",
            "metadata": {
                "hidden": true
            },
            "source": [
                "---\n",
                "\u4eee\u5b9a\uff11\u301c\uff14\u306e\u4e0b\u3067\u6bcd\u96c6\u56e3\u30d1\u30e9\u30e1\u30fc\u30bf\u306eOLS\u63a8\u5b9a\u91cf\u306f\u4e0d\u504f\u6027\uff08unbiasedness\uff09\u3092\u6e80\u305f\u3059\u3002\n",
                "\n",
                "$$\\text{E}\\left(\\hat{\\beta}_j\\right)=\\beta_j,\\qquad j=0,1,2,...,k$$\n",
                "\n",
                "\uff08\u89e3\u91c8\uff09\n",
                "\n",
                "\u6a19\u672c\u306e\u5927\u304d\u3055\u304c$n$\u306e\u6a19\u672c\u3092\u4f7f\u3044\u56de\u5e30\u5206\u6790\u3092\u304a\u3053\u306a\u3044$\\hat{\\beta}_j$\u3092\u5f97\u305f\u3068\u3057\u3088\u3046\u3002\u3055\u3089\u306b\u540c\u3058\u6a19\u672c\u306e\u5927\u304d\u3055$n$\u306e\u7570\u306a\u308b\u6a19\u672c\u3092\u4f7f\u3044\u56de\u5e30\u5206\u6790\u3092\u5408\u8a08$N$\u56de\u304a\u3053\u306a\u3044$\\hat{\\beta}_j$\u3092\u8a08\u7b97\u3057\u305f\u3068\u3057\u3088\u3046\u3002\u4e0d\u504f\u6027\u3068\u306f$N$\u304c\u5341\u5206\u306b\u5927\u304d\u3044\u5834\u5408\uff08$N\\rightarrow\\infty$\uff09\uff0c$N$\u500b\u3042\u308b$\\hat{\\beta}_j$\u306e\u5e73\u5747\u306f$\\beta_j$\u3068\u7b49\u3057\u3044\u3068\u3044\u3046\u6027\u8cea\u3067\u3042\u308b\u3002\n",
                "\n",
                "\uff08\u6ce8\u610f\u70b9\uff09\n",
                "\n",
                "\u3053\u306e\u7d50\u679c\u306f\u6a19\u672c\u306e\u5927\u304d\u3055$n$\u306b\u4f9d\u5b58\u3057\u306a\u3044\u3002\u5373\u3061\uff0c\u5927\u6a19\u672c\uff08$n\\rightarrow\\infty$\uff09\u3067\u3042\u308b\u5fc5\u8981\u306f\u306a\u3044\u3002\u3080\u3057\u308d\u5c0f\u6a19\u672c\uff08$n<\\infty$\uff09\u3067\u91cd\u8981\u8996\u3055\u308c\u308b\u5c0f\u6a19\u672c\u7279\u6027\uff08\u30c7\u30fc\u30bf\u304c\u5c11\u306a\u3044\u5834\u5408\u306e\u7279\u6027\uff09\u3068\u8003\u3048\u308b\u3079\u304d\u3067\u3042\u308b\u3002"
            ]
        },
        {
            "cell_type": "markdown",
            "metadata": {
                "hidden": true
            },
            "source": [
                "---\n",
                "* \u4eee\u5b9a\uff15\uff1aHomoskedasticity\uff08\u5747\u4e00\u5206\u6563; \u6bcd\u96c6\u56e3\u56de\u5e30\u5f0f\u306e\u8aac\u660e\u5909\u6570\u306f\u8aa4\u5dee\u9805\u306e\u5206\u6563\u306b\u5f71\u97ff\u3092\u4e0e\u3048\u306a\u3044\uff09\n",
                "\n",
                "$$\\text{Var}\\left(u|X\\right)=\\sigma^2$$"
            ]
        },
        {
            "cell_type": "markdown",
            "metadata": {
                "hidden": true
            },
            "source": [
                "---\n",
                "\u4eee\u5b9a\uff11\u301c\uff15\u3092\u30ac\u30a6\u30b9\u30fb\u30de\u30eb\u30b3\u30d5\u4eee\u5b9a\uff08\u6a2a\u65ad\u56de\u5e30\u5206\u6790\u306eGM\u4eee\u5b9a\uff09\u3068\u547c\u3073\uff0c\u3053\u306e\u4eee\u5b9a\u306e\u4e0b\u3067\u306f\u4ee5\u4e0b\u304c\u6210\u7acb\u3059\u308b\u3002\n",
                "1. \u8aa4\u5dee\u5206\u6563\u306e\u63a8\u5b9a\u91cf $\\hat{\\sigma}^2$\u306e\u5e73\u5747\u306f\u6bcd\u96c6\u56e3\u306e\u5024\u3068\u7b49\u3057\u3044\uff08\u8aa4\u5dee\u5206\u6563\u306e\u4e0d\u504f\u63a8\u5b9a\u91cf\uff09\u3002\n",
                "\n",
                "    $$\n",
                "    \\text{E}\\left(\\hat{\\sigma}^2\\right)=\\sigma^2\n",
                "    $$\n",
                "\n",
                "    \u3053\u3053\u3067\uff0c$\\hat{\\sigma}^2=\\dfrac{\\sum_{i=1}^n\\hat{u}_i^2}{n-k-1}=\\dfrac{SSR}{n-k-1}$\n",
                "    \u3067\u3042\u308a\uff0c$\\hat{u}_i=y_i-\\hat{y}_i$\u306fOLS\u6b8b\u5dee\u3067\u3042\u308a\uff0c$SSR$\u306f\u6b8b\u5dee\u306e\u4e8c\u4e57\u5e73\u65b9\u548c\u3002$\\hat{\\sigma}$\u306b\u306f\u3055\u307e\u3056\u307e\u306a\u547c\u79f0\u304c\u3042\u308a\uff0cthe Standard Error of Regression, the Standard Error of the Estimate, the Root Mean Squared Error\u304c\u3042\u308b\u3002\n",
                "\n",
                "2. OLS\u4fc2\u6570\u306e\uff08\u6a19\u672c\uff09\u5206\u6563\u306e\u63a8\u5b9a\u91cf\uff08$\\sigma^2$\u306b$\\hat{\\sigma}^2$\u304c\u4ee3\u5165\u3055\u308c\u3066\u3044\u308b\uff09\n",
                "\n",
                "    $$\n",
                "    \\widehat{\\text{Var}}\\left(\\hat{\\beta}_j\\right)\n",
                "    =\\dfrac{\\hat{\\sigma}^2}{SST_j\\left(1-R_j^2\\right)}\n",
                "    =\\dfrac{1}{n-1}\\cdot\n",
                "    \\dfrac{\\hat{\\sigma}^2}{\\text{Var}(x_j)}\\cdot\n",
                "    \\dfrac{1}{1-R_j^2}\n",
                "    $$\n",
                "\n",
                "    \u3053\u3053\u3067\uff0c$\\text{Var}(x_j)=(n-1)^{-1}\\sum_{i=1}^n\\left(x_{ij}-\\overline{x}_j\\right)$\u3067\u3042\u308a\uff0c$R_j^2$\u306f$x_j$\u3092\u4ed6\u306e\u5168\u3066\u306e\u8aac\u660e\u5909\u6570\u306b\u56de\u5e30\u5206\u6790\u3059\u308b\u969b\u306e\u6c7a\u5b9a\u4fc2\u6570\u3067\u3042\u308b\u3002\n",
                "    $\\widehat{\\text{Var}}\\left(\\hat{\\beta}_j\\right)$\u306fOLS\u63a8\u5b9a\u91cf$\\hat{\\beta}_j$\u306e\u6b63\u78ba\u6027\u3092\u6349\u3048\uff0c\u4f4e\u3051\u308c\u3070\u3088\u308a\u9ad8\u3044\u6b63\u78ba\u6027\u3092\u793a\u3059\u3002\uff08\u300c\u306a\u305c\u5206\u6563\uff1f\u300d\u3068\u601d\u3046\u5834\u5408\u306f\u524d\u7ae0\u306e\u30b7\u30df\u30e5\u30ec\u30fc\u30b7\u30e7\u30f3\uff11\u3067\uff0c\u6a19\u672c\u306e\u30e9\u30f3\u30c0\u30e0\u62bd\u51fa\u3092\u884c\u3046\u305f\u3073\u306b\uff0c$\\hat{\\beta}$\u306e\u5024\u304c\u5909\u308f\u3063\u305f\u3053\u3068\u3092\u601d\u3044\u51fa\u305d\u3046\u3002\uff09"
            ]
        },
        {
            "cell_type": "markdown",
            "metadata": {
                "hidden": true
            },
            "source": [
                "---\n",
                "\u30d1\u30e9\u30e1\u30fc\u30bf\u306e\u5206\u6563\u306e\u63a8\u5b9a\u91cf\u306e\u5f0f\u304b\u3089\u6b21\u306e\u3053\u3068\u304c\u5206\u304b\u308b\u3002\n",
                "* $\\dfrac{1}{n-1}$: \u6a19\u672c\u306e\u5927\u304d\u3055\u304c\u5927\u304d\u304f\u306a\u308b\u3068$\\hat{\\beta}_j$\u306e\u6b63\u78ba\u6027\u3092\u9ad8\u3081\u308b\u3002\n",
                "* $\\dfrac{\\hat{\\sigma}^2}{\\text{Var}(x_j)}$: \u6b8b\u5dee\u306e\u5206\u6563\u306b\u5bfe\u3057\u3066\u8aac\u660e\u5909\u6570$x_j$\u306e\u5206\u6563\u304c\u5927\u304d\u3051\u308c\u3070\uff0c$\\hat{\\beta}_j$\u306e\u6b63\u78ba\u6027\u3092\u9ad8\u3081\u308b\u3002\n",
                "* $R_j^2$\u306f\u591a\u91cd\u5171\u7dda\u6027\u304c\u9ad8\u304f\u306a\u308b\u3068\u5927\u304d\u304f\u306a\u308b\u3002\u5f93\u3063\u3066\uff0c\u591a\u91cd\u5171\u7dda\u6027\u304c\u9ad8\u3044\u3068$\\hat{\\beta}_j$\u306e\u6b63\u78ba\u6027\u3092\u4f4e\u4e0b\u3055\u305b\u308b\u3002"
            ]
        },
        {
            "cell_type": "markdown",
            "metadata": {
                "hidden": true
            },
            "source": [
                "---\n",
                "$\\widehat{\\text{Var}}\\left(\\hat{\\beta}_j\\right)$\u306e\u30eb\u30fc\u30c8\u306f**OLS\u63a8\u5b9a\u91cf\u306e\u6a19\u6e96\u8aa4\u5dee**\u3068\u547c\u3076\uff08\u30d1\u30e9\u30e1\u30fc\u30bf\u306e\u63a8\u5b9a\u5024\u306e\u6a19\u6e96\u504f\u5dee\uff09\u3002\n",
                "\n",
                "$$\n",
                "\\text{se}\\left(\\hat{\\beta}_j\\right)\n",
                "=\\sqrt{\\widehat{\\text{Var}}\\left(\\hat{\\beta}_j\\right)}\n",
                "=\\dfrac{1}{\\sqrt{n-1}}\\cdot\n",
                "\\dfrac{\\hat{\\sigma}}{\\text{sd}(x_j)}\\cdot\n",
                "\\dfrac{1}{\\sqrt{1-R_j^2}}\n",
                "$$\n",
                "\n",
                "\u3053\u306e\u7d50\u679c\u306f\u63a8\u5b9a\u7d50\u679c\u306e\u691c\u5b9a\u3084\u4fe1\u983c\u533a\u9593\u3092\u8a08\u7b97\u3059\u308b\u969b\u306b\u5fc5\u8981\u3068\u306a\u308b\u3002"
            ]
        },
        {
            "cell_type": "markdown",
            "metadata": {
                "hidden": true
            },
            "source": [
                "---\n",
                "**\u30ac\u30a6\u30b9\u30fb\u30de\u30eb\u30b3\u30d5\u5b9a\u7406**\uff08\u671b\u307e\u3057\u3044\u6027\u8cea\uff09\n",
                "\n",
                "GM\u4eee\u5b9a\uff11\u301c\uff15\u306e\u3082\u3068\u3067`OLS`\u63a8\u5b9a\u91cf\u306fB.L.U.E\uff08Best Linear Unbised Estimators; \u6700\u826f\u4e0d\u504f\u63a8\u5b9a\u91cf\uff09\n",
                "* \u4e0d\u504f\u6027\uff08unbiasedness\uff09\uff1a\n",
                "$\\text{E}\\left(\\hat{\\beta}_j\\right)=\\beta_j$\n",
                "* \u52b9\u7387\u6027\uff08efficiency\uff09\uff1a $\\text{Var}\\left(\\hat{\\beta}_j\\right)$\u306f\u7dda\u5f62\u63a8\u5b9a\u5024\u306e\u4e2d\u3067\u6700\u5c0f"
            ]
        },
        {
            "cell_type": "markdown",
            "metadata": {
                "hidden": true
            },
            "source": [
                "---\n",
                "\u4e0a\u306e\u56de\u5e30\u5206\u6790\u7d50\u679c`res_1`\u3092\u4f7f\u3063\u3066\uff0c\u3053\u3053\u3067\u5b9a\u7fa9\u3057\u305f\u63a8\u5b9a\u5024\u306e\u53d6\u5f97\u65b9\u6cd5\u3092\u8aac\u660e\u3059\u308b\u3002\n",
                "\n",
                "**\u8aa4\u5dee\u5206\u6563$\\hat{\\sigma}^2$\u306e\u63a8\u5b9a\u5024**\n",
                "\n",
                "`res_1`\u306e\u5c5e\u6027`.scale`\u3067\u53d6\u5f97\u53ef\u80fd\u3002"
            ]
        },
        {
            "cell_type": "code",
            "execution_count": null,
            "metadata": {},
            "outputs": [],
            "source": []
        },
        {
            "cell_type": "code",
            "execution_count": null,
            "metadata": {},
            "outputs": [],
            "source": [
                "\n",
                "\n",
                "",
                ""
            ]
        },
        {
            "cell_type": "markdown",
            "metadata": {
                "hidden": true
            },
            "source": [
                "```{note}\n",
                "\u4e0a\u306e\u8a08\u7b97\u306b\u5c5e\u6027`.ssr`\u304c\u51fa\u3066\u304f\u308b\u3002\u30a4\u30f3\u30bf\u30fc\u30cd\u30c3\u30c8\u3067`statsmodels result`\u691c\u7d22\u3057\u3066\u307f\u3088\u3046\u3002[Google](https://www.google.co.jp/search?ei=PySWX4iPCoHWhwPTorWADw&q=statsmodels+result&oq=statsmodels+result&gs_lcp=CgZwc3ktYWIQAzICCAAyAggAMgQIABAeMgQIABAeMgQIABAeMgQIABAeMgQIABAeMgQIABAeOgQIABATOgYIABAeEBM6CAgAEAoQHhATOggIABAIEB4QEzoICAAQBRAeEBNQ9xRY9RhggBxoAHAAeACAAW2IAcwDkgEDNC4xmAEAoAEBqgEHZ3dzLXdpesABAQ&sclient=psy-ab&ved=0ahUKEwjIqtPUi9HsAhUB62EKHVNRDfAQ4dUDCAw&uact=5)\u306e\u691c\u7d22\u7d50\u679c\u306e[\u4e00\u756a\u4e0a\u306e\u30b5\u30a4\u30c8](https://www.statsmodels.org/devel/generated/statsmodels.regression.linear_model.RegressionResults.html)\u306f\u8a72\u5f53\u3059\u308b`statsmodels`\u30de\u30cb\u30e5\u30a2\u30eb\u3068\u306a\u3063\u3066\u304a\u308a\u3001\u30a6\u30a7\u30d6\u30da\u30fc\u30b8\u306e\u4e0b\u306e\u65b9\u306b\u884c\u304f\u3068`.ssr`\u3092\u898b\u3064\u3051\u308b\u3053\u3068\u304c\u3067\u304d\u308b\u306f\u305a\u3060\u3002\n",
                "```"
            ]
        },
        {
            "cell_type": "markdown",
            "metadata": {
                "hidden": true
            },
            "source": [
                "**\u30d1\u30e9\u30e1\u30fc\u30bf\u306e\u6a19\u6e96\u8aa4\u5dee $\\text{se}\\left(\\hat{\\beta}_j\\right)$**\n",
                "\n",
                "`res_1`\u306e\u30e1\u30bd\u30c3\u30c9`.bse`\u3067\u53d6\u5f97\u53ef\u80fd\u3002"
            ]
        },
        {
            "cell_type": "code",
            "execution_count": null,
            "metadata": {},
            "outputs": [],
            "source": []
        },
        {
            "cell_type": "markdown",
            "metadata": {
                "hidden": true
            },
            "source": [
                "\u30d1\u30e9\u30e1\u30fc\u30bf\u306e\u6a19\u6e96\u8aa4\u5dee\u306f$se$\uff08standard error\uff09\u3060\u304c\u5c5e\u6027\u306f`bse`\u3068\u306a\u3063\u3066\u3044\u308b\u3002\u3053\u308c\u306f\u30d1\u30e9\u30e1\u30fc\u30bf\u3092$b$\u3067\u8868\u3057\u3066\u304a\u308a\uff0c$b$\u306e$se$\u3068\u3057\u3066\u899a\u3048\u308c\u3070\u826f\u3044\u3060\u308d\u3046\u3002"
            ]
        },
        {
            "cell_type": "markdown",
            "metadata": {
                "heading_collapsed": true
            },
            "source": [
                "## \u300c\u624b\u8a08\u7b97\u300d"
            ]
        },
        {
            "cell_type": "markdown",
            "metadata": {
                "hidden": true
            },
            "source": [
                "`statsmodels`\u306f\u975e\u5e38\u306b\u512a\u308c\u305f\u30d1\u30c3\u30b1\u30fc\u30b8\u3067\u3042\u308a\uff0c\u8907\u96d1\u306a\u8a08\u7b97\u3092\u7c21\u5358\u306a\u30b3\u30fc\u30c9\u3067\u5b9f\u884c\u3057\u3066\u304f\u308c\u308b\u3002\u3057\u304b\u3057\u3053\u3053\u3067\u306f`Numpy`\u306e\u95a2\u6570\u3092\u4f7f\u3044\uff0c\u91cd\u56de\u5e30\u5206\u6790\u306b\u304a\u3051\u308b\u63a8\u5b9a\u5024\u3092\u300c\u624b\u8a08\u7b97\u300d\u3067\u6c42\u3081\u308b\u3002\u76ee\u7684\u306f\uff12\u3064\u3042\u308b\u3002\u7b2c\uff11\u306b\uff0c`statsmodels`\u306e\u88cf\u3067\u3069\u306e\u3088\u3046\u306a\u8a08\u7b97\u304c\u884c\u308f\u308c\u3066\u3044\u308b\u304b\u3092\u7406\u89e3\u3059\u308b\u3002\u7b2c\uff12\u306b\uff0c\u4eca\u5f8c\u30b7\u30df\u30e5\u30ec\u30fc\u30b7\u30e7\u30f3\u3092\u304a\u3053\u306a\u3046\u304c\uff0c\u300c\u624b\u8a08\u7b97\u300d\u306e\u30b3\u30fc\u30c9\u3092\u4f7f\u3046\u3068`Numba`\u3092\u4f7f\u3044\u8a08\u7b97\u901f\u5ea6\u3092\u683c\u6bb5\u3068\u30a2\u30c3\u30d7\u3059\u308b\u3053\u3068\u304c\u53ef\u80fd\u3068\u306a\u308b\u3002\n",
                "\n",
                "\u6b21\u306e\u56de\u5e30\u5f0f\u3092\u8003\u3048\u3088\u3046\u3002\n",
                "\n",
                "$$\n",
                "y_i=\\beta_0+\\beta_1x_{1i}+\\beta_2x_{2i}+u_i,\\quad\n",
                "i=1,2,...,n\n",
                "$$\n",
                "\n",
                "\u3053\u308c\u3092\u884c\u5217\u5f0f\u3067\u8868\u3059\u3068\u6b21\u306e\u3088\u3046\u306b\u306a\u308b\u3002\n",
                "\n",
                "$$\n",
                "\\begin{align*}\n",
                "\\begin{bmatrix}\n",
                "y_1 \\\\\n",
                "y_2 \\\\\n",
                "\\vdots \\\\\n",
                "y_n\n",
                "\\end{bmatrix}\n",
                "=&\n",
                "\\begin{bmatrix}\n",
                "1,x_{11},x_{21} \\\\\n",
                "1,x_{12},x_{22} \\\\\n",
                "\\vdots\\vdots\\vdots \\\\\n",
                "1,x_{1n},x_{2n}\n",
                "\\end{bmatrix}\n",
                "\\cdot\n",
                "\\begin{bmatrix}\n",
                "\\beta_0 \\\\\n",
                "\\beta_1 \\\\\n",
                "\\beta_2\n",
                "\\end{bmatrix}\n",
                "+\n",
                "\\begin{bmatrix}\n",
                "u_1 \\\\\n",
                "u_2 \\\\\n",
                "\\vdots \\\\\n",
                "u_n\n",
                "\\end{bmatrix}\n",
                "\\end{align*}\n",
                "$$\n",
                "\n",
                "\u66f4\u306b\u7c21\u5358\u306b\u66f8\u304f\u3068\n",
                "\n",
                "$$Y=XB+U$$\n",
                "\n",
                "\u3068\u306a\u308b\u3002\u3053\u308c\u3092\u4f7f\u3046\u3068$B$\u306e\u63a8\u5b9a\u91cf\u306f\n",
                "\n",
                "$$\n",
                "\\hat{B}=\\left(X^T\\cdot X\\right)^{-1}\\cdot X^T\\cdot Y\\qquad\\qquad\\text{(*)} \n",
                "$$\n",
                "\n",
                "\u3067\u4e0e\u3048\u3089\u308c\u308b\u3002\u4ee5\u4e0b\u3067\u306f\u30b7\u30df\u30e5\u30ec\u30fc\u30b7\u30e7\u30f3\u3092\u4f7f\u3044\u5f0f\uff08\\*\uff09\u306e\u8a08\u7b97\u306b\u4f7f\u3046\u30b3\u30fc\u30c9\u3092\u8aac\u660e\u3059\u308b\u3002\n",
                "\n",
                "\u307e\u305a\u6bcd\u96c6\u56e3\u56de\u5e30\u5f0f\u306e\u4fc2\u6570\u3068\u6a19\u672c\u306e\u5927\u304d\u3055\u3092\u8a2d\u5b9a\u3059\u308b\u3002"
            ]
        },
        {
            "cell_type": "code",
            "execution_count": null,
            "metadata": {},
            "outputs": [],
            "source": [
                "\n",
                "\n",
                "",
                ""
            ]
        },
        {
            "cell_type": "markdown",
            "metadata": {
                "hidden": true
            },
            "source": [
                "\u6bcd\u96c6\u56e3\u304b\u3089\u306e\u6a19\u672c\u3092\u751f\u6210\u3059\u308b\u3002"
            ]
        },
        {
            "cell_type": "code",
            "execution_count": null,
            "metadata": {},
            "outputs": [],
            "source": [
                "\n",
                "\n",
                "",
                "",
                "",
                "",
                "",
                "",
                ""
            ]
        },
        {
            "cell_type": "markdown",
            "metadata": {
                "hidden": true
            },
            "source": [
                "1. `Numpy`\u306b\u306f\u4e71\u6570\u7528\u306e\u30e2\u30b8\u30e5\u30fc\u30eb`random`\u304c\u3042\u308a\uff0c`normal`\u306f\u6a19\u6e96\u6b63\u898f\u5206\u5e03\u304b\u3089\u306e\u4e71\u6570\u3092\u767a\u751f\u3055\u305b\u308b\u95a2\u6570\u3067\u3042\u308b\u3002\u5f15\u6570\u306e\u8a2d\u5b9a\u65b9\u6cd5\u306f`scipy.stats`\u306e`norm.rvs()`\u3068\u540c\u3058\u3067\u3042\u308b\u3002`x1`\u306f\u5e73\u5747`4.0`\u3068\u6a19\u6e96\u504f\u5dee`2.0`\u306e\u6b63\u898f\u5206\u5e03\u306b\u5f93\u3046\u3053\u3068\u304c\u308f\u304b\u308b\u3002\n",
                "1. \u540c\u3058`np.random`\u306b\u3042\u308b`uniform`\u306f`[0,1)`\u306e\u4e00\u69d8\u5206\u5e03\u304b\u3089\u4e71\u6570\u3092\u767a\u751f\u3055\u305b\u308b\u95a2\u6570\u3067\u3042\u308b\u3002`scipy.stats`\u306e`uniform.rvs`\u3068\u540c\u3058\u5f79\u5272\u3092\u679c\u305f\u3059\u304c\uff0c\u5f15\u6570\u306e\u8a2d\u5b9a\u304c\u7570\u306a\u308b\u3002`low`\u306f\u6700\u5c0f\u5024\uff0c`high`\u306f\u6700\u5927\u5024\u3092\u6307\u5b9a\u3059\u308b\u3002\n",
                "1. `Numpy`\u306e\u95a2\u6570\u3067\u3042\u308b`ones()`\u306f\u5168\u3066\u306e\u8981\u7d20\u304c`1`\u306b\u306a\u308b$(n\\times 1)$\u306e`array`\u3092\u751f\u6210\u3059\u308b\u3002\n",
                "\n",
                "---\n",
                "\u5f0f\uff08\\*\uff09\u3092\u4f7f\u3044\u63a8\u5b9a\u5024\u3092\u8a08\u7b97\u3057\u3088\u3046\u3002\u307e\u305a`Numpy`\u306e\u95a2\u6570`stack`\u3092\u4f7f\u3044`X`\u3092\u4f5c\u6210\u3059\u308b\u3002"
            ]
        },
        {
            "cell_type": "code",
            "execution_count": null,
            "metadata": {},
            "outputs": [],
            "source": [
                "\n"
            ]
        },
        {
            "cell_type": "markdown",
            "metadata": {
                "hidden": true
            },
            "source": [
                "\u3053\u3053\u3067\u306e\u5f15\u6570`axis=1`\u306f`c`\uff0c`x1`\uff0c`x2`\u3092\u7e26\u30d9\u30af\u30c8\u30eb\u3068\u3057\u3066\u6a2a\u65b9\u5411\u306b\u3064\u306a\u304e\u3042\u308f\u305b\u308b\u3053\u3068\u3092\u6307\u5b9a\u3057\u3066\u3044\u308b\u3002`X`\u306f`Numpy`\u306e`array`\u3067\u3042\u308a$(30\\times 3)$\u306e\u884c\u5217\u3068\u306a\u3063\u3066\u3044\u308b\u3002\u5f0f\uff08\\*\uff09\u3092\u6b21\u306e\u30b3\u30fc\u30c9\u3067\u8a08\u7b97\u3059\u308b\u3002"
            ]
        },
        {
            "cell_type": "code",
            "execution_count": null,
            "metadata": {},
            "outputs": [],
            "source": [
                "\n"
            ]
        },
        {
            "cell_type": "markdown",
            "metadata": {
                "hidden": true
            },
            "source": [
                "\u5de6\u304b\u3089`b0`\uff0c`b1`\uff0c`b2`\u306e\u63a8\u5b9a\u5024\u3068\u306a\u308b\u3002\u4e0a\u306e\u30b3\u30fc\u30c9\u3092\u7c21\u5358\u306b\u8aac\u660e\u3059\u308b\u3002\n",
                "* `linalg`\u306f`Numpy`\u306e\u7dda\u5f62\u4ee3\u6570\u306e\u30d1\u30c3\u30b1\u30fc\u30b8\u3067\u3042\u308a\uff0c`inv`\u306f\u9006\u884c\u5217\u3092\u8a08\u7b97\u3059\u308b\u305f\u3081\u306e\u95a2\u6570\n",
                "* `T`\u306f\u8ee2\u7f6e\u884c\u5217\u306e\u5c5e\u6027\n",
                "* `@`\u306f\u884c\u5217\u306e\u7a4d\n",
                "\n",
                "`bhat`\u3092\u8a08\u7b97\u3057\u305f\uff11\u884c\u30b3\u30fc\u30c9\u306f\u3001\u5b9a\u6570\u9805\u4ee5\u5916\u306b2\u3064\u306e\u8aac\u660e\u5909\u6570\u3092\u60f3\u5b9a\u3057\u3066\u3044\u308b\u3002\u5b9f\u306f\u3001\u5b9a\u6570\u9805\u4ee5\u5916\u306e\u8aac\u660e\u5909\u6570\u306e\u6570\u304c1\u3067\u308220\u3067\u3082\u540c\u3058\u30b3\u30fc\u30c9\u304c\u4f7f\u3048\u308b\u3002\u305f\u3060\u3001\u5fc5\u8981\u306a\u306e\u306f`X`\u3092\u8aac\u660e\u5909\u306e\u6570\u306b\u5408\u308f\u305b\u3066\u4f5c\u6210\u3059\u308b\u3053\u3068\u3067\u3042\u308b\u3002\n",
                "\n",
                "\n",
                "`statsmodels`\u3092\u4f7f\u3044\u63a8\u5b9a\u5024\u304c\u540c\u3058\u3067\u3042\u308b\u3053\u3068\u3092\u78ba\u8a8d\u3059\u308b\u3002"
            ]
        },
        {
            "cell_type": "code",
            "execution_count": null,
            "metadata": {},
            "outputs": [],
            "source": [
                "\n"
            ]
        },
        {
            "cell_type": "markdown",
            "metadata": {
                "heading_collapsed": true
            },
            "source": [
                "## \u30b7\u30df\u30e5\u30ec\u30fc\u30b7\u30e7\u30f3\uff1a\u4e0d\u504f\u6027"
            ]
        },
        {
            "cell_type": "markdown",
            "metadata": {
                "hidden": true
            },
            "source": [
                "\u4e0d\u504f\u6027\u3092\u30b7\u30df\u30e5\u30ec\u30fc\u30b7\u30e7\u30f3\u3067\u8003\u3048\u308b\u3002\n",
                "* \u6a19\u672c\u3092\u30e9\u30f3\u30c0\u30e0\u62bd\u51fa\u3059\u308b\u305f\u3073\u306b$\\hat{\\beta}_j$, $j=0,1$\u306f\u7570\u306a\u308b\u5024\u3092\u53d6\u308b\u304c\uff0c\u6a19\u672c\u62bd\u51fa\u3092\u7e70\u308a\u8fd4\u3057$\\hat{\\beta}_j$\u306e\u5e73\u5747\u3092\u8a08\u7b97\u3059\u308b\u3068\u771f\u306e\u5024\u3068\u300c\u7b49\u3057\u3044\u300d\u3053\u3068\u3092\u793a\u3059\u3002\n",
                "\n",
                "\u30b7\u30df\u30e5\u30ec\u30fc\u30b7\u30e7\u30f3\u3067\u306f\u4e0a\u3067\u4f7f\u3063\u305f\u540c\u3058\u56de\u5e30\u5f0f\u3092\u4f7f\u3046\u3002\n",
                "\n",
                "$$y=\\beta_0+\\beta_1x_1+\\beta_2x_2+u$$"
            ]
        },
        {
            "cell_type": "markdown",
            "metadata": {
                "hidden": true
            },
            "source": [
                "\u30b7\u30df\u30e5\u30ec\u30fc\u30b7\u30e7\u30f3\u306e\u95a2\u6570\u3092\u4f5c\u6210\u3059\u308b\u304c\uff0c\u30d1\u30e9\u30e1\u30fc\u30bf\u306e\u63a8\u5b9a\u5024\u306e\u8a08\u7b97\u306b\u306f`statsmodels`\u3092\u4f7f\u308f\u305a\u306b\uff0c`Numpy`\u306e\u95a2\u6570\u3092\u4f7f\u3044\u300c\u624b\u8a08\u7b97\u300d\u3068\u3057\u9ad8\u901f\u5316\u30d1\u30c3\u30b1\u30fc\u30b8`Numba`\u3092\u4f7f\u3046\u3002\u5358\u56de\u5e30\u5206\u6790\u306e\u30b7\u30df\u30e5\u30ec\u30fc\u30b7\u30e7\u30f3\u3068\u540c\u3058\u3088\u3046\u306b\u3001\u4f7f\u3044\u65b9\u306f\u7c21\u5358\u3067\u30c7\u30b3\u30ec\u30fc\u30bf\u30fc\u3068\u547c\u3070\u308c\u308b`@njit`\uff08\u53c8\u306f`@jit`\uff09\u3092\u95a2\u6570\u306e\u4e0a\u306b\u52a0\u3048\u308b\u3060\u3051\u3067\u3042\u308b\u3002\n",
                "\n",
                "---\n",
                "\u6b21\u306e\u95a2\u6570\u306e\u5f15\u6570\uff1a\n",
                "* `n`\uff1a\u6a19\u672c\u306e\u5927\u304d\u3055\n",
                "* `N`\uff1a\u30b7\u30df\u30e5\u30ec\u30fc\u30b7\u30e7\u30f3\u306e\u56de\u6570\uff08\u6a19\u672c\u6570\u3068\u8003\u3048\u3066\u3082\u826f\u3044\uff09\n",
                "* `b0`\uff1a\u5b9a\u6570\u9805\uff08\u30c7\u30d5\u30a9\u30eb\u30c8\u306f`1.0`\u3068\u8a2d\u5b9a\uff09\n",
                "* `b1`\uff1a\u5b9a\u6570\u9805\uff08\u30c7\u30d5\u30a9\u30eb\u30c8\u306f`2.0`\u3068\u8a2d\u5b9a\uff09\n",
                "* `b2`\uff1a\u5b9a\u6570\u9805\uff08\u30c7\u30d5\u30a9\u30eb\u30c8\u306f`3.0`\u3068\u8a2d\u5b9a\uff09\n",
                "\n",
                "\u6b21\u306e\u95a2\u6570\u306e\u8fd4\u308a\u5024\uff1a\n",
                "* `b0`\u3001`b1`\u3001`b2`\u306e`N`\u500b\u306e\u63a8\u5b9a\u5024\u304c\u305d\u308c\u305e\u308c\u683c\u7d0d\u3055\u308c\u3066\u3044\u308b`Numpy`\u306e`array`"
            ]
        },
        {
            "cell_type": "code",
            "execution_count": null,
            "metadata": {},
            "outputs": [],
            "source": [
                "\n",
                "\n",
                "",
                "    # N\u500b\u306e0\u304b\u3089\u306a\u308barray\u3067\u3042\u308a\u30010\u3092\u63a8\u5b9a\u5024\u3068\u7f6e\u304d\u63db\u3048\u3066\u683c\u7d0d\u3059\u308b\n",
                "\n",
                "\n",
                "",
                "",
                "",
                "",
                "",
                "",
                "        # \u6a19\u6e96\u6b63\u898f\u5206\u5e03\n",
                "\n",
                "\n",
                "        # \u5e73\u57474.0,\u6a19\u6e96\u504f\u5dee2.0\u306e\u6b63\u898f\u5206\u5e03\n",
                "\n",
                "\n",
                "        # [1,10)\u306e\u4e00\u69d8\u5206\u5e03\u3002`low=`\uff0c`high=`\u3092\u4ed8\u3051\u52a0\u3048\u308b\u3068\u30a8\u30e9\u30fc\u304c\u767a\u751f\u3059\u308b\u3002\n",
                "\n",
                "\n",
                "",
                "",
                "",
                "",
                "",
                "",
                "",
                "",
                "",
                ""
            ]
        },
        {
            "cell_type": "markdown",
            "metadata": {
                "hidden": true
            },
            "source": [
                "\u6a19\u672c\u306e\u5927\u304d\u3055\u306f`30`\u3001\u30b7\u30df\u30e5\u30ec\u30fc\u30b7\u30e7\u30f3\u306e\u56de\u6570\u306f`100_000`\u306b\u8a2d\u5b9a\u3057\u3001\u7d50\u679c\u306f`b0hat`, `b1hat`, `b2hat`\u306b\u5272\u308a\u5f53\u3066\u308b\u3002"
            ]
        },
        {
            "cell_type": "code",
            "execution_count": null,
            "metadata": {},
            "outputs": [],
            "source": []
        },
        {
            "cell_type": "markdown",
            "metadata": {
                "hidden": true
            },
            "source": [
                "\u63a8\u5b9a\u5024\u306e\u5e73\u5747\u3092\u8a08\u7b97\u3057\u3066\u307f\u3088\u3046\u3002"
            ]
        },
        {
            "cell_type": "code",
            "execution_count": null,
            "metadata": {},
            "outputs": [],
            "source": [
                "\n",
                "\n",
                ""
            ]
        },
        {
            "cell_type": "markdown",
            "metadata": {
                "hidden": true
            },
            "source": [
                "\u5e73\u5747\u306f\u771f\u306e\u5024\u3068\u5168\u304f\u540c\u3058\u3067\u306f\u306a\u3044\u304c\uff0c\u5341\u5206\u306b\u8fd1\u3044\u5024\u3067\u3042\u308b\u3002\u5373\u3061\uff0c\u4e0d\u504f\u6027\u304c\u6e80\u305f\u3055\u308c\u3066\u3044\u308b\u3002\u6a19\u672c\u6570`N`\u3092\u5897\u52a0\u3055\u305b\u308b\u3068\u3088\u308a\u771f\u306e\u5024\u306b\u8fd1\u3065\u304f\u3053\u3068\u306b\u306a\u308b\u3002\n",
                "\n",
                "\u6b21\u306b\u3001OLS\u63a8\u5b9a\u91cf$\\hat{\\beta}_1$\u306e\u5206\u5e03\u3092\u56f3\u793a\u3057\u3088\u3046\u3002"
            ]
        },
        {
            "cell_type": "code",
            "execution_count": null,
            "metadata": {},
            "outputs": [],
            "source": [
                "\n",
                "\n",
                ""
            ]
        },
        {
            "cell_type": "markdown",
            "metadata": {
                "hidden": true
            },
            "source": [
                "`b1`\u306e\u771f\u306e\u5024`2.0`\u3092\u4e2d\u5fc3\u306b\u6982\u306d\u5de6\u53f3\u5bfe\u8c61\u306b\u5206\u5e03\u3057\u3066\u3044\u308b\u3053\u3068\u304c\u5206\u304b\u308b\u3002\n",
                "\n",
                "\u6b21\u306b\u5206\u5e03\uff08\u30d2\u30b9\u30c8\u30b0\u30e9\u30e0\uff09\u306e\u30ab\u30fc\u30cd\u30eb\u5bc6\u5ea6\u63a8\u5b9a\u3092\u304a\u3053\u306a\u3046\u305f\u3081\u306b\uff0c`scipy.stats`\u306b\u3042\u308b`gaussian_kde`\u3092\u4f7f\u3046\u3002"
            ]
        },
        {
            "cell_type": "code",
            "execution_count": null,
            "metadata": {},
            "outputs": [],
            "source": [
                "\n",
                "\n",
                "",
                "",
                "",
                ""
            ]
        },
        {
            "cell_type": "markdown",
            "metadata": {
                "hidden": true
            },
            "source": [
                "\uff12\u3064\u306e\u56f3\u3092\u91cd\u306d\u308b\u3002\n",
                "\n",
                "\uff08\u6ce8\u610f\uff09\u30d2\u30b9\u30c8\u30b0\u30e9\u30e0\u306e\u7e26\u8ef8\u306f\u983b\u5ea6\u3067\u3042\u308b\u3002\u4e00\u65b9\uff0c\u30ab\u30fc\u30cd\u30eb\u5bc6\u5ea6\u63a8\u5b9a\u306e\u5834\u5408\uff0c\u66f2\u7dda\u306e\u4e0b\u306e\u9762\u7a4d\u304c\uff11\u306b\u306a\u308b\u3088\u3046\u306b\u7e26\u8ef8\u304c\u8a2d\u5b9a\u3055\u308c\u3066\u3044\u308b\u3002\u30d2\u30b9\u30c8\u30b0\u30e9\u30e0\u306e\u7e26\u8ef8\u3092\u30ab\u30fc\u30cd\u30eb\u5bc6\u5ea6\u63a8\u5b9a\u306b\u5408\u308f\u305b\u308b\u305f\u3081\u306b`density=True`\u306e\u30aa\u30d7\u30b7\u30e7\u30f3\u3092\u52a0\u3048\u308b\u3002"
            ]
        },
        {
            "cell_type": "code",
            "execution_count": null,
            "metadata": {},
            "outputs": [],
            "source": [
                "\n",
                "\n",
                "",
                "",
                "",
                "",
                ""
            ]
        },
        {
            "cell_type": "markdown",
            "metadata": {
                "hidden": true
            },
            "source": [
                "\uff1cGive it a try!\uff1e\n",
                "* \u6a19\u672c\u306e\u5927\u304d\u3055`n`\u309230\u3001100\u3001500\u306e\uff13\u3064\u306e\u30b1\u30fc\u30b9\u3067\u30b7\u30df\u30e5\u30ec\u30fc\u30b7\u30e7\u30f3\u3092\u304a\u3053\u306a\u3044\u3001\u305d\u308c\u305e\u308c\u306e\u30ab\u30fc\u30cd\u30eb\u5bc6\u5ea6\u63a8\u5b9a\u3092\u91cd\u306d\u3066\uff11\u3064\u306e\u56f3\u3092\u4f5c\u6210\u3057\u306a\u3055\u3044\u3002\n",
                "* $\\hat{\\beta}_0$\u3068$\\hat{\\beta}_2$\u306e\u5206\u5e03\u3082\u56f3\u793a\u3057\u306a\u3055\u3044\u3002\n",
                "* `n`\u3092\u5909\u5316\u3055\u305b\u3066\u9055\u3044\u3092\u78ba\u304b\u3081\u306a\u3055\u3044\u3002\n",
                "* `N`\u3092\u5909\u5316\u3055\u305b\u3066\u9055\u3044\u3092\u78ba\u304b\u3081\u306a\u3055\u3044\u3002"
            ]
        },
        {
            "cell_type": "markdown",
            "metadata": {
                "heading_collapsed": true
            },
            "source": [
                "## \u30b7\u30df\u30e5\u30ec\u30fc\u30b7\u30e7\u30f3\uff1a\u591a\u91cd\u5171\u7dda\u6027"
            ]
        },
        {
            "cell_type": "markdown",
            "metadata": {
                "heading_collapsed": true,
                "hidden": true
            },
            "source": [
                "### \u8aac\u660e"
            ]
        },
        {
            "cell_type": "markdown",
            "metadata": {
                "hidden": true
            },
            "source": [
                "\u591a\u91cd\u5171\u7dda\u6027\u304c\u9ad8\u304f\u306a\u308b\u3068\uff0c\u30d1\u30e9\u30e1\u30fc\u30bf\u306e\u63a8\u5b9a\u5024\u306e\u6b63\u78ba\u6027\u304c\u4f4e\u4e0b\u3059\u308b\uff08\u5373\u3061\u3001\u30d1\u30e9\u30e1\u30fc\u30bf\u306e\u6a19\u6e96\u8aa4\u5dee$\\text{se}\\left(\\hat{\\beta}_j\\right)$\u304c\u5927\u304d\u304f\u306a\u308b\uff09\u3002\u3053\u306e\u70b9\u3092\u78ba\u8a8d\u3059\u308b\u305f\u3081\u306b\u30d1\u30e9\u30e1\u30fc\u30bf\u306e\u5206\u6563\u306e\u63a8\u5b9a\u5024\u306b\u3042\u308b\n",
                "\n",
                "$$\n",
                "\\frac{1}{1-R_j^2}\n",
                "$$\n",
                "\n",
                "\u3092\u5229\u7528\u3059\u308b\u3002\u3053\u308c\u306f\n",
                "**\u5206\u6563\u62e1\u5927\u56e0\u5b50\uff08variance inflation factor\uff09**\n",
                "\u3068\u547c\u3070\u308c\u308b\u3002\u4ee5\u4e0b\u3067\u306f`vif`\u3068\u547c\u3076\u3002\u3053\u306e\u5024\u304c\uff11\uff10\u4ee5\u4e0a\u306b\u306a\u308b\u8aac\u660e\u5909\u6570\u3069\u3046\u3057\u3092\u4f7f\u3046\u3068\u591a\u91cd\u5171\u7dda\u6027\u306e\u53ef\u80fd\u6027\u304c\u9ad8\u3044\u3068\u3044\u308f\u308c\u308b\u3002\n",
                "\n",
                "\u4f8b\u3068\u3057\u3066\u56de\u5e30\u5206\u6790`res_1`\u3092\u8003\u3048\u308b\u3002"
            ]
        },
        {
            "cell_type": "markdown",
            "metadata": {
                "heading_collapsed": true,
                "hidden": true
            },
            "source": [
                "### \u65b9\u6cd5\uff11\uff1a\u624b\u8a08\u7b97"
            ]
        },
        {
            "cell_type": "markdown",
            "metadata": {
                "hidden": true
            },
            "source": [
                "\u307e\u305a\u8aac\u660e\u5909\u6570\u3060\u3051\u304b\u3089\u69cb\u6210\u3055\u308c\u308b`DataFrame`\u3092\u4f5c\u6210\u3059\u308b\u3002"
            ]
        },
        {
            "cell_type": "code",
            "execution_count": null,
            "metadata": {},
            "outputs": [],
            "source": []
        },
        {
            "cell_type": "markdown",
            "metadata": {
                "hidden": true
            },
            "source": [
                "`corr()`\u306f\u76f8\u95a2\u4fc2\u6570\u3092\u8fd4\u3059\u30e1\u30bd\u30c3\u30c9\u3067\u3042\u308a\uff0c\u305d\u3053\u304b\u3089`.to_numpy()`\u3092\u4f7f\u3044\u30c7\u30fc\u30bf\u3092`Numpy`\u306e`array`\u3068\u3057\u3066\u53d6\u308a\u51fa\u3059\u3002"
            ]
        },
        {
            "cell_type": "code",
            "execution_count": null,
            "metadata": {},
            "outputs": [],
            "source": []
        },
        {
            "cell_type": "markdown",
            "metadata": {
                "hidden": true
            },
            "source": [
                "* \u4e0a\u3067\u3082\u4f7f\u3063\u305f`linalg.inv()`\u306f\u3001`NumPy`\u306b\u3042\u308b`linalg`\u30b5\u30d6\u30d1\u30c3\u30b1\u30fc\u30b8\u306e\u95a2\u6570\u3067\u3042\u308a\u3001\u9006\u884c\u5217\u3092\u8fd4\u3059\u3002\n",
                "* `diagonal()`\u306f\u5bfe\u89d2\u6210\u5206\u3092\u8fd4\u3059\u30e1\u30bd\u30c3\u30c9\u3067\u3042\u308a\uff0c\u305d\u308c\u304c`vif`\u3067\u3042\u308b\u3002"
            ]
        },
        {
            "cell_type": "code",
            "execution_count": null,
            "metadata": {},
            "outputs": [],
            "source": [
                "\n"
            ]
        },
        {
            "cell_type": "markdown",
            "metadata": {
                "hidden": true
            },
            "source": [
                "\u5909\u6570\u540d\u3068\u4e00\u7dd2\u306b\u8868\u793a\u3059\u308b\u305f\u3081\u306b\u6b21\u306e\u3088\u3046\u306b`Series`\u3068\u3057\u3066\u8868\u793a\u3059\u308b\u3002"
            ]
        },
        {
            "cell_type": "code",
            "execution_count": null,
            "metadata": {},
            "outputs": [],
            "source": []
        },
        {
            "cell_type": "markdown",
            "metadata": {
                "hidden": true
            },
            "source": [
                "\u6b21\u306b\u4e0a\u306e\u8a08\u7b97\u3092\u95a2\u6570\u306b\u307e\u3068\u3081\u308b\u3002"
            ]
        },
        {
            "cell_type": "code",
            "execution_count": null,
            "metadata": {},
            "outputs": [],
            "source": [
                "\n",
                "\n",
                "",
                "",
                "",
                ""
            ]
        },
        {
            "cell_type": "markdown",
            "metadata": {
                "heading_collapsed": true,
                "hidden": true
            },
            "source": [
                "### \u65b9\u6cd5\uff12\uff1a`statsmodels`"
            ]
        },
        {
            "cell_type": "markdown",
            "metadata": {
                "hidden": true
            },
            "source": [
                "`statsmodels`\u306b\u3042\u308b`variance_inflation_factor`\u3092\u4f7f\u3044`vif`\u3092\u8a08\u7b97\u3059\u308b\u3053\u3068\u3082\u3067\u304d\u308b\u3002"
            ]
        },
        {
            "cell_type": "markdown",
            "metadata": {
                "hidden": true
            },
            "source": [
                "\u5fc5\u305a**\u5b9a\u6570\u9805\u3092\u542b\u3080**\u8aac\u660e\u5909\u6570\u3060\u3051\u304b\u3089\u69cb\u6210\u3055\u308c\u308b`DataFrame`\u3092\u4f5c\u6210\u3059\u308b\u3002"
            ]
        },
        {
            "cell_type": "code",
            "execution_count": null,
            "metadata": {},
            "outputs": [],
            "source": []
        },
        {
            "cell_type": "code",
            "execution_count": null,
            "metadata": {},
            "outputs": [],
            "source": [
                "\n",
                "\n",
                "",
                ""
            ]
        },
        {
            "cell_type": "markdown",
            "metadata": {
                "hidden": true
            },
            "source": [
                "\u5b9a\u6570\u9805\u306f\u8003\u3048\u306a\u304f\u3066\u826f\u3044\u3002\n",
                "\n",
                "\uff08\u30b3\u30fc\u30c9\u306e\u8aac\u660e\uff09\n",
                "* `f-string`\u3092\u4f7f\u3063\u3066\u3044\u308b\u3002\n",
                "* `{name : <10}`\u306f\u3001`name`\u306e\u5024\u3092\u4ee3\u5165\u3057\u3001`10`\u3068\u3044\u3046\u5e45\u306e\u4e2d\u3067\u5de6\u5bc4\u305b\u3057\u3066\u3044\u308b\u3002\n",
                "* `{vif_val : >10}`\u306f\u3001`vif_val`\u306e\u5024\u3092\u4ee3\u5165\u3057\u3001`10`\u3068\u3044\u3046\u5e45\u306e\u4e2d\u3067\u53f3\u5bc4\u305b\u3057\u3066\u3044\u308b\u3002"
            ]
        },
        {
            "cell_type": "markdown",
            "metadata": {
                "heading_collapsed": true,
                "hidden": true
            },
            "source": [
                "### \u30b7\u30df\u30e5\u30ec\u30fc\u30b7\u30e7\u30f3"
            ]
        },
        {
            "cell_type": "markdown",
            "metadata": {
                "hidden": true
            },
            "source": [
                "\u30b7\u30df\u30e5\u30ec\u30fc\u30b7\u30e7\u30f3\u3092\u304a\u3053\u306a\u3044\u3001\u591a\u91cd\u5171\u7dda\u6027\u306b\u3088\u308a`OLS`\u63a8\u5b9a\u91cf\u306e\u6a19\u6e96\u8aa4\u5dee\u304c\u4e0a\u6607\u3057\u63a8\u5b9a\u91cf\u306e\u6b63\u78ba\u6027\u304c\u640d\u306a\u308f\u308c\u308b\u3053\u3068\u3092\u78ba\u8a8d\u3059\u308b\u3002\n",
                "\n",
                "\u30b7\u30df\u30e5\u30ec\u30fc\u30b7\u30e7\u30f3\u3067\u306f\u4ee5\u4e0b\u306e\u56de\u5e30\u5f0f\u3092\u4f7f\u3046\u3002\n",
                "\n",
                "$$y=\\beta_0+\\beta_1x_1+\\beta_2x_2+u$$\n",
                "\n",
                "\u6bcd\u96c6\u56e3\u306e\u4fc2\u6570\u306e\u5024\u3092\u4ee5\u4e0b\u306e\u3088\u3046\u306b\u8a2d\u5b9a\u3059\u308b\n",
                "* $\\beta_0=1.0$\n",
                "* $\\beta_1=2.0$\n",
                "* $\\beta_2=3.0$"
            ]
        },
        {
            "cell_type": "markdown",
            "metadata": {
                "hidden": true
            },
            "source": [
                "\u30b7\u30df\u30e5\u30ec\u30fc\u30b7\u30e7\u30f3\u306e\u95a2\u6570\u3092\u4f5c\u6210\u3059\u308b\u3002\n",
                "* \u5f15\u6570\n",
                "    * `n`\uff1a\u6a19\u672c\u306e\u5927\u304d\u3055\n",
                "    * `N`\uff1a\u6a19\u672c\u6570\uff08\u30eb\u30fc\u30d7\u306e\u56de\u6570\uff09\n",
                "    * `m`\uff1a\uff12\u3064\u306e\u8aac\u660e\u5909\u6570\u306e\u5171\u5206\u6563\n",
                "* \u8fd4\u308a\u5024\n",
                "    * $\\hat{\\beta}_i$\uff0c$i=0,1,2$\u306e\u63a8\u5b9a\u5024\u306e\u30ea\u30b9\u30c8\n",
                "    \n",
                "\uff08\u30b3\u30e1\u30f3\u30c8\uff09\n",
                "\n",
                "* `@njit`\u3092\u4f7f\u3044\u305f\u3044\u3068\u3053\u308d\u3060\u304c\uff0c`Numpy`\u306e`random.multivariate_normal()`\u304c`Numba`\u306b\u5bfe\u5fdc\u3057\u3066\u3044\u306a\u3044\u305f\u3081`scipy.stats`\u306e `multivariate_normal.rvs()`\u3092\u4f7f\u3046\u3002`np.random.normal()`\u3092\u4f7f\u3063\u3066\u4e8c\u5909\u91cf\u6b63\u898f\u5206\u5e03\u304b\u3089\u306e\u5024\u3068\u3059\u308b\u65b9\u6cd5\u3082\u3042\u308b\u304c\uff0c\u3053\u3053\u3067\u306f\u7c21\u5358\u5316\u3092\u91cd\u8996\u3059\u308b\u3002\n",
                "* `ols`\u306f\u4fc2\u6570\u306e\u63a8\u5b9a\u5024\u3060\u3051\u3067\u306f\u306a\u304f\u4ed6\u306e\u591a\u304f\u306e\u7d71\u8a08\u5024\u3082\u81ea\u52d5\u7684\u306b\u8a08\u7b97\u3059\u308b\u305f\u3081\u4e00\u56de\u306e\u8a08\u7b97\u306b\u6bd4\u8f03\u7684\u306b\u9577\u3044\u6642\u9593\u3092\u8981\u3059\u308b\u3002\u8a08\u7b97\u306e\u901f\u5ea6\u3092\u5c11\u3057\u3067\u3082\u65e9\u3081\u308b\u305f\u3081\u306b\u4e0b\u306e\u95a2\u6570\u306e\u4e2d\u3067\u306f`ols`\u306f\u4f7f\u308f\u305a`Numpy`\u306e\u95a2\u6570\u3092\u4f7f\u3044OLS\u63a8\u5b9a\u5024\u3092\u8a08\u7b97\u3059\u308b\u3002"
            ]
        },
        {
            "cell_type": "code",
            "execution_count": null,
            "metadata": {},
            "outputs": [],
            "source": [
                "\n",
                "\n",
                "    # \uff12\u3064\u306ex1,x2\u306e\u5171\u5206\u6563\u3092\u8a2d\u5b9a\n",
                "\n",
                "    # x1, x2\u306e\u5171\u5206\u6563\u884c\u5217\n",
                "\n",
                "\n",
                "",
                "    # \u63a8\u5b9a\u5024\u3092\u5165\u308c\u308b\u7a7a\u306e\u30ea\u30b9\u30c8\n",
                "\n",
                "\n",
                "",
                "",
                "",
                "",
                "",
                "",
                "        # x1, x2\u306e\u5024\u306e\u62bd\u51fa\n",
                "\n",
                "\n",
                "",
                "",
                "",
                "",
                "",
                "",
                "",
                "",
                "",
                "",
                "",
                "",
                ""
            ]
        },
        {
            "cell_type": "markdown",
            "metadata": {
                "hidden": true
            },
            "source": [
                "\u30b7\u30df\u30e5\u30ec\u30fc\u30b7\u30e7\u30f3\u306e\u958b\u59cb"
            ]
        },
        {
            "cell_type": "code",
            "execution_count": null,
            "metadata": {},
            "outputs": [],
            "source": [
                "# \u591a\u91cd\u5171\u7dda\u6027\u304c\u5f31\u3044\u30b1\u30fc\u30b9 \n",
                "\n",
                "\n",
                "# \u591a\u91cd\u5171\u7dda\u6027\u304c\u5f37\u3044\u30b1\u30fc\u30b9 \n"
            ]
        },
        {
            "cell_type": "markdown",
            "metadata": {
                "hidden": true
            },
            "source": [
                "$\\hat{\\beta}_1$\u306e\u5206\u5e03\u306e\u56f3\u793a"
            ]
        },
        {
            "cell_type": "code",
            "execution_count": null,
            "metadata": {},
            "outputs": [],
            "source": [
                "\n",
                "\n",
                "# \u591a\u91cd\u5171\u7dda\u6027\u304c\u5f31\u3044\u30b1\u30fc\u30b9\n",
                "\n",
                "\n",
                "# \u591a\u91cd\u5171\u7dda\u6027\u304c\u5f37\u3044\u30b1\u30fc\u30b9\n",
                "\n",
                "\n",
                "",
                "",
                "",
                "",
                "",
                ""
            ]
        },
        {
            "cell_type": "markdown",
            "metadata": {
                "hidden": true
            },
            "source": [
                "\u591a\u91cd\u5171\u7dda\u6027\u304c\u5f37\u3044\u3068\u63a8\u5b9a\u5024\u306e\u5206\u5e03\u306f\uff0c\u771f\u306e\u5024\uff08$\\beta_1=$\n",
                "`2.0`\uff09\u306e\u5468\u8fba\u3067\u4f4e\u304f\u306a\u308a\u5de6\u53f3\u306b\u5e83\u304c\u3063\u3066\u3044\u308b\u3002\u63a8\u5b9a\u5024\u306e\u6b63\u78ba\u6027\u304c\u4f4e\u4e0b\u3059\u308b\u3053\u3068\u3092\u793a\u3057\u3066\u3044\u308b\u3002$\\hat{\\beta}_1$\u306e\u5206\u6563\u3092\u8a08\u7b97\u3057\u3066\u307f\u3088\u3046\u3002"
            ]
        },
        {
            "cell_type": "code",
            "execution_count": null,
            "metadata": {},
            "outputs": [],
            "source": []
        },
        {
            "cell_type": "markdown",
            "metadata": {
                "hidden": true
            },
            "source": [
                "\uff1cGive it a try!\uff1e\n",
                "\n",
                "\u4ee5\u4e0b\u306e\u30b7\u30df\u30e5\u30ec\u30fc\u30b7\u30e7\u30f3\u3092\u304a\u3053\u306a\u3044\uff0c\u9055\u3044\u306f\u4f55\u304b\u78ba\u8a8d\u3057\u306a\u3055\u3044\u3002\n",
                "1. $\\hat{\\beta}_0$\u3068$\\hat{\\beta}_2$\u306e\u5206\u5e03\u3082\u56f3\u793a\u3057\u306a\u3055\u3044\u3002\n",
                "1. `n`\u3092\u5909\u5316\u3055\u305b\u3066\u9055\u3044\u3092\u78ba\u304b\u3081\u306a\u3055\u3044\u3002\n",
                "1. `N`\u3092\u5909\u5316\u3055\u305b\u3066\u9055\u3044\u3092\u78ba\u304b\u3081\u306a\u3055\u3044\u3002\n",
                "1. `sim_multi`\u3092\u66f8\u304d\u63db\u3048\u3066$\\hat{\\beta}_1$\u3068$\\hat{\\beta}_2$\u306e\u6a19\u6e96\u8aa4\u5dee\u3092\u30d7\u30ed\u30c3\u30c8\u3057\u554f4\u306e\u305d\u308c\u305e\u308c\u306e\u5e73\u5747\u3092\u8a08\u7b97\u3057\u306a\u3055\u3044\u3002\uff08\u30d2\u30f3\u30c8\uff1a\u63a8\u5b9a\u7d50\u679c\u306e\u5c5e\u6027`bse`\u3092\u4f7f\u3046\uff09"
            ]
        },
        {
            "cell_type": "markdown",
            "metadata": {
                "hidden": true
            },
            "source": [
                "\u554f4\u306e\u7b54\u3048\uff1a$+$\u3092\u62bc\u3059\u3068\u7b54\u3048\u304c\u8868\u793a\u3055\u308c\u308b\u3002"
            ]
        },
        {
            "cell_type": "code",
            "execution_count": null,
            "metadata": {},
            "outputs": [],
            "source": [
                "\n",
                "\n",
                "",
                "    # x1, x2\u306e\u5171\u5206\u6563\u884c\u5217\n",
                "\n",
                "\n",
                "",
                "    # \u63a8\u5b9a\u5024\u3092\u5165\u308c\u308barray\n",
                "\n",
                "\n",
                "",
                "",
                "",
                "",
                "",
                "",
                "",
                "",
                "",
                "",
                "",
                "",
                "",
                "",
                "",
                "",
                "",
                "",
                "",
                "",
                "",
                "",
                "",
                "",
                "",
                "",
                "# \u591a\u91cd\u5171\u7dda\u6027\u304c\u5f31\u3044\u30b1\u30fc\u30b9 \n",
                "\n",
                "\n",
                "# \u591a\u91cd\u5171\u7dda\u6027\u304c\u5f37\u3044\u30b1\u30fc\u30b9 \n",
                "\n",
                "\n",
                "",
                "",
                "",
                "",
                "",
                "",
                ""
            ]
        },
        {
            "cell_type": "markdown",
            "metadata": {
                "hidden": true
            },
            "source": [
                "\u554f5\u306e\u7b54\u3048\uff1a$+$\u3092\u62bc\u3059\u3068\u7b54\u3048\u304c\u8868\u793a\u3055\u308c\u308b\u3002"
            ]
        },
        {
            "cell_type": "code",
            "execution_count": null,
            "metadata": {},
            "outputs": [],
            "source": [
                "\n",
                "\n",
                "# \u6b21\u306e\u30b3\u30fc\u30c9\u3067\u3082OK\n",
                "# np.array(se_x1_weak).mean(), np.array(se_x1_strong).mean()"
            ]
        },
        {
            "cell_type": "markdown",
            "metadata": {
                "heading_collapsed": true,
                "hidden": true
            },
            "source": [
                "### \u56f3\u3092\u4f7f\u3063\u3066\u30c1\u30a7\u30c3\u30af"
            ]
        },
        {
            "cell_type": "markdown",
            "metadata": {
                "hidden": true
            },
            "source": [
                "\u591a\u91cd\u5171\u7dda\u6027\u306f\u8aac\u660e\u5909\u6570\u9593\u306e\u76f8\u95a2\u304c\u9ad8\u3044\u3068\u767a\u751f\u3059\u308b\u304c\uff0c\u3053\u3053\u3067\u306f\u76f8\u95a2\u5ea6\u3092\u56f3\u3092\u4f7f\u3063\u3066\u30c1\u30a7\u30c3\u30af\u3059\u308b\u3002\u8272\u3005\u306a\u65b9\u6cd5\u304c\u3042\u308b\u304c\uff0c\u4ee5\u4e0b\u3067\u306f\uff12\u3064\u7d39\u4ecb\u3059\u308b\u3002\n",
                "1. `pandas`\u306e\u95a2\u6570`scatter_matrix`\u3092\u4f7f\u3046\u65b9\u6cd5\n",
                "1. `seaborn`\u3068\u3044\u3046\u30d1\u30c3\u30b1\u30fc\u30b8\u306e\u95a2\u6570`pairplot`\u3092\u4f7f\u3046\u65b9\u6cd5"
            ]
        },
        {
            "cell_type": "markdown",
            "metadata": {
                "heading_collapsed": true,
                "hidden": true
            },
            "source": [
                "#### `pandas`\u3092\u4f7f\u3046\u65b9\u6cd5"
            ]
        },
        {
            "cell_type": "markdown",
            "metadata": {
                "hidden": true
            },
            "source": [
                "\u307e\u305a\u30b3\u30fc\u30c9\u306e\u4e2d\u3067`matplotlib`\u3092\u660e\u793a\u7684\u306b\u5c0e\u5165\u305b\u305a\u306b`pandas`\u306e\u307f\u3092\u4f7f\u3044\u56f3\u793a\u3059\u308b\u65b9\u6cd5\u3092\u7d39\u4ecb\u3059\u308b\u3002\u3053\u3061\u3089\u306e\u65b9\u304c\u7c21\u5358\u3068\u611f\u3058\u308b\u304b\u3082\u3057\u308c\u306a\u3044\u3002\u6563\u5e03\u56f3\u3092\u63cf\u3044\u3066\u307f\u308b\u3002"
            ]
        },
        {
            "cell_type": "code",
            "execution_count": null,
            "metadata": {},
            "outputs": [],
            "source": [
                "\n"
            ]
        },
        {
            "cell_type": "markdown",
            "metadata": {
                "hidden": true
            },
            "source": [
                "`pandas`\u306e`DataFrame`\u3084`Series`\u306b\u306f\u56f3\u3092\u4f5c\u6210\u3059\u308b\u30e1\u30bd\u30c3\u30c9`plot()`\u304c\u7528\u610f\u3055\u308c\u3066\u3044\u308b\uff08\u88cf\u3067\u306f`matplotlib`\u304c\u52d5\u3044\u3066\u3044\u308b\uff09\u3002\u4f8b\u3048\u3070\uff0c`wage1`\u306b\u3042\u308b`educ`\u306e\u30d2\u30b9\u30c8\u30b0\u30e9\u30e0\u3067\u3042\u308c\u3070\u6b21\u306e\u30b3\u30fc\u30c9\u3067\u56f3\u793a\u3059\u308b\u3053\u3068\u304c\u3067\u304d\u308b\u3002\n",
                "```\n",
                "wage1['educ'].plot(kind='hist')\n",
                "\n",
                "\u3082\u3057\u304f\u306f\n",
                "\n",
                "wage1['educ'].plot.hist()\n",
                "```\n",
                "\u307e\u305f`educ`\u3068`wage`\u306e\u6563\u5e03\u56f3\u306f\u6b21\u306e\u30b3\u30fc\u30c9\u3067\u63cf\u304f\u3053\u3068\u304c\u3067\u304d\u308b\u3002\n",
                "```\n",
                "wage1.plot('educ','wage',kind='scatter')\n",
                "\n",
                "\u3082\u3057\u304f\u306f\n",
                "\n",
                "wage1.plot.scatter('educ','wage')\n",
                "```\n",
                "\n",
                "\u307e\u305f\uff11\u3064\u306e`DataFrame`\u306b\u3042\u308b\u8907\u6570\u5217\u30c7\u30fc\u30bf\u3092\u4f7f\u3044\uff0c\u8907\u6570\u306e\u56f3\u3092\u4e26\u3079\u308b\u3053\u3068\u3082\u53ef\u80fd\u3067\u3042\u308b\u3002\u8208\u5473\u304c\u3042\u308b\u4eba\u306f[\u3053\u306e\u30ea\u30f3\u30af](https://pandas.pydata.org/pandas-docs/stable/user_guide/visualization.html)\u3092\u53c2\u7167\u3057\u3088\u3046\u3002\n",
                "\n",
                "---\n",
                "\u5909\u6570\u306e\u76f8\u95a2\u5ea6\u3092\u30c1\u30a7\u30c3\u30af\u3059\u308b\u305f\u3081\u306b`pandas.plotting`\u306e`scatter_matrix`\u3092\u4f7f\u3046\u3002\u3053\u306e\u30e2\u30b8\u30e5\u30fc\u30eb\u306f`DataFrame`\u3092\u5f15\u6570\u3068\u3059\u308b\u3002"
            ]
        },
        {
            "cell_type": "code",
            "execution_count": null,
            "metadata": {},
            "outputs": [],
            "source": [
                "\n"
            ]
        },
        {
            "cell_type": "markdown",
            "metadata": {
                "hidden": true
            },
            "source": [
                "\u6a2a\u8ef8\u3068\u7e26\u8ef8\u306e\u30e9\u30d9\u30eb\u3092\u78ba\u8a8d\u3059\u308b\u3053\u3068\u3002\u5bfe\u89d2\u7dda\u4e0a\u306f\u305d\u308c\u305e\u308c\u306e\u5909\u6570\u306e\u30d2\u30b9\u30c8\u30b0\u30e9\u30e0\uff0c\u5bfe\u89d2\u7dda\u4ee5\u5916\u306e\u56f3\u306f\u7e26\u6a2a\u306e\u30da\u30a2\u306e\u5909\u6570\u306e\u6563\u5e03\u56f3\u3068\u306a\u3063\u3066\u304a\u308a\uff0c\u76f8\u95a2\u5ea6\u3092\u3042\u308b\u7a0b\u5ea6\u76ee\u8996\u3067\u78ba\u8a8d\u3067\u304d\u308b\u3002\n",
                "\n",
                "---\n",
                "\u6b21\u306b\u4e3b\u306a\u30aa\u30d7\u30b7\u30e7\u30f3\u3068\u3057\u3066\uff12\u3064\u3092\u7d39\u4ecb\u3059\u308b\u3002\n",
                "1. \u56f3\u306e\u5927\u304d\u3055\u306f`figsize=(9, 6)`\u3067\u6307\u5b9a\u3059\u308b\u3002\u3053\u306e\u4f8b\u3067\u306f`9`\u304c\u6a2a\u5e45\uff0c`6`\u304c\u7e26\u5e45\u3067\u3042\u308b\u3002 \n",
                "1. `diagonal='kde'`\u3092\u6307\u5b9a\u3059\u308b\u3068\u5bfe\u89d2\u7dda\u4e0a\u306e\u30d2\u30b9\u30c8\u30b0\u30e9\u30e0\u3092\u30ab\u30fc\u30cd\u30eb\u5bc6\u5ea6\u63a8\u5b9a\u306b\u5909\u66f4\u3067\u304d\u308b\u3002"
            ]
        },
        {
            "cell_type": "code",
            "execution_count": null,
            "metadata": {},
            "outputs": [],
            "source": [
                "\n"
            ]
        },
        {
            "cell_type": "markdown",
            "metadata": {
                "hidden": true
            },
            "source": [
                "\u6b21\u306b\u76f8\u95a2\u4fc2\u6570\u3092\u7c21\u5358\u306b\u8a08\u7b97\u3059\u308b\u65b9\u6cd5\u3092\u7d39\u4ecb\u3059\u308b\u3002`DataFrame`\u306e\u30e1\u30bd\u30c3\u30c9`corr()`\u3092\u4f7f\u3046\u3068\u5909\u6570\u306e\u76f8\u95a2\u4fc2\u6570\u3092`DataFrame`\u3068\u3057\u3066\u8fd4\u3059\u3002"
            ]
        },
        {
            "cell_type": "code",
            "execution_count": null,
            "metadata": {},
            "outputs": [],
            "source": [
                "\n"
            ]
        },
        {
            "cell_type": "markdown",
            "metadata": {
                "hidden": true
            },
            "source": [
                "\u4e0a\u306e\u56f3\u3068\u76f8\u95a2\u4fc2\u6570\u306e\u5024\u3092\u898b\u6bd4\u3079\u3066\uff0c\u6982\u306d\u3069\u306e\u3088\u3046\u306a\u95a2\u4fc2\u306b\u3042\u308b\u306e\u304b\u3092\u78ba\u304b\u3081\u3088\u3046\u3002"
            ]
        },
        {
            "cell_type": "markdown",
            "metadata": {
                "heading_collapsed": true,
                "hidden": true
            },
            "source": [
                "#### `seaborn`\u3092\u4f7f\u3046\u65b9\u6cd5"
            ]
        },
        {
            "cell_type": "markdown",
            "metadata": {
                "hidden": true
            },
            "source": [
                "`seaborn`\u3068\u3044\u3046\u30d1\u30c3\u30b1\u30fc\u30b8\u3092\u4f7f\u3046\u3068\u3088\u308a\u300c\u898b\u6804\u3048\u304c\u3059\u308b\u300d\u56f3\u3092\u63cf\u304f\u3053\u3068\u304c\u3067\u304d\u308b\u3002`seaborn`\u306b\u3064\u3044\u3066\u306f[\u3053\u306e\u30ea\u30f3\u30af](https://seaborn.pydata.org)\u3092\u53c2\u7167\u3057\u3088\u3046\u3002`seaborn`\u306f`sns`\u3068\u3057\u3066\u30a4\u30f3\u30dd\u30fc\u30c8\u3059\u308b\u306e\u304c\u6163\u4f8b\u3067\u3042\u308b\u3002"
            ]
        },
        {
            "cell_type": "markdown",
            "metadata": {
                "hidden": true
            },
            "source": [
                "\u307e\u305a\u4e0a\u3067`DataFrame`\u306e\u30e1\u30bd\u30c3\u30c9`corr()`\u3092\u4f7f\u3044\u5909\u6570\u306e\u76f8\u95a2\u4fc2\u6570\u3092\u8a08\u7b97\u3057\u305f\u304c\uff0c`seaborn`\u306e`heatmap()`\u95a2\u6570\u3092\u4f7f\u3046\u3068\u76f8\u95a2\u4fc2\u6570\u3092\u8272\u306b\u5909\u63db\u3057\u3066\u3088\u308a\u898b\u3084\u3059\u3044\u8868\u793a\u3068\u306a\u308b\u3002"
            ]
        },
        {
            "cell_type": "code",
            "execution_count": null,
            "metadata": {},
            "outputs": [],
            "source": [
                "\n"
            ]
        },
        {
            "cell_type": "markdown",
            "metadata": {
                "hidden": true
            },
            "source": [
                "\u8d64\u306f\u30d7\u30e9\u30b9\uff0c\u9752\u306f\u30de\u30a4\u30ca\u30b9\u3092\u793a\u3057\uff0c\u8272\u306e\u6fc3\u6de1\u306f\u7d76\u5bfe\u5024\u306b\u9023\u52d5\u3057\u3066\u3044\u308b\u3002\u3053\u3053\u3067\u4f7f\u3063\u305f\uff13\u3064\u306e\u30aa\u30d7\u30b7\u30e7\u30f3\uff08\u8a2d\u5b9a\u3057\u306a\u304f\u3066\u3082\u826f\u3044\uff09\u306e\u8aac\u660e\u3059\u308b\u3002\n",
                "* `vmin`\uff1a\u53f3\u306e\u7e26\u9577\u306e\u68d2\u306f\u8868\u793a\u3055\u308c\u308b\u7bc4\u56f2\u3092\u793a\u3059\u304c\uff0c\u305d\u306e\u6700\u4f4e\u5024\u3092`-1`\u306b\u3059\u308b\uff08\u30c7\u30d5\u30a9\u30eb\u30c8\u306f\u81ea\u52d5\u3067\u8a2d\u5b9a\uff09\n",
                "    * \u6700\u9ad8\u5024\u3092\u8a2d\u5b9a\u3059\u308b`vmax`\u3082\u3042\u308b\u304c\uff0c`.corr()`\u306e\u5bfe\u89d2\u6210\u5206\u306f`1`\u306a\u306e\u3067\u8a2d\u5b9a\u3059\u308b\u5fc5\u8981\u306f\u306a\u3044\u3002\n",
                "* `annot`\u306f\u76f8\u95a2\u4fc2\u6570\u3092\u8868\u793a\u3059\u308b\uff08\u30c7\u30d5\u30a9\u30eb\u30c8\u306f`False`\uff09\n",
                "* `cmap`\u306f\u8272\u3092\u8a2d\u5b9a\u3059\u308b\uff08\u30c7\u30d5\u30a9\u30eb\u30c8\u306f`None`\uff09"
            ]
        },
        {
            "cell_type": "markdown",
            "metadata": {
                "hidden": true
            },
            "source": [
                "`seaborn`\u306b\u306f`matplotlib`\u306e\u76f8\u95a2\u5ea6\u3092\u30c1\u30a7\u30c3\u30af\u3059\u308b`scatter_matrix`\u95a2\u6570\u306b\u5bfe\u5fdc\u3059\u308b`pairplot`\u304c\u3042\u308a\uff0c\u3088\u308a\u4f7f\u3044\u52dd\u624b\u304c\u826f\u3044\u3068\u611f\u3058\u308b\u304b\u3082\u3057\u308c\u306a\u3044\u3002"
            ]
        },
        {
            "cell_type": "code",
            "execution_count": null,
            "metadata": {},
            "outputs": [],
            "source": [
                "\n"
            ]
        },
        {
            "cell_type": "markdown",
            "metadata": {
                "hidden": true
            },
            "source": [
                "\u56f3\u306e\u89e3\u91c8\u306f`pandas`\u306e\u5834\u5408\u3068\u540c\u3058\u3067\u3042\u308b\u3002\n",
                "\n",
                "`pairplot()`\u306e\u4e3b\u306a\u5f15\u6570\uff1a\n",
                "1. \u305d\u308c\u305e\u308c\u306e\u56f3\uff08\u30d5\u30a1\u30bb\u30c3\u30c8\uff09\u306e\u30b5\u30a4\u30ba\n",
                "    * `height`\u306f\u9ad8\u3055\u3092\u6307\u5b9a\n",
                "    * \u6a2a\u5e45\u306f`aspect`$\\times$`height`\u3067\u8a2d\u5b9a\u3059\u308b\u3002\n",
                "1. \u5bfe\u89d2\u7dda\u4e0a\u306e\u30d2\u30b9\u30c8\u30b0\u30e9\u30e0\u3092\u30ab\u30fc\u30cd\u30eb\u5bc6\u5ea6\u63a8\u5b9a\u306b\u5909\u66f4\u3059\u308b\u5834\u5408\u306f`diag_kind=kde`\u3068\u6307\u5b9a\u3059\u308b\u3002\n",
                "1. `kind='reg'`\u3092\u8ffd\u52a0\u3059\u308b\u3068\uff0c\u6563\u5e03\u56f3\u306b\u56de\u5e30\u76f4\u7dda\u304c\u8ffd\u52a0\u3055\u308c\u76f8\u95a2\u5ea6\u306e\u78ba\u8a8d\u304c\u3088\u308a\u7c21\u5358\u306b\u306a\u308b\u3002\n",
                "\n",
                "`seaborn`\u306e\u56de\u5e30\u5206\u6790\u306b\u95a2\u4fc2\u3059\u308b\u30d7\u30ed\u30c3\u30c8\u306b\u3064\u3044\u3066\u306f[\u3053\u306e\u30ea\u30f3\u30af](https://seaborn.pydata.org/tutorial/regression.html#regression-tutorial)\u304c\u5f79\u7acb\u3064\u3060\u308d\u3046\u3002"
            ]
        }
    ],
    "metadata": {
        "celltoolbar": "Tags",
        "kernel_info": {
            "name": "py4etrics"
        },
        "kernelspec": {
            "display_name": "latest",
            "language": "python",
            "name": "latest"
        },
        "language_info": {
            "codemirror_mode": {
                "name": "ipython",
                "version": 3
            },
            "file_extension": ".py",
            "mimetype": "text/x-python",
            "name": "python",
            "nbconvert_exporter": "python",
            "pygments_lexer": "ipython3",
            "version": "3.8.5"
        },
        "nteract": {
            "version": "0.15.0"
        },
        "toc": {
            "base_numbering": 1,
            "nav_menu": {},
            "number_sections": true,
            "sideBar": true,
            "skip_h1_title": false,
            "title_cell": "Table of Contents",
            "title_sidebar": "Contents",
            "toc_cell": false,
            "toc_position": {},
            "toc_section_display": true,
            "toc_window_display": false
        }
    },
    "nbformat": 4,
    "nbformat_minor": 2
}