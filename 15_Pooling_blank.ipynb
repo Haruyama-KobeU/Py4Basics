{
    "cells": [
        {
            "cell_type": "markdown",
            "metadata": {},
            "source": [
                "# \u30d7\u30fc\u30ea\u30f3\u30b0\u30fb\u30c7\u30fc\u30bf\u3068\u30d1\u30cd\u30eb\u30fb\u30c7\u30fc\u30bf"
            ]
        },
        {
            "cell_type": "code",
            "execution_count": null,
            "metadata": {},
            "outputs": [],
            "source": [
                "\n",
                "\n",
                "",
                "",
                ""
            ]
        },
        {
            "cell_type": "markdown",
            "metadata": {
                "heading_collapsed": true
            },
            "source": [
                "## \u8aac\u660e"
            ]
        },
        {
            "cell_type": "markdown",
            "metadata": {
                "hidden": true
            },
            "source": [
                "\u72ec\u7acb\u306b\u5206\u5e03\u3057\u305f\u30d7\u30fc\u30ea\u30f3\u30b0\u30fb\u30c7\u30fc\u30bf\uff08independently distributed pooling data\uff09\u3068\u30d1\u30cd\u30eb\u30fb\u30c7\u30fc\u30bf\uff08panel data\uff09\u3092\u8003\u3048\u308b\u3002\u4e21\u65b9\u3068\u3082\u6a2a\u65ad\u9762\u30c7\u30fc\u30bf\u3068\u6642\u7cfb\u5217\u30c7\u30fc\u30bf\u306e\u4e21\u65b9\u306e\u7279\u5fb4\u3092\u517c\u306d\u5099\u3048\u305f\u30c7\u30fc\u30bf\u3067\u3042\u308b\u3002"
            ]
        },
        {
            "cell_type": "markdown",
            "metadata": {
                "hidden": true
            },
            "source": [
                "---\n",
                "**\u72ec\u7acb\u306b\u5206\u5e03\u3057\u305f\u30d7\u30fc\u30ea\u30f3\u30b0\u30fb\u30c7\u30fc\u30bf**\u306b\u306f\u4ee5\u4e0b\u306e\u7279\u5fb4\u304c\u3042\u308b\u3002\n",
                "* \u3042\u308b\u671f\u9593\uff08\u4f8b\u3048\u3070\uff0c2000\u5e74\u304b\u30892010\u5e74\u306e\u9593\uff09\u306b\u671f\u9593\u6bce\u7121\u4f5c\u70ba\u306b\u89b3\u5bdf\u5358\u4f4d\uff08\u4f8b\u3048\u3070\uff0c\u6d88\u8cbb\u8005\u3084\u4f01\u696d\uff09\u304c\u62bd\u51fa\u3055\u308c\u308b\u3002\u5f93\u3063\u3066\uff0c\u6642\u9593\uff08\u5e74\u6b21\u30c7\u30fc\u30bf\u3067\u3042\u308c\u3070\u5e74\uff09\u304c\u9055\u3048\u3070\u89b3\u5bdf\u5358\u4f4d\u306f\u5909\u5316\u3059\u308b\u3002\n",
                "* \u6642\u9593\u306e\u5909\u5316\u306b\u3088\u308a\u5fc5\u305a\u3057\u3082**\u540c\u4e00\u5206\u5e03**\u3068\u306f\u306a\u3089\u306a\u3044\uff08\u5373\u3061\uff0c\u5206\u5e03\u306f\u6642\u9593\u306b\u3088\u3063\u3066\u5909\u5316\u3059\u308b\u304b\u3082\u77e5\u308c\u306a\u3044\uff09\u3002\n",
                "\n",
                "\u65e5\u672c\u306e\u7d71\u8a08\u306e\u4f8b\u306b[\u52b4\u50cd\u529b\u8abf\u67fb](http://www.stat.go.jp/data/roudou/index.html)\u304c\u3042\u308b\u3002\n",
                "\n",
                "\uff1c\u30d7\u30fc\u30ea\u30f3\u30b0\u30fb\u30c7\u30fc\u30bf\u3092\u4f7f\u3046\u5229\u70b9\uff1e\n",
                "* \u6a2a\u65ad\u30c7\u30fc\u30bf\u3068\u6bd4\u3079\u308b\u3068\u30c7\u30fc\u30bf\u6570\u304c\u5897\u3048\u308b\u305f\u3081\uff0c\u3088\u308a\u6b63\u78ba\u306a\u63a8\u5b9a\u91cf\u3084\u691c\u5b9a\u7d71\u8a08\u91cf\u3092\u5f97\u308b\u3053\u3068\u304c\u53ef\u80fd\u3068\u306a\u308b\u3002\n",
                "* \u6642\u9593\u8ef8\u306b\u305d\u3063\u3066\u72ec\u7acb\u3057\u305f\u5206\u5e03\u304b\u3089\u6a19\u672c\u3092\u62bd\u51fa\u3059\u308b\u305f\u3081\uff0c\u8aa4\u5dee\u9805\u306b\u81ea\u5df1\u76f8\u95a2\u306f\u306a\u3044\u3002"
            ]
        },
        {
            "cell_type": "markdown",
            "metadata": {
                "hidden": true
            },
            "source": [
                "---\n",
                "**\u30d1\u30cd\u30eb\u30fb\u30c7\u30fc\u30bf**\u306b\u306f\u4ee5\u4e0b\u306e\u7279\u5fb4\u304c\u3042\u308b\u3002\n",
                "* \u521d\u671f\u6642\u70b9\u3067\u7121\u4f5c\u70ba\u306b\u89b3\u5bdf\u5358\u4f4d\uff08\u4f8b\u3048\u3070\uff0c\u6d88\u8cbb\u8005\u3084\u4f01\u696d\uff09\u3092\u62bd\u51fa\u3057\uff0c\u540c\u3058\u89b3\u6e2c\u5358\u4f4d\u3092\u6642\u9593\u8ef8\u306b\u6cbf\u3063\u3066\u89b3\u6e2c\u3057\u3066\u96c6\u3081\u305f\u30c7\u30fc\u30bf\u3067\u3042\u308b\u3002\n",
                "* \u89b3\u6e2c\u5358\u4f4d\u304c\u540c\u3058\u3067\u3042\u308b\u3053\u3068\u304c\u72ec\u7acb\u306b\u5206\u5e03\u3057\u305f\u30d7\u30fc\u30ea\u30f3\u30b0\u30fb\u30c7\u30fc\u30bf\u3068\u306e\u9055\u3044\u3067\u3042\u308b\u3002\n",
                "\n",
                "\n",
                "\uff1c\u30d1\u30cd\u30eb\u30fb\u30c7\u30fc\u30bf\u3092\u4f7f\u3046\u610f\u7fa9\uff1e\n",
                "\n",
                "\u4f8b\u3068\u3057\u3066\uff0c\u5404\u90fd\u9053\u5e9c\u770c\u3067\u884c\u308f\u308c\u305f\u516c\u5171\u652f\u51fa\u304c\u770c\u5185\u306e\u96c7\u7528\u306b\u4e0e\u3048\u308b\u5f71\u97ff\u3092\u63a8\u5b9a\u3057\u305f\u3044\u3068\u3057\u3088\u3046\u3002\n",
                "* \u89b3\u5bdf\u5358\u4f4d\uff1a47\u90fd\u9053\u5e9c\u770c $i=1,2,...,47$\n",
                "* \u6642\u7cfb\u5217\u7bc4\u56f2\uff1a2000~2020\u5e74 $t=2000,2001,...,2020$\n",
                "* \u5909\u6570\uff1a\u770c\u5185\u306e\u96c7\u7528\uff08$L$\uff09\uff0c\u516c\u5171\u652f\u51fa\uff08$G$\uff09\uff0c$x$\u306f\u300c\u305d\u306e\u4ed6\u306e\u5909\u6570\u300d\n",
                "\n",
                "47\u90fd\u9053\u5e9c\u770c\u3068\u6642\u9593\u306e\uff12\u6b21\u5143\u30c7\u30fc\u30bf\u3068\u306a\u3063\u3066\u3044\u308b\u305f\u3081\uff0c\u6b21\u306e\u63a8\u5b9a\u65b9\u6cd5\u304c\u8003\u3048\u3089\u308c\u308b\u3002\n",
                "* \u5e74\u5225\u306b\u6a2a\u65ad\u9762\u30c7\u30fc\u30bf\u3068\u3057\u3066\u30af\u30ed\u30b9\u30fb\u30bb\u30af\u30b7\u30e7\u30f3\u5206\u6790\u884c\u3046\u3002\n",
                "\n",
                "    $$y_i = \\beta_{0} + \\beta_{1} G_i + \\beta_{2}x_i + u_i$$\n",
                "\n",
                "    \u3057\u304b\u3057\uff0c\u305d\u308c\u305e\u308c\u306e\u63a8\u5b9a\u306f20\u5e74\u9593\u306e\u9593\u306b\u8d77\u3053\u308b\u8981\u56e0\u306e\u5909\u5316\u306e\u52b9\u679c\u3092\u7121\u8996\u3059\u308b\u3053\u3068\u306b\u306a\u308a\uff0c\u516c\u7684\u652f\u51fa\u306e\u52d5\u7684\u306a\u5074\u9762\u3092\u6349\u3048\u3066\u3044\u306a\u3044\u3002\n",
                "* 47\u90fd\u9053\u5e9c\u770c\u5225\u306b\u6642\u7cfb\u5217\u306e\u63a8\u5b9a\u3092\u884c\u3046\u3002\n",
                "\n",
                "    $$y_t = \\beta_{0} + \\beta_{1} G_t + \\beta_{2}x_t+ u_t$$\n",
                "\n",
                "    \u3057\u304b\u3057\uff0c\u305d\u308c\u305e\u308c\u306e\u63a8\u5b9a\u306f\u540c\u3058\u65e5\u672c\u306e\u5730\u57df\u3067\u3042\u308a\u306a\u304c\u3089\u4ed6\u306e\u90fd\u9053\u5e9c\u770c\u306e\u5f71\u97ff\u3092\u7121\u8996\u3059\u308b\u3053\u3068\u306b\u306a\u308b\u3002\n",
                "\n",
                "\u3053\u306e\u3088\u3046\u306b2\u6b21\u5143\u306e\u30c7\u30fc\u30bf\u306e1\u3064\u306e\u8ef8\u306b\u6cbf\u3063\u305f\u30c7\u30fc\u30bf\u3060\u3051\u3092\u4f7f\u3046\u3068\u4f55\u3089\u304b\u306e\u5f71\u97ff\u3092\u7121\u8996\u3059\u308b\u3053\u3068\u306b\u306a\u308a\u3046\u308b\u3002\u63db\u8a00\u3059\u308b\u3068\uff0c\u30d1\u30cd\u30eb\u30fb\u30c7\u30fc\u30bf\u3092\u4f7f\u3044\u7570\u306a\u308b\u89b3\u5bdf\u5358\u4f4d\u306e\u52d5\u7684\u306a\u30c7\u30fc\u30bf\u304b\u3089\u5f97\u308b\u60c5\u5831\u3092\u6709\u52b9\u306b\u4f7f\u3046\u3053\u3068\u306b\u3088\u308a\uff0c\u3088\u308a\u6b63\u78ba\u306a\u63a8\u5b9a\u91cf\u3084\u691c\u5b9a\u7d71\u8a08\u91cf\u3092\u5f97\u308b\u3053\u3068\u304c\u3067\u304d\u308b\u3053\u3068\u306b\u306a\u308b\u3002"
            ]
        },
        {
            "cell_type": "markdown",
            "metadata": {
                "heading_collapsed": true
            },
            "source": [
                "## \u72ec\u7acb\u306b\u5206\u5e03\u3057\u305f\u30d7\u30fc\u30ea\u30f3\u30b0\u30fb\u30c7\u30fc\u30bf"
            ]
        },
        {
            "cell_type": "markdown",
            "metadata": {
                "hidden": true
            },
            "source": [
                "\u3053\u306e\u30bf\u30a4\u30d7\u306e\u30c7\u30fc\u30bf\u6271\u3046\u4e0a\u3067\u6ce8\u610f\u3059\u308b\u70b9\uff1a\n",
                "* \u6642\u7cfb\u5217\u306e\u5909\u6570\u304c\u3042\u308b\u306b\u3082\u95a2\u308f\u3089\u305a\uff0c\u88ab\u8aac\u660e\u5909\u6570\u3068\u5c11\u306a\u304f\u3068\u3082\u4e00\u90e8\u306e\u8aac\u660e\u5909\u6570\u3068\u306f\u6642\u9593\u4e0d\u5909\u306e\u95a2\u4fc2\u306b\u3042\u308b\u3068\u6697\u306b\u4eee\u5b9a\u3059\u308b\u3053\u3068\u306b\u306a\u308b\u3002\n",
                "* \u6642\u7cfb\u5217\u306e\u8981\u7d20\u304c\u3042\u308b\u305f\u3081\uff0c\u5909\u6570\u306f\u5fc5\u305a\u3057\u3082\u540c\u4e00\u5206\u5e03\u304b\u3089\u62bd\u51fa\u3055\u308b\u8a33\u3067\u306f\u306a\u3044\u3002\u4f8b\u3048\u3070\uff0c\u591a\u304f\u306e\u7d4c\u6e08\u3067\u8cc3\u91d1\u3068\u6559\u80b2\u6c34\u6e96\u306e\u5206\u5e03\u306f\u5909\u5316\u3057\u3066\u3044\u308b\u3068\u8003\u3048\u308b\u65b9\u304c\u59a5\u5f53\u3067\u3042\u308b\u3002\u3053\u306e\u554f\u984c\u306b\u5bfe\u51e6\u3059\u308b\u305f\u3081\u306b\u6642\u9593\u30c0\u30df\u30fc\u3092\u4f7f\u3046\u3053\u3068\u306b\u306a\u308b\u3002"
            ]
        },
        {
            "cell_type": "markdown",
            "metadata": {
                "hidden": true
            },
            "source": [
                "`CPS78_85`\u306e\u30c7\u30fc\u30bf\u3092\u4f7f\u3044\u63a8\u5b9a\u65b9\u6cd5\u3092\u8aac\u660e\u3059\u308b\u3002"
            ]
        },
        {
            "cell_type": "code",
            "execution_count": null,
            "metadata": {},
            "outputs": [],
            "source": [
                "# \u30c7\u30fc\u30bf\u306e\u8aad\u307f\u8fbc\u307f\n"
            ]
        },
        {
            "cell_type": "code",
            "execution_count": null,
            "metadata": {},
            "outputs": [],
            "source": [
                "# \u30c7\u30fc\u30bf\u306e\u5185\u5bb9\u306e\u78ba\u8a8d\n"
            ]
        },
        {
            "cell_type": "markdown",
            "metadata": {
                "hidden": true
            },
            "source": [
                "\u3053\u306e\u30c7\u30fc\u30bf\u30bb\u30c3\u30c8\u306b\u306f1978\u5e74\u30681985\u5e74\u306e\u5909\u6570\u304c\u3042\u308a\uff0c\u30c0\u30df\u30fc\u5909\u6570\u306b\u6b21\u306e\u3082\u306e\u304c\u542b\u307e\u308c\u3066\u3044\u308b\u3002\n",
                "* `y85`\uff1a1985\u5e74\u306e\u6642\u9593\u30c0\u30df\u30fc\u5909\u6570\n",
                "* `female`\uff1a\u7537\u5973\u306e\u30c0\u30df\u30fc\u5909\u6570\n",
                "* `union`\uff1a\u52b4\u50cd\u7d44\u5408\u54e1\u304b\u3069\u3046\u304b\u306e\u30c0\u30df\u30fc\u5909\u6570\n",
                "\n",
                "\u3053\u308c\u3092\u4f7f\u3044\uff0c\u8cc3\u91d1\u3068\u6559\u80b2\u306e\u95a2\u4fc2\u3092\u691c\u8a3c\u3059\u308b\u3002"
            ]
        },
        {
            "cell_type": "code",
            "execution_count": null,
            "metadata": {},
            "outputs": [],
            "source": [
                "# \u56de\u5e30\u5206\u6790\n",
                "\n",
                "\n",
                "",
                "",
                "",
                ""
            ]
        },
        {
            "cell_type": "markdown",
            "metadata": {
                "hidden": true
            },
            "source": [
                "\uff08\u30b3\u30e1\u30f3\u30c8\uff09\n",
                "* `y85 + educ + female + y85:educ + y85:female`\u306e\u90e8\u5206\u306f\u9577\u3044\u306e\u3067`y85*(educ+female)`\u3068\u7701\u7565\u3057\u3066\u8a18\u8ff0\u3057\u3066\u3082\u7d50\u679c\u306f\u540c\u3058\u3002\n",
                "* `lwage`\u306f\u540d\u76ee\u8cc3\u91d1\u306e\u5bfe\u6570\u306e\u5024\u3067\u3042\u308b\u3002\u3053\u306e\u5834\u5408\uff0c\u5b9f\u8cea\u8cc3\u91d1\u3092\u8003\u3048\u308b\u65b9\u304c\u81ea\u7136\u306a\u305f\u3081\uff0c\u30a4\u30f3\u30d5\u30ec\u306e\u5f71\u97ff\u3092\u53d6\u308a\u9664\u304f\u5fc5\u8981\u304c\u3042\u308b\u30021978\u5e74\u30681985\u5e74\u306e\u6d88\u8cbb\u8005\u7269\u4fa1\u6307\u6570\u3092\u305d\u308c\u305e\u308c$p_{78}$\u3068$p_{85}$\u3068\u3059\u308b\u3068\uff0c\u305d\u306e\u6bd4\u7387$P\\equiv p_{85}/p_{78}$\u304c\u305d\u306e\u9593\u306e\u30a4\u30f3\u30d5\u30ec\u306e\u5f71\u97ff\u3092\u6349\u3048\u308b\u5909\u6570\u3068\u8003\u3048\u308b\u3002$P$\u3092\u4f7f\u30441985\u5e74\u306e\u8cc3\u91d1\u3092\u6b21\u5f0f\u306b\u5f93\u3063\u3066\u5b9f\u8cea\u5316\u3067\u304d\u308b\u3002 \n",
                "\n",
                "    $$\n",
                "    \\ln\\left(\\text{\u5b9f\u8cea\u8cc3\u91d1}_{85}\\right) = \\ln\\left(\\frac{\\text{\u540d\u76ee\u8cc3\u91d1}_{85}}{P}\\right) = \\ln\\left(\\text{\u540d\u76ee\u8cc3\u91d1}_{85}\\right)-\\ln(P) = \\text{85\u5e74\u306elwage}- \\ln(P)\n",
                "    $$\n",
                "\n",
                "    \u3053\u306e\u5f0f\u304b\u3089$\\ln(P)$\u306f\u56de\u5e30\u5f0f\u306e\u53f3\u8fba\u306e\u5b9a\u6570\u9805\u306b\u542b\u307e\u308c\u308b\u3053\u3068\u304c\u308f\u304b\u308b\u3002\u5373\u3061\uff0c\u4e0a\u306e\u5f0f\u3092\u5909\u3048\u308b\u3053\u3068\u306a\u304f`educ`\u306e\u4fc2\u6570\u306f\u5b9f\u8cea\u8cc3\u91d1\u3067\u6e2c\u3063\u305f\u6559\u80b2\u306e\u53ce\u76ca\u7387\uff0c`female`\u306f\u5b9f\u8cea\u8cc3\u91d1\u3067\u306e\u7537\u5973\u8cc3\u91d1\u683c\u5dee\u3068\u89e3\u91c8\u3067\u304d\u308b\u3002"
            ]
        },
        {
            "cell_type": "code",
            "execution_count": null,
            "metadata": {},
            "outputs": [],
            "source": []
        },
        {
            "cell_type": "markdown",
            "metadata": {
                "hidden": true
            },
            "source": [
                "\u6559\u80b2\u306e\u53ce\u76ca\u7387\n",
                "* `educ`\u306e\u4fc2\u65700.0747\u304c1978\u5e74\u306b\u304a\u3051\u308b\u6559\u80b21\u5e74\u306e\u53ce\u76ca\u7387\uff08\u7d047.5%\uff09\u3002\u7d71\u8a08\u7684\u6709\u610f\u6027\u306f\u975e\u5e38\u306b\u9ad8\u3044\uff08p-value=0)\n",
                "* `y85:educ`\u306e\u4fc2\u65700.0185\u306f1978\u5e74\u30681985\u5e74\u306e\u5024\u306e\u5dee\u3092\u8868\u3057\u3066\u3044\u308b\u30021985\u5e74\u306e\u53ce\u76ca\u7387\u306f1.85%\u9ad8\u304f\uff0c5\uff05\u6c34\u6e96\u3067\u5e30\u7121\u4eee\u8aac\uff081978\u5e74\u30681985\u5e74\u306e\u53ce\u76ca\u7387\u306f\u540c\u3058\uff09\u3092\u68c4\u5374\u3067\u304d\u308b\u30021985\u5e74\u306e1\u5e74\u9593\u306e\u53ce\u76ca\u7387\u306f0.0747+0.0185=0.0932\u3067\u3042\u308b\uff08\u7d049.3%\uff09\u3002"
            ]
        },
        {
            "cell_type": "markdown",
            "metadata": {
                "hidden": true
            },
            "source": [
                "\u7537\u5973\u9593\u306e\u8cc3\u91d1\u683c\u5dee\n",
                "* `female`\u306e\u4fc2\u6570`-0.3167`\u306f1978\u5e74\u306b\u304a\u3051\u308b\u5024\u3002\u5373\u3061\uff0c\u5973\u6027\u306e\u8cc3\u91d1\u306f\u7537\u6027\u3088\u308a\u7d0432%\u4f4e\u304f\uff0c\u7d71\u8a08\u7684\u6709\u610f\u6027\u306f\u975e\u5e38\u306b\u9ad8\u3044\uff08p\u5024=0\uff09\u3002\n",
                "* `y85:female`\u306e\u4fc2\u65700.0851\u306f1978\u5e74\u30681985\u5e74\u306e\u5024\u306e\u5dee\u3092\u8868\u3057\u3066\u304a\u308a\uff0c1985\u5e74\u306e\u8cc3\u91d1\u683c\u5dee\u306f\u7d048.5%\u6539\u5584\u3057\u305f\u3053\u3068\u3092\u610f\u5473\u3059\u308b\u3002\n",
                "* `y85:female`\u306ep\u50240.098\u306f\u4e21\u5074\u691c\u5b9a\u3067\u3042\u308a\uff0c10\uff05\u6c34\u6e96\u3067\u5e30\u7121\u4eee\u8aac\uff08\u8cc3\u91d1\u683c\u5dee\u306f\u5909\u5316\u3057\u3066\u3044\u306a\u3044\uff09\u3092\u68c4\u5374\u3067\u304d\u308b\u304c\uff0c5%\u6c34\u6e96\u3067\u306f\u68c4\u5374\u3067\u304d\u306a\u3044\u3002\n",
                "* \u4e00\u65b9\uff0c`y85:female`\u306f\u6b63\u306e\u5024\u3067\u3042\u308a\uff0c\u5973\u6027\u306e\u8cc3\u91d1\u306e\u6539\u5584\u304c\u7d71\u8a08\u7684\u6709\u610f\u304b\u3069\u3046\u304b\u304c\u554f\u984c\u306b\u306a\u308b\u3002\u3053\u306e\u70b9\u3092\u8003\u616e\u3057\u7247\u5074\u691c\u5b9a\u3092\u304a\u3053\u306a\u3046\u3002\n",
                "    * $H_0$: `y85:female`\u306e\u4fc2\u6570 $\uff1d0$\n",
                "    * $H_a$: `y85:female`\u306e\u4fc2\u6570 $>0$"
            ]
        },
        {
            "cell_type": "code",
            "execution_count": null,
            "metadata": {},
            "outputs": [],
            "source": [
                "\n",
                "\n",
                ""
            ]
        },
        {
            "cell_type": "markdown",
            "metadata": {
                "hidden": true
            },
            "source": [
                "`scipy.stats`\u3092\u4f7f\u3044\u8a08\u7b97\u3059\u308b\u3002"
            ]
        },
        {
            "cell_type": "code",
            "execution_count": null,
            "metadata": {},
            "outputs": [],
            "source": []
        },
        {
            "cell_type": "markdown",
            "metadata": {
                "hidden": true
            },
            "source": [
                "\u7247\u5074\u691c\u5b9a\u3067\u306f\uff0c5%\u6c34\u6e96\u3067\u5e30\u7121\u4eee\u8aac\u3092\u68c4\u5374\u3067\u304d\u308b\u3002"
            ]
        },
        {
            "cell_type": "markdown",
            "metadata": {
                "heading_collapsed": true
            },
            "source": [
                "## \u30d7\u30fc\u30ea\u30f3\u30b0\u30fb\u30c7\u30fc\u30bf\u306e\u5fdc\u7528\uff1a\u5dee\u5206\u306e\u5dee\u5206\u6790"
            ]
        },
        {
            "cell_type": "markdown",
            "metadata": {
                "heading_collapsed": true,
                "hidden": true
            },
            "source": [
                "### \u8aac\u660e"
            ]
        },
        {
            "cell_type": "markdown",
            "metadata": {
                "hidden": true
            },
            "source": [
                "\u5dee\u5206\u306e\u5dee\u5206\u6790\uff08Difference-in-Differences; DiD\uff09\u3092\u4f7f\u3046\u3068\u30d7\u30fc\u30ea\u30f3\u30b0\u30fb\u30c7\u30fc\u30bf\u3092\u4f7f\u3044\u653f\u7b56\u306e\u52b9\u679c\u3092\u691c\u8a3c\u3067\u304d\u308b\u3002"
            ]
        },
        {
            "cell_type": "markdown",
            "metadata": {
                "hidden": true
            },
            "source": [
                "\uff1c\u57fa\u672c\u7684\u306a\u8003\u3048\uff1e\n",
                "* \u4f8b\u3068\u3057\u3066\uff0c\u30b4\u30df\u713c\u5374\u5834\u306e\u5efa\u7bc9\u304c\u8fd1\u96a3\u4f4f\u5b85\u4fa1\u683c\u306b\u4e0e\u3048\u308b\u5f71\u97ff\u3092\u8003\u3048\u308b\u3002\n",
                "* `t`=0\uff1a\u653f\u7b56\u5b9f\u65bd\u524d\u306e\u5e74\n",
                "* `t`=1\uff1a\u653f\u7b56\u5b9f\u65bd\u5f8c\u306e\u5e74\n",
                "* `D`\uff1a\u4f4f\u5b85\u304c\u30b4\u30df\u713c\u5374\u5834\u306e\u8fd1\u304f\u3067\u3042\u308c\u3070\uff11\uff0c\u305d\u3046\u3067\u306a\u3051\u308c\u3070\uff10\uff08\u8ddd\u96e2\u306e\u30c0\u30df\u30fc\u5909\u6570\uff09\n",
                "* `y`\uff1a\u4f4f\u5b85\u4fa1\u683c\n",
                "* \u6b21\u5f0f\u3092\u4f7f\u3063\u3066\u653f\u7b56\u5b9f\u65bd\u524d\u3068\u5f8c\u305d\u308c\u305e\u308c\u3067\u63a8\u5b9a\n",
                "\n",
                "    $$y_t = \\alpha_t + \\gamma_t D + u\\qquad t=0,1$$\n",
                "    \n",
                "    * $\\hat{y}_0^{\\text{\u9060}}=\\hat{\\alpha}_0$\uff1a\u653f\u7b56\u5b9f\u65bd\u524d\u306e\u9060\u304f\u306b\u7acb\u5730\u3059\u308b\u4f4f\u5b85\u4fa1\u683c\u306e\u5e73\u5747\n",
                "    * $\\hat{y}_0^{\\text{\u8fd1}}=\\hat{\\alpha}_0+\\hat{\\gamma}_0$\uff1a\u653f\u7b56\u5b9f\u65bd\u524d\u306e\u8fd1\u304f\u306b\u7acb\u5730\u3059\u308b\u4f4f\u5b85\u4fa1\u683c\u306e\u5e73\u5747\n",
                "        * $\\hat{\\gamma}_0$\uff1a\u653f\u7b56\u5b9f\u65bd\u524d\u306e\u9060\u304f\u3068\u8fd1\u304f\u306b\u7acb\u5730\u3059\u308b\u4f4f\u5b85\u4fa1\u683c\u306e**\u5dee**\n",
                "    * $\\hat{y}_1^{\\text{\u9060}}=\\hat{\\alpha}_1$\uff1a\u653f\u7b56\u5b9f\u65bd\u5f8c\u306e\u9060\u304f\u306b\u7acb\u5730\u3059\u308b\u4f4f\u5b85\u4fa1\u683c\u306e\u5e73\u5747\n",
                "    * $\\hat{y}_1^{\\text{\u8fd1}}=\\hat{\\alpha}_1+\\hat{\\gamma}_1$\uff1a\u653f\u7b56\u5b9f\u65bd\u5f8c\u306e\u8fd1\u304f\u306b\u7acb\u5730\u3059\u308b\u4f4f\u5b85\u4fa1\u683c\u306e\u5e73\u5747\n",
                "        * $\\hat{\\gamma}_1$\uff1a\u653f\u7b56\u5b9f\u65bd\u5f8c\u306e\u9060\u304f\u3068\u8fd1\u304f\u306b\u7acb\u5730\u3059\u308b\u4f4f\u5b85\u4fa1\u683c\u306e**\u5dee**\n",
                "* \u4f4f\u5b85\u4fa1\u683c\u306e\u5909\u5316\u306e\u9593\u9055\u3063\u305f\u8a08\u7b97\uff1a\n",
                "    * $\\hat{y}_1^{\\text{\u8fd1}}-\\hat{y}_0^{\\text{\u8fd1}}=\\left(\\hat{\\alpha}_1-\\hat{\\alpha}_0\\right)+\\left(\\hat{\\gamma}_1-\\hat{\\gamma}_0\\right)$\n",
                "    * $\\left(\\hat{\\alpha}_1-\\hat{\\alpha}_0\\right)$\u306f\uff0c\u30b4\u30df\u713c\u5374\u5834\u5efa\u8a2d\u304b\u3089\u5f71\u97ff\u3092\u300c\u53d7\u3051\u306a\u3044\uff08\u4eee\u5b9a\uff09\u300d\u9060\n",
                "    \u3044\u5834\u6240\u306b\u7acb\u5730\u3059\u308b\u4f4f\u5b85\u4fa1\u683c\u304c\u6642\u9593\u3068\u5171\u306b\u5909\u5316\u3059\u308b\u90e8\u5206\u3092\u6349\u3048\u3066\u304a\u308a\uff0c\u30b4\u30df\u713c\u5374\u5834\u5efa\u8a2d\u3068\u95a2\u4fc2\u306a\u304f\u767a\u751f\u3059\u308b\u4fa1\u683c\u5909\u5316\u3067\u3042\u308b\u3002\u3053\u306e\u90e8\u5206\u3092\u53d6\u308a\u9664\u304b\u306a\u3051\u308c\u3070\uff0c\u30b4\u30df\u713c\u5374\u5834\u5efa\u8a2d\u306e\u52b9\u679c\u306e\u63a8\u5b9a\u91cf\u306b\u30d0\u30a4\u30a2\u30b9\u304c\u767a\u751f\u3059\u308b\u3002\n",
                "* \u4f4f\u5b85\u4fa1\u683c\u306e\u5909\u5316\u306e\u6b63\u3057\u3044\u8a08\u7b97\uff08\u4e0a\u306e\u5f0f\u304b\u3089\uff09\uff1a\n",
                "\n",
                "    $$\n",
                "    \\begin{align*}\n",
                "    \\hat{\\gamma}_1^{\\text{}}-\\hat{\\gamma}_0&=\\hat{y}_1^{\\text{\u8fd1}}-\\hat{y}_0^{\\text{\u8fd1}}-\\left(\\hat{\\alpha}_1-\\hat{\\alpha}_0\\right) \\\\\n",
                "    &=\\left(\\hat{y}_1^{\\text{\u8fd1}}-\\hat{y}_0^{\\text{\u8fd1}}\\right)-\\left(\\hat{y}_1^{\\text{\u9060}}-\\hat{y}_0^{\\text{\u9060}}\\right) \\\\ \n",
                "    &=\\left(\\hat{y}_1^{\\text{\u8fd1}}-\\hat{y}_1^{\\text{\u9060}}\\right)-\\left(\\hat{y}_0^{\\text{\u8fd1}}-\\hat{y}_0^{\\text{\u9060}}\\right)\n",
                "    \\end{align*}\n",
                "    $$\n",
                "    \n",
                "    * \u300c\u5dee\u5206\u306e\u5dee\u300d\u3068\u306a\u3063\u3066\u3044\u308b\u3002"
            ]
        },
        {
            "cell_type": "markdown",
            "metadata": {
                "hidden": true
            },
            "source": [
                "---\n",
                "\uff1c`DiD`\u63a8\u5b9a\u65b9\u6cd5\uff1e\n",
                "* \u901a\u5e38\u306e`OLS`\u3092\u4f7f\u3046\u304c\uff0c\u6642\u9593\u30c0\u30df\u30fc\u5909\u6570\u3092\u5c0e\u5165\u3059\u308b\u3002\n",
                "    * `T`\uff1a`t`=0\u306e\u5834\u5408\u306f\uff10\uff0c`t`=1\u306e\u5834\u5408\u306f\uff11\n",
                "* \u63a8\u5b9a\u5f0f\uff1a\n",
                "\n",
                "    $$\n",
                "    y=\\beta_0+\\delta_0T + \\beta_1D + \\delta_1TD + u\n",
                "    $$\n",
                "    "
            ]
        },
        {
            "cell_type": "markdown",
            "metadata": {
                "hidden": true
            },
            "source": [
                "\uff1c\u30c0\u30df\u30fc\u5909\u6570\u306e\u5024\u306b\u3088\u308a4\u3064\u306e\u30b1\u30fc\u30b9\u304c\u3042\u308b\uff1e\n",
                "1. `T`=`D`=0\u306e\u5834\u5408\n",
                "\n",
                "    $$\n",
                "    y=\\beta_0 + u\n",
                "    $$\n",
                "\n",
                "    $\\hat{y}_{0}^{\\text{\u9060}}\\equiv\\hat{\\beta}_0$\uff1a\u653f\u7b56\u5b9f\u65bd\u524d\u306e\u9060\u304f\u306b\u7acb\u5730\u3059\u308b\u4f4f\u5b85\u306e\u5e73\u5747\u4fa1\u683c\n",
                "    <br>\n",
                "\n",
                "1. `T`=0 \u3068 `D`=1\u306e\u5834\u5408\n",
                "\n",
                "    $$\n",
                "    y=\\beta_0 + \\beta_1D + u\n",
                "    $$\n",
                "\n",
                "    $\\hat{y}_{0}^{\\text{\u8fd1}}\\equiv\\hat{\\beta}_0+\\hat{\\beta}_1$\uff1a\u653f\u7b56\u5b9f\u65bd\u524d\u306e\u8fd1\u304f\u306b\u7acb\u5730\u3059\u308b\u4f4f\u5b85\u306e\u5e73\u5747\u4fa1\u683c\n",
                "    <br>\n",
                "    \n",
                "1. `T`=1 \u3068 `D`=0\u306e\u5834\u5408\n",
                "\n",
                "    $$\n",
                "    y=\\beta_0 + \\delta_0T + u\n",
                "    $$\n",
                "\n",
                "    $\\hat{y}_{1}^{\\text{\u9060}}\\equiv\\hat{\\beta}_0+\\hat{\\delta}_0$\uff1a\u653f\u7b56\u5b9f\u65bd\u5f8c\u306e\u9060\u304f\u306b\u7acb\u5730\u3059\u308b\u4f4f\u5b85\u306e\u5e73\u5747\u4fa1\u683c\n",
                "    <br>\n",
                "    \n",
                "1. `T`=`D`=1\u306e\u5834\u5408\n",
                "\n",
                "    $$\n",
                "    y=\\beta_0 + \\delta_0T + \\beta_1D + \\delta_1TD + u\n",
                "    $$\n",
                "\n",
                "   $\\hat{y}_{1}^{\\text{\u8fd1}}\\equiv\\hat{\\beta}_0+\\hat{\\delta}_0+\\hat{\\beta}_1+\\hat{\\delta}_1$\uff1a\u653f\u7b56\u5b9f\u65bd\u5f8c\u306e\u8fd1\u304f\u306b\u7acb\u5730\u3059\u308b\u4f4f\u5b85\u306e\u5e73\u5747\u4fa1\u683c"
            ]
        },
        {
            "cell_type": "markdown",
            "metadata": {
                "hidden": true
            },
            "source": [
                "\u3053\u3053\u3067\u306e\u95a2\u5fc3\u4e8b\u306f$\\hat{\\delta}_1$\u306e\u63a8\u5b9a\u5024\uff08\u8ca0\u304b\u3069\u3046\u304b\uff09\u3067\u3042\u308a\uff0c\u305d\u306e\u7d71\u8a08\u7684\u512a\u4f4d\u6027\u3067\u3042\u308b\u3002\u3053\u306e\u5b9a\u7fa9\u3092\u4f7f\u3046\u3068\u6b21\u5f0f\u304c\u6210\u7acb\u3059\u308b\u3053\u3068\u304c\u78ba\u8a8d\u3067\u304d\u308b\u3002\n",
                "\n",
                "$$\\hat{\\delta}_1=\\left(\\hat{y}_1^{\\text{\u8fd1}}-\\hat{y}_1^{\\text{\u9060}}\\right)-\\left(\\hat{y}_0^{\\text{\u8fd1}}-\\hat{y}_0^{\\text{\u9060}}\\right)$$\n",
                "\n",
                "\u3053\u308c\u306f\u4e0a\u3067\u5c0e\u51fa\u3057\u305f\u5f0f\u306b\u3042\u308b$\\hat{\\gamma}_1^{\\text{}}-\\hat{\\gamma}_0$\u3068\u540c\u3058\u3067\u3042\u308b\u3002"
            ]
        },
        {
            "cell_type": "markdown",
            "metadata": {
                "heading_collapsed": true,
                "hidden": true
            },
            "source": [
                "### `DiD`\u63a8\u5b9a\n",
                "\n",
                "`keilmc`\u306e\u30c7\u30fc\u30bf\u3092\u4f7f\u3044\u30b4\u30df\u713c\u5374\u5834\u5efa\u8a2d\u306e\u8fd1\u96a3\u4f4f\u5b85\u4fa1\u683c\u306b\u5bfe\u3059\u308b\u52b9\u679c\u3092\u5b9f\u969b\u306b\u63a8\u8a08\u3059\u308b\u3002"
            ]
        },
        {
            "cell_type": "code",
            "execution_count": null,
            "metadata": {},
            "outputs": [],
            "source": [
                "\n",
                "\n",
                ""
            ]
        },
        {
            "cell_type": "code",
            "execution_count": null,
            "metadata": {},
            "outputs": [],
            "source": [
                "\n",
                "\n",
                ""
            ]
        },
        {
            "cell_type": "markdown",
            "metadata": {
                "hidden": true
            },
            "source": [
                "\uff08\u30b3\u30e1\u30f3\u30c8\uff09\n",
                "* \u53f3\u8fba\u3092`nearinc * y81`\u3068\u7701\u7565\u53ef\u80fd\u3002"
            ]
        },
        {
            "cell_type": "code",
            "execution_count": null,
            "metadata": {},
            "outputs": [],
            "source": []
        },
        {
            "cell_type": "markdown",
            "metadata": {
                "hidden": true
            },
            "source": [
                "* `nearinc:y81`\u306e\u4fc2\u6570\u306f\u7d04-11860\u3067\u3042\u308a\uff0c10%\u6c34\u6e96\u306e\u4e21\u5074\u691c\u5b9a\u3067\u3082\u5e30\u7121\u4eee\u8aac\uff08\u4fc2\u6570\u306f0\uff09\u3092\u68c4\u5374\u3067\u304d\u306a\u3044\u3002\n",
                "* `nearinc:y81`\u306f\u8ca0\u306e\u5024\u3067\u3042\u308a\u4f4f\u5b85\u4fa1\u683c\u304c\u6e1b\u5c11\u3057\u305f\u304b\u3092\u691c\u8a3c\u3057\u305f\u3044\u3002\u5f93\u3063\u3066\uff0c\u6b21\u306e\u7247\u5074\u691c\u5b9a\u3092\u884c\u3046\u3002\n",
                "    * $H_0$: `nearinc:y81`\u306e\u4fc2\u6570 $\uff1d0$\n",
                "    * $H_a$: `nearinc:y81`\u306e\u4fc2\u6570 $<0$"
            ]
        },
        {
            "cell_type": "code",
            "execution_count": null,
            "metadata": {},
            "outputs": [],
            "source": [
                "\n",
                "\n",
                "",
                "",
                ""
            ]
        },
        {
            "cell_type": "markdown",
            "metadata": {
                "hidden": true
            },
            "source": [
                "\u7247\u5074\u691c\u5b9a\u3067\u306f\uff0c10%\u6c34\u6e96\u3067\u5e30\u7121\u4eee\u8aac\u306f\u68c4\u5374\u3067\u304d\u308b\u304c\uff0c5%\u6c34\u6e96\u3067\u306f\u68c4\u5374\u3067\u304d\u306a\u3044\u3002\u8ca0\u306e\u52b9\u679c\u306e\u3042\u308b\u7a0b\u5ea6\u306e\u7d71\u8a08\u7684\u6709\u610f\u6027\u306f\u3042\u308b\u3088\u3046\u3067\u3042\u308b\u3002\u4e00\u65b9\uff0c\u4e0a\u306e\u56de\u5e30\u5206\u6790\u306b\u306f\u6b21\u306e\u3053\u3068\u304c\u8a00\u3048\u308b\u3002\n",
                "* \u5de6\u8fba\u306b\u306f\u4f4f\u5b85\u4fa1\u683c\u306e\u5bfe\u6570\u3092\u7f6e\u304f\u65b9\u304c\u59a5\u5f53\u3067\u306f\u306a\u3044\u304b\u3002\u305d\u308c\u306b\u3088\u308a\uff0c\u4fa1\u683c\u5909\u5316\u3092\u30d1\u30fc\u30bb\u30f3\u30c6\u30fc\u30b8\u63a8\u8a08\u3067\u304d\u308b\u3068\u540c\u6642\u306b\uff0c\u5b9f\u8cea\u4fa1\u683c\u3068\u3044\u3046\u89e3\u91c8\u3082\u6210\u7acb\u3059\u308b\u3002\n",
                "* \u4f4f\u5b85\u4fa1\u683c\u306b\u4e0e\u3048\u308b\u4ed6\u306e\u5909\u6570\u304c\u6b20\u843d\u3057\u3066\u3044\u308b\u53ef\u80fd\u6027\u304c\u3042\u308b\u3002\n",
                "\n",
                "---\n",
                "\u3053\u306e2\u70b9\u3092\u8e0f\u307e\u3048\u3066\uff0c\u518d\u5ea6\u63a8\u5b9a\u3092\u304a\u3053\u306a\u3046\u3002\n",
                "\n",
                "\u307e\u305a\uff0c`NumPy`\u3092\u4f7f\u3044\u4f4f\u5b85\u4fa1\u683c\u306b\u5bfe\u6570\u3092\u3068\u308a\u63a8\u8a08\u3059\u308b\u3002"
            ]
        },
        {
            "cell_type": "code",
            "execution_count": null,
            "metadata": {},
            "outputs": [],
            "source": [
                "\n",
                "\n",
                "",
                "",
                ""
            ]
        },
        {
            "cell_type": "markdown",
            "metadata": {
                "hidden": true
            },
            "source": [
                "\uff08\u7d50\u679c\uff09\n",
                "* \u7279\u306b`nearinc:y81`\u306e\u4fc2\u6570\u306e\u7d71\u8a08\u7684\u6709\u610f\u6027\u304c\u4e0a\u6607\u3057\u305f\u308f\u3051\u3067\u306f\u306a\u3044\u3002\n",
                "\n",
                "\u6b21\u306b\uff0c\u4f4f\u5b85\u4fa1\u683c\u306b\u5f71\u97ff\u3092\u53ca\u307c\u3057\u305d\u3046\u306a\u5909\u6570\u3092\u8ffd\u52a0\u3059\u308b\u3002"
            ]
        },
        {
            "cell_type": "code",
            "execution_count": null,
            "metadata": {},
            "outputs": [],
            "source": [
                "\n",
                "\n",
                "",
                "",
                "",
                ""
            ]
        },
        {
            "cell_type": "markdown",
            "metadata": {
                "hidden": true
            },
            "source": [
                "\uff08\u7d50\u679c\uff09\n",
                "* `nearinc:y81`\u306e\u4fc2\u6570\u306f\uff0c\u4f4f\u5b85\u4fa1\u683c\u304c13.1%\u4e0b\u843d\u3057\u305f\u3053\u3068\u3092\u793a\u3057\u3066\u3044\u308b\u3002\n",
                "* p\u5024\u306f\u3053\u306e\u7d4c\u6e08\u7684\u52b9\u679c\u304c\u975e\u5e38\u306b\u6709\u610f\u306b\u30bc\u30ed\u3067\u306f\u306a\u3044\u3053\u3068\u3092\u793a\u3057\u3066\u3044\u308b\u3002"
            ]
        },
        {
            "cell_type": "markdown",
            "metadata": {
                "heading_collapsed": true
            },
            "source": [
                "## \u30d1\u30cd\u30eb\u30fb\u30c7\u30fc\u30bf\u3068\u305d\u306e\u554f\u984c\u70b9"
            ]
        },
        {
            "cell_type": "markdown",
            "metadata": {
                "heading_collapsed": true,
                "hidden": true
            },
            "source": [
                "### \u30d1\u30cd\u30eb\u30fb\u30c7\u30fc\u30bf\u306b\u3064\u3044\u3066"
            ]
        },
        {
            "cell_type": "markdown",
            "metadata": {
                "hidden": true
            },
            "source": [
                "\u30d1\u30cd\u30eb\u30fb\u30c7\u30fc\u30bf\u3092\u4f7f\u3044\u63a8\u5b9a\u3059\u308b\u5834\u5408\uff0c\u89b3\u5bdf\u5358\u4f4d$i$\u3068\u6642\u9593$t$\u306e\uff12\u3064\u6b21\u5143\u3092\u8003\u616e\u3057\u305f\u56de\u5e30\u5f0f\u3068\u306a\u308b\u3002\u8aac\u660e\u3092\u5177\u4f53\u5316\u3059\u308b\u305f\u3081\u306b\uff0c47\u90fd\u9053\u5e9c\u770c\u3067\u306e\u96c7\u7528\u306b\u5bfe\u3059\u308b\u516c\u5171\u652f\u51fa\u306e\u52b9\u679c\u3092\u8003\u3048\u3088\u3046\u3002\n",
                "\n",
                "$$\n",
                "y_{it}= \\alpha_{it} +\\beta_1x_{it}+u_{it}\\qquad i=1,2,...,n\\quad t=1,2\n",
                "$$\n",
                "\n",
                "\u3053\u3053\u3067\n",
                "\n",
                "$$\n",
                "\\alpha_{i}=\\beta_0+a_{i}+\\delta_0D_t\n",
                "$$\n",
                "\n",
                "* $y_{it}$\uff1a\u90fd\u9053\u5e9c\u770c$i$\u306e$t$\u6642\u70b9\u306b\u304a\u3051\u308b\u96c7\u7528\n",
                "* $x_{it}$\uff1a\u90fd\u9053\u5e9c\u770c$i$\u306e$t$\u6642\u70b9\u306b\u304a\u3051\u308b\u516c\u5171\u652f\u51fa\n",
                "* $\\alpha_{it}$\uff1a\u56de\u5e30\u66f2\u7dda\u306e\u5207\u7247\u3002\n",
                "    * $i$\u304c\u3042\u308b\uff08\u90fd\u9053\u5e9c\u770c\u306b\u3088\u3063\u3066\u5207\u7247\u304c\u7570\u306a\u308b\uff09\u7406\u7531\uff1a\u90fd\u9053\u5e9c\u770c\u306e\u9593\u306b\u5b58\u5728\u3057\u3046\u308b\u7570\u8cea\u6027\u3092\u6349\u3048\u3066\u3044\u308b\u3002\n",
                "        * \u4f8b\u3048\u3070\uff0c\u4ed6\u770c\u306e\u516c\u5171\u652f\u51fa\u304b\u3089\u306e\u5f71\u97ff\u3092\u53d7\u3051\u3084\u3059\u3044\uff08\u82e5\u3057\u304f\u306f\uff0c\u53d7\u3051\u306b\u304f\u3044\uff09\u770c\u304c\u3042\u308b\u53ef\u80fd\u6027\u304c\u3042\u308b\u3002\u307e\u305f\uff0c\u6d77\u306b\u63a5\u3057\u3066\u3044\u308b\u770c\u3084\u5185\u9678\u306e\u770c\u3067\u306f\u516c\u5171\u652f\u51fa\u306e\u52b9\u679c\u306f\u7570\u306a\u308b\u304b\u3082\u77e5\u308c\u306a\u3044\u3002\u307e\u305f\u50cd\u304d\u65b9\u3084\u516c\u5171\u652f\u51fa\u306b\u5bfe\u3059\u308b\u770c\u6c11\u7279\u6709\u306e\u8003\u3048\u65b9\u3084\u597d\u307f\u306e\u9055\u3044\u3082\u3042\u308a\u3046\u308b\u3002\u3053\u3046\u3044\u3046\u8981\u7d20\u306f\u5909\u5316\u306b\u306f\u6642\u9593\u304c\u639b\u304b\u308a\uff0c\u63a8\u5b9a\u671f\u9593\u5185\u3067\u3042\u308c\u3070\u4e00\u5b9a\u3068\u8003\u3048\u308b\u3053\u3068\u304c\u3067\u304d\u308b\u3002\u3042\u308a\u3068\u3042\u3089\u3086\u308b\u7570\u8cea\u6027\u304c\u542b\u307e\u308c\u308b\u305f\u3081\uff0c\u89b3\u5bdf\u4e0d\u53ef\u80fd\u3068\u8003\u3048\u3089\u308c\u308b\u3002\n",
                "    * $t$\u304c\u3042\u308b\u7406\u7531\uff1a\u516c\u5171\u652f\u51fa\u4ee5\u5916\u306e\u7406\u7531\u3067\u6642\u9593\u3068\u5171\u306b\u96c7\u7528\u306f\u5909\u5316\u3059\u308b\u304b\u3082\u3057\u308c\u306a\u3044\u3002\u6642\u9593\u30c8\u30ec\u30f3\u30c9\u306e\u52b9\u679c\u3092\u6349\u3048\u308b\u3002\n",
                "    * \u90fd\u9053\u5e9c\u770c\u7279\u6709\u306e\u5b9a\u6570\u9805\u306f3\u3064\u306b\u5206\u3051\u308b\u3002\n",
                "        * $\\beta_0$\uff1a\u5171\u901a\u306e\u5b9a\u6570\u9805\n",
                "        * $a_{i}$\uff1a\u90fd\u9053\u5e9c\u770c\u5225\u306e\u5b9a\u6570\u9805\uff08**\u89b3\u5bdf\u4e0d\u53ef\u80fd**\uff09\n",
                "        * $\\delta_0D_t$\uff1a\u6642\u9593\u306b\u3088\u308b\u5207\u7247\u306e\u5909\u5316\u3092\u6349\u3048\u3066\u304a\u308a\uff0c$D_t$\u306f\u6642\u9593\u30c0\u30df\u30fc\u5909\u6570\n",
                "            * $D_0=0$\n",
                "            * $D_1=1$\n",
                "* $u_{it}$\uff1a\u6642\u9593\u306b\u3088\u3063\u3066\u5909\u5316\u3059\u308b\u89b3\u6e2c\u4e0d\u53ef\u80fd\u306a\u8aa4\u5dee\u9805\uff08$i$\u3068$t$\u306b\u4f9d\u5b58\u3059\u308b\u8aa4\u5dee\u9805\u3067\u3042\u308a\uff0cidiosyncratic errors\u3068\u547c\u3070\u308c\u308b\u3053\u3068\u304c\u3042\u308b\uff09\n",
                "    * \u4eee\u5b9a\uff1a$\\text{Cov}(x_{it},u_{it})=0$"
            ]
        },
        {
            "cell_type": "markdown",
            "metadata": {
                "heading_collapsed": true,
                "hidden": true
            },
            "source": [
                "### OLS\u63a8\u5b9a\u306e\u554f\u984c\u70b9"
            ]
        },
        {
            "cell_type": "markdown",
            "metadata": {
                "hidden": true
            },
            "source": [
                "$a_i$\u306f\u89b3\u5bdf\u4e0d\u53ef\u80fd\u306a\u305f\u3081\uff0c\u4e0a\u306e\u56de\u5e30\u5f0f\u306f\u6b21\u306e\u3088\u3046\u306b\u8868\u3059\u3053\u3068\u304c\u3067\u304d\u308b\u3002\n",
                "\n",
                "$$\n",
                "y_{it}= \\beta_0 + \\delta_0D_t + \\beta_1x_{it}+e_{it}\\qquad e_{it}=a_i+u_{it}\n",
                "$$\n",
                "\n",
                "\u3053\u3053\u3067$e_{it}$\u306f\u89b3\u5bdf\u4e0d\u53ef\u80fd\u306a\u8aa4\u5dee\u9805\u3002\n",
                "* $x_{it}$\u3068$a_i$\u3068\u304c\u76f8\u95a2\u3059\u308b\u5834\u5408\uff0c$x_{it}$\u3068$e_{it}$\u306f\u76f8\u95a2\u3059\u308b\u3053\u3068\u306b\u306a\u308a\uff0cGM\u4eee\u5b9a\uff14\u306f\u6210\u7acb\u3057\u306a\u304f\u306a\u308b\u3002\n",
                "\n",
                "    $$\n",
                "    \\text{Cov}\\left(x_{it}a_{it}\\right)\\neq 0\\quad \\Rightarrow\\quad \\text{Cov}\\left(x_{it}e_{it}\\right)\\neq 0\n",
                "    $$\n",
                "\n",
                "  \u5373\u3061\uff0c$\\hat{\\beta}_1$\u306f\u4e0d\u504f\u6027\u3068\u4e00\u81f4\u6027\u3092\u5931\u3046\u3053\u3068\u306b\u306a\u308b\u3002\n",
                "* \u300c\u7570\u8cea\u6027\u30d0\u30a4\u30a2\u30b9\u300d\u3068\u547c\u3070\u308c\u308b\u304c\uff0c\u672c\u8cea\u7684\u306b\u306f$a_i$\u306e\u6b20\u843d\u5909\u6570\u30d0\u30a4\u30a2\u30b9\u3067\u3042\u308b\u3002"
            ]
        },
        {
            "cell_type": "markdown",
            "metadata": {
                "heading_collapsed": true
            },
            "source": [
                "## \uff11\u968e\u5dee\u5206\u63a8\u5b9a\u306e\u6e96\u5099\uff1a`groupby`"
            ]
        },
        {
            "cell_type": "markdown",
            "metadata": {
                "hidden": true
            },
            "source": [
                "\u30d1\u30cd\u30eb\u30fb\u30c7\u30fc\u30bf\u3092\u4f7f\u3063\u305f\u63a8\u5b9a\u65b9\u6cd5\u3068\u3057\u3066\uff11\u968e\u5dee\u5206\u63a8\u5b9a\uff08First Differenced Estimator\uff09\u304c\u3042\u308a\uff0c\u305d\u308c\u3092\u4f7f\u3044\u63a8\u5b9a\u3059\u308b\u3002\u305d\u306e\u524d\u6e96\u5099\u3068\u3057\u3066\u5909\u6570\u306e\u5dee\u5206\u306e\u4f5c\u6210\u65b9\u6cd5\u306b\u3064\u3044\u3066\u8aac\u660e\u3059\u308b\u3002\n",
                "\n",
                "`DataFrame`\u306b\u306f\u30e1\u30bd\u30c3\u30c9`groupby`\u304c\u3042\u308a\uff0c\u3053\u308c\u3092\u4f7f\u3046\u3068\u30ab\u30c6\u30b4\u30ea\u30fc\u5909\u6570\u304c\u3042\u308b\u5217\u306b\u5f93\u3063\u3066\u884c\u3092\u30b0\u30eb\u30fc\u30d7\u5206\u3051\u3057\u30b0\u30eb\u30fc\u30d7\u6bce\u306e\u69d8\u3005\u306a\u8a08\u7b97\u304c\u53ef\u80fd\u3068\u306a\u308b\u3002\u5177\u4f53\u7684\u306a\u4f8b\u3068\u3057\u3066\u306f[Gapminder](https://github.com/Haruyama-KobeU/Py4Etrics/blob/master/Gapminder.ipynb)\u3092\u53c2\u7167\u3002\u3053\u3053\u3067\u306f`groupby`\u3092\u4f7f\u3044\u5dee\u5206\u306e\u5909\u6570\u306e\u4f5c\u308a\u65b9\u3092\u8aac\u660e\u3059\u308b\u3002\n",
                "\n",
                "\u4f8b\u3068\u3057\u3066\u4f7f\u3046\u30c7\u30fc\u30bf\u3092\u8aad\u307f\u8fbc\u3080\u3002"
            ]
        },
        {
            "cell_type": "code",
            "execution_count": null,
            "metadata": {},
            "outputs": [],
            "source": [
                "# url \u306e\u8a2d\u5b9a\n",
                "\n",
                "\n",
                "# \u8aad\u307f\u8fbc\u307f\n",
                "\n",
                "\n",
                ""
            ]
        },
        {
            "cell_type": "markdown",
            "metadata": {
                "hidden": true
            },
            "source": [
                "\u5217`country`\u304c\u30ab\u30c6\u30b4\u30ea\u30fc\u5909\u6570\u3067\u3042\u308a\uff0c3\u3064\u306e\u56fd\u304c\u3042\u308b\u3002\u3053\u306e\u5217\u3092\u4f7f\u3044\u30b0\u30eb\u30fc\u30d7\u5206\u3051\u3059\u308b\u3002\n",
                "\n",
                "\u307e\u305a\u524d\u6e96\u5099\u3068\u3057\u3066\uff0c\u30e1\u30bd\u30c3\u30c9`.sort_values()`\u3092\u4f7f\u3044\u5217`country`\u3067\u6607\u9806\u306b\u4e26\u3073\u66ff\u3048\uff0c\u305d\u306e\u5f8c\uff0c\u5217`year`\u3067\u6607\u9806\u306b\u4e26\u3073\u66ff\u3048\u308b\u3002\n",
                "\n",
                "\uff08\u30b3\u30e1\u30f3\u30c8\uff09\n",
                "\n",
                "\u4ee5\u4e0b\u306e\u30b3\u30fc\u30c9\u306b\u306f`.reset_index(drop=True)`\u304c\u8ffd\u52a0\u3055\u308c\u3066\u3044\u308b\u304c\uff0c\u3053\u308c\u306f\u884c\u306e\u30a4\u30f3\u30c7\u30c3\u30af\u30b9\u30920,1,2,..\u3068\u632f\u308a\u76f4\u3059\u30e1\u30bd\u30c3\u30c9\u3067\u3042\u308b\u3002\u5f15\u6570`drop=True`\u304c\u306a\u3051\u308c\u3070\uff0c\u5143\u3005\u3042\u3063\u305f\u30a4\u30f3\u30c7\u30c3\u30af\u30b9\u304c\u65b0\u305f\u306a\u5217\u3068\u3057\u3066\u8ffd\u52a0\u3055\u308c\u308b\u3002\u8a66\u3057\u306b\uff0c\u6700\u521d\u304b\u3089`df`\u3092\u8aad\u307f\u76f4\u3057\u3066`.reset_index(drop=True)`\u3092\u7701\u3044\u3066\u4e0b\u306e\u30b3\u30fc\u30c9\u3092\u5b9f\u884c\u3057\u3066\u307f\u3088\u3046\u3002"
            ]
        },
        {
            "cell_type": "code",
            "execution_count": null,
            "metadata": {},
            "outputs": [],
            "source": [
                "\n",
                "\n",
                ""
            ]
        },
        {
            "cell_type": "markdown",
            "metadata": {
                "hidden": true
            },
            "source": [
                "`country`\u3067\u30b0\u30eb\u30fc\u30d7\u5316\u3057\u305f`df_group`\u3092\u4f5c\u6210\u3059\u308b\u3002"
            ]
        },
        {
            "cell_type": "code",
            "execution_count": null,
            "metadata": {},
            "outputs": [],
            "source": [
                "\n",
                "\n",
                ""
            ]
        },
        {
            "cell_type": "markdown",
            "metadata": {
                "hidden": true
            },
            "source": [
                "\u3053\u306e\u30b3\u30fc\u30c9\u306e\u51fa\u529b\u304c\u793a\u3059\u3088\u3046\u306b\uff0c`df_group`\u306f`DataFrameGroupBy`\u3068\u3044\u3046\u30af\u30e9\u30b9\u540d\u306e\u30aa\u30d6\u30b8\u30a7\u30af\u30c8\uff08\u30c7\u30fc\u30bf\u578b\uff09\u3067\u3042\u308a\uff0c`DataFrame`\u3068\u306f\u7570\u306a\u308b\u3002\u3053\u308c\u306b\u3088\u308a\u30b0\u30eb\u30fc\u30d7\u5225\u306e\u8a08\u7b97\u304c\u683c\u6bb5\u3068\u5bb9\u6613\u306b\u306a\u308b\u3002\n",
                "\n",
                "\u4f8b\u3048\u3070\uff0c\u6b21\u306e\u30b3\u30fc\u30c9\u3092\u4f7f\u3044\u305d\u308c\u305e\u308c\u306e\u7d4c\u6e08\u306e`gdp`\u306e\u5e73\u5747\u3092\u8a08\u7b97\u3059\u308b\u3053\u3068\u304c\u3067\u304d\u308b\u3002"
            ]
        },
        {
            "cell_type": "code",
            "execution_count": null,
            "metadata": {},
            "outputs": [],
            "source": []
        },
        {
            "cell_type": "markdown",
            "metadata": {
                "hidden": true
            },
            "source": [
                "`mean()`\u306f`df_group`\u306b\u5099\u308f\u308b\u30e1\u30bd\u30c3\u30c9\u3067\u3042\u308b\u3002\u4ed6\u306b\u3082\u4fbf\u5229\u306a\u4f7f\u3044\u65b9\u304c\u3042\u308b\u304c\uff0c\u3053\u3053\u3067\u306f\u5909\u6570\u306e\u5dee\u5206\u306e\u4f5c\u308a\u304b\u3092\u8aac\u660e\u3059\u308b\u3002\n",
                "\n",
                "`df_group`\u306b\u3042\u308b\u5909\u6570\u306e\u5dee\u5206\u3092\u3068\u308b\u305f\u3081\u306b\u30e1\u30bd\u30c3\u30c9`diff()`\u3092\u4f7f\u3046\u3002"
            ]
        },
        {
            "cell_type": "code",
            "execution_count": null,
            "metadata": {},
            "outputs": [],
            "source": [
                "\n",
                "\n",
                "",
                "",
                ""
            ]
        },
        {
            "cell_type": "markdown",
            "metadata": {
                "hidden": true
            },
            "source": [
                "\u6b21\u306b`df`\u3068`df_diff`\u3092\u6a2a\u306b\u7d50\u5408\u3059\u308b\u3002"
            ]
        },
        {
            "cell_type": "markdown",
            "metadata": {
                "hidden": true
            },
            "source": [
                "**\uff1c\u65b9\u6cd5\uff11\uff1a`pd.concat`\uff1e**\n",
                "1. `df_diff`\u306e\u5217\u540d\u3092\u5909\u66f4\n",
                "1. `pd.condat`\u3092\u4f7f\u3044\u7d50\u5408"
            ]
        },
        {
            "cell_type": "code",
            "execution_count": null,
            "metadata": {},
            "outputs": [],
            "source": [
                "\n",
                "\n",
                ""
            ]
        },
        {
            "cell_type": "code",
            "execution_count": null,
            "metadata": {},
            "outputs": [],
            "source": []
        },
        {
            "cell_type": "markdown",
            "metadata": {
                "hidden": true
            },
            "source": [
                "\u4e0a\u306e\u30b3\u30fc\u30c9\u306e`axis='columns'`\u306f`axis=1`\u3068\u3057\u3066\u3082OK\u3002\u3053\u306e\u65b9\u6cd5\u306f\u3001`df`\u3068`df_diff_1`\u306e\u884c\u306e\u9806\u5e8f\u304c\u540c\u3058\u3068\u3044\u3046\u60f3\u5b9a\u306e\u3082\u3068\u3067\u884c\u3063\u3066\u3044\u308b\u3002\u884c\u306e\u9806\u756a\u304c\u540c\u3058\u3067\u306a\u3044\u5834\u5408\u3084\u4e0d\u660e\u306a\u5834\u5408\u306f\u3001\u6b21\u306e\u65b9\u6cd5\u304c\u826f\u3044\u3067\u3042\u308d\u3046\u3002"
            ]
        },
        {
            "cell_type": "markdown",
            "metadata": {
                "hidden": true
            },
            "source": [
                "**\uff1c\u65b9\u6cd5\uff12\uff1a`pd.merge`\uff1e**\n",
                "\n",
                "`df`\u3068`df_diff`\u3092\u4f7f\u3044\u3001\u65b9\u6cd5\uff11\u306e\uff12\u3064\u306e\u30b9\u30c6\u30c3\u30d7\u3092\uff11\u884c\u3067\u6e08\u307e\u305b\u308b\u3002\u6b21\u306e\u30b3\u30fc\u30c9\u3067\u306f3\u3064\u306e\u5f15\u6570\u3092\u6307\u5b9a\u3057\u3066\u3044\u308b\u3002\n",
                "* `left_index=True`\n",
                "    * `df`\u306e\u884c\u306e\u30a4\u30f3\u30c7\u30c3\u30af\u30b9\u306b\u5408\u308f\u305b\u3066\u7d50\u5408\u3059\u308b\u3002\n",
                "* `right_index=True`\n",
                "    * `df_diff`\u306e\u884c\u306e\u30a4\u30f3\u30c7\u30c3\u30af\u30b9\u306b\u5408\u308f\u305b\u3066\u7d50\u5408\u3059\u308b\u3002\n",
                "* `suffixes=('', '_diff')`\n",
                "    * \u5de6\u306e\u5f15\u6570`''`\uff1a\u7d50\u5408\u5f8c\uff0c\u91cd\u8907\u3059\u308b\u5de6\u306e`DataFrame`\u306e\u5217\u306b\u3064\u3051\u308b\u63a5\u5c3e\u8f9e\uff08\u7a7a\u306e\u63a5\u5c3e\u8f9e\uff09\n",
                "    * \u53f3\u306e\u5f15\u6570`'_diff'`\uff1a\u7d50\u5408\u5f8c\uff0c\u91cd\u8907\u3059\u308b\u53f3\u306e`DataFrame`\u306e\u5217\u306b\u3064\u3051\u308b\u63a5\u5c3e\u8f9e"
            ]
        },
        {
            "cell_type": "code",
            "execution_count": null,
            "metadata": {},
            "outputs": [],
            "source": []
        },
        {
            "cell_type": "markdown",
            "metadata": {
                "hidden": true
            },
            "source": [
                "`df`\u3092\u4e0a\u66f8\u304d\u3057\u305f\u3044\u5834\u5408\u306f\uff0c`df=`\u3092\u4ed8\u3051\u52a0\u3048\u308b\u3002"
            ]
        },
        {
            "cell_type": "markdown",
            "metadata": {
                "heading_collapsed": true
            },
            "source": [
                "## \uff11\u968e\u5dee\u5206\u63a8\u5b9a\uff08First Differenced Estimator\uff09"
            ]
        },
        {
            "cell_type": "markdown",
            "metadata": {
                "heading_collapsed": true,
                "hidden": true
            },
            "source": [
                "### \u8aac\u660e"
            ]
        },
        {
            "cell_type": "markdown",
            "metadata": {
                "hidden": true
            },
            "source": [
                "\u7570\u8cea\u6027\u30d0\u30a4\u30a2\u30b9\u306e\u4e00\u756a\u7c21\u5358\u306a\u89e3\u6c7a\u65b9\u6cd5\u304c\uff11\u968e\u5dee\u5206\u63a8\u5b9a\uff08FDE\uff09\u3067\u3042\u308b\u3002\u8003\u3048\u65b9\u306f\u975e\u5e38\u306b\u7c21\u5358\u3067\u3042\u308b\u3002\u6b21\u306e\uff11\u968e\u5dee\u5206\u3092\u5b9a\u7fa9\u3059\u308b\u3002\n",
                "* $\\Delta y_{i}=y_{i1}-y_{i0}$\n",
                "* $\\Delta D = D_{1}-D_0 =1-0= 1$\n",
                "* $\\Delta x_{i}=x_{i1}-x_{i0}$\n",
                "* $\\Delta e_{i}=e_{i1}-e_{i0}=a_i+u_{i1}-\\left(a_i+u_{i0}\\right)=\\Delta u_{i}$\n",
                "    * $a_i$\u304c\u524a\u9664\u3055\u308c\u308b\u3002\n",
                "\n",
                "\u3053\u308c\u3089\u3092\u4f7f\u3044\uff0c\u4e0a\u306e\u5f0f\u306e\uff11\u968e\u5dee\u5206\u3092\u3068\u308b\u3068\u6b21\u5f0f\u3092\u5f97\u308b\u3002\n",
                "\n",
                "$$\n",
                "\\Delta y_{it}= \\delta_0 + \\beta_1\\Delta x_{i}+\\Delta u_{i}\\qquad i=1,2,...,n\n",
                "$$\n",
                "\n",
                "* \u826f\u3044\u70b9\n",
                "    * \uff08\u4eee\u5b9a\u306b\u3088\u308a\uff09$\\Delta x_{i}$\u3068$\\Delta u_{i}$\u306f\u76f8\u95a2\u3057\u306a\u3044\u305f\u3081\uff0cGM\u4eee\u5b9a\uff14\u306f\u6e80\u305f\u3055\u308c\u308b\u3053\u3068\u306b\u306a\u308b\u3002\n",
                "* \u60aa\u3044\u70b9\n",
                "    * $t=0$\u306e\u30c7\u30fc\u30bf\u3092\u4f7f\u3048\u306a\u304f\u306a\u308b\u305f\u3081\uff0c\u6a19\u672c\u306e\u5927\u304d\u3055\u304c\u5c0f\u3055\u304f\u306a\u308b\u3002\n",
                "    * \u671f\u9593\u5185\u306e\u8aac\u660e\u5909\u6570$\\Delta x_i$\u306e\u5909\u5316\u304c\u5c0f\u3055\u3044\u3068\uff0c\u4e0d\u6b63\u78ba\u306a\u63a8\u5b9a\u306b\u306a\u308b\uff08\u6975\u7aef\u306a\u5834\u5408\uff0c\u5909\u5316\u304c\u306a\u3044\u3068\u63a8\u5b9a\u4e0d\u53ef\u80fd\u3068\u306a\u308b\uff09\u3002"
            ]
        },
        {
            "cell_type": "markdown",
            "metadata": {
                "hidden": true
            },
            "source": [
                "---\n",
                "\uff1c\u63a8\u5b9a\u65b9\u6cd5\uff1e\n",
                "\n",
                "\u30c7\u30fc\u30bf\u304b\u3089\uff11\u968e\u5dee\u5206\u3092\u8a08\u7b97\u3057\uff0c`statsmodels`\u3092\u4f7f\u3044OLS\u63a8\u5b9a\u3059\u308c\u3070\u826f\u3044\u3002\u4ee5\u4e0b\u3067\u306f\u30d1\u30c3\u30b1\u30fc\u30b8`wooldridge`\u306b\u3042\u308b\u30c7\u30fc\u30bf\u3092\u4f7f\u3046\u3002"
            ]
        },
        {
            "cell_type": "markdown",
            "metadata": {
                "heading_collapsed": true,
                "hidden": true
            },
            "source": [
                "### \u63a8\u5b9a\uff1a\uff12\u671f\u9593\u306e\u5834\u5408"
            ]
        },
        {
            "cell_type": "markdown",
            "metadata": {
                "hidden": true
            },
            "source": [
                "* \u4ee5\u4e0b\u3067\u306f`crime2`\u306e\u30c7\u30fc\u30bf\u3092\u4f7f\u3044\u8aac\u660e\u3059\u308b\u3002\n",
                "* \u3053\u306e\u30c7\u30fc\u30bf\u3092\u4f7f\u3044\uff0c\u5931\u696d\u7387\u304c\u72af\u7f6a\u306b\u8ca0\u306e\u5f71\u97ff\u3092\u4e0e\u3048\u308b\u304b\u3069\u3046\u304b\u3092\u691c\u8a3c\u3059\u308b\u3002"
            ]
        },
        {
            "cell_type": "markdown",
            "metadata": {
                "hidden": true
            },
            "source": [
                "\u30c7\u30fc\u30bf\u306e\u8aad\u307f\u8fbc\u307f\u3002"
            ]
        },
        {
            "cell_type": "code",
            "execution_count": null,
            "metadata": {},
            "outputs": [],
            "source": []
        },
        {
            "cell_type": "markdown",
            "metadata": {
                "hidden": true
            },
            "source": [
                "\u5909\u6570\u306e\u8aac\u660e\u3002"
            ]
        },
        {
            "cell_type": "code",
            "execution_count": null,
            "metadata": {},
            "outputs": [],
            "source": []
        },
        {
            "cell_type": "markdown",
            "metadata": {
                "hidden": true
            },
            "source": [
                "\u8208\u5473\u304c\u3042\u308b\u5909\u6570\n",
                "* `crmes`\uff1a\u72af\u7f6a\u7387\uff081000\u4eba\u5f53\u305f\u308a\u72af\u7f6a\u6570\uff09\n",
                "* `unem`\uff1a\u5931\u696d\u7387\n",
                "\n",
                "\uff08\u30b3\u30e1\u30f3\u30c8\uff09\n",
                "\n",
                "\u30c7\u30fc\u30bf\u30bb\u30c3\u30c8\u306b\u306f\u3053\u306e2\u3064\u306e\u5909\u6570\u306e\u5dee\u5206\uff08`cunem`\u3068`ccrmrte`\uff09\u3082\u7528\u610f\u3055\u308c\u3066\u3044\u308b\u304c\uff0c\u4ee5\u4e0b\u3067\u306f`groupby`\u3092\u4f7f\u3063\u3066\u5909\u6570\u3092\u4f5c\u6210\u3059\u308b\u3002"
            ]
        },
        {
            "cell_type": "code",
            "execution_count": null,
            "metadata": {},
            "outputs": [],
            "source": []
        },
        {
            "cell_type": "markdown",
            "metadata": {
                "hidden": true
            },
            "source": [
                "\u3053\u306e\u30c7\u30fc\u30bf\u30bb\u30c3\u30c8\u306b\u306f\uff0c\u89b3\u5bdf\u5358\u4f4d\u8b58\u5225\u7528\u306e\u5909\u6570\u304c\u306a\u3044\u3002\u3057\u304b\u3057\uff0c\u884c0\u30681\u304c1\u3064\u306e\u5730\u57df\u306e\u30c7\u30fc\u30bf\uff0c\u884c2\u30683\u304c\u5225\u306e\u5730\u57df\u306e\u30c7\u30fc\u30bf\u3092\u306a\u3063\u3066\u3044\u308b\u3053\u3068\u304c\u308f\u304b\u308b\uff08`year`\u3092\u898b\u308b\u3068\u308f\u304b\u308b\uff09\u3002\u307e\u305a\u89b3\u5bdf\u5358\u4f4d\u8b58\u5225\u7528\u306e\u306e\u5217\u3092\u4f5c\u6210\u3059\u308b\u3002"
            ]
        },
        {
            "cell_type": "code",
            "execution_count": null,
            "metadata": {},
            "outputs": [],
            "source": [
                "# \u89b3\u5bdf\u5358\u4f4d\u306e\u6570\n",
                "\n",
                "\n",
                "# \u89b3\u5bdf\u5358\u4f4dID\u7528\u306e\u30ea\u30b9\u30c8\u4f5c\u6210 [1,2,3,4....]\n",
                "\n",
                "\n",
                "# \u89b3\u5bdf\u5358\u4f4dID\u7528\u306e\u30ea\u30b9\u30c8\u4f5c\u6210 [1,1,2,2,3,3,4,4....]\n"
            ]
        },
        {
            "cell_type": "markdown",
            "metadata": {
                "hidden": true
            },
            "source": [
                "`country_list`\u306e\u8aac\u660e\uff1a\n",
                "1. `Series`\u306e\u30e1\u30bd\u30c3\u30c9`repeat(2)`\u306f`lst`\u306e\u8981\u7d20\u3092\uff12\u56de\u30ea\u30d4\u30fc\u30c8\u3059\u308b`Series`\u3092\u751f\u6210\u3059\u308b\u3002\n",
                "1. `to_list()`\u306f`Series`\u3092\u30ea\u30b9\u30c8\u306b\u5909\u63db\u3059\u308b\u30e1\u30bd\u30c3\u30c9\u3002\n",
                "\n",
                "\u30c7\u30fc\u30bf\u30bb\u30c3\u30c8\u306b\u5217`county`\u3092\u8ffd\u52a0\u3057\u78ba\u8a8d\u3059\u308b\u3002"
            ]
        },
        {
            "cell_type": "code",
            "execution_count": null,
            "metadata": {},
            "outputs": [],
            "source": [
                "\n",
                "\n",
                ""
            ]
        },
        {
            "cell_type": "markdown",
            "metadata": {
                "hidden": true
            },
            "source": [
                "`unem`\u3068`crmrte`\u306e\u5dee\u5206\u3092\u6c42\u3081\u308b\u3002"
            ]
        },
        {
            "cell_type": "code",
            "execution_count": null,
            "metadata": {},
            "outputs": [],
            "source": [
                "\n",
                "\n",
                "",
                "",
                "",
                "",
                ""
            ]
        },
        {
            "cell_type": "markdown",
            "metadata": {
                "hidden": true
            },
            "source": [
                "`crime2_diff`\u3092\u4f7f\u3063\u3066\u56de\u5e30\u5206\u6790\u3092\u304a\u3053\u306a\u3046\u3002\n",
                "\n",
                "\uff08\u30b3\u30e1\u30f3\u30c8\uff09\n",
                "\n",
                "\u4ee5\u4e0b\u306e\u8a08\u7b97\u3067\u306f`NaN`\u306f\u81ea\u52d5\u7684\u306b\u7121\u8996\u3055\u308c\u308b\u3002"
            ]
        },
        {
            "cell_type": "code",
            "execution_count": null,
            "metadata": {},
            "outputs": [],
            "source": [
                "\n",
                "\n",
                "",
                "",
                ""
            ]
        },
        {
            "cell_type": "markdown",
            "metadata": {
                "hidden": true
            },
            "source": [
                "\uff1c\u7d50\u679c\uff1e\n",
                "* \u5931\u696d\u7387\u304c1%\u5897\u52a0\u3059\u308b\u3068\uff0c\u72af\u7f6a\u7387\u306f\u7d042.2%\u4e0a\u6607\u3059\u308b\u3002\n",
                "    * \u3053\u306e\u5834\u5408\u3001\u5fae\u5206\u3092\u8a08\u7b97\u3059\u308b\u306e\u3067\u306f\u306a\u304f\u3001`unem_diff`\u306b`1`\u3092\u4ee3\u5165\u3057\u3066\u89e3\u91c8\u3059\u308b\u3002\n",
                "* 5\uff05\u306e\u6c34\u6e96\u3067\u5e30\u7121\u4eee\u8aac\u3092\u68c4\u5374\u3067\u304d\u308b\u3002\n",
                "* \u6b21\u306e\u7247\u5074\u691c\u5b9a\u3092\u884c\u3046\n",
                "    * $H_0$: `unem`\u306e\u4fc2\u6570 $\uff1d0$\n",
                "    * $H_a$: `unem`\u306e\u4fc2\u6570 $>0$"
            ]
        },
        {
            "cell_type": "code",
            "execution_count": null,
            "metadata": {},
            "outputs": [],
            "source": [
                "\n",
                "\n",
                "",
                "",
                ""
            ]
        },
        {
            "cell_type": "markdown",
            "metadata": {
                "hidden": true
            },
            "source": [
                "\u7247\u5074\u691c\u5b9a\u3067\u306f\uff0c1%\u6c34\u6e96\u3067\u5e30\u7121\u4eee\u8aac\u3092\u68c4\u5374\u3067\u304d\u308b\u3002"
            ]
        },
        {
            "cell_type": "markdown",
            "metadata": {
                "hidden": true
            },
            "source": [
                "---\n",
                "**\uff1c\u53c2\u8003\uff11\uff1e**\n",
                "\n",
                "\uff11\u968e\u5dee\u5206\u63a8\u5b9a\u3092\u4f7f\u308f\u305a\u306b\u76f4\u63a5OLS\u63a8\u5b9a\u3059\u308b\u3068\u3069\u3046\u306a\u308b\u304b\u3092\u78ba\u304b\u3081\u3066\u307f\u308b\u3002"
            ]
        },
        {
            "cell_type": "code",
            "execution_count": null,
            "metadata": {},
            "outputs": [],
            "source": [
                "\n",
                "\n",
                "",
                "",
                ""
            ]
        },
        {
            "cell_type": "markdown",
            "metadata": {
                "hidden": true
            },
            "source": [
                "* \u5931\u696d\u306e\u52b9\u679c\u306f\u904e\u5c0f\u8a55\u4fa1\u3055\u308c\u3066\u3044\u308b\u3002\n",
                "    * \u5730\u57df\u306e\u7570\u8cea\u6027\u3092\u8003\u616e\u3057\u306a\u305f\u3081\u7570\u8cea\u6027\u30d0\u30a4\u30a2\u30b9\uff08\u6b20\u843d\u5909\u6570\u30d0\u30a4\u30a2\u30b9\uff09\u304c\u767a\u751f\u3057\u3066\u3044\u308b\u3002\n",
                "* \u7d71\u8a08\u7684\u6709\u610f\u6027\u3082\u4f4e\u3044\uff08p\u5024\u306f\u975e\u5e38\u306b\u9ad8\u3044\uff09\u3002\n",
                "\n",
                "---\n",
                "**\uff1c\u53c2\u8003\uff12\uff1e**\n",
                "\n",
                "\u53c2\u8003\uff11\u306e\u56de\u5e30\u5f0f\u306b\u306f\u30c0\u30df\u30fc\u5909\u6570`d87`\u304c\u5165\u3063\u3066\u304a\u308a\u3001\u5e74\u306b\u3088\u3063\u3066\u5931\u696d\u3068\u72af\u7f6a\u306e\u95a2\u4fc2\u306f\u7570\u306a\u308b\u3053\u3068\u3092\u6349\u3048\u3066\u3044\u308b\u3002\u3082\u3057\u3053\u306e\u30c0\u30df\u30fc\u304c\u5165\u3089\u306a\u3044\u3068\u901a\u5e38\u8003\u3048\u3089\u308c\u308b\u95a2\u4fc2\u3068\u9006\u306e\u76f8\u95a2\u304c\u767a\u751f\u3059\u308b\u3002"
            ]
        },
        {
            "cell_type": "code",
            "execution_count": null,
            "metadata": {},
            "outputs": [],
            "source": [
                "\n",
                "\n",
                "",
                "",
                ""
            ]
        },
        {
            "cell_type": "markdown",
            "metadata": {
                "heading_collapsed": true,
                "hidden": true
            },
            "source": [
                "### \u63a8\u5b9a\uff1a\uff13\u671f\u9593\u4ee5\u4e0a\u306e\u5834\u5408"
            ]
        },
        {
            "cell_type": "markdown",
            "metadata": {
                "hidden": true
            },
            "source": [
                "`crime4`\u306e\u30c7\u30fc\u30bf\u30bb\u30c3\u30c8\u3092\u4f7f\u3044\uff0c\u72af\u7f6a\u306e\u6c7a\u5b9a\u8981\u56e0\u306b\u3064\u3044\u3066\u63a8\u5b9a\u3059\u308b\u3002"
            ]
        },
        {
            "cell_type": "code",
            "execution_count": null,
            "metadata": {},
            "outputs": [],
            "source": [
                "\n"
            ]
        },
        {
            "cell_type": "code",
            "execution_count": null,
            "metadata": {},
            "outputs": [],
            "source": []
        },
        {
            "cell_type": "markdown",
            "metadata": {
                "hidden": true
            },
            "source": [
                "\uff1c\u8208\u5473\u304c\u3042\u308b\u5909\u6570\uff1e\n",
                "* \u88ab\u8aac\u660e\u5909\u6570\n",
                "    * `lcrmrte`\uff1a\uff11\u4eba\u5f53\u305f\u308a\u72af\u7f6a\u6570\uff08\u5bfe\u6570\uff09\n",
                "* \u8aac\u660e\u5909\u6570\n",
                "    * `lprbarr`\uff1a\u902e\u6355\u306e\u78ba\u7387\uff08\u5bfe\u6570\uff09\n",
                "    * `lprbconv`\uff1a\u6709\u7f6a\u5224\u6c7a\u306e\u78ba\u7387\uff08\u5bfe\u6570; \u902e\u6355\u3092\u6240\u4e0e\u3068\u3057\u3066\uff09\n",
                "    * `lprbpris`\uff1a\u5211\u52d9\u6240\u306b\u53ce\u76e3\u3055\u308c\u308b\u78ba\u7387\uff08\u5bfe\u6570; \u6709\u7f6a\u5224\u6c7a\u3092\u6240\u4e0e\u3068\u3057\u3066\uff09\n",
                "    * `lavgsen`\uff1a\u5e73\u5747\u670d\u5f79\u671f\u9593\uff08\u5bfe\u6570\uff09\n",
                "    * `lpolpc`\uff1a\uff11\u4eba\u5f53\u305f\u308a\u8b66\u5b98\u6570\uff08\u5bfe\u6570\uff09\n",
                "\n",
                "\u305d\u308c\u305e\u308c\u306e\u5909\u6570\u306e\u5dee\u5206\u3082\u7528\u610f\u3055\u308c\u3066\u3044\u308b\u304c\uff0c\u4ee5\u4e0b\u3067\u306f\u5217`county`\u3092\u30b0\u30eb\u30fc\u30d7\u5316\u3057\u305d\u308c\u3089\u306e\u5024\u3092\u8a08\u7b97\u3059\u308b\u3002"
            ]
        },
        {
            "cell_type": "code",
            "execution_count": null,
            "metadata": {},
            "outputs": [],
            "source": [
                "# \u30b0\u30eb\u30fc\u30d7\u5316\n",
                "\n",
                "\n",
                "# \u5dee\u5206\u3092\u8a08\u7b97\u3057\u305f\u3044\u5909\u6570\n",
                "\n",
                "\n",
                "# \u5dee\u5206\u306eDataFrame\n",
                "\n",
                "\n",
                "# DataFrame\u306e\u7d50\u5408\n",
                "\n",
                "\n",
                ""
            ]
        },
        {
            "cell_type": "markdown",
            "metadata": {
                "hidden": true
            },
            "source": [
                "---\n",
                "\u63a8\u5b9a\u5f0f\u306b\u3064\u3044\u3066\u306f\uff0c2\u671f\u9593\u30e2\u30c7\u30eb\u3068\u540c\u3058\u3088\u3046\u306b\u8003\u3048\u308b\u3002\u9055\u3046\u70b9\u306f\uff0c7\u5e74\u9593\u306e\u5e74\u6b21\u30c7\u30fc\u30bf\u3067\u3042\u308b\u305f\u3081\uff0c\uff16\u3064\u306e\u6642\u9593\u30c0\u30df\u30fc\u5909\u6570\u3092\u5165\u308c\u308b\u3053\u3068\u3060\u3051\u3067\u3042\u308b\u3002"
            ]
        },
        {
            "cell_type": "code",
            "execution_count": null,
            "metadata": {},
            "outputs": [],
            "source": [
                "\n",
                "\n",
                "",
                ""
            ]
        },
        {
            "cell_type": "code",
            "execution_count": null,
            "metadata": {},
            "outputs": [],
            "source": [
                "\n",
                "\n",
                ""
            ]
        },
        {
            "cell_type": "markdown",
            "metadata": {
                "hidden": true
            },
            "source": [
                "\uff1c\u7d50\u679c\uff1e\n",
                "* `lprbarr`\uff08\u902e\u6355\u306e\u78ba\u7387\uff09\uff0c`lprbconv`\uff08\u6709\u7f6a\u5224\u6c7a\u306e\u78ba\u7387\uff09\uff0c`lprbpris`\uff08\u53ce\u76e3\u78ba\u7387\uff09\uff0c`lavgsen`\uff08\u5e73\u5747\u670d\u5f79\u671f\u9593\uff09\u306f\u5168\u3066\u4e88\u60f3\u901a\u308a\u306e\u7d50\u679c\u3002\n",
                "* \u3057\u304b\u3057\u5e73\u5747\u670d\u5f79\u671f\u9593\u306f\u306e\u7d71\u8a08\u7684\u512a\u4f4d\u6027\u306f\u4f4e\u3044\u3002\uff08\u72af\u7f6a\u4e88\u9632\u52b9\u679c\u306f\u4f4e\u3044\uff1f\uff09\n",
                "* `lpolpc`\uff08\uff11\u4eba\u5f53\u305f\u308a\u8b66\u5b98\u6570\uff09\u306e\u52b9\u679c\u306f\u6b63\n",
                "    * \u8b66\u5b98\u304c\u591a\u304f\u306a\u308b\u3068\uff0c\u72af\u7f6a\u6570\u304c\u540c\u3058\u3067\u3042\u3063\u3066\u3082\u72af\u7f6a\u306e\u5831\u544a\u306f\u5897\u3048\u308b\uff1f\n",
                "    * \u540c\u6642\u6027\u30d0\u30a4\u30a2\u30b9\uff1f"
            ]
        }
    ],
    "metadata": {
        "celltoolbar": "Tags",
        "kernelspec": {
            "display_name": "latest",
            "language": "python",
            "name": "latest"
        },
        "language_info": {
            "codemirror_mode": {
                "name": "ipython",
                "version": 3
            },
            "file_extension": ".py",
            "mimetype": "text/x-python",
            "name": "python",
            "nbconvert_exporter": "python",
            "pygments_lexer": "ipython3",
            "version": "3.8.2"
        },
        "toc": {
            "base_numbering": 1,
            "nav_menu": {},
            "number_sections": true,
            "sideBar": true,
            "skip_h1_title": false,
            "title_cell": "Table of Contents",
            "title_sidebar": "Contents",
            "toc_cell": false,
            "toc_position": {},
            "toc_section_display": true,
            "toc_window_display": false
        }
    },
    "nbformat": 4,
    "nbformat_minor": 2
}