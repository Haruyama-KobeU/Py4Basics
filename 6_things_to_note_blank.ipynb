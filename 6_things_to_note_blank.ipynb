{
    "cells": [
        {
            "cell_type": "markdown",
            "metadata": {},
            "source": [
                "# Tips\u3068\u6ce8\u610f\u70b9"
            ]
        },
        {
            "cell_type": "markdown",
            "metadata": {
                "heading_collapsed": true
            },
            "source": [
                "## \u66f8\u5f0f\u306b\u3064\u3044\u3066"
            ]
        },
        {
            "cell_type": "markdown",
            "metadata": {
                "hidden": true
            },
            "source": [
                "\u30b3\u30fc\u30c9\u3092\u66f8\u304f\u969b\u306b\u4ee5\u4e0b\u3092\u6ce8\u610f\u3059\u308b\u3053\u3068\u3002\n",
                "1. \u5206\u304b\u308a\u3084\u3059\u3044\u5909\u6570\u540d\u3092\u4f7f\u3046\u3002\n",
                "    * \u5177\u4f53\u7684\u306a\u5185\u5bb9\u3092\u793a\u3059\u5909\u6570\u540d\u306f\u53ef\u8aad\u6027\u3092\u9ad8\u3081\u308b\u3002\u4f8b\u3048\u3070\u3001\u30a4\u30f3\u30d5\u30ec\u7387\u3092`inflation`\u3001\u30a4\u30f3\u30d5\u30ec\u7387\u306e\u5909\u5316\u3092`inf_change`\u3002\u307e\u305f\u5358\u4f4d\u3092\u542b\u3081\u308b\u3068\u3088\u308a\u5206\u304b\u308a\u3084\u3059\u304f\u306a\u308b\u3002\u4f8b\u3048\u3070\u3001`kg`\u3084`percent`\u3002`var1`\u3084`var2`\u3068\u66f8\u304f\u3068\u3001\u77ed\u304f\u3066\u66f8\u304d\u3084\u3059\u3044\u304c\u3001\u4ed6\u306e\u4eba\u3084\u6570\u30f6\u6708\u5f8c\u306e\u81ea\u5206\u81ea\u8eab\u304c\u8aad\u307f\u8fd4\u3059\u6642\u306b\u975e\u5e38\u306b\u8aad\u307f\u96e3\u3044\u30b3\u30fc\u30c9\u3068\u306a\u308b\u3002\n",
                "1. \u5909\u6570\u3084\u95a2\u6570\u306e\u547d\u540d\u898f\u5247\n",
                "    * \u540d\u306f\u5c0f\u6587\u5b57\u3068\u30a2\u30f3\u30c0\u30fc\u30b9\u30b3\u30a2`_`\u3092\u4f7f\u3046\uff08\u30b9\u30cd\u30fc\u30af\u30fb\u30b9\u30b1\u30fc\u30eb\u3068\u547c\u3070\u308c\u308b\uff09\u3002\n",
                "    * \u4f8b\u3048\u3070\u3001`inflation_rate`\u3068\u66f8\u304d\u3001`Inflation`\u3084`InflationRate`\u306f\u907f\u3051\u308b\u3002\u5927\u6587\u5b57\u3067\u59cb\u307e\u308b\u5909\u6570\u306f\u3001\u6163\u4f8b\u3068\u3057\u3066\u30af\u30e9\u30b9\u3068\u547c\u3070\u308c\u308b\u30aa\u30d6\u30b8\u30a7\u30af\u30c8\u306b\u4f7f\u3046\u3002\n",
                "1. \u30a8\u30c7\u30a3\u30c3\u30c8\u30fb\u30e2\u30fc\u30c9\u306e\u30bb\u30eb\u3067\u30b3\u30e1\u30f3\u30c8\u3092\u5165\u308c\u308b\u3002\n",
                "    * \u4f8b\u3048\u3070\u3001`# \u3053\u308c\u306f\u30b3\u30e1\u30f3\u30c8\u3067\u3059\u3002`\n",
                "    * \u76ee\u7684\uff1a\u53ef\u8aad\u6027\u3092\u9ad8\u3081\u308b\u3002\u4f55\u3092\u66f8\u3044\u3066\u3044\u308b\u304b\u3092\u78ba\u8a8d\u3057\u306a\u304c\u3089\u30b3\u30fc\u30c9\u3092\u66f8\u304f\u3053\u3068\u304c\u3067\u304d\u308b\u3002\n",
                "    * \u884c\u982d\u306b\u306b`#`\u3092\u633f\u5165\u3059\u308b\u3053\u3068\u3092\u30b3\u30e1\u30f3\u30c8\u30fb\u30a2\u30a6\u30c8\uff08commet out\uff09\u3068\u3044\u3046\u3002\u30b3\u30e1\u30f3\u30c8\u30fb\u30a2\u30a6\u30c8\u3055\u308c\u305f\u30b3\u30fc\u30c9\u306f\u5b9f\u884c\u3055\u308c\u306a\u3044\u3002\n",
                "    * \uff08Tip\uff09\u884c\u982d\u306b`#`\u3092\u633f\u5165\u307e\u305f\u306f\u524a\u9664\u3059\u308b\u30c8\u30b0\u30eb\u306e\u30b7\u30e7\u30fc\u30c8\u30ab\u30c3\u30c8\u3002\n",
                "        * Mac\u306e\u5834\u5408\u3001\u30c8\u30b0\u30eb\u3057\u305f\u3044\u884c\u306b\u30ab\u30fc\u30bd\u30eb\u3092\u7f6e\u304d`Command`\u3092\u62bc\u3057\u305f\u307e\u307e`/`\u3092\u62bc\u4e0b\u3059\u308b\uff08`Cmd+/`\uff09\u3002\u8907\u6570\u884c\u3092\u30c8\u30b0\u30eb\u3057\u305f\u3044\u5834\u5408\u306f\u3001\u305d\u308c\u3089\u3092\u30cf\u30a4\u30e9\u30a4\u30c8\u3057`Cmd+/`\u3002\n",
                "        * Windows\u306e\u5834\u5408\u3001\u30c8\u30b0\u30eb\u3057\u305f\u3044\u884c\u306b\u30ab\u30fc\u30bd\u30eb\u3092\u7f6e\u304d`Control`\u3092\u62bc\u3057\u305f\u307e\u307e`/`\u3092\u62bc\u4e0b\u3059\u308b\uff08`Ctrl+/`\uff09\u3002\u8907\u6570\u884c\u3092\u30c8\u30b0\u30eb\u3057\u305f\u3044\u5834\u5408\u306f\u3001\u305d\u308c\u3089\u3092\u30cf\u30a4\u30e9\u30a4\u30c8\u3057`Ctrl+/`\u3002\n",
                "1. \u30a4\u30f3\u30c7\u30f3\u30c8\u3092\u99c6\u4f7f\u3057\u3066\u53ef\u8aad\u6027\u3092\u9ad8\u3081\u308b\u3002\uff08\u4ee5\u4e0b\u306e\u4f8b\u3067\u6539\u884c\u306f\u5fc5\u8981\u306a\u3044\u304b\u3082\u3057\u308c\u306a\u3044\u304c\u3001\uff11\u884c\u304c\u9577\u3044\u5834\u5408\u306b\u5f79\u7acb\u3064\uff09\n",
                "    * `(`\u3068`)`\u306e\u9593\u306f\u6539\u884c\u3057\u3066\u3082\u30a8\u30e9\u30fc\u306b\u306a\u3089\u306a\u3044\u3002\n",
                "        ```\n",
                "        my_func(a = 10,\n",
                "                b = 5,\n",
                "                c = 0)\n",
                "        ```\n",
                "    * \u6539\u884c\u3057\u305f\u3044\u7b87\u6240\u306b`\\`\u3092\u5165\u308c\u308b\u3002\uff08Jupyter Notebook\u3067\u306f`{}`\u306e\u9593\u306b\u6539\u884c\u3092\u5165\u308c\u3066\u3082\u30a8\u30e9\u30fc\u306b\u306a\u3089\u306a\u3044\uff09\n",
                "        ```\n",
                "        my_dict = {a:10, \\\n",
                "                   b:5,  \\\n",
                "                   c:[1,2]}\n",
                "        ```\n",
                "1. \u30b9\u30da\u30fc\u30b9\u3084\u884c\u9593\u3092\u958b\u3051\u8aad\u307f\u3084\u3059\u304f\u3059\u308b\u3002\n",
                "    ```\n",
                "    # \u60aa\u3044\u4f8b\n",
                "    def func(x,y):\n",
                "        return x*100+y\n",
                "\n",
                "    # \u826f\u3044\u4f8b\n",
                "    def meter_and_centimeter_to_centimer(meter, centimeter):\n",
                "        return meter * 100 + centimeter\n",
                "    ```"
            ]
        },
        {
            "cell_type": "markdown",
            "metadata": {
                "heading_collapsed": true
            },
            "source": [
                "## \u30b9\u30b3\u30fc\u30d7"
            ]
        },
        {
            "cell_type": "markdown",
            "metadata": {
                "hidden": true
            },
            "source": [
                "\u30b9\u30b3\u30fc\u30d7\u3068\u306f\u3001\u5909\u6570\u304c\u6240\u5c5e\u3057\u76f4\u63a5\u30a2\u30af\u30bb\u30b9\u3067\u304d\u308b\u30b3\u30fc\u30c9\u306e\u4e2d\u306e\u300c\u9818\u57df\u300d\u3092\u793a\u3059\u3002\u985e\u4f3c\u3059\u308b\u6982\u5ff5\u306b\u540d\u524d\u7a7a\u9593\uff08Namespace\uff09\u3082\u3042\u308b\u304c\u3001\u30b9\u30b3\u30fc\u30d7\u306e\u60c5\u5831\u3092\u8a18\u3059\u300c\u8868\u300d\u306e\u3053\u3068\u3067\u3042\u308a\u3001\u30b9\u30b3\u30fc\u30d7\uff08Scope\uff09\u3068\u540c\u7fa9\u3068\u7406\u89e3\u3059\u308c\u3070\u826f\u3044\u3002\n",
                "\n",
                "\u3053\u3053\u3067\u306f\u57fa\u672c\u7684\u306b\u4ee5\u4e0b\u306e\u3088\u3046\u306b\u7406\u89e3\u3059\u308c\u3070\u826f\u3044\u3067\u3042\u308d\u3046\u3002\n",
                "1. Jupyter Notebook\u3092\u958b\u59cb\u3057\u305f\u6642\u70b9\u304b\u3089`global\u30b9\u30b3\u30fc\u30d7`\u304c\u59cb\u307e\u308b\u3002\n",
                "1. \u95a2\u6570\u3092\u5b9a\u7fa9\u3059\u308b\u3068\u3001\u305d\u306e\u95a2\u6570\u306e\u7bc4\u56f2\u5185\u3067`local\u30b9\u30b3\u30fc\u30d7`\u304c\u751f\u6210\u3055\u308c\u308b\u3002\n",
                "1. \u95a2\u6570\u306e\u4e2d\u3067\u5165\u308c\u5b50\u306e\u95a2\u6570\u3092\u5b9a\u7fa9\u3059\u308b\u3068\u3001\u305d\u306e\u5165\u308c\u5b50\u95a2\u6570\u306e\u7bc4\u56f2\u5185\u3067\u3088\u308a\u72ed\u3044`local\u30b9\u30b3\u30fc\u30d7`\u304c\u751f\u6210\u3055\u308c\u308b\u3002\n",
                "1. `global\u30b9\u30b3\u30fc\u30d7`\u3067\u5b9a\u7fa9\u3055\u308c\u305f\u5909\u6570\u306f\u3001`local\u30b9\u30b3\u30fc\u30d7`\uff08\u5165\u308c\u5b50\u95a2\u6570\u306e\u3088\u308a\u72ed\u3044`local\u30b9\u30b3\u30fc\u30d7`\u3082\u542b\u3080\uff09\u304b\u3089\u30a2\u30af\u30bb\u30b9\u3067\u304d\u308b\u304c\u3001`global\u30b9\u30b3\u30fc\u30d7`\u304b\u3089`local\u30b9\u30b3\u30fc\u30d7`\uff08\u5165\u308c\u5b50\u95a2\u6570\u306e\u3088\u308a\u72ed\u3044`local\u30b9\u30b3\u30fc\u30d7`\u3082\u542b\u3080\uff09\u306e\u5909\u6570\u306b\u306f\u30a2\u30af\u30bb\u30b9\u3067\u304d\u306a\u3044\u3002\n",
                "1. \u95a2\u6570\u5185\u306e`local\u30b9\u30b3\u30fc\u30d7`\u3067\u5b9a\u7fa9\u3055\u308c\u305f\u5909\u6570\u306f\u3001\u5165\u308c\u5b50\u95a2\u6570\u306e\u3088\u308a\u72ed\u3044`local\u30b9\u30b3\u30fc\u30d7`\u304b\u3089\u30a2\u30af\u30bb\u30b9\u3067\u304d\u308b\u304c\u3001\u89aa\u95a2\u6570\u306e\u30b9\u30b3\u30fc\u30d7\u304b\u3089\u5165\u308c\u5b50\u95a2\u6570\u306e\u5909\u6570\u306b\u306f\u30a2\u30af\u30bb\u30b9\u3067\u304d\u306a\u3044\u3002\n",
                "\n",
                "\u6b21\u306e\u4f8b\u3092\u8003\u3048\u3088\u3046\u3002"
            ]
        },
        {
            "cell_type": "markdown",
            "metadata": {
                "heading_collapsed": true,
                "hidden": true
            },
            "source": [
                "### \u4f8b\uff11"
            ]
        },
        {
            "cell_type": "code",
            "execution_count": null,
            "metadata": {},
            "outputs": [],
            "source": [
                "\n",
                "\n",
                "",
                "",
                ""
            ]
        },
        {
            "cell_type": "code",
            "execution_count": null,
            "metadata": {},
            "outputs": [],
            "source": []
        },
        {
            "cell_type": "code",
            "execution_count": null,
            "metadata": {},
            "outputs": [],
            "source": []
        },
        {
            "cell_type": "markdown",
            "metadata": {
                "heading_collapsed": true,
                "hidden": true
            },
            "source": [
                "### \u4f8b\uff12"
            ]
        },
        {
            "cell_type": "code",
            "execution_count": null,
            "metadata": {},
            "outputs": [],
            "source": [
                "\n",
                "\n",
                "",
                "",
                ""
            ]
        },
        {
            "cell_type": "markdown",
            "metadata": {
                "hidden": true
            },
            "source": [
                "`global\u30b9\u30b3\u30fc\u30d7`\u304b\u3089`a_local`\u3092\u30a2\u30af\u30bb\u30b9\u3059\u308b\u3068\u6b21\u306e\u30a8\u30e9\u30fc\u304c\u767a\u751f\u3059\u308b\u3002"
            ]
        },
        {
            "cell_type": "code",
            "execution_count": null,
            "metadata": {},
            "outputs": [],
            "source": []
        },
        {
            "cell_type": "markdown",
            "metadata": {
                "heading_collapsed": true,
                "hidden": true
            },
            "source": [
                "### \u6559\u8a13"
            ]
        },
        {
            "cell_type": "markdown",
            "metadata": {
                "hidden": true
            },
            "source": [
                "\u95a2\u6570\u5185\u3067\u4f7f\u3046\u5909\u6570\u306f\u95a2\u6570\u5185\u3067\u5b9a\u7fa9\u3059\u308b\u65b9\u304c\u610f\u56f3\u3057\u306a\u3044\u7d50\u679c\u306b\u3064\u306a\u304c\u308b\u30ea\u30b9\u30af\u3092\u8efd\u6e1b\u3067\u304d\u308b\u3002\u3053\u306e\u70b9\u3092\u8aac\u660e\u3059\u308b\u305f\u3081\u306b\u6b21\u306e\u4f8b\u3092\u8003\u3048\u3088\u3046\u3002"
            ]
        },
        {
            "cell_type": "code",
            "execution_count": null,
            "metadata": {},
            "outputs": [],
            "source": [
                "\n",
                "\n",
                "",
                "",
                "",
                ""
            ]
        },
        {
            "cell_type": "markdown",
            "metadata": {
                "hidden": true
            },
            "source": [
                "**\u77e5\u3089\u305a\u306b**\u4ee5\u4e0b\u3092\u8a2d\u5b9a\u3057\u3066\u3044\u305f\u3068\u3057\u3088\u3046\u3002"
            ]
        },
        {
            "cell_type": "code",
            "execution_count": null,
            "metadata": {},
            "outputs": [],
            "source": []
        },
        {
            "cell_type": "code",
            "execution_count": null,
            "metadata": {},
            "outputs": [],
            "source": []
        },
        {
            "cell_type": "markdown",
            "metadata": {
                "hidden": true
            },
            "source": [
                "\u3053\u306e\u3088\u3046\u306a\u9593\u9055\u3044\u306f\u95a2\u6570\u5185\u3067\u5909\u6570\u3092\u5b9a\u7fa9\u3059\u308b\u3053\u3068\u3067\u56de\u907f\u3067\u304d\u308b\u3002"
            ]
        },
        {
            "cell_type": "code",
            "execution_count": null,
            "metadata": {},
            "outputs": [],
            "source": [
                "\n",
                "\n",
                "",
                "",
                ""
            ]
        },
        {
            "cell_type": "markdown",
            "metadata": {
                "heading_collapsed": true
            },
            "source": [
                "## \u6d6e\u52d5\u5c0f\u6570\u70b9\u578b\u306b\u3064\u3044\u3066"
            ]
        },
        {
            "cell_type": "markdown",
            "metadata": {
                "heading_collapsed": true,
                "hidden": true
            },
            "source": [
                "### \u8868\u8a18"
            ]
        },
        {
            "cell_type": "markdown",
            "metadata": {
                "hidden": true
            },
            "source": [
                "`Python`\u3067\u306f\u6307\u6570\u8868\u73fe\u304c\u3088\u304f\u4f7f\u308f\u308c\u308b\u3002\n",
                "\n",
                "`5.123e2`$= 5.123\\times 10^{2}$\n",
                "\n",
                "`5.123e-2`$= 5.123\\times 10^{-2}$\n",
                "\n",
                "\u3053\u306e\u4f8b\u3067`5.123`\u306e\u90e8\u5206\u306f\u300c\u4eee\u6570\u300d\uff08mantissa \u3082\u3057\u304f\u306f significand\uff09\u3068\u547c\u3070\u308c\u308b\u3002"
            ]
        },
        {
            "cell_type": "markdown",
            "metadata": {
                "heading_collapsed": true,
                "hidden": true
            },
            "source": [
                "### \u7cbe\u5ea6"
            ]
        },
        {
            "cell_type": "markdown",
            "metadata": {
                "hidden": true
            },
            "source": [
                "$1/3$\u3092\u8003\u3048\u3088\u3046\u3002\n",
                "\n",
                "$\\dfrac{1}{3}=0.333333333333333333\\cdots\\cdots\\cdots$\n",
                "\n",
                "\u3068\u306a\u308a\u6c38\u9060\u306b3\u304c\u7d9a\u304f\u3002\u30b3\u30f3\u30d4\u30e5\u30fc\u30bf\u306e\u30e1\u30e2\u30ea\u306e\u5bb9\u91cf\u306f\u6709\u9650\u3067\u3042\u308b\u305f\u3081\u3001\u7121\u9650\u306b\u7d9a\u304f3\u3092\u30e1\u30e2\u30ea\u306b\u4fdd\u5b58\u3057\u3059\u308b\u3053\u3068\u306f\u4e0d\u53ef\u80fd\u3067\u3042\u308b\u3002\u5f93\u3063\u3066\u3001\u3069\u3053\u304b\u3067\u5207\u65ad\u3057\u3066$1/3$\u306e\u8fd1\u4f3c\u5024\u3092\u4fdd\u5b58\u3059\u308b\u5fc5\u8981\u304c\u3042\u308b\u3002\u3053\u308c\u3068\u540c\u3058\u3088\u3046\u306a\u3053\u3068\u3092Python\u306f\u884c\u3063\u3066\u3044\u308b\u300210\u9032\u6cd5\u306e\u6570\u5b57\u30922\u9032\u6cd5\u306b\u5909\u63db\u3057\u3001\u8a08\u7b97\u7d50\u679c\u309210\u9032\u6cd5\u306b\u5909\u63db\u3057\u8868\u793a\u3059\u308b\u3002\u305d\u306e\u969b\u3001\u591a\u304f\u306e\u6570\u5b57\u306f$1/3$\u3068\u540c\u3058\u3088\u3046\u306b\u8fd1\u4f3c\u5024\u3068\u306a\u308b\u3002\u305d\u306e\u7d50\u679c\u3001\u8ab0\u3067\u3082\u304a\u304b\u3057\u3044\u3068\u601d\u3046\u7d50\u679c\u304c\u767a\u751f\u3059\u308b\u3053\u3068\u306b\u306a\u308b\u3002"
            ]
        },
        {
            "cell_type": "code",
            "execution_count": null,
            "metadata": {},
            "outputs": [],
            "source": []
        },
        {
            "cell_type": "markdown",
            "metadata": {
                "hidden": true
            },
            "source": [
                "`0.3`\u3068`0.1`\u3068\u8868\u793a\u3055\u308c\u3066\u3044\u308b\u304c\u3001\u5b9f\u969b\u306b\u306f\u8fd1\u4f3c\u5024\u3067\u8a08\u7b97\u3057\u3066\u3044\u308b\u3002\u305d\u306e\u8fd1\u4f3c\u5024\u3092\u8868\u793a\u3059\u308b\u3068"
            ]
        },
        {
            "cell_type": "code",
            "execution_count": null,
            "metadata": {},
            "outputs": [],
            "source": []
        },
        {
            "cell_type": "markdown",
            "metadata": {
                "hidden": true
            },
            "source": [
                "\u3053\u3053\u3067`'.55f'`\u306f\u5c0f\u6570\u70b9\u4ee5\u4e0b55\u6841\u3092\u8868\u793a\u3055\u305b\u308b\u5f15\u6570\u3002\u540c\u69d8\u306b\u3001"
            ]
        },
        {
            "cell_type": "code",
            "execution_count": null,
            "metadata": {},
            "outputs": [],
            "source": []
        },
        {
            "cell_type": "markdown",
            "metadata": {
                "hidden": true
            },
            "source": [
                "\u307e\u305f\u3001\u3053\u306e\u554f\u984c\u306f\u5024\u304c\u5c0f\u3055\u306a\u5834\u5408\u3060\u3051\u3067\u306f\u306a\u304f\u3001\u5927\u304d\u3044\u5024\u306e\u5834\u5408\u306b\u3082\u985e\u4f3c\u3059\u308b\u554f\u984c\u304c\u3042\u308b\u3002"
            ]
        },
        {
            "cell_type": "code",
            "execution_count": null,
            "metadata": {},
            "outputs": [],
            "source": []
        },
        {
            "cell_type": "code",
            "execution_count": null,
            "metadata": {},
            "outputs": [],
            "source": []
        },
        {
            "cell_type": "markdown",
            "metadata": {
                "hidden": true
            },
            "source": [
                "\u3053\u306e\u7d50\u679c\u306f\u671f\u5f85\u3069\u304a\u308a\u3067\u3042\u308b\u304c\u3001\u6b21\u306e\u4f8b\u306f\u305d\u3046\u3067\u306f\u306a\u3044\u3002"
            ]
        },
        {
            "cell_type": "code",
            "execution_count": null,
            "metadata": {},
            "outputs": [],
            "source": []
        },
        {
            "cell_type": "code",
            "execution_count": null,
            "metadata": {},
            "outputs": [],
            "source": []
        },
        {
            "cell_type": "markdown",
            "metadata": {
                "hidden": true
            },
            "source": [
                "\u3053\u308c\u306f\u6d6e\u52d5\u5c0f\u6570\u70b9\u578b\u3067\u6b63\u78ba\u306b\u8868\u793a\u3067\u304d\u308b\u6700\u5927\u306e10\u9032\u6570\u6841\u304c15\u3067\u3042\u308b\u305f\u3081\u306b\u767a\u751f\u3059\u308b\u3002\u5f93\u3063\u3066\u3001\u6d6e\u52d5\u5c0f\u6570\u70b9\u578b\u306b`==`\u3092\u4f7f\u3044\u771f\u507d\u3092\u78ba\u304b\u3081\u308b\u306e\u306f**\u5371\u967a**\u3067\u3042\u308b\u3002\n",
                "\n",
                "\u89e3\u6c7a\u7b56\u3068\u3057\u3066`numpy`\u306e`isclose()`\u95a2\u6570\u3092\u4f7f\u3046\u3053\u3068\u304c\u3067\u304d\u308b\u3002\u3053\u306e\u95a2\u6570\u306f\uff12\u3064\u306e\u5024\u304c\u5341\u5206\u306b\u8fd1\u3044\u5834\u5408\u306f`True`\u3092\u8fd4\u3059\u3002\u3067\u306f\u3001\u3069\u308c\u3060\u3051\u8fd1\u3044\u5834\u5408\u306b`True`\u3092\u8fd4\u3059\u306e\u304b\uff1f\u8a73\u7d30\u306f[\u30de\u30cb\u30e5\u30a2\u30eb](https://docs.scipy.org/doc/numpy-1.15.0/reference/generated/numpy.isclose.html)\u3092\u53c2\u7167\u3002"
            ]
        },
        {
            "cell_type": "code",
            "execution_count": null,
            "metadata": {},
            "outputs": [],
            "source": [
                "\n"
            ]
        },
        {
            "cell_type": "markdown",
            "metadata": {
                "hidden": true
            },
            "source": [
                "\u4e00\u65b9\u3001`2.0**53`\u306e\u4f8b\u306f\u6841\u306e\u5236\u9650\u306b\u9054\u3057\u3066\u3044\u308b\u305f\u3081\u5bfe\u5fdc\u4e0d\u53ef\u80fd\u3067\u3042\u308b\u3002"
            ]
        },
        {
            "cell_type": "markdown",
            "metadata": {
                "heading_collapsed": true
            },
            "source": [
                "## \u5909\u6570\u3068\u30aa\u30d6\u30b8\u30a7\u30af\u30c8"
            ]
        },
        {
            "cell_type": "markdown",
            "metadata": {
                "heading_collapsed": true,
                "hidden": true
            },
            "source": [
                "### \u5909\u6570\u3068\u30aa\u30d6\u30b8\u30a7\u30af\u30c8\u306e\u95a2\u4fc2"
            ]
        },
        {
            "cell_type": "markdown",
            "metadata": {
                "hidden": true
            },
            "source": [
                "`Python`\u3067\u306f\u300c\u5168\u3066\u304c\u30aa\u30d6\u30b8\u30a7\u30af\u30c8\u300d\u3068\u8a00\u308f\u308c\u308b\u304c\u3001\u3053\u3053\u3067\u306e\u30aa\u30d6\u30b8\u30a7\u30af\u30c8\u3068\u306f**\u5c5e\u6027**\uff08**\u30c7\u30fc\u30bf**\uff08\u5024\u3084\u6027\u8cea\u306a\u3069\uff09\u3068**\u30e1\u30bd\u30c3\u30c9**\uff08\u5909\u6570\u7279\u6709\u306e\u95a2\u6570\uff09\uff09\u304b\u3089\u69cb\u6210\u3055\u308c\u308b\u96c6\u5408\u4f53\uff08\u300c\u584a\u308a\u300d\uff09\u3092\u6307\u3059\u3002\u4f8b\u3048\u3070\u3001\u6570\u5024`0.1`\u306e\u30aa\u30d6\u30b8\u30a7\u30af\u30c8\u3092\u8003\u3048\u3088\u3046\u3002`dir()`\u3092\u4f7f\u3046\u3068\u3069\u306e\u3088\u3046\u306a\u5c5e\u6027\u304b\u3089\u69cb\u6210\u3055\u308c\u3066\u3044\u308b\u304b\u8868\u793a\u3055\u308c\u308b\u3002"
            ]
        },
        {
            "cell_type": "code",
            "execution_count": null,
            "metadata": {},
            "outputs": [],
            "source": []
        },
        {
            "cell_type": "markdown",
            "metadata": {
                "hidden": true
            },
            "source": [
                "\u4f8b\u3048\u3070\u3001\n",
                "* `real`\u306f\u6570\u5024\u306e\u5b9f\u6570\u90e8\u3092\u793a\u3059\u5c5e\u6027\u3067\u3042\u308a\u3001`0.1`\u306e\u5b9f\u6570\u6570\u5024\u30c7\u30fc\u30bf\u3067\u3042\u308b\u3002\n",
                "* `as_integer_ratio`\u306f\u6709\u7406\u6570\u3068\u3057\u3066\u8868\u3059\u30e1\u30bd\u30c3\u30c9\u3067\u3042\u308a\u3001`\uff08\u5206\u5b50\u3001\u5206\u6bcd\uff09`\u306e\u30bf\u30d7\u30eb\u3068\u3057\u3066\u8fd4\u3059\u3002"
            ]
        },
        {
            "cell_type": "code",
            "execution_count": null,
            "metadata": {},
            "outputs": [],
            "source": []
        },
        {
            "cell_type": "code",
            "execution_count": null,
            "metadata": {},
            "outputs": [],
            "source": []
        },
        {
            "cell_type": "markdown",
            "metadata": {
                "hidden": true
            },
            "source": [
                "\u4e0a\u306e\u4f8b\u3067\u306f\u3001`=`\u3092\u4f7f\u3044`a`\u3084`x`\u306a\u3069\u306e\u5909\u6570\u306b\u300c\u4ee3\u5165\u300d\u3057\u3066\u3044\u306a\u3044\u3053\u3068\u306b\u6ce8\u610f\u3057\u3088\u3046\u3002\u3053\u308c\u306f\u5909\u6570\u304c\u306a\u304f\u3066\u3082`0.1`\u306f\u30aa\u30d6\u30b8\u30a7\u30af\u30c8\u3068\u3057\u3066\u5b58\u5728\u3057\u3066\u3044\u308b\u3053\u3068\u3092\u793a\u3057\u3066\u3044\u308b\u3002\u3067\u306f\u3001\u5909\u6570\u3068\u30aa\u30d6\u30b8\u30a7\u30af\u30c8\u306b\u306f\u3069\u306e\u3088\u3046\u306a\u95a2\u4fc2\u304c\u3042\u308b\u306e\u3060\u308d\u3046\u3002\u5909\u6570`a`\u3092\u5c0e\u5165\u3059\u308b\u305f\u3081\u306b\u6b21\u306e\u3088\u3046\u306b\u66f8\u3044\u3066\u307f\u3088\u3046\u3002"
            ]
        },
        {
            "cell_type": "code",
            "execution_count": null,
            "metadata": {},
            "outputs": [],
            "source": [
                "\n"
            ]
        },
        {
            "cell_type": "markdown",
            "metadata": {
                "hidden": true
            },
            "source": [
                "\u4ee5\u524d\u3001\u6b21\u306e\u8aac\u660e\u3092\u3057\u305f\u3002\n",
                "```{epigraph}\n",
                "\u591a\u304f\u306e\u54c1\u7269\u304c\u4fdd\u7ba1\u3055\u308c\u3066\u3044\u308b\u5927\u304d\u306a\u5009\u5eab\u3092\u8003\u3048\u3066\u307f\u3088\u3046\u3002\u7ba1\u7406\u8005\u306f\u3069\u306e\u54c1\u7269\u304c\u3069\u3053\u306b\u4fdd\u7ba1\u3055\u308c\u3066\u3044\u308b\u304b\u3092\u8a18\u9332\u3059\u308b\u305f\u3081\u306e\u5728\u5eab\u30ea\u30b9\u30c8\uff08\u8a18\u9332\u5e33\u3084\u30b3\u30f3\u30d4\u30e5\u30fc\u30bf\u30fc\u30fb\u30d5\u30a1\u30a4\u30eb\uff09\u3092\u4f5c\u6210\u3057\u3001\u305d\u3053\u306b\u54c1\u7269\u304c\u4fdd\u7ba1\u3055\u308c\u3066\u3044\u308b\u68da\u3092\u793a\u3059\u8a18\u53f7\uff08\u3084\u756a\u53f7\uff09\u3092\u8a18\u5165\u3057\u3066\u3044\u308b\u3068\u3057\u3088\u3046\u3002\u3053\u306e\u4f8b\u3067\u306f\u3001\n",
                "* \u30aa\u30d6\u30b8\u30a7\u30af\u30c8\u3000\u2192\u3000\u5009\u5eab\u306e\u68da\u306b\u4fdd\u7ba1\u3055\u308c\u3066\u3044\u308b\u54c1\u7269\n",
                "* \u5909\u6570\u3000\u2192\u3000\u5728\u5eab\u30ea\u30b9\u30c8\u306b\u8a18\u8f09\u3055\u308c\u3066\u3044\u308b\u68da\u306e\u8a18\u53f7\n",
                "\n",
                "\u3068\u306a\u308b\u3002\u5373\u3061\u3001\u5909\u6570\u306f\u54c1\u7269\u306e\u5b9f\u614b\u3068\u306f\u7570\u306a\u308b\u5358\u306a\u308b\u300c\u53c2\u7167\u8a18\u53f7\u300d\u306a\u306e\u3067\u3042\u308b\u3002\n",
                "```\n",
                "\n",
                "\u4e0a\u306e\u4f8b\u306e`0.1`\u304cPC\u306e\u30e1\u30e2\u30ea\u306b\u4fdd\u5b58\u3055\u308c\u305f\u300c\u54c1\u7269\u300d\u3067\u3042\u308a\uff0c`a`\u306f\u53c2\u7167\u8a18\u53f7\u3067\u3042\u308b\u3002\u305d\u306e\u53c2\u7167\u8a18\u53f7\u3092\u4f7f\u3063\u3066\uff0c`0.1`\u306e\u5c5e\u6027`real`\u306b\u30a2\u30af\u30bb\u30b9\u3057\u305f\u308a\uff0c\u30e1\u30bd\u30c3\u30c9`as_integer_ratio()`\u3092\u4f7f\u3063\u3066\u6709\u7406\u6570\u3068\u3057\u3066\u8868\u793a\u3057\u3066\u3044\u308b\u3002\n",
                "\n",
                "\u5b9f\u306f\u3001\u3053\u306e\u8003\u3048\u65b9\uff08\u54c1\u7269\u3068\u53c2\u7167\u8a18\u53f7\u306e\u95a2\u4fc2\uff09\u306f\u95a2\u6570\u306e\u540d\u524d\u3068\u30aa\u30d6\u30b8\u30a7\u30af\u30c8\u3068\u3057\u3066\u306e\u95a2\u6570\u306e\u95a2\u4fc2\u306b\u3082\u5f53\u3066\u306f\u307e\u308b\u3002\u5909\u6570\u3068\u30aa\u30d6\u30b8\u30a7\u30af\u30c8\u306e\u3053\u306e\u3088\u3046\u306a\u95a2\u4fc2\u306b\u3088\u308a\u3001\u95a2\u6570\u304c\u30e1\u30bd\u30c3\u30c9\u3084\u95a2\u6570\u306e\u5f15\u6570\u306b\u306a\u308b\u3053\u3068\u304c\u53ef\u80fd\u3068\u306a\u308a\u3001\u95a2\u6570\u306e\u8fd4\u308a\u5024\u306b\u3082\u306a\u308a\u5f97\u308b\u306e\u3067\u3042\u308b\u3002"
            ]
        },
        {
            "cell_type": "markdown",
            "metadata": {
                "heading_collapsed": true,
                "hidden": true
            },
            "source": [
                "### \u30aa\u30d6\u30b8\u30a7\u30af\u30c8\u3068\u30e1\u30e2\u30ea\u30fc\u30fb\u30a2\u30c9\u30ec\u30b9"
            ]
        },
        {
            "cell_type": "markdown",
            "metadata": {
                "hidden": true
            },
            "source": [
                "Python\u306e\u30aa\u30d6\u30b8\u30a7\u30af\u30c8\u3092\u3082\u3046\u5c11\u3057\u8003\u3048\u3066\u307f\u3088\u3046\u3002\u30aa\u30d6\u30b8\u30a7\u30af\u30c8\u306f\u30b3\u30f3\u30d4\u30e5\u30fc\u30bf\u30fc\u5185\u306e\u30e1\u30e2\u30ea\u306b\u4fdd\u5b58\u3055\u308c\u3001\u76f4\u3050\u306b\u8a08\u7b97\u306a\u3069\u306b\u4f7f\u3048\u308b\u3088\u3046\u306b\u6e96\u5099\u3055\u308c\u3066\u3044\u308b\u3002\u4f8b\u3048\u3070\u3001`0.1`\u3068\u3044\u3046\u30aa\u30d6\u30b8\u30a7\u30af\u30c8\u3092\u751f\u6210\u3057\u3066\u307f\u308b\u3002"
            ]
        },
        {
            "cell_type": "code",
            "execution_count": null,
            "metadata": {},
            "outputs": [],
            "source": []
        },
        {
            "cell_type": "markdown",
            "metadata": {
                "hidden": true
            },
            "source": [
                "\u30b3\u30f3\u30d4\u30e5\u30fc\u30bf\u30fc\u30fb\u30e1\u30e2\u30ea\u30fc\u306b\u306f\u4f4f\u6240\u306e\u3088\u3046\u306b\u30ed\u30b1\u30fc\u30b7\u30e7\u30f3\u3092\u793a\u3059\u30e1\u30e2\u30ea\u30fc\u30fb\u30a2\u30c9\u30ec\u30b9\uff08\u4ee5\u4e0b\u3067\u306f\u300c\u30a2\u30c9\u30ec\u30b9\u300d\u3068\u547c\u3076\uff09\u304c\u3042\u308a\u3001`id()`\u95a2\u6570\u3092\u4f7f\u3046\u3068\u305d\u308c\u3092\u8868\u793a\u3059\u308b\u3053\u3068\u304c\u3067\u304d\u308b\u3002"
            ]
        },
        {
            "cell_type": "code",
            "execution_count": null,
            "metadata": {},
            "outputs": [],
            "source": []
        },
        {
            "cell_type": "markdown",
            "metadata": {
                "hidden": true
            },
            "source": [
                "\uff12\u3064\u306e\u30aa\u30d6\u30b8\u30a7\u30af\u30c8\u304c\u540c\u4e00\u306e\u3082\u306e\u304b\u3069\u3046\u304b\u3092\u78ba\u8a8d\u3059\u308b\u306b\u306f\u3001\u3053\u306e\u30a2\u30c9\u30ec\u30b9\u3092\u6bd4\u3079\u308c\u3070\u826f\u3044\u3002\u4f8b\u3048\u3070\u3001`a`\u3068\u540c\u3058\u30aa\u30d6\u30b8\u30a7\u30af\u30c8\u3092\u793a\u3059\u5225\u306e\u53c2\u7167\u8a18\u53f7`b`\u3092\u751f\u6210\u3057\u3088\u3046\u3002"
            ]
        },
        {
            "cell_type": "code",
            "execution_count": null,
            "metadata": {},
            "outputs": [],
            "source": []
        },
        {
            "cell_type": "code",
            "execution_count": null,
            "metadata": {},
            "outputs": [],
            "source": []
        },
        {
            "cell_type": "markdown",
            "metadata": {
                "hidden": true
            },
            "source": [
                "\u30a2\u30c9\u30ec\u30b9\u304c\u540c\u3058\u306a\u306e\u3067\u540c\u3058\u30aa\u30d6\u30b8\u30a7\u30af\u30c8\u3067\u3042\u308b\u3053\u3068\u304c\u78ba\u8a8d\u3067\u304d\u308b\u3002\u307e\u305f\u3001\u30a2\u30c9\u30ec\u30b9\u304c\u7b49\u3057\u3044\u304b\u3069\u3046\u304b\u306f`is`\u3092\u4f7f\u3063\u3066\u78ba\u8a8d\u3059\u308b\u3053\u3068\u3082\u3067\u304d\u308b\u3002"
            ]
        },
        {
            "cell_type": "code",
            "execution_count": null,
            "metadata": {},
            "outputs": [],
            "source": []
        },
        {
            "cell_type": "markdown",
            "metadata": {
                "hidden": true
            },
            "source": [
                "`==`\u3067\u306f\u306a\u3044\u3053\u3068\u306b\u6ce8\u610f\u3057\u3088\u3046\u3002`==`\u306f`10`\u3068\u3044\u3046\u5024\u304c\u540c\u3058\u304b\u3069\u3046\u304b\u3092\u78ba\u8a8d\u3059\u308b\u3060\u3051\u3067\u3001\u30a2\u30c9\u30ec\u30b9\u3068\u306f\u7121\u95a2\u4fc2\u3067\u3042\u308b\u3002"
            ]
        },
        {
            "cell_type": "code",
            "execution_count": null,
            "metadata": {},
            "outputs": [],
            "source": [
                "\n"
            ]
        },
        {
            "cell_type": "code",
            "execution_count": null,
            "metadata": {},
            "outputs": [],
            "source": []
        },
        {
            "cell_type": "markdown",
            "metadata": {
                "hidden": true
            },
            "source": [
                "\u6574\u6570\u3067\u306f$[-5,256]$\u4ee5\u5916\u3053\u306e\u7d50\u679c\u304c\u6210\u308a\u7acb\u3064\u3002$[-5,256]$\u306f\u51e6\u7406\u901f\u5ea6\u3092\u6700\u9069\u5316\u3059\u308b\u305f\u3081\u306b\u3001Python\u306e\u30bb\u30c3\u30b7\u30e7\u30f3\u304c\u59cb\u307e\u308b\u3068\u540c\u6642\u306b\u81ea\u52d5\u3067\u30e1\u30e2\u30ea\u30fc\u306b\u30ad\u30e3\u30c3\u30b7\u30e5\uff08\u4fdd\u5b58\uff09\u3055\u308c\u308b\u305f\u3081\u30a2\u30c9\u30ec\u30b9\u306f\u540c\u3058\u306b\u306a\u308b\u3002\u4f8b\u3048\u3070\u3001\u6b21\u306e`d`\u3068`e`\u306f\u5024\u3082\u30a2\u30c9\u30ec\u30b9\u3082\u540c\u3058\u3067\u3042\u308b\u3002"
            ]
        },
        {
            "cell_type": "code",
            "execution_count": null,
            "metadata": {},
            "outputs": [],
            "source": [
                "\n",
                "\n",
                ""
            ]
        },
        {
            "cell_type": "markdown",
            "metadata": {
                "hidden": true
            },
            "source": [
                "\u6b21\u306b\u95a2\u6570\u3092\u8003\u3048\u3066\u307f\u3088\u3046\u3002"
            ]
        },
        {
            "cell_type": "code",
            "execution_count": null,
            "metadata": {},
            "outputs": [],
            "source": [
                "\n",
                "\n",
                "",
                ""
            ]
        },
        {
            "cell_type": "markdown",
            "metadata": {
                "hidden": true
            },
            "source": [
                "\u3053\u306e\u95a2\u6570\u306e\u30a2\u30c9\u30ec\u30b9\u3082`id()`\u3092\u4f7f\u3044\u78ba\u8a8d\u3067\u304d\u308b\u3002"
            ]
        },
        {
            "cell_type": "code",
            "execution_count": null,
            "metadata": {},
            "outputs": [],
            "source": []
        },
        {
            "cell_type": "markdown",
            "metadata": {
                "hidden": true
            },
            "source": [
                "\uff1c\u6ce8\u610f\uff1e\n",
                "\n",
                "* `id(func())`\u3068\u3059\u308b\u3068\u30a8\u30e9\u30fc\u304c\u767a\u751f\u3059\u308b\u3002`()`\u3092\u4ed8\u3051\u308b\u3068\u300c\u95a2\u6570\u3092\u8a55\u4fa1\u3059\u308b\u300d\u305f\u3081\u3067\u3042\u308b\u3002\n",
                "* `id(func(2))`\u3068\u3059\u308b\u3068\u30a8\u30e9\u30fc\u306f\u767a\u751f\u3057\u306a\u3044\u304c\u3001`func(2)`\u3092\u8a55\u4fa1\u3057\u305f\u7d50\u679c\uff08\u5373\u3061\u3001`4`\uff09\u306e\u30a2\u30c9\u30ec\u30b9\u3092\u8868\u793a\u3059\u308b\u3053\u3068\u306b\u306a\u308b\u3002\n",
                "* `func`\u306f\u95a2\u6570\u306e\u300c\u53c2\u7167\u8a18\u53f7\u300d\u3067\u3042\u308a\u3001\u305d\u308c\u3092\u5f15\u6570\u3068\u3059\u308b\u3053\u3068\u306b\u3088\u308a\u95a2\u6570\u306e\u30a2\u30c9\u30ec\u30b9\u304c\u8868\u793a\u3055\u308c\u308b\u3002"
            ]
        },
        {
            "cell_type": "markdown",
            "metadata": {
                "heading_collapsed": true,
                "hidden": true
            },
            "source": [
                "### \u300c\u6d45\u3044\u30b3\u30d4\u30fc\u300d\u3068\u300c\u6df1\u3044\u30b3\u30d4\u30fc\u300d"
            ]
        },
        {
            "cell_type": "markdown",
            "metadata": {
                "hidden": true
            },
            "source": [
                "\u30aa\u30d6\u30b8\u30a7\u30af\u30c8\u3068\u5909\u6570\u306e\u95a2\u4fc2\u306f\u3001\u5009\u5eab\u306b\u4fdd\u7ba1\u3055\u308c\u3066\u3044\u308b\u5546\u54c1\u3068\u53c2\u7167\u756a\u53f7\u306e\u95a2\u4fc2\u3068\u540c\u3058\u3060\u3068\u8aac\u660e\u3057\u305f\u3002\u3053\u306e\u3088\u3046\u306a\u95a2\u4fc2\u306b\u3088\u308a\u3001\u6b21\u306e\u3088\u3046\u306a\u554f\u984c\u304c\u767a\u751f\u3059\u308b\u3002"
            ]
        },
        {
            "cell_type": "code",
            "execution_count": null,
            "metadata": {},
            "outputs": [],
            "source": [
                "\n"
            ]
        },
        {
            "cell_type": "markdown",
            "metadata": {
                "hidden": true
            },
            "source": [
                "\u30ea\u30b9\u30c8`f`\u306e\u30b3\u30d4\u30fc\u3067\u3042\u308b`g`\u3092\u4f5c\u6210\u3059\u308b\u3002"
            ]
        },
        {
            "cell_type": "code",
            "execution_count": null,
            "metadata": {},
            "outputs": [],
            "source": []
        },
        {
            "cell_type": "markdown",
            "metadata": {
                "hidden": true
            },
            "source": [
                "`g`\u3068`f`\u306f\u540c\u3058\u30aa\u30d6\u30b8\u30a7\u30af\u30c8\u3067\u3042\u308a\u3001`is`\u3067\u78ba\u8a8d\u3067\u304d\u308b\u3002"
            ]
        },
        {
            "cell_type": "code",
            "execution_count": null,
            "metadata": {},
            "outputs": [],
            "source": []
        },
        {
            "cell_type": "markdown",
            "metadata": {
                "hidden": true
            },
            "source": [
                "\u5373\u3061\u3001`g`\u3068`f`\u306f\u5225\u306e\u53c2\u7167\u8a18\u53f7\u3067\u306f\u3042\u308b\u304c\u540c\u3058\u54c1\u7269\u3092\u6307\u3057\u3066\u3044\u308b\u3002\u3053\u3053\u3067\u3001`f`\u306b\u30e1\u30bd\u30c3\u30c9`append()`\u3092\u4f7f\u3063\u3066`100`\u3092\u8ffd\u52a0\u3057\u3088\u3046\u3002"
            ]
        },
        {
            "cell_type": "code",
            "execution_count": null,
            "metadata": {},
            "outputs": [],
            "source": [
                "\n"
            ]
        },
        {
            "cell_type": "markdown",
            "metadata": {
                "hidden": true
            },
            "source": [
                "`g`\u306f\u3069\u3046\u306a\u3063\u3066\u3044\u308b\u304b\u3068\u3044\u3046\u3068"
            ]
        },
        {
            "cell_type": "code",
            "execution_count": null,
            "metadata": {},
            "outputs": [],
            "source": []
        },
        {
            "cell_type": "markdown",
            "metadata": {
                "hidden": true
            },
            "source": [
                "`f`\u3068`g`\u306f\u540c\u3058\u54c1\u7269\u3092\u6307\u3057\u3066\u3044\u308b\u53c2\u7167\u756a\u53f7\u306a\u306e\u3067\u3001\u3053\u306e\u3088\u3046\u306a\u7d50\u679c\u3068\u306a\u308b\u3002\n",
                "\n",
                "`100`\u304c\u8ffd\u52a0\u3055\u308c\u305f\u5f8c\u306e\u30a2\u30c9\u30ec\u30b9\u3092\u8868\u793a\u3057\u3066\u307f\u3088\u3046\u3002"
            ]
        },
        {
            "cell_type": "code",
            "execution_count": null,
            "metadata": {},
            "outputs": [],
            "source": []
        },
        {
            "cell_type": "markdown",
            "metadata": {
                "hidden": true
            },
            "source": [
                "`100`\u304c\u8ffd\u52a0\u3055\u308c\u308b\u524d\u306e\u30a2\u30c9\u30ec\u30b9\u3068\u540c\u3058\u3067\u3042\u308b\u3002\u5373\u3061\u3001`append()`\u306f\u5143\u306e\u30aa\u30d6\u30b8\u30a7\u30af\u30c8\u3092\u5909\u5316\u3055\u305b\u3066\u3044\u308b\u3002\u3053\u306e\u3088\u3046\u306a\u3053\u3068\u304c\u767a\u751f\u3059\u308b\u3053\u3068\u3092\u5ff5\u982d\u306b\u7f6e\u3044\u3066`f=g`\u306e\u3088\u3046\u306a\u30b3\u30fc\u30c9\u3092\u66f8\u304f\u3079\u304d\u3067\u3042\u308a\u3001\u3053\u306e\u3053\u3068\u3092\u5fd8\u308c\u308b\u3068\u610f\u56f3\u3057\u306a\u3044\u7d50\u679c\u306b\u3064\u306a\u304c\u308b\u3002\u3053\u306e\u3088\u3046\u306a\u30ea\u30b9\u30af\u3092\u56de\u907f\u3059\u308b\u305f\u3081\u306b\u306f\u3001\u540c\u3058\u6570\u5024\u306e\u30b3\u30d4\u30fc\u3092\u7570\u306a\u308b\u30aa\u30d6\u30b8\u30a7\u30af\u30c8\u3068\u3057\u3066\u751f\u6210\u3059\u308b\u5fc5\u8981\u304c\u3042\u308b\u3002\u305d\u306e\u305f\u3081\u306b\u306f\u30e1\u30bd\u30c3\u30c9`.copy()`\u3092\u4f7f\u3046\u3002"
            ]
        },
        {
            "cell_type": "code",
            "execution_count": null,
            "metadata": {},
            "outputs": [],
            "source": [
                "\n"
            ]
        },
        {
            "cell_type": "code",
            "execution_count": null,
            "metadata": {},
            "outputs": [],
            "source": []
        },
        {
            "cell_type": "markdown",
            "metadata": {
                "hidden": true
            },
            "source": [
                "`.copy()`\u3067\u751f\u6210\u3057\u305f\u30b3\u30d4\u30fc\u306f**\u300c\u6d45\u3044\u30b3\u30d4\u30fc\u300d**\uff08shallow copy\uff09\u3068\u547c\u3070\u308c\u308b\u3002\u3057\u304b\u3057\u3001\u6d45\u3044\u30b3\u30d4\u30fc\u306e\u5834\u5408\u3067\u3082\u3001\u30ea\u30b9\u30c8\u304c\u4e8c\u91cd\u914d\u5217\uff08\u5165\u308c\u5b50\uff09\u306b\u306a\u3063\u3066\u3044\u308b\u5834\u5408\u306f\u4e0a\u3067\u8aac\u660e\u3057\u305f\u540c\u3058\u554f\u984c\u304c\u767a\u751f\u3059\u308b\u3002\u305d\u306e\u5834\u5408\u306b\u306f\u3001\u6a19\u6e96\u30e9\u30a4\u30d6\u30e9\u30ea`copy`\u306e`deepcopy`\u95a2\u6570\u3092\u4f7f\u3044\u72ec\u7acb\u3057\u305f\u30b3\u30d4\u30fc\u3092\u4f5c\u308b\u3053\u3068\u304c\u53ef\u80fd\u3068\u306a\u308b\u3002\u3053\u308c\u3092**\u300c\u6df1\u3044\u30b3\u30d4\u30fc\u300d**\uff08deep copy\uff09\u547c\u3076\u3002"
            ]
        },
        {
            "cell_type": "code",
            "execution_count": null,
            "metadata": {},
            "outputs": [],
            "source": [
                "\n",
                "\n",
                ""
            ]
        },
        {
            "cell_type": "markdown",
            "metadata": {
                "hidden": true
            },
            "source": [
                "**\uff1c\u4ee5\u4e0b\u306e\u5834\u5408\u306b\u30ea\u30b9\u30c8\u306e\u6d45\u3044\u30b3\u30d4\u30fc\u304c\u751f\u6210\u3055\u308c\u308b\uff1e**\n",
                "1. \u30e1\u30bd\u30c3\u30c9`.copy()`\u306b\u3088\u308b\u30b3\u30d4\u30fc\n",
                "1. `list()`\u95a2\u6570\u306b\u3088\u308b\u30b3\u30d4\u30fc\n",
                "1. \u30ea\u30b9\u30c8\u306e\u30a4\u30f3\u30c7\u30af\u30b7\u30f3\u30b0\uff08indexing\uff09\u304a\u3088\u3073\u30b9\u30e9\u30a4\u30b7\u30f3\u30b0\uff08slicing\uff09\u306b\u3088\u308b\u30b3\u30d4\u30fc"
            ]
        },
        {
            "cell_type": "code",
            "execution_count": null,
            "metadata": {},
            "outputs": [],
            "source": [
                "# list()\u306b\u3088\u308b\u6d45\u3044\u30b3\u30d4\u30fc\n",
                "\n"
            ]
        },
        {
            "cell_type": "code",
            "execution_count": null,
            "metadata": {},
            "outputs": [],
            "source": [
                "# \u30a4\u30f3\u30c7\u30af\u30b7\u30f3\u30b0\n",
                "\n"
            ]
        },
        {
            "cell_type": "code",
            "execution_count": null,
            "metadata": {},
            "outputs": [],
            "source": [
                "# \u30b9\u30e9\u30a4\u30b7\u30f3\u30b0\n",
                "\n"
            ]
        },
        {
            "cell_type": "markdown",
            "metadata": {
                "heading_collapsed": true
            },
            "source": [
                "## NumPy\uff1a\u30d3\u30e5\u30fc\u3068\u30b3\u30d4\u30fc"
            ]
        },
        {
            "cell_type": "markdown",
            "metadata": {
                "hidden": true
            },
            "source": [
                "\u30ea\u30b9\u30c8\u306e\u300c\u6d45\u3044\u30b3\u30d4\u30fc\u300d\u3068\u300c\u6df1\u3044\u30b3\u30d4\u30fc\u300d\u306e\u554f\u984c\u306f`NumPy`\u306b\u3082\u5b58\u5728\u3059\u308b\u3002\u3057\u304b\u3057\u3001\u3053\u308c\u3082`np.copy()`\u95a2\u6570\u3084`array`\u578b\u306e\u30e1\u30bd\u30c3\u30c9`.copy()`\u3067\u56de\u907f\u3059\u308b\u3053\u3068\u304c\u3067\u304d\u308b\u3002\u307e\u305f\u985e\u4f3c\u3059\u308b\u554f\u984c\u3068\u3057\u3066\u30b3\u30d4\u30fc\uff08copy\uff09\u3068\u30d3\u30e5\u30fc\uff08view\uff09\u306e\u9055\u3044\u304c\u3042\u308b\u3002\u4ee5\u4e0b\u3067\u306f\u3053\u306e\u554f\u984c\u3092\u8aac\u660e\u3059\u308b\u3002"
            ]
        },
        {
            "cell_type": "code",
            "execution_count": null,
            "metadata": {},
            "outputs": [],
            "source": []
        },
        {
            "cell_type": "code",
            "execution_count": null,
            "metadata": {},
            "outputs": [],
            "source": [
                "\n"
            ]
        },
        {
            "cell_type": "markdown",
            "metadata": {
                "hidden": true
            },
            "source": [
                "\u3053\u308c\u3092\u30b9\u30e9\u30a4\u30b9\u3057\u3066\u7570\u306a\u308b\u5909\u6570\u3092\u53c2\u7167\u8a18\u53f7\u3068\u3057\u3066\u4f7f\u3046\u3002"
            ]
        },
        {
            "cell_type": "code",
            "execution_count": null,
            "metadata": {},
            "outputs": [],
            "source": [
                "\n"
            ]
        },
        {
            "cell_type": "markdown",
            "metadata": {
                "hidden": true
            },
            "source": [
                "`arr_slice`\u306e`2`\u3092`200`\u306b\u5165\u308c\u66ff\u3048\u308b\u3002"
            ]
        },
        {
            "cell_type": "code",
            "execution_count": null,
            "metadata": {},
            "outputs": [],
            "source": [
                "\n"
            ]
        },
        {
            "cell_type": "markdown",
            "metadata": {
                "hidden": true
            },
            "source": [
                "`arr`\u3092\u8868\u793a\u3057\u3088\u3046\u3002"
            ]
        },
        {
            "cell_type": "code",
            "execution_count": null,
            "metadata": {},
            "outputs": [],
            "source": []
        },
        {
            "cell_type": "markdown",
            "metadata": {
                "hidden": true
            },
            "source": [
                "`arr_slice`\u3092\u5909\u66f4\u3057\u305f\u306b\u3082\u95a2\u308f\u3089\u305a\u3001`arr`\u3082\u5f71\u97ff\u3092\u53d7\u3051\u3066\u3044\u308b\u3002\u3053\u308c\u306f`arr_slice`\u3068`arr`\u304c\u53c2\u7167\u3057\u3066\u3044\u308b\u5143\u306e\u30c7\u30fc\u30bf\u304c\u540c\u3058\u3067\u3042\u308b\u305f\u3081\u306b\u767a\u751f\u3059\u308b\u3002\u5373\u3061\u3001`arr`\u306f\u5143\u306e\u30c7\u30fc\u30bf\u5168\u3066\u3092\u8868\u793a\u3057\u3001`arr_slice`\u306f\u540c\u3058\u30c7\u30fc\u30bf\u306e\u4e00\u90e8\u3092\u8868\u793a\u3057\u3066\u3044\u308b\u306e\u3067\u3042\u308b\u3002`arr_slice`\u3092`arr`\u306e\u30d3\u30e5\u30fc\uff08view\uff09\u3068\u547c\u3076\u3002\n",
                "\n",
                "```{warning}\n",
                "`arr[0] is arr_slice[1]`\u3068\u3057\u3066\u3082`False`\u3068\u306a\u308b\u3002\u30ea\u30b9\u30c8\u3068\u7570\u306a\u308a\u3001`np.array`\u3067\u306f\u305d\u308c\u305e\u308c\u306e\u8981\u7d20\u304c\u30e1\u30e2\u30ea\u30fc\u306b\u914d\u7f6e\u3055\u308c\u3066\u3044\u306a\u3044\u305f\u3081\u3001`indexing`\u3067\u30a2\u30af\u30bb\u30b9\u3059\u308b\u5ea6\u306b\u7d50\u679c\u3092\u30e1\u30e2\u30ea\u30fc\u306b\u914d\u7f6e\u3059\u308b\u3053\u3068\u306b\u306a\u308b\u3002\u3057\u305f\u304c\u3063\u3066`arr[0]`\u3067\u30a2\u30af\u30bb\u30b9\u3059\u308b\u3068\u305d\u306e\u7d50\u679c\u304c\u3042\u308b\u30a2\u30c9\u30ec\u30b9\u306b\u914d\u7f6e\u3055\u308c\u3001\u7d9a\u304f`arr_slice[1]`\u306f\u5225\u306e\u30a2\u30c9\u30ec\u30b9\u306b\u4fdd\u5b58\u3055\u308c\u308b\u3053\u3068\u306b\u306a\u308a`False`\u304c\u8fd4\u3055\u308c\u308b\u3002\n",
                "```"
            ]
        },
        {
            "cell_type": "markdown",
            "metadata": {
                "hidden": true
            },
            "source": [
                "---\n",
                "\u3067\u306f\u3069\u306e\u3088\u3046\u306a\u5834\u5408\u306b`views`\u306b\u306a\u308b\u306e\u304b\u3002\u6b8b\u5ff5\u306a\u304c\u3089\u3001\u8907\u96d1\u306a\u5834\u5408\u5206\u3051\u304c\u5fc5\u8981\u306b\u306a\u308a\u3001\u305d\u308c\u3092\u899a\u3048\u4f7f\u3044\u3053\u306a\u3059\u306b\u306f\u3042\u308b\u7a0b\u5ea6\u306e\u6163\u308c\u304c\u5fc5\u8981\u3060\u308b\u3002\u5f93\u3063\u3066\u3001`view`\u3092\u3069\u3046\u3057\u3066\u3082\u4f7f\u308f\u306a\u304f\u3066\u306f\u306a\u3089\u306a\u3044\u72b6\u6cc1\u3092\u9664\u3044\u3066\u306f\u3001\u4ee5\u4e0b\u306e\u3088\u3046\u306b\u30e1\u30bd\u30c3\u30c9`.copy()`\u3092\u4f7f\u3044\u3001\u30b3\u30d4\u30fc\u3092\u751f\u6210\u3057\u3066\u4f5c\u696d\u3059\u308b\u3053\u3068\u3092\u5f37\u304f\u63a8\u5968\u3059\u308b\u3002`.copy()`\u306f\u300c\u6df1\u3044\u30b3\u30d4\u30fc\u300d\u3092\u751f\u6210\u3059\u308b\u3002"
            ]
        },
        {
            "cell_type": "code",
            "execution_count": null,
            "metadata": {},
            "outputs": [],
            "source": [
                "\n"
            ]
        },
        {
            "cell_type": "markdown",
            "metadata": {
                "hidden": true
            },
            "source": [
                "`arr_copy`\u306e`3`\u3092`300`\u306b\u5165\u308c\u66ff\u3048\u308b\u3002"
            ]
        },
        {
            "cell_type": "code",
            "execution_count": null,
            "metadata": {},
            "outputs": [],
            "source": [
                "\n"
            ]
        },
        {
            "cell_type": "code",
            "execution_count": null,
            "metadata": {},
            "outputs": [],
            "source": []
        },
        {
            "cell_type": "markdown",
            "metadata": {
                "hidden": true
            },
            "source": [
                "`arr`\u306f\u5f71\u97ff\u3092\u53d7\u3051\u3066\u3044\u306a\u3044\u3002\n",
                "\n",
                "\uff1c\u30b3\u30e1\u30f3\u30c8\uff1e\n",
                "\n",
                "`view`\u306e\u5f79\u76ee\u306f\u306a\u3093\u306a\u306e\u304b\u3001\u3068\u3044\u3046\u7591\u554f\u304c\u751f\u3058\u308b\u3002`.copy()`\u306f\u65b0\u305f\u306b\u30aa\u30d6\u30b8\u30a7\u30af\u30c8\u3092\u751f\u6210\u3059\u308b\u304c\u3001`view`\u3067\u3042\u308c\u3070\u65b0\u305f\u306a\u30aa\u30d6\u30b8\u30a7\u30af\u30c8\u3092\u751f\u6210\u3059\u308b\u5fc5\u8981\u304c\u306a\u3044\u3002\u305d\u306e\u5206\u3001\u51e6\u7406\u901f\u5ea6\u304c\u65e9\u304f\u306a\u308b\u306e\u3067\u3042\u308b\u3002\u3057\u304b\u3057\u3001\u5b9f\u8a3c\u5206\u6790\u3067\u884c\u3046\u300c\u901a\u5e38\u300d\u306e\u30c7\u30fc\u30bf\u51e6\u7406\u3067\u3042\u308c\u3070`.copy()`\u3092\u4f7f\u3063\u3066\u554f\u984c\u306a\u3044\u3060\u308d\u3046\u3002"
            ]
        },
        {
            "cell_type": "markdown",
            "metadata": {
                "heading_collapsed": true
            },
            "source": [
                "## Pandas\uff1a\u30d3\u30e5\u30fc\u3068\u30b3\u30d4\u30fc"
            ]
        },
        {
            "cell_type": "markdown",
            "metadata": {
                "hidden": true
            },
            "source": [
                "`NumPy`\u3068\u540c\u3058\u3088\u3046\u306b`Pandas`\u3082\u30d3\u30e5\u30fc\uff08view\uff09\u3068\u30b3\u30d4\u30fc\uff08copy\uff09\u306e\u554f\u984c\u304c\u5b58\u5728\u3059\u308b\u3002\u78ba\u8a8d\u3059\u308b\u305f\u3081\u306b\u3001\u6b21\u306e\u30b3\u30fc\u30c9\u3092\u8003\u3048\u3088\u3046\u3002"
            ]
        },
        {
            "cell_type": "code",
            "execution_count": null,
            "metadata": {},
            "outputs": [],
            "source": [
                "\n",
                "\n",
                ""
            ]
        },
        {
            "cell_type": "code",
            "execution_count": null,
            "metadata": {},
            "outputs": [],
            "source": [
                "\n"
            ]
        },
        {
            "cell_type": "markdown",
            "metadata": {
                "hidden": true
            },
            "source": [
                "`.iloc[]`\u306b\u3088\u308a`view`\u304c\u751f\u6210\u3055\u308c\u3066\u3044\u308b\u3002\n",
                "\n",
                "\u305d\u308c\u3092\u78ba\u8a8d\u3059\u308b\u305f\u3081\u306b\u5143\u306e`DataFrame`\u3067\u3042\u308b`df`\u306e\u8981\u7d20\u3092\u5909\u66f4\u3059\u308b\u3002"
            ]
        },
        {
            "cell_type": "code",
            "execution_count": null,
            "metadata": {},
            "outputs": [],
            "source": [
                "\n"
            ]
        },
        {
            "cell_type": "code",
            "execution_count": null,
            "metadata": {},
            "outputs": [],
            "source": []
        },
        {
            "cell_type": "markdown",
            "metadata": {
                "hidden": true
            },
            "source": [
                "\u3053\u3053\u3067\u306f\u30b9\u30e9\u30a4\u30b7\u30f3\u30b0\u3067\u751f\u6210\u3057\u305f\u5834\u5408\u3092\u8003\u3048\u305f\u304c\u3001\u4ed6\u306e\u5834\u5408\u3067\u3082`view`\u306b\u306a\u3063\u305f\u308a`copy`\u306b\u306a\u3063\u305f\u308a\u3059\u308b\u3002\u5b9f\u306f\u3001`NumPy`\u3068\u540c\u69d8\u306b\u5834\u5408\u308f\u3051\u304c\u8907\u96d1\u3060\u304c\u3001`NumPy`\u306e\u5834\u5408\u3088\u308a\u3082`view`\u306a\u306e\u304b`copy`\u306a\u306e\u304b\u306e\u5224\u5225\u304c\u975e\u5e38\u306b\u96e3\u3057\u3044\u3002\u3057\u304b\u3057\u3001`Pandas`\u306f`view`**\u304b\u3082\u3057\u308c\u306a\u3044**`DataFrame`\u3084`Series`\u306b\u5909\u66f4\u3092\u52a0\u3048\u308b\u3068\u8b66\u544a\u3092\u51fa\u3059\u4ed5\u7d44\u307f\u306b\u306a\u3063\u3066\u3044\u308b\u3002`df_slice`\u3092\u4f7f\u3063\u3066\u8aac\u660e\u3059\u308b\u3002\n",
                "\n",
                "```\n",
                "df_slice.iloc[1,0] = 200\n",
                "```\n",
                "\u3068\u3059\u308b\u3068\u6b21\u306e\u3088\u3046\u306a\u8b66\u544a\u304c\u51fa\u308b\u3002\n",
                "```\n",
                "/Users/my_name/anaconda3/envs/py4etrics/lib/python3.7/site-packages/ipykernel_launcher.py:1: SettingWithCopyWarning: \n",
                "A value is trying to be set on a copy of a slice from a DataFrame\n",
                "\n",
                "See the caveats in the documentation: http://pandas.pydata.org/pandas-docs/stable/user_guide/indexing.html#returning-a-view-versus-a-copy\n",
                "  \"\"\"Entry point for launching an IPython kernel.\n",
                "```"
            ]
        },
        {
            "cell_type": "markdown",
            "metadata": {
                "hidden": true
            },
            "source": [
                "\u3053\u306e\u8b66\u544a\u304c\u51fa\u308b\u5834\u5408\u306f\u3001`view`\u306e\u7591\u3044\u304c\u9ad8\u3044\uff08\u78ba\u5b9a\u3067\u306f\u306a\u3044\uff09\u306e\u3067\u3001`df`\u306e\u30e1\u30bd\u30c3\u30c9`.copy()`\u3092\u4f7f\u3063\u3066\u300c\u6df1\u3044\u30b3\u30d4\u30fc\u300d\u3092\u751f\u6210\u3059\u308b\u3053\u3068\u3092\u85a6\u3081\u308b\u3002\u4ee5\u4e0b\u306e\u4f8b\u3092\u8003\u3048\u3088\u3046\u3002"
            ]
        },
        {
            "cell_type": "code",
            "execution_count": null,
            "metadata": {},
            "outputs": [],
            "source": [
                "\n"
            ]
        },
        {
            "cell_type": "code",
            "execution_count": null,
            "metadata": {},
            "outputs": [],
            "source": [
                "\n"
            ]
        },
        {
            "cell_type": "code",
            "execution_count": null,
            "metadata": {},
            "outputs": [],
            "source": []
        },
        {
            "cell_type": "code",
            "execution_count": null,
            "metadata": {},
            "outputs": [],
            "source": []
        },
        {
            "cell_type": "markdown",
            "metadata": {
                "hidden": true
            },
            "source": [
                "`df_copy`\u306f\u5f71\u97ff\u3092\u53d7\u3051\u3066\u3044\u306a\u3044\u304c\u3001`df_slice`\u306e\u5024\u306f\u5143\u306e\u30c7\u30fc\u30bf\u306e\u5909\u5316\u3092\u53cd\u6620\u3057\u3066\u3044\u308b\u3002"
            ]
        }
    ],
    "metadata": {
        "celltoolbar": "Tags",
        "kernel_info": {
            "name": "py4etrics"
        },
        "kernelspec": {
            "display_name": "latest",
            "language": "python",
            "name": "latest"
        },
        "language_info": {
            "codemirror_mode": {
                "name": "ipython",
                "version": 3
            },
            "file_extension": ".py",
            "mimetype": "text/x-python",
            "name": "python",
            "nbconvert_exporter": "python",
            "pygments_lexer": "ipython3",
            "version": "3.8.3"
        },
        "nteract": {
            "version": "0.22.4"
        }
    },
    "nbformat": 4,
    "nbformat_minor": 2
}