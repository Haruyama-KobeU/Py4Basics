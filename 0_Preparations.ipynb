{
 "cells": [
  {
   "cell_type": "markdown",
   "metadata": {},
   "source": [
    "# 準備：インストールとツールの簡単な説明"
   ]
  },
  {
   "cell_type": "markdown",
   "metadata": {},
   "source": [
    "`Python`のインストールと関連ツールについて簡単な説明をする。\n",
    "* `Python`のインストールと`pip`\n",
    "* `Git`\n",
    "* `Terminal`（Macのみ）\n",
    "* `Git Bash`（Windowsのみ）\n",
    "* `GitHub`\n",
    "* `Jupyter Notebook`\n",
    "\n",
    "また次の点についても述べる。\n",
    "* `pip`について\n",
    "* ゼミ修了後毎回おこなう作業"
   ]
  },
  {
   "cell_type": "markdown",
   "metadata": {
    "heading_collapsed": true
   },
   "source": [
    "## `Python`のインストールと`pip`"
   ]
  },
  {
   "cell_type": "markdown",
   "metadata": {
    "heading_collapsed": true,
    "hidden": true
   },
   "source": [
    "### `Python`のインストール"
   ]
  },
  {
   "cell_type": "markdown",
   "metadata": {
    "heading_collapsed": true,
    "hidden": true
   },
   "source": [
    "#### ダウンロード"
   ]
  },
  {
   "cell_type": "markdown",
   "metadata": {
    "hidden": true
   },
   "source": [
    "`Anaconda`とは`Python`と広く使われるパッケージを一括でダウンロード・インストールできるプラットフォームである。（パッケージについては`Python Basics`で説明する。）\n",
    "* 以下のリンクからMac用もしくはWindows用のインストーラーをダウンロードする。\n",
    "    * [このサイト](https://www.anaconda.com/distribution/#download-section:)\n",
    "    * 必ず`Python 3.x version`を選ぶこと。"
   ]
  },
  {
   "cell_type": "markdown",
   "metadata": {
    "heading_collapsed": true,
    "hidden": true
   },
   "source": [
    "#### Macでのインストール"
   ]
  },
  {
   "cell_type": "markdown",
   "metadata": {
    "hidden": true
   },
   "source": [
    "* `Anaconda`のインストーラーの指示に従いデフォルトでインストールする。"
   ]
  },
  {
   "cell_type": "markdown",
   "metadata": {
    "heading_collapsed": true,
    "hidden": true
   },
   "source": [
    "#### Windowsでのインストール"
   ]
  },
  {
   "cell_type": "markdown",
   "metadata": {
    "hidden": true
   },
   "source": [
    "* 次の点以外は`Anaconda`インストーラーの指示に従いデフォルトでインストールする。\n",
    "* Nextボタンを押していくと`Advanced Option`というが画面が表示される。そこには\n",
    "    1. Add Anaconda to my PATH environment\n",
    "    1. Register Anaconda as my default Python 3.x\n",
    "    の2つのオプションがあるが，2つともチェック・マークをいれる。\n",
    "\n",
    "（説明）１つ目のオプションにチェックを入れることにより下で説明する`Git Bash`で`conda`というコマンドを使うことが可能となる。２つ目のオプションはデフォルトでチェックが入っている（はずである）。\n",
    "\n",
    "（コメント）`Anaconda`をインストールすると様々なソフトが`Python`と一緒にインストールされる。その１つが`Anaconda Prompt`であり，以下で説明する`Git Bash`の代わりに使うこともできる（コマンドは違う）。"
   ]
  },
  {
   "cell_type": "markdown",
   "metadata": {
    "heading_collapsed": true,
    "hidden": true
   },
   "source": [
    "### `pip`"
   ]
  },
  {
   "cell_type": "markdown",
   "metadata": {
    "hidden": true
   },
   "source": [
    "ゼミでは`Anaconda`に含まれていない次のパッケージも使う。\n",
    "* `linearmodels`\n",
    "* `wooldridge`\n",
    "* `lmdiag`\n",
    "* `see`\n",
    "\n",
    "これらをインストールするには，`Anaconda`に含まれている`pip`コマンドを使う。`pip`は以下で説明する`Terminal`（Mac用）もしくは`Git Bash`（Windows用）を使い実行する。4つのパッケージをインストールするコマンド：\n",
    "```\n",
    "pip install linearmodels wooldridge lmdiag see\n",
    "```\n",
    "このコマンドは以下で説明する全てのツールがインストールされた後に実行すること。"
   ]
  },
  {
   "cell_type": "markdown",
   "metadata": {
    "heading_collapsed": true
   },
   "source": [
    "## `Git`（MacとWindows）"
   ]
  },
  {
   "cell_type": "markdown",
   "metadata": {
    "hidden": true
   },
   "source": [
    "* `Git`とは，PC内でコードの履歴管理をするためのアプリ。\n",
    "* MacとWindowsを別々に説明する。"
   ]
  },
  {
   "cell_type": "markdown",
   "metadata": {
    "heading_collapsed": true,
    "hidden": true
   },
   "source": [
    "### Mac"
   ]
  },
  {
   "cell_type": "markdown",
   "metadata": {
    "hidden": true
   },
   "source": [
    "Macには元々インストールされているので再インストールする必要はない。`Terminal`で\n",
    "```\n",
    "which git\n",
    "```\n",
    "を実行すると`git`があるフォルダーが表示される。"
   ]
  },
  {
   "cell_type": "markdown",
   "metadata": {
    "hidden": true
   },
   "source": [
    "---\n",
    "`Git`に`Terminal`を使って名前とメルアドを登録する。\n",
    "```\n",
    "$ git config --global user.name \"LastName_FirstName\"\n",
    "$ git config --global user.email \"example@example.com\"\n",
    "```"
   ]
  },
  {
   "cell_type": "markdown",
   "metadata": {
    "hidden": true
   },
   "source": [
    "### Windows"
   ]
  },
  {
   "cell_type": "markdown",
   "metadata": {
    "hidden": true
   },
   "source": [
    "* [このサイト](https://git-scm.com)から`Git`をダウンロードする。\n",
    "* ダウンロードしたファイルを起動しインストールする。\n",
    "    * `Next`を押していくと様々なオプションが出てくるが次の項目以外はすべてデフォルトを選択する。\n",
    "    * `Choosing the default editor used by Gi`の画面が出てくるので，そのリストの中に使うEditorがあれば選択肢，なければ`Select other editor as Git's default editor`を選択する。下に`Location of editor`と出てくるので，例えば，`メモ帳`を選ぶ。\n",
    "        ```\n",
    "        (メモ帳のパス)　C:¥Windows¥System32¥notepad.exe\n",
    "        ```"
   ]
  },
  {
   "cell_type": "markdown",
   "metadata": {
    "hidden": true
   },
   "source": [
    "---\n",
    "`Git`をインストールすると`Git Bash`がインストールされる。それを使って名前とメルアドを登録する。\n",
    "```\n",
    "$ git config --global user.name \"LastName_FirstName\"\n",
    "$ git config --global user.email \"example@example.com\"\n",
    "```"
   ]
  },
  {
   "cell_type": "markdown",
   "metadata": {
    "heading_collapsed": true
   },
   "source": [
    "## `Terminal`（Mac）と`Git Bash`（Windows）"
   ]
  },
  {
   "cell_type": "markdown",
   "metadata": {
    "hidden": true
   },
   "source": [
    "`Terminal`と`Git Bash`は，コマンド（例えば，`ls`）を入力し，そのコマンドを実行することによりPCを制御する。`Terminal`と`Git Bash`を使う理由は，`Git`と`Github`を使うためである。\n",
    "\n",
    "以下では，必須の3つのコマンドについて説明する。\n",
    "\n",
    "（注意１）以下の説明で\n",
    "* 「コマンド入力」とは`$`の後にコマンドをタイプすること。\n",
    "* 「実行」とはEnter/Returnキーを押すこと。\n",
    "\n",
    "（注意２）\n",
    "* Windowsでは`Git Bash`の代わりに`Anaconda Prompt`を使うこともできる。"
   ]
  },
  {
   "cell_type": "markdown",
   "metadata": {
    "heading_collapsed": true,
    "hidden": true
   },
   "source": [
    "### `pwd`"
   ]
  },
  {
   "cell_type": "markdown",
   "metadata": {
    "hidden": true
   },
   "source": [
    "ハードディスクにあるファイルは階層構造になっているフォルダー（ディレクトリとも呼ばれる）に保存されている。`Terminal`もしくは`Git Bash`自体が「位置する」フォルダーをカレント・ディレクトリ（Current Directory）と呼び，それを表示するためのコマンドが`pwd`（Print Working Directoryの略）である。\n",
    "```\n",
    "pwd\n",
    "```\n",
    "を実行するとカレント・ディレクトリが表示される。\n",
    "```\n",
    "/Users/My_Name/Folder_1/Folder_2\n",
    "```\n",
    "この例では，カレント・ディレクトリは`Folder_2`となっている。"
   ]
  },
  {
   "cell_type": "markdown",
   "metadata": {
    "heading_collapsed": true,
    "hidden": true
   },
   "source": [
    "### `ls`"
   ]
  },
  {
   "cell_type": "markdown",
   "metadata": {
    "hidden": true
   },
   "source": [
    "カレント・ディレクトリにあるファイルやフォルダーを表示するコマンド。`ls`（listの略）の後にオプションを付けることもできる。\n",
    "```\n",
    "ls  # ファイルやフォルダーの表示\n",
    "ls -a  # 隠しファイルと隠しフォルダーも含めて表示\n",
    "```\n",
    "ここで隠しファイルと隠しフォルダーとは，名前が`.`で始まるものであり，通常は見えなくなっている。\n",
    "\n",
    "＜コメント＞\n",
    "* MacのFinderで `Command + Shift + .`とすると隠しファイルと隠しフォルダーの表示・非表示をトグルできる。"
   ]
  },
  {
   "cell_type": "markdown",
   "metadata": {
    "heading_collapsed": true,
    "hidden": true
   },
   "source": [
    "### `cd`"
   ]
  },
  {
   "cell_type": "markdown",
   "metadata": {
    "hidden": true
   },
   "source": [
    "`cd`（Change Directoryの略）は，カレント・ディレクトリーを他のフォルダーに移す場合に使うコマンド。ここでの説明は「相対パス」を使う。基本的な使い方は\n",
    "```\n",
    "cd ＜移動したいフォルダー名＞\n",
    "```\n",
    "の形である。以下では例を挙げる。\n",
    "* 下の階層フォルダーに移動する場合\n",
    "    * 上の例で`Folder_2`の下の階層フォルダーである`Folder_3`に移る場合\n",
    "```\n",
    "cd Folder_3\n",
    "```\n",
    "* 上の階層フォルダーに移動する場合\n",
    "    * `Folder_3`に移った後，`Folder_2`に戻る場合\n",
    "```\n",
    "cd ..\n",
    "```\n",
    "ここで上層フォルダーは１つしかないのでフォルダー名を入れる代わりに`..`で事足りるということ。\n",
    "\n",
    "＜コメント＞\n",
    "\n",
    "ファイル名やフォルダー名を途中まで書いてタブを押すと補完してくれる。"
   ]
  },
  {
   "cell_type": "markdown",
   "metadata": {
    "heading_collapsed": true,
    "hidden": true
   },
   "source": [
    "### Tip for `Git Bash`"
   ]
  },
  {
   "cell_type": "markdown",
   "metadata": {
    "hidden": true
   },
   "source": [
    "上の例で説明した`Folder_2`をカレントディレクトリに設定したいとしよう。その場合，Explorerを開き`Folder_2`を右クリックするとポップアップ・メニューが表示されるので，その中にある`Git Bash Here`をクリックすると`Folder_2`をカレントディレクトリとする`Git Bash`が起動する。"
   ]
  },
  {
   "cell_type": "markdown",
   "metadata": {
    "heading_collapsed": true
   },
   "source": [
    "## `GitHub`（MacとWindows）"
   ]
  },
  {
   "cell_type": "markdown",
   "metadata": {
    "hidden": true
   },
   "source": [
    "`GitHub`とは，コードとコードの履歴をクラウド上で管理し，コード作成の共同作業を手助けするアプリである。アップロードしたコードを公開・非公開に設定することができる。ゼミ生がアップロードしたコードはゼミ内でのみ閲覧可能となります。"
   ]
  },
  {
   "cell_type": "markdown",
   "metadata": {
    "hidden": true
   },
   "source": [
    "---\n",
    "1. `GitHub`の設定\n",
    "    * `Git`の設定で使ったメルアドを使い[このサイト](https://github.com)で無料アカウントを作成し，Student Accountにする。\n",
    "    * これにより１つのレポジトリ（レポ）がつくられる。レポとは，コードをアップロードした際に保存される領域。\n",
    "    * 春山に`username`を知らせる。\n",
    "    * Passwordは後で使うので忘れないように。\n",
    "1. `Git`と`GitHub`の同期の設定\n",
    "    * ゼミだけで使い，`GitHub`と同期させるフォルダーを作成する。\n",
    "        * 以下ではそのフォルダーを`ZF`（ゼミ・フォルダー）と呼ぶ。\n",
    "    * `Terminal`もしくは`Git Bash`を起動し，カレント・ディレクトリを`ZF`にする。\n",
    "    * `ZF`と`GitHub`をコネクトするするために`Terminal`もしくは`Git Bash`で以下を実行する。\n",
    "        ```\n",
    "        git remote add origin <remote repository URL>\n",
    "        ```\n",
    "        ここで`<remote repository URL>`は上で作成したレポのアドレス。\n",
    "    * エディター（例えば，テキストエディットやメモ帳）を使い`README.md`というファイルを`ZF`に作成し，自分の名前を書き込む（日本語）。\n",
    "    * 以下はすべてカレント・ディレクトリを`ZF`にした`Terminal`もしくは`Big Bash`でおこなう。\n",
    "        1. `ZF`を`Git`用に設定する。\n",
    "            ```\n",
    "            git init\n",
    "            ```\n",
    "        2. `Git`にファイル（この場合は`README.md`）の履歴を記録させる準備をする。これは「ステージング」と呼ばれるプロセス。\n",
    "            ```\n",
    "            git stage README.md\n",
    "            ```\n",
    "        3. `Git`にファイルの変更を登録する。これは「コミット」と呼ばれるプロセス。\n",
    "            ```\n",
    "            git commit -m \"First commit\"            \n",
    "            ```\n",
    "            ここで「First Commit」は履歴についてのコメントであり，変更内容について分かりやすいものすること。\n",
    "        4. `GitHub`にファイルをアップロードする。これは「プッシュ」と呼ばれるプロセス。\n",
    "            ```\n",
    "            git push origin master\n",
    "            ```\n",
    "        5. パスワードを求められるので，`GitHub`のパスワードを入力する。"
   ]
  },
  {
   "cell_type": "markdown",
   "metadata": {
    "hidden": true
   },
   "source": [
    "---\n",
    "＜注意＞\n",
    "* `GitHub`のサイトで直接ファイルを変更**しないように！**直接変更する場合は自己責任で。"
   ]
  },
  {
   "cell_type": "markdown",
   "metadata": {
    "heading_collapsed": true
   },
   "source": [
    "## `Jupyter Notebook`（MacとWindows）"
   ]
  },
  {
   "cell_type": "markdown",
   "metadata": {
    "hidden": true
   },
   "source": [
    "`Jupyter Notebook`とは，`Python`をインターアクティブな環境で実行できる非常に使い易いプログラム。"
   ]
  },
  {
   "cell_type": "markdown",
   "metadata": {
    "heading_collapsed": true,
    "hidden": true
   },
   "source": [
    "### 起動と終了（Mac）"
   ]
  },
  {
   "cell_type": "markdown",
   "metadata": {
    "hidden": true
   },
   "source": [
    "* 起動（２つの方法）\n",
    "    1. `Terminal`に`Jupyter Notebook`を入力し実行する。\n",
    "    1. `Anaconda-Navigator`を起動すると`Jupyter Notebook`の大きなアイコンがあり，そこにある`Launch`をクリックする。\n",
    "* 終了\n",
    "    * `Jupyter Notebook`の全てのタブを閉じる。\n",
    "    * `Jupyter Notebook`を起動すると自動で`Terminal`の画面が表示されることになるが，その画面に移り`Control`を押したまま`C`を押して`$`が表示されるようにする。（`Ctlr+C`の代替方法として，別の`Terminal`画面の`$`で`jupyter notebook stop`を実行しても良い。）"
   ]
  },
  {
   "cell_type": "markdown",
   "metadata": {
    "heading_collapsed": true,
    "hidden": true
   },
   "source": [
    "### 起動と終了（Windows）"
   ]
  },
  {
   "cell_type": "markdown",
   "metadata": {
    "hidden": true
   },
   "source": [
    "* 起動（３つの方法）\n",
    "    1. `Git Bash`に`Jupyter Notebook`を入力し実行する。\n",
    "    1. スタートメニューから`Jupyter Notebook`をクリック。\n",
    "    1. `Anaconda-Navigator`を起動すると`Jupyter Notebook`の大きなアイコンがあり，そこにある`Launch`をクリックする。\n",
    "* 終了\n",
    "    * `Jupyter Notebook`の全てのタブを閉じる。\n",
    "    * 次のステップは`Jupyter Notebook`の起動方法によって異なる。\n",
    "        1. `Git Bash`で起動した場合，`Git Bash`が更新される。その画面に戻り`Control`を押したまま`C`を押して`$`が表示されるようにする。（`Ctlr+C`の代替方法として，別の`Git Bash`を起動して`jupyter notebook stop`を実行しても良い。）\n",
    "        1. スタートメニューの`Jupyter Notebook`をクリックした場合，もしくは`Anaconda-Navigator`からを起動した場合，自動で`Anaconda Prompt`というソフトが起動される。その画面に戻り`Control`を押したまま`C`を押して`C:¥Users>`のような表示がでるようににする。（`Ctlr+C`の代替方法として，別の`Anaconda Prompt`を起動して`jupyter notebook stop`を実行しても良い。）"
   ]
  },
  {
   "cell_type": "markdown",
   "metadata": {
    "heading_collapsed": true,
    "hidden": true
   },
   "source": [
    "### 使い方"
   ]
  },
  {
   "cell_type": "markdown",
   "metadata": {
    "hidden": true
   },
   "source": [
    "ブラウザーが起動し`Jupyter Notebook`の最初の画面が表示される。\n",
    "* 最初の画面にはファイルやフォルダーが表示されているので`FZ`に移動する。\n",
    "    * フォルダー名をクリックすると，そのフォルダーに移動する。\n",
    "    * `..`をクリックすると，１階層上のフォルダーに移動する。\n",
    "* 以下の手順で新しいNotebookを作成する\n",
    "    * 画面右上にある`New`をクリックして，表示される`Python 3`をクリックする。\n",
    "    * 画面左上に表示される`Untitled`とクリックしファイル名を変更する。\n",
    "\n",
    "* `Notebook`にある横長の長方形をセルと呼ぶ。主に２種類のセルを使う。\n",
    "    * Codeセル：`Python`コードを書く領域であり，`Shift+Enter`でコードが実行され結果が表示される。\n",
    "        * セルの枠の色が青\n",
    "    * Markdownセル：説明文を書く領域であり，`Shift+Enter`で内容が表示される。\n",
    "        * セルの枠の色が緑\n",
    "        * [Markdown Cheatsheet](https://www.ibm.com/support/knowledgecenter/en/SSGNPV_1.1.3/dsx/markd-jupyter.html)\n",
    "    * セルの変更は，画面中央上に`Code`または`Markdown`と表示されている部分をクリックして該当するセルタイプを選択する。\n",
    "* セル間を移動する２つの方法：\n",
    "    1. 移動先のセルをクリック\n",
    "    1. カーソルがセル内にある状態で`Escape`を押すとコマンド・モードに移り，矢印キーで移動できる。 "
   ]
  },
  {
   "cell_type": "markdown",
   "metadata": {
    "hidden": true
   },
   "source": [
    "---\n",
    "＜Tips＞\n",
    "* Help > Edit Keyboard Shortcutsからショートカットを変更・設定できる。\n",
    "* [Jupyter Notebook Extensions](https://github.com/ipython-contrib/jupyter_contrib_nbextensions)は便利。\n",
    "* コードをより見やすくできるフォントもあるのでトライしてみよう。\n",
    "* Web上にはJupyter Notebookの使い方に関する情報がたくさんあるのでチェックしてみよう。[Google検索結果](https://www.google.co.jp/search?q=jupyter+notebook+%E4%BD%BF%E3%81%84%E6%96%B9)"
   ]
  },
  {
   "cell_type": "markdown",
   "metadata": {
    "heading_collapsed": true
   },
   "source": [
    "## ゼミ修了後毎回おこなう作業"
   ]
  },
  {
   "cell_type": "markdown",
   "metadata": {
    "hidden": true
   },
   "source": [
    "以下の手順で，ゼミ終了後には毎回必ず使った`Jupyter Notebook`を`GitHub`にアップロードすること。\n",
    "1. `Terminal`もしくは`Git Bash`を使い`ZF`をカレント・ディレクトリにする。\n",
    "1. どのファイルが変更されて`GitHub`と同期されていないかをチェックする。\n",
    "    ```\n",
    "    git status\n",
    "    ```\n",
    "1. 変更ファイルのステージング\n",
    "    ```\n",
    "    git stage <file名>\n",
    "    ```\n",
    "1. ファイルのコミット\n",
    "    ```\n",
    "    git commit -m '変更点に関するコメント'\n",
    "    ```\n",
    "1. プッシュ\n",
    "    ```\n",
    "    git push origin master\n",
    "    ```\n",
    "1. `GitHub`のレポをチェック\n",
    "---\n",
    "＜注意＞\n",
    "* `GitHub`のサイトで直接ファイルを変更**しないように！**直接変更する場合は自己責任で。"
   ]
  }
 ],
 "metadata": {
  "kernelspec": {
   "display_name": "Python 3",
   "language": "python",
   "name": "python3"
  },
  "language_info": {
   "codemirror_mode": {
    "name": "ipython",
    "version": 3
   },
   "file_extension": ".py",
   "mimetype": "text/x-python",
   "name": "python",
   "nbconvert_exporter": "python",
   "pygments_lexer": "ipython3",
   "version": "3.7.3"
  }
 },
 "nbformat": 4,
 "nbformat_minor": 2
}
