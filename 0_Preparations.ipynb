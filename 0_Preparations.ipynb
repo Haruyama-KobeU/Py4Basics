{
 "cells": [
  {
   "cell_type": "markdown",
   "metadata": {},
   "source": [
    "# 準備：インストールとツールの簡単な説明"
   ]
  },
  {
   "cell_type": "markdown",
   "metadata": {
    "heading_collapsed": true
   },
   "source": [
    "## 説明"
   ]
  },
  {
   "cell_type": "markdown",
   "metadata": {
    "hidden": true
   },
   "source": [
    "`Python`のインストールと関連ツールについて簡単な説明をする。\n",
    "* `Atom`のインストール\n",
    "* `Python`のインストール\n",
    "* `Git`のインストール\n",
    "* `Terminal`（Mac）と`Git Bash`（Windows）の使い方\n",
    "* `Git`のインストールの確認と設定\n",
    "* `Python`のインストールの確認と設定\n",
    "* `GitHub`の設定\n",
    "* `pip`を使うパッケージのインストール\n",
    "* `Jupyter Notebook`の使い方\n",
    "\n",
    "また次の点についても述べる。\n",
    "* ゼミ終了後毎回おこなう作業"
   ]
  },
  {
   "cell_type": "markdown",
   "metadata": {
    "hidden": true
   },
   "source": [
    "---\n",
    "＜＜ 以下の説明における用語説明 ＞＞\n",
    "* `Terminal`と`Git Bash`ではコマンドを入力する行の最後に`$`が表示される。\n",
    "* 「コマンド入力」とは`$`の後にコマンドをタイプすること。\n",
    "* 「実行」とはEnter/Returnキーを押すこと。"
   ]
  },
  {
   "cell_type": "markdown",
   "metadata": {
    "heading_collapsed": true
   },
   "source": [
    "## `Atom`のインストール"
   ]
  },
  {
   "cell_type": "markdown",
   "metadata": {
    "hidden": true
   },
   "source": [
    "`Atom`はテキスト・ファイルを編集する`Text Editor`と呼ばれる有名なアプリの１つです。授業での活躍の場は多くありませんが，今のうちに慣れるのも良いかと思います。\n",
    "\n",
    "[このリンクから](https://atom.io)からダウンロードし，インストールしましょう。"
   ]
  },
  {
   "cell_type": "markdown",
   "metadata": {
    "heading_collapsed": true
   },
   "source": [
    "## `Python`のインストール"
   ]
  },
  {
   "cell_type": "markdown",
   "metadata": {
    "hidden": true
   },
   "source": [
    "`Anaconda`とは`Python`と広く使われるパッケージを一括でダウンロード・インストールできるプラットフォームである。（パッケージについては`Python Basics`で説明する。）\n",
    "* 以下のリンクからMac用もしくはWindows用のインストーラーをダウンロードする。\n",
    "    * [このサイト](https://www.anaconda.com/distribution/#download-section:)\n",
    "    * 必ず`Python 3.x version`を選ぶこと。\n",
    "* `Anaconda`のインストーラーの指示に従いデフォルトでインストールする。"
   ]
  },
  {
   "cell_type": "markdown",
   "metadata": {
    "heading_collapsed": true
   },
   "source": [
    "## `Git`のインストール"
   ]
  },
  {
   "cell_type": "markdown",
   "metadata": {
    "hidden": true
   },
   "source": [
    "* `Git`とはPC内でコードの履歴管理をおこなうことによりファイルの過去のバージョンの閲覧や復元などを可能にするアプリ。特に，以下で説明する`GitHub`と一緒に使うことにより，複数人と共同作業する場合に欠かせないアプリである。\n",
    "* MacとWindowsを別々に説明する。"
   ]
  },
  {
   "cell_type": "markdown",
   "metadata": {
    "heading_collapsed": true,
    "hidden": true
   },
   "source": [
    "### Mac"
   ]
  },
  {
   "cell_type": "markdown",
   "metadata": {
    "hidden": true
   },
   "source": [
    "* Macには元々インストールされているので再インストールする必要はない。\n",
    "* コマンドライン・デベロッパ・ツール\n",
    "    * 次のメッセージのポップアップ・ウィンドウが表示される場合，「インストール」をクリックすること。\n",
    "        ```\n",
    "       gitコマンドを実行するには，コマンドライン・デベロッパ・ツールが必要です。ツールを今すぐインストールしますか？\"　「インストール」ボタンをクリック\n",
    "        ```\n",
    "    * 以下で説明する`Terminal`で次のコマンドを実行してインストールすることもできる。\n",
    "        ```\n",
    "        $ xcode-select —-install\n",
    "        ```"
   ]
  },
  {
   "cell_type": "markdown",
   "metadata": {
    "hidden": true
   },
   "source": [
    "### Windows"
   ]
  },
  {
   "cell_type": "markdown",
   "metadata": {
    "hidden": true
   },
   "source": [
    "* [このサイト](https://git-scm.com)から`Git`をダウンロードする。\n",
    "* ダウンロードしたファイルを起動しインストールする。\n",
    "    * `Next`を押していくと様々なオプションが出てくるが次の項目以外はすべてデフォルトを選択する。\n",
    "    * `Choosing the default editor used by Git`の画面が出てくるので，そのリストの中に使うEditorがあれば選択し、無ければ`Use the Nano editor by default`を選択する。"
   ]
  },
  {
   "cell_type": "markdown",
   "metadata": {
    "heading_collapsed": true
   },
   "source": [
    "## `Terminal`（Mac）と`Git Bash`（Windows）"
   ]
  },
  {
   "cell_type": "markdown",
   "metadata": {
    "hidden": true
   },
   "source": [
    "* `Mac`には`Terminal`がもともとインストールされている。\n",
    "* `Windows`に`Git`をインストールする際，`Git Bash`は一緒に自動でインストールされる。\n",
    "* `Terminal`と`Git Bash`は，コマンド（例えば，`ls`）を入力し，そのコマンドを実行することによりPCを制御する。これらを使う理由は`CLI`（Command Line Interface）を通して`Git`と`Github`を使うためである。\n",
    "\n",
    "（コメント）\n",
    "* Windowsでは`Anaconda Prompt`も使うことができるが，ここでは`Git Bash`だけを取り上げる。\n",
    "* `Git Bash`は，`Windows`でも`Mac`の`Terminal`と同じ`CLI`が使えるように開発されたものなので，コマンド（次の「３種のコマンド」も含めて）は共通である。"
   ]
  },
  {
   "cell_type": "markdown",
   "metadata": {
    "heading_collapsed": true,
    "hidden": true
   },
   "source": [
    "### 「３種のコマンド」"
   ]
  },
  {
   "cell_type": "markdown",
   "metadata": {
    "hidden": true
   },
   "source": [
    "以下では必須の3つのコマンドについて説明する。"
   ]
  },
  {
   "cell_type": "markdown",
   "metadata": {
    "heading_collapsed": true,
    "hidden": true
   },
   "source": [
    "#### `pwd`"
   ]
  },
  {
   "cell_type": "markdown",
   "metadata": {
    "hidden": true
   },
   "source": [
    "ハードディスクにあるファイルは階層構造になっているフォルダー（ディレクトリとも呼ばれる）に保存されている。`Terminal`自体が「位置する」フォルダーをカレント・ディレクトリ（Current Directory）と呼び，それを表示するためのコマンドが`pwd`（Print Working Directoryの略）である。\n",
    "```\n",
    "$ pwd\n",
    "```\n",
    "を実行するとカレント・ディレクトリが表示される。\n",
    "```\n",
    "/Users/myName/folder1/folder2\n",
    "```\n",
    "この例では，カレント・ディレクトリは`folder2`となっている。"
   ]
  },
  {
   "cell_type": "markdown",
   "metadata": {
    "heading_collapsed": true,
    "hidden": true
   },
   "source": [
    "#### `ls`"
   ]
  },
  {
   "cell_type": "markdown",
   "metadata": {
    "hidden": true
   },
   "source": [
    "カレント・ディレクトリにあるファイルやフォルダーを表示するコマンド。`ls`（listの略）の後にオプションを付けることもできる。\n",
    "```\n",
    "$ ls      # ファイルやフォルダーの表示\n",
    "$ ls -a  # 隠しファイルと隠しフォルダーも含めて表示\n",
    "```\n",
    "ここで隠しファイルと隠しフォルダーとは，名前が`.`で始まるものであり，通常は見えなくなっている。\n",
    "\n",
    "---\n",
    "＜コメント＞\n",
    "* `Mac`の`Finder`で `Command + Shift + .`とすると隠しファイルと隠しフォルダーの表示・非表示をトグルできる。"
   ]
  },
  {
   "cell_type": "markdown",
   "metadata": {
    "heading_collapsed": true,
    "hidden": true
   },
   "source": [
    "#### `cd`"
   ]
  },
  {
   "cell_type": "markdown",
   "metadata": {
    "hidden": true
   },
   "source": [
    "`cd`（Change Directoryの略）は，カレント・ディレクトリーを他のフォルダーに移す場合に使うコマンド。ここでの説明は「相対パス」を使う。基本的な使い方は\n",
    "```\n",
    "$ cd ＜移動したいフォルダー名＞\n",
    "```\n",
    "の形である。上の例を考えよう。\n",
    "* 下の階層フォルダーに移動する場合\n",
    "    * カレント・ディレクトリーが`folder2`であり，その下層フォルダーである`folder3`に移る場合\n",
    "```\n",
    "$ cd folder3\n",
    "```\n",
    "* 上の階層フォルダーに移動する場合\n",
    "    * `folder3`に移った後，`folder2`に戻る場合\n",
    "```\n",
    "$ cd ..\n",
    "```\n",
    "ここで上層フォルダーは１つしかないのでフォルダー名を入れる代わりに`..`で事足りるということ。\n",
    "\n",
    "---\n",
    "＜コメント＞\n",
    "\n",
    "ファイル名やフォルダー名を途中まで書いてタブを押すと補完してくれる。"
   ]
  },
  {
   "cell_type": "markdown",
   "metadata": {
    "heading_collapsed": true
   },
   "source": [
    "## `Git`インストールの確認と設定"
   ]
  },
  {
   "cell_type": "markdown",
   "metadata": {
    "heading_collapsed": true,
    "hidden": true
   },
   "source": [
    "### Mac"
   ]
  },
  {
   "cell_type": "markdown",
   "metadata": {
    "heading_collapsed": true,
    "hidden": true
   },
   "source": [
    "#### 確認"
   ]
  },
  {
   "cell_type": "markdown",
   "metadata": {
    "hidden": true
   },
   "source": [
    "Macには`Git`はもともとインストールされていると説明したが，確認するために`Terminal`で\n",
    "```\n",
    "$ which git\n",
    "```\n",
    "を実行すると`Git`があるフォルダーが表示される。"
   ]
  },
  {
   "cell_type": "markdown",
   "metadata": {
    "heading_collapsed": true,
    "hidden": true
   },
   "source": [
    "#### 設定"
   ]
  },
  {
   "cell_type": "markdown",
   "metadata": {
    "hidden": true
   },
   "source": [
    "`Git`に`Terminal`を使って名前とメールアドレスを登録するが，以下で説明する`GitHub`で登録するものと同じでなくてはならない。\n",
    "```\n",
    "$ git config --global user.name \"LastName_FirstName\"\n",
    "$ git config --global user.email \"example@example.com\"\n",
    "```\n",
    "これ以外に必要であれば\n",
    "```\n",
    "$ git config --global core.editor 'atom'    # エディターの設定\n",
    "$ git config --global --list` 　　　　　　　# 設定の確認\n",
    "```"
   ]
  },
  {
   "cell_type": "markdown",
   "metadata": {
    "heading_collapsed": true,
    "hidden": true
   },
   "source": [
    "### Windows"
   ]
  },
  {
   "cell_type": "markdown",
   "metadata": {
    "heading_collapsed": true,
    "hidden": true
   },
   "source": [
    "#### インストールの確認"
   ]
  },
  {
   "cell_type": "markdown",
   "metadata": {
    "hidden": true
   },
   "source": [
    "`Git Bash`の画面で以下を実行する（どのカレント・ディレクトリでも構わない）。\n",
    "```\n",
    "$ which git\n",
    "```\n",
    "以下のように表示されればインストール成功。\n",
    "```\n",
    "/cmd/git\n",
    "```"
   ]
  },
  {
   "cell_type": "markdown",
   "metadata": {
    "heading_collapsed": true,
    "hidden": true
   },
   "source": [
    "#### 設定"
   ]
  },
  {
   "cell_type": "markdown",
   "metadata": {
    "hidden": true
   },
   "source": [
    "`Git`に`Git Bash`を使って名前とメールアドレスを登録するが，以下で説明する`GitHub`で登録するものと同じでなくてはならない。\n",
    "```\n",
    "$ git config --global user.name \"LastName_FirstName\"\n",
    "$ git config --global user.email \"example@example.com\"\n",
    "```\n",
    "これ以外に必要であれば，\n",
    "```\n",
    "$ git config --global --list` 　　　　　　　# 設定の確認\n",
    "```"
   ]
  },
  {
   "cell_type": "markdown",
   "metadata": {
    "heading_collapsed": true
   },
   "source": [
    "## `Python`インストールの確認"
   ]
  },
  {
   "cell_type": "markdown",
   "metadata": {
    "heading_collapsed": true,
    "hidden": true
   },
   "source": [
    "#### Mac"
   ]
  },
  {
   "cell_type": "markdown",
   "metadata": {
    "hidden": true
   },
   "source": [
    "`Terminal`の画面で以下を実行しよう（どのカレント・ディレクトリでも構わない）。\n",
    "```\n",
    "$ which python\n",
    "```\n",
    "以下（パスに`anaconda3`が入っている）のようにされれば成功。\n",
    "```\n",
    "/Users/myName/anaconda3/bin/python\n",
    "```\n",
    "もし\n",
    "```\n",
    "/usr/bin/python\n",
    "```\n",
    "のように`anaconda3`がパスに入っていない場合は，\n",
    "```\n",
    "$ conda activate\n",
    "$ which python\n",
    "```\n",
    "を実行してみること。ここで\n",
    "```\n",
    "$ conda activate\n",
    "```\n",
    "は`anaconda`をアクティベートするコマンドであり，その逆は\n",
    "```\n",
    "$ conda deactivate\n",
    "```\n",
    "である。"
   ]
  },
  {
   "cell_type": "markdown",
   "metadata": {
    "heading_collapsed": true,
    "hidden": true
   },
   "source": [
    "#### `Windows`"
   ]
  },
  {
   "cell_type": "markdown",
   "metadata": {
    "hidden": true
   },
   "source": [
    "* `anaconda3`がインストールされたディレクトリを確認する。２つのケースを考える。\n",
    "    ```\n",
    "    （ケース１）C:\\Users\\myName\\Anaconda3\n",
    "    （ケース２）C:\\Anaconda3\n",
    "    ```\n",
    "* `Git Bash`で以下を実行する。\n",
    "    * （ケース１）の場合\n",
    "    ```\n",
    "    echo \". /c/Users/myName/Anaconda3/etc/profile.d/conda.sh\" >> ~/.profile\n",
    "    ```\n",
    "    * （ケース２）の場合\n",
    "    ```\n",
    "    echo \". /c/Anaconda3/etc/profile.d/conda.sh\" >> ~/.profile\n",
    "    ```\n",
    "    * 両方のケースに当てはまらない場合は，`/c/`と`/etc/`の間を適宜変更する。\n",
    "    * この作業によりホーム・ディレクトリに`.profile`というファイルが作成され，`Python`に「パスがとおる」ことになる。\n",
    "* `Git Bash`で以下を実行する（どのカレント・ディレクトリでも構わない）。\n",
    "```\n",
    "$ conda activate\n",
    "$ which python\n",
    "```\n",
    "を実行してみること。ここで\n",
    "```\n",
    "$ conda activate\n",
    "```\n",
    "は`anaconda`をアクティベートするコマンドであり，その逆は\n",
    "```\n",
    "$ conda deactivate\n",
    "```\n",
    "である。\n",
    "以下（パスに`anaconda3`が入っている）のようにされれば成功。\n",
    "```\n",
    "/c/Users/myName/Anaconda3/python\n",
    "```"
   ]
  },
  {
   "cell_type": "markdown",
   "metadata": {
    "heading_collapsed": true
   },
   "source": [
    "## `GitHub`の設定"
   ]
  },
  {
   "cell_type": "markdown",
   "metadata": {
    "hidden": true
   },
   "source": [
    "`GitHub`とは，コードとコードの履歴をクラウド上で管理し，コード作成の共同作業を手助けするアプリである。アップロードしたコードを公開・非公開に設定することができる。ゼミ生がアップロードしたコードは春山だけが閲覧可能となる。"
   ]
  },
  {
   "cell_type": "markdown",
   "metadata": {
    "hidden": true
   },
   "source": [
    "---\n",
    "* `GitHub`の設定\n",
    "    * `Git`の設定で使ったメールアドレスを使い[このサイト](https://github.com)で無料アカウントを作成し，\n",
    "    * 登録後，[このサイト](https://education.github.com/students)でStudent Accountにする。\n",
    "        * Student Accountにすると様々な[特典](https://education.github.com/pack#offers)が付いてくる。\n",
    "    * 登録すると１つのレポジトリ（repository）。レポジトリを「レポ（repo）」と略す場合がよくある。レポとはコードをアップロードした際に保存される領域を示す。レポは必要な数だけ作成することができる。\n",
    "    * 春山に`username`を知らせる。\n",
    "    * Passwordは後で使うので忘れないように。"
   ]
  },
  {
   "cell_type": "markdown",
   "metadata": {
    "hidden": true
   },
   "source": [
    "* `Git`と`GitHub`の同期の設定：Part I\n",
    "    * ゼミだけで使い，`GitHub`と同期させるフォルダーを作成する。\n",
    "        * 以下ではそのフォルダーを`ZF`（ゼミ・フォルダー）と呼ぶ。\n",
    "    * `Terminal`もしくは`Git Bash`を起動し，カレント・ディレクトリを`ZF`にする。\n",
    "    * `ZF`と`GitHub`を連携させるために`Terminal`もしくは`Git Bash`で以下を実行する。\n",
    "        ```\n",
    "        $ git remote add origin <repURL>\n",
    "        ```\n",
    "        ここで`<repoURL>`は上で作成したレポのアドレスであり，以下の手順でコピーできる。\n",
    "        * repoのページにある`Clone or download`と書かれた緑色のボタンをクリックし，`https://`から始まるリンクを確認する。その右横のボタンを押す。\n",
    "        * リンクが`git@github.com:`から始まっている場合は，その小さなポップアップ・ウィンドウの右上にある`Use HTTPS`と書かれた箇所をクリックすると`https://`から始まるリンクが表示されるので，それをコピーする。"
   ]
  },
  {
   "cell_type": "markdown",
   "metadata": {
    "hidden": true
   },
   "source": [
    "* `Git`と`GitHub`の同期の設定：Part II\n",
    "    * エディター（例えば，Atom）を使い`README.md`というファイルを`ZF`に作成し，自己紹介の内容を記入する（例えば，自分の名前や学部など）。\n",
    "    * 以下はすべてカレント・ディレクトリを`ZF`にした`Terminal`もしくは`Big Bash`でおこなう。\n",
    "        1. `ZF`を`Git`用に設定する。\n",
    "            ```\n",
    "            git init\n",
    "            ```\n",
    "        2. `Git`に履歴を記録させるファイル（この場合は`README.md`）を選択する。これは「ステージング」と呼ばれるプロセス。\n",
    "            ```\n",
    "            git stage README.md\n",
    "            ```\n",
    "        3. `Git`にファイルの変更を登録する。これは「コミット」と呼ばれるプロセス。\n",
    "            ```\n",
    "            git commit -m \"First commit\"            \n",
    "            ```\n",
    "            ここで「First Commit」は履歴についてのコメントであり，変更内容について分かりやすいものすること。\n",
    "        4. `GitHub`にファイルをアップロードする。これは「プッシュ」と呼ばれるプロセス。\n",
    "            ```\n",
    "            git push origin master\n",
    "            ```\n",
    "        5. パスワードを求められるので，`GitHub`のパスワードを入力する。"
   ]
  },
  {
   "cell_type": "markdown",
   "metadata": {
    "hidden": true
   },
   "source": [
    "* ゼミのための設定\n",
    "    * ゼミ用レポの`GitHub`ウェブページを開く。README.mdの内容が表示されているはず\n",
    "    * Settings -> Collaborators & teams を開き，春山のユーザー名`spring-haru`を Collaborators に追加し，Permission Level　を Read に設定する。\n",
    "    * この設定により，春山だけがそれぞれの学生のレポを閲覧することが可能となる。"
   ]
  },
  {
   "cell_type": "markdown",
   "metadata": {
    "hidden": true
   },
   "source": [
    "---\n",
    "＜＜ <font color='red'>注意</font> ＞＞\n",
    "* コンフリクトの問題発生を防ぐために`GitHub`のサイトで直接ファイルを変更**しないように！**もし変更した場合は，パソコンで該当ファイルを変更する**前に必ず**以下のコードを実行すること。\n",
    "```\n",
    "$ git pull origin master\n",
    "```"
   ]
  },
  {
   "cell_type": "markdown",
   "metadata": {
    "heading_collapsed": true
   },
   "source": [
    "## `pip`を使うパッケージのインストール"
   ]
  },
  {
   "cell_type": "markdown",
   "metadata": {
    "hidden": true
   },
   "source": [
    "ゼミでは`Anaconda`に含まれていない次のパッケージも使う。\n",
    "* `linearmodels`\n",
    "* `wooldridge`\n",
    "* `lmdiag`\n",
    "* `see`\n",
    "\n",
    "これらをインストールするには，`Anaconda`に含まれている`pip`コマンドを使う。`pip`は以下で説明する`Terminal`（Mac用）もしくは`Git Bash`（Windows用）を使い実行する。例えば，`see`をインストールするには\n",
    "```\n",
    "$ pip install see\n",
    "```\n",
    "を実行する。4つのパッケージを一括でインストールするコマンドは次のようにする。\n",
    "```\n",
    "$ pip install linearmodels wooldridge lmdiag see\n",
    "```"
   ]
  },
  {
   "cell_type": "markdown",
   "metadata": {},
   "source": [
    "## `Jupyter Notebook`の使い方"
   ]
  },
  {
   "cell_type": "markdown",
   "metadata": {},
   "source": [
    "`Jupyter Notebook`とは，`Python`をインターアクティブな環境で実行できる非常に使い易いプログラム。"
   ]
  },
  {
   "cell_type": "markdown",
   "metadata": {
    "heading_collapsed": true
   },
   "source": [
    "### 起動と終了（Mac）"
   ]
  },
  {
   "cell_type": "markdown",
   "metadata": {
    "hidden": true
   },
   "source": [
    "* 起動（２つの方法）\n",
    "    1. `Terminal`に\n",
    "        ```\n",
    "        Jupyter Notebook\n",
    "        ```\n",
    "        を入力し実行する。\n",
    "        \n",
    "    1. `Anaconda-Navigator`を起動すると`Jupyter Notebook`の大きなアイコンがあり，そこにある`Launch`をクリックする。\n",
    "* 終了\n",
    "    * `Jupyter Notebook`の全てのタブを閉じる。\n",
    "    * `Jupyter Notebook`を起動すると自動に`Terminal`の画面が表示されることになるが，次のどれかの方法で，その画面に`$`が表示されるようにする。\n",
    "        * `Control`を押したまま`C`を押し，`y`を入力し，`Enter`を押す。\n",
    "        * `Control`を押したまま`C`を２回連続で押す。\n",
    "        * 別の`Terminal`画面の`$`で`jupyter notebook stop`を実行する。"
   ]
  },
  {
   "cell_type": "markdown",
   "metadata": {
    "heading_collapsed": true
   },
   "source": [
    "### 起動と終了（Windows）"
   ]
  },
  {
   "cell_type": "markdown",
   "metadata": {
    "hidden": true
   },
   "source": [
    "* 起動（３つの方法）\n",
    "    1. `Git Bash`に\n",
    "        ```\n",
    "        Jupyter Notebook\n",
    "        ```\n",
    "        を入力し実行する。\n",
    "    1. スタートメニューから`Jupyter Notebook (Anaconda3)`をクリック。\n",
    "    1. `Anaconda-Navigator`を起動すると`Jupyter Notebook`の大きなアイコンがあり，そこにある`Launch`をクリックする。\n",
    "* 終了\n",
    "    * `Jupyter Notebook`の全てのタブを閉じる。\n",
    "    * `Jupyter Notebook`を起動すると自動で`Anaconda Prompt`と呼ばれるアプリが起動する。その画面に移り，`Control`を押したまま`C`を押すと画面が閉じる。もしくは`C:¥Users¥myName>`のような表示がでる。（代替方法として，別の`Anaconda Prompt`を起動して`jupyter notebook stop`を実行しても良い。）"
   ]
  },
  {
   "cell_type": "markdown",
   "metadata": {},
   "source": [
    "### 使い方"
   ]
  },
  {
   "cell_type": "markdown",
   "metadata": {},
   "source": [
    "* ブラウザーが起動した後，`Jupyter Notebook`の最初の画面ではファイルやフォルダーが表示される。\n",
    "    * フォルダー名をクリックすると，そのフォルダーに移動する。\n",
    "    * `..`をクリックすると，１階層上のフォルダーに移動する。\n",
    "* `FZ`に移動し，以下の手順で新しいNotebookを作成する\n",
    "    * 画面右上にある`New`をクリックして表示される`Python 3`をクリックする。\n",
    "    * 画面左上に表示される`Untitled`とクリックしファイル名を変更する。\n",
    "* `Notebook`にある横長の長方形をセルと呼ぶ。主に２種類のセルを使う。\n",
    "    * Codeセル\n",
    "        * セル枠の左側に`ln[]:`の表示がある。\n",
    "        * `Python`コードを書く領域\n",
    "        * `Shift+Enter`でコードが実行され結果が表示される\n",
    "    * Markdownセル\n",
    "        * セル枠の左側に何の表示もない。\n",
    "        * 説明文などを書く領域\n",
    "        * `Shift+Enter`で内容が表示される\n",
    "        * [Markdownの書き方の参考サイト](https://learnxinyminutes.com/docs/markdown/)\n",
    "    * セル・タイプの変更は，画面中央上に`Code`または`Markdown`と表示されている部分をクリックして該当するセルタイプを選択する。\n",
    "* `Jupyter Notebook`の画面の状態には２つのモードがある。\n",
    "    * エディット・モード（EM）\n",
    "        * セル枠の色が緑色\n",
    "        * セル内にカーソルがある。\n",
    "        * セルにコードや説明文を記入できる。\n",
    "    * コマンド・モード（CM）\n",
    "        * セル枠の色が青色\n",
    "        * セル内にカーソルがない。\n",
    "        * 矢印キーを使ってセル間を移動できる。（マウス・クリックでも移動できる。）\n",
    "    * EMとCM間の移行方法\n",
    "        * EMにある状態で`Shift+Enter`でCMに移行する。\n",
    "        * EMにある状態で`Escape`を押すとCMに移行する。\n",
    "        * CMにある状態で`Enter`を押すとEMに移行する。\n",
    "* コード・セル内でコマンドの末尾に`?`と書いて実行すると、そのコマンドの`docstrings`と呼ばれる説明文（英語）が表示される。\n",
    "* コマンドを途中まで入力して`Tab`を押すと残りのコマンドを補完してくれる。\n",
    "* 関数や`()`の中で`Shift+Tab`を押すとツールチップ（tooltips）を表示してくれる。"
   ]
  },
  {
   "cell_type": "markdown",
   "metadata": {},
   "source": [
    "---\n",
    "＜Tips＞\n",
    "* メニューのHelp -> Edit Keyboard Shortcutsからショートカットを変更・設定できる。\n",
    "* [Jupyter Notebook Extensions](https://github.com/ipython-contrib/jupyter_contrib_nbextensions)は便利。\n",
    "* コードをより見やすくできるフォントもあるのでトライしてみよう。\n",
    "* `matplotlib`を使う場合の日本語\n",
    "  * [参考サイト](https://matplotlib.org/3.1.1/tutorials/introductory/customizing.html)\n",
    "  * Macユーザーは[このリンク](https://raw.githubusercontent.com/Haruyama-KobeU/Haruyama-KobeU.github.io/master/data/matplotlibrc)のファイルをダウンロードして`/Users/ユーザー名前/.matplotlib/matplotlibrc`として保存すると図に日本語が表示される。\n",
    "* Web上にはJupyter Notebookの使い方に関する情報がたくさんあるのでチェックしてみよう。\n",
    "  * [Google検索結果](https://www.google.co.jp/search?q=jupyter+notebook+%E4%BD%BF%E3%81%84%E6%96%B9)\n",
    "  * [キーボード・ショートカット](https://qiita.com/forusufia/items/bea3f6fd6160cd2f5843)"
   ]
  },
  {
   "cell_type": "markdown",
   "metadata": {
    "heading_collapsed": true
   },
   "source": [
    "## ゼミ修了後毎回おこなう作業"
   ]
  },
  {
   "cell_type": "markdown",
   "metadata": {
    "hidden": true
   },
   "source": [
    "以下の手順で，ゼミ終了後には毎回必ず使った`Jupyter Notebook`を`GitHub`にアップロードすること。\n",
    "1. `Terminal`もしくは`Git Bash`を使い`ZF`をカレント・ディレクトリにする。\n",
    "1. どのファイルが変更されて`GitHub`と同期されていないかをチェックする。\n",
    "    ```\n",
    "    git status\n",
    "    ```\n",
    "1. 変更ファイルのステージング（変更履歴の保存をするファイルの選択）\n",
    "    ```\n",
    "    git stage file名\n",
    "    ```\n",
    "    ここで`stage`を`add`としてお同じ。\n",
    "1. ファイルのコミット（変更履歴の保存）\n",
    "    ```\n",
    "    git commit -m '変更点に関するコメント'\n",
    "    ```\n",
    "1. プッシュ（`GitHub`にプッシュ）\n",
    "    ```\n",
    "    git push origin master\n",
    "    ```\n",
    "1. `GitHub`のレポをチェック\n",
    "\n",
    "---\n",
    "＜＜ <font color='red'>注意</font> ＞＞\n",
    "* コンフリクトの問題発生を防ぐために`GitHub`のサイトで直接ファイルを変更**しないように！**もし変更した場合は，パソコンで該当ファイルを変更する**前に必ず**以下のコードを実行すること。\n",
    "```\n",
    "$ git pull origin master\n",
    "```"
   ]
  }
 ],
 "metadata": {
  "kernelspec": {
   "display_name": "Python 3",
   "language": "python",
   "name": "python3"
  },
  "language_info": {
   "codemirror_mode": {
    "name": "ipython",
    "version": 3
   },
   "file_extension": ".py",
   "mimetype": "text/x-python",
   "name": "python",
   "nbconvert_exporter": "python",
   "pygments_lexer": "ipython3",
   "version": "3.7.4"
  }
 },
 "nbformat": 4,
 "nbformat_minor": 2
}
