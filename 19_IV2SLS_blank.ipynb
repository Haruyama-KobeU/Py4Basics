{
    "cells": [
        {
            "cell_type": "markdown",
            "metadata": {},
            "source": [
                "# \u64cd\u4f5c\u5909\u6570\u6cd5\u3068\uff12\u6bb5\u968eOLS"
            ]
        },
        {
            "cell_type": "code",
            "execution_count": null,
            "metadata": {},
            "outputs": [],
            "source": [
                "\n",
                "\n",
                "",
                "",
                "",
                "",
                "",
                "",
                "# \u8b66\u544a\u30e1\u30c3\u30bb\u30fc\u30b8\u3092\u975e\u8868\u793a\n",
                "\n"
            ]
        },
        {
            "cell_type": "markdown",
            "metadata": {},
            "source": [
                "**\uff1c\u4eee\u5b9a\uff14\u304c\u6e80\u305f\u3055\u308c\u306a\u3044\u5834\u5408\uff1e**"
            ]
        },
        {
            "cell_type": "markdown",
            "metadata": {
                "heading_collapsed": true
            },
            "source": [
                "## \u8aac\u660e"
            ]
        },
        {
            "cell_type": "markdown",
            "metadata": {
                "heading_collapsed": true,
                "hidden": true
            },
            "source": [
                "### \u57fa\u672c\u7684\u306a\u8003\u3048\u65b9"
            ]
        },
        {
            "cell_type": "markdown",
            "metadata": {
                "hidden": true
            },
            "source": [
                "\u4eee\u5b9a\uff14\uff1aZero Conditional Mean $\\text{E}(u|x)=0$\n",
                "\n",
                "\u4eee\u5b9a\uff14a\uff1a$\\text{Cov}(x,u)=0$\n",
                "\n",
                "\u3053\u306e\u4eee\u5b9a\u304c\u6e80\u305f\u3055\u308c\u306a\u3044\u7406\u7531\u306b\u6b21\u306e\uff13\u3064\u304c\u3042\u308a\uff08\u4ed6\u306b\u3082\u3042\u308b\uff09\uff0c\u305d\u306e\u5bfe\u51e6\u6cd5\u3068\u306a\u308b\u63a8\u5b9a\u65b9\u6cd5\u306b\u3064\u3044\u3066\u8aac\u660e\u3059\u308b\u3002\n",
                "* \u6b20\u843d\u5909\u6570\n",
                "* \u540c\u6642\u65b9\u7a0b\u5f0f\n",
                "* \u6e2c\u5b9a\u8aa4\u5dee\n",
                "\n",
                "\u3053\u306e\u4eee\u5b9a\uff14\u3082\u3057\u304f\u306f\uff14a\u304c\u6e80\u305f\u3055\u308c\u3066\u3044\u308b\u5834\u5408\uff0c$x$\u306f\u306f**\u5916\u751f\u7684\u8aac\u660e\u5909\u6570**\u3068\u3044\u3046\u3002\u4e00\u65b9\uff0c\u3053\u306e\u4eee\u5b9a\u304c\u6e80\u305f\u3055\u308c\u306a\u3044\u5834\u5408\uff0cOLS\u63a8\u5b9a\u91cf\u306f\u4e0d\u504f\u6027\u3082\u4e00\u81f4\u6027\u3082\u6e80\u305f\u3055\u306a\u3044\u3002\u305d\u306e\u5834\u5408\u306e\u8aac\u660e\u5909\u6570\u306f**\u5185\u751f\u7684\u8aac\u660e\u5909\u6570**\u3068\u3088\u3070\u308c\u308b\u3002\u8aac\u660e\u5909\u6570\u306e\u5185\u751f\u6027\u306f\u7d4c\u6e08\u554f\u984c\u306b\u591a\u304f\u5b58\u5728\u3059\u308b\u3068\u8003\u3048\u3089\u308c\u308b\u3002\u4f8b\u3048\u3070\uff0c\u65e2\u51fa\u306e\u8cc3\u91d1\u95a2\u6570\u3092\u8003\u3048\u3088\u3046\u3002\u8cc3\u91d1\u306f\u6559\u80b2\u3084\u7d4c\u9a13\u306a\u3069\u306b\u4f9d\u5b58\u3057\u3066\u3044\u308b\u304c\uff0c\u52b4\u50cd\u8005\u306e\u5185\u5728\u7684\u306a\u80fd\u529b\u306b\u3082\u4f9d\u5b58\u3057\u3066\u3044\u308b\u3068\u8003\u3048\u3089\u308c\u308b\u3002\u80fd\u529b\u3092\u6349\u3048\u308b\u5909\u6570\u304c\u56de\u5e30\u5f0f\u306b\u306a\u3044\u5834\u5408\uff08\u6b20\u843d\u5909\u6570\uff09\uff0c\u305d\u306e\u52b9\u679c\u306f\u8aa4\u5dee\u9805$u$\u306b\u5165\u308b\u3053\u3068\u306b\u306a\u308b\u3002\u3082\u3061\u308d\u3093\uff0c\u80fd\u529b\u304c\u52b4\u50cd\u8005\u306e\u4e2d\u3067\u30e9\u30f3\u30c0\u30e0\u306b\u5b58\u5728\u3057\uff0c\u4eee\u5b9a\uff14\u3082\u3057\u304f\u306f\uff14a\u3092\u6e80\u305f\u3057\u3066\u3044\u308b\u306e\u3067\u3042\u308c\u3070\u554f\u984c\u304c\u306a\u3044\u3002\u3057\u304b\u3057\u8aac\u660e\u5909\u6570\u3067\u3042\u308b\u6559\u80b2\u304c\u8aa4\u5dee\u9805\u306b\u542b\u307e\u308c\u308b\u80fd\u529b\u3068\u4f55\u3089\u304b\u306e\u95a2\u4fc2\u304c\u3042\u308b\u5834\u5408\uff08\u4f8b\u3048\u3070\uff0c\u80fd\u529b\u306e\u9ad8\u3044\u4eba\u304c\u3088\u308a\u9ad8\u3044\u6559\u80b2\u6c34\u6e96\u3092\u9078\u629e\u3059\u308b\uff09\uff0c\u4eee\u5b9a\uff14\u3082\u3057\u304f\u306f\uff14a\u306f\u6e80\u305f\u3055\u308c\u306a\u3044\u3053\u3068\u306b\u306a\u308a\uff0cOLS\u63a8\u5b9a\u91cf\u306f\u4e0d\u504f\u6027\u3092\u6e80\u305f\u3055\u306a\u3044\uff08**\u6b20\u843d\u5909\u6570\u30d0\u30a4\u30a2\u30b9**\u304c\u3042\u308b\uff09\u3002\n",
                "\n",
                "\u3053\u306e\u3088\u3046\u306a\u5834\u5408\u306b\u5f79\u306b\u7acb\u3064\u306e\u304c**\u64cd\u4f5c\u5909\u6570\u6cd5**\uff08`I`nstrumental `V`ariable Estimation\uff09\u3068\u547c\u3070\u308c\u308b\u624b\u6cd5\u3067\u3042\u308b\u3002\u3053\u306e\u63a8\u5b9a\u6cd5\u3067\u306f\uff0c\u3042\u308b\u6761\u4ef6\u3092\u6e80\u305f\u3059\u5185\u751f\u7684\u8aac\u660e\u5909\u6570\u306e\u4ee3\u308f\u308a\u306b\u306a\u308b**\u64cd\u4f5c\u5909\u6570**\uff08\u5916\u751f\u7684\u8aac\u660e\u5909\u6570\uff09\u3092\u4f7f\u3046\u3053\u3068\u306b\u3088\u308a\uff0c\u4e00\u81f4\u6027\u3092\u6e80\u305f\u3059\u63a8\u5b9a\u91cf\u3092\u5f97\u308b\u3053\u3068\u304c\u53ef\u80fd\u3068\u306a\u308b\u3002\n",
                "\n",
                "\uff08\u6ce8\u610f\u70b9\uff09\n",
                "* IV\u63a8\u5b9a\u91cf\u306f**\u4e00\u81f4\u6027**\u3092\u6e80\u305f\u3059\u304c\uff0c\u3053\u306e\u7279\u6027\u3092\u6d3b\u304b\u3059\u305f\u3081\u306b\u306f\u5341\u5206\u306b\u5927\u304d\u306a\u6a19\u672c\u304c\u5fc5\u8981\u3067\u3042\u308b\u3002\n",
                "* \u6a19\u672c\u306e\u5927\u304d\u3055\u304c\u5c0f\u3055\u3044\u5834\u5408\uff0cIV\u63a8\u5b9a\u91cf\u306f\u4e0d\u504f\u6027\u3092\u5931\u3046\u3002\n",
                "* OLS\u63a8\u5b9a\u91cf\u3068\u6bd4\u3079\u3066IV\u63a8\u5b9a\u91cf\u306e\u6a19\u6e96\u8aa4\u5dee\u306f\u5927\u304d\u304f\u306a\u308b\uff08\u52b9\u7387\u6027\u304c\u4f4e\u3044\uff09\u3002"
            ]
        },
        {
            "cell_type": "markdown",
            "metadata": {
                "hidden": true
            },
            "source": [
                "---\n",
                "\u57fa\u672c\u7684\u306a\u30a2\u30a4\u30c7\u30a2\u3092\u6574\u7406\u3059\u308b\u305f\u3081\u306b\u6b21\u306e\u5358\u56de\u5e30\u5f0f\u3092\u8003\u3048\u3088\u3046\u3002\n",
                "\n",
                "$$y=\\beta_0+\\beta_1w+u$$\n",
                "\n",
                "* $w$\u306f\u8aac\u660e\u5909\u6570\n",
                "* $\\text{Cov}(w,u)\\neq 0$\uff08\u5373\u3061\uff0c$w$\u306f\u5185\u751f\u7684\u8aac\u660e\u5909\u6570\uff09\n",
                "\n",
                "**\uff1c\u64cd\u4f5c\u5909\u6570\u306e\uff13\u3064\u306e\u6761\u4ef6\uff1e**\n",
                "\n",
                "\u66f4\u306b\uff0c$w$\u306b\u4ee5\u4e0b\u306e\u6761\u4ef6\u3092\u6e80\u305f\u3059**\u64cd\u4f5c\u5909\u6570**\uff08instruments\uff09$z$\u304c\u3042\u308b\u3068\u3057\u3088\u3046\u3002\n",
                "1. $z$\u306f\u56de\u5e30\u5f0f\u306b\u542b\u307e\u308c\u306a\u3044\uff08\u9664\u5916\u6761\u4ef6\uff09\n",
                "1. $\\text{Cov}(z,w)\\neq 0$\uff08\u9ad8\u3044\u95a2\u4fc2\u6027; $w$\u3068\u9ad8\u3044\u76f8\u95a2\u95a2\u4fc2\u304c\u3042\u308b\uff09\n",
                "1. $\\text{Cov}(z,u)=0$\uff08\u64cd\u4f5c\u5909\u6570\u306e\u5916\u751f\u6027; \u56de\u5e30\u5f0f\u306e\u8aa4\u5dee\u9805\u3068\u7121\u76f8\u95a2\uff09\n",
                "\n",
                "\u3053\u306e\u5834\u5408\uff0c\u64cd\u4f5c\u5909\u6570\u6cd5\u3092\u7528\u3044\u3066\uff08\u5927\u6a19\u672c\u306e\u3082\u3068\u3067\uff09\u4e00\u81f4\u6027\u3092\u6e80\u305f\u3059$\\hat{\\beta}_1$\u3092\u5f97\u308b\u3053\u3068\u304c\u53ef\u80fd\u3068\u306a\u308b\u3002"
            ]
        },
        {
            "cell_type": "markdown",
            "metadata": {
                "hidden": true
            },
            "source": [
                "---\n",
                "\uff1c\u63a8\u5b9a\u65b9\u6cd5\u306e\u8003\u3048\u65b9\uff1e\n",
                "\n",
                "\u64cd\u4f5c\u5909\u6570\uff08IV\uff09\u63a8\u5b9a\u65b9\u306f**\uff12\u6bb5\u968e\u6700\u5c0f\uff12\u4e57\u6cd5**\u306e\u7279\u6b8a\u306a\u30b1\u30fc\u30b9\u3068\u3057\u3066\u7406\u89e3\u3067\u304d\u308b\u3002\n",
                "* \u64cd\u4f5c\u5909\u6570\u306e\u6570\u3068\u5185\u751f\u5909\u6570\u306e\u6570\u304c\u7b49\u3057\u3044\u5834\u5408\u306e\u63a8\u5b9a\u6cd5\u3092\u64cd\u4f5c\u5909\u6570\uff08IV\uff09\u63a8\u5b9a\u6cd5\n",
                "* \u64cd\u4f5c\u5909\u6570\u306e\u6570\u304c\u5185\u751f\u5909\u6570\u306e\u6570\u3092\u4e0a\u56de\u308b\u5834\u5408\u306e\u63a8\u5b9a\u6cd5\u3092\uff12\u6bb5\u968e\u6700\u5c0f\u4e8c\u4e57\u6cd5\uff082 Stage Least Squares; 2SLS\uff09\n",
                "\n",
                "**\u7b2c\uff11\u6bb5\u968eOLS**\n",
                "* \u6b21\u5f0f\u3092OLS\u63a8\u5b9a\u3059\u308b\u3002\n",
                "\n",
                "$$w=\\pi_0+\\pi_1z+v$$\n",
                "\n",
                "* \u3053\u308c\u306b\u3088\u308a$w$\u3092\uff12\u3064\u306e\u8981\u7d20\uff08$\\hat{w}$\u3068$v$\uff09\u306b\u5206\u89e3\n",
                "\n",
                "    $$w=\\hat{w}+v,\\qquad\\hat{w}=\\hat{\\pi}_0+\\hat{\\pi}_1z$$\n",
                "\n",
                "    1. $\\hat{w}$\uff08\u4e88\u6e2c\u5024\uff09\uff1a\u5916\u751f\u5909\u6570\u3067\u8aac\u660e\u3067\u304d\u308b$w$\u306e\u90e8\u5206\uff08$z$\u3068\u76f8\u95a2\u3059\u308b\u90e8\u5206\uff09\n",
                "    1. $v$\uff08\u6b8b\u5dee\uff09\uff1a\u6b8b\u308a\u5168\u3066\uff08$u$\u3068\u76f8\u95a2\u3059\u308b$w$\u306e\u90e8\u5206\u306f\u5438\u53ce\u3055\u308c\u308b\uff09\n",
                "    \n",
                "* $\\hat{\\pi}_1$\u306e\u512a\u4f4d\u6027\u306e\u78ba\u8a8d\n",
                "    * \u4e00\u822c\u7684\u306b\u6709\u52b9\u306a\u64cd\u4f5c\u5909\u6570\u306f\u4ee5\u4e0b\u3092\u6e80\u305f\u3059\n",
                "        * \u64cd\u4f5c\u5909\u6570\u306e$t$\u5024\u306e\u7d76\u5bfe\u5024 $>3.2$\n",
                "    * \u3053\u306e\u76ee\u5b89\u3092\u6e80\u305f\u3055\u306a\u3051\u308c\u3070\u5f31\u64cd\u4f5c\u5909\u6570\u306e\u53ef\u80fd\u6027\n",
                "        * \u63a8\u5b9a\u91cf\u306f\u4e0d\u504f\u6027\u30fb\u4e00\u81f4\u6027\u3092\u6e80\u305f\u3055\u306a\u3044\n",
                "    * \u5e30\u7121\u4eee\u8aac$\\text{H}_0:\\;\\hat{\\pi}_1=0$\u304c\u68c4\u5374\u3055\u308c\uff0c\u4e0a\u306e\u57fa\u6e96\u3092\u30af\u30ea\u30a2\u3059\u308c\u3070\u6b21\u306e\u30b9\u30c6\u30c3\u30d7\u3078\n",
                "\n",
                "**\u7b2c\uff12\u6bb5\u968eOLS**\n",
                "* \u4e88\u6e2c\u5024$\\hat{w}$\u3092\u4f7f\u3044\u6b21\u5f0f\u3092OLS\u63a8\u5b9a\u3059\u308b\u3002\n",
                "\n",
                "    $$y=\\gamma_0+\\gamma_1\\hat{w}+e$$\n",
                "    \n",
                "* IV\uff08instrumentala variable\uff09\u63a8\u5b9a\u91cf\uff1a$\\hat{\\gamma}_1$"
            ]
        },
        {
            "cell_type": "markdown",
            "metadata": {
                "hidden": true
            },
            "source": [
                "---\n",
                "\uff08\u6ce8\u610f\u70b9\uff09\n",
                "\n",
                "* \u300c\u624b\u8a08\u7b97\u300d\u3067\u7b2c\uff11\u30fb\uff12\u6bb5\u968e\u3092\u5225\u3005\u306bOLS\u63a8\u5b9a\u3059\u308b\u3068\uff0c$\\hat{\\gamma}_j$\u3092\u5f97\u308b\u3053\u3068\u304c\u3067\u304d\u308b\u304c\uff0c\u63a8\u5b9a\u91cf\u306e\u6a19\u6e96\u8aa4\u5dee\uff0c\u691c\u5b9a\u7d71\u8a08\u91cf\uff0c\u6c7a\u5b9a\u4fc2\u6570$R^2$\u306f\u6709\u52b9\u3067\u306f\u306a\u3044\u3002\n",
                "* `Python`\u306e\u5c02\u7528\u30d1\u30c3\u30b1\u30fc\u30b8\u3092\u4f7f\u3068\uff0c\n",
                "    * \u5927\u6a19\u672c\u306e\u3082\u3068\u3067\u63a8\u5b9a\u91cf\u3068$t$\u5024\u306f\u6709\u52b9\u3068\u306a\u308b\u3002\n",
                "    * $R^2$\u306f\u7279\u306b\u6709\u7528\u306a\u60c5\u5831\u3092\u63d0\u4f9b\u3057\u306a\u3044\uff08\u30de\u30a4\u30ca\u30b9\u306b\u306a\u308a\u5f97\u308b\uff09\u3002\u5f93\u3063\u3066\uff0c\u30d1\u30e9\u30e1\u30fc\u30bf\u5236\u7d04\u3092\u691c\u5b9a\u3059\u308b$F$\u691c\u5b9a\u3092\u3059\u308b\u5834\u5408\u306f\u300c\u624b\u8a08\u7b97\u300d\u3067\u306f\u306a\u304f\u30d1\u30c3\u30b1\u30fc\u30b8\u3067\u63d0\u4f9b\u3055\u308c\u305f\u30b3\u30de\u30f3\u30c9\u3092\u4f7f\u3046\u3053\u3068\u3002"
            ]
        },
        {
            "cell_type": "markdown",
            "metadata": {
                "heading_collapsed": true,
                "hidden": true
            },
            "source": [
                "### `linearmodels`"
            ]
        },
        {
            "cell_type": "markdown",
            "metadata": {
                "hidden": true
            },
            "source": [
                "**\uff1c`linearmodels`\u306e\u4f7f\u3044\u65b9\uff1e**\n",
                "\n",
                "\u56de\u5e30\u5f0f\u3092\u6587\u5b57\u5217\u3067\u8868\u3057\u64cd\u4f5c\u5909\u6570\u6cd5\u3092\u4f7f\u3046\u305f\u3081\u306b\u306f\u30b5\u30d6\u30d1\u30c3\u30b1\u30fc\u30b8`IV2SLS`\u306e`from_formula`\u3092\u30a4\u30f3\u30dd\u30fc\u30c8\u3059\u308b\u3002\u56de\u5e30\u5f0f\u306e\u6587\u5b57\u5217\u306b\u95a2\u3057\u3066\u4e0a\u8ff0\u3057\u305f\u5b9a\u6570\u9805\u306b\u3064\u3044\u3066\u306e\u9055\u3044\u4ee5\u5916\u306f`statsmodels`\u3068\u540c\u3058\u3067\u3042\u308b\u3002\u305f\u3060\uff0c\u4e0b\u306e\u56de\u5e30\u5f0f\u306e\u4e00\u822c\u578b\u306b\u6cbf\u3063\u3066\u5185\u751f\u7684\u5909\u6570\u3068\u64cd\u4f5c\u5909\u6570\u3092`~`\u3067\u631f\u3093\u3067`[ ]`\u306e\u4e2d\u306b\u5165\u308c\u308b\u3002\n",
                "\n",
                "**\uff1c`IV2SLS`\u56de\u5e30\u5f0f\u306e\u4e00\u822c\u5f62\uff1e**\n",
                "```\n",
                "\u88ab\u8aac\u660e\u5909\u6570 ~ \u5b9a\u6570\u9805 + \u5916\u751f\u7684\u8aac\u660e\u5909\u6570 + [\u5185\u751f\u7684\u8aac\u660e\u5909\u6570 ~ \u64cd\u4f5c\u5909\u6570]\n",
                "```\n",
                "* \u5b9a\u6570\u9805\uff0c\u5916\u751f\u7684\u8aac\u660e\u5909\u6570\u304c\u306a\u3044\u5834\u5408\u306f\uff0c\u7701\u3044\u3066\u3082\u826f\u3044\u3002\n",
                "* `[ ]`\u304c\u306a\u3044\u5834\u5408\u306f\u901a\u5e38\u306eOLS\u3068\u3057\u3066\u8a08\u7b97\u3055\u308c\u308b\u3002\u305d\u306e\u969b\uff0c\u4ee5\u524d\u8aac\u660e\u3057\u305f\u30e1\u30bd\u30c3\u30c9`fit()`\u306e\u30aa\u30d7\u30b7\u30e7\u30f3\u306b\u8981\u6ce8\u610f\u3002\n",
                "* \u5916\u751f\u7684\u8aac\u660e\u5909\u6570\uff0c\u64cd\u4f5c\u5909\u6570\u306f\u8907\u6570\u3067\u3082\u53ef"
            ]
        },
        {
            "cell_type": "markdown",
            "metadata": {},
            "source": [
                "## \u30b1\u30fc\u30b9\uff11\uff1a\u5358\u7d14\u306a`IV`\u63a8\u5b9a"
            ]
        },
        {
            "cell_type": "markdown",
            "metadata": {
                "heading_collapsed": true
            },
            "source": [
                "### \u30c7\u30fc\u30bf"
            ]
        },
        {
            "cell_type": "markdown",
            "metadata": {
                "hidden": true
            },
            "source": [
                "\u65e2\u5a5a\u5973\u6027\u306e\u6559\u80b2\u306e\u53ce\u76ca\u7387\u306b\u95a2\u3059\u308b\u30c7\u30fc\u30bf`mroz`\u3092\u5229\u7528\u3057\u3066\u4f7f\u3044\u65b9\u3092\u8aac\u660e\u3059\u308b\u3002"
            ]
        },
        {
            "cell_type": "code",
            "execution_count": null,
            "metadata": {},
            "outputs": [],
            "source": [
                "\n",
                "\n",
                ""
            ]
        },
        {
            "cell_type": "markdown",
            "metadata": {
                "hidden": true
            },
            "source": [
                "\u30b1\u30fc\u30b9\uff11\u3067\u306f\u4ee5\u4e0b\u306e\u5834\u5408\u3092\u8003\u3048\u308b\u3002\n",
                "* \u88ab\u8aac\u660e\u5909\u6570\uff1a`lwage`\uff08\u65e2\u5a5a\u5973\u6027\u306e\u8cc3\u91d1; \u5bfe\u6570\uff09\n",
                "* \u5185\u751f\u7684\u8aac\u660e\u5909\u6570\uff1a`educ`\uff08\u65e2\u5a5a\u5973\u6027\u306e\u6559\u80b2\u5e74\u6570\uff09\n",
                "* \u64cd\u4f5c\u5909\u6570\uff1a`fatheduc`\uff08\u7236\u89aa\u306e\u6559\u80b2\u5e74\u6570\uff09\n",
                "* \u5916\u751f\u7684\u8aac\u660e\u5909\u6570\uff1a\u306a\u3057\n",
                "\n",
                "\uff08\u8003\u3048\u65b9\uff09\n",
                "\n",
                "\u8aa4\u5dee\u9805\u306b\u65e2\u5a5a\u5973\u6027\u306e\u80fd\u529b\u304c\u542b\u307e\u308c\u3066\u3044\u308b\u53ef\u80fd\u6027\u304c\u3042\u308b\u305f\u3081`educ`\u306f\u5185\u751f\u5909\u6570\u306e\u7591\u3044\u304c\u3042\u308b\u3002\u7236\u89aa\u306e\u6559\u80b2\u5e74\u6570`fatheduc`\u306f\u65e2\u5a5a\u5973\u6027\u306e\u6559\u80b2\u5e74\u6570`educ`\u3068\u6b63\u306e\u76f8\u95a2\u6027\u304c\u3042\u308b\u3068\u601d\u308f\u308c\u308b\u4e00\u65b9\uff0c\u80fd\u529b\u81ea\u4f53\u3068\u306f\u7121\u76f8\u95a2\u3068\u4eee\u5b9a\u3002"
            ]
        },
        {
            "cell_type": "markdown",
            "metadata": {},
            "source": [
                "### \u300c\u81ea\u52d5\u8a08\u7b97\u300d"
            ]
        },
        {
            "cell_type": "markdown",
            "metadata": {},
            "source": [
                "IV\u63a8\u5b9a\u6cd5\u306f2SLS\u306e\u7279\u6b8a\u306a\u30b1\u30fc\u30b9\u3068\u3057\u3066\uff12\u30b9\u30c6\u30c3\u30d7\u3067\u63a8\u5b9a\u3059\u308b\u3053\u3068\u3092\u8aac\u660e\u3057\u305f\u304c\uff0c\u3053\u3053\u3067\u306f\u81ea\u52d5\u7684\u306b\uff12\u30b9\u30c6\u30c3\u30d7\u3092\u8a08\u7b97\u3059\u308b\u5834\u5408\u3092\u7d39\u4ecb\u3059\u308b\u3002\n",
                "\n",
                "\u307e\u305a\u56de\u5e30\u5f0f\u3092\u6c7a\u3081\u308b\u3002"
            ]
        },
        {
            "cell_type": "code",
            "execution_count": null,
            "metadata": {},
            "outputs": [],
            "source": []
        },
        {
            "cell_type": "markdown",
            "metadata": {},
            "source": [
                "`IV2SLS`\u30e2\u30b8\u30e5\u30fc\u30eb\u306e`from_formula`\u3092\u4f7f\u3046\u3053\u3068\u306b\u3088\u308a\uff0c`statsmodels`\u306e`ols`\u306e\u3088\u3046\u306b\u56de\u5e30\u5f0f\u3092\u6587\u5b57\u5217\u3067\u6307\u5b9a\u3067\u304d\u308b\u3002\u6b21\u5f0f\u3067\u306f\u63a8\u5b9a\u3059\u308b\u30e2\u30c7\u30eb\u3092\u8a2d\u5b9a\u3059\u308b\u3002"
            ]
        },
        {
            "cell_type": "code",
            "execution_count": null,
            "metadata": {},
            "outputs": [],
            "source": []
        },
        {
            "cell_type": "markdown",
            "metadata": {},
            "source": [
                "`statsmodels`\u306e`ols`\u306e\u3088\u3046\u306b\u30e1\u30bd\u30c3\u30c9`.fit()`\u3092\u4f7f\u3044\u63a8\u5b9a\u3059\u308b\u3002\uff08\u4ee5\u524d\u8aac\u660e\u3057\u305f\u30aa\u30d7\u30b7\u30e7\u30f3\u306b\u3064\u3044\u3066\u306e\u8aac\u660e\u3092\u53c2\u7167\uff09"
            ]
        },
        {
            "cell_type": "code",
            "execution_count": null,
            "metadata": {},
            "outputs": [],
            "source": []
        },
        {
            "cell_type": "markdown",
            "metadata": {},
            "source": [
                "`res_1`\u306e\u5c5e\u6027`.summary`\uff0c\u3055\u3089\u306b`summary`\u306e\u5c5e\u6027`tables`\u3092\u4f7f\u3063\u3066\u30d1\u30e9\u30e1\u30fc\u30bf\u306e\u90e8\u5206\u3060\u3051\u3092\u8868\u793a\u3059\u308b\u3002"
            ]
        },
        {
            "cell_type": "code",
            "execution_count": null,
            "metadata": {},
            "outputs": [],
            "source": []
        },
        {
            "cell_type": "markdown",
            "metadata": {},
            "source": [
                "`educ`\u306e\u63a8\u5b9a\u5024\u306a\u3069\u306f\uff0c\u4e0a\u3067\u8aac\u660e\u3057\u305f\u3088\u3046\u306b`fatheduc`\u3092\u64cd\u4f5c\u5909\u6570\u3068\u3057\u3066\u8a08\u7b97\u3057\u305f\u7d50\u679c\u3067\u3042\u308b\u3002$p$\u5024\u306f`0.1`\u3088\u308a\u3082\u4f4e\u3044\u305f\u3081\uff0c`10%`\u6709\u610f\u6c34\u6e96\u3067\u306f\u4fc2\u6570`0`\u306e\u5e30\u7121\u4eee\u8aac\u3092\u68c4\u5374\u3067\u304d\u306a\u3044\u304c\uff0c`5%`\u6c34\u6e96\u3067\u306f\u68c4\u5374\u3055\u308c\u308b\u3002"
            ]
        },
        {
            "cell_type": "markdown",
            "metadata": {
                "heading_collapsed": true
            },
            "source": [
                "### \u300c\u624b\u52d5\u8a08\u7b97\u300d"
            ]
        },
        {
            "cell_type": "markdown",
            "metadata": {
                "hidden": true
            },
            "source": [
                "\u7b2c\uff11\u30fb\uff12\u6bb5\u968e\u306eOLS\u63a8\u5b9a\u3092\u5225\u3005\u306b\u8a66\u307f\u308b\u3002\n",
                "\n",
                "---\n",
                "**\u7b2c\uff11\u6bb5\u968e\u306eOLS**"
            ]
        },
        {
            "cell_type": "code",
            "execution_count": null,
            "metadata": {},
            "outputs": [],
            "source": [
                "\n",
                "\n",
                "",
                "",
                ""
            ]
        },
        {
            "cell_type": "markdown",
            "metadata": {
                "hidden": true
            },
            "source": [
                "\u4e0a\u306e\uff13\u884c\u76ee\u306e\u3067\u306f`res_stage_1`\u306e\u5c5e\u6027`.fitted_values`\u3092\u4f7f\u3044\u4e88\u6e2c\u5024\u3092\u53d6\u5f97\u3057\u3066\u3044\u308b\u3002`statsmodels`\u3092\u4f7f\u3044OLS\u63a8\u5b9a\u3057\u305f\u969b\u306b\u4f7f\u3063\u305f`.fittedvalues`\u3068\u7570\u306a\u308b\u30e1\u30bd\u30c3\u30c9\u540d\u306b\u306a\u3063\u3066\u3044\u308b\u3053\u3068\u306b\u6ce8\u610f\u3057\u3088\u3046\u3002\n",
                "\n",
                "---\n",
                "**\u7b2c\uff12\u6bb5\u968e\u306eOLS**"
            ]
        },
        {
            "cell_type": "code",
            "execution_count": null,
            "metadata": {},
            "outputs": [],
            "source": [
                "\n",
                "\n",
                "",
                "",
                ""
            ]
        },
        {
            "cell_type": "markdown",
            "metadata": {
                "hidden": true
            },
            "source": [
                "\u300c\u81ea\u52d5\u8a08\u7b97\u300d\u306e\u5834\u5408\u3068\u6bd4\u3079\u308b\u3068\uff0c`Parameter`\u306f\u540c\u3058\u3053\u3068\u304c\u78ba\u8a8d\u3067\u304d\u308b\u3002\u3057\u304b\u3057`Std. Err.`\u306f\u7570\u306a\u308a\uff0c\u305d\u308c\u306b\u57fa\u3065\u304f\u4ed6\u306e\u63a8\u5b9a\u5024\u3082\u7570\u306a\u308b\u3053\u3068\u306b\u6ce8\u610f\u3002"
            ]
        },
        {
            "cell_type": "markdown",
            "metadata": {
                "heading_collapsed": true
            },
            "source": [
                "### $OLS$\u63a8\u5b9a"
            ]
        },
        {
            "cell_type": "markdown",
            "metadata": {
                "hidden": true
            },
            "source": [
                "\u78ba\u8a8d\u306e\u305f\u3081\u306b\uff0c\u64cd\u4f5c\u5909\u6570\u6cd5\u3092\u4f7f\u308f\u305a\u306b\u76f4\u63a5OLS\u63a8\u5b9a\u3092\u304a\u3053\u306a\u3046\u3068\u3069\u3046\u306a\u308b\u304b\u3092\u78ba\u8a8d\u3057\u3088\u3046\u3002"
            ]
        },
        {
            "cell_type": "code",
            "execution_count": null,
            "metadata": {},
            "outputs": [],
            "source": [
                "\n",
                "\n",
                "",
                "",
                ""
            ]
        },
        {
            "cell_type": "markdown",
            "metadata": {
                "hidden": true
            },
            "source": [
                "\u64cd\u4f5c\u5909\u6570\u6cd5\u306e\u63a8\u5b9a\u91cf\u3068\u5927\u304d\u304f\u7570\u306a\u308b\u3053\u3068\u304c\u5206\u304b\u308b\u3002\u64cd\u4f5c\u5909\u6570\u6cd5\u3068\u6bd4\u3079\u3066`educ`\u306e$OLS$\u63a8\u5b9a\u91cf\u306f\u7d04\uff12\u500d\u306b\u306a\u308a\uff0c\u65e2\u5a5a\u5973\u6027\u306e\u6559\u80b2\u306e\u53ce\u76ca\u7387\u3092\u904e\u5927\u8a55\u4fa1\u3057\u3066\u3044\u308b\u3002`educ`\u3068\u8aa4\u5dee\u9805\u306b\u76f8\u95a2\u6027\u304c\u308b\u3068\u63a8\u6e2c\u3067\u304d\u308b\u3002"
            ]
        },
        {
            "cell_type": "markdown",
            "metadata": {
                "heading_collapsed": true
            },
            "source": [
                "## \u30b1\u30fc\u30b9\uff12\uff1a\u3088\u308a\u8907\u96d1\u306a`IV`\u63a8\u5b9a\uff082SLS\uff09"
            ]
        },
        {
            "cell_type": "markdown",
            "metadata": {
                "hidden": true
            },
            "source": [
                "### \u8aac\u660e"
            ]
        },
        {
            "cell_type": "markdown",
            "metadata": {
                "hidden": true
            },
            "source": [
                "\u30b1\u30fc\u30b9\uff11\u3092\u4ee5\u4e0b\u306e\u3088\u3046\u306b\u62e1\u5f35\u3059\u308b\u3002\n",
                "* \u8907\u6570\u306e\u5916\u751f\u7684\u8aac\u660e\u5909\u6570\u306e\u5c0e\u5165\uff08`exper`\uff0c`expersq`\uff09\n",
                "* \u8907\u6570\u306e\u64cd\u4f5c\u5909\u6570\u306e\u5c0e\u5165\uff08`fatheduc`\uff0c`motheduc`\uff09\n",
                "\n",
                "\u3053\u306e\u3088\u3046\u306b\u8907\u96d1\u5316\u3057\u3066\u3082\u57fa\u672c\u7684\u306a\u8003\u3048\u65b9\u306f\u540c\u3058\u3067\u3042\u308b\u3002\n",
                "\n",
                "$$y=\\beta_0+\\beta_1x_1+\\beta_2x_2+\\beta_3w+u\\qquad\\quad\\text{(*)}$$\n",
                "    \n",
                "* $\\text{Cov}(w,u)\\neq 0$\uff08$w$\u306f\u5185\u751f\u7684\u8aac\u660e\u5909\u6570\uff09\n",
                "* $\\text{Cov}(x_k,u)=0,\\;k=1,2$\uff08$x_k$\u306f\u5916\u751f\u7684\u8aac\u660e\u5909\u6570\uff09\n",
                "\n",
                "$w$\u306e\u64cd\u4f5c\u5909\u6570$z_j,\\;j=1,2$\u306f\u6b21\u306e\u6761\u4ef6\u3092\u6e80\u305f\u3059\u5fc5\u8981\u304c\u3042\u308b\u3002\n",
                "* $\\text{Cov}(z_j,w)\\neq 0$\n",
                "* $\\text{Cov}(z_j,u)=0$"
            ]
        },
        {
            "cell_type": "markdown",
            "metadata": {
                "hidden": true
            },
            "source": [
                "\uff1c2SLS\u306e\u8003\u3048\u65b9\uff1e\n",
                "\n",
                "**\u7b2c\uff11\u6bb5\u968eOLS**\n",
                "* \u6b21\u5f0f\u3092OLS\u63a8\u5b9a\u3059\u308b\u3002\n",
                "\n",
                "    $$w=\\pi_0+\\pi_1z_1+\\pi_2z_2+\\pi_3x_1+\\pi_4x_2+v\\qquad\\quad\\text{(**)}$$\n",
                "    \n",
                "    * $x_1$\u3068$x_2$\u304c\u5165\u308b\u76f4\u611f\u7684\u306a\u7406\u7531\n",
                "        * \u4e0b\u3067\u8aac\u660e\u3059\u308b\u3088\u3046\u306b\uff0c\u5f0f\uff08\\*\uff09\u306e`w`\u306e\u4ee3\u308f\u308a\u306b\u5f0f\uff08\\*\\*\uff09\u3092\u4f7f\u3063\u3066\u8a08\u7b97\u3059\u308b`w`\u306e\u4e88\u6e2c\u5024\u3092\u4ee3\u308f\u308a\u306b\u4f7f\u3046\u3053\u3068\u306b\u306a\u308b\u3002\u305d\u306e\u969b\uff0c\u5f0f\uff08\\*\\*\uff09\u306b$x_1$\u3068$x_2$\u304c\u5165\u3063\u3066\u3044\u306a\u3044\u3068\uff0c`w`\u306b\u5143\u3005\u3042\u3063\u305f$x_1$\u3068$x_2$\u3068\u306e\u95a2\u4fc2\u6027\u3092\u9664\u5916\u3059\u308b\u3053\u3068\u306b\u306a\u308b\u3002\u5f0f\uff08\\*\\*\uff09\u306b$x_1$\u3068$x_2$\u3092\u5165\u308c\u308b\u306e\u306f$x_1$\u3068$x_2$\u3068\u306e\u76f8\u95a2\u3092\u8003\u616e\u3057\u305f`w`\u306e\u4e88\u6e2c\u5024\u306b\u3059\u308b\u305f\u3081\u3067\u3042\u308b\u3002\n",
                "* $w$\u3092\uff12\u3064\u306e\u8981\u7d20\uff08$\\hat{w}$\u3068$v$\uff09\u306b\u5206\u89e3\n",
                "\n",
                "    $$w=\\hat{w}+v,\\qquad\\hat{w}=\\hat{\\pi}_0+\\hat{\\pi}_1z_1+\\hat{\\pi}_2z_2+\\hat{\\pi}_3x_1+\\hat{\\pi}_4x_2$$\n",
                "    \n",
                "    1. $\\hat{w}$\uff08\u4e88\u6e2c\u5024\uff09\uff1a\u5916\u751f\u5909\u6570\u3060\u3051\u3067\u8aac\u660e\u3055\u308c\u308b$w$\u306e\u90e8\u5206\uff08$x_1$\uff0c$x_2$\uff0c$z_1$\uff0c$z_2$\u3068\u76f8\u95a2\u3059\u308b\u90e8\u5206\uff09\n",
                "    1. $v$\uff08\u6b8b\u5dee\uff09\uff1a\u6b8b\u308a\u5168\u3066\uff08$u$\u3068\u76f8\u95a2\u3059\u308b$w$\u306e\u90e8\u5206\u306f\u3053\u308c\u306b\u5438\u53ce\u3055\u308c\u308b\uff09\n",
                "    \n",
                "* $\\hat{\\pi}_1$\u3068$\\hat{\\pi}_2$\u306e\u512a\u4f4d\u6027\u306e\u78ba\u8a8d\n",
                "    * \u64cd\u4f5c\u5909\u6570\u306e$F$\u5024 $>10$\n",
                "    * \u3053\u306e\u76ee\u5b89\u3092\u6e80\u305f\u3055\u306a\u3051\u308c\u3070\u5f31\u64cd\u4f5c\u5909\u6570\u306e\u53ef\u80fd\u6027\n",
                "        * \u63a8\u5b9a\u91cf\u306f\u4e0d\u504f\u6027\u30fb\u4e00\u81f4\u6027\u3092\u6e80\u305f\u3055\u306a\u3044\n",
                "    * $\\text{H}_0:\\;\\hat{\\pi}_1=\\hat{\\pi}_2=0$\u304c\u68c4\u5374\u3055\u308c\uff0c\u4e0a\u306e\u57fa\u6e96\u3092\u30af\u30ea\u30a2\u3059\u308c\u3070\u6b21\u306e\u30b9\u30c6\u30c3\u30d7\u3078\n",
                "\n",
                "**\u7b2c\uff12\u6bb5\u968eOLS**\n",
                "* \u4e88\u6e2c\u5024$\\hat{w}$\u3092\u4f7f\u3044\u6b21\u5f0f\u3092OLS\u63a8\u5b9a\u3059\u308b\u3002\n",
                "\n",
                "    $$y=\\gamma_0+\\gamma_1x_1+\\gamma_2x_2+\\gamma_3\\hat{w}+e$$\n",
                "    \n",
                "* IV\uff08instrumentala variable\uff09\u63a8\u5b9a\u91cf\uff1a$\\hat{\\gamma}_3$"
            ]
        },
        {
            "cell_type": "markdown",
            "metadata": {
                "heading_collapsed": true,
                "hidden": true
            },
            "source": [
                "### `educ`\u3068\u64cd\u4f5c\u5909\u6570\u306e\u76f8\u95a2\u6027\u30c1\u30a7\u30c3\u30af"
            ]
        },
        {
            "cell_type": "markdown",
            "metadata": {
                "hidden": true
            },
            "source": [
                "\u5185\u751f\u7684\u8aac\u660e\u5909\u6570\u3068\u64cd\u4f5c\u5909\u6570\u306eOLS\u63a8\u5b9a\u3092\u4f7f\u3044\uff0c\u76f8\u95a2\u6027\u306e\u691c\u5b9a\u3092\u304a\u3053\u306a\u3046\u3002\n",
                "\n",
                "\u4e0a\u8ff0\u306e\u3068\u304a\u308a\uff0c\u4e00\u822c\u7684\u306b\u6709\u52b9\u306a\u64cd\u4f5c\u5909\u6570\u306f\u4ee5\u4e0b\u3092\u6e80\u305f\u3059\u3002\n",
                "* \u64cd\u4f5c\u5909\u6570\u304c\uff11\u3064\u306e\u5834\u5408\n",
                "    * \u64cd\u4f5c\u5909\u6570\u306e$t$\u5024\u306e\u7d76\u5bfe\u5024 $>3.2$\n",
                "* \u8907\u6570\u306e\u64cd\u4f5c\u5909\u6570\u306e\u5834\u5408\n",
                "    * \u64cd\u4f5c\u5909\u6570\u306e$F$\u5024 $>10$"
            ]
        },
        {
            "cell_type": "code",
            "execution_count": null,
            "metadata": {},
            "outputs": [],
            "source": [
                "\n",
                "\n",
                "",
                "",
                ""
            ]
        },
        {
            "cell_type": "markdown",
            "metadata": {
                "hidden": true
            },
            "source": [
                "* `fatheduc`\u3068`motheduc`\u306e\u305d\u308c\u305e\u308c\u306e\u4fc2\u6570\n",
                "    * `T-stat`\uff08$t$\u5024\uff09$>3.2$\n",
                "    * `P-value`\uff08$p$\u5024\uff09\u306f\u7d04$0$\n",
                "* \uff12\u3064\u306e\u64cd\u4f5c\u5909\u6570\u306e\u4fc2\u6570\u304c\u540c\u6642\u306b$0$\u3068\u3044\u3046\u5e30\u7121\u4eee\u8aac\u306e\u691c\u5b9a\n",
                "    * `F-statistic`\uff08$F$\u5024\uff09$>10$\n",
                "    * `P-value(F-stat)`\uff08$t$\u5024\uff09\u3082\u7d04$0$\n",
                "\n",
                "\u5f93\u3063\u3066\uff0c`educ`\u3068\u64cd\u4f5c\u5909\u6570\u306e\u76f8\u95a2\u6027\u306f\u9ad8\u3044\u3002"
            ]
        },
        {
            "cell_type": "markdown",
            "metadata": {
                "heading_collapsed": true,
                "hidden": true
            },
            "source": [
                "### IV\u63a8\u5b9a"
            ]
        },
        {
            "cell_type": "markdown",
            "metadata": {
                "hidden": true
            },
            "source": [
                "\u4e0a\u8ff0\u3057\u305f`IV2SLS`\u56de\u5e30\u5f0f\u306e\u4e00\u822c\u5f62\u306b\u57fa\u3065\u3044\u3066\u56de\u5e30\u5f0f\u3092\u8a2d\u5b9a\u3059\u308b\u3002"
            ]
        },
        {
            "cell_type": "code",
            "execution_count": null,
            "metadata": {},
            "outputs": [],
            "source": []
        },
        {
            "cell_type": "markdown",
            "metadata": {
                "hidden": true
            },
            "source": [
                "\u64cd\u4f5c\u5909\u6570\u6cd5\u3092\u4f7f\u3044\u63a8\u5b9a"
            ]
        },
        {
            "cell_type": "code",
            "execution_count": null,
            "metadata": {},
            "outputs": [],
            "source": [
                "\n",
                "\n",
                ""
            ]
        },
        {
            "cell_type": "markdown",
            "metadata": {
                "hidden": true
            },
            "source": [
                "IV\u304c\uff11\u3064\u306e\u30b1\u30fc\u30b9\u3068\u6bd4\u3079\u3066`educ`\u306e\u4fc2\u6570\u81ea\u4f53\u306f\u5927\u304d\u304f\u5909\u308f\u3063\u3066\u306f\u3044\u306a\u3044\u304c\uff0c`5%`\u6709\u610f\u6c34\u6e96\u3067\u3082\u4fc2\u6570`0`\u306e\u5e30\u7121\u4eee\u8aac\u3092\u68c4\u5374\u3067\u304d\u308b\u3088\u3046\u306b\u306a\u3063\u3066\u3044\u308b\u3002"
            ]
        },
        {
            "cell_type": "markdown",
            "metadata": {
                "heading_collapsed": true
            },
            "source": [
                "## \u30b7\u30df\u30e5\u30ec\u30fc\u30b7\u30e7\u30f3\uff1a\uff13\u3064\u306e\u7279\u5fb4"
            ]
        },
        {
            "cell_type": "markdown",
            "metadata": {
                "heading_collapsed": true,
                "hidden": true
            },
            "source": [
                "### \u4e00\u81f4\u6027"
            ]
        },
        {
            "cell_type": "markdown",
            "metadata": {
                "hidden": true
            },
            "source": [
                "\uff08\u76ee\u7684\uff09\n",
                "* `IV`\u63a8\u5b9a\u91cf\u306e\u4e00\u81f4\u6027\u3092\u78ba\u8a8d\u3059\u308b\u3002\n",
                "\n",
                "\uff1c\u30b7\u30df\u30e5\u30ec\u30fc\u30b7\u30e7\u30f3\u306e\u5185\u5bb9\uff1e\n",
                "\n",
                "* \u6bcd\u96c6\u56e3\u306e\u8aac\u660e\u5909\u6570\u306b\u306f`x1`\u3068`x2`\u304c\u3042\u308a\uff0c`x2`\u3092\u6b20\u843d\u5909\u6570\u3068\u3059\u308b\u5358\u56de\u5e30\u5206\u6790\u3002\n",
                "\n",
                "    $$ y=\\beta_0 + \\beta_1 x_1 + u$$\n",
                "    \n",
                "* `z`\u3092`x1`\u64cd\u4f5c\u5909\u6570\u3068\u3059\u308b\u3002\n",
                "* \uff12\u3064\u306e\u63a8\u5b9a\u65b9\u6cd5\n",
                "    * \u64cd\u4f5c\u5909\u6570`z`\u3092\u4f7f\u3044IV\u6cd5\u306b\u3088\u308b\u63a8\u5b9a\n",
                "    * OLS\u306b\u3088\u308b\u63a8\u5b9a\uff08\u3053\u306e\u5834\u5408\uff0c\u6b20\u843d\u5909\u6570\u30d0\u30a4\u30a2\u30b9\u304c\u767a\u751f\u3059\u308b\uff09\n",
                "* \u6a19\u672c\u306e\u5927\u304d\u3055\u306f$1000$\uff0c\u6a19\u672c\u6570\uff08\u30eb\u30fc\u30d7\u306e\u56de\u6570\uff09\u309210000\u3068\u3057\u3066$\\hat{\\beta}_1$\u306e\u5206\u5e03\u3092\u6bd4\u3079\u308b"
            ]
        },
        {
            "cell_type": "markdown",
            "metadata": {
                "hidden": true
            },
            "source": [
                "\u6a19\u672c\u6570\uff08\u30eb\u30fc\u30d7\u306e\u56de\u6570\uff09"
            ]
        },
        {
            "cell_type": "code",
            "execution_count": null,
            "metadata": {},
            "outputs": [],
            "source": []
        },
        {
            "cell_type": "markdown",
            "metadata": {
                "hidden": true
            },
            "source": [
                "\u6bcd\u96c6\u56e3\u306e\u30d1\u30e9\u30e1\u30fc\u30bf"
            ]
        },
        {
            "cell_type": "code",
            "execution_count": null,
            "metadata": {},
            "outputs": [],
            "source": [
                "\n",
                "\n",
                ""
            ]
        },
        {
            "cell_type": "markdown",
            "metadata": {
                "hidden": true
            },
            "source": [
                "\u30b7\u30df\u30e5\u30ec\u30fc\u30b7\u30e7\u30f3\u306e\u95a2\u6570\u3092\u8a2d\u5b9a\u3059\u308b\u3002\n",
                "* \u5f15\u6570\n",
                "    * `n`\uff1a\u6a19\u672c\u306e\u5927\u304d\u3055\n",
                "    * `m`\uff1a`x1`\u3068`z`\u306e\u5171\u5206\u6563 $\\text{Cov}(x1,z)=m$\n",
                "    * `ols`\uff08\u30c7\u30d5\u30a9\u30eb\u30c8\u306f`False`\uff09\uff1aOLS\u63a8\u5b9a\u3092\u4e00\u7dd2\u306b\u884c\u3046\u5834\u5408\u306f`True`\n",
                "* \u8fd4\u308a\u5024\n",
                "    * IV\u63a8\u5b9a\u5024\u306e\u30ea\u30b9\u30c8\uff08`ols=False`\uff09\n",
                "    * IV\u63a8\u5b9a\u5024\u306e\u30ea\u30b9\u30c8\u3068OLS\u63a8\u5b9a\u5024\u306e\u30ea\u30b9\u30c8\uff08`ols=True`\uff09\n",
                "    \n",
                "\uff08\u30b3\u30e1\u30f3\u30c8\uff09\n",
                "\n",
                "\u8a08\u7b97\u306e\u901f\u5ea6\u3092\u65e9\u3081\u308b\u305f\u3081\u306b\u4e0b\u306e\u95a2\u6570\u306e\u4e2d\u3067\u306f`IV2SLS`\u306f\u4f7f\u308f\u305a`numpy`\u306e\u95a2\u6570\u3092\u4f7f\u3044IV\u3068OLS\u63a8\u5b9a\u5024\u3092\u8a08\u7b97\u3057\u3066\u3044\u308b\u3002`IV2SLS`\u306f\u4fc2\u6570\u306e\u63a8\u5b9a\u5024\u3060\u3051\u3067\u306f\u306a\u304f\u4ed6\u306e\u591a\u304f\u306e\u7d71\u8a08\u5024\u3082\u81ea\u52d5\u7684\u306b\u8a08\u7b97\u3059\u308b\u305f\u3081\u306b\u4e00\u56de\u306e\u8a08\u7b97\u306b\u6bd4\u8f03\u7684\u306b\u9577\u3044\u6642\u9593\u3092\u8981\u3059\u308b\u305f\u3081\u3067\u3042\u308b\u3002"
            ]
        },
        {
            "cell_type": "code",
            "execution_count": null,
            "metadata": {},
            "outputs": [],
            "source": [
                "\n",
                "\n",
                "",
                "",
                "",
                "",
                "",
                "",
                "",
                "",
                "",
                "",
                "",
                "",
                "",
                "",
                "",
                "",
                "",
                "",
                "",
                "",
                "",
                "",
                "",
                "",
                "",
                "",
                "",
                "        # IV \u7b2c\uff11\u30b9\u30c6\u30fc\u30b8\n",
                "\n",
                "\n",
                "",
                "        # IV \u7b2c\uff12\u30b9\u30c6\u30fc\u30b8\n",
                "\n",
                "\n",
                "",
                "",
                "",
                "",
                "",
                "",
                "",
                "",
                "",
                "",
                "",
                "",
                "",
                "",
                "",
                ""
            ]
        },
        {
            "cell_type": "markdown",
            "metadata": {
                "hidden": true
            },
            "source": [
                "\u30b7\u30df\u30e5\u30ec\u30fc\u30b7\u30e7\u30f3\u306e\u958b\u59cb"
            ]
        },
        {
            "cell_type": "code",
            "execution_count": null,
            "metadata": {},
            "outputs": [],
            "source": []
        },
        {
            "cell_type": "markdown",
            "metadata": {
                "hidden": true
            },
            "source": [
                "\u56f3\u793a"
            ]
        },
        {
            "cell_type": "code",
            "execution_count": null,
            "metadata": {},
            "outputs": [],
            "source": [
                "\n",
                "\n",
                "",
                "",
                "",
                "",
                "",
                "",
                "",
                "",
                "",
                ""
            ]
        },
        {
            "cell_type": "markdown",
            "metadata": {
                "hidden": true
            },
            "source": [
                "* \u6b20\u843d\u5909\u6570\u304c\u767a\u751f\u3057\u3066\u3044\u308b\u305f\u3081`OLS`\u63a8\u5b9a\u91cf\u306f\u4e00\u81f4\u6027\u306f\u6e80\u305f\u3055\u306a\u3044\u3002\n",
                "* `IV`\u63a8\u5b9a\u91cf\u306f\u4e00\u81f4\u6027\u3092\u6e80\u305f\u3059\u3002"
            ]
        },
        {
            "cell_type": "markdown",
            "metadata": {
                "heading_collapsed": true,
                "hidden": true
            },
            "source": [
                "### \u6a19\u672c\u306e\u5927\u304d\u3055"
            ]
        },
        {
            "cell_type": "markdown",
            "metadata": {
                "hidden": true
            },
            "source": [
                "\uff08\u76ee\u7684\uff09\n",
                "* `IV`\u63a8\u5b9a\u91cf\u306e\u4e00\u81f4\u6027\u306f\u5927\u6a19\u672c\u7279\u6027\u3067\u3042\u308b\u3002\u3053\u3053\u3067\u306f\u6a19\u672c\u306e\u5927\u304d\u3055\u306e\u52b9\u679c\u3092\u78ba\u8a8d\u3059\u308b\u3002\n",
                "\n",
                "\uff1c\u30b7\u30df\u30e5\u30ec\u30fc\u30b7\u30e7\u30f3\u306e\u5185\u5bb9\uff1e\n",
                "\n",
                "* \u4e0a\u3068\u540c\u3058\u8a2d\u5b9a\n",
                "* `IV`\u6cd5\u306b\u3088\u308b\u5358\u56de\u5e30\u5206\u6790\u306e\u307f\u3092\u8003\u3048\u308b\n",
                "* \u6a19\u672c\u306e\u5927\u304d\u3055\u3092`30`\uff0c`100`\uff0c`1000`\n",
                "* \u305d\u308c\u305e\u308c`N=10000`\u56de\u63a8\u5b9a\u3057$\\hat{\\beta}_1$\u306e\u5206\u5e03\u3092\u6bd4\u3079\u308b"
            ]
        },
        {
            "cell_type": "markdown",
            "metadata": {
                "hidden": true
            },
            "source": [
                "\u4e0a\u3067\u4f7f\u3063\u305f\u95a2\u6570`sim_iv()`\u3092\u30c7\u30d5\u30a9\u30eb\u30c8\uff08`ols=False`\uff09\u3067\u4f7f\u3046\u3002"
            ]
        },
        {
            "cell_type": "code",
            "execution_count": null,
            "metadata": {},
            "outputs": [],
            "source": [
                "\n",
                "\n",
                ""
            ]
        },
        {
            "cell_type": "markdown",
            "metadata": {
                "hidden": true
            },
            "source": [
                "\u56f3\u793a"
            ]
        },
        {
            "cell_type": "code",
            "execution_count": null,
            "metadata": {},
            "outputs": [],
            "source": [
                "\n",
                "\n",
                "",
                "",
                "",
                "",
                "",
                "",
                "",
                "",
                "",
                "",
                "",
                "",
                ""
            ]
        },
        {
            "cell_type": "markdown",
            "metadata": {
                "hidden": true
            },
            "source": [
                "* \u6a19\u672c\u306e\u5927\u304d\u3055\u304c\u5897\u52a0\u3059\u308b\u3068\uff0c\u5206\u6563\u306f\u4f4e\u4e0b\u3059\u308b\u3002\n",
                "* \u6a19\u672c\u306e\u5927\u304d\u3055\u304c\u5c0f\u3055\u3044\u5834\u5408\uff0c\u4e0d\u504f\u6027\u306f\u6e80\u305f\u3055\u308c\u306a\u3044\u3053\u3068\u3082\u308f\u304b\u308b\u3002"
            ]
        },
        {
            "cell_type": "markdown",
            "metadata": {
                "heading_collapsed": true,
                "hidden": true
            },
            "source": [
                "### \u64cd\u4f5c\u5909\u6570\u3068\u306e\u76f8\u95a2\u6027\uff08\u5f31\u64cd\u4f5c\u5909\u6570\uff09"
            ]
        },
        {
            "cell_type": "markdown",
            "metadata": {
                "hidden": true
            },
            "source": [
                "\uff08\u76ee\u7684\uff09\n",
                "* IV\u63a8\u5b9a\u6cd5\u3067\u5fc5\u9808\u3068\u306a\u308b\u306e\u304c\u5185\u751f\u7684\u8aac\u660e\u5909\u6570\u3068\u64cd\u4f5c\u5909\u6570\u306e\u76f8\u95a2\u6027\u3067\u3042\u308b\u3002\u76f8\u95a2\u6027\u304c\u9ad8\u3044\u5834\u5408\u306f\u63a8\u5b9a\u91cf\u306e\u6a19\u6e96\u3054\u3055\u306f\u4f4e\u304f\u306a\u308b\u304c\uff0c\u9006\u306b\u76f8\u95a2\u6027\u304c\u4f4e\u3044\u5834\u5408\u306f\u63a8\u5b9a\u91cf\u306e\u6a19\u6e96\u8aa4\u5dee\u304c\u5927\u304d\u304f\u306a\u308b\u3053\u3068\u3092\u78ba\u8a8d\u3059\u308b\u3002\n",
                "\n",
                "\uff1c\u30b7\u30df\u30e5\u30ec\u30fc\u30b7\u30e7\u30f3\u306e\u5185\u5bb9\uff1e\n",
                "\n",
                "* \u4e0a\u3068\u540c\u3058\u8a2d\u5b9a\n",
                "* `IV`\u6cd5\u306b\u3088\u308b\u5358\u56de\u5e30\u5206\u6790\u306e\u307f\u3092\u8003\u3048\u308b\n",
                "* \u5185\u751f\u7684\u8aac\u660e\u5909\u6570\u3068\u64cd\u4f5c\u5909\u6570\u306e\u5171\u5206\u6563`m`\u3092`0.1`\uff0c`0.4`\uff0c`0.8`\u306e3\u3064\u306e\u30b1\u30fc\u30b9\u3092\u8003\u3048\u308b\u3002\n",
                "* \u6a19\u672c\u306e\u5927\u304d\u3055$2000$\u306b\u56fa\u5b9a\u3057\uff0c\u305d\u308c\u305e\u308c`N=10000`\u56de\u63a8\u5b9a\u3057$\\hat{\\beta}_1$\u306e\u5206\u5e03\u3092\u6bd4\u3079\u308b"
            ]
        },
        {
            "cell_type": "markdown",
            "metadata": {
                "hidden": true
            },
            "source": [
                "\u4e0a\u3067\u4f7f\u3063\u305f\u95a2\u6570`sim_iv()`\u3092\u4f7f\u3046\u3002\n",
                "\n",
                "\u30b7\u30df\u30e5\u30ec\u30fc\u30b7\u30e7\u30f3\u306e\u958b\u59cb"
            ]
        },
        {
            "cell_type": "code",
            "execution_count": null,
            "metadata": {},
            "outputs": [],
            "source": [
                "\n",
                "\n",
                ""
            ]
        },
        {
            "cell_type": "markdown",
            "metadata": {
                "hidden": true
            },
            "source": [
                "\u56f3\u793a"
            ]
        },
        {
            "cell_type": "code",
            "execution_count": null,
            "metadata": {},
            "outputs": [],
            "source": [
                "\n",
                "\n",
                "",
                "",
                "",
                "",
                "",
                "",
                "",
                "",
                "",
                "",
                "",
                "",
                ""
            ]
        },
        {
            "cell_type": "markdown",
            "metadata": {
                "hidden": true
            },
            "source": [
                "$\\text{Cov}(x,z)$\u304c\u4f4e\u304f\u306a\u308b\u3068\u5206\u6563\u304c\u5927\u304d\u304f\u306a\u308a\uff0c\u4e00\u81f4\u6027\u3092\u5931\u3046\u3053\u3068\u3082\u78ba\u8a8d\u3067\u304d\u308b\u3002"
            ]
        },
        {
            "cell_type": "markdown",
            "metadata": {
                "heading_collapsed": true
            },
            "source": [
                "## \u8aac\u660e\u5909\u6570\u306e\u5916\u751f\u6027\u306e\u691c\u5b9a"
            ]
        },
        {
            "cell_type": "markdown",
            "metadata": {
                "hidden": true
            },
            "source": [
                "### \u8aac\u660e"
            ]
        },
        {
            "cell_type": "markdown",
            "metadata": {
                "hidden": true
            },
            "source": [
                "\u6b21\u5f0f\u3092\u8003\u3048\u3088\u3046\u3002\n",
                "\n",
                "$$y=\\beta_0+\\beta_1w+u$$\n",
                "\n",
                "* $\\text{Cov}(w,u)=0$\u306e\u5834\u5408\uff0c`OLS`\u304c\u3088\u308a\u826f\u3044\u63a8\u5b9a\u91cf\n",
                "    * `OLS`\u63a8\u5b9a\u91cf\u306f\u4e0d\u504f\u6027\u30fb\u4e00\u81f4\u6027\u3092\u6e80\u305f\u3059\u3002\n",
                "    * `IV-2SLS`\u63a8\u5b9a\u91cf\u4e00\u81f4\u6027\u3092\u6e80\u305f\u3059\u304c\u4e0d\u504f\u6027\u306f\u6b20\u304d\uff0c\u6a19\u6e96\u8aa4\u5dee\u304c\u5927\u304d\u304f\u306a\u308a\u6b63\u78ba\u6027\u3092\u640d\u306a\u3046\u3002\n",
                "* $\\text{Cov}(w,u)\\neq 0$\u306e\u5834\u5408\uff0c`IV-2SLS`\u304c\u3088\u308a\u826f\u3044\u63a8\u5b9a\u91cf\n",
                "    * `OLS`\u63a8\u5b9a\u91cf\u306f\u4e0d\u504f\u6027\u30fb\u4e00\u81f4\u6027\u3092\u6e80\u305f\u3055\u306a\u3044\u3002\n",
                "    * `IV-2SLS`\u63a8\u5b9a\u91cf\u306f\u4e00\u81f4\u6027\u3092\u6e80\u305f\u3059\u3002"
            ]
        },
        {
            "cell_type": "markdown",
            "metadata": {
                "hidden": true
            },
            "source": [
                "\u3053\u306e\u3088\u3046\u306b\u8aac\u660e\u5909\u6570\u304c\u5916\u751f\u7684\u304b\u5185\u751f\u7684\u304b\u306b\u3088\u3063\u3066\u63a8\u5b9a\u91cf\u306e\u6027\u8cea\u304c\u5927\u304d\u304f\u7570\u306a\u308b\u3002\u3067\u306f`IV`\u63a8\u5b9a\u6cd5\u3068`OLS`\u63a8\u5b9a\u6cd5\u306e\u3069\u3061\u3089\u3092\u4f7f\u3046\u3079\u304d\u306a\u306e\u304b\u3002\u3053\u306e\u554f\u984c\u306f\u8aac\u660e\u5909\u6570\u304c\u5916\u751f\u7684\u304b\uff08$\\text{Cov}(w,u)=0$\uff09\u305d\u308c\u3068\u3082\u5185\u751f\u7684\u304b\uff08$\\text{Cov}(w,u)\\neq 0$\uff09\u306b\u4f9d\u5b58\u3057\u3066\u304a\u308a\uff0c\u3053\u3053\u3067\u306f\u305d\u306e\u691c\u5b9a\u65b9\u6cd5\u306b\u3064\u3044\u3066\u8aac\u660e\u3059\u308b\u3002"
            ]
        },
        {
            "cell_type": "markdown",
            "metadata": {
                "hidden": true
            },
            "source": [
                "---\n",
                "\u4e0a\u3067\u8003\u3048\u305f\u30b1\u30fc\u30b9\uff12\u3092\u4f7f\u3063\u3066\u78ba\u304b\u3081\u308b\u3002"
            ]
        },
        {
            "cell_type": "markdown",
            "metadata": {
                "heading_collapsed": true,
                "hidden": true
            },
            "source": [
                "### \u691c\u5b9a\u65b9\u6cd5\uff11\uff1a`Wu-Hausman`\u691c\u5b9a"
            ]
        },
        {
            "cell_type": "markdown",
            "metadata": {
                "hidden": true
            },
            "source": [
                "\u5e30\u7121\u4eee\u8aac\u3068\u5bfe\u7acb\u4eee\u8aac\uff1a\n",
                "\n",
                "$\\text{H}_0:\\;\\text{Cov}(w,u)=0$\n",
                "\n",
                "$\\text{H}_A:\\;\\text{Cov}(w,u)\\neq 0$\n",
                "\n",
                "---\n",
                "\uff08\u57fa\u672c\u7684\u306a\u8003\u3048\u65b9\uff09\n",
                "\n",
                "\u5e30\u7121\u4eee\u8aac\u306e\u3082\u3068\u3067\u306f\uff0c`IV`\u63a8\u5b9a\u6cd5\u3082`OLS`\u63a8\u5b9a\u6cd5\u3082\u4e00\u81f4\u6027\u3082\u6e80\u305f\u3059\u305f\u3081\n",
                "\n",
                "$$\\left|\\hat{\\beta}_j^{\\text{OLS}}-\\hat{\\beta}_j^{\\text{IV}}\\right|$$\n",
                "\n",
                "\u306e\u5024\u306f\u5c0f\u3055\u3044\u306f\u305a\u3002\u9006\u306b\uff0c\u5e30\u7121\u4eee\u8aac\u304c\u6210\u7acb\u3057\u306a\u3044\u5834\u5408\uff0c`OLS`\u63a8\u5b9a\u91cf\u306f\u4e0d\u504f\u6027\u3082\u4e00\u81f4\u6027\u3082\u5931\u3046\u3053\u3068\u306b\u306a\u308a\uff0c\u4e0a\u306e\u5024\u306f\u5927\u304d\u304f\u306a\u308b\u3002\u5373\u3061\uff0c\u4e0a\u306e\u5024\u304c\u5927\u304d\u3051\u308c\u3070\uff08\u5c0f\u3055\u3051\u308c\u3070\uff09\uff0c\u5e30\u7121\u4eee\u8aac\u3092\u68c4\u5374\u3067\u304d\u308b\u53ef\u80fd\u6027\u304c\u9ad8\u304f\u306a\u308b\uff08\u4f4e\u304f\u306a\u308b\uff09\u3002\u3053\u306e\u8003\u3048\u3092\u5229\u7528\u3057\u305f\u306e\u304c`Wu-Hausman`\u691c\u5b9a\u3067\u3042\u308b\u3002"
            ]
        },
        {
            "cell_type": "markdown",
            "metadata": {
                "hidden": true
            },
            "source": [
                "---\n",
                "`res_2`\u306e\u30e1\u30bd\u30c3\u30c9`.wu_hausman()`\u3092\u4f7f\u3046\u3068\u691c\u5b9a\u7d71\u8a08\u91cf\u3068$p$\u5024\u304c\u8868\u793a\u3055\u308c\u308b\u3002\n",
                "\n",
                "\uff08\u6ce8\u610f\uff09`.wu_hauseman()`\u3067\u3042\u3063\u3066`.wu_hauseman`\u3067\u306f\u306a\u3044\u3002"
            ]
        },
        {
            "cell_type": "code",
            "execution_count": null,
            "metadata": {},
            "outputs": [],
            "source": []
        },
        {
            "cell_type": "markdown",
            "metadata": {
                "hidden": true
            },
            "source": [
                "$p$\u5024\u306f0.0948\u30025%\u306e\u6709\u610f\u6c34\u6e96\u3067\u306f\u5e30\u7121\u4eee\u8aac\u3092\u68c4\u5374\u3067\u304d\u306a\u3044\uff08\u5916\u751f\u6027\u3092\u68c4\u5374\u3067\u304d\u306a\u3044\uff09\u304c\uff0c10%\u3067\u306f\u68c4\u5374\u3067\u304d\u308b\u3002"
            ]
        },
        {
            "cell_type": "markdown",
            "metadata": {
                "heading_collapsed": true,
                "hidden": true
            },
            "source": [
                "### \u691c\u5b9a\u65b9\u6cd5\uff12"
            ]
        },
        {
            "cell_type": "markdown",
            "metadata": {
                "hidden": true
            },
            "source": [
                "\u307e\u305a\u691c\u5b9a\u65b9\u6cd5\u306b\u3064\u3044\u3066\u8aac\u660e\u3057\uff0c\u300c\u8003\u3048\u65b9\u300d\u306b\u3064\u3044\u3066\u306f\u5f8c\u8ff0\u3059\u308b\u3002\u6b21\u306e\u56de\u5e30\u5f0f\u3092\u8003\u3048\u308b\u3002\n",
                "\n",
                "$$y=\\beta_0+\\beta_1x + \\beta_2w+u\\qquad\\qquad (\\text{\u5f0f\uff11})$$\n",
                "\n",
                "* $x$\u306f\u5916\u751f\u7684\u8aac\u660e\u5909\u6570\n",
                "* $w$\u306f\u5185\u751f\u6027\u304c\u7591\u308f\u308c\u308b\u8aac\u660e\u5909\u6570"
            ]
        },
        {
            "cell_type": "markdown",
            "metadata": {
                "hidden": true
            },
            "source": [
                "---\n",
                "\uff12\u6bb5\u968e\u3067\u691c\u5b9a\u3059\u308b\u3002\n",
                "\n",
                "**\u7b2c\uff11\u6bb5\u968e**\n",
                "* \uff08\u5f0f\uff11\uff09\u306eOLS\u6b8b\u5dee$\\hat{u}$\u3092\u8a08\u7b97\u3059\u308b\u3002\n",
                "\n",
                "**\u7b2c\uff12\u6bb5\u968e**\n",
                "* \uff08\u5f0f\uff11\uff09\u306b$\\hat{u}$\u3092\u52a0\u3048\u3066OLS\u63a8\u5b9a\u3059\u308b\u3002\n",
                "\n",
                "    $$y=\\gamma_0+\\gamma_1x + \\gamma_2w+\\gamma_u\\hat{u}+e\\qquad\\qquad (\\text{\u5f0f\uff12})$$\n",
                "\n",
                "* \u6b21\u306e\u691c\u5b9a\u3092\u304a\u3053\u306a\u3046\u3002\n",
                "    * $\\text{H}_0:\\;\\hat{\\gamma}_u=0$\uff08$w$\u306f\u5916\u751f\u7684\u3067\u3042\u308b\uff09\n",
                "    * $\\text{H}_A:\\;\\hat{\\gamma}_u\\neq 0$\n",
                "* $\\text{H}_0$\u304c\u68c4\u5374\u3055\u308c\u308c\u3070$w$\u306f\u5185\u751f\u7684\u8aac\u660e\u5909\u6570\u3068\u5224\u65ad\n",
                "\n",
                "\uff08\u30b3\u30e1\u30f3\u30c8\uff09\u8a08\u7b97\u4e0a$\\hat{\\gamma}_i=\\hat{\\beta}_i,\\;i=0,1,2$\u304c\u6210\u308a\u7acb\u3064\u3053\u3068\u306b\u306a\u308b\u3002"
            ]
        },
        {
            "cell_type": "markdown",
            "metadata": {
                "hidden": true
            },
            "source": [
                "---\n",
                "**-------- \u8003\u3048\u65b9 --------**\n",
                "\n",
                "\uff1c\u7b2c\uff11\u6bb5\u968e\uff1e\n",
                "* (\u5f0f\uff11)\u3092\u63a8\u5b9a\u3059\u308b\u3068$y$\u3092$\\hat{y}$\u3068$\\hat{u}$\u306b\u5206\u89e3\u3059\u308b\u3053\u3068\u304c\u3067\u304d\u308b\u3002\n",
                "\n",
                "    $$y=\\hat{y}+\\hat{u}$$\n",
                "    \n",
                "    * $\\hat{y}$\uff1a\u8aac\u660e\u5909\u6570\u3067\u8aac\u660e\u3067\u304d\u308b$y$\u306e\u90e8\u5206\n",
                "    * $\\hat{u}$\uff1a$y$\u306e\u305d\u306e\u4ed6\u306e\u90e8\u5206\n",
                "* $u$\u304c$w$\u3068\u76f8\u95a2\u3057\u3066\u3044\u308c\u3070\uff0c\u305d\u306e\u76f8\u95a2\u3059\u308b\u90e8\u5206\u304c$\\hat{u}$\u306b\u542b\u307e\u308c\u308b\u3053\u3068\u306b\u306a\u308b\u3002\u4ee5\u4e0b\u306e\u3088\u3046\u306a\u30a4\u30e1\u30fc\u30b8\u3002\n",
                "\n",
                "    $$\\hat{u}=f\\left(\\hat{u}_w,v\\right)$$\n",
                "    \n",
                "    * $\\hat{u}_w$\uff1a$w$\u3068\u76f8\u95a2\u3059\u308b\u90e8\u5206\n",
                "    * $v$\uff1a$w$\u3068\u76f8\u95a2\u3057\u306a\u3044\u90e8\u5206\n",
                "\n",
                "\uff1c\u7b2c\uff12\u6bb5\u968e\uff1e\n",
                "* (\u5f0f\uff12)\u3092\u63a8\u5b9a\u3059\u308b\u3068\uff0c\u76f8\u95a2\u90e8\u5206\u3067\u3042\u308b$\\hat{u}_w$\u3092$\\gamma_u\\hat{u}$\u3068\u3057\u3066\u53d6\u308a\u51fa\u3059\u3053\u3068\u304c\u3067\u304d\u308b\u3002\n",
                "* \u3082\u3057$\\gamma_u$\u304c\u6709\u610f\u3067\u3042\u308c\u3070\uff0c$\\text{H}_0$\u306f\u68c4\u5374\u3055\u308c\u308b\u3002$\\hat{u}_w$\u306f\u5b58\u5728\u3059\u308b\u3068\u3044\u3046\u3053\u3068\u306b\u306a\u308a\uff0c$w$\u306f\u5185\u751f\u7684\u8aac\u660e\u5909\u6570\u3068\u5224\u65ad\u3067\u304d\u308b\u3002\n",
                "* \u3082\u3057$\\gamma_u$\u304c\u6709\u610f\u3067\u306a\u3051\u308c\u3070\uff0c$\\text{H}_0$\u306f\u68c4\u5374\u3067\u304d\u306a\u3044\u3002$\\hat{u}_w$\u306f\u5b58\u5728\u3057\u306a\u3044\u3068\u3044\u3046\u3053\u3068\u306b\u306a\u308a\uff0c$w$\u306f\u5916\u751f\u7684\u8aac\u660e\u5909\u6570\u3068\u5224\u65ad\u3067\u304d\u308b\u3002"
            ]
        },
        {
            "cell_type": "markdown",
            "metadata": {
                "heading_collapsed": true,
                "hidden": true
            },
            "source": [
                "#### \u300c\u624b\u8a08\u7b97\u300d"
            ]
        },
        {
            "cell_type": "markdown",
            "metadata": {
                "hidden": true
            },
            "source": [
                "**\u7b2c\uff11\u6bb5\u968e**"
            ]
        },
        {
            "cell_type": "code",
            "execution_count": null,
            "metadata": {},
            "outputs": [],
            "source": [
                "\n",
                "\n",
                "",
                "",
                ""
            ]
        },
        {
            "cell_type": "markdown",
            "metadata": {
                "hidden": true
            },
            "source": [
                "**\u7b2c\uff12\u6bb5\u968e**\n",
                "\n",
                "\u56de\u5e30\u5f0f\u306b\u76f4\u63a5`res_2a.resids`\u3092\u5165\u308c\u308b\u3002`resids`\u306f`res_2a`\u306e\u6b8b\u5dee\u3092\u53d6\u5f97\u3059\u308b\u5c5e\u6027\u3002"
            ]
        },
        {
            "cell_type": "code",
            "execution_count": null,
            "metadata": {},
            "outputs": [],
            "source": [
                "\n",
                "\n",
                "",
                "",
                "",
                "",
                ""
            ]
        },
        {
            "cell_type": "markdown",
            "metadata": {
                "hidden": true
            },
            "source": [
                "$p$\u5024\u306f0.0928\u3067\uff0c5%\u306e\u6709\u610f\u6c34\u6e96\u3067\u306f\u5e30\u7121\u4eee\u8aac\u3092\u68c4\u5374\u3067\u304d\u306a\u3044\uff08\u5185\u751f\u6027\u3092\u68c4\u5374\u3067\u304d\u306a\u3044\uff09\u3002"
            ]
        },
        {
            "cell_type": "markdown",
            "metadata": {
                "heading_collapsed": true,
                "hidden": true
            },
            "source": [
                "#### \u81ea\u52d5\u8a08\u7b97"
            ]
        },
        {
            "cell_type": "markdown",
            "metadata": {
                "hidden": true
            },
            "source": [
                "`linearmodels`\u306b\u306f\u4e0a\u306e\u8a08\u7b97\u3092\u81ea\u52d5\u3067\u304a\u3053\u306a\u3063\u305f\u7d50\u679c\u3092\u793a\u3059\u30e1\u30bd\u30c3\u30c9\u304c\u7528\u610f\u3055\u308c\u3066\u3044\u308b\u3002`res_2`\u306e`.wooldridge_regression`\u3067\u3042\u308b\u3002"
            ]
        },
        {
            "cell_type": "code",
            "execution_count": null,
            "metadata": {},
            "outputs": [],
            "source": []
        },
        {
            "cell_type": "markdown",
            "metadata": {
                "hidden": true
            },
            "source": [
                "\uff08\u6ce8\u610f\uff09\u300c\u624b\u8a08\u7b97\u300d\u3067\u4f7f\u3063\u305f`.fit()`\u306e\u30aa\u30d7\u30b7\u30e7\u30f3`debiased=True`\u3092\u4f7f\u3046\u3068\u7570\u306a\u308b\u6570\u5024\u306b\u306a\u308b\u3002"
            ]
        },
        {
            "cell_type": "markdown",
            "metadata": {
                "heading_collapsed": true
            },
            "source": [
                "## \u64cd\u4f5c\u5909\u6570\u306e\u6709\u52b9\u6027\u691c\u5b9a"
            ]
        },
        {
            "cell_type": "markdown",
            "metadata": {
                "heading_collapsed": true,
                "hidden": true
            },
            "source": [
                "### \u8aac\u660e"
            ]
        },
        {
            "cell_type": "markdown",
            "metadata": {
                "hidden": true
            },
            "source": [
                "\u6b21\u306e\u56de\u5e30\u5f0f\u3092\u8003\u3048\u3088\u3046\u3002\n",
                "\n",
                "$$y=\\beta_0+\\beta_1x+\\beta_2w+u\\qquad\\quad\\text{(*)}$$\n",
                "\n",
                "* $x$\uff1a\u5916\u751f\u7684\u8aac\u660e\u5909\u6570\n",
                "* $w$\uff1a\u5185\u751f\u6027\u304c\u7591\u308f\u308c\u308b\u8aac\u660e\u5909\u6570"
            ]
        },
        {
            "cell_type": "markdown",
            "metadata": {
                "hidden": true
            },
            "source": [
                "---\n",
                "**\uff1c\u30b1\u30fc\u30b9\uff11\uff1a\uff11\u3064\u306e\u5185\u751f\u7684\u8aac\u660e\u5909\u6570\u306b\uff11\u3064\u306e\u64cd\u4f5c\u5909\u6570\u304c\u3042\u308b\u5834\u5408\uff1e**\n",
                "* \u64cd\u4f5c\u5909\u6570$z$\n",
                "\n",
                "\u3053\u306e\u5834\u5408\uff0c\u64cd\u4f5c\u5909\u6570\u306e\u5916\u751f\u6027$\\text{Cov}(z,u)=0$\u304c\u6e80\u305f\u3055\u308c\u306a\u3044\u3068\u3044\u3051\u306a\u3044\u304c\uff0c\u3053\u308c\u3092\u691c\u5b9a\u3067\u304d\u306a\u3044\u3002\n",
                "\n",
                "\uff08\u7406\u7531\uff09\n",
                "* \u5f0f\uff08\\*)\u306e`w`\u306f\u5185\u751f\u6027\u304c\u7591\u308f\u308c\u308b\u305f\u3081\uff0c\u305d\u306e\u5f0f\u3092\u4f7f\u3044\u8a08\u7b97\u3057\u305fOLS\u6b8b\u5dee$\\hat{u}$\u306f\u771f\u306e\u8aa4\u5dee\u9805\u3092\u6349\u3048\u3066\u3044\u306a\u3044\u53ef\u80fd\u6027\u304c\u3042\u308b\u3002\u5f93\u3063\u3066\uff0c\u3053\u306e$\\hat{u}$\u3092\u4f7f\u3063\u3066\u3082\u610f\u5473\u304c\u3042\u308b\u691c\u5b9a\u3068\u306f\u306a\u3089\u306a\u3044\u3002\n",
                "* \u5f0f\uff08\\*\uff09\u306b$z$\u3092\u4f7f\u3044\u6b8b\u5dee\u3092\u8a08\u7b97\u3059\u308b\u3053\u3068\u3082\u8003\u3048\u3089\u308c\u308b\u304c\uff0c\u305d\u3082\u305d\u3082$z$\u306e\u6709\u52b9\u6027\u304c\u5206\u304b\u3089\u306a\u3044\u305f\u3081\uff0c\u3053\u308c\u3082\u771f\u306e\u8aa4\u5dee\u9805\u3092\u6349\u3048\u3066\u3044\u306a\u3044\u53ef\u80fd\u6027\u304c\u3042\u308b\u3002\n",
                "\n",
                "\u3053\u306e\u5834\u5408\uff0c\u7d4c\u6e08\u7406\u8ad6\u306b\u57fa\u3065\u3044\u3066\u64cd\u4f5c\u5909\u6570\u306e\u5916\u751f\u6027\u3092\u6b63\u5f53\u5316\u3067\u304d\u308b\u304b\u304c\u554f\u984c\u306b\u306a\u308b\u3002"
            ]
        },
        {
            "cell_type": "markdown",
            "metadata": {
                "hidden": true
            },
            "source": [
                "---\n",
                "**\uff1c\u30b1\u30fc\u30b9\uff12\uff1a\uff11\u3064\u306e\u5185\u751f\u7684\u8aac\u660e\u5909\u6570\u306b\u8907\u6570\u306e\u64cd\u4f5c\u5909\u6570\u304c\u3042\u308b\u5834\u5408\uff1e**\n",
                "* \u4f8b\u3048\u3070\uff0c\uff12\u3064\u306e\u64cd\u4f5c\u5909\u6570$z_1$\u3068$z_2$\n",
                "\n",
                "\u3053\u306e\u5834\u5408\uff0c\u540c\u6642\u306b$\\text{Cov}(z_1,u)=\\text{Cov}(z_2,u)=0$\u304c\u6210\u7acb\u3059\u308b\u304b\u3092\u691c\u5b9a\u3059\u308b\u65b9\u6cd5\u304c\u3042\u308a\uff0c\u305d\u306e\uff11\u3064\u304cSargan\u691c\u5b9a\u3068\u547c\u3070\u308c\u308b\u3002\n",
                "\n",
                "\uff08\u6ce8\u610f\uff09\n",
                "* Sargan\u691c\u5b9a\u306f\uff0c\u5168\u3066\u306e\u64cd\u4f5c\u5909\u6570\uff08\u4e0a\u306e\u4f8b\u3067\u306f\uff12\u3064\uff09\u304c**\u540c\u6642**\u306b\u6709\u52b9\u304b\u3069\u3046\u304b\u3092\u691c\u5b9a\u3059\u308b\u3002\u5f93\u3063\u3066\uff0c\u3069\u306e\u64cd\u4f5c\u5909\u6570\u304c\u6709\u52b9\u3067\u306f\u306a\u3044\u304b\u3092\u8abf\u3079\u308b\u3053\u3068\u306f\u3067\u304d\u306a\u3044\u3002\n",
                "\n",
                "\uff08\u30b3\u30e1\u30f3\u30c8\uff09\n",
                "* \u64cd\u4f5c\u5909\u6570\u306e\u6570\u304c\u5185\u751f\u7684\u8aac\u660e\u5909\u6570\u306e\u6570\u3092\u4e0a\u56de\u3063\u3066\u3044\u308b\u30b1\u30fc\u30b9\u306f\u300c\u904e\u5270\u8b58\u5225\uff08overidentified\uff09\u300d\u3068\u547c\u3070\u308c\u308b\u3002\n",
                "* \u64cd\u4f5c\u5909\u6570\u306e\u6570\u3068\u5185\u751f\u7684\u8aac\u660e\u5909\u6570\u306e\u6570\u304c\u7b49\u3057\u3044\u5834\u5408\u306f\u300c\u9069\u5ea6\u8b58\u5225\u300d\uff08just identified\uff09\u3068\u547c\u3070\u308c\u308b\u3002"
            ]
        },
        {
            "cell_type": "markdown",
            "metadata": {
                "hidden": true
            },
            "source": [
                "---\n",
                "**Sargan\u691c\u5b9a**\n",
                "\n",
                "\uff12\u6bb5\u968e\u3067\u691c\u5b9a\u3059\u308b\u3002\n",
                "\n",
                "**\u7b2c\uff11\u6bb5\u968e**\n",
                "* IV/2SLS\u63a8\u5b9a\u6cd5\u3067\u63a8\u5b9a\u3057\uff0c\u6b8b\u5dee$\\hat{u}$\u3092\u53d6\u5f97\u3059\u308b\u3002\n",
                "\n",
                "**\u7b2c\uff12\u6bb5\u968e**\n",
                "* \u5e30\u7121\u4eee\u8aac\u3068\u5bfe\u7acb\u4eee\u8aac\u306e\u8a2d\u5b9a\n",
                "    * $\\text{H}_0:\\;\\hat{u}$\u306f\u5168\u3066\u306e\u64cd\u4f5c\u5909\u6570\u3068\u76f8\u95a2\u6027\u306a\u3057\uff08\u5168\u3066\u306e\u64cd\u4f5c\u5909\u6570\u306f\u5916\u751f\u7684\u3067\u3042\u308b\uff09\n",
                "    * $\\text{H}_A:$ \u5c11\u306a\u304f\u3068\u3082\uff11\u3064\u306e\u64cd\u4f5c\u5909\u6570\u306f$\\hat{u}$\u3068\u76f8\u95a2\u3059\u308b\u3002\n",
                "    * \u4e0a\u306e\u4f8b\u3067\u306f\uff0c\u64cd\u4f5c\u5909\u6570\u306e\u6570\u306f`2`\u3067\u3042\u308a\u5185\u751f\u7684\u8aac\u660e\u5909\u6570\u306e\u6570\u306f`1`\u3067\u3042\u308b\u305f\u3081$q=2-1=1$\u306e\u904e\u5270\u8b58\u5225\u5236\u7d04\u304c\u3042\u308b\u3068\u8003\u3048\u308b\u3002\n",
                "* $\\hat{u}$\u3092\u88ab\u8aac\u660e\u5909\u6570\u3068\u3057\u3066\u5168\u3066\u306e\u5916\u751f\u7684\u8aac\u660e\u5909\u6570\u3068\u64cd\u4f5c\u5909\u6570\u306b\u5bfe\u3057\u3066OLS\u63a8\u5b9a\u3057\uff0c\u6c7a\u5b9a\u4fc2\u6570$R^2$\u3092\u8a08\u7b97\u3059\u308b\u3002\n",
                "* $LM$\u7d71\u8a08\u91cf$=nR^2$\n",
                "    * $nR^2\\sim\\chi(q)$\n",
                "    * $q>1$\u306f\u64cd\u4f5c\u5909\u6570\u306e\u6570\u3068\u5185\u751f\u7684\u8aac\u660e\u5909\u6570\u306e\u5dee\n",
                "    * $n$\u306f\u6a19\u672c\u306e\u5927\u304d\u3055\n",
                "\n",
                "\uff08\u5e30\u7121\u4eee\u8aac\u68c4\u5374\u306e\u610f\u5473\uff09\n",
                "\n",
                "* \u5c11\u306a\u304f\u3068\u3082\uff11\u3064\u306e\u64cd\u4f5c\u5909\u6570\u306f\u8aa4\u5dee\u9805\u3068\u76f8\u95a2\u6027\u304c\u3042\u308b\u3068\u3044\u3046\u3053\u3068\u306b\u306a\u308b\u3002\uff08\u6b20\u843d\u5909\u6570\u3068\u3082\u89e3\u91c8\u53ef\u80fd\uff09\n",
                "* \u3057\u304b\u3057\u3069\u306e\u64cd\u4f5c\u5909\u6570\u304c\u5185\u751f\u7684\u304b\u306f\u5206\u304b\u3089\u306a\u3044\u3002\n",
                "\n",
                "---\n",
                "\u4e0a\u3067\u8003\u3048\u305f\u30b1\u30fc\u30b9\uff12\u3092\u4f7f\u3063\u3066\u78ba\u304b\u3081\u308b\u3002"
            ]
        },
        {
            "cell_type": "markdown",
            "metadata": {
                "heading_collapsed": true,
                "hidden": true
            },
            "source": [
                "### \u300c\u624b\u8a08\u7b97\u300d"
            ]
        },
        {
            "cell_type": "markdown",
            "metadata": {
                "hidden": true
            },
            "source": [
                "\u7b2c\uff11\u6bb5\u968e\u306e\u8a08\u7b97\u7d50\u679c\u3068\u3057\u3066`res_2`\u3092\u4f7f\u3046\u3002\n",
                "\n",
                "\u7b2c\uff12\u6bb5\u968e\u306e\u8a08\u7b97\u306e\u305f\u3081\u306b`res_2`\u306e\u5c5e\u6027`.resids`\u3092\u4f7f\u3044\u56de\u5e30\u6b8b\u5dee\u3092\u53d6\u5f97\u3057\uff0c\u76f4\u63a5\u4ee5\u4e0b\u306e\u56de\u5e30\u5f0f\u306b\u5165\u308c\u308b\u3002"
            ]
        },
        {
            "cell_type": "code",
            "execution_count": null,
            "metadata": {},
            "outputs": [],
            "source": [
                "\n",
                "\n",
                "",
                "",
                ""
            ]
        },
        {
            "cell_type": "markdown",
            "metadata": {
                "hidden": true
            },
            "source": [
                "\u691c\u5b9a\u7d71\u8a08\u91cf\u306e\u8a08\u7b97"
            ]
        },
        {
            "cell_type": "code",
            "execution_count": null,
            "metadata": {},
            "outputs": [],
            "source": [
                "\n",
                "\n",
                "",
                "",
                ""
            ]
        },
        {
            "cell_type": "markdown",
            "metadata": {
                "hidden": true
            },
            "source": [
                "\uff15\uff05\u6709\u610f\u6c34\u6e96\u3067\u306f\u5e30\u7121\u4eee\u8aac\u3092\u68c4\u5374\u3067\u304d\u306a\u3044\u3002"
            ]
        },
        {
            "cell_type": "markdown",
            "metadata": {
                "heading_collapsed": true,
                "hidden": true
            },
            "source": [
                "### \u81ea\u52d5\u8a08\u7b97 "
            ]
        },
        {
            "cell_type": "markdown",
            "metadata": {
                "hidden": true
            },
            "source": [
                "`res_2`\u306e\u30e1\u30bd\u30c3\u30c9`.sargan`\u3092\u4f7f\u3046\u3068\u4e0a\u3068\u540c\u3058\u8a08\u7b97\u7d50\u679c\u3092\u8868\u793a\u3067\u304d\u308b\u3002"
            ]
        },
        {
            "cell_type": "code",
            "execution_count": null,
            "metadata": {},
            "outputs": [],
            "source": []
        },
        {
            "cell_type": "markdown",
            "metadata": {
                "heading_collapsed": true
            },
            "source": [
                "## \u540c\u6642\u65b9\u7a0b\u5f0f\u30e2\u30c7\u30eb\u3068`IV`\u63a8\u5b9a"
            ]
        },
        {
            "cell_type": "markdown",
            "metadata": {
                "heading_collapsed": true,
                "hidden": true
            },
            "source": [
                "### \u540c\u6642\u6027\u30d0\u30a4\u30a2\u30b9"
            ]
        },
        {
            "cell_type": "markdown",
            "metadata": {
                "hidden": true
            },
            "source": [
                "\u540c\u6642\u65b9\u7a0b\u5f0f\u30e2\u30c7\u30eb\u3068\u306f\uff0c\u5747\u8861\u30e1\u30ab\u30cb\u30ba\u30e0\u306a\u3069\u3092\u901a\u3057\u3066\u8907\u6570\u306e\u5185\u751f\u5909\u6570\u304c\u8907\u6570\u306e\u5f0f\u306b\u3088\u3063\u3066\u540c\u6642\u6c7a\u5b9a\u3055\u308c\u308b\u30e2\u30c7\u30eb\u3067\u3042\u308b\u3002\u4f8b\u3068\u3057\u3066\u52b4\u50cd\u306e\u9700\u7d66\u30e2\u30c7\u30eb\u3092\u8003\u3048\u3088\u3046\u3002\u5747\u8861\u3067\u306f\u9700\u8981\u91cf\uff08$L_d$\uff09\u3068\u4f9b\u7d66\u91cf\uff08$L_s$\uff09\u306f\u7b49\u3057\u304f\u306a\u308a\uff08$L=L_d=L_s$\uff09\uff0c\u9700\u8981\u3068\u4f9b\u7d66\u306f\u305d\u308c\u305e\u308c\u5747\u8861\u8cc3\u91d1\uff08$W$\uff09\u306b\u4f9d\u5b58\u3059\u308b\u3002\n",
                "* \u4f9b\u7d66\u95a2\u6570\n",
                "\n",
                "    $$ L = s_0+s_1 W + s_2 X_s + u_s\\qquad\\qquad\\qquad\\text{(\u5f0fA)}$$\n",
                "\n",
                "    * $s_1>0$\n",
                "    * $X_s=$ \u4f9b\u7d66\u306e\u300c\u305d\u306e\u4ed6\u300d\u306e\u6c7a\u5b9a\u8981\u56e0\uff08\u4f8b\u3048\u3070\uff0c\u9650\u754c\u8cbb\u7528\uff09\n",
                "    * $u_s=$ \u4f9b\u7d66\u306e\u8aa4\u5dee\u9805\n",
                "\n",
                "* \u9700\u8981\u95a2\u6570\n",
                "\n",
                "    $$ W = d_0+d_1 L + d_2 X_d + u_d\\qquad\\qquad\\qquad\\text{(\u5f0fB)}$$\n",
                "    \n",
                "    * $d_1<0$\n",
                "    * $X_d=$ \u9700\u8981\u306e\u300c\u305d\u306e\u4ed6\u300d\u306e\u6c7a\u5b9a\u8981\u56e0\uff08\u4f8b\u3048\u3070\uff0c\u6240\u5f97\uff09\n",
                "    * $u_d=$ \u9700\u8981\u306e\u8aa4\u5dee\u9805\n",
                "\n",
                "\uff08\u76f8\u95a2\u6027\u306e\u4eee\u5b9a\uff09\n",
                "* $\\text{Cov}(X_s,u_s)=\\text{Cov}(X_s,u_d)=0$\n",
                "* $\\text{Cov}(X_d,u_d)=\\text{Cov}(X_d,u_s)=0$\n",
                "* $\\text{Cov}(u_s,u_d)=0$"
            ]
        },
        {
            "cell_type": "markdown",
            "metadata": {
                "heading_collapsed": true,
                "hidden": true
            },
            "source": [
                "### `IV`\u63a8\u5b9a\u6cd5\u306e\u9069\u7528"
            ]
        },
        {
            "cell_type": "markdown",
            "metadata": {
                "hidden": true
            },
            "source": [
                "\u540c\u6642\u6027\u30d0\u30a4\u30a2\u30b9\u306f`IV`\u63a8\u5b9a\u6cd5\u3067\u5bfe\u51e6\u53ef\u80fd\u3067\u3042\u308b\u3002\u8003\u3048\u65b9\u306f\u7c21\u5358\u3067\u3042\u308b\u3002\n",
                "\n",
                "**\u4f9b\u7d66\u66f2\u7dda\uff08\u5f0fA\uff09\u306e\u63a8\u5b9a**\n",
                "* $W$\u306e\u64cd\u4f5c\u5909\u6570\u3068\u3057\u3066$X_d$\u3092\u4f7f\u3046\u3002$X_d$\u306f\u64cd\u4f5c\u5909\u6570\u306e\uff13\u3064\u306e\u6761\u4ef6\u3092\u6e80\u305f\u3059\u3002\n",
                "    * \uff08\u5f0f\uff11\uff09\u306b\u306a\u3044\n",
                "    * $\\text{Cov}(X_d,u_s)=0$\uff08\u76f8\u95a2\u6027\u306e\u4eee\u5b9a\u304b\u3089\uff09\n",
                "    * $\\text{Cov}(X_d,W)\\neq 0$\uff08\u5f0fB\u304b\u3089\uff09\n",
                "\n",
                "**\u4f9b\u7d66\u66f2\u7dda\uff08\u5f0fB\uff09\u306e\u63a8\u5b9a**\n",
                "* $L$\u306e\u64cd\u4f5c\u5909\u6570\u3068\u3057\u3066$X_s$\u3092\u4f7f\u3046\u3002$X_s$\u306f\u64cd\u4f5c\u5909\u6570\u306e\uff13\u3064\u306e\u6761\u4ef6\u3092\u6e80\u305f\u3059\u3002\n",
                "    * \uff08\u5f0f\uff12\uff09\u306b\u306a\u3044\n",
                "    * $\\text{Cov}(X_s,u_d)=0$\uff08\u76f8\u95a2\u6027\u306e\u4eee\u5b9a\u304b\u3089\uff09\n",
                "    * $\\text{Cov}(X_s,L)\\neq 0$\uff08\u5f0fA\u304b\u3089\uff09"
            ]
        },
        {
            "cell_type": "markdown",
            "metadata": {
                "heading_collapsed": true,
                "hidden": true
            },
            "source": [
                "### \u4f8b"
            ]
        },
        {
            "cell_type": "markdown",
            "metadata": {
                "hidden": true
            },
            "source": [
                "#### \u30c7\u30fc\u30bf"
            ]
        },
        {
            "cell_type": "markdown",
            "metadata": {
                "hidden": true
            },
            "source": [
                "\u30c7\u30fc\u30bf\u30bb\u30c3\u30c8`mroz`\u3092\u4f7f\u3046\u3002\n",
                "* \u52b4\u50cd\u4f9b\u7d66\u66f2\u7dda\uff1a\u52b4\u50cd\u5e02\u5834\u306b\u53c2\u52a0\u3059\u308b\u65e2\u5a5a\u5973\u6027\u306e\u52b4\u50cd\u4f9b\u7d66\u95a2\u6570\n",
                "* \u52b4\u50cd\u9700\u8981\u66f2\u7dda\uff1a\u4f01\u696d\u304c\u63d0\u793a\uff08\u30aa\u30d5\u30a1\u30fc\uff09\u3059\u308b\u8cc3\u91d1\u3092\u305d\u306e\u6c7a\u5b9a\u8981\u56e0\u306e\u95a2\u6570\u3068\u3057\u3066\u8868\u3059\n",
                "\n",
                "\u4e0a\u306e\u8a18\u53f7\u306b\u5bfe\u5fdc\u3059\u308b\u5909\u6570\u3092\u30ea\u30b9\u30c8\u30a2\u30c3\u30d7\u3059\u308b\uff081975\u5e74\u306e\u30c7\u30fc\u30bf\uff09\u3002\n",
                "* $L$\uff1a`hours`\uff08\u52b4\u50cd\u6642\u9593\uff09\n",
                "* $W$\uff1a`lwage`\uff08\u8cc3\u91d1\u6642\u9593\u984d\u306e\u5bfe\u6570\uff09\n",
                "* $X_s$\uff1a\u52b4\u50cd\u4f9b\u7d66\u306e\u5916\u751f\u7684\u8aac\u660e\u5909\u6570\n",
                "    * `age`\uff08\u5e74\u9f62\uff09\n",
                "    * `kidslt6`\uff08\u5b50\u3069\u3082\u304c\uff16\u6b73\u672a\u6e80\uff09\n",
                "    * `nwifeinc`\uff1a\uff08(\u5bb6\u8a08\u306e\u6240\u5f97 - \u8cc3\u91d1\\*\u6642\u9593)/1000\uff09\n",
                "* $X_d$\uff1a\u8cc3\u91d1\u30aa\u30d5\u30a1\u30fc\u306e\u5916\u751f\u7684\u8aac\u660e\u5909\u6570\n",
                "    * `exper`\uff08\u96c7\u7528\u7d4c\u9a13\uff09\n",
                "    * `expersq`\uff08\u96c7\u7528\u7d4c\u9a13\u306e\uff12\u4e57\uff09\n",
                "* \u4e21\u65b9\u306b\u542b\u307e\u308c\u308b\u5909\u6570\uff1a`educ`\uff08\u6559\u80b2\u5e74\u6570\uff09"
            ]
        },
        {
            "cell_type": "markdown",
            "metadata": {
                "heading_collapsed": true,
                "hidden": true
            },
            "source": [
                "#### \u4f9b\u7d66\u66f2\u7dda\u306e\u63a8\u5b9a"
            ]
        },
        {
            "cell_type": "markdown",
            "metadata": {
                "hidden": true
            },
            "source": [
                "**`IV`\u63a8\u5b9a**"
            ]
        },
        {
            "cell_type": "code",
            "execution_count": null,
            "metadata": {},
            "outputs": [],
            "source": [
                "\n",
                "\n",
                "",
                "",
                "",
                "",
                ""
            ]
        },
        {
            "cell_type": "markdown",
            "metadata": {
                "hidden": true
            },
            "source": [
                "**`OLS`\u63a8\u5b9a**"
            ]
        },
        {
            "cell_type": "code",
            "execution_count": null,
            "metadata": {},
            "outputs": [],
            "source": [
                "\n",
                "\n",
                "",
                "",
                "",
                "",
                ""
            ]
        },
        {
            "cell_type": "markdown",
            "metadata": {
                "hidden": true
            },
            "source": [
                "\uff12\u3064\u306e\u63a8\u5b9a\u7d50\u679c\u3092\u6bd4\u3079\u308b\u3068\uff0c\u63a8\u5b9a\u5024\u3092\u542b\u3081\u3066\u5927\u304d\u304f\u7570\u306a\u308b\u3053\u3068\u304c\u308f\u304b\u308b\u3002\uff12\u6bb5\u56de\u63a8\u5b9a\u6cd5\u306b\u3088\u308a\u540c\u6642\u6027\u30d0\u30a4\u30a2\u30b9\u3092\u53d6\u308a\u9664\u3044\u305f\u7d50\u679c\u3068\u89e3\u91c8\u3067\u304d\u308b\u3002"
            ]
        },
        {
            "cell_type": "markdown",
            "metadata": {
                "heading_collapsed": true,
                "hidden": true
            },
            "source": [
                "#### \u9700\u8981\u66f2\u7dda\u306e\u63a8\u5b9a"
            ]
        },
        {
            "cell_type": "markdown",
            "metadata": {
                "hidden": true
            },
            "source": [
                "**`IV`\u63a8\u5b9a**"
            ]
        },
        {
            "cell_type": "code",
            "execution_count": null,
            "metadata": {},
            "outputs": [],
            "source": [
                "\n",
                "\n",
                "",
                "",
                "",
                "",
                ""
            ]
        },
        {
            "cell_type": "markdown",
            "metadata": {
                "hidden": true
            },
            "source": [
                "**`OLS`\u63a8\u5b9a**"
            ]
        },
        {
            "cell_type": "code",
            "execution_count": null,
            "metadata": {},
            "outputs": [],
            "source": [
                "\n",
                "\n",
                "",
                "",
                "",
                "",
                ""
            ]
        },
        {
            "cell_type": "markdown",
            "metadata": {
                "hidden": true
            },
            "source": [
                "\u52b4\u50cd\u4f9b\u7d66\u306e\u63a8\u5b9a\u7d50\u679c\u3068\u6bd4\u3079\u3066\uff0c\u30d1\u30e9\u30e1\u30fc\u30bf\u306e\u63a8\u5b9a\u5024\u306e\u5909\u5316\u306f\u5927\u304d\u304f\u306a\u3044\u304c\uff0c\u7d71\u8a08\u7684\u512a\u4f4d\u6027\u306f\u5927\u304d\u304f\u5909\u5316\u3057\u3066\u3044\u308b\u3002"
            ]
        },
        {
            "cell_type": "markdown",
            "metadata": {
                "heading_collapsed": true
            },
            "source": [
                "## \u6e2c\u5b9a\u8aa4\u5dee\u3068`IV`\u63a8\u5b9a"
            ]
        },
        {
            "cell_type": "markdown",
            "metadata": {
                "heading_collapsed": true,
                "hidden": true
            },
            "source": [
                "### \u6e2c\u5b9a\u8aa4\u5dee\u306b\u3088\u308b\u30d0\u30a4\u30a2\u30b9"
            ]
        },
        {
            "cell_type": "markdown",
            "metadata": {
                "hidden": true
            },
            "source": [
                "\u3053\u3053\u3067\u306f\u30b7\u30df\u30e5\u30ec\u30fc\u30b7\u30e7\u30f3\u3092\u901a\u3057\u3066\uff0c\u6e2c\u5b9a\u8aa4\u5dee\u30d0\u30a4\u30a2\u30b9\u304c\u3042\u308b\u5834\u5408\u3067\u3082IV\u63a8\u5b9a\u6cd5\u3092\u4f7f\u3046\u3053\u3068\u3067\u4e00\u81f4\u6027\u3092\u6e80\u305f\u3059\u63a8\u5b9a\u91cf\u3092\u5f97\u308b\u3053\u3068\u304c\u53ef\u80fd\u3067\u3042\u308b\u3053\u3068\u3092\u793a\u3059\u3002\n",
                "\n",
                "\u6b21\u306e\u6bcd\u96c6\u56e3\u56de\u5e30\u5f0f\u3092\u8003\u3048\u3088\u3046\u3002\n",
                "\n",
                "$$y=\\beta_0+\\beta_1 x^* + \\eta$$\n",
                "\n",
                "\u3053\u3053\u3067\uff0c\u88ab\u8aac\u660e\u5909\u6570$y$\u306f\u6b63\u78ba\u306b\u6e2c\u5b9a\u3067\u304d\u308b\u304c\uff0c\u8aac\u660e\u5909\u6570$x^*$\u306f\u4ee5\u4e0b\u306e\u5f0f\u306b\u5f93\u3063\u3066\u6e2c\u5b9a\u3055\u308c\u308b\u4eee\u5b9a\u3059\u308b\u3002\n",
                "\n",
                "$$x=x^*+e$$\n",
                "\n",
                "* $x$\uff1a\u6e2c\u5b9a\u5024\n",
                "* $e$\uff1a\u6e2c\u5b9a\u8aa4\u5dee\n",
                "\n",
                "\uff08\u4eee\u5b9a\uff09\n",
                "\n",
                "* \u6e2c\u5b9a\u8aa4\u5dee$e$\u306f\u771f\u306e\u5024\u3068\u7121\u95a2\u4fc2\u3002\u5373\u3061\uff0c$\\text{Cov}(x^*,e)=0$\n",
                "\n",
                "\uff08\u7d50\u679c\uff09\n",
                "\n",
                "* \u6b21\u5f0f\u3092OLS\u63a8\u5b9a\u3059\u308b\u5834\u5408\uff0c$\\hat{\\beta}_1$\u306f\u4e0d\u504f\u6027\u30fb\u4e00\u81f4\u6027\u3092\u6e80\u305f\u3055\u306a\u3044\u3002\n",
                "\n",
                "$$y=\\beta_0+\\beta_1 x + u,\\qquad u=\\eta-\\beta e$$\n",
                "\n",
                "\uff08\u7406\u7531\uff09\n",
                "\n",
                "\u4eee\u5b9a\uff14\uff1a$\\text{Cov}(x,u)=0$\u304c\u6e80\u305f\u3055\u308c\u306a\u3044\u3002\n",
                "\n",
                "$$\n",
                "\\text{Cov}(x,u)=\\text{E}[xu]\n",
                "=\\text{E}\\left[(x^*+e)(\\eta-\\beta e)\\right]\n",
                "=-\\beta\\cdot\\text{E}(e^2)>0\n",
                "$$"
            ]
        },
        {
            "cell_type": "markdown",
            "metadata": {
                "heading_collapsed": true,
                "hidden": true
            },
            "source": [
                "### `IV`\u63a8\u5b9a\u6cd5\u306e\u9069\u7528"
            ]
        },
        {
            "cell_type": "markdown",
            "metadata": {
                "hidden": true
            },
            "source": [
                "`IV`\u63a8\u5b9a\u6cd5\u3067\u306e\u5bfe\u51e6\u65b9\u6cd5\u3092\u8003\u3048\u308b\u3002$x^*$\u3092\u6e2c\u5b9a\u3059\u308b\u5909\u6570$z$\u304c\u3042\u308b\u3068\u3059\u308b\u3002\n",
                "\n",
                "$$z=x^*+v$$\n",
                "\n",
                "$v\\sim\\text{iid}(0,\\sigma)$\u306f\u8aa4\u5dee\u3067\u3042\u308a\uff0c$\\text{iid}$\u306f\u72ec\u7acb\u540c\u4e00\u5206\u5e03\u3092\u610f\u5473\u3059\u308b\u3002\n",
                "\n",
                "**`IV`\u63a8\u5b9a**\n",
                "* $x$\u306e\u64cd\u4f5c\u5909\u6570\u3068\u3057\u3066$z$\u3092\u4f7f\u3046\n",
                "* \u4ee5\u4e0b\u306e\u6761\u4ef6\u3092\u6e80\u305f\u3059\u3068\u4eee\u5b9a\u3059\u308b\u3002\n",
                "    1. \u3082\u3068\u306e\u5f0f\u306b\u542b\u307e\u308c\u3066\u3044\u306a\u3044\u3002\n",
                "    1. $\\text{Cov}(v,u)=0\\;\\;\\Rightarrow\\;\\;\\text{Cov}(z,u)=0$\n",
                "    1. $\\text{Cov}(z,x)\\neq 0$\uff08$z$\u3082$x$\u3082$x^*$\u3092\u6e2c\u5b9a\u3059\u308b\u5909\u6570\uff09"
            ]
        },
        {
            "cell_type": "markdown",
            "metadata": {
                "heading_collapsed": true,
                "hidden": true
            },
            "source": [
                "### \u30b7\u30df\u30e5\u30ec\u30fc\u30b7\u30e7\u30f3"
            ]
        },
        {
            "cell_type": "markdown",
            "metadata": {
                "hidden": true
            },
            "source": [
                "\uff08\u76ee\u7684\uff09\n",
                "* \u6e2c\u5b9a\u8aa4\u5dee\u306b\u3088\u308b\u30d0\u30a4\u30a2\u30b9\u3092\u793a\u3059\u3002\n",
                "* `IV`\u63a8\u5b9a\u6cd5\u306b\u3088\u308a\u4e00\u81f4\u6027\u304c\u6210\u7acb\u3059\u308b\u3053\u3068\u3092\u793a\u3059\u3002\n",
                "\n",
                "\uff1c\u30b7\u30df\u30e5\u30ec\u30fc\u30b7\u30e7\u30f3\u306e\u5185\u5bb9\uff1e\n",
                "\n",
                "* \u5358\u56de\u5e30\u5206\u6790\n",
                "\n",
                "    $$ y=\\beta_0 + \\beta_1 x + u$$\n",
                "    \n",
                "* \uff12\u3064\u306e\u30b1\u30fc\u30b9\n",
                "    1. $OLS$\u63a8\u5b9a\n",
                "    2. $IV$\u63a8\u5b9a\n",
                "* \u305d\u308c\u305e\u308c\u306e\u30b1\u30fc\u30b9\u3067\u6a19\u672c\u306e\u5927\u304d\u3055$n=100$\n",
                "* 1000\u56de\u63a8\u5b9a\u3057$\\hat{\\beta}_1$\u306e\u5206\u5e03\u3092\u6bd4\u3079\u308b"
            ]
        },
        {
            "cell_type": "markdown",
            "metadata": {
                "hidden": true
            },
            "source": [
                "\u6a19\u672c\u306e\u5927\u304d\u3055\u3068\u6a19\u672c\u6570\uff08\u30eb\u30fc\u30d7\u306e\u56de\u6570\uff09"
            ]
        },
        {
            "cell_type": "code",
            "execution_count": null,
            "metadata": {},
            "outputs": [],
            "source": [
                "\n"
            ]
        },
        {
            "cell_type": "markdown",
            "metadata": {
                "hidden": true
            },
            "source": [
                "\u6bcd\u96c6\u56e3\u306e\u30d1\u30e9\u30e1\u30fc\u30bf\u306e\u771f\u306e\u5024"
            ]
        },
        {
            "cell_type": "code",
            "execution_count": null,
            "metadata": {},
            "outputs": [],
            "source": [
                "\n"
            ]
        },
        {
            "cell_type": "code",
            "execution_count": null,
            "metadata": {},
            "outputs": [],
            "source": [
                "\n",
                "\n",
                ""
            ]
        },
        {
            "cell_type": "markdown",
            "metadata": {
                "hidden": true
            },
            "source": [
                "\u6e2c\u5b9a\u8aa4\u5dee\u306e\u6a19\u6e96\u504f\u5dee"
            ]
        },
        {
            "cell_type": "code",
            "execution_count": null,
            "metadata": {},
            "outputs": [],
            "source": []
        },
        {
            "cell_type": "markdown",
            "metadata": {
                "hidden": true
            },
            "source": [
                "\u30b7\u30df\u30e5\u30ec\u30fc\u30b7\u30e7\u30f3\u958b\u59cb"
            ]
        },
        {
            "cell_type": "code",
            "execution_count": null,
            "metadata": {},
            "outputs": [],
            "source": [
                "# \u30b7\u30df\u30e5\u30ec\u30fc\u30b7\u30e7\u30f3\u3067\u8a08\u7b97\u3057\u305f\u63a8\u5b9a\u91cf\u3092\u5165\u308c\u308b\u7a7a\u306e\u30ea\u30b9\u30c8\u306e\u4f5c\u6210\n",
                "\n",
                "\n",
                "",
                "",
                "",
                "",
                "",
                "",
                "",
                "    # IV \u7b2c\uff11\u30b9\u30c6\u30fc\u30b8\n",
                "\n",
                "\n",
                "",
                "    # IV \u7b2c\uff12\u30b9\u30c6\u30fc\u30b8\n",
                "\n",
                "\n",
                "",
                "",
                "    # OLS\n",
                "\n",
                "\n",
                ""
            ]
        },
        {
            "cell_type": "markdown",
            "metadata": {
                "hidden": true
            },
            "source": [
                "\u7d50\u679c\u306e\u56f3\u793a"
            ]
        },
        {
            "cell_type": "code",
            "execution_count": null,
            "metadata": {},
            "outputs": [],
            "source": [
                "\n",
                "\n",
                "",
                "",
                "",
                "",
                "",
                "",
                "",
                "",
                "",
                "",
                "",
                ""
            ]
        },
        {
            "cell_type": "markdown",
            "metadata": {
                "hidden": true
            },
            "source": [
                "* OLS\u63a8\u5b9a\u91cf\u306f\u4e0d\u504f\u6027\u3082\u4e00\u81f4\u6027\u3082\u6e80\u305f\u3055\u306a\u3044\u3002\n",
                "* IV\u63a8\u5b9a\u91cf\u306f\u4e00\u81f4\u6027\u3092\u6e80\u305f\u3059\u3002"
            ]
        }
    ],
    "metadata": {
        "celltoolbar": "Tags",
        "kernelspec": {
            "display_name": "latest",
            "language": "python",
            "name": "latest"
        },
        "language_info": {
            "codemirror_mode": {
                "name": "ipython",
                "version": 3
            },
            "file_extension": ".py",
            "mimetype": "text/x-python",
            "name": "python",
            "nbconvert_exporter": "python",
            "pygments_lexer": "ipython3",
            "version": "3.7.9"
        },
        "toc": {
            "base_numbering": 1,
            "nav_menu": {},
            "number_sections": true,
            "sideBar": true,
            "skip_h1_title": false,
            "title_cell": "Table of Contents",
            "title_sidebar": "Contents",
            "toc_cell": false,
            "toc_position": {},
            "toc_section_display": true,
            "toc_window_display": false
        }
    },
    "nbformat": 4,
    "nbformat_minor": 2
}